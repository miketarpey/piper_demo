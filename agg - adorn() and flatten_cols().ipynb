{
 "cells": [
  {
   "cell_type": "markdown",
   "metadata": {},
   "source": [
    "# Setup"
   ]
  },
  {
   "cell_type": "code",
   "execution_count": 1,
   "metadata": {
    "ExecuteTime": {
     "end_time": "2021-03-09T19:25:15.868987Z",
     "start_time": "2021-03-09T19:25:15.861928Z"
    }
   },
   "outputs": [
    {
     "name": "stderr",
     "output_type": "stream",
     "text": [
      "piper version 0.0.9, last run: Tuesday, 09 March 2021 20:04:00\n"
     ]
    }
   ],
   "source": [
    "from piper import piper\n",
    "from piper.defaults import *\n",
    "from piper.verbs import *"
   ]
  },
  {
   "cell_type": "markdown",
   "metadata": {},
   "source": [
    "# Import data"
   ]
  },
  {
   "cell_type": "code",
   "execution_count": 2,
   "metadata": {
    "ExecuteTime": {
     "end_time": "2021-03-09T19:25:17.901427Z",
     "start_time": "2021-03-09T19:25:16.422186Z"
    }
   },
   "outputs": [
    {
     "name": "stderr",
     "output_type": "stream",
     "text": [
      "Dataframe consumes 0.15 Mb\n"
     ]
    },
    {
     "data": {
      "text/html": [
       "<div>\n",
       "<style scoped>\n",
       "    .dataframe tbody tr th:only-of-type {\n",
       "        vertical-align: middle;\n",
       "    }\n",
       "\n",
       "    .dataframe tbody tr th {\n",
       "        vertical-align: top;\n",
       "    }\n",
       "\n",
       "    .dataframe thead th {\n",
       "        text-align: right;\n",
       "    }\n",
       "</style>\n",
       "<table border=\"1\" class=\"dataframe\">\n",
       "  <thead>\n",
       "    <tr style=\"text-align: right;\">\n",
       "      <th></th>\n",
       "      <th>columns</th>\n",
       "      <th>type</th>\n",
       "      <th>n</th>\n",
       "      <th>isna</th>\n",
       "      <th>isnull</th>\n",
       "      <th>unique</th>\n",
       "    </tr>\n",
       "  </thead>\n",
       "  <tbody>\n",
       "    <tr>\n",
       "      <th>0</th>\n",
       "      <td>Date</td>\n",
       "      <td>datetime64[ns]</td>\n",
       "      <td>1000</td>\n",
       "      <td>0</td>\n",
       "      <td>0</td>\n",
       "      <td>347</td>\n",
       "    </tr>\n",
       "    <tr>\n",
       "      <th>1</th>\n",
       "      <td>Region</td>\n",
       "      <td>object</td>\n",
       "      <td>1000</td>\n",
       "      <td>0</td>\n",
       "      <td>0</td>\n",
       "      <td>4</td>\n",
       "    </tr>\n",
       "    <tr>\n",
       "      <th>2</th>\n",
       "      <td>Type</td>\n",
       "      <td>object</td>\n",
       "      <td>1000</td>\n",
       "      <td>0</td>\n",
       "      <td>0</td>\n",
       "      <td>3</td>\n",
       "    </tr>\n",
       "    <tr>\n",
       "      <th>3</th>\n",
       "      <td>Units</td>\n",
       "      <td>float64</td>\n",
       "      <td>1000</td>\n",
       "      <td>89</td>\n",
       "      <td>89</td>\n",
       "      <td>33</td>\n",
       "    </tr>\n",
       "    <tr>\n",
       "      <th>4</th>\n",
       "      <td>Sales</td>\n",
       "      <td>int64</td>\n",
       "      <td>1000</td>\n",
       "      <td>0</td>\n",
       "      <td>0</td>\n",
       "      <td>329</td>\n",
       "    </tr>\n",
       "  </tbody>\n",
       "</table>\n",
       "</div>"
      ],
      "text/plain": [
       "  columns            type     n  isna  isnull  unique\n",
       "0    Date  datetime64[ns]  1000     0       0     347\n",
       "1  Region          object  1000     0       0       4\n",
       "2    Type          object  1000     0       0       3\n",
       "3   Units         float64  1000    89      89      33\n",
       "4   Sales           int64  1000     0       0     329"
      ]
     },
     "execution_count": 2,
     "metadata": {},
     "output_type": "execute_result"
    }
   ],
   "source": [
    "url = 'https://github.com/datagy/pivot_table_pandas/raw/master/sample_pivot.xlsx'\n",
    "\n",
    "%piper df <- pd.read_excel(url, parse_dates=['Date'])\n",
    "%piper df >> info()"
   ]
  },
  {
   "cell_type": "markdown",
   "metadata": {},
   "source": [
    "## Region (ordered categorical)"
   ]
  },
  {
   "cell_type": "code",
   "execution_count": 3,
   "metadata": {
    "ExecuteTime": {
     "end_time": "2021-03-09T19:25:17.924629Z",
     "start_time": "2021-03-09T19:25:17.904326Z"
    }
   },
   "outputs": [
    {
     "data": {
      "text/plain": [
       "['n', '%', 'cum %']"
      ]
     },
     "execution_count": 3,
     "metadata": {},
     "output_type": "execute_result"
    }
   ],
   "source": [
    "%%piper\n",
    "df \n",
    ">> count('Region')\n",
    ">> list()"
   ]
  },
  {
   "cell_type": "code",
   "execution_count": 4,
   "metadata": {
    "ExecuteTime": {
     "end_time": "2021-03-09T19:25:17.932766Z",
     "start_time": "2021-03-09T19:25:17.927397Z"
    }
   },
   "outputs": [],
   "source": [
    "region_categories = pd.CategoricalDtype(['North', 'South', 'East', 'West'], ordered=True)\n",
    "df.Region = df.Region.astype(region_categories)"
   ]
  },
  {
   "cell_type": "markdown",
   "metadata": {},
   "source": [
    "### Region/Type => count() >> adorn() - ignore_row_index=False"
   ]
  },
  {
   "cell_type": "code",
   "execution_count": 5,
   "metadata": {
    "ExecuteTime": {
     "end_time": "2021-03-09T19:25:18.001120Z",
     "start_time": "2021-03-09T19:25:17.936182Z"
    }
   },
   "outputs": [
    {
     "data": {
      "text/html": [
       "<div>\n",
       "<style scoped>\n",
       "    .dataframe tbody tr th:only-of-type {\n",
       "        vertical-align: middle;\n",
       "    }\n",
       "\n",
       "    .dataframe tbody tr th {\n",
       "        vertical-align: top;\n",
       "    }\n",
       "\n",
       "    .dataframe thead th {\n",
       "        text-align: right;\n",
       "    }\n",
       "</style>\n",
       "<table border=\"1\" class=\"dataframe\">\n",
       "  <thead>\n",
       "    <tr style=\"text-align: right;\">\n",
       "      <th></th>\n",
       "      <th></th>\n",
       "      <th>n</th>\n",
       "      <th>%</th>\n",
       "      <th>cum %</th>\n",
       "    </tr>\n",
       "    <tr>\n",
       "      <th>Region</th>\n",
       "      <th>Type</th>\n",
       "      <th></th>\n",
       "      <th></th>\n",
       "      <th></th>\n",
       "    </tr>\n",
       "  </thead>\n",
       "  <tbody>\n",
       "    <tr>\n",
       "      <th rowspan=\"3\" valign=\"top\">North</th>\n",
       "      <th>Children's Clothing</th>\n",
       "      <td>85</td>\n",
       "      <td>8.5</td>\n",
       "      <td>8.5</td>\n",
       "    </tr>\n",
       "    <tr>\n",
       "      <th>Men's Clothing</th>\n",
       "      <td>89</td>\n",
       "      <td>8.9</td>\n",
       "      <td>17.4</td>\n",
       "    </tr>\n",
       "    <tr>\n",
       "      <th>Women's Clothing</th>\n",
       "      <td>142</td>\n",
       "      <td>14.2</td>\n",
       "      <td>31.6</td>\n",
       "    </tr>\n",
       "    <tr>\n",
       "      <th rowspan=\"3\" valign=\"top\">South</th>\n",
       "      <th>Children's Clothing</th>\n",
       "      <td>45</td>\n",
       "      <td>4.5</td>\n",
       "      <td>36.1</td>\n",
       "    </tr>\n",
       "    <tr>\n",
       "      <th>Men's Clothing</th>\n",
       "      <td>39</td>\n",
       "      <td>3.9</td>\n",
       "      <td>40.0</td>\n",
       "    </tr>\n",
       "    <tr>\n",
       "      <th>Women's Clothing</th>\n",
       "      <td>53</td>\n",
       "      <td>5.3</td>\n",
       "      <td>45.3</td>\n",
       "    </tr>\n",
       "    <tr>\n",
       "      <th rowspan=\"3\" valign=\"top\">East</th>\n",
       "      <th>Children's Clothing</th>\n",
       "      <td>113</td>\n",
       "      <td>11.3</td>\n",
       "      <td>56.6</td>\n",
       "    </tr>\n",
       "    <tr>\n",
       "      <th>Men's Clothing</th>\n",
       "      <td>122</td>\n",
       "      <td>12.2</td>\n",
       "      <td>68.8</td>\n",
       "    </tr>\n",
       "    <tr>\n",
       "      <th>Women's Clothing</th>\n",
       "      <td>176</td>\n",
       "      <td>17.6</td>\n",
       "      <td>86.4</td>\n",
       "    </tr>\n",
       "    <tr>\n",
       "      <th rowspan=\"3\" valign=\"top\">West</th>\n",
       "      <th>Children's Clothing</th>\n",
       "      <td>42</td>\n",
       "      <td>4.2</td>\n",
       "      <td>90.6</td>\n",
       "    </tr>\n",
       "    <tr>\n",
       "      <th>Men's Clothing</th>\n",
       "      <td>41</td>\n",
       "      <td>4.1</td>\n",
       "      <td>94.7</td>\n",
       "    </tr>\n",
       "    <tr>\n",
       "      <th>Women's Clothing</th>\n",
       "      <td>53</td>\n",
       "      <td>5.3</td>\n",
       "      <td>100.0</td>\n",
       "    </tr>\n",
       "    <tr>\n",
       "      <th></th>\n",
       "      <th>Total</th>\n",
       "      <td>1000</td>\n",
       "      <td>100.0</td>\n",
       "      <td></td>\n",
       "    </tr>\n",
       "  </tbody>\n",
       "</table>\n",
       "</div>"
      ],
      "text/plain": [
       "                               n      %  cum %\n",
       "Region Type                                   \n",
       "North  Children's Clothing    85    8.5    8.5\n",
       "       Men's Clothing         89    8.9   17.4\n",
       "       Women's Clothing      142   14.2   31.6\n",
       "South  Children's Clothing    45    4.5   36.1\n",
       "       Men's Clothing         39    3.9   40.0\n",
       "       Women's Clothing       53    5.3   45.3\n",
       "East   Children's Clothing   113   11.3   56.6\n",
       "       Men's Clothing        122   12.2   68.8\n",
       "       Women's Clothing      176   17.6   86.4\n",
       "West   Children's Clothing    42    4.2   90.6\n",
       "       Men's Clothing         41    4.1   94.7\n",
       "       Women's Clothing       53    5.3  100.0\n",
       "       Total                1000  100.0       "
      ]
     },
     "execution_count": 5,
     "metadata": {},
     "output_type": "execute_result"
    }
   ],
   "source": [
    "%%piper \n",
    "df >> count(['Region', 'Type'], sort_values=None, totals=True)"
   ]
  },
  {
   "cell_type": "markdown",
   "metadata": {},
   "source": [
    "### Region/Type => counts() >> adorn() - ignore_row_index=True"
   ]
  },
  {
   "cell_type": "code",
   "execution_count": 6,
   "metadata": {
    "ExecuteTime": {
     "end_time": "2021-03-09T19:25:18.051242Z",
     "start_time": "2021-03-09T19:25:18.005966Z"
    }
   },
   "outputs": [
    {
     "data": {
      "text/html": [
       "<div>\n",
       "<style scoped>\n",
       "    .dataframe tbody tr th:only-of-type {\n",
       "        vertical-align: middle;\n",
       "    }\n",
       "\n",
       "    .dataframe tbody tr th {\n",
       "        vertical-align: top;\n",
       "    }\n",
       "\n",
       "    .dataframe thead th {\n",
       "        text-align: right;\n",
       "    }\n",
       "</style>\n",
       "<table border=\"1\" class=\"dataframe\">\n",
       "  <thead>\n",
       "    <tr style=\"text-align: right;\">\n",
       "      <th></th>\n",
       "      <th></th>\n",
       "      <th>n</th>\n",
       "      <th>%</th>\n",
       "      <th>cum %</th>\n",
       "    </tr>\n",
       "    <tr>\n",
       "      <th>Region</th>\n",
       "      <th>Type</th>\n",
       "      <th></th>\n",
       "      <th></th>\n",
       "      <th></th>\n",
       "    </tr>\n",
       "  </thead>\n",
       "  <tbody>\n",
       "    <tr>\n",
       "      <th rowspan=\"3\" valign=\"top\">North</th>\n",
       "      <th>Children's Clothing</th>\n",
       "      <td>85</td>\n",
       "      <td>8.5</td>\n",
       "      <td>8.5</td>\n",
       "    </tr>\n",
       "    <tr>\n",
       "      <th>Men's Clothing</th>\n",
       "      <td>89</td>\n",
       "      <td>8.9</td>\n",
       "      <td>17.4</td>\n",
       "    </tr>\n",
       "    <tr>\n",
       "      <th>Women's Clothing</th>\n",
       "      <td>142</td>\n",
       "      <td>14.2</td>\n",
       "      <td>31.6</td>\n",
       "    </tr>\n",
       "    <tr>\n",
       "      <th rowspan=\"3\" valign=\"top\">South</th>\n",
       "      <th>Children's Clothing</th>\n",
       "      <td>45</td>\n",
       "      <td>4.5</td>\n",
       "      <td>36.1</td>\n",
       "    </tr>\n",
       "    <tr>\n",
       "      <th>Men's Clothing</th>\n",
       "      <td>39</td>\n",
       "      <td>3.9</td>\n",
       "      <td>40.0</td>\n",
       "    </tr>\n",
       "    <tr>\n",
       "      <th>Women's Clothing</th>\n",
       "      <td>53</td>\n",
       "      <td>5.3</td>\n",
       "      <td>45.3</td>\n",
       "    </tr>\n",
       "    <tr>\n",
       "      <th rowspan=\"3\" valign=\"top\">East</th>\n",
       "      <th>Children's Clothing</th>\n",
       "      <td>113</td>\n",
       "      <td>11.3</td>\n",
       "      <td>56.6</td>\n",
       "    </tr>\n",
       "    <tr>\n",
       "      <th>Men's Clothing</th>\n",
       "      <td>122</td>\n",
       "      <td>12.2</td>\n",
       "      <td>68.8</td>\n",
       "    </tr>\n",
       "    <tr>\n",
       "      <th>Women's Clothing</th>\n",
       "      <td>176</td>\n",
       "      <td>17.6</td>\n",
       "      <td>86.4</td>\n",
       "    </tr>\n",
       "    <tr>\n",
       "      <th rowspan=\"3\" valign=\"top\">West</th>\n",
       "      <th>Children's Clothing</th>\n",
       "      <td>42</td>\n",
       "      <td>4.2</td>\n",
       "      <td>90.6</td>\n",
       "    </tr>\n",
       "    <tr>\n",
       "      <th>Men's Clothing</th>\n",
       "      <td>41</td>\n",
       "      <td>4.1</td>\n",
       "      <td>94.7</td>\n",
       "    </tr>\n",
       "    <tr>\n",
       "      <th>Women's Clothing</th>\n",
       "      <td>53</td>\n",
       "      <td>5.3</td>\n",
       "      <td>100.0</td>\n",
       "    </tr>\n",
       "    <tr>\n",
       "      <th></th>\n",
       "      <th>Total</th>\n",
       "      <td>1000</td>\n",
       "      <td>100.0</td>\n",
       "      <td></td>\n",
       "    </tr>\n",
       "  </tbody>\n",
       "</table>\n",
       "</div>"
      ],
      "text/plain": [
       "                               n      %  cum %\n",
       "Region Type                                   \n",
       "North  Children's Clothing    85    8.5    8.5\n",
       "       Men's Clothing         89    8.9   17.4\n",
       "       Women's Clothing      142   14.2   31.6\n",
       "South  Children's Clothing    45    4.5   36.1\n",
       "       Men's Clothing         39    3.9   40.0\n",
       "       Women's Clothing       53    5.3   45.3\n",
       "East   Children's Clothing   113   11.3   56.6\n",
       "       Men's Clothing        122   12.2   68.8\n",
       "       Women's Clothing      176   17.6   86.4\n",
       "West   Children's Clothing    42    4.2   90.6\n",
       "       Men's Clothing         41    4.1   94.7\n",
       "       Women's Clothing       53    5.3  100.0\n",
       "       Total                1000  100.0       "
      ]
     },
     "execution_count": 6,
     "metadata": {},
     "output_type": "execute_result"
    }
   ],
   "source": [
    "%%piper \n",
    "df  >> count(['Region', 'Type'], sort_values=None, totals=True)"
   ]
  },
  {
   "cell_type": "markdown",
   "metadata": {},
   "source": [
    "### Region => count() >> adorn() - ignore_row_index=True"
   ]
  },
  {
   "cell_type": "code",
   "execution_count": 7,
   "metadata": {
    "ExecuteTime": {
     "end_time": "2021-03-09T19:25:18.398525Z",
     "start_time": "2021-03-09T19:25:18.354995Z"
    }
   },
   "outputs": [
    {
     "data": {
      "text/html": [
       "<div>\n",
       "<style scoped>\n",
       "    .dataframe tbody tr th:only-of-type {\n",
       "        vertical-align: middle;\n",
       "    }\n",
       "\n",
       "    .dataframe tbody tr th {\n",
       "        vertical-align: top;\n",
       "    }\n",
       "\n",
       "    .dataframe thead th {\n",
       "        text-align: right;\n",
       "    }\n",
       "</style>\n",
       "<table border=\"1\" class=\"dataframe\">\n",
       "  <thead>\n",
       "    <tr style=\"text-align: right;\">\n",
       "      <th></th>\n",
       "      <th>n</th>\n",
       "      <th>%</th>\n",
       "      <th>cum %</th>\n",
       "    </tr>\n",
       "  </thead>\n",
       "  <tbody>\n",
       "    <tr>\n",
       "      <th>East</th>\n",
       "      <td>411</td>\n",
       "      <td>41.1</td>\n",
       "      <td>41.1</td>\n",
       "    </tr>\n",
       "    <tr>\n",
       "      <th>North</th>\n",
       "      <td>316</td>\n",
       "      <td>31.6</td>\n",
       "      <td>72.7</td>\n",
       "    </tr>\n",
       "    <tr>\n",
       "      <th>South</th>\n",
       "      <td>137</td>\n",
       "      <td>13.7</td>\n",
       "      <td>86.4</td>\n",
       "    </tr>\n",
       "    <tr>\n",
       "      <th>West</th>\n",
       "      <td>136</td>\n",
       "      <td>13.6</td>\n",
       "      <td>100.0</td>\n",
       "    </tr>\n",
       "    <tr>\n",
       "      <th>Total</th>\n",
       "      <td>1000</td>\n",
       "      <td>100.0</td>\n",
       "      <td></td>\n",
       "    </tr>\n",
       "  </tbody>\n",
       "</table>\n",
       "</div>"
      ],
      "text/plain": [
       "          n      %  cum %\n",
       "East    411   41.1   41.1\n",
       "North   316   31.6   72.7\n",
       "South   137   13.7   86.4\n",
       "West    136   13.6  100.0\n",
       "Total  1000  100.0       "
      ]
     },
     "execution_count": 7,
     "metadata": {},
     "output_type": "execute_result"
    }
   ],
   "source": [
    "%%piper \n",
    "df >> count('Region', totals=True)"
   ]
  },
  {
   "cell_type": "markdown",
   "metadata": {},
   "source": [
    "## Units (missing data)"
   ]
  },
  {
   "cell_type": "code",
   "execution_count": 8,
   "metadata": {
    "ExecuteTime": {
     "end_time": "2021-03-09T19:25:19.138463Z",
     "start_time": "2021-03-09T19:25:19.106901Z"
    }
   },
   "outputs": [
    {
     "name": "stderr",
     "output_type": "stream",
     "text": [
      "33 rows, 3 columns\n"
     ]
    },
    {
     "data": {
      "text/html": [
       "<div>\n",
       "<style scoped>\n",
       "    .dataframe tbody tr th:only-of-type {\n",
       "        vertical-align: middle;\n",
       "    }\n",
       "\n",
       "    .dataframe tbody tr th {\n",
       "        vertical-align: top;\n",
       "    }\n",
       "\n",
       "    .dataframe thead th {\n",
       "        text-align: right;\n",
       "    }\n",
       "</style>\n",
       "<table border=\"1\" class=\"dataframe\">\n",
       "  <thead>\n",
       "    <tr style=\"text-align: right;\">\n",
       "      <th></th>\n",
       "      <th>n</th>\n",
       "      <th>%</th>\n",
       "      <th>cum %</th>\n",
       "    </tr>\n",
       "    <tr>\n",
       "      <th>Units</th>\n",
       "      <th></th>\n",
       "      <th></th>\n",
       "      <th></th>\n",
       "    </tr>\n",
       "  </thead>\n",
       "  <tbody>\n",
       "    <tr>\n",
       "      <th>18.0</th>\n",
       "      <td>42</td>\n",
       "      <td>4.61</td>\n",
       "      <td>4.61</td>\n",
       "    </tr>\n",
       "    <tr>\n",
       "      <th>26.0</th>\n",
       "      <td>37</td>\n",
       "      <td>4.06</td>\n",
       "      <td>8.67</td>\n",
       "    </tr>\n",
       "    <tr>\n",
       "      <th>13.0</th>\n",
       "      <td>36</td>\n",
       "      <td>3.95</td>\n",
       "      <td>12.62</td>\n",
       "    </tr>\n",
       "    <tr>\n",
       "      <th>34.0</th>\n",
       "      <td>34</td>\n",
       "      <td>3.73</td>\n",
       "      <td>16.36</td>\n",
       "    </tr>\n",
       "    <tr>\n",
       "      <th>7.0</th>\n",
       "      <td>34</td>\n",
       "      <td>3.73</td>\n",
       "      <td>20.09</td>\n",
       "    </tr>\n",
       "  </tbody>\n",
       "</table>\n",
       "</div>"
      ],
      "text/plain": [
       "        n     %  cum %\n",
       "Units                 \n",
       "18.0   42  4.61   4.61\n",
       "26.0   37  4.06   8.67\n",
       "13.0   36  3.95  12.62\n",
       "34.0   34  3.73  16.36\n",
       "7.0    34  3.73  20.09"
      ]
     },
     "execution_count": 8,
     "metadata": {},
     "output_type": "execute_result"
    }
   ],
   "source": [
    "%piper count(df, 'Units') >> head(5)"
   ]
  },
  {
   "cell_type": "code",
   "execution_count": 9,
   "metadata": {
    "ExecuteTime": {
     "end_time": "2021-03-09T19:25:19.614365Z",
     "start_time": "2021-03-09T19:25:19.567167Z"
    },
    "scrolled": true
   },
   "outputs": [
    {
     "name": "stderr",
     "output_type": "stream",
     "text": [
      "89 rows, 5 columns\n"
     ]
    },
    {
     "data": {
      "text/html": [
       "<div>\n",
       "<style scoped>\n",
       "    .dataframe tbody tr th:only-of-type {\n",
       "        vertical-align: middle;\n",
       "    }\n",
       "\n",
       "    .dataframe tbody tr th {\n",
       "        vertical-align: top;\n",
       "    }\n",
       "\n",
       "    .dataframe thead th {\n",
       "        text-align: right;\n",
       "    }\n",
       "</style>\n",
       "<table border=\"1\" class=\"dataframe\">\n",
       "  <thead>\n",
       "    <tr style=\"text-align: right;\">\n",
       "      <th></th>\n",
       "      <th>Date</th>\n",
       "      <th>Region</th>\n",
       "      <th>Type</th>\n",
       "      <th>Units</th>\n",
       "      <th>Sales</th>\n",
       "    </tr>\n",
       "  </thead>\n",
       "  <tbody>\n",
       "    <tr>\n",
       "      <th>11</th>\n",
       "      <td>2020-08-09</td>\n",
       "      <td>North</td>\n",
       "      <td>Men's Clothing</td>\n",
       "      <td>NaN</td>\n",
       "      <td>270</td>\n",
       "    </tr>\n",
       "    <tr>\n",
       "      <th>19</th>\n",
       "      <td>2020-03-08</td>\n",
       "      <td>North</td>\n",
       "      <td>Men's Clothing</td>\n",
       "      <td>NaN</td>\n",
       "      <td>644</td>\n",
       "    </tr>\n",
       "    <tr>\n",
       "      <th>25</th>\n",
       "      <td>2020-05-23</td>\n",
       "      <td>North</td>\n",
       "      <td>Men's Clothing</td>\n",
       "      <td>NaN</td>\n",
       "      <td>240</td>\n",
       "    </tr>\n",
       "    <tr>\n",
       "      <th>37</th>\n",
       "      <td>2020-04-24</td>\n",
       "      <td>North</td>\n",
       "      <td>Men's Clothing</td>\n",
       "      <td>NaN</td>\n",
       "      <td>900</td>\n",
       "    </tr>\n",
       "  </tbody>\n",
       "</table>\n",
       "</div>"
      ],
      "text/plain": [
       "         Date Region            Type  Units  Sales\n",
       "11 2020-08-09  North  Men's Clothing    NaN    270\n",
       "19 2020-03-08  North  Men's Clothing    NaN    644\n",
       "25 2020-05-23  North  Men's Clothing    NaN    240\n",
       "37 2020-04-24  North  Men's Clothing    NaN    900"
      ]
     },
     "execution_count": 9,
     "metadata": {},
     "output_type": "execute_result"
    }
   ],
   "source": [
    "%piper df.query('Units.isna()') >> head(4)"
   ]
  },
  {
   "cell_type": "markdown",
   "metadata": {},
   "source": [
    "### Units --> fillna to ensure pandas aggregation functions work correctly"
   ]
  },
  {
   "cell_type": "code",
   "execution_count": 10,
   "metadata": {
    "ExecuteTime": {
     "end_time": "2021-03-09T19:25:20.438321Z",
     "start_time": "2021-03-09T19:25:20.425861Z"
    }
   },
   "outputs": [],
   "source": [
    "df.Units.fillna(0, inplace=True)"
   ]
  },
  {
   "cell_type": "markdown",
   "metadata": {},
   "source": [
    "## Region (summary/groupby) with totals"
   ]
  },
  {
   "cell_type": "markdown",
   "metadata": {},
   "source": [
    "### Region => groupby() >> adorn() - ignore_row_index=True"
   ]
  },
  {
   "cell_type": "code",
   "execution_count": 11,
   "metadata": {
    "ExecuteTime": {
     "end_time": "2021-03-09T19:25:22.022619Z",
     "start_time": "2021-03-09T19:25:21.973814Z"
    }
   },
   "outputs": [
    {
     "data": {
      "text/html": [
       "<div>\n",
       "<style scoped>\n",
       "    .dataframe tbody tr th:only-of-type {\n",
       "        vertical-align: middle;\n",
       "    }\n",
       "\n",
       "    .dataframe tbody tr th {\n",
       "        vertical-align: top;\n",
       "    }\n",
       "\n",
       "    .dataframe thead th {\n",
       "        text-align: right;\n",
       "    }\n",
       "</style>\n",
       "<table border=\"1\" class=\"dataframe\">\n",
       "  <thead>\n",
       "    <tr style=\"text-align: right;\">\n",
       "      <th></th>\n",
       "      <th>Region</th>\n",
       "      <th>TotalSales</th>\n",
       "    </tr>\n",
       "  </thead>\n",
       "  <tbody>\n",
       "    <tr>\n",
       "      <th>0</th>\n",
       "      <td>North</td>\n",
       "      <td>138700</td>\n",
       "    </tr>\n",
       "    <tr>\n",
       "      <th>1</th>\n",
       "      <td>South</td>\n",
       "      <td>59315</td>\n",
       "    </tr>\n",
       "    <tr>\n",
       "      <th>2</th>\n",
       "      <td>East</td>\n",
       "      <td>167763</td>\n",
       "    </tr>\n",
       "    <tr>\n",
       "      <th>3</th>\n",
       "      <td>West</td>\n",
       "      <td>61476</td>\n",
       "    </tr>\n",
       "    <tr>\n",
       "      <th>4</th>\n",
       "      <td>All</td>\n",
       "      <td>427254</td>\n",
       "    </tr>\n",
       "  </tbody>\n",
       "</table>\n",
       "</div>"
      ],
      "text/plain": [
       "  Region  TotalSales\n",
       "0  North      138700\n",
       "1  South       59315\n",
       "2   East      167763\n",
       "3   West       61476\n",
       "4    All      427254"
      ]
     },
     "execution_count": 11,
     "metadata": {},
     "output_type": "execute_result"
    }
   ],
   "source": [
    "%%piper \n",
    "df.groupby(['Region']).agg(TotalSales=('Sales', 'sum'))\n",
    ">> pd.DataFrame.reset_index()\n",
    ">> adorn(ignore_row_index=True)"
   ]
  },
  {
   "cell_type": "markdown",
   "metadata": {},
   "source": [
    "### Region/Type => groupby() >> adorn() - ignore_row_index=False"
   ]
  },
  {
   "cell_type": "code",
   "execution_count": 12,
   "metadata": {
    "ExecuteTime": {
     "end_time": "2021-03-09T19:25:23.045385Z",
     "start_time": "2021-03-09T19:25:23.006316Z"
    }
   },
   "outputs": [
    {
     "name": "stderr",
     "output_type": "stream",
     "text": [
      "13 rows, 2 columns\n"
     ]
    },
    {
     "data": {
      "text/html": [
       "<div>\n",
       "<style scoped>\n",
       "    .dataframe tbody tr th:only-of-type {\n",
       "        vertical-align: middle;\n",
       "    }\n",
       "\n",
       "    .dataframe tbody tr th {\n",
       "        vertical-align: top;\n",
       "    }\n",
       "\n",
       "    .dataframe thead th {\n",
       "        text-align: right;\n",
       "    }\n",
       "</style>\n",
       "<table border=\"1\" class=\"dataframe\">\n",
       "  <thead>\n",
       "    <tr style=\"text-align: right;\">\n",
       "      <th></th>\n",
       "      <th></th>\n",
       "      <th>TotalSales</th>\n",
       "      <th>All</th>\n",
       "    </tr>\n",
       "    <tr>\n",
       "      <th>Region</th>\n",
       "      <th>Type</th>\n",
       "      <th></th>\n",
       "      <th></th>\n",
       "    </tr>\n",
       "  </thead>\n",
       "  <tbody>\n",
       "    <tr>\n",
       "      <th rowspan=\"3\" valign=\"top\">North</th>\n",
       "      <th>Children's Clothing</th>\n",
       "      <td>37306</td>\n",
       "      <td>37306</td>\n",
       "    </tr>\n",
       "    <tr>\n",
       "      <th>Men's Clothing</th>\n",
       "      <td>39975</td>\n",
       "      <td>39975</td>\n",
       "    </tr>\n",
       "    <tr>\n",
       "      <th>Women's Clothing</th>\n",
       "      <td>61419</td>\n",
       "      <td>61419</td>\n",
       "    </tr>\n",
       "    <tr>\n",
       "      <th rowspan=\"3\" valign=\"top\">South</th>\n",
       "      <th>Children's Clothing</th>\n",
       "      <td>18570</td>\n",
       "      <td>18570</td>\n",
       "    </tr>\n",
       "    <tr>\n",
       "      <th>Men's Clothing</th>\n",
       "      <td>18542</td>\n",
       "      <td>18542</td>\n",
       "    </tr>\n",
       "    <tr>\n",
       "      <th>Women's Clothing</th>\n",
       "      <td>22203</td>\n",
       "      <td>22203</td>\n",
       "    </tr>\n",
       "    <tr>\n",
       "      <th rowspan=\"3\" valign=\"top\">East</th>\n",
       "      <th>Children's Clothing</th>\n",
       "      <td>45849</td>\n",
       "      <td>45849</td>\n",
       "    </tr>\n",
       "    <tr>\n",
       "      <th>Men's Clothing</th>\n",
       "      <td>51685</td>\n",
       "      <td>51685</td>\n",
       "    </tr>\n",
       "    <tr>\n",
       "      <th>Women's Clothing</th>\n",
       "      <td>70229</td>\n",
       "      <td>70229</td>\n",
       "    </tr>\n",
       "    <tr>\n",
       "      <th rowspan=\"3\" valign=\"top\">West</th>\n",
       "      <th>Children's Clothing</th>\n",
       "      <td>20182</td>\n",
       "      <td>20182</td>\n",
       "    </tr>\n",
       "    <tr>\n",
       "      <th>Men's Clothing</th>\n",
       "      <td>19077</td>\n",
       "      <td>19077</td>\n",
       "    </tr>\n",
       "    <tr>\n",
       "      <th>Women's Clothing</th>\n",
       "      <td>22217</td>\n",
       "      <td>22217</td>\n",
       "    </tr>\n",
       "    <tr>\n",
       "      <th></th>\n",
       "      <th>All</th>\n",
       "      <td>427254</td>\n",
       "      <td>427254</td>\n",
       "    </tr>\n",
       "  </tbody>\n",
       "</table>\n",
       "</div>"
      ],
      "text/plain": [
       "                            TotalSales     All\n",
       "Region Type                                   \n",
       "North  Children's Clothing       37306   37306\n",
       "       Men's Clothing            39975   39975\n",
       "       Women's Clothing          61419   61419\n",
       "South  Children's Clothing       18570   18570\n",
       "       Men's Clothing            18542   18542\n",
       "       Women's Clothing          22203   22203\n",
       "East   Children's Clothing       45849   45849\n",
       "       Men's Clothing            51685   51685\n",
       "       Women's Clothing          70229   70229\n",
       "West   Children's Clothing       20182   20182\n",
       "       Men's Clothing            19077   19077\n",
       "       Women's Clothing          22217   22217\n",
       "       All                      427254  427254"
      ]
     },
     "execution_count": 12,
     "metadata": {},
     "output_type": "execute_result"
    }
   ],
   "source": [
    "g1 = df.groupby(['Region', 'Type']).agg(TotalSales=('Sales', 'sum'))\n",
    "g1 = adorn(g1, axis='both').astype(int)\n",
    "head(g1, g1.shape[0])"
   ]
  },
  {
   "cell_type": "code",
   "execution_count": 13,
   "metadata": {
    "ExecuteTime": {
     "end_time": "2021-03-09T19:25:23.516634Z",
     "start_time": "2021-03-09T19:25:23.447258Z"
    },
    "scrolled": true
   },
   "outputs": [
    {
     "name": "stderr",
     "output_type": "stream",
     "text": [
      "4 rows, 8 columns\n"
     ]
    },
    {
     "data": {
      "text/html": [
       "<div>\n",
       "<style scoped>\n",
       "    .dataframe tbody tr th:only-of-type {\n",
       "        vertical-align: middle;\n",
       "    }\n",
       "\n",
       "    .dataframe tbody tr th {\n",
       "        vertical-align: top;\n",
       "    }\n",
       "\n",
       "    .dataframe thead th {\n",
       "        text-align: right;\n",
       "    }\n",
       "</style>\n",
       "<table border=\"1\" class=\"dataframe\">\n",
       "  <thead>\n",
       "    <tr style=\"text-align: right;\">\n",
       "      <th></th>\n",
       "      <th>North</th>\n",
       "      <th>South</th>\n",
       "      <th>East</th>\n",
       "      <th>West</th>\n",
       "      <th>All</th>\n",
       "      <th>total_north_south</th>\n",
       "      <th>total_east_west</th>\n",
       "      <th>Total</th>\n",
       "    </tr>\n",
       "  </thead>\n",
       "  <tbody>\n",
       "    <tr>\n",
       "      <th>Children's Clothing</th>\n",
       "      <td>37306</td>\n",
       "      <td>18570</td>\n",
       "      <td>45849</td>\n",
       "      <td>20182</td>\n",
       "      <td>121907</td>\n",
       "      <td>55876</td>\n",
       "      <td>66031</td>\n",
       "      <td>121907</td>\n",
       "    </tr>\n",
       "    <tr>\n",
       "      <th>Men's Clothing</th>\n",
       "      <td>39975</td>\n",
       "      <td>18542</td>\n",
       "      <td>51685</td>\n",
       "      <td>19077</td>\n",
       "      <td>129279</td>\n",
       "      <td>58517</td>\n",
       "      <td>70762</td>\n",
       "      <td>129279</td>\n",
       "    </tr>\n",
       "    <tr>\n",
       "      <th>Women's Clothing</th>\n",
       "      <td>61419</td>\n",
       "      <td>22203</td>\n",
       "      <td>70229</td>\n",
       "      <td>22217</td>\n",
       "      <td>176068</td>\n",
       "      <td>83622</td>\n",
       "      <td>92446</td>\n",
       "      <td>176068</td>\n",
       "    </tr>\n",
       "    <tr>\n",
       "      <th>All</th>\n",
       "      <td>138700</td>\n",
       "      <td>59315</td>\n",
       "      <td>167763</td>\n",
       "      <td>61476</td>\n",
       "      <td>427254</td>\n",
       "      <td>198015</td>\n",
       "      <td>229239</td>\n",
       "      <td>427254</td>\n",
       "    </tr>\n",
       "  </tbody>\n",
       "</table>\n",
       "</div>"
      ],
      "text/plain": [
       "                      North  South    East   West     All  total_north_south  \\\n",
       "Children's Clothing   37306  18570   45849  20182  121907              55876   \n",
       "Men's Clothing        39975  18542   51685  19077  129279              58517   \n",
       "Women's Clothing      61419  22203   70229  22217  176068              83622   \n",
       "All                  138700  59315  167763  61476  427254             198015   \n",
       "\n",
       "                     total_east_west   Total  \n",
       "Children's Clothing            66031  121907  \n",
       "Men's Clothing                 70762  129279  \n",
       "Women's Clothing               92446  176068  \n",
       "All                           229239  427254  "
      ]
     },
     "execution_count": 13,
     "metadata": {},
     "output_type": "execute_result"
    }
   ],
   "source": [
    "%%piper \n",
    "df.groupby(['Type', 'Region']).agg(TotalSales=('Sales', 'sum')).unstack()\n",
    ">> adorn(axis='both', ignore_row_index=False)\n",
    ">> flatten_cols(remove_prefix='TotalSales')\n",
    ">> adorn(axis='column', col_row_name='total_north_south', \n",
    "         columns=['North', 'South'], ignore_row_index=False)\n",
    ">> adorn(axis='column', col_row_name='total_east_west', \n",
    "         columns=['East', 'West'], ignore_row_index=False)\n",
    ">> adorn(axis='column', col_row_name='Total', \n",
    "         columns=['total_north_south', 'total_east_west'], ignore_row_index=False)\n",
    ">> head(4)"
   ]
  },
  {
   "cell_type": "markdown",
   "metadata": {},
   "source": [
    "### Region/Type => groupby() >> adorn() >> flatten_cols()"
   ]
  },
  {
   "cell_type": "code",
   "execution_count": 14,
   "metadata": {
    "ExecuteTime": {
     "end_time": "2021-03-09T19:25:25.003813Z",
     "start_time": "2021-03-09T19:25:24.966576Z"
    }
   },
   "outputs": [
    {
     "name": "stderr",
     "output_type": "stream",
     "text": [
      "4 rows, 5 columns\n"
     ]
    },
    {
     "data": {
      "text/html": [
       "<div>\n",
       "<style scoped>\n",
       "    .dataframe tbody tr th:only-of-type {\n",
       "        vertical-align: middle;\n",
       "    }\n",
       "\n",
       "    .dataframe tbody tr th {\n",
       "        vertical-align: top;\n",
       "    }\n",
       "\n",
       "    .dataframe thead th {\n",
       "        text-align: right;\n",
       "    }\n",
       "</style>\n",
       "<table border=\"1\" class=\"dataframe\">\n",
       "  <thead>\n",
       "    <tr style=\"text-align: right;\">\n",
       "      <th></th>\n",
       "      <th>North</th>\n",
       "      <th>South</th>\n",
       "      <th>East</th>\n",
       "      <th>West</th>\n",
       "      <th>All</th>\n",
       "    </tr>\n",
       "  </thead>\n",
       "  <tbody>\n",
       "    <tr>\n",
       "      <th>Children's Clothing</th>\n",
       "      <td>85</td>\n",
       "      <td>45</td>\n",
       "      <td>113</td>\n",
       "      <td>42</td>\n",
       "      <td>285</td>\n",
       "    </tr>\n",
       "    <tr>\n",
       "      <th>Men's Clothing</th>\n",
       "      <td>89</td>\n",
       "      <td>39</td>\n",
       "      <td>122</td>\n",
       "      <td>41</td>\n",
       "      <td>291</td>\n",
       "    </tr>\n",
       "    <tr>\n",
       "      <th>Women's Clothing</th>\n",
       "      <td>142</td>\n",
       "      <td>53</td>\n",
       "      <td>176</td>\n",
       "      <td>53</td>\n",
       "      <td>424</td>\n",
       "    </tr>\n",
       "    <tr>\n",
       "      <th>All</th>\n",
       "      <td>316</td>\n",
       "      <td>137</td>\n",
       "      <td>411</td>\n",
       "      <td>136</td>\n",
       "      <td>1000</td>\n",
       "    </tr>\n",
       "  </tbody>\n",
       "</table>\n",
       "</div>"
      ],
      "text/plain": [
       "                     North  South  East  West   All\n",
       "Children's Clothing     85     45   113    42   285\n",
       "Men's Clothing          89     39   122    41   291\n",
       "Women's Clothing       142     53   176    53   424\n",
       "All                    316    137   411   136  1000"
      ]
     },
     "execution_count": 14,
     "metadata": {},
     "output_type": "execute_result"
    }
   ],
   "source": [
    "%%piper \n",
    "df.groupby(['Type', 'Region']).agg(TotalUnits=('Units', 'count')).unstack()\n",
    ">> adorn(axis='both', ignore_row_index=False).astype(int)\n",
    ">> flatten_cols(remove_prefix='TotalUnits')\n",
    ">> head(4)"
   ]
  },
  {
   "cell_type": "code",
   "execution_count": 15,
   "metadata": {
    "ExecuteTime": {
     "end_time": "2021-03-09T19:25:28.430811Z",
     "start_time": "2021-03-09T19:25:28.390806Z"
    }
   },
   "outputs": [
    {
     "data": {
      "text/html": [
       "<div>\n",
       "<style scoped>\n",
       "    .dataframe tbody tr th:only-of-type {\n",
       "        vertical-align: middle;\n",
       "    }\n",
       "\n",
       "    .dataframe tbody tr th {\n",
       "        vertical-align: top;\n",
       "    }\n",
       "\n",
       "    .dataframe thead th {\n",
       "        text-align: right;\n",
       "    }\n",
       "</style>\n",
       "<table border=\"1\" class=\"dataframe\">\n",
       "  <thead>\n",
       "    <tr style=\"text-align: right;\">\n",
       "      <th></th>\n",
       "      <th></th>\n",
       "      <th>TotalUnits</th>\n",
       "      <th>rank</th>\n",
       "    </tr>\n",
       "    <tr>\n",
       "      <th>Type</th>\n",
       "      <th>Region</th>\n",
       "      <th></th>\n",
       "      <th></th>\n",
       "    </tr>\n",
       "  </thead>\n",
       "  <tbody>\n",
       "    <tr>\n",
       "      <th rowspan=\"4\" valign=\"top\">Children's Clothing</th>\n",
       "      <th>West</th>\n",
       "      <td>42</td>\n",
       "      <td>1.0</td>\n",
       "    </tr>\n",
       "    <tr>\n",
       "      <th>South</th>\n",
       "      <td>45</td>\n",
       "      <td>2.0</td>\n",
       "    </tr>\n",
       "    <tr>\n",
       "      <th>North</th>\n",
       "      <td>85</td>\n",
       "      <td>3.0</td>\n",
       "    </tr>\n",
       "    <tr>\n",
       "      <th>East</th>\n",
       "      <td>113</td>\n",
       "      <td>4.0</td>\n",
       "    </tr>\n",
       "    <tr>\n",
       "      <th rowspan=\"4\" valign=\"top\">Men's Clothing</th>\n",
       "      <th>South</th>\n",
       "      <td>39</td>\n",
       "      <td>1.0</td>\n",
       "    </tr>\n",
       "    <tr>\n",
       "      <th>West</th>\n",
       "      <td>41</td>\n",
       "      <td>2.0</td>\n",
       "    </tr>\n",
       "    <tr>\n",
       "      <th>North</th>\n",
       "      <td>89</td>\n",
       "      <td>3.0</td>\n",
       "    </tr>\n",
       "    <tr>\n",
       "      <th>East</th>\n",
       "      <td>122</td>\n",
       "      <td>4.0</td>\n",
       "    </tr>\n",
       "    <tr>\n",
       "      <th rowspan=\"4\" valign=\"top\">Women's Clothing</th>\n",
       "      <th>South</th>\n",
       "      <td>53</td>\n",
       "      <td>1.0</td>\n",
       "    </tr>\n",
       "    <tr>\n",
       "      <th>West</th>\n",
       "      <td>53</td>\n",
       "      <td>1.0</td>\n",
       "    </tr>\n",
       "    <tr>\n",
       "      <th>North</th>\n",
       "      <td>142</td>\n",
       "      <td>2.0</td>\n",
       "    </tr>\n",
       "    <tr>\n",
       "      <th>East</th>\n",
       "      <td>176</td>\n",
       "      <td>3.0</td>\n",
       "    </tr>\n",
       "    <tr>\n",
       "      <th></th>\n",
       "      <th>All</th>\n",
       "      <td>1000</td>\n",
       "      <td></td>\n",
       "    </tr>\n",
       "  </tbody>\n",
       "</table>\n",
       "</div>"
      ],
      "text/plain": [
       "                            TotalUnits rank\n",
       "Type                Region                 \n",
       "Children's Clothing West            42  1.0\n",
       "                    South           45  2.0\n",
       "                    North           85  3.0\n",
       "                    East           113  4.0\n",
       "Men's Clothing      South           39  1.0\n",
       "                    West            41  2.0\n",
       "                    North           89  3.0\n",
       "                    East           122  4.0\n",
       "Women's Clothing    South           53  1.0\n",
       "                    West            53  1.0\n",
       "                    North          142  2.0\n",
       "                    East           176  3.0\n",
       "                    All           1000     "
      ]
     },
     "execution_count": 15,
     "metadata": {},
     "output_type": "execute_result"
    }
   ],
   "source": [
    "%%piper \n",
    "df.groupby(['Type', 'Region']).agg(TotalUnits=('Units', 'count'))\n",
    ">> transform(index='Type', rank=('TotalUnits', 'rank'))\n",
    ">> assign(rank=lambda x: x['rank'].astype(int))\n",
    ">> order_by(['Type', 'rank'])\n",
    ">> adorn(axis='row', columns='TotalUnits', ignore_row_index=False)"
   ]
  },
  {
   "cell_type": "code",
   "execution_count": 16,
   "metadata": {
    "ExecuteTime": {
     "end_time": "2021-03-09T19:25:29.055074Z",
     "start_time": "2021-03-09T19:25:28.966821Z"
    }
   },
   "outputs": [
    {
     "data": {
      "text/html": [
       "<div>\n",
       "<style scoped>\n",
       "    .dataframe tbody tr th:only-of-type {\n",
       "        vertical-align: middle;\n",
       "    }\n",
       "\n",
       "    .dataframe tbody tr th {\n",
       "        vertical-align: top;\n",
       "    }\n",
       "\n",
       "    .dataframe thead th {\n",
       "        text-align: right;\n",
       "    }\n",
       "</style>\n",
       "<table border=\"1\" class=\"dataframe\">\n",
       "  <thead>\n",
       "    <tr style=\"text-align: right;\">\n",
       "      <th></th>\n",
       "      <th>Type</th>\n",
       "      <th>Region</th>\n",
       "      <th>TotalUnits</th>\n",
       "      <th>calc_field</th>\n",
       "      <th>rank</th>\n",
       "    </tr>\n",
       "  </thead>\n",
       "  <tbody>\n",
       "    <tr>\n",
       "      <th>0</th>\n",
       "      <td>Children's Clothing</td>\n",
       "      <td>North</td>\n",
       "      <td>85</td>\n",
       "      <td>8500</td>\n",
       "      <td>1.0</td>\n",
       "    </tr>\n",
       "    <tr>\n",
       "      <th>1</th>\n",
       "      <td>Children's Clothing</td>\n",
       "      <td>East</td>\n",
       "      <td>113</td>\n",
       "      <td>11300</td>\n",
       "      <td>2.0</td>\n",
       "    </tr>\n",
       "    <tr>\n",
       "      <th>2</th>\n",
       "      <td>Men's Clothing</td>\n",
       "      <td>North</td>\n",
       "      <td>89</td>\n",
       "      <td>8900</td>\n",
       "      <td>1.0</td>\n",
       "    </tr>\n",
       "    <tr>\n",
       "      <th>3</th>\n",
       "      <td>Men's Clothing</td>\n",
       "      <td>East</td>\n",
       "      <td>122</td>\n",
       "      <td>12200</td>\n",
       "      <td>2.0</td>\n",
       "    </tr>\n",
       "    <tr>\n",
       "      <th>4</th>\n",
       "      <td>Women's Clothing</td>\n",
       "      <td>North</td>\n",
       "      <td>142</td>\n",
       "      <td>14200</td>\n",
       "      <td>1.0</td>\n",
       "    </tr>\n",
       "    <tr>\n",
       "      <th>5</th>\n",
       "      <td>Women's Clothing</td>\n",
       "      <td>East</td>\n",
       "      <td>176</td>\n",
       "      <td>17600</td>\n",
       "      <td>2.0</td>\n",
       "    </tr>\n",
       "    <tr>\n",
       "      <th>6</th>\n",
       "      <td></td>\n",
       "      <td>All</td>\n",
       "      <td>727</td>\n",
       "      <td>72700</td>\n",
       "      <td></td>\n",
       "    </tr>\n",
       "  </tbody>\n",
       "</table>\n",
       "</div>"
      ],
      "text/plain": [
       "                  Type Region  TotalUnits  calc_field rank\n",
       "0  Children's Clothing  North          85        8500  1.0\n",
       "1  Children's Clothing   East         113       11300  2.0\n",
       "2       Men's Clothing  North          89        8900  1.0\n",
       "3       Men's Clothing   East         122       12200  2.0\n",
       "4     Women's Clothing  North         142       14200  1.0\n",
       "5     Women's Clothing   East         176       17600  2.0\n",
       "6                         All         727       72700     "
      ]
     },
     "execution_count": 16,
     "metadata": {},
     "output_type": "execute_result"
    }
   ],
   "source": [
    "%%piper \n",
    "df.groupby(['Type', 'Region']).agg(TotalUnits=('Units', 'count'))\n",
    ">> where(\"Region.isin(['East', 'North'])\")\n",
    ">> assign(calc_field=lambda x: x.TotalUnits * 100)\n",
    ">> transform(index='Type', rank=('TotalUnits', 'rank'))\n",
    ">> assign(rank=lambda x: x['rank'].astype(int))\n",
    ">> order_by(['Type', 'rank'], ascending=[True, True])\n",
    ">> adorn(axis='row', columns=['TotalUnits', 'calc_field'], ignore_row_index=False)\n",
    ">> reset_index()"
   ]
  },
  {
   "cell_type": "markdown",
   "metadata": {},
   "source": [
    "### Region/Type => pivot_table()"
   ]
  },
  {
   "cell_type": "code",
   "execution_count": 17,
   "metadata": {
    "ExecuteTime": {
     "end_time": "2021-03-09T19:25:29.959506Z",
     "start_time": "2021-03-09T19:25:29.874021Z"
    }
   },
   "outputs": [
    {
     "data": {
      "text/html": [
       "<div>\n",
       "<style scoped>\n",
       "    .dataframe tbody tr th:only-of-type {\n",
       "        vertical-align: middle;\n",
       "    }\n",
       "\n",
       "    .dataframe tbody tr th {\n",
       "        vertical-align: top;\n",
       "    }\n",
       "\n",
       "    .dataframe thead th {\n",
       "        text-align: right;\n",
       "    }\n",
       "</style>\n",
       "<table border=\"1\" class=\"dataframe\">\n",
       "  <thead>\n",
       "    <tr style=\"text-align: right;\">\n",
       "      <th>Region</th>\n",
       "      <th>North</th>\n",
       "      <th>South</th>\n",
       "      <th>East</th>\n",
       "      <th>West</th>\n",
       "      <th>All</th>\n",
       "    </tr>\n",
       "    <tr>\n",
       "      <th>Type</th>\n",
       "      <th></th>\n",
       "      <th></th>\n",
       "      <th></th>\n",
       "      <th></th>\n",
       "      <th></th>\n",
       "    </tr>\n",
       "  </thead>\n",
       "  <tbody>\n",
       "    <tr>\n",
       "      <th>Children's Clothing</th>\n",
       "      <td>85</td>\n",
       "      <td>45</td>\n",
       "      <td>113</td>\n",
       "      <td>42</td>\n",
       "      <td>285</td>\n",
       "    </tr>\n",
       "    <tr>\n",
       "      <th>Men's Clothing</th>\n",
       "      <td>89</td>\n",
       "      <td>39</td>\n",
       "      <td>122</td>\n",
       "      <td>41</td>\n",
       "      <td>291</td>\n",
       "    </tr>\n",
       "    <tr>\n",
       "      <th>Women's Clothing</th>\n",
       "      <td>142</td>\n",
       "      <td>53</td>\n",
       "      <td>176</td>\n",
       "      <td>53</td>\n",
       "      <td>424</td>\n",
       "    </tr>\n",
       "    <tr>\n",
       "      <th>All</th>\n",
       "      <td>316</td>\n",
       "      <td>137</td>\n",
       "      <td>411</td>\n",
       "      <td>136</td>\n",
       "      <td>1000</td>\n",
       "    </tr>\n",
       "  </tbody>\n",
       "</table>\n",
       "</div>"
      ],
      "text/plain": [
       "Region               North  South  East  West   All\n",
       "Type                                               \n",
       "Children's Clothing     85     45   113    42   285\n",
       "Men's Clothing          89     39   122    41   291\n",
       "Women's Clothing       142     53   176    53   424\n",
       "All                    316    137   411   136  1000"
      ]
     },
     "execution_count": 17,
     "metadata": {},
     "output_type": "execute_result"
    }
   ],
   "source": [
    "%%piper\n",
    "\n",
    "df.pivot_table(index='Type',\n",
    "               columns='Region',\n",
    "               values='Date', \n",
    "               margins=True,\n",
    "               aggfunc='count')\n",
    "# >> adorn()"
   ]
  },
  {
   "cell_type": "code",
   "execution_count": null,
   "metadata": {},
   "outputs": [],
   "source": []
  },
  {
   "cell_type": "code",
   "execution_count": null,
   "metadata": {},
   "outputs": [],
   "source": []
  },
  {
   "cell_type": "code",
   "execution_count": null,
   "metadata": {},
   "outputs": [],
   "source": []
  },
  {
   "cell_type": "code",
   "execution_count": null,
   "metadata": {},
   "outputs": [],
   "source": []
  },
  {
   "cell_type": "code",
   "execution_count": null,
   "metadata": {},
   "outputs": [],
   "source": []
  }
 ],
 "metadata": {
  "kernelspec": {
   "display_name": "Python 3",
   "language": "python",
   "name": "python3"
  },
  "language_info": {
   "codemirror_mode": {
    "name": "ipython",
    "version": 3
   },
   "file_extension": ".py",
   "mimetype": "text/x-python",
   "name": "python",
   "nbconvert_exporter": "python",
   "pygments_lexer": "ipython3",
   "version": "3.8.5"
  },
  "toc": {
   "base_numbering": 1,
   "nav_menu": {},
   "number_sections": true,
   "sideBar": true,
   "skip_h1_title": false,
   "title_cell": "Table of Contents",
   "title_sidebar": "Contents",
   "toc_cell": false,
   "toc_position": {
    "height": "calc(100% - 180px)",
    "left": "10px",
    "top": "150px",
    "width": "256px"
   },
   "toc_section_display": true,
   "toc_window_display": true
  }
 },
 "nbformat": 4,
 "nbformat_minor": 4
}
