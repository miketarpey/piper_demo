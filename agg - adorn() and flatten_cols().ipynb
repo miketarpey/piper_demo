{
 "cells": [
  {
   "cell_type": "markdown",
   "metadata": {},
   "source": [
    "# Setup"
   ]
  },
  {
   "cell_type": "code",
   "execution_count": 1,
   "metadata": {
    "ExecuteTime": {
     "end_time": "2021-02-26T14:50:12.068739Z",
     "start_time": "2021-02-26T14:50:10.493322Z"
    }
   },
   "outputs": [
    {
     "name": "stderr",
     "output_type": "stream",
     "text": [
      "piper version 0.0.7, last run: Friday, 26 February 2021 14:50:10\n"
     ]
    }
   ],
   "source": [
    "from piper import piper\n",
    "from piper.defaults import *\n",
    "from piper.verbs import info, where, count, order_by, assign, counts, adorn, head, flatten_cols, add_group_calc"
   ]
  },
  {
   "cell_type": "markdown",
   "metadata": {},
   "source": [
    "# Import data"
   ]
  },
  {
   "cell_type": "code",
   "execution_count": 2,
   "metadata": {
    "ExecuteTime": {
     "end_time": "2021-02-26T14:50:13.083592Z",
     "start_time": "2021-02-26T14:50:12.071310Z"
    }
   },
   "outputs": [
    {
     "name": "stderr",
     "output_type": "stream",
     "text": [
      "Dataframe with (rows, cols) (1000, 5) consumes 0.15 Mb\n"
     ]
    },
    {
     "data": {
      "text/html": [
       "<div>\n",
       "<style scoped>\n",
       "    .dataframe tbody tr th:only-of-type {\n",
       "        vertical-align: middle;\n",
       "    }\n",
       "\n",
       "    .dataframe tbody tr th {\n",
       "        vertical-align: top;\n",
       "    }\n",
       "\n",
       "    .dataframe thead th {\n",
       "        text-align: right;\n",
       "    }\n",
       "</style>\n",
       "<table border=\"1\" class=\"dataframe\">\n",
       "  <thead>\n",
       "    <tr style=\"text-align: right;\">\n",
       "      <th></th>\n",
       "      <th>columns</th>\n",
       "      <th>data_type</th>\n",
       "      <th>unique</th>\n",
       "      <th>isna</th>\n",
       "      <th>isnull</th>\n",
       "      <th>total_count</th>\n",
       "    </tr>\n",
       "  </thead>\n",
       "  <tbody>\n",
       "    <tr>\n",
       "      <th>0</th>\n",
       "      <td>Date</td>\n",
       "      <td>datetime64[ns]</td>\n",
       "      <td>347</td>\n",
       "      <td>0</td>\n",
       "      <td>0</td>\n",
       "      <td>1000</td>\n",
       "    </tr>\n",
       "    <tr>\n",
       "      <th>1</th>\n",
       "      <td>Region</td>\n",
       "      <td>object</td>\n",
       "      <td>4</td>\n",
       "      <td>0</td>\n",
       "      <td>0</td>\n",
       "      <td>1000</td>\n",
       "    </tr>\n",
       "    <tr>\n",
       "      <th>2</th>\n",
       "      <td>Type</td>\n",
       "      <td>object</td>\n",
       "      <td>3</td>\n",
       "      <td>0</td>\n",
       "      <td>0</td>\n",
       "      <td>1000</td>\n",
       "    </tr>\n",
       "    <tr>\n",
       "      <th>3</th>\n",
       "      <td>Units</td>\n",
       "      <td>float64</td>\n",
       "      <td>33</td>\n",
       "      <td>89</td>\n",
       "      <td>89</td>\n",
       "      <td>1000</td>\n",
       "    </tr>\n",
       "    <tr>\n",
       "      <th>4</th>\n",
       "      <td>Sales</td>\n",
       "      <td>int64</td>\n",
       "      <td>329</td>\n",
       "      <td>0</td>\n",
       "      <td>0</td>\n",
       "      <td>1000</td>\n",
       "    </tr>\n",
       "  </tbody>\n",
       "</table>\n",
       "</div>"
      ],
      "text/plain": [
       "  columns       data_type  unique  isna  isnull  total_count\n",
       "0    Date  datetime64[ns]     347     0       0         1000\n",
       "1  Region          object       4     0       0         1000\n",
       "2    Type          object       3     0       0         1000\n",
       "3   Units         float64      33    89      89         1000\n",
       "4   Sales           int64     329     0       0         1000"
      ]
     },
     "execution_count": 2,
     "metadata": {},
     "output_type": "execute_result"
    }
   ],
   "source": [
    "url = 'https://github.com/datagy/pivot_table_pandas/raw/master/sample_pivot.xlsx'\n",
    "\n",
    "%piper df <- pd.read_excel(url, parse_dates=['Date'])\n",
    "%piper df >> info()"
   ]
  },
  {
   "cell_type": "markdown",
   "metadata": {},
   "source": [
    "## Region (ordered categorical)"
   ]
  },
  {
   "cell_type": "code",
   "execution_count": 3,
   "metadata": {
    "ExecuteTime": {
     "end_time": "2021-02-26T14:50:13.103081Z",
     "start_time": "2021-02-26T14:50:13.085456Z"
    }
   },
   "outputs": [
    {
     "data": {
      "text/plain": [
       "['East', 'North', 'South', 'West']"
      ]
     },
     "execution_count": 3,
     "metadata": {},
     "output_type": "execute_result"
    }
   ],
   "source": [
    "%%piper\n",
    "df >> count('Region') >> ['Region'] >> list()"
   ]
  },
  {
   "cell_type": "code",
   "execution_count": 4,
   "metadata": {
    "ExecuteTime": {
     "end_time": "2021-02-26T14:50:13.116357Z",
     "start_time": "2021-02-26T14:50:13.106791Z"
    }
   },
   "outputs": [],
   "source": [
    "region_categories = pd.CategoricalDtype(['North', 'South', 'East', 'West'], ordered=True)\n",
    "df.Region = df.Region.astype(region_categories)"
   ]
  },
  {
   "cell_type": "markdown",
   "metadata": {},
   "source": [
    "### Region/Type => counts() >> adorn() - ignore_row_index=False"
   ]
  },
  {
   "cell_type": "code",
   "execution_count": 5,
   "metadata": {
    "ExecuteTime": {
     "end_time": "2021-02-26T14:50:13.169733Z",
     "start_time": "2021-02-26T14:50:13.118745Z"
    }
   },
   "outputs": [
    {
     "data": {
      "text/html": [
       "<div>\n",
       "<style scoped>\n",
       "    .dataframe tbody tr th:only-of-type {\n",
       "        vertical-align: middle;\n",
       "    }\n",
       "\n",
       "    .dataframe tbody tr th {\n",
       "        vertical-align: top;\n",
       "    }\n",
       "\n",
       "    .dataframe thead th {\n",
       "        text-align: right;\n",
       "    }\n",
       "</style>\n",
       "<table border=\"1\" class=\"dataframe\">\n",
       "  <thead>\n",
       "    <tr style=\"text-align: right;\">\n",
       "      <th></th>\n",
       "      <th></th>\n",
       "      <th>n</th>\n",
       "    </tr>\n",
       "    <tr>\n",
       "      <th>Region</th>\n",
       "      <th>Type</th>\n",
       "      <th></th>\n",
       "    </tr>\n",
       "  </thead>\n",
       "  <tbody>\n",
       "    <tr>\n",
       "      <th rowspan=\"3\" valign=\"top\">North</th>\n",
       "      <th>Children's Clothing</th>\n",
       "      <td>85</td>\n",
       "    </tr>\n",
       "    <tr>\n",
       "      <th>Men's Clothing</th>\n",
       "      <td>89</td>\n",
       "    </tr>\n",
       "    <tr>\n",
       "      <th>Women's Clothing</th>\n",
       "      <td>142</td>\n",
       "    </tr>\n",
       "    <tr>\n",
       "      <th rowspan=\"3\" valign=\"top\">South</th>\n",
       "      <th>Children's Clothing</th>\n",
       "      <td>45</td>\n",
       "    </tr>\n",
       "    <tr>\n",
       "      <th>Men's Clothing</th>\n",
       "      <td>39</td>\n",
       "    </tr>\n",
       "    <tr>\n",
       "      <th>Women's Clothing</th>\n",
       "      <td>53</td>\n",
       "    </tr>\n",
       "    <tr>\n",
       "      <th rowspan=\"3\" valign=\"top\">East</th>\n",
       "      <th>Children's Clothing</th>\n",
       "      <td>113</td>\n",
       "    </tr>\n",
       "    <tr>\n",
       "      <th>Men's Clothing</th>\n",
       "      <td>122</td>\n",
       "    </tr>\n",
       "    <tr>\n",
       "      <th>Women's Clothing</th>\n",
       "      <td>176</td>\n",
       "    </tr>\n",
       "    <tr>\n",
       "      <th rowspan=\"3\" valign=\"top\">West</th>\n",
       "      <th>Children's Clothing</th>\n",
       "      <td>42</td>\n",
       "    </tr>\n",
       "    <tr>\n",
       "      <th>Men's Clothing</th>\n",
       "      <td>41</td>\n",
       "    </tr>\n",
       "    <tr>\n",
       "      <th>Women's Clothing</th>\n",
       "      <td>53</td>\n",
       "    </tr>\n",
       "    <tr>\n",
       "      <th></th>\n",
       "      <th>All</th>\n",
       "      <td>1000</td>\n",
       "    </tr>\n",
       "  </tbody>\n",
       "</table>\n",
       "</div>"
      ],
      "text/plain": [
       "                               n\n",
       "Region Type                     \n",
       "North  Children's Clothing    85\n",
       "       Men's Clothing         89\n",
       "       Women's Clothing      142\n",
       "South  Children's Clothing    45\n",
       "       Men's Clothing         39\n",
       "       Women's Clothing       53\n",
       "East   Children's Clothing   113\n",
       "       Men's Clothing        122\n",
       "       Women's Clothing      176\n",
       "West   Children's Clothing    42\n",
       "       Men's Clothing         41\n",
       "       Women's Clothing       53\n",
       "       All                  1000"
      ]
     },
     "execution_count": 5,
     "metadata": {},
     "output_type": "execute_result"
    }
   ],
   "source": [
    "%%piper \n",
    "df >> counts(['Region', 'Type'], sort_values=None)\n",
    "   >> adorn(axis=0)"
   ]
  },
  {
   "cell_type": "markdown",
   "metadata": {},
   "source": [
    "### Region/Type => counts() >> adorn() - ignore_row_index=True"
   ]
  },
  {
   "cell_type": "code",
   "execution_count": 6,
   "metadata": {
    "ExecuteTime": {
     "end_time": "2021-02-26T14:50:13.228195Z",
     "start_time": "2021-02-26T14:50:13.173089Z"
    }
   },
   "outputs": [
    {
     "data": {
      "text/html": [
       "<div>\n",
       "<style scoped>\n",
       "    .dataframe tbody tr th:only-of-type {\n",
       "        vertical-align: middle;\n",
       "    }\n",
       "\n",
       "    .dataframe tbody tr th {\n",
       "        vertical-align: top;\n",
       "    }\n",
       "\n",
       "    .dataframe thead th {\n",
       "        text-align: right;\n",
       "    }\n",
       "</style>\n",
       "<table border=\"1\" class=\"dataframe\">\n",
       "  <thead>\n",
       "    <tr style=\"text-align: right;\">\n",
       "      <th></th>\n",
       "      <th>Region</th>\n",
       "      <th>Type</th>\n",
       "      <th>n</th>\n",
       "      <th>All</th>\n",
       "    </tr>\n",
       "  </thead>\n",
       "  <tbody>\n",
       "    <tr>\n",
       "      <th>0</th>\n",
       "      <td>North</td>\n",
       "      <td>Children's Clothing</td>\n",
       "      <td>85</td>\n",
       "      <td>85</td>\n",
       "    </tr>\n",
       "    <tr>\n",
       "      <th>1</th>\n",
       "      <td>North</td>\n",
       "      <td>Men's Clothing</td>\n",
       "      <td>89</td>\n",
       "      <td>89</td>\n",
       "    </tr>\n",
       "    <tr>\n",
       "      <th>2</th>\n",
       "      <td>North</td>\n",
       "      <td>Women's Clothing</td>\n",
       "      <td>142</td>\n",
       "      <td>142</td>\n",
       "    </tr>\n",
       "    <tr>\n",
       "      <th>3</th>\n",
       "      <td>South</td>\n",
       "      <td>Children's Clothing</td>\n",
       "      <td>45</td>\n",
       "      <td>45</td>\n",
       "    </tr>\n",
       "    <tr>\n",
       "      <th>4</th>\n",
       "      <td>South</td>\n",
       "      <td>Men's Clothing</td>\n",
       "      <td>39</td>\n",
       "      <td>39</td>\n",
       "    </tr>\n",
       "    <tr>\n",
       "      <th>5</th>\n",
       "      <td>South</td>\n",
       "      <td>Women's Clothing</td>\n",
       "      <td>53</td>\n",
       "      <td>53</td>\n",
       "    </tr>\n",
       "    <tr>\n",
       "      <th>6</th>\n",
       "      <td>East</td>\n",
       "      <td>Children's Clothing</td>\n",
       "      <td>113</td>\n",
       "      <td>113</td>\n",
       "    </tr>\n",
       "    <tr>\n",
       "      <th>7</th>\n",
       "      <td>East</td>\n",
       "      <td>Men's Clothing</td>\n",
       "      <td>122</td>\n",
       "      <td>122</td>\n",
       "    </tr>\n",
       "    <tr>\n",
       "      <th>8</th>\n",
       "      <td>East</td>\n",
       "      <td>Women's Clothing</td>\n",
       "      <td>176</td>\n",
       "      <td>176</td>\n",
       "    </tr>\n",
       "    <tr>\n",
       "      <th>9</th>\n",
       "      <td>West</td>\n",
       "      <td>Children's Clothing</td>\n",
       "      <td>42</td>\n",
       "      <td>42</td>\n",
       "    </tr>\n",
       "    <tr>\n",
       "      <th>10</th>\n",
       "      <td>West</td>\n",
       "      <td>Men's Clothing</td>\n",
       "      <td>41</td>\n",
       "      <td>41</td>\n",
       "    </tr>\n",
       "    <tr>\n",
       "      <th>11</th>\n",
       "      <td>West</td>\n",
       "      <td>Women's Clothing</td>\n",
       "      <td>53</td>\n",
       "      <td>53</td>\n",
       "    </tr>\n",
       "    <tr>\n",
       "      <th>12</th>\n",
       "      <td>All</td>\n",
       "      <td></td>\n",
       "      <td>1000</td>\n",
       "      <td>1000</td>\n",
       "    </tr>\n",
       "  </tbody>\n",
       "</table>\n",
       "</div>"
      ],
      "text/plain": [
       "   Region                 Type     n   All\n",
       "0   North  Children's Clothing    85    85\n",
       "1   North       Men's Clothing    89    89\n",
       "2   North     Women's Clothing   142   142\n",
       "3   South  Children's Clothing    45    45\n",
       "4   South       Men's Clothing    39    39\n",
       "5   South     Women's Clothing    53    53\n",
       "6    East  Children's Clothing   113   113\n",
       "7    East       Men's Clothing   122   122\n",
       "8    East     Women's Clothing   176   176\n",
       "9    West  Children's Clothing    42    42\n",
       "10   West       Men's Clothing    41    41\n",
       "11   West     Women's Clothing    53    53\n",
       "12    All                       1000  1000"
      ]
     },
     "execution_count": 6,
     "metadata": {},
     "output_type": "execute_result"
    }
   ],
   "source": [
    "%%piper \n",
    "df  >> counts(['Region', 'Type'], sort_values=None).reset_index()\n",
    "    >> adorn(axis='both', ignore_row_index=True).fillna('')"
   ]
  },
  {
   "cell_type": "markdown",
   "metadata": {},
   "source": [
    "### Region => count() >> adorn() - ignore_row_index=True"
   ]
  },
  {
   "cell_type": "code",
   "execution_count": 7,
   "metadata": {
    "ExecuteTime": {
     "end_time": "2021-02-26T14:50:13.269910Z",
     "start_time": "2021-02-26T14:50:13.233229Z"
    }
   },
   "outputs": [
    {
     "data": {
      "text/html": [
       "<div>\n",
       "<style scoped>\n",
       "    .dataframe tbody tr th:only-of-type {\n",
       "        vertical-align: middle;\n",
       "    }\n",
       "\n",
       "    .dataframe tbody tr th {\n",
       "        vertical-align: top;\n",
       "    }\n",
       "\n",
       "    .dataframe thead th {\n",
       "        text-align: right;\n",
       "    }\n",
       "</style>\n",
       "<table border=\"1\" class=\"dataframe\">\n",
       "  <thead>\n",
       "    <tr style=\"text-align: right;\">\n",
       "      <th></th>\n",
       "      <th>Region</th>\n",
       "      <th>n</th>\n",
       "    </tr>\n",
       "  </thead>\n",
       "  <tbody>\n",
       "    <tr>\n",
       "      <th>0</th>\n",
       "      <td>East</td>\n",
       "      <td>411</td>\n",
       "    </tr>\n",
       "    <tr>\n",
       "      <th>1</th>\n",
       "      <td>North</td>\n",
       "      <td>316</td>\n",
       "    </tr>\n",
       "    <tr>\n",
       "      <th>2</th>\n",
       "      <td>South</td>\n",
       "      <td>137</td>\n",
       "    </tr>\n",
       "    <tr>\n",
       "      <th>3</th>\n",
       "      <td>West</td>\n",
       "      <td>136</td>\n",
       "    </tr>\n",
       "    <tr>\n",
       "      <th>4</th>\n",
       "      <td>All</td>\n",
       "      <td>1000</td>\n",
       "    </tr>\n",
       "  </tbody>\n",
       "</table>\n",
       "</div>"
      ],
      "text/plain": [
       "  Region     n\n",
       "0   East   411\n",
       "1  North   316\n",
       "2  South   137\n",
       "3   West   136\n",
       "4    All  1000"
      ]
     },
     "execution_count": 7,
     "metadata": {},
     "output_type": "execute_result"
    }
   ],
   "source": [
    "%%piper \n",
    "df >> count('Region', add_total=False) >> adorn(ignore_row_index=True)"
   ]
  },
  {
   "cell_type": "markdown",
   "metadata": {},
   "source": [
    "## Units (missing data)"
   ]
  },
  {
   "cell_type": "code",
   "execution_count": 8,
   "metadata": {
    "ExecuteTime": {
     "end_time": "2021-02-26T14:50:13.296886Z",
     "start_time": "2021-02-26T14:50:13.272905Z"
    }
   },
   "outputs": [
    {
     "name": "stderr",
     "output_type": "stream",
     "text": [
      "34 rows, 2 columns\n"
     ]
    },
    {
     "data": {
      "text/html": [
       "<div>\n",
       "<style scoped>\n",
       "    .dataframe tbody tr th:only-of-type {\n",
       "        vertical-align: middle;\n",
       "    }\n",
       "\n",
       "    .dataframe tbody tr th {\n",
       "        vertical-align: top;\n",
       "    }\n",
       "\n",
       "    .dataframe thead th {\n",
       "        text-align: right;\n",
       "    }\n",
       "</style>\n",
       "<table border=\"1\" class=\"dataframe\">\n",
       "  <thead>\n",
       "    <tr style=\"text-align: right;\">\n",
       "      <th></th>\n",
       "      <th>Units</th>\n",
       "      <th>n</th>\n",
       "    </tr>\n",
       "  </thead>\n",
       "  <tbody>\n",
       "    <tr>\n",
       "      <th>0</th>\n",
       "      <td>NaN</td>\n",
       "      <td>89</td>\n",
       "    </tr>\n",
       "    <tr>\n",
       "      <th>1</th>\n",
       "      <td>18.0</td>\n",
       "      <td>42</td>\n",
       "    </tr>\n",
       "    <tr>\n",
       "      <th>2</th>\n",
       "      <td>26.0</td>\n",
       "      <td>37</td>\n",
       "    </tr>\n",
       "    <tr>\n",
       "      <th>3</th>\n",
       "      <td>13.0</td>\n",
       "      <td>36</td>\n",
       "    </tr>\n",
       "    <tr>\n",
       "      <th>4</th>\n",
       "      <td>25.0</td>\n",
       "      <td>34</td>\n",
       "    </tr>\n",
       "  </tbody>\n",
       "</table>\n",
       "</div>"
      ],
      "text/plain": [
       "   Units   n\n",
       "0    NaN  89\n",
       "1   18.0  42\n",
       "2   26.0  37\n",
       "3   13.0  36\n",
       "4   25.0  34"
      ]
     },
     "execution_count": 8,
     "metadata": {},
     "output_type": "execute_result"
    }
   ],
   "source": [
    "%piper count(df, 'Units') >> head(5)"
   ]
  },
  {
   "cell_type": "code",
   "execution_count": 9,
   "metadata": {
    "ExecuteTime": {
     "end_time": "2021-02-26T14:50:13.321846Z",
     "start_time": "2021-02-26T14:50:13.298933Z"
    },
    "scrolled": true
   },
   "outputs": [
    {
     "name": "stderr",
     "output_type": "stream",
     "text": [
      "89 rows, 5 columns\n"
     ]
    },
    {
     "data": {
      "text/html": [
       "<div>\n",
       "<style scoped>\n",
       "    .dataframe tbody tr th:only-of-type {\n",
       "        vertical-align: middle;\n",
       "    }\n",
       "\n",
       "    .dataframe tbody tr th {\n",
       "        vertical-align: top;\n",
       "    }\n",
       "\n",
       "    .dataframe thead th {\n",
       "        text-align: right;\n",
       "    }\n",
       "</style>\n",
       "<table border=\"1\" class=\"dataframe\">\n",
       "  <thead>\n",
       "    <tr style=\"text-align: right;\">\n",
       "      <th></th>\n",
       "      <th>Date</th>\n",
       "      <th>Region</th>\n",
       "      <th>Type</th>\n",
       "      <th>Units</th>\n",
       "      <th>Sales</th>\n",
       "    </tr>\n",
       "  </thead>\n",
       "  <tbody>\n",
       "    <tr>\n",
       "      <th>11</th>\n",
       "      <td>2020-08-09</td>\n",
       "      <td>North</td>\n",
       "      <td>Men's Clothing</td>\n",
       "      <td>NaN</td>\n",
       "      <td>270</td>\n",
       "    </tr>\n",
       "    <tr>\n",
       "      <th>19</th>\n",
       "      <td>2020-03-08</td>\n",
       "      <td>North</td>\n",
       "      <td>Men's Clothing</td>\n",
       "      <td>NaN</td>\n",
       "      <td>644</td>\n",
       "    </tr>\n",
       "    <tr>\n",
       "      <th>25</th>\n",
       "      <td>2020-05-23</td>\n",
       "      <td>North</td>\n",
       "      <td>Men's Clothing</td>\n",
       "      <td>NaN</td>\n",
       "      <td>240</td>\n",
       "    </tr>\n",
       "    <tr>\n",
       "      <th>37</th>\n",
       "      <td>2020-04-24</td>\n",
       "      <td>North</td>\n",
       "      <td>Men's Clothing</td>\n",
       "      <td>NaN</td>\n",
       "      <td>900</td>\n",
       "    </tr>\n",
       "  </tbody>\n",
       "</table>\n",
       "</div>"
      ],
      "text/plain": [
       "         Date Region            Type  Units  Sales\n",
       "11 2020-08-09  North  Men's Clothing    NaN    270\n",
       "19 2020-03-08  North  Men's Clothing    NaN    644\n",
       "25 2020-05-23  North  Men's Clothing    NaN    240\n",
       "37 2020-04-24  North  Men's Clothing    NaN    900"
      ]
     },
     "execution_count": 9,
     "metadata": {},
     "output_type": "execute_result"
    }
   ],
   "source": [
    "%piper df.query('Units.isna()') >> head(4)"
   ]
  },
  {
   "cell_type": "markdown",
   "metadata": {},
   "source": [
    "### Units --> fillna to ensure pandas aggregation functions work correctly"
   ]
  },
  {
   "cell_type": "code",
   "execution_count": 10,
   "metadata": {
    "ExecuteTime": {
     "end_time": "2021-02-26T14:50:13.326892Z",
     "start_time": "2021-02-26T14:50:13.323613Z"
    }
   },
   "outputs": [],
   "source": [
    "df.Units.fillna(0, inplace=True)"
   ]
  },
  {
   "cell_type": "markdown",
   "metadata": {},
   "source": [
    "## Region (summary/groupby) with totals"
   ]
  },
  {
   "cell_type": "markdown",
   "metadata": {},
   "source": [
    "### Region => groupby() >> adorn() - ignore_row_index=True"
   ]
  },
  {
   "cell_type": "code",
   "execution_count": 11,
   "metadata": {
    "ExecuteTime": {
     "end_time": "2021-02-26T14:50:13.372392Z",
     "start_time": "2021-02-26T14:50:13.328731Z"
    }
   },
   "outputs": [
    {
     "data": {
      "text/html": [
       "<div>\n",
       "<style scoped>\n",
       "    .dataframe tbody tr th:only-of-type {\n",
       "        vertical-align: middle;\n",
       "    }\n",
       "\n",
       "    .dataframe tbody tr th {\n",
       "        vertical-align: top;\n",
       "    }\n",
       "\n",
       "    .dataframe thead th {\n",
       "        text-align: right;\n",
       "    }\n",
       "</style>\n",
       "<table border=\"1\" class=\"dataframe\">\n",
       "  <thead>\n",
       "    <tr style=\"text-align: right;\">\n",
       "      <th></th>\n",
       "      <th>Region</th>\n",
       "      <th>TotalSales</th>\n",
       "    </tr>\n",
       "  </thead>\n",
       "  <tbody>\n",
       "    <tr>\n",
       "      <th>0</th>\n",
       "      <td>North</td>\n",
       "      <td>138700</td>\n",
       "    </tr>\n",
       "    <tr>\n",
       "      <th>1</th>\n",
       "      <td>South</td>\n",
       "      <td>59315</td>\n",
       "    </tr>\n",
       "    <tr>\n",
       "      <th>2</th>\n",
       "      <td>East</td>\n",
       "      <td>167763</td>\n",
       "    </tr>\n",
       "    <tr>\n",
       "      <th>3</th>\n",
       "      <td>West</td>\n",
       "      <td>61476</td>\n",
       "    </tr>\n",
       "    <tr>\n",
       "      <th>4</th>\n",
       "      <td>All</td>\n",
       "      <td>427254</td>\n",
       "    </tr>\n",
       "  </tbody>\n",
       "</table>\n",
       "</div>"
      ],
      "text/plain": [
       "  Region  TotalSales\n",
       "0  North      138700\n",
       "1  South       59315\n",
       "2   East      167763\n",
       "3   West       61476\n",
       "4    All      427254"
      ]
     },
     "execution_count": 11,
     "metadata": {},
     "output_type": "execute_result"
    }
   ],
   "source": [
    "%%piper \n",
    "df.groupby(['Region']).agg(TotalSales=('Sales', 'sum'))\n",
    ">> pd.DataFrame.reset_index()\n",
    ">> adorn(ignore_row_index=True)"
   ]
  },
  {
   "cell_type": "markdown",
   "metadata": {},
   "source": [
    "### Region/Type => groupby() >> adorn() - ignore_row_index=False"
   ]
  },
  {
   "cell_type": "code",
   "execution_count": 12,
   "metadata": {
    "ExecuteTime": {
     "end_time": "2021-02-26T14:50:13.437931Z",
     "start_time": "2021-02-26T14:50:13.377503Z"
    }
   },
   "outputs": [
    {
     "name": "stderr",
     "output_type": "stream",
     "text": [
      "13 rows, 2 columns\n"
     ]
    },
    {
     "data": {
      "text/html": [
       "<div>\n",
       "<style scoped>\n",
       "    .dataframe tbody tr th:only-of-type {\n",
       "        vertical-align: middle;\n",
       "    }\n",
       "\n",
       "    .dataframe tbody tr th {\n",
       "        vertical-align: top;\n",
       "    }\n",
       "\n",
       "    .dataframe thead th {\n",
       "        text-align: right;\n",
       "    }\n",
       "</style>\n",
       "<table border=\"1\" class=\"dataframe\">\n",
       "  <thead>\n",
       "    <tr style=\"text-align: right;\">\n",
       "      <th></th>\n",
       "      <th></th>\n",
       "      <th>TotalSales</th>\n",
       "      <th>All</th>\n",
       "    </tr>\n",
       "    <tr>\n",
       "      <th>Region</th>\n",
       "      <th>Type</th>\n",
       "      <th></th>\n",
       "      <th></th>\n",
       "    </tr>\n",
       "  </thead>\n",
       "  <tbody>\n",
       "    <tr>\n",
       "      <th rowspan=\"3\" valign=\"top\">North</th>\n",
       "      <th>Children's Clothing</th>\n",
       "      <td>37306</td>\n",
       "      <td>37306</td>\n",
       "    </tr>\n",
       "    <tr>\n",
       "      <th>Men's Clothing</th>\n",
       "      <td>39975</td>\n",
       "      <td>39975</td>\n",
       "    </tr>\n",
       "    <tr>\n",
       "      <th>Women's Clothing</th>\n",
       "      <td>61419</td>\n",
       "      <td>61419</td>\n",
       "    </tr>\n",
       "    <tr>\n",
       "      <th rowspan=\"3\" valign=\"top\">South</th>\n",
       "      <th>Children's Clothing</th>\n",
       "      <td>18570</td>\n",
       "      <td>18570</td>\n",
       "    </tr>\n",
       "    <tr>\n",
       "      <th>Men's Clothing</th>\n",
       "      <td>18542</td>\n",
       "      <td>18542</td>\n",
       "    </tr>\n",
       "    <tr>\n",
       "      <th>Women's Clothing</th>\n",
       "      <td>22203</td>\n",
       "      <td>22203</td>\n",
       "    </tr>\n",
       "    <tr>\n",
       "      <th rowspan=\"3\" valign=\"top\">East</th>\n",
       "      <th>Children's Clothing</th>\n",
       "      <td>45849</td>\n",
       "      <td>45849</td>\n",
       "    </tr>\n",
       "    <tr>\n",
       "      <th>Men's Clothing</th>\n",
       "      <td>51685</td>\n",
       "      <td>51685</td>\n",
       "    </tr>\n",
       "    <tr>\n",
       "      <th>Women's Clothing</th>\n",
       "      <td>70229</td>\n",
       "      <td>70229</td>\n",
       "    </tr>\n",
       "    <tr>\n",
       "      <th rowspan=\"3\" valign=\"top\">West</th>\n",
       "      <th>Children's Clothing</th>\n",
       "      <td>20182</td>\n",
       "      <td>20182</td>\n",
       "    </tr>\n",
       "    <tr>\n",
       "      <th>Men's Clothing</th>\n",
       "      <td>19077</td>\n",
       "      <td>19077</td>\n",
       "    </tr>\n",
       "    <tr>\n",
       "      <th>Women's Clothing</th>\n",
       "      <td>22217</td>\n",
       "      <td>22217</td>\n",
       "    </tr>\n",
       "    <tr>\n",
       "      <th></th>\n",
       "      <th>All</th>\n",
       "      <td>427254</td>\n",
       "      <td>427254</td>\n",
       "    </tr>\n",
       "  </tbody>\n",
       "</table>\n",
       "</div>"
      ],
      "text/plain": [
       "                            TotalSales     All\n",
       "Region Type                                   \n",
       "North  Children's Clothing       37306   37306\n",
       "       Men's Clothing            39975   39975\n",
       "       Women's Clothing          61419   61419\n",
       "South  Children's Clothing       18570   18570\n",
       "       Men's Clothing            18542   18542\n",
       "       Women's Clothing          22203   22203\n",
       "East   Children's Clothing       45849   45849\n",
       "       Men's Clothing            51685   51685\n",
       "       Women's Clothing          70229   70229\n",
       "West   Children's Clothing       20182   20182\n",
       "       Men's Clothing            19077   19077\n",
       "       Women's Clothing          22217   22217\n",
       "       All                      427254  427254"
      ]
     },
     "execution_count": 12,
     "metadata": {},
     "output_type": "execute_result"
    }
   ],
   "source": [
    "g1 = df.groupby(['Region', 'Type']).agg(TotalSales=('Sales', 'sum'))\n",
    "g1 = adorn(g1, axis='both').astype(int)\n",
    "head(g1, g1.shape[0])"
   ]
  },
  {
   "cell_type": "code",
   "execution_count": 13,
   "metadata": {
    "ExecuteTime": {
     "end_time": "2021-02-26T14:50:13.502635Z",
     "start_time": "2021-02-26T14:50:13.441096Z"
    },
    "scrolled": true
   },
   "outputs": [
    {
     "name": "stderr",
     "output_type": "stream",
     "text": [
      "4 rows, 8 columns\n"
     ]
    },
    {
     "data": {
      "text/html": [
       "<div>\n",
       "<style scoped>\n",
       "    .dataframe tbody tr th:only-of-type {\n",
       "        vertical-align: middle;\n",
       "    }\n",
       "\n",
       "    .dataframe tbody tr th {\n",
       "        vertical-align: top;\n",
       "    }\n",
       "\n",
       "    .dataframe thead th {\n",
       "        text-align: right;\n",
       "    }\n",
       "</style>\n",
       "<table border=\"1\" class=\"dataframe\">\n",
       "  <thead>\n",
       "    <tr style=\"text-align: right;\">\n",
       "      <th></th>\n",
       "      <th>North</th>\n",
       "      <th>South</th>\n",
       "      <th>East</th>\n",
       "      <th>West</th>\n",
       "      <th>All</th>\n",
       "      <th>total_north_south</th>\n",
       "      <th>total_east_west</th>\n",
       "      <th>Total</th>\n",
       "    </tr>\n",
       "  </thead>\n",
       "  <tbody>\n",
       "    <tr>\n",
       "      <th>Children's Clothing</th>\n",
       "      <td>37306</td>\n",
       "      <td>18570</td>\n",
       "      <td>45849</td>\n",
       "      <td>20182</td>\n",
       "      <td>121907</td>\n",
       "      <td>55876</td>\n",
       "      <td>66031</td>\n",
       "      <td>121907</td>\n",
       "    </tr>\n",
       "    <tr>\n",
       "      <th>Men's Clothing</th>\n",
       "      <td>39975</td>\n",
       "      <td>18542</td>\n",
       "      <td>51685</td>\n",
       "      <td>19077</td>\n",
       "      <td>129279</td>\n",
       "      <td>58517</td>\n",
       "      <td>70762</td>\n",
       "      <td>129279</td>\n",
       "    </tr>\n",
       "    <tr>\n",
       "      <th>Women's Clothing</th>\n",
       "      <td>61419</td>\n",
       "      <td>22203</td>\n",
       "      <td>70229</td>\n",
       "      <td>22217</td>\n",
       "      <td>176068</td>\n",
       "      <td>83622</td>\n",
       "      <td>92446</td>\n",
       "      <td>176068</td>\n",
       "    </tr>\n",
       "    <tr>\n",
       "      <th>All</th>\n",
       "      <td>138700</td>\n",
       "      <td>59315</td>\n",
       "      <td>167763</td>\n",
       "      <td>61476</td>\n",
       "      <td>427254</td>\n",
       "      <td>198015</td>\n",
       "      <td>229239</td>\n",
       "      <td>427254</td>\n",
       "    </tr>\n",
       "  </tbody>\n",
       "</table>\n",
       "</div>"
      ],
      "text/plain": [
       "                      North  South    East   West     All  total_north_south  \\\n",
       "Children's Clothing   37306  18570   45849  20182  121907              55876   \n",
       "Men's Clothing        39975  18542   51685  19077  129279              58517   \n",
       "Women's Clothing      61419  22203   70229  22217  176068              83622   \n",
       "All                  138700  59315  167763  61476  427254             198015   \n",
       "\n",
       "                     total_east_west   Total  \n",
       "Children's Clothing            66031  121907  \n",
       "Men's Clothing                 70762  129279  \n",
       "Women's Clothing               92446  176068  \n",
       "All                           229239  427254  "
      ]
     },
     "execution_count": 13,
     "metadata": {},
     "output_type": "execute_result"
    }
   ],
   "source": [
    "%%piper \n",
    "df.groupby(['Type', 'Region']).agg(TotalSales=('Sales', 'sum')).unstack()\n",
    ">> adorn(axis='both', ignore_row_index=False)\n",
    ">> flatten_cols(remove_prefix='TotalSales')\n",
    ">> adorn(axis='column', col_row_name='total_north_south', \n",
    "         columns=['North', 'South'], ignore_row_index=False)\n",
    ">> adorn(axis='column', col_row_name='total_east_west', \n",
    "         columns=['East', 'West'], ignore_row_index=False)\n",
    ">> adorn(axis='column', col_row_name='Total', \n",
    "         columns=['total_north_south', 'total_east_west'], ignore_row_index=False)\n",
    ">> head(4)"
   ]
  },
  {
   "cell_type": "markdown",
   "metadata": {},
   "source": [
    "### Region/Type => groupby() >> adorn() >> flatten_cols()"
   ]
  },
  {
   "cell_type": "code",
   "execution_count": 14,
   "metadata": {
    "ExecuteTime": {
     "end_time": "2021-02-26T14:50:13.555362Z",
     "start_time": "2021-02-26T14:50:13.505010Z"
    }
   },
   "outputs": [
    {
     "name": "stderr",
     "output_type": "stream",
     "text": [
      "4 rows, 5 columns\n"
     ]
    },
    {
     "data": {
      "text/html": [
       "<div>\n",
       "<style scoped>\n",
       "    .dataframe tbody tr th:only-of-type {\n",
       "        vertical-align: middle;\n",
       "    }\n",
       "\n",
       "    .dataframe tbody tr th {\n",
       "        vertical-align: top;\n",
       "    }\n",
       "\n",
       "    .dataframe thead th {\n",
       "        text-align: right;\n",
       "    }\n",
       "</style>\n",
       "<table border=\"1\" class=\"dataframe\">\n",
       "  <thead>\n",
       "    <tr style=\"text-align: right;\">\n",
       "      <th></th>\n",
       "      <th>North</th>\n",
       "      <th>South</th>\n",
       "      <th>East</th>\n",
       "      <th>West</th>\n",
       "      <th>All</th>\n",
       "    </tr>\n",
       "  </thead>\n",
       "  <tbody>\n",
       "    <tr>\n",
       "      <th>Children's Clothing</th>\n",
       "      <td>85</td>\n",
       "      <td>45</td>\n",
       "      <td>113</td>\n",
       "      <td>42</td>\n",
       "      <td>285</td>\n",
       "    </tr>\n",
       "    <tr>\n",
       "      <th>Men's Clothing</th>\n",
       "      <td>89</td>\n",
       "      <td>39</td>\n",
       "      <td>122</td>\n",
       "      <td>41</td>\n",
       "      <td>291</td>\n",
       "    </tr>\n",
       "    <tr>\n",
       "      <th>Women's Clothing</th>\n",
       "      <td>142</td>\n",
       "      <td>53</td>\n",
       "      <td>176</td>\n",
       "      <td>53</td>\n",
       "      <td>424</td>\n",
       "    </tr>\n",
       "    <tr>\n",
       "      <th>All</th>\n",
       "      <td>316</td>\n",
       "      <td>137</td>\n",
       "      <td>411</td>\n",
       "      <td>136</td>\n",
       "      <td>1000</td>\n",
       "    </tr>\n",
       "  </tbody>\n",
       "</table>\n",
       "</div>"
      ],
      "text/plain": [
       "                     North  South  East  West   All\n",
       "Children's Clothing     85     45   113    42   285\n",
       "Men's Clothing          89     39   122    41   291\n",
       "Women's Clothing       142     53   176    53   424\n",
       "All                    316    137   411   136  1000"
      ]
     },
     "execution_count": 14,
     "metadata": {},
     "output_type": "execute_result"
    }
   ],
   "source": [
    "%%piper \n",
    "df.groupby(['Type', 'Region']).agg(TotalUnits=('Units', 'count')).unstack()\n",
    ">> adorn(axis='both', ignore_row_index=False).astype(int)\n",
    ">> flatten_cols(remove_prefix='TotalUnits')\n",
    ">> head(4)"
   ]
  },
  {
   "cell_type": "code",
   "execution_count": 15,
   "metadata": {
    "ExecuteTime": {
     "end_time": "2021-02-26T14:50:13.620723Z",
     "start_time": "2021-02-26T14:50:13.557549Z"
    }
   },
   "outputs": [
    {
     "data": {
      "text/html": [
       "<div>\n",
       "<style scoped>\n",
       "    .dataframe tbody tr th:only-of-type {\n",
       "        vertical-align: middle;\n",
       "    }\n",
       "\n",
       "    .dataframe tbody tr th {\n",
       "        vertical-align: top;\n",
       "    }\n",
       "\n",
       "    .dataframe thead th {\n",
       "        text-align: right;\n",
       "    }\n",
       "</style>\n",
       "<table border=\"1\" class=\"dataframe\">\n",
       "  <thead>\n",
       "    <tr style=\"text-align: right;\">\n",
       "      <th></th>\n",
       "      <th></th>\n",
       "      <th>TotalUnits</th>\n",
       "      <th>rank</th>\n",
       "    </tr>\n",
       "    <tr>\n",
       "      <th>Type</th>\n",
       "      <th>Region</th>\n",
       "      <th></th>\n",
       "      <th></th>\n",
       "    </tr>\n",
       "  </thead>\n",
       "  <tbody>\n",
       "    <tr>\n",
       "      <th rowspan=\"4\" valign=\"top\">Children's Clothing</th>\n",
       "      <th>East</th>\n",
       "      <td>113</td>\n",
       "      <td>1</td>\n",
       "    </tr>\n",
       "    <tr>\n",
       "      <th>North</th>\n",
       "      <td>85</td>\n",
       "      <td>2</td>\n",
       "    </tr>\n",
       "    <tr>\n",
       "      <th>South</th>\n",
       "      <td>45</td>\n",
       "      <td>3</td>\n",
       "    </tr>\n",
       "    <tr>\n",
       "      <th>West</th>\n",
       "      <td>42</td>\n",
       "      <td>4</td>\n",
       "    </tr>\n",
       "    <tr>\n",
       "      <th rowspan=\"4\" valign=\"top\">Men's Clothing</th>\n",
       "      <th>East</th>\n",
       "      <td>122</td>\n",
       "      <td>1</td>\n",
       "    </tr>\n",
       "    <tr>\n",
       "      <th>North</th>\n",
       "      <td>89</td>\n",
       "      <td>2</td>\n",
       "    </tr>\n",
       "    <tr>\n",
       "      <th>West</th>\n",
       "      <td>41</td>\n",
       "      <td>3</td>\n",
       "    </tr>\n",
       "    <tr>\n",
       "      <th>South</th>\n",
       "      <td>39</td>\n",
       "      <td>4</td>\n",
       "    </tr>\n",
       "    <tr>\n",
       "      <th rowspan=\"4\" valign=\"top\">Women's Clothing</th>\n",
       "      <th>East</th>\n",
       "      <td>176</td>\n",
       "      <td>1</td>\n",
       "    </tr>\n",
       "    <tr>\n",
       "      <th>North</th>\n",
       "      <td>142</td>\n",
       "      <td>2</td>\n",
       "    </tr>\n",
       "    <tr>\n",
       "      <th>South</th>\n",
       "      <td>53</td>\n",
       "      <td>3</td>\n",
       "    </tr>\n",
       "    <tr>\n",
       "      <th>West</th>\n",
       "      <td>53</td>\n",
       "      <td>3</td>\n",
       "    </tr>\n",
       "  </tbody>\n",
       "</table>\n",
       "</div>"
      ],
      "text/plain": [
       "                            TotalUnits  rank\n",
       "Type                Region                  \n",
       "Children's Clothing East           113     1\n",
       "                    North           85     2\n",
       "                    South           45     3\n",
       "                    West            42     4\n",
       "Men's Clothing      East           122     1\n",
       "                    North           89     2\n",
       "                    West            41     3\n",
       "                    South           39     4\n",
       "Women's Clothing    East           176     1\n",
       "                    North          142     2\n",
       "                    South           53     3\n",
       "                    West            53     3"
      ]
     },
     "execution_count": 15,
     "metadata": {},
     "output_type": "execute_result"
    }
   ],
   "source": [
    "%%piper \n",
    "df.groupby(['Type', 'Region']).agg(TotalUnits=('Units', 'count'))\n",
    ">> add_group_calc(index=['Type'], function='rank')\n",
    ">> assign(rank=lambda x: x['rank'].astype(int))\n",
    ">> order_by(['Type', 'rank'], ascending=[True, True])\n",
    "# >> adorn(axis='row', columns='TotalUnits', ignore_row_index=False)"
   ]
  },
  {
   "cell_type": "code",
   "execution_count": 16,
   "metadata": {
    "ExecuteTime": {
     "end_time": "2021-02-26T14:50:13.693183Z",
     "start_time": "2021-02-26T14:50:13.622537Z"
    }
   },
   "outputs": [
    {
     "data": {
      "text/html": [
       "<div>\n",
       "<style scoped>\n",
       "    .dataframe tbody tr th:only-of-type {\n",
       "        vertical-align: middle;\n",
       "    }\n",
       "\n",
       "    .dataframe tbody tr th {\n",
       "        vertical-align: top;\n",
       "    }\n",
       "\n",
       "    .dataframe thead th {\n",
       "        text-align: right;\n",
       "    }\n",
       "</style>\n",
       "<table border=\"1\" class=\"dataframe\">\n",
       "  <thead>\n",
       "    <tr style=\"text-align: right;\">\n",
       "      <th></th>\n",
       "      <th>Type</th>\n",
       "      <th>Region</th>\n",
       "      <th>TotalUnits</th>\n",
       "      <th>calc_field</th>\n",
       "      <th>rank</th>\n",
       "    </tr>\n",
       "  </thead>\n",
       "  <tbody>\n",
       "    <tr>\n",
       "      <th>0</th>\n",
       "      <td>Children's Clothing</td>\n",
       "      <td>East</td>\n",
       "      <td>113</td>\n",
       "      <td>11300</td>\n",
       "      <td>1.0</td>\n",
       "    </tr>\n",
       "    <tr>\n",
       "      <th>1</th>\n",
       "      <td>Children's Clothing</td>\n",
       "      <td>North</td>\n",
       "      <td>85</td>\n",
       "      <td>8500</td>\n",
       "      <td>2.0</td>\n",
       "    </tr>\n",
       "    <tr>\n",
       "      <th>2</th>\n",
       "      <td>Men's Clothing</td>\n",
       "      <td>East</td>\n",
       "      <td>122</td>\n",
       "      <td>12200</td>\n",
       "      <td>1.0</td>\n",
       "    </tr>\n",
       "    <tr>\n",
       "      <th>3</th>\n",
       "      <td>Men's Clothing</td>\n",
       "      <td>North</td>\n",
       "      <td>89</td>\n",
       "      <td>8900</td>\n",
       "      <td>2.0</td>\n",
       "    </tr>\n",
       "    <tr>\n",
       "      <th>4</th>\n",
       "      <td>Women's Clothing</td>\n",
       "      <td>East</td>\n",
       "      <td>176</td>\n",
       "      <td>17600</td>\n",
       "      <td>1.0</td>\n",
       "    </tr>\n",
       "    <tr>\n",
       "      <th>5</th>\n",
       "      <td>Women's Clothing</td>\n",
       "      <td>North</td>\n",
       "      <td>142</td>\n",
       "      <td>14200</td>\n",
       "      <td>2.0</td>\n",
       "    </tr>\n",
       "    <tr>\n",
       "      <th>6</th>\n",
       "      <td></td>\n",
       "      <td>All</td>\n",
       "      <td>727</td>\n",
       "      <td>72700</td>\n",
       "      <td>NaN</td>\n",
       "    </tr>\n",
       "  </tbody>\n",
       "</table>\n",
       "</div>"
      ],
      "text/plain": [
       "                  Type Region  TotalUnits  calc_field  rank\n",
       "0  Children's Clothing   East         113       11300   1.0\n",
       "1  Children's Clothing  North          85        8500   2.0\n",
       "2       Men's Clothing   East         122       12200   1.0\n",
       "3       Men's Clothing  North          89        8900   2.0\n",
       "4     Women's Clothing   East         176       17600   1.0\n",
       "5     Women's Clothing  North         142       14200   2.0\n",
       "6                         All         727       72700   NaN"
      ]
     },
     "execution_count": 16,
     "metadata": {},
     "output_type": "execute_result"
    }
   ],
   "source": [
    "%%piper \n",
    "df.groupby(['Type', 'Region']).agg(TotalUnits=('Units', 'count'))\n",
    ">> where(\"Region.isin(['East', 'North'])\")\n",
    ">> assign(calc_field=lambda x: x.TotalUnits * 100)\n",
    ">> add_group_calc(index=['Type'], column='rank', value='TotalUnits', function='rank')\n",
    ">> assign(rank=lambda x: x['rank'].astype(int))\n",
    ">> order_by(['Type', 'rank'], ascending=[True, True])\n",
    ">> adorn(axis='row', columns=['TotalUnits', 'calc_field'], ignore_row_index=False)\n",
    ">> pd.DataFrame.reset_index()"
   ]
  },
  {
   "cell_type": "markdown",
   "metadata": {},
   "source": [
    "### Region/Type => pivot_table()"
   ]
  },
  {
   "cell_type": "code",
   "execution_count": 17,
   "metadata": {
    "ExecuteTime": {
     "end_time": "2021-02-26T14:50:13.775723Z",
     "start_time": "2021-02-26T14:50:13.698362Z"
    }
   },
   "outputs": [
    {
     "data": {
      "text/html": [
       "<div>\n",
       "<style scoped>\n",
       "    .dataframe tbody tr th:only-of-type {\n",
       "        vertical-align: middle;\n",
       "    }\n",
       "\n",
       "    .dataframe tbody tr th {\n",
       "        vertical-align: top;\n",
       "    }\n",
       "\n",
       "    .dataframe thead th {\n",
       "        text-align: right;\n",
       "    }\n",
       "</style>\n",
       "<table border=\"1\" class=\"dataframe\">\n",
       "  <thead>\n",
       "    <tr style=\"text-align: right;\">\n",
       "      <th>Region</th>\n",
       "      <th>North</th>\n",
       "      <th>South</th>\n",
       "      <th>East</th>\n",
       "      <th>West</th>\n",
       "      <th>All</th>\n",
       "    </tr>\n",
       "    <tr>\n",
       "      <th>Type</th>\n",
       "      <th></th>\n",
       "      <th></th>\n",
       "      <th></th>\n",
       "      <th></th>\n",
       "      <th></th>\n",
       "    </tr>\n",
       "  </thead>\n",
       "  <tbody>\n",
       "    <tr>\n",
       "      <th>Children's Clothing</th>\n",
       "      <td>85</td>\n",
       "      <td>45</td>\n",
       "      <td>113</td>\n",
       "      <td>42</td>\n",
       "      <td>285</td>\n",
       "    </tr>\n",
       "    <tr>\n",
       "      <th>Men's Clothing</th>\n",
       "      <td>89</td>\n",
       "      <td>39</td>\n",
       "      <td>122</td>\n",
       "      <td>41</td>\n",
       "      <td>291</td>\n",
       "    </tr>\n",
       "    <tr>\n",
       "      <th>Women's Clothing</th>\n",
       "      <td>142</td>\n",
       "      <td>53</td>\n",
       "      <td>176</td>\n",
       "      <td>53</td>\n",
       "      <td>424</td>\n",
       "    </tr>\n",
       "    <tr>\n",
       "      <th>All</th>\n",
       "      <td>316</td>\n",
       "      <td>137</td>\n",
       "      <td>411</td>\n",
       "      <td>136</td>\n",
       "      <td>1000</td>\n",
       "    </tr>\n",
       "  </tbody>\n",
       "</table>\n",
       "</div>"
      ],
      "text/plain": [
       "Region               North  South  East  West   All\n",
       "Type                                               \n",
       "Children's Clothing     85     45   113    42   285\n",
       "Men's Clothing          89     39   122    41   291\n",
       "Women's Clothing       142     53   176    53   424\n",
       "All                    316    137   411   136  1000"
      ]
     },
     "execution_count": 17,
     "metadata": {},
     "output_type": "execute_result"
    }
   ],
   "source": [
    "%%piper\n",
    "\n",
    "df.pivot_table(index='Type',\n",
    "               columns='Region',\n",
    "               values='Date', \n",
    "               margins=True,\n",
    "               aggfunc='count')\n",
    "# >> adorn()"
   ]
  },
  {
   "cell_type": "code",
   "execution_count": null,
   "metadata": {},
   "outputs": [],
   "source": []
  },
  {
   "cell_type": "code",
   "execution_count": null,
   "metadata": {},
   "outputs": [],
   "source": []
  },
  {
   "cell_type": "code",
   "execution_count": null,
   "metadata": {},
   "outputs": [],
   "source": []
  },
  {
   "cell_type": "code",
   "execution_count": null,
   "metadata": {},
   "outputs": [],
   "source": []
  },
  {
   "cell_type": "code",
   "execution_count": null,
   "metadata": {},
   "outputs": [],
   "source": []
  }
 ],
 "metadata": {
  "kernelspec": {
   "display_name": "Python 3",
   "language": "python",
   "name": "python3"
  },
  "language_info": {
   "codemirror_mode": {
    "name": "ipython",
    "version": 3
   },
   "file_extension": ".py",
   "mimetype": "text/x-python",
   "name": "python",
   "nbconvert_exporter": "python",
   "pygments_lexer": "ipython3",
   "version": "3.8.5"
  },
  "toc": {
   "base_numbering": 1,
   "nav_menu": {},
   "number_sections": true,
   "sideBar": true,
   "skip_h1_title": false,
   "title_cell": "Table of Contents",
   "title_sidebar": "Contents",
   "toc_cell": false,
   "toc_position": {
    "height": "calc(100% - 180px)",
    "left": "10px",
    "top": "150px",
    "width": "256px"
   },
   "toc_section_display": true,
   "toc_window_display": true
  }
 },
 "nbformat": 4,
 "nbformat_minor": 4
}
