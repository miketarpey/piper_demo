{
 "cells": [
  {
   "cell_type": "markdown",
   "metadata": {},
   "source": [
    "# Reference"
   ]
  },
  {
   "cell_type": "markdown",
   "metadata": {
    "ExecuteTime": {
     "end_time": "2021-02-11T10:29:21.768347Z",
     "start_time": "2021-02-11T10:29:21.759957Z"
    }
   },
   "source": [
    "https://youtu.be/PGlBfr5SeEA"
   ]
  },
  {
   "cell_type": "markdown",
   "metadata": {},
   "source": [
    "# Running totals: Excel"
   ]
  },
  {
   "cell_type": "code",
   "execution_count": 1,
   "metadata": {
    "ExecuteTime": {
     "end_time": "2021-03-02T09:46:40.712992Z",
     "start_time": "2021-03-02T09:46:40.049122Z"
    }
   },
   "outputs": [
    {
     "name": "stderr",
     "output_type": "stream",
     "text": [
      "piper version 0.0.8, last run: Tuesday, 02 March 2021 09:46:40\n",
      "1000 rows, 7 columns\n"
     ]
    },
    {
     "data": {
      "text/html": [
       "<div>\n",
       "<style scoped>\n",
       "    .dataframe tbody tr th:only-of-type {\n",
       "        vertical-align: middle;\n",
       "    }\n",
       "\n",
       "    .dataframe tbody tr th {\n",
       "        vertical-align: top;\n",
       "    }\n",
       "\n",
       "    .dataframe thead th {\n",
       "        text-align: right;\n",
       "    }\n",
       "</style>\n",
       "<table border=\"1\" class=\"dataframe\">\n",
       "  <thead>\n",
       "    <tr style=\"text-align: right;\">\n",
       "      <th></th>\n",
       "      <th>Trans ID</th>\n",
       "      <th>Date Created</th>\n",
       "      <th>Customer Name</th>\n",
       "      <th>Region</th>\n",
       "      <th>Amount</th>\n",
       "      <th>Running Total</th>\n",
       "      <th>Running Total by Region</th>\n",
       "    </tr>\n",
       "  </thead>\n",
       "  <tbody>\n",
       "    <tr>\n",
       "      <th>0</th>\n",
       "      <td>1</td>\n",
       "      <td>1/10/2018</td>\n",
       "      <td>Wordware</td>\n",
       "      <td>East</td>\n",
       "      <td>100</td>\n",
       "      <td>100</td>\n",
       "      <td>100</td>\n",
       "    </tr>\n",
       "    <tr>\n",
       "      <th>1</th>\n",
       "      <td>2</td>\n",
       "      <td>1/11/2018</td>\n",
       "      <td>Thoughtmix</td>\n",
       "      <td>North</td>\n",
       "      <td>80</td>\n",
       "      <td>180</td>\n",
       "      <td>80</td>\n",
       "    </tr>\n",
       "    <tr>\n",
       "      <th>2</th>\n",
       "      <td>3</td>\n",
       "      <td>1/11/2018</td>\n",
       "      <td>JumpXS</td>\n",
       "      <td>East</td>\n",
       "      <td>10</td>\n",
       "      <td>190</td>\n",
       "      <td>110</td>\n",
       "    </tr>\n",
       "    <tr>\n",
       "      <th>3</th>\n",
       "      <td>4</td>\n",
       "      <td>1/11/2018</td>\n",
       "      <td>Teklist</td>\n",
       "      <td>West</td>\n",
       "      <td>70</td>\n",
       "      <td>260</td>\n",
       "      <td>70</td>\n",
       "    </tr>\n",
       "  </tbody>\n",
       "</table>\n",
       "</div>"
      ],
      "text/plain": [
       "   Trans ID Date Created Customer Name Region  Amount  Running Total  \\\n",
       "0         1    1/10/2018      Wordware   East     100            100   \n",
       "1         2    1/11/2018    Thoughtmix  North      80            180   \n",
       "2         3    1/11/2018        JumpXS   East      10            190   \n",
       "3         4    1/11/2018       Teklist   West      70            260   \n",
       "\n",
       "   Running Total by Region  \n",
       "0                      100  \n",
       "1                       80  \n",
       "2                      110  \n",
       "3                       70  "
      ]
     },
     "execution_count": 1,
     "metadata": {},
     "output_type": "execute_result"
    }
   ],
   "source": [
    "from piper import piper\n",
    "from piper.verbs import *\n",
    "\n",
    "xl = 'inputs/Running-Totals-in-Excel-Tables-3-Methods.xlsx'\n",
    "df = pd.read_excel(xl, sheet_name='Method 1')\n",
    "head(df)"
   ]
  },
  {
   "cell_type": "markdown",
   "metadata": {
    "ExecuteTime": {
     "end_time": "2021-02-11T10:37:32.352599Z",
     "start_time": "2021-02-11T10:37:32.340134Z"
    }
   },
   "source": [
    "# Running totals: Pandas\n",
    "Create a running total and running regional total"
   ]
  },
  {
   "cell_type": "code",
   "execution_count": 2,
   "metadata": {
    "ExecuteTime": {
     "end_time": "2021-03-02T09:46:40.912241Z",
     "start_time": "2021-03-02T09:46:40.714714Z"
    }
   },
   "outputs": [
    {
     "name": "stderr",
     "output_type": "stream",
     "text": [
      "1000 rows, 5 columns\n"
     ]
    },
    {
     "data": {
      "text/html": [
       "<div>\n",
       "<style scoped>\n",
       "    .dataframe tbody tr th:only-of-type {\n",
       "        vertical-align: middle;\n",
       "    }\n",
       "\n",
       "    .dataframe tbody tr th {\n",
       "        vertical-align: top;\n",
       "    }\n",
       "\n",
       "    .dataframe thead th {\n",
       "        text-align: right;\n",
       "    }\n",
       "</style>\n",
       "<table border=\"1\" class=\"dataframe\">\n",
       "  <thead>\n",
       "    <tr style=\"text-align: right;\">\n",
       "      <th></th>\n",
       "      <th>Trans ID</th>\n",
       "      <th>Date Created</th>\n",
       "      <th>Customer Name</th>\n",
       "      <th>Region</th>\n",
       "      <th>Amount</th>\n",
       "    </tr>\n",
       "  </thead>\n",
       "  <tbody>\n",
       "    <tr>\n",
       "      <th>0</th>\n",
       "      <td>1</td>\n",
       "      <td>1/10/2018</td>\n",
       "      <td>Wordware</td>\n",
       "      <td>East</td>\n",
       "      <td>100</td>\n",
       "    </tr>\n",
       "    <tr>\n",
       "      <th>1</th>\n",
       "      <td>2</td>\n",
       "      <td>1/11/2018</td>\n",
       "      <td>Thoughtmix</td>\n",
       "      <td>North</td>\n",
       "      <td>80</td>\n",
       "    </tr>\n",
       "    <tr>\n",
       "      <th>2</th>\n",
       "      <td>3</td>\n",
       "      <td>1/11/2018</td>\n",
       "      <td>JumpXS</td>\n",
       "      <td>East</td>\n",
       "      <td>10</td>\n",
       "    </tr>\n",
       "    <tr>\n",
       "      <th>3</th>\n",
       "      <td>4</td>\n",
       "      <td>1/11/2018</td>\n",
       "      <td>Teklist</td>\n",
       "      <td>West</td>\n",
       "      <td>70</td>\n",
       "    </tr>\n",
       "  </tbody>\n",
       "</table>\n",
       "</div>"
      ],
      "text/plain": [
       "   Trans ID Date Created Customer Name Region  Amount\n",
       "0         1    1/10/2018      Wordware   East     100\n",
       "1         2    1/11/2018    Thoughtmix  North      80\n",
       "2         3    1/11/2018        JumpXS   East      10\n",
       "3         4    1/11/2018       Teklist   West      70"
      ]
     },
     "execution_count": 2,
     "metadata": {},
     "output_type": "execute_result"
    }
   ],
   "source": [
    "df2 = pd.read_excel(xl, sheet_name='Method 1', usecols='A:E')\n",
    "head(df2)"
   ]
  },
  {
   "cell_type": "code",
   "execution_count": 3,
   "metadata": {
    "ExecuteTime": {
     "end_time": "2021-03-02T09:46:40.949492Z",
     "start_time": "2021-03-02T09:46:40.915713Z"
    }
   },
   "outputs": [
    {
     "name": "stderr",
     "output_type": "stream",
     "text": [
      "1000 rows, 7 columns\n"
     ]
    },
    {
     "data": {
      "text/html": [
       "<div>\n",
       "<style scoped>\n",
       "    .dataframe tbody tr th:only-of-type {\n",
       "        vertical-align: middle;\n",
       "    }\n",
       "\n",
       "    .dataframe tbody tr th {\n",
       "        vertical-align: top;\n",
       "    }\n",
       "\n",
       "    .dataframe thead th {\n",
       "        text-align: right;\n",
       "    }\n",
       "</style>\n",
       "<table border=\"1\" class=\"dataframe\">\n",
       "  <thead>\n",
       "    <tr style=\"text-align: right;\">\n",
       "      <th></th>\n",
       "      <th>Trans ID</th>\n",
       "      <th>Date Created</th>\n",
       "      <th>Customer Name</th>\n",
       "      <th>Region</th>\n",
       "      <th>Amount</th>\n",
       "      <th>pandas_running_total</th>\n",
       "      <th>pandas_region_total</th>\n",
       "    </tr>\n",
       "  </thead>\n",
       "  <tbody>\n",
       "    <tr>\n",
       "      <th>0</th>\n",
       "      <td>1</td>\n",
       "      <td>1/10/2018</td>\n",
       "      <td>Wordware</td>\n",
       "      <td>East</td>\n",
       "      <td>100</td>\n",
       "      <td>100</td>\n",
       "      <td>100</td>\n",
       "    </tr>\n",
       "    <tr>\n",
       "      <th>1</th>\n",
       "      <td>2</td>\n",
       "      <td>1/11/2018</td>\n",
       "      <td>Thoughtmix</td>\n",
       "      <td>North</td>\n",
       "      <td>80</td>\n",
       "      <td>180</td>\n",
       "      <td>80</td>\n",
       "    </tr>\n",
       "    <tr>\n",
       "      <th>2</th>\n",
       "      <td>3</td>\n",
       "      <td>1/11/2018</td>\n",
       "      <td>JumpXS</td>\n",
       "      <td>East</td>\n",
       "      <td>10</td>\n",
       "      <td>190</td>\n",
       "      <td>110</td>\n",
       "    </tr>\n",
       "    <tr>\n",
       "      <th>3</th>\n",
       "      <td>4</td>\n",
       "      <td>1/11/2018</td>\n",
       "      <td>Teklist</td>\n",
       "      <td>West</td>\n",
       "      <td>70</td>\n",
       "      <td>260</td>\n",
       "      <td>70</td>\n",
       "    </tr>\n",
       "  </tbody>\n",
       "</table>\n",
       "</div>"
      ],
      "text/plain": [
       "   Trans ID Date Created Customer Name Region  Amount  pandas_running_total  \\\n",
       "0         1    1/10/2018      Wordware   East     100                   100   \n",
       "1         2    1/11/2018    Thoughtmix  North      80                   180   \n",
       "2         3    1/11/2018        JumpXS   East      10                   190   \n",
       "3         4    1/11/2018       Teklist   West      70                   260   \n",
       "\n",
       "   pandas_region_total  \n",
       "0                  100  \n",
       "1                   80  \n",
       "2                  110  \n",
       "3                   70  "
      ]
     },
     "execution_count": 3,
     "metadata": {},
     "output_type": "execute_result"
    }
   ],
   "source": [
    "df2['pandas_running_total'] = df['Amount'].cumsum()\n",
    "df2['pandas_region_total'] = df2.groupby(['Region']).agg(Total=('Amount', 'cumsum'))\n",
    "head(df2)"
   ]
  },
  {
   "cell_type": "markdown",
   "metadata": {},
   "source": [
    "# Running totals: Piper"
   ]
  },
  {
   "cell_type": "code",
   "execution_count": 5,
   "metadata": {
    "ExecuteTime": {
     "end_time": "2021-03-02T09:46:47.127994Z",
     "start_time": "2021-03-02T09:46:47.098795Z"
    }
   },
   "outputs": [
    {
     "name": "stderr",
     "output_type": "stream",
     "text": [
      "1000 rows, 9 columns\n"
     ]
    },
    {
     "data": {
      "text/html": [
       "<div>\n",
       "<style scoped>\n",
       "    .dataframe tbody tr th:only-of-type {\n",
       "        vertical-align: middle;\n",
       "    }\n",
       "\n",
       "    .dataframe tbody tr th {\n",
       "        vertical-align: top;\n",
       "    }\n",
       "\n",
       "    .dataframe thead th {\n",
       "        text-align: right;\n",
       "    }\n",
       "</style>\n",
       "<table border=\"1\" class=\"dataframe\">\n",
       "  <thead>\n",
       "    <tr style=\"text-align: right;\">\n",
       "      <th></th>\n",
       "      <th>Trans ID</th>\n",
       "      <th>Date Created</th>\n",
       "      <th>Customer Name</th>\n",
       "      <th>Region</th>\n",
       "      <th>Amount</th>\n",
       "      <th>pandas_running_total</th>\n",
       "      <th>pandas_region_total</th>\n",
       "      <th>piper_running_total</th>\n",
       "      <th>piper_region_total</th>\n",
       "    </tr>\n",
       "  </thead>\n",
       "  <tbody>\n",
       "    <tr>\n",
       "      <th>0</th>\n",
       "      <td>1</td>\n",
       "      <td>1/10/2018</td>\n",
       "      <td>Wordware</td>\n",
       "      <td>East</td>\n",
       "      <td>100</td>\n",
       "      <td>100</td>\n",
       "      <td>100</td>\n",
       "      <td>100</td>\n",
       "      <td>100</td>\n",
       "    </tr>\n",
       "    <tr>\n",
       "      <th>1</th>\n",
       "      <td>2</td>\n",
       "      <td>1/11/2018</td>\n",
       "      <td>Thoughtmix</td>\n",
       "      <td>North</td>\n",
       "      <td>80</td>\n",
       "      <td>180</td>\n",
       "      <td>80</td>\n",
       "      <td>180</td>\n",
       "      <td>80</td>\n",
       "    </tr>\n",
       "    <tr>\n",
       "      <th>2</th>\n",
       "      <td>3</td>\n",
       "      <td>1/11/2018</td>\n",
       "      <td>JumpXS</td>\n",
       "      <td>East</td>\n",
       "      <td>10</td>\n",
       "      <td>190</td>\n",
       "      <td>110</td>\n",
       "      <td>190</td>\n",
       "      <td>110</td>\n",
       "    </tr>\n",
       "    <tr>\n",
       "      <th>3</th>\n",
       "      <td>4</td>\n",
       "      <td>1/11/2018</td>\n",
       "      <td>Teklist</td>\n",
       "      <td>West</td>\n",
       "      <td>70</td>\n",
       "      <td>260</td>\n",
       "      <td>70</td>\n",
       "      <td>260</td>\n",
       "      <td>70</td>\n",
       "    </tr>\n",
       "    <tr>\n",
       "      <th>4</th>\n",
       "      <td>5</td>\n",
       "      <td>1/11/2018</td>\n",
       "      <td>Yambee</td>\n",
       "      <td>West</td>\n",
       "      <td>70</td>\n",
       "      <td>330</td>\n",
       "      <td>140</td>\n",
       "      <td>330</td>\n",
       "      <td>140</td>\n",
       "    </tr>\n",
       "  </tbody>\n",
       "</table>\n",
       "</div>"
      ],
      "text/plain": [
       "   Trans ID Date Created Customer Name Region  Amount  pandas_running_total  \\\n",
       "0         1    1/10/2018      Wordware   East     100                   100   \n",
       "1         2    1/11/2018    Thoughtmix  North      80                   180   \n",
       "2         3    1/11/2018        JumpXS   East      10                   190   \n",
       "3         4    1/11/2018       Teklist   West      70                   260   \n",
       "4         5    1/11/2018        Yambee   West      70                   330   \n",
       "\n",
       "   pandas_region_total  piper_running_total  piper_region_total  \n",
       "0                  100                  100                 100  \n",
       "1                   80                  180                  80  \n",
       "2                  110                  190                 110  \n",
       "3                   70                  260                  70  \n",
       "4                  140                  330                 140  "
      ]
     },
     "execution_count": 5,
     "metadata": {},
     "output_type": "execute_result"
    }
   ],
   "source": [
    "%%piper\n",
    "df2 \n",
    ">> assign(piper_running_total = lambda x: x.Amount.cumsum())\n",
    ">> group_calc(index='Region', column='piper_region_total',\n",
    "                  value='Amount', function=np.cumsum)\n",
    ">> head(5)"
   ]
  },
  {
   "cell_type": "code",
   "execution_count": null,
   "metadata": {},
   "outputs": [],
   "source": []
  }
 ],
 "metadata": {
  "kernelspec": {
   "display_name": "Python 3",
   "language": "python",
   "name": "python3"
  },
  "language_info": {
   "codemirror_mode": {
    "name": "ipython",
    "version": 3
   },
   "file_extension": ".py",
   "mimetype": "text/x-python",
   "name": "python",
   "nbconvert_exporter": "python",
   "pygments_lexer": "ipython3",
   "version": "3.8.5"
  },
  "toc": {
   "base_numbering": 1,
   "nav_menu": {},
   "number_sections": true,
   "sideBar": true,
   "skip_h1_title": false,
   "title_cell": "Table of Contents",
   "title_sidebar": "Contents",
   "toc_cell": false,
   "toc_position": {},
   "toc_section_display": true,
   "toc_window_display": true
  }
 },
 "nbformat": 4,
 "nbformat_minor": 4
}
