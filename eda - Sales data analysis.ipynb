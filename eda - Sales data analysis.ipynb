{
 "cells": [
  {
   "cell_type": "markdown",
   "metadata": {
    "slideshow": {
     "slide_type": "slide"
    }
   },
   "source": [
    "# Setup"
   ]
  },
  {
   "cell_type": "code",
   "execution_count": 1,
   "metadata": {
    "ExecuteTime": {
     "end_time": "2021-02-26T14:55:59.262375Z",
     "start_time": "2021-02-26T14:55:58.805774Z"
    },
    "code_folding": [],
    "slideshow": {
     "slide_type": "fragment"
    }
   },
   "outputs": [
    {
     "name": "stderr",
     "output_type": "stream",
     "text": [
      "piper version 0.0.7, last run: Friday, 26 February 2021 14:55:58\n"
     ]
    }
   ],
   "source": [
    "# import pandas, numpy and additional dfxl functions\n",
    "from piper import piper\n",
    "from piper.verbs import *"
   ]
  },
  {
   "cell_type": "markdown",
   "metadata": {
    "slideshow": {
     "slide_type": "slide"
    }
   },
   "source": [
    "# Import CSV and 'clean'"
   ]
  },
  {
   "cell_type": "code",
   "execution_count": 2,
   "metadata": {
    "ExecuteTime": {
     "end_time": "2021-02-26T14:55:59.310723Z",
     "start_time": "2021-02-26T14:55:59.264087Z"
    },
    "slideshow": {
     "slide_type": "fragment"
    }
   },
   "outputs": [
    {
     "data": {
      "text/html": [
       "<div>\n",
       "<style scoped>\n",
       "    .dataframe tbody tr th:only-of-type {\n",
       "        vertical-align: middle;\n",
       "    }\n",
       "\n",
       "    .dataframe tbody tr th {\n",
       "        vertical-align: top;\n",
       "    }\n",
       "\n",
       "    .dataframe thead th {\n",
       "        text-align: right;\n",
       "    }\n",
       "</style>\n",
       "<table border=\"1\" class=\"dataframe\">\n",
       "  <thead>\n",
       "    <tr style=\"text-align: right;\">\n",
       "      <th></th>\n",
       "      <th>co#</th>\n",
       "      <th>ordertype</th>\n",
       "      <th>ordertypedesc</th>\n",
       "      <th>order</th>\n",
       "      <th>orderdate</th>\n",
       "      <th>ordercount</th>\n",
       "      <th>linecount</th>\n",
       "      <th>shippedorders</th>\n",
       "      <th>shippedlines</th>\n",
       "      <th>invoicedorders</th>\n",
       "      <th>invoicedlines</th>\n",
       "      <th>sales_(eur)</th>\n",
       "    </tr>\n",
       "  </thead>\n",
       "  <tbody>\n",
       "    <tr>\n",
       "      <th>0</th>\n",
       "      <td>8300</td>\n",
       "      <td>DC</td>\n",
       "      <td>Deemed Commission Invoice</td>\n",
       "      <td>20000387</td>\n",
       "      <td>2020-05-19</td>\n",
       "      <td>1</td>\n",
       "      <td>114</td>\n",
       "      <td>1</td>\n",
       "      <td>114</td>\n",
       "      <td>1</td>\n",
       "      <td>114</td>\n",
       "      <td>14973</td>\n",
       "    </tr>\n",
       "    <tr>\n",
       "      <th>1</th>\n",
       "      <td>8300</td>\n",
       "      <td>SA</td>\n",
       "      <td>Sample Order</td>\n",
       "      <td>20072588</td>\n",
       "      <td>2020-05-19</td>\n",
       "      <td>1</td>\n",
       "      <td>1</td>\n",
       "      <td>1</td>\n",
       "      <td>1</td>\n",
       "      <td>1</td>\n",
       "      <td>1</td>\n",
       "      <td>0</td>\n",
       "    </tr>\n",
       "  </tbody>\n",
       "</table>\n",
       "</div>"
      ],
      "text/plain": [
       "    co# ordertype              ordertypedesc     order  orderdate  ordercount  \\\n",
       "0  8300        DC  Deemed Commission Invoice  20000387 2020-05-19           1   \n",
       "1  8300        SA               Sample Order  20072588 2020-05-19           1   \n",
       "\n",
       "   linecount  shippedorders  shippedlines  invoicedorders  invoicedlines  \\\n",
       "0        114              1           114               1            114   \n",
       "1          1              1             1               1              1   \n",
       "\n",
       "   sales_(eur)  \n",
       "0        14973  \n",
       "1            0  "
      ]
     },
     "execution_count": 2,
     "metadata": {},
     "output_type": "execute_result"
    }
   ],
   "source": [
    "f = 'inputs/JDE selected order data.tsv'\n",
    "df = pd.read_csv(f, sep='\\t', parse_dates=['orderdate'])\n",
    "head(df, 2, info=False)"
   ]
  },
  {
   "cell_type": "markdown",
   "metadata": {
    "ExecuteTime": {
     "end_time": "2020-07-02T13:59:04.217917Z",
     "start_time": "2020-07-02T13:59:04.173239Z"
    },
    "slideshow": {
     "slide_type": "subslide"
    }
   },
   "source": [
    "## Review column data meta information"
   ]
  },
  {
   "cell_type": "code",
   "execution_count": 3,
   "metadata": {
    "ExecuteTime": {
     "end_time": "2021-02-26T14:55:59.413671Z",
     "start_time": "2021-02-26T14:55:59.313464Z"
    },
    "slideshow": {
     "slide_type": "fragment"
    }
   },
   "outputs": [
    {
     "name": "stderr",
     "output_type": "stream",
     "text": [
      "Dataframe with (rows, cols) (8179, 12) consumes 1.64 Mb\n",
      "12 rows, 6 columns\n"
     ]
    },
    {
     "data": {
      "text/html": [
       "<div>\n",
       "<style scoped>\n",
       "    .dataframe tbody tr th:only-of-type {\n",
       "        vertical-align: middle;\n",
       "    }\n",
       "\n",
       "    .dataframe tbody tr th {\n",
       "        vertical-align: top;\n",
       "    }\n",
       "\n",
       "    .dataframe thead th {\n",
       "        text-align: right;\n",
       "    }\n",
       "</style>\n",
       "<table border=\"1\" class=\"dataframe\">\n",
       "  <thead>\n",
       "    <tr style=\"text-align: right;\">\n",
       "      <th></th>\n",
       "      <th>columns</th>\n",
       "      <th>data_type</th>\n",
       "      <th>unique</th>\n",
       "      <th>isna</th>\n",
       "      <th>isnull</th>\n",
       "      <th>total_count</th>\n",
       "    </tr>\n",
       "  </thead>\n",
       "  <tbody>\n",
       "    <tr>\n",
       "      <th>0</th>\n",
       "      <td>co#</td>\n",
       "      <td>int64</td>\n",
       "      <td>3</td>\n",
       "      <td>0</td>\n",
       "      <td>0</td>\n",
       "      <td>8179</td>\n",
       "    </tr>\n",
       "    <tr>\n",
       "      <th>1</th>\n",
       "      <td>ordertype</td>\n",
       "      <td>object</td>\n",
       "      <td>20</td>\n",
       "      <td>0</td>\n",
       "      <td>0</td>\n",
       "      <td>8179</td>\n",
       "    </tr>\n",
       "    <tr>\n",
       "      <th>2</th>\n",
       "      <td>ordertypedesc</td>\n",
       "      <td>object</td>\n",
       "      <td>20</td>\n",
       "      <td>0</td>\n",
       "      <td>0</td>\n",
       "      <td>8179</td>\n",
       "    </tr>\n",
       "    <tr>\n",
       "      <th>3</th>\n",
       "      <td>order</td>\n",
       "      <td>int64</td>\n",
       "      <td>8018</td>\n",
       "      <td>0</td>\n",
       "      <td>0</td>\n",
       "      <td>8179</td>\n",
       "    </tr>\n",
       "  </tbody>\n",
       "</table>\n",
       "</div>"
      ],
      "text/plain": [
       "         columns data_type  unique  isna  isnull  total_count\n",
       "0            co#     int64       3     0       0         8179\n",
       "1      ordertype    object      20     0       0         8179\n",
       "2  ordertypedesc    object      20     0       0         8179\n",
       "3          order     int64    8018     0       0         8179"
      ]
     },
     "execution_count": 3,
     "metadata": {},
     "output_type": "execute_result"
    }
   ],
   "source": [
    "%piper info(df) >> head()"
   ]
  },
  {
   "cell_type": "markdown",
   "metadata": {},
   "source": [
    "## Cleaning column names"
   ]
  },
  {
   "cell_type": "code",
   "execution_count": 4,
   "metadata": {
    "ExecuteTime": {
     "end_time": "2021-02-26T14:55:59.429086Z",
     "start_time": "2021-02-26T14:55:59.423216Z"
    }
   },
   "outputs": [
    {
     "data": {
      "text/plain": [
       "\"['co#', 'ordertype', 'ordertypedesc', 'order', 'orderdate', 'ordercount', 'linecount', 'shippedorders', 'shippedlines', 'invoicedorders', 'invoicedlines', 'sales_(eur)']\""
      ]
     },
     "execution_count": 4,
     "metadata": {},
     "output_type": "execute_result"
    }
   ],
   "source": [
    "columns(df, astype='text')"
   ]
  },
  {
   "cell_type": "code",
   "execution_count": 5,
   "metadata": {
    "ExecuteTime": {
     "end_time": "2021-02-26T14:55:59.449030Z",
     "start_time": "2021-02-26T14:55:59.435774Z"
    }
   },
   "outputs": [
    {
     "data": {
      "text/plain": [
       "'co#, order_type, order_type_desc, order, order_date, order_count, line_count, shipped_orders, shipped_lines, invoiced_orders, invoiced_lines, sales_eur'"
      ]
     },
     "execution_count": 5,
     "metadata": {},
     "output_type": "execute_result"
    }
   ],
   "source": [
    "f = lambda x: re.sub('(?=(desc|type|count|orders|lines|date))', '_', x)\n",
    "# f = lambda x: re.sub('(?<=order)(?=[^s])', '_', x)\n",
    "\n",
    "y = lambda x: re.sub(r'[()]', '', x)\n",
    "\n",
    "new_cols = list(map(f, df.columns.tolist()))\n",
    "new_cols = list(map(y, new_cols))\n",
    "', '.join(new_cols)"
   ]
  },
  {
   "cell_type": "markdown",
   "metadata": {
    "ExecuteTime": {
     "end_time": "2020-07-02T13:49:34.273237Z",
     "start_time": "2020-07-02T13:49:34.253152Z"
    },
    "slideshow": {
     "slide_type": "subslide"
    }
   },
   "source": [
    "## Create numeric company code, merge(link) with jde_countries"
   ]
  },
  {
   "cell_type": "code",
   "execution_count": 6,
   "metadata": {
    "ExecuteTime": {
     "end_time": "2021-02-26T14:55:59.475057Z",
     "start_time": "2021-02-26T14:55:59.451596Z"
    }
   },
   "outputs": [
    {
     "name": "stderr",
     "output_type": "stream",
     "text": [
      "8179 rows, 12 columns\n"
     ]
    },
    {
     "data": {
      "text/html": [
       "<div>\n",
       "<style scoped>\n",
       "    .dataframe tbody tr th:only-of-type {\n",
       "        vertical-align: middle;\n",
       "    }\n",
       "\n",
       "    .dataframe tbody tr th {\n",
       "        vertical-align: top;\n",
       "    }\n",
       "\n",
       "    .dataframe thead th {\n",
       "        text-align: right;\n",
       "    }\n",
       "</style>\n",
       "<table border=\"1\" class=\"dataframe\">\n",
       "  <thead>\n",
       "    <tr style=\"text-align: right;\">\n",
       "      <th></th>\n",
       "      <th>co#</th>\n",
       "      <th>ordertype</th>\n",
       "      <th>ordertypedesc</th>\n",
       "      <th>order</th>\n",
       "      <th>orderdate</th>\n",
       "      <th>ordercount</th>\n",
       "      <th>linecount</th>\n",
       "      <th>shippedorders</th>\n",
       "      <th>shippedlines</th>\n",
       "      <th>invoicedorders</th>\n",
       "      <th>invoicedlines</th>\n",
       "      <th>sales_(eur)</th>\n",
       "    </tr>\n",
       "  </thead>\n",
       "  <tbody>\n",
       "    <tr>\n",
       "      <th>0</th>\n",
       "      <td>8300</td>\n",
       "      <td>DC</td>\n",
       "      <td>Deemed Commission Invoice</td>\n",
       "      <td>20000387</td>\n",
       "      <td>2020-05-19</td>\n",
       "      <td>1</td>\n",
       "      <td>114</td>\n",
       "      <td>1</td>\n",
       "      <td>114</td>\n",
       "      <td>1</td>\n",
       "      <td>114</td>\n",
       "      <td>14973</td>\n",
       "    </tr>\n",
       "    <tr>\n",
       "      <th>1</th>\n",
       "      <td>8300</td>\n",
       "      <td>SA</td>\n",
       "      <td>Sample Order</td>\n",
       "      <td>20072588</td>\n",
       "      <td>2020-05-19</td>\n",
       "      <td>1</td>\n",
       "      <td>1</td>\n",
       "      <td>1</td>\n",
       "      <td>1</td>\n",
       "      <td>1</td>\n",
       "      <td>1</td>\n",
       "      <td>0</td>\n",
       "    </tr>\n",
       "  </tbody>\n",
       "</table>\n",
       "</div>"
      ],
      "text/plain": [
       "    co# ordertype              ordertypedesc     order  orderdate  ordercount  \\\n",
       "0  8300        DC  Deemed Commission Invoice  20000387 2020-05-19           1   \n",
       "1  8300        SA               Sample Order  20072588 2020-05-19           1   \n",
       "\n",
       "   linecount  shippedorders  shippedlines  invoicedorders  invoicedlines  \\\n",
       "0        114              1           114               1            114   \n",
       "1          1              1             1               1              1   \n",
       "\n",
       "   sales_(eur)  \n",
       "0        14973  \n",
       "1            0  "
      ]
     },
     "execution_count": 6,
     "metadata": {},
     "output_type": "execute_result"
    }
   ],
   "source": [
    "head(df, 2)"
   ]
  },
  {
   "cell_type": "code",
   "execution_count": 7,
   "metadata": {
    "ExecuteTime": {
     "end_time": "2021-02-26T14:55:59.503000Z",
     "start_time": "2021-02-26T14:55:59.477864Z"
    }
   },
   "outputs": [
    {
     "name": "stderr",
     "output_type": "stream",
     "text": [
      "8179 rows, 12 columns\n"
     ]
    },
    {
     "data": {
      "text/html": [
       "<div>\n",
       "<style scoped>\n",
       "    .dataframe tbody tr th:only-of-type {\n",
       "        vertical-align: middle;\n",
       "    }\n",
       "\n",
       "    .dataframe tbody tr th {\n",
       "        vertical-align: top;\n",
       "    }\n",
       "\n",
       "    .dataframe thead th {\n",
       "        text-align: right;\n",
       "    }\n",
       "</style>\n",
       "<table border=\"1\" class=\"dataframe\">\n",
       "  <thead>\n",
       "    <tr style=\"text-align: right;\">\n",
       "      <th></th>\n",
       "      <th>code</th>\n",
       "      <th>ordertype</th>\n",
       "      <th>ordertypedesc</th>\n",
       "      <th>order</th>\n",
       "      <th>orderdate</th>\n",
       "      <th>ordercount</th>\n",
       "      <th>linecount</th>\n",
       "      <th>shippedorders</th>\n",
       "      <th>shippedlines</th>\n",
       "      <th>invoicedorders</th>\n",
       "      <th>invoicedlines</th>\n",
       "      <th>sales_(eur)</th>\n",
       "    </tr>\n",
       "  </thead>\n",
       "  <tbody>\n",
       "    <tr>\n",
       "      <th>0</th>\n",
       "      <td>8300</td>\n",
       "      <td>DC</td>\n",
       "      <td>Deemed Commission Invoice</td>\n",
       "      <td>20000387</td>\n",
       "      <td>2020-05-19</td>\n",
       "      <td>1</td>\n",
       "      <td>114</td>\n",
       "      <td>1</td>\n",
       "      <td>114</td>\n",
       "      <td>1</td>\n",
       "      <td>114</td>\n",
       "      <td>14973</td>\n",
       "    </tr>\n",
       "    <tr>\n",
       "      <th>1</th>\n",
       "      <td>8300</td>\n",
       "      <td>SA</td>\n",
       "      <td>Sample Order</td>\n",
       "      <td>20072588</td>\n",
       "      <td>2020-05-19</td>\n",
       "      <td>1</td>\n",
       "      <td>1</td>\n",
       "      <td>1</td>\n",
       "      <td>1</td>\n",
       "      <td>1</td>\n",
       "      <td>1</td>\n",
       "      <td>0</td>\n",
       "    </tr>\n",
       "  </tbody>\n",
       "</table>\n",
       "</div>"
      ],
      "text/plain": [
       "   code ordertype              ordertypedesc     order  orderdate  ordercount  \\\n",
       "0  8300        DC  Deemed Commission Invoice  20000387 2020-05-19           1   \n",
       "1  8300        SA               Sample Order  20072588 2020-05-19           1   \n",
       "\n",
       "   linecount  shippedorders  shippedlines  invoicedorders  invoicedlines  \\\n",
       "0        114              1           114               1            114   \n",
       "1          1              1             1               1              1   \n",
       "\n",
       "   sales_(eur)  \n",
       "0        14973  \n",
       "1            0  "
      ]
     },
     "execution_count": 7,
     "metadata": {},
     "output_type": "execute_result"
    }
   ],
   "source": [
    "df.rename(columns={'co#': 'code'}, inplace=True)\n",
    "head(df, 2)"
   ]
  },
  {
   "cell_type": "code",
   "execution_count": 8,
   "metadata": {
    "ExecuteTime": {
     "end_time": "2021-02-26T14:55:59.514935Z",
     "start_time": "2021-02-26T14:55:59.505860Z"
    }
   },
   "outputs": [],
   "source": [
    "%%piper\n",
    "\n",
    "df2 <- df \n",
    ">> assign(code=lambda x: x.code.astype(int))\n",
    "# >> where(\"code == 8300\")"
   ]
  },
  {
   "cell_type": "code",
   "execution_count": 9,
   "metadata": {
    "ExecuteTime": {
     "end_time": "2021-02-26T14:55:59.535761Z",
     "start_time": "2021-02-26T14:55:59.516971Z"
    },
    "slideshow": {
     "slide_type": "subslide"
    }
   },
   "outputs": [
    {
     "data": {
      "text/html": [
       "<div>\n",
       "<style scoped>\n",
       "    .dataframe tbody tr th:only-of-type {\n",
       "        vertical-align: middle;\n",
       "    }\n",
       "\n",
       "    .dataframe tbody tr th {\n",
       "        vertical-align: top;\n",
       "    }\n",
       "\n",
       "    .dataframe thead th {\n",
       "        text-align: right;\n",
       "    }\n",
       "</style>\n",
       "<table border=\"1\" class=\"dataframe\">\n",
       "  <thead>\n",
       "    <tr style=\"text-align: right;\">\n",
       "      <th></th>\n",
       "      <th>code</th>\n",
       "      <th>n</th>\n",
       "    </tr>\n",
       "  </thead>\n",
       "  <tbody>\n",
       "    <tr>\n",
       "      <th>0</th>\n",
       "      <td>8300</td>\n",
       "      <td>4125</td>\n",
       "    </tr>\n",
       "    <tr>\n",
       "      <th>1</th>\n",
       "      <td>8450</td>\n",
       "      <td>3426</td>\n",
       "    </tr>\n",
       "    <tr>\n",
       "      <th>2</th>\n",
       "      <td>8480</td>\n",
       "      <td>628</td>\n",
       "    </tr>\n",
       "  </tbody>\n",
       "</table>\n",
       "</div>"
      ],
      "text/plain": [
       "   code     n\n",
       "0  8300  4125\n",
       "1  8450  3426\n",
       "2  8480   628"
      ]
     },
     "execution_count": 9,
     "metadata": {},
     "output_type": "execute_result"
    }
   ],
   "source": [
    "companies = count(df2, 'code')\n",
    "companies"
   ]
  },
  {
   "cell_type": "code",
   "execution_count": 10,
   "metadata": {
    "ExecuteTime": {
     "end_time": "2021-02-26T14:56:00.023340Z",
     "start_time": "2021-02-26T14:55:59.539346Z"
    },
    "slideshow": {
     "slide_type": "fragment"
    }
   },
   "outputs": [
    {
     "name": "stderr",
     "output_type": "stream",
     "text": [
      "491 rows, 2 columns\n"
     ]
    },
    {
     "data": {
      "text/html": [
       "<div>\n",
       "<style scoped>\n",
       "    .dataframe tbody tr th:only-of-type {\n",
       "        vertical-align: middle;\n",
       "    }\n",
       "\n",
       "    .dataframe tbody tr th {\n",
       "        vertical-align: top;\n",
       "    }\n",
       "\n",
       "    .dataframe thead th {\n",
       "        text-align: right;\n",
       "    }\n",
       "</style>\n",
       "<table border=\"1\" class=\"dataframe\">\n",
       "  <thead>\n",
       "    <tr style=\"text-align: right;\">\n",
       "      <th></th>\n",
       "      <th>code</th>\n",
       "      <th>country</th>\n",
       "    </tr>\n",
       "  </thead>\n",
       "  <tbody>\n",
       "    <tr>\n",
       "      <th>0</th>\n",
       "      <td>1</td>\n",
       "      <td>Item's restrictions</td>\n",
       "    </tr>\n",
       "    <tr>\n",
       "      <th>1</th>\n",
       "      <td>22</td>\n",
       "      <td>EURO VENDOR TO LINK EURO BASIS</td>\n",
       "    </tr>\n",
       "    <tr>\n",
       "      <th>2</th>\n",
       "      <td>36</td>\n",
       "      <td>***DO NOT USE*BHC PR MEDIVAC</td>\n",
       "    </tr>\n",
       "    <tr>\n",
       "      <th>3</th>\n",
       "      <td>47</td>\n",
       "      <td>BAXTER HCR CORP RENAL MOUNTAIN HOME</td>\n",
       "    </tr>\n",
       "  </tbody>\n",
       "</table>\n",
       "</div>"
      ],
      "text/plain": [
       "   code                              country\n",
       "0     1                  Item's restrictions\n",
       "1    22       EURO VENDOR TO LINK EURO BASIS\n",
       "2    36         ***DO NOT USE*BHC PR MEDIVAC\n",
       "3    47  BAXTER HCR CORP RENAL MOUNTAIN HOME"
      ]
     },
     "execution_count": 10,
     "metadata": {},
     "output_type": "execute_result"
    }
   ],
   "source": [
    "jde_countries = pd.read_excel('inputs/jde_countries.xlsx')\n",
    "jde_countries.rename(columns={'company': 'code', 'alpha_name': 'country'}, inplace=True)\n",
    "head(jde_countries)"
   ]
  },
  {
   "cell_type": "code",
   "execution_count": 11,
   "metadata": {
    "ExecuteTime": {
     "end_time": "2021-02-26T14:56:00.035570Z",
     "start_time": "2021-02-26T14:56:00.025432Z"
    },
    "slideshow": {
     "slide_type": "subslide"
    }
   },
   "outputs": [],
   "source": [
    "%%piper\n",
    "\n",
    "companies <- companies >> inner_join(jde_countries, on='code')"
   ]
  },
  {
   "cell_type": "markdown",
   "metadata": {
    "slideshow": {
     "slide_type": "slide"
    }
   },
   "source": [
    "# Export data in Excel"
   ]
  },
  {
   "cell_type": "markdown",
   "metadata": {
    "ExecuteTime": {
     "end_time": "2020-07-02T13:49:36.465241Z",
     "start_time": "2020-07-02T13:49:34.322343Z"
    },
    "slideshow": {
     "slide_type": "fragment"
    }
   },
   "source": [
    "## Filter & create sheet, dataframes using dict comprehension"
   ]
  },
  {
   "cell_type": "code",
   "execution_count": 12,
   "metadata": {
    "ExecuteTime": {
     "end_time": "2021-02-26T14:56:00.072925Z",
     "start_time": "2021-02-26T14:56:00.038911Z"
    },
    "slideshow": {
     "slide_type": "fragment"
    }
   },
   "outputs": [
    {
     "name": "stderr",
     "output_type": "stream",
     "text": [
      "Country: BAXTER SAS (FRANCE)  \tshape (rows, cols): (8179, 12)\n",
      "Country: BAXTER SL SPAIN  \tshape (rows, cols): (8179, 12)\n",
      "Country: BAXTER MEDICO FARMACEUTICA LDA  \tshape (rows, cols): (8179, 12)\n"
     ]
    },
    {
     "data": {
      "text/html": [
       "<div>\n",
       "<style scoped>\n",
       "    .dataframe tbody tr th:only-of-type {\n",
       "        vertical-align: middle;\n",
       "    }\n",
       "\n",
       "    .dataframe tbody tr th {\n",
       "        vertical-align: top;\n",
       "    }\n",
       "\n",
       "    .dataframe thead th {\n",
       "        text-align: right;\n",
       "    }\n",
       "</style>\n",
       "<table border=\"1\" class=\"dataframe\">\n",
       "  <thead>\n",
       "    <tr style=\"text-align: right;\">\n",
       "      <th></th>\n",
       "      <th>BAXTER SAS (FRANCE)</th>\n",
       "      <th>BAXTER SL SPAIN</th>\n",
       "      <th>BAXTER MEDICO FARMACEUTICA LDA</th>\n",
       "    </tr>\n",
       "  </thead>\n",
       "  <tbody>\n",
       "    <tr>\n",
       "      <th>0</th>\n",
       "      <td>8300</td>\n",
       "      <td>8450</td>\n",
       "      <td>8480</td>\n",
       "    </tr>\n",
       "  </tbody>\n",
       "</table>\n",
       "</div>"
      ],
      "text/plain": [
       "   BAXTER SAS (FRANCE)  BAXTER SL SPAIN  BAXTER MEDICO FARMACEUTICA LDA\n",
       "0                 8300             8450                            8480"
      ]
     },
     "execution_count": 12,
     "metadata": {},
     "output_type": "execute_result"
    }
   ],
   "source": [
    "dataframes = {r['country']: r['code'] for _, r in companies.iterrows()}\n",
    "for country, df in dataframes.items():\n",
    "    logger.info(f'Country: {country}  \\tshape (rows, cols): {df2.shape}')\n",
    "\n",
    "dx = pd.DataFrame([dataframes])\n",
    "dx"
   ]
  },
  {
   "cell_type": "code",
   "execution_count": 13,
   "metadata": {
    "ExecuteTime": {
     "end_time": "2021-02-26T14:56:00.122946Z",
     "start_time": "2021-02-26T14:56:00.076362Z"
    },
    "slideshow": {
     "slide_type": "fragment"
    }
   },
   "outputs": [
    {
     "data": {
      "text/html": [
       "<a href=\"outputs/20210226_JDE Orders (May to July 2020).xlsx\">outputs/20210226_JDE Orders (May to July 2020).xlsx</a>"
      ],
      "text/plain": [
       "<IPython.core.display.HTML object>"
      ]
     },
     "metadata": {},
     "output_type": "display_data"
    },
    {
     "name": "stderr",
     "output_type": "stream",
     "text": [
      "Workbook: outputs/20210226_JDE Orders (May to July 2020).xlsx\n",
      "<< mult-sheet mode >>\n",
      "Sheet (range): sheet1 ($A$1:$C$2)\n",
      "Completed.\n"
     ]
    }
   ],
   "source": [
    "WorkBook('outputs/JDE Orders (May to July 2020)', date_format=False, sheets=dx);"
   ]
  },
  {
   "cell_type": "code",
   "execution_count": null,
   "metadata": {},
   "outputs": [],
   "source": []
  },
  {
   "cell_type": "code",
   "execution_count": null,
   "metadata": {},
   "outputs": [],
   "source": []
  }
 ],
 "metadata": {
  "hide_input": false,
  "kernelspec": {
   "display_name": "Python 3",
   "language": "python",
   "name": "python3"
  },
  "language_info": {
   "codemirror_mode": {
    "name": "ipython",
    "version": 3
   },
   "file_extension": ".py",
   "mimetype": "text/x-python",
   "name": "python",
   "nbconvert_exporter": "python",
   "pygments_lexer": "ipython3",
   "version": "3.8.5"
  },
  "toc": {
   "base_numbering": 1,
   "nav_menu": {},
   "number_sections": true,
   "sideBar": true,
   "skip_h1_title": false,
   "title_cell": "Table of Contents",
   "title_sidebar": "Contents",
   "toc_cell": false,
   "toc_position": {},
   "toc_section_display": true,
   "toc_window_display": true
  }
 },
 "nbformat": 4,
 "nbformat_minor": 4
}
