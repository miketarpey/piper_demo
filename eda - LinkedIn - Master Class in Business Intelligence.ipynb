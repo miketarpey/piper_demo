{
 "cells": [
  {
   "cell_type": "markdown",
   "metadata": {},
   "source": [
    "# Setup"
   ]
  },
  {
   "cell_type": "code",
   "execution_count": 1,
   "metadata": {
    "ExecuteTime": {
     "end_time": "2021-03-29T12:26:53.606780Z",
     "start_time": "2021-03-29T12:26:52.356281Z"
    }
   },
   "outputs": [
    {
     "name": "stderr",
     "output_type": "stream",
     "text": [
      "piper v0.1.0: Monday, 29 March 2021 19:09:02\n"
     ]
    }
   ],
   "source": [
    "from piper.defaults import *\n",
    "import seaborn as sns"
   ]
  },
  {
   "cell_type": "markdown",
   "metadata": {},
   "source": [
    "# Data import"
   ]
  },
  {
   "cell_type": "code",
   "execution_count": 2,
   "metadata": {
    "ExecuteTime": {
     "end_time": "2021-03-29T12:27:02.537371Z",
     "start_time": "2021-03-29T12:26:53.608935Z"
    }
   },
   "outputs": [
    {
     "name": "stderr",
     "output_type": "stream",
     "text": [
      "46431 rows, 9 columns\n"
     ]
    },
    {
     "data": {
      "text/html": [
       "<div>\n",
       "<style scoped>\n",
       "    .dataframe tbody tr th:only-of-type {\n",
       "        vertical-align: middle;\n",
       "    }\n",
       "\n",
       "    .dataframe tbody tr th {\n",
       "        vertical-align: top;\n",
       "    }\n",
       "\n",
       "    .dataframe thead th {\n",
       "        text-align: right;\n",
       "    }\n",
       "</style>\n",
       "<table border=\"1\" class=\"dataframe\">\n",
       "  <thead>\n",
       "    <tr style=\"text-align: right;\">\n",
       "      <th></th>\n",
       "      <th>InvoiceNo</th>\n",
       "      <th>ProductCategory</th>\n",
       "      <th>StockCode</th>\n",
       "      <th>Description</th>\n",
       "      <th>Quantity</th>\n",
       "      <th>InvoiceDate</th>\n",
       "      <th>UnitPrice</th>\n",
       "      <th>CustomerID</th>\n",
       "      <th>Country</th>\n",
       "    </tr>\n",
       "  </thead>\n",
       "  <tbody>\n",
       "    <tr>\n",
       "      <th>0</th>\n",
       "      <td>536370</td>\n",
       "      <td>Appliances</td>\n",
       "      <td>22728</td>\n",
       "      <td>ALARM CLOCK BAKELIKE PINK</td>\n",
       "      <td>24</td>\n",
       "      <td>2010-01-12 08:45:00</td>\n",
       "      <td>3.75</td>\n",
       "      <td>12583.0</td>\n",
       "      <td>France</td>\n",
       "    </tr>\n",
       "    <tr>\n",
       "      <th>1</th>\n",
       "      <td>536370</td>\n",
       "      <td>Appliances</td>\n",
       "      <td>22727</td>\n",
       "      <td>ALARM CLOCK BAKELIKE RED</td>\n",
       "      <td>24</td>\n",
       "      <td>2010-01-12 08:45:00</td>\n",
       "      <td>3.75</td>\n",
       "      <td>12583.0</td>\n",
       "      <td>France</td>\n",
       "    </tr>\n",
       "    <tr>\n",
       "      <th>2</th>\n",
       "      <td>536370</td>\n",
       "      <td>Appliances</td>\n",
       "      <td>22726</td>\n",
       "      <td>ALARM CLOCK BAKELIKE GREEN</td>\n",
       "      <td>12</td>\n",
       "      <td>2010-01-12 08:45:00</td>\n",
       "      <td>3.75</td>\n",
       "      <td>12583.0</td>\n",
       "      <td>FRANCE</td>\n",
       "    </tr>\n",
       "    <tr>\n",
       "      <th>3</th>\n",
       "      <td>536370</td>\n",
       "      <td>Appliances</td>\n",
       "      <td>21724</td>\n",
       "      <td>PANDA AND BUNNIES STICKER SHEET</td>\n",
       "      <td>12</td>\n",
       "      <td>2010-01-12 08:45:00</td>\n",
       "      <td>0.85</td>\n",
       "      <td>12583.0</td>\n",
       "      <td>France</td>\n",
       "    </tr>\n",
       "    <tr>\n",
       "      <th>4</th>\n",
       "      <td>536370</td>\n",
       "      <td>Appliances</td>\n",
       "      <td>21883</td>\n",
       "      <td>STARS GIFT TAPE</td>\n",
       "      <td>24</td>\n",
       "      <td>2010-01-12 08:45:00</td>\n",
       "      <td>0.65</td>\n",
       "      <td>12583.0</td>\n",
       "      <td>France</td>\n",
       "    </tr>\n",
       "    <tr>\n",
       "      <th>5</th>\n",
       "      <td>536370</td>\n",
       "      <td>Appliances</td>\n",
       "      <td>10002</td>\n",
       "      <td>INFLATABLE POLITICAL GLOBE</td>\n",
       "      <td>48</td>\n",
       "      <td>2010-01-12 08:45:00</td>\n",
       "      <td>0.85</td>\n",
       "      <td>12583.0</td>\n",
       "      <td>France</td>\n",
       "    </tr>\n",
       "    <tr>\n",
       "      <th>6</th>\n",
       "      <td>536370</td>\n",
       "      <td>Appliances</td>\n",
       "      <td>21791</td>\n",
       "      <td>VINTAGE HEADS AND TAILS CARD GAME</td>\n",
       "      <td>24</td>\n",
       "      <td>2010-01-12 08:45:00</td>\n",
       "      <td>1.25</td>\n",
       "      <td>12583.0</td>\n",
       "      <td>France</td>\n",
       "    </tr>\n",
       "    <tr>\n",
       "      <th>7</th>\n",
       "      <td>536370</td>\n",
       "      <td>Appliances</td>\n",
       "      <td>21035</td>\n",
       "      <td>SET/2 RED RETROSPOT TEA TOWELS</td>\n",
       "      <td>18</td>\n",
       "      <td>2010-01-12 08:45:00</td>\n",
       "      <td>2.95</td>\n",
       "      <td>12583.0</td>\n",
       "      <td>france</td>\n",
       "    </tr>\n",
       "    <tr>\n",
       "      <th>8</th>\n",
       "      <td>536370</td>\n",
       "      <td>Appliances</td>\n",
       "      <td>22326</td>\n",
       "      <td>ROUND SNACK BOXES SET OF4 WOODLAND</td>\n",
       "      <td>24</td>\n",
       "      <td>2010-01-12 08:45:00</td>\n",
       "      <td>2.95</td>\n",
       "      <td>12583.0</td>\n",
       "      <td>France</td>\n",
       "    </tr>\n",
       "    <tr>\n",
       "      <th>9</th>\n",
       "      <td>536370</td>\n",
       "      <td>Appliances</td>\n",
       "      <td>22629</td>\n",
       "      <td>SPACEBOY LUNCH BOX</td>\n",
       "      <td>24</td>\n",
       "      <td>2010-01-12 08:45:00</td>\n",
       "      <td>1.95</td>\n",
       "      <td>12583.0</td>\n",
       "      <td>France</td>\n",
       "    </tr>\n",
       "  </tbody>\n",
       "</table>\n",
       "</div>"
      ],
      "text/plain": [
       "   InvoiceNo ProductCategory StockCode                          Description  \\\n",
       "0     536370      Appliances     22728            ALARM CLOCK BAKELIKE PINK   \n",
       "1     536370      Appliances     22727            ALARM CLOCK BAKELIKE RED    \n",
       "2     536370      Appliances     22726           ALARM CLOCK BAKELIKE GREEN   \n",
       "3     536370      Appliances     21724      PANDA AND BUNNIES STICKER SHEET   \n",
       "4     536370      Appliances     21883                     STARS GIFT TAPE    \n",
       "5     536370      Appliances     10002          INFLATABLE POLITICAL GLOBE    \n",
       "6     536370      Appliances     21791   VINTAGE HEADS AND TAILS CARD GAME    \n",
       "7     536370      Appliances     21035      SET/2 RED RETROSPOT TEA TOWELS    \n",
       "8     536370      Appliances     22326  ROUND SNACK BOXES SET OF4 WOODLAND    \n",
       "9     536370      Appliances     22629                  SPACEBOY LUNCH BOX    \n",
       "\n",
       "   Quantity          InvoiceDate  UnitPrice  CustomerID Country  \n",
       "0        24  2010-01-12 08:45:00       3.75     12583.0  France  \n",
       "1        24  2010-01-12 08:45:00       3.75     12583.0  France  \n",
       "2        12  2010-01-12 08:45:00       3.75     12583.0  FRANCE  \n",
       "3        12  2010-01-12 08:45:00       0.85     12583.0  France  \n",
       "4        24  2010-01-12 08:45:00       0.65     12583.0  France  \n",
       "5        48  2010-01-12 08:45:00       0.85     12583.0  France  \n",
       "6        24  2010-01-12 08:45:00       1.25     12583.0  France  \n",
       "7        18  2010-01-12 08:45:00       2.95     12583.0  france  \n",
       "8        24  2010-01-12 08:45:00       2.95     12583.0  France  \n",
       "9        24  2010-01-12 08:45:00       1.95     12583.0  France  "
      ]
     },
     "execution_count": 2,
     "metadata": {},
     "output_type": "execute_result"
    }
   ],
   "source": [
    "df = pd.read_excel('inputs/Online_store_sales.xlsx', sheet_name='Online_Retail')\n",
    "\n",
    "head(df, 10)"
   ]
  },
  {
   "cell_type": "markdown",
   "metadata": {},
   "source": [
    "## meta data / overview"
   ]
  },
  {
   "cell_type": "code",
   "execution_count": 3,
   "metadata": {
    "ExecuteTime": {
     "end_time": "2021-03-29T12:27:02.747729Z",
     "start_time": "2021-03-29T12:27:02.539702Z"
    }
   },
   "outputs": [
    {
     "name": "stderr",
     "output_type": "stream",
     "text": [
      "Dataframe consumes 15.48 Mb\n"
     ]
    },
    {
     "data": {
      "text/html": [
       "<div>\n",
       "<style scoped>\n",
       "    .dataframe tbody tr th:only-of-type {\n",
       "        vertical-align: middle;\n",
       "    }\n",
       "\n",
       "    .dataframe tbody tr th {\n",
       "        vertical-align: top;\n",
       "    }\n",
       "\n",
       "    .dataframe thead th {\n",
       "        text-align: right;\n",
       "    }\n",
       "</style>\n",
       "<table border=\"1\" class=\"dataframe\">\n",
       "  <thead>\n",
       "    <tr style=\"text-align: right;\">\n",
       "      <th></th>\n",
       "      <th>columns</th>\n",
       "      <th>type</th>\n",
       "      <th>n</th>\n",
       "      <th>isna</th>\n",
       "      <th>isnull</th>\n",
       "      <th>unique</th>\n",
       "    </tr>\n",
       "  </thead>\n",
       "  <tbody>\n",
       "    <tr>\n",
       "      <th>0</th>\n",
       "      <td>InvoiceNo</td>\n",
       "      <td>int64</td>\n",
       "      <td>46431</td>\n",
       "      <td>0</td>\n",
       "      <td>0</td>\n",
       "      <td>2406</td>\n",
       "    </tr>\n",
       "    <tr>\n",
       "      <th>1</th>\n",
       "      <td>ProductCategory</td>\n",
       "      <td>object</td>\n",
       "      <td>46431</td>\n",
       "      <td>0</td>\n",
       "      <td>0</td>\n",
       "      <td>4</td>\n",
       "    </tr>\n",
       "    <tr>\n",
       "      <th>2</th>\n",
       "      <td>StockCode</td>\n",
       "      <td>object</td>\n",
       "      <td>46431</td>\n",
       "      <td>0</td>\n",
       "      <td>0</td>\n",
       "      <td>2807</td>\n",
       "    </tr>\n",
       "    <tr>\n",
       "      <th>3</th>\n",
       "      <td>Description</td>\n",
       "      <td>object</td>\n",
       "      <td>46431</td>\n",
       "      <td>0</td>\n",
       "      <td>0</td>\n",
       "      <td>2916</td>\n",
       "    </tr>\n",
       "    <tr>\n",
       "      <th>4</th>\n",
       "      <td>Quantity</td>\n",
       "      <td>int64</td>\n",
       "      <td>46431</td>\n",
       "      <td>0</td>\n",
       "      <td>0</td>\n",
       "      <td>148</td>\n",
       "    </tr>\n",
       "    <tr>\n",
       "      <th>5</th>\n",
       "      <td>InvoiceDate</td>\n",
       "      <td>object</td>\n",
       "      <td>46431</td>\n",
       "      <td>0</td>\n",
       "      <td>0</td>\n",
       "      <td>2372</td>\n",
       "    </tr>\n",
       "    <tr>\n",
       "      <th>6</th>\n",
       "      <td>UnitPrice</td>\n",
       "      <td>float64</td>\n",
       "      <td>46431</td>\n",
       "      <td>0</td>\n",
       "      <td>0</td>\n",
       "      <td>206</td>\n",
       "    </tr>\n",
       "    <tr>\n",
       "      <th>7</th>\n",
       "      <td>CustomerID</td>\n",
       "      <td>float64</td>\n",
       "      <td>46431</td>\n",
       "      <td>1480</td>\n",
       "      <td>1480</td>\n",
       "      <td>422</td>\n",
       "    </tr>\n",
       "    <tr>\n",
       "      <th>8</th>\n",
       "      <td>Country</td>\n",
       "      <td>object</td>\n",
       "      <td>46431</td>\n",
       "      <td>0</td>\n",
       "      <td>0</td>\n",
       "      <td>38</td>\n",
       "    </tr>\n",
       "  </tbody>\n",
       "</table>\n",
       "</div>"
      ],
      "text/plain": [
       "           columns     type      n  isna  isnull  unique\n",
       "0        InvoiceNo    int64  46431     0       0    2406\n",
       "1  ProductCategory   object  46431     0       0       4\n",
       "2        StockCode   object  46431     0       0    2807\n",
       "3      Description   object  46431     0       0    2916\n",
       "4         Quantity    int64  46431     0       0     148\n",
       "5      InvoiceDate   object  46431     0       0    2372\n",
       "6        UnitPrice  float64  46431     0       0     206\n",
       "7       CustomerID  float64  46431  1480    1480     422\n",
       "8          Country   object  46431     0       0      38"
      ]
     },
     "execution_count": 3,
     "metadata": {},
     "output_type": "execute_result"
    }
   ],
   "source": [
    "info(df)"
   ]
  },
  {
   "cell_type": "markdown",
   "metadata": {
    "ExecuteTime": {
     "end_time": "2020-09-25T12:02:37.377943Z",
     "start_time": "2020-09-25T12:02:37.375157Z"
    }
   },
   "source": [
    "## Re-sequence columns"
   ]
  },
  {
   "cell_type": "code",
   "execution_count": 4,
   "metadata": {
    "ExecuteTime": {
     "end_time": "2021-03-29T12:27:02.774127Z",
     "start_time": "2021-03-29T12:27:02.750247Z"
    }
   },
   "outputs": [
    {
     "name": "stderr",
     "output_type": "stream",
     "text": [
      "46431 rows, 9 columns\n"
     ]
    },
    {
     "data": {
      "text/html": [
       "<div>\n",
       "<style scoped>\n",
       "    .dataframe tbody tr th:only-of-type {\n",
       "        vertical-align: middle;\n",
       "    }\n",
       "\n",
       "    .dataframe tbody tr th {\n",
       "        vertical-align: top;\n",
       "    }\n",
       "\n",
       "    .dataframe thead th {\n",
       "        text-align: right;\n",
       "    }\n",
       "</style>\n",
       "<table border=\"1\" class=\"dataframe\">\n",
       "  <thead>\n",
       "    <tr style=\"text-align: right;\">\n",
       "      <th></th>\n",
       "      <th>InvoiceDate</th>\n",
       "      <th>InvoiceNo</th>\n",
       "      <th>Country</th>\n",
       "      <th>CustomerID</th>\n",
       "      <th>ProductCategory</th>\n",
       "      <th>StockCode</th>\n",
       "      <th>Description</th>\n",
       "      <th>Quantity</th>\n",
       "      <th>UnitPrice</th>\n",
       "    </tr>\n",
       "  </thead>\n",
       "  <tbody>\n",
       "    <tr>\n",
       "      <th>0</th>\n",
       "      <td>2010-01-12 08:45:00</td>\n",
       "      <td>536370</td>\n",
       "      <td>France</td>\n",
       "      <td>12583.0</td>\n",
       "      <td>Appliances</td>\n",
       "      <td>22728</td>\n",
       "      <td>ALARM CLOCK BAKELIKE PINK</td>\n",
       "      <td>24</td>\n",
       "      <td>3.75</td>\n",
       "    </tr>\n",
       "    <tr>\n",
       "      <th>1</th>\n",
       "      <td>2010-01-12 08:45:00</td>\n",
       "      <td>536370</td>\n",
       "      <td>France</td>\n",
       "      <td>12583.0</td>\n",
       "      <td>Appliances</td>\n",
       "      <td>22727</td>\n",
       "      <td>ALARM CLOCK BAKELIKE RED</td>\n",
       "      <td>24</td>\n",
       "      <td>3.75</td>\n",
       "    </tr>\n",
       "    <tr>\n",
       "      <th>2</th>\n",
       "      <td>2010-01-12 08:45:00</td>\n",
       "      <td>536370</td>\n",
       "      <td>FRANCE</td>\n",
       "      <td>12583.0</td>\n",
       "      <td>Appliances</td>\n",
       "      <td>22726</td>\n",
       "      <td>ALARM CLOCK BAKELIKE GREEN</td>\n",
       "      <td>12</td>\n",
       "      <td>3.75</td>\n",
       "    </tr>\n",
       "    <tr>\n",
       "      <th>3</th>\n",
       "      <td>2010-01-12 08:45:00</td>\n",
       "      <td>536370</td>\n",
       "      <td>France</td>\n",
       "      <td>12583.0</td>\n",
       "      <td>Appliances</td>\n",
       "      <td>21724</td>\n",
       "      <td>PANDA AND BUNNIES STICKER SHEET</td>\n",
       "      <td>12</td>\n",
       "      <td>0.85</td>\n",
       "    </tr>\n",
       "    <tr>\n",
       "      <th>4</th>\n",
       "      <td>2010-01-12 08:45:00</td>\n",
       "      <td>536370</td>\n",
       "      <td>France</td>\n",
       "      <td>12583.0</td>\n",
       "      <td>Appliances</td>\n",
       "      <td>21883</td>\n",
       "      <td>STARS GIFT TAPE</td>\n",
       "      <td>24</td>\n",
       "      <td>0.65</td>\n",
       "    </tr>\n",
       "    <tr>\n",
       "      <th>5</th>\n",
       "      <td>2010-01-12 08:45:00</td>\n",
       "      <td>536370</td>\n",
       "      <td>France</td>\n",
       "      <td>12583.0</td>\n",
       "      <td>Appliances</td>\n",
       "      <td>10002</td>\n",
       "      <td>INFLATABLE POLITICAL GLOBE</td>\n",
       "      <td>48</td>\n",
       "      <td>0.85</td>\n",
       "    </tr>\n",
       "    <tr>\n",
       "      <th>6</th>\n",
       "      <td>2010-01-12 08:45:00</td>\n",
       "      <td>536370</td>\n",
       "      <td>France</td>\n",
       "      <td>12583.0</td>\n",
       "      <td>Appliances</td>\n",
       "      <td>21791</td>\n",
       "      <td>VINTAGE HEADS AND TAILS CARD GAME</td>\n",
       "      <td>24</td>\n",
       "      <td>1.25</td>\n",
       "    </tr>\n",
       "    <tr>\n",
       "      <th>7</th>\n",
       "      <td>2010-01-12 08:45:00</td>\n",
       "      <td>536370</td>\n",
       "      <td>france</td>\n",
       "      <td>12583.0</td>\n",
       "      <td>Appliances</td>\n",
       "      <td>21035</td>\n",
       "      <td>SET/2 RED RETROSPOT TEA TOWELS</td>\n",
       "      <td>18</td>\n",
       "      <td>2.95</td>\n",
       "    </tr>\n",
       "    <tr>\n",
       "      <th>8</th>\n",
       "      <td>2010-01-12 08:45:00</td>\n",
       "      <td>536370</td>\n",
       "      <td>France</td>\n",
       "      <td>12583.0</td>\n",
       "      <td>Appliances</td>\n",
       "      <td>22326</td>\n",
       "      <td>ROUND SNACK BOXES SET OF4 WOODLAND</td>\n",
       "      <td>24</td>\n",
       "      <td>2.95</td>\n",
       "    </tr>\n",
       "    <tr>\n",
       "      <th>9</th>\n",
       "      <td>2010-01-12 08:45:00</td>\n",
       "      <td>536370</td>\n",
       "      <td>France</td>\n",
       "      <td>12583.0</td>\n",
       "      <td>Appliances</td>\n",
       "      <td>22629</td>\n",
       "      <td>SPACEBOY LUNCH BOX</td>\n",
       "      <td>24</td>\n",
       "      <td>1.95</td>\n",
       "    </tr>\n",
       "  </tbody>\n",
       "</table>\n",
       "</div>"
      ],
      "text/plain": [
       "           InvoiceDate  InvoiceNo Country  CustomerID ProductCategory  \\\n",
       "0  2010-01-12 08:45:00     536370  France     12583.0      Appliances   \n",
       "1  2010-01-12 08:45:00     536370  France     12583.0      Appliances   \n",
       "2  2010-01-12 08:45:00     536370  FRANCE     12583.0      Appliances   \n",
       "3  2010-01-12 08:45:00     536370  France     12583.0      Appliances   \n",
       "4  2010-01-12 08:45:00     536370  France     12583.0      Appliances   \n",
       "5  2010-01-12 08:45:00     536370  France     12583.0      Appliances   \n",
       "6  2010-01-12 08:45:00     536370  France     12583.0      Appliances   \n",
       "7  2010-01-12 08:45:00     536370  france     12583.0      Appliances   \n",
       "8  2010-01-12 08:45:00     536370  France     12583.0      Appliances   \n",
       "9  2010-01-12 08:45:00     536370  France     12583.0      Appliances   \n",
       "\n",
       "  StockCode                          Description  Quantity  UnitPrice  \n",
       "0     22728            ALARM CLOCK BAKELIKE PINK        24       3.75  \n",
       "1     22727            ALARM CLOCK BAKELIKE RED         24       3.75  \n",
       "2     22726           ALARM CLOCK BAKELIKE GREEN        12       3.75  \n",
       "3     21724      PANDA AND BUNNIES STICKER SHEET        12       0.85  \n",
       "4     21883                     STARS GIFT TAPE         24       0.65  \n",
       "5     10002          INFLATABLE POLITICAL GLOBE         48       0.85  \n",
       "6     21791   VINTAGE HEADS AND TAILS CARD GAME         24       1.25  \n",
       "7     21035      SET/2 RED RETROSPOT TEA TOWELS         18       2.95  \n",
       "8     22326  ROUND SNACK BOXES SET OF4 WOODLAND         24       2.95  \n",
       "9     22629                  SPACEBOY LUNCH BOX         24       1.95  "
      ]
     },
     "execution_count": 4,
     "metadata": {},
     "output_type": "execute_result"
    }
   ],
   "source": [
    "cols = ['InvoiceDate', 'InvoiceNo', 'Country', 'CustomerID', 'ProductCategory',\n",
    "        'StockCode', 'Description', 'Quantity', 'UnitPrice']\n",
    "df = df[cols]\n",
    "head(df, 10)"
   ]
  },
  {
   "cell_type": "markdown",
   "metadata": {},
   "source": [
    "## Calculate SalesValue"
   ]
  },
  {
   "cell_type": "code",
   "execution_count": 5,
   "metadata": {
    "ExecuteTime": {
     "end_time": "2021-03-29T12:27:02.887087Z",
     "start_time": "2021-03-29T12:27:02.776374Z"
    }
   },
   "outputs": [],
   "source": [
    "%%piper\n",
    "\n",
    "df <- df >> assign(SalesValue=lambda x: x.Quantity * x.UnitPrice,\n",
    "                  Description=lambda x: x.Description.str.title())\n",
    ">> order_by(['InvoiceDate', 'InvoiceNo', 'Country', 'CustomerID', 'ProductCategory', 'StockCode'])"
   ]
  },
  {
   "cell_type": "code",
   "execution_count": 6,
   "metadata": {
    "ExecuteTime": {
     "end_time": "2021-03-29T12:27:02.918365Z",
     "start_time": "2021-03-29T12:27:02.892467Z"
    }
   },
   "outputs": [
    {
     "name": "stderr",
     "output_type": "stream",
     "text": [
      "46431 rows, 10 columns\n"
     ]
    },
    {
     "data": {
      "text/html": [
       "<div>\n",
       "<style scoped>\n",
       "    .dataframe tbody tr th:only-of-type {\n",
       "        vertical-align: middle;\n",
       "    }\n",
       "\n",
       "    .dataframe tbody tr th {\n",
       "        vertical-align: top;\n",
       "    }\n",
       "\n",
       "    .dataframe thead th {\n",
       "        text-align: right;\n",
       "    }\n",
       "</style>\n",
       "<table border=\"1\" class=\"dataframe\">\n",
       "  <thead>\n",
       "    <tr style=\"text-align: right;\">\n",
       "      <th></th>\n",
       "      <th>InvoiceDate</th>\n",
       "      <th>InvoiceNo</th>\n",
       "      <th>Country</th>\n",
       "      <th>CustomerID</th>\n",
       "      <th>ProductCategory</th>\n",
       "      <th>StockCode</th>\n",
       "      <th>Description</th>\n",
       "      <th>Quantity</th>\n",
       "      <th>UnitPrice</th>\n",
       "      <th>SalesValue</th>\n",
       "    </tr>\n",
       "  </thead>\n",
       "  <tbody>\n",
       "    <tr>\n",
       "      <th>11</th>\n",
       "      <td>2010-01-12 08:45:00</td>\n",
       "      <td>536370</td>\n",
       "      <td>FRANCE</td>\n",
       "      <td>12583.0</td>\n",
       "      <td>Appliances</td>\n",
       "      <td>22631</td>\n",
       "      <td>Circus Parade Lunch Box</td>\n",
       "      <td>24</td>\n",
       "      <td>1.95</td>\n",
       "      <td>46.8</td>\n",
       "    </tr>\n",
       "    <tr>\n",
       "      <th>2</th>\n",
       "      <td>2010-01-12 08:45:00</td>\n",
       "      <td>536370</td>\n",
       "      <td>FRANCE</td>\n",
       "      <td>12583.0</td>\n",
       "      <td>Appliances</td>\n",
       "      <td>22726</td>\n",
       "      <td>Alarm Clock Bakelike Green</td>\n",
       "      <td>12</td>\n",
       "      <td>3.75</td>\n",
       "      <td>45.0</td>\n",
       "    </tr>\n",
       "    <tr>\n",
       "      <th>5</th>\n",
       "      <td>2010-01-12 08:45:00</td>\n",
       "      <td>536370</td>\n",
       "      <td>France</td>\n",
       "      <td>12583.0</td>\n",
       "      <td>Appliances</td>\n",
       "      <td>10002</td>\n",
       "      <td>Inflatable Political Globe</td>\n",
       "      <td>48</td>\n",
       "      <td>0.85</td>\n",
       "      <td>40.8</td>\n",
       "    </tr>\n",
       "    <tr>\n",
       "      <th>3</th>\n",
       "      <td>2010-01-12 08:45:00</td>\n",
       "      <td>536370</td>\n",
       "      <td>France</td>\n",
       "      <td>12583.0</td>\n",
       "      <td>Appliances</td>\n",
       "      <td>21724</td>\n",
       "      <td>Panda And Bunnies Sticker Sheet</td>\n",
       "      <td>12</td>\n",
       "      <td>0.85</td>\n",
       "      <td>10.2</td>\n",
       "    </tr>\n",
       "    <tr>\n",
       "      <th>13</th>\n",
       "      <td>2010-01-12 08:45:00</td>\n",
       "      <td>536370</td>\n",
       "      <td>France</td>\n",
       "      <td>12583.0</td>\n",
       "      <td>Appliances</td>\n",
       "      <td>21731</td>\n",
       "      <td>Red Toadstool Led Night Light</td>\n",
       "      <td>24</td>\n",
       "      <td>1.65</td>\n",
       "      <td>39.6</td>\n",
       "    </tr>\n",
       "    <tr>\n",
       "      <th>6</th>\n",
       "      <td>2010-01-12 08:45:00</td>\n",
       "      <td>536370</td>\n",
       "      <td>France</td>\n",
       "      <td>12583.0</td>\n",
       "      <td>Appliances</td>\n",
       "      <td>21791</td>\n",
       "      <td>Vintage Heads And Tails Card Game</td>\n",
       "      <td>24</td>\n",
       "      <td>1.25</td>\n",
       "      <td>30.0</td>\n",
       "    </tr>\n",
       "    <tr>\n",
       "      <th>4</th>\n",
       "      <td>2010-01-12 08:45:00</td>\n",
       "      <td>536370</td>\n",
       "      <td>France</td>\n",
       "      <td>12583.0</td>\n",
       "      <td>Appliances</td>\n",
       "      <td>21883</td>\n",
       "      <td>Stars Gift Tape</td>\n",
       "      <td>24</td>\n",
       "      <td>0.65</td>\n",
       "      <td>15.6</td>\n",
       "    </tr>\n",
       "    <tr>\n",
       "      <th>15</th>\n",
       "      <td>2010-01-12 08:45:00</td>\n",
       "      <td>536370</td>\n",
       "      <td>France</td>\n",
       "      <td>12583.0</td>\n",
       "      <td>Appliances</td>\n",
       "      <td>21913</td>\n",
       "      <td>Vintage Seaside Jigsaw Puzzles</td>\n",
       "      <td>12</td>\n",
       "      <td>3.75</td>\n",
       "      <td>45.0</td>\n",
       "    </tr>\n",
       "    <tr>\n",
       "      <th>8</th>\n",
       "      <td>2010-01-12 08:45:00</td>\n",
       "      <td>536370</td>\n",
       "      <td>France</td>\n",
       "      <td>12583.0</td>\n",
       "      <td>Appliances</td>\n",
       "      <td>22326</td>\n",
       "      <td>Round Snack Boxes Set Of4 Woodland</td>\n",
       "      <td>24</td>\n",
       "      <td>2.95</td>\n",
       "      <td>70.8</td>\n",
       "    </tr>\n",
       "    <tr>\n",
       "      <th>18</th>\n",
       "      <td>2010-01-12 08:45:00</td>\n",
       "      <td>536370</td>\n",
       "      <td>France</td>\n",
       "      <td>12583.0</td>\n",
       "      <td>Appliances</td>\n",
       "      <td>22492</td>\n",
       "      <td>Mini Paint Set Vintage</td>\n",
       "      <td>36</td>\n",
       "      <td>0.65</td>\n",
       "      <td>23.4</td>\n",
       "    </tr>\n",
       "  </tbody>\n",
       "</table>\n",
       "</div>"
      ],
      "text/plain": [
       "            InvoiceDate  InvoiceNo Country  CustomerID ProductCategory  \\\n",
       "11  2010-01-12 08:45:00     536370  FRANCE     12583.0      Appliances   \n",
       "2   2010-01-12 08:45:00     536370  FRANCE     12583.0      Appliances   \n",
       "5   2010-01-12 08:45:00     536370  France     12583.0      Appliances   \n",
       "3   2010-01-12 08:45:00     536370  France     12583.0      Appliances   \n",
       "13  2010-01-12 08:45:00     536370  France     12583.0      Appliances   \n",
       "6   2010-01-12 08:45:00     536370  France     12583.0      Appliances   \n",
       "4   2010-01-12 08:45:00     536370  France     12583.0      Appliances   \n",
       "15  2010-01-12 08:45:00     536370  France     12583.0      Appliances   \n",
       "8   2010-01-12 08:45:00     536370  France     12583.0      Appliances   \n",
       "18  2010-01-12 08:45:00     536370  France     12583.0      Appliances   \n",
       "\n",
       "   StockCode                          Description  Quantity  UnitPrice  \\\n",
       "11     22631             Circus Parade Lunch Box         24       1.95   \n",
       "2      22726           Alarm Clock Bakelike Green        12       3.75   \n",
       "5      10002          Inflatable Political Globe         48       0.85   \n",
       "3      21724      Panda And Bunnies Sticker Sheet        12       0.85   \n",
       "13     21731        Red Toadstool Led Night Light        24       1.65   \n",
       "6      21791   Vintage Heads And Tails Card Game         24       1.25   \n",
       "4      21883                     Stars Gift Tape         24       0.65   \n",
       "15     21913       Vintage Seaside Jigsaw Puzzles        12       3.75   \n",
       "8      22326  Round Snack Boxes Set Of4 Woodland         24       2.95   \n",
       "18     22492              Mini Paint Set Vintage         36       0.65   \n",
       "\n",
       "    SalesValue  \n",
       "11        46.8  \n",
       "2         45.0  \n",
       "5         40.8  \n",
       "3         10.2  \n",
       "13        39.6  \n",
       "6         30.0  \n",
       "4         15.6  \n",
       "15        45.0  \n",
       "8         70.8  \n",
       "18        23.4  "
      ]
     },
     "execution_count": 6,
     "metadata": {},
     "output_type": "execute_result"
    }
   ],
   "source": [
    "head(df, 10)"
   ]
  },
  {
   "cell_type": "markdown",
   "metadata": {},
   "source": [
    "# Analysis/Cleanup"
   ]
  },
  {
   "cell_type": "markdown",
   "metadata": {
    "ExecuteTime": {
     "end_time": "2020-09-25T11:23:14.783450Z",
     "start_time": "2020-09-25T11:23:14.776479Z"
    }
   },
   "source": [
    "## Duplicate data/rows"
   ]
  },
  {
   "cell_type": "code",
   "execution_count": 7,
   "metadata": {
    "ExecuteTime": {
     "end_time": "2021-03-29T12:27:02.941885Z",
     "start_time": "2021-03-29T12:27:02.921558Z"
    }
   },
   "outputs": [
    {
     "name": "stderr",
     "output_type": "stream",
     "text": [
      "46431 rows, 10 columns\n"
     ]
    },
    {
     "data": {
      "text/html": [
       "<div>\n",
       "<style scoped>\n",
       "    .dataframe tbody tr th:only-of-type {\n",
       "        vertical-align: middle;\n",
       "    }\n",
       "\n",
       "    .dataframe tbody tr th {\n",
       "        vertical-align: top;\n",
       "    }\n",
       "\n",
       "    .dataframe thead th {\n",
       "        text-align: right;\n",
       "    }\n",
       "</style>\n",
       "<table border=\"1\" class=\"dataframe\">\n",
       "  <thead>\n",
       "    <tr style=\"text-align: right;\">\n",
       "      <th></th>\n",
       "      <th>InvoiceDate</th>\n",
       "      <th>InvoiceNo</th>\n",
       "      <th>Country</th>\n",
       "      <th>CustomerID</th>\n",
       "      <th>ProductCategory</th>\n",
       "      <th>StockCode</th>\n",
       "      <th>Description</th>\n",
       "      <th>Quantity</th>\n",
       "      <th>UnitPrice</th>\n",
       "      <th>SalesValue</th>\n",
       "    </tr>\n",
       "  </thead>\n",
       "  <tbody>\n",
       "    <tr>\n",
       "      <th>11</th>\n",
       "      <td>2010-01-12 08:45:00</td>\n",
       "      <td>536370</td>\n",
       "      <td>FRANCE</td>\n",
       "      <td>12583.0</td>\n",
       "      <td>Appliances</td>\n",
       "      <td>22631</td>\n",
       "      <td>Circus Parade Lunch Box</td>\n",
       "      <td>24</td>\n",
       "      <td>1.95</td>\n",
       "      <td>46.8</td>\n",
       "    </tr>\n",
       "    <tr>\n",
       "      <th>2</th>\n",
       "      <td>2010-01-12 08:45:00</td>\n",
       "      <td>536370</td>\n",
       "      <td>FRANCE</td>\n",
       "      <td>12583.0</td>\n",
       "      <td>Appliances</td>\n",
       "      <td>22726</td>\n",
       "      <td>Alarm Clock Bakelike Green</td>\n",
       "      <td>12</td>\n",
       "      <td>3.75</td>\n",
       "      <td>45.0</td>\n",
       "    </tr>\n",
       "    <tr>\n",
       "      <th>5</th>\n",
       "      <td>2010-01-12 08:45:00</td>\n",
       "      <td>536370</td>\n",
       "      <td>France</td>\n",
       "      <td>12583.0</td>\n",
       "      <td>Appliances</td>\n",
       "      <td>10002</td>\n",
       "      <td>Inflatable Political Globe</td>\n",
       "      <td>48</td>\n",
       "      <td>0.85</td>\n",
       "      <td>40.8</td>\n",
       "    </tr>\n",
       "    <tr>\n",
       "      <th>3</th>\n",
       "      <td>2010-01-12 08:45:00</td>\n",
       "      <td>536370</td>\n",
       "      <td>France</td>\n",
       "      <td>12583.0</td>\n",
       "      <td>Appliances</td>\n",
       "      <td>21724</td>\n",
       "      <td>Panda And Bunnies Sticker Sheet</td>\n",
       "      <td>12</td>\n",
       "      <td>0.85</td>\n",
       "      <td>10.2</td>\n",
       "    </tr>\n",
       "  </tbody>\n",
       "</table>\n",
       "</div>"
      ],
      "text/plain": [
       "            InvoiceDate  InvoiceNo Country  CustomerID ProductCategory  \\\n",
       "11  2010-01-12 08:45:00     536370  FRANCE     12583.0      Appliances   \n",
       "2   2010-01-12 08:45:00     536370  FRANCE     12583.0      Appliances   \n",
       "5   2010-01-12 08:45:00     536370  France     12583.0      Appliances   \n",
       "3   2010-01-12 08:45:00     536370  France     12583.0      Appliances   \n",
       "\n",
       "   StockCode                      Description  Quantity  UnitPrice  SalesValue  \n",
       "11     22631         Circus Parade Lunch Box         24       1.95        46.8  \n",
       "2      22726       Alarm Clock Bakelike Green        12       3.75        45.0  \n",
       "5      10002      Inflatable Political Globe         48       0.85        40.8  \n",
       "3      21724  Panda And Bunnies Sticker Sheet        12       0.85        10.2  "
      ]
     },
     "execution_count": 7,
     "metadata": {},
     "output_type": "execute_result"
    }
   ],
   "source": [
    "head(df)"
   ]
  },
  {
   "cell_type": "code",
   "execution_count": 8,
   "metadata": {
    "ExecuteTime": {
     "end_time": "2021-03-29T12:27:03.149921Z",
     "start_time": "2021-03-29T12:27:02.944695Z"
    }
   },
   "outputs": [
    {
     "name": "stderr",
     "output_type": "stream",
     "text": [
      "46253 rows, 11 columns\n"
     ]
    },
    {
     "data": {
      "text/html": [
       "<div>\n",
       "<style scoped>\n",
       "    .dataframe tbody tr th:only-of-type {\n",
       "        vertical-align: middle;\n",
       "    }\n",
       "\n",
       "    .dataframe tbody tr th {\n",
       "        vertical-align: top;\n",
       "    }\n",
       "\n",
       "    .dataframe thead th {\n",
       "        text-align: right;\n",
       "    }\n",
       "</style>\n",
       "<table border=\"1\" class=\"dataframe\">\n",
       "  <thead>\n",
       "    <tr style=\"text-align: right;\">\n",
       "      <th></th>\n",
       "      <th>InvoiceDate</th>\n",
       "      <th>InvoiceNo</th>\n",
       "      <th>Country</th>\n",
       "      <th>CustomerID</th>\n",
       "      <th>ProductCategory</th>\n",
       "      <th>StockCode</th>\n",
       "      <th>Description</th>\n",
       "      <th>Quantity</th>\n",
       "      <th>UnitPrice</th>\n",
       "      <th>SalesValue</th>\n",
       "      <th>duplicate</th>\n",
       "    </tr>\n",
       "  </thead>\n",
       "  <tbody>\n",
       "    <tr>\n",
       "      <th>11</th>\n",
       "      <td>2010-01-12 08:45:00</td>\n",
       "      <td>536370</td>\n",
       "      <td>FRANCE</td>\n",
       "      <td>12583.0</td>\n",
       "      <td>Appliances</td>\n",
       "      <td>22631</td>\n",
       "      <td>Circus Parade Lunch Box</td>\n",
       "      <td>24</td>\n",
       "      <td>1.95</td>\n",
       "      <td>46.8</td>\n",
       "      <td>False</td>\n",
       "    </tr>\n",
       "    <tr>\n",
       "      <th>2</th>\n",
       "      <td>2010-01-12 08:45:00</td>\n",
       "      <td>536370</td>\n",
       "      <td>FRANCE</td>\n",
       "      <td>12583.0</td>\n",
       "      <td>Appliances</td>\n",
       "      <td>22726</td>\n",
       "      <td>Alarm Clock Bakelike Green</td>\n",
       "      <td>12</td>\n",
       "      <td>3.75</td>\n",
       "      <td>45.0</td>\n",
       "      <td>False</td>\n",
       "    </tr>\n",
       "    <tr>\n",
       "      <th>5</th>\n",
       "      <td>2010-01-12 08:45:00</td>\n",
       "      <td>536370</td>\n",
       "      <td>France</td>\n",
       "      <td>12583.0</td>\n",
       "      <td>Appliances</td>\n",
       "      <td>10002</td>\n",
       "      <td>Inflatable Political Globe</td>\n",
       "      <td>48</td>\n",
       "      <td>0.85</td>\n",
       "      <td>40.8</td>\n",
       "      <td>False</td>\n",
       "    </tr>\n",
       "    <tr>\n",
       "      <th>3</th>\n",
       "      <td>2010-01-12 08:45:00</td>\n",
       "      <td>536370</td>\n",
       "      <td>France</td>\n",
       "      <td>12583.0</td>\n",
       "      <td>Appliances</td>\n",
       "      <td>21724</td>\n",
       "      <td>Panda And Bunnies Sticker Sheet</td>\n",
       "      <td>12</td>\n",
       "      <td>0.85</td>\n",
       "      <td>10.2</td>\n",
       "      <td>False</td>\n",
       "    </tr>\n",
       "  </tbody>\n",
       "</table>\n",
       "</div>"
      ],
      "text/plain": [
       "            InvoiceDate  InvoiceNo Country  CustomerID ProductCategory  \\\n",
       "11  2010-01-12 08:45:00     536370  FRANCE     12583.0      Appliances   \n",
       "2   2010-01-12 08:45:00     536370  FRANCE     12583.0      Appliances   \n",
       "5   2010-01-12 08:45:00     536370  France     12583.0      Appliances   \n",
       "3   2010-01-12 08:45:00     536370  France     12583.0      Appliances   \n",
       "\n",
       "   StockCode                      Description  Quantity  UnitPrice  \\\n",
       "11     22631         Circus Parade Lunch Box         24       1.95   \n",
       "2      22726       Alarm Clock Bakelike Green        12       3.75   \n",
       "5      10002      Inflatable Political Globe         48       0.85   \n",
       "3      21724  Panda And Bunnies Sticker Sheet        12       0.85   \n",
       "\n",
       "    SalesValue  duplicate  \n",
       "11        46.8      False  \n",
       "2         45.0      False  \n",
       "5         40.8      False  \n",
       "3         10.2      False  "
      ]
     },
     "execution_count": 8,
     "metadata": {},
     "output_type": "execute_result"
    }
   ],
   "source": [
    "%%piper \n",
    "duplicated(df, duplicates=False)\n",
    ">> where(\"duplicate == False\")\n",
    ">> head()"
   ]
  },
  {
   "cell_type": "markdown",
   "metadata": {
    "ExecuteTime": {
     "end_time": "2020-09-25T11:23:14.783450Z",
     "start_time": "2020-09-25T11:23:14.776479Z"
    }
   },
   "source": [
    "## Quick check no unit price variances found"
   ]
  },
  {
   "cell_type": "code",
   "execution_count": 9,
   "metadata": {
    "ExecuteTime": {
     "end_time": "2021-03-29T12:27:03.568093Z",
     "start_time": "2021-03-29T12:27:03.152895Z"
    }
   },
   "outputs": [
    {
     "name": "stderr",
     "output_type": "stream",
     "text": [
      "2921 rows, 5 columns\n"
     ]
    },
    {
     "data": {
      "text/html": [
       "<div>\n",
       "<style scoped>\n",
       "    .dataframe tbody tr th:only-of-type {\n",
       "        vertical-align: middle;\n",
       "    }\n",
       "\n",
       "    .dataframe tbody tr th {\n",
       "        vertical-align: top;\n",
       "    }\n",
       "\n",
       "    .dataframe thead th {\n",
       "        text-align: right;\n",
       "    }\n",
       "</style>\n",
       "<table border=\"1\" class=\"dataframe\">\n",
       "  <thead>\n",
       "    <tr style=\"text-align: right;\">\n",
       "      <th></th>\n",
       "      <th>stockcode</th>\n",
       "      <th>description</th>\n",
       "      <th>unit_max</th>\n",
       "      <th>unit_min</th>\n",
       "      <th>variance</th>\n",
       "    </tr>\n",
       "  </thead>\n",
       "  <tbody>\n",
       "    <tr>\n",
       "      <th>0</th>\n",
       "      <td>10002</td>\n",
       "      <td>Inflatable Political Globe</td>\n",
       "      <td>0.85</td>\n",
       "      <td>0.85</td>\n",
       "      <td>0.0</td>\n",
       "    </tr>\n",
       "    <tr>\n",
       "      <th>1</th>\n",
       "      <td>10120</td>\n",
       "      <td>Doggy Rubber</td>\n",
       "      <td>0.21</td>\n",
       "      <td>0.21</td>\n",
       "      <td>0.0</td>\n",
       "    </tr>\n",
       "    <tr>\n",
       "      <th>2</th>\n",
       "      <td>10125</td>\n",
       "      <td>Mini Funky Design Tapes</td>\n",
       "      <td>0.42</td>\n",
       "      <td>0.42</td>\n",
       "      <td>0.0</td>\n",
       "    </tr>\n",
       "    <tr>\n",
       "      <th>3</th>\n",
       "      <td>10133</td>\n",
       "      <td>Colouring Pencils Brown Tube</td>\n",
       "      <td>0.42</td>\n",
       "      <td>0.42</td>\n",
       "      <td>0.0</td>\n",
       "    </tr>\n",
       "    <tr>\n",
       "      <th>4</th>\n",
       "      <td>10135</td>\n",
       "      <td>Colouring Pencils Brown Tube</td>\n",
       "      <td>0.42</td>\n",
       "      <td>0.42</td>\n",
       "      <td>0.0</td>\n",
       "    </tr>\n",
       "  </tbody>\n",
       "</table>\n",
       "</div>"
      ],
      "text/plain": [
       "  stockcode                   description  unit_max  unit_min  variance\n",
       "0     10002    Inflatable Political Globe      0.85      0.85       0.0\n",
       "1     10120                  Doggy Rubber      0.21      0.21       0.0\n",
       "2     10125       Mini Funky Design Tapes      0.42      0.42       0.0\n",
       "3     10133  Colouring Pencils Brown Tube      0.42      0.42       0.0\n",
       "4     10135  Colouring Pencils Brown Tube      0.42      0.42       0.0"
      ]
     },
     "execution_count": 9,
     "metadata": {},
     "output_type": "execute_result"
    }
   ],
   "source": [
    "%%piper\n",
    "df \n",
    ">> clean_columns()\n",
    ">> str_trim()\n",
    ">> group_by(['stockcode', 'description'])\n",
    ">> summarise(unit_max=('unitprice', 'min'), unit_min=('unitprice', 'min'))\n",
    ">> assign(variance=lambda x: x.unit_max - x.unit_min)\n",
    ">> pd.DataFrame.reset_index()\n",
    ">> assign(description=lambda x: x.description.str.title())\n",
    ">> head(5)"
   ]
  },
  {
   "cell_type": "markdown",
   "metadata": {
    "ExecuteTime": {
     "end_time": "2020-09-25T11:23:14.783450Z",
     "start_time": "2020-09-25T11:23:14.776479Z"
    }
   },
   "source": [
    "## Stockcodes linked to more than one ProductCategory"
   ]
  },
  {
   "cell_type": "code",
   "execution_count": 10,
   "metadata": {
    "ExecuteTime": {
     "end_time": "2021-03-29T12:27:04.311943Z",
     "start_time": "2021-03-29T12:27:03.580819Z"
    }
   },
   "outputs": [
    {
     "data": {
      "text/html": [
       "<div>\n",
       "<style scoped>\n",
       "    .dataframe tbody tr th:only-of-type {\n",
       "        vertical-align: middle;\n",
       "    }\n",
       "\n",
       "    .dataframe tbody tr th {\n",
       "        vertical-align: top;\n",
       "    }\n",
       "\n",
       "    .dataframe thead th {\n",
       "        text-align: right;\n",
       "    }\n",
       "</style>\n",
       "<table border=\"1\" class=\"dataframe\">\n",
       "  <thead>\n",
       "    <tr style=\"text-align: right;\">\n",
       "      <th></th>\n",
       "      <th>stockcode</th>\n",
       "      <th>productcategory</th>\n",
       "      <th>n</th>\n",
       "      <th>%</th>\n",
       "      <th>cum %</th>\n",
       "    </tr>\n",
       "  </thead>\n",
       "  <tbody>\n",
       "    <tr>\n",
       "      <th>0</th>\n",
       "      <td>10002</td>\n",
       "      <td>Appliances</td>\n",
       "      <td>1</td>\n",
       "      <td>0.02</td>\n",
       "      <td>0.02</td>\n",
       "    </tr>\n",
       "    <tr>\n",
       "      <th>1</th>\n",
       "      <td>10120</td>\n",
       "      <td>Apperals</td>\n",
       "      <td>1</td>\n",
       "      <td>0.02</td>\n",
       "      <td>0.03</td>\n",
       "    </tr>\n",
       "    <tr>\n",
       "      <th>2</th>\n",
       "      <td>10125</td>\n",
       "      <td>Apperals</td>\n",
       "      <td>1</td>\n",
       "      <td>0.02</td>\n",
       "      <td>0.05</td>\n",
       "    </tr>\n",
       "    <tr>\n",
       "      <th>3</th>\n",
       "      <td>10125</td>\n",
       "      <td>Appliances</td>\n",
       "      <td>1</td>\n",
       "      <td>0.02</td>\n",
       "      <td>0.06</td>\n",
       "    </tr>\n",
       "    <tr>\n",
       "      <th>4</th>\n",
       "      <td>10125</td>\n",
       "      <td>Cosmetics</td>\n",
       "      <td>1</td>\n",
       "      <td>0.02</td>\n",
       "      <td>0.08</td>\n",
       "    </tr>\n",
       "    <tr>\n",
       "      <th>...</th>\n",
       "      <td>...</td>\n",
       "      <td>...</td>\n",
       "      <td>...</td>\n",
       "      <td>...</td>\n",
       "      <td>...</td>\n",
       "    </tr>\n",
       "    <tr>\n",
       "      <th>6366</th>\n",
       "      <td>M</td>\n",
       "      <td>Appliances</td>\n",
       "      <td>1</td>\n",
       "      <td>0.02</td>\n",
       "      <td>99.91</td>\n",
       "    </tr>\n",
       "    <tr>\n",
       "      <th>6367</th>\n",
       "      <td>POST</td>\n",
       "      <td>Appliances</td>\n",
       "      <td>1</td>\n",
       "      <td>0.02</td>\n",
       "      <td>99.97</td>\n",
       "    </tr>\n",
       "    <tr>\n",
       "      <th>6368</th>\n",
       "      <td>POST</td>\n",
       "      <td>Cosmetics</td>\n",
       "      <td>1</td>\n",
       "      <td>0.02</td>\n",
       "      <td>99.98</td>\n",
       "    </tr>\n",
       "    <tr>\n",
       "      <th>6369</th>\n",
       "      <td>POST</td>\n",
       "      <td>Apperals</td>\n",
       "      <td>1</td>\n",
       "      <td>0.02</td>\n",
       "      <td>99.95</td>\n",
       "    </tr>\n",
       "    <tr>\n",
       "      <th>6370</th>\n",
       "      <td>POST</td>\n",
       "      <td>House_holds</td>\n",
       "      <td>1</td>\n",
       "      <td>0.02</td>\n",
       "      <td>100.00</td>\n",
       "    </tr>\n",
       "  </tbody>\n",
       "</table>\n",
       "<p>6371 rows × 5 columns</p>\n",
       "</div>"
      ],
      "text/plain": [
       "     stockcode productcategory  n     %   cum %\n",
       "0        10002      Appliances  1  0.02    0.02\n",
       "1        10120        Apperals  1  0.02    0.03\n",
       "2        10125        Apperals  1  0.02    0.05\n",
       "3        10125      Appliances  1  0.02    0.06\n",
       "4        10125       Cosmetics  1  0.02    0.08\n",
       "...        ...             ... ..   ...     ...\n",
       "6366         M      Appliances  1  0.02   99.91\n",
       "6367      POST      Appliances  1  0.02   99.97\n",
       "6368      POST       Cosmetics  1  0.02   99.98\n",
       "6369      POST        Apperals  1  0.02   99.95\n",
       "6370      POST     House_holds  1  0.02  100.00\n",
       "\n",
       "[6371 rows x 5 columns]"
      ]
     },
     "execution_count": 10,
     "metadata": {},
     "output_type": "execute_result"
    }
   ],
   "source": [
    "%%piper\n",
    "df \n",
    ">> str_trim()\n",
    ">> count(['stockcode', 'productcategory'], sort_values=None)\n",
    ">> distinct()\n",
    ">> reset_index()\n",
    ">> count(['stockcode', 'productcategory'], sort_values=None)\n",
    ">> reset_index()\n",
    ">> duplicated(['stockcode'])\n",
    ">> select('-duplicate')\n",
    ">> reset_index(drop=True)"
   ]
  },
  {
   "cell_type": "markdown",
   "metadata": {},
   "source": [
    "## ProductCategory"
   ]
  },
  {
   "cell_type": "code",
   "execution_count": 11,
   "metadata": {
    "ExecuteTime": {
     "end_time": "2021-03-29T12:27:04.340741Z",
     "start_time": "2021-03-29T12:27:04.313758Z"
    }
   },
   "outputs": [
    {
     "data": {
      "text/html": [
       "<div>\n",
       "<style scoped>\n",
       "    .dataframe tbody tr th:only-of-type {\n",
       "        vertical-align: middle;\n",
       "    }\n",
       "\n",
       "    .dataframe tbody tr th {\n",
       "        vertical-align: top;\n",
       "    }\n",
       "\n",
       "    .dataframe thead th {\n",
       "        text-align: right;\n",
       "    }\n",
       "</style>\n",
       "<table border=\"1\" class=\"dataframe\">\n",
       "  <thead>\n",
       "    <tr style=\"text-align: right;\">\n",
       "      <th></th>\n",
       "      <th>n</th>\n",
       "      <th>%</th>\n",
       "      <th>cum %</th>\n",
       "    </tr>\n",
       "    <tr>\n",
       "      <th>productcategory</th>\n",
       "      <th></th>\n",
       "      <th></th>\n",
       "      <th></th>\n",
       "    </tr>\n",
       "  </thead>\n",
       "  <tbody>\n",
       "    <tr>\n",
       "      <th>Apperals</th>\n",
       "      <td>11648</td>\n",
       "      <td>25.09</td>\n",
       "      <td>25.09</td>\n",
       "    </tr>\n",
       "    <tr>\n",
       "      <th>Appliances</th>\n",
       "      <td>11607</td>\n",
       "      <td>25.00</td>\n",
       "      <td>50.09</td>\n",
       "    </tr>\n",
       "    <tr>\n",
       "      <th>Cosmetics</th>\n",
       "      <td>11607</td>\n",
       "      <td>25.00</td>\n",
       "      <td>75.08</td>\n",
       "    </tr>\n",
       "    <tr>\n",
       "      <th>House_holds</th>\n",
       "      <td>11569</td>\n",
       "      <td>24.92</td>\n",
       "      <td>100.00</td>\n",
       "    </tr>\n",
       "  </tbody>\n",
       "</table>\n",
       "</div>"
      ],
      "text/plain": [
       "                     n      %   cum %\n",
       "productcategory                      \n",
       "Apperals         11648  25.09   25.09\n",
       "Appliances       11607  25.00   50.09\n",
       "Cosmetics        11607  25.00   75.08\n",
       "House_holds      11569  24.92  100.00"
      ]
     },
     "execution_count": 11,
     "metadata": {},
     "output_type": "execute_result"
    }
   ],
   "source": [
    "count(df, 'productcategory')"
   ]
  },
  {
   "cell_type": "code",
   "execution_count": 12,
   "metadata": {
    "ExecuteTime": {
     "end_time": "2021-03-29T12:27:04.378377Z",
     "start_time": "2021-03-29T12:27:04.343740Z"
    }
   },
   "outputs": [],
   "source": [
    "df.loc[df.productcategory == 'House_holds', 'ProductCategory'] = 'Households'\n",
    "df.loc[df.productcategory == 'Apperals', 'ProductCategory'] = 'Apparels'"
   ]
  },
  {
   "cell_type": "code",
   "execution_count": 13,
   "metadata": {
    "ExecuteTime": {
     "end_time": "2021-03-29T12:27:04.411064Z",
     "start_time": "2021-03-29T12:27:04.381489Z"
    }
   },
   "outputs": [
    {
     "data": {
      "text/html": [
       "<div>\n",
       "<style scoped>\n",
       "    .dataframe tbody tr th:only-of-type {\n",
       "        vertical-align: middle;\n",
       "    }\n",
       "\n",
       "    .dataframe tbody tr th {\n",
       "        vertical-align: top;\n",
       "    }\n",
       "\n",
       "    .dataframe thead th {\n",
       "        text-align: right;\n",
       "    }\n",
       "</style>\n",
       "<table border=\"1\" class=\"dataframe\">\n",
       "  <thead>\n",
       "    <tr style=\"text-align: right;\">\n",
       "      <th></th>\n",
       "      <th>n</th>\n",
       "      <th>%</th>\n",
       "      <th>cum %</th>\n",
       "    </tr>\n",
       "    <tr>\n",
       "      <th>productcategory</th>\n",
       "      <th></th>\n",
       "      <th></th>\n",
       "      <th></th>\n",
       "    </tr>\n",
       "  </thead>\n",
       "  <tbody>\n",
       "    <tr>\n",
       "      <th>Apperals</th>\n",
       "      <td>11648</td>\n",
       "      <td>25.09</td>\n",
       "      <td>25.09</td>\n",
       "    </tr>\n",
       "    <tr>\n",
       "      <th>Appliances</th>\n",
       "      <td>11607</td>\n",
       "      <td>25.00</td>\n",
       "      <td>50.09</td>\n",
       "    </tr>\n",
       "    <tr>\n",
       "      <th>Cosmetics</th>\n",
       "      <td>11607</td>\n",
       "      <td>25.00</td>\n",
       "      <td>75.08</td>\n",
       "    </tr>\n",
       "    <tr>\n",
       "      <th>House_holds</th>\n",
       "      <td>11569</td>\n",
       "      <td>24.92</td>\n",
       "      <td>100.00</td>\n",
       "    </tr>\n",
       "  </tbody>\n",
       "</table>\n",
       "</div>"
      ],
      "text/plain": [
       "                     n      %   cum %\n",
       "productcategory                      \n",
       "Apperals         11648  25.09   25.09\n",
       "Appliances       11607  25.00   50.09\n",
       "Cosmetics        11607  25.00   75.08\n",
       "House_holds      11569  24.92  100.00"
      ]
     },
     "execution_count": 13,
     "metadata": {},
     "output_type": "execute_result"
    }
   ],
   "source": [
    "count(df, 'productcategory')"
   ]
  },
  {
   "cell_type": "markdown",
   "metadata": {},
   "source": [
    "## Country"
   ]
  },
  {
   "cell_type": "code",
   "execution_count": 14,
   "metadata": {
    "ExecuteTime": {
     "end_time": "2021-03-29T12:27:04.472261Z",
     "start_time": "2021-03-29T12:27:04.413300Z"
    }
   },
   "outputs": [
    {
     "data": {
      "text/html": [
       "<div>\n",
       "<style scoped>\n",
       "    .dataframe tbody tr th:only-of-type {\n",
       "        vertical-align: middle;\n",
       "    }\n",
       "\n",
       "    .dataframe tbody tr th {\n",
       "        vertical-align: top;\n",
       "    }\n",
       "\n",
       "    .dataframe thead th {\n",
       "        text-align: right;\n",
       "    }\n",
       "</style>\n",
       "<table border=\"1\" class=\"dataframe\">\n",
       "  <thead>\n",
       "    <tr style=\"text-align: right;\">\n",
       "      <th></th>\n",
       "      <th>n</th>\n",
       "      <th>%</th>\n",
       "      <th>cum %</th>\n",
       "    </tr>\n",
       "  </thead>\n",
       "  <tbody>\n",
       "    <tr>\n",
       "      <th>Germany</th>\n",
       "      <td>9495</td>\n",
       "      <td>20.45</td>\n",
       "      <td>20.45</td>\n",
       "    </tr>\n",
       "    <tr>\n",
       "      <th>France</th>\n",
       "      <td>8554</td>\n",
       "      <td>18.42</td>\n",
       "      <td>38.87</td>\n",
       "    </tr>\n",
       "    <tr>\n",
       "      <th>EIRE</th>\n",
       "      <td>8196</td>\n",
       "      <td>17.65</td>\n",
       "      <td>56.52</td>\n",
       "    </tr>\n",
       "    <tr>\n",
       "      <th>Spain</th>\n",
       "      <td>2533</td>\n",
       "      <td>5.46</td>\n",
       "      <td>61.98</td>\n",
       "    </tr>\n",
       "    <tr>\n",
       "      <th>Netherlands</th>\n",
       "      <td>2371</td>\n",
       "      <td>5.11</td>\n",
       "      <td>67.09</td>\n",
       "    </tr>\n",
       "    <tr>\n",
       "      <th>Belgium</th>\n",
       "      <td>2069</td>\n",
       "      <td>4.46</td>\n",
       "      <td>71.54</td>\n",
       "    </tr>\n",
       "    <tr>\n",
       "      <th>Switzerland</th>\n",
       "      <td>2002</td>\n",
       "      <td>4.31</td>\n",
       "      <td>75.85</td>\n",
       "    </tr>\n",
       "    <tr>\n",
       "      <th>Portugal</th>\n",
       "      <td>1519</td>\n",
       "      <td>3.27</td>\n",
       "      <td>79.13</td>\n",
       "    </tr>\n",
       "    <tr>\n",
       "      <th>All</th>\n",
       "      <td>36739</td>\n",
       "      <td></td>\n",
       "      <td></td>\n",
       "    </tr>\n",
       "  </tbody>\n",
       "</table>\n",
       "</div>"
      ],
      "text/plain": [
       "                 n      %  cum %\n",
       "Germany       9495  20.45  20.45\n",
       "France        8554  18.42  38.87\n",
       "EIRE          8196  17.65  56.52\n",
       "Spain         2533   5.46  61.98\n",
       "Netherlands   2371   5.11  67.09\n",
       "Belgium       2069   4.46  71.54\n",
       "Switzerland   2002   4.31  75.85\n",
       "Portugal      1519   3.27  79.13\n",
       "All          36739              "
      ]
     },
     "execution_count": 14,
     "metadata": {},
     "output_type": "execute_result"
    }
   ],
   "source": [
    "%piper count(df, 'country', cum_percent=True, threshold=81) >> adorn(columns='n')"
   ]
  },
  {
   "cell_type": "code",
   "execution_count": 15,
   "metadata": {
    "ExecuteTime": {
     "end_time": "2021-03-29T12:27:04.501517Z",
     "start_time": "2021-03-29T12:27:04.475502Z"
    }
   },
   "outputs": [],
   "source": [
    "df.country = df.country.str.title()"
   ]
  },
  {
   "cell_type": "code",
   "execution_count": 16,
   "metadata": {
    "ExecuteTime": {
     "end_time": "2021-03-29T12:27:04.588516Z",
     "start_time": "2021-03-29T12:27:04.513430Z"
    }
   },
   "outputs": [
    {
     "name": "stderr",
     "output_type": "stream",
     "text": [
      "36 rows, 3 columns\n"
     ]
    },
    {
     "data": {
      "text/html": [
       "<div>\n",
       "<style scoped>\n",
       "    .dataframe tbody tr th:only-of-type {\n",
       "        vertical-align: middle;\n",
       "    }\n",
       "\n",
       "    .dataframe tbody tr th {\n",
       "        vertical-align: top;\n",
       "    }\n",
       "\n",
       "    .dataframe thead th {\n",
       "        text-align: right;\n",
       "    }\n",
       "</style>\n",
       "<table border=\"1\" class=\"dataframe\">\n",
       "  <thead>\n",
       "    <tr style=\"text-align: right;\">\n",
       "      <th></th>\n",
       "      <th>n</th>\n",
       "      <th>%</th>\n",
       "      <th>cum %</th>\n",
       "    </tr>\n",
       "    <tr>\n",
       "      <th>country</th>\n",
       "      <th></th>\n",
       "      <th></th>\n",
       "      <th></th>\n",
       "    </tr>\n",
       "  </thead>\n",
       "  <tbody>\n",
       "    <tr>\n",
       "      <th>Germany</th>\n",
       "      <td>9495</td>\n",
       "      <td>20.45</td>\n",
       "      <td>20.45</td>\n",
       "    </tr>\n",
       "    <tr>\n",
       "      <th>France</th>\n",
       "      <td>8557</td>\n",
       "      <td>18.43</td>\n",
       "      <td>38.88</td>\n",
       "    </tr>\n",
       "    <tr>\n",
       "      <th>Eire</th>\n",
       "      <td>8196</td>\n",
       "      <td>17.65</td>\n",
       "      <td>56.53</td>\n",
       "    </tr>\n",
       "    <tr>\n",
       "      <th>Spain</th>\n",
       "      <td>2533</td>\n",
       "      <td>5.46</td>\n",
       "      <td>61.99</td>\n",
       "    </tr>\n",
       "    <tr>\n",
       "      <th>Netherlands</th>\n",
       "      <td>2371</td>\n",
       "      <td>5.11</td>\n",
       "      <td>67.09</td>\n",
       "    </tr>\n",
       "  </tbody>\n",
       "</table>\n",
       "</div>"
      ],
      "text/plain": [
       "                n      %  cum %\n",
       "country                        \n",
       "Germany      9495  20.45  20.45\n",
       "France       8557  18.43  38.88\n",
       "Eire         8196  17.65  56.53\n",
       "Spain        2533   5.46  61.99\n",
       "Netherlands  2371   5.11  67.09"
      ]
     },
     "execution_count": 16,
     "metadata": {},
     "output_type": "execute_result"
    }
   ],
   "source": [
    "%piper df >> count('country') >> head(5)"
   ]
  },
  {
   "cell_type": "markdown",
   "metadata": {},
   "source": [
    "## StockCode"
   ]
  },
  {
   "cell_type": "code",
   "execution_count": 17,
   "metadata": {
    "ExecuteTime": {
     "end_time": "2021-03-29T12:27:04.805888Z",
     "start_time": "2021-03-29T12:27:04.593038Z"
    }
   },
   "outputs": [
    {
     "name": "stderr",
     "output_type": "stream",
     "text": [
      "2807 rows, 3 columns\n"
     ]
    },
    {
     "data": {
      "text/html": [
       "<div>\n",
       "<style scoped>\n",
       "    .dataframe tbody tr th:only-of-type {\n",
       "        vertical-align: middle;\n",
       "    }\n",
       "\n",
       "    .dataframe tbody tr th {\n",
       "        vertical-align: top;\n",
       "    }\n",
       "\n",
       "    .dataframe thead th {\n",
       "        text-align: right;\n",
       "    }\n",
       "</style>\n",
       "<table border=\"1\" class=\"dataframe\">\n",
       "  <thead>\n",
       "    <tr style=\"text-align: right;\">\n",
       "      <th></th>\n",
       "      <th>n</th>\n",
       "      <th>%</th>\n",
       "      <th>cum %</th>\n",
       "    </tr>\n",
       "    <tr>\n",
       "      <th>stockcode</th>\n",
       "      <th></th>\n",
       "      <th></th>\n",
       "      <th></th>\n",
       "    </tr>\n",
       "  </thead>\n",
       "  <tbody>\n",
       "    <tr>\n",
       "      <th>POST</th>\n",
       "      <td>1112</td>\n",
       "      <td>2.39</td>\n",
       "      <td>2.39</td>\n",
       "    </tr>\n",
       "    <tr>\n",
       "      <th>22423</th>\n",
       "      <td>341</td>\n",
       "      <td>0.73</td>\n",
       "      <td>3.13</td>\n",
       "    </tr>\n",
       "    <tr>\n",
       "      <th>22326</th>\n",
       "      <td>317</td>\n",
       "      <td>0.68</td>\n",
       "      <td>3.81</td>\n",
       "    </tr>\n",
       "    <tr>\n",
       "      <th>22554</th>\n",
       "      <td>225</td>\n",
       "      <td>0.48</td>\n",
       "      <td>4.30</td>\n",
       "    </tr>\n",
       "    <tr>\n",
       "      <th>22556</th>\n",
       "      <td>210</td>\n",
       "      <td>0.45</td>\n",
       "      <td>4.75</td>\n",
       "    </tr>\n",
       "  </tbody>\n",
       "</table>\n",
       "</div>"
      ],
      "text/plain": [
       "              n     %  cum %\n",
       "stockcode                   \n",
       "POST       1112  2.39   2.39\n",
       "22423       341  0.73   3.13\n",
       "22326       317  0.68   3.81\n",
       "22554       225  0.48   4.30\n",
       "22556       210  0.45   4.75"
      ]
     },
     "execution_count": 17,
     "metadata": {},
     "output_type": "execute_result"
    }
   ],
   "source": [
    "%piper count(df, 'stockcode') >> head(5)"
   ]
  },
  {
   "cell_type": "markdown",
   "metadata": {
    "ExecuteTime": {
     "end_time": "2020-09-25T11:23:14.783450Z",
     "start_time": "2020-09-25T11:23:14.776479Z"
    }
   },
   "source": [
    "## InvoiceNo"
   ]
  },
  {
   "cell_type": "code",
   "execution_count": 18,
   "metadata": {
    "ExecuteTime": {
     "end_time": "2021-03-29T12:27:04.888682Z",
     "start_time": "2021-03-29T12:27:04.809761Z"
    }
   },
   "outputs": [
    {
     "name": "stderr",
     "output_type": "stream",
     "text": [
      "2406 rows, 3 columns\n"
     ]
    },
    {
     "data": {
      "text/html": [
       "<div>\n",
       "<style scoped>\n",
       "    .dataframe tbody tr th:only-of-type {\n",
       "        vertical-align: middle;\n",
       "    }\n",
       "\n",
       "    .dataframe tbody tr th {\n",
       "        vertical-align: top;\n",
       "    }\n",
       "\n",
       "    .dataframe thead th {\n",
       "        text-align: right;\n",
       "    }\n",
       "</style>\n",
       "<table border=\"1\" class=\"dataframe\">\n",
       "  <thead>\n",
       "    <tr style=\"text-align: right;\">\n",
       "      <th></th>\n",
       "      <th>n</th>\n",
       "      <th>%</th>\n",
       "      <th>cum %</th>\n",
       "    </tr>\n",
       "    <tr>\n",
       "      <th>invoiceno</th>\n",
       "      <th></th>\n",
       "      <th></th>\n",
       "      <th></th>\n",
       "    </tr>\n",
       "  </thead>\n",
       "  <tbody>\n",
       "    <tr>\n",
       "      <th>570672</th>\n",
       "      <td>259</td>\n",
       "      <td>0.56</td>\n",
       "      <td>0.56</td>\n",
       "    </tr>\n",
       "    <tr>\n",
       "      <th>562046</th>\n",
       "      <td>219</td>\n",
       "      <td>0.47</td>\n",
       "      <td>1.03</td>\n",
       "    </tr>\n",
       "    <tr>\n",
       "      <th>569866</th>\n",
       "      <td>182</td>\n",
       "      <td>0.39</td>\n",
       "      <td>1.42</td>\n",
       "    </tr>\n",
       "    <tr>\n",
       "      <th>563613</th>\n",
       "      <td>171</td>\n",
       "      <td>0.37</td>\n",
       "      <td>1.79</td>\n",
       "    </tr>\n",
       "  </tbody>\n",
       "</table>\n",
       "</div>"
      ],
      "text/plain": [
       "             n     %  cum %\n",
       "invoiceno                  \n",
       "570672     259  0.56   0.56\n",
       "562046     219  0.47   1.03\n",
       "569866     182  0.39   1.42\n",
       "563613     171  0.37   1.79"
      ]
     },
     "execution_count": 18,
     "metadata": {},
     "output_type": "execute_result"
    }
   ],
   "source": [
    "%piper df >> count('invoiceno') >> head()"
   ]
  },
  {
   "cell_type": "markdown",
   "metadata": {
    "ExecuteTime": {
     "end_time": "2020-09-25T11:23:14.783450Z",
     "start_time": "2020-09-25T11:23:14.776479Z"
    }
   },
   "source": [
    "## InvoiceDate"
   ]
  },
  {
   "cell_type": "code",
   "execution_count": 19,
   "metadata": {
    "ExecuteTime": {
     "end_time": "2021-03-29T12:27:05.016501Z",
     "start_time": "2021-03-29T12:27:04.892764Z"
    }
   },
   "outputs": [
    {
     "data": {
      "text/html": [
       "<div>\n",
       "<style scoped>\n",
       "    .dataframe tbody tr th:only-of-type {\n",
       "        vertical-align: middle;\n",
       "    }\n",
       "\n",
       "    .dataframe tbody tr th {\n",
       "        vertical-align: top;\n",
       "    }\n",
       "\n",
       "    .dataframe thead th {\n",
       "        text-align: right;\n",
       "    }\n",
       "</style>\n",
       "<table border=\"1\" class=\"dataframe\">\n",
       "  <thead>\n",
       "    <tr style=\"text-align: right;\">\n",
       "      <th></th>\n",
       "      <th>n</th>\n",
       "      <th>%</th>\n",
       "      <th>cum %</th>\n",
       "    </tr>\n",
       "    <tr>\n",
       "      <th>invoicedate</th>\n",
       "      <th></th>\n",
       "      <th></th>\n",
       "      <th></th>\n",
       "    </tr>\n",
       "  </thead>\n",
       "  <tbody>\n",
       "    <tr>\n",
       "      <th>2011-11-10 14:52:00</th>\n",
       "      <td>259</td>\n",
       "      <td>0.56</td>\n",
       "      <td>0.56</td>\n",
       "    </tr>\n",
       "    <tr>\n",
       "      <th>2011-02-08 10:34:00</th>\n",
       "      <td>219</td>\n",
       "      <td>0.47</td>\n",
       "      <td>1.03</td>\n",
       "    </tr>\n",
       "    <tr>\n",
       "      <th>2011-06-10 14:50:00</th>\n",
       "      <td>182</td>\n",
       "      <td>0.39</td>\n",
       "      <td>1.42</td>\n",
       "    </tr>\n",
       "    <tr>\n",
       "      <th>18-08-2011 08:49</th>\n",
       "      <td>171</td>\n",
       "      <td>0.37</td>\n",
       "      <td>1.79</td>\n",
       "    </tr>\n",
       "    <tr>\n",
       "      <th>2011-07-01 12:28:00</th>\n",
       "      <td>149</td>\n",
       "      <td>0.32</td>\n",
       "      <td>2.11</td>\n",
       "    </tr>\n",
       "    <tr>\n",
       "      <th>...</th>\n",
       "      <td>...</td>\n",
       "      <td>...</td>\n",
       "      <td>...</td>\n",
       "    </tr>\n",
       "    <tr>\n",
       "      <th>19-08-2011 10:37</th>\n",
       "      <td>1</td>\n",
       "      <td>0.00</td>\n",
       "      <td>99.99</td>\n",
       "    </tr>\n",
       "    <tr>\n",
       "      <th>23-06-2011 13:16</th>\n",
       "      <td>1</td>\n",
       "      <td>0.00</td>\n",
       "      <td>99.99</td>\n",
       "    </tr>\n",
       "    <tr>\n",
       "      <th>2011-11-11 14:04:00</th>\n",
       "      <td>1</td>\n",
       "      <td>0.00</td>\n",
       "      <td>100.00</td>\n",
       "    </tr>\n",
       "    <tr>\n",
       "      <th>2011-04-07 12:40:00</th>\n",
       "      <td>1</td>\n",
       "      <td>0.00</td>\n",
       "      <td>100.00</td>\n",
       "    </tr>\n",
       "    <tr>\n",
       "      <th>24-11-2011 12:01</th>\n",
       "      <td>1</td>\n",
       "      <td>0.00</td>\n",
       "      <td>100.00</td>\n",
       "    </tr>\n",
       "  </tbody>\n",
       "</table>\n",
       "<p>2372 rows × 3 columns</p>\n",
       "</div>"
      ],
      "text/plain": [
       "                       n     %   cum %\n",
       "invoicedate                           \n",
       "2011-11-10 14:52:00  259  0.56    0.56\n",
       "2011-02-08 10:34:00  219  0.47    1.03\n",
       "2011-06-10 14:50:00  182  0.39    1.42\n",
       "18-08-2011 08:49     171  0.37    1.79\n",
       "2011-07-01 12:28:00  149  0.32    2.11\n",
       "...                  ...   ...     ...\n",
       "19-08-2011 10:37       1  0.00   99.99\n",
       "23-06-2011 13:16       1  0.00   99.99\n",
       "2011-11-11 14:04:00    1  0.00  100.00\n",
       "2011-04-07 12:40:00    1  0.00  100.00\n",
       "24-11-2011 12:01       1  0.00  100.00\n",
       "\n",
       "[2372 rows x 3 columns]"
      ]
     },
     "execution_count": 19,
     "metadata": {},
     "output_type": "execute_result"
    }
   ],
   "source": [
    "count(df, 'invoicedate')"
   ]
  },
  {
   "cell_type": "code",
   "execution_count": 20,
   "metadata": {
    "ExecuteTime": {
     "end_time": "2021-03-29T12:27:05.214667Z",
     "start_time": "2021-03-29T12:27:05.018537Z"
    }
   },
   "outputs": [],
   "source": [
    "df['invoicedate'] = pd.to_datetime(df['invoicedate'])"
   ]
  },
  {
   "cell_type": "code",
   "execution_count": 21,
   "metadata": {
    "ExecuteTime": {
     "end_time": "2021-03-29T12:27:05.341525Z",
     "start_time": "2021-03-29T12:27:05.217026Z"
    }
   },
   "outputs": [
    {
     "data": {
      "text/html": [
       "<div>\n",
       "<style scoped>\n",
       "    .dataframe tbody tr th:only-of-type {\n",
       "        vertical-align: middle;\n",
       "    }\n",
       "\n",
       "    .dataframe tbody tr th {\n",
       "        vertical-align: top;\n",
       "    }\n",
       "\n",
       "    .dataframe thead th {\n",
       "        text-align: right;\n",
       "    }\n",
       "</style>\n",
       "<table border=\"1\" class=\"dataframe\">\n",
       "  <thead>\n",
       "    <tr style=\"text-align: right;\">\n",
       "      <th></th>\n",
       "      <th>n</th>\n",
       "      <th>%</th>\n",
       "      <th>cum %</th>\n",
       "    </tr>\n",
       "    <tr>\n",
       "      <th>invoicedate</th>\n",
       "      <th></th>\n",
       "      <th></th>\n",
       "      <th></th>\n",
       "    </tr>\n",
       "  </thead>\n",
       "  <tbody>\n",
       "    <tr>\n",
       "      <th>2011-11-10 14:52:00</th>\n",
       "      <td>259</td>\n",
       "      <td>0.56</td>\n",
       "      <td>0.56</td>\n",
       "    </tr>\n",
       "    <tr>\n",
       "      <th>2011-02-08 10:34:00</th>\n",
       "      <td>219</td>\n",
       "      <td>0.47</td>\n",
       "      <td>1.03</td>\n",
       "    </tr>\n",
       "    <tr>\n",
       "      <th>2011-06-10 14:50:00</th>\n",
       "      <td>182</td>\n",
       "      <td>0.39</td>\n",
       "      <td>1.42</td>\n",
       "    </tr>\n",
       "    <tr>\n",
       "      <th>2011-08-18 08:49:00</th>\n",
       "      <td>171</td>\n",
       "      <td>0.37</td>\n",
       "      <td>1.79</td>\n",
       "    </tr>\n",
       "    <tr>\n",
       "      <th>2011-07-01 12:28:00</th>\n",
       "      <td>149</td>\n",
       "      <td>0.32</td>\n",
       "      <td>2.11</td>\n",
       "    </tr>\n",
       "    <tr>\n",
       "      <th>...</th>\n",
       "      <td>...</td>\n",
       "      <td>...</td>\n",
       "      <td>...</td>\n",
       "    </tr>\n",
       "    <tr>\n",
       "      <th>2011-04-05 16:18:00</th>\n",
       "      <td>1</td>\n",
       "      <td>0.00</td>\n",
       "      <td>99.99</td>\n",
       "    </tr>\n",
       "    <tr>\n",
       "      <th>2011-04-05 10:47:00</th>\n",
       "      <td>1</td>\n",
       "      <td>0.00</td>\n",
       "      <td>99.99</td>\n",
       "    </tr>\n",
       "    <tr>\n",
       "      <th>2011-04-05 08:52:00</th>\n",
       "      <td>1</td>\n",
       "      <td>0.00</td>\n",
       "      <td>100.00</td>\n",
       "    </tr>\n",
       "    <tr>\n",
       "      <th>2011-04-04 13:09:00</th>\n",
       "      <td>1</td>\n",
       "      <td>0.00</td>\n",
       "      <td>100.00</td>\n",
       "    </tr>\n",
       "    <tr>\n",
       "      <th>2011-02-11 12:03:00</th>\n",
       "      <td>1</td>\n",
       "      <td>0.00</td>\n",
       "      <td>100.00</td>\n",
       "    </tr>\n",
       "  </tbody>\n",
       "</table>\n",
       "<p>2372 rows × 3 columns</p>\n",
       "</div>"
      ],
      "text/plain": [
       "                       n     %   cum %\n",
       "invoicedate                           \n",
       "2011-11-10 14:52:00  259  0.56    0.56\n",
       "2011-02-08 10:34:00  219  0.47    1.03\n",
       "2011-06-10 14:50:00  182  0.39    1.42\n",
       "2011-08-18 08:49:00  171  0.37    1.79\n",
       "2011-07-01 12:28:00  149  0.32    2.11\n",
       "...                  ...   ...     ...\n",
       "2011-04-05 16:18:00    1  0.00   99.99\n",
       "2011-04-05 10:47:00    1  0.00   99.99\n",
       "2011-04-05 08:52:00    1  0.00  100.00\n",
       "2011-04-04 13:09:00    1  0.00  100.00\n",
       "2011-02-11 12:03:00    1  0.00  100.00\n",
       "\n",
       "[2372 rows x 3 columns]"
      ]
     },
     "execution_count": 21,
     "metadata": {},
     "output_type": "execute_result"
    }
   ],
   "source": [
    "count(df, 'invoicedate')"
   ]
  },
  {
   "cell_type": "markdown",
   "metadata": {
    "ExecuteTime": {
     "end_time": "2020-09-25T11:23:14.783450Z",
     "start_time": "2020-09-25T11:23:14.776479Z"
    }
   },
   "source": [
    "## CustomerID"
   ]
  },
  {
   "cell_type": "code",
   "execution_count": 22,
   "metadata": {
    "ExecuteTime": {
     "end_time": "2021-03-29T12:27:05.418425Z",
     "start_time": "2021-03-29T12:27:05.346721Z"
    }
   },
   "outputs": [
    {
     "data": {
      "text/html": [
       "<div>\n",
       "<style scoped>\n",
       "    .dataframe tbody tr th:only-of-type {\n",
       "        vertical-align: middle;\n",
       "    }\n",
       "\n",
       "    .dataframe tbody tr th {\n",
       "        vertical-align: top;\n",
       "    }\n",
       "\n",
       "    .dataframe thead th {\n",
       "        text-align: right;\n",
       "    }\n",
       "</style>\n",
       "<table border=\"1\" class=\"dataframe\">\n",
       "  <thead>\n",
       "    <tr style=\"text-align: right;\">\n",
       "      <th></th>\n",
       "      <th>n</th>\n",
       "      <th>%</th>\n",
       "      <th>cum %</th>\n",
       "    </tr>\n",
       "    <tr>\n",
       "      <th>customerid</th>\n",
       "      <th></th>\n",
       "      <th></th>\n",
       "      <th></th>\n",
       "    </tr>\n",
       "  </thead>\n",
       "  <tbody>\n",
       "    <tr>\n",
       "      <th>14911.0</th>\n",
       "      <td>5903.0</td>\n",
       "      <td>12.71</td>\n",
       "      <td>12.71</td>\n",
       "    </tr>\n",
       "    <tr>\n",
       "      <th>14646.0</th>\n",
       "      <td>2085.0</td>\n",
       "      <td>4.49</td>\n",
       "      <td>17.20</td>\n",
       "    </tr>\n",
       "    <tr>\n",
       "      <th>NaN</th>\n",
       "      <td>1480.0</td>\n",
       "      <td>3.19</td>\n",
       "      <td>20.39</td>\n",
       "    </tr>\n",
       "    <tr>\n",
       "      <th>14156.0</th>\n",
       "      <td>1420.0</td>\n",
       "      <td>3.06</td>\n",
       "      <td>23.45</td>\n",
       "    </tr>\n",
       "    <tr>\n",
       "      <th>12415.0</th>\n",
       "      <td>778.0</td>\n",
       "      <td>1.68</td>\n",
       "      <td>25.13</td>\n",
       "    </tr>\n",
       "    <tr>\n",
       "      <th>...</th>\n",
       "      <td>...</td>\n",
       "      <td>...</td>\n",
       "      <td>...</td>\n",
       "    </tr>\n",
       "    <tr>\n",
       "      <th>12814.0</th>\n",
       "      <td>2.0</td>\n",
       "      <td>0.00</td>\n",
       "      <td>99.99</td>\n",
       "    </tr>\n",
       "    <tr>\n",
       "      <th>12666.0</th>\n",
       "      <td>2.0</td>\n",
       "      <td>0.00</td>\n",
       "      <td>99.99</td>\n",
       "    </tr>\n",
       "    <tr>\n",
       "      <th>17443.0</th>\n",
       "      <td>1.0</td>\n",
       "      <td>0.00</td>\n",
       "      <td>100.00</td>\n",
       "    </tr>\n",
       "    <tr>\n",
       "      <th>12505.0</th>\n",
       "      <td>1.0</td>\n",
       "      <td>0.00</td>\n",
       "      <td>100.00</td>\n",
       "    </tr>\n",
       "    <tr>\n",
       "      <th>12503.0</th>\n",
       "      <td>1.0</td>\n",
       "      <td>0.00</td>\n",
       "      <td>100.00</td>\n",
       "    </tr>\n",
       "  </tbody>\n",
       "</table>\n",
       "<p>423 rows × 3 columns</p>\n",
       "</div>"
      ],
      "text/plain": [
       "                 n      %   cum %\n",
       "customerid                       \n",
       "14911.0     5903.0  12.71   12.71\n",
       "14646.0     2085.0   4.49   17.20\n",
       "NaN         1480.0   3.19   20.39\n",
       "14156.0     1420.0   3.06   23.45\n",
       "12415.0      778.0   1.68   25.13\n",
       "...            ...    ...     ...\n",
       "12814.0        2.0   0.00   99.99\n",
       "12666.0        2.0   0.00   99.99\n",
       "17443.0        1.0   0.00  100.00\n",
       "12505.0        1.0   0.00  100.00\n",
       "12503.0        1.0   0.00  100.00\n",
       "\n",
       "[423 rows x 3 columns]"
      ]
     },
     "execution_count": 22,
     "metadata": {},
     "output_type": "execute_result"
    }
   ],
   "source": [
    "count(df, 'customerid')"
   ]
  },
  {
   "cell_type": "code",
   "execution_count": 23,
   "metadata": {
    "ExecuteTime": {
     "end_time": "2021-03-29T12:27:05.495456Z",
     "start_time": "2021-03-29T12:27:05.421123Z"
    }
   },
   "outputs": [
    {
     "data": {
      "text/html": [
       "<div>\n",
       "<style scoped>\n",
       "    .dataframe tbody tr th:only-of-type {\n",
       "        vertical-align: middle;\n",
       "    }\n",
       "\n",
       "    .dataframe tbody tr th {\n",
       "        vertical-align: top;\n",
       "    }\n",
       "\n",
       "    .dataframe thead th {\n",
       "        text-align: right;\n",
       "    }\n",
       "</style>\n",
       "<table border=\"1\" class=\"dataframe\">\n",
       "  <thead>\n",
       "    <tr style=\"text-align: right;\">\n",
       "      <th></th>\n",
       "      <th>n</th>\n",
       "      <th>%</th>\n",
       "      <th>cum %</th>\n",
       "    </tr>\n",
       "    <tr>\n",
       "      <th>customerid</th>\n",
       "      <th></th>\n",
       "      <th></th>\n",
       "      <th></th>\n",
       "    </tr>\n",
       "  </thead>\n",
       "  <tbody>\n",
       "    <tr>\n",
       "      <th>14911</th>\n",
       "      <td>5903</td>\n",
       "      <td>13.13</td>\n",
       "      <td>13.13</td>\n",
       "    </tr>\n",
       "    <tr>\n",
       "      <th>14646</th>\n",
       "      <td>2085</td>\n",
       "      <td>4.64</td>\n",
       "      <td>17.77</td>\n",
       "    </tr>\n",
       "    <tr>\n",
       "      <th>14156</th>\n",
       "      <td>1420</td>\n",
       "      <td>3.16</td>\n",
       "      <td>20.93</td>\n",
       "    </tr>\n",
       "    <tr>\n",
       "      <th>12415</th>\n",
       "      <td>778</td>\n",
       "      <td>1.73</td>\n",
       "      <td>22.66</td>\n",
       "    </tr>\n",
       "    <tr>\n",
       "      <th>12681</th>\n",
       "      <td>646</td>\n",
       "      <td>1.44</td>\n",
       "      <td>24.10</td>\n",
       "    </tr>\n",
       "    <tr>\n",
       "      <th>...</th>\n",
       "      <td>...</td>\n",
       "      <td>...</td>\n",
       "      <td>...</td>\n",
       "    </tr>\n",
       "    <tr>\n",
       "      <th>12814</th>\n",
       "      <td>2</td>\n",
       "      <td>0.00</td>\n",
       "      <td>99.99</td>\n",
       "    </tr>\n",
       "    <tr>\n",
       "      <th>12505</th>\n",
       "      <td>1</td>\n",
       "      <td>0.00</td>\n",
       "      <td>100.00</td>\n",
       "    </tr>\n",
       "    <tr>\n",
       "      <th>17443</th>\n",
       "      <td>1</td>\n",
       "      <td>0.00</td>\n",
       "      <td>100.00</td>\n",
       "    </tr>\n",
       "    <tr>\n",
       "      <th>12503</th>\n",
       "      <td>1</td>\n",
       "      <td>0.00</td>\n",
       "      <td>100.00</td>\n",
       "    </tr>\n",
       "    <tr>\n",
       "      <th>0</th>\n",
       "      <td>0</td>\n",
       "      <td>0.00</td>\n",
       "      <td>100.00</td>\n",
       "    </tr>\n",
       "  </tbody>\n",
       "</table>\n",
       "<p>423 rows × 3 columns</p>\n",
       "</div>"
      ],
      "text/plain": [
       "               n      %   cum %\n",
       "customerid                     \n",
       "14911       5903  13.13   13.13\n",
       "14646       2085   4.64   17.77\n",
       "14156       1420   3.16   20.93\n",
       "12415        778   1.73   22.66\n",
       "12681        646   1.44   24.10\n",
       "...          ...    ...     ...\n",
       "12814          2   0.00   99.99\n",
       "12505          1   0.00  100.00\n",
       "17443          1   0.00  100.00\n",
       "12503          1   0.00  100.00\n",
       "0              0   0.00  100.00\n",
       "\n",
       "[423 rows x 3 columns]"
      ]
     },
     "execution_count": 23,
     "metadata": {},
     "output_type": "execute_result"
    }
   ],
   "source": [
    "df.customerid = df.customerid.fillna(0).astype(int)\n",
    "count(df, 'customerid')"
   ]
  },
  {
   "cell_type": "markdown",
   "metadata": {
    "ExecuteTime": {
     "end_time": "2020-09-25T11:23:14.783450Z",
     "start_time": "2020-09-25T11:23:14.776479Z"
    }
   },
   "source": [
    "## Quantity"
   ]
  },
  {
   "cell_type": "code",
   "execution_count": 24,
   "metadata": {
    "ExecuteTime": {
     "end_time": "2021-03-29T12:27:05.564256Z",
     "start_time": "2021-03-29T12:27:05.499052Z"
    }
   },
   "outputs": [
    {
     "data": {
      "text/html": [
       "<div>\n",
       "<style scoped>\n",
       "    .dataframe tbody tr th:only-of-type {\n",
       "        vertical-align: middle;\n",
       "    }\n",
       "\n",
       "    .dataframe tbody tr th {\n",
       "        vertical-align: top;\n",
       "    }\n",
       "\n",
       "    .dataframe thead th {\n",
       "        text-align: right;\n",
       "    }\n",
       "</style>\n",
       "<table border=\"1\" class=\"dataframe\">\n",
       "  <thead>\n",
       "    <tr style=\"text-align: right;\">\n",
       "      <th></th>\n",
       "      <th>n</th>\n",
       "      <th>%</th>\n",
       "      <th>cum %</th>\n",
       "    </tr>\n",
       "    <tr>\n",
       "      <th>quantity</th>\n",
       "      <th></th>\n",
       "      <th></th>\n",
       "      <th></th>\n",
       "    </tr>\n",
       "  </thead>\n",
       "  <tbody>\n",
       "    <tr>\n",
       "      <th>12</th>\n",
       "      <td>10628</td>\n",
       "      <td>22.89</td>\n",
       "      <td>22.89</td>\n",
       "    </tr>\n",
       "    <tr>\n",
       "      <th>6</th>\n",
       "      <td>5672</td>\n",
       "      <td>12.22</td>\n",
       "      <td>35.11</td>\n",
       "    </tr>\n",
       "    <tr>\n",
       "      <th>24</th>\n",
       "      <td>4162</td>\n",
       "      <td>8.96</td>\n",
       "      <td>44.07</td>\n",
       "    </tr>\n",
       "    <tr>\n",
       "      <th>4</th>\n",
       "      <td>3613</td>\n",
       "      <td>7.78</td>\n",
       "      <td>51.85</td>\n",
       "    </tr>\n",
       "    <tr>\n",
       "      <th>2</th>\n",
       "      <td>3356</td>\n",
       "      <td>7.23</td>\n",
       "      <td>59.08</td>\n",
       "    </tr>\n",
       "    <tr>\n",
       "      <th>...</th>\n",
       "      <td>...</td>\n",
       "      <td>...</td>\n",
       "      <td>...</td>\n",
       "    </tr>\n",
       "    <tr>\n",
       "      <th>117</th>\n",
       "      <td>1</td>\n",
       "      <td>0.00</td>\n",
       "      <td>99.99</td>\n",
       "    </tr>\n",
       "    <tr>\n",
       "      <th>140</th>\n",
       "      <td>1</td>\n",
       "      <td>0.00</td>\n",
       "      <td>99.99</td>\n",
       "    </tr>\n",
       "    <tr>\n",
       "      <th>156</th>\n",
       "      <td>1</td>\n",
       "      <td>0.00</td>\n",
       "      <td>100.00</td>\n",
       "    </tr>\n",
       "    <tr>\n",
       "      <th>204</th>\n",
       "      <td>1</td>\n",
       "      <td>0.00</td>\n",
       "      <td>100.00</td>\n",
       "    </tr>\n",
       "    <tr>\n",
       "      <th>2400</th>\n",
       "      <td>1</td>\n",
       "      <td>0.00</td>\n",
       "      <td>100.00</td>\n",
       "    </tr>\n",
       "  </tbody>\n",
       "</table>\n",
       "<p>148 rows × 3 columns</p>\n",
       "</div>"
      ],
      "text/plain": [
       "              n      %   cum %\n",
       "quantity                      \n",
       "12        10628  22.89   22.89\n",
       "6          5672  12.22   35.11\n",
       "24         4162   8.96   44.07\n",
       "4          3613   7.78   51.85\n",
       "2          3356   7.23   59.08\n",
       "...         ...    ...     ...\n",
       "117           1   0.00   99.99\n",
       "140           1   0.00   99.99\n",
       "156           1   0.00  100.00\n",
       "204           1   0.00  100.00\n",
       "2400          1   0.00  100.00\n",
       "\n",
       "[148 rows x 3 columns]"
      ]
     },
     "execution_count": 24,
     "metadata": {},
     "output_type": "execute_result"
    }
   ],
   "source": [
    "count(df, 'quantity')"
   ]
  },
  {
   "cell_type": "markdown",
   "metadata": {
    "ExecuteTime": {
     "end_time": "2020-09-25T11:23:14.783450Z",
     "start_time": "2020-09-25T11:23:14.776479Z"
    }
   },
   "source": [
    "### Negative Quantity"
   ]
  },
  {
   "cell_type": "code",
   "execution_count": 25,
   "metadata": {
    "ExecuteTime": {
     "end_time": "2021-03-29T12:27:05.636829Z",
     "start_time": "2021-03-29T12:27:05.567691Z"
    }
   },
   "outputs": [
    {
     "name": "stderr",
     "output_type": "stream",
     "text": [
      "1432 rows, 11 columns\n"
     ]
    },
    {
     "data": {
      "text/html": [
       "<div>\n",
       "<style scoped>\n",
       "    .dataframe tbody tr th:only-of-type {\n",
       "        vertical-align: middle;\n",
       "    }\n",
       "\n",
       "    .dataframe tbody tr th {\n",
       "        vertical-align: top;\n",
       "    }\n",
       "\n",
       "    .dataframe thead th {\n",
       "        text-align: right;\n",
       "    }\n",
       "</style>\n",
       "<table border=\"1\" class=\"dataframe\">\n",
       "  <thead>\n",
       "    <tr style=\"text-align: right;\">\n",
       "      <th></th>\n",
       "      <th>invoicedate</th>\n",
       "      <th>invoiceno</th>\n",
       "      <th>country</th>\n",
       "      <th>customerid</th>\n",
       "      <th>productcategory</th>\n",
       "      <th>stockcode</th>\n",
       "      <th>description</th>\n",
       "      <th>quantity</th>\n",
       "      <th>unitprice</th>\n",
       "      <th>salesvalue</th>\n",
       "      <th>ProductCategory</th>\n",
       "    </tr>\n",
       "  </thead>\n",
       "  <tbody>\n",
       "    <tr>\n",
       "      <th>147</th>\n",
       "      <td>2010-01-12 14:33:00</td>\n",
       "      <td>536548</td>\n",
       "      <td>Germany</td>\n",
       "      <td>12472</td>\n",
       "      <td>Appliances</td>\n",
       "      <td>20914</td>\n",
       "      <td>Set/5 Red Retrospot Lid Glass Bowls</td>\n",
       "      <td>-1</td>\n",
       "      <td>2.95</td>\n",
       "      <td>-2.95</td>\n",
       "      <td>NaN</td>\n",
       "    </tr>\n",
       "    <tr>\n",
       "      <th>157</th>\n",
       "      <td>2010-01-12 14:33:00</td>\n",
       "      <td>536548</td>\n",
       "      <td>Germany</td>\n",
       "      <td>12472</td>\n",
       "      <td>Appliances</td>\n",
       "      <td>20957</td>\n",
       "      <td>Porcelain Hanging Bell Small</td>\n",
       "      <td>-1</td>\n",
       "      <td>1.45</td>\n",
       "      <td>-1.45</td>\n",
       "      <td>NaN</td>\n",
       "    </tr>\n",
       "    <tr>\n",
       "      <th>156</th>\n",
       "      <td>2010-01-12 14:33:00</td>\n",
       "      <td>536548</td>\n",
       "      <td>Germany</td>\n",
       "      <td>12472</td>\n",
       "      <td>Appliances</td>\n",
       "      <td>21218</td>\n",
       "      <td>Red Spotty Biscuit Tin</td>\n",
       "      <td>-3</td>\n",
       "      <td>3.75</td>\n",
       "      <td>-11.25</td>\n",
       "      <td>NaN</td>\n",
       "    </tr>\n",
       "    <tr>\n",
       "      <th>153</th>\n",
       "      <td>2010-01-12 14:33:00</td>\n",
       "      <td>536548</td>\n",
       "      <td>Germany</td>\n",
       "      <td>12472</td>\n",
       "      <td>Appliances</td>\n",
       "      <td>22077</td>\n",
       "      <td>6 Ribbons Rustic Charm</td>\n",
       "      <td>-6</td>\n",
       "      <td>1.65</td>\n",
       "      <td>-9.90</td>\n",
       "      <td>NaN</td>\n",
       "    </tr>\n",
       "    <tr>\n",
       "      <th>155</th>\n",
       "      <td>2010-01-12 14:33:00</td>\n",
       "      <td>536548</td>\n",
       "      <td>Germany</td>\n",
       "      <td>12472</td>\n",
       "      <td>Appliances</td>\n",
       "      <td>22168</td>\n",
       "      <td>Organiser Wood Antique White</td>\n",
       "      <td>-2</td>\n",
       "      <td>8.50</td>\n",
       "      <td>-17.00</td>\n",
       "      <td>NaN</td>\n",
       "    </tr>\n",
       "    <tr>\n",
       "      <th>146</th>\n",
       "      <td>2010-01-12 14:33:00</td>\n",
       "      <td>536548</td>\n",
       "      <td>Germany</td>\n",
       "      <td>12472</td>\n",
       "      <td>Appliances</td>\n",
       "      <td>22242</td>\n",
       "      <td>5 Hook Hanger Magic Toadstool</td>\n",
       "      <td>-5</td>\n",
       "      <td>1.65</td>\n",
       "      <td>-8.25</td>\n",
       "      <td>NaN</td>\n",
       "    </tr>\n",
       "    <tr>\n",
       "      <th>145</th>\n",
       "      <td>2010-01-12 14:33:00</td>\n",
       "      <td>536548</td>\n",
       "      <td>Germany</td>\n",
       "      <td>12472</td>\n",
       "      <td>Appliances</td>\n",
       "      <td>22244</td>\n",
       "      <td>3 Hook Hanger Magic Garden</td>\n",
       "      <td>-4</td>\n",
       "      <td>1.95</td>\n",
       "      <td>-7.80</td>\n",
       "      <td>NaN</td>\n",
       "    </tr>\n",
       "    <tr>\n",
       "      <th>152</th>\n",
       "      <td>2010-01-12 14:33:00</td>\n",
       "      <td>536548</td>\n",
       "      <td>Germany</td>\n",
       "      <td>12472</td>\n",
       "      <td>Appliances</td>\n",
       "      <td>22245</td>\n",
       "      <td>Hook, 1 Hanger ,Magic Garden</td>\n",
       "      <td>-2</td>\n",
       "      <td>0.85</td>\n",
       "      <td>-1.70</td>\n",
       "      <td>NaN</td>\n",
       "    </tr>\n",
       "    <tr>\n",
       "      <th>151</th>\n",
       "      <td>2010-01-12 14:33:00</td>\n",
       "      <td>536548</td>\n",
       "      <td>Germany</td>\n",
       "      <td>12472</td>\n",
       "      <td>Appliances</td>\n",
       "      <td>22333</td>\n",
       "      <td>Retrospot Party Bag + Sticker Set</td>\n",
       "      <td>-1</td>\n",
       "      <td>1.65</td>\n",
       "      <td>-1.65</td>\n",
       "      <td>NaN</td>\n",
       "    </tr>\n",
       "    <tr>\n",
       "      <th>158</th>\n",
       "      <td>2010-01-12 14:33:00</td>\n",
       "      <td>536548</td>\n",
       "      <td>Germany</td>\n",
       "      <td>12472</td>\n",
       "      <td>Appliances</td>\n",
       "      <td>22580</td>\n",
       "      <td>Advent Calendar Gingham Sack</td>\n",
       "      <td>-4</td>\n",
       "      <td>5.95</td>\n",
       "      <td>-23.80</td>\n",
       "      <td>NaN</td>\n",
       "    </tr>\n",
       "  </tbody>\n",
       "</table>\n",
       "</div>"
      ],
      "text/plain": [
       "            invoicedate  invoiceno  country  customerid productcategory  \\\n",
       "147 2010-01-12 14:33:00     536548  Germany       12472      Appliances   \n",
       "157 2010-01-12 14:33:00     536548  Germany       12472      Appliances   \n",
       "156 2010-01-12 14:33:00     536548  Germany       12472      Appliances   \n",
       "153 2010-01-12 14:33:00     536548  Germany       12472      Appliances   \n",
       "155 2010-01-12 14:33:00     536548  Germany       12472      Appliances   \n",
       "146 2010-01-12 14:33:00     536548  Germany       12472      Appliances   \n",
       "145 2010-01-12 14:33:00     536548  Germany       12472      Appliances   \n",
       "152 2010-01-12 14:33:00     536548  Germany       12472      Appliances   \n",
       "151 2010-01-12 14:33:00     536548  Germany       12472      Appliances   \n",
       "158 2010-01-12 14:33:00     536548  Germany       12472      Appliances   \n",
       "\n",
       "    stockcode                          description  quantity  unitprice  \\\n",
       "147     20914  Set/5 Red Retrospot Lid Glass Bowls        -1       2.95   \n",
       "157     20957         Porcelain Hanging Bell Small        -1       1.45   \n",
       "156     21218               Red Spotty Biscuit Tin        -3       3.75   \n",
       "153     22077               6 Ribbons Rustic Charm        -6       1.65   \n",
       "155     22168         Organiser Wood Antique White        -2       8.50   \n",
       "146     22242        5 Hook Hanger Magic Toadstool        -5       1.65   \n",
       "145     22244           3 Hook Hanger Magic Garden        -4       1.95   \n",
       "152     22245         Hook, 1 Hanger ,Magic Garden        -2       0.85   \n",
       "151     22333    Retrospot Party Bag + Sticker Set        -1       1.65   \n",
       "158     22580         Advent Calendar Gingham Sack        -4       5.95   \n",
       "\n",
       "     salesvalue ProductCategory  \n",
       "147       -2.95             NaN  \n",
       "157       -1.45             NaN  \n",
       "156      -11.25             NaN  \n",
       "153       -9.90             NaN  \n",
       "155      -17.00             NaN  \n",
       "146       -8.25             NaN  \n",
       "145       -7.80             NaN  \n",
       "152       -1.70             NaN  \n",
       "151       -1.65             NaN  \n",
       "158      -23.80             NaN  "
      ]
     },
     "execution_count": 25,
     "metadata": {},
     "output_type": "execute_result"
    }
   ],
   "source": [
    "%%piper\n",
    "df >> where(\"quantity < 0\") >> head(10)"
   ]
  },
  {
   "cell_type": "markdown",
   "metadata": {},
   "source": [
    "## Export of cleaned dataframe"
   ]
  },
  {
   "cell_type": "code",
   "execution_count": 26,
   "metadata": {
    "ExecuteTime": {
     "end_time": "2021-03-29T12:27:13.806777Z",
     "start_time": "2021-03-29T12:27:05.639183Z"
    }
   },
   "outputs": [
    {
     "name": "stderr",
     "output_type": "stream",
     "text": [
      "Workbook: outputs/20210329_testing.xlsx\n"
     ]
    },
    {
     "name": "stderr",
     "output_type": "stream",
     "text": [
      "<< mult-sheet mode >>\n"
     ]
    },
    {
     "name": "stderr",
     "output_type": "stream",
     "text": [
      "Sheet (range): sheet1 ($A$1:$K$46432)\n"
     ]
    },
    {
     "name": "stderr",
     "output_type": "stream",
     "text": [
      "/home/mike/Documents/venv/jupyter/lib/python3.8/site-packages/xlsxwriter/worksheet.py:2706: UserWarning: Duplicate header name in add_table(): 'productcategory'\n",
      "  warn(\"Duplicate header name in add_table(): '%s'\"\n"
     ]
    },
    {
     "name": "stderr",
     "output_type": "stream",
     "text": [
      "Completed.\n"
     ]
    }
   ],
   "source": [
    "%%piper \n",
    "df >> to_excel(file_name='outputs/testing')"
   ]
  },
  {
   "cell_type": "markdown",
   "metadata": {},
   "source": [
    "# Questions"
   ]
  },
  {
   "cell_type": "markdown",
   "metadata": {},
   "source": [
    "## Duplicate CustomerIDs ? Not unique across Countries"
   ]
  },
  {
   "cell_type": "code",
   "execution_count": 27,
   "metadata": {
    "ExecuteTime": {
     "end_time": "2021-03-29T12:27:13.868404Z",
     "start_time": "2021-03-29T12:27:13.809003Z"
    }
   },
   "outputs": [
    {
     "data": {
      "text/html": [
       "<div>\n",
       "<style scoped>\n",
       "    .dataframe tbody tr th:only-of-type {\n",
       "        vertical-align: middle;\n",
       "    }\n",
       "\n",
       "    .dataframe tbody tr th {\n",
       "        vertical-align: top;\n",
       "    }\n",
       "\n",
       "    .dataframe thead th {\n",
       "        text-align: right;\n",
       "    }\n",
       "</style>\n",
       "<table border=\"1\" class=\"dataframe\">\n",
       "  <thead>\n",
       "    <tr style=\"text-align: right;\">\n",
       "      <th></th>\n",
       "      <th>customerid</th>\n",
       "      <th>country</th>\n",
       "      <th>n</th>\n",
       "    </tr>\n",
       "  </thead>\n",
       "  <tbody>\n",
       "    <tr>\n",
       "      <th>0</th>\n",
       "      <td>0</td>\n",
       "      <td>Bahrain</td>\n",
       "      <td>1</td>\n",
       "    </tr>\n",
       "    <tr>\n",
       "      <th>1</th>\n",
       "      <td>0</td>\n",
       "      <td>Eire</td>\n",
       "      <td>1</td>\n",
       "    </tr>\n",
       "    <tr>\n",
       "      <th>2</th>\n",
       "      <td>0</td>\n",
       "      <td>France</td>\n",
       "      <td>1</td>\n",
       "    </tr>\n",
       "    <tr>\n",
       "      <th>3</th>\n",
       "      <td>0</td>\n",
       "      <td>Hong Kong</td>\n",
       "      <td>1</td>\n",
       "    </tr>\n",
       "    <tr>\n",
       "      <th>4</th>\n",
       "      <td>0</td>\n",
       "      <td>Israel</td>\n",
       "      <td>1</td>\n",
       "    </tr>\n",
       "    <tr>\n",
       "      <th>...</th>\n",
       "      <td>...</td>\n",
       "      <td>...</td>\n",
       "      <td>...</td>\n",
       "    </tr>\n",
       "    <tr>\n",
       "      <th>433</th>\n",
       "      <td>17444</td>\n",
       "      <td>Canada</td>\n",
       "      <td>1</td>\n",
       "    </tr>\n",
       "    <tr>\n",
       "      <th>434</th>\n",
       "      <td>17508</td>\n",
       "      <td>Greece</td>\n",
       "      <td>1</td>\n",
       "    </tr>\n",
       "    <tr>\n",
       "      <th>435</th>\n",
       "      <td>17828</td>\n",
       "      <td>Malta</td>\n",
       "      <td>1</td>\n",
       "    </tr>\n",
       "    <tr>\n",
       "      <th>436</th>\n",
       "      <td>17829</td>\n",
       "      <td>United Arab Emirates</td>\n",
       "      <td>1</td>\n",
       "    </tr>\n",
       "    <tr>\n",
       "      <th>437</th>\n",
       "      <td>17844</td>\n",
       "      <td>Canada</td>\n",
       "      <td>1</td>\n",
       "    </tr>\n",
       "  </tbody>\n",
       "</table>\n",
       "<p>438 rows × 3 columns</p>\n",
       "</div>"
      ],
      "text/plain": [
       "     customerid               country  n\n",
       "0             0               Bahrain  1\n",
       "1             0                  Eire  1\n",
       "2             0                France  1\n",
       "3             0             Hong Kong  1\n",
       "4             0                Israel  1\n",
       "..          ...                   ... ..\n",
       "433       17444                Canada  1\n",
       "434       17508                Greece  1\n",
       "435       17828                 Malta  1\n",
       "436       17829  United Arab Emirates  1\n",
       "437       17844                Canada  1\n",
       "\n",
       "[438 rows x 3 columns]"
      ]
     },
     "execution_count": 27,
     "metadata": {},
     "output_type": "execute_result"
    }
   ],
   "source": [
    "%%piper\n",
    "df \n",
    ">> distinct(['country', 'customerid'])\n",
    ">> group_by(['customerid', 'country']) \n",
    ">> summarise(n=('invoiceno', 'count'))\n",
    ">> reset_index()\n",
    ">> duplicated('customerid', )\n",
    ">> select('-duplicate')"
   ]
  },
  {
   "cell_type": "markdown",
   "metadata": {},
   "source": [
    "## How many invoices per country?"
   ]
  },
  {
   "cell_type": "code",
   "execution_count": 28,
   "metadata": {
    "ExecuteTime": {
     "end_time": "2021-03-29T12:27:13.895838Z",
     "start_time": "2021-03-29T12:27:13.871034Z"
    }
   },
   "outputs": [],
   "source": [
    "%%piper\n",
    "gx <- df \n",
    ">> distinct(['country', 'invoiceno', 'productcategory'])\n",
    ">> group_by(['country', 'productcategory']) \n",
    ">> summarise(count_of_invoices=('invoiceno', 'count'))\n",
    ">> order_by('count_of_invoices', ascending=False)\n",
    ">> reset_index()"
   ]
  },
  {
   "cell_type": "code",
   "execution_count": 29,
   "metadata": {
    "ExecuteTime": {
     "end_time": "2021-03-29T12:27:13.906133Z",
     "start_time": "2021-03-29T12:27:13.897319Z"
    }
   },
   "outputs": [
    {
     "name": "stderr",
     "output_type": "stream",
     "text": [
      "115 rows, 3 columns\n"
     ]
    },
    {
     "data": {
      "text/html": [
       "<div>\n",
       "<style scoped>\n",
       "    .dataframe tbody tr th:only-of-type {\n",
       "        vertical-align: middle;\n",
       "    }\n",
       "\n",
       "    .dataframe tbody tr th {\n",
       "        vertical-align: top;\n",
       "    }\n",
       "\n",
       "    .dataframe thead th {\n",
       "        text-align: right;\n",
       "    }\n",
       "</style>\n",
       "<table border=\"1\" class=\"dataframe\">\n",
       "  <thead>\n",
       "    <tr style=\"text-align: right;\">\n",
       "      <th></th>\n",
       "      <th>country</th>\n",
       "      <th>productcategory</th>\n",
       "      <th>count_of_invoices</th>\n",
       "    </tr>\n",
       "  </thead>\n",
       "  <tbody>\n",
       "    <tr>\n",
       "      <th>0</th>\n",
       "      <td>Germany</td>\n",
       "      <td>Appliances</td>\n",
       "      <td>162</td>\n",
       "    </tr>\n",
       "    <tr>\n",
       "      <th>1</th>\n",
       "      <td>Germany</td>\n",
       "      <td>Apperals</td>\n",
       "      <td>159</td>\n",
       "    </tr>\n",
       "    <tr>\n",
       "      <th>2</th>\n",
       "      <td>Germany</td>\n",
       "      <td>House_holds</td>\n",
       "      <td>152</td>\n",
       "    </tr>\n",
       "    <tr>\n",
       "      <th>3</th>\n",
       "      <td>Germany</td>\n",
       "      <td>Cosmetics</td>\n",
       "      <td>130</td>\n",
       "    </tr>\n",
       "    <tr>\n",
       "      <th>4</th>\n",
       "      <td>France</td>\n",
       "      <td>Appliances</td>\n",
       "      <td>125</td>\n",
       "    </tr>\n",
       "    <tr>\n",
       "      <th>5</th>\n",
       "      <td>France</td>\n",
       "      <td>Apperals</td>\n",
       "      <td>124</td>\n",
       "    </tr>\n",
       "    <tr>\n",
       "      <th>6</th>\n",
       "      <td>France</td>\n",
       "      <td>House_holds</td>\n",
       "      <td>114</td>\n",
       "    </tr>\n",
       "    <tr>\n",
       "      <th>7</th>\n",
       "      <td>France</td>\n",
       "      <td>Cosmetics</td>\n",
       "      <td>98</td>\n",
       "    </tr>\n",
       "    <tr>\n",
       "      <th>8</th>\n",
       "      <td>Eire</td>\n",
       "      <td>Cosmetics</td>\n",
       "      <td>96</td>\n",
       "    </tr>\n",
       "    <tr>\n",
       "      <th>9</th>\n",
       "      <td>Eire</td>\n",
       "      <td>House_holds</td>\n",
       "      <td>95</td>\n",
       "    </tr>\n",
       "  </tbody>\n",
       "</table>\n",
       "</div>"
      ],
      "text/plain": [
       "   country productcategory  count_of_invoices\n",
       "0  Germany      Appliances                162\n",
       "1  Germany        Apperals                159\n",
       "2  Germany     House_holds                152\n",
       "3  Germany       Cosmetics                130\n",
       "4   France      Appliances                125\n",
       "5   France        Apperals                124\n",
       "6   France     House_holds                114\n",
       "7   France       Cosmetics                 98\n",
       "8     Eire       Cosmetics                 96\n",
       "9     Eire     House_holds                 95"
      ]
     },
     "execution_count": 29,
     "metadata": {},
     "output_type": "execute_result"
    }
   ],
   "source": [
    "head(gx,10)"
   ]
  },
  {
   "cell_type": "code",
   "execution_count": 30,
   "metadata": {
    "ExecuteTime": {
     "end_time": "2021-03-29T12:27:13.928076Z",
     "start_time": "2021-03-29T12:27:13.907796Z"
    }
   },
   "outputs": [
    {
     "name": "stderr",
     "output_type": "stream",
     "text": [
      "7 rows, 3 columns\n"
     ]
    },
    {
     "data": {
      "text/html": [
       "<div>\n",
       "<style scoped>\n",
       "    .dataframe tbody tr th:only-of-type {\n",
       "        vertical-align: middle;\n",
       "    }\n",
       "\n",
       "    .dataframe tbody tr th {\n",
       "        vertical-align: top;\n",
       "    }\n",
       "\n",
       "    .dataframe thead th {\n",
       "        text-align: right;\n",
       "    }\n",
       "</style>\n",
       "<table border=\"1\" class=\"dataframe\">\n",
       "  <thead>\n",
       "    <tr style=\"text-align: right;\">\n",
       "      <th></th>\n",
       "      <th>country</th>\n",
       "      <th>productcategory</th>\n",
       "      <th>count_of_invoices</th>\n",
       "    </tr>\n",
       "  </thead>\n",
       "  <tbody>\n",
       "    <tr>\n",
       "      <th>0</th>\n",
       "      <td>Germany</td>\n",
       "      <td>Appliances</td>\n",
       "      <td>162</td>\n",
       "    </tr>\n",
       "    <tr>\n",
       "      <th>1</th>\n",
       "      <td>Germany</td>\n",
       "      <td>Apperals</td>\n",
       "      <td>159</td>\n",
       "    </tr>\n",
       "    <tr>\n",
       "      <th>2</th>\n",
       "      <td>Germany</td>\n",
       "      <td>House_holds</td>\n",
       "      <td>152</td>\n",
       "    </tr>\n",
       "    <tr>\n",
       "      <th>3</th>\n",
       "      <td>Germany</td>\n",
       "      <td>Cosmetics</td>\n",
       "      <td>130</td>\n",
       "    </tr>\n",
       "  </tbody>\n",
       "</table>\n",
       "</div>"
      ],
      "text/plain": [
       "   country productcategory  count_of_invoices\n",
       "0  Germany      Appliances                162\n",
       "1  Germany        Apperals                159\n",
       "2  Germany     House_holds                152\n",
       "3  Germany       Cosmetics                130"
      ]
     },
     "execution_count": 30,
     "metadata": {},
     "output_type": "execute_result"
    }
   ],
   "source": [
    "%piper gx >> where(\"count_of_invoices > 100\") >> head()"
   ]
  },
  {
   "cell_type": "code",
   "execution_count": 31,
   "metadata": {
    "ExecuteTime": {
     "end_time": "2021-03-29T12:27:15.197259Z",
     "start_time": "2021-03-29T12:27:13.932636Z"
    }
   },
   "outputs": [
    {
     "data": {
      "text/plain": [
       "<matplotlib.axes._subplots.AxesSubplot at 0x7fdb9f2cb490>"
      ]
     },
     "execution_count": 31,
     "metadata": {},
     "output_type": "execute_result"
    },
    {
     "data": {
      "image/png": "[encoded data removed]",
      "text/plain": [
       "<Figure size 1080x576 with 1 Axes>"
      ]
     },
     "metadata": {
      "needs_background": "light"
     },
     "output_type": "display_data"
    }
   ],
   "source": [
    "\n",
    "fig, ax = plt.subplots(figsize=(15, 8))\n",
    "sns.barplot(data=gx, y='country', x='count_of_invoices', hue='productcategory')"
   ]
  },
  {
   "cell_type": "markdown",
   "metadata": {},
   "source": [
    "## Quantity vs UnitPrice"
   ]
  },
  {
   "cell_type": "code",
   "execution_count": 32,
   "metadata": {
    "ExecuteTime": {
     "end_time": "2021-03-29T12:27:17.722145Z",
     "start_time": "2021-03-29T12:27:15.199437Z"
    }
   },
   "outputs": [
    {
     "data": {
      "text/plain": [
       "<matplotlib.axes._subplots.AxesSubplot at 0x7fdb9ec1ea30>"
      ]
     },
     "execution_count": 32,
     "metadata": {},
     "output_type": "execute_result"
    },
    {
     "data": {
      "image/png": "[encoded data removed]",
      "text/plain": [
       "<Figure size 1296x576 with 1 Axes>"
      ]
     },
     "metadata": {
      "needs_background": "light"
     },
     "output_type": "display_data"
    }
   ],
   "source": [
    "fig, ax = plt.subplots(figsize=(18, 8))\n",
    "sns.scatterplot(data=df, x='quantity', y='unitprice', hue='productcategory')"
   ]
  },
  {
   "cell_type": "markdown",
   "metadata": {},
   "source": [
    "## Sales by Invoice Date"
   ]
  },
  {
   "cell_type": "code",
   "execution_count": 33,
   "metadata": {
    "ExecuteTime": {
     "end_time": "2021-03-29T12:27:18.255309Z",
     "start_time": "2021-03-29T12:27:17.724108Z"
    }
   },
   "outputs": [
    {
     "data": {
      "text/plain": [
       "<matplotlib.axes._subplots.AxesSubplot at 0x7fdb9ea8f580>"
      ]
     },
     "execution_count": 33,
     "metadata": {},
     "output_type": "execute_result"
    },
    {
     "data": {
      "image/png": "[encoded data removed]",
      "text/plain": [
       "<Figure size 1296x504 with 1 Axes>"
      ]
     },
     "metadata": {
      "needs_background": "light"
     },
     "output_type": "display_data"
    }
   ],
   "source": [
    "%%piper \n",
    "df \n",
    ">> group_by(['invoicedate'])\n",
    ">> summarise(TotalSales=('salesvalue', 'sum'))\n",
    ">> where(\"invoicedate > '2011-04-01'\").plot(figsize=(18,7))"
   ]
  },
  {
   "cell_type": "markdown",
   "metadata": {},
   "source": [
    "## Sales by Country, ProductCategory, Invoice Date"
   ]
  },
  {
   "cell_type": "code",
   "execution_count": 34,
   "metadata": {
    "ExecuteTime": {
     "end_time": "2021-03-29T12:27:18.355786Z",
     "start_time": "2021-03-29T12:27:18.257093Z"
    }
   },
   "outputs": [],
   "source": [
    "%%piper \n",
    "\n",
    "gx <- df \n",
    ">> group_by(['country', 'productcategory', 'invoicedate']) \n",
    ">> summarise(totalsales=('salesvalue', 'sum'))\n",
    ">> where(\"invoicedate >= '2011-11' \n",
    "         and totalsales.between(0, 100)\")\n",
    ">> reset_index()\n",
    ">> assign(totalsales=lambda x: x.totalsales.round(2))"
   ]
  },
  {
   "cell_type": "code",
   "execution_count": 35,
   "metadata": {
    "ExecuteTime": {
     "end_time": "2021-03-29T12:27:18.372566Z",
     "start_time": "2021-03-29T12:27:18.357986Z"
    }
   },
   "outputs": [
    {
     "name": "stderr",
     "output_type": "stream",
     "text": [
      "6 rows, 4 columns\n"
     ]
    },
    {
     "data": {
      "text/html": [
       "<div>\n",
       "<style scoped>\n",
       "    .dataframe tbody tr th:only-of-type {\n",
       "        vertical-align: middle;\n",
       "    }\n",
       "\n",
       "    .dataframe tbody tr th {\n",
       "        vertical-align: top;\n",
       "    }\n",
       "\n",
       "    .dataframe thead th {\n",
       "        text-align: right;\n",
       "    }\n",
       "</style>\n",
       "<table border=\"1\" class=\"dataframe\">\n",
       "  <thead>\n",
       "    <tr style=\"text-align: right;\">\n",
       "      <th></th>\n",
       "      <th>country</th>\n",
       "      <th>productcategory</th>\n",
       "      <th>invoicedate</th>\n",
       "      <th>totalsales</th>\n",
       "    </tr>\n",
       "  </thead>\n",
       "  <tbody>\n",
       "    <tr>\n",
       "      <th>0</th>\n",
       "      <td>Eire</td>\n",
       "      <td>Appliances</td>\n",
       "      <td>2011-11-03</td>\n",
       "      <td>0.00</td>\n",
       "    </tr>\n",
       "    <tr>\n",
       "      <th>1</th>\n",
       "      <td>Hong Kong</td>\n",
       "      <td>Apperals</td>\n",
       "      <td>2011-11-14</td>\n",
       "      <td>0.00</td>\n",
       "    </tr>\n",
       "    <tr>\n",
       "      <th>2</th>\n",
       "      <td>Norway</td>\n",
       "      <td>Cosmetics</td>\n",
       "      <td>2011-11-10</td>\n",
       "      <td>6.00</td>\n",
       "    </tr>\n",
       "    <tr>\n",
       "      <th>3</th>\n",
       "      <td>Portugal</td>\n",
       "      <td>Apperals</td>\n",
       "      <td>2011-11-17</td>\n",
       "      <td>58.35</td>\n",
       "    </tr>\n",
       "    <tr>\n",
       "      <th>4</th>\n",
       "      <td>Portugal</td>\n",
       "      <td>Apperals</td>\n",
       "      <td>2011-11-30</td>\n",
       "      <td>56.00</td>\n",
       "    </tr>\n",
       "    <tr>\n",
       "      <th>5</th>\n",
       "      <td>Sweden</td>\n",
       "      <td>House_holds</td>\n",
       "      <td>2011-11-05</td>\n",
       "      <td>8.50</td>\n",
       "    </tr>\n",
       "  </tbody>\n",
       "</table>\n",
       "</div>"
      ],
      "text/plain": [
       "     country productcategory invoicedate  totalsales\n",
       "0       Eire      Appliances  2011-11-03        0.00\n",
       "1  Hong Kong        Apperals  2011-11-14        0.00\n",
       "2     Norway       Cosmetics  2011-11-10        6.00\n",
       "3   Portugal        Apperals  2011-11-17       58.35\n",
       "4   Portugal        Apperals  2011-11-30       56.00\n",
       "5     Sweden     House_holds  2011-11-05        8.50"
      ]
     },
     "execution_count": 35,
     "metadata": {},
     "output_type": "execute_result"
    }
   ],
   "source": [
    "head(gx, 6)"
   ]
  },
  {
   "cell_type": "code",
   "execution_count": 36,
   "metadata": {
    "ExecuteTime": {
     "end_time": "2021-03-29T12:27:18.477568Z",
     "start_time": "2021-03-29T12:27:18.375025Z"
    }
   },
   "outputs": [],
   "source": [
    "%%piper \n",
    "\n",
    "gx <- df \n",
    ">> group_by(['country', 'productcategory', 'invoicedate']) \n",
    ">> summarise(totalsales=('salesvalue', 'mean'))\n",
    ">> where(\"invoicedate >= '2011-11' and totalsales.between(0, 100) \")\n",
    ">> reset_index()\n",
    ">> assign(totalsales=lambda x: x.totalsales.round(2))"
   ]
  },
  {
   "cell_type": "code",
   "execution_count": 37,
   "metadata": {
    "ExecuteTime": {
     "end_time": "2021-03-29T12:27:18.504137Z",
     "start_time": "2021-03-29T12:27:18.479773Z"
    }
   },
   "outputs": [
    {
     "name": "stderr",
     "output_type": "stream",
     "text": [
      "160 rows, 4 columns\n"
     ]
    },
    {
     "data": {
      "text/html": [
       "<div>\n",
       "<style scoped>\n",
       "    .dataframe tbody tr th:only-of-type {\n",
       "        vertical-align: middle;\n",
       "    }\n",
       "\n",
       "    .dataframe tbody tr th {\n",
       "        vertical-align: top;\n",
       "    }\n",
       "\n",
       "    .dataframe thead th {\n",
       "        text-align: right;\n",
       "    }\n",
       "</style>\n",
       "<table border=\"1\" class=\"dataframe\">\n",
       "  <thead>\n",
       "    <tr style=\"text-align: right;\">\n",
       "      <th></th>\n",
       "      <th>country</th>\n",
       "      <th>productcategory</th>\n",
       "      <th>invoicedate</th>\n",
       "      <th>totalsales</th>\n",
       "    </tr>\n",
       "  </thead>\n",
       "  <tbody>\n",
       "    <tr>\n",
       "      <th>0</th>\n",
       "      <td>Australia</td>\n",
       "      <td>Apperals</td>\n",
       "      <td>2011-11-24</td>\n",
       "      <td>35.80</td>\n",
       "    </tr>\n",
       "    <tr>\n",
       "      <th>1</th>\n",
       "      <td>Australia</td>\n",
       "      <td>Appliances</td>\n",
       "      <td>2011-11-01</td>\n",
       "      <td>24.34</td>\n",
       "    </tr>\n",
       "    <tr>\n",
       "      <th>2</th>\n",
       "      <td>Australia</td>\n",
       "      <td>Cosmetics</td>\n",
       "      <td>2011-12-08</td>\n",
       "      <td>60.88</td>\n",
       "    </tr>\n",
       "    <tr>\n",
       "      <th>3</th>\n",
       "      <td>Australia</td>\n",
       "      <td>House_holds</td>\n",
       "      <td>2011-12-05</td>\n",
       "      <td>20.66</td>\n",
       "    </tr>\n",
       "    <tr>\n",
       "      <th>4</th>\n",
       "      <td>Austria</td>\n",
       "      <td>Apperals</td>\n",
       "      <td>2011-11-13</td>\n",
       "      <td>15.86</td>\n",
       "    </tr>\n",
       "    <tr>\n",
       "      <th>5</th>\n",
       "      <td>Austria</td>\n",
       "      <td>Apperals</td>\n",
       "      <td>2011-11-14</td>\n",
       "      <td>22.51</td>\n",
       "    </tr>\n",
       "  </tbody>\n",
       "</table>\n",
       "</div>"
      ],
      "text/plain": [
       "     country productcategory invoicedate  totalsales\n",
       "0  Australia        Apperals  2011-11-24       35.80\n",
       "1  Australia      Appliances  2011-11-01       24.34\n",
       "2  Australia       Cosmetics  2011-12-08       60.88\n",
       "3  Australia     House_holds  2011-12-05       20.66\n",
       "4    Austria        Apperals  2011-11-13       15.86\n",
       "5    Austria        Apperals  2011-11-14       22.51"
      ]
     },
     "execution_count": 37,
     "metadata": {},
     "output_type": "execute_result"
    }
   ],
   "source": [
    "head(gx, 6)"
   ]
  },
  {
   "cell_type": "code",
   "execution_count": 38,
   "metadata": {
    "ExecuteTime": {
     "end_time": "2021-03-29T12:27:20.411770Z",
     "start_time": "2021-03-29T12:27:18.509361Z"
    }
   },
   "outputs": [
    {
     "data": {
      "text/plain": [
       "<matplotlib.axes._subplots.AxesSubplot at 0x7fdb9e779ee0>"
      ]
     },
     "execution_count": 38,
     "metadata": {},
     "output_type": "execute_result"
    },
    {
     "data": {
      "image/png": "[encoded data removed]",
      "text/plain": [
       "<Figure size 1080x864 with 1 Axes>"
      ]
     },
     "metadata": {
      "needs_background": "light"
     },
     "output_type": "display_data"
    }
   ],
   "source": [
    "fig, ax = plt.subplots(figsize=(15,12))\n",
    "sns.boxplot(data=gx, y='country', x='totalsales', hue='productcategory')"
   ]
  },
  {
   "cell_type": "code",
   "execution_count": null,
   "metadata": {},
   "outputs": [],
   "source": []
  },
  {
   "cell_type": "code",
   "execution_count": null,
   "metadata": {},
   "outputs": [],
   "source": []
  },
  {
   "cell_type": "code",
   "execution_count": null,
   "metadata": {},
   "outputs": [],
   "source": []
  }
 ],
 "metadata": {
  "kernelspec": {
   "display_name": "Python 3",
   "language": "python",
   "name": "python3"
  },
  "language_info": {
   "codemirror_mode": {
    "name": "ipython",
    "version": 3
   },
   "file_extension": ".py",
   "mimetype": "text/x-python",
   "name": "python",
   "nbconvert_exporter": "python",
   "pygments_lexer": "ipython3",
   "version": "3.8.5"
  },
  "toc": {
   "base_numbering": 1,
   "nav_menu": {},
   "number_sections": true,
   "sideBar": true,
   "skip_h1_title": false,
   "title_cell": "Table of Contents",
   "title_sidebar": "Contents",
   "toc_cell": false,
   "toc_position": {
    "height": "calc(100% - 180px)",
    "left": "10px",
    "top": "150px",
    "width": "336px"
   },
   "toc_section_display": true,
   "toc_window_display": true
  }
 },
 "nbformat": 4,
 "nbformat_minor": 4
}
