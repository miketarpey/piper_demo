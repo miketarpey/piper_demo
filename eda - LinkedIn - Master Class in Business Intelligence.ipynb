{
 "cells": [
  {
   "cell_type": "markdown",
   "metadata": {},
   "source": [
    "# Setup"
   ]
  },
  {
   "cell_type": "code",
   "execution_count": 1,
   "metadata": {
    "ExecuteTime": {
     "end_time": "2021-02-26T15:11:09.515689Z",
     "start_time": "2021-02-26T15:11:08.541732Z"
    }
   },
   "outputs": [
    {
     "name": "stderr",
     "output_type": "stream",
     "text": [
      "piper version 0.0.7, last run: Friday, 26 February 2021 15:11:08\n"
     ]
    }
   ],
   "source": [
    "from piper import piper\n",
    "from piper.verbs import *\n",
    "from piper.defaults import *"
   ]
  },
  {
   "cell_type": "markdown",
   "metadata": {},
   "source": [
    "# Data import"
   ]
  },
  {
   "cell_type": "code",
   "execution_count": 2,
   "metadata": {
    "ExecuteTime": {
     "end_time": "2021-02-26T15:11:15.979307Z",
     "start_time": "2021-02-26T15:11:09.518361Z"
    }
   },
   "outputs": [
    {
     "name": "stderr",
     "output_type": "stream",
     "text": [
      "46431 rows, 9 columns\n"
     ]
    },
    {
     "data": {
      "text/html": [
       "<div>\n",
       "<style scoped>\n",
       "    .dataframe tbody tr th:only-of-type {\n",
       "        vertical-align: middle;\n",
       "    }\n",
       "\n",
       "    .dataframe tbody tr th {\n",
       "        vertical-align: top;\n",
       "    }\n",
       "\n",
       "    .dataframe thead th {\n",
       "        text-align: right;\n",
       "    }\n",
       "</style>\n",
       "<table border=\"1\" class=\"dataframe\">\n",
       "  <thead>\n",
       "    <tr style=\"text-align: right;\">\n",
       "      <th></th>\n",
       "      <th>InvoiceNo</th>\n",
       "      <th>ProductCategory</th>\n",
       "      <th>StockCode</th>\n",
       "      <th>Description</th>\n",
       "      <th>Quantity</th>\n",
       "      <th>InvoiceDate</th>\n",
       "      <th>UnitPrice</th>\n",
       "      <th>CustomerID</th>\n",
       "      <th>Country</th>\n",
       "    </tr>\n",
       "  </thead>\n",
       "  <tbody>\n",
       "    <tr>\n",
       "      <th>0</th>\n",
       "      <td>536370</td>\n",
       "      <td>Appliances</td>\n",
       "      <td>22728</td>\n",
       "      <td>ALARM CLOCK BAKELIKE PINK</td>\n",
       "      <td>24</td>\n",
       "      <td>2010-01-12 08:45:00</td>\n",
       "      <td>3.75</td>\n",
       "      <td>12583.0</td>\n",
       "      <td>France</td>\n",
       "    </tr>\n",
       "    <tr>\n",
       "      <th>1</th>\n",
       "      <td>536370</td>\n",
       "      <td>Appliances</td>\n",
       "      <td>22727</td>\n",
       "      <td>ALARM CLOCK BAKELIKE RED</td>\n",
       "      <td>24</td>\n",
       "      <td>2010-01-12 08:45:00</td>\n",
       "      <td>3.75</td>\n",
       "      <td>12583.0</td>\n",
       "      <td>France</td>\n",
       "    </tr>\n",
       "    <tr>\n",
       "      <th>2</th>\n",
       "      <td>536370</td>\n",
       "      <td>Appliances</td>\n",
       "      <td>22726</td>\n",
       "      <td>ALARM CLOCK BAKELIKE GREEN</td>\n",
       "      <td>12</td>\n",
       "      <td>2010-01-12 08:45:00</td>\n",
       "      <td>3.75</td>\n",
       "      <td>12583.0</td>\n",
       "      <td>FRANCE</td>\n",
       "    </tr>\n",
       "    <tr>\n",
       "      <th>3</th>\n",
       "      <td>536370</td>\n",
       "      <td>Appliances</td>\n",
       "      <td>21724</td>\n",
       "      <td>PANDA AND BUNNIES STICKER SHEET</td>\n",
       "      <td>12</td>\n",
       "      <td>2010-01-12 08:45:00</td>\n",
       "      <td>0.85</td>\n",
       "      <td>12583.0</td>\n",
       "      <td>France</td>\n",
       "    </tr>\n",
       "    <tr>\n",
       "      <th>4</th>\n",
       "      <td>536370</td>\n",
       "      <td>Appliances</td>\n",
       "      <td>21883</td>\n",
       "      <td>STARS GIFT TAPE</td>\n",
       "      <td>24</td>\n",
       "      <td>2010-01-12 08:45:00</td>\n",
       "      <td>0.65</td>\n",
       "      <td>12583.0</td>\n",
       "      <td>France</td>\n",
       "    </tr>\n",
       "    <tr>\n",
       "      <th>5</th>\n",
       "      <td>536370</td>\n",
       "      <td>Appliances</td>\n",
       "      <td>10002</td>\n",
       "      <td>INFLATABLE POLITICAL GLOBE</td>\n",
       "      <td>48</td>\n",
       "      <td>2010-01-12 08:45:00</td>\n",
       "      <td>0.85</td>\n",
       "      <td>12583.0</td>\n",
       "      <td>France</td>\n",
       "    </tr>\n",
       "    <tr>\n",
       "      <th>6</th>\n",
       "      <td>536370</td>\n",
       "      <td>Appliances</td>\n",
       "      <td>21791</td>\n",
       "      <td>VINTAGE HEADS AND TAILS CARD GAME</td>\n",
       "      <td>24</td>\n",
       "      <td>2010-01-12 08:45:00</td>\n",
       "      <td>1.25</td>\n",
       "      <td>12583.0</td>\n",
       "      <td>France</td>\n",
       "    </tr>\n",
       "    <tr>\n",
       "      <th>7</th>\n",
       "      <td>536370</td>\n",
       "      <td>Appliances</td>\n",
       "      <td>21035</td>\n",
       "      <td>SET/2 RED RETROSPOT TEA TOWELS</td>\n",
       "      <td>18</td>\n",
       "      <td>2010-01-12 08:45:00</td>\n",
       "      <td>2.95</td>\n",
       "      <td>12583.0</td>\n",
       "      <td>france</td>\n",
       "    </tr>\n",
       "    <tr>\n",
       "      <th>8</th>\n",
       "      <td>536370</td>\n",
       "      <td>Appliances</td>\n",
       "      <td>22326</td>\n",
       "      <td>ROUND SNACK BOXES SET OF4 WOODLAND</td>\n",
       "      <td>24</td>\n",
       "      <td>2010-01-12 08:45:00</td>\n",
       "      <td>2.95</td>\n",
       "      <td>12583.0</td>\n",
       "      <td>France</td>\n",
       "    </tr>\n",
       "    <tr>\n",
       "      <th>9</th>\n",
       "      <td>536370</td>\n",
       "      <td>Appliances</td>\n",
       "      <td>22629</td>\n",
       "      <td>SPACEBOY LUNCH BOX</td>\n",
       "      <td>24</td>\n",
       "      <td>2010-01-12 08:45:00</td>\n",
       "      <td>1.95</td>\n",
       "      <td>12583.0</td>\n",
       "      <td>France</td>\n",
       "    </tr>\n",
       "  </tbody>\n",
       "</table>\n",
       "</div>"
      ],
      "text/plain": [
       "   InvoiceNo ProductCategory StockCode                          Description  \\\n",
       "0     536370      Appliances     22728            ALARM CLOCK BAKELIKE PINK   \n",
       "1     536370      Appliances     22727            ALARM CLOCK BAKELIKE RED    \n",
       "2     536370      Appliances     22726           ALARM CLOCK BAKELIKE GREEN   \n",
       "3     536370      Appliances     21724      PANDA AND BUNNIES STICKER SHEET   \n",
       "4     536370      Appliances     21883                     STARS GIFT TAPE    \n",
       "5     536370      Appliances     10002          INFLATABLE POLITICAL GLOBE    \n",
       "6     536370      Appliances     21791   VINTAGE HEADS AND TAILS CARD GAME    \n",
       "7     536370      Appliances     21035      SET/2 RED RETROSPOT TEA TOWELS    \n",
       "8     536370      Appliances     22326  ROUND SNACK BOXES SET OF4 WOODLAND    \n",
       "9     536370      Appliances     22629                  SPACEBOY LUNCH BOX    \n",
       "\n",
       "   Quantity          InvoiceDate  UnitPrice  CustomerID Country  \n",
       "0        24  2010-01-12 08:45:00       3.75     12583.0  France  \n",
       "1        24  2010-01-12 08:45:00       3.75     12583.0  France  \n",
       "2        12  2010-01-12 08:45:00       3.75     12583.0  FRANCE  \n",
       "3        12  2010-01-12 08:45:00       0.85     12583.0  France  \n",
       "4        24  2010-01-12 08:45:00       0.65     12583.0  France  \n",
       "5        48  2010-01-12 08:45:00       0.85     12583.0  France  \n",
       "6        24  2010-01-12 08:45:00       1.25     12583.0  France  \n",
       "7        18  2010-01-12 08:45:00       2.95     12583.0  france  \n",
       "8        24  2010-01-12 08:45:00       2.95     12583.0  France  \n",
       "9        24  2010-01-12 08:45:00       1.95     12583.0  France  "
      ]
     },
     "execution_count": 2,
     "metadata": {},
     "output_type": "execute_result"
    }
   ],
   "source": [
    "df = pd.read_excel('inputs/Online_store_sales.xlsx', sheet_name='Online_Retail')\n",
    "\n",
    "head(df, 10)"
   ]
  },
  {
   "cell_type": "markdown",
   "metadata": {},
   "source": [
    "## meta data / overview"
   ]
  },
  {
   "cell_type": "code",
   "execution_count": 3,
   "metadata": {
    "ExecuteTime": {
     "end_time": "2021-02-26T15:11:16.215188Z",
     "start_time": "2021-02-26T15:11:15.982038Z"
    }
   },
   "outputs": [
    {
     "name": "stderr",
     "output_type": "stream",
     "text": [
      "Dataframe with (rows, cols) (46431, 9) consumes 15.48 Mb\n"
     ]
    },
    {
     "data": {
      "text/html": [
       "<div>\n",
       "<style scoped>\n",
       "    .dataframe tbody tr th:only-of-type {\n",
       "        vertical-align: middle;\n",
       "    }\n",
       "\n",
       "    .dataframe tbody tr th {\n",
       "        vertical-align: top;\n",
       "    }\n",
       "\n",
       "    .dataframe thead th {\n",
       "        text-align: right;\n",
       "    }\n",
       "</style>\n",
       "<table border=\"1\" class=\"dataframe\">\n",
       "  <thead>\n",
       "    <tr style=\"text-align: right;\">\n",
       "      <th></th>\n",
       "      <th>columns</th>\n",
       "      <th>data_type</th>\n",
       "      <th>unique</th>\n",
       "      <th>isna</th>\n",
       "      <th>isnull</th>\n",
       "      <th>total_count</th>\n",
       "    </tr>\n",
       "  </thead>\n",
       "  <tbody>\n",
       "    <tr>\n",
       "      <th>0</th>\n",
       "      <td>InvoiceNo</td>\n",
       "      <td>int64</td>\n",
       "      <td>2406</td>\n",
       "      <td>0</td>\n",
       "      <td>0</td>\n",
       "      <td>46431</td>\n",
       "    </tr>\n",
       "    <tr>\n",
       "      <th>1</th>\n",
       "      <td>ProductCategory</td>\n",
       "      <td>object</td>\n",
       "      <td>4</td>\n",
       "      <td>0</td>\n",
       "      <td>0</td>\n",
       "      <td>46431</td>\n",
       "    </tr>\n",
       "    <tr>\n",
       "      <th>2</th>\n",
       "      <td>StockCode</td>\n",
       "      <td>object</td>\n",
       "      <td>2807</td>\n",
       "      <td>0</td>\n",
       "      <td>0</td>\n",
       "      <td>46431</td>\n",
       "    </tr>\n",
       "    <tr>\n",
       "      <th>3</th>\n",
       "      <td>Description</td>\n",
       "      <td>object</td>\n",
       "      <td>2916</td>\n",
       "      <td>0</td>\n",
       "      <td>0</td>\n",
       "      <td>46431</td>\n",
       "    </tr>\n",
       "    <tr>\n",
       "      <th>4</th>\n",
       "      <td>Quantity</td>\n",
       "      <td>int64</td>\n",
       "      <td>148</td>\n",
       "      <td>0</td>\n",
       "      <td>0</td>\n",
       "      <td>46431</td>\n",
       "    </tr>\n",
       "    <tr>\n",
       "      <th>5</th>\n",
       "      <td>InvoiceDate</td>\n",
       "      <td>object</td>\n",
       "      <td>2372</td>\n",
       "      <td>0</td>\n",
       "      <td>0</td>\n",
       "      <td>46431</td>\n",
       "    </tr>\n",
       "    <tr>\n",
       "      <th>6</th>\n",
       "      <td>UnitPrice</td>\n",
       "      <td>float64</td>\n",
       "      <td>206</td>\n",
       "      <td>0</td>\n",
       "      <td>0</td>\n",
       "      <td>46431</td>\n",
       "    </tr>\n",
       "    <tr>\n",
       "      <th>7</th>\n",
       "      <td>CustomerID</td>\n",
       "      <td>float64</td>\n",
       "      <td>422</td>\n",
       "      <td>1480</td>\n",
       "      <td>1480</td>\n",
       "      <td>46431</td>\n",
       "    </tr>\n",
       "    <tr>\n",
       "      <th>8</th>\n",
       "      <td>Country</td>\n",
       "      <td>object</td>\n",
       "      <td>38</td>\n",
       "      <td>0</td>\n",
       "      <td>0</td>\n",
       "      <td>46431</td>\n",
       "    </tr>\n",
       "  </tbody>\n",
       "</table>\n",
       "</div>"
      ],
      "text/plain": [
       "           columns data_type  unique  isna  isnull  total_count\n",
       "0        InvoiceNo     int64    2406     0       0        46431\n",
       "1  ProductCategory    object       4     0       0        46431\n",
       "2        StockCode    object    2807     0       0        46431\n",
       "3      Description    object    2916     0       0        46431\n",
       "4         Quantity     int64     148     0       0        46431\n",
       "5      InvoiceDate    object    2372     0       0        46431\n",
       "6        UnitPrice   float64     206     0       0        46431\n",
       "7       CustomerID   float64     422  1480    1480        46431\n",
       "8          Country    object      38     0       0        46431"
      ]
     },
     "execution_count": 3,
     "metadata": {},
     "output_type": "execute_result"
    }
   ],
   "source": [
    "info(df)"
   ]
  },
  {
   "cell_type": "markdown",
   "metadata": {
    "ExecuteTime": {
     "end_time": "2020-09-25T12:02:37.377943Z",
     "start_time": "2020-09-25T12:02:37.375157Z"
    }
   },
   "source": [
    "## Re-sequence columns"
   ]
  },
  {
   "cell_type": "code",
   "execution_count": 4,
   "metadata": {
    "ExecuteTime": {
     "end_time": "2021-02-26T15:11:16.275454Z",
     "start_time": "2021-02-26T15:11:16.217694Z"
    }
   },
   "outputs": [
    {
     "name": "stderr",
     "output_type": "stream",
     "text": [
      "46431 rows, 9 columns\n"
     ]
    },
    {
     "data": {
      "text/html": [
       "<div>\n",
       "<style scoped>\n",
       "    .dataframe tbody tr th:only-of-type {\n",
       "        vertical-align: middle;\n",
       "    }\n",
       "\n",
       "    .dataframe tbody tr th {\n",
       "        vertical-align: top;\n",
       "    }\n",
       "\n",
       "    .dataframe thead th {\n",
       "        text-align: right;\n",
       "    }\n",
       "</style>\n",
       "<table border=\"1\" class=\"dataframe\">\n",
       "  <thead>\n",
       "    <tr style=\"text-align: right;\">\n",
       "      <th></th>\n",
       "      <th>InvoiceDate</th>\n",
       "      <th>InvoiceNo</th>\n",
       "      <th>Country</th>\n",
       "      <th>CustomerID</th>\n",
       "      <th>ProductCategory</th>\n",
       "      <th>StockCode</th>\n",
       "      <th>Description</th>\n",
       "      <th>Quantity</th>\n",
       "      <th>UnitPrice</th>\n",
       "    </tr>\n",
       "  </thead>\n",
       "  <tbody>\n",
       "    <tr>\n",
       "      <th>0</th>\n",
       "      <td>2010-01-12 08:45:00</td>\n",
       "      <td>536370</td>\n",
       "      <td>France</td>\n",
       "      <td>12583.0</td>\n",
       "      <td>Appliances</td>\n",
       "      <td>22728</td>\n",
       "      <td>ALARM CLOCK BAKELIKE PINK</td>\n",
       "      <td>24</td>\n",
       "      <td>3.75</td>\n",
       "    </tr>\n",
       "    <tr>\n",
       "      <th>1</th>\n",
       "      <td>2010-01-12 08:45:00</td>\n",
       "      <td>536370</td>\n",
       "      <td>France</td>\n",
       "      <td>12583.0</td>\n",
       "      <td>Appliances</td>\n",
       "      <td>22727</td>\n",
       "      <td>ALARM CLOCK BAKELIKE RED</td>\n",
       "      <td>24</td>\n",
       "      <td>3.75</td>\n",
       "    </tr>\n",
       "    <tr>\n",
       "      <th>2</th>\n",
       "      <td>2010-01-12 08:45:00</td>\n",
       "      <td>536370</td>\n",
       "      <td>FRANCE</td>\n",
       "      <td>12583.0</td>\n",
       "      <td>Appliances</td>\n",
       "      <td>22726</td>\n",
       "      <td>ALARM CLOCK BAKELIKE GREEN</td>\n",
       "      <td>12</td>\n",
       "      <td>3.75</td>\n",
       "    </tr>\n",
       "    <tr>\n",
       "      <th>3</th>\n",
       "      <td>2010-01-12 08:45:00</td>\n",
       "      <td>536370</td>\n",
       "      <td>France</td>\n",
       "      <td>12583.0</td>\n",
       "      <td>Appliances</td>\n",
       "      <td>21724</td>\n",
       "      <td>PANDA AND BUNNIES STICKER SHEET</td>\n",
       "      <td>12</td>\n",
       "      <td>0.85</td>\n",
       "    </tr>\n",
       "    <tr>\n",
       "      <th>4</th>\n",
       "      <td>2010-01-12 08:45:00</td>\n",
       "      <td>536370</td>\n",
       "      <td>France</td>\n",
       "      <td>12583.0</td>\n",
       "      <td>Appliances</td>\n",
       "      <td>21883</td>\n",
       "      <td>STARS GIFT TAPE</td>\n",
       "      <td>24</td>\n",
       "      <td>0.65</td>\n",
       "    </tr>\n",
       "    <tr>\n",
       "      <th>5</th>\n",
       "      <td>2010-01-12 08:45:00</td>\n",
       "      <td>536370</td>\n",
       "      <td>France</td>\n",
       "      <td>12583.0</td>\n",
       "      <td>Appliances</td>\n",
       "      <td>10002</td>\n",
       "      <td>INFLATABLE POLITICAL GLOBE</td>\n",
       "      <td>48</td>\n",
       "      <td>0.85</td>\n",
       "    </tr>\n",
       "    <tr>\n",
       "      <th>6</th>\n",
       "      <td>2010-01-12 08:45:00</td>\n",
       "      <td>536370</td>\n",
       "      <td>France</td>\n",
       "      <td>12583.0</td>\n",
       "      <td>Appliances</td>\n",
       "      <td>21791</td>\n",
       "      <td>VINTAGE HEADS AND TAILS CARD GAME</td>\n",
       "      <td>24</td>\n",
       "      <td>1.25</td>\n",
       "    </tr>\n",
       "    <tr>\n",
       "      <th>7</th>\n",
       "      <td>2010-01-12 08:45:00</td>\n",
       "      <td>536370</td>\n",
       "      <td>france</td>\n",
       "      <td>12583.0</td>\n",
       "      <td>Appliances</td>\n",
       "      <td>21035</td>\n",
       "      <td>SET/2 RED RETROSPOT TEA TOWELS</td>\n",
       "      <td>18</td>\n",
       "      <td>2.95</td>\n",
       "    </tr>\n",
       "    <tr>\n",
       "      <th>8</th>\n",
       "      <td>2010-01-12 08:45:00</td>\n",
       "      <td>536370</td>\n",
       "      <td>France</td>\n",
       "      <td>12583.0</td>\n",
       "      <td>Appliances</td>\n",
       "      <td>22326</td>\n",
       "      <td>ROUND SNACK BOXES SET OF4 WOODLAND</td>\n",
       "      <td>24</td>\n",
       "      <td>2.95</td>\n",
       "    </tr>\n",
       "    <tr>\n",
       "      <th>9</th>\n",
       "      <td>2010-01-12 08:45:00</td>\n",
       "      <td>536370</td>\n",
       "      <td>France</td>\n",
       "      <td>12583.0</td>\n",
       "      <td>Appliances</td>\n",
       "      <td>22629</td>\n",
       "      <td>SPACEBOY LUNCH BOX</td>\n",
       "      <td>24</td>\n",
       "      <td>1.95</td>\n",
       "    </tr>\n",
       "  </tbody>\n",
       "</table>\n",
       "</div>"
      ],
      "text/plain": [
       "           InvoiceDate  InvoiceNo Country  CustomerID ProductCategory  \\\n",
       "0  2010-01-12 08:45:00     536370  France     12583.0      Appliances   \n",
       "1  2010-01-12 08:45:00     536370  France     12583.0      Appliances   \n",
       "2  2010-01-12 08:45:00     536370  FRANCE     12583.0      Appliances   \n",
       "3  2010-01-12 08:45:00     536370  France     12583.0      Appliances   \n",
       "4  2010-01-12 08:45:00     536370  France     12583.0      Appliances   \n",
       "5  2010-01-12 08:45:00     536370  France     12583.0      Appliances   \n",
       "6  2010-01-12 08:45:00     536370  France     12583.0      Appliances   \n",
       "7  2010-01-12 08:45:00     536370  france     12583.0      Appliances   \n",
       "8  2010-01-12 08:45:00     536370  France     12583.0      Appliances   \n",
       "9  2010-01-12 08:45:00     536370  France     12583.0      Appliances   \n",
       "\n",
       "  StockCode                          Description  Quantity  UnitPrice  \n",
       "0     22728            ALARM CLOCK BAKELIKE PINK        24       3.75  \n",
       "1     22727            ALARM CLOCK BAKELIKE RED         24       3.75  \n",
       "2     22726           ALARM CLOCK BAKELIKE GREEN        12       3.75  \n",
       "3     21724      PANDA AND BUNNIES STICKER SHEET        12       0.85  \n",
       "4     21883                     STARS GIFT TAPE         24       0.65  \n",
       "5     10002          INFLATABLE POLITICAL GLOBE         48       0.85  \n",
       "6     21791   VINTAGE HEADS AND TAILS CARD GAME         24       1.25  \n",
       "7     21035      SET/2 RED RETROSPOT TEA TOWELS         18       2.95  \n",
       "8     22326  ROUND SNACK BOXES SET OF4 WOODLAND         24       2.95  \n",
       "9     22629                  SPACEBOY LUNCH BOX         24       1.95  "
      ]
     },
     "execution_count": 4,
     "metadata": {},
     "output_type": "execute_result"
    }
   ],
   "source": [
    "cols = ['InvoiceDate', 'InvoiceNo', 'Country', 'CustomerID', 'ProductCategory',\n",
    "        'StockCode', 'Description', 'Quantity', 'UnitPrice']\n",
    "df = df[cols]\n",
    "head(df, 10)"
   ]
  },
  {
   "cell_type": "markdown",
   "metadata": {},
   "source": [
    "## Calculate SalesValue"
   ]
  },
  {
   "cell_type": "code",
   "execution_count": 5,
   "metadata": {
    "ExecuteTime": {
     "end_time": "2021-02-26T15:11:16.470580Z",
     "start_time": "2021-02-26T15:11:16.290172Z"
    }
   },
   "outputs": [],
   "source": [
    "%%piper\n",
    "\n",
    "df <- df >> assign(SalesValue=lambda x: x.Quantity * x.UnitPrice,\n",
    "                  Description=lambda x: x.Description.str.title())\n",
    ">> order_by(['InvoiceDate', 'InvoiceNo', 'Country', 'CustomerID', 'ProductCategory', 'StockCode'])"
   ]
  },
  {
   "cell_type": "code",
   "execution_count": 6,
   "metadata": {
    "ExecuteTime": {
     "end_time": "2021-02-26T15:11:16.500811Z",
     "start_time": "2021-02-26T15:11:16.475986Z"
    }
   },
   "outputs": [
    {
     "name": "stderr",
     "output_type": "stream",
     "text": [
      "46431 rows, 10 columns\n"
     ]
    },
    {
     "data": {
      "text/html": [
       "<div>\n",
       "<style scoped>\n",
       "    .dataframe tbody tr th:only-of-type {\n",
       "        vertical-align: middle;\n",
       "    }\n",
       "\n",
       "    .dataframe tbody tr th {\n",
       "        vertical-align: top;\n",
       "    }\n",
       "\n",
       "    .dataframe thead th {\n",
       "        text-align: right;\n",
       "    }\n",
       "</style>\n",
       "<table border=\"1\" class=\"dataframe\">\n",
       "  <thead>\n",
       "    <tr style=\"text-align: right;\">\n",
       "      <th></th>\n",
       "      <th>InvoiceDate</th>\n",
       "      <th>InvoiceNo</th>\n",
       "      <th>Country</th>\n",
       "      <th>CustomerID</th>\n",
       "      <th>ProductCategory</th>\n",
       "      <th>StockCode</th>\n",
       "      <th>Description</th>\n",
       "      <th>Quantity</th>\n",
       "      <th>UnitPrice</th>\n",
       "      <th>SalesValue</th>\n",
       "    </tr>\n",
       "  </thead>\n",
       "  <tbody>\n",
       "    <tr>\n",
       "      <th>11</th>\n",
       "      <td>2010-01-12 08:45:00</td>\n",
       "      <td>536370</td>\n",
       "      <td>FRANCE</td>\n",
       "      <td>12583.0</td>\n",
       "      <td>Appliances</td>\n",
       "      <td>22631</td>\n",
       "      <td>Circus Parade Lunch Box</td>\n",
       "      <td>24</td>\n",
       "      <td>1.95</td>\n",
       "      <td>46.8</td>\n",
       "    </tr>\n",
       "    <tr>\n",
       "      <th>2</th>\n",
       "      <td>2010-01-12 08:45:00</td>\n",
       "      <td>536370</td>\n",
       "      <td>FRANCE</td>\n",
       "      <td>12583.0</td>\n",
       "      <td>Appliances</td>\n",
       "      <td>22726</td>\n",
       "      <td>Alarm Clock Bakelike Green</td>\n",
       "      <td>12</td>\n",
       "      <td>3.75</td>\n",
       "      <td>45.0</td>\n",
       "    </tr>\n",
       "    <tr>\n",
       "      <th>5</th>\n",
       "      <td>2010-01-12 08:45:00</td>\n",
       "      <td>536370</td>\n",
       "      <td>France</td>\n",
       "      <td>12583.0</td>\n",
       "      <td>Appliances</td>\n",
       "      <td>10002</td>\n",
       "      <td>Inflatable Political Globe</td>\n",
       "      <td>48</td>\n",
       "      <td>0.85</td>\n",
       "      <td>40.8</td>\n",
       "    </tr>\n",
       "    <tr>\n",
       "      <th>3</th>\n",
       "      <td>2010-01-12 08:45:00</td>\n",
       "      <td>536370</td>\n",
       "      <td>France</td>\n",
       "      <td>12583.0</td>\n",
       "      <td>Appliances</td>\n",
       "      <td>21724</td>\n",
       "      <td>Panda And Bunnies Sticker Sheet</td>\n",
       "      <td>12</td>\n",
       "      <td>0.85</td>\n",
       "      <td>10.2</td>\n",
       "    </tr>\n",
       "    <tr>\n",
       "      <th>13</th>\n",
       "      <td>2010-01-12 08:45:00</td>\n",
       "      <td>536370</td>\n",
       "      <td>France</td>\n",
       "      <td>12583.0</td>\n",
       "      <td>Appliances</td>\n",
       "      <td>21731</td>\n",
       "      <td>Red Toadstool Led Night Light</td>\n",
       "      <td>24</td>\n",
       "      <td>1.65</td>\n",
       "      <td>39.6</td>\n",
       "    </tr>\n",
       "    <tr>\n",
       "      <th>6</th>\n",
       "      <td>2010-01-12 08:45:00</td>\n",
       "      <td>536370</td>\n",
       "      <td>France</td>\n",
       "      <td>12583.0</td>\n",
       "      <td>Appliances</td>\n",
       "      <td>21791</td>\n",
       "      <td>Vintage Heads And Tails Card Game</td>\n",
       "      <td>24</td>\n",
       "      <td>1.25</td>\n",
       "      <td>30.0</td>\n",
       "    </tr>\n",
       "    <tr>\n",
       "      <th>4</th>\n",
       "      <td>2010-01-12 08:45:00</td>\n",
       "      <td>536370</td>\n",
       "      <td>France</td>\n",
       "      <td>12583.0</td>\n",
       "      <td>Appliances</td>\n",
       "      <td>21883</td>\n",
       "      <td>Stars Gift Tape</td>\n",
       "      <td>24</td>\n",
       "      <td>0.65</td>\n",
       "      <td>15.6</td>\n",
       "    </tr>\n",
       "    <tr>\n",
       "      <th>15</th>\n",
       "      <td>2010-01-12 08:45:00</td>\n",
       "      <td>536370</td>\n",
       "      <td>France</td>\n",
       "      <td>12583.0</td>\n",
       "      <td>Appliances</td>\n",
       "      <td>21913</td>\n",
       "      <td>Vintage Seaside Jigsaw Puzzles</td>\n",
       "      <td>12</td>\n",
       "      <td>3.75</td>\n",
       "      <td>45.0</td>\n",
       "    </tr>\n",
       "    <tr>\n",
       "      <th>8</th>\n",
       "      <td>2010-01-12 08:45:00</td>\n",
       "      <td>536370</td>\n",
       "      <td>France</td>\n",
       "      <td>12583.0</td>\n",
       "      <td>Appliances</td>\n",
       "      <td>22326</td>\n",
       "      <td>Round Snack Boxes Set Of4 Woodland</td>\n",
       "      <td>24</td>\n",
       "      <td>2.95</td>\n",
       "      <td>70.8</td>\n",
       "    </tr>\n",
       "    <tr>\n",
       "      <th>18</th>\n",
       "      <td>2010-01-12 08:45:00</td>\n",
       "      <td>536370</td>\n",
       "      <td>France</td>\n",
       "      <td>12583.0</td>\n",
       "      <td>Appliances</td>\n",
       "      <td>22492</td>\n",
       "      <td>Mini Paint Set Vintage</td>\n",
       "      <td>36</td>\n",
       "      <td>0.65</td>\n",
       "      <td>23.4</td>\n",
       "    </tr>\n",
       "  </tbody>\n",
       "</table>\n",
       "</div>"
      ],
      "text/plain": [
       "            InvoiceDate  InvoiceNo Country  CustomerID ProductCategory  \\\n",
       "11  2010-01-12 08:45:00     536370  FRANCE     12583.0      Appliances   \n",
       "2   2010-01-12 08:45:00     536370  FRANCE     12583.0      Appliances   \n",
       "5   2010-01-12 08:45:00     536370  France     12583.0      Appliances   \n",
       "3   2010-01-12 08:45:00     536370  France     12583.0      Appliances   \n",
       "13  2010-01-12 08:45:00     536370  France     12583.0      Appliances   \n",
       "6   2010-01-12 08:45:00     536370  France     12583.0      Appliances   \n",
       "4   2010-01-12 08:45:00     536370  France     12583.0      Appliances   \n",
       "15  2010-01-12 08:45:00     536370  France     12583.0      Appliances   \n",
       "8   2010-01-12 08:45:00     536370  France     12583.0      Appliances   \n",
       "18  2010-01-12 08:45:00     536370  France     12583.0      Appliances   \n",
       "\n",
       "   StockCode                          Description  Quantity  UnitPrice  \\\n",
       "11     22631             Circus Parade Lunch Box         24       1.95   \n",
       "2      22726           Alarm Clock Bakelike Green        12       3.75   \n",
       "5      10002          Inflatable Political Globe         48       0.85   \n",
       "3      21724      Panda And Bunnies Sticker Sheet        12       0.85   \n",
       "13     21731        Red Toadstool Led Night Light        24       1.65   \n",
       "6      21791   Vintage Heads And Tails Card Game         24       1.25   \n",
       "4      21883                     Stars Gift Tape         24       0.65   \n",
       "15     21913       Vintage Seaside Jigsaw Puzzles        12       3.75   \n",
       "8      22326  Round Snack Boxes Set Of4 Woodland         24       2.95   \n",
       "18     22492              Mini Paint Set Vintage         36       0.65   \n",
       "\n",
       "    SalesValue  \n",
       "11        46.8  \n",
       "2         45.0  \n",
       "5         40.8  \n",
       "3         10.2  \n",
       "13        39.6  \n",
       "6         30.0  \n",
       "4         15.6  \n",
       "15        45.0  \n",
       "8         70.8  \n",
       "18        23.4  "
      ]
     },
     "execution_count": 6,
     "metadata": {},
     "output_type": "execute_result"
    }
   ],
   "source": [
    "head(df, 10)"
   ]
  },
  {
   "cell_type": "markdown",
   "metadata": {},
   "source": [
    "# Analysis/Cleanup"
   ]
  },
  {
   "cell_type": "markdown",
   "metadata": {
    "ExecuteTime": {
     "end_time": "2020-09-25T11:23:14.783450Z",
     "start_time": "2020-09-25T11:23:14.776479Z"
    }
   },
   "source": [
    "## Duplicate data/rows"
   ]
  },
  {
   "cell_type": "code",
   "execution_count": 7,
   "metadata": {
    "ExecuteTime": {
     "end_time": "2021-02-26T15:11:16.540553Z",
     "start_time": "2021-02-26T15:11:16.504161Z"
    }
   },
   "outputs": [
    {
     "name": "stderr",
     "output_type": "stream",
     "text": [
      "46431 rows, 10 columns\n"
     ]
    },
    {
     "data": {
      "text/html": [
       "<div>\n",
       "<style scoped>\n",
       "    .dataframe tbody tr th:only-of-type {\n",
       "        vertical-align: middle;\n",
       "    }\n",
       "\n",
       "    .dataframe tbody tr th {\n",
       "        vertical-align: top;\n",
       "    }\n",
       "\n",
       "    .dataframe thead th {\n",
       "        text-align: right;\n",
       "    }\n",
       "</style>\n",
       "<table border=\"1\" class=\"dataframe\">\n",
       "  <thead>\n",
       "    <tr style=\"text-align: right;\">\n",
       "      <th></th>\n",
       "      <th>InvoiceDate</th>\n",
       "      <th>InvoiceNo</th>\n",
       "      <th>Country</th>\n",
       "      <th>CustomerID</th>\n",
       "      <th>ProductCategory</th>\n",
       "      <th>StockCode</th>\n",
       "      <th>Description</th>\n",
       "      <th>Quantity</th>\n",
       "      <th>UnitPrice</th>\n",
       "      <th>SalesValue</th>\n",
       "    </tr>\n",
       "  </thead>\n",
       "  <tbody>\n",
       "    <tr>\n",
       "      <th>11</th>\n",
       "      <td>2010-01-12 08:45:00</td>\n",
       "      <td>536370</td>\n",
       "      <td>FRANCE</td>\n",
       "      <td>12583.0</td>\n",
       "      <td>Appliances</td>\n",
       "      <td>22631</td>\n",
       "      <td>Circus Parade Lunch Box</td>\n",
       "      <td>24</td>\n",
       "      <td>1.95</td>\n",
       "      <td>46.8</td>\n",
       "    </tr>\n",
       "    <tr>\n",
       "      <th>2</th>\n",
       "      <td>2010-01-12 08:45:00</td>\n",
       "      <td>536370</td>\n",
       "      <td>FRANCE</td>\n",
       "      <td>12583.0</td>\n",
       "      <td>Appliances</td>\n",
       "      <td>22726</td>\n",
       "      <td>Alarm Clock Bakelike Green</td>\n",
       "      <td>12</td>\n",
       "      <td>3.75</td>\n",
       "      <td>45.0</td>\n",
       "    </tr>\n",
       "    <tr>\n",
       "      <th>5</th>\n",
       "      <td>2010-01-12 08:45:00</td>\n",
       "      <td>536370</td>\n",
       "      <td>France</td>\n",
       "      <td>12583.0</td>\n",
       "      <td>Appliances</td>\n",
       "      <td>10002</td>\n",
       "      <td>Inflatable Political Globe</td>\n",
       "      <td>48</td>\n",
       "      <td>0.85</td>\n",
       "      <td>40.8</td>\n",
       "    </tr>\n",
       "    <tr>\n",
       "      <th>3</th>\n",
       "      <td>2010-01-12 08:45:00</td>\n",
       "      <td>536370</td>\n",
       "      <td>France</td>\n",
       "      <td>12583.0</td>\n",
       "      <td>Appliances</td>\n",
       "      <td>21724</td>\n",
       "      <td>Panda And Bunnies Sticker Sheet</td>\n",
       "      <td>12</td>\n",
       "      <td>0.85</td>\n",
       "      <td>10.2</td>\n",
       "    </tr>\n",
       "  </tbody>\n",
       "</table>\n",
       "</div>"
      ],
      "text/plain": [
       "            InvoiceDate  InvoiceNo Country  CustomerID ProductCategory  \\\n",
       "11  2010-01-12 08:45:00     536370  FRANCE     12583.0      Appliances   \n",
       "2   2010-01-12 08:45:00     536370  FRANCE     12583.0      Appliances   \n",
       "5   2010-01-12 08:45:00     536370  France     12583.0      Appliances   \n",
       "3   2010-01-12 08:45:00     536370  France     12583.0      Appliances   \n",
       "\n",
       "   StockCode                      Description  Quantity  UnitPrice  SalesValue  \n",
       "11     22631         Circus Parade Lunch Box         24       1.95        46.8  \n",
       "2      22726       Alarm Clock Bakelike Green        12       3.75        45.0  \n",
       "5      10002      Inflatable Political Globe         48       0.85        40.8  \n",
       "3      21724  Panda And Bunnies Sticker Sheet        12       0.85        10.2  "
      ]
     },
     "execution_count": 7,
     "metadata": {},
     "output_type": "execute_result"
    }
   ],
   "source": [
    "head(df)"
   ]
  },
  {
   "cell_type": "code",
   "execution_count": 8,
   "metadata": {
    "ExecuteTime": {
     "end_time": "2021-02-26T15:11:16.756986Z",
     "start_time": "2021-02-26T15:11:16.542742Z"
    }
   },
   "outputs": [
    {
     "name": "stderr",
     "output_type": "stream",
     "text": [
      "46253 rows, 11 columns\n"
     ]
    },
    {
     "data": {
      "text/html": [
       "<div>\n",
       "<style scoped>\n",
       "    .dataframe tbody tr th:only-of-type {\n",
       "        vertical-align: middle;\n",
       "    }\n",
       "\n",
       "    .dataframe tbody tr th {\n",
       "        vertical-align: top;\n",
       "    }\n",
       "\n",
       "    .dataframe thead th {\n",
       "        text-align: right;\n",
       "    }\n",
       "</style>\n",
       "<table border=\"1\" class=\"dataframe\">\n",
       "  <thead>\n",
       "    <tr style=\"text-align: right;\">\n",
       "      <th></th>\n",
       "      <th>duplicate</th>\n",
       "      <th>InvoiceDate</th>\n",
       "      <th>InvoiceNo</th>\n",
       "      <th>Country</th>\n",
       "      <th>CustomerID</th>\n",
       "      <th>ProductCategory</th>\n",
       "      <th>StockCode</th>\n",
       "      <th>Description</th>\n",
       "      <th>Quantity</th>\n",
       "      <th>UnitPrice</th>\n",
       "      <th>SalesValue</th>\n",
       "    </tr>\n",
       "  </thead>\n",
       "  <tbody>\n",
       "    <tr>\n",
       "      <th>11</th>\n",
       "      <td>False</td>\n",
       "      <td>2010-01-12 08:45:00</td>\n",
       "      <td>536370</td>\n",
       "      <td>FRANCE</td>\n",
       "      <td>12583.0</td>\n",
       "      <td>Appliances</td>\n",
       "      <td>22631</td>\n",
       "      <td>Circus Parade Lunch Box</td>\n",
       "      <td>24</td>\n",
       "      <td>1.95</td>\n",
       "      <td>46.8</td>\n",
       "    </tr>\n",
       "    <tr>\n",
       "      <th>2</th>\n",
       "      <td>False</td>\n",
       "      <td>2010-01-12 08:45:00</td>\n",
       "      <td>536370</td>\n",
       "      <td>FRANCE</td>\n",
       "      <td>12583.0</td>\n",
       "      <td>Appliances</td>\n",
       "      <td>22726</td>\n",
       "      <td>Alarm Clock Bakelike Green</td>\n",
       "      <td>12</td>\n",
       "      <td>3.75</td>\n",
       "      <td>45.0</td>\n",
       "    </tr>\n",
       "    <tr>\n",
       "      <th>5</th>\n",
       "      <td>False</td>\n",
       "      <td>2010-01-12 08:45:00</td>\n",
       "      <td>536370</td>\n",
       "      <td>France</td>\n",
       "      <td>12583.0</td>\n",
       "      <td>Appliances</td>\n",
       "      <td>10002</td>\n",
       "      <td>Inflatable Political Globe</td>\n",
       "      <td>48</td>\n",
       "      <td>0.85</td>\n",
       "      <td>40.8</td>\n",
       "    </tr>\n",
       "    <tr>\n",
       "      <th>3</th>\n",
       "      <td>False</td>\n",
       "      <td>2010-01-12 08:45:00</td>\n",
       "      <td>536370</td>\n",
       "      <td>France</td>\n",
       "      <td>12583.0</td>\n",
       "      <td>Appliances</td>\n",
       "      <td>21724</td>\n",
       "      <td>Panda And Bunnies Sticker Sheet</td>\n",
       "      <td>12</td>\n",
       "      <td>0.85</td>\n",
       "      <td>10.2</td>\n",
       "    </tr>\n",
       "  </tbody>\n",
       "</table>\n",
       "</div>"
      ],
      "text/plain": [
       "    duplicate          InvoiceDate  InvoiceNo Country  CustomerID  \\\n",
       "11      False  2010-01-12 08:45:00     536370  FRANCE     12583.0   \n",
       "2       False  2010-01-12 08:45:00     536370  FRANCE     12583.0   \n",
       "5       False  2010-01-12 08:45:00     536370  France     12583.0   \n",
       "3       False  2010-01-12 08:45:00     536370  France     12583.0   \n",
       "\n",
       "   ProductCategory StockCode                      Description  Quantity  \\\n",
       "11      Appliances     22631         Circus Parade Lunch Box         24   \n",
       "2       Appliances     22726       Alarm Clock Bakelike Green        12   \n",
       "5       Appliances     10002      Inflatable Political Globe         48   \n",
       "3       Appliances     21724  Panda And Bunnies Sticker Sheet        12   \n",
       "\n",
       "    UnitPrice  SalesValue  \n",
       "11       1.95        46.8  \n",
       "2        3.75        45.0  \n",
       "5        0.85        40.8  \n",
       "3        0.85        10.2  "
      ]
     },
     "execution_count": 8,
     "metadata": {},
     "output_type": "execute_result"
    }
   ],
   "source": [
    "%%piper \n",
    "duplicated(df, unique_only=False)\n",
    ">> where(\"duplicate == False\")\n",
    ">> head()"
   ]
  },
  {
   "cell_type": "markdown",
   "metadata": {
    "ExecuteTime": {
     "end_time": "2020-09-25T11:23:14.783450Z",
     "start_time": "2020-09-25T11:23:14.776479Z"
    }
   },
   "source": [
    "## Quick check no unit price variances found"
   ]
  },
  {
   "cell_type": "code",
   "execution_count": 9,
   "metadata": {
    "ExecuteTime": {
     "end_time": "2021-02-26T15:11:16.936171Z",
     "start_time": "2021-02-26T15:11:16.759360Z"
    }
   },
   "outputs": [
    {
     "name": "stderr",
     "output_type": "stream",
     "text": [
      "2921 rows, 5 columns\n"
     ]
    },
    {
     "data": {
      "text/html": [
       "<div>\n",
       "<style scoped>\n",
       "    .dataframe tbody tr th:only-of-type {\n",
       "        vertical-align: middle;\n",
       "    }\n",
       "\n",
       "    .dataframe tbody tr th {\n",
       "        vertical-align: top;\n",
       "    }\n",
       "\n",
       "    .dataframe thead th {\n",
       "        text-align: right;\n",
       "    }\n",
       "</style>\n",
       "<table border=\"1\" class=\"dataframe\">\n",
       "  <thead>\n",
       "    <tr style=\"text-align: right;\">\n",
       "      <th></th>\n",
       "      <th>stockcode</th>\n",
       "      <th>description</th>\n",
       "      <th>unit_max</th>\n",
       "      <th>unit_min</th>\n",
       "      <th>variance</th>\n",
       "    </tr>\n",
       "  </thead>\n",
       "  <tbody>\n",
       "    <tr>\n",
       "      <th>0</th>\n",
       "      <td>10002</td>\n",
       "      <td>Inflatable Political Globe</td>\n",
       "      <td>0.85</td>\n",
       "      <td>0.85</td>\n",
       "      <td>0.0</td>\n",
       "    </tr>\n",
       "    <tr>\n",
       "      <th>1</th>\n",
       "      <td>10120</td>\n",
       "      <td>Doggy Rubber</td>\n",
       "      <td>0.21</td>\n",
       "      <td>0.21</td>\n",
       "      <td>0.0</td>\n",
       "    </tr>\n",
       "    <tr>\n",
       "      <th>2</th>\n",
       "      <td>10125</td>\n",
       "      <td>Mini Funky Design Tapes</td>\n",
       "      <td>0.42</td>\n",
       "      <td>0.42</td>\n",
       "      <td>0.0</td>\n",
       "    </tr>\n",
       "    <tr>\n",
       "      <th>3</th>\n",
       "      <td>10133</td>\n",
       "      <td>Colouring Pencils Brown Tube</td>\n",
       "      <td>0.42</td>\n",
       "      <td>0.42</td>\n",
       "      <td>0.0</td>\n",
       "    </tr>\n",
       "    <tr>\n",
       "      <th>4</th>\n",
       "      <td>10135</td>\n",
       "      <td>Colouring Pencils Brown Tube</td>\n",
       "      <td>0.42</td>\n",
       "      <td>0.42</td>\n",
       "      <td>0.0</td>\n",
       "    </tr>\n",
       "  </tbody>\n",
       "</table>\n",
       "</div>"
      ],
      "text/plain": [
       "  stockcode                   description  unit_max  unit_min  variance\n",
       "0     10002    Inflatable Political Globe      0.85      0.85       0.0\n",
       "1     10120                  Doggy Rubber      0.21      0.21       0.0\n",
       "2     10125       Mini Funky Design Tapes      0.42      0.42       0.0\n",
       "3     10133  Colouring Pencils Brown Tube      0.42      0.42       0.0\n",
       "4     10135  Colouring Pencils Brown Tube      0.42      0.42       0.0"
      ]
     },
     "execution_count": 9,
     "metadata": {},
     "output_type": "execute_result"
    }
   ],
   "source": [
    "%%piper\n",
    "df \n",
    ">> clean_columns()\n",
    ">> trim()\n",
    ">> group_by(['stockcode', 'description'])\n",
    ">> summarise(unit_max=('unitprice', 'min'), unit_min=('unitprice', 'min'))\n",
    ">> assign(variance=lambda x: x.unit_max - x.unit_min)\n",
    ">> pd.DataFrame.reset_index()\n",
    ">> assign(description=lambda x: x.description.str.title())\n",
    ">> head(5)"
   ]
  },
  {
   "cell_type": "markdown",
   "metadata": {
    "ExecuteTime": {
     "end_time": "2020-09-25T11:23:14.783450Z",
     "start_time": "2020-09-25T11:23:14.776479Z"
    }
   },
   "source": [
    "## Stockcodes linked to more than one ProductCategory"
   ]
  },
  {
   "cell_type": "code",
   "execution_count": 10,
   "metadata": {
    "ExecuteTime": {
     "end_time": "2021-02-26T15:11:17.135048Z",
     "start_time": "2021-02-26T15:11:16.938552Z"
    }
   },
   "outputs": [
    {
     "data": {
      "text/html": [
       "<div>\n",
       "<style scoped>\n",
       "    .dataframe tbody tr th:only-of-type {\n",
       "        vertical-align: middle;\n",
       "    }\n",
       "\n",
       "    .dataframe tbody tr th {\n",
       "        vertical-align: top;\n",
       "    }\n",
       "\n",
       "    .dataframe thead th {\n",
       "        text-align: right;\n",
       "    }\n",
       "</style>\n",
       "<table border=\"1\" class=\"dataframe\">\n",
       "  <thead>\n",
       "    <tr style=\"text-align: right;\">\n",
       "      <th></th>\n",
       "      <th>StockCode</th>\n",
       "      <th>ProductCategory</th>\n",
       "      <th>n</th>\n",
       "    </tr>\n",
       "  </thead>\n",
       "  <tbody>\n",
       "    <tr>\n",
       "      <th>0</th>\n",
       "      <td>10002</td>\n",
       "      <td>Appliances</td>\n",
       "      <td>1</td>\n",
       "    </tr>\n",
       "    <tr>\n",
       "      <th>1</th>\n",
       "      <td>10120</td>\n",
       "      <td>Apperals</td>\n",
       "      <td>1</td>\n",
       "    </tr>\n",
       "    <tr>\n",
       "      <th>2</th>\n",
       "      <td>10125</td>\n",
       "      <td>Apperals</td>\n",
       "      <td>1</td>\n",
       "    </tr>\n",
       "    <tr>\n",
       "      <th>3</th>\n",
       "      <td>10125</td>\n",
       "      <td>Appliances</td>\n",
       "      <td>1</td>\n",
       "    </tr>\n",
       "    <tr>\n",
       "      <th>4</th>\n",
       "      <td>10133</td>\n",
       "      <td>Appliances</td>\n",
       "      <td>1</td>\n",
       "    </tr>\n",
       "    <tr>\n",
       "      <th>...</th>\n",
       "      <td>...</td>\n",
       "      <td>...</td>\n",
       "      <td>...</td>\n",
       "    </tr>\n",
       "    <tr>\n",
       "      <th>69</th>\n",
       "      <td>23245</td>\n",
       "      <td>Cosmetics</td>\n",
       "      <td>1</td>\n",
       "    </tr>\n",
       "    <tr>\n",
       "      <th>70</th>\n",
       "      <td>POST</td>\n",
       "      <td>Appliances</td>\n",
       "      <td>1</td>\n",
       "    </tr>\n",
       "    <tr>\n",
       "      <th>71</th>\n",
       "      <td>POST</td>\n",
       "      <td>Cosmetics</td>\n",
       "      <td>1</td>\n",
       "    </tr>\n",
       "    <tr>\n",
       "      <th>72</th>\n",
       "      <td>POST</td>\n",
       "      <td>Apperals</td>\n",
       "      <td>1</td>\n",
       "    </tr>\n",
       "    <tr>\n",
       "      <th>73</th>\n",
       "      <td>POST</td>\n",
       "      <td>House_holds</td>\n",
       "      <td>1</td>\n",
       "    </tr>\n",
       "  </tbody>\n",
       "</table>\n",
       "<p>74 rows × 3 columns</p>\n",
       "</div>"
      ],
      "text/plain": [
       "   StockCode ProductCategory  n\n",
       "0      10002      Appliances  1\n",
       "1      10120        Apperals  1\n",
       "2      10125        Apperals  1\n",
       "3      10125      Appliances  1\n",
       "4      10133      Appliances  1\n",
       "..       ...             ... ..\n",
       "69     23245       Cosmetics  1\n",
       "70      POST      Appliances  1\n",
       "71      POST       Cosmetics  1\n",
       "72      POST        Apperals  1\n",
       "73      POST     House_holds  1\n",
       "\n",
       "[74 rows x 3 columns]"
      ]
     },
     "execution_count": 10,
     "metadata": {},
     "output_type": "execute_result"
    }
   ],
   "source": [
    "%%piper\n",
    "df \n",
    ">> trim()\n",
    ">> counts(['StockCode', 'ProductCategory'], sort_values=None)\n",
    ">> distinct()\n",
    ">> pd.DataFrame.reset_index()\n",
    ">> counts(['StockCode', 'ProductCategory'], sort_values=None)\n",
    ">> pd.DataFrame.reset_index()\n",
    ">> duplicated(['StockCode'])\n",
    ">> select('-duplicate')\n",
    ">> pd.DataFrame.reset_index(drop=True)"
   ]
  },
  {
   "cell_type": "markdown",
   "metadata": {},
   "source": [
    "## ProductCategory"
   ]
  },
  {
   "cell_type": "code",
   "execution_count": 11,
   "metadata": {
    "ExecuteTime": {
     "end_time": "2021-02-26T15:11:17.161813Z",
     "start_time": "2021-02-26T15:11:17.136685Z"
    }
   },
   "outputs": [
    {
     "data": {
      "text/html": [
       "<div>\n",
       "<style scoped>\n",
       "    .dataframe tbody tr th:only-of-type {\n",
       "        vertical-align: middle;\n",
       "    }\n",
       "\n",
       "    .dataframe tbody tr th {\n",
       "        vertical-align: top;\n",
       "    }\n",
       "\n",
       "    .dataframe thead th {\n",
       "        text-align: right;\n",
       "    }\n",
       "</style>\n",
       "<table border=\"1\" class=\"dataframe\">\n",
       "  <thead>\n",
       "    <tr style=\"text-align: right;\">\n",
       "      <th></th>\n",
       "      <th>ProductCategory</th>\n",
       "      <th>n</th>\n",
       "    </tr>\n",
       "  </thead>\n",
       "  <tbody>\n",
       "    <tr>\n",
       "      <th>0</th>\n",
       "      <td>Apperals</td>\n",
       "      <td>11648</td>\n",
       "    </tr>\n",
       "    <tr>\n",
       "      <th>1</th>\n",
       "      <td>Cosmetics</td>\n",
       "      <td>11607</td>\n",
       "    </tr>\n",
       "    <tr>\n",
       "      <th>2</th>\n",
       "      <td>Appliances</td>\n",
       "      <td>11607</td>\n",
       "    </tr>\n",
       "    <tr>\n",
       "      <th>3</th>\n",
       "      <td>House_holds</td>\n",
       "      <td>11569</td>\n",
       "    </tr>\n",
       "  </tbody>\n",
       "</table>\n",
       "</div>"
      ],
      "text/plain": [
       "  ProductCategory      n\n",
       "0        Apperals  11648\n",
       "1       Cosmetics  11607\n",
       "2      Appliances  11607\n",
       "3     House_holds  11569"
      ]
     },
     "execution_count": 11,
     "metadata": {},
     "output_type": "execute_result"
    }
   ],
   "source": [
    "count(df, 'ProductCategory')"
   ]
  },
  {
   "cell_type": "code",
   "execution_count": 12,
   "metadata": {
    "ExecuteTime": {
     "end_time": "2021-02-26T15:11:17.183977Z",
     "start_time": "2021-02-26T15:11:17.164465Z"
    }
   },
   "outputs": [],
   "source": [
    "df.loc[df.ProductCategory == 'House_holds', 'ProductCategory'] = 'Households'\n",
    "df.loc[df.ProductCategory == 'Apperals', 'ProductCategory'] = 'Apparels'"
   ]
  },
  {
   "cell_type": "code",
   "execution_count": 13,
   "metadata": {
    "ExecuteTime": {
     "end_time": "2021-02-26T15:11:17.206386Z",
     "start_time": "2021-02-26T15:11:17.185820Z"
    }
   },
   "outputs": [
    {
     "data": {
      "text/html": [
       "<div>\n",
       "<style scoped>\n",
       "    .dataframe tbody tr th:only-of-type {\n",
       "        vertical-align: middle;\n",
       "    }\n",
       "\n",
       "    .dataframe tbody tr th {\n",
       "        vertical-align: top;\n",
       "    }\n",
       "\n",
       "    .dataframe thead th {\n",
       "        text-align: right;\n",
       "    }\n",
       "</style>\n",
       "<table border=\"1\" class=\"dataframe\">\n",
       "  <thead>\n",
       "    <tr style=\"text-align: right;\">\n",
       "      <th></th>\n",
       "      <th>ProductCategory</th>\n",
       "      <th>n</th>\n",
       "    </tr>\n",
       "  </thead>\n",
       "  <tbody>\n",
       "    <tr>\n",
       "      <th>0</th>\n",
       "      <td>Apparels</td>\n",
       "      <td>11648</td>\n",
       "    </tr>\n",
       "    <tr>\n",
       "      <th>1</th>\n",
       "      <td>Cosmetics</td>\n",
       "      <td>11607</td>\n",
       "    </tr>\n",
       "    <tr>\n",
       "      <th>2</th>\n",
       "      <td>Appliances</td>\n",
       "      <td>11607</td>\n",
       "    </tr>\n",
       "    <tr>\n",
       "      <th>3</th>\n",
       "      <td>Households</td>\n",
       "      <td>11569</td>\n",
       "    </tr>\n",
       "  </tbody>\n",
       "</table>\n",
       "</div>"
      ],
      "text/plain": [
       "  ProductCategory      n\n",
       "0        Apparels  11648\n",
       "1       Cosmetics  11607\n",
       "2      Appliances  11607\n",
       "3      Households  11569"
      ]
     },
     "execution_count": 13,
     "metadata": {},
     "output_type": "execute_result"
    }
   ],
   "source": [
    "count(df, 'ProductCategory')"
   ]
  },
  {
   "cell_type": "markdown",
   "metadata": {},
   "source": [
    "## Country"
   ]
  },
  {
   "cell_type": "code",
   "execution_count": 14,
   "metadata": {
    "ExecuteTime": {
     "end_time": "2021-02-26T15:11:17.240627Z",
     "start_time": "2021-02-26T15:11:17.209047Z"
    }
   },
   "outputs": [
    {
     "data": {
      "text/html": [
       "<div>\n",
       "<style scoped>\n",
       "    .dataframe tbody tr th:only-of-type {\n",
       "        vertical-align: middle;\n",
       "    }\n",
       "\n",
       "    .dataframe tbody tr th {\n",
       "        vertical-align: top;\n",
       "    }\n",
       "\n",
       "    .dataframe thead th {\n",
       "        text-align: right;\n",
       "    }\n",
       "</style>\n",
       "<table border=\"1\" class=\"dataframe\">\n",
       "  <thead>\n",
       "    <tr style=\"text-align: right;\">\n",
       "      <th></th>\n",
       "      <th>n</th>\n",
       "      <th>cum %</th>\n",
       "    </tr>\n",
       "  </thead>\n",
       "  <tbody>\n",
       "    <tr>\n",
       "      <th>Germany</th>\n",
       "      <td>9495</td>\n",
       "      <td>20.45</td>\n",
       "    </tr>\n",
       "    <tr>\n",
       "      <th>France</th>\n",
       "      <td>8554</td>\n",
       "      <td>38.87</td>\n",
       "    </tr>\n",
       "    <tr>\n",
       "      <th>EIRE</th>\n",
       "      <td>8196</td>\n",
       "      <td>56.52</td>\n",
       "    </tr>\n",
       "    <tr>\n",
       "      <th>Spain</th>\n",
       "      <td>2533</td>\n",
       "      <td>61.98</td>\n",
       "    </tr>\n",
       "    <tr>\n",
       "      <th>Netherlands</th>\n",
       "      <td>2371</td>\n",
       "      <td>67.09</td>\n",
       "    </tr>\n",
       "    <tr>\n",
       "      <th>Belgium</th>\n",
       "      <td>2069</td>\n",
       "      <td>71.54</td>\n",
       "    </tr>\n",
       "    <tr>\n",
       "      <th>Switzerland</th>\n",
       "      <td>2002</td>\n",
       "      <td>75.85</td>\n",
       "    </tr>\n",
       "    <tr>\n",
       "      <th>Portugal</th>\n",
       "      <td>1519</td>\n",
       "      <td>79.13</td>\n",
       "    </tr>\n",
       "    <tr>\n",
       "      <th>All</th>\n",
       "      <td>36739</td>\n",
       "      <td>NaN</td>\n",
       "    </tr>\n",
       "  </tbody>\n",
       "</table>\n",
       "</div>"
      ],
      "text/plain": [
       "                 n  cum %\n",
       "Germany       9495  20.45\n",
       "France        8554  38.87\n",
       "EIRE          8196  56.52\n",
       "Spain         2533  61.98\n",
       "Netherlands   2371  67.09\n",
       "Belgium       2069  71.54\n",
       "Switzerland   2002  75.85\n",
       "Portugal      1519  79.13\n",
       "All          36739    NaN"
      ]
     },
     "execution_count": 14,
     "metadata": {},
     "output_type": "execute_result"
    }
   ],
   "source": [
    "%piper counts(df, 'Country', cum_percent=True, threshold=81) >> adorn(columns='n')"
   ]
  },
  {
   "cell_type": "code",
   "execution_count": 15,
   "metadata": {
    "ExecuteTime": {
     "end_time": "2021-02-26T15:11:17.267684Z",
     "start_time": "2021-02-26T15:11:17.242602Z"
    }
   },
   "outputs": [],
   "source": [
    "df.Country = df.Country.str.title()"
   ]
  },
  {
   "cell_type": "code",
   "execution_count": 16,
   "metadata": {
    "ExecuteTime": {
     "end_time": "2021-02-26T15:11:17.289595Z",
     "start_time": "2021-02-26T15:11:17.269620Z"
    }
   },
   "outputs": [
    {
     "name": "stderr",
     "output_type": "stream",
     "text": [
      "36 rows, 2 columns\n"
     ]
    },
    {
     "data": {
      "text/html": [
       "<div>\n",
       "<style scoped>\n",
       "    .dataframe tbody tr th:only-of-type {\n",
       "        vertical-align: middle;\n",
       "    }\n",
       "\n",
       "    .dataframe tbody tr th {\n",
       "        vertical-align: top;\n",
       "    }\n",
       "\n",
       "    .dataframe thead th {\n",
       "        text-align: right;\n",
       "    }\n",
       "</style>\n",
       "<table border=\"1\" class=\"dataframe\">\n",
       "  <thead>\n",
       "    <tr style=\"text-align: right;\">\n",
       "      <th></th>\n",
       "      <th>Country</th>\n",
       "      <th>n</th>\n",
       "    </tr>\n",
       "  </thead>\n",
       "  <tbody>\n",
       "    <tr>\n",
       "      <th>0</th>\n",
       "      <td>Germany</td>\n",
       "      <td>9495</td>\n",
       "    </tr>\n",
       "    <tr>\n",
       "      <th>1</th>\n",
       "      <td>France</td>\n",
       "      <td>8557</td>\n",
       "    </tr>\n",
       "    <tr>\n",
       "      <th>2</th>\n",
       "      <td>Eire</td>\n",
       "      <td>8196</td>\n",
       "    </tr>\n",
       "    <tr>\n",
       "      <th>3</th>\n",
       "      <td>Spain</td>\n",
       "      <td>2533</td>\n",
       "    </tr>\n",
       "    <tr>\n",
       "      <th>4</th>\n",
       "      <td>Netherlands</td>\n",
       "      <td>2371</td>\n",
       "    </tr>\n",
       "  </tbody>\n",
       "</table>\n",
       "</div>"
      ],
      "text/plain": [
       "       Country     n\n",
       "0      Germany  9495\n",
       "1       France  8557\n",
       "2         Eire  8196\n",
       "3        Spain  2533\n",
       "4  Netherlands  2371"
      ]
     },
     "execution_count": 16,
     "metadata": {},
     "output_type": "execute_result"
    }
   ],
   "source": [
    "%piper df >> count('Country') >> head(5)"
   ]
  },
  {
   "cell_type": "markdown",
   "metadata": {},
   "source": [
    "## StockCode"
   ]
  },
  {
   "cell_type": "code",
   "execution_count": 17,
   "metadata": {
    "ExecuteTime": {
     "end_time": "2021-02-26T15:11:17.307965Z",
     "start_time": "2021-02-26T15:11:17.291609Z"
    }
   },
   "outputs": [
    {
     "name": "stderr",
     "output_type": "stream",
     "text": [
      "2807 rows, 2 columns\n"
     ]
    },
    {
     "data": {
      "text/html": [
       "<div>\n",
       "<style scoped>\n",
       "    .dataframe tbody tr th:only-of-type {\n",
       "        vertical-align: middle;\n",
       "    }\n",
       "\n",
       "    .dataframe tbody tr th {\n",
       "        vertical-align: top;\n",
       "    }\n",
       "\n",
       "    .dataframe thead th {\n",
       "        text-align: right;\n",
       "    }\n",
       "</style>\n",
       "<table border=\"1\" class=\"dataframe\">\n",
       "  <thead>\n",
       "    <tr style=\"text-align: right;\">\n",
       "      <th></th>\n",
       "      <th>StockCode</th>\n",
       "      <th>n</th>\n",
       "    </tr>\n",
       "  </thead>\n",
       "  <tbody>\n",
       "    <tr>\n",
       "      <th>0</th>\n",
       "      <td>POST</td>\n",
       "      <td>1112</td>\n",
       "    </tr>\n",
       "    <tr>\n",
       "      <th>1</th>\n",
       "      <td>22423</td>\n",
       "      <td>341</td>\n",
       "    </tr>\n",
       "    <tr>\n",
       "      <th>2</th>\n",
       "      <td>22326</td>\n",
       "      <td>317</td>\n",
       "    </tr>\n",
       "    <tr>\n",
       "      <th>3</th>\n",
       "      <td>22554</td>\n",
       "      <td>225</td>\n",
       "    </tr>\n",
       "    <tr>\n",
       "      <th>4</th>\n",
       "      <td>22556</td>\n",
       "      <td>210</td>\n",
       "    </tr>\n",
       "  </tbody>\n",
       "</table>\n",
       "</div>"
      ],
      "text/plain": [
       "  StockCode     n\n",
       "0      POST  1112\n",
       "1     22423   341\n",
       "2     22326   317\n",
       "3     22554   225\n",
       "4     22556   210"
      ]
     },
     "execution_count": 17,
     "metadata": {},
     "output_type": "execute_result"
    }
   ],
   "source": [
    "%piper count(df, 'StockCode') >> head(5)"
   ]
  },
  {
   "cell_type": "markdown",
   "metadata": {
    "ExecuteTime": {
     "end_time": "2020-09-25T11:23:14.783450Z",
     "start_time": "2020-09-25T11:23:14.776479Z"
    }
   },
   "source": [
    "## InvoiceNo"
   ]
  },
  {
   "cell_type": "code",
   "execution_count": 18,
   "metadata": {
    "ExecuteTime": {
     "end_time": "2021-02-26T15:11:17.325792Z",
     "start_time": "2021-02-26T15:11:17.311085Z"
    }
   },
   "outputs": [
    {
     "name": "stderr",
     "output_type": "stream",
     "text": [
      "2406 rows, 2 columns\n"
     ]
    },
    {
     "data": {
      "text/html": [
       "<div>\n",
       "<style scoped>\n",
       "    .dataframe tbody tr th:only-of-type {\n",
       "        vertical-align: middle;\n",
       "    }\n",
       "\n",
       "    .dataframe tbody tr th {\n",
       "        vertical-align: top;\n",
       "    }\n",
       "\n",
       "    .dataframe thead th {\n",
       "        text-align: right;\n",
       "    }\n",
       "</style>\n",
       "<table border=\"1\" class=\"dataframe\">\n",
       "  <thead>\n",
       "    <tr style=\"text-align: right;\">\n",
       "      <th></th>\n",
       "      <th>InvoiceNo</th>\n",
       "      <th>n</th>\n",
       "    </tr>\n",
       "  </thead>\n",
       "  <tbody>\n",
       "    <tr>\n",
       "      <th>0</th>\n",
       "      <td>570672</td>\n",
       "      <td>259</td>\n",
       "    </tr>\n",
       "    <tr>\n",
       "      <th>1</th>\n",
       "      <td>562046</td>\n",
       "      <td>219</td>\n",
       "    </tr>\n",
       "    <tr>\n",
       "      <th>2</th>\n",
       "      <td>569866</td>\n",
       "      <td>182</td>\n",
       "    </tr>\n",
       "    <tr>\n",
       "      <th>3</th>\n",
       "      <td>563613</td>\n",
       "      <td>171</td>\n",
       "    </tr>\n",
       "  </tbody>\n",
       "</table>\n",
       "</div>"
      ],
      "text/plain": [
       "   InvoiceNo    n\n",
       "0     570672  259\n",
       "1     562046  219\n",
       "2     569866  182\n",
       "3     563613  171"
      ]
     },
     "execution_count": 18,
     "metadata": {},
     "output_type": "execute_result"
    }
   ],
   "source": [
    "%piper df >> count('InvoiceNo') >> head()"
   ]
  },
  {
   "cell_type": "markdown",
   "metadata": {
    "ExecuteTime": {
     "end_time": "2020-09-25T11:23:14.783450Z",
     "start_time": "2020-09-25T11:23:14.776479Z"
    }
   },
   "source": [
    "## InvoiceDate"
   ]
  },
  {
   "cell_type": "code",
   "execution_count": 19,
   "metadata": {
    "ExecuteTime": {
     "end_time": "2021-02-26T15:11:17.353825Z",
     "start_time": "2021-02-26T15:11:17.328674Z"
    }
   },
   "outputs": [
    {
     "data": {
      "text/html": [
       "<div>\n",
       "<style scoped>\n",
       "    .dataframe tbody tr th:only-of-type {\n",
       "        vertical-align: middle;\n",
       "    }\n",
       "\n",
       "    .dataframe tbody tr th {\n",
       "        vertical-align: top;\n",
       "    }\n",
       "\n",
       "    .dataframe thead th {\n",
       "        text-align: right;\n",
       "    }\n",
       "</style>\n",
       "<table border=\"1\" class=\"dataframe\">\n",
       "  <thead>\n",
       "    <tr style=\"text-align: right;\">\n",
       "      <th></th>\n",
       "      <th>InvoiceDate</th>\n",
       "      <th>n</th>\n",
       "    </tr>\n",
       "  </thead>\n",
       "  <tbody>\n",
       "    <tr>\n",
       "      <th>0</th>\n",
       "      <td>2011-11-10 14:52:00</td>\n",
       "      <td>259</td>\n",
       "    </tr>\n",
       "    <tr>\n",
       "      <th>1</th>\n",
       "      <td>2011-02-08 10:34:00</td>\n",
       "      <td>219</td>\n",
       "    </tr>\n",
       "    <tr>\n",
       "      <th>2</th>\n",
       "      <td>2011-06-10 14:50:00</td>\n",
       "      <td>182</td>\n",
       "    </tr>\n",
       "    <tr>\n",
       "      <th>3</th>\n",
       "      <td>18-08-2011 08:49</td>\n",
       "      <td>171</td>\n",
       "    </tr>\n",
       "    <tr>\n",
       "      <th>4</th>\n",
       "      <td>2011-07-01 12:28:00</td>\n",
       "      <td>149</td>\n",
       "    </tr>\n",
       "    <tr>\n",
       "      <th>...</th>\n",
       "      <td>...</td>\n",
       "      <td>...</td>\n",
       "    </tr>\n",
       "    <tr>\n",
       "      <th>2367</th>\n",
       "      <td>18-04-2011 10:28</td>\n",
       "      <td>1</td>\n",
       "    </tr>\n",
       "    <tr>\n",
       "      <th>2368</th>\n",
       "      <td>2011-09-06 09:44:00</td>\n",
       "      <td>1</td>\n",
       "    </tr>\n",
       "    <tr>\n",
       "      <th>2369</th>\n",
       "      <td>16-12-2010 10:38</td>\n",
       "      <td>1</td>\n",
       "    </tr>\n",
       "    <tr>\n",
       "      <th>2370</th>\n",
       "      <td>2011-10-11 13:48:00</td>\n",
       "      <td>1</td>\n",
       "    </tr>\n",
       "    <tr>\n",
       "      <th>2371</th>\n",
       "      <td>28-09-2011 09:57</td>\n",
       "      <td>1</td>\n",
       "    </tr>\n",
       "  </tbody>\n",
       "</table>\n",
       "<p>2372 rows × 2 columns</p>\n",
       "</div>"
      ],
      "text/plain": [
       "              InvoiceDate    n\n",
       "0     2011-11-10 14:52:00  259\n",
       "1     2011-02-08 10:34:00  219\n",
       "2     2011-06-10 14:50:00  182\n",
       "3        18-08-2011 08:49  171\n",
       "4     2011-07-01 12:28:00  149\n",
       "...                   ...  ...\n",
       "2367     18-04-2011 10:28    1\n",
       "2368  2011-09-06 09:44:00    1\n",
       "2369     16-12-2010 10:38    1\n",
       "2370  2011-10-11 13:48:00    1\n",
       "2371     28-09-2011 09:57    1\n",
       "\n",
       "[2372 rows x 2 columns]"
      ]
     },
     "execution_count": 19,
     "metadata": {},
     "output_type": "execute_result"
    }
   ],
   "source": [
    "count(df, 'InvoiceDate')"
   ]
  },
  {
   "cell_type": "code",
   "execution_count": 20,
   "metadata": {
    "ExecuteTime": {
     "end_time": "2021-02-26T15:11:17.496104Z",
     "start_time": "2021-02-26T15:11:17.356017Z"
    }
   },
   "outputs": [],
   "source": [
    "df['InvoiceDate'] = pd.to_datetime(df['InvoiceDate'])"
   ]
  },
  {
   "cell_type": "code",
   "execution_count": 21,
   "metadata": {
    "ExecuteTime": {
     "end_time": "2021-02-26T15:11:17.512723Z",
     "start_time": "2021-02-26T15:11:17.497639Z"
    }
   },
   "outputs": [
    {
     "data": {
      "text/html": [
       "<div>\n",
       "<style scoped>\n",
       "    .dataframe tbody tr th:only-of-type {\n",
       "        vertical-align: middle;\n",
       "    }\n",
       "\n",
       "    .dataframe tbody tr th {\n",
       "        vertical-align: top;\n",
       "    }\n",
       "\n",
       "    .dataframe thead th {\n",
       "        text-align: right;\n",
       "    }\n",
       "</style>\n",
       "<table border=\"1\" class=\"dataframe\">\n",
       "  <thead>\n",
       "    <tr style=\"text-align: right;\">\n",
       "      <th></th>\n",
       "      <th>InvoiceDate</th>\n",
       "      <th>n</th>\n",
       "    </tr>\n",
       "  </thead>\n",
       "  <tbody>\n",
       "    <tr>\n",
       "      <th>0</th>\n",
       "      <td>2011-11-10 14:52:00</td>\n",
       "      <td>259</td>\n",
       "    </tr>\n",
       "    <tr>\n",
       "      <th>1</th>\n",
       "      <td>2011-02-08 10:34:00</td>\n",
       "      <td>219</td>\n",
       "    </tr>\n",
       "    <tr>\n",
       "      <th>2</th>\n",
       "      <td>2011-06-10 14:50:00</td>\n",
       "      <td>182</td>\n",
       "    </tr>\n",
       "    <tr>\n",
       "      <th>3</th>\n",
       "      <td>2011-08-18 08:49:00</td>\n",
       "      <td>171</td>\n",
       "    </tr>\n",
       "    <tr>\n",
       "      <th>4</th>\n",
       "      <td>2011-07-01 12:28:00</td>\n",
       "      <td>149</td>\n",
       "    </tr>\n",
       "    <tr>\n",
       "      <th>...</th>\n",
       "      <td>...</td>\n",
       "      <td>...</td>\n",
       "    </tr>\n",
       "    <tr>\n",
       "      <th>2367</th>\n",
       "      <td>2011-10-14 11:44:00</td>\n",
       "      <td>1</td>\n",
       "    </tr>\n",
       "    <tr>\n",
       "      <th>2368</th>\n",
       "      <td>2011-05-23 14:50:00</td>\n",
       "      <td>1</td>\n",
       "    </tr>\n",
       "    <tr>\n",
       "      <th>2369</th>\n",
       "      <td>2011-08-23 09:36:00</td>\n",
       "      <td>1</td>\n",
       "    </tr>\n",
       "    <tr>\n",
       "      <th>2370</th>\n",
       "      <td>2010-05-12 12:02:00</td>\n",
       "      <td>1</td>\n",
       "    </tr>\n",
       "    <tr>\n",
       "      <th>2371</th>\n",
       "      <td>2011-02-21 14:02:00</td>\n",
       "      <td>1</td>\n",
       "    </tr>\n",
       "  </tbody>\n",
       "</table>\n",
       "<p>2372 rows × 2 columns</p>\n",
       "</div>"
      ],
      "text/plain": [
       "             InvoiceDate    n\n",
       "0    2011-11-10 14:52:00  259\n",
       "1    2011-02-08 10:34:00  219\n",
       "2    2011-06-10 14:50:00  182\n",
       "3    2011-08-18 08:49:00  171\n",
       "4    2011-07-01 12:28:00  149\n",
       "...                  ...  ...\n",
       "2367 2011-10-14 11:44:00    1\n",
       "2368 2011-05-23 14:50:00    1\n",
       "2369 2011-08-23 09:36:00    1\n",
       "2370 2010-05-12 12:02:00    1\n",
       "2371 2011-02-21 14:02:00    1\n",
       "\n",
       "[2372 rows x 2 columns]"
      ]
     },
     "execution_count": 21,
     "metadata": {},
     "output_type": "execute_result"
    }
   ],
   "source": [
    "count(df, 'InvoiceDate')"
   ]
  },
  {
   "cell_type": "markdown",
   "metadata": {
    "ExecuteTime": {
     "end_time": "2020-09-25T11:23:14.783450Z",
     "start_time": "2020-09-25T11:23:14.776479Z"
    }
   },
   "source": [
    "## CustomerID"
   ]
  },
  {
   "cell_type": "code",
   "execution_count": 22,
   "metadata": {
    "ExecuteTime": {
     "end_time": "2021-02-26T15:11:17.531182Z",
     "start_time": "2021-02-26T15:11:17.514983Z"
    }
   },
   "outputs": [
    {
     "data": {
      "text/html": [
       "<div>\n",
       "<style scoped>\n",
       "    .dataframe tbody tr th:only-of-type {\n",
       "        vertical-align: middle;\n",
       "    }\n",
       "\n",
       "    .dataframe tbody tr th {\n",
       "        vertical-align: top;\n",
       "    }\n",
       "\n",
       "    .dataframe thead th {\n",
       "        text-align: right;\n",
       "    }\n",
       "</style>\n",
       "<table border=\"1\" class=\"dataframe\">\n",
       "  <thead>\n",
       "    <tr style=\"text-align: right;\">\n",
       "      <th></th>\n",
       "      <th>CustomerID</th>\n",
       "      <th>n</th>\n",
       "    </tr>\n",
       "  </thead>\n",
       "  <tbody>\n",
       "    <tr>\n",
       "      <th>0</th>\n",
       "      <td>14911.0</td>\n",
       "      <td>5903</td>\n",
       "    </tr>\n",
       "    <tr>\n",
       "      <th>1</th>\n",
       "      <td>14646.0</td>\n",
       "      <td>2085</td>\n",
       "    </tr>\n",
       "    <tr>\n",
       "      <th>2</th>\n",
       "      <td>NaN</td>\n",
       "      <td>1480</td>\n",
       "    </tr>\n",
       "    <tr>\n",
       "      <th>3</th>\n",
       "      <td>14156.0</td>\n",
       "      <td>1420</td>\n",
       "    </tr>\n",
       "    <tr>\n",
       "      <th>4</th>\n",
       "      <td>12415.0</td>\n",
       "      <td>778</td>\n",
       "    </tr>\n",
       "    <tr>\n",
       "      <th>...</th>\n",
       "      <td>...</td>\n",
       "      <td>...</td>\n",
       "    </tr>\n",
       "    <tr>\n",
       "      <th>418</th>\n",
       "      <td>12791.0</td>\n",
       "      <td>2</td>\n",
       "    </tr>\n",
       "    <tr>\n",
       "      <th>419</th>\n",
       "      <td>12814.0</td>\n",
       "      <td>2</td>\n",
       "    </tr>\n",
       "    <tr>\n",
       "      <th>420</th>\n",
       "      <td>12505.0</td>\n",
       "      <td>1</td>\n",
       "    </tr>\n",
       "    <tr>\n",
       "      <th>421</th>\n",
       "      <td>17443.0</td>\n",
       "      <td>1</td>\n",
       "    </tr>\n",
       "    <tr>\n",
       "      <th>422</th>\n",
       "      <td>12503.0</td>\n",
       "      <td>1</td>\n",
       "    </tr>\n",
       "  </tbody>\n",
       "</table>\n",
       "<p>423 rows × 2 columns</p>\n",
       "</div>"
      ],
      "text/plain": [
       "     CustomerID     n\n",
       "0       14911.0  5903\n",
       "1       14646.0  2085\n",
       "2           NaN  1480\n",
       "3       14156.0  1420\n",
       "4       12415.0   778\n",
       "..          ...   ...\n",
       "418     12791.0     2\n",
       "419     12814.0     2\n",
       "420     12505.0     1\n",
       "421     17443.0     1\n",
       "422     12503.0     1\n",
       "\n",
       "[423 rows x 2 columns]"
      ]
     },
     "execution_count": 22,
     "metadata": {},
     "output_type": "execute_result"
    }
   ],
   "source": [
    "count(df, 'CustomerID')"
   ]
  },
  {
   "cell_type": "code",
   "execution_count": 23,
   "metadata": {
    "ExecuteTime": {
     "end_time": "2021-02-26T15:11:17.553761Z",
     "start_time": "2021-02-26T15:11:17.533461Z"
    }
   },
   "outputs": [
    {
     "data": {
      "text/html": [
       "<div>\n",
       "<style scoped>\n",
       "    .dataframe tbody tr th:only-of-type {\n",
       "        vertical-align: middle;\n",
       "    }\n",
       "\n",
       "    .dataframe tbody tr th {\n",
       "        vertical-align: top;\n",
       "    }\n",
       "\n",
       "    .dataframe thead th {\n",
       "        text-align: right;\n",
       "    }\n",
       "</style>\n",
       "<table border=\"1\" class=\"dataframe\">\n",
       "  <thead>\n",
       "    <tr style=\"text-align: right;\">\n",
       "      <th></th>\n",
       "      <th>CustomerID</th>\n",
       "      <th>n</th>\n",
       "    </tr>\n",
       "  </thead>\n",
       "  <tbody>\n",
       "    <tr>\n",
       "      <th>0</th>\n",
       "      <td>14911</td>\n",
       "      <td>5903</td>\n",
       "    </tr>\n",
       "    <tr>\n",
       "      <th>1</th>\n",
       "      <td>14646</td>\n",
       "      <td>2085</td>\n",
       "    </tr>\n",
       "    <tr>\n",
       "      <th>2</th>\n",
       "      <td>0</td>\n",
       "      <td>1480</td>\n",
       "    </tr>\n",
       "    <tr>\n",
       "      <th>3</th>\n",
       "      <td>14156</td>\n",
       "      <td>1420</td>\n",
       "    </tr>\n",
       "    <tr>\n",
       "      <th>4</th>\n",
       "      <td>12415</td>\n",
       "      <td>778</td>\n",
       "    </tr>\n",
       "    <tr>\n",
       "      <th>...</th>\n",
       "      <td>...</td>\n",
       "      <td>...</td>\n",
       "    </tr>\n",
       "    <tr>\n",
       "      <th>418</th>\n",
       "      <td>12666</td>\n",
       "      <td>2</td>\n",
       "    </tr>\n",
       "    <tr>\n",
       "      <th>419</th>\n",
       "      <td>12814</td>\n",
       "      <td>2</td>\n",
       "    </tr>\n",
       "    <tr>\n",
       "      <th>420</th>\n",
       "      <td>17443</td>\n",
       "      <td>1</td>\n",
       "    </tr>\n",
       "    <tr>\n",
       "      <th>421</th>\n",
       "      <td>12505</td>\n",
       "      <td>1</td>\n",
       "    </tr>\n",
       "    <tr>\n",
       "      <th>422</th>\n",
       "      <td>12503</td>\n",
       "      <td>1</td>\n",
       "    </tr>\n",
       "  </tbody>\n",
       "</table>\n",
       "<p>423 rows × 2 columns</p>\n",
       "</div>"
      ],
      "text/plain": [
       "     CustomerID     n\n",
       "0         14911  5903\n",
       "1         14646  2085\n",
       "2             0  1480\n",
       "3         14156  1420\n",
       "4         12415   778\n",
       "..          ...   ...\n",
       "418       12666     2\n",
       "419       12814     2\n",
       "420       17443     1\n",
       "421       12505     1\n",
       "422       12503     1\n",
       "\n",
       "[423 rows x 2 columns]"
      ]
     },
     "execution_count": 23,
     "metadata": {},
     "output_type": "execute_result"
    }
   ],
   "source": [
    "df.CustomerID = df.CustomerID.fillna(0).astype(int)\n",
    "count(df, 'CustomerID')"
   ]
  },
  {
   "cell_type": "markdown",
   "metadata": {
    "ExecuteTime": {
     "end_time": "2020-09-25T11:23:14.783450Z",
     "start_time": "2020-09-25T11:23:14.776479Z"
    }
   },
   "source": [
    "## Quantity"
   ]
  },
  {
   "cell_type": "code",
   "execution_count": 24,
   "metadata": {
    "ExecuteTime": {
     "end_time": "2021-02-26T15:11:17.574752Z",
     "start_time": "2021-02-26T15:11:17.555880Z"
    }
   },
   "outputs": [
    {
     "data": {
      "text/html": [
       "<div>\n",
       "<style scoped>\n",
       "    .dataframe tbody tr th:only-of-type {\n",
       "        vertical-align: middle;\n",
       "    }\n",
       "\n",
       "    .dataframe tbody tr th {\n",
       "        vertical-align: top;\n",
       "    }\n",
       "\n",
       "    .dataframe thead th {\n",
       "        text-align: right;\n",
       "    }\n",
       "</style>\n",
       "<table border=\"1\" class=\"dataframe\">\n",
       "  <thead>\n",
       "    <tr style=\"text-align: right;\">\n",
       "      <th></th>\n",
       "      <th>Quantity</th>\n",
       "      <th>n</th>\n",
       "    </tr>\n",
       "  </thead>\n",
       "  <tbody>\n",
       "    <tr>\n",
       "      <th>0</th>\n",
       "      <td>12</td>\n",
       "      <td>10628</td>\n",
       "    </tr>\n",
       "    <tr>\n",
       "      <th>1</th>\n",
       "      <td>6</td>\n",
       "      <td>5672</td>\n",
       "    </tr>\n",
       "    <tr>\n",
       "      <th>2</th>\n",
       "      <td>24</td>\n",
       "      <td>4162</td>\n",
       "    </tr>\n",
       "    <tr>\n",
       "      <th>3</th>\n",
       "      <td>4</td>\n",
       "      <td>3613</td>\n",
       "    </tr>\n",
       "    <tr>\n",
       "      <th>4</th>\n",
       "      <td>2</td>\n",
       "      <td>3356</td>\n",
       "    </tr>\n",
       "    <tr>\n",
       "      <th>...</th>\n",
       "      <td>...</td>\n",
       "      <td>...</td>\n",
       "    </tr>\n",
       "    <tr>\n",
       "      <th>143</th>\n",
       "      <td>-250</td>\n",
       "      <td>1</td>\n",
       "    </tr>\n",
       "    <tr>\n",
       "      <th>144</th>\n",
       "      <td>23</td>\n",
       "      <td>1</td>\n",
       "    </tr>\n",
       "    <tr>\n",
       "      <th>145</th>\n",
       "      <td>407</td>\n",
       "      <td>1</td>\n",
       "    </tr>\n",
       "    <tr>\n",
       "      <th>146</th>\n",
       "      <td>38</td>\n",
       "      <td>1</td>\n",
       "    </tr>\n",
       "    <tr>\n",
       "      <th>147</th>\n",
       "      <td>-33</td>\n",
       "      <td>1</td>\n",
       "    </tr>\n",
       "  </tbody>\n",
       "</table>\n",
       "<p>148 rows × 2 columns</p>\n",
       "</div>"
      ],
      "text/plain": [
       "     Quantity      n\n",
       "0          12  10628\n",
       "1           6   5672\n",
       "2          24   4162\n",
       "3           4   3613\n",
       "4           2   3356\n",
       "..        ...    ...\n",
       "143      -250      1\n",
       "144        23      1\n",
       "145       407      1\n",
       "146        38      1\n",
       "147       -33      1\n",
       "\n",
       "[148 rows x 2 columns]"
      ]
     },
     "execution_count": 24,
     "metadata": {},
     "output_type": "execute_result"
    }
   ],
   "source": [
    "count(df, 'Quantity')"
   ]
  },
  {
   "cell_type": "markdown",
   "metadata": {
    "ExecuteTime": {
     "end_time": "2020-09-25T11:23:14.783450Z",
     "start_time": "2020-09-25T11:23:14.776479Z"
    }
   },
   "source": [
    "### Negative Quantity"
   ]
  },
  {
   "cell_type": "code",
   "execution_count": 25,
   "metadata": {
    "ExecuteTime": {
     "end_time": "2021-02-26T15:11:17.596919Z",
     "start_time": "2021-02-26T15:11:17.576403Z"
    }
   },
   "outputs": [
    {
     "name": "stderr",
     "output_type": "stream",
     "text": [
      "1432 rows, 10 columns\n"
     ]
    },
    {
     "data": {
      "text/html": [
       "<div>\n",
       "<style scoped>\n",
       "    .dataframe tbody tr th:only-of-type {\n",
       "        vertical-align: middle;\n",
       "    }\n",
       "\n",
       "    .dataframe tbody tr th {\n",
       "        vertical-align: top;\n",
       "    }\n",
       "\n",
       "    .dataframe thead th {\n",
       "        text-align: right;\n",
       "    }\n",
       "</style>\n",
       "<table border=\"1\" class=\"dataframe\">\n",
       "  <thead>\n",
       "    <tr style=\"text-align: right;\">\n",
       "      <th></th>\n",
       "      <th>InvoiceDate</th>\n",
       "      <th>InvoiceNo</th>\n",
       "      <th>Country</th>\n",
       "      <th>CustomerID</th>\n",
       "      <th>ProductCategory</th>\n",
       "      <th>StockCode</th>\n",
       "      <th>Description</th>\n",
       "      <th>Quantity</th>\n",
       "      <th>UnitPrice</th>\n",
       "      <th>SalesValue</th>\n",
       "    </tr>\n",
       "  </thead>\n",
       "  <tbody>\n",
       "    <tr>\n",
       "      <th>147</th>\n",
       "      <td>2010-01-12 14:33:00</td>\n",
       "      <td>536548</td>\n",
       "      <td>Germany</td>\n",
       "      <td>12472</td>\n",
       "      <td>Appliances</td>\n",
       "      <td>20914</td>\n",
       "      <td>Set/5 Red Retrospot Lid Glass Bowls</td>\n",
       "      <td>-1</td>\n",
       "      <td>2.95</td>\n",
       "      <td>-2.95</td>\n",
       "    </tr>\n",
       "    <tr>\n",
       "      <th>157</th>\n",
       "      <td>2010-01-12 14:33:00</td>\n",
       "      <td>536548</td>\n",
       "      <td>Germany</td>\n",
       "      <td>12472</td>\n",
       "      <td>Appliances</td>\n",
       "      <td>20957</td>\n",
       "      <td>Porcelain Hanging Bell Small</td>\n",
       "      <td>-1</td>\n",
       "      <td>1.45</td>\n",
       "      <td>-1.45</td>\n",
       "    </tr>\n",
       "    <tr>\n",
       "      <th>156</th>\n",
       "      <td>2010-01-12 14:33:00</td>\n",
       "      <td>536548</td>\n",
       "      <td>Germany</td>\n",
       "      <td>12472</td>\n",
       "      <td>Appliances</td>\n",
       "      <td>21218</td>\n",
       "      <td>Red Spotty Biscuit Tin</td>\n",
       "      <td>-3</td>\n",
       "      <td>3.75</td>\n",
       "      <td>-11.25</td>\n",
       "    </tr>\n",
       "    <tr>\n",
       "      <th>153</th>\n",
       "      <td>2010-01-12 14:33:00</td>\n",
       "      <td>536548</td>\n",
       "      <td>Germany</td>\n",
       "      <td>12472</td>\n",
       "      <td>Appliances</td>\n",
       "      <td>22077</td>\n",
       "      <td>6 Ribbons Rustic Charm</td>\n",
       "      <td>-6</td>\n",
       "      <td>1.65</td>\n",
       "      <td>-9.90</td>\n",
       "    </tr>\n",
       "    <tr>\n",
       "      <th>155</th>\n",
       "      <td>2010-01-12 14:33:00</td>\n",
       "      <td>536548</td>\n",
       "      <td>Germany</td>\n",
       "      <td>12472</td>\n",
       "      <td>Appliances</td>\n",
       "      <td>22168</td>\n",
       "      <td>Organiser Wood Antique White</td>\n",
       "      <td>-2</td>\n",
       "      <td>8.50</td>\n",
       "      <td>-17.00</td>\n",
       "    </tr>\n",
       "    <tr>\n",
       "      <th>146</th>\n",
       "      <td>2010-01-12 14:33:00</td>\n",
       "      <td>536548</td>\n",
       "      <td>Germany</td>\n",
       "      <td>12472</td>\n",
       "      <td>Appliances</td>\n",
       "      <td>22242</td>\n",
       "      <td>5 Hook Hanger Magic Toadstool</td>\n",
       "      <td>-5</td>\n",
       "      <td>1.65</td>\n",
       "      <td>-8.25</td>\n",
       "    </tr>\n",
       "    <tr>\n",
       "      <th>145</th>\n",
       "      <td>2010-01-12 14:33:00</td>\n",
       "      <td>536548</td>\n",
       "      <td>Germany</td>\n",
       "      <td>12472</td>\n",
       "      <td>Appliances</td>\n",
       "      <td>22244</td>\n",
       "      <td>3 Hook Hanger Magic Garden</td>\n",
       "      <td>-4</td>\n",
       "      <td>1.95</td>\n",
       "      <td>-7.80</td>\n",
       "    </tr>\n",
       "    <tr>\n",
       "      <th>152</th>\n",
       "      <td>2010-01-12 14:33:00</td>\n",
       "      <td>536548</td>\n",
       "      <td>Germany</td>\n",
       "      <td>12472</td>\n",
       "      <td>Appliances</td>\n",
       "      <td>22245</td>\n",
       "      <td>Hook, 1 Hanger ,Magic Garden</td>\n",
       "      <td>-2</td>\n",
       "      <td>0.85</td>\n",
       "      <td>-1.70</td>\n",
       "    </tr>\n",
       "    <tr>\n",
       "      <th>151</th>\n",
       "      <td>2010-01-12 14:33:00</td>\n",
       "      <td>536548</td>\n",
       "      <td>Germany</td>\n",
       "      <td>12472</td>\n",
       "      <td>Appliances</td>\n",
       "      <td>22333</td>\n",
       "      <td>Retrospot Party Bag + Sticker Set</td>\n",
       "      <td>-1</td>\n",
       "      <td>1.65</td>\n",
       "      <td>-1.65</td>\n",
       "    </tr>\n",
       "    <tr>\n",
       "      <th>158</th>\n",
       "      <td>2010-01-12 14:33:00</td>\n",
       "      <td>536548</td>\n",
       "      <td>Germany</td>\n",
       "      <td>12472</td>\n",
       "      <td>Appliances</td>\n",
       "      <td>22580</td>\n",
       "      <td>Advent Calendar Gingham Sack</td>\n",
       "      <td>-4</td>\n",
       "      <td>5.95</td>\n",
       "      <td>-23.80</td>\n",
       "    </tr>\n",
       "  </tbody>\n",
       "</table>\n",
       "</div>"
      ],
      "text/plain": [
       "            InvoiceDate  InvoiceNo  Country  CustomerID ProductCategory  \\\n",
       "147 2010-01-12 14:33:00     536548  Germany       12472      Appliances   \n",
       "157 2010-01-12 14:33:00     536548  Germany       12472      Appliances   \n",
       "156 2010-01-12 14:33:00     536548  Germany       12472      Appliances   \n",
       "153 2010-01-12 14:33:00     536548  Germany       12472      Appliances   \n",
       "155 2010-01-12 14:33:00     536548  Germany       12472      Appliances   \n",
       "146 2010-01-12 14:33:00     536548  Germany       12472      Appliances   \n",
       "145 2010-01-12 14:33:00     536548  Germany       12472      Appliances   \n",
       "152 2010-01-12 14:33:00     536548  Germany       12472      Appliances   \n",
       "151 2010-01-12 14:33:00     536548  Germany       12472      Appliances   \n",
       "158 2010-01-12 14:33:00     536548  Germany       12472      Appliances   \n",
       "\n",
       "    StockCode                          Description  Quantity  UnitPrice  \\\n",
       "147     20914  Set/5 Red Retrospot Lid Glass Bowls        -1       2.95   \n",
       "157     20957         Porcelain Hanging Bell Small        -1       1.45   \n",
       "156     21218               Red Spotty Biscuit Tin        -3       3.75   \n",
       "153     22077               6 Ribbons Rustic Charm        -6       1.65   \n",
       "155     22168        Organiser Wood Antique White         -2       8.50   \n",
       "146     22242        5 Hook Hanger Magic Toadstool        -5       1.65   \n",
       "145     22244           3 Hook Hanger Magic Garden        -4       1.95   \n",
       "152     22245         Hook, 1 Hanger ,Magic Garden        -2       0.85   \n",
       "151     22333    Retrospot Party Bag + Sticker Set        -1       1.65   \n",
       "158     22580         Advent Calendar Gingham Sack        -4       5.95   \n",
       "\n",
       "     SalesValue  \n",
       "147       -2.95  \n",
       "157       -1.45  \n",
       "156      -11.25  \n",
       "153       -9.90  \n",
       "155      -17.00  \n",
       "146       -8.25  \n",
       "145       -7.80  \n",
       "152       -1.70  \n",
       "151       -1.65  \n",
       "158      -23.80  "
      ]
     },
     "execution_count": 25,
     "metadata": {},
     "output_type": "execute_result"
    }
   ],
   "source": [
    "%%piper\n",
    "df >> where(\"Quantity < 0\") >> head(10)"
   ]
  },
  {
   "cell_type": "markdown",
   "metadata": {},
   "source": [
    "## Export of cleaned dataframe"
   ]
  },
  {
   "cell_type": "code",
   "execution_count": 26,
   "metadata": {
    "ExecuteTime": {
     "end_time": "2021-02-26T15:11:24.978827Z",
     "start_time": "2021-02-26T15:11:17.598541Z"
    }
   },
   "outputs": [
    {
     "data": {
      "text/html": [
       "<a href=\"outputs/20210226_testing.xlsx\">outputs/20210226_testing.xlsx</a>"
      ],
      "text/plain": [
       "<IPython.core.display.HTML object>"
      ]
     },
     "metadata": {},
     "output_type": "display_data"
    },
    {
     "name": "stderr",
     "output_type": "stream",
     "text": [
      "Workbook: outputs/20210226_testing.xlsx\n",
      "<< mult-sheet mode >>\n",
      "Sheet (range): sheet1 ($A$1:$J$46432)\n",
      "Completed.\n"
     ]
    }
   ],
   "source": [
    "%%piper \n",
    "df >> to_excel(file_name='outputs/testing')"
   ]
  },
  {
   "cell_type": "markdown",
   "metadata": {},
   "source": [
    "# Questions"
   ]
  },
  {
   "cell_type": "markdown",
   "metadata": {},
   "source": [
    "## Duplicate CustomerIDs ? Not unique across Countries"
   ]
  },
  {
   "cell_type": "code",
   "execution_count": 27,
   "metadata": {
    "ExecuteTime": {
     "end_time": "2021-02-26T15:11:25.009622Z",
     "start_time": "2021-02-26T15:11:24.980494Z"
    }
   },
   "outputs": [
    {
     "data": {
      "text/html": [
       "<div>\n",
       "<style scoped>\n",
       "    .dataframe tbody tr th:only-of-type {\n",
       "        vertical-align: middle;\n",
       "    }\n",
       "\n",
       "    .dataframe tbody tr th {\n",
       "        vertical-align: top;\n",
       "    }\n",
       "\n",
       "    .dataframe thead th {\n",
       "        text-align: right;\n",
       "    }\n",
       "</style>\n",
       "<table border=\"1\" class=\"dataframe\">\n",
       "  <thead>\n",
       "    <tr style=\"text-align: right;\">\n",
       "      <th></th>\n",
       "      <th>CustomerID</th>\n",
       "      <th>Country</th>\n",
       "      <th>n</th>\n",
       "    </tr>\n",
       "  </thead>\n",
       "  <tbody>\n",
       "    <tr>\n",
       "      <th>0</th>\n",
       "      <td>0</td>\n",
       "      <td>Bahrain</td>\n",
       "      <td>1</td>\n",
       "    </tr>\n",
       "    <tr>\n",
       "      <th>1</th>\n",
       "      <td>0</td>\n",
       "      <td>Eire</td>\n",
       "      <td>1</td>\n",
       "    </tr>\n",
       "    <tr>\n",
       "      <th>2</th>\n",
       "      <td>0</td>\n",
       "      <td>France</td>\n",
       "      <td>1</td>\n",
       "    </tr>\n",
       "    <tr>\n",
       "      <th>3</th>\n",
       "      <td>0</td>\n",
       "      <td>Hong Kong</td>\n",
       "      <td>1</td>\n",
       "    </tr>\n",
       "    <tr>\n",
       "      <th>4</th>\n",
       "      <td>0</td>\n",
       "      <td>Israel</td>\n",
       "      <td>1</td>\n",
       "    </tr>\n",
       "    <tr>\n",
       "      <th>...</th>\n",
       "      <td>...</td>\n",
       "      <td>...</td>\n",
       "      <td>...</td>\n",
       "    </tr>\n",
       "    <tr>\n",
       "      <th>433</th>\n",
       "      <td>17444</td>\n",
       "      <td>Canada</td>\n",
       "      <td>1</td>\n",
       "    </tr>\n",
       "    <tr>\n",
       "      <th>434</th>\n",
       "      <td>17508</td>\n",
       "      <td>Greece</td>\n",
       "      <td>1</td>\n",
       "    </tr>\n",
       "    <tr>\n",
       "      <th>435</th>\n",
       "      <td>17828</td>\n",
       "      <td>Malta</td>\n",
       "      <td>1</td>\n",
       "    </tr>\n",
       "    <tr>\n",
       "      <th>436</th>\n",
       "      <td>17829</td>\n",
       "      <td>United Arab Emirates</td>\n",
       "      <td>1</td>\n",
       "    </tr>\n",
       "    <tr>\n",
       "      <th>437</th>\n",
       "      <td>17844</td>\n",
       "      <td>Canada</td>\n",
       "      <td>1</td>\n",
       "    </tr>\n",
       "  </tbody>\n",
       "</table>\n",
       "<p>438 rows × 3 columns</p>\n",
       "</div>"
      ],
      "text/plain": [
       "     CustomerID               Country  n\n",
       "0             0               Bahrain  1\n",
       "1             0                  Eire  1\n",
       "2             0                France  1\n",
       "3             0             Hong Kong  1\n",
       "4             0                Israel  1\n",
       "..          ...                   ... ..\n",
       "433       17444                Canada  1\n",
       "434       17508                Greece  1\n",
       "435       17828                 Malta  1\n",
       "436       17829  United Arab Emirates  1\n",
       "437       17844                Canada  1\n",
       "\n",
       "[438 rows x 3 columns]"
      ]
     },
     "execution_count": 27,
     "metadata": {},
     "output_type": "execute_result"
    }
   ],
   "source": [
    "%%piper\n",
    "df \n",
    ">> distinct(['Country', 'CustomerID'])\n",
    ">> group_by(['CustomerID','Country']) \n",
    ">> summarise(n=('InvoiceNo', 'count'))\n",
    ">> pd.DataFrame.reset_index()\n",
    ">> duplicated('CustomerID', )\n",
    ">> select('-duplicate')"
   ]
  },
  {
   "cell_type": "markdown",
   "metadata": {},
   "source": [
    "## How many invoices per country?"
   ]
  },
  {
   "cell_type": "code",
   "execution_count": 28,
   "metadata": {
    "ExecuteTime": {
     "end_time": "2021-02-26T15:11:25.034843Z",
     "start_time": "2021-02-26T15:11:25.011150Z"
    }
   },
   "outputs": [],
   "source": [
    "%%piper\n",
    "gx <- df \n",
    ">> distinct(['Country', 'InvoiceNo', 'ProductCategory'])\n",
    ">> group_by(['Country', 'ProductCategory']) \n",
    ">> summarise(count_of_invoices=('InvoiceNo', 'count'))\n",
    ">> order_by('count_of_invoices', ascending=False)\n",
    ">> pd.DataFrame.reset_index()"
   ]
  },
  {
   "cell_type": "code",
   "execution_count": 29,
   "metadata": {
    "ExecuteTime": {
     "end_time": "2021-02-26T15:11:25.049802Z",
     "start_time": "2021-02-26T15:11:25.036964Z"
    }
   },
   "outputs": [
    {
     "name": "stderr",
     "output_type": "stream",
     "text": [
      "115 rows, 3 columns\n"
     ]
    },
    {
     "data": {
      "text/html": [
       "<div>\n",
       "<style scoped>\n",
       "    .dataframe tbody tr th:only-of-type {\n",
       "        vertical-align: middle;\n",
       "    }\n",
       "\n",
       "    .dataframe tbody tr th {\n",
       "        vertical-align: top;\n",
       "    }\n",
       "\n",
       "    .dataframe thead th {\n",
       "        text-align: right;\n",
       "    }\n",
       "</style>\n",
       "<table border=\"1\" class=\"dataframe\">\n",
       "  <thead>\n",
       "    <tr style=\"text-align: right;\">\n",
       "      <th></th>\n",
       "      <th>Country</th>\n",
       "      <th>ProductCategory</th>\n",
       "      <th>count_of_invoices</th>\n",
       "    </tr>\n",
       "  </thead>\n",
       "  <tbody>\n",
       "    <tr>\n",
       "      <th>0</th>\n",
       "      <td>Germany</td>\n",
       "      <td>Appliances</td>\n",
       "      <td>162</td>\n",
       "    </tr>\n",
       "    <tr>\n",
       "      <th>1</th>\n",
       "      <td>Germany</td>\n",
       "      <td>Apparels</td>\n",
       "      <td>159</td>\n",
       "    </tr>\n",
       "    <tr>\n",
       "      <th>2</th>\n",
       "      <td>Germany</td>\n",
       "      <td>Households</td>\n",
       "      <td>152</td>\n",
       "    </tr>\n",
       "    <tr>\n",
       "      <th>3</th>\n",
       "      <td>Germany</td>\n",
       "      <td>Cosmetics</td>\n",
       "      <td>130</td>\n",
       "    </tr>\n",
       "    <tr>\n",
       "      <th>4</th>\n",
       "      <td>France</td>\n",
       "      <td>Appliances</td>\n",
       "      <td>125</td>\n",
       "    </tr>\n",
       "    <tr>\n",
       "      <th>5</th>\n",
       "      <td>France</td>\n",
       "      <td>Apparels</td>\n",
       "      <td>124</td>\n",
       "    </tr>\n",
       "    <tr>\n",
       "      <th>6</th>\n",
       "      <td>France</td>\n",
       "      <td>Households</td>\n",
       "      <td>114</td>\n",
       "    </tr>\n",
       "    <tr>\n",
       "      <th>7</th>\n",
       "      <td>France</td>\n",
       "      <td>Cosmetics</td>\n",
       "      <td>98</td>\n",
       "    </tr>\n",
       "    <tr>\n",
       "      <th>8</th>\n",
       "      <td>Eire</td>\n",
       "      <td>Cosmetics</td>\n",
       "      <td>96</td>\n",
       "    </tr>\n",
       "    <tr>\n",
       "      <th>9</th>\n",
       "      <td>Eire</td>\n",
       "      <td>Households</td>\n",
       "      <td>95</td>\n",
       "    </tr>\n",
       "  </tbody>\n",
       "</table>\n",
       "</div>"
      ],
      "text/plain": [
       "   Country ProductCategory  count_of_invoices\n",
       "0  Germany      Appliances                162\n",
       "1  Germany        Apparels                159\n",
       "2  Germany      Households                152\n",
       "3  Germany       Cosmetics                130\n",
       "4   France      Appliances                125\n",
       "5   France        Apparels                124\n",
       "6   France      Households                114\n",
       "7   France       Cosmetics                 98\n",
       "8     Eire       Cosmetics                 96\n",
       "9     Eire      Households                 95"
      ]
     },
     "execution_count": 29,
     "metadata": {},
     "output_type": "execute_result"
    }
   ],
   "source": [
    "head(gx,10)"
   ]
  },
  {
   "cell_type": "code",
   "execution_count": 30,
   "metadata": {
    "ExecuteTime": {
     "end_time": "2021-02-26T15:11:25.062207Z",
     "start_time": "2021-02-26T15:11:25.051264Z"
    }
   },
   "outputs": [
    {
     "name": "stderr",
     "output_type": "stream",
     "text": [
      "7 rows, 3 columns\n"
     ]
    },
    {
     "data": {
      "text/html": [
       "<div>\n",
       "<style scoped>\n",
       "    .dataframe tbody tr th:only-of-type {\n",
       "        vertical-align: middle;\n",
       "    }\n",
       "\n",
       "    .dataframe tbody tr th {\n",
       "        vertical-align: top;\n",
       "    }\n",
       "\n",
       "    .dataframe thead th {\n",
       "        text-align: right;\n",
       "    }\n",
       "</style>\n",
       "<table border=\"1\" class=\"dataframe\">\n",
       "  <thead>\n",
       "    <tr style=\"text-align: right;\">\n",
       "      <th></th>\n",
       "      <th>Country</th>\n",
       "      <th>ProductCategory</th>\n",
       "      <th>count_of_invoices</th>\n",
       "    </tr>\n",
       "  </thead>\n",
       "  <tbody>\n",
       "    <tr>\n",
       "      <th>0</th>\n",
       "      <td>Germany</td>\n",
       "      <td>Appliances</td>\n",
       "      <td>162</td>\n",
       "    </tr>\n",
       "    <tr>\n",
       "      <th>1</th>\n",
       "      <td>Germany</td>\n",
       "      <td>Apparels</td>\n",
       "      <td>159</td>\n",
       "    </tr>\n",
       "    <tr>\n",
       "      <th>2</th>\n",
       "      <td>Germany</td>\n",
       "      <td>Households</td>\n",
       "      <td>152</td>\n",
       "    </tr>\n",
       "    <tr>\n",
       "      <th>3</th>\n",
       "      <td>Germany</td>\n",
       "      <td>Cosmetics</td>\n",
       "      <td>130</td>\n",
       "    </tr>\n",
       "  </tbody>\n",
       "</table>\n",
       "</div>"
      ],
      "text/plain": [
       "   Country ProductCategory  count_of_invoices\n",
       "0  Germany      Appliances                162\n",
       "1  Germany        Apparels                159\n",
       "2  Germany      Households                152\n",
       "3  Germany       Cosmetics                130"
      ]
     },
     "execution_count": 30,
     "metadata": {},
     "output_type": "execute_result"
    }
   ],
   "source": [
    "%piper gx >> where(\"count_of_invoices > 100\") >> head()"
   ]
  },
  {
   "cell_type": "code",
   "execution_count": 31,
   "metadata": {
    "ExecuteTime": {
     "end_time": "2021-02-26T15:11:26.204539Z",
     "start_time": "2021-02-26T15:11:25.064331Z"
    }
   },
   "outputs": [
    {
     "data": {
      "text/plain": [
       "<matplotlib.axes._subplots.AxesSubplot at 0x7faa95ac3dc0>"
      ]
     },
     "execution_count": 31,
     "metadata": {},
     "output_type": "execute_result"
    },
    {
     "data": {
      "image/png": "[encoded data removed]",
      "text/plain": [
       "<Figure size 1080x576 with 1 Axes>"
      ]
     },
     "metadata": {},
     "output_type": "display_data"
    }
   ],
   "source": [
    "fig, ax = plt.subplots(figsize=(15, 8))\n",
    "sns.barplot(data=gx, y='Country', x='count_of_invoices', hue='ProductCategory')"
   ]
  },
  {
   "cell_type": "markdown",
   "metadata": {},
   "source": [
    "## Quantity vs UnitPrice"
   ]
  },
  {
   "cell_type": "code",
   "execution_count": 32,
   "metadata": {
    "ExecuteTime": {
     "end_time": "2021-02-26T15:11:28.536368Z",
     "start_time": "2021-02-26T15:11:26.206292Z"
    }
   },
   "outputs": [
    {
     "data": {
      "text/plain": [
       "<matplotlib.axes._subplots.AxesSubplot at 0x7faa953cd760>"
      ]
     },
     "execution_count": 32,
     "metadata": {},
     "output_type": "execute_result"
    },
    {
     "data": {
      "image/png": "[encoded data removed]",
      "text/plain": [
       "<Figure size 1296x576 with 1 Axes>"
      ]
     },
     "metadata": {},
     "output_type": "display_data"
    }
   ],
   "source": [
    "fig, ax = plt.subplots(figsize=(18, 8))\n",
    "sns.scatterplot(data=df, x='Quantity', y='UnitPrice', hue='ProductCategory')"
   ]
  },
  {
   "cell_type": "markdown",
   "metadata": {},
   "source": [
    "## Sales by Invoice Date"
   ]
  },
  {
   "cell_type": "code",
   "execution_count": 33,
   "metadata": {
    "ExecuteTime": {
     "end_time": "2021-02-26T15:11:28.946504Z",
     "start_time": "2021-02-26T15:11:28.538162Z"
    }
   },
   "outputs": [
    {
     "data": {
      "text/plain": [
       "<matplotlib.axes._subplots.AxesSubplot at 0x7faa953848e0>"
      ]
     },
     "execution_count": 33,
     "metadata": {},
     "output_type": "execute_result"
    },
    {
     "data": {
      "image/png": "[encoded data removed]",
      "text/plain": [
       "<Figure size 1296x504 with 1 Axes>"
      ]
     },
     "metadata": {},
     "output_type": "display_data"
    }
   ],
   "source": [
    "%%piper \n",
    "df \n",
    ">> group_by(['InvoiceDate'])\n",
    ">> summarise(TotalSales=('SalesValue', 'sum'))\n",
    ">> where(\"InvoiceDate > '2011-04-01'\").plot(figsize=(18,7))"
   ]
  },
  {
   "cell_type": "markdown",
   "metadata": {},
   "source": [
    "## Sales by Country, ProductCategory, Invoice Date"
   ]
  },
  {
   "cell_type": "code",
   "execution_count": 34,
   "metadata": {
    "ExecuteTime": {
     "end_time": "2021-02-26T15:11:28.976152Z",
     "start_time": "2021-02-26T15:11:28.948207Z"
    }
   },
   "outputs": [],
   "source": [
    "%%piper \n",
    "\n",
    "gx <- df \n",
    ">> group_by(['Country', 'ProductCategory', 'InvoiceDate']) \n",
    ">> summarise(TotalSales=('SalesValue', 'sum'))\n",
    ">> where(\"InvoiceDate >= '2011-11' \n",
    "         and TotalSales.between(0, 100)\")\n",
    ">> pd.DataFrame.reset_index()\n",
    ">> assign(TotalSales=lambda x: x.TotalSales.round(2))"
   ]
  },
  {
   "cell_type": "code",
   "execution_count": 35,
   "metadata": {
    "ExecuteTime": {
     "end_time": "2021-02-26T15:11:28.988584Z",
     "start_time": "2021-02-26T15:11:28.977469Z"
    }
   },
   "outputs": [
    {
     "name": "stderr",
     "output_type": "stream",
     "text": [
      "22 rows, 4 columns\n"
     ]
    },
    {
     "data": {
      "text/html": [
       "<div>\n",
       "<style scoped>\n",
       "    .dataframe tbody tr th:only-of-type {\n",
       "        vertical-align: middle;\n",
       "    }\n",
       "\n",
       "    .dataframe tbody tr th {\n",
       "        vertical-align: top;\n",
       "    }\n",
       "\n",
       "    .dataframe thead th {\n",
       "        text-align: right;\n",
       "    }\n",
       "</style>\n",
       "<table border=\"1\" class=\"dataframe\">\n",
       "  <thead>\n",
       "    <tr style=\"text-align: right;\">\n",
       "      <th></th>\n",
       "      <th>Country</th>\n",
       "      <th>ProductCategory</th>\n",
       "      <th>InvoiceDate</th>\n",
       "      <th>TotalSales</th>\n",
       "    </tr>\n",
       "  </thead>\n",
       "  <tbody>\n",
       "    <tr>\n",
       "      <th>0</th>\n",
       "      <td>Eire</td>\n",
       "      <td>Apparels</td>\n",
       "      <td>2011-11-13 13:05:00</td>\n",
       "      <td>31.60</td>\n",
       "    </tr>\n",
       "    <tr>\n",
       "      <th>1</th>\n",
       "      <td>Eire</td>\n",
       "      <td>Apparels</td>\n",
       "      <td>2011-11-21 09:21:00</td>\n",
       "      <td>95.40</td>\n",
       "    </tr>\n",
       "    <tr>\n",
       "      <th>2</th>\n",
       "      <td>Eire</td>\n",
       "      <td>Apparels</td>\n",
       "      <td>2011-12-10 10:04:00</td>\n",
       "      <td>25.50</td>\n",
       "    </tr>\n",
       "    <tr>\n",
       "      <th>3</th>\n",
       "      <td>Finland</td>\n",
       "      <td>Apparels</td>\n",
       "      <td>2011-11-17 14:51:00</td>\n",
       "      <td>69.61</td>\n",
       "    </tr>\n",
       "    <tr>\n",
       "      <th>4</th>\n",
       "      <td>France</td>\n",
       "      <td>Apparels</td>\n",
       "      <td>2011-11-16 11:52:00</td>\n",
       "      <td>77.76</td>\n",
       "    </tr>\n",
       "    <tr>\n",
       "      <th>5</th>\n",
       "      <td>France</td>\n",
       "      <td>Apparels</td>\n",
       "      <td>2011-11-23 14:01:00</td>\n",
       "      <td>19.26</td>\n",
       "    </tr>\n",
       "  </tbody>\n",
       "</table>\n",
       "</div>"
      ],
      "text/plain": [
       "   Country ProductCategory         InvoiceDate  TotalSales\n",
       "0     Eire        Apparels 2011-11-13 13:05:00       31.60\n",
       "1     Eire        Apparels 2011-11-21 09:21:00       95.40\n",
       "2     Eire        Apparels 2011-12-10 10:04:00       25.50\n",
       "3  Finland        Apparels 2011-11-17 14:51:00       69.61\n",
       "4   France        Apparels 2011-11-16 11:52:00       77.76\n",
       "5   France        Apparels 2011-11-23 14:01:00       19.26"
      ]
     },
     "execution_count": 35,
     "metadata": {},
     "output_type": "execute_result"
    }
   ],
   "source": [
    "head(gx, 6)"
   ]
  },
  {
   "cell_type": "code",
   "execution_count": 36,
   "metadata": {
    "ExecuteTime": {
     "end_time": "2021-02-26T15:11:29.032158Z",
     "start_time": "2021-02-26T15:11:28.991104Z"
    }
   },
   "outputs": [],
   "source": [
    "%%piper \n",
    "\n",
    "gx <- df \n",
    ">> group_by(['Country', 'ProductCategory', 'InvoiceDate']) \n",
    ">> summarise(TotalSales=('SalesValue', 'mean'))\n",
    ">> where(\"InvoiceDate >= '2011-11' \n",
    "#          and TotalSales.between(0, 100)\n",
    "         \")\n",
    ">> pd.DataFrame.reset_index()\n",
    ">> assign(TotalSales=lambda x: x.TotalSales.round(2))"
   ]
  },
  {
   "cell_type": "code",
   "execution_count": 37,
   "metadata": {
    "ExecuteTime": {
     "end_time": "2021-02-26T15:11:29.044668Z",
     "start_time": "2021-02-26T15:11:29.034241Z"
    }
   },
   "outputs": [
    {
     "name": "stderr",
     "output_type": "stream",
     "text": [
      "381 rows, 4 columns\n"
     ]
    },
    {
     "data": {
      "text/html": [
       "<div>\n",
       "<style scoped>\n",
       "    .dataframe tbody tr th:only-of-type {\n",
       "        vertical-align: middle;\n",
       "    }\n",
       "\n",
       "    .dataframe tbody tr th {\n",
       "        vertical-align: top;\n",
       "    }\n",
       "\n",
       "    .dataframe thead th {\n",
       "        text-align: right;\n",
       "    }\n",
       "</style>\n",
       "<table border=\"1\" class=\"dataframe\">\n",
       "  <thead>\n",
       "    <tr style=\"text-align: right;\">\n",
       "      <th></th>\n",
       "      <th>Country</th>\n",
       "      <th>ProductCategory</th>\n",
       "      <th>InvoiceDate</th>\n",
       "      <th>TotalSales</th>\n",
       "    </tr>\n",
       "  </thead>\n",
       "  <tbody>\n",
       "    <tr>\n",
       "      <th>0</th>\n",
       "      <td>Australia</td>\n",
       "      <td>Apparels</td>\n",
       "      <td>2011-11-15 10:32:00</td>\n",
       "      <td>189.45</td>\n",
       "    </tr>\n",
       "    <tr>\n",
       "      <th>1</th>\n",
       "      <td>Australia</td>\n",
       "      <td>Apparels</td>\n",
       "      <td>2011-11-15 14:22:00</td>\n",
       "      <td>429.60</td>\n",
       "    </tr>\n",
       "    <tr>\n",
       "      <th>2</th>\n",
       "      <td>Australia</td>\n",
       "      <td>Apparels</td>\n",
       "      <td>2011-11-24 12:30:00</td>\n",
       "      <td>35.80</td>\n",
       "    </tr>\n",
       "    <tr>\n",
       "      <th>3</th>\n",
       "      <td>Australia</td>\n",
       "      <td>Appliances</td>\n",
       "      <td>2011-11-01 09:47:00</td>\n",
       "      <td>24.34</td>\n",
       "    </tr>\n",
       "    <tr>\n",
       "      <th>4</th>\n",
       "      <td>Australia</td>\n",
       "      <td>Cosmetics</td>\n",
       "      <td>2011-12-08 14:19:00</td>\n",
       "      <td>60.88</td>\n",
       "    </tr>\n",
       "    <tr>\n",
       "      <th>5</th>\n",
       "      <td>Australia</td>\n",
       "      <td>Households</td>\n",
       "      <td>2011-12-05 12:34:00</td>\n",
       "      <td>20.66</td>\n",
       "    </tr>\n",
       "  </tbody>\n",
       "</table>\n",
       "</div>"
      ],
      "text/plain": [
       "     Country ProductCategory         InvoiceDate  TotalSales\n",
       "0  Australia        Apparels 2011-11-15 10:32:00      189.45\n",
       "1  Australia        Apparels 2011-11-15 14:22:00      429.60\n",
       "2  Australia        Apparels 2011-11-24 12:30:00       35.80\n",
       "3  Australia      Appliances 2011-11-01 09:47:00       24.34\n",
       "4  Australia       Cosmetics 2011-12-08 14:19:00       60.88\n",
       "5  Australia      Households 2011-12-05 12:34:00       20.66"
      ]
     },
     "execution_count": 37,
     "metadata": {},
     "output_type": "execute_result"
    }
   ],
   "source": [
    "head(gx, 6)"
   ]
  },
  {
   "cell_type": "code",
   "execution_count": 38,
   "metadata": {
    "ExecuteTime": {
     "end_time": "2021-02-26T15:11:30.458583Z",
     "start_time": "2021-02-26T15:11:29.046784Z"
    }
   },
   "outputs": [
    {
     "data": {
      "text/plain": [
       "<matplotlib.axes._subplots.AxesSubplot at 0x7faa95271f70>"
      ]
     },
     "execution_count": 38,
     "metadata": {},
     "output_type": "execute_result"
    },
    {
     "data": {
      "image/png": "[encoded data removed]",
      "text/plain": [
       "<Figure size 1080x864 with 1 Axes>"
      ]
     },
     "metadata": {},
     "output_type": "display_data"
    }
   ],
   "source": [
    "fig, ax = plt.subplots(figsize=(15,12))\n",
    "sns.boxplot(data=gx, y='Country', x='TotalSales', hue='ProductCategory')"
   ]
  },
  {
   "cell_type": "code",
   "execution_count": null,
   "metadata": {},
   "outputs": [],
   "source": []
  },
  {
   "cell_type": "code",
   "execution_count": null,
   "metadata": {},
   "outputs": [],
   "source": []
  },
  {
   "cell_type": "code",
   "execution_count": null,
   "metadata": {},
   "outputs": [],
   "source": []
  }
 ],
 "metadata": {
  "kernelspec": {
   "display_name": "Python 3",
   "language": "python",
   "name": "python3"
  },
  "language_info": {
   "codemirror_mode": {
    "name": "ipython",
    "version": 3
   },
   "file_extension": ".py",
   "mimetype": "text/x-python",
   "name": "python",
   "nbconvert_exporter": "python",
   "pygments_lexer": "ipython3",
   "version": "3.8.5"
  },
  "toc": {
   "base_numbering": 1,
   "nav_menu": {},
   "number_sections": true,
   "sideBar": true,
   "skip_h1_title": false,
   "title_cell": "Table of Contents",
   "title_sidebar": "Contents",
   "toc_cell": false,
   "toc_position": {
    "height": "calc(100% - 180px)",
    "left": "10px",
    "top": "150px",
    "width": "336px"
   },
   "toc_section_display": true,
   "toc_window_display": true
  }
 },
 "nbformat": 4,
 "nbformat_minor": 4
}
