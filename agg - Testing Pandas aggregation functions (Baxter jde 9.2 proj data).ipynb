{
 "cells": [
  {
   "cell_type": "markdown",
   "metadata": {},
   "source": [
    "# Setup"
   ]
  },
  {
   "cell_type": "code",
   "execution_count": 1,
   "metadata": {
    "ExecuteTime": {
     "end_time": "2021-03-11T16:25:42.614540Z",
     "start_time": "2021-03-11T16:25:41.756356Z"
    }
   },
   "outputs": [
    {
     "name": "stderr",
     "output_type": "stream",
     "text": [
      "piper v0.1.0: Monday, 29 March 2021 19:05:11\n"
     ]
    }
   ],
   "source": [
    "from piper.defaults import *"
   ]
  },
  {
   "cell_type": "markdown",
   "metadata": {},
   "source": [
    "# Test data "
   ]
  },
  {
   "cell_type": "code",
   "execution_count": 2,
   "metadata": {
    "ExecuteTime": {
     "end_time": "2021-03-11T16:25:44.944992Z",
     "start_time": "2021-03-11T16:25:42.618443Z"
    }
   },
   "outputs": [],
   "source": [
    "%%piper\n",
    "r812 <- pd.read_excel('inputs/R812.xlsx', sheet_name='query')\n",
    ">> clean_columns() \n",
    "# >> count('sprint')\n",
    ">> where(\"sprint == 'R812'\")\n",
    "# >> head()"
   ]
  },
  {
   "cell_type": "markdown",
   "metadata": {},
   "source": [
    "# Setup"
   ]
  },
  {
   "cell_type": "markdown",
   "metadata": {},
   "source": [
    "## Pivot table vs groupby"
   ]
  },
  {
   "cell_type": "markdown",
   "metadata": {},
   "source": [
    "Pivot table vs groupby with multi-key and unstack and crosstab are functionally the same.<br>\n",
    "Pivot allows automatic totals in both axes ... groupby does not."
   ]
  },
  {
   "cell_type": "markdown",
   "metadata": {},
   "source": [
    "### pivot_table"
   ]
  },
  {
   "cell_type": "code",
   "execution_count": 3,
   "metadata": {
    "ExecuteTime": {
     "end_time": "2021-03-11T16:25:44.978303Z",
     "start_time": "2021-03-11T16:25:44.947014Z"
    }
   },
   "outputs": [
    {
     "data": {
      "text/html": [
       "<div>\n",
       "<style scoped>\n",
       "    .dataframe tbody tr th:only-of-type {\n",
       "        vertical-align: middle;\n",
       "    }\n",
       "\n",
       "    .dataframe tbody tr th {\n",
       "        vertical-align: top;\n",
       "    }\n",
       "\n",
       "    .dataframe thead th {\n",
       "        text-align: right;\n",
       "    }\n",
       "</style>\n",
       "<table border=\"1\" class=\"dataframe\">\n",
       "  <thead>\n",
       "    <tr style=\"text-align: right;\">\n",
       "      <th></th>\n",
       "      <th>n</th>\n",
       "      <th>%</th>\n",
       "      <th>cum %</th>\n",
       "    </tr>\n",
       "    <tr>\n",
       "      <th>functional_area</th>\n",
       "      <th></th>\n",
       "      <th></th>\n",
       "      <th></th>\n",
       "    </tr>\n",
       "  </thead>\n",
       "  <tbody>\n",
       "    <tr>\n",
       "      <th>Logistics</th>\n",
       "      <td>50</td>\n",
       "      <td>56.82</td>\n",
       "      <td>56.82</td>\n",
       "    </tr>\n",
       "    <tr>\n",
       "      <th>ARO</th>\n",
       "      <td>14</td>\n",
       "      <td>15.91</td>\n",
       "      <td>72.73</td>\n",
       "    </tr>\n",
       "    <tr>\n",
       "      <th>Order Management</th>\n",
       "      <td>10</td>\n",
       "      <td>11.36</td>\n",
       "      <td>84.09</td>\n",
       "    </tr>\n",
       "    <tr>\n",
       "      <th>eCommerce</th>\n",
       "      <td>8</td>\n",
       "      <td>9.09</td>\n",
       "      <td>93.18</td>\n",
       "    </tr>\n",
       "    <tr>\n",
       "      <th>Finance</th>\n",
       "      <td>6</td>\n",
       "      <td>6.82</td>\n",
       "      <td>100.00</td>\n",
       "    </tr>\n",
       "  </tbody>\n",
       "</table>\n",
       "</div>"
      ],
      "text/plain": [
       "                   n      %   cum %\n",
       "functional_area                    \n",
       "Logistics         50  56.82   56.82\n",
       "ARO               14  15.91   72.73\n",
       "Order Management  10  11.36   84.09\n",
       "eCommerce          8   9.09   93.18\n",
       "Finance            6   6.82  100.00"
      ]
     },
     "execution_count": 3,
     "metadata": {},
     "output_type": "execute_result"
    }
   ],
   "source": [
    "count(r812, 'functional_area')"
   ]
  },
  {
   "cell_type": "code",
   "execution_count": 4,
   "metadata": {
    "ExecuteTime": {
     "end_time": "2021-03-11T16:25:45.047514Z",
     "start_time": "2021-03-11T16:25:44.980887Z"
    }
   },
   "outputs": [
    {
     "name": "stderr",
     "output_type": "stream",
     "text": [
      "Use %piper/%%piper --info to see rendered pandas pipe statement\n"
     ]
    },
    {
     "name": "stderr",
     "output_type": "stream",
     "text": [
      "name 'pivot_table' is not defined\n"
     ]
    }
   ],
   "source": [
    "%%piper\n",
    "\n",
    "r812.fillna(0)\n",
    ">> pivot_table(index='functional_area',\n",
    "                  columns='status', values='object',\n",
    "                  fill_value=0,\n",
    "                  dropna=False, aggfunc=np.size)\n",
    ">> adorn()"
   ]
  },
  {
   "cell_type": "markdown",
   "metadata": {},
   "source": [
    "### Groupby / unstack "
   ]
  },
  {
   "cell_type": "code",
   "execution_count": 5,
   "metadata": {
    "ExecuteTime": {
     "end_time": "2021-03-11T16:25:45.095276Z",
     "start_time": "2021-03-11T16:25:45.049866Z"
    }
   },
   "outputs": [
    {
     "data": {
      "text/html": [
       "<div>\n",
       "<style scoped>\n",
       "    .dataframe tbody tr th:only-of-type {\n",
       "        vertical-align: middle;\n",
       "    }\n",
       "\n",
       "    .dataframe tbody tr th {\n",
       "        vertical-align: top;\n",
       "    }\n",
       "\n",
       "    .dataframe thead th {\n",
       "        text-align: right;\n",
       "    }\n",
       "</style>\n",
       "<table border=\"1\" class=\"dataframe\">\n",
       "  <thead>\n",
       "    <tr style=\"text-align: right;\">\n",
       "      <th>status</th>\n",
       "      <th></th>\n",
       "      <th>Baxter Code Review Complete</th>\n",
       "      <th>Development Complete</th>\n",
       "      <th>L3 In Progress</th>\n",
       "      <th>L3 Pass</th>\n",
       "    </tr>\n",
       "    <tr>\n",
       "      <th>functional_area</th>\n",
       "      <th></th>\n",
       "      <th></th>\n",
       "      <th></th>\n",
       "      <th></th>\n",
       "      <th></th>\n",
       "    </tr>\n",
       "  </thead>\n",
       "  <tbody>\n",
       "    <tr>\n",
       "      <th>ARO</th>\n",
       "      <td>0</td>\n",
       "      <td>2</td>\n",
       "      <td>0</td>\n",
       "      <td>8</td>\n",
       "      <td>4</td>\n",
       "    </tr>\n",
       "    <tr>\n",
       "      <th>Finance</th>\n",
       "      <td>0</td>\n",
       "      <td>5</td>\n",
       "      <td>1</td>\n",
       "      <td>0</td>\n",
       "      <td>0</td>\n",
       "    </tr>\n",
       "    <tr>\n",
       "      <th>Logistics</th>\n",
       "      <td>1</td>\n",
       "      <td>4</td>\n",
       "      <td>45</td>\n",
       "      <td>0</td>\n",
       "      <td>0</td>\n",
       "    </tr>\n",
       "    <tr>\n",
       "      <th>Order Management</th>\n",
       "      <td>0</td>\n",
       "      <td>0</td>\n",
       "      <td>10</td>\n",
       "      <td>0</td>\n",
       "      <td>0</td>\n",
       "    </tr>\n",
       "    <tr>\n",
       "      <th>eCommerce</th>\n",
       "      <td>0</td>\n",
       "      <td>0</td>\n",
       "      <td>8</td>\n",
       "      <td>0</td>\n",
       "      <td>0</td>\n",
       "    </tr>\n",
       "  </tbody>\n",
       "</table>\n",
       "</div>"
      ],
      "text/plain": [
       "status               Baxter Code Review Complete  Development Complete  \\\n",
       "functional_area                                                          \n",
       "ARO               0                            2                     0   \n",
       "Finance           0                            5                     1   \n",
       "Logistics         1                            4                    45   \n",
       "Order Management  0                            0                    10   \n",
       "eCommerce         0                            0                     8   \n",
       "\n",
       "status            L3 In Progress  L3 Pass  \n",
       "functional_area                            \n",
       "ARO                            8        4  \n",
       "Finance                        0        0  \n",
       "Logistics                      0        0  \n",
       "Order Management               0        0  \n",
       "eCommerce                      0        0  "
      ]
     },
     "execution_count": 5,
     "metadata": {},
     "output_type": "execute_result"
    }
   ],
   "source": [
    "(r812.fillna('').groupby(['functional_area', 'status'])['status'].count()\n",
    " .unstack(level=1)\n",
    " .fillna(0)\n",
    " .astype(int))"
   ]
  },
  {
   "cell_type": "markdown",
   "metadata": {},
   "source": [
    "### Crosstab"
   ]
  },
  {
   "cell_type": "code",
   "execution_count": 6,
   "metadata": {
    "ExecuteTime": {
     "end_time": "2021-03-11T16:25:45.160801Z",
     "start_time": "2021-03-11T16:25:45.098425Z"
    }
   },
   "outputs": [
    {
     "data": {
      "text/html": [
       "<div>\n",
       "<style scoped>\n",
       "    .dataframe tbody tr th:only-of-type {\n",
       "        vertical-align: middle;\n",
       "    }\n",
       "\n",
       "    .dataframe tbody tr th {\n",
       "        vertical-align: top;\n",
       "    }\n",
       "\n",
       "    .dataframe thead th {\n",
       "        text-align: right;\n",
       "    }\n",
       "</style>\n",
       "<table border=\"1\" class=\"dataframe\">\n",
       "  <thead>\n",
       "    <tr style=\"text-align: right;\">\n",
       "      <th></th>\n",
       "      <th></th>\n",
       "      <th>Baxter Code Review Complete</th>\n",
       "      <th>Development Complete</th>\n",
       "      <th>L3 In Progress</th>\n",
       "      <th>L3 Pass</th>\n",
       "      <th>All</th>\n",
       "    </tr>\n",
       "  </thead>\n",
       "  <tbody>\n",
       "    <tr>\n",
       "      <th>ARO</th>\n",
       "      <td>0</td>\n",
       "      <td>2</td>\n",
       "      <td>0</td>\n",
       "      <td>8</td>\n",
       "      <td>4</td>\n",
       "      <td>14</td>\n",
       "    </tr>\n",
       "    <tr>\n",
       "      <th>Finance</th>\n",
       "      <td>0</td>\n",
       "      <td>5</td>\n",
       "      <td>1</td>\n",
       "      <td>0</td>\n",
       "      <td>0</td>\n",
       "      <td>6</td>\n",
       "    </tr>\n",
       "    <tr>\n",
       "      <th>Logistics</th>\n",
       "      <td>1</td>\n",
       "      <td>4</td>\n",
       "      <td>45</td>\n",
       "      <td>0</td>\n",
       "      <td>0</td>\n",
       "      <td>50</td>\n",
       "    </tr>\n",
       "    <tr>\n",
       "      <th>Order Management</th>\n",
       "      <td>0</td>\n",
       "      <td>0</td>\n",
       "      <td>10</td>\n",
       "      <td>0</td>\n",
       "      <td>0</td>\n",
       "      <td>10</td>\n",
       "    </tr>\n",
       "    <tr>\n",
       "      <th>eCommerce</th>\n",
       "      <td>0</td>\n",
       "      <td>0</td>\n",
       "      <td>8</td>\n",
       "      <td>0</td>\n",
       "      <td>0</td>\n",
       "      <td>8</td>\n",
       "    </tr>\n",
       "    <tr>\n",
       "      <th>All</th>\n",
       "      <td>1</td>\n",
       "      <td>11</td>\n",
       "      <td>64</td>\n",
       "      <td>8</td>\n",
       "      <td>4</td>\n",
       "      <td>88</td>\n",
       "    </tr>\n",
       "  </tbody>\n",
       "</table>\n",
       "</div>"
      ],
      "text/plain": [
       "                     Baxter Code Review Complete  Development Complete  \\\n",
       "ARO               0                            2                     0   \n",
       "Finance           0                            5                     1   \n",
       "Logistics         1                            4                    45   \n",
       "Order Management  0                            0                    10   \n",
       "eCommerce         0                            0                     8   \n",
       "All               1                           11                    64   \n",
       "\n",
       "                  L3 In Progress  L3 Pass  All  \n",
       "ARO                            8        4   14  \n",
       "Finance                        0        0    6  \n",
       "Logistics                      0        0   50  \n",
       "Order Management               0        0   10  \n",
       "eCommerce                      0        0    8  \n",
       "All                            8        4   88  "
      ]
     },
     "execution_count": 6,
     "metadata": {},
     "output_type": "execute_result"
    }
   ],
   "source": [
    "%%piper\n",
    "pd.crosstab(r812.functional_area.fillna(''), r812.status.fillna(''))\n",
    ">> adorn(axis='both')"
   ]
  },
  {
   "cell_type": "code",
   "execution_count": 7,
   "metadata": {
    "ExecuteTime": {
     "end_time": "2021-03-11T16:25:45.244430Z",
     "start_time": "2021-03-11T16:25:45.164043Z"
    }
   },
   "outputs": [
    {
     "data": {
      "text/html": [
       "<div>\n",
       "<style scoped>\n",
       "    .dataframe tbody tr th:only-of-type {\n",
       "        vertical-align: middle;\n",
       "    }\n",
       "\n",
       "    .dataframe tbody tr th {\n",
       "        vertical-align: top;\n",
       "    }\n",
       "\n",
       "    .dataframe thead th {\n",
       "        text-align: right;\n",
       "    }\n",
       "</style>\n",
       "<table border=\"1\" class=\"dataframe\">\n",
       "  <thead>\n",
       "    <tr style=\"text-align: right;\">\n",
       "      <th></th>\n",
       "      <th>object</th>\n",
       "      <th>gxp_critical_flag</th>\n",
       "      <th>object_type</th>\n",
       "      <th>fs_doc_nbr</th>\n",
       "      <th>ts_doc_nbr</th>\n",
       "      <th>sprint</th>\n",
       "      <th>testing_sprint</th>\n",
       "      <th>phase</th>\n",
       "      <th>description</th>\n",
       "      <th>status</th>\n",
       "      <th>l3_defect_number</th>\n",
       "      <th>l3_defect_status</th>\n",
       "      <th>deployed_to_ut</th>\n",
       "      <th>critical_for_go_live_(l,_m,_h)</th>\n",
       "      <th>deployed_to_ppd</th>\n",
       "      <th>functional_area</th>\n",
       "      <th>main_function</th>\n",
       "      <th>baxter_functional_owner_name</th>\n",
       "      <th>l2_status</th>\n",
       "      <th>l2_testing_kpit_testing_comments</th>\n",
       "      <th>app_created_by</th>\n",
       "      <th>app_modified_by</th>\n",
       "      <th>baxter_tech_lead_name</th>\n",
       "      <th>code_review_comments</th>\n",
       "      <th>code_reviewer</th>\n",
       "      <th>compliance_asset_id</th>\n",
       "      <th>content_type</th>\n",
       "      <th>country</th>\n",
       "      <th>created</th>\n",
       "      <th>created_by</th>\n",
       "      <th>estimated_dev_end_date</th>\n",
       "      <th>estimated_dev_start_date</th>\n",
       "      <th>fsts_name/_number</th>\n",
       "      <th>id</th>\n",
       "      <th>interface_type</th>\n",
       "      <th>item_child_count</th>\n",
       "      <th>kpit_technical_lead</th>\n",
       "      <th>label_applied_by</th>\n",
       "      <th>label_setting</th>\n",
       "      <th>modified</th>\n",
       "      <th>modified_by</th>\n",
       "      <th>omw_project</th>\n",
       "      <th>purpose</th>\n",
       "      <th>ready_for_baxter_tech_review</th>\n",
       "      <th>ready_for_euut_promotion</th>\n",
       "      <th>retention_label</th>\n",
       "      <th>retention_label_applied</th>\n",
       "      <th>retrofit_comments</th>\n",
       "      <th>sprint_track</th>\n",
       "      <th>test_script_id_9_2</th>\n",
       "      <th>test_script_name</th>\n",
       "      <th>version_projects</th>\n",
       "      <th>global</th>\n",
       "      <th>global_needed_in_production</th>\n",
       "      <th>number</th>\n",
       "      <th>item_type</th>\n",
       "      <th>path</th>\n",
       "    </tr>\n",
       "  </thead>\n",
       "  <tbody>\n",
       "    <tr>\n",
       "      <th>2888</th>\n",
       "      <td>P564915A</td>\n",
       "      <td>NaN</td>\n",
       "      <td>APPL</td>\n",
       "      <td>NaN</td>\n",
       "      <td>NaN</td>\n",
       "      <td>R812</td>\n",
       "      <td>NaN</td>\n",
       "      <td>NaN</td>\n",
       "      <td>Work with Shipments - Baxter EMEA</td>\n",
       "      <td>NaN</td>\n",
       "      <td>NaN</td>\n",
       "      <td>NaN</td>\n",
       "      <td>0.0</td>\n",
       "      <td>NaN</td>\n",
       "      <td>0.0</td>\n",
       "      <td>Logistics</td>\n",
       "      <td>NaN</td>\n",
       "      <td>Grant Wallis</td>\n",
       "      <td>L2 Not required</td>\n",
       "      <td>NaN</td>\n",
       "      <td>NaN</td>\n",
       "      <td>NaN</td>\n",
       "      <td>Terry Greenard / Vikas Verma</td>\n",
       "      <td>NaN</td>\n",
       "      <td>NaN</td>\n",
       "      <td>NaN</td>\n",
       "      <td>Item</td>\n",
       "      <td>NaN</td>\n",
       "      <td>2020-08-11 05:13:56</td>\n",
       "      <td>Verma, Vikas</td>\n",
       "      <td>NaN</td>\n",
       "      <td>NaN</td>\n",
       "      <td>NaN</td>\n",
       "      <td>2953</td>\n",
       "      <td>NaN</td>\n",
       "      <td>0</td>\n",
       "      <td>NaN</td>\n",
       "      <td>NaN</td>\n",
       "      <td>NaN</td>\n",
       "      <td>2020-08-11 05:21:13</td>\n",
       "      <td>Verma, Vikas</td>\n",
       "      <td>NaN</td>\n",
       "      <td>NaN</td>\n",
       "      <td>NaN</td>\n",
       "      <td>NaN</td>\n",
       "      <td>NaN</td>\n",
       "      <td>NaN</td>\n",
       "      <td>NaN</td>\n",
       "      <td>NaN</td>\n",
       "      <td>NaN</td>\n",
       "      <td>NaN</td>\n",
       "      <td>NaN</td>\n",
       "      <td>0.0</td>\n",
       "      <td>0.0</td>\n",
       "      <td>NaN</td>\n",
       "      <td>Item</td>\n",
       "      <td>sites/erp92upgrade/erp92emea/Lists/EMEA Retrofit Object Lifecycle Tracker</td>\n",
       "    </tr>\n",
       "  </tbody>\n",
       "</table>\n",
       "</div>"
      ],
      "text/plain": [
       "        object gxp_critical_flag object_type fs_doc_nbr ts_doc_nbr sprint  \\\n",
       "2888  P564915A               NaN        APPL        NaN        NaN   R812   \n",
       "\n",
       "     testing_sprint phase                        description status  \\\n",
       "2888            NaN   NaN  Work with Shipments - Baxter EMEA    NaN   \n",
       "\n",
       "      l3_defect_number l3_defect_status  deployed_to_ut  \\\n",
       "2888               NaN              NaN             0.0   \n",
       "\n",
       "     critical_for_go_live_(l,_m,_h)  deployed_to_ppd functional_area  \\\n",
       "2888                            NaN              0.0       Logistics   \n",
       "\n",
       "     main_function baxter_functional_owner_name        l2_status  \\\n",
       "2888           NaN                 Grant Wallis  L2 Not required   \n",
       "\n",
       "     l2_testing_kpit_testing_comments  app_created_by  app_modified_by  \\\n",
       "2888                              NaN             NaN              NaN   \n",
       "\n",
       "             baxter_tech_lead_name code_review_comments code_reviewer  \\\n",
       "2888  Terry Greenard / Vikas Verma                  NaN           NaN   \n",
       "\n",
       "      compliance_asset_id content_type country             created  \\\n",
       "2888                  NaN         Item     NaN 2020-08-11 05:13:56   \n",
       "\n",
       "        created_by estimated_dev_end_date estimated_dev_start_date  \\\n",
       "2888  Verma, Vikas                    NaN                      NaN   \n",
       "\n",
       "     fsts_name/_number    id interface_type  item_child_count  \\\n",
       "2888               NaN  2953            NaN                 0   \n",
       "\n",
       "     kpit_technical_lead  label_applied_by  label_setting            modified  \\\n",
       "2888                 NaN               NaN            NaN 2020-08-11 05:21:13   \n",
       "\n",
       "       modified_by omw_project purpose ready_for_baxter_tech_review  \\\n",
       "2888  Verma, Vikas         NaN     NaN                          NaN   \n",
       "\n",
       "     ready_for_euut_promotion  retention_label  retention_label_applied  \\\n",
       "2888                      NaN              NaN                      NaN   \n",
       "\n",
       "     retrofit_comments sprint_track test_script_id_9_2  test_script_name  \\\n",
       "2888               NaN          NaN                NaN               NaN   \n",
       "\n",
       "     version_projects  global  global_needed_in_production  number item_type  \\\n",
       "2888              NaN     0.0                          0.0     NaN      Item   \n",
       "\n",
       "                                                                           path  \n",
       "2888  sites/erp92upgrade/erp92emea/Lists/EMEA Retrofit Object Lifecycle Tracker  "
      ]
     },
     "execution_count": 7,
     "metadata": {},
     "output_type": "execute_result"
    }
   ],
   "source": [
    "r812.query(\"~status.isin(['L3 In Progress', 'L3 Pass',\\\n",
    "           'Baxter Code Review Complete', 'Development Complete'])\")"
   ]
  },
  {
   "cell_type": "markdown",
   "metadata": {},
   "source": [
    "## L2 Status"
   ]
  },
  {
   "cell_type": "code",
   "execution_count": 8,
   "metadata": {
    "ExecuteTime": {
     "end_time": "2021-03-11T16:25:45.309925Z",
     "start_time": "2021-03-11T16:25:45.246253Z"
    }
   },
   "outputs": [
    {
     "data": {
      "text/html": [
       "<div>\n",
       "<style scoped>\n",
       "    .dataframe tbody tr th:only-of-type {\n",
       "        vertical-align: middle;\n",
       "    }\n",
       "\n",
       "    .dataframe tbody tr th {\n",
       "        vertical-align: top;\n",
       "    }\n",
       "\n",
       "    .dataframe thead th {\n",
       "        text-align: right;\n",
       "    }\n",
       "</style>\n",
       "<table border=\"1\" class=\"dataframe\">\n",
       "  <thead>\n",
       "    <tr style=\"text-align: right;\">\n",
       "      <th>functional_area</th>\n",
       "      <th>ARO</th>\n",
       "      <th>Finance</th>\n",
       "      <th>Logistics</th>\n",
       "      <th>Order Management</th>\n",
       "      <th>eCommerce</th>\n",
       "    </tr>\n",
       "    <tr>\n",
       "      <th>l2_status</th>\n",
       "      <th></th>\n",
       "      <th></th>\n",
       "      <th></th>\n",
       "      <th></th>\n",
       "      <th></th>\n",
       "    </tr>\n",
       "  </thead>\n",
       "  <tbody>\n",
       "    <tr>\n",
       "      <th>L2 Not required</th>\n",
       "      <td>14</td>\n",
       "      <td>6</td>\n",
       "      <td>50</td>\n",
       "      <td>10</td>\n",
       "      <td>8</td>\n",
       "    </tr>\n",
       "  </tbody>\n",
       "</table>\n",
       "</div>"
      ],
      "text/plain": [
       "functional_area  ARO  Finance  Logistics  Order Management  eCommerce\n",
       "l2_status                                                            \n",
       "L2 Not required   14        6         50                10          8"
      ]
     },
     "execution_count": 8,
     "metadata": {},
     "output_type": "execute_result"
    }
   ],
   "source": [
    "(r812.fillna('').groupby(['functional_area', 'l2_status'])['l2_status'].count()\n",
    " .unstack(level=0)\n",
    " .fillna(0)\n",
    " .astype(int))"
   ]
  },
  {
   "cell_type": "code",
   "execution_count": 9,
   "metadata": {
    "ExecuteTime": {
     "end_time": "2021-03-11T16:25:45.369767Z",
     "start_time": "2021-03-11T16:25:45.312784Z"
    }
   },
   "outputs": [
    {
     "data": {
      "text/html": [
       "<div>\n",
       "<style scoped>\n",
       "    .dataframe tbody tr th:only-of-type {\n",
       "        vertical-align: middle;\n",
       "    }\n",
       "\n",
       "    .dataframe tbody tr th {\n",
       "        vertical-align: top;\n",
       "    }\n",
       "\n",
       "    .dataframe thead th {\n",
       "        text-align: right;\n",
       "    }\n",
       "</style>\n",
       "<table border=\"1\" class=\"dataframe\">\n",
       "  <thead>\n",
       "    <tr style=\"text-align: right;\">\n",
       "      <th></th>\n",
       "      <th>n</th>\n",
       "      <th>%</th>\n",
       "      <th>cum %</th>\n",
       "    </tr>\n",
       "  </thead>\n",
       "  <tbody>\n",
       "    <tr>\n",
       "      <th>L2 Not required</th>\n",
       "      <td>88</td>\n",
       "      <td>100.0</td>\n",
       "      <td>100.0</td>\n",
       "    </tr>\n",
       "    <tr>\n",
       "      <th>Total</th>\n",
       "      <td>88</td>\n",
       "      <td>100.0</td>\n",
       "      <td></td>\n",
       "    </tr>\n",
       "  </tbody>\n",
       "</table>\n",
       "</div>"
      ],
      "text/plain": [
       "                  n      %  cum %\n",
       "L2 Not required  88  100.0  100.0\n",
       "Total            88  100.0       "
      ]
     },
     "execution_count": 9,
     "metadata": {},
     "output_type": "execute_result"
    }
   ],
   "source": [
    "%%piper\n",
    "count(r812, 'l2_status', totals=True)"
   ]
  },
  {
   "cell_type": "code",
   "execution_count": null,
   "metadata": {},
   "outputs": [],
   "source": []
  },
  {
   "cell_type": "code",
   "execution_count": null,
   "metadata": {},
   "outputs": [],
   "source": []
  }
 ],
 "metadata": {
  "hide_input": false,
  "kernelspec": {
   "display_name": "Python 3",
   "language": "python",
   "name": "python3"
  },
  "language_info": {
   "codemirror_mode": {
    "name": "ipython",
    "version": 3
   },
   "file_extension": ".py",
   "mimetype": "text/x-python",
   "name": "python",
   "nbconvert_exporter": "python",
   "pygments_lexer": "ipython3",
   "version": "3.8.5"
  },
  "toc": {
   "base_numbering": 1,
   "nav_menu": {},
   "number_sections": true,
   "sideBar": true,
   "skip_h1_title": false,
   "title_cell": "Table of Contents",
   "title_sidebar": "Contents",
   "toc_cell": false,
   "toc_position": {
    "height": "calc(100% - 180px)",
    "left": "10px",
    "top": "150px",
    "width": "256px"
   },
   "toc_section_display": true,
   "toc_window_display": true
  }
 },
 "nbformat": 4,
 "nbformat_minor": 4
}
