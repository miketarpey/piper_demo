{
 "cells": [
  {
   "cell_type": "markdown",
   "metadata": {
    "ExecuteTime": {
     "end_time": "2020-08-07T18:34:50.657741Z",
     "start_time": "2020-08-07T18:34:50.654732Z"
    }
   },
   "source": [
    "# Setup"
   ]
  },
  {
   "cell_type": "code",
   "execution_count": 1,
   "metadata": {
    "ExecuteTime": {
     "end_time": "2021-02-26T14:53:21.824287Z",
     "start_time": "2021-02-26T14:53:20.935285Z"
    }
   },
   "outputs": [
    {
     "name": "stderr",
     "output_type": "stream",
     "text": [
      "piper version 0.0.7, last run: Friday, 26 February 2021 14:53:20\n"
     ]
    }
   ],
   "source": [
    "from piper import piper\n",
    "from piper.defaults import *\n",
    "from piper.verbs import *\n",
    "from piper.dates import to_date\n",
    "from piper.factory import get_sample_data"
   ]
  },
  {
   "cell_type": "markdown",
   "metadata": {
    "ExecuteTime": {
     "end_time": "2020-08-07T18:34:50.657741Z",
     "start_time": "2020-08-07T18:34:50.654732Z"
    }
   },
   "source": [
    "# Importing data into a dataframe"
   ]
  },
  {
   "cell_type": "markdown",
   "metadata": {
    "ExecuteTime": {
     "end_time": "2020-08-07T18:34:50.657741Z",
     "start_time": "2020-08-07T18:34:50.654732Z"
    }
   },
   "source": [
    "## read_csv()"
   ]
  },
  {
   "cell_type": "markdown",
   "metadata": {},
   "source": [
    "Here's an example where we 'assign' the result to a variable (as in R)"
   ]
  },
  {
   "cell_type": "code",
   "execution_count": 2,
   "metadata": {
    "ExecuteTime": {
     "end_time": "2021-02-26T14:53:21.841706Z",
     "start_time": "2021-02-26T14:53:21.826407Z"
    }
   },
   "outputs": [],
   "source": [
    "%%piper\n",
    "df <- pd.read_csv('inputs/2018 Bestsellers.csv') \n",
    ">> clean_columns()"
   ]
  },
  {
   "cell_type": "markdown",
   "metadata": {
    "ExecuteTime": {
     "end_time": "2020-08-07T18:34:50.657741Z",
     "start_time": "2020-08-07T18:34:50.654732Z"
    }
   },
   "source": [
    "## info()"
   ]
  },
  {
   "cell_type": "code",
   "execution_count": 3,
   "metadata": {
    "ExecuteTime": {
     "end_time": "2021-02-26T14:53:21.888490Z",
     "start_time": "2021-02-26T14:53:21.843456Z"
    },
    "scrolled": true
   },
   "outputs": [
    {
     "name": "stderr",
     "output_type": "stream",
     "text": [
      "Dataframe with (rows, cols) (1300, 9) consumes 0.41 Mb\n"
     ]
    },
    {
     "data": {
      "text/html": [
       "<div>\n",
       "<style scoped>\n",
       "    .dataframe tbody tr th:only-of-type {\n",
       "        vertical-align: middle;\n",
       "    }\n",
       "\n",
       "    .dataframe tbody tr th {\n",
       "        vertical-align: top;\n",
       "    }\n",
       "\n",
       "    .dataframe thead th {\n",
       "        text-align: right;\n",
       "    }\n",
       "</style>\n",
       "<table border=\"1\" class=\"dataframe\">\n",
       "  <thead>\n",
       "    <tr style=\"text-align: right;\">\n",
       "      <th></th>\n",
       "      <th>0</th>\n",
       "      <th>1</th>\n",
       "      <th>2</th>\n",
       "      <th>3</th>\n",
       "      <th>4</th>\n",
       "      <th>5</th>\n",
       "      <th>6</th>\n",
       "      <th>7</th>\n",
       "      <th>8</th>\n",
       "    </tr>\n",
       "  </thead>\n",
       "  <tbody>\n",
       "    <tr>\n",
       "      <th>columns</th>\n",
       "      <td>title</td>\n",
       "      <td>week</td>\n",
       "      <td>list</td>\n",
       "      <td>rank</td>\n",
       "      <td>author</td>\n",
       "      <td>price</td>\n",
       "      <td>isbn</td>\n",
       "      <td>previous_rank</td>\n",
       "      <td>weeks_on_list</td>\n",
       "    </tr>\n",
       "    <tr>\n",
       "      <th>data_type</th>\n",
       "      <td>object</td>\n",
       "      <td>object</td>\n",
       "      <td>object</td>\n",
       "      <td>int64</td>\n",
       "      <td>object</td>\n",
       "      <td>float64</td>\n",
       "      <td>int64</td>\n",
       "      <td>float64</td>\n",
       "      <td>float64</td>\n",
       "    </tr>\n",
       "    <tr>\n",
       "      <th>unique</th>\n",
       "      <td>220</td>\n",
       "      <td>13</td>\n",
       "      <td>7</td>\n",
       "      <td>15</td>\n",
       "      <td>195</td>\n",
       "      <td>46</td>\n",
       "      <td>229</td>\n",
       "      <td>15</td>\n",
       "      <td>95</td>\n",
       "    </tr>\n",
       "    <tr>\n",
       "      <th>isna</th>\n",
       "      <td>0</td>\n",
       "      <td>0</td>\n",
       "      <td>0</td>\n",
       "      <td>0</td>\n",
       "      <td>0</td>\n",
       "      <td>0</td>\n",
       "      <td>0</td>\n",
       "      <td>514</td>\n",
       "      <td>390</td>\n",
       "    </tr>\n",
       "    <tr>\n",
       "      <th>isnull</th>\n",
       "      <td>0</td>\n",
       "      <td>0</td>\n",
       "      <td>0</td>\n",
       "      <td>0</td>\n",
       "      <td>0</td>\n",
       "      <td>0</td>\n",
       "      <td>0</td>\n",
       "      <td>514</td>\n",
       "      <td>390</td>\n",
       "    </tr>\n",
       "    <tr>\n",
       "      <th>total_count</th>\n",
       "      <td>1300</td>\n",
       "      <td>1300</td>\n",
       "      <td>1300</td>\n",
       "      <td>1300</td>\n",
       "      <td>1300</td>\n",
       "      <td>1300</td>\n",
       "      <td>1300</td>\n",
       "      <td>1300</td>\n",
       "      <td>1300</td>\n",
       "    </tr>\n",
       "  </tbody>\n",
       "</table>\n",
       "</div>"
      ],
      "text/plain": [
       "                  0       1       2      3       4        5      6  \\\n",
       "columns       title    week    list   rank  author    price   isbn   \n",
       "data_type    object  object  object  int64  object  float64  int64   \n",
       "unique          220      13       7     15     195       46    229   \n",
       "isna              0       0       0      0       0        0      0   \n",
       "isnull            0       0       0      0       0        0      0   \n",
       "total_count    1300    1300    1300   1300    1300     1300   1300   \n",
       "\n",
       "                         7              8  \n",
       "columns      previous_rank  weeks_on_list  \n",
       "data_type          float64        float64  \n",
       "unique                  15             95  \n",
       "isna                   514            390  \n",
       "isnull                 514            390  \n",
       "total_count           1300           1300  "
      ]
     },
     "execution_count": 3,
     "metadata": {},
     "output_type": "execute_result"
    }
   ],
   "source": [
    "%piper df >> info() >> pd.DataFrame.transpose()"
   ]
  },
  {
   "cell_type": "markdown",
   "metadata": {
    "ExecuteTime": {
     "end_time": "2020-08-07T18:34:50.657741Z",
     "start_time": "2020-08-07T18:34:50.654732Z"
    }
   },
   "source": [
    "## select()"
   ]
  },
  {
   "cell_type": "markdown",
   "metadata": {
    "ExecuteTime": {
     "end_time": "2020-08-07T18:34:50.657741Z",
     "start_time": "2020-08-07T18:34:50.654732Z"
    }
   },
   "source": [
    "### ALL columns"
   ]
  },
  {
   "cell_type": "markdown",
   "metadata": {},
   "source": [
    "select() allows you to select columns in various ways, default - ALL columns"
   ]
  },
  {
   "cell_type": "code",
   "execution_count": 4,
   "metadata": {
    "ExecuteTime": {
     "end_time": "2021-02-26T14:53:21.895235Z",
     "start_time": "2021-02-26T14:53:21.891565Z"
    }
   },
   "outputs": [],
   "source": [
    "# df = select(df, ['week', 'title'])\n",
    "# df"
   ]
  },
  {
   "cell_type": "code",
   "execution_count": 5,
   "metadata": {
    "ExecuteTime": {
     "end_time": "2021-02-26T14:53:21.922098Z",
     "start_time": "2021-02-26T14:53:21.901735Z"
    },
    "scrolled": true
   },
   "outputs": [
    {
     "name": "stderr",
     "output_type": "stream",
     "text": [
      "1300 rows, 9 columns\n"
     ]
    },
    {
     "data": {
      "text/html": [
       "<div>\n",
       "<style scoped>\n",
       "    .dataframe tbody tr th:only-of-type {\n",
       "        vertical-align: middle;\n",
       "    }\n",
       "\n",
       "    .dataframe tbody tr th {\n",
       "        vertical-align: top;\n",
       "    }\n",
       "\n",
       "    .dataframe thead th {\n",
       "        text-align: right;\n",
       "    }\n",
       "</style>\n",
       "<table border=\"1\" class=\"dataframe\">\n",
       "  <thead>\n",
       "    <tr style=\"text-align: right;\">\n",
       "      <th></th>\n",
       "      <th>title</th>\n",
       "      <th>week</th>\n",
       "      <th>list</th>\n",
       "      <th>rank</th>\n",
       "      <th>author</th>\n",
       "      <th>price</th>\n",
       "      <th>isbn</th>\n",
       "      <th>previous_rank</th>\n",
       "      <th>weeks_on_list</th>\n",
       "    </tr>\n",
       "  </thead>\n",
       "  <tbody>\n",
       "    <tr>\n",
       "      <th>0</th>\n",
       "      <td>A Wrinkle in Time</td>\n",
       "      <td>2/14/2018</td>\n",
       "      <td>Early &amp; Middle</td>\n",
       "      <td>1</td>\n",
       "      <td>Madeleine L'Engle</td>\n",
       "      <td>8.99</td>\n",
       "      <td>9781250153272</td>\n",
       "      <td>NaN</td>\n",
       "      <td>NaN</td>\n",
       "    </tr>\n",
       "    <tr>\n",
       "      <th>1</th>\n",
       "      <td>Wonder</td>\n",
       "      <td>2/14/2018</td>\n",
       "      <td>Early &amp; Middle</td>\n",
       "      <td>2</td>\n",
       "      <td>R.J. Palacio</td>\n",
       "      <td>16.99</td>\n",
       "      <td>9781524720193</td>\n",
       "      <td>NaN</td>\n",
       "      <td>NaN</td>\n",
       "    </tr>\n",
       "    <tr>\n",
       "      <th>2</th>\n",
       "      <td>Auggie &amp; Me</td>\n",
       "      <td>2/14/2018</td>\n",
       "      <td>Early &amp; Middle</td>\n",
       "      <td>3</td>\n",
       "      <td>R.J. Palacio</td>\n",
       "      <td>16.99</td>\n",
       "      <td>9781101934852</td>\n",
       "      <td>NaN</td>\n",
       "      <td>NaN</td>\n",
       "    </tr>\n",
       "    <tr>\n",
       "      <th>3</th>\n",
       "      <td>The Girl Who Drank the Moon</td>\n",
       "      <td>2/14/2018</td>\n",
       "      <td>Early &amp; Middle</td>\n",
       "      <td>4</td>\n",
       "      <td>Kelly Barnhill</td>\n",
       "      <td>16.95</td>\n",
       "      <td>9781616205676</td>\n",
       "      <td>NaN</td>\n",
       "      <td>NaN</td>\n",
       "    </tr>\n",
       "  </tbody>\n",
       "</table>\n",
       "</div>"
      ],
      "text/plain": [
       "                         title       week            list  rank  \\\n",
       "0            A Wrinkle in Time  2/14/2018  Early & Middle     1   \n",
       "1                       Wonder  2/14/2018  Early & Middle     2   \n",
       "2                  Auggie & Me  2/14/2018  Early & Middle     3   \n",
       "3  The Girl Who Drank the Moon  2/14/2018  Early & Middle     4   \n",
       "\n",
       "              author  price           isbn  previous_rank  weeks_on_list  \n",
       "0  Madeleine L'Engle   8.99  9781250153272            NaN            NaN  \n",
       "1       R.J. Palacio  16.99  9781524720193            NaN            NaN  \n",
       "2       R.J. Palacio  16.99  9781101934852            NaN            NaN  \n",
       "3     Kelly Barnhill  16.95  9781616205676            NaN            NaN  "
      ]
     },
     "execution_count": 5,
     "metadata": {},
     "output_type": "execute_result"
    }
   ],
   "source": [
    "%%piper\n",
    "df >> select() >> head()"
   ]
  },
  {
   "cell_type": "markdown",
   "metadata": {
    "ExecuteTime": {
     "end_time": "2020-08-07T18:34:50.657741Z",
     "start_time": "2020-08-07T18:34:50.654732Z"
    }
   },
   "source": [
    "### specific column(s)"
   ]
  },
  {
   "cell_type": "markdown",
   "metadata": {},
   "source": [
    "Specify an column name, selects that column"
   ]
  },
  {
   "cell_type": "code",
   "execution_count": 6,
   "metadata": {
    "ExecuteTime": {
     "end_time": "2021-02-26T14:53:21.941511Z",
     "start_time": "2021-02-26T14:53:21.926432Z"
    },
    "scrolled": true
   },
   "outputs": [
    {
     "name": "stderr",
     "output_type": "stream",
     "text": [
      "1300 rows, 1 columns\n"
     ]
    },
    {
     "data": {
      "text/html": [
       "<div>\n",
       "<style scoped>\n",
       "    .dataframe tbody tr th:only-of-type {\n",
       "        vertical-align: middle;\n",
       "    }\n",
       "\n",
       "    .dataframe tbody tr th {\n",
       "        vertical-align: top;\n",
       "    }\n",
       "\n",
       "    .dataframe thead th {\n",
       "        text-align: right;\n",
       "    }\n",
       "</style>\n",
       "<table border=\"1\" class=\"dataframe\">\n",
       "  <thead>\n",
       "    <tr style=\"text-align: right;\">\n",
       "      <th></th>\n",
       "      <th>title</th>\n",
       "    </tr>\n",
       "  </thead>\n",
       "  <tbody>\n",
       "    <tr>\n",
       "      <th>0</th>\n",
       "      <td>A Wrinkle in Time</td>\n",
       "    </tr>\n",
       "    <tr>\n",
       "      <th>1</th>\n",
       "      <td>Wonder</td>\n",
       "    </tr>\n",
       "    <tr>\n",
       "      <th>2</th>\n",
       "      <td>Auggie &amp; Me</td>\n",
       "    </tr>\n",
       "    <tr>\n",
       "      <th>3</th>\n",
       "      <td>The Girl Who Drank the Moon</td>\n",
       "    </tr>\n",
       "  </tbody>\n",
       "</table>\n",
       "</div>"
      ],
      "text/plain": [
       "                         title\n",
       "0            A Wrinkle in Time\n",
       "1                       Wonder\n",
       "2                  Auggie & Me\n",
       "3  The Girl Who Drank the Moon"
      ]
     },
     "execution_count": 6,
     "metadata": {},
     "output_type": "execute_result"
    }
   ],
   "source": [
    "%%piper\n",
    "df >> select('title') >> head()"
   ]
  },
  {
   "cell_type": "markdown",
   "metadata": {},
   "source": [
    "passing a list retrieves the respective columns in one go."
   ]
  },
  {
   "cell_type": "code",
   "execution_count": 7,
   "metadata": {
    "ExecuteTime": {
     "end_time": "2021-02-26T14:53:21.960760Z",
     "start_time": "2021-02-26T14:53:21.943560Z"
    },
    "scrolled": true
   },
   "outputs": [
    {
     "name": "stderr",
     "output_type": "stream",
     "text": [
      "1300 rows, 3 columns\n"
     ]
    },
    {
     "data": {
      "text/html": [
       "<div>\n",
       "<style scoped>\n",
       "    .dataframe tbody tr th:only-of-type {\n",
       "        vertical-align: middle;\n",
       "    }\n",
       "\n",
       "    .dataframe tbody tr th {\n",
       "        vertical-align: top;\n",
       "    }\n",
       "\n",
       "    .dataframe thead th {\n",
       "        text-align: right;\n",
       "    }\n",
       "</style>\n",
       "<table border=\"1\" class=\"dataframe\">\n",
       "  <thead>\n",
       "    <tr style=\"text-align: right;\">\n",
       "      <th></th>\n",
       "      <th>title</th>\n",
       "      <th>author</th>\n",
       "      <th>price</th>\n",
       "    </tr>\n",
       "  </thead>\n",
       "  <tbody>\n",
       "    <tr>\n",
       "      <th>0</th>\n",
       "      <td>A Wrinkle in Time</td>\n",
       "      <td>Madeleine L'Engle</td>\n",
       "      <td>8.99</td>\n",
       "    </tr>\n",
       "    <tr>\n",
       "      <th>1</th>\n",
       "      <td>Wonder</td>\n",
       "      <td>R.J. Palacio</td>\n",
       "      <td>16.99</td>\n",
       "    </tr>\n",
       "    <tr>\n",
       "      <th>2</th>\n",
       "      <td>Auggie &amp; Me</td>\n",
       "      <td>R.J. Palacio</td>\n",
       "      <td>16.99</td>\n",
       "    </tr>\n",
       "    <tr>\n",
       "      <th>3</th>\n",
       "      <td>The Girl Who Drank the Moon</td>\n",
       "      <td>Kelly Barnhill</td>\n",
       "      <td>16.95</td>\n",
       "    </tr>\n",
       "  </tbody>\n",
       "</table>\n",
       "</div>"
      ],
      "text/plain": [
       "                         title             author  price\n",
       "0            A Wrinkle in Time  Madeleine L'Engle   8.99\n",
       "1                       Wonder       R.J. Palacio  16.99\n",
       "2                  Auggie & Me       R.J. Palacio  16.99\n",
       "3  The Girl Who Drank the Moon     Kelly Barnhill  16.95"
      ]
     },
     "execution_count": 7,
     "metadata": {},
     "output_type": "execute_result"
    }
   ],
   "source": [
    "%%piper\n",
    "select(df, ['title', 'author', 'price']) >>\n",
    "head()"
   ]
  },
  {
   "cell_type": "markdown",
   "metadata": {
    "ExecuteTime": {
     "end_time": "2020-08-07T18:34:50.657741Z",
     "start_time": "2020-08-07T18:34:50.654732Z"
    }
   },
   "source": [
    "### excluding column(s)"
   ]
  },
  {
   "cell_type": "markdown",
   "metadata": {},
   "source": [
    "How about all fields EXCEPT certain columns?<br> No problem, specify a minus as a prefix to the column name."
   ]
  },
  {
   "cell_type": "code",
   "execution_count": 8,
   "metadata": {
    "ExecuteTime": {
     "end_time": "2021-02-26T14:53:21.995155Z",
     "start_time": "2021-02-26T14:53:21.964585Z"
    },
    "scrolled": true
   },
   "outputs": [
    {
     "name": "stderr",
     "output_type": "stream",
     "text": [
      "1300 rows, 6 columns\n"
     ]
    },
    {
     "data": {
      "text/html": [
       "<div>\n",
       "<style scoped>\n",
       "    .dataframe tbody tr th:only-of-type {\n",
       "        vertical-align: middle;\n",
       "    }\n",
       "\n",
       "    .dataframe tbody tr th {\n",
       "        vertical-align: top;\n",
       "    }\n",
       "\n",
       "    .dataframe thead th {\n",
       "        text-align: right;\n",
       "    }\n",
       "</style>\n",
       "<table border=\"1\" class=\"dataframe\">\n",
       "  <thead>\n",
       "    <tr style=\"text-align: right;\">\n",
       "      <th></th>\n",
       "      <th>title</th>\n",
       "      <th>week</th>\n",
       "      <th>list</th>\n",
       "      <th>rank</th>\n",
       "      <th>author</th>\n",
       "      <th>price</th>\n",
       "    </tr>\n",
       "  </thead>\n",
       "  <tbody>\n",
       "    <tr>\n",
       "      <th>0</th>\n",
       "      <td>A Wrinkle in Time</td>\n",
       "      <td>2/14/2018</td>\n",
       "      <td>Early &amp; Middle</td>\n",
       "      <td>1</td>\n",
       "      <td>Madeleine L'Engle</td>\n",
       "      <td>8.99</td>\n",
       "    </tr>\n",
       "    <tr>\n",
       "      <th>1</th>\n",
       "      <td>Wonder</td>\n",
       "      <td>2/14/2018</td>\n",
       "      <td>Early &amp; Middle</td>\n",
       "      <td>2</td>\n",
       "      <td>R.J. Palacio</td>\n",
       "      <td>16.99</td>\n",
       "    </tr>\n",
       "    <tr>\n",
       "      <th>2</th>\n",
       "      <td>Auggie &amp; Me</td>\n",
       "      <td>2/14/2018</td>\n",
       "      <td>Early &amp; Middle</td>\n",
       "      <td>3</td>\n",
       "      <td>R.J. Palacio</td>\n",
       "      <td>16.99</td>\n",
       "    </tr>\n",
       "    <tr>\n",
       "      <th>3</th>\n",
       "      <td>The Girl Who Drank the Moon</td>\n",
       "      <td>2/14/2018</td>\n",
       "      <td>Early &amp; Middle</td>\n",
       "      <td>4</td>\n",
       "      <td>Kelly Barnhill</td>\n",
       "      <td>16.95</td>\n",
       "    </tr>\n",
       "  </tbody>\n",
       "</table>\n",
       "</div>"
      ],
      "text/plain": [
       "                         title       week            list  rank  \\\n",
       "0            A Wrinkle in Time  2/14/2018  Early & Middle     1   \n",
       "1                       Wonder  2/14/2018  Early & Middle     2   \n",
       "2                  Auggie & Me  2/14/2018  Early & Middle     3   \n",
       "3  The Girl Who Drank the Moon  2/14/2018  Early & Middle     4   \n",
       "\n",
       "              author  price  \n",
       "0  Madeleine L'Engle   8.99  \n",
       "1       R.J. Palacio  16.99  \n",
       "2       R.J. Palacio  16.99  \n",
       "3     Kelly Barnhill  16.95  "
      ]
     },
     "execution_count": 8,
     "metadata": {},
     "output_type": "execute_result"
    }
   ],
   "source": [
    "%%piper\n",
    "df\n",
    ">> select(['-isbn', '-previous_rank'])\n",
    ">> select('-weeks_on_list')\n",
    ">> head()"
   ]
  },
  {
   "cell_type": "markdown",
   "metadata": {
    "ExecuteTime": {
     "end_time": "2020-08-07T18:34:50.657741Z",
     "start_time": "2020-08-07T18:34:50.654732Z"
    }
   },
   "source": [
    "### selecting from one column to another column (column range/slice)"
   ]
  },
  {
   "cell_type": "markdown",
   "metadata": {},
   "source": [
    "If you want to select a subset (range) of columns - pass a slice object with the from and to columns."
   ]
  },
  {
   "cell_type": "code",
   "execution_count": 9,
   "metadata": {
    "ExecuteTime": {
     "end_time": "2021-02-26T14:53:22.014940Z",
     "start_time": "2021-02-26T14:53:21.997739Z"
    },
    "scrolled": true
   },
   "outputs": [
    {
     "name": "stderr",
     "output_type": "stream",
     "text": [
      "1300 rows, 7 columns\n"
     ]
    },
    {
     "data": {
      "text/html": [
       "<div>\n",
       "<style scoped>\n",
       "    .dataframe tbody tr th:only-of-type {\n",
       "        vertical-align: middle;\n",
       "    }\n",
       "\n",
       "    .dataframe tbody tr th {\n",
       "        vertical-align: top;\n",
       "    }\n",
       "\n",
       "    .dataframe thead th {\n",
       "        text-align: right;\n",
       "    }\n",
       "</style>\n",
       "<table border=\"1\" class=\"dataframe\">\n",
       "  <thead>\n",
       "    <tr style=\"text-align: right;\">\n",
       "      <th></th>\n",
       "      <th>title</th>\n",
       "      <th>week</th>\n",
       "      <th>list</th>\n",
       "      <th>rank</th>\n",
       "      <th>author</th>\n",
       "      <th>price</th>\n",
       "      <th>isbn</th>\n",
       "    </tr>\n",
       "  </thead>\n",
       "  <tbody>\n",
       "    <tr>\n",
       "      <th>0</th>\n",
       "      <td>A Wrinkle in Time</td>\n",
       "      <td>2/14/2018</td>\n",
       "      <td>Early &amp; Middle</td>\n",
       "      <td>1</td>\n",
       "      <td>Madeleine L'Engle</td>\n",
       "      <td>8.99</td>\n",
       "      <td>9781250153272</td>\n",
       "    </tr>\n",
       "    <tr>\n",
       "      <th>1</th>\n",
       "      <td>Wonder</td>\n",
       "      <td>2/14/2018</td>\n",
       "      <td>Early &amp; Middle</td>\n",
       "      <td>2</td>\n",
       "      <td>R.J. Palacio</td>\n",
       "      <td>16.99</td>\n",
       "      <td>9781524720193</td>\n",
       "    </tr>\n",
       "    <tr>\n",
       "      <th>2</th>\n",
       "      <td>Auggie &amp; Me</td>\n",
       "      <td>2/14/2018</td>\n",
       "      <td>Early &amp; Middle</td>\n",
       "      <td>3</td>\n",
       "      <td>R.J. Palacio</td>\n",
       "      <td>16.99</td>\n",
       "      <td>9781101934852</td>\n",
       "    </tr>\n",
       "    <tr>\n",
       "      <th>3</th>\n",
       "      <td>The Girl Who Drank the Moon</td>\n",
       "      <td>2/14/2018</td>\n",
       "      <td>Early &amp; Middle</td>\n",
       "      <td>4</td>\n",
       "      <td>Kelly Barnhill</td>\n",
       "      <td>16.95</td>\n",
       "      <td>9781616205676</td>\n",
       "    </tr>\n",
       "  </tbody>\n",
       "</table>\n",
       "</div>"
      ],
      "text/plain": [
       "                         title       week            list  rank  \\\n",
       "0            A Wrinkle in Time  2/14/2018  Early & Middle     1   \n",
       "1                       Wonder  2/14/2018  Early & Middle     2   \n",
       "2                  Auggie & Me  2/14/2018  Early & Middle     3   \n",
       "3  The Girl Who Drank the Moon  2/14/2018  Early & Middle     4   \n",
       "\n",
       "              author  price           isbn  \n",
       "0  Madeleine L'Engle   8.99  9781250153272  \n",
       "1       R.J. Palacio  16.99  9781524720193  \n",
       "2       R.J. Palacio  16.99  9781101934852  \n",
       "3     Kelly Barnhill  16.95  9781616205676  "
      ]
     },
     "execution_count": 9,
     "metadata": {},
     "output_type": "execute_result"
    }
   ],
   "source": [
    "%piper df >> select(slice('title', 'isbn')) >> head()"
   ]
  },
  {
   "cell_type": "markdown",
   "metadata": {},
   "source": [
    "### combining rows containing header information"
   ]
  },
  {
   "cell_type": "code",
   "execution_count": 10,
   "metadata": {
    "ExecuteTime": {
     "end_time": "2021-02-26T14:53:22.717258Z",
     "start_time": "2021-02-26T14:53:22.023943Z"
    }
   },
   "outputs": [
    {
     "name": "stderr",
     "output_type": "stream",
     "text": [
      "2155 rows, 12 columns\n"
     ]
    },
    {
     "data": {
      "text/html": [
       "<div>\n",
       "<style scoped>\n",
       "    .dataframe tbody tr th:only-of-type {\n",
       "        vertical-align: middle;\n",
       "    }\n",
       "\n",
       "    .dataframe tbody tr th {\n",
       "        vertical-align: top;\n",
       "    }\n",
       "\n",
       "    .dataframe thead th {\n",
       "        text-align: right;\n",
       "    }\n",
       "</style>\n",
       "<table border=\"1\" class=\"dataframe\">\n",
       "  <thead>\n",
       "    <tr style=\"text-align: right;\">\n",
       "      <th></th>\n",
       "      <th>0</th>\n",
       "      <th>1</th>\n",
       "      <th>2</th>\n",
       "      <th>3</th>\n",
       "      <th>4</th>\n",
       "      <th>5</th>\n",
       "      <th>6</th>\n",
       "      <th>7</th>\n",
       "      <th>8</th>\n",
       "      <th>9</th>\n",
       "      <th>10</th>\n",
       "      <th>11</th>\n",
       "    </tr>\n",
       "  </thead>\n",
       "  <tbody>\n",
       "    <tr>\n",
       "      <th>0</th>\n",
       "      <td>Order</td>\n",
       "      <td>Customer</td>\n",
       "      <td>Sales</td>\n",
       "      <td>Order</td>\n",
       "      <td>Ship</td>\n",
       "      <td>Order</td>\n",
       "      <td>SKU</td>\n",
       "      <td>Order</td>\n",
       "      <td>Unit Sell</td>\n",
       "      <td>Discount</td>\n",
       "      <td>Shipping</td>\n",
       "      <td>Ship Mode</td>\n",
       "    </tr>\n",
       "    <tr>\n",
       "      <th>1</th>\n",
       "      <td>ID</td>\n",
       "      <td>ID</td>\n",
       "      <td>Person</td>\n",
       "      <td>Date</td>\n",
       "      <td>Date</td>\n",
       "      <td>Priority</td>\n",
       "      <td>Code</td>\n",
       "      <td>Quantity</td>\n",
       "      <td>Price</td>\n",
       "      <td>Percent</td>\n",
       "      <td>Amount</td>\n",
       "      <td>Container</td>\n",
       "    </tr>\n",
       "    <tr>\n",
       "      <th>2</th>\n",
       "      <td>13729</td>\n",
       "      <td>C508</td>\n",
       "      <td>Mr Robert Carlton</td>\n",
       "      <td>2017-01-01 00:00:00</td>\n",
       "      <td>2017-01-03 00:00:00</td>\n",
       "      <td>Not Specified</td>\n",
       "      <td>SKU947</td>\n",
       "      <td>9</td>\n",
       "      <td>95.99</td>\n",
       "      <td>0.08</td>\n",
       "      <td>35</td>\n",
       "      <td>Express Air - Large Box</td>\n",
       "    </tr>\n",
       "    <tr>\n",
       "      <th>3</th>\n",
       "      <td>28774</td>\n",
       "      <td>C372</td>\n",
       "      <td>Miss Roseanna Marr</td>\n",
       "      <td>2017-01-01 00:00:00</td>\n",
       "      <td>2017-01-02 00:00:00</td>\n",
       "      <td>High</td>\n",
       "      <td>SKU937</td>\n",
       "      <td>32</td>\n",
       "      <td>5.98</td>\n",
       "      <td>0.1</td>\n",
       "      <td>4.69</td>\n",
       "      <td>Regular Air - Small Box</td>\n",
       "    </tr>\n",
       "  </tbody>\n",
       "</table>\n",
       "</div>"
      ],
      "text/plain": [
       "      0         1                   2                    3   \\\n",
       "0  Order  Customer               Sales                Order   \n",
       "1     ID        ID              Person                 Date   \n",
       "2  13729      C508   Mr Robert Carlton  2017-01-01 00:00:00   \n",
       "3  28774      C372  Miss Roseanna Marr  2017-01-01 00:00:00   \n",
       "\n",
       "                    4              5       6         7          8         9   \\\n",
       "0                 Ship          Order     SKU     Order  Unit Sell  Discount   \n",
       "1                 Date       Priority    Code  Quantity      Price   Percent   \n",
       "2  2017-01-03 00:00:00  Not Specified  SKU947         9      95.99      0.08   \n",
       "3  2017-01-02 00:00:00           High  SKU937        32       5.98       0.1   \n",
       "\n",
       "         10                       11  \n",
       "0  Shipping                Ship Mode  \n",
       "1    Amount                Container  \n",
       "2        35  Express Air - Large Box  \n",
       "3      4.69  Regular Air - Small Box  "
      ]
     },
     "execution_count": 10,
     "metadata": {},
     "output_type": "execute_result"
    }
   ],
   "source": [
    "xl_file = Path('inputs/Data/sales_2017.xlsx')\n",
    "temp_df = pd.read_excel(xl_file, header=None)\n",
    "head(temp_df)"
   ]
  },
  {
   "cell_type": "code",
   "execution_count": 11,
   "metadata": {
    "ExecuteTime": {
     "end_time": "2021-02-26T14:53:23.149881Z",
     "start_time": "2021-02-26T14:53:22.719360Z"
    }
   },
   "outputs": [
    {
     "name": "stderr",
     "output_type": "stream",
     "text": [
      "2153 rows, 12 columns\n"
     ]
    },
    {
     "data": {
      "text/html": [
       "<div>\n",
       "<style scoped>\n",
       "    .dataframe tbody tr th:only-of-type {\n",
       "        vertical-align: middle;\n",
       "    }\n",
       "\n",
       "    .dataframe tbody tr th {\n",
       "        vertical-align: top;\n",
       "    }\n",
       "\n",
       "    .dataframe thead th {\n",
       "        text-align: right;\n",
       "    }\n",
       "</style>\n",
       "<table border=\"1\" class=\"dataframe\">\n",
       "  <thead>\n",
       "    <tr style=\"text-align: right;\">\n",
       "      <th></th>\n",
       "      <th>Order ID</th>\n",
       "      <th>Customer ID</th>\n",
       "      <th>Sales Person</th>\n",
       "      <th>Order Date</th>\n",
       "      <th>Ship Date</th>\n",
       "      <th>Order Priority</th>\n",
       "      <th>SKU Code</th>\n",
       "      <th>Order Quantity</th>\n",
       "      <th>Unit Sell Price</th>\n",
       "      <th>Discount Percent</th>\n",
       "      <th>Shipping Amount</th>\n",
       "      <th>Ship Mode Container</th>\n",
       "    </tr>\n",
       "  </thead>\n",
       "  <tbody>\n",
       "    <tr>\n",
       "      <th>2</th>\n",
       "      <td>13729</td>\n",
       "      <td>C508</td>\n",
       "      <td>Mr Robert Carlton</td>\n",
       "      <td>2017-01-01</td>\n",
       "      <td>2017-01-03</td>\n",
       "      <td>Not Specified</td>\n",
       "      <td>SKU947</td>\n",
       "      <td>9</td>\n",
       "      <td>95.99</td>\n",
       "      <td>0.08</td>\n",
       "      <td>35.00</td>\n",
       "      <td>Express Air - Large Box</td>\n",
       "    </tr>\n",
       "    <tr>\n",
       "      <th>3</th>\n",
       "      <td>28774</td>\n",
       "      <td>C372</td>\n",
       "      <td>Miss Roseanna Marr</td>\n",
       "      <td>2017-01-01</td>\n",
       "      <td>2017-01-02</td>\n",
       "      <td>High</td>\n",
       "      <td>SKU937</td>\n",
       "      <td>32</td>\n",
       "      <td>5.98</td>\n",
       "      <td>0.10</td>\n",
       "      <td>4.69</td>\n",
       "      <td>Regular Air - Small Box</td>\n",
       "    </tr>\n",
       "    <tr>\n",
       "      <th>4</th>\n",
       "      <td>9285</td>\n",
       "      <td>C212</td>\n",
       "      <td>Mr Robert Carlton</td>\n",
       "      <td>2017-01-02</td>\n",
       "      <td>2017-01-04</td>\n",
       "      <td>Critical</td>\n",
       "      <td>SKU363</td>\n",
       "      <td>3</td>\n",
       "      <td>40.98</td>\n",
       "      <td>0.06</td>\n",
       "      <td>2.99</td>\n",
       "      <td>Regular Air - Small Box</td>\n",
       "    </tr>\n",
       "    <tr>\n",
       "      <th>5</th>\n",
       "      <td>37537</td>\n",
       "      <td>C015</td>\n",
       "      <td>Mr Robert Carlton</td>\n",
       "      <td>2017-01-02</td>\n",
       "      <td>2017-01-02</td>\n",
       "      <td>Low</td>\n",
       "      <td>SKU052</td>\n",
       "      <td>4</td>\n",
       "      <td>291.73</td>\n",
       "      <td>0.00</td>\n",
       "      <td>48.80</td>\n",
       "      <td>Delivery Truck - Jumbo Drum</td>\n",
       "    </tr>\n",
       "  </tbody>\n",
       "</table>\n",
       "</div>"
      ],
      "text/plain": [
       "   Order ID Customer ID        Sales Person Order Date  Ship Date  \\\n",
       "2     13729        C508   Mr Robert Carlton 2017-01-01 2017-01-03   \n",
       "3     28774        C372  Miss Roseanna Marr 2017-01-01 2017-01-02   \n",
       "4      9285        C212   Mr Robert Carlton 2017-01-02 2017-01-04   \n",
       "5     37537        C015   Mr Robert Carlton 2017-01-02 2017-01-02   \n",
       "\n",
       "  Order Priority SKU Code  Order Quantity  Unit Sell Price  Discount Percent  \\\n",
       "2  Not Specified   SKU947               9            95.99              0.08   \n",
       "3           High   SKU937              32             5.98              0.10   \n",
       "4       Critical   SKU363               3            40.98              0.06   \n",
       "5            Low   SKU052               4           291.73              0.00   \n",
       "\n",
       "   Shipping Amount          Ship Mode Container  \n",
       "2            35.00      Express Air - Large Box  \n",
       "3             4.69      Regular Air - Small Box  \n",
       "4             2.99      Regular Air - Small Box  \n",
       "5            48.80  Delivery Truck - Jumbo Drum  "
      ]
     },
     "execution_count": 11,
     "metadata": {},
     "output_type": "execute_result"
    }
   ],
   "source": [
    "%%piper\n",
    "pd.read_excel(xl_file, header=None)\n",
    ">> combine_header_rows()\n",
    ">> head()"
   ]
  },
  {
   "cell_type": "markdown",
   "metadata": {
    "ExecuteTime": {
     "end_time": "2020-08-07T18:34:50.657741Z",
     "start_time": "2020-08-07T18:34:50.654732Z"
    }
   },
   "source": [
    "## count() / counts()"
   ]
  },
  {
   "cell_type": "code",
   "execution_count": 12,
   "metadata": {
    "ExecuteTime": {
     "end_time": "2021-02-26T14:53:23.167581Z",
     "start_time": "2021-02-26T14:53:23.151498Z"
    }
   },
   "outputs": [
    {
     "name": "stderr",
     "output_type": "stream",
     "text": [
      "9 rows, 2 columns\n"
     ]
    },
    {
     "data": {
      "text/html": [
       "<div>\n",
       "<style scoped>\n",
       "    .dataframe tbody tr th:only-of-type {\n",
       "        vertical-align: middle;\n",
       "    }\n",
       "\n",
       "    .dataframe tbody tr th {\n",
       "        vertical-align: top;\n",
       "    }\n",
       "\n",
       "    .dataframe thead th {\n",
       "        text-align: right;\n",
       "    }\n",
       "</style>\n",
       "<table border=\"1\" class=\"dataframe\">\n",
       "  <thead>\n",
       "    <tr style=\"text-align: right;\">\n",
       "      <th></th>\n",
       "      <th>index</th>\n",
       "      <th>n</th>\n",
       "    </tr>\n",
       "  </thead>\n",
       "  <tbody>\n",
       "    <tr>\n",
       "      <th>0</th>\n",
       "      <td>title</td>\n",
       "      <td>1300</td>\n",
       "    </tr>\n",
       "    <tr>\n",
       "      <th>1</th>\n",
       "      <td>week</td>\n",
       "      <td>1300</td>\n",
       "    </tr>\n",
       "    <tr>\n",
       "      <th>2</th>\n",
       "      <td>list</td>\n",
       "      <td>1300</td>\n",
       "    </tr>\n",
       "    <tr>\n",
       "      <th>3</th>\n",
       "      <td>rank</td>\n",
       "      <td>1300</td>\n",
       "    </tr>\n",
       "  </tbody>\n",
       "</table>\n",
       "</div>"
      ],
      "text/plain": [
       "   index     n\n",
       "0  title  1300\n",
       "1   week  1300\n",
       "2   list  1300\n",
       "3   rank  1300"
      ]
     },
     "execution_count": 12,
     "metadata": {},
     "output_type": "execute_result"
    }
   ],
   "source": [
    "%piper df >> count() >> head()"
   ]
  },
  {
   "cell_type": "code",
   "execution_count": 13,
   "metadata": {
    "ExecuteTime": {
     "end_time": "2021-02-26T14:53:23.185426Z",
     "start_time": "2021-02-26T14:53:23.169393Z"
    },
    "scrolled": true
   },
   "outputs": [
    {
     "data": {
      "text/html": [
       "<div>\n",
       "<style scoped>\n",
       "    .dataframe tbody tr th:only-of-type {\n",
       "        vertical-align: middle;\n",
       "    }\n",
       "\n",
       "    .dataframe tbody tr th {\n",
       "        vertical-align: top;\n",
       "    }\n",
       "\n",
       "    .dataframe thead th {\n",
       "        text-align: right;\n",
       "    }\n",
       "</style>\n",
       "<table border=\"1\" class=\"dataframe\">\n",
       "  <thead>\n",
       "    <tr style=\"text-align: right;\">\n",
       "      <th></th>\n",
       "      <th>list</th>\n",
       "      <th>n</th>\n",
       "    </tr>\n",
       "  </thead>\n",
       "  <tbody>\n",
       "    <tr>\n",
       "      <th>0</th>\n",
       "      <td>Hardcover Nonfiction</td>\n",
       "      <td>195</td>\n",
       "    </tr>\n",
       "    <tr>\n",
       "      <th>1</th>\n",
       "      <td>Hardcover Fiction</td>\n",
       "      <td>195</td>\n",
       "    </tr>\n",
       "    <tr>\n",
       "      <th>2</th>\n",
       "      <td>Early &amp; Middle</td>\n",
       "      <td>195</td>\n",
       "    </tr>\n",
       "    <tr>\n",
       "      <th>3</th>\n",
       "      <td>Young Adult</td>\n",
       "      <td>195</td>\n",
       "    </tr>\n",
       "    <tr>\n",
       "      <th>4</th>\n",
       "      <td>Trade Paperback Nonfiction</td>\n",
       "      <td>195</td>\n",
       "    </tr>\n",
       "    <tr>\n",
       "      <th>5</th>\n",
       "      <td>Trade Paperback Fiction</td>\n",
       "      <td>195</td>\n",
       "    </tr>\n",
       "    <tr>\n",
       "      <th>6</th>\n",
       "      <td>Mass Market</td>\n",
       "      <td>130</td>\n",
       "    </tr>\n",
       "  </tbody>\n",
       "</table>\n",
       "</div>"
      ],
      "text/plain": [
       "                         list    n\n",
       "0        Hardcover Nonfiction  195\n",
       "1           Hardcover Fiction  195\n",
       "2              Early & Middle  195\n",
       "3                 Young Adult  195\n",
       "4  Trade Paperback Nonfiction  195\n",
       "5     Trade Paperback Fiction  195\n",
       "6                 Mass Market  130"
      ]
     },
     "execution_count": 13,
     "metadata": {},
     "output_type": "execute_result"
    }
   ],
   "source": [
    "count(df.list)"
   ]
  },
  {
   "cell_type": "code",
   "execution_count": 14,
   "metadata": {
    "ExecuteTime": {
     "end_time": "2021-02-26T14:53:23.224755Z",
     "start_time": "2021-02-26T14:53:23.188715Z"
    },
    "scrolled": true
   },
   "outputs": [
    {
     "data": {
      "text/html": [
       "<div>\n",
       "<style scoped>\n",
       "    .dataframe tbody tr th:only-of-type {\n",
       "        vertical-align: middle;\n",
       "    }\n",
       "\n",
       "    .dataframe tbody tr th {\n",
       "        vertical-align: top;\n",
       "    }\n",
       "\n",
       "    .dataframe thead th {\n",
       "        text-align: right;\n",
       "    }\n",
       "</style>\n",
       "<table border=\"1\" class=\"dataframe\">\n",
       "  <thead>\n",
       "    <tr style=\"text-align: right;\">\n",
       "      <th></th>\n",
       "      <th>index</th>\n",
       "      <th>n</th>\n",
       "    </tr>\n",
       "  </thead>\n",
       "  <tbody>\n",
       "    <tr>\n",
       "      <th>0</th>\n",
       "      <td>Hardcover Nonfiction</td>\n",
       "      <td>195</td>\n",
       "    </tr>\n",
       "    <tr>\n",
       "      <th>1</th>\n",
       "      <td>Hardcover Fiction</td>\n",
       "      <td>195</td>\n",
       "    </tr>\n",
       "    <tr>\n",
       "      <th>2</th>\n",
       "      <td>Early &amp; Middle</td>\n",
       "      <td>195</td>\n",
       "    </tr>\n",
       "    <tr>\n",
       "      <th>3</th>\n",
       "      <td>Young Adult</td>\n",
       "      <td>195</td>\n",
       "    </tr>\n",
       "    <tr>\n",
       "      <th>4</th>\n",
       "      <td>Trade Paperback Nonfiction</td>\n",
       "      <td>195</td>\n",
       "    </tr>\n",
       "    <tr>\n",
       "      <th>5</th>\n",
       "      <td>Trade Paperback Fiction</td>\n",
       "      <td>195</td>\n",
       "    </tr>\n",
       "    <tr>\n",
       "      <th>6</th>\n",
       "      <td>Mass Market</td>\n",
       "      <td>130</td>\n",
       "    </tr>\n",
       "    <tr>\n",
       "      <th>7</th>\n",
       "      <td>Total</td>\n",
       "      <td>1300</td>\n",
       "    </tr>\n",
       "  </tbody>\n",
       "</table>\n",
       "</div>"
      ],
      "text/plain": [
       "                        index     n\n",
       "0        Hardcover Nonfiction   195\n",
       "1           Hardcover Fiction   195\n",
       "2              Early & Middle   195\n",
       "3                 Young Adult   195\n",
       "4  Trade Paperback Nonfiction   195\n",
       "5     Trade Paperback Fiction   195\n",
       "6                 Mass Market   130\n",
       "7                       Total  1300"
      ]
     },
     "execution_count": 14,
     "metadata": {},
     "output_type": "execute_result"
    }
   ],
   "source": [
    "%piper df >> count('list', add_total=True)"
   ]
  },
  {
   "cell_type": "code",
   "execution_count": 15,
   "metadata": {
    "ExecuteTime": {
     "end_time": "2021-02-26T14:53:23.244662Z",
     "start_time": "2021-02-26T14:53:23.227184Z"
    },
    "scrolled": true
   },
   "outputs": [
    {
     "data": {
      "text/html": [
       "<div>\n",
       "<style scoped>\n",
       "    .dataframe tbody tr th:only-of-type {\n",
       "        vertical-align: middle;\n",
       "    }\n",
       "\n",
       "    .dataframe tbody tr th {\n",
       "        vertical-align: top;\n",
       "    }\n",
       "\n",
       "    .dataframe thead th {\n",
       "        text-align: right;\n",
       "    }\n",
       "</style>\n",
       "<table border=\"1\" class=\"dataframe\">\n",
       "  <thead>\n",
       "    <tr style=\"text-align: right;\">\n",
       "      <th></th>\n",
       "      <th>index</th>\n",
       "      <th>n</th>\n",
       "    </tr>\n",
       "  </thead>\n",
       "  <tbody>\n",
       "    <tr>\n",
       "      <th>0</th>\n",
       "      <td>title</td>\n",
       "      <td>1300</td>\n",
       "    </tr>\n",
       "    <tr>\n",
       "      <th>1</th>\n",
       "      <td>week</td>\n",
       "      <td>1300</td>\n",
       "    </tr>\n",
       "    <tr>\n",
       "      <th>2</th>\n",
       "      <td>list</td>\n",
       "      <td>1300</td>\n",
       "    </tr>\n",
       "    <tr>\n",
       "      <th>3</th>\n",
       "      <td>rank</td>\n",
       "      <td>1300</td>\n",
       "    </tr>\n",
       "    <tr>\n",
       "      <th>4</th>\n",
       "      <td>author</td>\n",
       "      <td>1300</td>\n",
       "    </tr>\n",
       "    <tr>\n",
       "      <th>5</th>\n",
       "      <td>price</td>\n",
       "      <td>1300</td>\n",
       "    </tr>\n",
       "    <tr>\n",
       "      <th>6</th>\n",
       "      <td>isbn</td>\n",
       "      <td>1300</td>\n",
       "    </tr>\n",
       "    <tr>\n",
       "      <th>7</th>\n",
       "      <td>previous_rank</td>\n",
       "      <td>786</td>\n",
       "    </tr>\n",
       "    <tr>\n",
       "      <th>8</th>\n",
       "      <td>weeks_on_list</td>\n",
       "      <td>910</td>\n",
       "    </tr>\n",
       "  </tbody>\n",
       "</table>\n",
       "</div>"
      ],
      "text/plain": [
       "           index     n\n",
       "0          title  1300\n",
       "1           week  1300\n",
       "2           list  1300\n",
       "3           rank  1300\n",
       "4         author  1300\n",
       "5          price  1300\n",
       "6           isbn  1300\n",
       "7  previous_rank   786\n",
       "8  weeks_on_list   910"
      ]
     },
     "execution_count": 15,
     "metadata": {},
     "output_type": "execute_result"
    }
   ],
   "source": [
    "%%piper \n",
    "counts(df)"
   ]
  },
  {
   "cell_type": "code",
   "execution_count": 16,
   "metadata": {
    "ExecuteTime": {
     "end_time": "2021-02-26T14:53:23.280268Z",
     "start_time": "2021-02-26T14:53:23.246888Z"
    }
   },
   "outputs": [
    {
     "data": {
      "text/html": [
       "<div>\n",
       "<style scoped>\n",
       "    .dataframe tbody tr th:only-of-type {\n",
       "        vertical-align: middle;\n",
       "    }\n",
       "\n",
       "    .dataframe tbody tr th {\n",
       "        vertical-align: top;\n",
       "    }\n",
       "\n",
       "    .dataframe thead th {\n",
       "        text-align: right;\n",
       "    }\n",
       "</style>\n",
       "<table border=\"1\" class=\"dataframe\">\n",
       "  <thead>\n",
       "    <tr style=\"text-align: right;\">\n",
       "      <th></th>\n",
       "      <th>list</th>\n",
       "      <th>n</th>\n",
       "      <th>%</th>\n",
       "      <th>cum %</th>\n",
       "    </tr>\n",
       "  </thead>\n",
       "  <tbody>\n",
       "    <tr>\n",
       "      <th>0</th>\n",
       "      <td>Early &amp; Middle</td>\n",
       "      <td>195</td>\n",
       "      <td>15.0</td>\n",
       "      <td>15.0</td>\n",
       "    </tr>\n",
       "    <tr>\n",
       "      <th>1</th>\n",
       "      <td>Hardcover Fiction</td>\n",
       "      <td>195</td>\n",
       "      <td>15.0</td>\n",
       "      <td>30.0</td>\n",
       "    </tr>\n",
       "    <tr>\n",
       "      <th>2</th>\n",
       "      <td>Hardcover Nonfiction</td>\n",
       "      <td>195</td>\n",
       "      <td>15.0</td>\n",
       "      <td>45.0</td>\n",
       "    </tr>\n",
       "    <tr>\n",
       "      <th>3</th>\n",
       "      <td>Trade Paperback Fiction</td>\n",
       "      <td>195</td>\n",
       "      <td>15.0</td>\n",
       "      <td>60.0</td>\n",
       "    </tr>\n",
       "    <tr>\n",
       "      <th>4</th>\n",
       "      <td>Trade Paperback Nonfiction</td>\n",
       "      <td>195</td>\n",
       "      <td>15.0</td>\n",
       "      <td>75.0</td>\n",
       "    </tr>\n",
       "    <tr>\n",
       "      <th>5</th>\n",
       "      <td>Young Adult</td>\n",
       "      <td>195</td>\n",
       "      <td>15.0</td>\n",
       "      <td>90.0</td>\n",
       "    </tr>\n",
       "    <tr>\n",
       "      <th>6</th>\n",
       "      <td>Mass Market</td>\n",
       "      <td>130</td>\n",
       "      <td>10.0</td>\n",
       "      <td>100.0</td>\n",
       "    </tr>\n",
       "  </tbody>\n",
       "</table>\n",
       "</div>"
      ],
      "text/plain": [
       "                         list    n     %  cum %\n",
       "0              Early & Middle  195  15.0   15.0\n",
       "1           Hardcover Fiction  195  15.0   30.0\n",
       "2        Hardcover Nonfiction  195  15.0   45.0\n",
       "3     Trade Paperback Fiction  195  15.0   60.0\n",
       "4  Trade Paperback Nonfiction  195  15.0   75.0\n",
       "5                 Young Adult  195  15.0   90.0\n",
       "6                 Mass Market  130  10.0  100.0"
      ]
     },
     "execution_count": 16,
     "metadata": {},
     "output_type": "execute_result"
    }
   ],
   "source": [
    "%piper df >> counts(['list'], percent=True, cum_percent=True, reset_index=True)"
   ]
  },
  {
   "cell_type": "code",
   "execution_count": 17,
   "metadata": {
    "ExecuteTime": {
     "end_time": "2021-02-26T14:53:23.317193Z",
     "start_time": "2021-02-26T14:53:23.282420Z"
    },
    "scrolled": true
   },
   "outputs": [
    {
     "data": {
      "text/html": [
       "<div>\n",
       "<style scoped>\n",
       "    .dataframe tbody tr th:only-of-type {\n",
       "        vertical-align: middle;\n",
       "    }\n",
       "\n",
       "    .dataframe tbody tr th {\n",
       "        vertical-align: top;\n",
       "    }\n",
       "\n",
       "    .dataframe thead th {\n",
       "        text-align: right;\n",
       "    }\n",
       "</style>\n",
       "<table border=\"1\" class=\"dataframe\">\n",
       "  <thead>\n",
       "    <tr style=\"text-align: right;\">\n",
       "      <th></th>\n",
       "      <th>weeks_on_list</th>\n",
       "      <th>n</th>\n",
       "    </tr>\n",
       "  </thead>\n",
       "  <tbody>\n",
       "    <tr>\n",
       "      <th>0</th>\n",
       "      <td>(0.823, 18.6]</td>\n",
       "      <td>572</td>\n",
       "    </tr>\n",
       "    <tr>\n",
       "      <th>1</th>\n",
       "      <td>(18.6, 36.2]</td>\n",
       "      <td>144</td>\n",
       "    </tr>\n",
       "    <tr>\n",
       "      <th>2</th>\n",
       "      <td>(36.2, 53.8]</td>\n",
       "      <td>110</td>\n",
       "    </tr>\n",
       "    <tr>\n",
       "      <th>3</th>\n",
       "      <td>(71.4, 89.0]</td>\n",
       "      <td>43</td>\n",
       "    </tr>\n",
       "    <tr>\n",
       "      <th>4</th>\n",
       "      <td>(53.8, 71.4]</td>\n",
       "      <td>23</td>\n",
       "    </tr>\n",
       "    <tr>\n",
       "      <th>5</th>\n",
       "      <td>(124.2, 141.8]</td>\n",
       "      <td>13</td>\n",
       "    </tr>\n",
       "    <tr>\n",
       "      <th>6</th>\n",
       "      <td>(159.4, 177.0]</td>\n",
       "      <td>3</td>\n",
       "    </tr>\n",
       "    <tr>\n",
       "      <th>7</th>\n",
       "      <td>(106.6, 124.2]</td>\n",
       "      <td>2</td>\n",
       "    </tr>\n",
       "    <tr>\n",
       "      <th>8</th>\n",
       "      <td>(89.0, 106.6]</td>\n",
       "      <td>0</td>\n",
       "    </tr>\n",
       "    <tr>\n",
       "      <th>9</th>\n",
       "      <td>(141.8, 159.4]</td>\n",
       "      <td>0</td>\n",
       "    </tr>\n",
       "  </tbody>\n",
       "</table>\n",
       "</div>"
      ],
      "text/plain": [
       "    weeks_on_list    n\n",
       "0   (0.823, 18.6]  572\n",
       "1    (18.6, 36.2]  144\n",
       "2    (36.2, 53.8]  110\n",
       "3    (71.4, 89.0]   43\n",
       "4    (53.8, 71.4]   23\n",
       "5  (124.2, 141.8]   13\n",
       "6  (159.4, 177.0]    3\n",
       "7  (106.6, 124.2]    2\n",
       "8   (89.0, 106.6]    0\n",
       "9  (141.8, 159.4]    0"
      ]
     },
     "execution_count": 17,
     "metadata": {},
     "output_type": "execute_result"
    }
   ],
   "source": [
    "%%piper \n",
    "count(df, 'weeks_on_list', bins=10)"
   ]
  },
  {
   "cell_type": "markdown",
   "metadata": {
    "ExecuteTime": {
     "end_time": "2020-08-07T18:34:50.657741Z",
     "start_time": "2020-08-07T18:34:50.654732Z"
    }
   },
   "source": [
    "## assign()"
   ]
  },
  {
   "cell_type": "code",
   "execution_count": 18,
   "metadata": {
    "ExecuteTime": {
     "end_time": "2021-02-26T14:53:23.356116Z",
     "start_time": "2021-02-26T14:53:23.326140Z"
    }
   },
   "outputs": [
    {
     "name": "stderr",
     "output_type": "stream",
     "text": [
      "1300 rows, 9 columns\n"
     ]
    },
    {
     "data": {
      "text/html": [
       "<div>\n",
       "<style scoped>\n",
       "    .dataframe tbody tr th:only-of-type {\n",
       "        vertical-align: middle;\n",
       "    }\n",
       "\n",
       "    .dataframe tbody tr th {\n",
       "        vertical-align: top;\n",
       "    }\n",
       "\n",
       "    .dataframe thead th {\n",
       "        text-align: right;\n",
       "    }\n",
       "</style>\n",
       "<table border=\"1\" class=\"dataframe\">\n",
       "  <thead>\n",
       "    <tr style=\"text-align: right;\">\n",
       "      <th></th>\n",
       "      <th>title</th>\n",
       "      <th>week</th>\n",
       "      <th>list</th>\n",
       "      <th>rank</th>\n",
       "      <th>author</th>\n",
       "      <th>price</th>\n",
       "      <th>isbn</th>\n",
       "      <th>concatenated_field</th>\n",
       "      <th>price_premium</th>\n",
       "    </tr>\n",
       "  </thead>\n",
       "  <tbody>\n",
       "    <tr>\n",
       "      <th>0</th>\n",
       "      <td>A Wrinkle in Time</td>\n",
       "      <td>2018-02-14</td>\n",
       "      <td>Early &amp; Middle</td>\n",
       "      <td>1</td>\n",
       "      <td>Madeleine L'Engle</td>\n",
       "      <td>8.99</td>\n",
       "      <td>9781250153272</td>\n",
       "      <td>A Wrinkle in Time Early &amp; Middle</td>\n",
       "      <td>35.96</td>\n",
       "    </tr>\n",
       "    <tr>\n",
       "      <th>1</th>\n",
       "      <td>Wonder</td>\n",
       "      <td>2018-02-14</td>\n",
       "      <td>Early &amp; Middle</td>\n",
       "      <td>2</td>\n",
       "      <td>R.J. Palacio</td>\n",
       "      <td>16.99</td>\n",
       "      <td>9781524720193</td>\n",
       "      <td>Wonder Early &amp; Middle</td>\n",
       "      <td>67.96</td>\n",
       "    </tr>\n",
       "    <tr>\n",
       "      <th>2</th>\n",
       "      <td>Auggie &amp; Me</td>\n",
       "      <td>2018-02-14</td>\n",
       "      <td>Early &amp; Middle</td>\n",
       "      <td>3</td>\n",
       "      <td>R.J. Palacio</td>\n",
       "      <td>16.99</td>\n",
       "      <td>9781101934852</td>\n",
       "      <td>Auggie &amp; Me Early &amp; Middle</td>\n",
       "      <td>67.96</td>\n",
       "    </tr>\n",
       "    <tr>\n",
       "      <th>3</th>\n",
       "      <td>The Girl Who Drank the Moon</td>\n",
       "      <td>2018-02-14</td>\n",
       "      <td>Early &amp; Middle</td>\n",
       "      <td>4</td>\n",
       "      <td>Kelly Barnhill</td>\n",
       "      <td>16.95</td>\n",
       "      <td>9781616205676</td>\n",
       "      <td>The Girl Who Drank the Moon Early &amp; Middle</td>\n",
       "      <td>67.80</td>\n",
       "    </tr>\n",
       "  </tbody>\n",
       "</table>\n",
       "</div>"
      ],
      "text/plain": [
       "                         title       week            list  rank  \\\n",
       "0            A Wrinkle in Time 2018-02-14  Early & Middle     1   \n",
       "1                       Wonder 2018-02-14  Early & Middle     2   \n",
       "2                  Auggie & Me 2018-02-14  Early & Middle     3   \n",
       "3  The Girl Who Drank the Moon 2018-02-14  Early & Middle     4   \n",
       "\n",
       "              author  price           isbn  \\\n",
       "0  Madeleine L'Engle   8.99  9781250153272   \n",
       "1       R.J. Palacio  16.99  9781524720193   \n",
       "2       R.J. Palacio  16.99  9781101934852   \n",
       "3     Kelly Barnhill  16.95  9781616205676   \n",
       "\n",
       "                           concatenated_field  price_premium  \n",
       "0            A Wrinkle in Time Early & Middle          35.96  \n",
       "1                       Wonder Early & Middle          67.96  \n",
       "2                  Auggie & Me Early & Middle          67.96  \n",
       "3  The Girl Who Drank the Moon Early & Middle          67.80  "
      ]
     },
     "execution_count": 18,
     "metadata": {},
     "output_type": "execute_result"
    }
   ],
   "source": [
    "%%piper\n",
    "df \n",
    ">> select(slice('title', 'isbn'))\n",
    ">> assign(week=lambda x: pd.to_datetime(x.week),\n",
    "          price=lambda x: x.price.astype(str),\n",
    "          concatenated_field = lambda x: x.title + ' ' + x.list, \n",
    "          price_premium = lambda x: (x.price.astype(float) * 4).round(2)) \n",
    ">> head(4)"
   ]
  },
  {
   "cell_type": "markdown",
   "metadata": {
    "ExecuteTime": {
     "end_time": "2020-08-07T18:34:50.657741Z",
     "start_time": "2020-08-07T18:34:50.654732Z"
    }
   },
   "source": [
    "## to_date()"
   ]
  },
  {
   "cell_type": "markdown",
   "metadata": {
    "ExecuteTime": {
     "end_time": "2020-08-07T18:34:50.657741Z",
     "start_time": "2020-08-07T18:34:50.654732Z"
    }
   },
   "source": [
    "Alternative to using assign for date conversion "
   ]
  },
  {
   "cell_type": "code",
   "execution_count": 19,
   "metadata": {
    "ExecuteTime": {
     "end_time": "2021-02-26T14:53:23.635847Z",
     "start_time": "2021-02-26T14:53:23.358902Z"
    }
   },
   "outputs": [
    {
     "name": "stderr",
     "output_type": "stream",
     "text": [
      "1300 rows, 9 columns\n"
     ]
    },
    {
     "data": {
      "text/html": [
       "<div>\n",
       "<style scoped>\n",
       "    .dataframe tbody tr th:only-of-type {\n",
       "        vertical-align: middle;\n",
       "    }\n",
       "\n",
       "    .dataframe tbody tr th {\n",
       "        vertical-align: top;\n",
       "    }\n",
       "\n",
       "    .dataframe thead th {\n",
       "        text-align: right;\n",
       "    }\n",
       "</style>\n",
       "<table border=\"1\" class=\"dataframe\">\n",
       "  <thead>\n",
       "    <tr style=\"text-align: right;\">\n",
       "      <th></th>\n",
       "      <th>title</th>\n",
       "      <th>week</th>\n",
       "      <th>list</th>\n",
       "      <th>rank</th>\n",
       "      <th>author</th>\n",
       "      <th>price</th>\n",
       "      <th>isbn</th>\n",
       "      <th>previous_rank</th>\n",
       "      <th>weeks_on_list</th>\n",
       "    </tr>\n",
       "  </thead>\n",
       "  <tbody>\n",
       "    <tr>\n",
       "      <th>0</th>\n",
       "      <td>A Wrinkle in Time</td>\n",
       "      <td>2018-02-14</td>\n",
       "      <td>Early &amp; Middle</td>\n",
       "      <td>1</td>\n",
       "      <td>Madeleine L'Engle</td>\n",
       "      <td>8.99</td>\n",
       "      <td>9781250153272</td>\n",
       "      <td>NaN</td>\n",
       "      <td>NaN</td>\n",
       "    </tr>\n",
       "    <tr>\n",
       "      <th>1</th>\n",
       "      <td>Wonder</td>\n",
       "      <td>2018-02-14</td>\n",
       "      <td>Early &amp; Middle</td>\n",
       "      <td>2</td>\n",
       "      <td>R.J. Palacio</td>\n",
       "      <td>16.99</td>\n",
       "      <td>9781524720193</td>\n",
       "      <td>NaN</td>\n",
       "      <td>NaN</td>\n",
       "    </tr>\n",
       "    <tr>\n",
       "      <th>2</th>\n",
       "      <td>Auggie &amp; Me</td>\n",
       "      <td>2018-02-14</td>\n",
       "      <td>Early &amp; Middle</td>\n",
       "      <td>3</td>\n",
       "      <td>R.J. Palacio</td>\n",
       "      <td>16.99</td>\n",
       "      <td>9781101934852</td>\n",
       "      <td>NaN</td>\n",
       "      <td>NaN</td>\n",
       "    </tr>\n",
       "    <tr>\n",
       "      <th>3</th>\n",
       "      <td>The Girl Who Drank the Moon</td>\n",
       "      <td>2018-02-14</td>\n",
       "      <td>Early &amp; Middle</td>\n",
       "      <td>4</td>\n",
       "      <td>Kelly Barnhill</td>\n",
       "      <td>16.95</td>\n",
       "      <td>9781616205676</td>\n",
       "      <td>NaN</td>\n",
       "      <td>NaN</td>\n",
       "    </tr>\n",
       "  </tbody>\n",
       "</table>\n",
       "</div>"
      ],
      "text/plain": [
       "                         title        week            list  rank  \\\n",
       "0            A Wrinkle in Time  2018-02-14  Early & Middle     1   \n",
       "1                       Wonder  2018-02-14  Early & Middle     2   \n",
       "2                  Auggie & Me  2018-02-14  Early & Middle     3   \n",
       "3  The Girl Who Drank the Moon  2018-02-14  Early & Middle     4   \n",
       "\n",
       "              author  price           isbn  previous_rank  weeks_on_list  \n",
       "0  Madeleine L'Engle   8.99  9781250153272            NaN            NaN  \n",
       "1       R.J. Palacio  16.99  9781524720193            NaN            NaN  \n",
       "2       R.J. Palacio  16.99  9781101934852            NaN            NaN  \n",
       "3     Kelly Barnhill  16.95  9781616205676            NaN            NaN  "
      ]
     },
     "execution_count": 19,
     "metadata": {},
     "output_type": "execute_result"
    }
   ],
   "source": [
    "%piper df >> to_date('week', format='%m/%d/%Y') >> head()"
   ]
  },
  {
   "cell_type": "markdown",
   "metadata": {
    "ExecuteTime": {
     "end_time": "2020-08-07T18:34:50.657741Z",
     "start_time": "2020-08-07T18:34:50.654732Z"
    }
   },
   "source": [
    "## relocate()"
   ]
  },
  {
   "cell_type": "code",
   "execution_count": 20,
   "metadata": {
    "ExecuteTime": {
     "end_time": "2021-02-26T14:53:23.678914Z",
     "start_time": "2021-02-26T14:53:23.637891Z"
    }
   },
   "outputs": [
    {
     "name": "stderr",
     "output_type": "stream",
     "text": [
      "1300 rows, 9 columns\n"
     ]
    },
    {
     "data": {
      "text/html": [
       "<div>\n",
       "<style scoped>\n",
       "    .dataframe tbody tr th:only-of-type {\n",
       "        vertical-align: middle;\n",
       "    }\n",
       "\n",
       "    .dataframe tbody tr th {\n",
       "        vertical-align: top;\n",
       "    }\n",
       "\n",
       "    .dataframe thead th {\n",
       "        text-align: right;\n",
       "    }\n",
       "</style>\n",
       "<table border=\"1\" class=\"dataframe\">\n",
       "  <thead>\n",
       "    <tr style=\"text-align: right;\">\n",
       "      <th></th>\n",
       "      <th>author</th>\n",
       "      <th>title</th>\n",
       "      <th>week</th>\n",
       "      <th>concatenated_field</th>\n",
       "      <th>price_premium</th>\n",
       "      <th>isbn</th>\n",
       "      <th>list</th>\n",
       "      <th>rank</th>\n",
       "      <th>price</th>\n",
       "    </tr>\n",
       "  </thead>\n",
       "  <tbody>\n",
       "    <tr>\n",
       "      <th>0</th>\n",
       "      <td>Madeleine L'Engle</td>\n",
       "      <td>A Wrinkle in Time</td>\n",
       "      <td>2018-02-14</td>\n",
       "      <td>A Wrinkle in Time Early &amp; Middle</td>\n",
       "      <td>35.96</td>\n",
       "      <td>9781250153272</td>\n",
       "      <td>Early &amp; Middle</td>\n",
       "      <td>1</td>\n",
       "      <td>8.99</td>\n",
       "    </tr>\n",
       "    <tr>\n",
       "      <th>1</th>\n",
       "      <td>R.J. Palacio</td>\n",
       "      <td>Wonder</td>\n",
       "      <td>2018-02-14</td>\n",
       "      <td>Wonder Early &amp; Middle</td>\n",
       "      <td>67.96</td>\n",
       "      <td>9781524720193</td>\n",
       "      <td>Early &amp; Middle</td>\n",
       "      <td>2</td>\n",
       "      <td>16.99</td>\n",
       "    </tr>\n",
       "    <tr>\n",
       "      <th>2</th>\n",
       "      <td>R.J. Palacio</td>\n",
       "      <td>Auggie &amp; Me</td>\n",
       "      <td>2018-02-14</td>\n",
       "      <td>Auggie &amp; Me Early &amp; Middle</td>\n",
       "      <td>67.96</td>\n",
       "      <td>9781101934852</td>\n",
       "      <td>Early &amp; Middle</td>\n",
       "      <td>3</td>\n",
       "      <td>16.99</td>\n",
       "    </tr>\n",
       "    <tr>\n",
       "      <th>3</th>\n",
       "      <td>Kelly Barnhill</td>\n",
       "      <td>The Girl Who Drank the Moon</td>\n",
       "      <td>2018-02-14</td>\n",
       "      <td>The Girl Who Drank the Moon Early &amp; Middle</td>\n",
       "      <td>67.80</td>\n",
       "      <td>9781616205676</td>\n",
       "      <td>Early &amp; Middle</td>\n",
       "      <td>4</td>\n",
       "      <td>16.95</td>\n",
       "    </tr>\n",
       "  </tbody>\n",
       "</table>\n",
       "</div>"
      ],
      "text/plain": [
       "              author                        title       week  \\\n",
       "0  Madeleine L'Engle            A Wrinkle in Time 2018-02-14   \n",
       "1       R.J. Palacio                       Wonder 2018-02-14   \n",
       "2       R.J. Palacio                  Auggie & Me 2018-02-14   \n",
       "3     Kelly Barnhill  The Girl Who Drank the Moon 2018-02-14   \n",
       "\n",
       "                           concatenated_field  price_premium           isbn  \\\n",
       "0            A Wrinkle in Time Early & Middle          35.96  9781250153272   \n",
       "1                       Wonder Early & Middle          67.96  9781524720193   \n",
       "2                  Auggie & Me Early & Middle          67.96  9781101934852   \n",
       "3  The Girl Who Drank the Moon Early & Middle          67.80  9781616205676   \n",
       "\n",
       "             list  rank  price  \n",
       "0  Early & Middle     1   8.99  \n",
       "1  Early & Middle     2  16.99  \n",
       "2  Early & Middle     3  16.99  \n",
       "3  Early & Middle     4  16.95  "
      ]
     },
     "execution_count": 20,
     "metadata": {},
     "output_type": "execute_result"
    }
   ],
   "source": [
    "%%piper\n",
    "df >>\n",
    "select(slice('title', 'isbn')) >>\n",
    "assign(week=lambda x: pd.to_datetime(x.week),\n",
    "       price=lambda x: x.price.astype(str),\n",
    "       concatenated_field = lambda x: x.title + ' ' + x.list, \n",
    "       price_premium = lambda x: (x.price.astype(float) * 4).round(2))\n",
    ">> relocate('author', loc='first')\n",
    ">> relocate('isbn', loc='after', ref_column='week')\n",
    ">> relocate(['concatenated_field', 'price_premium'], loc='before', ref_column='isbn')\n",
    ">> head(4)"
   ]
  },
  {
   "cell_type": "markdown",
   "metadata": {
    "ExecuteTime": {
     "end_time": "2020-08-07T18:34:50.657741Z",
     "start_time": "2020-08-07T18:34:50.654732Z"
    }
   },
   "source": [
    "## where()"
   ]
  },
  {
   "cell_type": "markdown",
   "metadata": {
    "ExecuteTime": {
     "end_time": "2020-08-07T18:34:50.657741Z",
     "start_time": "2020-08-07T18:34:50.654732Z"
    }
   },
   "source": [
    "### ==, between, isin, startswith, endswith, contains etc."
   ]
  },
  {
   "cell_type": "markdown",
   "metadata": {},
   "source": [
    "Note how you can mix and match where clauses with assignments and add additional where clauses when needed."
   ]
  },
  {
   "cell_type": "code",
   "execution_count": 21,
   "metadata": {
    "ExecuteTime": {
     "end_time": "2021-02-26T14:53:23.729181Z",
     "start_time": "2021-02-26T14:53:23.680846Z"
    }
   },
   "outputs": [
    {
     "name": "stderr",
     "output_type": "stream",
     "text": [
      "20 rows, 7 columns\n"
     ]
    },
    {
     "data": {
      "text/html": [
       "<div>\n",
       "<style scoped>\n",
       "    .dataframe tbody tr th:only-of-type {\n",
       "        vertical-align: middle;\n",
       "    }\n",
       "\n",
       "    .dataframe tbody tr th {\n",
       "        vertical-align: top;\n",
       "    }\n",
       "\n",
       "    .dataframe thead th {\n",
       "        text-align: right;\n",
       "    }\n",
       "</style>\n",
       "<table border=\"1\" class=\"dataframe\">\n",
       "  <thead>\n",
       "    <tr style=\"text-align: right;\">\n",
       "      <th></th>\n",
       "      <th>title</th>\n",
       "      <th>week</th>\n",
       "      <th>list</th>\n",
       "      <th>rank</th>\n",
       "      <th>author</th>\n",
       "      <th>price</th>\n",
       "      <th>isbn</th>\n",
       "    </tr>\n",
       "  </thead>\n",
       "  <tbody>\n",
       "    <tr>\n",
       "      <th>1</th>\n",
       "      <td>Wonder</td>\n",
       "      <td>2018-02-14</td>\n",
       "      <td>Early &amp; Middle</td>\n",
       "      <td>2</td>\n",
       "      <td>R.J. Palacio</td>\n",
       "      <td>16.99</td>\n",
       "      <td>9781524720193</td>\n",
       "    </tr>\n",
       "    <tr>\n",
       "      <th>2</th>\n",
       "      <td>Auggie &amp; Me</td>\n",
       "      <td>2018-02-14</td>\n",
       "      <td>Early &amp; Middle</td>\n",
       "      <td>3</td>\n",
       "      <td>R.J. Palacio</td>\n",
       "      <td>16.99</td>\n",
       "      <td>9781101934852</td>\n",
       "    </tr>\n",
       "  </tbody>\n",
       "</table>\n",
       "</div>"
      ],
      "text/plain": [
       "         title       week            list  rank        author  price  \\\n",
       "1       Wonder 2018-02-14  Early & Middle     2  R.J. Palacio  16.99   \n",
       "2  Auggie & Me 2018-02-14  Early & Middle     3  R.J. Palacio  16.99   \n",
       "\n",
       "            isbn  \n",
       "1  9781524720193  \n",
       "2  9781101934852  "
      ]
     },
     "execution_count": 21,
     "metadata": {},
     "output_type": "execute_result"
    }
   ],
   "source": [
    "%%piper\n",
    "df \n",
    ">> select(slice('title', 'isbn')) \n",
    ">> where(\" author.str.strip() == 'R.J. Palacio' \")\n",
    ">> assign(week=lambda x: pd.to_datetime(x.week),\n",
    "          price=lambda x: x.price.astype(str))\n",
    ">> where(\" rank.between(2, 4) & price.astype('float').between(14, 17) \")\n",
    ">> head(2)"
   ]
  },
  {
   "cell_type": "code",
   "execution_count": 22,
   "metadata": {
    "ExecuteTime": {
     "end_time": "2021-02-26T14:53:23.761109Z",
     "start_time": "2021-02-26T14:53:23.731529Z"
    }
   },
   "outputs": [
    {
     "name": "stderr",
     "output_type": "stream",
     "text": [
      "390 rows, 7 columns\n"
     ]
    },
    {
     "data": {
      "text/html": [
       "<div>\n",
       "<style scoped>\n",
       "    .dataframe tbody tr th:only-of-type {\n",
       "        vertical-align: middle;\n",
       "    }\n",
       "\n",
       "    .dataframe tbody tr th {\n",
       "        vertical-align: top;\n",
       "    }\n",
       "\n",
       "    .dataframe thead th {\n",
       "        text-align: right;\n",
       "    }\n",
       "</style>\n",
       "<table border=\"1\" class=\"dataframe\">\n",
       "  <thead>\n",
       "    <tr style=\"text-align: right;\">\n",
       "      <th></th>\n",
       "      <th>title</th>\n",
       "      <th>week</th>\n",
       "      <th>list_</th>\n",
       "      <th>rank</th>\n",
       "      <th>author</th>\n",
       "      <th>price</th>\n",
       "      <th>isbn</th>\n",
       "    </tr>\n",
       "  </thead>\n",
       "  <tbody>\n",
       "    <tr>\n",
       "      <th>0</th>\n",
       "      <td>A Wrinkle in Time</td>\n",
       "      <td>2018-02-14</td>\n",
       "      <td>Early &amp; Middle</td>\n",
       "      <td>1</td>\n",
       "      <td>Madeleine L'Engle</td>\n",
       "      <td>8.99</td>\n",
       "      <td>9781250153272</td>\n",
       "    </tr>\n",
       "    <tr>\n",
       "      <th>1</th>\n",
       "      <td>Wonder</td>\n",
       "      <td>2018-02-14</td>\n",
       "      <td>Early &amp; Middle</td>\n",
       "      <td>2</td>\n",
       "      <td>R.J. Palacio</td>\n",
       "      <td>16.99</td>\n",
       "      <td>9781524720193</td>\n",
       "    </tr>\n",
       "    <tr>\n",
       "      <th>2</th>\n",
       "      <td>Auggie &amp; Me</td>\n",
       "      <td>2018-02-14</td>\n",
       "      <td>Early &amp; Middle</td>\n",
       "      <td>3</td>\n",
       "      <td>R.J. Palacio</td>\n",
       "      <td>16.99</td>\n",
       "      <td>9781101934852</td>\n",
       "    </tr>\n",
       "    <tr>\n",
       "      <th>3</th>\n",
       "      <td>The Girl Who Drank the Moon</td>\n",
       "      <td>2018-02-14</td>\n",
       "      <td>Early &amp; Middle</td>\n",
       "      <td>4</td>\n",
       "      <td>Kelly Barnhill</td>\n",
       "      <td>16.95</td>\n",
       "      <td>9781616205676</td>\n",
       "    </tr>\n",
       "  </tbody>\n",
       "</table>\n",
       "</div>"
      ],
      "text/plain": [
       "                         title        week           list_  rank  \\\n",
       "0            A Wrinkle in Time  2018-02-14  Early & Middle     1   \n",
       "1                       Wonder  2018-02-14  Early & Middle     2   \n",
       "2                  Auggie & Me  2018-02-14  Early & Middle     3   \n",
       "3  The Girl Who Drank the Moon  2018-02-14  Early & Middle     4   \n",
       "\n",
       "              author  price           isbn  \n",
       "0  Madeleine L'Engle   8.99  9781250153272  \n",
       "1       R.J. Palacio  16.99  9781524720193  \n",
       "2       R.J. Palacio  16.99  9781101934852  \n",
       "3     Kelly Barnhill  16.95  9781616205676  "
      ]
     },
     "execution_count": 22,
     "metadata": {},
     "output_type": "execute_result"
    }
   ],
   "source": [
    "%%piper\n",
    "df >> select(slice('title', 'isbn'))\n",
    ">> rename(columns={'list': 'list_'}) \n",
    ">> where(\" list_.isin(['Early & Middle', 'Trade Paperback Nonfiction']) \") \n",
    ">> head(4)"
   ]
  },
  {
   "cell_type": "code",
   "execution_count": 23,
   "metadata": {
    "ExecuteTime": {
     "end_time": "2021-02-26T14:53:23.797629Z",
     "start_time": "2021-02-26T14:53:23.767180Z"
    }
   },
   "outputs": [
    {
     "name": "stderr",
     "output_type": "stream",
     "text": [
      "975 rows, 7 columns\n"
     ]
    },
    {
     "data": {
      "text/html": [
       "<div>\n",
       "<style scoped>\n",
       "    .dataframe tbody tr th:only-of-type {\n",
       "        vertical-align: middle;\n",
       "    }\n",
       "\n",
       "    .dataframe tbody tr th {\n",
       "        vertical-align: top;\n",
       "    }\n",
       "\n",
       "    .dataframe thead th {\n",
       "        text-align: right;\n",
       "    }\n",
       "</style>\n",
       "<table border=\"1\" class=\"dataframe\">\n",
       "  <thead>\n",
       "    <tr style=\"text-align: right;\">\n",
       "      <th></th>\n",
       "      <th>title</th>\n",
       "      <th>week</th>\n",
       "      <th>list_</th>\n",
       "      <th>rank</th>\n",
       "      <th>author</th>\n",
       "      <th>price</th>\n",
       "      <th>isbn</th>\n",
       "    </tr>\n",
       "  </thead>\n",
       "  <tbody>\n",
       "    <tr>\n",
       "      <th>0</th>\n",
       "      <td>A Wrinkle in Time</td>\n",
       "      <td>2018-02-14</td>\n",
       "      <td>Early &amp; Middle</td>\n",
       "      <td>1</td>\n",
       "      <td>Madeleine L'Engle</td>\n",
       "      <td>8.99</td>\n",
       "      <td>9781250153272</td>\n",
       "    </tr>\n",
       "    <tr>\n",
       "      <th>1</th>\n",
       "      <td>Wonder</td>\n",
       "      <td>2018-02-14</td>\n",
       "      <td>Early &amp; Middle</td>\n",
       "      <td>2</td>\n",
       "      <td>R.J. Palacio</td>\n",
       "      <td>16.99</td>\n",
       "      <td>9781524720193</td>\n",
       "    </tr>\n",
       "  </tbody>\n",
       "</table>\n",
       "</div>"
      ],
      "text/plain": [
       "               title        week           list_  rank             author  \\\n",
       "0  A Wrinkle in Time  2018-02-14  Early & Middle     1  Madeleine L'Engle   \n",
       "1             Wonder  2018-02-14  Early & Middle     2       R.J. Palacio   \n",
       "\n",
       "   price           isbn  \n",
       "0   8.99  9781250153272  \n",
       "1  16.99  9781524720193  "
      ]
     },
     "execution_count": 23,
     "metadata": {},
     "output_type": "execute_result"
    }
   ],
   "source": [
    "%%piper\n",
    "df >> select(slice('title', 'isbn'))\n",
    ">> rename(columns={'list': 'list_'}) \n",
    ">> where(\" list_.str.startswith('Early') | list_.str.endswith('ion') \") \n",
    ">> head(2)"
   ]
  },
  {
   "cell_type": "code",
   "execution_count": 24,
   "metadata": {
    "ExecuteTime": {
     "end_time": "2021-02-26T14:53:23.833469Z",
     "start_time": "2021-02-26T14:53:23.800518Z"
    }
   },
   "outputs": [
    {
     "name": "stderr",
     "output_type": "stream",
     "text": [
      "195 rows, 7 columns\n"
     ]
    },
    {
     "data": {
      "text/html": [
       "<div>\n",
       "<style scoped>\n",
       "    .dataframe tbody tr th:only-of-type {\n",
       "        vertical-align: middle;\n",
       "    }\n",
       "\n",
       "    .dataframe tbody tr th {\n",
       "        vertical-align: top;\n",
       "    }\n",
       "\n",
       "    .dataframe thead th {\n",
       "        text-align: right;\n",
       "    }\n",
       "</style>\n",
       "<table border=\"1\" class=\"dataframe\">\n",
       "  <thead>\n",
       "    <tr style=\"text-align: right;\">\n",
       "      <th></th>\n",
       "      <th>title</th>\n",
       "      <th>week</th>\n",
       "      <th>list_</th>\n",
       "      <th>rank</th>\n",
       "      <th>author</th>\n",
       "      <th>price</th>\n",
       "      <th>isbn</th>\n",
       "    </tr>\n",
       "  </thead>\n",
       "  <tbody>\n",
       "    <tr>\n",
       "      <th>85</th>\n",
       "      <td>The Hate U Give</td>\n",
       "      <td>2018-02-14</td>\n",
       "      <td>Young Adult</td>\n",
       "      <td>1</td>\n",
       "      <td>Angie Thomas</td>\n",
       "      <td>17.99</td>\n",
       "      <td>9780062498533</td>\n",
       "    </tr>\n",
       "    <tr>\n",
       "      <th>86</th>\n",
       "      <td>Turtles All the Way Down</td>\n",
       "      <td>2018-02-14</td>\n",
       "      <td>Young Adult</td>\n",
       "      <td>2</td>\n",
       "      <td>John Green</td>\n",
       "      <td>19.99</td>\n",
       "      <td>9780525555360</td>\n",
       "    </tr>\n",
       "    <tr>\n",
       "      <th>87</th>\n",
       "      <td>Tempests and Slaughter</td>\n",
       "      <td>2018-02-14</td>\n",
       "      <td>Young Adult</td>\n",
       "      <td>3</td>\n",
       "      <td>Tamora Pierce</td>\n",
       "      <td>18.99</td>\n",
       "      <td>9780375847110</td>\n",
       "    </tr>\n",
       "    <tr>\n",
       "      <th>88</th>\n",
       "      <td>Every Day</td>\n",
       "      <td>2018-02-14</td>\n",
       "      <td>Young Adult</td>\n",
       "      <td>4</td>\n",
       "      <td>David Levithan</td>\n",
       "      <td>10.99</td>\n",
       "      <td>9780525581611</td>\n",
       "    </tr>\n",
       "  </tbody>\n",
       "</table>\n",
       "</div>"
      ],
      "text/plain": [
       "                       title        week        list_  rank          author  \\\n",
       "85           The Hate U Give  2018-02-14  Young Adult     1    Angie Thomas   \n",
       "86  Turtles All the Way Down  2018-02-14  Young Adult     2      John Green   \n",
       "87    Tempests and Slaughter  2018-02-14  Young Adult     3   Tamora Pierce   \n",
       "88                 Every Day  2018-02-14  Young Adult     4  David Levithan   \n",
       "\n",
       "    price           isbn  \n",
       "85  17.99  9780062498533  \n",
       "86  19.99  9780525555360  \n",
       "87  18.99  9780375847110  \n",
       "88  10.99  9780525581611  "
      ]
     },
     "execution_count": 24,
     "metadata": {},
     "output_type": "execute_result"
    }
   ],
   "source": [
    "%%piper\n",
    "df >> select(slice('title', 'isbn'))\n",
    ">> rename(columns={'list': 'list_'}) \n",
    ">> where(\" list_.str.lower().str.contains('young') \")\n",
    ">> head(4)"
   ]
  },
  {
   "cell_type": "markdown",
   "metadata": {
    "ExecuteTime": {
     "end_time": "2020-08-07T18:34:50.657741Z",
     "start_time": "2020-08-07T18:34:50.654732Z"
    }
   },
   "source": [
    "## distinct()"
   ]
  },
  {
   "cell_type": "code",
   "execution_count": 25,
   "metadata": {
    "ExecuteTime": {
     "end_time": "2021-02-26T14:53:23.853515Z",
     "start_time": "2021-02-26T14:53:23.835197Z"
    }
   },
   "outputs": [
    {
     "name": "stderr",
     "output_type": "stream",
     "text": [
      "229 rows, 9 columns\n"
     ]
    },
    {
     "data": {
      "text/html": [
       "<div>\n",
       "<style scoped>\n",
       "    .dataframe tbody tr th:only-of-type {\n",
       "        vertical-align: middle;\n",
       "    }\n",
       "\n",
       "    .dataframe tbody tr th {\n",
       "        vertical-align: top;\n",
       "    }\n",
       "\n",
       "    .dataframe thead th {\n",
       "        text-align: right;\n",
       "    }\n",
       "</style>\n",
       "<table border=\"1\" class=\"dataframe\">\n",
       "  <thead>\n",
       "    <tr style=\"text-align: right;\">\n",
       "      <th></th>\n",
       "      <th>title</th>\n",
       "      <th>week</th>\n",
       "      <th>list</th>\n",
       "      <th>rank</th>\n",
       "      <th>author</th>\n",
       "      <th>price</th>\n",
       "      <th>isbn</th>\n",
       "      <th>previous_rank</th>\n",
       "      <th>weeks_on_list</th>\n",
       "    </tr>\n",
       "  </thead>\n",
       "  <tbody>\n",
       "    <tr>\n",
       "      <th>0</th>\n",
       "      <td>A Wrinkle in Time</td>\n",
       "      <td>2018-02-14</td>\n",
       "      <td>Early &amp; Middle</td>\n",
       "      <td>1</td>\n",
       "      <td>Madeleine L'Engle</td>\n",
       "      <td>8.99</td>\n",
       "      <td>9781250153272</td>\n",
       "      <td>NaN</td>\n",
       "      <td>NaN</td>\n",
       "    </tr>\n",
       "    <tr>\n",
       "      <th>1</th>\n",
       "      <td>Wonder</td>\n",
       "      <td>2018-02-14</td>\n",
       "      <td>Early &amp; Middle</td>\n",
       "      <td>2</td>\n",
       "      <td>R.J. Palacio</td>\n",
       "      <td>16.99</td>\n",
       "      <td>9781524720193</td>\n",
       "      <td>NaN</td>\n",
       "      <td>NaN</td>\n",
       "    </tr>\n",
       "    <tr>\n",
       "      <th>2</th>\n",
       "      <td>Auggie &amp; Me</td>\n",
       "      <td>2018-02-14</td>\n",
       "      <td>Early &amp; Middle</td>\n",
       "      <td>3</td>\n",
       "      <td>R.J. Palacio</td>\n",
       "      <td>16.99</td>\n",
       "      <td>9781101934852</td>\n",
       "      <td>NaN</td>\n",
       "      <td>NaN</td>\n",
       "    </tr>\n",
       "    <tr>\n",
       "      <th>3</th>\n",
       "      <td>The Girl Who Drank the Moon</td>\n",
       "      <td>2018-02-14</td>\n",
       "      <td>Early &amp; Middle</td>\n",
       "      <td>4</td>\n",
       "      <td>Kelly Barnhill</td>\n",
       "      <td>16.95</td>\n",
       "      <td>9781616205676</td>\n",
       "      <td>NaN</td>\n",
       "      <td>NaN</td>\n",
       "    </tr>\n",
       "  </tbody>\n",
       "</table>\n",
       "</div>"
      ],
      "text/plain": [
       "                         title        week            list  rank  \\\n",
       "0            A Wrinkle in Time  2018-02-14  Early & Middle     1   \n",
       "1                       Wonder  2018-02-14  Early & Middle     2   \n",
       "2                  Auggie & Me  2018-02-14  Early & Middle     3   \n",
       "3  The Girl Who Drank the Moon  2018-02-14  Early & Middle     4   \n",
       "\n",
       "              author  price           isbn  previous_rank  weeks_on_list  \n",
       "0  Madeleine L'Engle   8.99  9781250153272            NaN            NaN  \n",
       "1       R.J. Palacio  16.99  9781524720193            NaN            NaN  \n",
       "2       R.J. Palacio  16.99  9781101934852            NaN            NaN  \n",
       "3     Kelly Barnhill  16.95  9781616205676            NaN            NaN  "
      ]
     },
     "execution_count": 25,
     "metadata": {},
     "output_type": "execute_result"
    }
   ],
   "source": [
    "%piper df >> distinct('isbn') >> head()"
   ]
  },
  {
   "cell_type": "markdown",
   "metadata": {
    "ExecuteTime": {
     "end_time": "2020-08-07T18:34:50.657741Z",
     "start_time": "2020-08-07T18:34:50.654732Z"
    }
   },
   "source": [
    "## group_by()"
   ]
  },
  {
   "cell_type": "code",
   "execution_count": 26,
   "metadata": {
    "ExecuteTime": {
     "end_time": "2021-02-26T14:53:23.904502Z",
     "start_time": "2021-02-26T14:53:23.855701Z"
    },
    "scrolled": true
   },
   "outputs": [
    {
     "name": "stderr",
     "output_type": "stream",
     "text": [
      "225 rows, 2 columns\n"
     ]
    },
    {
     "data": {
      "text/html": [
       "<div>\n",
       "<style scoped>\n",
       "    .dataframe tbody tr th:only-of-type {\n",
       "        vertical-align: middle;\n",
       "    }\n",
       "\n",
       "    .dataframe tbody tr th {\n",
       "        vertical-align: top;\n",
       "    }\n",
       "\n",
       "    .dataframe thead th {\n",
       "        text-align: right;\n",
       "    }\n",
       "</style>\n",
       "<table border=\"1\" class=\"dataframe\">\n",
       "  <thead>\n",
       "    <tr style=\"text-align: right;\">\n",
       "      <th></th>\n",
       "      <th>title</th>\n",
       "      <th>author</th>\n",
       "      <th>mean_price</th>\n",
       "      <th>mean_price_times_something</th>\n",
       "    </tr>\n",
       "  </thead>\n",
       "  <tbody>\n",
       "    <tr>\n",
       "      <th>0</th>\n",
       "      <td>Feel Free</td>\n",
       "      <td>Zadie Smith</td>\n",
       "      <td>28.00</td>\n",
       "      <td>84.00</td>\n",
       "    </tr>\n",
       "    <tr>\n",
       "      <th>1</th>\n",
       "      <td>Leonardo da Vinci</td>\n",
       "      <td>Walter Isaacson</td>\n",
       "      <td>35.00</td>\n",
       "      <td>105.00</td>\n",
       "    </tr>\n",
       "    <tr>\n",
       "      <th>2</th>\n",
       "      <td>The Sympathizer</td>\n",
       "      <td>Viet Thanh Nguyen</td>\n",
       "      <td>16.00</td>\n",
       "      <td>48.00</td>\n",
       "    </tr>\n",
       "    <tr>\n",
       "      <th>3</th>\n",
       "      <td>Roller Girl</td>\n",
       "      <td>Victoria Jamieson</td>\n",
       "      <td>12.99</td>\n",
       "      <td>38.97</td>\n",
       "    </tr>\n",
       "    <tr>\n",
       "      <th>4</th>\n",
       "      <td>All's Faire in Middle School</td>\n",
       "      <td>Victoria Jamieson</td>\n",
       "      <td>12.99</td>\n",
       "      <td>38.97</td>\n",
       "    </tr>\n",
       "  </tbody>\n",
       "</table>\n",
       "</div>"
      ],
      "text/plain": [
       "                          title             author  mean_price  \\\n",
       "0                     Feel Free        Zadie Smith       28.00   \n",
       "1             Leonardo da Vinci    Walter Isaacson       35.00   \n",
       "2               The Sympathizer  Viet Thanh Nguyen       16.00   \n",
       "3                   Roller Girl  Victoria Jamieson       12.99   \n",
       "4  All's Faire in Middle School  Victoria Jamieson       12.99   \n",
       "\n",
       "   mean_price_times_something  \n",
       "0                       84.00  \n",
       "1                      105.00  \n",
       "2                       48.00  \n",
       "3                       38.97  \n",
       "4                       38.97  "
      ]
     },
     "execution_count": 26,
     "metadata": {},
     "output_type": "execute_result"
    }
   ],
   "source": [
    "%%piper\n",
    "df \n",
    ">> group_by(['title', 'author'])\n",
    ">> summarise(mean_price=('price', 'mean')) \n",
    ">> assign(mean_price_times_something=lambda x: x.mean_price * 3) \n",
    ">> order_by(['author', 'title'], ascending=[False, False])\n",
    ">> head(5).reset_index()"
   ]
  },
  {
   "cell_type": "markdown",
   "metadata": {
    "ExecuteTime": {
     "end_time": "2020-08-07T18:34:50.657741Z",
     "start_time": "2020-08-07T18:34:50.654732Z"
    }
   },
   "source": [
    "### compress rows to a list / explode list"
   ]
  },
  {
   "cell_type": "code",
   "execution_count": 27,
   "metadata": {
    "ExecuteTime": {
     "end_time": "2021-02-26T14:53:23.947389Z",
     "start_time": "2021-02-26T14:53:23.908227Z"
    },
    "scrolled": true
   },
   "outputs": [
    {
     "name": "stderr",
     "output_type": "stream",
     "text": [
      "7 rows, 1 columns\n"
     ]
    },
    {
     "data": {
      "text/html": [
       "<div>\n",
       "<style scoped>\n",
       "    .dataframe tbody tr th:only-of-type {\n",
       "        vertical-align: middle;\n",
       "    }\n",
       "\n",
       "    .dataframe tbody tr th {\n",
       "        vertical-align: top;\n",
       "    }\n",
       "\n",
       "    .dataframe thead th {\n",
       "        text-align: right;\n",
       "    }\n",
       "</style>\n",
       "<table border=\"1\" class=\"dataframe\">\n",
       "  <thead>\n",
       "    <tr style=\"text-align: right;\">\n",
       "      <th></th>\n",
       "      <th>author</th>\n",
       "    </tr>\n",
       "    <tr>\n",
       "      <th>list</th>\n",
       "      <th></th>\n",
       "    </tr>\n",
       "  </thead>\n",
       "  <tbody>\n",
       "    <tr>\n",
       "      <th>Early &amp; Middle</th>\n",
       "      <td>[Madeleine L'Engle, R.J. Palacio, R.J. Palacio, Kelly Barnhill, Raina Telgemeier, Kimberly Brubaker Bradley, Raina T...</td>\n",
       "    </tr>\n",
       "    <tr>\n",
       "      <th>Hardcover Fiction</th>\n",
       "      <td>[Kristin Hannah, Tayari Jones, A.J. Finn, Amor Towles, Chloe Benjamin, Celeste Ng, Jesmyn Ward, Jojo Moyes, Dan Brow...</td>\n",
       "    </tr>\n",
       "    <tr>\n",
       "      <th>Hardcover Nonfiction</th>\n",
       "      <td>[Michael Wolff, Neil deGrasse Tyson, Mark Manson, Walter Isaacson, Tiffany Haddish, Dave Eggers, David Grann, Pete S...</td>\n",
       "    </tr>\n",
       "    <tr>\n",
       "      <th>Mass Market</th>\n",
       "      <td>[Lee Child, Ernest Cline, John Grisham, James Patterson, Michael Crichton, Liane Moriarty, Danielle Steel, Brian Kil...</td>\n",
       "    </tr>\n",
       "    <tr>\n",
       "      <th>Trade Paperback Fiction</th>\n",
       "      <td>[Colson Whitehead, George Saunders, Min Jin Lee, Jessica Shattuck, Ruth Ware, Georgia Hunter, Fredrik Backman, Antho...</td>\n",
       "    </tr>\n",
       "    <tr>\n",
       "      <th>Trade Paperback Nonfiction</th>\n",
       "      <td>[Jen Sincero, Peter Frankopan, Doug Stanton, Jonah Berger, Atul Gawande, Douglas J. Preston, Harvard Business School...</td>\n",
       "    </tr>\n",
       "  </tbody>\n",
       "</table>\n",
       "</div>"
      ],
      "text/plain": [
       "                                                                                                                                             author\n",
       "list                                                                                                                                               \n",
       "Early & Middle              [Madeleine L'Engle, R.J. Palacio, R.J. Palacio, Kelly Barnhill, Raina Telgemeier, Kimberly Brubaker Bradley, Raina T...\n",
       "Hardcover Fiction           [Kristin Hannah, Tayari Jones, A.J. Finn, Amor Towles, Chloe Benjamin, Celeste Ng, Jesmyn Ward, Jojo Moyes, Dan Brow...\n",
       "Hardcover Nonfiction        [Michael Wolff, Neil deGrasse Tyson, Mark Manson, Walter Isaacson, Tiffany Haddish, Dave Eggers, David Grann, Pete S...\n",
       "Mass Market                 [Lee Child, Ernest Cline, John Grisham, James Patterson, Michael Crichton, Liane Moriarty, Danielle Steel, Brian Kil...\n",
       "Trade Paperback Fiction     [Colson Whitehead, George Saunders, Min Jin Lee, Jessica Shattuck, Ruth Ware, Georgia Hunter, Fredrik Backman, Antho...\n",
       "Trade Paperback Nonfiction  [Jen Sincero, Peter Frankopan, Doug Stanton, Jonah Berger, Atul Gawande, Douglas J. Preston, Harvard Business School..."
      ]
     },
     "execution_count": 27,
     "metadata": {},
     "output_type": "execute_result"
    }
   ],
   "source": [
    "%%piper\n",
    "df >> group_by('list')\n",
    ">> summarise({'author': lambda x: x.tolist()})\n",
    "# >> explode('author')  \n",
    ">> head(6)"
   ]
  },
  {
   "cell_type": "markdown",
   "metadata": {
    "ExecuteTime": {
     "end_time": "2020-08-07T18:34:50.657741Z",
     "start_time": "2020-08-07T18:34:50.654732Z"
    }
   },
   "source": [
    "## summarise()"
   ]
  },
  {
   "cell_type": "code",
   "execution_count": 28,
   "metadata": {
    "ExecuteTime": {
     "end_time": "2021-02-26T14:53:23.970067Z",
     "start_time": "2021-02-26T14:53:23.949670Z"
    }
   },
   "outputs": [
    {
     "data": {
      "text/plain": [
       "values_1    73604\n",
       "values_2    75163\n",
       "dtype: int64"
      ]
     },
     "execution_count": 28,
     "metadata": {},
     "output_type": "execute_result"
    }
   ],
   "source": [
    "%%piper \n",
    "get_sample_data() \n",
    ">> select('-dates')\n",
    ">> summarise({'values_1': 'sum', 'values_2': 'sum'})"
   ]
  },
  {
   "cell_type": "code",
   "execution_count": 29,
   "metadata": {
    "ExecuteTime": {
     "end_time": "2021-02-26T14:53:24.051141Z",
     "start_time": "2021-02-26T14:53:23.972902Z"
    }
   },
   "outputs": [
    {
     "name": "stderr",
     "output_type": "stream",
     "text": [
      "16 rows, 4 columns\n"
     ]
    },
    {
     "data": {
      "text/html": [
       "<div>\n",
       "<style scoped>\n",
       "    .dataframe tbody tr th:only-of-type {\n",
       "        vertical-align: middle;\n",
       "    }\n",
       "\n",
       "    .dataframe tbody tr th {\n",
       "        vertical-align: top;\n",
       "    }\n",
       "\n",
       "    .dataframe thead th {\n",
       "        text-align: right;\n",
       "    }\n",
       "</style>\n",
       "<table border=\"1\" class=\"dataframe\">\n",
       "  <thead>\n",
       "    <tr style=\"text-align: right;\">\n",
       "      <th></th>\n",
       "      <th></th>\n",
       "      <th>totval1</th>\n",
       "      <th>totval2</th>\n",
       "      <th>pcent_val1</th>\n",
       "      <th>grp_pcent</th>\n",
       "    </tr>\n",
       "    <tr>\n",
       "      <th>regions</th>\n",
       "      <th>countries</th>\n",
       "      <th></th>\n",
       "      <th></th>\n",
       "      <th></th>\n",
       "      <th></th>\n",
       "    </tr>\n",
       "  </thead>\n",
       "  <tbody>\n",
       "    <tr>\n",
       "      <th rowspan=\"8\" valign=\"top\">North</th>\n",
       "      <th>France</th>\n",
       "      <td>2275</td>\n",
       "      <td>2926</td>\n",
       "      <td>6.43</td>\n",
       "      <td>16.29</td>\n",
       "    </tr>\n",
       "    <tr>\n",
       "      <th>Germany</th>\n",
       "      <td>2239</td>\n",
       "      <td>1736</td>\n",
       "      <td>6.33</td>\n",
       "      <td>9.67</td>\n",
       "    </tr>\n",
       "    <tr>\n",
       "      <th>Italy</th>\n",
       "      <td>1868</td>\n",
       "      <td>1926</td>\n",
       "      <td>5.28</td>\n",
       "      <td>10.72</td>\n",
       "    </tr>\n",
       "    <tr>\n",
       "      <th>Norway</th>\n",
       "      <td>2633</td>\n",
       "      <td>3282</td>\n",
       "      <td>7.44</td>\n",
       "      <td>18.27</td>\n",
       "    </tr>\n",
       "    <tr>\n",
       "      <th>Portugal</th>\n",
       "      <td>1857</td>\n",
       "      <td>1861</td>\n",
       "      <td>5.25</td>\n",
       "      <td>10.36</td>\n",
       "    </tr>\n",
       "    <tr>\n",
       "      <th>Spain</th>\n",
       "      <td>2447</td>\n",
       "      <td>2457</td>\n",
       "      <td>6.92</td>\n",
       "      <td>13.68</td>\n",
       "    </tr>\n",
       "    <tr>\n",
       "      <th>Sweden</th>\n",
       "      <td>1535</td>\n",
       "      <td>1417</td>\n",
       "      <td>4.34</td>\n",
       "      <td>7.89</td>\n",
       "    </tr>\n",
       "    <tr>\n",
       "      <th>Switzerland</th>\n",
       "      <td>2723</td>\n",
       "      <td>2356</td>\n",
       "      <td>7.70</td>\n",
       "      <td>13.12</td>\n",
       "    </tr>\n",
       "    <tr>\n",
       "      <th rowspan=\"2\" valign=\"top\">South</th>\n",
       "      <th>France</th>\n",
       "      <td>2118</td>\n",
       "      <td>1726</td>\n",
       "      <td>5.99</td>\n",
       "      <td>9.66</td>\n",
       "    </tr>\n",
       "    <tr>\n",
       "      <th>Germany</th>\n",
       "      <td>1753</td>\n",
       "      <td>2028</td>\n",
       "      <td>4.96</td>\n",
       "      <td>11.35</td>\n",
       "    </tr>\n",
       "  </tbody>\n",
       "</table>\n",
       "</div>"
      ],
      "text/plain": [
       "                     totval1  totval2  pcent_val1  grp_pcent\n",
       "regions countries                                           \n",
       "North   France          2275     2926        6.43      16.29\n",
       "        Germany         2239     1736        6.33       9.67\n",
       "        Italy           1868     1926        5.28      10.72\n",
       "        Norway          2633     3282        7.44      18.27\n",
       "        Portugal        1857     1861        5.25      10.36\n",
       "        Spain           2447     2457        6.92      13.68\n",
       "        Sweden          1535     1417        4.34       7.89\n",
       "        Switzerland     2723     2356        7.70      13.12\n",
       "South   France          2118     1726        5.99       9.66\n",
       "        Germany         1753     2028        4.96      11.35"
      ]
     },
     "execution_count": 29,
     "metadata": {},
     "output_type": "execute_result"
    }
   ],
   "source": [
    "%%piper \n",
    "get_sample_data() \n",
    ">> select('-dates')\n",
    ">> where(\"regions.isin(['North', 'South'])\")\n",
    ">> group_by(['regions', 'countries'])\n",
    ">> summarise({'values_1': 'sum', 'values_2': 'sum'})\n",
    ">> rename(columns={'values_1': 'totval1', 'values_2': 'totval2'})\n",
    ">> assign(pcent_val1 = lambda x: (x.totval1 * 100/x.totval1.sum()).round(2),\n",
    "           grp_pcent = lambda x: x.groupby(['regions'])['totval2'].transform(lambda x: (x*100/x.sum()).round(2))\n",
    "         )\n",
    ">> head(10)"
   ]
  },
  {
   "cell_type": "markdown",
   "metadata": {
    "ExecuteTime": {
     "end_time": "2020-08-07T18:34:50.657741Z",
     "start_time": "2020-08-07T18:34:50.654732Z"
    }
   },
   "source": [
    "## pivot_table()"
   ]
  },
  {
   "cell_type": "code",
   "execution_count": 30,
   "metadata": {
    "ExecuteTime": {
     "end_time": "2021-02-26T14:53:24.079027Z",
     "start_time": "2021-02-26T14:53:24.055624Z"
    },
    "scrolled": true
   },
   "outputs": [
    {
     "name": "stderr",
     "output_type": "stream",
     "text": [
      "1300 rows, 9 columns\n"
     ]
    },
    {
     "data": {
      "text/html": [
       "<div>\n",
       "<style scoped>\n",
       "    .dataframe tbody tr th:only-of-type {\n",
       "        vertical-align: middle;\n",
       "    }\n",
       "\n",
       "    .dataframe tbody tr th {\n",
       "        vertical-align: top;\n",
       "    }\n",
       "\n",
       "    .dataframe thead th {\n",
       "        text-align: right;\n",
       "    }\n",
       "</style>\n",
       "<table border=\"1\" class=\"dataframe\">\n",
       "  <thead>\n",
       "    <tr style=\"text-align: right;\">\n",
       "      <th></th>\n",
       "      <th>title</th>\n",
       "      <th>week</th>\n",
       "      <th>list</th>\n",
       "      <th>rank</th>\n",
       "      <th>author</th>\n",
       "      <th>price</th>\n",
       "      <th>isbn</th>\n",
       "      <th>previous_rank</th>\n",
       "      <th>weeks_on_list</th>\n",
       "    </tr>\n",
       "  </thead>\n",
       "  <tbody>\n",
       "    <tr>\n",
       "      <th>0</th>\n",
       "      <td>A Wrinkle in Time</td>\n",
       "      <td>2018-02-14</td>\n",
       "      <td>Early &amp; Middle</td>\n",
       "      <td>1</td>\n",
       "      <td>Madeleine L'Engle</td>\n",
       "      <td>8.99</td>\n",
       "      <td>9781250153272</td>\n",
       "      <td>NaN</td>\n",
       "      <td>NaN</td>\n",
       "    </tr>\n",
       "    <tr>\n",
       "      <th>1</th>\n",
       "      <td>Wonder</td>\n",
       "      <td>2018-02-14</td>\n",
       "      <td>Early &amp; Middle</td>\n",
       "      <td>2</td>\n",
       "      <td>R.J. Palacio</td>\n",
       "      <td>16.99</td>\n",
       "      <td>9781524720193</td>\n",
       "      <td>NaN</td>\n",
       "      <td>NaN</td>\n",
       "    </tr>\n",
       "    <tr>\n",
       "      <th>2</th>\n",
       "      <td>Auggie &amp; Me</td>\n",
       "      <td>2018-02-14</td>\n",
       "      <td>Early &amp; Middle</td>\n",
       "      <td>3</td>\n",
       "      <td>R.J. Palacio</td>\n",
       "      <td>16.99</td>\n",
       "      <td>9781101934852</td>\n",
       "      <td>NaN</td>\n",
       "      <td>NaN</td>\n",
       "    </tr>\n",
       "    <tr>\n",
       "      <th>3</th>\n",
       "      <td>The Girl Who Drank the Moon</td>\n",
       "      <td>2018-02-14</td>\n",
       "      <td>Early &amp; Middle</td>\n",
       "      <td>4</td>\n",
       "      <td>Kelly Barnhill</td>\n",
       "      <td>16.95</td>\n",
       "      <td>9781616205676</td>\n",
       "      <td>NaN</td>\n",
       "      <td>NaN</td>\n",
       "    </tr>\n",
       "  </tbody>\n",
       "</table>\n",
       "</div>"
      ],
      "text/plain": [
       "                         title        week            list  rank  \\\n",
       "0            A Wrinkle in Time  2018-02-14  Early & Middle     1   \n",
       "1                       Wonder  2018-02-14  Early & Middle     2   \n",
       "2                  Auggie & Me  2018-02-14  Early & Middle     3   \n",
       "3  The Girl Who Drank the Moon  2018-02-14  Early & Middle     4   \n",
       "\n",
       "              author  price           isbn  previous_rank  weeks_on_list  \n",
       "0  Madeleine L'Engle   8.99  9781250153272            NaN            NaN  \n",
       "1       R.J. Palacio  16.99  9781524720193            NaN            NaN  \n",
       "2       R.J. Palacio  16.99  9781101934852            NaN            NaN  \n",
       "3     Kelly Barnhill  16.95  9781616205676            NaN            NaN  "
      ]
     },
     "execution_count": 30,
     "metadata": {},
     "output_type": "execute_result"
    }
   ],
   "source": [
    "head(df)"
   ]
  },
  {
   "cell_type": "code",
   "execution_count": 31,
   "metadata": {
    "ExecuteTime": {
     "end_time": "2021-02-26T14:53:24.088339Z",
     "start_time": "2021-02-26T14:53:24.083380Z"
    }
   },
   "outputs": [],
   "source": [
    "index = ['list']\n",
    "values=['rank', 'price']"
   ]
  },
  {
   "cell_type": "code",
   "execution_count": 32,
   "metadata": {
    "ExecuteTime": {
     "end_time": "2021-02-26T14:53:24.163752Z",
     "start_time": "2021-02-26T14:53:24.094712Z"
    }
   },
   "outputs": [
    {
     "name": "stderr",
     "output_type": "stream",
     "text": [
      "8 rows, 3 columns\n"
     ]
    },
    {
     "data": {
      "text/html": [
       "<div>\n",
       "<style scoped>\n",
       "    .dataframe tbody tr th:only-of-type {\n",
       "        vertical-align: middle;\n",
       "    }\n",
       "\n",
       "    .dataframe tbody tr th {\n",
       "        vertical-align: top;\n",
       "    }\n",
       "\n",
       "    .dataframe thead th {\n",
       "        text-align: right;\n",
       "    }\n",
       "</style>\n",
       "<table border=\"1\" class=\"dataframe\">\n",
       "  <thead>\n",
       "    <tr style=\"text-align: right;\">\n",
       "      <th></th>\n",
       "      <th>list</th>\n",
       "      <th>mean_price</th>\n",
       "      <th>total_rows</th>\n",
       "    </tr>\n",
       "  </thead>\n",
       "  <tbody>\n",
       "    <tr>\n",
       "      <th>0</th>\n",
       "      <td>Early &amp; Middle</td>\n",
       "      <td>13.53</td>\n",
       "      <td>195</td>\n",
       "    </tr>\n",
       "    <tr>\n",
       "      <th>1</th>\n",
       "      <td>Hardcover Fiction</td>\n",
       "      <td>27.25</td>\n",
       "      <td>195</td>\n",
       "    </tr>\n",
       "    <tr>\n",
       "      <th>2</th>\n",
       "      <td>Hardcover Nonfiction</td>\n",
       "      <td>28.20</td>\n",
       "      <td>195</td>\n",
       "    </tr>\n",
       "    <tr>\n",
       "      <th>3</th>\n",
       "      <td>Mass Market</td>\n",
       "      <td>9.91</td>\n",
       "      <td>130</td>\n",
       "    </tr>\n",
       "  </tbody>\n",
       "</table>\n",
       "</div>"
      ],
      "text/plain": [
       "                   list  mean_price  total_rows\n",
       "0        Early & Middle       13.53         195\n",
       "1     Hardcover Fiction       27.25         195\n",
       "2  Hardcover Nonfiction       28.20         195\n",
       "3           Mass Market        9.91         130"
      ]
     },
     "execution_count": 32,
     "metadata": {},
     "output_type": "execute_result"
    }
   ],
   "source": [
    "%%piper\n",
    "\n",
    "df\n",
    ">> pivot_table(index=index, values=values, margins=True, fill_value=0,\n",
    "               aggfunc={'rank': 'count', 'price': np.mean})\n",
    ">> rename(columns={'price': 'mean_price', 'rank': 'total_rows'})\n",
    ">> assign(mean_price=lambda x: x.mean_price.round(2)).reset_index()\n",
    ">> head(4)"
   ]
  },
  {
   "cell_type": "code",
   "execution_count": null,
   "metadata": {},
   "outputs": [],
   "source": []
  },
  {
   "cell_type": "code",
   "execution_count": null,
   "metadata": {},
   "outputs": [],
   "source": []
  },
  {
   "cell_type": "code",
   "execution_count": null,
   "metadata": {},
   "outputs": [],
   "source": []
  },
  {
   "cell_type": "code",
   "execution_count": null,
   "metadata": {},
   "outputs": [],
   "source": []
  },
  {
   "cell_type": "code",
   "execution_count": null,
   "metadata": {},
   "outputs": [],
   "source": []
  },
  {
   "cell_type": "code",
   "execution_count": null,
   "metadata": {},
   "outputs": [],
   "source": []
  }
 ],
 "metadata": {
  "hide_input": false,
  "kernelspec": {
   "display_name": "python38",
   "language": "python",
   "name": "python38"
  },
  "language_info": {
   "codemirror_mode": {
    "name": "ipython",
    "version": 3
   },
   "file_extension": ".py",
   "mimetype": "text/x-python",
   "name": "python",
   "nbconvert_exporter": "python",
   "pygments_lexer": "ipython3",
   "version": "3.8.5"
  },
  "toc": {
   "base_numbering": 1,
   "nav_menu": {},
   "number_sections": true,
   "sideBar": true,
   "skip_h1_title": false,
   "title_cell": "Table of Contents",
   "title_sidebar": "Contents",
   "toc_cell": false,
   "toc_position": {
    "height": "calc(100% - 180px)",
    "left": "10px",
    "top": "150px",
    "width": "229.333px"
   },
   "toc_section_display": true,
   "toc_window_display": true
  }
 },
 "nbformat": 4,
 "nbformat_minor": 4
}
