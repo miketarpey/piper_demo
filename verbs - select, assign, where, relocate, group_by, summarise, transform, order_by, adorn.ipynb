{
 "cells": [
  {
   "cell_type": "code",
   "execution_count": 1,
   "metadata": {
    "ExecuteTime": {
     "end_time": "2021-03-11T16:18:02.529884Z",
     "start_time": "2021-03-11T16:18:02.525833Z"
    }
   },
   "outputs": [
    {
     "name": "stderr",
     "output_type": "stream",
     "text": [
      "piper v0.1.0: Monday, 29 March 2021 19:09:34\n"
     ]
    }
   ],
   "source": [
    "from piper.defaults import *"
   ]
  },
  {
   "cell_type": "code",
   "execution_count": 2,
   "metadata": {
    "ExecuteTime": {
     "end_time": "2021-03-11T16:18:04.882907Z",
     "start_time": "2021-03-11T16:18:04.818732Z"
    }
   },
   "outputs": [
    {
     "name": "stderr",
     "output_type": "stream",
     "text": [
      "Use %piper/%%piper --info to see rendered pandas pipe statement\n"
     ]
    },
    {
     "name": "stderr",
     "output_type": "stream",
     "text": [
      "name 'get_sample_data' is not defined\n"
     ]
    }
   ],
   "source": [
    "%%piper\n",
    "\n",
    "get_sample_data()\n",
    ">> where(\"regions.isin(['East', 'North'])\")\n",
    ">> assign(sum_of_values=lambda x: x.values_1 + x.values_2)\n",
    ">> relocate('sum_of_values', 'after', 'ids')\n",
    ">> group_by(['regions', 'countries'])\n",
    ">> summarise(total_value=('sum_of_values', 'sum'))\n",
    ">> transform()\n",
    ">> order_by(['regions', 'g%'], ascending=[True, False])\n",
    ">> adorn()"
   ]
  },
  {
   "cell_type": "code",
   "execution_count": null,
   "metadata": {},
   "outputs": [],
   "source": []
  },
  {
   "cell_type": "code",
   "execution_count": null,
   "metadata": {},
   "outputs": [],
   "source": []
  },
  {
   "cell_type": "code",
   "execution_count": null,
   "metadata": {},
   "outputs": [],
   "source": []
  }
 ],
 "metadata": {
  "kernelspec": {
   "display_name": "Python 3",
   "language": "python",
   "name": "python3"
  },
  "language_info": {
   "codemirror_mode": {
    "name": "ipython",
    "version": 3
   },
   "file_extension": ".py",
   "mimetype": "text/x-python",
   "name": "python",
   "nbconvert_exporter": "python",
   "pygments_lexer": "ipython3",
   "version": "3.8.5"
  },
  "toc": {
   "base_numbering": 1,
   "nav_menu": {},
   "number_sections": true,
   "sideBar": true,
   "skip_h1_title": false,
   "title_cell": "Table of Contents",
   "title_sidebar": "Contents",
   "toc_cell": false,
   "toc_position": {},
   "toc_section_display": true,
   "toc_window_display": false
  }
 },
 "nbformat": 4,
 "nbformat_minor": 4
}
