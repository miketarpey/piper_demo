{
 "cells": [
  {
   "cell_type": "markdown",
   "metadata": {},
   "source": [
    "# Setup"
   ]
  },
  {
   "cell_type": "code",
   "execution_count": 1,
   "metadata": {
    "ExecuteTime": {
     "end_time": "2021-02-26T15:03:41.309824Z",
     "start_time": "2021-02-26T15:03:40.823344Z"
    }
   },
   "outputs": [
    {
     "name": "stderr",
     "output_type": "stream",
     "text": [
      "piper version 0.0.9, last run: Tuesday, 09 March 2021 20:05:11\n"
     ]
    }
   ],
   "source": [
    "from piper import piper\n",
    "from piper.verbs import *\n",
    "from piper.factory import get_sample_data"
   ]
  },
  {
   "cell_type": "markdown",
   "metadata": {},
   "source": [
    "# Data"
   ]
  },
  {
   "cell_type": "code",
   "execution_count": 2,
   "metadata": {
    "ExecuteTime": {
     "end_time": "2021-02-26T15:03:41.639173Z",
     "start_time": "2021-02-26T15:03:41.311861Z"
    }
   },
   "outputs": [
    {
     "name": "stderr",
     "output_type": "stream",
     "text": [
      "12 rows, 5 columns\n"
     ]
    },
    {
     "data": {
      "text/html": [
       "<div>\n",
       "<style scoped>\n",
       "    .dataframe tbody tr th:only-of-type {\n",
       "        vertical-align: middle;\n",
       "    }\n",
       "\n",
       "    .dataframe tbody tr th {\n",
       "        vertical-align: top;\n",
       "    }\n",
       "\n",
       "    .dataframe thead th {\n",
       "        text-align: right;\n",
       "    }\n",
       "</style>\n",
       "<table border=\"1\" class=\"dataframe\">\n",
       "  <thead>\n",
       "    <tr style=\"text-align: right;\">\n",
       "      <th></th>\n",
       "      <th>Name</th>\n",
       "      <th>Position</th>\n",
       "      <th>YR Experience</th>\n",
       "      <th>Interview Score</th>\n",
       "      <th>Comments</th>\n",
       "    </tr>\n",
       "  </thead>\n",
       "  <tbody>\n",
       "    <tr>\n",
       "      <th>0</th>\n",
       "      <td>Ahmed</td>\n",
       "      <td>Engineer</td>\n",
       "      <td>3</td>\n",
       "      <td>5.0</td>\n",
       "      <td>Fantastic Preporation</td>\n",
       "    </tr>\n",
       "    <tr>\n",
       "      <th>1</th>\n",
       "      <td>Ben</td>\n",
       "      <td>Manager</td>\n",
       "      <td>4</td>\n",
       "      <td>4.5</td>\n",
       "      <td>Very enthusiastic</td>\n",
       "    </tr>\n",
       "    <tr>\n",
       "      <th>2</th>\n",
       "      <td>Catherine</td>\n",
       "      <td>Manager</td>\n",
       "      <td>4</td>\n",
       "      <td>3.5</td>\n",
       "      <td>Most Professional Interview</td>\n",
       "    </tr>\n",
       "    <tr>\n",
       "      <th>3</th>\n",
       "      <td>Derrick</td>\n",
       "      <td>Janitoral</td>\n",
       "      <td>0</td>\n",
       "      <td>0.0</td>\n",
       "      <td>Technologically Challenged</td>\n",
       "    </tr>\n",
       "  </tbody>\n",
       "</table>\n",
       "</div>"
      ],
      "text/plain": [
       "        Name   Position  YR Experience  Interview Score  \\\n",
       "0      Ahmed   Engineer              3              5.0   \n",
       "1        Ben    Manager              4              4.5   \n",
       "2  Catherine    Manager              4              3.5   \n",
       "3    Derrick  Janitoral              0              0.0   \n",
       "\n",
       "                      Comments  \n",
       "0        Fantastic Preporation  \n",
       "1            Very enthusiastic  \n",
       "2  Most Professional Interview  \n",
       "3   Technologically Challenged  "
      ]
     },
     "execution_count": 2,
     "metadata": {},
     "output_type": "execute_result"
    }
   ],
   "source": [
    "df_a = pd.read_excel('inputs/workbook_f1.xlsx')\n",
    "head(df_a)"
   ]
  },
  {
   "cell_type": "code",
   "execution_count": 3,
   "metadata": {
    "ExecuteTime": {
     "end_time": "2021-02-26T15:03:41.662409Z",
     "start_time": "2021-02-26T15:03:41.641283Z"
    },
    "scrolled": true
   },
   "outputs": [
    {
     "name": "stderr",
     "output_type": "stream",
     "text": [
      "6 rows, 4 columns\n"
     ]
    },
    {
     "data": {
      "text/html": [
       "<div>\n",
       "<style scoped>\n",
       "    .dataframe tbody tr th:only-of-type {\n",
       "        vertical-align: middle;\n",
       "    }\n",
       "\n",
       "    .dataframe tbody tr th {\n",
       "        vertical-align: top;\n",
       "    }\n",
       "\n",
       "    .dataframe thead th {\n",
       "        text-align: right;\n",
       "    }\n",
       "</style>\n",
       "<table border=\"1\" class=\"dataframe\">\n",
       "  <thead>\n",
       "    <tr style=\"text-align: right;\">\n",
       "      <th></th>\n",
       "      <th>Name</th>\n",
       "      <th>Challenge</th>\n",
       "      <th>Group Interview Score</th>\n",
       "      <th>Group Comments</th>\n",
       "    </tr>\n",
       "  </thead>\n",
       "  <tbody>\n",
       "    <tr>\n",
       "      <th>0</th>\n",
       "      <td>Ben</td>\n",
       "      <td>A</td>\n",
       "      <td>5</td>\n",
       "      <td>Kind communicator</td>\n",
       "    </tr>\n",
       "    <tr>\n",
       "      <th>1</th>\n",
       "      <td>Catherine</td>\n",
       "      <td>A</td>\n",
       "      <td>4</td>\n",
       "      <td>Problem solver</td>\n",
       "    </tr>\n",
       "    <tr>\n",
       "      <th>2</th>\n",
       "      <td>Felipe</td>\n",
       "      <td>A</td>\n",
       "      <td>5</td>\n",
       "      <td>Leader</td>\n",
       "    </tr>\n",
       "    <tr>\n",
       "      <th>3</th>\n",
       "      <td>Gabriel</td>\n",
       "      <td>B</td>\n",
       "      <td>3</td>\n",
       "      <td>Smart at approaching problems</td>\n",
       "    </tr>\n",
       "  </tbody>\n",
       "</table>\n",
       "</div>"
      ],
      "text/plain": [
       "        Name Challenge  Group Interview Score                 Group Comments\n",
       "0        Ben         A                      5              Kind communicator\n",
       "1  Catherine         A                      4                 Problem solver\n",
       "2     Felipe         A                      5                         Leader\n",
       "3    Gabriel         B                      3  Smart at approaching problems"
      ]
     },
     "execution_count": 3,
     "metadata": {},
     "output_type": "execute_result"
    }
   ],
   "source": [
    "df_b = pd.read_excel('inputs/workbook_f2.xlsx')\n",
    "head(df_b)"
   ]
  },
  {
   "cell_type": "markdown",
   "metadata": {},
   "source": [
    "# Join types"
   ]
  },
  {
   "cell_type": "code",
   "execution_count": 4,
   "metadata": {
    "ExecuteTime": {
     "end_time": "2021-02-26T15:03:42.117568Z",
     "start_time": "2021-02-26T15:03:41.664319Z"
    }
   },
   "outputs": [
    {
     "name": "stderr",
     "output_type": "stream",
     "text": [
      "5 rows, 8 columns\n"
     ]
    },
    {
     "data": {
      "text/html": [
       "<style  type=\"text/css\" >\n",
       "</style><table id=\"T_0f843_\" ><thead>    <tr>        <th class=\"blank level0\" ></th>        <th class=\"col_heading level0 col0\" >Name</th>        <th class=\"col_heading level0 col1\" >Position</th>        <th class=\"col_heading level0 col2\" >YR Experience</th>        <th class=\"col_heading level0 col3\" >Interview Score</th>        <th class=\"col_heading level0 col4\" >Comments</th>        <th class=\"col_heading level0 col5\" >Challenge</th>        <th class=\"col_heading level0 col6\" >Group Interview Score</th>        <th class=\"col_heading level0 col7\" >Group Comments</th>    </tr></thead><tbody>\n",
       "                <tr>\n",
       "                        <th id=\"T_0f843_level0_row0\" class=\"row_heading level0 row0\" >0</th>\n",
       "                        <td id=\"T_0f843_row0_col0\" class=\"data row0 col0\" >Ben</td>\n",
       "                        <td id=\"T_0f843_row0_col1\" class=\"data row0 col1\" >Manager</td>\n",
       "                        <td id=\"T_0f843_row0_col2\" class=\"data row0 col2\" >4</td>\n",
       "                        <td id=\"T_0f843_row0_col3\" class=\"data row0 col3\" >4.500000</td>\n",
       "                        <td id=\"T_0f843_row0_col4\" class=\"data row0 col4\" >Very enthusiastic</td>\n",
       "                        <td id=\"T_0f843_row0_col5\" class=\"data row0 col5\" >A</td>\n",
       "                        <td id=\"T_0f843_row0_col6\" class=\"data row0 col6\" >5</td>\n",
       "                        <td id=\"T_0f843_row0_col7\" class=\"data row0 col7\" >Kind communicator</td>\n",
       "            </tr>\n",
       "            <tr>\n",
       "                        <th id=\"T_0f843_level0_row1\" class=\"row_heading level0 row1\" >1</th>\n",
       "                        <td id=\"T_0f843_row1_col0\" class=\"data row1 col0\" >Catherine</td>\n",
       "                        <td id=\"T_0f843_row1_col1\" class=\"data row1 col1\" >Manager</td>\n",
       "                        <td id=\"T_0f843_row1_col2\" class=\"data row1 col2\" >4</td>\n",
       "                        <td id=\"T_0f843_row1_col3\" class=\"data row1 col3\" >3.500000</td>\n",
       "                        <td id=\"T_0f843_row1_col4\" class=\"data row1 col4\" >Most Professional Interview</td>\n",
       "                        <td id=\"T_0f843_row1_col5\" class=\"data row1 col5\" >A</td>\n",
       "                        <td id=\"T_0f843_row1_col6\" class=\"data row1 col6\" >4</td>\n",
       "                        <td id=\"T_0f843_row1_col7\" class=\"data row1 col7\" >Problem solver</td>\n",
       "            </tr>\n",
       "            <tr>\n",
       "                        <th id=\"T_0f843_level0_row2\" class=\"row_heading level0 row2\" >2</th>\n",
       "                        <td id=\"T_0f843_row2_col0\" class=\"data row2 col0\" >Felipe</td>\n",
       "                        <td id=\"T_0f843_row2_col1\" class=\"data row2 col1\" >Sales</td>\n",
       "                        <td id=\"T_0f843_row2_col2\" class=\"data row2 col2\" >4</td>\n",
       "                        <td id=\"T_0f843_row2_col3\" class=\"data row2 col3\" >4.000000</td>\n",
       "                        <td id=\"T_0f843_row2_col4\" class=\"data row2 col4\" >Past success</td>\n",
       "                        <td id=\"T_0f843_row2_col5\" class=\"data row2 col5\" >A</td>\n",
       "                        <td id=\"T_0f843_row2_col6\" class=\"data row2 col6\" >5</td>\n",
       "                        <td id=\"T_0f843_row2_col7\" class=\"data row2 col7\" >Leader</td>\n",
       "            </tr>\n",
       "            <tr>\n",
       "                        <th id=\"T_0f843_level0_row3\" class=\"row_heading level0 row3\" >3</th>\n",
       "                        <td id=\"T_0f843_row3_col0\" class=\"data row3 col0\" >Gabriel</td>\n",
       "                        <td id=\"T_0f843_row3_col1\" class=\"data row3 col1\" >Engineer</td>\n",
       "                        <td id=\"T_0f843_row3_col2\" class=\"data row3 col2\" >6</td>\n",
       "                        <td id=\"T_0f843_row3_col3\" class=\"data row3 col3\" >4.500000</td>\n",
       "                        <td id=\"T_0f843_row3_col4\" class=\"data row3 col4\" >Captivating </td>\n",
       "                        <td id=\"T_0f843_row3_col5\" class=\"data row3 col5\" >B</td>\n",
       "                        <td id=\"T_0f843_row3_col6\" class=\"data row3 col6\" >3</td>\n",
       "                        <td id=\"T_0f843_row3_col7\" class=\"data row3 col7\" >Smart at approaching problems</td>\n",
       "            </tr>\n",
       "    </tbody></table>"
      ],
      "text/plain": [
       "<pandas.io.formats.style.Styler at 0x7faf5a91bbe0>"
      ]
     },
     "metadata": {},
     "output_type": "display_data"
    },
    {
     "name": "stderr",
     "output_type": "stream",
     "text": [
      "12 rows, 8 columns\n"
     ]
    },
    {
     "data": {
      "text/html": [
       "<style  type=\"text/css\" >\n",
       "#T_081b2_row0_col5,#T_081b2_row0_col6,#T_081b2_row0_col7,#T_081b2_row3_col5,#T_081b2_row3_col6,#T_081b2_row3_col7{\n",
       "            background-color:  yellow;\n",
       "        }</style><table id=\"T_081b2_\" ><thead>    <tr>        <th class=\"blank level0\" ></th>        <th class=\"col_heading level0 col0\" >Name</th>        <th class=\"col_heading level0 col1\" >Position</th>        <th class=\"col_heading level0 col2\" >YR Experience</th>        <th class=\"col_heading level0 col3\" >Interview Score</th>        <th class=\"col_heading level0 col4\" >Comments</th>        <th class=\"col_heading level0 col5\" >Challenge</th>        <th class=\"col_heading level0 col6\" >Group Interview Score</th>        <th class=\"col_heading level0 col7\" >Group Comments</th>    </tr></thead><tbody>\n",
       "                <tr>\n",
       "                        <th id=\"T_081b2_level0_row0\" class=\"row_heading level0 row0\" >0</th>\n",
       "                        <td id=\"T_081b2_row0_col0\" class=\"data row0 col0\" >Ahmed</td>\n",
       "                        <td id=\"T_081b2_row0_col1\" class=\"data row0 col1\" >Engineer</td>\n",
       "                        <td id=\"T_081b2_row0_col2\" class=\"data row0 col2\" >3</td>\n",
       "                        <td id=\"T_081b2_row0_col3\" class=\"data row0 col3\" >5.000000</td>\n",
       "                        <td id=\"T_081b2_row0_col4\" class=\"data row0 col4\" >Fantastic Preporation</td>\n",
       "                        <td id=\"T_081b2_row0_col5\" class=\"data row0 col5\" >nan</td>\n",
       "                        <td id=\"T_081b2_row0_col6\" class=\"data row0 col6\" >nan</td>\n",
       "                        <td id=\"T_081b2_row0_col7\" class=\"data row0 col7\" >nan</td>\n",
       "            </tr>\n",
       "            <tr>\n",
       "                        <th id=\"T_081b2_level0_row1\" class=\"row_heading level0 row1\" >1</th>\n",
       "                        <td id=\"T_081b2_row1_col0\" class=\"data row1 col0\" >Ben</td>\n",
       "                        <td id=\"T_081b2_row1_col1\" class=\"data row1 col1\" >Manager</td>\n",
       "                        <td id=\"T_081b2_row1_col2\" class=\"data row1 col2\" >4</td>\n",
       "                        <td id=\"T_081b2_row1_col3\" class=\"data row1 col3\" >4.500000</td>\n",
       "                        <td id=\"T_081b2_row1_col4\" class=\"data row1 col4\" >Very enthusiastic</td>\n",
       "                        <td id=\"T_081b2_row1_col5\" class=\"data row1 col5\" >A</td>\n",
       "                        <td id=\"T_081b2_row1_col6\" class=\"data row1 col6\" >5.000000</td>\n",
       "                        <td id=\"T_081b2_row1_col7\" class=\"data row1 col7\" >Kind communicator</td>\n",
       "            </tr>\n",
       "            <tr>\n",
       "                        <th id=\"T_081b2_level0_row2\" class=\"row_heading level0 row2\" >2</th>\n",
       "                        <td id=\"T_081b2_row2_col0\" class=\"data row2 col0\" >Catherine</td>\n",
       "                        <td id=\"T_081b2_row2_col1\" class=\"data row2 col1\" >Manager</td>\n",
       "                        <td id=\"T_081b2_row2_col2\" class=\"data row2 col2\" >4</td>\n",
       "                        <td id=\"T_081b2_row2_col3\" class=\"data row2 col3\" >3.500000</td>\n",
       "                        <td id=\"T_081b2_row2_col4\" class=\"data row2 col4\" >Most Professional Interview</td>\n",
       "                        <td id=\"T_081b2_row2_col5\" class=\"data row2 col5\" >A</td>\n",
       "                        <td id=\"T_081b2_row2_col6\" class=\"data row2 col6\" >4.000000</td>\n",
       "                        <td id=\"T_081b2_row2_col7\" class=\"data row2 col7\" >Problem solver</td>\n",
       "            </tr>\n",
       "            <tr>\n",
       "                        <th id=\"T_081b2_level0_row3\" class=\"row_heading level0 row3\" >3</th>\n",
       "                        <td id=\"T_081b2_row3_col0\" class=\"data row3 col0\" >Derrick</td>\n",
       "                        <td id=\"T_081b2_row3_col1\" class=\"data row3 col1\" >Janitoral</td>\n",
       "                        <td id=\"T_081b2_row3_col2\" class=\"data row3 col2\" >0</td>\n",
       "                        <td id=\"T_081b2_row3_col3\" class=\"data row3 col3\" >0.000000</td>\n",
       "                        <td id=\"T_081b2_row3_col4\" class=\"data row3 col4\" >Technologically Challenged</td>\n",
       "                        <td id=\"T_081b2_row3_col5\" class=\"data row3 col5\" >nan</td>\n",
       "                        <td id=\"T_081b2_row3_col6\" class=\"data row3 col6\" >nan</td>\n",
       "                        <td id=\"T_081b2_row3_col7\" class=\"data row3 col7\" >nan</td>\n",
       "            </tr>\n",
       "    </tbody></table>"
      ],
      "text/plain": [
       "<pandas.io.formats.style.Styler at 0x7faf59324fa0>"
      ]
     },
     "metadata": {},
     "output_type": "display_data"
    },
    {
     "name": "stderr",
     "output_type": "stream",
     "text": [
      "6 rows, 8 columns\n"
     ]
    },
    {
     "data": {
      "text/html": [
       "<style  type=\"text/css\" >\n",
       "</style><table id=\"T_b0aa8_\" ><thead>    <tr>        <th class=\"blank level0\" ></th>        <th class=\"col_heading level0 col0\" >Name</th>        <th class=\"col_heading level0 col1\" >Position</th>        <th class=\"col_heading level0 col2\" >YR Experience</th>        <th class=\"col_heading level0 col3\" >Interview Score</th>        <th class=\"col_heading level0 col4\" >Comments</th>        <th class=\"col_heading level0 col5\" >Challenge</th>        <th class=\"col_heading level0 col6\" >Group Interview Score</th>        <th class=\"col_heading level0 col7\" >Group Comments</th>    </tr></thead><tbody>\n",
       "                <tr>\n",
       "                        <th id=\"T_b0aa8_level0_row0\" class=\"row_heading level0 row0\" >0</th>\n",
       "                        <td id=\"T_b0aa8_row0_col0\" class=\"data row0 col0\" >Ben</td>\n",
       "                        <td id=\"T_b0aa8_row0_col1\" class=\"data row0 col1\" >Manager</td>\n",
       "                        <td id=\"T_b0aa8_row0_col2\" class=\"data row0 col2\" >4.000000</td>\n",
       "                        <td id=\"T_b0aa8_row0_col3\" class=\"data row0 col3\" >4.500000</td>\n",
       "                        <td id=\"T_b0aa8_row0_col4\" class=\"data row0 col4\" >Very enthusiastic</td>\n",
       "                        <td id=\"T_b0aa8_row0_col5\" class=\"data row0 col5\" >A</td>\n",
       "                        <td id=\"T_b0aa8_row0_col6\" class=\"data row0 col6\" >5</td>\n",
       "                        <td id=\"T_b0aa8_row0_col7\" class=\"data row0 col7\" >Kind communicator</td>\n",
       "            </tr>\n",
       "            <tr>\n",
       "                        <th id=\"T_b0aa8_level0_row1\" class=\"row_heading level0 row1\" >1</th>\n",
       "                        <td id=\"T_b0aa8_row1_col0\" class=\"data row1 col0\" >Catherine</td>\n",
       "                        <td id=\"T_b0aa8_row1_col1\" class=\"data row1 col1\" >Manager</td>\n",
       "                        <td id=\"T_b0aa8_row1_col2\" class=\"data row1 col2\" >4.000000</td>\n",
       "                        <td id=\"T_b0aa8_row1_col3\" class=\"data row1 col3\" >3.500000</td>\n",
       "                        <td id=\"T_b0aa8_row1_col4\" class=\"data row1 col4\" >Most Professional Interview</td>\n",
       "                        <td id=\"T_b0aa8_row1_col5\" class=\"data row1 col5\" >A</td>\n",
       "                        <td id=\"T_b0aa8_row1_col6\" class=\"data row1 col6\" >4</td>\n",
       "                        <td id=\"T_b0aa8_row1_col7\" class=\"data row1 col7\" >Problem solver</td>\n",
       "            </tr>\n",
       "            <tr>\n",
       "                        <th id=\"T_b0aa8_level0_row2\" class=\"row_heading level0 row2\" >2</th>\n",
       "                        <td id=\"T_b0aa8_row2_col0\" class=\"data row2 col0\" >Felipe</td>\n",
       "                        <td id=\"T_b0aa8_row2_col1\" class=\"data row2 col1\" >Sales</td>\n",
       "                        <td id=\"T_b0aa8_row2_col2\" class=\"data row2 col2\" >4.000000</td>\n",
       "                        <td id=\"T_b0aa8_row2_col3\" class=\"data row2 col3\" >4.000000</td>\n",
       "                        <td id=\"T_b0aa8_row2_col4\" class=\"data row2 col4\" >Past success</td>\n",
       "                        <td id=\"T_b0aa8_row2_col5\" class=\"data row2 col5\" >A</td>\n",
       "                        <td id=\"T_b0aa8_row2_col6\" class=\"data row2 col6\" >5</td>\n",
       "                        <td id=\"T_b0aa8_row2_col7\" class=\"data row2 col7\" >Leader</td>\n",
       "            </tr>\n",
       "            <tr>\n",
       "                        <th id=\"T_b0aa8_level0_row3\" class=\"row_heading level0 row3\" >3</th>\n",
       "                        <td id=\"T_b0aa8_row3_col0\" class=\"data row3 col0\" >Gabriel</td>\n",
       "                        <td id=\"T_b0aa8_row3_col1\" class=\"data row3 col1\" >Engineer</td>\n",
       "                        <td id=\"T_b0aa8_row3_col2\" class=\"data row3 col2\" >6.000000</td>\n",
       "                        <td id=\"T_b0aa8_row3_col3\" class=\"data row3 col3\" >4.500000</td>\n",
       "                        <td id=\"T_b0aa8_row3_col4\" class=\"data row3 col4\" >Captivating </td>\n",
       "                        <td id=\"T_b0aa8_row3_col5\" class=\"data row3 col5\" >B</td>\n",
       "                        <td id=\"T_b0aa8_row3_col6\" class=\"data row3 col6\" >3</td>\n",
       "                        <td id=\"T_b0aa8_row3_col7\" class=\"data row3 col7\" >Smart at approaching problems</td>\n",
       "            </tr>\n",
       "    </tbody></table>"
      ],
      "text/plain": [
       "<pandas.io.formats.style.Styler at 0x7faf59098ca0>"
      ]
     },
     "metadata": {},
     "output_type": "display_data"
    },
    {
     "name": "stderr",
     "output_type": "stream",
     "text": [
      "13 rows, 8 columns\n"
     ]
    },
    {
     "data": {
      "text/html": [
       "<style  type=\"text/css\" >\n",
       "#T_73bc2_row0_col5,#T_73bc2_row0_col6,#T_73bc2_row0_col7,#T_73bc2_row3_col5,#T_73bc2_row3_col6,#T_73bc2_row3_col7{\n",
       "            background-color:  yellow;\n",
       "        }</style><table id=\"T_73bc2_\" ><thead>    <tr>        <th class=\"blank level0\" ></th>        <th class=\"col_heading level0 col0\" >Name</th>        <th class=\"col_heading level0 col1\" >Position</th>        <th class=\"col_heading level0 col2\" >YR Experience</th>        <th class=\"col_heading level0 col3\" >Interview Score</th>        <th class=\"col_heading level0 col4\" >Comments</th>        <th class=\"col_heading level0 col5\" >Challenge</th>        <th class=\"col_heading level0 col6\" >Group Interview Score</th>        <th class=\"col_heading level0 col7\" >Group Comments</th>    </tr></thead><tbody>\n",
       "                <tr>\n",
       "                        <th id=\"T_73bc2_level0_row0\" class=\"row_heading level0 row0\" >0</th>\n",
       "                        <td id=\"T_73bc2_row0_col0\" class=\"data row0 col0\" >Ahmed</td>\n",
       "                        <td id=\"T_73bc2_row0_col1\" class=\"data row0 col1\" >Engineer</td>\n",
       "                        <td id=\"T_73bc2_row0_col2\" class=\"data row0 col2\" >3.000000</td>\n",
       "                        <td id=\"T_73bc2_row0_col3\" class=\"data row0 col3\" >5.000000</td>\n",
       "                        <td id=\"T_73bc2_row0_col4\" class=\"data row0 col4\" >Fantastic Preporation</td>\n",
       "                        <td id=\"T_73bc2_row0_col5\" class=\"data row0 col5\" >nan</td>\n",
       "                        <td id=\"T_73bc2_row0_col6\" class=\"data row0 col6\" >nan</td>\n",
       "                        <td id=\"T_73bc2_row0_col7\" class=\"data row0 col7\" >nan</td>\n",
       "            </tr>\n",
       "            <tr>\n",
       "                        <th id=\"T_73bc2_level0_row1\" class=\"row_heading level0 row1\" >1</th>\n",
       "                        <td id=\"T_73bc2_row1_col0\" class=\"data row1 col0\" >Ben</td>\n",
       "                        <td id=\"T_73bc2_row1_col1\" class=\"data row1 col1\" >Manager</td>\n",
       "                        <td id=\"T_73bc2_row1_col2\" class=\"data row1 col2\" >4.000000</td>\n",
       "                        <td id=\"T_73bc2_row1_col3\" class=\"data row1 col3\" >4.500000</td>\n",
       "                        <td id=\"T_73bc2_row1_col4\" class=\"data row1 col4\" >Very enthusiastic</td>\n",
       "                        <td id=\"T_73bc2_row1_col5\" class=\"data row1 col5\" >A</td>\n",
       "                        <td id=\"T_73bc2_row1_col6\" class=\"data row1 col6\" >5.000000</td>\n",
       "                        <td id=\"T_73bc2_row1_col7\" class=\"data row1 col7\" >Kind communicator</td>\n",
       "            </tr>\n",
       "            <tr>\n",
       "                        <th id=\"T_73bc2_level0_row2\" class=\"row_heading level0 row2\" >2</th>\n",
       "                        <td id=\"T_73bc2_row2_col0\" class=\"data row2 col0\" >Catherine</td>\n",
       "                        <td id=\"T_73bc2_row2_col1\" class=\"data row2 col1\" >Manager</td>\n",
       "                        <td id=\"T_73bc2_row2_col2\" class=\"data row2 col2\" >4.000000</td>\n",
       "                        <td id=\"T_73bc2_row2_col3\" class=\"data row2 col3\" >3.500000</td>\n",
       "                        <td id=\"T_73bc2_row2_col4\" class=\"data row2 col4\" >Most Professional Interview</td>\n",
       "                        <td id=\"T_73bc2_row2_col5\" class=\"data row2 col5\" >A</td>\n",
       "                        <td id=\"T_73bc2_row2_col6\" class=\"data row2 col6\" >4.000000</td>\n",
       "                        <td id=\"T_73bc2_row2_col7\" class=\"data row2 col7\" >Problem solver</td>\n",
       "            </tr>\n",
       "            <tr>\n",
       "                        <th id=\"T_73bc2_level0_row3\" class=\"row_heading level0 row3\" >3</th>\n",
       "                        <td id=\"T_73bc2_row3_col0\" class=\"data row3 col0\" >Derrick</td>\n",
       "                        <td id=\"T_73bc2_row3_col1\" class=\"data row3 col1\" >Janitoral</td>\n",
       "                        <td id=\"T_73bc2_row3_col2\" class=\"data row3 col2\" >0.000000</td>\n",
       "                        <td id=\"T_73bc2_row3_col3\" class=\"data row3 col3\" >0.000000</td>\n",
       "                        <td id=\"T_73bc2_row3_col4\" class=\"data row3 col4\" >Technologically Challenged</td>\n",
       "                        <td id=\"T_73bc2_row3_col5\" class=\"data row3 col5\" >nan</td>\n",
       "                        <td id=\"T_73bc2_row3_col6\" class=\"data row3 col6\" >nan</td>\n",
       "                        <td id=\"T_73bc2_row3_col7\" class=\"data row3 col7\" >nan</td>\n",
       "            </tr>\n",
       "    </tbody></table>"
      ],
      "text/plain": [
       "<pandas.io.formats.style.Styler at 0x7faf59078850>"
      ]
     },
     "metadata": {},
     "output_type": "display_data"
    }
   ],
   "source": [
    "join_types = [inner_join, left_join, right_join, outer_join]\n",
    "\n",
    "for f in join_types:\n",
    "    display(head(df_a.pipe(f, df_b, on='Name'), 4).style.highlight_null('yellow'))  "
   ]
  },
  {
   "cell_type": "code",
   "execution_count": null,
   "metadata": {},
   "outputs": [],
   "source": []
  },
  {
   "cell_type": "code",
   "execution_count": null,
   "metadata": {},
   "outputs": [],
   "source": []
  }
 ],
 "metadata": {
  "kernelspec": {
   "display_name": "Python 3",
   "language": "python",
   "name": "python3"
  },
  "language_info": {
   "codemirror_mode": {
    "name": "ipython",
    "version": 3
   },
   "file_extension": ".py",
   "mimetype": "text/x-python",
   "name": "python",
   "nbconvert_exporter": "python",
   "pygments_lexer": "ipython3",
   "version": "3.8.5"
  },
  "toc": {
   "base_numbering": 1,
   "nav_menu": {},
   "number_sections": true,
   "sideBar": true,
   "skip_h1_title": false,
   "title_cell": "Table of Contents",
   "title_sidebar": "Contents",
   "toc_cell": false,
   "toc_position": {
    "height": "calc(100% - 180px)",
    "left": "10px",
    "top": "150px",
    "width": "336px"
   },
   "toc_section_display": true,
   "toc_window_display": true
  }
 },
 "nbformat": 4,
 "nbformat_minor": 4
}
