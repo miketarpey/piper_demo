{
 "cells": [
  {
   "cell_type": "code",
   "execution_count": 1,
   "metadata": {
    "ExecuteTime": {
     "end_time": "2021-03-11T16:32:44.707621Z",
     "start_time": "2021-03-11T16:32:43.844241Z"
    }
   },
   "outputs": [
    {
     "name": "stderr",
     "output_type": "stream",
     "text": [
      "piper v0.1.2: Friday, 09 April 2021 18:51:54\n"
     ]
    }
   ],
   "source": [
    "from piper.defaults import *"
   ]
  },
  {
   "cell_type": "code",
   "execution_count": 2,
   "metadata": {
    "ExecuteTime": {
     "end_time": "2021-03-11T16:32:45.161516Z",
     "start_time": "2021-03-11T16:32:44.711920Z"
    }
   },
   "outputs": [
    {
     "name": "stderr",
     "output_type": "stream",
     "text": [
      "https://en.wikipedia.org/wiki/List_of_British_films_of_2020\n"
     ]
    }
   ],
   "source": [
    "year = 2020\n",
    "\n",
    "url = f\"https://en.wikipedia.org/wiki/List_of_British_films_of_{year}\"\n",
    "logger.info(url)\n",
    "tables = pd.read_html(url, header=0)\n",
    "\n",
    "columns = ['month', 'day', 'title', 'cast crew', 'genre', 'ref']"
   ]
  },
  {
   "cell_type": "code",
   "execution_count": 3,
   "metadata": {
    "ExecuteTime": {
     "end_time": "2021-03-11T16:32:45.204285Z",
     "start_time": "2021-03-11T16:32:45.163725Z"
    }
   },
   "outputs": [
    {
     "name": "stderr",
     "output_type": "stream",
     "text": [
      "Use %piper/%%piper --info to see rendered pandas pipe statement\n"
     ]
    },
    {
     "name": "stderr",
     "output_type": "stream",
     "text": [
      "name 'set_columns' is not defined\n"
     ]
    }
   ],
   "source": [
    "%%piper \n",
    "df <- pd.concat(tables[1:5]) \n",
    ">> set_columns(columns) \n",
    ">> clean_names() \n",
    ">> where(\"~day.isna()\") \n",
    ">> drop(columns='ref') \n",
    ">> assign(month=lambda x: x.month.str.title()) \n",
    ">> assign(day=lambda x: x.day.astype(int)) \n",
    ">> assign(release_date=lambda x: pd.to_datetime(f'{year} ' + x.month + x.day.astype(str))) \n",
    ">> relocate('release_date', loc=0) \n",
    ">> drop(columns=['month', 'day']) \n",
    ">> assign(director=lambda x: x.cast_crew.str.extract(r'Director[s]?:\\s([\\s,\\w]*)\\n?')) \n",
    ">> assign(director=lambda x: x.director.str.strip().str.replace('Cast', '')) \n",
    ">> assign(director=lambda x: x.director.str.strip()) \n",
    ">> assign(cast=lambda x: x.cast_crew.str.strip().str.extract('Cast:(.*)')) \n",
    ">> assign(cast=lambda x: x.cast.str.strip().str.split(pat=', ')) \n",
    ">> explode('cast') \n",
    ">> drop(columns='cast_crew')\n",
    ">> pd.DataFrame.reset_index(drop=True)"
   ]
  },
  {
   "cell_type": "code",
   "execution_count": 4,
   "metadata": {
    "ExecuteTime": {
     "end_time": "2021-03-11T16:32:45.264369Z",
     "start_time": "2021-03-11T16:32:45.206807Z"
    }
   },
   "outputs": [
    {
     "name": "stderr",
     "output_type": "stream",
     "text": [
      "Use %piper/%%piper --info to see rendered pandas pipe statement\n"
     ]
    },
    {
     "name": "stderr",
     "output_type": "stream",
     "text": [
      "name 'df' is not defined\n"
     ]
    }
   ],
   "source": [
    "%%piper \n",
    "count(df, 'cast') >>\n",
    "where(\"cast.isna()\") >>\n",
    "head(5)"
   ]
  },
  {
   "cell_type": "code",
   "execution_count": 5,
   "metadata": {
    "ExecuteTime": {
     "end_time": "2021-03-11T16:32:45.280304Z",
     "start_time": "2021-03-11T16:32:45.267585Z"
    }
   },
   "outputs": [
    {
     "ename": "NameError",
     "evalue": "name 'df' is not defined",
     "output_type": "error",
     "traceback": [
      "\u001b[0;31m---------------------------------------------------------------------------\u001b[0m",
      "\u001b[0;31mNameError\u001b[0m                                 Traceback (most recent call last)",
      "\u001b[0;32m<ipython-input-5-df955b99b436>\u001b[0m in \u001b[0;36m<module>\u001b[0;34m\u001b[0m\n\u001b[0;32m----> 1\u001b[0;31m \u001b[0mdf\u001b[0m \u001b[0;34m=\u001b[0m \u001b[0mdf\u001b[0m\u001b[0;34m[\u001b[0m\u001b[0;34m~\u001b[0m\u001b[0mdf\u001b[0m\u001b[0;34m.\u001b[0m\u001b[0mcast\u001b[0m\u001b[0;34m.\u001b[0m\u001b[0misna\u001b[0m\u001b[0;34m(\u001b[0m\u001b[0;34m)\u001b[0m\u001b[0;34m]\u001b[0m\u001b[0;34m\u001b[0m\u001b[0;34m\u001b[0m\u001b[0m\n\u001b[0m",
      "\u001b[0;31mNameError\u001b[0m: name 'df' is not defined"
     ]
    }
   ],
   "source": [
    "df = df[~df.cast.isna()]"
   ]
  },
  {
   "cell_type": "code",
   "execution_count": 6,
   "metadata": {
    "ExecuteTime": {
     "end_time": "2021-03-11T16:32:45.316104Z",
     "start_time": "2021-03-11T16:32:45.285846Z"
    }
   },
   "outputs": [
    {
     "data": {
      "text/html": [
       "<div>\n",
       "<style scoped>\n",
       "    .dataframe tbody tr th:only-of-type {\n",
       "        vertical-align: middle;\n",
       "    }\n",
       "\n",
       "    .dataframe tbody tr th {\n",
       "        vertical-align: top;\n",
       "    }\n",
       "\n",
       "    .dataframe thead th {\n",
       "        text-align: right;\n",
       "    }\n",
       "</style>\n",
       "<table border=\"1\" class=\"dataframe\">\n",
       "  <thead>\n",
       "    <tr style=\"text-align: right;\">\n",
       "      <th></th>\n",
       "      <th>title</th>\n",
       "      <th>genre</th>\n",
       "      <th>director</th>\n",
       "      <th>cast</th>\n",
       "    </tr>\n",
       "  </thead>\n",
       "  <tbody>\n",
       "  </tbody>\n",
       "</table>\n",
       "</div>"
      ],
      "text/plain": [
       "Empty DataFrame\n",
       "Columns: [title, genre, director, cast]\n",
       "Index: []"
      ]
     },
     "execution_count": 6,
     "metadata": {},
     "output_type": "execute_result"
    }
   ],
   "source": [
    "df.query(\"cast.str.contains('Ferguson')\")"
   ]
  },
  {
   "cell_type": "code",
   "execution_count": 7,
   "metadata": {
    "ExecuteTime": {
     "end_time": "2021-03-11T16:32:45.333357Z",
     "start_time": "2021-03-11T16:32:45.321351Z"
    }
   },
   "outputs": [],
   "source": [
    "# %%piper\n",
    "# df >> head(5)"
   ]
  },
  {
   "cell_type": "code",
   "execution_count": 8,
   "metadata": {
    "ExecuteTime": {
     "end_time": "2021-03-11T16:32:45.378546Z",
     "start_time": "2021-03-11T16:32:45.343818Z"
    }
   },
   "outputs": [
    {
     "name": "stderr",
     "output_type": "stream",
     "text": [
      "223 rows, 4 columns\n"
     ]
    },
    {
     "data": {
      "text/html": [
       "<div>\n",
       "<style scoped>\n",
       "    .dataframe tbody tr th:only-of-type {\n",
       "        vertical-align: middle;\n",
       "    }\n",
       "\n",
       "    .dataframe tbody tr th {\n",
       "        vertical-align: top;\n",
       "    }\n",
       "\n",
       "    .dataframe thead th {\n",
       "        text-align: right;\n",
       "    }\n",
       "</style>\n",
       "<table border=\"1\" class=\"dataframe\">\n",
       "  <thead>\n",
       "    <tr style=\"text-align: right;\">\n",
       "      <th></th>\n",
       "      <th>title</th>\n",
       "      <th>genre</th>\n",
       "      <th>director</th>\n",
       "      <th>cast</th>\n",
       "    </tr>\n",
       "  </thead>\n",
       "  <tbody>\n",
       "    <tr>\n",
       "      <th>0</th>\n",
       "      <td>Come Away</td>\n",
       "      <td>GEM Entertainment Based on Alice's Adventures in Wonderland by Lewis Carroll and Peter Pan by J. M. Barrie (Co-produ...</td>\n",
       "      <td>Brenda Chapman</td>\n",
       "      <td>Angelina Jolie</td>\n",
       "    </tr>\n",
       "    <tr>\n",
       "      <th>1</th>\n",
       "      <td>Come Away</td>\n",
       "      <td>GEM Entertainment Based on Alice's Adventures in Wonderland by Lewis Carroll and Peter Pan by J. M. Barrie (Co-produ...</td>\n",
       "      <td>Brenda Chapman</td>\n",
       "      <td>David Oyelowo</td>\n",
       "    </tr>\n",
       "    <tr>\n",
       "      <th>2</th>\n",
       "      <td>Come Away</td>\n",
       "      <td>GEM Entertainment Based on Alice's Adventures in Wonderland by Lewis Carroll and Peter Pan by J. M. Barrie (Co-produ...</td>\n",
       "      <td>Brenda Chapman</td>\n",
       "      <td>Gugu Mbatha-Raw</td>\n",
       "    </tr>\n",
       "    <tr>\n",
       "      <th>3</th>\n",
       "      <td>Come Away</td>\n",
       "      <td>GEM Entertainment Based on Alice's Adventures in Wonderland by Lewis Carroll and Peter Pan by J. M. Barrie (Co-produ...</td>\n",
       "      <td>Brenda Chapman</td>\n",
       "      <td>Michael Caine</td>\n",
       "    </tr>\n",
       "  </tbody>\n",
       "</table>\n",
       "</div>"
      ],
      "text/plain": [
       "       title  \\\n",
       "0  Come Away   \n",
       "1  Come Away   \n",
       "2  Come Away   \n",
       "3  Come Away   \n",
       "\n",
       "                                                                                                                     genre  \\\n",
       "0  GEM Entertainment Based on Alice's Adventures in Wonderland by Lewis Carroll and Peter Pan by J. M. Barrie (Co-produ...   \n",
       "1  GEM Entertainment Based on Alice's Adventures in Wonderland by Lewis Carroll and Peter Pan by J. M. Barrie (Co-produ...   \n",
       "2  GEM Entertainment Based on Alice's Adventures in Wonderland by Lewis Carroll and Peter Pan by J. M. Barrie (Co-produ...   \n",
       "3  GEM Entertainment Based on Alice's Adventures in Wonderland by Lewis Carroll and Peter Pan by J. M. Barrie (Co-produ...   \n",
       "\n",
       "         director             cast  \n",
       "0  Brenda Chapman   Angelina Jolie  \n",
       "1  Brenda Chapman    David Oyelowo  \n",
       "2  Brenda Chapman  Gugu Mbatha-Raw  \n",
       "3  Brenda Chapman    Michael Caine  "
      ]
     },
     "execution_count": 8,
     "metadata": {},
     "output_type": "execute_result"
    }
   ],
   "source": [
    "head(df)"
   ]
  },
  {
   "cell_type": "code",
   "execution_count": null,
   "metadata": {},
   "outputs": [],
   "source": []
  },
  {
   "cell_type": "code",
   "execution_count": null,
   "metadata": {},
   "outputs": [],
   "source": []
  },
  {
   "cell_type": "code",
   "execution_count": null,
   "metadata": {},
   "outputs": [],
   "source": []
  }
 ],
 "metadata": {
  "hide_input": false,
  "kernelspec": {
   "display_name": "Python 3",
   "language": "python",
   "name": "python3"
  },
  "language_info": {
   "codemirror_mode": {
    "name": "ipython",
    "version": 3
   },
   "file_extension": ".py",
   "mimetype": "text/x-python",
   "name": "python",
   "nbconvert_exporter": "python",
   "pygments_lexer": "ipython3",
   "version": "3.8.5"
  },
  "toc": {
   "base_numbering": 1,
   "nav_menu": {},
   "number_sections": true,
   "sideBar": true,
   "skip_h1_title": false,
   "title_cell": "Table of Contents",
   "title_sidebar": "Contents",
   "toc_cell": false,
   "toc_position": {
    "height": "calc(100% - 180px)",
    "left": "10px",
    "top": "150px",
    "width": "165px"
   },
   "toc_section_display": true,
   "toc_window_display": false
  }
 },
 "nbformat": 4,
 "nbformat_minor": 4
}
