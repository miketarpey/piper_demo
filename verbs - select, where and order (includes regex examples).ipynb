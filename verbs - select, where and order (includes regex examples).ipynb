{
 "cells": [
  {
   "cell_type": "code",
   "execution_count": 1,
   "metadata": {
    "ExecuteTime": {
     "end_time": "2021-03-11T16:18:24.102821Z",
     "start_time": "2021-03-11T16:18:23.222177Z"
    }
   },
   "outputs": [
    {
     "name": "stderr",
     "output_type": "stream",
     "text": [
      "piper v0.1.0: Monday, 29 March 2021 19:05:58\n"
     ]
    }
   ],
   "source": [
    "from piper.defaults import *"
   ]
  },
  {
   "cell_type": "code",
   "execution_count": 2,
   "metadata": {
    "ExecuteTime": {
     "end_time": "2021-03-11T16:18:26.613722Z",
     "start_time": "2021-03-11T16:18:26.544805Z"
    },
    "code_folding": []
   },
   "outputs": [],
   "source": [
    "def cleaning_function(df):\n",
    "    \n",
    "    df.loc[df.qty.str.match(r'[\\w]') == True, 'qty'] = (df.qty.str.strip()\n",
    "                                                          .str.replace(r'[\\s\\-]', '', regex=True)\n",
    "                                                          .str.replace(',(\\d{2})$',r'.\\1', regex=True)\n",
    "                                                          .str.replace(r',', '', regex=True))\n",
    "    df.loc[df.price.str.match(r'[\\w]') == True, 'price'] = (df.price\n",
    "                                                              .str.replace(r'\\s+', r'', regex=True)\n",
    "                                                              .str.replace(r'\\.{2}',r'', regex=True))\n",
    "    \n",
    "    df.loc[df.price.str.match(r'[\\W]') == True, 'price'] = (df.price\n",
    "                                                              .str.replace(r',', r'.', regex=True))\n",
    " \n",
    "    df.loc[df.price.str.match(r'[\\w]') == True, 'price'] = (df.price\n",
    "                                                              .str.replace(r',', r'.', regex=True)\n",
    "                                                              .str.replace(r'\\s+', r'', regex=True)\n",
    "                                                              .str.replace(r'\\.{2}',r'', regex=True))\n",
    "\n",
    "    df.loc[df.price.str.match(r'[\\w]') == True, 'price'] = (df.price     \n",
    "                                                              .str.replace(r'\\.{2}',r'', regex=True)\n",
    "                                                              .str.replace(r'(\\.\\d)\\.',r'\\1', regex=True))\n",
    "    \n",
    "    df['description'] = (df['description'].str.lower()\n",
    "                                      .str.strip()\n",
    "                                      .str.title()\n",
    "                                      .str.replace('ri','ir', regex=True)\n",
    "                                      .str.replace(r'(\\w)\\s+(\\w)', r'\\1 \\2', regex=True))\n",
    "    \n",
    "    df.second_col = (df.second_col\n",
    "                   .str.strip()\n",
    "                   .str.title()\n",
    "                   .str.replace(r'(\\w+),\\s+(\\w+)', r'\\2 \\1', regex=True)\n",
    "                   )\n",
    "    \n",
    "    df.price = df.price.astype(float).round(2)\n",
    "    df.qty = pd.to_numeric(df.qty).astype(int)\n",
    "    \n",
    "    df.effective = pd.to_datetime(df.effective)\n",
    "    df.expired = pd.to_datetime(df.expired)\n",
    "    df['duration'] = (df.expired - df.effective).dt.days\n",
    "    df.drop(columns=['date'], inplace=True)\n",
    "    \n",
    "    expanded_list = df.delimitted_list.str.split(';', n=2, expand=True)\n",
    "    expanded_list.columns = ['list_1', 'list_2', 'list_3']\n",
    "    df = pd.concat([df, expanded_list], axis=1)\n",
    "\n",
    "    return df"
   ]
  },
  {
   "cell_type": "code",
   "execution_count": 3,
   "metadata": {
    "ExecuteTime": {
     "end_time": "2021-03-11T16:18:27.259432Z",
     "start_time": "2021-03-11T16:18:27.244035Z"
    }
   },
   "outputs": [],
   "source": [
    "columns_renamed = ['grouping', 'orders', 'description', 'second_col',\n",
    "                   'qty', 'price', 'effective', 'expired', 'date', 'delimitted_list']"
   ]
  },
  {
   "cell_type": "code",
   "execution_count": 4,
   "metadata": {
    "ExecuteTime": {
     "end_time": "2021-03-11T16:18:28.053586Z",
     "start_time": "2021-03-11T16:18:27.794787Z"
    }
   },
   "outputs": [],
   "source": [
    "%%piper \n",
    "df <- pd.read_excel('inputs/Test excel workbook.xlsx')\n",
    ">> set_columns(columns_renamed)\n",
    ">> cleaning_function() \n",
    ">> relocate('duration', loc='after', ref_column='expired')\n",
    ">> assign(sales = lambda x : x.qty * x.price)\n",
    ">> relocate('sales', loc='after', ref_column='price')\n",
    ">> order_by(by=['second_col', 'qty']) "
   ]
  },
  {
   "cell_type": "code",
   "execution_count": 5,
   "metadata": {
    "ExecuteTime": {
     "end_time": "2021-03-11T16:18:28.546703Z",
     "start_time": "2021-03-11T16:18:28.521922Z"
    }
   },
   "outputs": [
    {
     "name": "stderr",
     "output_type": "stream",
     "text": [
      "12 rows, 14 columns\n"
     ]
    },
    {
     "data": {
      "text/html": [
       "<div>\n",
       "<style scoped>\n",
       "    .dataframe tbody tr th:only-of-type {\n",
       "        vertical-align: middle;\n",
       "    }\n",
       "\n",
       "    .dataframe tbody tr th {\n",
       "        vertical-align: top;\n",
       "    }\n",
       "\n",
       "    .dataframe thead th {\n",
       "        text-align: right;\n",
       "    }\n",
       "</style>\n",
       "<table border=\"1\" class=\"dataframe\">\n",
       "  <thead>\n",
       "    <tr style=\"text-align: right;\">\n",
       "      <th></th>\n",
       "      <th>grouping</th>\n",
       "      <th>orders</th>\n",
       "      <th>description</th>\n",
       "      <th>second_col</th>\n",
       "      <th>qty</th>\n",
       "      <th>price</th>\n",
       "      <th>sales</th>\n",
       "      <th>effective</th>\n",
       "      <th>expired</th>\n",
       "      <th>duration</th>\n",
       "      <th>delimitted_list</th>\n",
       "      <th>list_1</th>\n",
       "      <th>list_2</th>\n",
       "      <th>list_3</th>\n",
       "    </tr>\n",
       "  </thead>\n",
       "  <tbody>\n",
       "    <tr>\n",
       "      <th>0</th>\n",
       "      <td>A100</td>\n",
       "      <td>23899001</td>\n",
       "      <td>First Row</td>\n",
       "      <td>Aidan Scally</td>\n",
       "      <td>14</td>\n",
       "      <td>1.23</td>\n",
       "      <td>17.22</td>\n",
       "      <td>2015-10-21</td>\n",
       "      <td>2019-12-31</td>\n",
       "      <td>1532</td>\n",
       "      <td>123;456;789</td>\n",
       "      <td>123</td>\n",
       "      <td>456</td>\n",
       "      <td>789</td>\n",
       "    </tr>\n",
       "    <tr>\n",
       "      <th>3</th>\n",
       "      <td>A102</td>\n",
       "      <td>23899004</td>\n",
       "      <td>Fourth Row</td>\n",
       "      <td>Alan Denton</td>\n",
       "      <td>13</td>\n",
       "      <td>49.00</td>\n",
       "      <td>637.00</td>\n",
       "      <td>2018-10-21</td>\n",
       "      <td>2022-12-31</td>\n",
       "      <td>1532</td>\n",
       "      <td>cat;dog;books</td>\n",
       "      <td>cat</td>\n",
       "      <td>dog</td>\n",
       "      <td>books</td>\n",
       "    </tr>\n",
       "    <tr>\n",
       "      <th>10</th>\n",
       "      <td>A102</td>\n",
       "      <td>23899011</td>\n",
       "      <td>Fourth Row</td>\n",
       "      <td>Alan Denton</td>\n",
       "      <td>13</td>\n",
       "      <td>49.00</td>\n",
       "      <td>637.00</td>\n",
       "      <td>2018-10-21</td>\n",
       "      <td>2022-12-31</td>\n",
       "      <td>1532</td>\n",
       "      <td>d20;tg54;kde40</td>\n",
       "      <td>d20</td>\n",
       "      <td>tg54</td>\n",
       "      <td>kde40</td>\n",
       "    </tr>\n",
       "    <tr>\n",
       "      <th>8</th>\n",
       "      <td>A105</td>\n",
       "      <td>23899009</td>\n",
       "      <td>Ninth Row</td>\n",
       "      <td>Carsten Seiffert</td>\n",
       "      <td>24</td>\n",
       "      <td>98.00</td>\n",
       "      <td>2352.00</td>\n",
       "      <td>2018-05-21</td>\n",
       "      <td>2025-12-10</td>\n",
       "      <td>2760</td>\n",
       "      <td>1304;53-02;6932</td>\n",
       "      <td>1304</td>\n",
       "      <td>53-02</td>\n",
       "      <td>6932</td>\n",
       "    </tr>\n",
       "  </tbody>\n",
       "</table>\n",
       "</div>"
      ],
      "text/plain": [
       "   grouping    orders description        second_col  qty  price    sales  \\\n",
       "0      A100  23899001   First Row      Aidan Scally   14   1.23    17.22   \n",
       "3      A102  23899004  Fourth Row       Alan Denton   13  49.00   637.00   \n",
       "10     A102  23899011  Fourth Row       Alan Denton   13  49.00   637.00   \n",
       "8      A105  23899009   Ninth Row  Carsten Seiffert   24  98.00  2352.00   \n",
       "\n",
       "    effective    expired  duration  delimitted_list list_1 list_2 list_3  \n",
       "0  2015-10-21 2019-12-31      1532      123;456;789    123    456    789  \n",
       "3  2018-10-21 2022-12-31      1532    cat;dog;books    cat    dog  books  \n",
       "10 2018-10-21 2022-12-31      1532   d20;tg54;kde40    d20   tg54  kde40  \n",
       "8  2018-05-21 2025-12-10      2760  1304;53-02;6932   1304  53-02   6932  "
      ]
     },
     "execution_count": 5,
     "metadata": {},
     "output_type": "execute_result"
    }
   ],
   "source": [
    "%piper df >> head()"
   ]
  },
  {
   "cell_type": "code",
   "execution_count": 6,
   "metadata": {
    "ExecuteTime": {
     "end_time": "2021-03-11T16:18:29.031920Z",
     "start_time": "2021-03-11T16:18:29.025450Z"
    }
   },
   "outputs": [],
   "source": [
    "list_of_groups = ['A100', 'A101', 'A103']\n",
    "duration_criteria = 1600\n",
    "\n",
    "query = \"\"\"(grouping in @list_of_groups) and\\\n",
    "           (~second_col.str.startswith('Theo')) or\\\n",
    "           (duration >= @duration_criteria) \n",
    "        \"\"\""
   ]
  },
  {
   "cell_type": "code",
   "execution_count": 7,
   "metadata": {
    "ExecuteTime": {
     "end_time": "2021-03-11T16:18:29.488365Z",
     "start_time": "2021-03-11T16:18:29.440463Z"
    }
   },
   "outputs": [
    {
     "name": "stderr",
     "output_type": "stream",
     "text": [
      "8 rows, 14 columns\n"
     ]
    },
    {
     "data": {
      "text/html": [
       "<div>\n",
       "<style scoped>\n",
       "    .dataframe tbody tr th:only-of-type {\n",
       "        vertical-align: middle;\n",
       "    }\n",
       "\n",
       "    .dataframe tbody tr th {\n",
       "        vertical-align: top;\n",
       "    }\n",
       "\n",
       "    .dataframe thead th {\n",
       "        text-align: right;\n",
       "    }\n",
       "</style>\n",
       "<table border=\"1\" class=\"dataframe\">\n",
       "  <thead>\n",
       "    <tr style=\"text-align: right;\">\n",
       "      <th></th>\n",
       "      <th>grouping</th>\n",
       "      <th>orders</th>\n",
       "      <th>description</th>\n",
       "      <th>second_col</th>\n",
       "      <th>qty</th>\n",
       "      <th>price</th>\n",
       "      <th>sales</th>\n",
       "      <th>effective</th>\n",
       "      <th>expired</th>\n",
       "      <th>duration</th>\n",
       "      <th>delimitted_list</th>\n",
       "      <th>list_1</th>\n",
       "      <th>list_2</th>\n",
       "      <th>list_3</th>\n",
       "    </tr>\n",
       "  </thead>\n",
       "  <tbody>\n",
       "    <tr>\n",
       "      <th>0</th>\n",
       "      <td>A100</td>\n",
       "      <td>23899001</td>\n",
       "      <td>First Row</td>\n",
       "      <td>Aidan Scally</td>\n",
       "      <td>14</td>\n",
       "      <td>1.23</td>\n",
       "      <td>17.22</td>\n",
       "      <td>2015-10-21</td>\n",
       "      <td>2019-12-31</td>\n",
       "      <td>1532</td>\n",
       "      <td>123;456;789</td>\n",
       "      <td>123</td>\n",
       "      <td>456</td>\n",
       "      <td>789</td>\n",
       "    </tr>\n",
       "    <tr>\n",
       "      <th>8</th>\n",
       "      <td>A105</td>\n",
       "      <td>23899009</td>\n",
       "      <td>Ninth Row</td>\n",
       "      <td>Carsten Seiffert</td>\n",
       "      <td>24</td>\n",
       "      <td>98.00</td>\n",
       "      <td>2352.00</td>\n",
       "      <td>2018-05-21</td>\n",
       "      <td>2025-12-10</td>\n",
       "      <td>2760</td>\n",
       "      <td>1304;53-02;6932</td>\n",
       "      <td>1304</td>\n",
       "      <td>53-02</td>\n",
       "      <td>6932</td>\n",
       "    </tr>\n",
       "    <tr>\n",
       "      <th>9</th>\n",
       "      <td>A105</td>\n",
       "      <td>23899010</td>\n",
       "      <td>Tenth Row</td>\n",
       "      <td>Craig Freer</td>\n",
       "      <td>1800</td>\n",
       "      <td>563.00</td>\n",
       "      <td>1013400.00</td>\n",
       "      <td>2019-10-21</td>\n",
       "      <td>2025-12-31</td>\n",
       "      <td>2263</td>\n",
       "      <td>40a3;64g;023;</td>\n",
       "      <td>40a3</td>\n",
       "      <td>64g</td>\n",
       "      <td>023;</td>\n",
       "    </tr>\n",
       "    <tr>\n",
       "      <th>5</th>\n",
       "      <td>A103</td>\n",
       "      <td>23899006</td>\n",
       "      <td>Sixth Row</td>\n",
       "      <td>Derek Hunt</td>\n",
       "      <td>532</td>\n",
       "      <td>634.23</td>\n",
       "      <td>337410.36</td>\n",
       "      <td>2019-04-21</td>\n",
       "      <td>2020-05-07</td>\n",
       "      <td>382</td>\n",
       "      <td>alpha; bravo; charlie</td>\n",
       "      <td>alpha</td>\n",
       "      <td>bravo</td>\n",
       "      <td>charlie</td>\n",
       "    </tr>\n",
       "  </tbody>\n",
       "</table>\n",
       "</div>"
      ],
      "text/plain": [
       "  grouping    orders description        second_col   qty   price       sales  \\\n",
       "0     A100  23899001   First Row      Aidan Scally    14    1.23       17.22   \n",
       "8     A105  23899009   Ninth Row  Carsten Seiffert    24   98.00     2352.00   \n",
       "9     A105  23899010   Tenth Row       Craig Freer  1800  563.00  1013400.00   \n",
       "5     A103  23899006   Sixth Row        Derek Hunt   532  634.23   337410.36   \n",
       "\n",
       "   effective    expired  duration        delimitted_list list_1  list_2  \\\n",
       "0 2015-10-21 2019-12-31      1532            123;456;789    123     456   \n",
       "8 2018-05-21 2025-12-10      2760        1304;53-02;6932   1304   53-02   \n",
       "9 2019-10-21 2025-12-31      2263          40a3;64g;023;   40a3     64g   \n",
       "5 2019-04-21 2020-05-07       382  alpha; bravo; charlie  alpha   bravo   \n",
       "\n",
       "     list_3  \n",
       "0       789  \n",
       "8      6932  \n",
       "9      023;  \n",
       "5   charlie  "
      ]
     },
     "execution_count": 7,
     "metadata": {},
     "output_type": "execute_result"
    }
   ],
   "source": [
    "%%piper\n",
    "\n",
    "# df.query(query).head(2)\n",
    "df >> where(query, global_dict=globals()) >> head()"
   ]
  },
  {
   "cell_type": "code",
   "execution_count": 8,
   "metadata": {
    "ExecuteTime": {
     "end_time": "2021-03-11T16:18:29.947507Z",
     "start_time": "2021-03-11T16:18:29.909301Z"
    }
   },
   "outputs": [
    {
     "name": "stderr",
     "output_type": "stream",
     "text": [
      "8 rows, 14 columns\n"
     ]
    },
    {
     "data": {
      "text/html": [
       "<div>\n",
       "<style scoped>\n",
       "    .dataframe tbody tr th:only-of-type {\n",
       "        vertical-align: middle;\n",
       "    }\n",
       "\n",
       "    .dataframe tbody tr th {\n",
       "        vertical-align: top;\n",
       "    }\n",
       "\n",
       "    .dataframe thead th {\n",
       "        text-align: right;\n",
       "    }\n",
       "</style>\n",
       "<table border=\"1\" class=\"dataframe\">\n",
       "  <thead>\n",
       "    <tr style=\"text-align: right;\">\n",
       "      <th></th>\n",
       "      <th>grouping</th>\n",
       "      <th>orders</th>\n",
       "      <th>description</th>\n",
       "      <th>second_col</th>\n",
       "      <th>qty</th>\n",
       "      <th>price</th>\n",
       "      <th>sales</th>\n",
       "      <th>effective</th>\n",
       "      <th>expired</th>\n",
       "      <th>duration</th>\n",
       "      <th>delimitted_list</th>\n",
       "      <th>list_1</th>\n",
       "      <th>list_2</th>\n",
       "      <th>list_3</th>\n",
       "    </tr>\n",
       "  </thead>\n",
       "  <tbody>\n",
       "    <tr>\n",
       "      <th>0</th>\n",
       "      <td>A100</td>\n",
       "      <td>23899001</td>\n",
       "      <td>First Row</td>\n",
       "      <td>Aidan Scally</td>\n",
       "      <td>14</td>\n",
       "      <td>1.23</td>\n",
       "      <td>17.22</td>\n",
       "      <td>2015-10-21</td>\n",
       "      <td>2019-12-31</td>\n",
       "      <td>1532</td>\n",
       "      <td>123;456;789</td>\n",
       "      <td>123</td>\n",
       "      <td>456</td>\n",
       "      <td>789</td>\n",
       "    </tr>\n",
       "    <tr>\n",
       "      <th>8</th>\n",
       "      <td>A105</td>\n",
       "      <td>23899009</td>\n",
       "      <td>Ninth Row</td>\n",
       "      <td>Carsten Seiffert</td>\n",
       "      <td>24</td>\n",
       "      <td>98.00</td>\n",
       "      <td>2352.00</td>\n",
       "      <td>2018-05-21</td>\n",
       "      <td>2025-12-10</td>\n",
       "      <td>2760</td>\n",
       "      <td>1304;53-02;6932</td>\n",
       "      <td>1304</td>\n",
       "      <td>53-02</td>\n",
       "      <td>6932</td>\n",
       "    </tr>\n",
       "    <tr>\n",
       "      <th>9</th>\n",
       "      <td>A105</td>\n",
       "      <td>23899010</td>\n",
       "      <td>Tenth Row</td>\n",
       "      <td>Craig Freer</td>\n",
       "      <td>1800</td>\n",
       "      <td>563.00</td>\n",
       "      <td>1013400.00</td>\n",
       "      <td>2019-10-21</td>\n",
       "      <td>2025-12-31</td>\n",
       "      <td>2263</td>\n",
       "      <td>40a3;64g;023;</td>\n",
       "      <td>40a3</td>\n",
       "      <td>64g</td>\n",
       "      <td>023;</td>\n",
       "    </tr>\n",
       "    <tr>\n",
       "      <th>5</th>\n",
       "      <td>A103</td>\n",
       "      <td>23899006</td>\n",
       "      <td>Sixth Row</td>\n",
       "      <td>Derek Hunt</td>\n",
       "      <td>532</td>\n",
       "      <td>634.23</td>\n",
       "      <td>337410.36</td>\n",
       "      <td>2019-04-21</td>\n",
       "      <td>2020-05-07</td>\n",
       "      <td>382</td>\n",
       "      <td>alpha; bravo; charlie</td>\n",
       "      <td>alpha</td>\n",
       "      <td>bravo</td>\n",
       "      <td>charlie</td>\n",
       "    </tr>\n",
       "  </tbody>\n",
       "</table>\n",
       "</div>"
      ],
      "text/plain": [
       "  grouping    orders description        second_col   qty   price       sales  \\\n",
       "0     A100  23899001   First Row      Aidan Scally    14    1.23       17.22   \n",
       "8     A105  23899009   Ninth Row  Carsten Seiffert    24   98.00     2352.00   \n",
       "9     A105  23899010   Tenth Row       Craig Freer  1800  563.00  1013400.00   \n",
       "5     A103  23899006   Sixth Row        Derek Hunt   532  634.23   337410.36   \n",
       "\n",
       "   effective    expired  duration        delimitted_list list_1  list_2  \\\n",
       "0 2015-10-21 2019-12-31      1532            123;456;789    123     456   \n",
       "8 2018-05-21 2025-12-10      2760        1304;53-02;6932   1304   53-02   \n",
       "9 2019-10-21 2025-12-31      2263          40a3;64g;023;   40a3     64g   \n",
       "5 2019-04-21 2020-05-07       382  alpha; bravo; charlie  alpha   bravo   \n",
       "\n",
       "     list_3  \n",
       "0       789  \n",
       "8      6932  \n",
       "9      023;  \n",
       "5   charlie  "
      ]
     },
     "execution_count": 8,
     "metadata": {},
     "output_type": "execute_result"
    }
   ],
   "source": [
    "piped_query = f\"\"\"(grouping in {list_of_groups}) and\\\n",
    "                 (~second_col.str.startswith('Theo')) or\\\n",
    "                 (duration >= {duration_criteria}) \"\"\"\n",
    "\n",
    "%piper df >> where(piped_query) >> head()"
   ]
  },
  {
   "cell_type": "code",
   "execution_count": 9,
   "metadata": {
    "ExecuteTime": {
     "end_time": "2021-03-11T16:18:30.475074Z",
     "start_time": "2021-03-11T16:18:30.464845Z"
    }
   },
   "outputs": [],
   "source": [
    "def pipe(df, *args, **kwargs):\n",
    "    return df"
   ]
  },
  {
   "cell_type": "code",
   "execution_count": 10,
   "metadata": {
    "ExecuteTime": {
     "end_time": "2021-03-11T16:18:30.838847Z",
     "start_time": "2021-03-11T16:18:30.804261Z"
    }
   },
   "outputs": [
    {
     "name": "stderr",
     "output_type": "stream",
     "text": [
      "7 rows, 3 columns\n"
     ]
    },
    {
     "name": "stdout",
     "output_type": "stream",
     "text": [
      "(df\n",
      ".pipe(count, 'effective')\n",
      ".pipe(pipe, pipe=True)\n",
      ".pipe(head))\n"
     ]
    },
    {
     "data": {
      "text/html": [
       "<div>\n",
       "<style scoped>\n",
       "    .dataframe tbody tr th:only-of-type {\n",
       "        vertical-align: middle;\n",
       "    }\n",
       "\n",
       "    .dataframe tbody tr th {\n",
       "        vertical-align: top;\n",
       "    }\n",
       "\n",
       "    .dataframe thead th {\n",
       "        text-align: right;\n",
       "    }\n",
       "</style>\n",
       "<table border=\"1\" class=\"dataframe\">\n",
       "  <thead>\n",
       "    <tr style=\"text-align: right;\">\n",
       "      <th></th>\n",
       "      <th>n</th>\n",
       "      <th>%</th>\n",
       "      <th>cum %</th>\n",
       "    </tr>\n",
       "    <tr>\n",
       "      <th>effective</th>\n",
       "      <th></th>\n",
       "      <th></th>\n",
       "      <th></th>\n",
       "    </tr>\n",
       "  </thead>\n",
       "  <tbody>\n",
       "    <tr>\n",
       "      <th>2019-10-21</th>\n",
       "      <td>5</td>\n",
       "      <td>41.67</td>\n",
       "      <td>41.67</td>\n",
       "    </tr>\n",
       "    <tr>\n",
       "      <th>2018-10-21</th>\n",
       "      <td>2</td>\n",
       "      <td>16.67</td>\n",
       "      <td>58.33</td>\n",
       "    </tr>\n",
       "    <tr>\n",
       "      <th>2015-10-21</th>\n",
       "      <td>1</td>\n",
       "      <td>8.33</td>\n",
       "      <td>66.67</td>\n",
       "    </tr>\n",
       "    <tr>\n",
       "      <th>2016-10-21</th>\n",
       "      <td>1</td>\n",
       "      <td>8.33</td>\n",
       "      <td>75.00</td>\n",
       "    </tr>\n",
       "  </tbody>\n",
       "</table>\n",
       "</div>"
      ],
      "text/plain": [
       "            n      %  cum %\n",
       "effective                  \n",
       "2019-10-21  5  41.67  41.67\n",
       "2018-10-21  2  16.67  58.33\n",
       "2015-10-21  1   8.33  66.67\n",
       "2016-10-21  1   8.33  75.00"
      ]
     },
     "execution_count": 10,
     "metadata": {},
     "output_type": "execute_result"
    }
   ],
   "source": [
    "%%piper -i\n",
    "df >> count('effective') >> pipe(pipe=True) >> head()"
   ]
  },
  {
   "cell_type": "code",
   "execution_count": null,
   "metadata": {},
   "outputs": [],
   "source": []
  },
  {
   "cell_type": "code",
   "execution_count": null,
   "metadata": {},
   "outputs": [],
   "source": []
  },
  {
   "cell_type": "code",
   "execution_count": null,
   "metadata": {},
   "outputs": [],
   "source": []
  }
 ],
 "metadata": {
  "hide_input": false,
  "kernelspec": {
   "display_name": "Python 3",
   "language": "python",
   "name": "python3"
  },
  "language_info": {
   "codemirror_mode": {
    "name": "ipython",
    "version": 3
   },
   "file_extension": ".py",
   "mimetype": "text/x-python",
   "name": "python",
   "nbconvert_exporter": "python",
   "pygments_lexer": "ipython3",
   "version": "3.8.5"
  },
  "toc": {
   "base_numbering": 1,
   "nav_menu": {},
   "number_sections": true,
   "sideBar": true,
   "skip_h1_title": false,
   "title_cell": "Table of Contents",
   "title_sidebar": "Contents",
   "toc_cell": false,
   "toc_position": {},
   "toc_section_display": true,
   "toc_window_display": false
  }
 },
 "nbformat": 4,
 "nbformat_minor": 4
}
