{
 "cells": [
  {
   "cell_type": "code",
   "execution_count": 1,
   "metadata": {
    "ExecuteTime": {
     "end_time": "2021-02-26T15:11:57.530817Z",
     "start_time": "2021-02-26T15:11:56.388427Z"
    }
   },
   "outputs": [
    {
     "name": "stderr",
     "output_type": "stream",
     "text": [
      "piper version 0.0.9, last run: Tuesday, 09 March 2021 20:04:09\n"
     ]
    }
   ],
   "source": [
    "from piper import piper\n",
    "from piper.defaults import *\n",
    "from piper.verbs import *\n",
    "from piper.pandas import *\n",
    "from piper.odbc import connections, connect"
   ]
  },
  {
   "cell_type": "code",
   "execution_count": 2,
   "metadata": {
    "ExecuteTime": {
     "end_time": "2021-02-26T15:11:57.562561Z",
     "start_time": "2021-02-26T15:11:57.532878Z"
    }
   },
   "outputs": [
    {
     "data": {
      "text/html": [
       "<div>\n",
       "<style scoped>\n",
       "    .dataframe tbody tr th:only-of-type {\n",
       "        vertical-align: middle;\n",
       "    }\n",
       "\n",
       "    .dataframe tbody tr th {\n",
       "        vertical-align: top;\n",
       "    }\n",
       "\n",
       "    .dataframe thead th {\n",
       "        text-align: right;\n",
       "    }\n",
       "</style>\n",
       "<table border=\"1\" class=\"dataframe\">\n",
       "  <thead>\n",
       "    <tr style=\"text-align: right;\">\n",
       "      <th></th>\n",
       "      <th>host</th>\n",
       "      <th>port</th>\n",
       "      <th>schema</th>\n",
       "      <th>service</th>\n",
       "      <th>sid</th>\n",
       "      <th>title</th>\n",
       "      <th>url</th>\n",
       "      <th>user</th>\n",
       "    </tr>\n",
       "  </thead>\n",
       "  <tbody>\n",
       "    <tr>\n",
       "      <th>Connection1</th>\n",
       "      <td>localhost</td>\n",
       "      <td></td>\n",
       "      <td>supermart_db</td>\n",
       "      <td></td>\n",
       "      <td></td>\n",
       "      <td>Postgres test database</td>\n",
       "      <td></td>\n",
       "      <td>mike</td>\n",
       "    </tr>\n",
       "  </tbody>\n",
       "</table>\n",
       "</div>"
      ],
      "text/plain": [
       "                  host port        schema service sid                   title  \\\n",
       "Connection1  localhost       supermart_db              Postgres test database   \n",
       "\n",
       "            url  user  \n",
       "Connection1      mike  "
      ]
     },
     "execution_count": 2,
     "metadata": {},
     "output_type": "execute_result"
    }
   ],
   "source": [
    "df = connections(return_type='dataframe')\n",
    "dict_config = connections(file_name='connections.json', return_type='dictionary')\n",
    "df"
   ]
  },
  {
   "cell_type": "code",
   "execution_count": 3,
   "metadata": {
    "ExecuteTime": {
     "end_time": "2021-02-26T15:11:57.703799Z",
     "start_time": "2021-02-26T15:11:57.564821Z"
    }
   },
   "outputs": [
    {
     "name": "stderr",
     "output_type": "stream",
     "text": [
      "Connection: localhost, user:mike\n"
     ]
    },
    {
     "name": "stderr",
     "output_type": "stream",
     "text": [
      "key: user, value: mike\n"
     ]
    },
    {
     "name": "stderr",
     "output_type": "stream",
     "text": [
      "key: channel_binding, value: prefer\n"
     ]
    },
    {
     "name": "stderr",
     "output_type": "stream",
     "text": [
      "key: dbname, value: SuperMart_DB\n"
     ]
    },
    {
     "name": "stderr",
     "output_type": "stream",
     "text": [
      "key: host, value: localhost\n"
     ]
    },
    {
     "name": "stderr",
     "output_type": "stream",
     "text": [
      "key: port, value: 5432\n"
     ]
    },
    {
     "name": "stderr",
     "output_type": "stream",
     "text": [
      "key: tty, value: \n"
     ]
    },
    {
     "name": "stderr",
     "output_type": "stream",
     "text": [
      "key: options, value: \n"
     ]
    },
    {
     "name": "stderr",
     "output_type": "stream",
     "text": [
      "key: sslmode, value: prefer\n"
     ]
    },
    {
     "name": "stderr",
     "output_type": "stream",
     "text": [
      "key: sslcompression, value: 0\n"
     ]
    },
    {
     "name": "stderr",
     "output_type": "stream",
     "text": [
      "key: ssl_min_protocol_version, value: TLSv1.2\n"
     ]
    },
    {
     "name": "stderr",
     "output_type": "stream",
     "text": [
      "key: gssencmode, value: prefer\n"
     ]
    },
    {
     "name": "stderr",
     "output_type": "stream",
     "text": [
      "key: krbsrvname, value: postgres\n"
     ]
    },
    {
     "name": "stderr",
     "output_type": "stream",
     "text": [
      "key: target_session_attrs, value: any\n"
     ]
    },
    {
     "name": "stderr",
     "output_type": "stream",
     "text": [
      "455 rows, 11 columns\n"
     ]
    },
    {
     "data": {
      "text/html": [
       "<div>\n",
       "<style scoped>\n",
       "    .dataframe tbody tr th:only-of-type {\n",
       "        vertical-align: middle;\n",
       "    }\n",
       "\n",
       "    .dataframe tbody tr th {\n",
       "        vertical-align: top;\n",
       "    }\n",
       "\n",
       "    .dataframe thead th {\n",
       "        text-align: right;\n",
       "    }\n",
       "</style>\n",
       "<table border=\"1\" class=\"dataframe\">\n",
       "  <thead>\n",
       "    <tr style=\"text-align: right;\">\n",
       "      <th></th>\n",
       "      <th>order_line</th>\n",
       "      <th>order_id</th>\n",
       "      <th>order_date</th>\n",
       "      <th>ship_date</th>\n",
       "      <th>ship_mode</th>\n",
       "      <th>customer_id</th>\n",
       "      <th>product_id</th>\n",
       "      <th>sales</th>\n",
       "      <th>quantity</th>\n",
       "      <th>discount</th>\n",
       "      <th>profit</th>\n",
       "    </tr>\n",
       "  </thead>\n",
       "  <tbody>\n",
       "    <tr>\n",
       "      <th>0</th>\n",
       "      <td>6342</td>\n",
       "      <td>US-2017-105830</td>\n",
       "      <td>2016-12-31</td>\n",
       "      <td>2017-01-02</td>\n",
       "      <td>First Class</td>\n",
       "      <td>DB-13660</td>\n",
       "      <td>OFF-ST-10002554</td>\n",
       "      <td>156.512</td>\n",
       "      <td>4</td>\n",
       "      <td>0.2</td>\n",
       "      <td>-35.2152</td>\n",
       "    </tr>\n",
       "    <tr>\n",
       "      <th>1</th>\n",
       "      <td>5760</td>\n",
       "      <td>US-2016-111528</td>\n",
       "      <td>2016-12-30</td>\n",
       "      <td>2016-12-30</td>\n",
       "      <td>Same Day</td>\n",
       "      <td>JP-16135</td>\n",
       "      <td>OFF-ST-10001526</td>\n",
       "      <td>481.320</td>\n",
       "      <td>4</td>\n",
       "      <td>0.0</td>\n",
       "      <td>125.1432</td>\n",
       "    </tr>\n",
       "    <tr>\n",
       "      <th>2</th>\n",
       "      <td>8667</td>\n",
       "      <td>CA-2016-163951</td>\n",
       "      <td>2016-12-30</td>\n",
       "      <td>2017-01-02</td>\n",
       "      <td>First Class</td>\n",
       "      <td>CJ-11875</td>\n",
       "      <td>OFF-AR-10004269</td>\n",
       "      <td>16.520</td>\n",
       "      <td>5</td>\n",
       "      <td>0.2</td>\n",
       "      <td>1.6520</td>\n",
       "    </tr>\n",
       "    <tr>\n",
       "      <th>3</th>\n",
       "      <td>5761</td>\n",
       "      <td>US-2016-111528</td>\n",
       "      <td>2016-12-30</td>\n",
       "      <td>2016-12-30</td>\n",
       "      <td>Same Day</td>\n",
       "      <td>JP-16135</td>\n",
       "      <td>OFF-BI-10002194</td>\n",
       "      <td>6.384</td>\n",
       "      <td>1</td>\n",
       "      <td>0.2</td>\n",
       "      <td>2.1546</td>\n",
       "    </tr>\n",
       "    <tr>\n",
       "      <th>4</th>\n",
       "      <td>7562</td>\n",
       "      <td>CA-2016-105746</td>\n",
       "      <td>2016-12-30</td>\n",
       "      <td>2017-01-01</td>\n",
       "      <td>First Class</td>\n",
       "      <td>BD-11605</td>\n",
       "      <td>FUR-CH-10000454</td>\n",
       "      <td>170.786</td>\n",
       "      <td>1</td>\n",
       "      <td>0.3</td>\n",
       "      <td>0.0000</td>\n",
       "    </tr>\n",
       "    <tr>\n",
       "      <th>5</th>\n",
       "      <td>4403</td>\n",
       "      <td>CA-2016-114538</td>\n",
       "      <td>2016-12-26</td>\n",
       "      <td>2016-12-27</td>\n",
       "      <td>First Class</td>\n",
       "      <td>RC-19825</td>\n",
       "      <td>OFF-AR-10002445</td>\n",
       "      <td>11.328</td>\n",
       "      <td>2</td>\n",
       "      <td>0.2</td>\n",
       "      <td>2.5488</td>\n",
       "    </tr>\n",
       "    <tr>\n",
       "      <th>6</th>\n",
       "      <td>4750</td>\n",
       "      <td>CA-2016-123526</td>\n",
       "      <td>2016-12-24</td>\n",
       "      <td>2016-12-25</td>\n",
       "      <td>First Class</td>\n",
       "      <td>BV-11245</td>\n",
       "      <td>OFF-PA-10002986</td>\n",
       "      <td>33.400</td>\n",
       "      <td>5</td>\n",
       "      <td>0.0</td>\n",
       "      <td>16.0320</td>\n",
       "    </tr>\n",
       "    <tr>\n",
       "      <th>7</th>\n",
       "      <td>2306</td>\n",
       "      <td>CA-2016-115574</td>\n",
       "      <td>2016-12-23</td>\n",
       "      <td>2016-12-24</td>\n",
       "      <td>First Class</td>\n",
       "      <td>BP-11185</td>\n",
       "      <td>FUR-BO-10003441</td>\n",
       "      <td>141.372</td>\n",
       "      <td>2</td>\n",
       "      <td>0.3</td>\n",
       "      <td>-14.1372</td>\n",
       "    </tr>\n",
       "    <tr>\n",
       "      <th>8</th>\n",
       "      <td>7579</td>\n",
       "      <td>CA-2016-138597</td>\n",
       "      <td>2016-12-18</td>\n",
       "      <td>2016-12-21</td>\n",
       "      <td>First Class</td>\n",
       "      <td>PN-18775</td>\n",
       "      <td>FUR-CH-10004997</td>\n",
       "      <td>563.940</td>\n",
       "      <td>3</td>\n",
       "      <td>0.0</td>\n",
       "      <td>112.7880</td>\n",
       "    </tr>\n",
       "    <tr>\n",
       "      <th>9</th>\n",
       "      <td>5655</td>\n",
       "      <td>CA-2016-145261</td>\n",
       "      <td>2016-12-18</td>\n",
       "      <td>2016-12-21</td>\n",
       "      <td>First Class</td>\n",
       "      <td>AH-10120</td>\n",
       "      <td>OFF-BI-10001670</td>\n",
       "      <td>45.240</td>\n",
       "      <td>4</td>\n",
       "      <td>0.7</td>\n",
       "      <td>-30.1600</td>\n",
       "    </tr>\n",
       "  </tbody>\n",
       "</table>\n",
       "</div>"
      ],
      "text/plain": [
       "   order_line        order_id  order_date   ship_date    ship_mode  \\\n",
       "0        6342  US-2017-105830  2016-12-31  2017-01-02  First Class   \n",
       "1        5760  US-2016-111528  2016-12-30  2016-12-30     Same Day   \n",
       "2        8667  CA-2016-163951  2016-12-30  2017-01-02  First Class   \n",
       "3        5761  US-2016-111528  2016-12-30  2016-12-30     Same Day   \n",
       "4        7562  CA-2016-105746  2016-12-30  2017-01-01  First Class   \n",
       "5        4403  CA-2016-114538  2016-12-26  2016-12-27  First Class   \n",
       "6        4750  CA-2016-123526  2016-12-24  2016-12-25  First Class   \n",
       "7        2306  CA-2016-115574  2016-12-23  2016-12-24  First Class   \n",
       "8        7579  CA-2016-138597  2016-12-18  2016-12-21  First Class   \n",
       "9        5655  CA-2016-145261  2016-12-18  2016-12-21  First Class   \n",
       "\n",
       "  customer_id       product_id    sales  quantity  discount    profit  \n",
       "0    DB-13660  OFF-ST-10002554  156.512         4       0.2  -35.2152  \n",
       "1    JP-16135  OFF-ST-10001526  481.320         4       0.0  125.1432  \n",
       "2    CJ-11875  OFF-AR-10004269   16.520         5       0.2    1.6520  \n",
       "3    JP-16135  OFF-BI-10002194    6.384         1       0.2    2.1546  \n",
       "4    BD-11605  FUR-CH-10000454  170.786         1       0.3    0.0000  \n",
       "5    RC-19825  OFF-AR-10002445   11.328         2       0.2    2.5488  \n",
       "6    BV-11245  OFF-PA-10002986   33.400         5       0.0   16.0320  \n",
       "7    BP-11185  FUR-BO-10003441  141.372         2       0.3  -14.1372  \n",
       "8    PN-18775  FUR-CH-10004997  563.940         3       0.0  112.7880  \n",
       "9    AH-10120  OFF-BI-10001670   45.240         4       0.7  -30.1600  "
      ]
     },
     "execution_count": 3,
     "metadata": {},
     "output_type": "execute_result"
    }
   ],
   "source": [
    "with connect(connection='Connection1', file_name='connections.json') as con:\n",
    "\n",
    "    for k, v in con.get_dsn_parameters().items():\n",
    "        logger.info(f'key: {k}, value: {v}')\n",
    "\n",
    "    sql = \"\"\" SELECT * from sales \n",
    "          WHERE ship_mode in ('First Class', 'Same Day') and\n",
    "          order_date between '2016-01-01' and '2016-12-31' and \n",
    "          quantity < 6\n",
    "          order by order_date desc \"\"\"\n",
    "        \n",
    "    with con.cursor() as cursor:\n",
    "        cursor.execute(sql)\n",
    "\n",
    "        df = pd.read_sql(sql, con=con)\n",
    "\n",
    "head(df, 10)"
   ]
  },
  {
   "cell_type": "code",
   "execution_count": 4,
   "metadata": {
    "ExecuteTime": {
     "end_time": "2021-02-26T15:11:57.908758Z",
     "start_time": "2021-02-26T15:11:57.706342Z"
    }
   },
   "outputs": [
    {
     "name": "stderr",
     "output_type": "stream",
     "text": [
      "Connection: localhost, user:mike\n"
     ]
    },
    {
     "name": "stderr",
     "output_type": "stream",
     "text": [
      "Warning: Dataframe strip_blanks = True\n"
     ]
    },
    {
     "name": "stderr",
     "output_type": "stream",
     "text": [
      "<NOTE: get_dataframe(return_sql=True) returns rendered SQL>\n"
     ]
    },
    {
     "name": "stderr",
     "output_type": "stream",
     "text": [
      "9994 rows, 11 columns\n"
     ]
    },
    {
     "name": "stderr",
     "output_type": "stream",
     "text": [
      "9994 rows, 11 columns\n"
     ]
    },
    {
     "data": {
      "text/html": [
       "<div>\n",
       "<style scoped>\n",
       "    .dataframe tbody tr th:only-of-type {\n",
       "        vertical-align: middle;\n",
       "    }\n",
       "\n",
       "    .dataframe tbody tr th {\n",
       "        vertical-align: top;\n",
       "    }\n",
       "\n",
       "    .dataframe thead th {\n",
       "        text-align: right;\n",
       "    }\n",
       "</style>\n",
       "<table border=\"1\" class=\"dataframe\">\n",
       "  <thead>\n",
       "    <tr style=\"text-align: right;\">\n",
       "      <th></th>\n",
       "      <th>order_line</th>\n",
       "      <th>order_id</th>\n",
       "      <th>order_date</th>\n",
       "      <th>ship_date</th>\n",
       "      <th>ship_mode</th>\n",
       "      <th>customer_id</th>\n",
       "      <th>product_id</th>\n",
       "      <th>sales</th>\n",
       "      <th>quantity</th>\n",
       "      <th>discount</th>\n",
       "      <th>profit</th>\n",
       "    </tr>\n",
       "  </thead>\n",
       "  <tbody>\n",
       "    <tr>\n",
       "      <th>0</th>\n",
       "      <td>1</td>\n",
       "      <td>CA-2016-152156</td>\n",
       "      <td>2016-11-08</td>\n",
       "      <td>2016-11-11</td>\n",
       "      <td>Second Class</td>\n",
       "      <td>CG-12520</td>\n",
       "      <td>FUR-BO-10001798</td>\n",
       "      <td>261.9600</td>\n",
       "      <td>2</td>\n",
       "      <td>0.00</td>\n",
       "      <td>41.9136</td>\n",
       "    </tr>\n",
       "    <tr>\n",
       "      <th>1</th>\n",
       "      <td>2</td>\n",
       "      <td>CA-2016-152156</td>\n",
       "      <td>2016-11-08</td>\n",
       "      <td>2016-11-11</td>\n",
       "      <td>Second Class</td>\n",
       "      <td>CG-12520</td>\n",
       "      <td>FUR-CH-10000454</td>\n",
       "      <td>731.9400</td>\n",
       "      <td>3</td>\n",
       "      <td>0.00</td>\n",
       "      <td>219.5820</td>\n",
       "    </tr>\n",
       "    <tr>\n",
       "      <th>2</th>\n",
       "      <td>3</td>\n",
       "      <td>CA-2016-138688</td>\n",
       "      <td>2016-06-12</td>\n",
       "      <td>2016-06-16</td>\n",
       "      <td>Second Class</td>\n",
       "      <td>DV-13045</td>\n",
       "      <td>OFF-LA-10000240</td>\n",
       "      <td>14.6200</td>\n",
       "      <td>2</td>\n",
       "      <td>0.00</td>\n",
       "      <td>6.8714</td>\n",
       "    </tr>\n",
       "    <tr>\n",
       "      <th>3</th>\n",
       "      <td>4</td>\n",
       "      <td>US-2015-108966</td>\n",
       "      <td>2015-10-11</td>\n",
       "      <td>2015-10-18</td>\n",
       "      <td>Standard Class</td>\n",
       "      <td>SO-20335</td>\n",
       "      <td>FUR-TA-10000577</td>\n",
       "      <td>957.5775</td>\n",
       "      <td>5</td>\n",
       "      <td>0.45</td>\n",
       "      <td>-383.0310</td>\n",
       "    </tr>\n",
       "  </tbody>\n",
       "</table>\n",
       "</div>"
      ],
      "text/plain": [
       "   order_line        order_id  order_date   ship_date       ship_mode  \\\n",
       "0           1  CA-2016-152156  2016-11-08  2016-11-11    Second Class   \n",
       "1           2  CA-2016-152156  2016-11-08  2016-11-11    Second Class   \n",
       "2           3  CA-2016-138688  2016-06-12  2016-06-16    Second Class   \n",
       "3           4  US-2015-108966  2015-10-11  2015-10-18  Standard Class   \n",
       "\n",
       "  customer_id       product_id     sales  quantity  discount    profit  \n",
       "0    CG-12520  FUR-BO-10001798  261.9600         2      0.00   41.9136  \n",
       "1    CG-12520  FUR-CH-10000454  731.9400         3      0.00  219.5820  \n",
       "2    DV-13045  OFF-LA-10000240   14.6200         2      0.00    6.8714  \n",
       "3    SO-20335  FUR-TA-10000577  957.5775         5      0.45 -383.0310  "
      ]
     },
     "execution_count": 4,
     "metadata": {},
     "output_type": "execute_result"
    }
   ],
   "source": [
    "connection = connect('Connection1', file_name='connections.json')\n",
    "\n",
    "sql = f''' SELECT * from sales '''\n",
    "df = read_sql(sql=sql, con=con)\n",
    "head(df)"
   ]
  },
  {
   "cell_type": "code",
   "execution_count": null,
   "metadata": {},
   "outputs": [],
   "source": []
  },
  {
   "cell_type": "code",
   "execution_count": null,
   "metadata": {},
   "outputs": [],
   "source": []
  }
 ],
 "metadata": {
  "kernelspec": {
   "display_name": "Python 3",
   "language": "python",
   "name": "python3"
  },
  "language_info": {
   "codemirror_mode": {
    "name": "ipython",
    "version": 3
   },
   "file_extension": ".py",
   "mimetype": "text/x-python",
   "name": "python",
   "nbconvert_exporter": "python",
   "pygments_lexer": "ipython3",
   "version": "3.8.5"
  },
  "toc": {
   "base_numbering": 1,
   "nav_menu": {},
   "number_sections": true,
   "sideBar": true,
   "skip_h1_title": false,
   "title_cell": "Table of Contents",
   "title_sidebar": "Contents",
   "toc_cell": false,
   "toc_position": {},
   "toc_section_display": true,
   "toc_window_display": false
  }
 },
 "nbformat": 4,
 "nbformat_minor": 4
}
