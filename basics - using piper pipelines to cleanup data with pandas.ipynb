{
 "cells": [
  {
   "cell_type": "markdown",
   "metadata": {
    "slideshow": {
     "slide_type": "slide"
    }
   },
   "source": [
    "# Setup"
   ]
  },
  {
   "cell_type": "markdown",
   "metadata": {
    "ExecuteTime": {
     "end_time": "2020-07-01T22:46:00.073203Z",
     "start_time": "2020-07-01T22:45:58.305562Z"
    },
    "slideshow": {
     "slide_type": "subslide"
    }
   },
   "source": [
    "When using pandas (and numpy), normally one imports the libraries as follows:\n",
    "```python\n",
    "import pandas as pd\n",
    "import numpy as np\n",
    "```\n",
    "\n",
    "If you want to plot - that's another set of libraries:\n",
    "```python\n",
    "from matplotlib import pyplot as plt\n",
    "%matplotlib inline\n",
    "import numpy as np\n",
    "```"
   ]
  },
  {
   "cell_type": "markdown",
   "metadata": {
    "ExecuteTime": {
     "end_time": "2020-07-01T22:46:00.073203Z",
     "start_time": "2020-07-01T22:45:58.305562Z"
    },
    "slideshow": {
     "slide_type": "subslide"
    }
   },
   "source": [
    "**piper** is a suite of python modules built on top of pandas that complement existing functions :).<br>\n",
    "Entering a single 'magic' command, makes available pandas, numpy, plotting libraries and piper helper functions into the current notebook.  \n",
    "<ul>\n",
    "<li> Records last time the notebook was run \n",
    "<li> allows you to externally parameterise the notebook (run the same notebook with different params).\n",
    "</ul>"
   ]
  },
  {
   "cell_type": "code",
   "execution_count": 1,
   "metadata": {
    "ExecuteTime": {
     "end_time": "2021-02-26T14:54:50.514348Z",
     "start_time": "2021-02-26T14:54:49.591637Z"
    },
    "slideshow": {
     "slide_type": "fragment"
    }
   },
   "outputs": [
    {
     "name": "stderr",
     "output_type": "stream",
     "text": [
      "piper version 0.0.7, last run: Friday, 26 February 2021 14:54:49\n"
     ]
    }
   ],
   "source": [
    "from piper import piper\n",
    "from piper.defaults import *\n",
    "from piper.io import *\n",
    "from piper.verbs import *\n",
    "from piper.configure import get_config"
   ]
  },
  {
   "cell_type": "markdown",
   "metadata": {
    "slideshow": {
     "slide_type": "subslide"
    }
   },
   "source": [
    "## default folders and config details"
   ]
  },
  {
   "cell_type": "markdown",
   "metadata": {
    "ExecuteTime": {
     "end_time": "2020-07-02T07:47:51.594715Z",
     "start_time": "2020-07-02T07:47:51.118382Z"
    },
    "slideshow": {
     "slide_type": "subslide"
    }
   },
   "source": [
    "**piper** gives you access to a json formatted configuration file (config.json).<p>\n",
    "Here, you can store default folder values, define external variables used in the notebook etc."
   ]
  },
  {
   "cell_type": "code",
   "execution_count": 2,
   "metadata": {
    "ExecuteTime": {
     "end_time": "2021-02-26T14:54:50.524192Z",
     "start_time": "2021-02-26T14:54:50.515920Z"
    },
    "scrolled": true,
    "slideshow": {
     "slide_type": "subslide"
    }
   },
   "outputs": [
    {
     "data": {
      "text/plain": [
       "{'meta': {'project': 'notebook project'},\n",
       " 'folders': ['inputs', 'src', 'sql', 'docs', 'outputs', 'reports'],\n",
       " 'variables': {'dummy_variable': 'dummy'},\n",
       " 'connections': {'location': 'connections.json'},\n",
       " 'excel': {'meta': 'xl_meta.json', 'formats': 'formats.json'},\n",
       " 'mail_config': {'server': 'localhost',\n",
       "  'port': 25,\n",
       "  'sender': 'someone@acme.com'},\n",
       " 'project': 'notebook project'}"
      ]
     },
     "execution_count": 2,
     "metadata": {},
     "output_type": "execute_result"
    }
   ],
   "source": [
    "get_config('config.json')"
   ]
  },
  {
   "cell_type": "markdown",
   "metadata": {
    "ExecuteTime": {
     "end_time": "2020-07-02T08:03:56.053694Z",
     "start_time": "2020-07-02T08:03:56.048681Z"
    },
    "slideshow": {
     "slide_type": "subslide"
    }
   },
   "source": [
    "See below, we can read through the config.json file and print out all the values easily.<p>\n",
    "Note the use of **list** and **dictionary** comprehensions to explode respective details. **NEAT!!**"
   ]
  },
  {
   "cell_type": "code",
   "execution_count": 3,
   "metadata": {
    "ExecuteTime": {
     "end_time": "2021-02-26T14:54:50.531485Z",
     "start_time": "2021-02-26T14:54:50.528319Z"
    }
   },
   "outputs": [],
   "source": [
    "from piper.configure import get_config\n",
    "config = get_config('config.json')"
   ]
  },
  {
   "cell_type": "code",
   "execution_count": 4,
   "metadata": {
    "ExecuteTime": {
     "end_time": "2021-02-26T14:54:50.563925Z",
     "start_time": "2021-02-26T14:54:50.533735Z"
    },
    "slideshow": {
     "slide_type": "fragment"
    }
   },
   "outputs": [
    {
     "name": "stderr",
     "output_type": "stream",
     "text": [
      "meta\n",
      "\tkey: project -> values: notebook project\n",
      "folders\n",
      "\t value: inputs\n",
      "\t value: src\n",
      "\t value: sql\n",
      "\t value: docs\n",
      "\t value: outputs\n",
      "\t value: reports\n",
      "variables\n",
      "\tkey: dummy_variable -> values: dummy\n",
      "connections\n",
      "\tkey: location -> values: connections.json\n",
      "excel\n",
      "\tkey: meta -> values: xl_meta.json\n",
      "\tkey: formats -> values: formats.json\n",
      "mail_config\n",
      "\tkey: server -> values: localhost\n",
      "\tkey: port -> values: 25\n",
      "\tkey: sender -> values: someone@acme.com\n",
      "project\n",
      "\tvalue: notebook project\n"
     ]
    }
   ],
   "source": [
    "for k, v in config.items():\n",
    "    logger.info(f'{k}')\n",
    "    if isinstance(v, str):\n",
    "        logger.info('\\tvalue: ' + v)\n",
    "    elif isinstance(v, list):\n",
    "        [logger.info('\\t value: ' + value) for value in v]\n",
    "    elif isinstance(v, dict):\n",
    "        {logger.info(f'\\tkey: {k} -> values: {v}') for k, v in v.items()}"
   ]
  },
  {
   "cell_type": "markdown",
   "metadata": {
    "slideshow": {
     "slide_type": "slide"
    }
   },
   "source": [
    "# DataFrame - Transformations"
   ]
  },
  {
   "cell_type": "markdown",
   "metadata": {
    "slideshow": {
     "slide_type": "subslide"
    }
   },
   "source": [
    "A typical issue with data is that it is not 'clean'. Transformations are required to get data into the right format  for loading or passing on to another system. Let's **read excel** data into a dataframe using standard pandas **read_excel** command. The dataframe has a lot of issues:<ol>\n",
    "<li> bad column names\n",
    "<li> names and description in columns 3 and 4 below need reformatting.\n",
    "<li> invalid price and qty values\n",
    "<li> dates not in correct format for use in Excel (for example).\n",
    "</ol>"
   ]
  },
  {
   "cell_type": "code",
   "execution_count": 5,
   "metadata": {
    "ExecuteTime": {
     "end_time": "2021-02-26T14:54:50.944680Z",
     "start_time": "2021-02-26T14:54:50.566622Z"
    },
    "slideshow": {
     "slide_type": "fragment"
    }
   },
   "outputs": [
    {
     "data": {
      "text/html": [
       "<div>\n",
       "<style scoped>\n",
       "    .dataframe tbody tr th:only-of-type {\n",
       "        vertical-align: middle;\n",
       "    }\n",
       "\n",
       "    .dataframe tbody tr th {\n",
       "        vertical-align: top;\n",
       "    }\n",
       "\n",
       "    .dataframe thead th {\n",
       "        text-align: right;\n",
       "    }\n",
       "</style>\n",
       "<table border=\"1\" class=\"dataframe\">\n",
       "  <thead>\n",
       "    <tr style=\"text-align: right;\">\n",
       "      <th></th>\n",
       "      <th>Gropuing cde_</th>\n",
       "      <th>Order_NBR</th>\n",
       "      <th>This column name is too long</th>\n",
       "      <th>Second column</th>\n",
       "      <th>Quantity</th>\n",
       "      <th>Price</th>\n",
       "      <th>Effective</th>\n",
       "      <th>Expired</th>\n",
       "      <th>TranSACTion DATE</th>\n",
       "      <th>A delimitted LIsT</th>\n",
       "    </tr>\n",
       "  </thead>\n",
       "  <tbody>\n",
       "    <tr>\n",
       "      <th>0</th>\n",
       "      <td>A100</td>\n",
       "      <td>23899001</td>\n",
       "      <td>First                        row</td>\n",
       "      <td>Scally, Aidan</td>\n",
       "      <td>14</td>\n",
       "      <td>1,23</td>\n",
       "      <td>21.10.2015</td>\n",
       "      <td>31.12.2019</td>\n",
       "      <td>20.08.2018</td>\n",
       "      <td>123;456;789</td>\n",
       "    </tr>\n",
       "    <tr>\n",
       "      <th>1</th>\n",
       "      <td>A101</td>\n",
       "      <td>23899002</td>\n",
       "      <td>SECOnd   Row</td>\n",
       "      <td>McAllister, Eoin</td>\n",
       "      <td>103</td>\n",
       "      <td>4,32</td>\n",
       "      <td>21.10.2016</td>\n",
       "      <td>31.12.2020</td>\n",
       "      <td>20.08.2017</td>\n",
       "      <td>ss;11;33</td>\n",
       "    </tr>\n",
       "    <tr>\n",
       "      <th>2</th>\n",
       "      <td>A101</td>\n",
       "      <td>23899003</td>\n",
       "      <td>Thrid        Row</td>\n",
       "      <td>Tarpey, Mike</td>\n",
       "      <td>1</td>\n",
       "      <td>3  4,32</td>\n",
       "      <td>21.10.2017</td>\n",
       "      <td>31.12.2021</td>\n",
       "      <td>20.08.2020</td>\n",
       "      <td>A;b;C</td>\n",
       "    </tr>\n",
       "    <tr>\n",
       "      <th>3</th>\n",
       "      <td>A102</td>\n",
       "      <td>23899004</td>\n",
       "      <td>fOuRth        ROW</td>\n",
       "      <td>Denton,        Alan</td>\n",
       "      <td>13</td>\n",
       "      <td>49</td>\n",
       "      <td>21.10.2018</td>\n",
       "      <td>31.12.2022</td>\n",
       "      <td>20.08.2021</td>\n",
       "      <td>cat;dog;books</td>\n",
       "    </tr>\n",
       "    <tr>\n",
       "      <th>4</th>\n",
       "      <td>A103</td>\n",
       "      <td>23899005</td>\n",
       "      <td>fIFTH rOw</td>\n",
       "      <td>Dallis,                  Theo</td>\n",
       "      <td>19</td>\n",
       "      <td>45.7,98</td>\n",
       "      <td>21.10.2019</td>\n",
       "      <td>31.12.2023</td>\n",
       "      <td>20.08.2022</td>\n",
       "      <td>x;y;z</td>\n",
       "    </tr>\n",
       "  </tbody>\n",
       "</table>\n",
       "</div>"
      ],
      "text/plain": [
       "  Gropuing cde_  Order_NBR      This column name is too long  \\\n",
       "0          A100   23899001  First                        row   \n",
       "1          A101   23899002                      SECOnd   Row   \n",
       "2          A101   23899003                  Thrid        Row   \n",
       "3          A102   23899004                 fOuRth        ROW   \n",
       "4          A103   23899005                         fIFTH rOw   \n",
       "\n",
       "                  Second column  Quantity           Price   Effective  \\\n",
       "0                  Scally, Aidan       14            1,23  21.10.2015   \n",
       "1               McAllister, Eoin      103            4,32  21.10.2016   \n",
       "2                   Tarpey, Mike        1         3  4,32  21.10.2017   \n",
       "3            Denton,        Alan       13              49  21.10.2018   \n",
       "4  Dallis,                  Theo       19         45.7,98  21.10.2019   \n",
       "\n",
       "      Expired TranSACTion DATE A delimitted LIsT  \n",
       "0  31.12.2019       20.08.2018       123;456;789  \n",
       "1  31.12.2020       20.08.2017          ss;11;33  \n",
       "2  31.12.2021       20.08.2020             A;b;C  \n",
       "3  31.12.2022       20.08.2021     cat;dog;books  \n",
       "4  31.12.2023       20.08.2022             x;y;z  "
      ]
     },
     "execution_count": 5,
     "metadata": {},
     "output_type": "execute_result"
    }
   ],
   "source": [
    "# Reading in the file is as simple as passing file name to read_excel function\n",
    "df_original = pd.read_excel(\"inputs/Test excel workbook.xlsx\")\n",
    "\n",
    "# Making a copy of the dataframe (good practice, means you can 'reload' without going back to file.)\n",
    "df = df_original.copy(deep=True)\n",
    "\n",
    "# pandas .head() function defaults to showing first 5 rows in dataframe\n",
    "df.head()"
   ]
  },
  {
   "cell_type": "markdown",
   "metadata": {
    "slideshow": {
     "slide_type": "subslide"
    }
   },
   "source": [
    "## Rename columns"
   ]
  },
  {
   "cell_type": "markdown",
   "metadata": {
    "slideshow": {
     "slide_type": "fragment"
    }
   },
   "source": [
    "Renaming columns can be done in two ways depending on what you want to do:\n",
    "<ol>\n",
    "<li> rename ALL columns in one go.\n",
    "<li> rename selected columns\n",
    "<ol>"
   ]
  },
  {
   "cell_type": "code",
   "execution_count": 6,
   "metadata": {
    "ExecuteTime": {
     "end_time": "2021-02-26T14:54:50.968019Z",
     "start_time": "2021-02-26T14:54:50.946614Z"
    },
    "slideshow": {
     "slide_type": "fragment"
    }
   },
   "outputs": [
    {
     "name": "stderr",
     "output_type": "stream",
     "text": [
      "12 rows, 10 columns\n"
     ]
    },
    {
     "data": {
      "text/html": [
       "<div>\n",
       "<style scoped>\n",
       "    .dataframe tbody tr th:only-of-type {\n",
       "        vertical-align: middle;\n",
       "    }\n",
       "\n",
       "    .dataframe tbody tr th {\n",
       "        vertical-align: top;\n",
       "    }\n",
       "\n",
       "    .dataframe thead th {\n",
       "        text-align: right;\n",
       "    }\n",
       "</style>\n",
       "<table border=\"1\" class=\"dataframe\">\n",
       "  <thead>\n",
       "    <tr style=\"text-align: right;\">\n",
       "      <th></th>\n",
       "      <th>grouping</th>\n",
       "      <th>orders</th>\n",
       "      <th>description</th>\n",
       "      <th>second_col</th>\n",
       "      <th>qty</th>\n",
       "      <th>price</th>\n",
       "      <th>effective</th>\n",
       "      <th>expired</th>\n",
       "      <th>date</th>\n",
       "      <th>delimitted_list</th>\n",
       "    </tr>\n",
       "  </thead>\n",
       "  <tbody>\n",
       "    <tr>\n",
       "      <th>0</th>\n",
       "      <td>A100</td>\n",
       "      <td>23899001</td>\n",
       "      <td>First                        row</td>\n",
       "      <td>Scally, Aidan</td>\n",
       "      <td>14</td>\n",
       "      <td>1,23</td>\n",
       "      <td>21.10.2015</td>\n",
       "      <td>31.12.2019</td>\n",
       "      <td>20.08.2018</td>\n",
       "      <td>123;456;789</td>\n",
       "    </tr>\n",
       "    <tr>\n",
       "      <th>1</th>\n",
       "      <td>A101</td>\n",
       "      <td>23899002</td>\n",
       "      <td>SECOnd   Row</td>\n",
       "      <td>McAllister, Eoin</td>\n",
       "      <td>103</td>\n",
       "      <td>4,32</td>\n",
       "      <td>21.10.2016</td>\n",
       "      <td>31.12.2020</td>\n",
       "      <td>20.08.2017</td>\n",
       "      <td>ss;11;33</td>\n",
       "    </tr>\n",
       "    <tr>\n",
       "      <th>2</th>\n",
       "      <td>A101</td>\n",
       "      <td>23899003</td>\n",
       "      <td>Thrid        Row</td>\n",
       "      <td>Tarpey, Mike</td>\n",
       "      <td>1</td>\n",
       "      <td>3  4,32</td>\n",
       "      <td>21.10.2017</td>\n",
       "      <td>31.12.2021</td>\n",
       "      <td>20.08.2020</td>\n",
       "      <td>A;b;C</td>\n",
       "    </tr>\n",
       "    <tr>\n",
       "      <th>3</th>\n",
       "      <td>A102</td>\n",
       "      <td>23899004</td>\n",
       "      <td>fOuRth        ROW</td>\n",
       "      <td>Denton,        Alan</td>\n",
       "      <td>13</td>\n",
       "      <td>49</td>\n",
       "      <td>21.10.2018</td>\n",
       "      <td>31.12.2022</td>\n",
       "      <td>20.08.2021</td>\n",
       "      <td>cat;dog;books</td>\n",
       "    </tr>\n",
       "  </tbody>\n",
       "</table>\n",
       "</div>"
      ],
      "text/plain": [
       "  grouping    orders                       description           second_col  \\\n",
       "0     A100  23899001  First                        row        Scally, Aidan   \n",
       "1     A101  23899002                      SECOnd   Row     McAllister, Eoin   \n",
       "2     A101  23899003                  Thrid        Row         Tarpey, Mike   \n",
       "3     A102  23899004                 fOuRth        ROW  Denton,        Alan   \n",
       "\n",
       "   qty           price   effective     expired        date delimitted_list  \n",
       "0   14            1,23  21.10.2015  31.12.2019  20.08.2018     123;456;789  \n",
       "1  103            4,32  21.10.2016  31.12.2020  20.08.2017        ss;11;33  \n",
       "2    1         3  4,32  21.10.2017  31.12.2021  20.08.2020           A;b;C  \n",
       "3   13              49  21.10.2018  31.12.2022  20.08.2021   cat;dog;books  "
      ]
     },
     "execution_count": 6,
     "metadata": {},
     "output_type": "execute_result"
    }
   ],
   "source": [
    "columns_renamed = ['grouping', 'orders', 'description', 'second_col',\n",
    "                   'qty', 'price', 'effective', 'expired', 'date', 'delimitted_list']\n",
    "\n",
    "# df.columns is an 'attribute' or property of the dataframe and can be accessed/updated directly\n",
    "df.columns = columns_renamed\n",
    "\n",
    "# dfxl head function gives us same functionality as pandas .head() but with row, col count information.\n",
    "head(df)"
   ]
  },
  {
   "cell_type": "markdown",
   "metadata": {
    "slideshow": {
     "slide_type": "subslide"
    }
   },
   "source": [
    "## Chaining functions - clean strings example"
   ]
  },
  {
   "cell_type": "markdown",
   "metadata": {
    "slideshow": {
     "slide_type": "notes"
    }
   },
   "source": [
    "In example below, the description field contains embedded blanks.  How can you clean this to remove all the addtional spaces before, after and in between each of the words? Impossible?"
   ]
  },
  {
   "cell_type": "code",
   "execution_count": 7,
   "metadata": {
    "ExecuteTime": {
     "end_time": "2021-02-26T14:54:50.978440Z",
     "start_time": "2021-02-26T14:54:50.970459Z"
    },
    "slideshow": {
     "slide_type": "fragment"
    }
   },
   "outputs": [
    {
     "data": {
      "text/plain": [
       "0     First                        row\n",
       "1                         SECOnd   Row\n",
       "2                     Thrid        Row\n",
       "3                    fOuRth        ROW\n",
       "4                            fIFTH rOw\n",
       "5                     sIxTH        rOw\n",
       "6                          SeVENtH roW\n",
       "7                           EIghTh RoW\n",
       "8                       NINTH      row\n",
       "9                  TEnTh           rOW\n",
       "10                     fOuRth      Row\n",
       "11                      fIFTH      rOw\n",
       "Name: description, dtype: object"
      ]
     },
     "execution_count": 7,
     "metadata": {},
     "output_type": "execute_result"
    }
   ],
   "source": [
    "df.description #.to_frame()"
   ]
  },
  {
   "cell_type": "markdown",
   "metadata": {
    "slideshow": {
     "slide_type": "subslide"
    }
   },
   "source": [
    "pandas has a massive list of 'string' functions... below each function is 'chained' one after the other - lowecasing, stripping blanks (before and after words), replacing 'ri' with 'ir' and finally stripping and capturing the words (\\w) using regular expressions (regex) and reversing the word order."
   ]
  },
  {
   "cell_type": "code",
   "execution_count": 8,
   "metadata": {
    "ExecuteTime": {
     "end_time": "2021-02-26T14:54:50.993812Z",
     "start_time": "2021-02-26T14:54:50.982173Z"
    },
    "slideshow": {
     "slide_type": "fragment"
    }
   },
   "outputs": [
    {
     "data": {
      "text/plain": [
       "0       First Row\n",
       "1      Second Row\n",
       "2       Third Row\n",
       "3      Fourth Row\n",
       "4       Fifth Row\n",
       "5       Sixth Row\n",
       "6     Seventh Row\n",
       "7      Eighth Row\n",
       "8       Ninth Row\n",
       "9       Tenth Row\n",
       "10     Fourth Row\n",
       "11      Fifth Row\n",
       "Name: description, dtype: object"
      ]
     },
     "execution_count": 8,
     "metadata": {},
     "output_type": "execute_result"
    }
   ],
   "source": [
    "df['description'] = (df['description'].str.lower()\n",
    "                                      .str.strip()\n",
    "                                      .str.title()\n",
    "                                      .str.replace('ri','ir', regex=True)\n",
    "                                      .str.replace(r'(\\w)\\s+(\\w)', r'\\1 \\2', regex=True))\n",
    "df.description #.to_frame()"
   ]
  },
  {
   "cell_type": "markdown",
   "metadata": {
    "slideshow": {
     "slide_type": "subslide"
    }
   },
   "source": [
    "Another example, we want to strip blanks, capitalize each word and reverse the word sequence."
   ]
  },
  {
   "cell_type": "code",
   "execution_count": 9,
   "metadata": {
    "ExecuteTime": {
     "end_time": "2021-02-26T14:54:51.005241Z",
     "start_time": "2021-02-26T14:54:50.995786Z"
    },
    "scrolled": true,
    "slideshow": {
     "slide_type": "fragment"
    }
   },
   "outputs": [
    {
     "data": {
      "text/plain": [
       "0                     Scally, Aidan\n",
       "1                  McAllister, Eoin\n",
       "2                      Tarpey, Mike\n",
       "3               Denton,        Alan\n",
       "4     Dallis,                  Theo\n",
       "5                       HUNT, DerEK\n",
       "6                 Goddard,     TONY\n",
       "7              Whitaker,    Matthew\n",
       "8                 Seiffert, CARsteN\n",
       "9               Freer,        Craig\n",
       "10                   DENTON,   Alan\n",
       "11           Dallis,           THEO\n",
       "Name: second_col, dtype: object"
      ]
     },
     "execution_count": 9,
     "metadata": {},
     "output_type": "execute_result"
    }
   ],
   "source": [
    "df.second_col #.to_frame()"
   ]
  },
  {
   "cell_type": "code",
   "execution_count": 10,
   "metadata": {
    "ExecuteTime": {
     "end_time": "2021-02-26T14:54:51.018240Z",
     "start_time": "2021-02-26T14:54:51.007500Z"
    },
    "slideshow": {
     "slide_type": "subslide"
    }
   },
   "outputs": [
    {
     "data": {
      "text/plain": [
       "0         Aidan Scally\n",
       "1      Eoin Mcallister\n",
       "2          Mike Tarpey\n",
       "3          Alan Denton\n",
       "4          Theo Dallis\n",
       "5           Derek Hunt\n",
       "6         Tony Goddard\n",
       "7     Matthew Whitaker\n",
       "8     Carsten Seiffert\n",
       "9          Craig Freer\n",
       "10         Alan Denton\n",
       "11         Theo Dallis\n",
       "Name: second_col, dtype: object"
      ]
     },
     "execution_count": 10,
     "metadata": {},
     "output_type": "execute_result"
    }
   ],
   "source": [
    "# Voila! Simple, chained functions\n",
    "\n",
    "df.second_col = (df.second_col.str.strip()\n",
    "                              .str.title()\n",
    "                              .str.replace(r'(\\w+),\\s+(\\w+)', r'\\2 \\1', regex=True))\n",
    "df.second_col #.to_frame()"
   ]
  },
  {
   "cell_type": "markdown",
   "metadata": {
    "slideshow": {
     "slide_type": "slide"
    }
   },
   "source": [
    "## Clean-up"
   ]
  },
  {
   "cell_type": "markdown",
   "metadata": {
    "slideshow": {
     "slide_type": "subslide"
    }
   },
   "source": [
    "### Numbers"
   ]
  },
  {
   "cell_type": "code",
   "execution_count": 11,
   "metadata": {
    "ExecuteTime": {
     "end_time": "2021-02-26T14:54:51.035946Z",
     "start_time": "2021-02-26T14:54:51.020413Z"
    },
    "slideshow": {
     "slide_type": "subslide"
    }
   },
   "outputs": [
    {
     "data": {
      "text/html": [
       "<div>\n",
       "<style scoped>\n",
       "    .dataframe tbody tr th:only-of-type {\n",
       "        vertical-align: middle;\n",
       "    }\n",
       "\n",
       "    .dataframe tbody tr th {\n",
       "        vertical-align: top;\n",
       "    }\n",
       "\n",
       "    .dataframe thead th {\n",
       "        text-align: right;\n",
       "    }\n",
       "</style>\n",
       "<table border=\"1\" class=\"dataframe\">\n",
       "  <thead>\n",
       "    <tr style=\"text-align: right;\">\n",
       "      <th></th>\n",
       "      <th>qty</th>\n",
       "      <th>price</th>\n",
       "    </tr>\n",
       "  </thead>\n",
       "  <tbody>\n",
       "    <tr>\n",
       "      <th>0</th>\n",
       "      <td>14</td>\n",
       "      <td>1,23</td>\n",
       "    </tr>\n",
       "    <tr>\n",
       "      <th>1</th>\n",
       "      <td>103</td>\n",
       "      <td>4,32</td>\n",
       "    </tr>\n",
       "    <tr>\n",
       "      <th>2</th>\n",
       "      <td>1</td>\n",
       "      <td>3  4,32</td>\n",
       "    </tr>\n",
       "    <tr>\n",
       "      <th>3</th>\n",
       "      <td>13</td>\n",
       "      <td>49</td>\n",
       "    </tr>\n",
       "    <tr>\n",
       "      <th>4</th>\n",
       "      <td>19</td>\n",
       "      <td>45.7,98</td>\n",
       "    </tr>\n",
       "    <tr>\n",
       "      <th>5</th>\n",
       "      <td>5---32,14</td>\n",
       "      <td>634,23</td>\n",
       "    </tr>\n",
       "    <tr>\n",
       "      <th>6</th>\n",
       "      <td>178.3035</td>\n",
       "      <td>27.04502</td>\n",
       "    </tr>\n",
       "    <tr>\n",
       "      <th>7</th>\n",
       "      <td>4-2-4,00</td>\n",
       "      <td>56,3.00</td>\n",
       "    </tr>\n",
       "    <tr>\n",
       "      <th>8</th>\n",
       "      <td>2-4,00</td>\n",
       "      <td>9,.8.00</td>\n",
       "    </tr>\n",
       "    <tr>\n",
       "      <th>9</th>\n",
       "      <td>18,00.22</td>\n",
       "      <td>563</td>\n",
       "    </tr>\n",
       "    <tr>\n",
       "      <th>10</th>\n",
       "      <td>13</td>\n",
       "      <td>49</td>\n",
       "    </tr>\n",
       "    <tr>\n",
       "      <th>11</th>\n",
       "      <td>19</td>\n",
       "      <td>45.7,98</td>\n",
       "    </tr>\n",
       "  </tbody>\n",
       "</table>\n",
       "</div>"
      ],
      "text/plain": [
       "          qty           price\n",
       "0          14            1,23\n",
       "1         103            4,32\n",
       "2           1         3  4,32\n",
       "3          13              49\n",
       "4          19         45.7,98\n",
       "5   5---32,14          634,23\n",
       "6    178.3035        27.04502\n",
       "7    4-2-4,00         56,3.00\n",
       "8      2-4,00         9,.8.00\n",
       "9    18,00.22             563\n",
       "10         13              49\n",
       "11         19         45.7,98"
      ]
     },
     "execution_count": 11,
     "metadata": {},
     "output_type": "execute_result"
    }
   ],
   "source": [
    "# Again, someone has really messed up here ;) ...\n",
    "# how can we remove invalid characters to clean up these number values?\n",
    "\n",
    "df[['qty', 'price']]"
   ]
  },
  {
   "cell_type": "code",
   "execution_count": 12,
   "metadata": {
    "ExecuteTime": {
     "end_time": "2021-02-26T14:54:51.071806Z",
     "start_time": "2021-02-26T14:54:51.038595Z"
    },
    "slideshow": {
     "slide_type": "subslide"
    }
   },
   "outputs": [
    {
     "data": {
      "text/html": [
       "<div>\n",
       "<style scoped>\n",
       "    .dataframe tbody tr th:only-of-type {\n",
       "        vertical-align: middle;\n",
       "    }\n",
       "\n",
       "    .dataframe tbody tr th {\n",
       "        vertical-align: top;\n",
       "    }\n",
       "\n",
       "    .dataframe thead th {\n",
       "        text-align: right;\n",
       "    }\n",
       "</style>\n",
       "<table border=\"1\" class=\"dataframe\">\n",
       "  <thead>\n",
       "    <tr style=\"text-align: right;\">\n",
       "      <th></th>\n",
       "      <th>qty</th>\n",
       "      <th>price</th>\n",
       "    </tr>\n",
       "  </thead>\n",
       "  <tbody>\n",
       "    <tr>\n",
       "      <th>0</th>\n",
       "      <td>14</td>\n",
       "      <td>1,23</td>\n",
       "    </tr>\n",
       "    <tr>\n",
       "      <th>1</th>\n",
       "      <td>103</td>\n",
       "      <td>4,32</td>\n",
       "    </tr>\n",
       "    <tr>\n",
       "      <th>2</th>\n",
       "      <td>1</td>\n",
       "      <td>34,32</td>\n",
       "    </tr>\n",
       "    <tr>\n",
       "      <th>3</th>\n",
       "      <td>13</td>\n",
       "      <td>49</td>\n",
       "    </tr>\n",
       "    <tr>\n",
       "      <th>4</th>\n",
       "      <td>19</td>\n",
       "      <td>45.7,98</td>\n",
       "    </tr>\n",
       "    <tr>\n",
       "      <th>5</th>\n",
       "      <td>532.14</td>\n",
       "      <td>634,23</td>\n",
       "    </tr>\n",
       "    <tr>\n",
       "      <th>6</th>\n",
       "      <td>178.3035</td>\n",
       "      <td>27.04502</td>\n",
       "    </tr>\n",
       "    <tr>\n",
       "      <th>7</th>\n",
       "      <td>424.00</td>\n",
       "      <td>56,3.00</td>\n",
       "    </tr>\n",
       "    <tr>\n",
       "      <th>8</th>\n",
       "      <td>24.00</td>\n",
       "      <td>9,.8.00</td>\n",
       "    </tr>\n",
       "    <tr>\n",
       "      <th>9</th>\n",
       "      <td>1800.22</td>\n",
       "      <td>563</td>\n",
       "    </tr>\n",
       "    <tr>\n",
       "      <th>10</th>\n",
       "      <td>13</td>\n",
       "      <td>49</td>\n",
       "    </tr>\n",
       "    <tr>\n",
       "      <th>11</th>\n",
       "      <td>19</td>\n",
       "      <td>45.7,98</td>\n",
       "    </tr>\n",
       "  </tbody>\n",
       "</table>\n",
       "</div>"
      ],
      "text/plain": [
       "         qty           price\n",
       "0         14            1,23\n",
       "1        103            4,32\n",
       "2          1           34,32\n",
       "3         13              49\n",
       "4         19         45.7,98\n",
       "5     532.14          634,23\n",
       "6   178.3035        27.04502\n",
       "7     424.00         56,3.00\n",
       "8      24.00         9,.8.00\n",
       "9    1800.22             563\n",
       "10        13              49\n",
       "11        19         45.7,98"
      ]
     },
     "execution_count": 12,
     "metadata": {},
     "output_type": "execute_result"
    }
   ],
   "source": [
    "df.loc[df.qty.str.match(r'[\\w]') == True, 'qty'] = (df.qty.str.strip()\n",
    "                                                          .str.replace(r'[\\s\\-]', '', regex=True)\n",
    "                                                          .str.replace(',(\\d{2})$',r'.\\1', regex=True)\n",
    "                                                          .str.replace(r',', '', regex=True))\n",
    "\n",
    "df.loc[df.price.str.match(r'[\\w]') == True, 'price'] = (df.price.str.replace(r'\\s+', r'', regex=True))\n",
    "\n",
    "df[['qty', 'price']]"
   ]
  },
  {
   "cell_type": "code",
   "execution_count": 13,
   "metadata": {
    "ExecuteTime": {
     "end_time": "2021-02-26T14:54:51.101246Z",
     "start_time": "2021-02-26T14:54:51.075766Z"
    },
    "slideshow": {
     "slide_type": "subslide"
    }
   },
   "outputs": [
    {
     "data": {
      "text/html": [
       "<div>\n",
       "<style scoped>\n",
       "    .dataframe tbody tr th:only-of-type {\n",
       "        vertical-align: middle;\n",
       "    }\n",
       "\n",
       "    .dataframe tbody tr th {\n",
       "        vertical-align: top;\n",
       "    }\n",
       "\n",
       "    .dataframe thead th {\n",
       "        text-align: right;\n",
       "    }\n",
       "</style>\n",
       "<table border=\"1\" class=\"dataframe\">\n",
       "  <thead>\n",
       "    <tr style=\"text-align: right;\">\n",
       "      <th></th>\n",
       "      <th>price</th>\n",
       "    </tr>\n",
       "  </thead>\n",
       "  <tbody>\n",
       "    <tr>\n",
       "      <th>0</th>\n",
       "      <td>1.23</td>\n",
       "    </tr>\n",
       "    <tr>\n",
       "      <th>1</th>\n",
       "      <td>4.32</td>\n",
       "    </tr>\n",
       "    <tr>\n",
       "      <th>2</th>\n",
       "      <td>34.32</td>\n",
       "    </tr>\n",
       "    <tr>\n",
       "      <th>3</th>\n",
       "      <td>49</td>\n",
       "    </tr>\n",
       "    <tr>\n",
       "      <th>4</th>\n",
       "      <td>45.798</td>\n",
       "    </tr>\n",
       "    <tr>\n",
       "      <th>5</th>\n",
       "      <td>634.23</td>\n",
       "    </tr>\n",
       "    <tr>\n",
       "      <th>6</th>\n",
       "      <td>27.04502</td>\n",
       "    </tr>\n",
       "    <tr>\n",
       "      <th>7</th>\n",
       "      <td>56.300</td>\n",
       "    </tr>\n",
       "    <tr>\n",
       "      <th>8</th>\n",
       "      <td>98.00</td>\n",
       "    </tr>\n",
       "    <tr>\n",
       "      <th>9</th>\n",
       "      <td>563</td>\n",
       "    </tr>\n",
       "    <tr>\n",
       "      <th>10</th>\n",
       "      <td>49</td>\n",
       "    </tr>\n",
       "    <tr>\n",
       "      <th>11</th>\n",
       "      <td>45.798</td>\n",
       "    </tr>\n",
       "  </tbody>\n",
       "</table>\n",
       "</div>"
      ],
      "text/plain": [
       "             price\n",
       "0             1.23\n",
       "1             4.32\n",
       "2            34.32\n",
       "3               49\n",
       "4           45.798\n",
       "5           634.23\n",
       "6         27.04502\n",
       "7           56.300\n",
       "8            98.00\n",
       "9              563\n",
       "10              49\n",
       "11          45.798"
      ]
     },
     "execution_count": 13,
     "metadata": {},
     "output_type": "execute_result"
    }
   ],
   "source": [
    "# If not alphanumeric, replace any comma with a decimal point.\n",
    "df.loc[df.price.str.match(r'[\\W]') == True, 'price'] = (df.price.str.replace(r',', r'.', regex=True))\n",
    "\n",
    "# if alphanumeric, replace comma with point, strip spaces and if more than one decimal point, remove \n",
    "df.loc[df.price.str.match(r'[\\w]') == True, 'price'] = (df.price.str.replace(r',', r'.', regex=True)\n",
    "                                                                .str.replace(r'\\s+', r'', regex=True)\n",
    "                                                                .str.replace(r'\\.{2}',r'', regex=True))\n",
    "# Check again alphanumeric fields for multiple d.p. also if decimal points found 'between', number - remove ALL points.\n",
    "df.loc[df.price.str.match(r'[\\w]') == True, 'price'] = (df.price.str.replace(r'\\.{2}',r'', regex=True)\n",
    "                                                                .str.replace(r'(\\.\\d)\\.',r'\\1', regex=True))\n",
    "df.price.to_frame()"
   ]
  },
  {
   "cell_type": "code",
   "execution_count": 14,
   "metadata": {
    "ExecuteTime": {
     "end_time": "2021-02-26T14:54:51.130512Z",
     "start_time": "2021-02-26T14:54:51.109643Z"
    },
    "slideshow": {
     "slide_type": "subslide"
    }
   },
   "outputs": [
    {
     "data": {
      "text/html": [
       "<div>\n",
       "<style scoped>\n",
       "    .dataframe tbody tr th:only-of-type {\n",
       "        vertical-align: middle;\n",
       "    }\n",
       "\n",
       "    .dataframe tbody tr th {\n",
       "        vertical-align: top;\n",
       "    }\n",
       "\n",
       "    .dataframe thead th {\n",
       "        text-align: right;\n",
       "    }\n",
       "</style>\n",
       "<table border=\"1\" class=\"dataframe\">\n",
       "  <thead>\n",
       "    <tr style=\"text-align: right;\">\n",
       "      <th></th>\n",
       "      <th>price</th>\n",
       "      <th>qty</th>\n",
       "    </tr>\n",
       "  </thead>\n",
       "  <tbody>\n",
       "    <tr>\n",
       "      <th>0</th>\n",
       "      <td>1.23</td>\n",
       "      <td>14</td>\n",
       "    </tr>\n",
       "    <tr>\n",
       "      <th>1</th>\n",
       "      <td>4.32</td>\n",
       "      <td>103</td>\n",
       "    </tr>\n",
       "    <tr>\n",
       "      <th>2</th>\n",
       "      <td>34.32</td>\n",
       "      <td>1</td>\n",
       "    </tr>\n",
       "    <tr>\n",
       "      <th>3</th>\n",
       "      <td>49.00</td>\n",
       "      <td>13</td>\n",
       "    </tr>\n",
       "    <tr>\n",
       "      <th>4</th>\n",
       "      <td>45.80</td>\n",
       "      <td>19</td>\n",
       "    </tr>\n",
       "    <tr>\n",
       "      <th>5</th>\n",
       "      <td>634.23</td>\n",
       "      <td>532</td>\n",
       "    </tr>\n",
       "    <tr>\n",
       "      <th>6</th>\n",
       "      <td>27.05</td>\n",
       "      <td>178</td>\n",
       "    </tr>\n",
       "    <tr>\n",
       "      <th>7</th>\n",
       "      <td>56.30</td>\n",
       "      <td>424</td>\n",
       "    </tr>\n",
       "    <tr>\n",
       "      <th>8</th>\n",
       "      <td>98.00</td>\n",
       "      <td>24</td>\n",
       "    </tr>\n",
       "    <tr>\n",
       "      <th>9</th>\n",
       "      <td>563.00</td>\n",
       "      <td>1800</td>\n",
       "    </tr>\n",
       "    <tr>\n",
       "      <th>10</th>\n",
       "      <td>49.00</td>\n",
       "      <td>13</td>\n",
       "    </tr>\n",
       "    <tr>\n",
       "      <th>11</th>\n",
       "      <td>45.80</td>\n",
       "      <td>19</td>\n",
       "    </tr>\n",
       "  </tbody>\n",
       "</table>\n",
       "</div>"
      ],
      "text/plain": [
       "     price   qty\n",
       "0     1.23    14\n",
       "1     4.32   103\n",
       "2    34.32     1\n",
       "3    49.00    13\n",
       "4    45.80    19\n",
       "5   634.23   532\n",
       "6    27.05   178\n",
       "7    56.30   424\n",
       "8    98.00    24\n",
       "9   563.00  1800\n",
       "10   49.00    13\n",
       "11   45.80    19"
      ]
     },
     "execution_count": 14,
     "metadata": {},
     "output_type": "execute_result"
    }
   ],
   "source": [
    "# Finally, round price to two decimal places - set qty to integer data type.\n",
    "\n",
    "df.price = df.price.astype(float).round(2)\n",
    "df.qty = pd.to_numeric(df.qty).astype(int)\n",
    "df[['price', 'qty']]"
   ]
  },
  {
   "cell_type": "markdown",
   "metadata": {
    "slideshow": {
     "slide_type": "subslide"
    }
   },
   "source": [
    "### Dates"
   ]
  },
  {
   "cell_type": "code",
   "execution_count": 15,
   "metadata": {
    "ExecuteTime": {
     "end_time": "2021-02-26T14:54:51.155852Z",
     "start_time": "2021-02-26T14:54:51.132229Z"
    },
    "scrolled": true,
    "slideshow": {
     "slide_type": "subslide"
    }
   },
   "outputs": [
    {
     "name": "stderr",
     "output_type": "stream",
     "text": [
      "12 rows, 10 columns\n"
     ]
    },
    {
     "data": {
      "text/html": [
       "<div>\n",
       "<style scoped>\n",
       "    .dataframe tbody tr th:only-of-type {\n",
       "        vertical-align: middle;\n",
       "    }\n",
       "\n",
       "    .dataframe tbody tr th {\n",
       "        vertical-align: top;\n",
       "    }\n",
       "\n",
       "    .dataframe thead th {\n",
       "        text-align: right;\n",
       "    }\n",
       "</style>\n",
       "<table border=\"1\" class=\"dataframe\">\n",
       "  <thead>\n",
       "    <tr style=\"text-align: right;\">\n",
       "      <th></th>\n",
       "      <th>grouping</th>\n",
       "      <th>orders</th>\n",
       "      <th>description</th>\n",
       "      <th>second_col</th>\n",
       "      <th>qty</th>\n",
       "      <th>price</th>\n",
       "      <th>effective</th>\n",
       "      <th>expired</th>\n",
       "      <th>date</th>\n",
       "      <th>delimitted_list</th>\n",
       "    </tr>\n",
       "  </thead>\n",
       "  <tbody>\n",
       "    <tr>\n",
       "      <th>0</th>\n",
       "      <td>A100</td>\n",
       "      <td>23899001</td>\n",
       "      <td>First Row</td>\n",
       "      <td>Aidan Scally</td>\n",
       "      <td>14</td>\n",
       "      <td>1.23</td>\n",
       "      <td>21.10.2015</td>\n",
       "      <td>31.12.2019</td>\n",
       "      <td>20.08.2018</td>\n",
       "      <td>123;456;789</td>\n",
       "    </tr>\n",
       "    <tr>\n",
       "      <th>1</th>\n",
       "      <td>A101</td>\n",
       "      <td>23899002</td>\n",
       "      <td>Second Row</td>\n",
       "      <td>Eoin Mcallister</td>\n",
       "      <td>103</td>\n",
       "      <td>4.32</td>\n",
       "      <td>21.10.2016</td>\n",
       "      <td>31.12.2020</td>\n",
       "      <td>20.08.2017</td>\n",
       "      <td>ss;11;33</td>\n",
       "    </tr>\n",
       "  </tbody>\n",
       "</table>\n",
       "</div>"
      ],
      "text/plain": [
       "  grouping    orders description       second_col  qty  price   effective  \\\n",
       "0     A100  23899001   First Row     Aidan Scally   14   1.23  21.10.2015   \n",
       "1     A101  23899002  Second Row  Eoin Mcallister  103   4.32  21.10.2016   \n",
       "\n",
       "      expired        date delimitted_list  \n",
       "0  31.12.2019  20.08.2018     123;456;789  \n",
       "1  31.12.2020  20.08.2017        ss;11;33  "
      ]
     },
     "execution_count": 15,
     "metadata": {},
     "output_type": "execute_result"
    }
   ],
   "source": [
    "# NOTE: dfxl allows you to specify number of rows to display # help(head) for details\n",
    "head(df, 2)\n",
    "# help(head)"
   ]
  },
  {
   "cell_type": "code",
   "execution_count": 16,
   "metadata": {
    "ExecuteTime": {
     "end_time": "2021-02-26T14:54:51.189242Z",
     "start_time": "2021-02-26T14:54:51.157535Z"
    },
    "slideshow": {
     "slide_type": "subslide"
    }
   },
   "outputs": [
    {
     "name": "stderr",
     "output_type": "stream",
     "text": [
      "12 rows, 10 columns\n"
     ]
    },
    {
     "data": {
      "text/html": [
       "<div>\n",
       "<style scoped>\n",
       "    .dataframe tbody tr th:only-of-type {\n",
       "        vertical-align: middle;\n",
       "    }\n",
       "\n",
       "    .dataframe tbody tr th {\n",
       "        vertical-align: top;\n",
       "    }\n",
       "\n",
       "    .dataframe thead th {\n",
       "        text-align: right;\n",
       "    }\n",
       "</style>\n",
       "<table border=\"1\" class=\"dataframe\">\n",
       "  <thead>\n",
       "    <tr style=\"text-align: right;\">\n",
       "      <th></th>\n",
       "      <th>grouping</th>\n",
       "      <th>orders</th>\n",
       "      <th>description</th>\n",
       "      <th>second_col</th>\n",
       "      <th>qty</th>\n",
       "      <th>price</th>\n",
       "      <th>effective</th>\n",
       "      <th>expired</th>\n",
       "      <th>duration</th>\n",
       "      <th>delimitted_list</th>\n",
       "    </tr>\n",
       "  </thead>\n",
       "  <tbody>\n",
       "    <tr>\n",
       "      <th>0</th>\n",
       "      <td>A100</td>\n",
       "      <td>23899001</td>\n",
       "      <td>First Row</td>\n",
       "      <td>Aidan Scally</td>\n",
       "      <td>14</td>\n",
       "      <td>1.23</td>\n",
       "      <td>2015-10-21</td>\n",
       "      <td>2019-12-31</td>\n",
       "      <td>1532</td>\n",
       "      <td>123;456;789</td>\n",
       "    </tr>\n",
       "    <tr>\n",
       "      <th>5</th>\n",
       "      <td>A103</td>\n",
       "      <td>23899006</td>\n",
       "      <td>Sixth Row</td>\n",
       "      <td>Derek Hunt</td>\n",
       "      <td>532</td>\n",
       "      <td>634.23</td>\n",
       "      <td>2019-04-21</td>\n",
       "      <td>2020-05-07</td>\n",
       "      <td>382</td>\n",
       "      <td>alpha; bravo; charlie</td>\n",
       "    </tr>\n",
       "  </tbody>\n",
       "</table>\n",
       "</div>"
      ],
      "text/plain": [
       "  grouping    orders description    second_col  qty   price  effective  \\\n",
       "0     A100  23899001   First Row  Aidan Scally   14    1.23 2015-10-21   \n",
       "5     A103  23899006   Sixth Row    Derek Hunt  532  634.23 2019-04-21   \n",
       "\n",
       "     expired  duration        delimitted_list  \n",
       "0 2019-12-31      1532            123;456;789  \n",
       "5 2020-05-07       382  alpha; bravo; charlie  "
      ]
     },
     "execution_count": 16,
     "metadata": {},
     "output_type": "execute_result"
    }
   ],
   "source": [
    "# Pandas to_datetime guesses very well input format, if that does not work - you can specify exact input format.\n",
    "df.effective = pd.to_datetime(df.effective)\n",
    "df.expired = pd.to_datetime(df.expired)\n",
    "\n",
    "# calculating days duration \n",
    "df['duration'] = (df.expired - df.effective).dt.days\n",
    "\n",
    "df.drop(columns=['date'], inplace=True)\n",
    "df.sort_values(by='expired', inplace=True)\n",
    "\n",
    "# Moving a column using combination of insert and pop functions\n",
    "df.insert(8, 'duration', df.pop('duration'))\n",
    "\n",
    "head(df, 2)"
   ]
  },
  {
   "cell_type": "markdown",
   "metadata": {
    "slideshow": {
     "slide_type": "subslide"
    }
   },
   "source": [
    "### Delimitted data expanded to separate columns"
   ]
  },
  {
   "cell_type": "markdown",
   "metadata": {
    "slideshow": {
     "slide_type": "subslide"
    }
   },
   "source": [
    "See below, a column 'delimitted_list' with semi-colon (';') separator is easily expanded to three columns "
   ]
  },
  {
   "cell_type": "code",
   "execution_count": 17,
   "metadata": {
    "ExecuteTime": {
     "end_time": "2021-02-26T14:54:51.213027Z",
     "start_time": "2021-02-26T14:54:51.191062Z"
    },
    "slideshow": {
     "slide_type": "fragment"
    }
   },
   "outputs": [
    {
     "data": {
      "text/html": [
       "<div>\n",
       "<style scoped>\n",
       "    .dataframe tbody tr th:only-of-type {\n",
       "        vertical-align: middle;\n",
       "    }\n",
       "\n",
       "    .dataframe tbody tr th {\n",
       "        vertical-align: top;\n",
       "    }\n",
       "\n",
       "    .dataframe thead th {\n",
       "        text-align: right;\n",
       "    }\n",
       "</style>\n",
       "<table border=\"1\" class=\"dataframe\">\n",
       "  <thead>\n",
       "    <tr style=\"text-align: right;\">\n",
       "      <th></th>\n",
       "      <th>delimitted_list</th>\n",
       "      <th>list_1</th>\n",
       "      <th>list_2</th>\n",
       "      <th>list_3</th>\n",
       "    </tr>\n",
       "  </thead>\n",
       "  <tbody>\n",
       "    <tr>\n",
       "      <th>0</th>\n",
       "      <td>123;456;789</td>\n",
       "      <td>123</td>\n",
       "      <td>456</td>\n",
       "      <td>789</td>\n",
       "    </tr>\n",
       "    <tr>\n",
       "      <th>5</th>\n",
       "      <td>alpha; bravo; charlie</td>\n",
       "      <td>alpha</td>\n",
       "      <td>bravo</td>\n",
       "      <td>charlie</td>\n",
       "    </tr>\n",
       "    <tr>\n",
       "      <th>1</th>\n",
       "      <td>ss;11;33</td>\n",
       "      <td>ss</td>\n",
       "      <td>11</td>\n",
       "      <td>33</td>\n",
       "    </tr>\n",
       "    <tr>\n",
       "      <th>2</th>\n",
       "      <td>A;b;C</td>\n",
       "      <td>A</td>\n",
       "      <td>b</td>\n",
       "      <td>C</td>\n",
       "    </tr>\n",
       "    <tr>\n",
       "      <th>3</th>\n",
       "      <td>cat;dog;books</td>\n",
       "      <td>cat</td>\n",
       "      <td>dog</td>\n",
       "      <td>books</td>\n",
       "    </tr>\n",
       "  </tbody>\n",
       "</table>\n",
       "</div>"
      ],
      "text/plain": [
       "         delimitted_list list_1  list_2    list_3\n",
       "0            123;456;789    123     456       789\n",
       "5  alpha; bravo; charlie  alpha   bravo   charlie\n",
       "1               ss;11;33     ss      11        33\n",
       "2                  A;b;C      A       b         C\n",
       "3          cat;dog;books    cat     dog     books"
      ]
     },
     "execution_count": 17,
     "metadata": {},
     "output_type": "execute_result"
    }
   ],
   "source": [
    "expanded_list = df.delimitted_list.str.split(';', n=2, expand=True)\n",
    "expanded_list.columns = ['list_1', 'list_2', 'list_3']\n",
    "df = pd.concat([df, expanded_list], axis=1)\n",
    "df.loc[:, 'delimitted_list': 'list_3'].head()"
   ]
  },
  {
   "cell_type": "markdown",
   "metadata": {
    "slideshow": {
     "slide_type": "slide"
    }
   },
   "source": [
    "# DataFrame - exploratory data analysis"
   ]
  },
  {
   "cell_type": "markdown",
   "metadata": {
    "slideshow": {
     "slide_type": "subslide"
    }
   },
   "source": [
    "## head()"
   ]
  },
  {
   "cell_type": "code",
   "execution_count": 18,
   "metadata": {
    "ExecuteTime": {
     "end_time": "2021-02-26T14:54:51.240979Z",
     "start_time": "2021-02-26T14:54:51.215040Z"
    },
    "slideshow": {
     "slide_type": "fragment"
    }
   },
   "outputs": [
    {
     "name": "stderr",
     "output_type": "stream",
     "text": [
      "12 rows, 13 columns\n"
     ]
    },
    {
     "data": {
      "text/html": [
       "<div>\n",
       "<style scoped>\n",
       "    .dataframe tbody tr th:only-of-type {\n",
       "        vertical-align: middle;\n",
       "    }\n",
       "\n",
       "    .dataframe tbody tr th {\n",
       "        vertical-align: top;\n",
       "    }\n",
       "\n",
       "    .dataframe thead th {\n",
       "        text-align: right;\n",
       "    }\n",
       "</style>\n",
       "<table border=\"1\" class=\"dataframe\">\n",
       "  <thead>\n",
       "    <tr style=\"text-align: right;\">\n",
       "      <th></th>\n",
       "      <th>grouping</th>\n",
       "      <th>orders</th>\n",
       "      <th>description</th>\n",
       "      <th>second_col</th>\n",
       "      <th>qty</th>\n",
       "      <th>price</th>\n",
       "      <th>effective</th>\n",
       "      <th>expired</th>\n",
       "      <th>duration</th>\n",
       "      <th>delimitted_list</th>\n",
       "      <th>list_1</th>\n",
       "      <th>list_2</th>\n",
       "      <th>list_3</th>\n",
       "    </tr>\n",
       "  </thead>\n",
       "  <tbody>\n",
       "    <tr>\n",
       "      <th>0</th>\n",
       "      <td>A100</td>\n",
       "      <td>23899001</td>\n",
       "      <td>First Row</td>\n",
       "      <td>Aidan Scally</td>\n",
       "      <td>14</td>\n",
       "      <td>1.23</td>\n",
       "      <td>2015-10-21</td>\n",
       "      <td>2019-12-31</td>\n",
       "      <td>1532</td>\n",
       "      <td>123;456;789</td>\n",
       "      <td>123</td>\n",
       "      <td>456</td>\n",
       "      <td>789</td>\n",
       "    </tr>\n",
       "    <tr>\n",
       "      <th>5</th>\n",
       "      <td>A103</td>\n",
       "      <td>23899006</td>\n",
       "      <td>Sixth Row</td>\n",
       "      <td>Derek Hunt</td>\n",
       "      <td>532</td>\n",
       "      <td>634.23</td>\n",
       "      <td>2019-04-21</td>\n",
       "      <td>2020-05-07</td>\n",
       "      <td>382</td>\n",
       "      <td>alpha; bravo; charlie</td>\n",
       "      <td>alpha</td>\n",
       "      <td>bravo</td>\n",
       "      <td>charlie</td>\n",
       "    </tr>\n",
       "  </tbody>\n",
       "</table>\n",
       "</div>"
      ],
      "text/plain": [
       "  grouping    orders description    second_col  qty   price  effective  \\\n",
       "0     A100  23899001   First Row  Aidan Scally   14    1.23 2015-10-21   \n",
       "5     A103  23899006   Sixth Row    Derek Hunt  532  634.23 2019-04-21   \n",
       "\n",
       "     expired  duration        delimitted_list list_1  list_2    list_3  \n",
       "0 2019-12-31      1532            123;456;789    123     456       789  \n",
       "5 2020-05-07       382  alpha; bravo; charlie  alpha   bravo   charlie  "
      ]
     },
     "execution_count": 18,
     "metadata": {},
     "output_type": "execute_result"
    }
   ],
   "source": [
    "head(df, 2)"
   ]
  },
  {
   "cell_type": "markdown",
   "metadata": {
    "slideshow": {
     "slide_type": "subslide"
    }
   },
   "source": [
    "## tail()"
   ]
  },
  {
   "cell_type": "code",
   "execution_count": 19,
   "metadata": {
    "ExecuteTime": {
     "end_time": "2021-02-26T14:54:51.263407Z",
     "start_time": "2021-02-26T14:54:51.243046Z"
    },
    "slideshow": {
     "slide_type": "fragment"
    }
   },
   "outputs": [
    {
     "name": "stderr",
     "output_type": "stream",
     "text": [
      "12 rows, 13 columns\n"
     ]
    },
    {
     "data": {
      "text/html": [
       "<div>\n",
       "<style scoped>\n",
       "    .dataframe tbody tr th:only-of-type {\n",
       "        vertical-align: middle;\n",
       "    }\n",
       "\n",
       "    .dataframe tbody tr th {\n",
       "        vertical-align: top;\n",
       "    }\n",
       "\n",
       "    .dataframe thead th {\n",
       "        text-align: right;\n",
       "    }\n",
       "</style>\n",
       "<table border=\"1\" class=\"dataframe\">\n",
       "  <thead>\n",
       "    <tr style=\"text-align: right;\">\n",
       "      <th></th>\n",
       "      <th>grouping</th>\n",
       "      <th>orders</th>\n",
       "      <th>description</th>\n",
       "      <th>second_col</th>\n",
       "      <th>qty</th>\n",
       "      <th>price</th>\n",
       "      <th>effective</th>\n",
       "      <th>expired</th>\n",
       "      <th>duration</th>\n",
       "      <th>delimitted_list</th>\n",
       "      <th>list_1</th>\n",
       "      <th>list_2</th>\n",
       "      <th>list_3</th>\n",
       "    </tr>\n",
       "  </thead>\n",
       "  <tbody>\n",
       "    <tr>\n",
       "      <th>7</th>\n",
       "      <td>A104</td>\n",
       "      <td>23899008</td>\n",
       "      <td>Eighth Row</td>\n",
       "      <td>Matthew Whitaker</td>\n",
       "      <td>424</td>\n",
       "      <td>56.3</td>\n",
       "      <td>2019-10-21</td>\n",
       "      <td>2025-12-31</td>\n",
       "      <td>2263</td>\n",
       "      <td>cc;bb;aa</td>\n",
       "      <td>cc</td>\n",
       "      <td>bb</td>\n",
       "      <td>aa</td>\n",
       "    </tr>\n",
       "    <tr>\n",
       "      <th>9</th>\n",
       "      <td>A105</td>\n",
       "      <td>23899010</td>\n",
       "      <td>Tenth Row</td>\n",
       "      <td>Craig Freer</td>\n",
       "      <td>1800</td>\n",
       "      <td>563.0</td>\n",
       "      <td>2019-10-21</td>\n",
       "      <td>2025-12-31</td>\n",
       "      <td>2263</td>\n",
       "      <td>40a3;64g;023;</td>\n",
       "      <td>40a3</td>\n",
       "      <td>64g</td>\n",
       "      <td>023;</td>\n",
       "    </tr>\n",
       "  </tbody>\n",
       "</table>\n",
       "</div>"
      ],
      "text/plain": [
       "  grouping    orders description        second_col   qty  price  effective  \\\n",
       "7     A104  23899008  Eighth Row  Matthew Whitaker   424   56.3 2019-10-21   \n",
       "9     A105  23899010   Tenth Row       Craig Freer  1800  563.0 2019-10-21   \n",
       "\n",
       "     expired  duration delimitted_list list_1 list_2 list_3  \n",
       "7 2025-12-31      2263        cc;bb;aa     cc     bb     aa  \n",
       "9 2025-12-31      2263   40a3;64g;023;   40a3    64g   023;  "
      ]
     },
     "execution_count": 19,
     "metadata": {},
     "output_type": "execute_result"
    }
   ],
   "source": [
    "tail(df, 2)"
   ]
  },
  {
   "cell_type": "markdown",
   "metadata": {
    "slideshow": {
     "slide_type": "subslide"
    }
   },
   "source": [
    "## info()"
   ]
  },
  {
   "cell_type": "code",
   "execution_count": 20,
   "metadata": {
    "ExecuteTime": {
     "end_time": "2021-02-26T14:54:51.363606Z",
     "start_time": "2021-02-26T14:54:51.265200Z"
    },
    "slideshow": {
     "slide_type": "fragment"
    }
   },
   "outputs": [
    {
     "name": "stderr",
     "output_type": "stream",
     "text": [
      "Dataframe with (rows, cols) (12, 13) consumes 0.01 Mb\n"
     ]
    },
    {
     "data": {
      "text/html": [
       "<div>\n",
       "<style scoped>\n",
       "    .dataframe tbody tr th:only-of-type {\n",
       "        vertical-align: middle;\n",
       "    }\n",
       "\n",
       "    .dataframe tbody tr th {\n",
       "        vertical-align: top;\n",
       "    }\n",
       "\n",
       "    .dataframe thead th {\n",
       "        text-align: right;\n",
       "    }\n",
       "</style>\n",
       "<table border=\"1\" class=\"dataframe\">\n",
       "  <thead>\n",
       "    <tr style=\"text-align: right;\">\n",
       "      <th></th>\n",
       "      <th>columns</th>\n",
       "      <th>data_type</th>\n",
       "      <th>isna</th>\n",
       "      <th>isnull</th>\n",
       "      <th>unique</th>\n",
       "      <th>dupes</th>\n",
       "      <th>total_count</th>\n",
       "    </tr>\n",
       "  </thead>\n",
       "  <tbody>\n",
       "    <tr>\n",
       "      <th>0</th>\n",
       "      <td>grouping</td>\n",
       "      <td>object</td>\n",
       "      <td>0</td>\n",
       "      <td>0</td>\n",
       "      <td>6</td>\n",
       "      <td>10</td>\n",
       "      <td>12</td>\n",
       "    </tr>\n",
       "    <tr>\n",
       "      <th>1</th>\n",
       "      <td>orders</td>\n",
       "      <td>int64</td>\n",
       "      <td>0</td>\n",
       "      <td>0</td>\n",
       "      <td>12</td>\n",
       "      <td>0</td>\n",
       "      <td>12</td>\n",
       "    </tr>\n",
       "    <tr>\n",
       "      <th>2</th>\n",
       "      <td>description</td>\n",
       "      <td>object</td>\n",
       "      <td>0</td>\n",
       "      <td>0</td>\n",
       "      <td>10</td>\n",
       "      <td>4</td>\n",
       "      <td>12</td>\n",
       "    </tr>\n",
       "    <tr>\n",
       "      <th>3</th>\n",
       "      <td>second_col</td>\n",
       "      <td>object</td>\n",
       "      <td>0</td>\n",
       "      <td>0</td>\n",
       "      <td>10</td>\n",
       "      <td>4</td>\n",
       "      <td>12</td>\n",
       "    </tr>\n",
       "    <tr>\n",
       "      <th>4</th>\n",
       "      <td>qty</td>\n",
       "      <td>int64</td>\n",
       "      <td>0</td>\n",
       "      <td>0</td>\n",
       "      <td>10</td>\n",
       "      <td>4</td>\n",
       "      <td>12</td>\n",
       "    </tr>\n",
       "    <tr>\n",
       "      <th>5</th>\n",
       "      <td>price</td>\n",
       "      <td>float64</td>\n",
       "      <td>0</td>\n",
       "      <td>0</td>\n",
       "      <td>10</td>\n",
       "      <td>4</td>\n",
       "      <td>12</td>\n",
       "    </tr>\n",
       "    <tr>\n",
       "      <th>6</th>\n",
       "      <td>effective</td>\n",
       "      <td>datetime64[ns]</td>\n",
       "      <td>0</td>\n",
       "      <td>0</td>\n",
       "      <td>7</td>\n",
       "      <td>7</td>\n",
       "      <td>12</td>\n",
       "    </tr>\n",
       "    <tr>\n",
       "      <th>7</th>\n",
       "      <td>expired</td>\n",
       "      <td>datetime64[ns]</td>\n",
       "      <td>0</td>\n",
       "      <td>0</td>\n",
       "      <td>8</td>\n",
       "      <td>7</td>\n",
       "      <td>12</td>\n",
       "    </tr>\n",
       "    <tr>\n",
       "      <th>8</th>\n",
       "      <td>duration</td>\n",
       "      <td>float64</td>\n",
       "      <td>3</td>\n",
       "      <td>3</td>\n",
       "      <td>3</td>\n",
       "      <td>10</td>\n",
       "      <td>12</td>\n",
       "    </tr>\n",
       "    <tr>\n",
       "      <th>9</th>\n",
       "      <td>delimitted_list</td>\n",
       "      <td>object</td>\n",
       "      <td>0</td>\n",
       "      <td>0</td>\n",
       "      <td>12</td>\n",
       "      <td>0</td>\n",
       "      <td>12</td>\n",
       "    </tr>\n",
       "    <tr>\n",
       "      <th>10</th>\n",
       "      <td>list_1</td>\n",
       "      <td>object</td>\n",
       "      <td>0</td>\n",
       "      <td>0</td>\n",
       "      <td>12</td>\n",
       "      <td>0</td>\n",
       "      <td>12</td>\n",
       "    </tr>\n",
       "    <tr>\n",
       "      <th>11</th>\n",
       "      <td>list_2</td>\n",
       "      <td>object</td>\n",
       "      <td>0</td>\n",
       "      <td>0</td>\n",
       "      <td>12</td>\n",
       "      <td>0</td>\n",
       "      <td>12</td>\n",
       "    </tr>\n",
       "    <tr>\n",
       "      <th>12</th>\n",
       "      <td>list_3</td>\n",
       "      <td>object</td>\n",
       "      <td>0</td>\n",
       "      <td>0</td>\n",
       "      <td>12</td>\n",
       "      <td>0</td>\n",
       "      <td>12</td>\n",
       "    </tr>\n",
       "  </tbody>\n",
       "</table>\n",
       "</div>"
      ],
      "text/plain": [
       "            columns       data_type  isna  isnull  unique  dupes  total_count\n",
       "0          grouping          object     0       0       6     10           12\n",
       "1            orders           int64     0       0      12      0           12\n",
       "2       description          object     0       0      10      4           12\n",
       "3        second_col          object     0       0      10      4           12\n",
       "4               qty           int64     0       0      10      4           12\n",
       "5             price         float64     0       0      10      4           12\n",
       "6         effective  datetime64[ns]     0       0       7      7           12\n",
       "7           expired  datetime64[ns]     0       0       8      7           12\n",
       "8          duration         float64     3       3       3     10           12\n",
       "9   delimitted_list          object     0       0      12      0           12\n",
       "10           list_1          object     0       0      12      0           12\n",
       "11           list_2          object     0       0      12      0           12\n",
       "12           list_3          object     0       0      12      0           12"
      ]
     },
     "execution_count": 20,
     "metadata": {},
     "output_type": "execute_result"
    }
   ],
   "source": [
    "# Introduce 'null' values into dataframe\n",
    "df.loc[df.duration == 2263, 'duration'] = np.NaN\n",
    "\n",
    "# df.info() # standard pandas\n",
    "info(df, include_dupes=True, filter_na_cols=False) # dfxl"
   ]
  },
  {
   "cell_type": "markdown",
   "metadata": {
    "slideshow": {
     "slide_type": "subslide"
    }
   },
   "source": [
    "## value_counts() vs count()"
   ]
  },
  {
   "cell_type": "code",
   "execution_count": 21,
   "metadata": {
    "ExecuteTime": {
     "end_time": "2021-02-26T14:54:51.390659Z",
     "start_time": "2021-02-26T14:54:51.373992Z"
    },
    "slideshow": {
     "slide_type": "fragment"
    }
   },
   "outputs": [
    {
     "data": {
      "text/plain": [
       "1532.0    7\n",
       "NaN       3\n",
       "2760.0    1\n",
       "382.0     1\n",
       "Name: duration, dtype: int64"
      ]
     },
     "execution_count": 21,
     "metadata": {},
     "output_type": "execute_result"
    }
   ],
   "source": [
    "df.duration.value_counts(normalize=False, dropna=False) # pandas\n",
    "# df.duration.value_counts(normalize=True, dropna=False).round(2)"
   ]
  },
  {
   "cell_type": "code",
   "execution_count": 22,
   "metadata": {
    "ExecuteTime": {
     "end_time": "2021-02-26T14:54:51.438747Z",
     "start_time": "2021-02-26T14:54:51.393995Z"
    },
    "slideshow": {
     "slide_type": "fragment"
    }
   },
   "outputs": [
    {
     "data": {
      "text/html": [
       "<div>\n",
       "<style scoped>\n",
       "    .dataframe tbody tr th:only-of-type {\n",
       "        vertical-align: middle;\n",
       "    }\n",
       "\n",
       "    .dataframe tbody tr th {\n",
       "        vertical-align: top;\n",
       "    }\n",
       "\n",
       "    .dataframe thead th {\n",
       "        text-align: right;\n",
       "    }\n",
       "</style>\n",
       "<table border=\"1\" class=\"dataframe\">\n",
       "  <thead>\n",
       "    <tr style=\"text-align: right;\">\n",
       "      <th></th>\n",
       "      <th>index</th>\n",
       "      <th>n</th>\n",
       "    </tr>\n",
       "  </thead>\n",
       "  <tbody>\n",
       "    <tr>\n",
       "      <th>0</th>\n",
       "      <td>1532.0</td>\n",
       "      <td>7</td>\n",
       "    </tr>\n",
       "    <tr>\n",
       "      <th>1</th>\n",
       "      <td>NaN</td>\n",
       "      <td>3</td>\n",
       "    </tr>\n",
       "    <tr>\n",
       "      <th>2</th>\n",
       "      <td>2760.0</td>\n",
       "      <td>1</td>\n",
       "    </tr>\n",
       "    <tr>\n",
       "      <th>3</th>\n",
       "      <td>382.0</td>\n",
       "      <td>1</td>\n",
       "    </tr>\n",
       "    <tr>\n",
       "      <th>4</th>\n",
       "      <td>Total</td>\n",
       "      <td>12</td>\n",
       "    </tr>\n",
       "  </tbody>\n",
       "</table>\n",
       "</div>"
      ],
      "text/plain": [
       "    index   n\n",
       "0  1532.0   7\n",
       "1     NaN   3\n",
       "2  2760.0   1\n",
       "3   382.0   1\n",
       "4   Total  12"
      ]
     },
     "execution_count": 22,
     "metadata": {},
     "output_type": "execute_result"
    }
   ],
   "source": [
    "count(df, 'duration', add_total=True) "
   ]
  },
  {
   "cell_type": "code",
   "execution_count": 23,
   "metadata": {
    "ExecuteTime": {
     "end_time": "2021-02-26T14:54:51.468996Z",
     "start_time": "2021-02-26T14:54:51.454206Z"
    },
    "slideshow": {
     "slide_type": "subslide"
    }
   },
   "outputs": [
    {
     "data": {
      "text/plain": [
       "2019-10-21    5\n",
       "2018-10-21    2\n",
       "2017-10-21    1\n",
       "2015-10-21    1\n",
       "2018-05-21    1\n",
       "2016-10-21    1\n",
       "2019-04-21    1\n",
       "Name: effective, dtype: int64"
      ]
     },
     "execution_count": 23,
     "metadata": {},
     "output_type": "execute_result"
    }
   ],
   "source": [
    "df.effective.value_counts()"
   ]
  },
  {
   "cell_type": "code",
   "execution_count": 24,
   "metadata": {
    "ExecuteTime": {
     "end_time": "2021-02-26T14:54:51.524935Z",
     "start_time": "2021-02-26T14:54:51.475425Z"
    },
    "slideshow": {
     "slide_type": "subslide"
    }
   },
   "outputs": [
    {
     "data": {
      "text/html": [
       "<div>\n",
       "<style scoped>\n",
       "    .dataframe tbody tr th:only-of-type {\n",
       "        vertical-align: middle;\n",
       "    }\n",
       "\n",
       "    .dataframe tbody tr th {\n",
       "        vertical-align: top;\n",
       "    }\n",
       "\n",
       "    .dataframe thead th {\n",
       "        text-align: right;\n",
       "    }\n",
       "</style>\n",
       "<table border=\"1\" class=\"dataframe\">\n",
       "  <thead>\n",
       "    <tr style=\"text-align: right;\">\n",
       "      <th></th>\n",
       "      <th>index</th>\n",
       "      <th>n</th>\n",
       "      <th>%</th>\n",
       "    </tr>\n",
       "  </thead>\n",
       "  <tbody>\n",
       "    <tr>\n",
       "      <th>0</th>\n",
       "      <td>2019-10-21 00:00:00</td>\n",
       "      <td>5</td>\n",
       "      <td>41.666667</td>\n",
       "    </tr>\n",
       "    <tr>\n",
       "      <th>1</th>\n",
       "      <td>2018-10-21 00:00:00</td>\n",
       "      <td>2</td>\n",
       "      <td>16.666667</td>\n",
       "    </tr>\n",
       "    <tr>\n",
       "      <th>2</th>\n",
       "      <td>2017-10-21 00:00:00</td>\n",
       "      <td>1</td>\n",
       "      <td>8.333333</td>\n",
       "    </tr>\n",
       "    <tr>\n",
       "      <th>3</th>\n",
       "      <td>2015-10-21 00:00:00</td>\n",
       "      <td>1</td>\n",
       "      <td>8.333333</td>\n",
       "    </tr>\n",
       "    <tr>\n",
       "      <th>4</th>\n",
       "      <td>2018-05-21 00:00:00</td>\n",
       "      <td>1</td>\n",
       "      <td>8.333333</td>\n",
       "    </tr>\n",
       "    <tr>\n",
       "      <th>5</th>\n",
       "      <td>2016-10-21 00:00:00</td>\n",
       "      <td>1</td>\n",
       "      <td>8.333333</td>\n",
       "    </tr>\n",
       "    <tr>\n",
       "      <th>6</th>\n",
       "      <td>2019-04-21 00:00:00</td>\n",
       "      <td>1</td>\n",
       "      <td>8.333333</td>\n",
       "    </tr>\n",
       "    <tr>\n",
       "      <th>7</th>\n",
       "      <td>Total</td>\n",
       "      <td>12</td>\n",
       "      <td>200.000000</td>\n",
       "    </tr>\n",
       "  </tbody>\n",
       "</table>\n",
       "</div>"
      ],
      "text/plain": [
       "                 index   n           %\n",
       "0  2019-10-21 00:00:00   5   41.666667\n",
       "1  2018-10-21 00:00:00   2   16.666667\n",
       "2  2017-10-21 00:00:00   1    8.333333\n",
       "3  2015-10-21 00:00:00   1    8.333333\n",
       "4  2018-05-21 00:00:00   1    8.333333\n",
       "5  2016-10-21 00:00:00   1    8.333333\n",
       "6  2019-04-21 00:00:00   1    8.333333\n",
       "7                Total  12  200.000000"
      ]
     },
     "execution_count": 24,
     "metadata": {},
     "output_type": "execute_result"
    }
   ],
   "source": [
    "count(df, 'effective', add_total=True, percent=True, round=7)"
   ]
  },
  {
   "cell_type": "markdown",
   "metadata": {
    "slideshow": {
     "slide_type": "subslide"
    }
   },
   "source": [
    "## columns()"
   ]
  },
  {
   "cell_type": "code",
   "execution_count": 25,
   "metadata": {
    "ExecuteTime": {
     "end_time": "2021-02-26T14:54:51.540561Z",
     "start_time": "2021-02-26T14:54:51.528492Z"
    },
    "slideshow": {
     "slide_type": "fragment"
    }
   },
   "outputs": [
    {
     "data": {
      "text/plain": [
       "['grouping',\n",
       " 'orders',\n",
       " 'description',\n",
       " 'second_col',\n",
       " 'qty',\n",
       " 'price',\n",
       " 'effective',\n",
       " 'expired',\n",
       " 'duration',\n",
       " 'delimitted_list',\n",
       " 'list_1',\n",
       " 'list_2',\n",
       " 'list_3']"
      ]
     },
     "execution_count": 25,
     "metadata": {},
     "output_type": "execute_result"
    }
   ],
   "source": [
    "# piper 'columns()' function is useful for selecting and manipulating dataframe column values.\n",
    "# It can return multiple objects back (lists, dictionaries, dataframes etc. see help(columns) for details)\n",
    "columns(df)"
   ]
  },
  {
   "cell_type": "code",
   "execution_count": 26,
   "metadata": {
    "ExecuteTime": {
     "end_time": "2021-02-26T14:54:51.552527Z",
     "start_time": "2021-02-26T14:54:51.546195Z"
    },
    "slideshow": {
     "slide_type": "fragment"
    }
   },
   "outputs": [
    {
     "data": {
      "text/plain": [
       "{'effective': 'effective', 'expired': 'expired'}"
      ]
     },
     "execution_count": 26,
     "metadata": {},
     "output_type": "execute_result"
    }
   ],
   "source": [
    "# list columns starting with 'e' and return a dictionary (useful for selective column rename)\n",
    "columns(df, 'e', astype='dict')"
   ]
  },
  {
   "cell_type": "code",
   "execution_count": 27,
   "metadata": {
    "ExecuteTime": {
     "end_time": "2021-02-26T14:54:51.588044Z",
     "start_time": "2021-02-26T14:54:51.555703Z"
    },
    "slideshow": {
     "slide_type": "fragment"
    }
   },
   "outputs": [
    {
     "name": "stderr",
     "output_type": "stream",
     "text": [
      "12 rows, 7 columns\n"
     ]
    },
    {
     "data": {
      "text/html": [
       "<div>\n",
       "<style scoped>\n",
       "    .dataframe tbody tr th:only-of-type {\n",
       "        vertical-align: middle;\n",
       "    }\n",
       "\n",
       "    .dataframe tbody tr th {\n",
       "        vertical-align: top;\n",
       "    }\n",
       "\n",
       "    .dataframe thead th {\n",
       "        text-align: right;\n",
       "    }\n",
       "</style>\n",
       "<table border=\"1\" class=\"dataframe\">\n",
       "  <thead>\n",
       "    <tr style=\"text-align: right;\">\n",
       "      <th></th>\n",
       "      <th>orders</th>\n",
       "      <th>qty</th>\n",
       "      <th>effective</th>\n",
       "      <th>expired</th>\n",
       "      <th>list_1</th>\n",
       "      <th>list_2</th>\n",
       "      <th>list_3</th>\n",
       "    </tr>\n",
       "  </thead>\n",
       "  <tbody>\n",
       "    <tr>\n",
       "      <th>0</th>\n",
       "      <td>23899001</td>\n",
       "      <td>14</td>\n",
       "      <td>2015-10-21</td>\n",
       "      <td>2019-12-31</td>\n",
       "      <td>123</td>\n",
       "      <td>456</td>\n",
       "      <td>789</td>\n",
       "    </tr>\n",
       "    <tr>\n",
       "      <th>5</th>\n",
       "      <td>23899006</td>\n",
       "      <td>532</td>\n",
       "      <td>2019-04-21</td>\n",
       "      <td>2020-05-07</td>\n",
       "      <td>alpha</td>\n",
       "      <td>bravo</td>\n",
       "      <td>charlie</td>\n",
       "    </tr>\n",
       "  </tbody>\n",
       "</table>\n",
       "</div>"
      ],
      "text/plain": [
       "     orders  qty  effective    expired list_1  list_2    list_3\n",
       "0  23899001   14 2015-10-21 2019-12-31    123     456       789\n",
       "5  23899006  532 2019-04-21 2020-05-07  alpha   bravo   charlie"
      ]
     },
     "execution_count": 27,
     "metadata": {},
     "output_type": "execute_result"
    }
   ],
   "source": [
    "# Combining functions together is easy ;) \n",
    "\n",
    "# -> show me columns contains 'list' \n",
    "#                 or contains 'e' or 'qty' or ends in 'ers'\n",
    "head(df[columns(df, 'list|e|qty|.+ers$')], 2)"
   ]
  },
  {
   "cell_type": "code",
   "execution_count": 28,
   "metadata": {
    "ExecuteTime": {
     "end_time": "2021-02-26T14:54:51.601086Z",
     "start_time": "2021-02-26T14:54:51.590367Z"
    },
    "slideshow": {
     "slide_type": "fragment"
    }
   },
   "outputs": [
    {
     "data": {
      "text/html": [
       "<div>\n",
       "<style scoped>\n",
       "    .dataframe tbody tr th:only-of-type {\n",
       "        vertical-align: middle;\n",
       "    }\n",
       "\n",
       "    .dataframe tbody tr th {\n",
       "        vertical-align: top;\n",
       "    }\n",
       "\n",
       "    .dataframe thead th {\n",
       "        text-align: right;\n",
       "    }\n",
       "</style>\n",
       "<table border=\"1\" class=\"dataframe\">\n",
       "  <thead>\n",
       "    <tr style=\"text-align: right;\">\n",
       "      <th></th>\n",
       "      <th>price</th>\n",
       "      <th>effective</th>\n",
       "    </tr>\n",
       "  </thead>\n",
       "  <tbody>\n",
       "    <tr>\n",
       "      <th>0</th>\n",
       "      <td>1.23</td>\n",
       "      <td>2015-10-21</td>\n",
       "    </tr>\n",
       "    <tr>\n",
       "      <th>5</th>\n",
       "      <td>634.23</td>\n",
       "      <td>2019-04-21</td>\n",
       "    </tr>\n",
       "    <tr>\n",
       "      <th>1</th>\n",
       "      <td>4.32</td>\n",
       "      <td>2016-10-21</td>\n",
       "    </tr>\n",
       "    <tr>\n",
       "      <th>2</th>\n",
       "      <td>34.32</td>\n",
       "      <td>2017-10-21</td>\n",
       "    </tr>\n",
       "    <tr>\n",
       "      <th>3</th>\n",
       "      <td>49.00</td>\n",
       "      <td>2018-10-21</td>\n",
       "    </tr>\n",
       "  </tbody>\n",
       "</table>\n",
       "</div>"
      ],
      "text/plain": [
       "    price  effective\n",
       "0    1.23 2015-10-21\n",
       "5  634.23 2019-04-21\n",
       "1    4.32 2016-10-21\n",
       "2   34.32 2017-10-21\n",
       "3   49.00 2018-10-21"
      ]
     },
     "execution_count": 28,
     "metadata": {},
     "output_type": "execute_result"
    }
   ],
   "source": [
    "# show me columns ending in letter 'e'\n",
    "df[columns(df, '\\w+e$')].head()"
   ]
  },
  {
   "cell_type": "markdown",
   "metadata": {
    "slideshow": {
     "slide_type": "subslide"
    }
   },
   "source": [
    "## duplicated() - Check for duplicate data"
   ]
  },
  {
   "cell_type": "code",
   "execution_count": 29,
   "metadata": {
    "ExecuteTime": {
     "end_time": "2021-02-26T14:54:51.611837Z",
     "start_time": "2021-02-26T14:54:51.606789Z"
    },
    "slideshow": {
     "slide_type": "subslide"
    }
   },
   "outputs": [],
   "source": [
    "# How can I quickly find duplicate values (for any combination of columns) in a dataframe??"
   ]
  },
  {
   "cell_type": "code",
   "execution_count": 30,
   "metadata": {
    "ExecuteTime": {
     "end_time": "2021-02-26T14:54:51.653846Z",
     "start_time": "2021-02-26T14:54:51.614641Z"
    },
    "scrolled": true,
    "slideshow": {
     "slide_type": "subslide"
    }
   },
   "outputs": [
    {
     "name": "stderr",
     "output_type": "stream",
     "text": [
      "12 rows, 14 columns\n"
     ]
    },
    {
     "data": {
      "text/html": [
       "<div>\n",
       "<style scoped>\n",
       "    .dataframe tbody tr th:only-of-type {\n",
       "        vertical-align: middle;\n",
       "    }\n",
       "\n",
       "    .dataframe tbody tr th {\n",
       "        vertical-align: top;\n",
       "    }\n",
       "\n",
       "    .dataframe thead th {\n",
       "        text-align: right;\n",
       "    }\n",
       "</style>\n",
       "<table border=\"1\" class=\"dataframe\">\n",
       "  <thead>\n",
       "    <tr style=\"text-align: right;\">\n",
       "      <th></th>\n",
       "      <th>duplicate</th>\n",
       "      <th>grouping</th>\n",
       "      <th>orders</th>\n",
       "      <th>description</th>\n",
       "      <th>second_col</th>\n",
       "      <th>qty</th>\n",
       "      <th>price</th>\n",
       "      <th>effective</th>\n",
       "      <th>expired</th>\n",
       "      <th>duration</th>\n",
       "      <th>delimitted_list</th>\n",
       "      <th>list_1</th>\n",
       "      <th>list_2</th>\n",
       "      <th>list_3</th>\n",
       "    </tr>\n",
       "  </thead>\n",
       "  <tbody>\n",
       "    <tr>\n",
       "      <th>0</th>\n",
       "      <td>False</td>\n",
       "      <td>A104</td>\n",
       "      <td>23899008</td>\n",
       "      <td>Eighth Row</td>\n",
       "      <td>Matthew Whitaker</td>\n",
       "      <td>424</td>\n",
       "      <td>56.30</td>\n",
       "      <td>2019-10-21</td>\n",
       "      <td>2025-12-31</td>\n",
       "      <td>NaN</td>\n",
       "      <td>cc;bb;aa</td>\n",
       "      <td>cc</td>\n",
       "      <td>bb</td>\n",
       "      <td>aa</td>\n",
       "    </tr>\n",
       "    <tr>\n",
       "      <th>1</th>\n",
       "      <td>False</td>\n",
       "      <td>A103</td>\n",
       "      <td>23899005</td>\n",
       "      <td>Fifth Row</td>\n",
       "      <td>Theo Dallis</td>\n",
       "      <td>19</td>\n",
       "      <td>45.80</td>\n",
       "      <td>2019-10-21</td>\n",
       "      <td>2023-12-31</td>\n",
       "      <td>1532.0</td>\n",
       "      <td>x;y;z</td>\n",
       "      <td>x</td>\n",
       "      <td>y</td>\n",
       "      <td>z</td>\n",
       "    </tr>\n",
       "    <tr>\n",
       "      <th>2</th>\n",
       "      <td>True</td>\n",
       "      <td>A103</td>\n",
       "      <td>23899012</td>\n",
       "      <td>Fifth Row</td>\n",
       "      <td>Theo Dallis</td>\n",
       "      <td>19</td>\n",
       "      <td>45.80</td>\n",
       "      <td>2019-10-21</td>\n",
       "      <td>2023-12-31</td>\n",
       "      <td>1532.0</td>\n",
       "      <td>5555;4444;3333</td>\n",
       "      <td>5555</td>\n",
       "      <td>4444</td>\n",
       "      <td>3333</td>\n",
       "    </tr>\n",
       "    <tr>\n",
       "      <th>3</th>\n",
       "      <td>False</td>\n",
       "      <td>A100</td>\n",
       "      <td>23899001</td>\n",
       "      <td>First Row</td>\n",
       "      <td>Aidan Scally</td>\n",
       "      <td>14</td>\n",
       "      <td>1.23</td>\n",
       "      <td>2015-10-21</td>\n",
       "      <td>2019-12-31</td>\n",
       "      <td>1532.0</td>\n",
       "      <td>123;456;789</td>\n",
       "      <td>123</td>\n",
       "      <td>456</td>\n",
       "      <td>789</td>\n",
       "    </tr>\n",
       "    <tr>\n",
       "      <th>4</th>\n",
       "      <td>False</td>\n",
       "      <td>A102</td>\n",
       "      <td>23899004</td>\n",
       "      <td>Fourth Row</td>\n",
       "      <td>Alan Denton</td>\n",
       "      <td>13</td>\n",
       "      <td>49.00</td>\n",
       "      <td>2018-10-21</td>\n",
       "      <td>2022-12-31</td>\n",
       "      <td>1532.0</td>\n",
       "      <td>cat;dog;books</td>\n",
       "      <td>cat</td>\n",
       "      <td>dog</td>\n",
       "      <td>books</td>\n",
       "    </tr>\n",
       "    <tr>\n",
       "      <th>5</th>\n",
       "      <td>True</td>\n",
       "      <td>A102</td>\n",
       "      <td>23899011</td>\n",
       "      <td>Fourth Row</td>\n",
       "      <td>Alan Denton</td>\n",
       "      <td>13</td>\n",
       "      <td>49.00</td>\n",
       "      <td>2018-10-21</td>\n",
       "      <td>2022-12-31</td>\n",
       "      <td>1532.0</td>\n",
       "      <td>d20;tg54;kde40</td>\n",
       "      <td>d20</td>\n",
       "      <td>tg54</td>\n",
       "      <td>kde40</td>\n",
       "    </tr>\n",
       "  </tbody>\n",
       "</table>\n",
       "</div>"
      ],
      "text/plain": [
       "   duplicate grouping    orders description        second_col  qty  price  \\\n",
       "0      False     A104  23899008  Eighth Row  Matthew Whitaker  424  56.30   \n",
       "1      False     A103  23899005   Fifth Row       Theo Dallis   19  45.80   \n",
       "2       True     A103  23899012   Fifth Row       Theo Dallis   19  45.80   \n",
       "3      False     A100  23899001   First Row      Aidan Scally   14   1.23   \n",
       "4      False     A102  23899004  Fourth Row       Alan Denton   13  49.00   \n",
       "5       True     A102  23899011  Fourth Row       Alan Denton   13  49.00   \n",
       "\n",
       "   effective    expired  duration delimitted_list list_1 list_2 list_3  \n",
       "0 2019-10-21 2025-12-31       NaN        cc;bb;aa     cc     bb     aa  \n",
       "1 2019-10-21 2023-12-31    1532.0           x;y;z      x      y      z  \n",
       "2 2019-10-21 2023-12-31    1532.0  5555;4444;3333   5555   4444   3333  \n",
       "3 2015-10-21 2019-12-31    1532.0     123;456;789    123    456    789  \n",
       "4 2018-10-21 2022-12-31    1532.0   cat;dog;books    cat    dog  books  \n",
       "5 2018-10-21 2022-12-31    1532.0  d20;tg54;kde40    d20   tg54  kde40  "
      ]
     },
     "execution_count": 30,
     "metadata": {},
     "output_type": "execute_result"
    }
   ],
   "source": [
    "subset = ['description', 'second_col']\n",
    "\n",
    "df2 = (duplicated(df.copy(deep=True), subset=subset, keep='first').reset_index(drop=True))\n",
    "head(df2, 6)"
   ]
  },
  {
   "cell_type": "code",
   "execution_count": 31,
   "metadata": {
    "ExecuteTime": {
     "end_time": "2021-02-26T14:54:51.701448Z",
     "start_time": "2021-02-26T14:54:51.657111Z"
    },
    "slideshow": {
     "slide_type": "subslide"
    }
   },
   "outputs": [
    {
     "name": "stderr",
     "output_type": "stream",
     "text": [
      "12 rows, 14 columns\n"
     ]
    },
    {
     "data": {
      "text/html": [
       "<div>\n",
       "<style scoped>\n",
       "    .dataframe tbody tr th:only-of-type {\n",
       "        vertical-align: middle;\n",
       "    }\n",
       "\n",
       "    .dataframe tbody tr th {\n",
       "        vertical-align: top;\n",
       "    }\n",
       "\n",
       "    .dataframe thead th {\n",
       "        text-align: right;\n",
       "    }\n",
       "</style>\n",
       "<table border=\"1\" class=\"dataframe\">\n",
       "  <thead>\n",
       "    <tr style=\"text-align: right;\">\n",
       "      <th></th>\n",
       "      <th>duplicate price</th>\n",
       "      <th>grouping</th>\n",
       "      <th>orders</th>\n",
       "      <th>description</th>\n",
       "      <th>second_col</th>\n",
       "      <th>qty</th>\n",
       "      <th>price</th>\n",
       "      <th>effective</th>\n",
       "      <th>expired</th>\n",
       "      <th>duration</th>\n",
       "      <th>delimitted_list</th>\n",
       "      <th>list_1</th>\n",
       "      <th>list_2</th>\n",
       "      <th>list_3</th>\n",
       "    </tr>\n",
       "  </thead>\n",
       "  <tbody>\n",
       "    <tr>\n",
       "      <th>0</th>\n",
       "      <td>False</td>\n",
       "      <td>A100</td>\n",
       "      <td>23899001</td>\n",
       "      <td>First Row</td>\n",
       "      <td>Aidan Scally</td>\n",
       "      <td>14</td>\n",
       "      <td>1.23</td>\n",
       "      <td>2015-10-21</td>\n",
       "      <td>2019-12-31</td>\n",
       "      <td>1532.0</td>\n",
       "      <td>123;456;789</td>\n",
       "      <td>123</td>\n",
       "      <td>456</td>\n",
       "      <td>789</td>\n",
       "    </tr>\n",
       "    <tr>\n",
       "      <th>1</th>\n",
       "      <td>False</td>\n",
       "      <td>A101</td>\n",
       "      <td>23899002</td>\n",
       "      <td>Second Row</td>\n",
       "      <td>Eoin Mcallister</td>\n",
       "      <td>103</td>\n",
       "      <td>4.32</td>\n",
       "      <td>2016-10-21</td>\n",
       "      <td>2020-12-31</td>\n",
       "      <td>1532.0</td>\n",
       "      <td>ss;11;33</td>\n",
       "      <td>ss</td>\n",
       "      <td>11</td>\n",
       "      <td>33</td>\n",
       "    </tr>\n",
       "    <tr>\n",
       "      <th>2</th>\n",
       "      <td>False</td>\n",
       "      <td>A103</td>\n",
       "      <td>23899007</td>\n",
       "      <td>Seventh Row</td>\n",
       "      <td>Tony Goddard</td>\n",
       "      <td>178</td>\n",
       "      <td>27.05</td>\n",
       "      <td>2019-10-21</td>\n",
       "      <td>2025-12-31</td>\n",
       "      <td>NaN</td>\n",
       "      <td>24th May; 18th July; 5th August</td>\n",
       "      <td>24th May</td>\n",
       "      <td>18th July</td>\n",
       "      <td>5th August</td>\n",
       "    </tr>\n",
       "    <tr>\n",
       "      <th>3</th>\n",
       "      <td>False</td>\n",
       "      <td>A101</td>\n",
       "      <td>23899003</td>\n",
       "      <td>Third Row</td>\n",
       "      <td>Mike Tarpey</td>\n",
       "      <td>1</td>\n",
       "      <td>34.32</td>\n",
       "      <td>2017-10-21</td>\n",
       "      <td>2021-12-31</td>\n",
       "      <td>1532.0</td>\n",
       "      <td>A;b;C</td>\n",
       "      <td>A</td>\n",
       "      <td>b</td>\n",
       "      <td>C</td>\n",
       "    </tr>\n",
       "    <tr>\n",
       "      <th>4</th>\n",
       "      <td>True</td>\n",
       "      <td>A103</td>\n",
       "      <td>23899005</td>\n",
       "      <td>Fifth Row</td>\n",
       "      <td>Theo Dallis</td>\n",
       "      <td>19</td>\n",
       "      <td>45.80</td>\n",
       "      <td>2019-10-21</td>\n",
       "      <td>2023-12-31</td>\n",
       "      <td>1532.0</td>\n",
       "      <td>x;y;z</td>\n",
       "      <td>x</td>\n",
       "      <td>y</td>\n",
       "      <td>z</td>\n",
       "    </tr>\n",
       "    <tr>\n",
       "      <th>5</th>\n",
       "      <td>True</td>\n",
       "      <td>A103</td>\n",
       "      <td>23899012</td>\n",
       "      <td>Fifth Row</td>\n",
       "      <td>Theo Dallis</td>\n",
       "      <td>19</td>\n",
       "      <td>45.80</td>\n",
       "      <td>2019-10-21</td>\n",
       "      <td>2023-12-31</td>\n",
       "      <td>1532.0</td>\n",
       "      <td>5555;4444;3333</td>\n",
       "      <td>5555</td>\n",
       "      <td>4444</td>\n",
       "      <td>3333</td>\n",
       "    </tr>\n",
       "    <tr>\n",
       "      <th>6</th>\n",
       "      <td>True</td>\n",
       "      <td>A102</td>\n",
       "      <td>23899004</td>\n",
       "      <td>Fourth Row</td>\n",
       "      <td>Alan Denton</td>\n",
       "      <td>13</td>\n",
       "      <td>49.00</td>\n",
       "      <td>2018-10-21</td>\n",
       "      <td>2022-12-31</td>\n",
       "      <td>1532.0</td>\n",
       "      <td>cat;dog;books</td>\n",
       "      <td>cat</td>\n",
       "      <td>dog</td>\n",
       "      <td>books</td>\n",
       "    </tr>\n",
       "    <tr>\n",
       "      <th>7</th>\n",
       "      <td>True</td>\n",
       "      <td>A102</td>\n",
       "      <td>23899011</td>\n",
       "      <td>Fourth Row</td>\n",
       "      <td>Alan Denton</td>\n",
       "      <td>13</td>\n",
       "      <td>49.00</td>\n",
       "      <td>2018-10-21</td>\n",
       "      <td>2022-12-31</td>\n",
       "      <td>1532.0</td>\n",
       "      <td>d20;tg54;kde40</td>\n",
       "      <td>d20</td>\n",
       "      <td>tg54</td>\n",
       "      <td>kde40</td>\n",
       "    </tr>\n",
       "  </tbody>\n",
       "</table>\n",
       "</div>"
      ],
      "text/plain": [
       "   duplicate price grouping    orders  description       second_col  qty  \\\n",
       "0            False     A100  23899001    First Row     Aidan Scally   14   \n",
       "1            False     A101  23899002   Second Row  Eoin Mcallister  103   \n",
       "2            False     A103  23899007  Seventh Row     Tony Goddard  178   \n",
       "3            False     A101  23899003    Third Row      Mike Tarpey    1   \n",
       "4             True     A103  23899005    Fifth Row      Theo Dallis   19   \n",
       "5             True     A103  23899012    Fifth Row      Theo Dallis   19   \n",
       "6             True     A102  23899004   Fourth Row      Alan Denton   13   \n",
       "7             True     A102  23899011   Fourth Row      Alan Denton   13   \n",
       "\n",
       "   price  effective    expired  duration                  delimitted_list  \\\n",
       "0   1.23 2015-10-21 2019-12-31    1532.0                      123;456;789   \n",
       "1   4.32 2016-10-21 2020-12-31    1532.0                         ss;11;33   \n",
       "2  27.05 2019-10-21 2025-12-31       NaN  24th May; 18th July; 5th August   \n",
       "3  34.32 2017-10-21 2021-12-31    1532.0                            A;b;C   \n",
       "4  45.80 2019-10-21 2023-12-31    1532.0                            x;y;z   \n",
       "5  45.80 2019-10-21 2023-12-31    1532.0                   5555;4444;3333   \n",
       "6  49.00 2018-10-21 2022-12-31    1532.0                    cat;dog;books   \n",
       "7  49.00 2018-10-21 2022-12-31    1532.0                   d20;tg54;kde40   \n",
       "\n",
       "     list_1      list_2       list_3  \n",
       "0       123         456          789  \n",
       "1        ss          11           33  \n",
       "2  24th May   18th July   5th August  \n",
       "3         A           b            C  \n",
       "4         x           y            z  \n",
       "5      5555        4444         3333  \n",
       "6       cat         dog        books  \n",
       "7       d20        tg54        kde40  "
      ]
     },
     "execution_count": 31,
     "metadata": {},
     "output_type": "execute_result"
    }
   ],
   "source": [
    "subset = ['price']\n",
    "\n",
    "(head(duplicated(df2, subset=subset, loc='first', sort=True,\n",
    "                 column='duplicate price')\n",
    "      .reset_index(drop=True)\n",
    "      .drop(columns=['duplicate']), 8))"
   ]
  },
  {
   "cell_type": "code",
   "execution_count": 32,
   "metadata": {
    "ExecuteTime": {
     "end_time": "2021-02-26T14:54:51.751381Z",
     "start_time": "2021-02-26T14:54:51.705525Z"
    },
    "slideshow": {
     "slide_type": "subslide"
    }
   },
   "outputs": [
    {
     "name": "stderr",
     "output_type": "stream",
     "text": [
      "12 rows, 14 columns\n"
     ]
    },
    {
     "data": {
      "text/html": [
       "<div>\n",
       "<style scoped>\n",
       "    .dataframe tbody tr th:only-of-type {\n",
       "        vertical-align: middle;\n",
       "    }\n",
       "\n",
       "    .dataframe tbody tr th {\n",
       "        vertical-align: top;\n",
       "    }\n",
       "\n",
       "    .dataframe thead th {\n",
       "        text-align: right;\n",
       "    }\n",
       "</style>\n",
       "<table border=\"1\" class=\"dataframe\">\n",
       "  <thead>\n",
       "    <tr style=\"text-align: right;\">\n",
       "      <th></th>\n",
       "      <th>duplicate description</th>\n",
       "      <th>grouping</th>\n",
       "      <th>orders</th>\n",
       "      <th>description</th>\n",
       "      <th>second_col</th>\n",
       "      <th>qty</th>\n",
       "      <th>price</th>\n",
       "      <th>effective</th>\n",
       "      <th>expired</th>\n",
       "      <th>duration</th>\n",
       "      <th>delimitted_list</th>\n",
       "      <th>list_1</th>\n",
       "      <th>list_2</th>\n",
       "      <th>list_3</th>\n",
       "    </tr>\n",
       "  </thead>\n",
       "  <tbody>\n",
       "    <tr>\n",
       "      <th>0</th>\n",
       "      <td>False</td>\n",
       "      <td>A104</td>\n",
       "      <td>23899008</td>\n",
       "      <td>Eighth Row</td>\n",
       "      <td>Matthew Whitaker</td>\n",
       "      <td>424</td>\n",
       "      <td>56.3</td>\n",
       "      <td>2019-10-21</td>\n",
       "      <td>2025-12-31</td>\n",
       "      <td>NaN</td>\n",
       "      <td>cc;bb;aa</td>\n",
       "      <td>cc</td>\n",
       "      <td>bb</td>\n",
       "      <td>aa</td>\n",
       "    </tr>\n",
       "    <tr>\n",
       "      <th>1</th>\n",
       "      <td>True</td>\n",
       "      <td>A103</td>\n",
       "      <td>23899005</td>\n",
       "      <td>Fifth Row</td>\n",
       "      <td>Theo Dallis</td>\n",
       "      <td>19</td>\n",
       "      <td>45.8</td>\n",
       "      <td>2019-10-21</td>\n",
       "      <td>2023-12-31</td>\n",
       "      <td>1532.0</td>\n",
       "      <td>x;y;z</td>\n",
       "      <td>x</td>\n",
       "      <td>y</td>\n",
       "      <td>z</td>\n",
       "    </tr>\n",
       "    <tr>\n",
       "      <th>2</th>\n",
       "      <td>True</td>\n",
       "      <td>A103</td>\n",
       "      <td>23899012</td>\n",
       "      <td>Fifth Row</td>\n",
       "      <td>Theo Dallis</td>\n",
       "      <td>19</td>\n",
       "      <td>45.8</td>\n",
       "      <td>2019-10-21</td>\n",
       "      <td>2023-12-31</td>\n",
       "      <td>1532.0</td>\n",
       "      <td>5555;4444;3333</td>\n",
       "      <td>5555</td>\n",
       "      <td>4444</td>\n",
       "      <td>3333</td>\n",
       "    </tr>\n",
       "  </tbody>\n",
       "</table>\n",
       "</div>"
      ],
      "text/plain": [
       "   duplicate description grouping    orders description        second_col  \\\n",
       "0                  False     A104  23899008  Eighth Row  Matthew Whitaker   \n",
       "1                   True     A103  23899005   Fifth Row       Theo Dallis   \n",
       "2                   True     A103  23899012   Fifth Row       Theo Dallis   \n",
       "\n",
       "   qty  price  effective    expired  duration delimitted_list list_1 list_2  \\\n",
       "0  424   56.3 2019-10-21 2025-12-31       NaN        cc;bb;aa     cc     bb   \n",
       "1   19   45.8 2019-10-21 2023-12-31    1532.0           x;y;z      x      y   \n",
       "2   19   45.8 2019-10-21 2023-12-31    1532.0  5555;4444;3333   5555   4444   \n",
       "\n",
       "  list_3  \n",
       "0     aa  \n",
       "1      z  \n",
       "2   3333  "
      ]
     },
     "execution_count": 32,
     "metadata": {},
     "output_type": "execute_result"
    }
   ],
   "source": [
    "subset=['description']\n",
    "\n",
    "(head(duplicated(df2, subset=subset,column='duplicate description')\n",
    "      .reset_index(drop=True)\n",
    "      .drop(columns=['duplicate']), 3))"
   ]
  },
  {
   "cell_type": "markdown",
   "metadata": {
    "slideshow": {
     "slide_type": "subslide"
    }
   },
   "source": [
    "## Combine and explode column data"
   ]
  },
  {
   "cell_type": "markdown",
   "metadata": {
    "slideshow": {
     "slide_type": "fragment"
    }
   },
   "source": [
    "### combining columns into a single 'list' column"
   ]
  },
  {
   "cell_type": "code",
   "execution_count": 33,
   "metadata": {
    "ExecuteTime": {
     "end_time": "2021-02-26T14:54:51.782106Z",
     "start_time": "2021-02-26T14:54:51.755492Z"
    },
    "slideshow": {
     "slide_type": "fragment"
    }
   },
   "outputs": [
    {
     "data": {
      "text/html": [
       "<div>\n",
       "<style scoped>\n",
       "    .dataframe tbody tr th:only-of-type {\n",
       "        vertical-align: middle;\n",
       "    }\n",
       "\n",
       "    .dataframe tbody tr th {\n",
       "        vertical-align: top;\n",
       "    }\n",
       "\n",
       "    .dataframe thead th {\n",
       "        text-align: right;\n",
       "    }\n",
       "</style>\n",
       "<table border=\"1\" class=\"dataframe\">\n",
       "  <thead>\n",
       "    <tr style=\"text-align: right;\">\n",
       "      <th></th>\n",
       "      <th>list_1</th>\n",
       "      <th>list_2</th>\n",
       "      <th>list_3</th>\n",
       "    </tr>\n",
       "  </thead>\n",
       "  <tbody>\n",
       "    <tr>\n",
       "      <th>0</th>\n",
       "      <td>123</td>\n",
       "      <td>456</td>\n",
       "      <td>789</td>\n",
       "    </tr>\n",
       "    <tr>\n",
       "      <th>5</th>\n",
       "      <td>alpha</td>\n",
       "      <td>bravo</td>\n",
       "      <td>charlie</td>\n",
       "    </tr>\n",
       "    <tr>\n",
       "      <th>1</th>\n",
       "      <td>ss</td>\n",
       "      <td>11</td>\n",
       "      <td>33</td>\n",
       "    </tr>\n",
       "    <tr>\n",
       "      <th>2</th>\n",
       "      <td>A</td>\n",
       "      <td>b</td>\n",
       "      <td>C</td>\n",
       "    </tr>\n",
       "    <tr>\n",
       "      <th>3</th>\n",
       "      <td>cat</td>\n",
       "      <td>dog</td>\n",
       "      <td>books</td>\n",
       "    </tr>\n",
       "    <tr>\n",
       "      <th>10</th>\n",
       "      <td>d20</td>\n",
       "      <td>tg54</td>\n",
       "      <td>kde40</td>\n",
       "    </tr>\n",
       "    <tr>\n",
       "      <th>4</th>\n",
       "      <td>x</td>\n",
       "      <td>y</td>\n",
       "      <td>z</td>\n",
       "    </tr>\n",
       "    <tr>\n",
       "      <th>11</th>\n",
       "      <td>5555</td>\n",
       "      <td>4444</td>\n",
       "      <td>3333</td>\n",
       "    </tr>\n",
       "    <tr>\n",
       "      <th>8</th>\n",
       "      <td>1304</td>\n",
       "      <td>53-02</td>\n",
       "      <td>6932</td>\n",
       "    </tr>\n",
       "    <tr>\n",
       "      <th>6</th>\n",
       "      <td>24th May</td>\n",
       "      <td>18th July</td>\n",
       "      <td>5th August</td>\n",
       "    </tr>\n",
       "    <tr>\n",
       "      <th>7</th>\n",
       "      <td>cc</td>\n",
       "      <td>bb</td>\n",
       "      <td>aa</td>\n",
       "    </tr>\n",
       "    <tr>\n",
       "      <th>9</th>\n",
       "      <td>40a3</td>\n",
       "      <td>64g</td>\n",
       "      <td>023;</td>\n",
       "    </tr>\n",
       "  </tbody>\n",
       "</table>\n",
       "</div>"
      ],
      "text/plain": [
       "      list_1      list_2       list_3\n",
       "0        123         456          789\n",
       "5      alpha       bravo      charlie\n",
       "1         ss          11           33\n",
       "2          A           b            C\n",
       "3        cat         dog        books\n",
       "10       d20        tg54        kde40\n",
       "4          x           y            z\n",
       "11      5555        4444         3333\n",
       "8       1304       53-02         6932\n",
       "6   24th May   18th July   5th August\n",
       "7         cc          bb           aa\n",
       "9       40a3         64g         023;"
      ]
     },
     "execution_count": 33,
     "metadata": {},
     "output_type": "execute_result"
    }
   ],
   "source": [
    "df[['list_1', 'list_2', 'list_3']]"
   ]
  },
  {
   "cell_type": "code",
   "execution_count": 34,
   "metadata": {
    "ExecuteTime": {
     "end_time": "2021-02-26T14:54:51.825285Z",
     "start_time": "2021-02-26T14:54:51.787456Z"
    },
    "slideshow": {
     "slide_type": "subslide"
    }
   },
   "outputs": [
    {
     "name": "stderr",
     "output_type": "stream",
     "text": [
      "12 rows, 4 columns\n"
     ]
    },
    {
     "data": {
      "text/html": [
       "<div>\n",
       "<style scoped>\n",
       "    .dataframe tbody tr th:only-of-type {\n",
       "        vertical-align: middle;\n",
       "    }\n",
       "\n",
       "    .dataframe tbody tr th {\n",
       "        vertical-align: top;\n",
       "    }\n",
       "\n",
       "    .dataframe thead th {\n",
       "        text-align: right;\n",
       "    }\n",
       "</style>\n",
       "<table border=\"1\" class=\"dataframe\">\n",
       "  <thead>\n",
       "    <tr style=\"text-align: right;\">\n",
       "      <th></th>\n",
       "      <th>list_1</th>\n",
       "      <th>list_2</th>\n",
       "      <th>list_3</th>\n",
       "      <th>combined_listcol</th>\n",
       "    </tr>\n",
       "  </thead>\n",
       "  <tbody>\n",
       "    <tr>\n",
       "      <th>0</th>\n",
       "      <td>123</td>\n",
       "      <td>456</td>\n",
       "      <td>789</td>\n",
       "      <td>[123, 456, 789]</td>\n",
       "    </tr>\n",
       "    <tr>\n",
       "      <th>5</th>\n",
       "      <td>alpha</td>\n",
       "      <td>bravo</td>\n",
       "      <td>charlie</td>\n",
       "      <td>[d20, tg54, kde40]</td>\n",
       "    </tr>\n",
       "    <tr>\n",
       "      <th>1</th>\n",
       "      <td>ss</td>\n",
       "      <td>11</td>\n",
       "      <td>33</td>\n",
       "      <td>[alpha,  bravo,  charlie]</td>\n",
       "    </tr>\n",
       "    <tr>\n",
       "      <th>2</th>\n",
       "      <td>A</td>\n",
       "      <td>b</td>\n",
       "      <td>C</td>\n",
       "      <td>[ss, 11, 33]</td>\n",
       "    </tr>\n",
       "  </tbody>\n",
       "</table>\n",
       "</div>"
      ],
      "text/plain": [
       "  list_1  list_2    list_3           combined_listcol\n",
       "0    123     456       789            [123, 456, 789]\n",
       "5  alpha   bravo   charlie         [d20, tg54, kde40]\n",
       "1     ss      11        33  [alpha,  bravo,  charlie]\n",
       "2      A       b         C               [ss, 11, 33]"
      ]
     },
     "execution_count": 34,
     "metadata": {},
     "output_type": "execute_result"
    }
   ],
   "source": [
    "# Step 1: Combine columns in to a single Series consisting of three columns values as a list\n",
    "# then converted to a Series object.\n",
    "# del df['combined_listcol']\n",
    "combined_listcol = pd.Series(df[['list_1', 'list_2', 'list_3']].values.tolist())\n",
    "combined_listcol\n",
    "\n",
    "# Step 2: Insert series at position 13 (end) of dataframe\n",
    "df.insert(13, 'combined_listcol', combined_listcol)\n",
    "head(df.loc[: ,'list_1': 'combined_listcol'])"
   ]
  },
  {
   "cell_type": "markdown",
   "metadata": {
    "slideshow": {
     "slide_type": "subslide"
    }
   },
   "source": [
    "### explode (extract) values from a single 'list' column"
   ]
  },
  {
   "cell_type": "code",
   "execution_count": 35,
   "metadata": {
    "ExecuteTime": {
     "end_time": "2021-02-26T14:54:51.851853Z",
     "start_time": "2021-02-26T14:54:51.827366Z"
    },
    "slideshow": {
     "slide_type": "fragment"
    }
   },
   "outputs": [
    {
     "data": {
      "text/html": [
       "<div>\n",
       "<style scoped>\n",
       "    .dataframe tbody tr th:only-of-type {\n",
       "        vertical-align: middle;\n",
       "    }\n",
       "\n",
       "    .dataframe tbody tr th {\n",
       "        vertical-align: top;\n",
       "    }\n",
       "\n",
       "    .dataframe thead th {\n",
       "        text-align: right;\n",
       "    }\n",
       "</style>\n",
       "<table border=\"1\" class=\"dataframe\">\n",
       "  <thead>\n",
       "    <tr style=\"text-align: right;\">\n",
       "      <th></th>\n",
       "      <th>second_col</th>\n",
       "      <th>combined_listcol</th>\n",
       "    </tr>\n",
       "  </thead>\n",
       "  <tbody>\n",
       "    <tr>\n",
       "      <th>0</th>\n",
       "      <td>Aidan Scally</td>\n",
       "      <td>[123, 456, 789]</td>\n",
       "    </tr>\n",
       "    <tr>\n",
       "      <th>5</th>\n",
       "      <td>Derek Hunt</td>\n",
       "      <td>[d20, tg54, kde40]</td>\n",
       "    </tr>\n",
       "    <tr>\n",
       "      <th>1</th>\n",
       "      <td>Eoin Mcallister</td>\n",
       "      <td>[alpha,  bravo,  charlie]</td>\n",
       "    </tr>\n",
       "  </tbody>\n",
       "</table>\n",
       "</div>"
      ],
      "text/plain": [
       "        second_col           combined_listcol\n",
       "0     Aidan Scally            [123, 456, 789]\n",
       "5       Derek Hunt         [d20, tg54, kde40]\n",
       "1  Eoin Mcallister  [alpha,  bravo,  charlie]"
      ]
     },
     "execution_count": 35,
     "metadata": {},
     "output_type": "execute_result"
    }
   ],
   "source": [
    "df[['second_col', 'combined_listcol']].head(3)"
   ]
  },
  {
   "cell_type": "code",
   "execution_count": 36,
   "metadata": {
    "ExecuteTime": {
     "end_time": "2021-02-26T14:54:51.893661Z",
     "start_time": "2021-02-26T14:54:51.856865Z"
    },
    "slideshow": {
     "slide_type": "fragment"
    }
   },
   "outputs": [
    {
     "name": "stderr",
     "output_type": "stream",
     "text": [
      "36 rows, 2 columns\n"
     ]
    },
    {
     "data": {
      "text/html": [
       "<div>\n",
       "<style scoped>\n",
       "    .dataframe tbody tr th:only-of-type {\n",
       "        vertical-align: middle;\n",
       "    }\n",
       "\n",
       "    .dataframe tbody tr th {\n",
       "        vertical-align: top;\n",
       "    }\n",
       "\n",
       "    .dataframe thead th {\n",
       "        text-align: right;\n",
       "    }\n",
       "</style>\n",
       "<table border=\"1\" class=\"dataframe\">\n",
       "  <thead>\n",
       "    <tr style=\"text-align: right;\">\n",
       "      <th></th>\n",
       "      <th>second_col</th>\n",
       "      <th>combined_listcol</th>\n",
       "    </tr>\n",
       "  </thead>\n",
       "  <tbody>\n",
       "    <tr>\n",
       "      <th>0</th>\n",
       "      <td>Aidan Scally</td>\n",
       "      <td>123</td>\n",
       "    </tr>\n",
       "    <tr>\n",
       "      <th>0</th>\n",
       "      <td>Aidan Scally</td>\n",
       "      <td>456</td>\n",
       "    </tr>\n",
       "    <tr>\n",
       "      <th>0</th>\n",
       "      <td>Aidan Scally</td>\n",
       "      <td>789</td>\n",
       "    </tr>\n",
       "    <tr>\n",
       "      <th>5</th>\n",
       "      <td>Derek Hunt</td>\n",
       "      <td>d20</td>\n",
       "    </tr>\n",
       "  </tbody>\n",
       "</table>\n",
       "</div>"
      ],
      "text/plain": [
       "     second_col combined_listcol\n",
       "0  Aidan Scally              123\n",
       "0  Aidan Scally              456\n",
       "0  Aidan Scally              789\n",
       "5    Derek Hunt              d20"
      ]
     },
     "execution_count": 36,
     "metadata": {},
     "output_type": "execute_result"
    }
   ],
   "source": [
    "head(df[['second_col', 'combined_listcol']].explode('combined_listcol'), 4)"
   ]
  },
  {
   "cell_type": "markdown",
   "metadata": {
    "slideshow": {
     "slide_type": "subslide"
    }
   },
   "source": [
    "## add_formula - Add Excel formula(s)"
   ]
  },
  {
   "cell_type": "code",
   "execution_count": 37,
   "metadata": {
    "ExecuteTime": {
     "end_time": "2021-02-26T14:54:51.945436Z",
     "start_time": "2021-02-26T14:54:51.901782Z"
    },
    "slideshow": {
     "slide_type": "fragment"
    }
   },
   "outputs": [
    {
     "name": "stderr",
     "output_type": "stream",
     "text": [
      "12 rows, 7 columns\n"
     ]
    },
    {
     "data": {
      "text/html": [
       "<div>\n",
       "<style scoped>\n",
       "    .dataframe tbody tr th:only-of-type {\n",
       "        vertical-align: middle;\n",
       "    }\n",
       "\n",
       "    .dataframe tbody tr th {\n",
       "        vertical-align: top;\n",
       "    }\n",
       "\n",
       "    .dataframe thead th {\n",
       "        text-align: right;\n",
       "    }\n",
       "</style>\n",
       "<table border=\"1\" class=\"dataframe\">\n",
       "  <thead>\n",
       "    <tr style=\"text-align: right;\">\n",
       "      <th></th>\n",
       "      <th>duration</th>\n",
       "      <th>delimitted_list</th>\n",
       "      <th>list_1</th>\n",
       "      <th>list_2</th>\n",
       "      <th>list_3</th>\n",
       "      <th>combined_listcol</th>\n",
       "      <th>X8</th>\n",
       "    </tr>\n",
       "  </thead>\n",
       "  <tbody>\n",
       "    <tr>\n",
       "      <th>0</th>\n",
       "      <td>1532.0</td>\n",
       "      <td>123;456;789</td>\n",
       "      <td>123</td>\n",
       "      <td>456</td>\n",
       "      <td>789</td>\n",
       "      <td>[123, 456, 789]</td>\n",
       "      <td>=CONCATENATE(A2, B2, C2)</td>\n",
       "    </tr>\n",
       "    <tr>\n",
       "      <th>5</th>\n",
       "      <td>382.0</td>\n",
       "      <td>alpha; bravo; charlie</td>\n",
       "      <td>alpha</td>\n",
       "      <td>bravo</td>\n",
       "      <td>charlie</td>\n",
       "      <td>[d20, tg54, kde40]</td>\n",
       "      <td>=CONCATENATE(A3, B3, C3)</td>\n",
       "    </tr>\n",
       "    <tr>\n",
       "      <th>1</th>\n",
       "      <td>1532.0</td>\n",
       "      <td>ss;11;33</td>\n",
       "      <td>ss</td>\n",
       "      <td>11</td>\n",
       "      <td>33</td>\n",
       "      <td>[alpha,  bravo,  charlie]</td>\n",
       "      <td>=CONCATENATE(A4, B4, C4)</td>\n",
       "    </tr>\n",
       "    <tr>\n",
       "      <th>2</th>\n",
       "      <td>1532.0</td>\n",
       "      <td>A;b;C</td>\n",
       "      <td>A</td>\n",
       "      <td>b</td>\n",
       "      <td>C</td>\n",
       "      <td>[ss, 11, 33]</td>\n",
       "      <td>=CONCATENATE(A5, B5, C5)</td>\n",
       "    </tr>\n",
       "  </tbody>\n",
       "</table>\n",
       "</div>"
      ],
      "text/plain": [
       "   duration        delimitted_list list_1  list_2    list_3  \\\n",
       "0    1532.0            123;456;789    123     456       789   \n",
       "5     382.0  alpha; bravo; charlie  alpha   bravo   charlie   \n",
       "1    1532.0               ss;11;33     ss      11        33   \n",
       "2    1532.0                  A;b;C      A       b         C   \n",
       "\n",
       "            combined_listcol                        X8  \n",
       "0            [123, 456, 789]  =CONCATENATE(A2, B2, C2)  \n",
       "5         [d20, tg54, kde40]  =CONCATENATE(A3, B3, C3)  \n",
       "1  [alpha,  bravo,  charlie]  =CONCATENATE(A4, B4, C4)  \n",
       "2               [ss, 11, 33]  =CONCATENATE(A5, B5, C5)  "
      ]
     },
     "execution_count": 37,
     "metadata": {},
     "output_type": "execute_result"
    }
   ],
   "source": [
    "# del df['X8']\n",
    "formula = '=CONCATENATE(A{row}, B{row}, C{row})' # See help(add_formula) for details\n",
    "add_formula(df, column_name='X8', formula=formula, inplace=True)\n",
    "head(df.loc[:, 'duration': 'X8'], 4)"
   ]
  },
  {
   "cell_type": "code",
   "execution_count": 38,
   "metadata": {
    "ExecuteTime": {
     "end_time": "2021-02-26T14:54:51.957207Z",
     "start_time": "2021-02-26T14:54:51.952132Z"
    },
    "slideshow": {
     "slide_type": "fragment"
    }
   },
   "outputs": [],
   "source": [
    "# help(add_formula)"
   ]
  },
  {
   "cell_type": "markdown",
   "metadata": {
    "slideshow": {
     "slide_type": "slide"
    }
   },
   "source": [
    "# Categorical data"
   ]
  },
  {
   "cell_type": "code",
   "execution_count": 39,
   "metadata": {
    "ExecuteTime": {
     "end_time": "2021-02-26T14:54:51.982611Z",
     "start_time": "2021-02-26T14:54:51.960797Z"
    },
    "slideshow": {
     "slide_type": "fragment"
    }
   },
   "outputs": [
    {
     "data": {
      "text/html": [
       "<div>\n",
       "<style scoped>\n",
       "    .dataframe tbody tr th:only-of-type {\n",
       "        vertical-align: middle;\n",
       "    }\n",
       "\n",
       "    .dataframe tbody tr th {\n",
       "        vertical-align: top;\n",
       "    }\n",
       "\n",
       "    .dataframe thead th {\n",
       "        text-align: right;\n",
       "    }\n",
       "</style>\n",
       "<table border=\"1\" class=\"dataframe\">\n",
       "  <thead>\n",
       "    <tr style=\"text-align: right;\">\n",
       "      <th></th>\n",
       "      <th>description</th>\n",
       "      <th>grouping</th>\n",
       "    </tr>\n",
       "  </thead>\n",
       "  <tbody>\n",
       "    <tr>\n",
       "      <th>0</th>\n",
       "      <td>First Row</td>\n",
       "      <td>A100</td>\n",
       "    </tr>\n",
       "    <tr>\n",
       "      <th>5</th>\n",
       "      <td>Sixth Row</td>\n",
       "      <td>A103</td>\n",
       "    </tr>\n",
       "    <tr>\n",
       "      <th>1</th>\n",
       "      <td>Second Row</td>\n",
       "      <td>A101</td>\n",
       "    </tr>\n",
       "    <tr>\n",
       "      <th>2</th>\n",
       "      <td>Third Row</td>\n",
       "      <td>A101</td>\n",
       "    </tr>\n",
       "    <tr>\n",
       "      <th>3</th>\n",
       "      <td>Fourth Row</td>\n",
       "      <td>A102</td>\n",
       "    </tr>\n",
       "    <tr>\n",
       "      <th>10</th>\n",
       "      <td>Fourth Row</td>\n",
       "      <td>A102</td>\n",
       "    </tr>\n",
       "    <tr>\n",
       "      <th>4</th>\n",
       "      <td>Fifth Row</td>\n",
       "      <td>A103</td>\n",
       "    </tr>\n",
       "    <tr>\n",
       "      <th>11</th>\n",
       "      <td>Fifth Row</td>\n",
       "      <td>A103</td>\n",
       "    </tr>\n",
       "  </tbody>\n",
       "</table>\n",
       "</div>"
      ],
      "text/plain": [
       "   description grouping\n",
       "0    First Row     A100\n",
       "5    Sixth Row     A103\n",
       "1   Second Row     A101\n",
       "2    Third Row     A101\n",
       "3   Fourth Row     A102\n",
       "10  Fourth Row     A102\n",
       "4    Fifth Row     A103\n",
       "11   Fifth Row     A103"
      ]
     },
     "execution_count": 39,
     "metadata": {},
     "output_type": "execute_result"
    }
   ],
   "source": [
    "# We want to 'pivot' and summarise the records below, counting how many groups relate to description column\n",
    "df[['description', 'grouping']].head(8)"
   ]
  },
  {
   "cell_type": "code",
   "execution_count": 40,
   "metadata": {
    "ExecuteTime": {
     "end_time": "2021-02-26T14:54:52.034079Z",
     "start_time": "2021-02-26T14:54:51.986429Z"
    },
    "slideshow": {
     "slide_type": "subslide"
    }
   },
   "outputs": [
    {
     "data": {
      "text/html": [
       "<div>\n",
       "<style scoped>\n",
       "    .dataframe tbody tr th:only-of-type {\n",
       "        vertical-align: middle;\n",
       "    }\n",
       "\n",
       "    .dataframe tbody tr th {\n",
       "        vertical-align: top;\n",
       "    }\n",
       "\n",
       "    .dataframe thead th {\n",
       "        text-align: right;\n",
       "    }\n",
       "</style>\n",
       "<table border=\"1\" class=\"dataframe\">\n",
       "  <thead>\n",
       "    <tr style=\"text-align: right;\">\n",
       "      <th>description</th>\n",
       "      <th>Eighth Row</th>\n",
       "      <th>Fifth Row</th>\n",
       "      <th>First Row</th>\n",
       "      <th>Fourth Row</th>\n",
       "      <th>Ninth Row</th>\n",
       "      <th>Second Row</th>\n",
       "      <th>Seventh Row</th>\n",
       "      <th>Sixth Row</th>\n",
       "      <th>Tenth Row</th>\n",
       "      <th>Third Row</th>\n",
       "    </tr>\n",
       "    <tr>\n",
       "      <th>grouping</th>\n",
       "      <th></th>\n",
       "      <th></th>\n",
       "      <th></th>\n",
       "      <th></th>\n",
       "      <th></th>\n",
       "      <th></th>\n",
       "      <th></th>\n",
       "      <th></th>\n",
       "      <th></th>\n",
       "      <th></th>\n",
       "    </tr>\n",
       "  </thead>\n",
       "  <tbody>\n",
       "    <tr>\n",
       "      <th>A100</th>\n",
       "      <td>0</td>\n",
       "      <td>0</td>\n",
       "      <td>1</td>\n",
       "      <td>0</td>\n",
       "      <td>0</td>\n",
       "      <td>0</td>\n",
       "      <td>0</td>\n",
       "      <td>0</td>\n",
       "      <td>0</td>\n",
       "      <td>0</td>\n",
       "    </tr>\n",
       "    <tr>\n",
       "      <th>A101</th>\n",
       "      <td>0</td>\n",
       "      <td>0</td>\n",
       "      <td>0</td>\n",
       "      <td>0</td>\n",
       "      <td>0</td>\n",
       "      <td>1</td>\n",
       "      <td>0</td>\n",
       "      <td>0</td>\n",
       "      <td>0</td>\n",
       "      <td>1</td>\n",
       "    </tr>\n",
       "    <tr>\n",
       "      <th>A102</th>\n",
       "      <td>0</td>\n",
       "      <td>0</td>\n",
       "      <td>0</td>\n",
       "      <td>2</td>\n",
       "      <td>0</td>\n",
       "      <td>0</td>\n",
       "      <td>0</td>\n",
       "      <td>0</td>\n",
       "      <td>0</td>\n",
       "      <td>0</td>\n",
       "    </tr>\n",
       "    <tr>\n",
       "      <th>A103</th>\n",
       "      <td>0</td>\n",
       "      <td>2</td>\n",
       "      <td>0</td>\n",
       "      <td>0</td>\n",
       "      <td>0</td>\n",
       "      <td>0</td>\n",
       "      <td>1</td>\n",
       "      <td>1</td>\n",
       "      <td>0</td>\n",
       "      <td>0</td>\n",
       "    </tr>\n",
       "    <tr>\n",
       "      <th>A104</th>\n",
       "      <td>1</td>\n",
       "      <td>0</td>\n",
       "      <td>0</td>\n",
       "      <td>0</td>\n",
       "      <td>0</td>\n",
       "      <td>0</td>\n",
       "      <td>0</td>\n",
       "      <td>0</td>\n",
       "      <td>0</td>\n",
       "      <td>0</td>\n",
       "    </tr>\n",
       "    <tr>\n",
       "      <th>A105</th>\n",
       "      <td>0</td>\n",
       "      <td>0</td>\n",
       "      <td>0</td>\n",
       "      <td>0</td>\n",
       "      <td>1</td>\n",
       "      <td>0</td>\n",
       "      <td>0</td>\n",
       "      <td>0</td>\n",
       "      <td>1</td>\n",
       "      <td>0</td>\n",
       "    </tr>\n",
       "  </tbody>\n",
       "</table>\n",
       "</div>"
      ],
      "text/plain": [
       "description  Eighth Row  Fifth Row  First Row  Fourth Row  Ninth Row  \\\n",
       "grouping                                                               \n",
       "A100                  0          0          1           0          0   \n",
       "A101                  0          0          0           0          0   \n",
       "A102                  0          0          0           2          0   \n",
       "A103                  0          2          0           0          0   \n",
       "A104                  1          0          0           0          0   \n",
       "A105                  0          0          0           0          1   \n",
       "\n",
       "description  Second Row  Seventh Row  Sixth Row  Tenth Row  Third Row  \n",
       "grouping                                                               \n",
       "A100                  0            0          0          0          0  \n",
       "A101                  1            0          0          0          1  \n",
       "A102                  0            0          0          0          0  \n",
       "A103                  0            1          1          0          0  \n",
       "A104                  0            0          0          0          0  \n",
       "A105                  0            0          0          1          0  "
      ]
     },
     "execution_count": 40,
     "metadata": {},
     "output_type": "execute_result"
    }
   ],
   "source": [
    "df.pivot_table(index=['grouping'],\n",
    "               columns='description',\n",
    "               values='orders',\n",
    "               fill_value=0,\n",
    "               aggfunc=np.size)"
   ]
  },
  {
   "cell_type": "code",
   "execution_count": 41,
   "metadata": {
    "ExecuteTime": {
     "end_time": "2021-02-26T14:54:52.104532Z",
     "start_time": "2021-02-26T14:54:52.037289Z"
    },
    "slideshow": {
     "slide_type": "subslide"
    }
   },
   "outputs": [
    {
     "data": {
      "text/html": [
       "<div>\n",
       "<style scoped>\n",
       "    .dataframe tbody tr th:only-of-type {\n",
       "        vertical-align: middle;\n",
       "    }\n",
       "\n",
       "    .dataframe tbody tr th {\n",
       "        vertical-align: top;\n",
       "    }\n",
       "\n",
       "    .dataframe thead th {\n",
       "        text-align: right;\n",
       "    }\n",
       "</style>\n",
       "<table border=\"1\" class=\"dataframe\">\n",
       "  <thead>\n",
       "    <tr style=\"text-align: right;\">\n",
       "      <th>description</th>\n",
       "      <th>First Row</th>\n",
       "      <th>Second Row</th>\n",
       "      <th>Third Row</th>\n",
       "      <th>Fourth Row</th>\n",
       "      <th>Fifth Row</th>\n",
       "      <th>Sixth Row</th>\n",
       "      <th>Seventh Row</th>\n",
       "      <th>Eighth Row</th>\n",
       "      <th>Ninth Row</th>\n",
       "      <th>Tenth Row</th>\n",
       "    </tr>\n",
       "    <tr>\n",
       "      <th>grouping</th>\n",
       "      <th></th>\n",
       "      <th></th>\n",
       "      <th></th>\n",
       "      <th></th>\n",
       "      <th></th>\n",
       "      <th></th>\n",
       "      <th></th>\n",
       "      <th></th>\n",
       "      <th></th>\n",
       "      <th></th>\n",
       "    </tr>\n",
       "  </thead>\n",
       "  <tbody>\n",
       "    <tr>\n",
       "      <th>A100</th>\n",
       "      <td>1</td>\n",
       "      <td>0</td>\n",
       "      <td>0</td>\n",
       "      <td>0</td>\n",
       "      <td>0</td>\n",
       "      <td>0</td>\n",
       "      <td>0</td>\n",
       "      <td>0</td>\n",
       "      <td>0</td>\n",
       "      <td>0</td>\n",
       "    </tr>\n",
       "    <tr>\n",
       "      <th>A101</th>\n",
       "      <td>0</td>\n",
       "      <td>1</td>\n",
       "      <td>1</td>\n",
       "      <td>0</td>\n",
       "      <td>0</td>\n",
       "      <td>0</td>\n",
       "      <td>0</td>\n",
       "      <td>0</td>\n",
       "      <td>0</td>\n",
       "      <td>0</td>\n",
       "    </tr>\n",
       "    <tr>\n",
       "      <th>A102</th>\n",
       "      <td>0</td>\n",
       "      <td>0</td>\n",
       "      <td>0</td>\n",
       "      <td>2</td>\n",
       "      <td>0</td>\n",
       "      <td>0</td>\n",
       "      <td>0</td>\n",
       "      <td>0</td>\n",
       "      <td>0</td>\n",
       "      <td>0</td>\n",
       "    </tr>\n",
       "    <tr>\n",
       "      <th>A103</th>\n",
       "      <td>0</td>\n",
       "      <td>0</td>\n",
       "      <td>0</td>\n",
       "      <td>0</td>\n",
       "      <td>2</td>\n",
       "      <td>1</td>\n",
       "      <td>1</td>\n",
       "      <td>0</td>\n",
       "      <td>0</td>\n",
       "      <td>0</td>\n",
       "    </tr>\n",
       "    <tr>\n",
       "      <th>A104</th>\n",
       "      <td>0</td>\n",
       "      <td>0</td>\n",
       "      <td>0</td>\n",
       "      <td>0</td>\n",
       "      <td>0</td>\n",
       "      <td>0</td>\n",
       "      <td>0</td>\n",
       "      <td>1</td>\n",
       "      <td>0</td>\n",
       "      <td>0</td>\n",
       "    </tr>\n",
       "    <tr>\n",
       "      <th>A105</th>\n",
       "      <td>0</td>\n",
       "      <td>0</td>\n",
       "      <td>0</td>\n",
       "      <td>0</td>\n",
       "      <td>0</td>\n",
       "      <td>0</td>\n",
       "      <td>0</td>\n",
       "      <td>0</td>\n",
       "      <td>1</td>\n",
       "      <td>1</td>\n",
       "    </tr>\n",
       "  </tbody>\n",
       "</table>\n",
       "</div>"
      ],
      "text/plain": [
       "description  First Row  Second Row  Third Row  Fourth Row  Fifth Row  \\\n",
       "grouping                                                               \n",
       "A100                 1           0          0           0          0   \n",
       "A101                 0           1          1           0          0   \n",
       "A102                 0           0          0           2          0   \n",
       "A103                 0           0          0           0          2   \n",
       "A104                 0           0          0           0          0   \n",
       "A105                 0           0          0           0          0   \n",
       "\n",
       "description  Sixth Row  Seventh Row  Eighth Row  Ninth Row  Tenth Row  \n",
       "grouping                                                               \n",
       "A100                 0            0           0          0          0  \n",
       "A101                 0            0           0          0          0  \n",
       "A102                 0            0           0          0          0  \n",
       "A103                 1            1           0          0          0  \n",
       "A104                 0            0           1          0          0  \n",
       "A105                 0            0           0          1          1  "
      ]
     },
     "execution_count": 41,
     "metadata": {},
     "output_type": "execute_result"
    }
   ],
   "source": [
    "# Required 'sequence' for categories\n",
    "categories = [\n",
    "    'First Row', 'Second Row', 'Third Row', 'Fourth Row', 'Fifth Row',\n",
    "    'Sixth Row', 'Seventh Row', 'Eighth Row', 'Ninth Row', 'Tenth Row'\n",
    "]\n",
    "df.description = pd.Categorical(values=df.description,\n",
    "                                categories=categories,\n",
    "                                ordered=True)\n",
    "\n",
    "df_categorical = df.copy(deep=True)\n",
    "df_categorical.pivot_table(index=['grouping'],\n",
    "                           columns='description',\n",
    "                           values='orders',\n",
    "                           fill_value=0,\n",
    "                           aggfunc=np.size)"
   ]
  },
  {
   "cell_type": "markdown",
   "metadata": {
    "slideshow": {
     "slide_type": "slide"
    }
   },
   "source": [
    "# DataFrame - Select/filter and extract"
   ]
  },
  {
   "cell_type": "markdown",
   "metadata": {
    "slideshow": {
     "slide_type": "fragment"
    }
   },
   "source": [
    "## Simple filter"
   ]
  },
  {
   "cell_type": "code",
   "execution_count": 42,
   "metadata": {
    "ExecuteTime": {
     "end_time": "2021-02-26T14:54:52.132922Z",
     "start_time": "2021-02-26T14:54:52.106966Z"
    },
    "slideshow": {
     "slide_type": "fragment"
    }
   },
   "outputs": [
    {
     "data": {
      "text/html": [
       "<div>\n",
       "<style scoped>\n",
       "    .dataframe tbody tr th:only-of-type {\n",
       "        vertical-align: middle;\n",
       "    }\n",
       "\n",
       "    .dataframe tbody tr th {\n",
       "        vertical-align: top;\n",
       "    }\n",
       "\n",
       "    .dataframe thead th {\n",
       "        text-align: right;\n",
       "    }\n",
       "</style>\n",
       "<table border=\"1\" class=\"dataframe\">\n",
       "  <thead>\n",
       "    <tr style=\"text-align: right;\">\n",
       "      <th></th>\n",
       "      <th>grouping</th>\n",
       "      <th>orders</th>\n",
       "      <th>description</th>\n",
       "      <th>second_col</th>\n",
       "      <th>qty</th>\n",
       "      <th>price</th>\n",
       "      <th>effective</th>\n",
       "      <th>expired</th>\n",
       "      <th>duration</th>\n",
       "      <th>delimitted_list</th>\n",
       "      <th>list_1</th>\n",
       "      <th>list_2</th>\n",
       "      <th>list_3</th>\n",
       "      <th>combined_listcol</th>\n",
       "      <th>X8</th>\n",
       "    </tr>\n",
       "  </thead>\n",
       "  <tbody>\n",
       "    <tr>\n",
       "      <th>4</th>\n",
       "      <td>A103</td>\n",
       "      <td>23899005</td>\n",
       "      <td>Fifth Row</td>\n",
       "      <td>Theo Dallis</td>\n",
       "      <td>19</td>\n",
       "      <td>45.8</td>\n",
       "      <td>2019-10-21</td>\n",
       "      <td>2023-12-31</td>\n",
       "      <td>1532.0</td>\n",
       "      <td>x;y;z</td>\n",
       "      <td>x</td>\n",
       "      <td>y</td>\n",
       "      <td>z</td>\n",
       "      <td>[cat, dog, books]</td>\n",
       "      <td>=CONCATENATE(A8, B8, C8)</td>\n",
       "    </tr>\n",
       "    <tr>\n",
       "      <th>11</th>\n",
       "      <td>A103</td>\n",
       "      <td>23899012</td>\n",
       "      <td>Fifth Row</td>\n",
       "      <td>Theo Dallis</td>\n",
       "      <td>19</td>\n",
       "      <td>45.8</td>\n",
       "      <td>2019-10-21</td>\n",
       "      <td>2023-12-31</td>\n",
       "      <td>1532.0</td>\n",
       "      <td>5555;4444;3333</td>\n",
       "      <td>5555</td>\n",
       "      <td>4444</td>\n",
       "      <td>3333</td>\n",
       "      <td>[40a3, 64g, 023;]</td>\n",
       "      <td>=CONCATENATE(A9, B9, C9)</td>\n",
       "    </tr>\n",
       "  </tbody>\n",
       "</table>\n",
       "</div>"
      ],
      "text/plain": [
       "   grouping    orders description   second_col  qty  price  effective  \\\n",
       "4      A103  23899005   Fifth Row  Theo Dallis   19   45.8 2019-10-21   \n",
       "11     A103  23899012   Fifth Row  Theo Dallis   19   45.8 2019-10-21   \n",
       "\n",
       "      expired  duration delimitted_list list_1 list_2 list_3  \\\n",
       "4  2023-12-31    1532.0           x;y;z      x      y      z   \n",
       "11 2023-12-31    1532.0  5555;4444;3333   5555   4444   3333   \n",
       "\n",
       "     combined_listcol                        X8  \n",
       "4   [cat, dog, books]  =CONCATENATE(A8, B8, C8)  \n",
       "11  [40a3, 64g, 023;]  =CONCATENATE(A9, B9, C9)  "
      ]
     },
     "execution_count": 42,
     "metadata": {},
     "output_type": "execute_result"
    }
   ],
   "source": [
    "df[df.second_col == 'Theo Dallis']"
   ]
  },
  {
   "cell_type": "markdown",
   "metadata": {
    "slideshow": {
     "slide_type": "subslide"
    }
   },
   "source": [
    "## Multiple filter - AND"
   ]
  },
  {
   "cell_type": "code",
   "execution_count": 43,
   "metadata": {
    "ExecuteTime": {
     "end_time": "2021-02-26T14:54:52.161825Z",
     "start_time": "2021-02-26T14:54:52.135012Z"
    },
    "slideshow": {
     "slide_type": "fragment"
    }
   },
   "outputs": [
    {
     "data": {
      "text/html": [
       "<div>\n",
       "<style scoped>\n",
       "    .dataframe tbody tr th:only-of-type {\n",
       "        vertical-align: middle;\n",
       "    }\n",
       "\n",
       "    .dataframe tbody tr th {\n",
       "        vertical-align: top;\n",
       "    }\n",
       "\n",
       "    .dataframe thead th {\n",
       "        text-align: right;\n",
       "    }\n",
       "</style>\n",
       "<table border=\"1\" class=\"dataframe\">\n",
       "  <thead>\n",
       "    <tr style=\"text-align: right;\">\n",
       "      <th></th>\n",
       "      <th>grouping</th>\n",
       "      <th>orders</th>\n",
       "      <th>description</th>\n",
       "      <th>second_col</th>\n",
       "      <th>qty</th>\n",
       "      <th>price</th>\n",
       "      <th>effective</th>\n",
       "      <th>expired</th>\n",
       "      <th>duration</th>\n",
       "      <th>delimitted_list</th>\n",
       "      <th>list_1</th>\n",
       "      <th>list_2</th>\n",
       "      <th>list_3</th>\n",
       "      <th>combined_listcol</th>\n",
       "      <th>X8</th>\n",
       "    </tr>\n",
       "  </thead>\n",
       "  <tbody>\n",
       "    <tr>\n",
       "      <th>4</th>\n",
       "      <td>A103</td>\n",
       "      <td>23899005</td>\n",
       "      <td>Fifth Row</td>\n",
       "      <td>Theo Dallis</td>\n",
       "      <td>19</td>\n",
       "      <td>45.8</td>\n",
       "      <td>2019-10-21</td>\n",
       "      <td>2023-12-31</td>\n",
       "      <td>1532.0</td>\n",
       "      <td>x;y;z</td>\n",
       "      <td>x</td>\n",
       "      <td>y</td>\n",
       "      <td>z</td>\n",
       "      <td>[cat, dog, books]</td>\n",
       "      <td>=CONCATENATE(A8, B8, C8)</td>\n",
       "    </tr>\n",
       "    <tr>\n",
       "      <th>11</th>\n",
       "      <td>A103</td>\n",
       "      <td>23899012</td>\n",
       "      <td>Fifth Row</td>\n",
       "      <td>Theo Dallis</td>\n",
       "      <td>19</td>\n",
       "      <td>45.8</td>\n",
       "      <td>2019-10-21</td>\n",
       "      <td>2023-12-31</td>\n",
       "      <td>1532.0</td>\n",
       "      <td>5555;4444;3333</td>\n",
       "      <td>5555</td>\n",
       "      <td>4444</td>\n",
       "      <td>3333</td>\n",
       "      <td>[40a3, 64g, 023;]</td>\n",
       "      <td>=CONCATENATE(A9, B9, C9)</td>\n",
       "    </tr>\n",
       "  </tbody>\n",
       "</table>\n",
       "</div>"
      ],
      "text/plain": [
       "   grouping    orders description   second_col  qty  price  effective  \\\n",
       "4      A103  23899005   Fifth Row  Theo Dallis   19   45.8 2019-10-21   \n",
       "11     A103  23899012   Fifth Row  Theo Dallis   19   45.8 2019-10-21   \n",
       "\n",
       "      expired  duration delimitted_list list_1 list_2 list_3  \\\n",
       "4  2023-12-31    1532.0           x;y;z      x      y      z   \n",
       "11 2023-12-31    1532.0  5555;4444;3333   5555   4444   3333   \n",
       "\n",
       "     combined_listcol                        X8  \n",
       "4   [cat, dog, books]  =CONCATENATE(A8, B8, C8)  \n",
       "11  [40a3, 64g, 023;]  =CONCATENATE(A9, B9, C9)  "
      ]
     },
     "execution_count": 43,
     "metadata": {},
     "output_type": "execute_result"
    }
   ],
   "source": [
    "filter_1 = df.grouping == 'A103'\n",
    "filter_2 = df.second_col == 'Theo Dallis'\n",
    "\n",
    "df[filter_1 & filter_2]"
   ]
  },
  {
   "cell_type": "markdown",
   "metadata": {
    "slideshow": {
     "slide_type": "subslide"
    }
   },
   "source": [
    "## Multiple filter - OR"
   ]
  },
  {
   "cell_type": "code",
   "execution_count": 44,
   "metadata": {
    "ExecuteTime": {
     "end_time": "2021-02-26T14:54:52.197241Z",
     "start_time": "2021-02-26T14:54:52.164148Z"
    },
    "slideshow": {
     "slide_type": "fragment"
    }
   },
   "outputs": [
    {
     "data": {
      "text/html": [
       "<div>\n",
       "<style scoped>\n",
       "    .dataframe tbody tr th:only-of-type {\n",
       "        vertical-align: middle;\n",
       "    }\n",
       "\n",
       "    .dataframe tbody tr th {\n",
       "        vertical-align: top;\n",
       "    }\n",
       "\n",
       "    .dataframe thead th {\n",
       "        text-align: right;\n",
       "    }\n",
       "</style>\n",
       "<table border=\"1\" class=\"dataframe\">\n",
       "  <thead>\n",
       "    <tr style=\"text-align: right;\">\n",
       "      <th></th>\n",
       "      <th>grouping</th>\n",
       "      <th>orders</th>\n",
       "      <th>description</th>\n",
       "      <th>second_col</th>\n",
       "      <th>qty</th>\n",
       "      <th>price</th>\n",
       "      <th>effective</th>\n",
       "      <th>expired</th>\n",
       "      <th>duration</th>\n",
       "      <th>delimitted_list</th>\n",
       "      <th>list_1</th>\n",
       "      <th>list_2</th>\n",
       "      <th>list_3</th>\n",
       "      <th>combined_listcol</th>\n",
       "      <th>X8</th>\n",
       "    </tr>\n",
       "  </thead>\n",
       "  <tbody>\n",
       "    <tr>\n",
       "      <th>5</th>\n",
       "      <td>A103</td>\n",
       "      <td>23899006</td>\n",
       "      <td>Sixth Row</td>\n",
       "      <td>Derek Hunt</td>\n",
       "      <td>532</td>\n",
       "      <td>634.23</td>\n",
       "      <td>2019-04-21</td>\n",
       "      <td>2020-05-07</td>\n",
       "      <td>382.0</td>\n",
       "      <td>alpha; bravo; charlie</td>\n",
       "      <td>alpha</td>\n",
       "      <td>bravo</td>\n",
       "      <td>charlie</td>\n",
       "      <td>[d20, tg54, kde40]</td>\n",
       "      <td>=CONCATENATE(A3, B3, C3)</td>\n",
       "    </tr>\n",
       "    <tr>\n",
       "      <th>4</th>\n",
       "      <td>A103</td>\n",
       "      <td>23899005</td>\n",
       "      <td>Fifth Row</td>\n",
       "      <td>Theo Dallis</td>\n",
       "      <td>19</td>\n",
       "      <td>45.80</td>\n",
       "      <td>2019-10-21</td>\n",
       "      <td>2023-12-31</td>\n",
       "      <td>1532.0</td>\n",
       "      <td>x;y;z</td>\n",
       "      <td>x</td>\n",
       "      <td>y</td>\n",
       "      <td>z</td>\n",
       "      <td>[cat, dog, books]</td>\n",
       "      <td>=CONCATENATE(A8, B8, C8)</td>\n",
       "    </tr>\n",
       "    <tr>\n",
       "      <th>11</th>\n",
       "      <td>A103</td>\n",
       "      <td>23899012</td>\n",
       "      <td>Fifth Row</td>\n",
       "      <td>Theo Dallis</td>\n",
       "      <td>19</td>\n",
       "      <td>45.80</td>\n",
       "      <td>2019-10-21</td>\n",
       "      <td>2023-12-31</td>\n",
       "      <td>1532.0</td>\n",
       "      <td>5555;4444;3333</td>\n",
       "      <td>5555</td>\n",
       "      <td>4444</td>\n",
       "      <td>3333</td>\n",
       "      <td>[40a3, 64g, 023;]</td>\n",
       "      <td>=CONCATENATE(A9, B9, C9)</td>\n",
       "    </tr>\n",
       "    <tr>\n",
       "      <th>6</th>\n",
       "      <td>A103</td>\n",
       "      <td>23899007</td>\n",
       "      <td>Seventh Row</td>\n",
       "      <td>Tony Goddard</td>\n",
       "      <td>178</td>\n",
       "      <td>27.05</td>\n",
       "      <td>2019-10-21</td>\n",
       "      <td>2025-12-31</td>\n",
       "      <td>NaN</td>\n",
       "      <td>24th May; 18th July; 5th August</td>\n",
       "      <td>24th May</td>\n",
       "      <td>18th July</td>\n",
       "      <td>5th August</td>\n",
       "      <td>[x, y, z]</td>\n",
       "      <td>=CONCATENATE(A11, B11, C11)</td>\n",
       "    </tr>\n",
       "  </tbody>\n",
       "</table>\n",
       "</div>"
      ],
      "text/plain": [
       "   grouping    orders  description    second_col  qty   price  effective  \\\n",
       "5      A103  23899006    Sixth Row    Derek Hunt  532  634.23 2019-04-21   \n",
       "4      A103  23899005    Fifth Row   Theo Dallis   19   45.80 2019-10-21   \n",
       "11     A103  23899012    Fifth Row   Theo Dallis   19   45.80 2019-10-21   \n",
       "6      A103  23899007  Seventh Row  Tony Goddard  178   27.05 2019-10-21   \n",
       "\n",
       "      expired  duration                  delimitted_list    list_1  \\\n",
       "5  2020-05-07     382.0            alpha; bravo; charlie     alpha   \n",
       "4  2023-12-31    1532.0                            x;y;z         x   \n",
       "11 2023-12-31    1532.0                   5555;4444;3333      5555   \n",
       "6  2025-12-31       NaN  24th May; 18th July; 5th August  24th May   \n",
       "\n",
       "        list_2       list_3    combined_listcol                           X8  \n",
       "5        bravo      charlie  [d20, tg54, kde40]     =CONCATENATE(A3, B3, C3)  \n",
       "4            y            z   [cat, dog, books]     =CONCATENATE(A8, B8, C8)  \n",
       "11        4444         3333   [40a3, 64g, 023;]     =CONCATENATE(A9, B9, C9)  \n",
       "6    18th July   5th August           [x, y, z]  =CONCATENATE(A11, B11, C11)  "
      ]
     },
     "execution_count": 44,
     "metadata": {},
     "output_type": "execute_result"
    }
   ],
   "source": [
    "filter_1 = df.grouping == 'A103'\n",
    "filter_2 = df.second_col == 'Theo Dallis'\n",
    "\n",
    "df[filter_1 | filter_2]"
   ]
  },
  {
   "cell_type": "markdown",
   "metadata": {
    "slideshow": {
     "slide_type": "subslide"
    }
   },
   "source": [
    "## str.extractall()"
   ]
  },
  {
   "cell_type": "code",
   "execution_count": 45,
   "metadata": {
    "ExecuteTime": {
     "end_time": "2021-02-26T14:54:52.223056Z",
     "start_time": "2021-02-26T14:54:52.199390Z"
    },
    "slideshow": {
     "slide_type": "fragment"
    }
   },
   "outputs": [
    {
     "data": {
      "text/html": [
       "<div>\n",
       "<style scoped>\n",
       "    .dataframe tbody tr th:only-of-type {\n",
       "        vertical-align: middle;\n",
       "    }\n",
       "\n",
       "    .dataframe tbody tr th {\n",
       "        vertical-align: top;\n",
       "    }\n",
       "\n",
       "    .dataframe thead th {\n",
       "        text-align: right;\n",
       "    }\n",
       "</style>\n",
       "<table border=\"1\" class=\"dataframe\">\n",
       "  <thead>\n",
       "    <tr style=\"text-align: right;\">\n",
       "      <th></th>\n",
       "      <th></th>\n",
       "      <th>0</th>\n",
       "      <th>1</th>\n",
       "    </tr>\n",
       "    <tr>\n",
       "      <th></th>\n",
       "      <th>match</th>\n",
       "      <th></th>\n",
       "      <th></th>\n",
       "    </tr>\n",
       "  </thead>\n",
       "  <tbody>\n",
       "    <tr>\n",
       "      <th>0</th>\n",
       "      <th>0</th>\n",
       "      <td>Aidan</td>\n",
       "      <td>Scally</td>\n",
       "    </tr>\n",
       "    <tr>\n",
       "      <th>4</th>\n",
       "      <th>0</th>\n",
       "      <td>Theo</td>\n",
       "      <td>Dallis</td>\n",
       "    </tr>\n",
       "    <tr>\n",
       "      <th>11</th>\n",
       "      <th>0</th>\n",
       "      <td>Theo</td>\n",
       "      <td>Dallis</td>\n",
       "    </tr>\n",
       "  </tbody>\n",
       "</table>\n",
       "</div>"
      ],
      "text/plain": [
       "              0       1\n",
       "   match               \n",
       "0  0      Aidan  Scally\n",
       "4  0       Theo  Dallis\n",
       "11 0       Theo  Dallis"
      ]
     },
     "execution_count": 45,
     "metadata": {},
     "output_type": "execute_result"
    }
   ],
   "source": [
    "df.second_col.str.extractall('(Theo|Aidan) (\\w+)', flags=re.I)"
   ]
  },
  {
   "cell_type": "markdown",
   "metadata": {
    "slideshow": {
     "slide_type": "subslide"
    }
   },
   "source": [
    "## str.findall()"
   ]
  },
  {
   "cell_type": "code",
   "execution_count": 46,
   "metadata": {
    "ExecuteTime": {
     "end_time": "2021-02-26T14:54:52.240882Z",
     "start_time": "2021-02-26T14:54:52.225848Z"
    },
    "slideshow": {
     "slide_type": "fragment"
    }
   },
   "outputs": [
    {
     "data": {
      "text/plain": [
       "0           []\n",
       "5           []\n",
       "1           []\n",
       "2           []\n",
       "3     [Fourth]\n",
       "10    [Fourth]\n",
       "4           []\n",
       "11          []\n",
       "8           []\n",
       "6           []\n",
       "7           []\n",
       "9           []\n",
       "Name: description, dtype: object"
      ]
     },
     "execution_count": 46,
     "metadata": {},
     "output_type": "execute_result"
    }
   ],
   "source": [
    "df.description.str.findall('fourth', flags=re.I)"
   ]
  },
  {
   "cell_type": "markdown",
   "metadata": {
    "slideshow": {
     "slide_type": "subslide"
    }
   },
   "source": [
    "## str.match()"
   ]
  },
  {
   "cell_type": "code",
   "execution_count": 47,
   "metadata": {
    "ExecuteTime": {
     "end_time": "2021-02-26T14:54:52.271889Z",
     "start_time": "2021-02-26T14:54:52.242804Z"
    },
    "slideshow": {
     "slide_type": "fragment"
    }
   },
   "outputs": [
    {
     "data": {
      "text/html": [
       "<div>\n",
       "<style scoped>\n",
       "    .dataframe tbody tr th:only-of-type {\n",
       "        vertical-align: middle;\n",
       "    }\n",
       "\n",
       "    .dataframe tbody tr th {\n",
       "        vertical-align: top;\n",
       "    }\n",
       "\n",
       "    .dataframe thead th {\n",
       "        text-align: right;\n",
       "    }\n",
       "</style>\n",
       "<table border=\"1\" class=\"dataframe\">\n",
       "  <thead>\n",
       "    <tr style=\"text-align: right;\">\n",
       "      <th></th>\n",
       "      <th>grouping</th>\n",
       "      <th>orders</th>\n",
       "      <th>description</th>\n",
       "      <th>second_col</th>\n",
       "      <th>qty</th>\n",
       "      <th>price</th>\n",
       "      <th>effective</th>\n",
       "      <th>expired</th>\n",
       "      <th>duration</th>\n",
       "      <th>delimitted_list</th>\n",
       "      <th>list_1</th>\n",
       "      <th>list_2</th>\n",
       "      <th>list_3</th>\n",
       "      <th>combined_listcol</th>\n",
       "      <th>X8</th>\n",
       "    </tr>\n",
       "  </thead>\n",
       "  <tbody>\n",
       "    <tr>\n",
       "      <th>11</th>\n",
       "      <td>A103</td>\n",
       "      <td>23899012</td>\n",
       "      <td>Fifth Row</td>\n",
       "      <td>Theo Dallis</td>\n",
       "      <td>19</td>\n",
       "      <td>45.8</td>\n",
       "      <td>2019-10-21</td>\n",
       "      <td>2023-12-31</td>\n",
       "      <td>1532.0</td>\n",
       "      <td>5555;4444;3333</td>\n",
       "      <td>5555</td>\n",
       "      <td>4444</td>\n",
       "      <td>3333</td>\n",
       "      <td>[40a3, 64g, 023;]</td>\n",
       "      <td>=CONCATENATE(A9, B9, C9)</td>\n",
       "    </tr>\n",
       "  </tbody>\n",
       "</table>\n",
       "</div>"
      ],
      "text/plain": [
       "   grouping    orders description   second_col  qty  price  effective  \\\n",
       "11     A103  23899012   Fifth Row  Theo Dallis   19   45.8 2019-10-21   \n",
       "\n",
       "      expired  duration delimitted_list list_1 list_2 list_3  \\\n",
       "11 2023-12-31    1532.0  5555;4444;3333   5555   4444   3333   \n",
       "\n",
       "     combined_listcol                        X8  \n",
       "11  [40a3, 64g, 023;]  =CONCATENATE(A9, B9, C9)  "
      ]
     },
     "execution_count": 47,
     "metadata": {},
     "output_type": "execute_result"
    }
   ],
   "source": [
    "df[df.delimitted_list.str.match('55')]"
   ]
  },
  {
   "cell_type": "code",
   "execution_count": 48,
   "metadata": {
    "ExecuteTime": {
     "end_time": "2021-02-26T14:54:52.312879Z",
     "start_time": "2021-02-26T14:54:52.276252Z"
    },
    "slideshow": {
     "slide_type": "fragment"
    }
   },
   "outputs": [
    {
     "data": {
      "text/html": [
       "<div>\n",
       "<style scoped>\n",
       "    .dataframe tbody tr th:only-of-type {\n",
       "        vertical-align: middle;\n",
       "    }\n",
       "\n",
       "    .dataframe tbody tr th {\n",
       "        vertical-align: top;\n",
       "    }\n",
       "\n",
       "    .dataframe thead th {\n",
       "        text-align: right;\n",
       "    }\n",
       "</style>\n",
       "<table border=\"1\" class=\"dataframe\">\n",
       "  <thead>\n",
       "    <tr style=\"text-align: right;\">\n",
       "      <th></th>\n",
       "      <th>grouping</th>\n",
       "      <th>orders</th>\n",
       "      <th>description</th>\n",
       "      <th>second_col</th>\n",
       "      <th>qty</th>\n",
       "      <th>price</th>\n",
       "      <th>effective</th>\n",
       "      <th>expired</th>\n",
       "      <th>duration</th>\n",
       "      <th>delimitted_list</th>\n",
       "      <th>list_1</th>\n",
       "      <th>list_2</th>\n",
       "      <th>list_3</th>\n",
       "      <th>combined_listcol</th>\n",
       "      <th>X8</th>\n",
       "    </tr>\n",
       "  </thead>\n",
       "  <tbody>\n",
       "    <tr>\n",
       "      <th>0</th>\n",
       "      <td>A100</td>\n",
       "      <td>23899001</td>\n",
       "      <td>First Row</td>\n",
       "      <td>Aidan Scally</td>\n",
       "      <td>14</td>\n",
       "      <td>1.23</td>\n",
       "      <td>2015-10-21</td>\n",
       "      <td>2019-12-31</td>\n",
       "      <td>1532.0</td>\n",
       "      <td>123;456;789</td>\n",
       "      <td>123</td>\n",
       "      <td>456</td>\n",
       "      <td>789</td>\n",
       "      <td>[123, 456, 789]</td>\n",
       "      <td>=CONCATENATE(A2, B2, C2)</td>\n",
       "    </tr>\n",
       "    <tr>\n",
       "      <th>4</th>\n",
       "      <td>A103</td>\n",
       "      <td>23899005</td>\n",
       "      <td>Fifth Row</td>\n",
       "      <td>Theo Dallis</td>\n",
       "      <td>19</td>\n",
       "      <td>45.80</td>\n",
       "      <td>2019-10-21</td>\n",
       "      <td>2023-12-31</td>\n",
       "      <td>1532.0</td>\n",
       "      <td>x;y;z</td>\n",
       "      <td>x</td>\n",
       "      <td>y</td>\n",
       "      <td>z</td>\n",
       "      <td>[cat, dog, books]</td>\n",
       "      <td>=CONCATENATE(A8, B8, C8)</td>\n",
       "    </tr>\n",
       "    <tr>\n",
       "      <th>11</th>\n",
       "      <td>A103</td>\n",
       "      <td>23899012</td>\n",
       "      <td>Fifth Row</td>\n",
       "      <td>Theo Dallis</td>\n",
       "      <td>19</td>\n",
       "      <td>45.80</td>\n",
       "      <td>2019-10-21</td>\n",
       "      <td>2023-12-31</td>\n",
       "      <td>1532.0</td>\n",
       "      <td>5555;4444;3333</td>\n",
       "      <td>5555</td>\n",
       "      <td>4444</td>\n",
       "      <td>3333</td>\n",
       "      <td>[40a3, 64g, 023;]</td>\n",
       "      <td>=CONCATENATE(A9, B9, C9)</td>\n",
       "    </tr>\n",
       "  </tbody>\n",
       "</table>\n",
       "</div>"
      ],
      "text/plain": [
       "   grouping    orders description    second_col  qty  price  effective  \\\n",
       "0      A100  23899001   First Row  Aidan Scally   14   1.23 2015-10-21   \n",
       "4      A103  23899005   Fifth Row   Theo Dallis   19  45.80 2019-10-21   \n",
       "11     A103  23899012   Fifth Row   Theo Dallis   19  45.80 2019-10-21   \n",
       "\n",
       "      expired  duration delimitted_list list_1 list_2 list_3  \\\n",
       "0  2019-12-31    1532.0     123;456;789    123    456    789   \n",
       "4  2023-12-31    1532.0           x;y;z      x      y      z   \n",
       "11 2023-12-31    1532.0  5555;4444;3333   5555   4444   3333   \n",
       "\n",
       "     combined_listcol                        X8  \n",
       "0     [123, 456, 789]  =CONCATENATE(A2, B2, C2)  \n",
       "4   [cat, dog, books]  =CONCATENATE(A8, B8, C8)  \n",
       "11  [40a3, 64g, 023;]  =CONCATENATE(A9, B9, C9)  "
      ]
     },
     "execution_count": 48,
     "metadata": {},
     "output_type": "execute_result"
    }
   ],
   "source": [
    "df[df.description.str.match('(first|fifth)', flags=re.I)]"
   ]
  },
  {
   "cell_type": "markdown",
   "metadata": {
    "slideshow": {
     "slide_type": "subslide"
    }
   },
   "source": [
    "## str.contains()"
   ]
  },
  {
   "cell_type": "code",
   "execution_count": 49,
   "metadata": {
    "ExecuteTime": {
     "end_time": "2021-02-26T14:54:52.361584Z",
     "start_time": "2021-02-26T14:54:52.315021Z"
    },
    "slideshow": {
     "slide_type": "fragment"
    }
   },
   "outputs": [
    {
     "data": {
      "text/html": [
       "<div>\n",
       "<style scoped>\n",
       "    .dataframe tbody tr th:only-of-type {\n",
       "        vertical-align: middle;\n",
       "    }\n",
       "\n",
       "    .dataframe tbody tr th {\n",
       "        vertical-align: top;\n",
       "    }\n",
       "\n",
       "    .dataframe thead th {\n",
       "        text-align: right;\n",
       "    }\n",
       "</style>\n",
       "<table border=\"1\" class=\"dataframe\">\n",
       "  <thead>\n",
       "    <tr style=\"text-align: right;\">\n",
       "      <th></th>\n",
       "      <th>grouping</th>\n",
       "      <th>orders</th>\n",
       "      <th>description</th>\n",
       "      <th>second_col</th>\n",
       "      <th>qty</th>\n",
       "      <th>price</th>\n",
       "      <th>effective</th>\n",
       "      <th>expired</th>\n",
       "      <th>duration</th>\n",
       "      <th>delimitted_list</th>\n",
       "      <th>list_1</th>\n",
       "      <th>list_2</th>\n",
       "      <th>list_3</th>\n",
       "      <th>combined_listcol</th>\n",
       "      <th>X8</th>\n",
       "    </tr>\n",
       "  </thead>\n",
       "  <tbody>\n",
       "    <tr>\n",
       "      <th>5</th>\n",
       "      <td>A103</td>\n",
       "      <td>23899006</td>\n",
       "      <td>Sixth Row</td>\n",
       "      <td>Derek Hunt</td>\n",
       "      <td>532</td>\n",
       "      <td>634.23</td>\n",
       "      <td>2019-04-21</td>\n",
       "      <td>2020-05-07</td>\n",
       "      <td>382.0</td>\n",
       "      <td>alpha; bravo; charlie</td>\n",
       "      <td>alpha</td>\n",
       "      <td>bravo</td>\n",
       "      <td>charlie</td>\n",
       "      <td>[d20, tg54, kde40]</td>\n",
       "      <td>=CONCATENATE(A3, B3, C3)</td>\n",
       "    </tr>\n",
       "    <tr>\n",
       "      <th>4</th>\n",
       "      <td>A103</td>\n",
       "      <td>23899005</td>\n",
       "      <td>Fifth Row</td>\n",
       "      <td>Theo Dallis</td>\n",
       "      <td>19</td>\n",
       "      <td>45.80</td>\n",
       "      <td>2019-10-21</td>\n",
       "      <td>2023-12-31</td>\n",
       "      <td>1532.0</td>\n",
       "      <td>x;y;z</td>\n",
       "      <td>x</td>\n",
       "      <td>y</td>\n",
       "      <td>z</td>\n",
       "      <td>[cat, dog, books]</td>\n",
       "      <td>=CONCATENATE(A8, B8, C8)</td>\n",
       "    </tr>\n",
       "    <tr>\n",
       "      <th>11</th>\n",
       "      <td>A103</td>\n",
       "      <td>23899012</td>\n",
       "      <td>Fifth Row</td>\n",
       "      <td>Theo Dallis</td>\n",
       "      <td>19</td>\n",
       "      <td>45.80</td>\n",
       "      <td>2019-10-21</td>\n",
       "      <td>2023-12-31</td>\n",
       "      <td>1532.0</td>\n",
       "      <td>5555;4444;3333</td>\n",
       "      <td>5555</td>\n",
       "      <td>4444</td>\n",
       "      <td>3333</td>\n",
       "      <td>[40a3, 64g, 023;]</td>\n",
       "      <td>=CONCATENATE(A9, B9, C9)</td>\n",
       "    </tr>\n",
       "    <tr>\n",
       "      <th>6</th>\n",
       "      <td>A103</td>\n",
       "      <td>23899007</td>\n",
       "      <td>Seventh Row</td>\n",
       "      <td>Tony Goddard</td>\n",
       "      <td>178</td>\n",
       "      <td>27.05</td>\n",
       "      <td>2019-10-21</td>\n",
       "      <td>2025-12-31</td>\n",
       "      <td>NaN</td>\n",
       "      <td>24th May; 18th July; 5th August</td>\n",
       "      <td>24th May</td>\n",
       "      <td>18th July</td>\n",
       "      <td>5th August</td>\n",
       "      <td>[x, y, z]</td>\n",
       "      <td>=CONCATENATE(A11, B11, C11)</td>\n",
       "    </tr>\n",
       "  </tbody>\n",
       "</table>\n",
       "</div>"
      ],
      "text/plain": [
       "   grouping    orders  description    second_col  qty   price  effective  \\\n",
       "5      A103  23899006    Sixth Row    Derek Hunt  532  634.23 2019-04-21   \n",
       "4      A103  23899005    Fifth Row   Theo Dallis   19   45.80 2019-10-21   \n",
       "11     A103  23899012    Fifth Row   Theo Dallis   19   45.80 2019-10-21   \n",
       "6      A103  23899007  Seventh Row  Tony Goddard  178   27.05 2019-10-21   \n",
       "\n",
       "      expired  duration                  delimitted_list    list_1  \\\n",
       "5  2020-05-07     382.0            alpha; bravo; charlie     alpha   \n",
       "4  2023-12-31    1532.0                            x;y;z         x   \n",
       "11 2023-12-31    1532.0                   5555;4444;3333      5555   \n",
       "6  2025-12-31       NaN  24th May; 18th July; 5th August  24th May   \n",
       "\n",
       "        list_2       list_3    combined_listcol                           X8  \n",
       "5        bravo      charlie  [d20, tg54, kde40]     =CONCATENATE(A3, B3, C3)  \n",
       "4            y            z   [cat, dog, books]     =CONCATENATE(A8, B8, C8)  \n",
       "11        4444         3333   [40a3, 64g, 023;]     =CONCATENATE(A9, B9, C9)  \n",
       "6    18th July   5th August           [x, y, z]  =CONCATENATE(A11, B11, C11)  "
      ]
     },
     "execution_count": 49,
     "metadata": {},
     "output_type": "execute_result"
    }
   ],
   "source": [
    "df[df.second_col.str.contains('Tony|Derek|Theo')]"
   ]
  },
  {
   "cell_type": "markdown",
   "metadata": {
    "slideshow": {
     "slide_type": "subslide"
    }
   },
   "source": [
    "## df.query()"
   ]
  },
  {
   "cell_type": "markdown",
   "metadata": {
    "slideshow": {
     "slide_type": "fragment"
    }
   },
   "source": [
    "### single selection"
   ]
  },
  {
   "cell_type": "code",
   "execution_count": 50,
   "metadata": {
    "ExecuteTime": {
     "end_time": "2021-02-26T14:54:52.408371Z",
     "start_time": "2021-02-26T14:54:52.365294Z"
    },
    "slideshow": {
     "slide_type": "fragment"
    }
   },
   "outputs": [
    {
     "data": {
      "text/html": [
       "<div>\n",
       "<style scoped>\n",
       "    .dataframe tbody tr th:only-of-type {\n",
       "        vertical-align: middle;\n",
       "    }\n",
       "\n",
       "    .dataframe tbody tr th {\n",
       "        vertical-align: top;\n",
       "    }\n",
       "\n",
       "    .dataframe thead th {\n",
       "        text-align: right;\n",
       "    }\n",
       "</style>\n",
       "<table border=\"1\" class=\"dataframe\">\n",
       "  <thead>\n",
       "    <tr style=\"text-align: right;\">\n",
       "      <th></th>\n",
       "      <th>grouping</th>\n",
       "      <th>orders</th>\n",
       "      <th>description</th>\n",
       "      <th>second_col</th>\n",
       "      <th>qty</th>\n",
       "      <th>price</th>\n",
       "      <th>effective</th>\n",
       "      <th>expired</th>\n",
       "      <th>duration</th>\n",
       "      <th>delimitted_list</th>\n",
       "      <th>list_1</th>\n",
       "      <th>list_2</th>\n",
       "      <th>list_3</th>\n",
       "      <th>combined_listcol</th>\n",
       "      <th>X8</th>\n",
       "    </tr>\n",
       "  </thead>\n",
       "  <tbody>\n",
       "    <tr>\n",
       "      <th>0</th>\n",
       "      <td>A100</td>\n",
       "      <td>23899001</td>\n",
       "      <td>First Row</td>\n",
       "      <td>Aidan Scally</td>\n",
       "      <td>14</td>\n",
       "      <td>1.23</td>\n",
       "      <td>2015-10-21</td>\n",
       "      <td>2019-12-31</td>\n",
       "      <td>1532.0</td>\n",
       "      <td>123;456;789</td>\n",
       "      <td>123</td>\n",
       "      <td>456</td>\n",
       "      <td>789</td>\n",
       "      <td>[123, 456, 789]</td>\n",
       "      <td>=CONCATENATE(A2, B2, C2)</td>\n",
       "    </tr>\n",
       "  </tbody>\n",
       "</table>\n",
       "</div>"
      ],
      "text/plain": [
       "  grouping    orders description    second_col  qty  price  effective  \\\n",
       "0     A100  23899001   First Row  Aidan Scally   14   1.23 2015-10-21   \n",
       "\n",
       "     expired  duration delimitted_list list_1 list_2 list_3 combined_listcol  \\\n",
       "0 2019-12-31    1532.0     123;456;789    123    456    789  [123, 456, 789]   \n",
       "\n",
       "                         X8  \n",
       "0  =CONCATENATE(A2, B2, C2)  "
      ]
     },
     "execution_count": 50,
     "metadata": {},
     "output_type": "execute_result"
    }
   ],
   "source": [
    "query = \"\"\" grouping == 'A100' \"\"\"\n",
    "df.query(query)"
   ]
  },
  {
   "cell_type": "markdown",
   "metadata": {
    "slideshow": {
     "slide_type": "subslide"
    }
   },
   "source": [
    "### multiple OR"
   ]
  },
  {
   "cell_type": "code",
   "execution_count": 51,
   "metadata": {
    "ExecuteTime": {
     "end_time": "2021-02-26T14:54:52.458421Z",
     "start_time": "2021-02-26T14:54:52.410515Z"
    },
    "slideshow": {
     "slide_type": "fragment"
    }
   },
   "outputs": [
    {
     "data": {
      "text/html": [
       "<div>\n",
       "<style scoped>\n",
       "    .dataframe tbody tr th:only-of-type {\n",
       "        vertical-align: middle;\n",
       "    }\n",
       "\n",
       "    .dataframe tbody tr th {\n",
       "        vertical-align: top;\n",
       "    }\n",
       "\n",
       "    .dataframe thead th {\n",
       "        text-align: right;\n",
       "    }\n",
       "</style>\n",
       "<table border=\"1\" class=\"dataframe\">\n",
       "  <thead>\n",
       "    <tr style=\"text-align: right;\">\n",
       "      <th></th>\n",
       "      <th>grouping</th>\n",
       "      <th>orders</th>\n",
       "      <th>description</th>\n",
       "      <th>second_col</th>\n",
       "      <th>qty</th>\n",
       "      <th>price</th>\n",
       "      <th>effective</th>\n",
       "      <th>expired</th>\n",
       "      <th>duration</th>\n",
       "      <th>delimitted_list</th>\n",
       "      <th>list_1</th>\n",
       "      <th>list_2</th>\n",
       "      <th>list_3</th>\n",
       "      <th>combined_listcol</th>\n",
       "      <th>X8</th>\n",
       "    </tr>\n",
       "  </thead>\n",
       "  <tbody>\n",
       "    <tr>\n",
       "      <th>0</th>\n",
       "      <td>A100</td>\n",
       "      <td>23899001</td>\n",
       "      <td>First Row</td>\n",
       "      <td>Aidan Scally</td>\n",
       "      <td>14</td>\n",
       "      <td>1.23</td>\n",
       "      <td>2015-10-21</td>\n",
       "      <td>2019-12-31</td>\n",
       "      <td>1532.0</td>\n",
       "      <td>123;456;789</td>\n",
       "      <td>123</td>\n",
       "      <td>456</td>\n",
       "      <td>789</td>\n",
       "      <td>[123, 456, 789]</td>\n",
       "      <td>=CONCATENATE(A2, B2, C2)</td>\n",
       "    </tr>\n",
       "    <tr>\n",
       "      <th>1</th>\n",
       "      <td>A101</td>\n",
       "      <td>23899002</td>\n",
       "      <td>Second Row</td>\n",
       "      <td>Eoin Mcallister</td>\n",
       "      <td>103</td>\n",
       "      <td>4.32</td>\n",
       "      <td>2016-10-21</td>\n",
       "      <td>2020-12-31</td>\n",
       "      <td>1532.0</td>\n",
       "      <td>ss;11;33</td>\n",
       "      <td>ss</td>\n",
       "      <td>11</td>\n",
       "      <td>33</td>\n",
       "      <td>[alpha,  bravo,  charlie]</td>\n",
       "      <td>=CONCATENATE(A4, B4, C4)</td>\n",
       "    </tr>\n",
       "    <tr>\n",
       "      <th>2</th>\n",
       "      <td>A101</td>\n",
       "      <td>23899003</td>\n",
       "      <td>Third Row</td>\n",
       "      <td>Mike Tarpey</td>\n",
       "      <td>1</td>\n",
       "      <td>34.32</td>\n",
       "      <td>2017-10-21</td>\n",
       "      <td>2021-12-31</td>\n",
       "      <td>1532.0</td>\n",
       "      <td>A;b;C</td>\n",
       "      <td>A</td>\n",
       "      <td>b</td>\n",
       "      <td>C</td>\n",
       "      <td>[ss, 11, 33]</td>\n",
       "      <td>=CONCATENATE(A5, B5, C5)</td>\n",
       "    </tr>\n",
       "  </tbody>\n",
       "</table>\n",
       "</div>"
      ],
      "text/plain": [
       "  grouping    orders description       second_col  qty  price  effective  \\\n",
       "0     A100  23899001   First Row     Aidan Scally   14   1.23 2015-10-21   \n",
       "1     A101  23899002  Second Row  Eoin Mcallister  103   4.32 2016-10-21   \n",
       "2     A101  23899003   Third Row      Mike Tarpey    1  34.32 2017-10-21   \n",
       "\n",
       "     expired  duration delimitted_list list_1 list_2 list_3  \\\n",
       "0 2019-12-31    1532.0     123;456;789    123    456    789   \n",
       "1 2020-12-31    1532.0        ss;11;33     ss     11     33   \n",
       "2 2021-12-31    1532.0           A;b;C      A      b      C   \n",
       "\n",
       "            combined_listcol                        X8  \n",
       "0            [123, 456, 789]  =CONCATENATE(A2, B2, C2)  \n",
       "1  [alpha,  bravo,  charlie]  =CONCATENATE(A4, B4, C4)  \n",
       "2               [ss, 11, 33]  =CONCATENATE(A5, B5, C5)  "
      ]
     },
     "execution_count": 51,
     "metadata": {},
     "output_type": "execute_result"
    }
   ],
   "source": [
    "query = \"\"\"(grouping == 'A101') or\\\n",
    "           (second_col.str.contains('Mike Tarpey')) or\\\n",
    "           (orders < 23899004) \"\"\"\n",
    "df.query(query)"
   ]
  },
  {
   "cell_type": "code",
   "execution_count": 52,
   "metadata": {
    "ExecuteTime": {
     "end_time": "2021-02-26T14:54:52.504504Z",
     "start_time": "2021-02-26T14:54:52.460408Z"
    },
    "slideshow": {
     "slide_type": "fragment"
    }
   },
   "outputs": [
    {
     "data": {
      "text/html": [
       "<div>\n",
       "<style scoped>\n",
       "    .dataframe tbody tr th:only-of-type {\n",
       "        vertical-align: middle;\n",
       "    }\n",
       "\n",
       "    .dataframe tbody tr th {\n",
       "        vertical-align: top;\n",
       "    }\n",
       "\n",
       "    .dataframe thead th {\n",
       "        text-align: right;\n",
       "    }\n",
       "</style>\n",
       "<table border=\"1\" class=\"dataframe\">\n",
       "  <thead>\n",
       "    <tr style=\"text-align: right;\">\n",
       "      <th></th>\n",
       "      <th>grouping</th>\n",
       "      <th>orders</th>\n",
       "      <th>description</th>\n",
       "      <th>second_col</th>\n",
       "      <th>qty</th>\n",
       "      <th>price</th>\n",
       "      <th>effective</th>\n",
       "      <th>expired</th>\n",
       "      <th>duration</th>\n",
       "      <th>delimitted_list</th>\n",
       "      <th>list_1</th>\n",
       "      <th>list_2</th>\n",
       "      <th>list_3</th>\n",
       "      <th>combined_listcol</th>\n",
       "      <th>X8</th>\n",
       "    </tr>\n",
       "  </thead>\n",
       "  <tbody>\n",
       "    <tr>\n",
       "      <th>0</th>\n",
       "      <td>A100</td>\n",
       "      <td>23899001</td>\n",
       "      <td>First Row</td>\n",
       "      <td>Aidan Scally</td>\n",
       "      <td>14</td>\n",
       "      <td>1.23</td>\n",
       "      <td>2015-10-21</td>\n",
       "      <td>2019-12-31</td>\n",
       "      <td>1532.0</td>\n",
       "      <td>123;456;789</td>\n",
       "      <td>123</td>\n",
       "      <td>456</td>\n",
       "      <td>789</td>\n",
       "      <td>[123, 456, 789]</td>\n",
       "      <td>=CONCATENATE(A2, B2, C2)</td>\n",
       "    </tr>\n",
       "    <tr>\n",
       "      <th>1</th>\n",
       "      <td>A101</td>\n",
       "      <td>23899002</td>\n",
       "      <td>Second Row</td>\n",
       "      <td>Eoin Mcallister</td>\n",
       "      <td>103</td>\n",
       "      <td>4.32</td>\n",
       "      <td>2016-10-21</td>\n",
       "      <td>2020-12-31</td>\n",
       "      <td>1532.0</td>\n",
       "      <td>ss;11;33</td>\n",
       "      <td>ss</td>\n",
       "      <td>11</td>\n",
       "      <td>33</td>\n",
       "      <td>[alpha,  bravo,  charlie]</td>\n",
       "      <td>=CONCATENATE(A4, B4, C4)</td>\n",
       "    </tr>\n",
       "    <tr>\n",
       "      <th>2</th>\n",
       "      <td>A101</td>\n",
       "      <td>23899003</td>\n",
       "      <td>Third Row</td>\n",
       "      <td>Mike Tarpey</td>\n",
       "      <td>1</td>\n",
       "      <td>34.32</td>\n",
       "      <td>2017-10-21</td>\n",
       "      <td>2021-12-31</td>\n",
       "      <td>1532.0</td>\n",
       "      <td>A;b;C</td>\n",
       "      <td>A</td>\n",
       "      <td>b</td>\n",
       "      <td>C</td>\n",
       "      <td>[ss, 11, 33]</td>\n",
       "      <td>=CONCATENATE(A5, B5, C5)</td>\n",
       "    </tr>\n",
       "  </tbody>\n",
       "</table>\n",
       "</div>"
      ],
      "text/plain": [
       "  grouping    orders description       second_col  qty  price  effective  \\\n",
       "0     A100  23899001   First Row     Aidan Scally   14   1.23 2015-10-21   \n",
       "1     A101  23899002  Second Row  Eoin Mcallister  103   4.32 2016-10-21   \n",
       "2     A101  23899003   Third Row      Mike Tarpey    1  34.32 2017-10-21   \n",
       "\n",
       "     expired  duration delimitted_list list_1 list_2 list_3  \\\n",
       "0 2019-12-31    1532.0     123;456;789    123    456    789   \n",
       "1 2020-12-31    1532.0        ss;11;33     ss     11     33   \n",
       "2 2021-12-31    1532.0           A;b;C      A      b      C   \n",
       "\n",
       "            combined_listcol                        X8  \n",
       "0            [123, 456, 789]  =CONCATENATE(A2, B2, C2)  \n",
       "1  [alpha,  bravo,  charlie]  =CONCATENATE(A4, B4, C4)  \n",
       "2               [ss, 11, 33]  =CONCATENATE(A5, B5, C5)  "
      ]
     },
     "execution_count": 52,
     "metadata": {},
     "output_type": "execute_result"
    }
   ],
   "source": [
    "query = \"\"\"(grouping == 'A101') |\\\n",
    "           (second_col.str.contains('Mike Tarpey')) |\\\n",
    "           (orders < 23899004) \"\"\"\n",
    "df.query(query)"
   ]
  },
  {
   "cell_type": "markdown",
   "metadata": {
    "slideshow": {
     "slide_type": "subslide"
    }
   },
   "source": [
    "### multiple AND / OR with substitutional variables"
   ]
  },
  {
   "cell_type": "code",
   "execution_count": 53,
   "metadata": {
    "ExecuteTime": {
     "end_time": "2021-02-26T14:54:52.550701Z",
     "start_time": "2021-02-26T14:54:52.506895Z"
    },
    "slideshow": {
     "slide_type": "fragment"
    }
   },
   "outputs": [
    {
     "name": "stderr",
     "output_type": "stream",
     "text": [
      "10 rows, 15 columns\n"
     ]
    },
    {
     "data": {
      "text/html": [
       "<div>\n",
       "<style scoped>\n",
       "    .dataframe tbody tr th:only-of-type {\n",
       "        vertical-align: middle;\n",
       "    }\n",
       "\n",
       "    .dataframe tbody tr th {\n",
       "        vertical-align: top;\n",
       "    }\n",
       "\n",
       "    .dataframe thead th {\n",
       "        text-align: right;\n",
       "    }\n",
       "</style>\n",
       "<table border=\"1\" class=\"dataframe\">\n",
       "  <thead>\n",
       "    <tr style=\"text-align: right;\">\n",
       "      <th></th>\n",
       "      <th>grouping</th>\n",
       "      <th>orders</th>\n",
       "      <th>description</th>\n",
       "      <th>second_col</th>\n",
       "      <th>qty</th>\n",
       "      <th>price</th>\n",
       "      <th>effective</th>\n",
       "      <th>expired</th>\n",
       "      <th>duration</th>\n",
       "      <th>delimitted_list</th>\n",
       "      <th>list_1</th>\n",
       "      <th>list_2</th>\n",
       "      <th>list_3</th>\n",
       "      <th>combined_listcol</th>\n",
       "      <th>X8</th>\n",
       "    </tr>\n",
       "  </thead>\n",
       "  <tbody>\n",
       "    <tr>\n",
       "      <th>0</th>\n",
       "      <td>A100</td>\n",
       "      <td>23899001</td>\n",
       "      <td>First Row</td>\n",
       "      <td>Aidan Scally</td>\n",
       "      <td>14</td>\n",
       "      <td>1.23</td>\n",
       "      <td>2015-10-21</td>\n",
       "      <td>2019-12-31</td>\n",
       "      <td>1532.0</td>\n",
       "      <td>123;456;789</td>\n",
       "      <td>123</td>\n",
       "      <td>456</td>\n",
       "      <td>789</td>\n",
       "      <td>[123, 456, 789]</td>\n",
       "      <td>=CONCATENATE(A2, B2, C2)</td>\n",
       "    </tr>\n",
       "    <tr>\n",
       "      <th>1</th>\n",
       "      <td>A103</td>\n",
       "      <td>23899006</td>\n",
       "      <td>Sixth Row</td>\n",
       "      <td>Derek Hunt</td>\n",
       "      <td>532</td>\n",
       "      <td>634.23</td>\n",
       "      <td>2019-04-21</td>\n",
       "      <td>2020-05-07</td>\n",
       "      <td>382.0</td>\n",
       "      <td>alpha; bravo; charlie</td>\n",
       "      <td>alpha</td>\n",
       "      <td>bravo</td>\n",
       "      <td>charlie</td>\n",
       "      <td>[d20, tg54, kde40]</td>\n",
       "      <td>=CONCATENATE(A3, B3, C3)</td>\n",
       "    </tr>\n",
       "    <tr>\n",
       "      <th>2</th>\n",
       "      <td>A101</td>\n",
       "      <td>23899002</td>\n",
       "      <td>Second Row</td>\n",
       "      <td>Eoin Mcallister</td>\n",
       "      <td>103</td>\n",
       "      <td>4.32</td>\n",
       "      <td>2016-10-21</td>\n",
       "      <td>2020-12-31</td>\n",
       "      <td>1532.0</td>\n",
       "      <td>ss;11;33</td>\n",
       "      <td>ss</td>\n",
       "      <td>11</td>\n",
       "      <td>33</td>\n",
       "      <td>[alpha,  bravo,  charlie]</td>\n",
       "      <td>=CONCATENATE(A4, B4, C4)</td>\n",
       "    </tr>\n",
       "    <tr>\n",
       "      <th>3</th>\n",
       "      <td>A101</td>\n",
       "      <td>23899003</td>\n",
       "      <td>Third Row</td>\n",
       "      <td>Mike Tarpey</td>\n",
       "      <td>1</td>\n",
       "      <td>34.32</td>\n",
       "      <td>2017-10-21</td>\n",
       "      <td>2021-12-31</td>\n",
       "      <td>1532.0</td>\n",
       "      <td>A;b;C</td>\n",
       "      <td>A</td>\n",
       "      <td>b</td>\n",
       "      <td>C</td>\n",
       "      <td>[ss, 11, 33]</td>\n",
       "      <td>=CONCATENATE(A5, B5, C5)</td>\n",
       "    </tr>\n",
       "    <tr>\n",
       "      <th>4</th>\n",
       "      <td>A102</td>\n",
       "      <td>23899004</td>\n",
       "      <td>Fourth Row</td>\n",
       "      <td>Alan Denton</td>\n",
       "      <td>13</td>\n",
       "      <td>49.00</td>\n",
       "      <td>2018-10-21</td>\n",
       "      <td>2022-12-31</td>\n",
       "      <td>1532.0</td>\n",
       "      <td>cat;dog;books</td>\n",
       "      <td>cat</td>\n",
       "      <td>dog</td>\n",
       "      <td>books</td>\n",
       "      <td>[A, b, C]</td>\n",
       "      <td>=CONCATENATE(A6, B6, C6)</td>\n",
       "    </tr>\n",
       "  </tbody>\n",
       "</table>\n",
       "</div>"
      ],
      "text/plain": [
       "  grouping    orders description       second_col  qty   price  effective  \\\n",
       "0     A100  23899001   First Row     Aidan Scally   14    1.23 2015-10-21   \n",
       "1     A103  23899006   Sixth Row       Derek Hunt  532  634.23 2019-04-21   \n",
       "2     A101  23899002  Second Row  Eoin Mcallister  103    4.32 2016-10-21   \n",
       "3     A101  23899003   Third Row      Mike Tarpey    1   34.32 2017-10-21   \n",
       "4     A102  23899004  Fourth Row      Alan Denton   13   49.00 2018-10-21   \n",
       "\n",
       "     expired  duration        delimitted_list list_1  list_2    list_3  \\\n",
       "0 2019-12-31    1532.0            123;456;789    123     456       789   \n",
       "1 2020-05-07     382.0  alpha; bravo; charlie  alpha   bravo   charlie   \n",
       "2 2020-12-31    1532.0               ss;11;33     ss      11        33   \n",
       "3 2021-12-31    1532.0                  A;b;C      A       b         C   \n",
       "4 2022-12-31    1532.0          cat;dog;books    cat     dog     books   \n",
       "\n",
       "            combined_listcol                        X8  \n",
       "0            [123, 456, 789]  =CONCATENATE(A2, B2, C2)  \n",
       "1         [d20, tg54, kde40]  =CONCATENATE(A3, B3, C3)  \n",
       "2  [alpha,  bravo,  charlie]  =CONCATENATE(A4, B4, C4)  \n",
       "3               [ss, 11, 33]  =CONCATENATE(A5, B5, C5)  \n",
       "4                  [A, b, C]  =CONCATENATE(A6, B6, C6)  "
      ]
     },
     "execution_count": 53,
     "metadata": {},
     "output_type": "execute_result"
    }
   ],
   "source": [
    "list_of_groups = ['A100', 'A101', 'A103']\n",
    "duration_criteria = 380\n",
    "\n",
    "query = \"\"\"(grouping in @list_of_groups) and\\\n",
    "           (~second_col.str.startswith('Theo')) or\\\n",
    "           (duration >= @duration_criteria) \n",
    "        \"\"\"\n",
    "head(df.query(query).reset_index(drop=True), 5)"
   ]
  },
  {
   "cell_type": "markdown",
   "metadata": {
    "slideshow": {
     "slide_type": "subslide"
    }
   },
   "source": [
    "## df.loc[filter, 'from': 'to'] \n",
    "df.loc can be used to:<ol>\n",
    "<li> apply a filter/selection to dataframe\n",
    "<li> using that filter, select one or more columns to view and optionally (update)\n",
    "</ol><p>\n",
    "<a> href=https://pandas.pydata.org/pandas-docs/stable/reference/api/pandas.DataFrame.loc.html</a>"
   ]
  },
  {
   "cell_type": "code",
   "execution_count": 54,
   "metadata": {
    "ExecuteTime": {
     "end_time": "2021-02-26T14:54:52.576633Z",
     "start_time": "2021-02-26T14:54:52.553107Z"
    },
    "slideshow": {
     "slide_type": "fragment"
    }
   },
   "outputs": [
    {
     "data": {
      "text/html": [
       "<div>\n",
       "<style scoped>\n",
       "    .dataframe tbody tr th:only-of-type {\n",
       "        vertical-align: middle;\n",
       "    }\n",
       "\n",
       "    .dataframe tbody tr th {\n",
       "        vertical-align: top;\n",
       "    }\n",
       "\n",
       "    .dataframe thead th {\n",
       "        text-align: right;\n",
       "    }\n",
       "</style>\n",
       "<table border=\"1\" class=\"dataframe\">\n",
       "  <thead>\n",
       "    <tr style=\"text-align: right;\">\n",
       "      <th></th>\n",
       "      <th>second_col</th>\n",
       "      <th>effective</th>\n",
       "      <th>expired</th>\n",
       "    </tr>\n",
       "  </thead>\n",
       "  <tbody>\n",
       "    <tr>\n",
       "      <th>3</th>\n",
       "      <td>Alan Denton</td>\n",
       "      <td>2018-10-21</td>\n",
       "      <td>2022-12-31</td>\n",
       "    </tr>\n",
       "    <tr>\n",
       "      <th>10</th>\n",
       "      <td>Alan Denton</td>\n",
       "      <td>2018-10-21</td>\n",
       "      <td>2022-12-31</td>\n",
       "    </tr>\n",
       "  </tbody>\n",
       "</table>\n",
       "</div>"
      ],
      "text/plain": [
       "     second_col  effective    expired\n",
       "3   Alan Denton 2018-10-21 2022-12-31\n",
       "10  Alan Denton 2018-10-21 2022-12-31"
      ]
     },
     "execution_count": 54,
     "metadata": {},
     "output_type": "execute_result"
    }
   ],
   "source": [
    "subset_cols = ['second_col', 'effective', 'expired']\n",
    "\n",
    "# if 'second_col' is Alan Denton, show me selected columns second_col, effective and expired\n",
    "df.loc[df['second_col'] == 'Alan Denton', subset_cols]"
   ]
  },
  {
   "cell_type": "code",
   "execution_count": 55,
   "metadata": {
    "ExecuteTime": {
     "end_time": "2021-02-26T14:54:52.605680Z",
     "start_time": "2021-02-26T14:54:52.580493Z"
    },
    "slideshow": {
     "slide_type": "subslide"
    }
   },
   "outputs": [
    {
     "data": {
      "text/html": [
       "<div>\n",
       "<style scoped>\n",
       "    .dataframe tbody tr th:only-of-type {\n",
       "        vertical-align: middle;\n",
       "    }\n",
       "\n",
       "    .dataframe tbody tr th {\n",
       "        vertical-align: top;\n",
       "    }\n",
       "\n",
       "    .dataframe thead th {\n",
       "        text-align: right;\n",
       "    }\n",
       "</style>\n",
       "<table border=\"1\" class=\"dataframe\">\n",
       "  <thead>\n",
       "    <tr style=\"text-align: right;\">\n",
       "      <th></th>\n",
       "      <th>orders</th>\n",
       "      <th>description</th>\n",
       "      <th>second_col</th>\n",
       "      <th>qty</th>\n",
       "      <th>price</th>\n",
       "      <th>effective</th>\n",
       "      <th>expired</th>\n",
       "      <th>duration</th>\n",
       "    </tr>\n",
       "  </thead>\n",
       "  <tbody>\n",
       "    <tr>\n",
       "      <th>3</th>\n",
       "      <td>23899004</td>\n",
       "      <td>Fourth Row</td>\n",
       "      <td>Alan Denton</td>\n",
       "      <td>13</td>\n",
       "      <td>49.0</td>\n",
       "      <td>2018-10-21</td>\n",
       "      <td>2022-12-31</td>\n",
       "      <td>1532.0</td>\n",
       "    </tr>\n",
       "    <tr>\n",
       "      <th>10</th>\n",
       "      <td>23899011</td>\n",
       "      <td>Fourth Row</td>\n",
       "      <td>Alan Denton</td>\n",
       "      <td>13</td>\n",
       "      <td>49.0</td>\n",
       "      <td>2018-10-21</td>\n",
       "      <td>2022-12-31</td>\n",
       "      <td>1532.0</td>\n",
       "    </tr>\n",
       "  </tbody>\n",
       "</table>\n",
       "</div>"
      ],
      "text/plain": [
       "      orders description   second_col  qty  price  effective    expired  \\\n",
       "3   23899004  Fourth Row  Alan Denton   13   49.0 2018-10-21 2022-12-31   \n",
       "10  23899011  Fourth Row  Alan Denton   13   49.0 2018-10-21 2022-12-31   \n",
       "\n",
       "    duration  \n",
       "3     1532.0  \n",
       "10    1532.0  "
      ]
     },
     "execution_count": 55,
     "metadata": {},
     "output_type": "execute_result"
    }
   ],
   "source": [
    "# If second = 'Alan Denton', show me columns from 'orders' to 'duration'\n",
    "df.loc[df['second_col'] == 'Alan Denton', 'orders':'duration']"
   ]
  },
  {
   "cell_type": "markdown",
   "metadata": {
    "slideshow": {
     "slide_type": "slide"
    }
   },
   "source": [
    "# DataFrame meta information"
   ]
  },
  {
   "cell_type": "markdown",
   "metadata": {
    "slideshow": {
     "slide_type": "subslide"
    }
   },
   "source": [
    "## describe()\n",
    "describe() shows basic statistical information.\n",
    ".T transposes the x and y axes"
   ]
  },
  {
   "cell_type": "code",
   "execution_count": 56,
   "metadata": {
    "ExecuteTime": {
     "end_time": "2021-02-26T14:54:52.649110Z",
     "start_time": "2021-02-26T14:54:52.608466Z"
    },
    "slideshow": {
     "slide_type": "subslide"
    }
   },
   "outputs": [
    {
     "data": {
      "text/html": [
       "<div>\n",
       "<style scoped>\n",
       "    .dataframe tbody tr th:only-of-type {\n",
       "        vertical-align: middle;\n",
       "    }\n",
       "\n",
       "    .dataframe tbody tr th {\n",
       "        vertical-align: top;\n",
       "    }\n",
       "\n",
       "    .dataframe thead th {\n",
       "        text-align: right;\n",
       "    }\n",
       "</style>\n",
       "<table border=\"1\" class=\"dataframe\">\n",
       "  <thead>\n",
       "    <tr style=\"text-align: right;\">\n",
       "      <th></th>\n",
       "      <th>orders</th>\n",
       "      <th>qty</th>\n",
       "      <th>price</th>\n",
       "      <th>duration</th>\n",
       "    </tr>\n",
       "  </thead>\n",
       "  <tbody>\n",
       "    <tr>\n",
       "      <th>count</th>\n",
       "      <td>1.200000e+01</td>\n",
       "      <td>12.000000</td>\n",
       "      <td>12.000000</td>\n",
       "      <td>9.000000</td>\n",
       "    </tr>\n",
       "    <tr>\n",
       "      <th>mean</th>\n",
       "      <td>2.389901e+07</td>\n",
       "      <td>261.666667</td>\n",
       "      <td>134.004167</td>\n",
       "      <td>1540.666667</td>\n",
       "    </tr>\n",
       "    <tr>\n",
       "      <th>std</th>\n",
       "      <td>3.605551e+00</td>\n",
       "      <td>515.689535</td>\n",
       "      <td>218.971149</td>\n",
       "      <td>594.748686</td>\n",
       "    </tr>\n",
       "    <tr>\n",
       "      <th>min</th>\n",
       "      <td>2.389900e+07</td>\n",
       "      <td>1.000000</td>\n",
       "      <td>1.230000</td>\n",
       "      <td>382.000000</td>\n",
       "    </tr>\n",
       "    <tr>\n",
       "      <th>25%</th>\n",
       "      <td>2.389900e+07</td>\n",
       "      <td>13.750000</td>\n",
       "      <td>32.502500</td>\n",
       "      <td>1532.000000</td>\n",
       "    </tr>\n",
       "    <tr>\n",
       "      <th>50%</th>\n",
       "      <td>2.389901e+07</td>\n",
       "      <td>21.500000</td>\n",
       "      <td>47.400000</td>\n",
       "      <td>1532.000000</td>\n",
       "    </tr>\n",
       "    <tr>\n",
       "      <th>75%</th>\n",
       "      <td>2.389901e+07</td>\n",
       "      <td>239.500000</td>\n",
       "      <td>66.725000</td>\n",
       "      <td>1532.000000</td>\n",
       "    </tr>\n",
       "    <tr>\n",
       "      <th>max</th>\n",
       "      <td>2.389901e+07</td>\n",
       "      <td>1800.000000</td>\n",
       "      <td>634.230000</td>\n",
       "      <td>2760.000000</td>\n",
       "    </tr>\n",
       "  </tbody>\n",
       "</table>\n",
       "</div>"
      ],
      "text/plain": [
       "             orders          qty       price     duration\n",
       "count  1.200000e+01    12.000000   12.000000     9.000000\n",
       "mean   2.389901e+07   261.666667  134.004167  1540.666667\n",
       "std    3.605551e+00   515.689535  218.971149   594.748686\n",
       "min    2.389900e+07     1.000000    1.230000   382.000000\n",
       "25%    2.389900e+07    13.750000   32.502500  1532.000000\n",
       "50%    2.389901e+07    21.500000   47.400000  1532.000000\n",
       "75%    2.389901e+07   239.500000   66.725000  1532.000000\n",
       "max    2.389901e+07  1800.000000  634.230000  2760.000000"
      ]
     },
     "execution_count": 56,
     "metadata": {},
     "output_type": "execute_result"
    }
   ],
   "source": [
    "df.describe() #.T"
   ]
  },
  {
   "cell_type": "markdown",
   "metadata": {
    "slideshow": {
     "slide_type": "subslide"
    }
   },
   "source": [
    "### select numeric (exclude object)"
   ]
  },
  {
   "cell_type": "code",
   "execution_count": 57,
   "metadata": {
    "ExecuteTime": {
     "end_time": "2021-02-26T14:54:52.666994Z",
     "start_time": "2021-02-26T14:54:52.651207Z"
    },
    "slideshow": {
     "slide_type": "subslide"
    }
   },
   "outputs": [
    {
     "data": {
      "text/html": [
       "<div>\n",
       "<style scoped>\n",
       "    .dataframe tbody tr th:only-of-type {\n",
       "        vertical-align: middle;\n",
       "    }\n",
       "\n",
       "    .dataframe tbody tr th {\n",
       "        vertical-align: top;\n",
       "    }\n",
       "\n",
       "    .dataframe thead th {\n",
       "        text-align: right;\n",
       "    }\n",
       "</style>\n",
       "<table border=\"1\" class=\"dataframe\">\n",
       "  <thead>\n",
       "    <tr style=\"text-align: right;\">\n",
       "      <th></th>\n",
       "      <th>orders</th>\n",
       "      <th>description</th>\n",
       "      <th>qty</th>\n",
       "      <th>price</th>\n",
       "      <th>effective</th>\n",
       "      <th>expired</th>\n",
       "      <th>duration</th>\n",
       "    </tr>\n",
       "  </thead>\n",
       "  <tbody>\n",
       "    <tr>\n",
       "      <th>0</th>\n",
       "      <td>23899001</td>\n",
       "      <td>First Row</td>\n",
       "      <td>14</td>\n",
       "      <td>1.23</td>\n",
       "      <td>2015-10-21</td>\n",
       "      <td>2019-12-31</td>\n",
       "      <td>1532.0</td>\n",
       "    </tr>\n",
       "    <tr>\n",
       "      <th>5</th>\n",
       "      <td>23899006</td>\n",
       "      <td>Sixth Row</td>\n",
       "      <td>532</td>\n",
       "      <td>634.23</td>\n",
       "      <td>2019-04-21</td>\n",
       "      <td>2020-05-07</td>\n",
       "      <td>382.0</td>\n",
       "    </tr>\n",
       "    <tr>\n",
       "      <th>1</th>\n",
       "      <td>23899002</td>\n",
       "      <td>Second Row</td>\n",
       "      <td>103</td>\n",
       "      <td>4.32</td>\n",
       "      <td>2016-10-21</td>\n",
       "      <td>2020-12-31</td>\n",
       "      <td>1532.0</td>\n",
       "    </tr>\n",
       "    <tr>\n",
       "      <th>2</th>\n",
       "      <td>23899003</td>\n",
       "      <td>Third Row</td>\n",
       "      <td>1</td>\n",
       "      <td>34.32</td>\n",
       "      <td>2017-10-21</td>\n",
       "      <td>2021-12-31</td>\n",
       "      <td>1532.0</td>\n",
       "    </tr>\n",
       "    <tr>\n",
       "      <th>3</th>\n",
       "      <td>23899004</td>\n",
       "      <td>Fourth Row</td>\n",
       "      <td>13</td>\n",
       "      <td>49.00</td>\n",
       "      <td>2018-10-21</td>\n",
       "      <td>2022-12-31</td>\n",
       "      <td>1532.0</td>\n",
       "    </tr>\n",
       "  </tbody>\n",
       "</table>\n",
       "</div>"
      ],
      "text/plain": [
       "     orders description  qty   price  effective    expired  duration\n",
       "0  23899001   First Row   14    1.23 2015-10-21 2019-12-31    1532.0\n",
       "5  23899006   Sixth Row  532  634.23 2019-04-21 2020-05-07     382.0\n",
       "1  23899002  Second Row  103    4.32 2016-10-21 2020-12-31    1532.0\n",
       "2  23899003   Third Row    1   34.32 2017-10-21 2021-12-31    1532.0\n",
       "3  23899004  Fourth Row   13   49.00 2018-10-21 2022-12-31    1532.0"
      ]
     },
     "execution_count": 57,
     "metadata": {},
     "output_type": "execute_result"
    }
   ],
   "source": [
    "# Give me columns that are NOT string/text based -> numbers, floats and dates\n",
    "df.select_dtypes(exclude='object').head()"
   ]
  },
  {
   "cell_type": "code",
   "execution_count": 58,
   "metadata": {
    "ExecuteTime": {
     "end_time": "2021-02-26T14:54:52.691337Z",
     "start_time": "2021-02-26T14:54:52.668911Z"
    },
    "slideshow": {
     "slide_type": "subslide"
    }
   },
   "outputs": [
    {
     "name": "stderr",
     "output_type": "stream",
     "text": [
      "12 rows, 1 columns\n"
     ]
    },
    {
     "data": {
      "text/html": [
       "<div>\n",
       "<style scoped>\n",
       "    .dataframe tbody tr th:only-of-type {\n",
       "        vertical-align: middle;\n",
       "    }\n",
       "\n",
       "    .dataframe tbody tr th {\n",
       "        vertical-align: top;\n",
       "    }\n",
       "\n",
       "    .dataframe thead th {\n",
       "        text-align: right;\n",
       "    }\n",
       "</style>\n",
       "<table border=\"1\" class=\"dataframe\">\n",
       "  <thead>\n",
       "    <tr style=\"text-align: right;\">\n",
       "      <th></th>\n",
       "      <th>orders</th>\n",
       "    </tr>\n",
       "  </thead>\n",
       "  <tbody>\n",
       "    <tr>\n",
       "      <th>0</th>\n",
       "      <td>23899001</td>\n",
       "    </tr>\n",
       "    <tr>\n",
       "      <th>5</th>\n",
       "      <td>23899006</td>\n",
       "    </tr>\n",
       "    <tr>\n",
       "      <th>1</th>\n",
       "      <td>23899002</td>\n",
       "    </tr>\n",
       "  </tbody>\n",
       "</table>\n",
       "</div>"
      ],
      "text/plain": [
       "     orders\n",
       "0  23899001\n",
       "5  23899006\n",
       "1  23899002"
      ]
     },
     "execution_count": 58,
     "metadata": {},
     "output_type": "execute_result"
    }
   ],
   "source": [
    "# Give me columns where the column name starts with an 'o'\n",
    "head(df[df.columns[df.columns.str.startswith('o')]], 3)"
   ]
  },
  {
   "cell_type": "code",
   "execution_count": 59,
   "metadata": {
    "ExecuteTime": {
     "end_time": "2021-02-26T14:54:52.722610Z",
     "start_time": "2021-02-26T14:54:52.693046Z"
    },
    "slideshow": {
     "slide_type": "subslide"
    }
   },
   "outputs": [
    {
     "name": "stderr",
     "output_type": "stream",
     "text": [
      "12 rows, 6 columns\n"
     ]
    },
    {
     "data": {
      "text/html": [
       "<div>\n",
       "<style scoped>\n",
       "    .dataframe tbody tr th:only-of-type {\n",
       "        vertical-align: middle;\n",
       "    }\n",
       "\n",
       "    .dataframe tbody tr th {\n",
       "        vertical-align: top;\n",
       "    }\n",
       "\n",
       "    .dataframe thead th {\n",
       "        text-align: right;\n",
       "    }\n",
       "</style>\n",
       "<table border=\"1\" class=\"dataframe\">\n",
       "  <thead>\n",
       "    <tr style=\"text-align: right;\">\n",
       "      <th></th>\n",
       "      <th>grouping</th>\n",
       "      <th>orders</th>\n",
       "      <th>description</th>\n",
       "      <th>second_col</th>\n",
       "      <th>duration</th>\n",
       "      <th>combined_listcol</th>\n",
       "    </tr>\n",
       "  </thead>\n",
       "  <tbody>\n",
       "    <tr>\n",
       "      <th>0</th>\n",
       "      <td>A100</td>\n",
       "      <td>23899001</td>\n",
       "      <td>First Row</td>\n",
       "      <td>Aidan Scally</td>\n",
       "      <td>1532.0</td>\n",
       "      <td>[123, 456, 789]</td>\n",
       "    </tr>\n",
       "    <tr>\n",
       "      <th>5</th>\n",
       "      <td>A103</td>\n",
       "      <td>23899006</td>\n",
       "      <td>Sixth Row</td>\n",
       "      <td>Derek Hunt</td>\n",
       "      <td>382.0</td>\n",
       "      <td>[d20, tg54, kde40]</td>\n",
       "    </tr>\n",
       "    <tr>\n",
       "      <th>1</th>\n",
       "      <td>A101</td>\n",
       "      <td>23899002</td>\n",
       "      <td>Second Row</td>\n",
       "      <td>Eoin Mcallister</td>\n",
       "      <td>1532.0</td>\n",
       "      <td>[alpha,  bravo,  charlie]</td>\n",
       "    </tr>\n",
       "  </tbody>\n",
       "</table>\n",
       "</div>"
      ],
      "text/plain": [
       "  grouping    orders description       second_col  duration  \\\n",
       "0     A100  23899001   First Row     Aidan Scally    1532.0   \n",
       "5     A103  23899006   Sixth Row       Derek Hunt     382.0   \n",
       "1     A101  23899002  Second Row  Eoin Mcallister    1532.0   \n",
       "\n",
       "            combined_listcol  \n",
       "0            [123, 456, 789]  \n",
       "5         [d20, tg54, kde40]  \n",
       "1  [alpha,  bravo,  charlie]  "
      ]
     },
     "execution_count": 59,
     "metadata": {},
     "output_type": "execute_result"
    }
   ],
   "source": [
    "# Give me columns that contain the letters 'a' or 'o' in the column name\n",
    "head(df[df.columns[df.columns.str.contains('[ao]')]], 3)"
   ]
  },
  {
   "cell_type": "markdown",
   "metadata": {
    "slideshow": {
     "slide_type": "slide"
    }
   },
   "source": [
    "# Export (Excel)\n",
    "## Standard Pandas -  dataframe  -> Excel workbook"
   ]
  },
  {
   "cell_type": "code",
   "execution_count": 60,
   "metadata": {
    "ExecuteTime": {
     "end_time": "2021-02-26T14:54:52.727066Z",
     "start_time": "2021-02-26T14:54:52.724636Z"
    }
   },
   "outputs": [],
   "source": [
    "project = 'demo'"
   ]
  },
  {
   "cell_type": "code",
   "execution_count": 61,
   "metadata": {
    "ExecuteTime": {
     "end_time": "2021-02-26T14:54:52.757639Z",
     "start_time": "2021-02-26T14:54:52.729157Z"
    },
    "slideshow": {
     "slide_type": "fragment"
    }
   },
   "outputs": [
    {
     "name": "stderr",
     "output_type": "stream",
     "text": [
      "outputs/demo example #1 Standard pandas.xlsx\n"
     ]
    }
   ],
   "source": [
    "file_name = f'outputs/{project} example #1 Standard pandas.xlsx'\n",
    "df.to_excel(file_name, index=False, freeze_panes=(1, 0), float_format=\"%0.2f\")\n",
    "logger.info(file_name)"
   ]
  },
  {
   "cell_type": "markdown",
   "metadata": {
    "slideshow": {
     "slide_type": "subslide"
    }
   },
   "source": [
    "Check the output in 'outputs' folder - NOT BAD for default Pandas !\n",
    "<ol>\n",
    "<li>We can use a 'project name' as a prefix to the file name\n",
    "<li>We can 'freeze' top row (useful!)\n",
    "<li>We can even specify float format for decimal values (e.g. 2 decimals see below)\n",
    "\n",
    "<li>We cannot specify styles easily\n",
    "<li>We cannot autosize column widths (annoying)\n",
    "<li>We cannot specify 'table' references (VERY useful when creating Excel formula VLOOKUPS for users)\n",
    "</ol>"
   ]
  },
  {
   "cell_type": "markdown",
   "metadata": {
    "slideshow": {
     "slide_type": "subslide"
    }
   },
   "source": [
    "## Standard Pandas - multiple sheets"
   ]
  },
  {
   "cell_type": "code",
   "execution_count": 62,
   "metadata": {
    "ExecuteTime": {
     "end_time": "2021-02-26T14:54:52.811824Z",
     "start_time": "2021-02-26T14:54:52.760377Z"
    },
    "slideshow": {
     "slide_type": "fragment"
    }
   },
   "outputs": [
    {
     "name": "stderr",
     "output_type": "stream",
     "text": [
      "outputs/demo example #2 Standard pandas multi-sheets.xlsx\n"
     ]
    }
   ],
   "source": [
    "# Multiple sheets - Now we have to create an ExcelWriter object, pass a bunch of boilerplate code\n",
    "# e.g. date format, we still cannot specify styles or auto-width, \n",
    "\n",
    "file_name = f'outputs/{project} example #2 Standard pandas multi-sheets.xlsx'\n",
    "\n",
    "# Create a Pandas Excel writer using XlsxWriter as the engine.\n",
    "with pd.ExcelWriter(file_name, engine='xlsxwriter', date_format='YYYY-MM-DD',\n",
    "                    datetime_format='YYYY-MM-DD') as writer:\n",
    "    df_original.to_excel(writer, sheet_name='Sheet1', index=False, freeze_panes=(1, 0))\n",
    "    df.to_excel(writer, sheet_name='Sheet2', index=False, freeze_panes=(1, 0))\n",
    "\n",
    "logger.info(file_name)"
   ]
  },
  {
   "cell_type": "markdown",
   "metadata": {
    "slideshow": {
     "slide_type": "subslide"
    }
   },
   "source": [
    "## WorkBook class - multi-sheet mode"
   ]
  },
  {
   "cell_type": "markdown",
   "metadata": {
    "slideshow": {
     "slide_type": "fragment"
    }
   },
   "source": [
    "### Single sheet"
   ]
  },
  {
   "cell_type": "code",
   "execution_count": 63,
   "metadata": {
    "ExecuteTime": {
     "end_time": "2021-02-26T14:54:52.887858Z",
     "start_time": "2021-02-26T14:54:52.821130Z"
    },
    "slideshow": {
     "slide_type": "fragment"
    }
   },
   "outputs": [
    {
     "data": {
      "text/html": [
       "<a href=\"outputs/20210226_demo example #3 SaveXL single sheet.xlsx\">outputs/20210226_demo example #3 SaveXL single sheet.xlsx</a>"
      ],
      "text/plain": [
       "<IPython.core.display.HTML object>"
      ]
     },
     "metadata": {},
     "output_type": "display_data"
    },
    {
     "name": "stderr",
     "output_type": "stream",
     "text": [
      "Workbook: outputs/20210226_demo example #3 SaveXL single sheet.xlsx\n",
      "<< mult-sheet mode >>\n",
      "Sheet (range): sheet1 ($A$1:$O$13)\n",
      "Completed.\n"
     ]
    }
   ],
   "source": [
    "# Literally ONE LINE OF CODE !\n",
    "WorkBook(f'outputs/{project} example #3 SaveXL single sheet', sheets=df);"
   ]
  },
  {
   "cell_type": "markdown",
   "metadata": {
    "slideshow": {
     "slide_type": "subslide"
    }
   },
   "source": [
    "### Multi-sheet"
   ]
  },
  {
   "cell_type": "code",
   "execution_count": 64,
   "metadata": {
    "ExecuteTime": {
     "end_time": "2021-02-26T14:54:52.992108Z",
     "start_time": "2021-02-26T14:54:52.893559Z"
    },
    "slideshow": {
     "slide_type": "fragment"
    }
   },
   "outputs": [
    {
     "data": {
      "text/html": [
       "<a href=\"outputs/20210226_demo example #4 SaveXL multi sheet.xlsx\">outputs/20210226_demo example #4 SaveXL multi sheet.xlsx</a>"
      ],
      "text/plain": [
       "<IPython.core.display.HTML object>"
      ]
     },
     "metadata": {},
     "output_type": "display_data"
    },
    {
     "name": "stderr",
     "output_type": "stream",
     "text": [
      "Workbook: outputs/20210226_demo example #4 SaveXL multi sheet.xlsx\n",
      "<< mult-sheet mode >>\n",
      "Sheet (range): sheet1 ($A$1:$O$13)\n",
      "Sheet (range): sheet2 ($A$1:$J$13)\n",
      "Completed.\n"
     ]
    }
   ],
   "source": [
    "# Literally ONE LINE OF CODE ! -> Automatic default sheet names\n",
    "file_name = f'outputs/{project} example #4 SaveXL multi sheet'\n",
    "WorkBook(file_name, [df, df_original]);"
   ]
  },
  {
   "cell_type": "markdown",
   "metadata": {
    "slideshow": {
     "slide_type": "subslide"
    }
   },
   "source": [
    "### Multi-sheet with sheet names"
   ]
  },
  {
   "cell_type": "code",
   "execution_count": 65,
   "metadata": {
    "ExecuteTime": {
     "end_time": "2021-02-26T14:54:53.062269Z",
     "start_time": "2021-02-26T14:54:52.998893Z"
    },
    "slideshow": {
     "slide_type": "fragment"
    }
   },
   "outputs": [
    {
     "data": {
      "text/html": [
       "<a href=\"outputs/20210226_demo example #5 SaveXL multi sheet with sheet names.xlsx\">outputs/20210226_demo example #5 SaveXL multi sheet with sheet names.xlsx</a>"
      ],
      "text/plain": [
       "<IPython.core.display.HTML object>"
      ]
     },
     "metadata": {},
     "output_type": "display_data"
    },
    {
     "name": "stderr",
     "output_type": "stream",
     "text": [
      "Workbook: outputs/20210226_demo example #5 SaveXL multi sheet with sheet names.xlsx\n",
      "<< mult-sheet mode >>\n",
      "Sheet (range): revised ($A$1:$O$13)\n",
      "Sheet (range): original ($A$1:$J$13)\n",
      "Completed.\n"
     ]
    }
   ],
   "source": [
    "# Passing a dictionary of sheet_name: dataframe object\n",
    "\n",
    "file_name = f'outputs/{project} example #5 SaveXL multi sheet with sheet names.xlsx'\n",
    "WorkBook(file_name, {'revised': df, 'original': df_original});"
   ]
  },
  {
   "cell_type": "markdown",
   "metadata": {
    "slideshow": {
     "slide_type": "subslide"
    }
   },
   "source": [
    "## WorkBook class - sheet mode"
   ]
  },
  {
   "cell_type": "markdown",
   "metadata": {
    "slideshow": {
     "slide_type": "fragment"
    }
   },
   "source": [
    "### Basic usage"
   ]
  },
  {
   "cell_type": "code",
   "execution_count": 66,
   "metadata": {
    "ExecuteTime": {
     "end_time": "2021-02-26T14:54:53.124381Z",
     "start_time": "2021-02-26T14:54:53.064410Z"
    },
    "scrolled": true,
    "slideshow": {
     "slide_type": "subslide"
    }
   },
   "outputs": [
    {
     "data": {
      "text/html": [
       "<a href=\"outputs/demo Basic workbook object.xlsx\">outputs/demo Basic workbook object.xlsx</a>"
      ],
      "text/plain": [
       "<IPython.core.display.HTML object>"
      ]
     },
     "metadata": {},
     "output_type": "display_data"
    },
    {
     "name": "stderr",
     "output_type": "stream",
     "text": [
      "Workbook: outputs/demo Basic workbook object.xlsx\n",
      "<< sheet mode >>\n",
      "Sheet (range): sheet1 ($A$1:$O$13)\n",
      "Completed.\n"
     ]
    }
   ],
   "source": [
    "# Create a Workbook object, pass the name and optionally you want a date/datetime prefix\n",
    "wb = WorkBook(f'outputs/{project} Basic workbook object', ts_prefix=False)\n",
    "\n",
    "# Add the sheet, passing the dataframe\n",
    "wb.add_sheet(df)\n",
    "\n",
    "# Close WorkBook object\n",
    "wb.close()"
   ]
  },
  {
   "cell_type": "markdown",
   "metadata": {
    "slideshow": {
     "slide_type": "subslide"
    }
   },
   "source": [
    "### Adding more sheets"
   ]
  },
  {
   "cell_type": "code",
   "execution_count": 67,
   "metadata": {
    "ExecuteTime": {
     "end_time": "2021-02-26T14:54:53.199361Z",
     "start_time": "2021-02-26T14:54:53.126210Z"
    },
    "slideshow": {
     "slide_type": "subslide"
    }
   },
   "outputs": [
    {
     "data": {
      "text/html": [
       "<a href=\"outputs/demo example #6 WorkBook - Greater control.xlsx\">outputs/demo example #6 WorkBook - Greater control.xlsx</a>"
      ],
      "text/plain": [
       "<IPython.core.display.HTML object>"
      ]
     },
     "metadata": {},
     "output_type": "display_data"
    },
    {
     "name": "stderr",
     "output_type": "stream",
     "text": [
      "Workbook: outputs/demo example #6 WorkBook - Greater control.xlsx\n",
      "<< sheet mode >>\n",
      "Sheet (range): revised data ($A$1:$O$13)\n",
      "Sheet (range): original ($A$1:$J$13)\n",
      "Completed.\n"
     ]
    }
   ],
   "source": [
    "xl_file = f'outputs/{project} example #6 WorkBook - Greater control.xlsx'\n",
    "wb = WorkBook(xl_file, ts_prefix=None)\n",
    "\n",
    "wb.add_sheet(df, sheet_name='revised data', tab_color='red', zoom=120)\n",
    "wb.add_sheet(df_original, sheet_name='original', tab_color='red')\n",
    "\n",
    "wb.close()"
   ]
  },
  {
   "cell_type": "markdown",
   "metadata": {
    "ExecuteTime": {
     "end_time": "2019-11-19T01:37:58.138923Z",
     "start_time": "2019-11-19T01:37:57.648569Z"
    },
    "slideshow": {
     "slide_type": "subslide"
    }
   },
   "source": [
    "### Complex conditional format"
   ]
  },
  {
   "cell_type": "code",
   "execution_count": 68,
   "metadata": {
    "ExecuteTime": {
     "end_time": "2021-02-26T14:54:53.211034Z",
     "start_time": "2021-02-26T14:54:53.207748Z"
    }
   },
   "outputs": [],
   "source": [
    "from os.path import join"
   ]
  },
  {
   "cell_type": "code",
   "execution_count": 69,
   "metadata": {
    "ExecuteTime": {
     "end_time": "2021-02-26T14:54:53.320986Z",
     "start_time": "2021-02-26T14:54:53.213683Z"
    },
    "scrolled": true,
    "slideshow": {
     "slide_type": "subslide"
    }
   },
   "outputs": [
    {
     "data": {
      "text/html": [
       "<a href=\"outputs/demo example #7 WorkBook - Multi sheet with conditional formatting.xlsx\">outputs/demo example #7 WorkBook - Multi sheet with conditional formatting.xlsx</a>"
      ],
      "text/plain": [
       "<IPython.core.display.HTML object>"
      ]
     },
     "metadata": {},
     "output_type": "display_data"
    },
    {
     "name": "stderr",
     "output_type": "stream",
     "text": [
      "Workbook: outputs/demo example #7 WorkBook - Multi sheet with conditional formatting.xlsx\n",
      "<< sheet mode >>\n",
      "Sheet (range): original ($A$1:$J$13)\n",
      "Sheet (range): revised data ($A$1:$O$13)\n",
      "Completed.\n"
     ]
    }
   ],
   "source": [
    "xl_file = f'{project} example #7 WorkBook - Multi sheet with conditional formatting.xlsx'\n",
    "wb = WorkBook(join('outputs', xl_file), ts_prefix=None)\n",
    "styles = wb.get_styles()\n",
    "\n",
    "sheet_name='original'\n",
    "ws = wb.add_sheet(df_original, sheet_name=sheet_name, tab_color='yellow', zoom=175)\n",
    "\n",
    "wb.add_format(ws, column_attr={'column': 'A', 'width': 10, 'format': 'center_wrap'})\n",
    "wb.add_format(ws, column_attr={'column': 'B', 'width': 11})\n",
    "wb.add_format(ws, column_attr={'column': 'C', 'format': 'center', 'width': 25})\n",
    "\n",
    "# Pass a list of dictionary formats: \n",
    "# Below, example to quickly set widths for a range of columns \n",
    "cols = ['E', 'F', 'G', 'H', 'I']\n",
    "formats = [{'column': f'{c}', 'width': 10} for c in cols]\n",
    "\n",
    "wb.add_format(ws, column_attr=formats)\n",
    "\n",
    "sheet_name = 'revised data'\n",
    "ws = wb.add_sheet(df, sheet_name, tab_color='red', zoom=175)\n",
    "\n",
    "selected_date = datetime.strptime('2018-01-01', \"%Y-%m-%d\")\n",
    "\n",
    "c= [ {'type': 'formula', 'criteria': '=$I2=2263', 'format': 'accent4'},\n",
    "     {'type': 'cell', 'criteria': 'equal to', 'value': '\"A103\"', 'format': 'accent5', 'range': 'A'},\n",
    "     {'type': 'cell', 'criteria': 'equal to', 'value': 23899003, 'format': 'accent6', 'range': 'B'} ,\n",
    "     {'type': 'duplicate', 'format': 'accent1', 'range': 'C:D'},\n",
    "     {'type': 'text', 'criteria': 'containing', 'value': 'Eoin', 'format': 'accent2', 'range': 'D'},\n",
    "     {'type': 'data_bar', 'data_bar_2010': True, 'criteria': '=$F2>0', 'range': 'F'},\n",
    "     {'type': 'date', 'criteria': 'less than', 'value': selected_date, 'format': 'accent3', 'range': 'G'},\n",
    "     {'type': 'formula', 'criteria': '=$J2=\"cat;dog;books\"', 'format': 'accent5', 'range': 'J'}]\n",
    "wb.add_condition(ws, condition=c)\n",
    "\n",
    "wb.add_condition(ws, condition={'type': '3_color_scale', 'range': 'H'})\n",
    "\n",
    "wb.add_format(ws, column_attr={'column': 'F', 'format': 'price4'})\n",
    "      \n",
    "wb.close()"
   ]
  },
  {
   "cell_type": "markdown",
   "metadata": {
    "slideshow": {
     "slide_type": "slide"
    }
   },
   "source": [
    "# Zip / compress data"
   ]
  },
  {
   "cell_type": "code",
   "execution_count": 70,
   "metadata": {
    "ExecuteTime": {
     "end_time": "2021-02-26T14:54:53.358442Z",
     "start_time": "2021-02-26T14:54:53.324863Z"
    },
    "slideshow": {
     "slide_type": "subslide"
    }
   },
   "outputs": [
    {
     "name": "stderr",
     "output_type": "stream",
     "text": [
      "Source: outputs, filter: example*.xlsx\n",
      "<<TEST MODE>> Target: outputs/20210226_zip_data.zip not created with 3 files.\n",
      "Source: outputs, filter: *.csv\n",
      "<<TEST MODE>> Target: outputs/20210226_zip_data.zip not created with 1 files.\n",
      "Source: outputs, filter: demo*\n",
      "Target: outputs/20210226_zip_file_for_mike.zip created with 5 files.\n"
     ]
    },
    {
     "data": {
      "text/plain": [
       "<zipfile.ZipFile [closed]>"
      ]
     },
     "execution_count": 70,
     "metadata": {},
     "output_type": "execute_result"
    }
   ],
   "source": [
    "# Zip data with prefix of 'example' and in .xlsx -> put a date prefix on it.\n",
    "zip_data(filter='example*.xlsx', ts_prefix='date', test_mode=True, mode='w', info=False)\n",
    "\n",
    "# Zip all .csv filesa and append to zip file previously specified\n",
    "zip_data(filter='*.csv', ts_prefix='date', test_mode=True, mode='a', info=False)\n",
    "\n",
    "# Zip all files which start with demo \n",
    "zip_data(target='outputs/zip_file_for_mike', filter='demo*',\n",
    "         ts_prefix='date', test_mode=False,\n",
    "         info=False)"
   ]
  },
  {
   "cell_type": "code",
   "execution_count": null,
   "metadata": {},
   "outputs": [],
   "source": []
  },
  {
   "cell_type": "code",
   "execution_count": null,
   "metadata": {},
   "outputs": [],
   "source": []
  },
  {
   "cell_type": "code",
   "execution_count": null,
   "metadata": {},
   "outputs": [],
   "source": []
  },
  {
   "cell_type": "code",
   "execution_count": null,
   "metadata": {},
   "outputs": [],
   "source": []
  },
  {
   "cell_type": "code",
   "execution_count": null,
   "metadata": {},
   "outputs": [],
   "source": []
  }
 ],
 "metadata": {
  "hide_input": false,
  "kernelspec": {
   "display_name": "Python 3",
   "language": "python",
   "name": "python3"
  },
  "language_info": {
   "codemirror_mode": {
    "name": "ipython",
    "version": 3
   },
   "file_extension": ".py",
   "mimetype": "text/x-python",
   "name": "python",
   "nbconvert_exporter": "python",
   "pygments_lexer": "ipython3",
   "version": "3.8.5"
  },
  "toc": {
   "base_numbering": 1,
   "nav_menu": {},
   "number_sections": true,
   "sideBar": true,
   "skip_h1_title": false,
   "title_cell": "Table of Contents",
   "title_sidebar": "Contents",
   "toc_cell": false,
   "toc_position": {
    "height": "641.333px",
    "left": "40px",
    "top": "576.883px",
    "width": "460.1px"
   },
   "toc_section_display": true,
   "toc_window_display": true
  }
 },
 "nbformat": 4,
 "nbformat_minor": 4
}
