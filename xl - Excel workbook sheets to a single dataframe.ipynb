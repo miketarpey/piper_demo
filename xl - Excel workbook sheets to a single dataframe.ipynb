{
 "cells": [
  {
   "cell_type": "code",
   "execution_count": 1,
   "metadata": {
    "ExecuteTime": {
     "end_time": "2021-03-11T16:22:31.021773Z",
     "start_time": "2021-03-11T16:22:30.157906Z"
    }
   },
   "outputs": [
    {
     "name": "stderr",
     "output_type": "stream",
     "text": [
      "piper v0.1.0: Monday, 29 March 2021 19:09:36\n"
     ]
    }
   ],
   "source": [
    "from piper.defaults import *"
   ]
  },
  {
   "cell_type": "code",
   "execution_count": 2,
   "metadata": {
    "ExecuteTime": {
     "end_time": "2021-03-11T16:22:31.402031Z",
     "start_time": "2021-03-11T16:22:31.025544Z"
    }
   },
   "outputs": [
    {
     "data": {
      "text/plain": [
       "['East', 'West', 'North', 'South']"
      ]
     },
     "execution_count": 2,
     "metadata": {},
     "output_type": "execute_result"
    }
   ],
   "source": [
    "xl_file = 'inputs/Region wise Sales Data.xlsx'\n",
    "read_excel_sheets(xl_file, return_type='list')"
   ]
  },
  {
   "cell_type": "code",
   "execution_count": 3,
   "metadata": {
    "ExecuteTime": {
     "end_time": "2021-03-11T16:22:31.691186Z",
     "start_time": "2021-03-11T16:22:31.404353Z"
    }
   },
   "outputs": [
    {
     "name": "stderr",
     "output_type": "stream",
     "text": [
      "sheet: East, (rows, cols) (341, 7)\n"
     ]
    },
    {
     "name": "stderr",
     "output_type": "stream",
     "text": [
      "sheet: West, (rows, cols) (324, 7)\n"
     ]
    },
    {
     "name": "stderr",
     "output_type": "stream",
     "text": [
      "sheet: North, (rows, cols) (362, 7)\n"
     ]
    },
    {
     "name": "stderr",
     "output_type": "stream",
     "text": [
      "sheet: South, (rows, cols) (276, 7)\n"
     ]
    }
   ],
   "source": [
    "df = read_excel_sheets(xl_file, skiprows=3, include_sheet=True, info=True)"
   ]
  },
  {
   "cell_type": "code",
   "execution_count": 4,
   "metadata": {
    "ExecuteTime": {
     "end_time": "2021-03-11T16:22:31.733484Z",
     "start_time": "2021-03-11T16:22:31.694546Z"
    }
   },
   "outputs": [
    {
     "name": "stderr",
     "output_type": "stream",
     "text": [
      "Use %piper/%%piper --info to see rendered pandas pipe statement\n"
     ]
    },
    {
     "name": "stderr",
     "output_type": "stream",
     "text": [
      "'list' object has no attribute 'pipe'\n"
     ]
    }
   ],
   "source": [
    "%%piper\n",
    "df \n",
    ">> clean_columns()\n",
    ">> relocate('sheet_name', 'after', 'date')\n",
    ">> relocate('sales_rep', 'after', 'price')\n",
    ">> rename(columns={'sheet_name': 'region', 'commission': 'comm_perc'})\n",
    ">> assign(comm_value=lambda x: x.quantity * x.price * x.comm_perc)\n",
    ">> head(10)"
   ]
  },
  {
   "cell_type": "code",
   "execution_count": 5,
   "metadata": {
    "ExecuteTime": {
     "end_time": "2021-03-11T16:22:31.777000Z",
     "start_time": "2021-03-11T16:22:31.735424Z"
    }
   },
   "outputs": [
    {
     "name": "stderr",
     "output_type": "stream",
     "text": [
      "Use %piper/%%piper --info to see rendered pandas pipe statement\n"
     ]
    },
    {
     "name": "stderr",
     "output_type": "stream",
     "text": [
      "'list' object has no attribute 'pipe'\n"
     ]
    }
   ],
   "source": [
    "%%piper\n",
    "df \n",
    ">> clean_columns()\n",
    ">> count('item')\n",
    ">> adorn(ignore_row_index=True)"
   ]
  },
  {
   "cell_type": "code",
   "execution_count": 6,
   "metadata": {
    "ExecuteTime": {
     "end_time": "2021-03-11T16:22:31.835312Z",
     "start_time": "2021-03-11T16:22:31.780827Z"
    }
   },
   "outputs": [
    {
     "name": "stderr",
     "output_type": "stream",
     "text": [
      "Use %piper/%%piper --info to see rendered pandas pipe statement\n"
     ]
    },
    {
     "name": "stderr",
     "output_type": "stream",
     "text": [
      "'list' object has no attribute 'pipe'\n"
     ]
    }
   ],
   "source": [
    "%%piper\n",
    "df \n",
    ">> clean_columns()\n",
    ">> count('sales_rep')\n",
    ">> adorn(ignore_row_index=True)"
   ]
  },
  {
   "cell_type": "code",
   "execution_count": 7,
   "metadata": {
    "ExecuteTime": {
     "end_time": "2021-03-11T16:22:31.882515Z",
     "start_time": "2021-03-11T16:22:31.838020Z"
    }
   },
   "outputs": [
    {
     "name": "stderr",
     "output_type": "stream",
     "text": [
      "Use %piper/%%piper --info to see rendered pandas pipe statement\n"
     ]
    },
    {
     "name": "stderr",
     "output_type": "stream",
     "text": [
      "'list' object has no attribute 'pipe'\n"
     ]
    }
   ],
   "source": [
    "%%piper\n",
    "df \n",
    ">> clean_columns()\n",
    ">> count('sheet_name')\n",
    ">> adorn(ignore_row_index=True)"
   ]
  },
  {
   "cell_type": "code",
   "execution_count": null,
   "metadata": {},
   "outputs": [],
   "source": []
  },
  {
   "cell_type": "code",
   "execution_count": null,
   "metadata": {},
   "outputs": [],
   "source": []
  },
  {
   "cell_type": "code",
   "execution_count": null,
   "metadata": {},
   "outputs": [],
   "source": []
  }
 ],
 "metadata": {
  "kernelspec": {
   "display_name": "Python 3",
   "language": "python",
   "name": "python3"
  },
  "language_info": {
   "codemirror_mode": {
    "name": "ipython",
    "version": 3
   },
   "file_extension": ".py",
   "mimetype": "text/x-python",
   "name": "python",
   "nbconvert_exporter": "python",
   "pygments_lexer": "ipython3",
   "version": "3.8.5"
  },
  "toc": {
   "base_numbering": 1,
   "nav_menu": {},
   "number_sections": true,
   "sideBar": true,
   "skip_h1_title": false,
   "title_cell": "Table of Contents",
   "title_sidebar": "Contents",
   "toc_cell": false,
   "toc_position": {},
   "toc_section_display": true,
   "toc_window_display": false
  }
 },
 "nbformat": 4,
 "nbformat_minor": 4
}
