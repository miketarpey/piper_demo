{
 "cells": [
  {
   "cell_type": "code",
   "execution_count": 1,
   "metadata": {
    "ExecuteTime": {
     "end_time": "2021-02-10T19:35:28.959355Z",
     "start_time": "2021-02-10T19:35:28.503802Z"
    }
   },
   "outputs": [
    {
     "name": "stderr",
     "output_type": "stream",
     "text": [
      "piper version 0.0.7, last run: Friday, 19 February 2021 12:12:12\n"
     ]
    }
   ],
   "source": [
    "from piper import piper\n",
    "from piper.verbs import *\n",
    "from piper.factory import get_sample_data"
   ]
  },
  {
   "cell_type": "code",
   "execution_count": 2,
   "metadata": {
    "ExecuteTime": {
     "end_time": "2021-02-10T19:35:28.974306Z",
     "start_time": "2021-02-10T19:35:28.960970Z"
    }
   },
   "outputs": [],
   "source": [
    "df = get_sample_data() "
   ]
  },
  {
   "cell_type": "code",
   "execution_count": 3,
   "metadata": {
    "ExecuteTime": {
     "end_time": "2021-02-10T19:35:29.010902Z",
     "start_time": "2021-02-10T19:35:28.976857Z"
    }
   },
   "outputs": [
    {
     "name": "stderr",
     "output_type": "stream",
     "text": [
      "83 rows, 5 columns\n"
     ]
    },
    {
     "data": {
      "text/html": [
       "<div>\n",
       "<style scoped>\n",
       "    .dataframe tbody tr th:only-of-type {\n",
       "        vertical-align: middle;\n",
       "    }\n",
       "\n",
       "    .dataframe tbody tr th {\n",
       "        vertical-align: top;\n",
       "    }\n",
       "\n",
       "    .dataframe thead th {\n",
       "        text-align: right;\n",
       "    }\n",
       "</style>\n",
       "<table border=\"1\" class=\"dataframe\">\n",
       "  <thead>\n",
       "    <tr style=\"text-align: right;\">\n",
       "      <th></th>\n",
       "      <th>dates</th>\n",
       "      <th>regions</th>\n",
       "      <th>order_dates</th>\n",
       "      <th>ids</th>\n",
       "      <th>values_1</th>\n",
       "    </tr>\n",
       "  </thead>\n",
       "  <tbody>\n",
       "    <tr>\n",
       "      <th>5</th>\n",
       "      <td>2020-01-06</td>\n",
       "      <td>North</td>\n",
       "      <td>2020-01-12</td>\n",
       "      <td>D</td>\n",
       "      <td>155</td>\n",
       "    </tr>\n",
       "    <tr>\n",
       "      <th>9</th>\n",
       "      <td>2020-01-10</td>\n",
       "      <td>North</td>\n",
       "      <td>2020-01-16</td>\n",
       "      <td>C</td>\n",
       "      <td>331</td>\n",
       "    </tr>\n",
       "    <tr>\n",
       "      <th>10</th>\n",
       "      <td>2020-01-11</td>\n",
       "      <td>North</td>\n",
       "      <td>2020-01-17</td>\n",
       "      <td>A</td>\n",
       "      <td>187</td>\n",
       "    </tr>\n",
       "    <tr>\n",
       "      <th>12</th>\n",
       "      <td>2020-01-13</td>\n",
       "      <td>North</td>\n",
       "      <td>2020-01-19</td>\n",
       "      <td>B</td>\n",
       "      <td>28</td>\n",
       "    </tr>\n",
       "  </tbody>\n",
       "</table>\n",
       "</div>"
      ],
      "text/plain": [
       "        dates regions order_dates ids  values_1\n",
       "5  2020-01-06   North  2020-01-12   D       155\n",
       "9  2020-01-10   North  2020-01-16   C       331\n",
       "10 2020-01-11   North  2020-01-17   A       187\n",
       "12 2020-01-13   North  2020-01-19   B        28"
      ]
     },
     "execution_count": 3,
     "metadata": {},
     "output_type": "execute_result"
    }
   ],
   "source": [
    "%%piper\n",
    "df\n",
    ">> select(['-countries', '-values_2'])\n",
    ">> move_column('regions', 'before', 'order_dates')\n",
    ">> where(\"(dates > '2020-01') & (regions == 'North')\")\n",
    ">> order_by(['dates', 'regions', 'order_dates', 'ids'])\n",
    ">> head()\n",
    "# >> columns(astype='list')"
   ]
  },
  {
   "cell_type": "code",
   "execution_count": 4,
   "metadata": {
    "ExecuteTime": {
     "end_time": "2021-02-10T19:35:29.064880Z",
     "start_time": "2021-02-10T19:35:29.014044Z"
    }
   },
   "outputs": [
    {
     "name": "stderr",
     "output_type": "stream",
     "text": [
      "Dataframe with (rows, cols) (367, 7) consumes 0.08 Mb\n"
     ]
    },
    {
     "data": {
      "text/html": [
       "<div>\n",
       "<style scoped>\n",
       "    .dataframe tbody tr th:only-of-type {\n",
       "        vertical-align: middle;\n",
       "    }\n",
       "\n",
       "    .dataframe tbody tr th {\n",
       "        vertical-align: top;\n",
       "    }\n",
       "\n",
       "    .dataframe thead th {\n",
       "        text-align: right;\n",
       "    }\n",
       "</style>\n",
       "<table border=\"1\" class=\"dataframe\">\n",
       "  <thead>\n",
       "    <tr style=\"text-align: right;\">\n",
       "      <th></th>\n",
       "      <th>0</th>\n",
       "      <th>1</th>\n",
       "      <th>2</th>\n",
       "      <th>3</th>\n",
       "      <th>4</th>\n",
       "      <th>5</th>\n",
       "      <th>6</th>\n",
       "    </tr>\n",
       "  </thead>\n",
       "  <tbody>\n",
       "    <tr>\n",
       "      <th>columns</th>\n",
       "      <td>dates</td>\n",
       "      <td>order_dates</td>\n",
       "      <td>countries</td>\n",
       "      <td>regions</td>\n",
       "      <td>ids</td>\n",
       "      <td>values_1</td>\n",
       "      <td>values_2</td>\n",
       "    </tr>\n",
       "    <tr>\n",
       "      <th>data_type</th>\n",
       "      <td>datetime64[ns]</td>\n",
       "      <td>datetime64[ns]</td>\n",
       "      <td>object</td>\n",
       "      <td>object</td>\n",
       "      <td>object</td>\n",
       "      <td>int64</td>\n",
       "      <td>int64</td>\n",
       "    </tr>\n",
       "    <tr>\n",
       "      <th>unique</th>\n",
       "      <td>367</td>\n",
       "      <td>367</td>\n",
       "      <td>8</td>\n",
       "      <td>4</td>\n",
       "      <td>5</td>\n",
       "      <td>237</td>\n",
       "      <td>240</td>\n",
       "    </tr>\n",
       "    <tr>\n",
       "      <th>isna</th>\n",
       "      <td>0</td>\n",
       "      <td>0</td>\n",
       "      <td>0</td>\n",
       "      <td>0</td>\n",
       "      <td>0</td>\n",
       "      <td>0</td>\n",
       "      <td>0</td>\n",
       "    </tr>\n",
       "    <tr>\n",
       "      <th>isnull</th>\n",
       "      <td>0</td>\n",
       "      <td>0</td>\n",
       "      <td>0</td>\n",
       "      <td>0</td>\n",
       "      <td>0</td>\n",
       "      <td>0</td>\n",
       "      <td>0</td>\n",
       "    </tr>\n",
       "    <tr>\n",
       "      <th>total_count</th>\n",
       "      <td>367</td>\n",
       "      <td>367</td>\n",
       "      <td>367</td>\n",
       "      <td>367</td>\n",
       "      <td>367</td>\n",
       "      <td>367</td>\n",
       "      <td>367</td>\n",
       "    </tr>\n",
       "  </tbody>\n",
       "</table>\n",
       "</div>"
      ],
      "text/plain": [
       "                          0               1          2        3       4  \\\n",
       "columns               dates     order_dates  countries  regions     ids   \n",
       "data_type    datetime64[ns]  datetime64[ns]     object   object  object   \n",
       "unique                  367             367          8        4       5   \n",
       "isna                      0               0          0        0       0   \n",
       "isnull                    0               0          0        0       0   \n",
       "total_count             367             367        367      367     367   \n",
       "\n",
       "                    5         6  \n",
       "columns      values_1  values_2  \n",
       "data_type       int64     int64  \n",
       "unique            237       240  \n",
       "isna                0         0  \n",
       "isnull              0         0  \n",
       "total_count       367       367  "
      ]
     },
     "execution_count": 4,
     "metadata": {},
     "output_type": "execute_result"
    }
   ],
   "source": [
    "info(df).T"
   ]
  },
  {
   "cell_type": "code",
   "execution_count": 5,
   "metadata": {
    "ExecuteTime": {
     "end_time": "2021-02-10T19:35:29.071462Z",
     "start_time": "2021-02-10T19:35:29.066873Z"
    }
   },
   "outputs": [
    {
     "data": {
      "text/plain": [
       "{'dates': 'dates',\n",
       " 'order_dates': 'order_dates',\n",
       " 'countries': 'countries',\n",
       " 'regions': 'regions',\n",
       " 'ids': 'ids',\n",
       " 'values_1': 'values_1',\n",
       " 'values_2': 'values_2'}"
      ]
     },
     "execution_count": 5,
     "metadata": {},
     "output_type": "execute_result"
    }
   ],
   "source": [
    "columns(df, astype='dict')"
   ]
  },
  {
   "cell_type": "code",
   "execution_count": 6,
   "metadata": {
    "ExecuteTime": {
     "end_time": "2021-02-10T19:35:29.126289Z",
     "start_time": "2021-02-10T19:35:29.073892Z"
    }
   },
   "outputs": [
    {
     "data": {
      "text/html": [
       "<div>\n",
       "<style scoped>\n",
       "    .dataframe tbody tr th:only-of-type {\n",
       "        vertical-align: middle;\n",
       "    }\n",
       "\n",
       "    .dataframe tbody tr th {\n",
       "        vertical-align: top;\n",
       "    }\n",
       "\n",
       "    .dataframe thead th {\n",
       "        text-align: right;\n",
       "    }\n",
       "</style>\n",
       "<table border=\"1\" class=\"dataframe\">\n",
       "  <thead>\n",
       "    <tr style=\"text-align: right;\">\n",
       "      <th></th>\n",
       "      <th>count</th>\n",
       "      <th>mean</th>\n",
       "      <th>std</th>\n",
       "      <th>min</th>\n",
       "      <th>25%</th>\n",
       "      <th>50%</th>\n",
       "      <th>75%</th>\n",
       "      <th>max</th>\n",
       "    </tr>\n",
       "  </thead>\n",
       "  <tbody>\n",
       "    <tr>\n",
       "      <th>values_1</th>\n",
       "      <td>367.0</td>\n",
       "      <td>200.555858</td>\n",
       "      <td>115.633685</td>\n",
       "      <td>11.0</td>\n",
       "      <td>97.0</td>\n",
       "      <td>195.0</td>\n",
       "      <td>303.0</td>\n",
       "      <td>399.0</td>\n",
       "    </tr>\n",
       "    <tr>\n",
       "      <th>values_2</th>\n",
       "      <td>367.0</td>\n",
       "      <td>204.803815</td>\n",
       "      <td>114.050701</td>\n",
       "      <td>11.0</td>\n",
       "      <td>107.0</td>\n",
       "      <td>203.0</td>\n",
       "      <td>306.0</td>\n",
       "      <td>397.0</td>\n",
       "    </tr>\n",
       "  </tbody>\n",
       "</table>\n",
       "</div>"
      ],
      "text/plain": [
       "          count        mean         std   min    25%    50%    75%    max\n",
       "values_1  367.0  200.555858  115.633685  11.0   97.0  195.0  303.0  399.0\n",
       "values_2  367.0  204.803815  114.050701  11.0  107.0  203.0  306.0  397.0"
      ]
     },
     "execution_count": 6,
     "metadata": {},
     "output_type": "execute_result"
    }
   ],
   "source": [
    "df.describe().T"
   ]
  },
  {
   "cell_type": "code",
   "execution_count": 7,
   "metadata": {
    "ExecuteTime": {
     "end_time": "2021-02-10T19:35:29.182890Z",
     "start_time": "2021-02-10T19:35:29.128464Z"
    }
   },
   "outputs": [
    {
     "name": "stderr",
     "output_type": "stream",
     "text": [
      "5 rows, 7 columns\n"
     ]
    },
    {
     "data": {
      "text/html": [
       "<div>\n",
       "<style scoped>\n",
       "    .dataframe tbody tr th:only-of-type {\n",
       "        vertical-align: middle;\n",
       "    }\n",
       "\n",
       "    .dataframe tbody tr th {\n",
       "        vertical-align: top;\n",
       "    }\n",
       "\n",
       "    .dataframe thead th {\n",
       "        text-align: right;\n",
       "    }\n",
       "</style>\n",
       "<table border=\"1\" class=\"dataframe\">\n",
       "  <thead>\n",
       "    <tr style=\"text-align: right;\">\n",
       "      <th></th>\n",
       "      <th>countries</th>\n",
       "      <th>regions</th>\n",
       "      <th>dates</th>\n",
       "      <th>order_dates</th>\n",
       "      <th>values_1</th>\n",
       "      <th>new_calc_field</th>\n",
       "      <th>catted_field</th>\n",
       "    </tr>\n",
       "  </thead>\n",
       "  <tbody>\n",
       "    <tr>\n",
       "      <th>0</th>\n",
       "      <td>France</td>\n",
       "      <td>South</td>\n",
       "      <td>2020-01-22</td>\n",
       "      <td>2020-01-28</td>\n",
       "      <td>72</td>\n",
       "      <td>288</td>\n",
       "      <td>France_South</td>\n",
       "    </tr>\n",
       "    <tr>\n",
       "      <th>1</th>\n",
       "      <td>France</td>\n",
       "      <td>West</td>\n",
       "      <td>2020-01-27</td>\n",
       "      <td>2020-02-02</td>\n",
       "      <td>65</td>\n",
       "      <td>260</td>\n",
       "      <td>France_West</td>\n",
       "    </tr>\n",
       "    <tr>\n",
       "      <th>2</th>\n",
       "      <td>France</td>\n",
       "      <td>East</td>\n",
       "      <td>2020-02-25</td>\n",
       "      <td>2020-03-02</td>\n",
       "      <td>54</td>\n",
       "      <td>216</td>\n",
       "      <td>France_East</td>\n",
       "    </tr>\n",
       "    <tr>\n",
       "      <th>3</th>\n",
       "      <td>Germany</td>\n",
       "      <td>North</td>\n",
       "      <td>2020-08-20</td>\n",
       "      <td>2020-08-26</td>\n",
       "      <td>64</td>\n",
       "      <td>256</td>\n",
       "      <td>Germany_North</td>\n",
       "    </tr>\n",
       "    <tr>\n",
       "      <th>4</th>\n",
       "      <td>France</td>\n",
       "      <td>West</td>\n",
       "      <td>2020-08-24</td>\n",
       "      <td>2020-08-30</td>\n",
       "      <td>64</td>\n",
       "      <td>256</td>\n",
       "      <td>France_West</td>\n",
       "    </tr>\n",
       "  </tbody>\n",
       "</table>\n",
       "</div>"
      ],
      "text/plain": [
       "  countries regions      dates order_dates  values_1  new_calc_field  \\\n",
       "0    France   South 2020-01-22  2020-01-28        72             288   \n",
       "1    France    West 2020-01-27  2020-02-02        65             260   \n",
       "2    France    East 2020-02-25  2020-03-02        54             216   \n",
       "3   Germany   North 2020-08-20  2020-08-26        64             256   \n",
       "4    France    West 2020-08-24  2020-08-30        64             256   \n",
       "\n",
       "    catted_field  \n",
       "0   France_South  \n",
       "1    France_West  \n",
       "2    France_East  \n",
       "3  Germany_North  \n",
       "4    France_West  "
      ]
     },
     "execution_count": 7,
     "metadata": {},
     "output_type": "execute_result"
    }
   ],
   "source": [
    "%%piper\n",
    "df \n",
    ">> select('-values_2')\n",
    ">> where(\"\"\" countries.isin(['France', 'Germany'])\n",
    "             and ids == 'A'\n",
    "             and values_1.between(50, 107)\n",
    "             and dates >= '2020-01-01'\n",
    "             and dates <= '2020-09-01'\n",
    "         \"\"\")\n",
    ">> assign(new_calc_field = lambda x: x.values_1 * 4)\n",
    ">> assign(catted_field = lambda x: x.countries + '_' + x.regions)\n",
    ">> drop(columns='ids')\n",
    ">> move_column('countries', loc='before', ref_column='dates')\n",
    ">> move_column('regions', loc='after', ref_column='countries')\n",
    ">> pd.DataFrame.reset_index(drop=True)\n",
    "# >> group_by('countries')\n",
    "# >> summarise({'values_1': 'sum'})\n",
    "# >> pd.DataFrame.reset_index()\n",
    ">> tail(10)"
   ]
  },
  {
   "cell_type": "code",
   "execution_count": 8,
   "metadata": {
    "ExecuteTime": {
     "end_time": "2021-02-10T19:35:29.235479Z",
     "start_time": "2021-02-10T19:35:29.185646Z"
    }
   },
   "outputs": [
    {
     "name": "stderr",
     "output_type": "stream",
     "text": [
      "5 rows, 6 columns\n"
     ]
    },
    {
     "data": {
      "text/html": [
       "<div>\n",
       "<style scoped>\n",
       "    .dataframe tbody tr th:only-of-type {\n",
       "        vertical-align: middle;\n",
       "    }\n",
       "\n",
       "    .dataframe tbody tr th {\n",
       "        vertical-align: top;\n",
       "    }\n",
       "\n",
       "    .dataframe thead th {\n",
       "        text-align: right;\n",
       "    }\n",
       "</style>\n",
       "<table border=\"1\" class=\"dataframe\">\n",
       "  <thead>\n",
       "    <tr style=\"text-align: right;\">\n",
       "      <th></th>\n",
       "      <th>dates</th>\n",
       "      <th>order_dates</th>\n",
       "      <th>countries</th>\n",
       "      <th>regions</th>\n",
       "      <th>ids</th>\n",
       "      <th>values_1</th>\n",
       "    </tr>\n",
       "  </thead>\n",
       "  <tbody>\n",
       "    <tr>\n",
       "      <th>0</th>\n",
       "      <td>2020-01-22</td>\n",
       "      <td>2020-01-28</td>\n",
       "      <td>France</td>\n",
       "      <td>South</td>\n",
       "      <td>A</td>\n",
       "      <td>72</td>\n",
       "    </tr>\n",
       "    <tr>\n",
       "      <th>1</th>\n",
       "      <td>2020-01-27</td>\n",
       "      <td>2020-02-02</td>\n",
       "      <td>France</td>\n",
       "      <td>West</td>\n",
       "      <td>A</td>\n",
       "      <td>65</td>\n",
       "    </tr>\n",
       "    <tr>\n",
       "      <th>2</th>\n",
       "      <td>2020-02-25</td>\n",
       "      <td>2020-03-02</td>\n",
       "      <td>France</td>\n",
       "      <td>East</td>\n",
       "      <td>A</td>\n",
       "      <td>54</td>\n",
       "    </tr>\n",
       "    <tr>\n",
       "      <th>3</th>\n",
       "      <td>2020-08-20</td>\n",
       "      <td>2020-08-26</td>\n",
       "      <td>Germany</td>\n",
       "      <td>North</td>\n",
       "      <td>A</td>\n",
       "      <td>64</td>\n",
       "    </tr>\n",
       "    <tr>\n",
       "      <th>4</th>\n",
       "      <td>2020-08-24</td>\n",
       "      <td>2020-08-30</td>\n",
       "      <td>France</td>\n",
       "      <td>West</td>\n",
       "      <td>A</td>\n",
       "      <td>64</td>\n",
       "    </tr>\n",
       "  </tbody>\n",
       "</table>\n",
       "</div>"
      ],
      "text/plain": [
       "       dates order_dates countries regions ids  values_1\n",
       "0 2020-01-22  2020-01-28    France   South   A        72\n",
       "1 2020-01-27  2020-02-02    France    West   A        65\n",
       "2 2020-02-25  2020-03-02    France    East   A        54\n",
       "3 2020-08-20  2020-08-26   Germany   North   A        64\n",
       "4 2020-08-24  2020-08-30    France    West   A        64"
      ]
     },
     "execution_count": 8,
     "metadata": {},
     "output_type": "execute_result"
    }
   ],
   "source": [
    "%%piper -r\n",
    "df \n",
    "%>% select('-values_2')\n",
    "%>% where(\"\"\" countries.isin(['France', 'Germany'])\n",
    "              and ids == 'A'\n",
    "              and values_1.between(50, 107)\n",
    "              and dates >= '2020-01-01'\n",
    "              and dates <= '2020-09-01'\n",
    "          \"\"\")\n",
    "%>% pd.DataFrame.reset_index(drop=True)\n",
    "%>% tail(10)"
   ]
  },
  {
   "cell_type": "code",
   "execution_count": 9,
   "metadata": {
    "ExecuteTime": {
     "end_time": "2021-02-10T19:35:29.263431Z",
     "start_time": "2021-02-10T19:35:29.237685Z"
    }
   },
   "outputs": [
    {
     "name": "stderr",
     "output_type": "stream",
     "text": [
      "5 rows, 6 columns\n"
     ]
    }
   ],
   "source": [
    "%%piper -r\n",
    "df2 <- df \n",
    "%>% select('-values_2')\n",
    "%>% where(\"\"\" countries.isin(['France', 'Germany'])\n",
    "              and ids == 'A'\n",
    "              and values_1.between(50, 107)\n",
    "              and dates >= '2020-01-01'\n",
    "              and dates <= '2020-09-01'\n",
    "          \"\"\")\n",
    "%>% pd.DataFrame.reset_index(drop=True)\n",
    "%>% tail(10)"
   ]
  },
  {
   "cell_type": "code",
   "execution_count": 10,
   "metadata": {
    "ExecuteTime": {
     "end_time": "2021-02-10T19:35:29.279827Z",
     "start_time": "2021-02-10T19:35:29.265396Z"
    }
   },
   "outputs": [
    {
     "data": {
      "text/html": [
       "<div>\n",
       "<style scoped>\n",
       "    .dataframe tbody tr th:only-of-type {\n",
       "        vertical-align: middle;\n",
       "    }\n",
       "\n",
       "    .dataframe tbody tr th {\n",
       "        vertical-align: top;\n",
       "    }\n",
       "\n",
       "    .dataframe thead th {\n",
       "        text-align: right;\n",
       "    }\n",
       "</style>\n",
       "<table border=\"1\" class=\"dataframe\">\n",
       "  <thead>\n",
       "    <tr style=\"text-align: right;\">\n",
       "      <th></th>\n",
       "      <th>dates</th>\n",
       "      <th>order_dates</th>\n",
       "      <th>countries</th>\n",
       "      <th>regions</th>\n",
       "      <th>ids</th>\n",
       "      <th>values_1</th>\n",
       "    </tr>\n",
       "  </thead>\n",
       "  <tbody>\n",
       "    <tr>\n",
       "      <th>0</th>\n",
       "      <td>2020-01-22</td>\n",
       "      <td>2020-01-28</td>\n",
       "      <td>France</td>\n",
       "      <td>South</td>\n",
       "      <td>A</td>\n",
       "      <td>72</td>\n",
       "    </tr>\n",
       "    <tr>\n",
       "      <th>1</th>\n",
       "      <td>2020-01-27</td>\n",
       "      <td>2020-02-02</td>\n",
       "      <td>France</td>\n",
       "      <td>West</td>\n",
       "      <td>A</td>\n",
       "      <td>65</td>\n",
       "    </tr>\n",
       "    <tr>\n",
       "      <th>2</th>\n",
       "      <td>2020-02-25</td>\n",
       "      <td>2020-03-02</td>\n",
       "      <td>France</td>\n",
       "      <td>East</td>\n",
       "      <td>A</td>\n",
       "      <td>54</td>\n",
       "    </tr>\n",
       "    <tr>\n",
       "      <th>3</th>\n",
       "      <td>2020-08-20</td>\n",
       "      <td>2020-08-26</td>\n",
       "      <td>Germany</td>\n",
       "      <td>North</td>\n",
       "      <td>A</td>\n",
       "      <td>64</td>\n",
       "    </tr>\n",
       "    <tr>\n",
       "      <th>4</th>\n",
       "      <td>2020-08-24</td>\n",
       "      <td>2020-08-30</td>\n",
       "      <td>France</td>\n",
       "      <td>West</td>\n",
       "      <td>A</td>\n",
       "      <td>64</td>\n",
       "    </tr>\n",
       "  </tbody>\n",
       "</table>\n",
       "</div>"
      ],
      "text/plain": [
       "       dates order_dates countries regions ids  values_1\n",
       "0 2020-01-22  2020-01-28    France   South   A        72\n",
       "1 2020-01-27  2020-02-02    France    West   A        65\n",
       "2 2020-02-25  2020-03-02    France    East   A        54\n",
       "3 2020-08-20  2020-08-26   Germany   North   A        64\n",
       "4 2020-08-24  2020-08-30    France    West   A        64"
      ]
     },
     "execution_count": 10,
     "metadata": {},
     "output_type": "execute_result"
    }
   ],
   "source": [
    "%piper df2"
   ]
  },
  {
   "cell_type": "code",
   "execution_count": null,
   "metadata": {},
   "outputs": [],
   "source": []
  },
  {
   "cell_type": "code",
   "execution_count": null,
   "metadata": {},
   "outputs": [],
   "source": []
  },
  {
   "cell_type": "code",
   "execution_count": null,
   "metadata": {},
   "outputs": [],
   "source": []
  }
 ],
 "metadata": {
  "kernelspec": {
   "display_name": "linux_academy",
   "language": "python",
   "name": "linux_academy"
  },
  "language_info": {
   "codemirror_mode": {
    "name": "ipython",
    "version": 3
   },
   "file_extension": ".py",
   "mimetype": "text/x-python",
   "name": "python",
   "nbconvert_exporter": "python",
   "pygments_lexer": "ipython3",
   "version": "3.8.5"
  },
  "toc": {
   "base_numbering": 1,
   "nav_menu": {},
   "number_sections": true,
   "sideBar": true,
   "skip_h1_title": false,
   "title_cell": "Table of Contents",
   "title_sidebar": "Contents",
   "toc_cell": false,
   "toc_position": {},
   "toc_section_display": true,
   "toc_window_display": false
  },
  "toc-autonumbering": false
 },
 "nbformat": 4,
 "nbformat_minor": 4
}
