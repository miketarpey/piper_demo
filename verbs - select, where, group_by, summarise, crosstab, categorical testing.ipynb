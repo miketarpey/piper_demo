{
 "cells": [
  {
   "cell_type": "markdown",
   "metadata": {
    "ExecuteTime": {
     "end_time": "2020-08-07T18:34:50.657741Z",
     "start_time": "2020-08-07T18:34:50.654732Z"
    }
   },
   "source": [
    "# Setup"
   ]
  },
  {
   "cell_type": "code",
   "execution_count": 1,
   "metadata": {
    "ExecuteTime": {
     "end_time": "2021-03-29T12:08:33.070643Z",
     "start_time": "2021-03-29T12:08:32.523473Z"
    }
   },
   "outputs": [
    {
     "name": "stderr",
     "output_type": "stream",
     "text": [
      "piper v0.1.0: Monday, 29 March 2021 19:08:11\n"
     ]
    }
   ],
   "source": [
    "from piper.defaults import *\n",
    "from piper.jde import *"
   ]
  },
  {
   "cell_type": "markdown",
   "metadata": {
    "ExecuteTime": {
     "end_time": "2020-08-07T18:34:50.657741Z",
     "start_time": "2020-08-07T18:34:50.654732Z"
    }
   },
   "source": [
    "# Importing data into a dataframe"
   ]
  },
  {
   "cell_type": "code",
   "execution_count": 2,
   "metadata": {
    "ExecuteTime": {
     "end_time": "2021-03-29T12:08:33.126081Z",
     "start_time": "2021-03-29T12:08:33.080404Z"
    }
   },
   "outputs": [
    {
     "name": "stderr",
     "output_type": "stream",
     "text": [
      "367 rows, 7 columns\n"
     ]
    },
    {
     "data": {
      "text/html": [
       "<div>\n",
       "<style scoped>\n",
       "    .dataframe tbody tr th:only-of-type {\n",
       "        vertical-align: middle;\n",
       "    }\n",
       "\n",
       "    .dataframe tbody tr th {\n",
       "        vertical-align: top;\n",
       "    }\n",
       "\n",
       "    .dataframe thead th {\n",
       "        text-align: right;\n",
       "    }\n",
       "</style>\n",
       "<table border=\"1\" class=\"dataframe\">\n",
       "  <thead>\n",
       "    <tr style=\"text-align: right;\">\n",
       "      <th></th>\n",
       "      <th>dates</th>\n",
       "      <th>order_dates</th>\n",
       "      <th>countries</th>\n",
       "      <th>regions</th>\n",
       "      <th>ids</th>\n",
       "      <th>values_1</th>\n",
       "      <th>values_2</th>\n",
       "    </tr>\n",
       "  </thead>\n",
       "  <tbody>\n",
       "    <tr>\n",
       "      <th>0</th>\n",
       "      <td>2020-01-01</td>\n",
       "      <td>2020-01-07</td>\n",
       "      <td>Italy</td>\n",
       "      <td>East</td>\n",
       "      <td>A</td>\n",
       "      <td>311</td>\n",
       "      <td>26</td>\n",
       "    </tr>\n",
       "    <tr>\n",
       "      <th>1</th>\n",
       "      <td>2020-01-02</td>\n",
       "      <td>2020-01-08</td>\n",
       "      <td>Portugal</td>\n",
       "      <td>South</td>\n",
       "      <td>D</td>\n",
       "      <td>150</td>\n",
       "      <td>375</td>\n",
       "    </tr>\n",
       "    <tr>\n",
       "      <th>2</th>\n",
       "      <td>2020-01-03</td>\n",
       "      <td>2020-01-09</td>\n",
       "      <td>Spain</td>\n",
       "      <td>East</td>\n",
       "      <td>A</td>\n",
       "      <td>396</td>\n",
       "      <td>88</td>\n",
       "    </tr>\n",
       "    <tr>\n",
       "      <th>3</th>\n",
       "      <td>2020-01-04</td>\n",
       "      <td>2020-01-10</td>\n",
       "      <td>Italy</td>\n",
       "      <td>East</td>\n",
       "      <td>B</td>\n",
       "      <td>319</td>\n",
       "      <td>233</td>\n",
       "    </tr>\n",
       "  </tbody>\n",
       "</table>\n",
       "</div>"
      ],
      "text/plain": [
       "       dates order_dates countries regions ids  values_1  values_2\n",
       "0 2020-01-01  2020-01-07     Italy    East   A       311        26\n",
       "1 2020-01-02  2020-01-08  Portugal   South   D       150       375\n",
       "2 2020-01-03  2020-01-09     Spain    East   A       396        88\n",
       "3 2020-01-04  2020-01-10     Italy    East   B       319       233"
      ]
     },
     "execution_count": 2,
     "metadata": {},
     "output_type": "execute_result"
    }
   ],
   "source": [
    "%piper df <- sample_data()\n",
    "%piper df >> head()"
   ]
  },
  {
   "cell_type": "markdown",
   "metadata": {
    "ExecuteTime": {
     "end_time": "2020-08-07T18:34:50.657741Z",
     "start_time": "2020-08-07T18:34:50.654732Z"
    }
   },
   "source": [
    "## count() / counts()"
   ]
  },
  {
   "cell_type": "code",
   "execution_count": 3,
   "metadata": {
    "ExecuteTime": {
     "end_time": "2021-03-29T12:08:33.198681Z",
     "start_time": "2021-03-29T12:08:33.138967Z"
    },
    "scrolled": true
   },
   "outputs": [
    {
     "name": "stderr",
     "output_type": "stream",
     "text": [
      "9 rows, 3 columns\n"
     ]
    },
    {
     "data": {
      "text/html": [
       "<div>\n",
       "<style scoped>\n",
       "    .dataframe tbody tr th:only-of-type {\n",
       "        vertical-align: middle;\n",
       "    }\n",
       "\n",
       "    .dataframe tbody tr th {\n",
       "        vertical-align: top;\n",
       "    }\n",
       "\n",
       "    .dataframe thead th {\n",
       "        text-align: right;\n",
       "    }\n",
       "</style>\n",
       "<table border=\"1\" class=\"dataframe\">\n",
       "  <thead>\n",
       "    <tr style=\"text-align: right;\">\n",
       "      <th></th>\n",
       "      <th>n</th>\n",
       "      <th>%</th>\n",
       "      <th>cum %</th>\n",
       "    </tr>\n",
       "  </thead>\n",
       "  <tbody>\n",
       "    <tr>\n",
       "      <th>France</th>\n",
       "      <td>56</td>\n",
       "      <td>15.26</td>\n",
       "      <td>15.26</td>\n",
       "    </tr>\n",
       "    <tr>\n",
       "      <th>Italy</th>\n",
       "      <td>47</td>\n",
       "      <td>12.81</td>\n",
       "      <td>28.07</td>\n",
       "    </tr>\n",
       "    <tr>\n",
       "      <th>Spain</th>\n",
       "      <td>47</td>\n",
       "      <td>12.81</td>\n",
       "      <td>40.87</td>\n",
       "    </tr>\n",
       "    <tr>\n",
       "      <th>Norway</th>\n",
       "      <td>46</td>\n",
       "      <td>12.53</td>\n",
       "      <td>53.41</td>\n",
       "    </tr>\n",
       "  </tbody>\n",
       "</table>\n",
       "</div>"
      ],
      "text/plain": [
       "         n      %  cum %\n",
       "France  56  15.26  15.26\n",
       "Italy   47  12.81  28.07\n",
       "Spain   47  12.81  40.87\n",
       "Norway  46  12.53  53.41"
      ]
     },
     "execution_count": 3,
     "metadata": {},
     "output_type": "execute_result"
    }
   ],
   "source": [
    "%%piper\n",
    "df \n",
    ">> count('countries', totals=True)\n",
    ">> head()"
   ]
  },
  {
   "cell_type": "code",
   "execution_count": 4,
   "metadata": {
    "ExecuteTime": {
     "end_time": "2021-03-29T12:08:33.227287Z",
     "start_time": "2021-03-29T12:08:33.201013Z"
    },
    "scrolled": true
   },
   "outputs": [
    {
     "name": "stderr",
     "output_type": "stream",
     "text": [
      "8 rows, 3 columns\n"
     ]
    },
    {
     "data": {
      "text/html": [
       "<div>\n",
       "<style scoped>\n",
       "    .dataframe tbody tr th:only-of-type {\n",
       "        vertical-align: middle;\n",
       "    }\n",
       "\n",
       "    .dataframe tbody tr th {\n",
       "        vertical-align: top;\n",
       "    }\n",
       "\n",
       "    .dataframe thead th {\n",
       "        text-align: right;\n",
       "    }\n",
       "</style>\n",
       "<table border=\"1\" class=\"dataframe\">\n",
       "  <thead>\n",
       "    <tr style=\"text-align: right;\">\n",
       "      <th></th>\n",
       "      <th>n</th>\n",
       "      <th>%</th>\n",
       "      <th>cum %</th>\n",
       "    </tr>\n",
       "    <tr>\n",
       "      <th>countries</th>\n",
       "      <th></th>\n",
       "      <th></th>\n",
       "      <th></th>\n",
       "    </tr>\n",
       "  </thead>\n",
       "  <tbody>\n",
       "    <tr>\n",
       "      <th>France</th>\n",
       "      <td>56</td>\n",
       "      <td>15.26</td>\n",
       "      <td>15.26</td>\n",
       "    </tr>\n",
       "    <tr>\n",
       "      <th>Italy</th>\n",
       "      <td>47</td>\n",
       "      <td>12.81</td>\n",
       "      <td>28.07</td>\n",
       "    </tr>\n",
       "    <tr>\n",
       "      <th>Spain</th>\n",
       "      <td>47</td>\n",
       "      <td>12.81</td>\n",
       "      <td>40.87</td>\n",
       "    </tr>\n",
       "    <tr>\n",
       "      <th>Norway</th>\n",
       "      <td>46</td>\n",
       "      <td>12.53</td>\n",
       "      <td>53.41</td>\n",
       "    </tr>\n",
       "  </tbody>\n",
       "</table>\n",
       "</div>"
      ],
      "text/plain": [
       "            n      %  cum %\n",
       "countries                  \n",
       "France     56  15.26  15.26\n",
       "Italy      47  12.81  28.07\n",
       "Spain      47  12.81  40.87\n",
       "Norway     46  12.53  53.41"
      ]
     },
     "execution_count": 4,
     "metadata": {},
     "output_type": "execute_result"
    }
   ],
   "source": [
    "%%piper\n",
    "df \n",
    ">> count('countries')\n",
    ">> head()"
   ]
  },
  {
   "cell_type": "markdown",
   "metadata": {
    "ExecuteTime": {
     "end_time": "2020-08-07T18:34:50.657741Z",
     "start_time": "2020-08-07T18:34:50.654732Z"
    }
   },
   "source": [
    "## where()"
   ]
  },
  {
   "cell_type": "code",
   "execution_count": 5,
   "metadata": {
    "ExecuteTime": {
     "end_time": "2021-03-29T12:08:33.236410Z",
     "start_time": "2021-03-29T12:08:33.230460Z"
    }
   },
   "outputs": [],
   "source": [
    "query = \"regions == 'East' and countries.isin(['Italy'])\""
   ]
  },
  {
   "cell_type": "code",
   "execution_count": 6,
   "metadata": {
    "ExecuteTime": {
     "end_time": "2021-03-29T12:08:33.287878Z",
     "start_time": "2021-03-29T12:08:33.242790Z"
    },
    "scrolled": true
   },
   "outputs": [
    {
     "data": {
      "text/html": [
       "<div>\n",
       "<style scoped>\n",
       "    .dataframe tbody tr th:only-of-type {\n",
       "        vertical-align: middle;\n",
       "    }\n",
       "\n",
       "    .dataframe tbody tr th {\n",
       "        vertical-align: top;\n",
       "    }\n",
       "\n",
       "    .dataframe thead th {\n",
       "        text-align: right;\n",
       "    }\n",
       "</style>\n",
       "<table border=\"1\" class=\"dataframe\">\n",
       "  <thead>\n",
       "    <tr style=\"text-align: right;\">\n",
       "      <th></th>\n",
       "      <th></th>\n",
       "      <th>n</th>\n",
       "      <th>%</th>\n",
       "      <th>cum %</th>\n",
       "    </tr>\n",
       "    <tr>\n",
       "      <th>regions</th>\n",
       "      <th>countries</th>\n",
       "      <th></th>\n",
       "      <th></th>\n",
       "      <th></th>\n",
       "    </tr>\n",
       "  </thead>\n",
       "  <tbody>\n",
       "    <tr>\n",
       "      <th>East</th>\n",
       "      <th>Italy</th>\n",
       "      <td>17</td>\n",
       "      <td>100.0</td>\n",
       "      <td>100.0</td>\n",
       "    </tr>\n",
       "  </tbody>\n",
       "</table>\n",
       "</div>"
      ],
      "text/plain": [
       "                    n      %  cum %\n",
       "regions countries                  \n",
       "East    Italy      17  100.0  100.0"
      ]
     },
     "execution_count": 6,
     "metadata": {},
     "output_type": "execute_result"
    }
   ],
   "source": [
    "%%piper \n",
    "df \n",
    ">> where(query) \n",
    ">> count(columns=['regions', 'countries'],\n",
    "          percent=True,\n",
    "          cum_percent=True)\n",
    "# .loc[('East', 'Italy'), 'cum %']"
   ]
  },
  {
   "cell_type": "markdown",
   "metadata": {
    "ExecuteTime": {
     "end_time": "2020-08-07T18:34:50.657741Z",
     "start_time": "2020-08-07T18:34:50.654732Z"
    }
   },
   "source": [
    "### standard pandas"
   ]
  },
  {
   "cell_type": "code",
   "execution_count": 7,
   "metadata": {
    "ExecuteTime": {
     "end_time": "2021-03-29T12:08:33.317545Z",
     "start_time": "2021-03-29T12:08:33.291081Z"
    }
   },
   "outputs": [
    {
     "data": {
      "text/plain": [
       "100.0"
      ]
     },
     "execution_count": 7,
     "metadata": {},
     "output_type": "execute_result"
    }
   ],
   "source": [
    "df = df.query(query)\n",
    "df = count(df, ['regions', 'countries'], percent=True, cum_percent=True)\n",
    "df.loc[('East', 'Italy'), 'cum %']"
   ]
  },
  {
   "cell_type": "markdown",
   "metadata": {
    "ExecuteTime": {
     "end_time": "2020-08-07T18:34:50.657741Z",
     "start_time": "2020-08-07T18:34:50.654732Z"
    }
   },
   "source": [
    "## summarise()"
   ]
  },
  {
   "cell_type": "code",
   "execution_count": 8,
   "metadata": {
    "ExecuteTime": {
     "end_time": "2021-03-29T12:08:33.351329Z",
     "start_time": "2021-03-29T12:08:33.325734Z"
    }
   },
   "outputs": [
    {
     "data": {
      "text/plain": [
       "values_1    73604\n",
       "values_2    75163\n",
       "dtype: int64"
      ]
     },
     "execution_count": 8,
     "metadata": {},
     "output_type": "execute_result"
    }
   ],
   "source": [
    "%%piper \n",
    "sample_data() \n",
    ">> select('-dates')\n",
    "# >> where(\"regions == 'East' and values_1 == 29 \")\n",
    "# >> group_by(['regions', 'countries'])\n",
    ">> summarise({'values_1': 'sum', 'values_2': 'sum'})"
   ]
  },
  {
   "cell_type": "markdown",
   "metadata": {
    "ExecuteTime": {
     "end_time": "2020-08-07T18:34:50.657741Z",
     "start_time": "2020-08-07T18:34:50.654732Z"
    }
   },
   "source": [
    "## add_jde_batch()"
   ]
  },
  {
   "cell_type": "code",
   "execution_count": 9,
   "metadata": {
    "ExecuteTime": {
     "end_time": "2021-03-29T12:08:33.400141Z",
     "start_time": "2021-03-29T12:08:33.354920Z"
    }
   },
   "outputs": [
    {
     "name": "stderr",
     "output_type": "stream",
     "text": [
      "367 rows, 7 columns\n"
     ]
    },
    {
     "name": "stderr",
     "output_type": "stream",
     "text": [
      "10 rows, 11 columns\n"
     ]
    },
    {
     "data": {
      "text/html": [
       "<div>\n",
       "<style scoped>\n",
       "    .dataframe tbody tr th:only-of-type {\n",
       "        vertical-align: middle;\n",
       "    }\n",
       "\n",
       "    .dataframe tbody tr th {\n",
       "        vertical-align: top;\n",
       "    }\n",
       "\n",
       "    .dataframe thead th {\n",
       "        text-align: right;\n",
       "    }\n",
       "</style>\n",
       "<table border=\"1\" class=\"dataframe\">\n",
       "  <thead>\n",
       "    <tr style=\"text-align: right;\">\n",
       "      <th></th>\n",
       "      <th>aa_us</th>\n",
       "      <th>aa_bt</th>\n",
       "      <th>aa_tn</th>\n",
       "      <th>aa_ln</th>\n",
       "      <th>dates</th>\n",
       "      <th>order_dates</th>\n",
       "      <th>countries</th>\n",
       "      <th>regions</th>\n",
       "      <th>ids</th>\n",
       "      <th>values_1</th>\n",
       "      <th>values_2</th>\n",
       "    </tr>\n",
       "  </thead>\n",
       "  <tbody>\n",
       "    <tr>\n",
       "      <th>0</th>\n",
       "      <td>userid</td>\n",
       "      <td>ABC_20210329</td>\n",
       "      <td>1</td>\n",
       "      <td>NaN</td>\n",
       "      <td>2020-03-21</td>\n",
       "      <td>2020-03-27</td>\n",
       "      <td>France</td>\n",
       "      <td>South</td>\n",
       "      <td>A</td>\n",
       "      <td>368</td>\n",
       "      <td>235</td>\n",
       "    </tr>\n",
       "    <tr>\n",
       "      <th>1</th>\n",
       "      <td>userid</td>\n",
       "      <td>ABC_20210329</td>\n",
       "      <td>1</td>\n",
       "      <td>NaN</td>\n",
       "      <td>2020-07-17</td>\n",
       "      <td>2020-07-23</td>\n",
       "      <td>Switzerland</td>\n",
       "      <td>West</td>\n",
       "      <td>E</td>\n",
       "      <td>98</td>\n",
       "      <td>220</td>\n",
       "    </tr>\n",
       "    <tr>\n",
       "      <th>2</th>\n",
       "      <td>userid</td>\n",
       "      <td>ABC_20210329</td>\n",
       "      <td>1</td>\n",
       "      <td>NaN</td>\n",
       "      <td>2020-03-01</td>\n",
       "      <td>2020-03-07</td>\n",
       "      <td>France</td>\n",
       "      <td>West</td>\n",
       "      <td>A</td>\n",
       "      <td>214</td>\n",
       "      <td>296</td>\n",
       "    </tr>\n",
       "    <tr>\n",
       "      <th>3</th>\n",
       "      <td>userid</td>\n",
       "      <td>ABC_20210329</td>\n",
       "      <td>1</td>\n",
       "      <td>NaN</td>\n",
       "      <td>2020-05-24</td>\n",
       "      <td>2020-05-30</td>\n",
       "      <td>Sweden</td>\n",
       "      <td>East</td>\n",
       "      <td>A</td>\n",
       "      <td>368</td>\n",
       "      <td>376</td>\n",
       "    </tr>\n",
       "  </tbody>\n",
       "</table>\n",
       "</div>"
      ],
      "text/plain": [
       "    aa_us         aa_bt  aa_tn  aa_ln      dates order_dates    countries  \\\n",
       "0  userid  ABC_20210329      1    NaN 2020-03-21  2020-03-27       France   \n",
       "1  userid  ABC_20210329      1    NaN 2020-07-17  2020-07-23  Switzerland   \n",
       "2  userid  ABC_20210329      1    NaN 2020-03-01  2020-03-07       France   \n",
       "3  userid  ABC_20210329      1    NaN 2020-05-24  2020-05-30       Sweden   \n",
       "\n",
       "  regions ids  values_1  values_2  \n",
       "0   South   A       368       235  \n",
       "1    West   E        98       220  \n",
       "2    West   A       214       296  \n",
       "3    East   A       368       376  "
      ]
     },
     "execution_count": 9,
     "metadata": {},
     "output_type": "execute_result"
    }
   ],
   "source": [
    "%%piper\n",
    "sample_data()\n",
    "# >> memory() \n",
    "# >> select(slice('regions', 'values_2'))\n",
    "# >> assign(new_col = lambda x: x.values_2 * 4)\n",
    "# >> group_by('regions')\n",
    "# >> summarise({'new_col': 'mean'})\n",
    "# >> rename(columns={'new_col': 'mean_value'}).reset_index()\n",
    ">> sample(10)\n",
    ">> add_jde_batch(col_prefix='aa_')\n",
    ">> head().reset_index(drop=True)"
   ]
  },
  {
   "cell_type": "markdown",
   "metadata": {
    "ExecuteTime": {
     "end_time": "2020-08-07T18:34:50.657741Z",
     "start_time": "2020-08-07T18:34:50.654732Z"
    }
   },
   "source": [
    "## Categorical examples"
   ]
  },
  {
   "cell_type": "code",
   "execution_count": 10,
   "metadata": {
    "ExecuteTime": {
     "end_time": "2021-03-29T12:08:33.438356Z",
     "start_time": "2021-03-29T12:08:33.407196Z"
    }
   },
   "outputs": [
    {
     "name": "stderr",
     "output_type": "stream",
     "text": [
      "367 rows, 7 columns\n"
     ]
    },
    {
     "data": {
      "text/html": [
       "<div>\n",
       "<style scoped>\n",
       "    .dataframe tbody tr th:only-of-type {\n",
       "        vertical-align: middle;\n",
       "    }\n",
       "\n",
       "    .dataframe tbody tr th {\n",
       "        vertical-align: top;\n",
       "    }\n",
       "\n",
       "    .dataframe thead th {\n",
       "        text-align: right;\n",
       "    }\n",
       "</style>\n",
       "<table border=\"1\" class=\"dataframe\">\n",
       "  <thead>\n",
       "    <tr style=\"text-align: right;\">\n",
       "      <th></th>\n",
       "      <th>dates</th>\n",
       "      <th>order_dates</th>\n",
       "      <th>countries</th>\n",
       "      <th>regions</th>\n",
       "      <th>ids</th>\n",
       "      <th>values_1</th>\n",
       "      <th>values_2</th>\n",
       "    </tr>\n",
       "  </thead>\n",
       "  <tbody>\n",
       "    <tr>\n",
       "      <th>0</th>\n",
       "      <td>2020-01-01</td>\n",
       "      <td>2020-01-07</td>\n",
       "      <td>Italy</td>\n",
       "      <td>East</td>\n",
       "      <td>A</td>\n",
       "      <td>311</td>\n",
       "      <td>26</td>\n",
       "    </tr>\n",
       "    <tr>\n",
       "      <th>1</th>\n",
       "      <td>2020-01-02</td>\n",
       "      <td>2020-01-08</td>\n",
       "      <td>Portugal</td>\n",
       "      <td>South</td>\n",
       "      <td>D</td>\n",
       "      <td>150</td>\n",
       "      <td>375</td>\n",
       "    </tr>\n",
       "    <tr>\n",
       "      <th>2</th>\n",
       "      <td>2020-01-03</td>\n",
       "      <td>2020-01-09</td>\n",
       "      <td>Spain</td>\n",
       "      <td>East</td>\n",
       "      <td>A</td>\n",
       "      <td>396</td>\n",
       "      <td>88</td>\n",
       "    </tr>\n",
       "    <tr>\n",
       "      <th>3</th>\n",
       "      <td>2020-01-04</td>\n",
       "      <td>2020-01-10</td>\n",
       "      <td>Italy</td>\n",
       "      <td>East</td>\n",
       "      <td>B</td>\n",
       "      <td>319</td>\n",
       "      <td>233</td>\n",
       "    </tr>\n",
       "  </tbody>\n",
       "</table>\n",
       "</div>"
      ],
      "text/plain": [
       "       dates order_dates countries regions ids  values_1  values_2\n",
       "0 2020-01-01  2020-01-07     Italy    East   A       311        26\n",
       "1 2020-01-02  2020-01-08  Portugal   South   D       150       375\n",
       "2 2020-01-03  2020-01-09     Spain    East   A       396        88\n",
       "3 2020-01-04  2020-01-10     Italy    East   B       319       233"
      ]
     },
     "execution_count": 10,
     "metadata": {},
     "output_type": "execute_result"
    }
   ],
   "source": [
    "%piper df <- sample_data()\n",
    "%piper df >> head()"
   ]
  },
  {
   "cell_type": "markdown",
   "metadata": {
    "ExecuteTime": {
     "end_time": "2020-08-07T18:34:50.657741Z",
     "start_time": "2020-08-07T18:34:50.654732Z"
    }
   },
   "source": [
    "### countries"
   ]
  },
  {
   "cell_type": "code",
   "execution_count": 11,
   "metadata": {
    "ExecuteTime": {
     "end_time": "2021-03-29T12:08:33.466555Z",
     "start_time": "2021-03-29T12:08:33.440934Z"
    }
   },
   "outputs": [
    {
     "name": "stderr",
     "output_type": "stream",
     "text": [
      "category\n"
     ]
    }
   ],
   "source": [
    "%piper df >> count('countries') >> list()\n",
    "\n",
    "categories = ['France', 'Spain', 'Italy', 'Portugal',\n",
    " 'Norway', 'Sweden', 'Germany', 'Switzerland']\n",
    "\n",
    "country_cat_dtype = pd.CategoricalDtype(categories, ordered=True)\n",
    "df.countries = df.countries.astype(country_cat_dtype)\n",
    "logger.info(df.countries.dtype)"
   ]
  },
  {
   "cell_type": "markdown",
   "metadata": {
    "ExecuteTime": {
     "end_time": "2020-08-07T18:34:50.657741Z",
     "start_time": "2020-08-07T18:34:50.654732Z"
    }
   },
   "source": [
    "### regions"
   ]
  },
  {
   "cell_type": "code",
   "execution_count": 12,
   "metadata": {
    "ExecuteTime": {
     "end_time": "2021-03-29T12:08:33.483851Z",
     "start_time": "2021-03-29T12:08:33.468781Z"
    }
   },
   "outputs": [],
   "source": [
    "categories = ['North', 'East', 'West', 'South']\n",
    "region_cat_type = pd.CategoricalDtype(categories, ordered=True)\n",
    "df.regions = df.regions.astype(region_cat_type)"
   ]
  },
  {
   "cell_type": "code",
   "execution_count": 13,
   "metadata": {
    "ExecuteTime": {
     "end_time": "2021-03-29T12:08:33.517195Z",
     "start_time": "2021-03-29T12:08:33.487123Z"
    }
   },
   "outputs": [
    {
     "data": {
      "text/html": [
       "<div>\n",
       "<style scoped>\n",
       "    .dataframe tbody tr th:only-of-type {\n",
       "        vertical-align: middle;\n",
       "    }\n",
       "\n",
       "    .dataframe tbody tr th {\n",
       "        vertical-align: top;\n",
       "    }\n",
       "\n",
       "    .dataframe thead th {\n",
       "        text-align: right;\n",
       "    }\n",
       "</style>\n",
       "<table border=\"1\" class=\"dataframe\">\n",
       "  <thead>\n",
       "    <tr style=\"text-align: right;\">\n",
       "      <th>regions</th>\n",
       "      <th>East</th>\n",
       "      <th>West</th>\n",
       "      <th>South</th>\n",
       "      <th>North</th>\n",
       "    </tr>\n",
       "  </thead>\n",
       "  <tbody>\n",
       "    <tr>\n",
       "      <th>n</th>\n",
       "      <td>103.00</td>\n",
       "      <td>94.00</td>\n",
       "      <td>87.00</td>\n",
       "      <td>83.00</td>\n",
       "    </tr>\n",
       "    <tr>\n",
       "      <th>%</th>\n",
       "      <td>28.07</td>\n",
       "      <td>25.61</td>\n",
       "      <td>23.71</td>\n",
       "      <td>22.62</td>\n",
       "    </tr>\n",
       "    <tr>\n",
       "      <th>cum %</th>\n",
       "      <td>28.07</td>\n",
       "      <td>53.68</td>\n",
       "      <td>77.38</td>\n",
       "      <td>100.00</td>\n",
       "    </tr>\n",
       "  </tbody>\n",
       "</table>\n",
       "</div>"
      ],
      "text/plain": [
       "regions    East   West  South   North\n",
       "n        103.00  94.00  87.00   83.00\n",
       "%         28.07  25.61  23.71   22.62\n",
       "cum %     28.07  53.68  77.38  100.00"
      ]
     },
     "execution_count": 13,
     "metadata": {},
     "output_type": "execute_result"
    }
   ],
   "source": [
    "%piper df >> count('regions') >> pd.DataFrame.transpose()"
   ]
  },
  {
   "cell_type": "code",
   "execution_count": 14,
   "metadata": {
    "ExecuteTime": {
     "end_time": "2021-03-29T12:08:33.529444Z",
     "start_time": "2021-03-29T12:08:33.519230Z"
    }
   },
   "outputs": [
    {
     "data": {
      "text/plain": [
       "CategoricalDtype(categories=['North', 'East', 'West', 'South'], ordered=True)"
      ]
     },
     "execution_count": 14,
     "metadata": {},
     "output_type": "execute_result"
    }
   ],
   "source": [
    "df.regions.dtype"
   ]
  },
  {
   "cell_type": "markdown",
   "metadata": {
    "ExecuteTime": {
     "end_time": "2020-08-07T18:34:50.657741Z",
     "start_time": "2020-08-07T18:34:50.654732Z"
    }
   },
   "source": [
    "## groupby - agg using dictionary of aggregate functions"
   ]
  },
  {
   "cell_type": "code",
   "execution_count": 15,
   "metadata": {
    "ExecuteTime": {
     "end_time": "2021-03-29T12:08:33.580992Z",
     "start_time": "2021-03-29T12:08:33.531561Z"
    }
   },
   "outputs": [
    {
     "name": "stderr",
     "output_type": "stream",
     "text": [
      "8 rows, 8 columns\n"
     ]
    },
    {
     "data": {
      "text/html": [
       "<div>\n",
       "<style scoped>\n",
       "    .dataframe tbody tr th:only-of-type {\n",
       "        vertical-align: middle;\n",
       "    }\n",
       "\n",
       "    .dataframe tbody tr th {\n",
       "        vertical-align: top;\n",
       "    }\n",
       "\n",
       "    .dataframe thead tr th {\n",
       "        text-align: left;\n",
       "    }\n",
       "\n",
       "    .dataframe thead tr:last-of-type th {\n",
       "        text-align: right;\n",
       "    }\n",
       "</style>\n",
       "<table border=\"1\" class=\"dataframe\">\n",
       "  <thead>\n",
       "    <tr>\n",
       "      <th></th>\n",
       "      <th colspan=\"4\" halign=\"left\">totval1</th>\n",
       "      <th colspan=\"4\" halign=\"left\">totval2</th>\n",
       "    </tr>\n",
       "    <tr>\n",
       "      <th>regions</th>\n",
       "      <th>North</th>\n",
       "      <th>East</th>\n",
       "      <th>West</th>\n",
       "      <th>South</th>\n",
       "      <th>North</th>\n",
       "      <th>East</th>\n",
       "      <th>West</th>\n",
       "      <th>South</th>\n",
       "    </tr>\n",
       "    <tr>\n",
       "      <th>countries</th>\n",
       "      <th></th>\n",
       "      <th></th>\n",
       "      <th></th>\n",
       "      <th></th>\n",
       "      <th></th>\n",
       "      <th></th>\n",
       "      <th></th>\n",
       "      <th></th>\n",
       "    </tr>\n",
       "  </thead>\n",
       "  <tbody>\n",
       "    <tr>\n",
       "      <th>France</th>\n",
       "      <td>2275</td>\n",
       "      <td>2170</td>\n",
       "      <td>4861</td>\n",
       "      <td>2118</td>\n",
       "      <td>2926</td>\n",
       "      <td>3029</td>\n",
       "      <td>4065</td>\n",
       "      <td>1726</td>\n",
       "    </tr>\n",
       "    <tr>\n",
       "      <th>Spain</th>\n",
       "      <td>2447</td>\n",
       "      <td>2450</td>\n",
       "      <td>1752</td>\n",
       "      <td>3322</td>\n",
       "      <td>2457</td>\n",
       "      <td>2302</td>\n",
       "      <td>1447</td>\n",
       "      <td>2665</td>\n",
       "    </tr>\n",
       "    <tr>\n",
       "      <th>Italy</th>\n",
       "      <td>1868</td>\n",
       "      <td>3023</td>\n",
       "      <td>2489</td>\n",
       "      <td>2520</td>\n",
       "      <td>1926</td>\n",
       "      <td>3763</td>\n",
       "      <td>1917</td>\n",
       "      <td>2790</td>\n",
       "    </tr>\n",
       "    <tr>\n",
       "      <th>Portugal</th>\n",
       "      <td>1857</td>\n",
       "      <td>2469</td>\n",
       "      <td>1699</td>\n",
       "      <td>2476</td>\n",
       "      <td>1861</td>\n",
       "      <td>2837</td>\n",
       "      <td>2015</td>\n",
       "      <td>3456</td>\n",
       "    </tr>\n",
       "  </tbody>\n",
       "</table>\n",
       "</div>"
      ],
      "text/plain": [
       "          totval1                   totval2                  \n",
       "regions     North  East  West South   North  East  West South\n",
       "countries                                                    \n",
       "France       2275  2170  4861  2118    2926  3029  4065  1726\n",
       "Spain        2447  2450  1752  3322    2457  2302  1447  2665\n",
       "Italy        1868  3023  2489  2520    1926  3763  1917  2790\n",
       "Portugal     1857  2469  1699  2476    1861  2837  2015  3456"
      ]
     },
     "execution_count": 15,
     "metadata": {},
     "output_type": "execute_result"
    }
   ],
   "source": [
    "g1 = (df.groupby(['countries', 'regions'])\n",
    "        .agg({'values_1': np.sum, 'values_2': np.sum})\n",
    "        .rename(columns={'values_1': 'totval1', 'values_2': 'totval2'})\n",
    "        .unstack()\n",
    "     )\n",
    "head(g1)"
   ]
  },
  {
   "cell_type": "markdown",
   "metadata": {
    "ExecuteTime": {
     "end_time": "2020-08-07T18:34:50.657741Z",
     "start_time": "2020-08-07T18:34:50.654732Z"
    }
   },
   "source": [
    "## groupby - agg using tuples"
   ]
  },
  {
   "cell_type": "code",
   "execution_count": 16,
   "metadata": {
    "ExecuteTime": {
     "end_time": "2021-03-29T12:08:33.625584Z",
     "start_time": "2021-03-29T12:08:33.583597Z"
    }
   },
   "outputs": [
    {
     "name": "stderr",
     "output_type": "stream",
     "text": [
      "8 rows, 8 columns\n"
     ]
    },
    {
     "data": {
      "text/html": [
       "<div>\n",
       "<style scoped>\n",
       "    .dataframe tbody tr th:only-of-type {\n",
       "        vertical-align: middle;\n",
       "    }\n",
       "\n",
       "    .dataframe tbody tr th {\n",
       "        vertical-align: top;\n",
       "    }\n",
       "\n",
       "    .dataframe thead tr th {\n",
       "        text-align: left;\n",
       "    }\n",
       "\n",
       "    .dataframe thead tr:last-of-type th {\n",
       "        text-align: right;\n",
       "    }\n",
       "</style>\n",
       "<table border=\"1\" class=\"dataframe\">\n",
       "  <thead>\n",
       "    <tr>\n",
       "      <th></th>\n",
       "      <th colspan=\"4\" halign=\"left\">totval1</th>\n",
       "      <th colspan=\"4\" halign=\"left\">totval2</th>\n",
       "    </tr>\n",
       "    <tr>\n",
       "      <th>regions</th>\n",
       "      <th>North</th>\n",
       "      <th>East</th>\n",
       "      <th>West</th>\n",
       "      <th>South</th>\n",
       "      <th>North</th>\n",
       "      <th>East</th>\n",
       "      <th>West</th>\n",
       "      <th>South</th>\n",
       "    </tr>\n",
       "    <tr>\n",
       "      <th>countries</th>\n",
       "      <th></th>\n",
       "      <th></th>\n",
       "      <th></th>\n",
       "      <th></th>\n",
       "      <th></th>\n",
       "      <th></th>\n",
       "      <th></th>\n",
       "      <th></th>\n",
       "    </tr>\n",
       "  </thead>\n",
       "  <tbody>\n",
       "    <tr>\n",
       "      <th>France</th>\n",
       "      <td>2275</td>\n",
       "      <td>2170</td>\n",
       "      <td>4861</td>\n",
       "      <td>2118</td>\n",
       "      <td>2926</td>\n",
       "      <td>3029</td>\n",
       "      <td>4065</td>\n",
       "      <td>1726</td>\n",
       "    </tr>\n",
       "    <tr>\n",
       "      <th>Spain</th>\n",
       "      <td>2447</td>\n",
       "      <td>2450</td>\n",
       "      <td>1752</td>\n",
       "      <td>3322</td>\n",
       "      <td>2457</td>\n",
       "      <td>2302</td>\n",
       "      <td>1447</td>\n",
       "      <td>2665</td>\n",
       "    </tr>\n",
       "    <tr>\n",
       "      <th>Italy</th>\n",
       "      <td>1868</td>\n",
       "      <td>3023</td>\n",
       "      <td>2489</td>\n",
       "      <td>2520</td>\n",
       "      <td>1926</td>\n",
       "      <td>3763</td>\n",
       "      <td>1917</td>\n",
       "      <td>2790</td>\n",
       "    </tr>\n",
       "    <tr>\n",
       "      <th>Portugal</th>\n",
       "      <td>1857</td>\n",
       "      <td>2469</td>\n",
       "      <td>1699</td>\n",
       "      <td>2476</td>\n",
       "      <td>1861</td>\n",
       "      <td>2837</td>\n",
       "      <td>2015</td>\n",
       "      <td>3456</td>\n",
       "    </tr>\n",
       "  </tbody>\n",
       "</table>\n",
       "</div>"
      ],
      "text/plain": [
       "          totval1                   totval2                  \n",
       "regions     North  East  West South   North  East  West South\n",
       "countries                                                    \n",
       "France       2275  2170  4861  2118    2926  3029  4065  1726\n",
       "Spain        2447  2450  1752  3322    2457  2302  1447  2665\n",
       "Italy        1868  3023  2489  2520    1926  3763  1917  2790\n",
       "Portugal     1857  2469  1699  2476    1861  2837  2015  3456"
      ]
     },
     "execution_count": 16,
     "metadata": {},
     "output_type": "execute_result"
    }
   ],
   "source": [
    "g1 = (df.groupby(['countries', 'regions'])\n",
    "        .agg(totval1=('values_1', 'sum'), totval2=('values_2', 'sum')) \n",
    "        .unstack()\n",
    "     )\n",
    "head(g1)"
   ]
  },
  {
   "cell_type": "markdown",
   "metadata": {
    "ExecuteTime": {
     "end_time": "2020-08-07T18:34:50.657741Z",
     "start_time": "2020-08-07T18:34:50.654732Z"
    }
   },
   "source": [
    "## groupby - agg using named tuples"
   ]
  },
  {
   "cell_type": "code",
   "execution_count": 17,
   "metadata": {
    "ExecuteTime": {
     "end_time": "2021-03-29T12:08:33.687916Z",
     "start_time": "2021-03-29T12:08:33.628056Z"
    }
   },
   "outputs": [
    {
     "name": "stderr",
     "output_type": "stream",
     "text": [
      "8 rows, 8 columns\n"
     ]
    },
    {
     "data": {
      "text/html": [
       "<div>\n",
       "<style scoped>\n",
       "    .dataframe tbody tr th:only-of-type {\n",
       "        vertical-align: middle;\n",
       "    }\n",
       "\n",
       "    .dataframe tbody tr th {\n",
       "        vertical-align: top;\n",
       "    }\n",
       "\n",
       "    .dataframe thead tr th {\n",
       "        text-align: left;\n",
       "    }\n",
       "\n",
       "    .dataframe thead tr:last-of-type th {\n",
       "        text-align: right;\n",
       "    }\n",
       "</style>\n",
       "<table border=\"1\" class=\"dataframe\">\n",
       "  <thead>\n",
       "    <tr>\n",
       "      <th></th>\n",
       "      <th colspan=\"4\" halign=\"left\">totval1</th>\n",
       "      <th colspan=\"4\" halign=\"left\">totval2</th>\n",
       "    </tr>\n",
       "    <tr>\n",
       "      <th>regions</th>\n",
       "      <th>North</th>\n",
       "      <th>East</th>\n",
       "      <th>West</th>\n",
       "      <th>South</th>\n",
       "      <th>North</th>\n",
       "      <th>East</th>\n",
       "      <th>West</th>\n",
       "      <th>South</th>\n",
       "    </tr>\n",
       "    <tr>\n",
       "      <th>countries</th>\n",
       "      <th></th>\n",
       "      <th></th>\n",
       "      <th></th>\n",
       "      <th></th>\n",
       "      <th></th>\n",
       "      <th></th>\n",
       "      <th></th>\n",
       "      <th></th>\n",
       "    </tr>\n",
       "  </thead>\n",
       "  <tbody>\n",
       "    <tr>\n",
       "      <th>France</th>\n",
       "      <td>2275</td>\n",
       "      <td>2170</td>\n",
       "      <td>4861</td>\n",
       "      <td>2118</td>\n",
       "      <td>2926</td>\n",
       "      <td>3029</td>\n",
       "      <td>4065</td>\n",
       "      <td>1726</td>\n",
       "    </tr>\n",
       "    <tr>\n",
       "      <th>Spain</th>\n",
       "      <td>2447</td>\n",
       "      <td>2450</td>\n",
       "      <td>1752</td>\n",
       "      <td>3322</td>\n",
       "      <td>2457</td>\n",
       "      <td>2302</td>\n",
       "      <td>1447</td>\n",
       "      <td>2665</td>\n",
       "    </tr>\n",
       "    <tr>\n",
       "      <th>Italy</th>\n",
       "      <td>1868</td>\n",
       "      <td>3023</td>\n",
       "      <td>2489</td>\n",
       "      <td>2520</td>\n",
       "      <td>1926</td>\n",
       "      <td>3763</td>\n",
       "      <td>1917</td>\n",
       "      <td>2790</td>\n",
       "    </tr>\n",
       "    <tr>\n",
       "      <th>Portugal</th>\n",
       "      <td>1857</td>\n",
       "      <td>2469</td>\n",
       "      <td>1699</td>\n",
       "      <td>2476</td>\n",
       "      <td>1861</td>\n",
       "      <td>2837</td>\n",
       "      <td>2015</td>\n",
       "      <td>3456</td>\n",
       "    </tr>\n",
       "  </tbody>\n",
       "</table>\n",
       "</div>"
      ],
      "text/plain": [
       "          totval1                   totval2                  \n",
       "regions     North  East  West South   North  East  West South\n",
       "countries                                                    \n",
       "France       2275  2170  4861  2118    2926  3029  4065  1726\n",
       "Spain        2447  2450  1752  3322    2457  2302  1447  2665\n",
       "Italy        1868  3023  2489  2520    1926  3763  1917  2790\n",
       "Portugal     1857  2469  1699  2476    1861  2837  2015  3456"
      ]
     },
     "execution_count": 17,
     "metadata": {},
     "output_type": "execute_result"
    }
   ],
   "source": [
    "g1 = (df.groupby(['countries', 'regions'])\n",
    "        .agg(totval1=pd.NamedAgg('values_1', 'sum'),\n",
    "             totval2=pd.NamedAgg('values_2', 'sum'))  \n",
    "        .unstack()\n",
    "     )\n",
    "head(g1)"
   ]
  },
  {
   "cell_type": "markdown",
   "metadata": {
    "ExecuteTime": {
     "end_time": "2020-08-07T18:34:50.657741Z",
     "start_time": "2020-08-07T18:34:50.654732Z"
    }
   },
   "source": [
    "## pivot_table - agg using dictionary of aggregate functions"
   ]
  },
  {
   "cell_type": "code",
   "execution_count": 18,
   "metadata": {
    "ExecuteTime": {
     "end_time": "2021-03-29T12:08:33.730769Z",
     "start_time": "2021-03-29T12:08:33.690993Z"
    }
   },
   "outputs": [
    {
     "name": "stderr",
     "output_type": "stream",
     "text": [
      "8 rows, 8 columns\n"
     ]
    },
    {
     "data": {
      "text/html": [
       "<div>\n",
       "<style scoped>\n",
       "    .dataframe tbody tr th:only-of-type {\n",
       "        vertical-align: middle;\n",
       "    }\n",
       "\n",
       "    .dataframe tbody tr th {\n",
       "        vertical-align: top;\n",
       "    }\n",
       "\n",
       "    .dataframe thead tr th {\n",
       "        text-align: left;\n",
       "    }\n",
       "\n",
       "    .dataframe thead tr:last-of-type th {\n",
       "        text-align: right;\n",
       "    }\n",
       "</style>\n",
       "<table border=\"1\" class=\"dataframe\">\n",
       "  <thead>\n",
       "    <tr>\n",
       "      <th></th>\n",
       "      <th colspan=\"4\" halign=\"left\">totval1</th>\n",
       "      <th colspan=\"4\" halign=\"left\">totval2</th>\n",
       "    </tr>\n",
       "    <tr>\n",
       "      <th>regions</th>\n",
       "      <th>North</th>\n",
       "      <th>East</th>\n",
       "      <th>West</th>\n",
       "      <th>South</th>\n",
       "      <th>North</th>\n",
       "      <th>East</th>\n",
       "      <th>West</th>\n",
       "      <th>South</th>\n",
       "    </tr>\n",
       "    <tr>\n",
       "      <th>countries</th>\n",
       "      <th></th>\n",
       "      <th></th>\n",
       "      <th></th>\n",
       "      <th></th>\n",
       "      <th></th>\n",
       "      <th></th>\n",
       "      <th></th>\n",
       "      <th></th>\n",
       "    </tr>\n",
       "  </thead>\n",
       "  <tbody>\n",
       "    <tr>\n",
       "      <th>France</th>\n",
       "      <td>2275</td>\n",
       "      <td>2170</td>\n",
       "      <td>4861</td>\n",
       "      <td>2118</td>\n",
       "      <td>2926</td>\n",
       "      <td>3029</td>\n",
       "      <td>4065</td>\n",
       "      <td>1726</td>\n",
       "    </tr>\n",
       "    <tr>\n",
       "      <th>Spain</th>\n",
       "      <td>2447</td>\n",
       "      <td>2450</td>\n",
       "      <td>1752</td>\n",
       "      <td>3322</td>\n",
       "      <td>2457</td>\n",
       "      <td>2302</td>\n",
       "      <td>1447</td>\n",
       "      <td>2665</td>\n",
       "    </tr>\n",
       "    <tr>\n",
       "      <th>Italy</th>\n",
       "      <td>1868</td>\n",
       "      <td>3023</td>\n",
       "      <td>2489</td>\n",
       "      <td>2520</td>\n",
       "      <td>1926</td>\n",
       "      <td>3763</td>\n",
       "      <td>1917</td>\n",
       "      <td>2790</td>\n",
       "    </tr>\n",
       "    <tr>\n",
       "      <th>Portugal</th>\n",
       "      <td>1857</td>\n",
       "      <td>2469</td>\n",
       "      <td>1699</td>\n",
       "      <td>2476</td>\n",
       "      <td>1861</td>\n",
       "      <td>2837</td>\n",
       "      <td>2015</td>\n",
       "      <td>3456</td>\n",
       "    </tr>\n",
       "  </tbody>\n",
       "</table>\n",
       "</div>"
      ],
      "text/plain": [
       "          totval1                   totval2                  \n",
       "regions     North  East  West South   North  East  West South\n",
       "countries                                                    \n",
       "France       2275  2170  4861  2118    2926  3029  4065  1726\n",
       "Spain        2447  2450  1752  3322    2457  2302  1447  2665\n",
       "Italy        1868  3023  2489  2520    1926  3763  1917  2790\n",
       "Portugal     1857  2469  1699  2476    1861  2837  2015  3456"
      ]
     },
     "execution_count": 18,
     "metadata": {},
     "output_type": "execute_result"
    }
   ],
   "source": [
    "p1 = (pd.pivot_table(df, columns='regions', index='countries',\n",
    "                     values=['values_1', 'values_2'], aggfunc=np.sum)\n",
    "        .rename(columns={'values_1': 'totval1', 'values_2': 'totval2'}))\n",
    "head(p1)"
   ]
  },
  {
   "cell_type": "markdown",
   "metadata": {
    "ExecuteTime": {
     "end_time": "2020-08-07T18:34:50.657741Z",
     "start_time": "2020-08-07T18:34:50.654732Z"
    }
   },
   "source": [
    "## crosstab equivalent "
   ]
  },
  {
   "cell_type": "code",
   "execution_count": 19,
   "metadata": {
    "ExecuteTime": {
     "end_time": "2021-03-29T12:08:33.790498Z",
     "start_time": "2021-03-29T12:08:33.732669Z"
    }
   },
   "outputs": [
    {
     "name": "stderr",
     "output_type": "stream",
     "text": [
      "8 rows, 8 columns\n"
     ]
    },
    {
     "data": {
      "text/html": [
       "<div>\n",
       "<style scoped>\n",
       "    .dataframe tbody tr th:only-of-type {\n",
       "        vertical-align: middle;\n",
       "    }\n",
       "\n",
       "    .dataframe tbody tr th {\n",
       "        vertical-align: top;\n",
       "    }\n",
       "\n",
       "    .dataframe thead th {\n",
       "        text-align: right;\n",
       "    }\n",
       "</style>\n",
       "<table border=\"1\" class=\"dataframe\">\n",
       "  <thead>\n",
       "    <tr style=\"text-align: right;\">\n",
       "      <th>regions</th>\n",
       "      <th>North</th>\n",
       "      <th>East</th>\n",
       "      <th>West</th>\n",
       "      <th>South</th>\n",
       "      <th>North</th>\n",
       "      <th>East</th>\n",
       "      <th>West</th>\n",
       "      <th>South</th>\n",
       "    </tr>\n",
       "    <tr>\n",
       "      <th>countries</th>\n",
       "      <th></th>\n",
       "      <th></th>\n",
       "      <th></th>\n",
       "      <th></th>\n",
       "      <th></th>\n",
       "      <th></th>\n",
       "      <th></th>\n",
       "      <th></th>\n",
       "    </tr>\n",
       "  </thead>\n",
       "  <tbody>\n",
       "    <tr>\n",
       "      <th>France</th>\n",
       "      <td>2275</td>\n",
       "      <td>2170</td>\n",
       "      <td>4861</td>\n",
       "      <td>2118</td>\n",
       "      <td>2926</td>\n",
       "      <td>3029</td>\n",
       "      <td>4065</td>\n",
       "      <td>1726</td>\n",
       "    </tr>\n",
       "    <tr>\n",
       "      <th>Spain</th>\n",
       "      <td>2447</td>\n",
       "      <td>2450</td>\n",
       "      <td>1752</td>\n",
       "      <td>3322</td>\n",
       "      <td>2457</td>\n",
       "      <td>2302</td>\n",
       "      <td>1447</td>\n",
       "      <td>2665</td>\n",
       "    </tr>\n",
       "    <tr>\n",
       "      <th>Italy</th>\n",
       "      <td>1868</td>\n",
       "      <td>3023</td>\n",
       "      <td>2489</td>\n",
       "      <td>2520</td>\n",
       "      <td>1926</td>\n",
       "      <td>3763</td>\n",
       "      <td>1917</td>\n",
       "      <td>2790</td>\n",
       "    </tr>\n",
       "    <tr>\n",
       "      <th>Portugal</th>\n",
       "      <td>1857</td>\n",
       "      <td>2469</td>\n",
       "      <td>1699</td>\n",
       "      <td>2476</td>\n",
       "      <td>1861</td>\n",
       "      <td>2837</td>\n",
       "      <td>2015</td>\n",
       "      <td>3456</td>\n",
       "    </tr>\n",
       "  </tbody>\n",
       "</table>\n",
       "</div>"
      ],
      "text/plain": [
       "regions    North  East  West  South  North  East  West  South\n",
       "countries                                                    \n",
       "France      2275  2170  4861   2118   2926  3029  4065   1726\n",
       "Spain       2447  2450  1752   3322   2457  2302  1447   2665\n",
       "Italy       1868  3023  2489   2520   1926  3763  1917   2790\n",
       "Portugal    1857  2469  1699   2476   1861  2837  2015   3456"
      ]
     },
     "execution_count": 19,
     "metadata": {},
     "output_type": "execute_result"
    }
   ],
   "source": [
    "xt1 = pd.crosstab(index=df.countries, columns=df.regions,\n",
    "            values=df.values_1, aggfunc=np.sum)\n",
    "xt2 = pd.crosstab(index=df.countries, columns=df.regions,\n",
    "            values=df.values_2, aggfunc=np.sum)\n",
    "head(pd.concat([xt1, xt2], axis=1))"
   ]
  },
  {
   "cell_type": "markdown",
   "metadata": {
    "ExecuteTime": {
     "end_time": "2020-08-07T18:34:50.657741Z",
     "start_time": "2020-08-07T18:34:50.654732Z"
    }
   },
   "source": [
    "## reordered categoricals"
   ]
  },
  {
   "cell_type": "code",
   "execution_count": 20,
   "metadata": {
    "ExecuteTime": {
     "end_time": "2021-03-29T12:08:33.806010Z",
     "start_time": "2021-03-29T12:08:33.796781Z"
    }
   },
   "outputs": [],
   "source": [
    "reordered_countries = ['Germany', 'Switzerland', 'France', 'Spain',\n",
    "                       'Italy', 'Portugal', 'Norway', 'Sweden']\n",
    "\n",
    "df.countries = df.countries.cat.reorder_categories(reordered_countries)\n",
    "\n",
    "categories = ['North', 'South', 'East', 'West']\n",
    "df.regions = df.regions.cat.reorder_categories(categories)"
   ]
  },
  {
   "cell_type": "code",
   "execution_count": 21,
   "metadata": {
    "ExecuteTime": {
     "end_time": "2021-03-29T12:08:33.864200Z",
     "start_time": "2021-03-29T12:08:33.808641Z"
    }
   },
   "outputs": [
    {
     "name": "stderr",
     "output_type": "stream",
     "text": [
      "8 rows, 8 columns\n"
     ]
    },
    {
     "data": {
      "text/html": [
       "<div>\n",
       "<style scoped>\n",
       "    .dataframe tbody tr th:only-of-type {\n",
       "        vertical-align: middle;\n",
       "    }\n",
       "\n",
       "    .dataframe tbody tr th {\n",
       "        vertical-align: top;\n",
       "    }\n",
       "\n",
       "    .dataframe thead th {\n",
       "        text-align: right;\n",
       "    }\n",
       "</style>\n",
       "<table border=\"1\" class=\"dataframe\">\n",
       "  <thead>\n",
       "    <tr style=\"text-align: right;\">\n",
       "      <th>regions</th>\n",
       "      <th>North</th>\n",
       "      <th>South</th>\n",
       "      <th>East</th>\n",
       "      <th>West</th>\n",
       "      <th>North</th>\n",
       "      <th>South</th>\n",
       "      <th>East</th>\n",
       "      <th>West</th>\n",
       "    </tr>\n",
       "    <tr>\n",
       "      <th>countries</th>\n",
       "      <th></th>\n",
       "      <th></th>\n",
       "      <th></th>\n",
       "      <th></th>\n",
       "      <th></th>\n",
       "      <th></th>\n",
       "      <th></th>\n",
       "      <th></th>\n",
       "    </tr>\n",
       "  </thead>\n",
       "  <tbody>\n",
       "    <tr>\n",
       "      <th>Germany</th>\n",
       "      <td>2239</td>\n",
       "      <td>1753</td>\n",
       "      <td>1764</td>\n",
       "      <td>1575</td>\n",
       "      <td>1736</td>\n",
       "      <td>2028</td>\n",
       "      <td>1362</td>\n",
       "      <td>1321</td>\n",
       "    </tr>\n",
       "    <tr>\n",
       "      <th>Switzerland</th>\n",
       "      <td>2723</td>\n",
       "      <td>2498</td>\n",
       "      <td>1626</td>\n",
       "      <td>1920</td>\n",
       "      <td>2356</td>\n",
       "      <td>2362</td>\n",
       "      <td>1770</td>\n",
       "      <td>2307</td>\n",
       "    </tr>\n",
       "    <tr>\n",
       "      <th>France</th>\n",
       "      <td>2275</td>\n",
       "      <td>2118</td>\n",
       "      <td>2170</td>\n",
       "      <td>4861</td>\n",
       "      <td>2926</td>\n",
       "      <td>1726</td>\n",
       "      <td>3029</td>\n",
       "      <td>4065</td>\n",
       "    </tr>\n",
       "    <tr>\n",
       "      <th>Spain</th>\n",
       "      <td>2447</td>\n",
       "      <td>3322</td>\n",
       "      <td>2450</td>\n",
       "      <td>1752</td>\n",
       "      <td>2457</td>\n",
       "      <td>2665</td>\n",
       "      <td>2302</td>\n",
       "      <td>1447</td>\n",
       "    </tr>\n",
       "    <tr>\n",
       "      <th>Italy</th>\n",
       "      <td>1868</td>\n",
       "      <td>2520</td>\n",
       "      <td>3023</td>\n",
       "      <td>2489</td>\n",
       "      <td>1926</td>\n",
       "      <td>2790</td>\n",
       "      <td>3763</td>\n",
       "      <td>1917</td>\n",
       "    </tr>\n",
       "    <tr>\n",
       "      <th>Portugal</th>\n",
       "      <td>1857</td>\n",
       "      <td>2476</td>\n",
       "      <td>2469</td>\n",
       "      <td>1699</td>\n",
       "      <td>1861</td>\n",
       "      <td>3456</td>\n",
       "      <td>2837</td>\n",
       "      <td>2015</td>\n",
       "    </tr>\n",
       "    <tr>\n",
       "      <th>Norway</th>\n",
       "      <td>2633</td>\n",
       "      <td>1670</td>\n",
       "      <td>3741</td>\n",
       "      <td>1234</td>\n",
       "      <td>3282</td>\n",
       "      <td>1237</td>\n",
       "      <td>4352</td>\n",
       "      <td>857</td>\n",
       "    </tr>\n",
       "    <tr>\n",
       "      <th>Sweden</th>\n",
       "      <td>1535</td>\n",
       "      <td>1435</td>\n",
       "      <td>2195</td>\n",
       "      <td>3267</td>\n",
       "      <td>1417</td>\n",
       "      <td>1605</td>\n",
       "      <td>2934</td>\n",
       "      <td>3055</td>\n",
       "    </tr>\n",
       "  </tbody>\n",
       "</table>\n",
       "</div>"
      ],
      "text/plain": [
       "regions      North  South  East  West  North  South  East  West\n",
       "countries                                                      \n",
       "Germany       2239   1753  1764  1575   1736   2028  1362  1321\n",
       "Switzerland   2723   2498  1626  1920   2356   2362  1770  2307\n",
       "France        2275   2118  2170  4861   2926   1726  3029  4065\n",
       "Spain         2447   3322  2450  1752   2457   2665  2302  1447\n",
       "Italy         1868   2520  3023  2489   1926   2790  3763  1917\n",
       "Portugal      1857   2476  2469  1699   1861   3456  2837  2015\n",
       "Norway        2633   1670  3741  1234   3282   1237  4352   857\n",
       "Sweden        1535   1435  2195  3267   1417   1605  2934  3055"
      ]
     },
     "execution_count": 21,
     "metadata": {},
     "output_type": "execute_result"
    }
   ],
   "source": [
    "xt1 = pd.crosstab(index=df.countries, columns=df.regions,\n",
    "            values=df.values_1, aggfunc=np.sum)\n",
    "xt2 = pd.crosstab(index=df.countries, columns=df.regions,\n",
    "            values=df.values_2, aggfunc=np.sum)\n",
    "head(pd.concat([xt1, xt2], axis=1), 10)"
   ]
  },
  {
   "cell_type": "code",
   "execution_count": null,
   "metadata": {},
   "outputs": [],
   "source": []
  },
  {
   "cell_type": "code",
   "execution_count": null,
   "metadata": {},
   "outputs": [],
   "source": []
  },
  {
   "cell_type": "code",
   "execution_count": null,
   "metadata": {},
   "outputs": [],
   "source": []
  },
  {
   "cell_type": "code",
   "execution_count": null,
   "metadata": {},
   "outputs": [],
   "source": []
  }
 ],
 "metadata": {
  "hide_input": false,
  "kernelspec": {
   "display_name": "Python 3",
   "language": "python",
   "name": "python3"
  },
  "language_info": {
   "codemirror_mode": {
    "name": "ipython",
    "version": 3
   },
   "file_extension": ".py",
   "mimetype": "text/x-python",
   "name": "python",
   "nbconvert_exporter": "python",
   "pygments_lexer": "ipython3",
   "version": "3.8.5"
  },
  "toc": {
   "base_numbering": 1,
   "nav_menu": {},
   "number_sections": true,
   "sideBar": true,
   "skip_h1_title": false,
   "title_cell": "Table of Contents",
   "title_sidebar": "Contents",
   "toc_cell": false,
   "toc_position": {
    "height": "calc(100% - 180px)",
    "left": "10px",
    "top": "150px",
    "width": "229.333px"
   },
   "toc_section_display": true,
   "toc_window_display": true
  }
 },
 "nbformat": 4,
 "nbformat_minor": 4
}
