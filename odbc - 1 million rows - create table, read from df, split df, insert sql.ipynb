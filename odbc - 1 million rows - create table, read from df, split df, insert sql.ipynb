{
 "cells": [
  {
   "cell_type": "markdown",
   "metadata": {},
   "source": [
    "# Setup"
   ]
  },
  {
   "cell_type": "code",
   "execution_count": null,
   "metadata": {
    "ExecuteTime": {
     "end_time": "2021-02-18T11:00:59.170523Z",
     "start_time": "2021-02-18T11:00:58.267507Z"
    }
   },
   "outputs": [],
   "source": [
    "from piper import piper\n",
    "from piper.defaults import *\n",
    "from piper.verbs import *\n",
    "from piper.factory import get_sample_data\n",
    "from piper.pandas import *\n",
    "from piper.odbc import connections, connect\n",
    "from piper.sql import insert, create_table\n",
    "from psycopg2 import Error\n",
    "import math"
   ]
  },
  {
   "cell_type": "markdown",
   "metadata": {},
   "source": [
    "# Sample data - 1 million rows"
   ]
  },
  {
   "cell_type": "code",
   "execution_count": null,
   "metadata": {
    "ExecuteTime": {
     "end_time": "2021-02-18T11:01:01.039256Z",
     "start_time": "2021-02-18T11:00:59.172762Z"
    }
   },
   "outputs": [],
   "source": [
    "df = pd.read_csv('inputs/1000000 Sales Records.csv')"
   ]
  },
  {
   "cell_type": "markdown",
   "metadata": {},
   "source": [
    "## Clean data"
   ]
  },
  {
   "cell_type": "markdown",
   "metadata": {
    "ExecuteTime": {
     "end_time": "2021-02-18T09:32:15.571384Z",
     "start_time": "2021-02-18T09:32:12.887310Z"
    }
   },
   "source": [
    "Trim column names of leading and trailing spaces, \n",
    "Replace embedded spaces with underscore and lowercase.<br>\n",
    "Why? To make it easier to work with columns using pandas dot notation<br> \n",
    "(e.g. instead of __df['Order Date']__ one can use __df.order_date__)"
   ]
  },
  {
   "cell_type": "code",
   "execution_count": null,
   "metadata": {
    "ExecuteTime": {
     "end_time": "2021-02-18T11:01:01.141622Z",
     "start_time": "2021-02-18T11:01:01.040942Z"
    }
   },
   "outputs": [],
   "source": [
    "df = clean_columns(df) "
   ]
  },
  {
   "cell_type": "code",
   "execution_count": null,
   "metadata": {
    "ExecuteTime": {
     "end_time": "2021-02-18T11:01:05.194445Z",
     "start_time": "2021-02-18T11:01:01.143208Z"
    }
   },
   "outputs": [],
   "source": [
    "df.order_date = pd.to_datetime(df.order_date, format='%m/%d/%Y')\n",
    "df.ship_date = pd.to_datetime(df.ship_date, format='%m/%d/%Y')"
   ]
  },
  {
   "cell_type": "code",
   "execution_count": null,
   "metadata": {
    "ExecuteTime": {
     "end_time": "2021-02-18T11:01:05.230647Z",
     "start_time": "2021-02-18T11:01:05.196063Z"
    }
   },
   "outputs": [],
   "source": [
    "head(df, 1)"
   ]
  },
  {
   "cell_type": "markdown",
   "metadata": {},
   "source": [
    "# Postgres DB example"
   ]
  },
  {
   "cell_type": "markdown",
   "metadata": {},
   "source": [
    "## Create table in target database"
   ]
  },
  {
   "cell_type": "markdown",
   "metadata": {},
   "source": [
    "Using the function 'create_table()', the required SQL statements to build \n",
    "a table can be generated, see below example output."
   ]
  },
  {
   "cell_type": "code",
   "execution_count": null,
   "metadata": {
    "ExecuteTime": {
     "end_time": "2021-02-18T11:01:05.245011Z",
     "start_time": "2021-02-18T11:01:05.233786Z"
    }
   },
   "outputs": [],
   "source": [
    "print(create_table(df, tablename='example_table'))"
   ]
  },
  {
   "cell_type": "markdown",
   "metadata": {},
   "source": [
    "## Connect and insert data"
   ]
  },
  {
   "cell_type": "markdown",
   "metadata": {
    "ExecuteTime": {
     "end_time": "2021-02-18T08:59:48.898668Z",
     "start_time": "2021-02-18T08:59:48.460534Z"
    }
   },
   "source": [
    "Optionally, split and process data into multiple parts/pieces."
   ]
  },
  {
   "cell_type": "code",
   "execution_count": null,
   "metadata": {
    "ExecuteTime": {
     "end_time": "2021-02-18T11:01:05.500622Z",
     "start_time": "2021-02-18T11:01:05.249509Z"
    }
   },
   "outputs": [],
   "source": [
    "list_dataframes = np.array_split(df, indices_or_sections=10)"
   ]
  },
  {
   "cell_type": "code",
   "execution_count": null,
   "metadata": {
    "ExecuteTime": {
     "end_time": "2021-02-18T11:01:48.162745Z",
     "start_time": "2021-02-18T11:01:05.508158Z"
    }
   },
   "outputs": [],
   "source": [
    "table_name = 'testtable'\n",
    "\n",
    "sql = [f'''drop table if exists {table_name}''', \n",
    "       create_table(df, table_name)]\n",
    "sql = '; '.join(sql)\n",
    "\n",
    "with connect(connection='Connection1') as con:\n",
    "\n",
    "    try:\n",
    "        cursor = con.cursor()\n",
    "        cursor.execute(sql)\n",
    "        logger.debug(sql)\n",
    "\n",
    "        for dx in list_dataframes:\n",
    "            \n",
    "            sql = insert(dx, table_name, info=False)\n",
    "            logger.debug(sql)\n",
    "            \n",
    "            cursor.execute(sql)\n",
    "            logger.info(f'{dx.shape[0]} rows inserted into {table_name} table.')\n",
    "\n",
    "    except (Exception, Error) as error:\n",
    "        logger.info(f\"Error while connecting to {con}\", error)\n",
    "    finally:\n",
    "        if con:\n",
    "            cursor.close()\n",
    "            logger.info(\"Connection closed\")"
   ]
  },
  {
   "cell_type": "markdown",
   "metadata": {},
   "source": [
    "## Check data"
   ]
  },
  {
   "cell_type": "code",
   "execution_count": null,
   "metadata": {
    "ExecuteTime": {
     "end_time": "2021-02-18T11:02:07.364541Z",
     "start_time": "2021-02-18T11:01:48.168566Z"
    }
   },
   "outputs": [],
   "source": [
    "sql = f'''select * from {table_name}'''\n",
    "df = read_sql(sql=sql, con=con, sql_info=False, info=False)\n",
    "head(df, 2)"
   ]
  },
  {
   "cell_type": "code",
   "execution_count": null,
   "metadata": {},
   "outputs": [],
   "source": []
  }
 ],
 "metadata": {
  "kernelspec": {
   "display_name": "Python 3",
   "language": "python",
   "name": "python3"
  },
  "language_info": {
   "codemirror_mode": {
    "name": "ipython",
    "version": 3
   },
   "file_extension": ".py",
   "mimetype": "text/x-python",
   "name": "python",
   "nbconvert_exporter": "python",
   "pygments_lexer": "ipython3",
   "version": "3.8.5"
  },
  "toc": {
   "base_numbering": 1,
   "nav_menu": {},
   "number_sections": true,
   "sideBar": true,
   "skip_h1_title": false,
   "title_cell": "Table of Contents",
   "title_sidebar": "Contents",
   "toc_cell": false,
   "toc_position": {
    "height": "calc(100% - 180px)",
    "left": "10px",
    "top": "150px",
    "width": "336px"
   },
   "toc_section_display": true,
   "toc_window_display": true
  }
 },
 "nbformat": 4,
 "nbformat_minor": 4
}
