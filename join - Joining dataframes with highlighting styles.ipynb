{
 "cells": [
  {
   "cell_type": "markdown",
   "metadata": {},
   "source": [
    "# Setup"
   ]
  },
  {
   "cell_type": "code",
   "execution_count": 1,
   "metadata": {
    "ExecuteTime": {
     "end_time": "2021-03-11T16:33:52.466456Z",
     "start_time": "2021-03-11T16:33:51.289671Z"
    }
   },
   "outputs": [
    {
     "name": "stderr",
     "output_type": "stream",
     "text": [
      "piper v0.1.0: Monday, 29 March 2021 19:08:53\n"
     ]
    }
   ],
   "source": [
    "from piper.defaults import *"
   ]
  },
  {
   "cell_type": "markdown",
   "metadata": {},
   "source": [
    "# Import data"
   ]
  },
  {
   "cell_type": "code",
   "execution_count": 2,
   "metadata": {
    "ExecuteTime": {
     "end_time": "2021-03-11T16:33:52.724313Z",
     "start_time": "2021-03-11T16:33:52.469792Z"
    }
   },
   "outputs": [
    {
     "name": "stderr",
     "output_type": "stream",
     "text": [
      "134 rows, 4 columns\n"
     ]
    },
    {
     "data": {
      "text/html": [
       "<div>\n",
       "<style scoped>\n",
       "    .dataframe tbody tr th:only-of-type {\n",
       "        vertical-align: middle;\n",
       "    }\n",
       "\n",
       "    .dataframe tbody tr th {\n",
       "        vertical-align: top;\n",
       "    }\n",
       "\n",
       "    .dataframe thead th {\n",
       "        text-align: right;\n",
       "    }\n",
       "</style>\n",
       "<table border=\"1\" class=\"dataframe\">\n",
       "  <thead>\n",
       "    <tr style=\"text-align: right;\">\n",
       "      <th></th>\n",
       "      <th>SalesRepID</th>\n",
       "      <th>SalesRepName</th>\n",
       "      <th>HireDate</th>\n",
       "      <th>TerritoryID</th>\n",
       "    </tr>\n",
       "  </thead>\n",
       "  <tbody>\n",
       "    <tr>\n",
       "      <th>0</th>\n",
       "      <td>872-44-12</td>\n",
       "      <td>Sol Marroquin</td>\n",
       "      <td>1994-02-03</td>\n",
       "      <td>NLD</td>\n",
       "    </tr>\n",
       "    <tr>\n",
       "      <th>1</th>\n",
       "      <td>872-44-22</td>\n",
       "      <td>Kiera Mcfall</td>\n",
       "      <td>1994-09-10</td>\n",
       "      <td>MEX</td>\n",
       "    </tr>\n",
       "    <tr>\n",
       "      <th>2</th>\n",
       "      <td>872-44-32</td>\n",
       "      <td>Raven Beatty</td>\n",
       "      <td>1995-03-19</td>\n",
       "      <td>POL</td>\n",
       "    </tr>\n",
       "    <tr>\n",
       "      <th>3</th>\n",
       "      <td>872-44-42</td>\n",
       "      <td>Elinore Dees</td>\n",
       "      <td>1995-06-08</td>\n",
       "      <td>HND</td>\n",
       "    </tr>\n",
       "  </tbody>\n",
       "</table>\n",
       "</div>"
      ],
      "text/plain": [
       "  SalesRepID   SalesRepName   HireDate TerritoryID\n",
       "0  872-44-12  Sol Marroquin 1994-02-03         NLD\n",
       "1  872-44-22   Kiera Mcfall 1994-09-10         MEX\n",
       "2  872-44-32   Raven Beatty 1995-03-19         POL\n",
       "3  872-44-42   Elinore Dees 1995-06-08         HND"
      ]
     },
     "metadata": {},
     "output_type": "display_data"
    },
    {
     "name": "stderr",
     "output_type": "stream",
     "text": [
      "126 rows, 2 columns\n"
     ]
    },
    {
     "data": {
      "text/html": [
       "<div>\n",
       "<style scoped>\n",
       "    .dataframe tbody tr th:only-of-type {\n",
       "        vertical-align: middle;\n",
       "    }\n",
       "\n",
       "    .dataframe tbody tr th {\n",
       "        vertical-align: top;\n",
       "    }\n",
       "\n",
       "    .dataframe thead th {\n",
       "        text-align: right;\n",
       "    }\n",
       "</style>\n",
       "<table border=\"1\" class=\"dataframe\">\n",
       "  <thead>\n",
       "    <tr style=\"text-align: right;\">\n",
       "      <th></th>\n",
       "      <th>TerritoryID</th>\n",
       "      <th>Territory</th>\n",
       "    </tr>\n",
       "  </thead>\n",
       "  <tbody>\n",
       "    <tr>\n",
       "      <th>0</th>\n",
       "      <td>AFG</td>\n",
       "      <td>Afghanistan</td>\n",
       "    </tr>\n",
       "    <tr>\n",
       "      <th>1</th>\n",
       "      <td>ALB</td>\n",
       "      <td>Albania</td>\n",
       "    </tr>\n",
       "    <tr>\n",
       "      <th>2</th>\n",
       "      <td>APR</td>\n",
       "      <td>Aprine</td>\n",
       "    </tr>\n",
       "    <tr>\n",
       "      <th>3</th>\n",
       "      <td>ARE</td>\n",
       "      <td>United Arab Emirates</td>\n",
       "    </tr>\n",
       "  </tbody>\n",
       "</table>\n",
       "</div>"
      ],
      "text/plain": [
       "  TerritoryID             Territory\n",
       "0         AFG           Afghanistan\n",
       "1         ALB               Albania\n",
       "2         APR                Aprine\n",
       "3         ARE  United Arab Emirates"
      ]
     },
     "execution_count": 2,
     "metadata": {},
     "output_type": "execute_result"
    }
   ],
   "source": [
    "salesreps = 'inputs/006-MSPTDA-dSalesRepTable.xlsx'\n",
    "salesreps = pd.read_excel(salesreps)\n",
    "%piper salesreps >> head() >> display()\n",
    "\n",
    "territories = 'inputs/006-MSPTDA-dTerritoryTable.txt'\n",
    "territories = pd.read_csv(territories, sep='\\t')\n",
    "%piper territories >> head()"
   ]
  },
  {
   "cell_type": "markdown",
   "metadata": {},
   "source": [
    "# Examples"
   ]
  },
  {
   "cell_type": "markdown",
   "metadata": {},
   "source": [
    "## Example 1: Sales/Territories"
   ]
  },
  {
   "cell_type": "code",
   "execution_count": 3,
   "metadata": {
    "ExecuteTime": {
     "end_time": "2021-03-11T16:33:52.746880Z",
     "start_time": "2021-03-11T16:33:52.727771Z"
    }
   },
   "outputs": [],
   "source": [
    "%%piper\n",
    "sales_with_territories <- salesreps\n",
    ">> inner_join(territories)"
   ]
  },
  {
   "cell_type": "code",
   "execution_count": 4,
   "metadata": {
    "ExecuteTime": {
     "end_time": "2021-03-11T16:33:52.776248Z",
     "start_time": "2021-03-11T16:33:52.750067Z"
    }
   },
   "outputs": [
    {
     "name": "stderr",
     "output_type": "stream",
     "text": [
      "134 rows, 5 columns\n"
     ]
    },
    {
     "data": {
      "text/html": [
       "<div>\n",
       "<style scoped>\n",
       "    .dataframe tbody tr th:only-of-type {\n",
       "        vertical-align: middle;\n",
       "    }\n",
       "\n",
       "    .dataframe tbody tr th {\n",
       "        vertical-align: top;\n",
       "    }\n",
       "\n",
       "    .dataframe thead th {\n",
       "        text-align: right;\n",
       "    }\n",
       "</style>\n",
       "<table border=\"1\" class=\"dataframe\">\n",
       "  <thead>\n",
       "    <tr style=\"text-align: right;\">\n",
       "      <th></th>\n",
       "      <th>SalesRepID</th>\n",
       "      <th>SalesRepName</th>\n",
       "      <th>HireDate</th>\n",
       "      <th>TerritoryID</th>\n",
       "      <th>Territory</th>\n",
       "    </tr>\n",
       "  </thead>\n",
       "  <tbody>\n",
       "    <tr>\n",
       "      <th>0</th>\n",
       "      <td>872-44-12</td>\n",
       "      <td>Sol Marroquin</td>\n",
       "      <td>1994-02-03</td>\n",
       "      <td>NLD</td>\n",
       "      <td>Netherlands</td>\n",
       "    </tr>\n",
       "    <tr>\n",
       "      <th>1</th>\n",
       "      <td>872-49-42</td>\n",
       "      <td>Sharlene Melendez</td>\n",
       "      <td>2007-01-26</td>\n",
       "      <td>NLD</td>\n",
       "      <td>Netherlands</td>\n",
       "    </tr>\n",
       "    <tr>\n",
       "      <th>2</th>\n",
       "      <td>872-44-22</td>\n",
       "      <td>Kiera Mcfall</td>\n",
       "      <td>1994-09-10</td>\n",
       "      <td>MEX</td>\n",
       "      <td>Mexico</td>\n",
       "    </tr>\n",
       "    <tr>\n",
       "      <th>3</th>\n",
       "      <td>872-44-32</td>\n",
       "      <td>Raven Beatty</td>\n",
       "      <td>1995-03-19</td>\n",
       "      <td>POL</td>\n",
       "      <td>Poland</td>\n",
       "    </tr>\n",
       "  </tbody>\n",
       "</table>\n",
       "</div>"
      ],
      "text/plain": [
       "  SalesRepID       SalesRepName   HireDate TerritoryID    Territory\n",
       "0  872-44-12      Sol Marroquin 1994-02-03         NLD  Netherlands\n",
       "1  872-49-42  Sharlene Melendez 2007-01-26         NLD  Netherlands\n",
       "2  872-44-22       Kiera Mcfall 1994-09-10         MEX       Mexico\n",
       "3  872-44-32       Raven Beatty 1995-03-19         POL       Poland"
      ]
     },
     "execution_count": 4,
     "metadata": {},
     "output_type": "execute_result"
    }
   ],
   "source": [
    "head(sales_with_territories)"
   ]
  },
  {
   "cell_type": "code",
   "execution_count": 5,
   "metadata": {
    "ExecuteTime": {
     "end_time": "2021-03-11T16:33:52.814566Z",
     "start_time": "2021-03-11T16:33:52.782193Z"
    }
   },
   "outputs": [
    {
     "name": "stderr",
     "output_type": "stream",
     "text": [
      "82 rows, 3 columns\n"
     ]
    },
    {
     "data": {
      "text/html": [
       "<div>\n",
       "<style scoped>\n",
       "    .dataframe tbody tr th:only-of-type {\n",
       "        vertical-align: middle;\n",
       "    }\n",
       "\n",
       "    .dataframe tbody tr th {\n",
       "        vertical-align: top;\n",
       "    }\n",
       "\n",
       "    .dataframe thead th {\n",
       "        text-align: right;\n",
       "    }\n",
       "</style>\n",
       "<table border=\"1\" class=\"dataframe\">\n",
       "  <thead>\n",
       "    <tr style=\"text-align: right;\">\n",
       "      <th></th>\n",
       "      <th>n</th>\n",
       "      <th>%</th>\n",
       "      <th>cum %</th>\n",
       "    </tr>\n",
       "    <tr>\n",
       "      <th>Territory</th>\n",
       "      <th></th>\n",
       "      <th></th>\n",
       "      <th></th>\n",
       "    </tr>\n",
       "  </thead>\n",
       "  <tbody>\n",
       "    <tr>\n",
       "      <th>Kazakhstan</th>\n",
       "      <td>5</td>\n",
       "      <td>3.73</td>\n",
       "      <td>3.73</td>\n",
       "    </tr>\n",
       "    <tr>\n",
       "      <th>Argentina</th>\n",
       "      <td>4</td>\n",
       "      <td>2.99</td>\n",
       "      <td>6.72</td>\n",
       "    </tr>\n",
       "    <tr>\n",
       "      <th>Mongolia</th>\n",
       "      <td>4</td>\n",
       "      <td>2.99</td>\n",
       "      <td>9.70</td>\n",
       "    </tr>\n",
       "    <tr>\n",
       "      <th>Philippines</th>\n",
       "      <td>3</td>\n",
       "      <td>2.24</td>\n",
       "      <td>11.94</td>\n",
       "    </tr>\n",
       "  </tbody>\n",
       "</table>\n",
       "</div>"
      ],
      "text/plain": [
       "             n     %  cum %\n",
       "Territory                  \n",
       "Kazakhstan   5  3.73   3.73\n",
       "Argentina    4  2.99   6.72\n",
       "Mongolia     4  2.99   9.70\n",
       "Philippines  3  2.24  11.94"
      ]
     },
     "execution_count": 5,
     "metadata": {},
     "output_type": "execute_result"
    }
   ],
   "source": [
    "%%piper\n",
    "sales_with_territories\n",
    ">> count('Territory', percent=True) \n",
    ">> head()"
   ]
  },
  {
   "cell_type": "code",
   "execution_count": 6,
   "metadata": {
    "ExecuteTime": {
     "end_time": "2021-03-11T16:33:52.860387Z",
     "start_time": "2021-03-11T16:33:52.817975Z"
    }
   },
   "outputs": [
    {
     "data": {
      "text/html": [
       "<div>\n",
       "<style scoped>\n",
       "    .dataframe tbody tr th:only-of-type {\n",
       "        vertical-align: middle;\n",
       "    }\n",
       "\n",
       "    .dataframe tbody tr th {\n",
       "        vertical-align: top;\n",
       "    }\n",
       "\n",
       "    .dataframe thead th {\n",
       "        text-align: right;\n",
       "    }\n",
       "</style>\n",
       "<table border=\"1\" class=\"dataframe\">\n",
       "  <thead>\n",
       "    <tr style=\"text-align: right;\">\n",
       "      <th></th>\n",
       "      <th>n</th>\n",
       "      <th>%</th>\n",
       "      <th>cum %</th>\n",
       "    </tr>\n",
       "    <tr>\n",
       "      <th>HireDate</th>\n",
       "      <th></th>\n",
       "      <th></th>\n",
       "      <th></th>\n",
       "    </tr>\n",
       "  </thead>\n",
       "  <tbody>\n",
       "    <tr>\n",
       "      <th>2008-12-19</th>\n",
       "      <td>2</td>\n",
       "      <td>1.49</td>\n",
       "      <td>1.49</td>\n",
       "    </tr>\n",
       "  </tbody>\n",
       "</table>\n",
       "</div>"
      ],
      "text/plain": [
       "            n     %  cum %\n",
       "HireDate                  \n",
       "2008-12-19  2  1.49   1.49"
      ]
     },
     "execution_count": 6,
     "metadata": {},
     "output_type": "execute_result"
    }
   ],
   "source": [
    "%%piper\n",
    "sales_with_territories \n",
    ">> count('HireDate')\n",
    ">> where(\"n > 1\")"
   ]
  },
  {
   "cell_type": "markdown",
   "metadata": {},
   "source": [
    "## Example 2: left/right"
   ]
  },
  {
   "cell_type": "code",
   "execution_count": 7,
   "metadata": {
    "ExecuteTime": {
     "end_time": "2021-03-11T16:33:52.903778Z",
     "start_time": "2021-03-11T16:33:52.865059Z"
    }
   },
   "outputs": [
    {
     "data": {
      "text/html": [
       "<div>\n",
       "<style scoped>\n",
       "    .dataframe tbody tr th:only-of-type {\n",
       "        vertical-align: middle;\n",
       "    }\n",
       "\n",
       "    .dataframe tbody tr th {\n",
       "        vertical-align: top;\n",
       "    }\n",
       "\n",
       "    .dataframe thead th {\n",
       "        text-align: right;\n",
       "    }\n",
       "</style>\n",
       "<table border=\"1\" class=\"dataframe\">\n",
       "  <thead>\n",
       "    <tr style=\"text-align: right;\">\n",
       "      <th></th>\n",
       "      <th>id</th>\n",
       "      <th>Name</th>\n",
       "      <th>subject_id</th>\n",
       "    </tr>\n",
       "  </thead>\n",
       "  <tbody>\n",
       "    <tr>\n",
       "      <th>0</th>\n",
       "      <td>1</td>\n",
       "      <td>Alex</td>\n",
       "      <td>sub1</td>\n",
       "    </tr>\n",
       "    <tr>\n",
       "      <th>1</th>\n",
       "      <td>2</td>\n",
       "      <td>Amy</td>\n",
       "      <td>sub2</td>\n",
       "    </tr>\n",
       "    <tr>\n",
       "      <th>2</th>\n",
       "      <td>3</td>\n",
       "      <td>Allen</td>\n",
       "      <td>sub4</td>\n",
       "    </tr>\n",
       "    <tr>\n",
       "      <th>3</th>\n",
       "      <td>4</td>\n",
       "      <td>Alice</td>\n",
       "      <td>sub6</td>\n",
       "    </tr>\n",
       "    <tr>\n",
       "      <th>4</th>\n",
       "      <td>5</td>\n",
       "      <td>Ayoung</td>\n",
       "      <td>sub5</td>\n",
       "    </tr>\n",
       "  </tbody>\n",
       "</table>\n",
       "</div>"
      ],
      "text/plain": [
       "   id    Name subject_id\n",
       "0   1    Alex       sub1\n",
       "1   2     Amy       sub2\n",
       "2   3   Allen       sub4\n",
       "3   4   Alice       sub6\n",
       "4   5  Ayoung       sub5"
      ]
     },
     "metadata": {},
     "output_type": "display_data"
    },
    {
     "data": {
      "text/html": [
       "<div>\n",
       "<style scoped>\n",
       "    .dataframe tbody tr th:only-of-type {\n",
       "        vertical-align: middle;\n",
       "    }\n",
       "\n",
       "    .dataframe tbody tr th {\n",
       "        vertical-align: top;\n",
       "    }\n",
       "\n",
       "    .dataframe thead th {\n",
       "        text-align: right;\n",
       "    }\n",
       "</style>\n",
       "<table border=\"1\" class=\"dataframe\">\n",
       "  <thead>\n",
       "    <tr style=\"text-align: right;\">\n",
       "      <th></th>\n",
       "      <th>id</th>\n",
       "      <th>Name</th>\n",
       "      <th>subject_id</th>\n",
       "    </tr>\n",
       "  </thead>\n",
       "  <tbody>\n",
       "    <tr>\n",
       "      <th>0</th>\n",
       "      <td>1</td>\n",
       "      <td>Billy</td>\n",
       "      <td>sub2</td>\n",
       "    </tr>\n",
       "    <tr>\n",
       "      <th>1</th>\n",
       "      <td>2</td>\n",
       "      <td>Brian</td>\n",
       "      <td>sub4</td>\n",
       "    </tr>\n",
       "    <tr>\n",
       "      <th>2</th>\n",
       "      <td>3</td>\n",
       "      <td>Bran</td>\n",
       "      <td>sub3</td>\n",
       "    </tr>\n",
       "    <tr>\n",
       "      <th>3</th>\n",
       "      <td>4</td>\n",
       "      <td>Bryce</td>\n",
       "      <td>sub6</td>\n",
       "    </tr>\n",
       "    <tr>\n",
       "      <th>4</th>\n",
       "      <td>5</td>\n",
       "      <td>Betty</td>\n",
       "      <td>sub5</td>\n",
       "    </tr>\n",
       "  </tbody>\n",
       "</table>\n",
       "</div>"
      ],
      "text/plain": [
       "   id   Name subject_id\n",
       "0   1  Billy       sub2\n",
       "1   2  Brian       sub4\n",
       "2   3   Bran       sub3\n",
       "3   4  Bryce       sub6\n",
       "4   5  Betty       sub5"
      ]
     },
     "metadata": {},
     "output_type": "display_data"
    }
   ],
   "source": [
    "left = pd.DataFrame({\n",
    "    'id': [1, 2, 3, 4, 5],\n",
    "    'Name': ['Alex', 'Amy', 'Allen', 'Alice', 'Ayoung'],\n",
    "    'subject_id': ['sub1', 'sub2', 'sub4', 'sub6', 'sub5']\n",
    "})\n",
    "display(left)\n",
    "\n",
    "right = pd.DataFrame({\n",
    "    'id': [1, 2, 3, 4, 5],\n",
    "    'Name': ['Billy', 'Brian', 'Bran', 'Bryce', 'Betty'],\n",
    "    'subject_id': ['sub2', 'sub4', 'sub3', 'sub6', 'sub5']\n",
    "})\n",
    "display(right)"
   ]
  },
  {
   "cell_type": "markdown",
   "metadata": {},
   "source": [
    "### outer"
   ]
  },
  {
   "cell_type": "code",
   "execution_count": 8,
   "metadata": {
    "ExecuteTime": {
     "end_time": "2021-03-11T16:33:53.024218Z",
     "start_time": "2021-03-11T16:33:52.908207Z"
    }
   },
   "outputs": [
    {
     "data": {
      "text/html": [
       "<style  type=\"text/css\" >\n",
       "</style><table id=\"T_bef78_\" ><thead>    <tr>        <th class=\"blank level0\" ></th>        <th class=\"col_heading level0 col0\" >id_x</th>        <th class=\"col_heading level0 col1\" >Name_x</th>        <th class=\"col_heading level0 col2\" >subject_id_x</th>        <th class=\"col_heading level0 col3\" >id_y</th>        <th class=\"col_heading level0 col4\" >Name_y</th>        <th class=\"col_heading level0 col5\" >subject_id_y</th>    </tr></thead><tbody>\n",
       "                <tr>\n",
       "                        <th id=\"T_bef78_level0_row0\" class=\"row_heading level0 row0\" >0</th>\n",
       "                        <td id=\"T_bef78_row0_col0\" class=\"data row0 col0\" >1</td>\n",
       "                        <td id=\"T_bef78_row0_col1\" class=\"data row0 col1\" >Alex</td>\n",
       "                        <td id=\"T_bef78_row0_col2\" class=\"data row0 col2\" >sub1</td>\n",
       "                        <td id=\"T_bef78_row0_col3\" class=\"data row0 col3\" >1</td>\n",
       "                        <td id=\"T_bef78_row0_col4\" class=\"data row0 col4\" >Billy</td>\n",
       "                        <td id=\"T_bef78_row0_col5\" class=\"data row0 col5\" >sub2</td>\n",
       "            </tr>\n",
       "            <tr>\n",
       "                        <th id=\"T_bef78_level0_row1\" class=\"row_heading level0 row1\" >1</th>\n",
       "                        <td id=\"T_bef78_row1_col0\" class=\"data row1 col0\" >2</td>\n",
       "                        <td id=\"T_bef78_row1_col1\" class=\"data row1 col1\" >Amy</td>\n",
       "                        <td id=\"T_bef78_row1_col2\" class=\"data row1 col2\" >sub2</td>\n",
       "                        <td id=\"T_bef78_row1_col3\" class=\"data row1 col3\" >2</td>\n",
       "                        <td id=\"T_bef78_row1_col4\" class=\"data row1 col4\" >Brian</td>\n",
       "                        <td id=\"T_bef78_row1_col5\" class=\"data row1 col5\" >sub4</td>\n",
       "            </tr>\n",
       "            <tr>\n",
       "                        <th id=\"T_bef78_level0_row2\" class=\"row_heading level0 row2\" >2</th>\n",
       "                        <td id=\"T_bef78_row2_col0\" class=\"data row2 col0\" >3</td>\n",
       "                        <td id=\"T_bef78_row2_col1\" class=\"data row2 col1\" >Allen</td>\n",
       "                        <td id=\"T_bef78_row2_col2\" class=\"data row2 col2\" >sub4</td>\n",
       "                        <td id=\"T_bef78_row2_col3\" class=\"data row2 col3\" >3</td>\n",
       "                        <td id=\"T_bef78_row2_col4\" class=\"data row2 col4\" >Bran</td>\n",
       "                        <td id=\"T_bef78_row2_col5\" class=\"data row2 col5\" >sub3</td>\n",
       "            </tr>\n",
       "            <tr>\n",
       "                        <th id=\"T_bef78_level0_row3\" class=\"row_heading level0 row3\" >3</th>\n",
       "                        <td id=\"T_bef78_row3_col0\" class=\"data row3 col0\" >4</td>\n",
       "                        <td id=\"T_bef78_row3_col1\" class=\"data row3 col1\" >Alice</td>\n",
       "                        <td id=\"T_bef78_row3_col2\" class=\"data row3 col2\" >sub6</td>\n",
       "                        <td id=\"T_bef78_row3_col3\" class=\"data row3 col3\" >4</td>\n",
       "                        <td id=\"T_bef78_row3_col4\" class=\"data row3 col4\" >Bryce</td>\n",
       "                        <td id=\"T_bef78_row3_col5\" class=\"data row3 col5\" >sub6</td>\n",
       "            </tr>\n",
       "            <tr>\n",
       "                        <th id=\"T_bef78_level0_row4\" class=\"row_heading level0 row4\" >4</th>\n",
       "                        <td id=\"T_bef78_row4_col0\" class=\"data row4 col0\" >5</td>\n",
       "                        <td id=\"T_bef78_row4_col1\" class=\"data row4 col1\" >Ayoung</td>\n",
       "                        <td id=\"T_bef78_row4_col2\" class=\"data row4 col2\" >sub5</td>\n",
       "                        <td id=\"T_bef78_row4_col3\" class=\"data row4 col3\" >5</td>\n",
       "                        <td id=\"T_bef78_row4_col4\" class=\"data row4 col4\" >Betty</td>\n",
       "                        <td id=\"T_bef78_row4_col5\" class=\"data row4 col5\" >sub5</td>\n",
       "            </tr>\n",
       "    </tbody></table>"
      ],
      "text/plain": [
       "<pandas.io.formats.style.Styler at 0x7f4cc6dff190>"
      ]
     },
     "execution_count": 8,
     "metadata": {},
     "output_type": "execute_result"
    }
   ],
   "source": [
    "%%piper\n",
    "left \n",
    ">> outer_join(right, left_index=True, right_index=True,\n",
    "           how='outer').style.highlight_null(null_color='yellow')"
   ]
  },
  {
   "cell_type": "code",
   "execution_count": 9,
   "metadata": {
    "ExecuteTime": {
     "end_time": "2021-03-11T16:33:53.061651Z",
     "start_time": "2021-03-11T16:33:53.026539Z"
    }
   },
   "outputs": [
    {
     "data": {
      "text/html": [
       "<style  type=\"text/css\" >\n",
       "</style><table id=\"T_0e2f6_\" ><thead>    <tr>        <th class=\"blank level0\" ></th>        <th class=\"col_heading level0 col0\" >id</th>        <th class=\"col_heading level0 col1\" >Name_x</th>        <th class=\"col_heading level0 col2\" >subject_id_x</th>        <th class=\"col_heading level0 col3\" >Name_y</th>        <th class=\"col_heading level0 col4\" >subject_id_y</th>    </tr></thead><tbody>\n",
       "                <tr>\n",
       "                        <th id=\"T_0e2f6_level0_row0\" class=\"row_heading level0 row0\" >0</th>\n",
       "                        <td id=\"T_0e2f6_row0_col0\" class=\"data row0 col0\" >1</td>\n",
       "                        <td id=\"T_0e2f6_row0_col1\" class=\"data row0 col1\" >Alex</td>\n",
       "                        <td id=\"T_0e2f6_row0_col2\" class=\"data row0 col2\" >sub1</td>\n",
       "                        <td id=\"T_0e2f6_row0_col3\" class=\"data row0 col3\" >Billy</td>\n",
       "                        <td id=\"T_0e2f6_row0_col4\" class=\"data row0 col4\" >sub2</td>\n",
       "            </tr>\n",
       "            <tr>\n",
       "                        <th id=\"T_0e2f6_level0_row1\" class=\"row_heading level0 row1\" >1</th>\n",
       "                        <td id=\"T_0e2f6_row1_col0\" class=\"data row1 col0\" >2</td>\n",
       "                        <td id=\"T_0e2f6_row1_col1\" class=\"data row1 col1\" >Amy</td>\n",
       "                        <td id=\"T_0e2f6_row1_col2\" class=\"data row1 col2\" >sub2</td>\n",
       "                        <td id=\"T_0e2f6_row1_col3\" class=\"data row1 col3\" >Brian</td>\n",
       "                        <td id=\"T_0e2f6_row1_col4\" class=\"data row1 col4\" >sub4</td>\n",
       "            </tr>\n",
       "            <tr>\n",
       "                        <th id=\"T_0e2f6_level0_row2\" class=\"row_heading level0 row2\" >2</th>\n",
       "                        <td id=\"T_0e2f6_row2_col0\" class=\"data row2 col0\" >3</td>\n",
       "                        <td id=\"T_0e2f6_row2_col1\" class=\"data row2 col1\" >Allen</td>\n",
       "                        <td id=\"T_0e2f6_row2_col2\" class=\"data row2 col2\" >sub4</td>\n",
       "                        <td id=\"T_0e2f6_row2_col3\" class=\"data row2 col3\" >Bran</td>\n",
       "                        <td id=\"T_0e2f6_row2_col4\" class=\"data row2 col4\" >sub3</td>\n",
       "            </tr>\n",
       "            <tr>\n",
       "                        <th id=\"T_0e2f6_level0_row3\" class=\"row_heading level0 row3\" >3</th>\n",
       "                        <td id=\"T_0e2f6_row3_col0\" class=\"data row3 col0\" >4</td>\n",
       "                        <td id=\"T_0e2f6_row3_col1\" class=\"data row3 col1\" >Alice</td>\n",
       "                        <td id=\"T_0e2f6_row3_col2\" class=\"data row3 col2\" >sub6</td>\n",
       "                        <td id=\"T_0e2f6_row3_col3\" class=\"data row3 col3\" >Bryce</td>\n",
       "                        <td id=\"T_0e2f6_row3_col4\" class=\"data row3 col4\" >sub6</td>\n",
       "            </tr>\n",
       "            <tr>\n",
       "                        <th id=\"T_0e2f6_level0_row4\" class=\"row_heading level0 row4\" >4</th>\n",
       "                        <td id=\"T_0e2f6_row4_col0\" class=\"data row4 col0\" >5</td>\n",
       "                        <td id=\"T_0e2f6_row4_col1\" class=\"data row4 col1\" >Ayoung</td>\n",
       "                        <td id=\"T_0e2f6_row4_col2\" class=\"data row4 col2\" >sub5</td>\n",
       "                        <td id=\"T_0e2f6_row4_col3\" class=\"data row4 col3\" >Betty</td>\n",
       "                        <td id=\"T_0e2f6_row4_col4\" class=\"data row4 col4\" >sub5</td>\n",
       "            </tr>\n",
       "    </tbody></table>"
      ],
      "text/plain": [
       "<pandas.io.formats.style.Styler at 0x7f4cc6dff220>"
      ]
     },
     "execution_count": 9,
     "metadata": {},
     "output_type": "execute_result"
    }
   ],
   "source": [
    "%%piper\n",
    "left \n",
    ">> outer_join(right, on='id').style.highlight_null(null_color='yellow')"
   ]
  },
  {
   "cell_type": "code",
   "execution_count": 10,
   "metadata": {
    "ExecuteTime": {
     "end_time": "2021-03-11T16:33:53.091175Z",
     "start_time": "2021-03-11T16:33:53.063902Z"
    }
   },
   "outputs": [
    {
     "data": {
      "text/html": [
       "<style  type=\"text/css\" >\n",
       "#T_f48ab_row0_col3,#T_f48ab_row0_col4,#T_f48ab_row5_col0,#T_f48ab_row5_col1{\n",
       "            background-color:  yellow;\n",
       "        }</style><table id=\"T_f48ab_\" ><thead>    <tr>        <th class=\"blank level0\" ></th>        <th class=\"col_heading level0 col0\" >id_x</th>        <th class=\"col_heading level0 col1\" >Name_x</th>        <th class=\"col_heading level0 col2\" >subject_id</th>        <th class=\"col_heading level0 col3\" >id_y</th>        <th class=\"col_heading level0 col4\" >Name_y</th>    </tr></thead><tbody>\n",
       "                <tr>\n",
       "                        <th id=\"T_f48ab_level0_row0\" class=\"row_heading level0 row0\" >0</th>\n",
       "                        <td id=\"T_f48ab_row0_col0\" class=\"data row0 col0\" >1.000000</td>\n",
       "                        <td id=\"T_f48ab_row0_col1\" class=\"data row0 col1\" >Alex</td>\n",
       "                        <td id=\"T_f48ab_row0_col2\" class=\"data row0 col2\" >sub1</td>\n",
       "                        <td id=\"T_f48ab_row0_col3\" class=\"data row0 col3\" >nan</td>\n",
       "                        <td id=\"T_f48ab_row0_col4\" class=\"data row0 col4\" >nan</td>\n",
       "            </tr>\n",
       "            <tr>\n",
       "                        <th id=\"T_f48ab_level0_row1\" class=\"row_heading level0 row1\" >1</th>\n",
       "                        <td id=\"T_f48ab_row1_col0\" class=\"data row1 col0\" >2.000000</td>\n",
       "                        <td id=\"T_f48ab_row1_col1\" class=\"data row1 col1\" >Amy</td>\n",
       "                        <td id=\"T_f48ab_row1_col2\" class=\"data row1 col2\" >sub2</td>\n",
       "                        <td id=\"T_f48ab_row1_col3\" class=\"data row1 col3\" >1.000000</td>\n",
       "                        <td id=\"T_f48ab_row1_col4\" class=\"data row1 col4\" >Billy</td>\n",
       "            </tr>\n",
       "            <tr>\n",
       "                        <th id=\"T_f48ab_level0_row2\" class=\"row_heading level0 row2\" >2</th>\n",
       "                        <td id=\"T_f48ab_row2_col0\" class=\"data row2 col0\" >3.000000</td>\n",
       "                        <td id=\"T_f48ab_row2_col1\" class=\"data row2 col1\" >Allen</td>\n",
       "                        <td id=\"T_f48ab_row2_col2\" class=\"data row2 col2\" >sub4</td>\n",
       "                        <td id=\"T_f48ab_row2_col3\" class=\"data row2 col3\" >2.000000</td>\n",
       "                        <td id=\"T_f48ab_row2_col4\" class=\"data row2 col4\" >Brian</td>\n",
       "            </tr>\n",
       "            <tr>\n",
       "                        <th id=\"T_f48ab_level0_row3\" class=\"row_heading level0 row3\" >3</th>\n",
       "                        <td id=\"T_f48ab_row3_col0\" class=\"data row3 col0\" >4.000000</td>\n",
       "                        <td id=\"T_f48ab_row3_col1\" class=\"data row3 col1\" >Alice</td>\n",
       "                        <td id=\"T_f48ab_row3_col2\" class=\"data row3 col2\" >sub6</td>\n",
       "                        <td id=\"T_f48ab_row3_col3\" class=\"data row3 col3\" >4.000000</td>\n",
       "                        <td id=\"T_f48ab_row3_col4\" class=\"data row3 col4\" >Bryce</td>\n",
       "            </tr>\n",
       "            <tr>\n",
       "                        <th id=\"T_f48ab_level0_row4\" class=\"row_heading level0 row4\" >4</th>\n",
       "                        <td id=\"T_f48ab_row4_col0\" class=\"data row4 col0\" >5.000000</td>\n",
       "                        <td id=\"T_f48ab_row4_col1\" class=\"data row4 col1\" >Ayoung</td>\n",
       "                        <td id=\"T_f48ab_row4_col2\" class=\"data row4 col2\" >sub5</td>\n",
       "                        <td id=\"T_f48ab_row4_col3\" class=\"data row4 col3\" >5.000000</td>\n",
       "                        <td id=\"T_f48ab_row4_col4\" class=\"data row4 col4\" >Betty</td>\n",
       "            </tr>\n",
       "            <tr>\n",
       "                        <th id=\"T_f48ab_level0_row5\" class=\"row_heading level0 row5\" >5</th>\n",
       "                        <td id=\"T_f48ab_row5_col0\" class=\"data row5 col0\" >nan</td>\n",
       "                        <td id=\"T_f48ab_row5_col1\" class=\"data row5 col1\" >nan</td>\n",
       "                        <td id=\"T_f48ab_row5_col2\" class=\"data row5 col2\" >sub3</td>\n",
       "                        <td id=\"T_f48ab_row5_col3\" class=\"data row5 col3\" >3.000000</td>\n",
       "                        <td id=\"T_f48ab_row5_col4\" class=\"data row5 col4\" >Bran</td>\n",
       "            </tr>\n",
       "    </tbody></table>"
      ],
      "text/plain": [
       "<pandas.io.formats.style.Styler at 0x7f4cc6ae5340>"
      ]
     },
     "execution_count": 10,
     "metadata": {},
     "output_type": "execute_result"
    }
   ],
   "source": [
    "%%piper\n",
    "left \n",
    ">> outer_join(right, on='subject_id').style.highlight_null(null_color='yellow')"
   ]
  },
  {
   "cell_type": "markdown",
   "metadata": {},
   "source": [
    "### left"
   ]
  },
  {
   "cell_type": "code",
   "execution_count": 11,
   "metadata": {
    "ExecuteTime": {
     "end_time": "2021-03-11T16:33:53.142923Z",
     "start_time": "2021-03-11T16:33:53.092877Z"
    }
   },
   "outputs": [
    {
     "data": {
      "text/html": [
       "<style  type=\"text/css\" >\n",
       "</style><table id=\"T_e7eff_\" ><thead>    <tr>        <th class=\"blank level0\" ></th>        <th class=\"col_heading level0 col0\" >id</th>        <th class=\"col_heading level0 col1\" >Name_x</th>        <th class=\"col_heading level0 col2\" >subject_id_x</th>        <th class=\"col_heading level0 col3\" >Name_y</th>        <th class=\"col_heading level0 col4\" >subject_id_y</th>    </tr></thead><tbody>\n",
       "                <tr>\n",
       "                        <th id=\"T_e7eff_level0_row0\" class=\"row_heading level0 row0\" >0</th>\n",
       "                        <td id=\"T_e7eff_row0_col0\" class=\"data row0 col0\" >1</td>\n",
       "                        <td id=\"T_e7eff_row0_col1\" class=\"data row0 col1\" >Alex</td>\n",
       "                        <td id=\"T_e7eff_row0_col2\" class=\"data row0 col2\" >sub1</td>\n",
       "                        <td id=\"T_e7eff_row0_col3\" class=\"data row0 col3\" >Billy</td>\n",
       "                        <td id=\"T_e7eff_row0_col4\" class=\"data row0 col4\" >sub2</td>\n",
       "            </tr>\n",
       "            <tr>\n",
       "                        <th id=\"T_e7eff_level0_row1\" class=\"row_heading level0 row1\" >1</th>\n",
       "                        <td id=\"T_e7eff_row1_col0\" class=\"data row1 col0\" >2</td>\n",
       "                        <td id=\"T_e7eff_row1_col1\" class=\"data row1 col1\" >Amy</td>\n",
       "                        <td id=\"T_e7eff_row1_col2\" class=\"data row1 col2\" >sub2</td>\n",
       "                        <td id=\"T_e7eff_row1_col3\" class=\"data row1 col3\" >Brian</td>\n",
       "                        <td id=\"T_e7eff_row1_col4\" class=\"data row1 col4\" >sub4</td>\n",
       "            </tr>\n",
       "            <tr>\n",
       "                        <th id=\"T_e7eff_level0_row2\" class=\"row_heading level0 row2\" >2</th>\n",
       "                        <td id=\"T_e7eff_row2_col0\" class=\"data row2 col0\" >3</td>\n",
       "                        <td id=\"T_e7eff_row2_col1\" class=\"data row2 col1\" >Allen</td>\n",
       "                        <td id=\"T_e7eff_row2_col2\" class=\"data row2 col2\" >sub4</td>\n",
       "                        <td id=\"T_e7eff_row2_col3\" class=\"data row2 col3\" >Bran</td>\n",
       "                        <td id=\"T_e7eff_row2_col4\" class=\"data row2 col4\" >sub3</td>\n",
       "            </tr>\n",
       "            <tr>\n",
       "                        <th id=\"T_e7eff_level0_row3\" class=\"row_heading level0 row3\" >3</th>\n",
       "                        <td id=\"T_e7eff_row3_col0\" class=\"data row3 col0\" >4</td>\n",
       "                        <td id=\"T_e7eff_row3_col1\" class=\"data row3 col1\" >Alice</td>\n",
       "                        <td id=\"T_e7eff_row3_col2\" class=\"data row3 col2\" >sub6</td>\n",
       "                        <td id=\"T_e7eff_row3_col3\" class=\"data row3 col3\" >Bryce</td>\n",
       "                        <td id=\"T_e7eff_row3_col4\" class=\"data row3 col4\" >sub6</td>\n",
       "            </tr>\n",
       "            <tr>\n",
       "                        <th id=\"T_e7eff_level0_row4\" class=\"row_heading level0 row4\" >4</th>\n",
       "                        <td id=\"T_e7eff_row4_col0\" class=\"data row4 col0\" >5</td>\n",
       "                        <td id=\"T_e7eff_row4_col1\" class=\"data row4 col1\" >Ayoung</td>\n",
       "                        <td id=\"T_e7eff_row4_col2\" class=\"data row4 col2\" >sub5</td>\n",
       "                        <td id=\"T_e7eff_row4_col3\" class=\"data row4 col3\" >Betty</td>\n",
       "                        <td id=\"T_e7eff_row4_col4\" class=\"data row4 col4\" >sub5</td>\n",
       "            </tr>\n",
       "    </tbody></table>"
      ],
      "text/plain": [
       "<pandas.io.formats.style.Styler at 0x7f4cc6a19b20>"
      ]
     },
     "execution_count": 11,
     "metadata": {},
     "output_type": "execute_result"
    }
   ],
   "source": [
    "%%piper\n",
    "left \n",
    ">> left_join(right, on='id').style.highlight_null(null_color='yellow')"
   ]
  },
  {
   "cell_type": "code",
   "execution_count": 12,
   "metadata": {
    "ExecuteTime": {
     "end_time": "2021-03-11T16:33:53.185977Z",
     "start_time": "2021-03-11T16:33:53.145292Z"
    }
   },
   "outputs": [
    {
     "data": {
      "text/html": [
       "<style  type=\"text/css\" >\n",
       "#T_d7908_row0_col3,#T_d7908_row0_col4{\n",
       "            background-color:  yellow;\n",
       "        }</style><table id=\"T_d7908_\" ><thead>    <tr>        <th class=\"blank level0\" ></th>        <th class=\"col_heading level0 col0\" >id_x</th>        <th class=\"col_heading level0 col1\" >Name_x</th>        <th class=\"col_heading level0 col2\" >subject_id</th>        <th class=\"col_heading level0 col3\" >id_y</th>        <th class=\"col_heading level0 col4\" >Name_y</th>    </tr></thead><tbody>\n",
       "                <tr>\n",
       "                        <th id=\"T_d7908_level0_row0\" class=\"row_heading level0 row0\" >0</th>\n",
       "                        <td id=\"T_d7908_row0_col0\" class=\"data row0 col0\" >1</td>\n",
       "                        <td id=\"T_d7908_row0_col1\" class=\"data row0 col1\" >Alex</td>\n",
       "                        <td id=\"T_d7908_row0_col2\" class=\"data row0 col2\" >sub1</td>\n",
       "                        <td id=\"T_d7908_row0_col3\" class=\"data row0 col3\" >nan</td>\n",
       "                        <td id=\"T_d7908_row0_col4\" class=\"data row0 col4\" >nan</td>\n",
       "            </tr>\n",
       "            <tr>\n",
       "                        <th id=\"T_d7908_level0_row1\" class=\"row_heading level0 row1\" >1</th>\n",
       "                        <td id=\"T_d7908_row1_col0\" class=\"data row1 col0\" >2</td>\n",
       "                        <td id=\"T_d7908_row1_col1\" class=\"data row1 col1\" >Amy</td>\n",
       "                        <td id=\"T_d7908_row1_col2\" class=\"data row1 col2\" >sub2</td>\n",
       "                        <td id=\"T_d7908_row1_col3\" class=\"data row1 col3\" >1.000000</td>\n",
       "                        <td id=\"T_d7908_row1_col4\" class=\"data row1 col4\" >Billy</td>\n",
       "            </tr>\n",
       "            <tr>\n",
       "                        <th id=\"T_d7908_level0_row2\" class=\"row_heading level0 row2\" >2</th>\n",
       "                        <td id=\"T_d7908_row2_col0\" class=\"data row2 col0\" >3</td>\n",
       "                        <td id=\"T_d7908_row2_col1\" class=\"data row2 col1\" >Allen</td>\n",
       "                        <td id=\"T_d7908_row2_col2\" class=\"data row2 col2\" >sub4</td>\n",
       "                        <td id=\"T_d7908_row2_col3\" class=\"data row2 col3\" >2.000000</td>\n",
       "                        <td id=\"T_d7908_row2_col4\" class=\"data row2 col4\" >Brian</td>\n",
       "            </tr>\n",
       "            <tr>\n",
       "                        <th id=\"T_d7908_level0_row3\" class=\"row_heading level0 row3\" >3</th>\n",
       "                        <td id=\"T_d7908_row3_col0\" class=\"data row3 col0\" >4</td>\n",
       "                        <td id=\"T_d7908_row3_col1\" class=\"data row3 col1\" >Alice</td>\n",
       "                        <td id=\"T_d7908_row3_col2\" class=\"data row3 col2\" >sub6</td>\n",
       "                        <td id=\"T_d7908_row3_col3\" class=\"data row3 col3\" >4.000000</td>\n",
       "                        <td id=\"T_d7908_row3_col4\" class=\"data row3 col4\" >Bryce</td>\n",
       "            </tr>\n",
       "            <tr>\n",
       "                        <th id=\"T_d7908_level0_row4\" class=\"row_heading level0 row4\" >4</th>\n",
       "                        <td id=\"T_d7908_row4_col0\" class=\"data row4 col0\" >5</td>\n",
       "                        <td id=\"T_d7908_row4_col1\" class=\"data row4 col1\" >Ayoung</td>\n",
       "                        <td id=\"T_d7908_row4_col2\" class=\"data row4 col2\" >sub5</td>\n",
       "                        <td id=\"T_d7908_row4_col3\" class=\"data row4 col3\" >5.000000</td>\n",
       "                        <td id=\"T_d7908_row4_col4\" class=\"data row4 col4\" >Betty</td>\n",
       "            </tr>\n",
       "    </tbody></table>"
      ],
      "text/plain": [
       "<pandas.io.formats.style.Styler at 0x7f4cc6ad58e0>"
      ]
     },
     "execution_count": 12,
     "metadata": {},
     "output_type": "execute_result"
    }
   ],
   "source": [
    "%%piper\n",
    "left \n",
    ">> left_join(right, on='subject_id').style.highlight_null(null_color='yellow')"
   ]
  },
  {
   "cell_type": "markdown",
   "metadata": {},
   "source": [
    "### right"
   ]
  },
  {
   "cell_type": "code",
   "execution_count": 13,
   "metadata": {
    "ExecuteTime": {
     "end_time": "2021-03-11T16:33:53.222077Z",
     "start_time": "2021-03-11T16:33:53.188573Z"
    }
   },
   "outputs": [
    {
     "data": {
      "text/html": [
       "<style  type=\"text/css\" >\n",
       "#T_db0c1_row0_col1,#T_db0c1_row1_col1,#T_db0c1_row2_col1{\n",
       "            background-color:  yellow;\n",
       "        }</style><table id=\"T_db0c1_\" ><thead>    <tr>        <th class=\"blank level0\" ></th>        <th class=\"col_heading level0 col0\" >id</th>        <th class=\"col_heading level0 col1\" >Name_x</th>        <th class=\"col_heading level0 col2\" >subject_id</th>        <th class=\"col_heading level0 col3\" >Name_y</th>    </tr></thead><tbody>\n",
       "                <tr>\n",
       "                        <th id=\"T_db0c1_level0_row0\" class=\"row_heading level0 row0\" >0</th>\n",
       "                        <td id=\"T_db0c1_row0_col0\" class=\"data row0 col0\" >1</td>\n",
       "                        <td id=\"T_db0c1_row0_col1\" class=\"data row0 col1\" >nan</td>\n",
       "                        <td id=\"T_db0c1_row0_col2\" class=\"data row0 col2\" >sub2</td>\n",
       "                        <td id=\"T_db0c1_row0_col3\" class=\"data row0 col3\" >Billy</td>\n",
       "            </tr>\n",
       "            <tr>\n",
       "                        <th id=\"T_db0c1_level0_row1\" class=\"row_heading level0 row1\" >1</th>\n",
       "                        <td id=\"T_db0c1_row1_col0\" class=\"data row1 col0\" >2</td>\n",
       "                        <td id=\"T_db0c1_row1_col1\" class=\"data row1 col1\" >nan</td>\n",
       "                        <td id=\"T_db0c1_row1_col2\" class=\"data row1 col2\" >sub4</td>\n",
       "                        <td id=\"T_db0c1_row1_col3\" class=\"data row1 col3\" >Brian</td>\n",
       "            </tr>\n",
       "            <tr>\n",
       "                        <th id=\"T_db0c1_level0_row2\" class=\"row_heading level0 row2\" >2</th>\n",
       "                        <td id=\"T_db0c1_row2_col0\" class=\"data row2 col0\" >3</td>\n",
       "                        <td id=\"T_db0c1_row2_col1\" class=\"data row2 col1\" >nan</td>\n",
       "                        <td id=\"T_db0c1_row2_col2\" class=\"data row2 col2\" >sub3</td>\n",
       "                        <td id=\"T_db0c1_row2_col3\" class=\"data row2 col3\" >Bran</td>\n",
       "            </tr>\n",
       "            <tr>\n",
       "                        <th id=\"T_db0c1_level0_row3\" class=\"row_heading level0 row3\" >3</th>\n",
       "                        <td id=\"T_db0c1_row3_col0\" class=\"data row3 col0\" >4</td>\n",
       "                        <td id=\"T_db0c1_row3_col1\" class=\"data row3 col1\" >Alice</td>\n",
       "                        <td id=\"T_db0c1_row3_col2\" class=\"data row3 col2\" >sub6</td>\n",
       "                        <td id=\"T_db0c1_row3_col3\" class=\"data row3 col3\" >Bryce</td>\n",
       "            </tr>\n",
       "            <tr>\n",
       "                        <th id=\"T_db0c1_level0_row4\" class=\"row_heading level0 row4\" >4</th>\n",
       "                        <td id=\"T_db0c1_row4_col0\" class=\"data row4 col0\" >5</td>\n",
       "                        <td id=\"T_db0c1_row4_col1\" class=\"data row4 col1\" >Ayoung</td>\n",
       "                        <td id=\"T_db0c1_row4_col2\" class=\"data row4 col2\" >sub5</td>\n",
       "                        <td id=\"T_db0c1_row4_col3\" class=\"data row4 col3\" >Betty</td>\n",
       "            </tr>\n",
       "    </tbody></table>"
      ],
      "text/plain": [
       "<pandas.io.formats.style.Styler at 0x7f4cc6ae2b80>"
      ]
     },
     "execution_count": 13,
     "metadata": {},
     "output_type": "execute_result"
    }
   ],
   "source": [
    "%%piper\n",
    "left \n",
    ">> right_join(right, on=['id', 'subject_id'], how='right').style.highlight_null(null_color='yellow')"
   ]
  },
  {
   "cell_type": "code",
   "execution_count": null,
   "metadata": {},
   "outputs": [],
   "source": []
  },
  {
   "cell_type": "code",
   "execution_count": null,
   "metadata": {},
   "outputs": [],
   "source": []
  },
  {
   "cell_type": "code",
   "execution_count": null,
   "metadata": {},
   "outputs": [],
   "source": []
  },
  {
   "cell_type": "code",
   "execution_count": null,
   "metadata": {},
   "outputs": [],
   "source": []
  },
  {
   "cell_type": "code",
   "execution_count": null,
   "metadata": {},
   "outputs": [],
   "source": []
  },
  {
   "cell_type": "code",
   "execution_count": null,
   "metadata": {},
   "outputs": [],
   "source": []
  }
 ],
 "metadata": {
  "hide_input": false,
  "kernelspec": {
   "display_name": "Python 3",
   "language": "python",
   "name": "python3"
  },
  "language_info": {
   "codemirror_mode": {
    "name": "ipython",
    "version": 3
   },
   "file_extension": ".py",
   "mimetype": "text/x-python",
   "name": "python",
   "nbconvert_exporter": "python",
   "pygments_lexer": "ipython3",
   "version": "3.8.5"
  },
  "toc": {
   "base_numbering": 1,
   "nav_menu": {},
   "number_sections": true,
   "sideBar": true,
   "skip_h1_title": false,
   "title_cell": "Table of Contents",
   "title_sidebar": "Contents",
   "toc_cell": false,
   "toc_position": {
    "height": "calc(100% - 180px)",
    "left": "10px",
    "top": "150px",
    "width": "336px"
   },
   "toc_section_display": true,
   "toc_window_display": true
  }
 },
 "nbformat": 4,
 "nbformat_minor": 4
}
