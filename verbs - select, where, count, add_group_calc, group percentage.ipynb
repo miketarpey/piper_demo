{
 "cells": [
  {
   "cell_type": "markdown",
   "metadata": {},
   "source": [
    "# Setup"
   ]
  },
  {
   "cell_type": "code",
   "execution_count": 1,
   "metadata": {
    "ExecuteTime": {
     "end_time": "2021-02-26T15:24:35.313572Z",
     "start_time": "2021-02-26T15:24:34.762798Z"
    }
   },
   "outputs": [],
   "source": [
    "from piper import piper\n",
    "from piper.verbs import *\n",
    "from piper.factory import *"
   ]
  },
  {
   "cell_type": "markdown",
   "metadata": {
    "ExecuteTime": {
     "end_time": "2020-08-06T08:53:26.356104Z",
     "start_time": "2020-08-06T08:53:26.353598Z"
    }
   },
   "source": [
    "# Examples"
   ]
  },
  {
   "cell_type": "markdown",
   "metadata": {
    "ExecuteTime": {
     "end_time": "2020-08-06T08:53:26.356104Z",
     "start_time": "2020-08-06T08:53:26.353598Z"
    }
   },
   "source": [
    "### info()"
   ]
  },
  {
   "cell_type": "code",
   "execution_count": 2,
   "metadata": {
    "ExecuteTime": {
     "end_time": "2021-02-26T15:24:35.387343Z",
     "start_time": "2021-02-26T15:24:35.316109Z"
    }
   },
   "outputs": [
    {
     "name": "stderr",
     "output_type": "stream",
     "text": [
      "Dataframe with (rows, cols) (367, 7) consumes 0.08 Mb\n",
      "7 rows, 6 columns\n"
     ]
    },
    {
     "data": {
      "text/html": [
       "<div>\n",
       "<style scoped>\n",
       "    .dataframe tbody tr th:only-of-type {\n",
       "        vertical-align: middle;\n",
       "    }\n",
       "\n",
       "    .dataframe tbody tr th {\n",
       "        vertical-align: top;\n",
       "    }\n",
       "\n",
       "    .dataframe thead th {\n",
       "        text-align: right;\n",
       "    }\n",
       "</style>\n",
       "<table border=\"1\" class=\"dataframe\">\n",
       "  <thead>\n",
       "    <tr style=\"text-align: right;\">\n",
       "      <th></th>\n",
       "      <th>columns</th>\n",
       "      <th>data_type</th>\n",
       "      <th>unique</th>\n",
       "      <th>isna</th>\n",
       "      <th>isnull</th>\n",
       "      <th>total_count</th>\n",
       "    </tr>\n",
       "  </thead>\n",
       "  <tbody>\n",
       "    <tr>\n",
       "      <th>0</th>\n",
       "      <td>dates</td>\n",
       "      <td>datetime64[ns]</td>\n",
       "      <td>367</td>\n",
       "      <td>0</td>\n",
       "      <td>0</td>\n",
       "      <td>367</td>\n",
       "    </tr>\n",
       "    <tr>\n",
       "      <th>1</th>\n",
       "      <td>order_dates</td>\n",
       "      <td>datetime64[ns]</td>\n",
       "      <td>367</td>\n",
       "      <td>0</td>\n",
       "      <td>0</td>\n",
       "      <td>367</td>\n",
       "    </tr>\n",
       "    <tr>\n",
       "      <th>2</th>\n",
       "      <td>countries</td>\n",
       "      <td>object</td>\n",
       "      <td>8</td>\n",
       "      <td>0</td>\n",
       "      <td>0</td>\n",
       "      <td>367</td>\n",
       "    </tr>\n",
       "    <tr>\n",
       "      <th>3</th>\n",
       "      <td>regions</td>\n",
       "      <td>object</td>\n",
       "      <td>4</td>\n",
       "      <td>0</td>\n",
       "      <td>0</td>\n",
       "      <td>367</td>\n",
       "    </tr>\n",
       "  </tbody>\n",
       "</table>\n",
       "</div>"
      ],
      "text/plain": [
       "       columns       data_type  unique  isna  isnull  total_count\n",
       "0        dates  datetime64[ns]     367     0       0          367\n",
       "1  order_dates  datetime64[ns]     367     0       0          367\n",
       "2    countries          object       8     0       0          367\n",
       "3      regions          object       4     0       0          367"
      ]
     },
     "execution_count": 2,
     "metadata": {},
     "output_type": "execute_result"
    }
   ],
   "source": [
    "%piper get_sample_data() >> info() >> head()"
   ]
  },
  {
   "cell_type": "markdown",
   "metadata": {
    "ExecuteTime": {
     "end_time": "2020-08-06T08:53:26.356104Z",
     "start_time": "2020-08-06T08:53:26.353598Z"
    }
   },
   "source": [
    "### %piper (assign to dataframe variable)"
   ]
  },
  {
   "cell_type": "code",
   "execution_count": 3,
   "metadata": {
    "ExecuteTime": {
     "end_time": "2021-02-26T15:24:35.402151Z",
     "start_time": "2021-02-26T15:24:35.392006Z"
    }
   },
   "outputs": [],
   "source": [
    "%piper df <- get_sample_data()"
   ]
  },
  {
   "cell_type": "markdown",
   "metadata": {
    "ExecuteTime": {
     "end_time": "2020-08-06T08:53:26.356104Z",
     "start_time": "2020-08-06T08:53:26.353598Z"
    }
   },
   "source": [
    "### columns()"
   ]
  },
  {
   "cell_type": "code",
   "execution_count": 4,
   "metadata": {
    "ExecuteTime": {
     "end_time": "2021-02-26T15:24:35.418222Z",
     "start_time": "2021-02-26T15:24:35.405488Z"
    }
   },
   "outputs": [
    {
     "data": {
      "text/plain": [
       "\"['dates', 'order_dates', 'countries', 'regions', 'ids', 'values_1', 'values_2']\""
      ]
     },
     "execution_count": 4,
     "metadata": {},
     "output_type": "execute_result"
    }
   ],
   "source": [
    "%piper df >> columns(astype='text')"
   ]
  },
  {
   "cell_type": "markdown",
   "metadata": {
    "ExecuteTime": {
     "end_time": "2020-08-06T08:53:26.356104Z",
     "start_time": "2020-08-06T08:53:26.353598Z"
    }
   },
   "source": [
    "### select_contains()"
   ]
  },
  {
   "cell_type": "code",
   "execution_count": 5,
   "metadata": {
    "ExecuteTime": {
     "end_time": "2021-02-26T15:24:35.442896Z",
     "start_time": "2021-02-26T15:24:35.424996Z"
    }
   },
   "outputs": [
    {
     "name": "stderr",
     "output_type": "stream",
     "text": [
      "367 rows, 2 columns\n"
     ]
    },
    {
     "data": {
      "text/html": [
       "<div>\n",
       "<style scoped>\n",
       "    .dataframe tbody tr th:only-of-type {\n",
       "        vertical-align: middle;\n",
       "    }\n",
       "\n",
       "    .dataframe tbody tr th {\n",
       "        vertical-align: top;\n",
       "    }\n",
       "\n",
       "    .dataframe thead th {\n",
       "        text-align: right;\n",
       "    }\n",
       "</style>\n",
       "<table border=\"1\" class=\"dataframe\">\n",
       "  <thead>\n",
       "    <tr style=\"text-align: right;\">\n",
       "      <th></th>\n",
       "      <th>values_1</th>\n",
       "      <th>values_2</th>\n",
       "    </tr>\n",
       "  </thead>\n",
       "  <tbody>\n",
       "    <tr>\n",
       "      <th>0</th>\n",
       "      <td>311</td>\n",
       "      <td>26</td>\n",
       "    </tr>\n",
       "    <tr>\n",
       "      <th>1</th>\n",
       "      <td>150</td>\n",
       "      <td>375</td>\n",
       "    </tr>\n",
       "    <tr>\n",
       "      <th>2</th>\n",
       "      <td>396</td>\n",
       "      <td>88</td>\n",
       "    </tr>\n",
       "    <tr>\n",
       "      <th>3</th>\n",
       "      <td>319</td>\n",
       "      <td>233</td>\n",
       "    </tr>\n",
       "  </tbody>\n",
       "</table>\n",
       "</div>"
      ],
      "text/plain": [
       "   values_1  values_2\n",
       "0       311        26\n",
       "1       150       375\n",
       "2       396        88\n",
       "3       319       233"
      ]
     },
     "execution_count": 5,
     "metadata": {},
     "output_type": "execute_result"
    }
   ],
   "source": [
    "%%piper \n",
    "df \n",
    ">> contains('value') \n",
    ">> head()"
   ]
  },
  {
   "cell_type": "markdown",
   "metadata": {
    "ExecuteTime": {
     "end_time": "2020-08-06T08:53:26.356104Z",
     "start_time": "2020-08-06T08:53:26.353598Z"
    }
   },
   "source": [
    "### where()"
   ]
  },
  {
   "cell_type": "code",
   "execution_count": 6,
   "metadata": {
    "ExecuteTime": {
     "end_time": "2021-02-26T15:24:35.482605Z",
     "start_time": "2021-02-26T15:24:35.447206Z"
    }
   },
   "outputs": [
    {
     "name": "stderr",
     "output_type": "stream",
     "text": [
      "47 rows, 7 columns\n"
     ]
    },
    {
     "data": {
      "text/html": [
       "<div>\n",
       "<style scoped>\n",
       "    .dataframe tbody tr th:only-of-type {\n",
       "        vertical-align: middle;\n",
       "    }\n",
       "\n",
       "    .dataframe tbody tr th {\n",
       "        vertical-align: top;\n",
       "    }\n",
       "\n",
       "    .dataframe thead th {\n",
       "        text-align: right;\n",
       "    }\n",
       "</style>\n",
       "<table border=\"1\" class=\"dataframe\">\n",
       "  <thead>\n",
       "    <tr style=\"text-align: right;\">\n",
       "      <th></th>\n",
       "      <th>dates</th>\n",
       "      <th>order_dates</th>\n",
       "      <th>countries</th>\n",
       "      <th>regions</th>\n",
       "      <th>ids</th>\n",
       "      <th>values_1</th>\n",
       "      <th>values_2</th>\n",
       "    </tr>\n",
       "  </thead>\n",
       "  <tbody>\n",
       "    <tr>\n",
       "      <th>0</th>\n",
       "      <td>2020-01-01</td>\n",
       "      <td>2020-01-07</td>\n",
       "      <td>Italy</td>\n",
       "      <td>East</td>\n",
       "      <td>A</td>\n",
       "      <td>311</td>\n",
       "      <td>26</td>\n",
       "    </tr>\n",
       "    <tr>\n",
       "      <th>3</th>\n",
       "      <td>2020-01-04</td>\n",
       "      <td>2020-01-10</td>\n",
       "      <td>Italy</td>\n",
       "      <td>East</td>\n",
       "      <td>B</td>\n",
       "      <td>319</td>\n",
       "      <td>233</td>\n",
       "    </tr>\n",
       "    <tr>\n",
       "      <th>4</th>\n",
       "      <td>2020-01-05</td>\n",
       "      <td>2020-01-11</td>\n",
       "      <td>Italy</td>\n",
       "      <td>East</td>\n",
       "      <td>D</td>\n",
       "      <td>261</td>\n",
       "      <td>187</td>\n",
       "    </tr>\n",
       "    <tr>\n",
       "      <th>7</th>\n",
       "      <td>2020-01-08</td>\n",
       "      <td>2020-01-14</td>\n",
       "      <td>Italy</td>\n",
       "      <td>South</td>\n",
       "      <td>E</td>\n",
       "      <td>273</td>\n",
       "      <td>56</td>\n",
       "    </tr>\n",
       "  </tbody>\n",
       "</table>\n",
       "</div>"
      ],
      "text/plain": [
       "       dates order_dates countries regions ids  values_1  values_2\n",
       "0 2020-01-01  2020-01-07     Italy    East   A       311        26\n",
       "3 2020-01-04  2020-01-10     Italy    East   B       319       233\n",
       "4 2020-01-05  2020-01-11     Italy    East   D       261       187\n",
       "7 2020-01-08  2020-01-14     Italy   South   E       273        56"
      ]
     },
     "execution_count": 6,
     "metadata": {},
     "output_type": "execute_result"
    }
   ],
   "source": [
    "%piper get_sample_data() >> where(\"countries == 'Italy' \") >> head()"
   ]
  },
  {
   "cell_type": "markdown",
   "metadata": {
    "ExecuteTime": {
     "end_time": "2020-08-06T08:53:26.356104Z",
     "start_time": "2020-08-06T08:53:26.353598Z"
    }
   },
   "source": [
    "### count()"
   ]
  },
  {
   "cell_type": "code",
   "execution_count": 7,
   "metadata": {
    "ExecuteTime": {
     "end_time": "2021-02-26T15:24:35.511450Z",
     "start_time": "2021-02-26T15:24:35.484560Z"
    }
   },
   "outputs": [
    {
     "name": "stderr",
     "output_type": "stream",
     "text": [
      "8 rows, 2 columns\n"
     ]
    },
    {
     "data": {
      "text/html": [
       "<div>\n",
       "<style scoped>\n",
       "    .dataframe tbody tr th:only-of-type {\n",
       "        vertical-align: middle;\n",
       "    }\n",
       "\n",
       "    .dataframe tbody tr th {\n",
       "        vertical-align: top;\n",
       "    }\n",
       "\n",
       "    .dataframe thead th {\n",
       "        text-align: right;\n",
       "    }\n",
       "</style>\n",
       "<table border=\"1\" class=\"dataframe\">\n",
       "  <thead>\n",
       "    <tr style=\"text-align: right;\">\n",
       "      <th></th>\n",
       "      <th>countries</th>\n",
       "      <th>n</th>\n",
       "    </tr>\n",
       "  </thead>\n",
       "  <tbody>\n",
       "    <tr>\n",
       "      <th>0</th>\n",
       "      <td>France</td>\n",
       "      <td>56</td>\n",
       "    </tr>\n",
       "    <tr>\n",
       "      <th>1</th>\n",
       "      <td>Spain</td>\n",
       "      <td>47</td>\n",
       "    </tr>\n",
       "    <tr>\n",
       "      <th>2</th>\n",
       "      <td>Italy</td>\n",
       "      <td>47</td>\n",
       "    </tr>\n",
       "    <tr>\n",
       "      <th>3</th>\n",
       "      <td>Norway</td>\n",
       "      <td>46</td>\n",
       "    </tr>\n",
       "  </tbody>\n",
       "</table>\n",
       "</div>"
      ],
      "text/plain": [
       "  countries   n\n",
       "0    France  56\n",
       "1     Spain  47\n",
       "2     Italy  47\n",
       "3    Norway  46"
      ]
     },
     "execution_count": 7,
     "metadata": {},
     "output_type": "execute_result"
    }
   ],
   "source": [
    "%piper get_sample_data() >> count('countries') >> head()"
   ]
  },
  {
   "cell_type": "markdown",
   "metadata": {
    "ExecuteTime": {
     "end_time": "2020-08-06T08:53:26.356104Z",
     "start_time": "2020-08-06T08:53:26.353598Z"
    }
   },
   "source": [
    "## Example 1"
   ]
  },
  {
   "cell_type": "code",
   "execution_count": 8,
   "metadata": {
    "ExecuteTime": {
     "end_time": "2021-02-26T15:24:35.549085Z",
     "start_time": "2021-02-26T15:24:35.513259Z"
    }
   },
   "outputs": [
    {
     "data": {
      "text/html": [
       "<div>\n",
       "<style scoped>\n",
       "    .dataframe tbody tr th:only-of-type {\n",
       "        vertical-align: middle;\n",
       "    }\n",
       "\n",
       "    .dataframe tbody tr th {\n",
       "        vertical-align: top;\n",
       "    }\n",
       "\n",
       "    .dataframe thead th {\n",
       "        text-align: right;\n",
       "    }\n",
       "</style>\n",
       "<table border=\"1\" class=\"dataframe\">\n",
       "  <thead>\n",
       "    <tr style=\"text-align: right;\">\n",
       "      <th></th>\n",
       "      <th>order_dates</th>\n",
       "      <th>countries</th>\n",
       "      <th>regions</th>\n",
       "      <th>new_column</th>\n",
       "      <th>ids</th>\n",
       "      <th>values_1</th>\n",
       "      <th>values_2</th>\n",
       "      <th>new_calculated_field</th>\n",
       "    </tr>\n",
       "  </thead>\n",
       "  <tbody>\n",
       "    <tr>\n",
       "      <th>0</th>\n",
       "      <td>2020-01-07</td>\n",
       "      <td>Italy</td>\n",
       "      <td>East</td>\n",
       "      <td>Italy East</td>\n",
       "      <td>A</td>\n",
       "      <td>311</td>\n",
       "      <td>26</td>\n",
       "      <td>337</td>\n",
       "    </tr>\n",
       "    <tr>\n",
       "      <th>3</th>\n",
       "      <td>2020-01-10</td>\n",
       "      <td>Italy</td>\n",
       "      <td>East</td>\n",
       "      <td>Italy East</td>\n",
       "      <td>B</td>\n",
       "      <td>319</td>\n",
       "      <td>233</td>\n",
       "      <td>552</td>\n",
       "    </tr>\n",
       "    <tr>\n",
       "      <th>4</th>\n",
       "      <td>2020-01-11</td>\n",
       "      <td>Italy</td>\n",
       "      <td>East</td>\n",
       "      <td>Italy East</td>\n",
       "      <td>D</td>\n",
       "      <td>261</td>\n",
       "      <td>187</td>\n",
       "      <td>448</td>\n",
       "    </tr>\n",
       "    <tr>\n",
       "      <th>7</th>\n",
       "      <td>2020-01-14</td>\n",
       "      <td>Italy</td>\n",
       "      <td>South</td>\n",
       "      <td>Italy South</td>\n",
       "      <td>E</td>\n",
       "      <td>273</td>\n",
       "      <td>56</td>\n",
       "      <td>329</td>\n",
       "    </tr>\n",
       "    <tr>\n",
       "      <th>8</th>\n",
       "      <td>2020-01-15</td>\n",
       "      <td>Italy</td>\n",
       "      <td>East</td>\n",
       "      <td>Italy East</td>\n",
       "      <td>B</td>\n",
       "      <td>385</td>\n",
       "      <td>92</td>\n",
       "      <td>477</td>\n",
       "    </tr>\n",
       "  </tbody>\n",
       "</table>\n",
       "</div>"
      ],
      "text/plain": [
       "  order_dates countries regions   new_column ids  values_1  values_2  \\\n",
       "0  2020-01-07     Italy    East   Italy East   A       311        26   \n",
       "3  2020-01-10     Italy    East   Italy East   B       319       233   \n",
       "4  2020-01-11     Italy    East   Italy East   D       261       187   \n",
       "7  2020-01-14     Italy   South  Italy South   E       273        56   \n",
       "8  2020-01-15     Italy    East   Italy East   B       385        92   \n",
       "\n",
       "   new_calculated_field  \n",
       "0                   337  \n",
       "3                   552  \n",
       "4                   448  \n",
       "7                   329  \n",
       "8                   477  "
      ]
     },
     "execution_count": 8,
     "metadata": {},
     "output_type": "execute_result"
    }
   ],
   "source": [
    "df = get_sample_data()\n",
    "df = df[df['countries'] == 'Italy']\n",
    "df['new_column'] = df['countries'] + ' ' + df['regions']\n",
    "df['new_calculated_field'] = df['values_1'] + df['values_2']\n",
    "df.insert(4, 'new_column', df.pop('new_column'))\n",
    "df.drop(columns='dates', inplace=True)\n",
    "df.head()"
   ]
  },
  {
   "cell_type": "markdown",
   "metadata": {
    "ExecuteTime": {
     "end_time": "2020-08-06T08:53:26.356104Z",
     "start_time": "2020-08-06T08:53:26.353598Z"
    }
   },
   "source": [
    "### Alternative piper solution"
   ]
  },
  {
   "cell_type": "code",
   "execution_count": 9,
   "metadata": {
    "ExecuteTime": {
     "end_time": "2021-02-26T15:24:35.599818Z",
     "start_time": "2021-02-26T15:24:35.551747Z"
    }
   },
   "outputs": [
    {
     "name": "stderr",
     "output_type": "stream",
     "text": [
      "47 rows, 8 columns\n"
     ]
    },
    {
     "data": {
      "text/html": [
       "<div>\n",
       "<style scoped>\n",
       "    .dataframe tbody tr th:only-of-type {\n",
       "        vertical-align: middle;\n",
       "    }\n",
       "\n",
       "    .dataframe tbody tr th {\n",
       "        vertical-align: top;\n",
       "    }\n",
       "\n",
       "    .dataframe thead th {\n",
       "        text-align: right;\n",
       "    }\n",
       "</style>\n",
       "<table border=\"1\" class=\"dataframe\">\n",
       "  <thead>\n",
       "    <tr style=\"text-align: right;\">\n",
       "      <th></th>\n",
       "      <th>order_dates</th>\n",
       "      <th>countries</th>\n",
       "      <th>regions</th>\n",
       "      <th>new_column</th>\n",
       "      <th>ids</th>\n",
       "      <th>values_1</th>\n",
       "      <th>values_2</th>\n",
       "      <th>calculated_field</th>\n",
       "    </tr>\n",
       "  </thead>\n",
       "  <tbody>\n",
       "    <tr>\n",
       "      <th>0</th>\n",
       "      <td>2020-01-07</td>\n",
       "      <td>Italy</td>\n",
       "      <td>East</td>\n",
       "      <td>Italy East</td>\n",
       "      <td>A</td>\n",
       "      <td>311</td>\n",
       "      <td>26</td>\n",
       "      <td>337</td>\n",
       "    </tr>\n",
       "    <tr>\n",
       "      <th>3</th>\n",
       "      <td>2020-01-10</td>\n",
       "      <td>Italy</td>\n",
       "      <td>East</td>\n",
       "      <td>Italy East</td>\n",
       "      <td>B</td>\n",
       "      <td>319</td>\n",
       "      <td>233</td>\n",
       "      <td>552</td>\n",
       "    </tr>\n",
       "    <tr>\n",
       "      <th>4</th>\n",
       "      <td>2020-01-11</td>\n",
       "      <td>Italy</td>\n",
       "      <td>East</td>\n",
       "      <td>Italy East</td>\n",
       "      <td>D</td>\n",
       "      <td>261</td>\n",
       "      <td>187</td>\n",
       "      <td>448</td>\n",
       "    </tr>\n",
       "    <tr>\n",
       "      <th>7</th>\n",
       "      <td>2020-01-14</td>\n",
       "      <td>Italy</td>\n",
       "      <td>South</td>\n",
       "      <td>Italy South</td>\n",
       "      <td>E</td>\n",
       "      <td>273</td>\n",
       "      <td>56</td>\n",
       "      <td>329</td>\n",
       "    </tr>\n",
       "    <tr>\n",
       "      <th>8</th>\n",
       "      <td>2020-01-15</td>\n",
       "      <td>Italy</td>\n",
       "      <td>East</td>\n",
       "      <td>Italy East</td>\n",
       "      <td>B</td>\n",
       "      <td>385</td>\n",
       "      <td>92</td>\n",
       "      <td>477</td>\n",
       "    </tr>\n",
       "  </tbody>\n",
       "</table>\n",
       "</div>"
      ],
      "text/plain": [
       "  order_dates countries regions   new_column ids  values_1  values_2  \\\n",
       "0  2020-01-07     Italy    East   Italy East   A       311        26   \n",
       "3  2020-01-10     Italy    East   Italy East   B       319       233   \n",
       "4  2020-01-11     Italy    East   Italy East   D       261       187   \n",
       "7  2020-01-14     Italy   South  Italy South   E       273        56   \n",
       "8  2020-01-15     Italy    East   Italy East   B       385        92   \n",
       "\n",
       "   calculated_field  \n",
       "0               337  \n",
       "3               552  \n",
       "4               448  \n",
       "7               329  \n",
       "8               477  "
      ]
     },
     "execution_count": 9,
     "metadata": {},
     "output_type": "execute_result"
    }
   ],
   "source": [
    "%%piper\n",
    "get_sample_data() \n",
    ">> where(\"countries == 'Italy'\") \n",
    ">> assign(new_column = lambda x: x.countries + ' ' + x.regions, \n",
    "          calculated_field = lambda x: x.values_1 + x.values_2)\n",
    ">> relocate('new_column', loc='after', ref_column='regions') \n",
    ">> drop(columns='dates')\n",
    ">> head(5)"
   ]
  },
  {
   "cell_type": "code",
   "execution_count": 10,
   "metadata": {
    "ExecuteTime": {
     "end_time": "2021-02-26T15:24:35.647645Z",
     "start_time": "2021-02-26T15:24:35.602090Z"
    }
   },
   "outputs": [
    {
     "name": "stderr",
     "output_type": "stream",
     "text": [
      "47 rows, 8 columns\n"
     ]
    },
    {
     "data": {
      "text/html": [
       "<div>\n",
       "<style scoped>\n",
       "    .dataframe tbody tr th:only-of-type {\n",
       "        vertical-align: middle;\n",
       "    }\n",
       "\n",
       "    .dataframe tbody tr th {\n",
       "        vertical-align: top;\n",
       "    }\n",
       "\n",
       "    .dataframe thead th {\n",
       "        text-align: right;\n",
       "    }\n",
       "</style>\n",
       "<table border=\"1\" class=\"dataframe\">\n",
       "  <thead>\n",
       "    <tr style=\"text-align: right;\">\n",
       "      <th></th>\n",
       "      <th>order_dates</th>\n",
       "      <th>countries</th>\n",
       "      <th>regions</th>\n",
       "      <th>new_column</th>\n",
       "      <th>ids</th>\n",
       "      <th>values_1</th>\n",
       "      <th>values_2</th>\n",
       "      <th>calculated_field</th>\n",
       "    </tr>\n",
       "  </thead>\n",
       "  <tbody>\n",
       "    <tr>\n",
       "      <th>0</th>\n",
       "      <td>2020-01-07</td>\n",
       "      <td>Italy</td>\n",
       "      <td>East</td>\n",
       "      <td>Italy East</td>\n",
       "      <td>A</td>\n",
       "      <td>311</td>\n",
       "      <td>26</td>\n",
       "      <td>337</td>\n",
       "    </tr>\n",
       "    <tr>\n",
       "      <th>3</th>\n",
       "      <td>2020-01-10</td>\n",
       "      <td>Italy</td>\n",
       "      <td>East</td>\n",
       "      <td>Italy East</td>\n",
       "      <td>B</td>\n",
       "      <td>319</td>\n",
       "      <td>233</td>\n",
       "      <td>552</td>\n",
       "    </tr>\n",
       "    <tr>\n",
       "      <th>4</th>\n",
       "      <td>2020-01-11</td>\n",
       "      <td>Italy</td>\n",
       "      <td>East</td>\n",
       "      <td>Italy East</td>\n",
       "      <td>D</td>\n",
       "      <td>261</td>\n",
       "      <td>187</td>\n",
       "      <td>448</td>\n",
       "    </tr>\n",
       "    <tr>\n",
       "      <th>7</th>\n",
       "      <td>2020-01-14</td>\n",
       "      <td>Italy</td>\n",
       "      <td>South</td>\n",
       "      <td>Italy South</td>\n",
       "      <td>E</td>\n",
       "      <td>273</td>\n",
       "      <td>56</td>\n",
       "      <td>329</td>\n",
       "    </tr>\n",
       "    <tr>\n",
       "      <th>8</th>\n",
       "      <td>2020-01-15</td>\n",
       "      <td>Italy</td>\n",
       "      <td>East</td>\n",
       "      <td>Italy East</td>\n",
       "      <td>B</td>\n",
       "      <td>385</td>\n",
       "      <td>92</td>\n",
       "      <td>477</td>\n",
       "    </tr>\n",
       "  </tbody>\n",
       "</table>\n",
       "</div>"
      ],
      "text/plain": [
       "  order_dates countries regions   new_column ids  values_1  values_2  \\\n",
       "0  2020-01-07     Italy    East   Italy East   A       311        26   \n",
       "3  2020-01-10     Italy    East   Italy East   B       319       233   \n",
       "4  2020-01-11     Italy    East   Italy East   D       261       187   \n",
       "7  2020-01-14     Italy   South  Italy South   E       273        56   \n",
       "8  2020-01-15     Italy    East   Italy East   B       385        92   \n",
       "\n",
       "   calculated_field  \n",
       "0               337  \n",
       "3               552  \n",
       "4               448  \n",
       "7               329  \n",
       "8               477  "
      ]
     },
     "execution_count": 10,
     "metadata": {},
     "output_type": "execute_result"
    }
   ],
   "source": [
    "(get_sample_data()\n",
    ".pipe(where, \"countries == 'Italy'\")\n",
    ".pipe(assign, new_column = lambda x: x.countries + ' ' + x.regions,\n",
    "      calculated_field = lambda x: x.values_1 + x.values_2)\n",
    ".pipe(relocate, 'new_column', loc='after', ref_column='regions')\n",
    ".pipe(drop, columns='dates')\n",
    ".pipe(head, 5))"
   ]
  },
  {
   "cell_type": "markdown",
   "metadata": {
    "ExecuteTime": {
     "end_time": "2020-08-06T08:53:26.356104Z",
     "start_time": "2020-08-06T08:53:26.353598Z"
    }
   },
   "source": [
    "## Example 2"
   ]
  },
  {
   "cell_type": "code",
   "execution_count": 11,
   "metadata": {
    "ExecuteTime": {
     "end_time": "2021-02-26T15:24:35.732357Z",
     "start_time": "2021-02-26T15:24:35.650321Z"
    }
   },
   "outputs": [],
   "source": [
    "%%piper \n",
    "pd.read_csv('inputs/Belgium - Customers.csv') \n",
    ">> clean_columns() \n",
    ">> select(['customer', 'bill_type', 'customer_name']) \n",
    ">> where(\"customer > 1200\") \n",
    ">> to_csv('outputs/test.csv')"
   ]
  },
  {
   "cell_type": "code",
   "execution_count": 12,
   "metadata": {
    "ExecuteTime": {
     "end_time": "2021-02-26T15:24:35.753753Z",
     "start_time": "2021-02-26T15:24:35.734505Z"
    }
   },
   "outputs": [],
   "source": [
    "%%piper\n",
    "df <- get_sample_data() \n",
    ">> select('-dates') \n",
    ">> where(\"countries.isin(['Italy'])\")  \n",
    ">> assign(column_test=lambda x: x.countries + ' ABC') "
   ]
  },
  {
   "cell_type": "code",
   "execution_count": 13,
   "metadata": {
    "ExecuteTime": {
     "end_time": "2021-02-26T15:24:35.776503Z",
     "start_time": "2021-02-26T15:24:35.758515Z"
    }
   },
   "outputs": [
    {
     "name": "stderr",
     "output_type": "stream",
     "text": [
      "47 rows, 7 columns\n"
     ]
    },
    {
     "data": {
      "text/html": [
       "<div>\n",
       "<style scoped>\n",
       "    .dataframe tbody tr th:only-of-type {\n",
       "        vertical-align: middle;\n",
       "    }\n",
       "\n",
       "    .dataframe tbody tr th {\n",
       "        vertical-align: top;\n",
       "    }\n",
       "\n",
       "    .dataframe thead th {\n",
       "        text-align: right;\n",
       "    }\n",
       "</style>\n",
       "<table border=\"1\" class=\"dataframe\">\n",
       "  <thead>\n",
       "    <tr style=\"text-align: right;\">\n",
       "      <th></th>\n",
       "      <th>order_dates</th>\n",
       "      <th>countries</th>\n",
       "      <th>regions</th>\n",
       "      <th>ids</th>\n",
       "      <th>values_1</th>\n",
       "      <th>values_2</th>\n",
       "      <th>column_test</th>\n",
       "    </tr>\n",
       "  </thead>\n",
       "  <tbody>\n",
       "    <tr>\n",
       "      <th>0</th>\n",
       "      <td>2020-01-07</td>\n",
       "      <td>Italy</td>\n",
       "      <td>East</td>\n",
       "      <td>A</td>\n",
       "      <td>311</td>\n",
       "      <td>26</td>\n",
       "      <td>Italy ABC</td>\n",
       "    </tr>\n",
       "    <tr>\n",
       "      <th>3</th>\n",
       "      <td>2020-01-10</td>\n",
       "      <td>Italy</td>\n",
       "      <td>East</td>\n",
       "      <td>B</td>\n",
       "      <td>319</td>\n",
       "      <td>233</td>\n",
       "      <td>Italy ABC</td>\n",
       "    </tr>\n",
       "    <tr>\n",
       "      <th>4</th>\n",
       "      <td>2020-01-11</td>\n",
       "      <td>Italy</td>\n",
       "      <td>East</td>\n",
       "      <td>D</td>\n",
       "      <td>261</td>\n",
       "      <td>187</td>\n",
       "      <td>Italy ABC</td>\n",
       "    </tr>\n",
       "    <tr>\n",
       "      <th>7</th>\n",
       "      <td>2020-01-14</td>\n",
       "      <td>Italy</td>\n",
       "      <td>South</td>\n",
       "      <td>E</td>\n",
       "      <td>273</td>\n",
       "      <td>56</td>\n",
       "      <td>Italy ABC</td>\n",
       "    </tr>\n",
       "  </tbody>\n",
       "</table>\n",
       "</div>"
      ],
      "text/plain": [
       "  order_dates countries regions ids  values_1  values_2 column_test\n",
       "0  2020-01-07     Italy    East   A       311        26   Italy ABC\n",
       "3  2020-01-10     Italy    East   B       319       233   Italy ABC\n",
       "4  2020-01-11     Italy    East   D       261       187   Italy ABC\n",
       "7  2020-01-14     Italy   South   E       273        56   Italy ABC"
      ]
     },
     "execution_count": 13,
     "metadata": {},
     "output_type": "execute_result"
    }
   ],
   "source": [
    "head(df)"
   ]
  },
  {
   "cell_type": "markdown",
   "metadata": {
    "ExecuteTime": {
     "end_time": "2020-08-06T08:53:26.356104Z",
     "start_time": "2020-08-06T08:53:26.353598Z"
    }
   },
   "source": [
    "## Example 3"
   ]
  },
  {
   "cell_type": "code",
   "execution_count": 14,
   "metadata": {
    "ExecuteTime": {
     "end_time": "2021-02-26T15:24:35.801201Z",
     "start_time": "2021-02-26T15:24:35.778543Z"
    }
   },
   "outputs": [],
   "source": [
    "%%piper \n",
    "df <- get_sample_data() \n",
    ">> select(['-countries', '-regions']) \n",
    ">> where(\" ids.isin(['A', 'D']) & values_1 > 300 \") \n",
    ">> assign(new_field = lambda x: x.ids + ' ' + x.dates.astype(str),\n",
    ">>        values_mult=lambda x: x.values_1 * x.values_2) \n",
    ">> relocate(['values_mult', 'new_field'], loc=2) \n",
    "# >> relocate('values_mult', loc=5) \n",
    ">> order_by(['ids', 'values_1'], ascending=[False, True]) "
   ]
  },
  {
   "cell_type": "code",
   "execution_count": 15,
   "metadata": {
    "ExecuteTime": {
     "end_time": "2021-02-26T15:24:35.821007Z",
     "start_time": "2021-02-26T15:24:35.804055Z"
    }
   },
   "outputs": [
    {
     "name": "stderr",
     "output_type": "stream",
     "text": [
      "40 rows, 5 columns\n"
     ]
    },
    {
     "data": {
      "text/html": [
       "<div>\n",
       "<style scoped>\n",
       "    .dataframe tbody tr th:only-of-type {\n",
       "        vertical-align: middle;\n",
       "    }\n",
       "\n",
       "    .dataframe tbody tr th {\n",
       "        vertical-align: top;\n",
       "    }\n",
       "\n",
       "    .dataframe thead th {\n",
       "        text-align: right;\n",
       "    }\n",
       "</style>\n",
       "<table border=\"1\" class=\"dataframe\">\n",
       "  <thead>\n",
       "    <tr style=\"text-align: right;\">\n",
       "      <th></th>\n",
       "      <th>dates</th>\n",
       "      <th>order_dates</th>\n",
       "      <th>ids</th>\n",
       "      <th>values_1</th>\n",
       "      <th>values_2</th>\n",
       "    </tr>\n",
       "  </thead>\n",
       "  <tbody>\n",
       "    <tr>\n",
       "      <th>38</th>\n",
       "      <td>2020-02-08</td>\n",
       "      <td>2020-02-14</td>\n",
       "      <td>D</td>\n",
       "      <td>305</td>\n",
       "      <td>384</td>\n",
       "    </tr>\n",
       "    <tr>\n",
       "      <th>281</th>\n",
       "      <td>2020-10-08</td>\n",
       "      <td>2020-10-14</td>\n",
       "      <td>D</td>\n",
       "      <td>306</td>\n",
       "      <td>39</td>\n",
       "    </tr>\n",
       "    <tr>\n",
       "      <th>177</th>\n",
       "      <td>2020-06-26</td>\n",
       "      <td>2020-07-02</td>\n",
       "      <td>D</td>\n",
       "      <td>313</td>\n",
       "      <td>64</td>\n",
       "    </tr>\n",
       "    <tr>\n",
       "      <th>191</th>\n",
       "      <td>2020-07-10</td>\n",
       "      <td>2020-07-16</td>\n",
       "      <td>D</td>\n",
       "      <td>316</td>\n",
       "      <td>289</td>\n",
       "    </tr>\n",
       "  </tbody>\n",
       "</table>\n",
       "</div>"
      ],
      "text/plain": [
       "         dates order_dates ids  values_1  values_2\n",
       "38  2020-02-08  2020-02-14   D       305       384\n",
       "281 2020-10-08  2020-10-14   D       306        39\n",
       "177 2020-06-26  2020-07-02   D       313        64\n",
       "191 2020-07-10  2020-07-16   D       316       289"
      ]
     },
     "execution_count": 15,
     "metadata": {},
     "output_type": "execute_result"
    }
   ],
   "source": [
    "head(df)"
   ]
  },
  {
   "cell_type": "markdown",
   "metadata": {
    "ExecuteTime": {
     "end_time": "2020-08-06T08:53:26.356104Z",
     "start_time": "2020-08-06T08:53:26.353598Z"
    }
   },
   "source": [
    "## Example 4"
   ]
  },
  {
   "cell_type": "code",
   "execution_count": 16,
   "metadata": {
    "ExecuteTime": {
     "end_time": "2021-02-26T15:24:35.877031Z",
     "start_time": "2021-02-26T15:24:35.823766Z"
    }
   },
   "outputs": [
    {
     "name": "stderr",
     "output_type": "stream",
     "text": [
      "8 rows, 2 columns\n"
     ]
    },
    {
     "data": {
      "text/html": [
       "<div>\n",
       "<style scoped>\n",
       "    .dataframe tbody tr th:only-of-type {\n",
       "        vertical-align: middle;\n",
       "    }\n",
       "\n",
       "    .dataframe tbody tr th {\n",
       "        vertical-align: top;\n",
       "    }\n",
       "\n",
       "    .dataframe thead th {\n",
       "        text-align: right;\n",
       "    }\n",
       "</style>\n",
       "<table border=\"1\" class=\"dataframe\">\n",
       "  <thead>\n",
       "    <tr style=\"text-align: right;\">\n",
       "      <th></th>\n",
       "      <th></th>\n",
       "      <th>total_values_1</th>\n",
       "      <th>new_field</th>\n",
       "    </tr>\n",
       "    <tr>\n",
       "      <th>countries</th>\n",
       "      <th>regions</th>\n",
       "      <th></th>\n",
       "      <th></th>\n",
       "    </tr>\n",
       "  </thead>\n",
       "  <tbody>\n",
       "    <tr>\n",
       "      <th rowspan=\"4\" valign=\"top\">Italy</th>\n",
       "      <th>East</th>\n",
       "      <td>3023</td>\n",
       "      <td>3763</td>\n",
       "    </tr>\n",
       "    <tr>\n",
       "      <th>North</th>\n",
       "      <td>1868</td>\n",
       "      <td>1926</td>\n",
       "    </tr>\n",
       "    <tr>\n",
       "      <th>South</th>\n",
       "      <td>2520</td>\n",
       "      <td>2790</td>\n",
       "    </tr>\n",
       "    <tr>\n",
       "      <th>West</th>\n",
       "      <td>2489</td>\n",
       "      <td>1917</td>\n",
       "    </tr>\n",
       "  </tbody>\n",
       "</table>\n",
       "</div>"
      ],
      "text/plain": [
       "                   total_values_1  new_field\n",
       "countries regions                           \n",
       "Italy     East               3023       3763\n",
       "          North              1868       1926\n",
       "          South              2520       2790\n",
       "          West               2489       1917"
      ]
     },
     "execution_count": 16,
     "metadata": {},
     "output_type": "execute_result"
    }
   ],
   "source": [
    "%%piper\n",
    "\n",
    "get_sample_data() \n",
    "\n",
    ">> select('-dates')  \n",
    ">> where(\"countries.isin(['Italy', 'Spain'])\")  \n",
    "\n",
    ">> assign(column_test=lambda x: x.countries + ' ABC') \n",
    "\n",
    ">> group_by(['countries', 'regions']) \n",
    ">> summarise(total_values_1=pd.NamedAgg('values_1', 'sum'),\n",
    "             new_field=pd.NamedAgg('values_2', 'sum')) \n",
    "\n",
    ">> head()"
   ]
  },
  {
   "cell_type": "markdown",
   "metadata": {
    "ExecuteTime": {
     "end_time": "2020-08-06T08:53:26.356104Z",
     "start_time": "2020-08-06T08:53:26.353598Z"
    }
   },
   "source": [
    "## Example 5:"
   ]
  },
  {
   "cell_type": "code",
   "execution_count": 17,
   "metadata": {
    "ExecuteTime": {
     "end_time": "2021-02-26T15:24:35.883065Z",
     "start_time": "2021-02-26T15:24:35.879346Z"
    }
   },
   "outputs": [],
   "source": [
    "def an_arbitary_function(df, a='default a:', b='default b:'):\n",
    "    ''' This user defined function accepts and receives\n",
    "    a dataframe object - so it can be used with piper tool\n",
    "    '''\n",
    "    print(a*4)\n",
    "    print(b*5)\n",
    "    \n",
    "    return df"
   ]
  },
  {
   "cell_type": "code",
   "execution_count": 18,
   "metadata": {
    "ExecuteTime": {
     "end_time": "2021-02-26T15:24:35.931008Z",
     "start_time": "2021-02-26T15:24:35.887292Z"
    }
   },
   "outputs": [
    {
     "name": "stdout",
     "output_type": "stream",
     "text": [
      "override a:, override a:, override a:, override a:, \n",
      "default b:default b:default b:default b:default b:\n"
     ]
    },
    {
     "data": {
      "text/html": [
       "<div>\n",
       "<style scoped>\n",
       "    .dataframe tbody tr th:only-of-type {\n",
       "        vertical-align: middle;\n",
       "    }\n",
       "\n",
       "    .dataframe tbody tr th {\n",
       "        vertical-align: top;\n",
       "    }\n",
       "\n",
       "    .dataframe thead th {\n",
       "        text-align: right;\n",
       "    }\n",
       "</style>\n",
       "<table border=\"1\" class=\"dataframe\">\n",
       "  <thead>\n",
       "    <tr style=\"text-align: right;\">\n",
       "      <th></th>\n",
       "      <th>total_values_1</th>\n",
       "      <th>total_values_2</th>\n",
       "    </tr>\n",
       "    <tr>\n",
       "      <th>countries</th>\n",
       "      <th></th>\n",
       "      <th></th>\n",
       "    </tr>\n",
       "  </thead>\n",
       "  <tbody>\n",
       "    <tr>\n",
       "      <th>France</th>\n",
       "      <td>4912</td>\n",
       "      <td>5887</td>\n",
       "    </tr>\n",
       "    <tr>\n",
       "      <th>Germany</th>\n",
       "      <td>2459</td>\n",
       "      <td>2607</td>\n",
       "    </tr>\n",
       "    <tr>\n",
       "      <th>Norway</th>\n",
       "      <td>3992</td>\n",
       "      <td>4269</td>\n",
       "    </tr>\n",
       "    <tr>\n",
       "      <th>Portugal</th>\n",
       "      <td>3907</td>\n",
       "      <td>4470</td>\n",
       "    </tr>\n",
       "    <tr>\n",
       "      <th>Sweden</th>\n",
       "      <td>4372</td>\n",
       "      <td>4700</td>\n",
       "    </tr>\n",
       "    <tr>\n",
       "      <th>Switzerland</th>\n",
       "      <td>3739</td>\n",
       "      <td>3489</td>\n",
       "    </tr>\n",
       "  </tbody>\n",
       "</table>\n",
       "</div>"
      ],
      "text/plain": [
       "             total_values_1  total_values_2\n",
       "countries                                  \n",
       "France                 4912            5887\n",
       "Germany                2459            2607\n",
       "Norway                 3992            4269\n",
       "Portugal               3907            4470\n",
       "Sweden                 4372            4700\n",
       "Switzerland            3739            3489"
      ]
     },
     "execution_count": 18,
     "metadata": {},
     "output_type": "execute_result"
    }
   ],
   "source": [
    "%%piper \n",
    "get_sample_data() \n",
    ">> an_arbitary_function(a='override a:, ') \n",
    ">> select(['-dates']) \n",
    ">> where(\" ~countries.isin(['Italy', 'Spain']) & ids.isin(['A','D'])\") \n",
    ">> select('-order_dates') \n",
    ">> group_by(['countries']) \n",
    ">> summarise(total_values_1 = pd.NamedAgg('values_1', 'sum'), \n",
    "             total_values_2 = pd.NamedAgg('values_2', 'sum')) "
   ]
  },
  {
   "cell_type": "markdown",
   "metadata": {
    "ExecuteTime": {
     "end_time": "2020-08-06T08:53:26.356104Z",
     "start_time": "2020-08-06T08:53:26.353598Z"
    }
   },
   "source": [
    "## Example 6:"
   ]
  },
  {
   "cell_type": "code",
   "execution_count": 19,
   "metadata": {
    "ExecuteTime": {
     "end_time": "2021-02-26T15:24:35.953995Z",
     "start_time": "2021-02-26T15:24:35.933581Z"
    }
   },
   "outputs": [],
   "source": [
    "df = get_sample_data()\n",
    "\n",
    "rule = 'Q'\n",
    "grouper = pd.Grouper(key='dates', freq=rule)\n",
    "grouper2 = pd.Grouper(key='order_dates', freq=rule)\n",
    "\n",
    "index = [grouper, grouper2, 'regions', 'ids']\n",
    "index_names = ['period', 'order_month', 'region', 'code']\n",
    "\n",
    "percent_x = lambda x: (x*100/x.sum()).round(2)\n",
    "group_percent_index = ['period', 'order_month', 'region']\n",
    "\n",
    "piper_group_percent_example = lambda x: x.groupby(group_percent_index)['values_2'].transform(percent_x)"
   ]
  },
  {
   "cell_type": "markdown",
   "metadata": {
    "ExecuteTime": {
     "end_time": "2020-08-06T08:53:26.356104Z",
     "start_time": "2020-08-06T08:53:26.353598Z"
    }
   },
   "source": [
    "### Conventional pandas"
   ]
  },
  {
   "cell_type": "code",
   "execution_count": 20,
   "metadata": {
    "ExecuteTime": {
     "end_time": "2021-02-26T15:24:36.025992Z",
     "start_time": "2021-02-26T15:24:35.956214Z"
    }
   },
   "outputs": [
    {
     "data": {
      "text/html": [
       "<div>\n",
       "<style scoped>\n",
       "    .dataframe tbody tr th:only-of-type {\n",
       "        vertical-align: middle;\n",
       "    }\n",
       "\n",
       "    .dataframe tbody tr th {\n",
       "        vertical-align: top;\n",
       "    }\n",
       "\n",
       "    .dataframe thead th {\n",
       "        text-align: right;\n",
       "    }\n",
       "</style>\n",
       "<table border=\"1\" class=\"dataframe\">\n",
       "  <thead>\n",
       "    <tr style=\"text-align: right;\">\n",
       "      <th></th>\n",
       "      <th></th>\n",
       "      <th></th>\n",
       "      <th></th>\n",
       "      <th>values_1</th>\n",
       "      <th>values_2</th>\n",
       "      <th>%reg_totval2</th>\n",
       "    </tr>\n",
       "    <tr>\n",
       "      <th>period</th>\n",
       "      <th>order_month</th>\n",
       "      <th>region</th>\n",
       "      <th>code</th>\n",
       "      <th></th>\n",
       "      <th></th>\n",
       "      <th></th>\n",
       "    </tr>\n",
       "  </thead>\n",
       "  <tbody>\n",
       "    <tr>\n",
       "      <th rowspan=\"6\" valign=\"top\">2020 Mar</th>\n",
       "      <th rowspan=\"6\" valign=\"top\">2020 Mar</th>\n",
       "      <th rowspan=\"5\" valign=\"top\">East</th>\n",
       "      <th>A</th>\n",
       "      <td>1823</td>\n",
       "      <td>1474</td>\n",
       "      <td>34.01</td>\n",
       "    </tr>\n",
       "    <tr>\n",
       "      <th>B</th>\n",
       "      <td>1016</td>\n",
       "      <td>840</td>\n",
       "      <td>19.38</td>\n",
       "    </tr>\n",
       "    <tr>\n",
       "      <th>C</th>\n",
       "      <td>126</td>\n",
       "      <td>367</td>\n",
       "      <td>8.47</td>\n",
       "    </tr>\n",
       "    <tr>\n",
       "      <th>D</th>\n",
       "      <td>377</td>\n",
       "      <td>777</td>\n",
       "      <td>17.93</td>\n",
       "    </tr>\n",
       "    <tr>\n",
       "      <th>E</th>\n",
       "      <td>776</td>\n",
       "      <td>876</td>\n",
       "      <td>20.21</td>\n",
       "    </tr>\n",
       "    <tr>\n",
       "      <th>North</th>\n",
       "      <th>A</th>\n",
       "      <td>879</td>\n",
       "      <td>864</td>\n",
       "      <td>26.43</td>\n",
       "    </tr>\n",
       "  </tbody>\n",
       "</table>\n",
       "</div>"
      ],
      "text/plain": [
       "                                  values_1  values_2  %reg_totval2\n",
       "period   order_month region code                                  \n",
       "2020 Mar 2020 Mar    East   A         1823      1474         34.01\n",
       "                            B         1016       840         19.38\n",
       "                            C          126       367          8.47\n",
       "                            D          377       777         17.93\n",
       "                            E          776       876         20.21\n",
       "                     North  A          879       864         26.43"
      ]
     },
     "execution_count": 20,
     "metadata": {},
     "output_type": "execute_result"
    }
   ],
   "source": [
    "p2 = resample_pivot(df, index=index, grouper=[grouper, grouper2], rule=rule)\n",
    "p2.rename_axis(index_names, axis='rows', inplace=True)\n",
    "\n",
    "p2['%reg_totval2'] = p2.groupby(group_percent_index)['values_2'].transform(percent_x)\n",
    "p2.head(6)"
   ]
  },
  {
   "cell_type": "markdown",
   "metadata": {
    "ExecuteTime": {
     "end_time": "2020-08-06T08:53:26.356104Z",
     "start_time": "2020-08-06T08:53:26.353598Z"
    }
   },
   "source": [
    "### Alternative piper solution"
   ]
  },
  {
   "cell_type": "code",
   "execution_count": 21,
   "metadata": {
    "ExecuteTime": {
     "end_time": "2021-02-26T15:24:36.087710Z",
     "start_time": "2021-02-26T15:24:36.028576Z"
    }
   },
   "outputs": [],
   "source": [
    "%%piper \n",
    "p2 <- \n",
    "resample_pivot(df, index=index, grouper=[grouper, grouper2], rule=rule)\n",
    ">> rename_axis(index_names, axis='rows')\n",
    ">> assign(reg_totval2_percent = piper_group_percent_example) "
   ]
  },
  {
   "cell_type": "code",
   "execution_count": 22,
   "metadata": {
    "ExecuteTime": {
     "end_time": "2021-02-26T15:24:36.100605Z",
     "start_time": "2021-02-26T15:24:36.089256Z"
    }
   },
   "outputs": [
    {
     "name": "stderr",
     "output_type": "stream",
     "text": [
      "101 rows, 3 columns\n"
     ]
    },
    {
     "data": {
      "text/html": [
       "<div>\n",
       "<style scoped>\n",
       "    .dataframe tbody tr th:only-of-type {\n",
       "        vertical-align: middle;\n",
       "    }\n",
       "\n",
       "    .dataframe tbody tr th {\n",
       "        vertical-align: top;\n",
       "    }\n",
       "\n",
       "    .dataframe thead th {\n",
       "        text-align: right;\n",
       "    }\n",
       "</style>\n",
       "<table border=\"1\" class=\"dataframe\">\n",
       "  <thead>\n",
       "    <tr style=\"text-align: right;\">\n",
       "      <th></th>\n",
       "      <th></th>\n",
       "      <th></th>\n",
       "      <th></th>\n",
       "      <th>values_1</th>\n",
       "      <th>values_2</th>\n",
       "      <th>reg_totval2_percent</th>\n",
       "    </tr>\n",
       "    <tr>\n",
       "      <th>period</th>\n",
       "      <th>order_month</th>\n",
       "      <th>region</th>\n",
       "      <th>code</th>\n",
       "      <th></th>\n",
       "      <th></th>\n",
       "      <th></th>\n",
       "    </tr>\n",
       "  </thead>\n",
       "  <tbody>\n",
       "    <tr>\n",
       "      <th rowspan=\"6\" valign=\"top\">2020 Mar</th>\n",
       "      <th rowspan=\"6\" valign=\"top\">2020 Mar</th>\n",
       "      <th rowspan=\"5\" valign=\"top\">East</th>\n",
       "      <th>A</th>\n",
       "      <td>1823</td>\n",
       "      <td>1474</td>\n",
       "      <td>34.01</td>\n",
       "    </tr>\n",
       "    <tr>\n",
       "      <th>B</th>\n",
       "      <td>1016</td>\n",
       "      <td>840</td>\n",
       "      <td>19.38</td>\n",
       "    </tr>\n",
       "    <tr>\n",
       "      <th>C</th>\n",
       "      <td>126</td>\n",
       "      <td>367</td>\n",
       "      <td>8.47</td>\n",
       "    </tr>\n",
       "    <tr>\n",
       "      <th>D</th>\n",
       "      <td>377</td>\n",
       "      <td>777</td>\n",
       "      <td>17.93</td>\n",
       "    </tr>\n",
       "    <tr>\n",
       "      <th>E</th>\n",
       "      <td>776</td>\n",
       "      <td>876</td>\n",
       "      <td>20.21</td>\n",
       "    </tr>\n",
       "    <tr>\n",
       "      <th>North</th>\n",
       "      <th>A</th>\n",
       "      <td>879</td>\n",
       "      <td>864</td>\n",
       "      <td>26.43</td>\n",
       "    </tr>\n",
       "  </tbody>\n",
       "</table>\n",
       "</div>"
      ],
      "text/plain": [
       "                                  values_1  values_2  reg_totval2_percent\n",
       "period   order_month region code                                         \n",
       "2020 Mar 2020 Mar    East   A         1823      1474                34.01\n",
       "                            B         1016       840                19.38\n",
       "                            C          126       367                 8.47\n",
       "                            D          377       777                17.93\n",
       "                            E          776       876                20.21\n",
       "                     North  A          879       864                26.43"
      ]
     },
     "execution_count": 22,
     "metadata": {},
     "output_type": "execute_result"
    }
   ],
   "source": [
    "head(p2, 6)"
   ]
  },
  {
   "cell_type": "markdown",
   "metadata": {
    "ExecuteTime": {
     "end_time": "2020-08-06T08:53:26.356104Z",
     "start_time": "2020-08-06T08:53:26.353598Z"
    }
   },
   "source": [
    "## Example 6: Calculating a group percentage"
   ]
  },
  {
   "cell_type": "code",
   "execution_count": 23,
   "metadata": {
    "ExecuteTime": {
     "end_time": "2021-02-26T15:24:36.108537Z",
     "start_time": "2021-02-26T15:24:36.103699Z"
    }
   },
   "outputs": [],
   "source": [
    "rule = 'A'\n",
    "grouper = pd.Grouper(key='dates', freq=rule)\n",
    "grouper2 = pd.Grouper(key='order_dates', freq=rule)\n",
    "index = [grouper, grouper2, 'ids']\n",
    "\n",
    "group_percent_index = ['dates', 'order_dates']\n",
    "func = lambda x: (x * 100 / x.sum()).round(2)"
   ]
  },
  {
   "cell_type": "markdown",
   "metadata": {
    "ExecuteTime": {
     "end_time": "2020-08-06T08:53:26.356104Z",
     "start_time": "2020-08-06T08:53:26.353598Z"
    }
   },
   "source": [
    "### Conventional pandas"
   ]
  },
  {
   "cell_type": "code",
   "execution_count": 24,
   "metadata": {
    "ExecuteTime": {
     "end_time": "2021-02-26T15:24:36.176726Z",
     "start_time": "2021-02-26T15:24:36.110170Z"
    }
   },
   "outputs": [
    {
     "data": {
      "text/html": [
       "<div>\n",
       "<style scoped>\n",
       "    .dataframe tbody tr th:only-of-type {\n",
       "        vertical-align: middle;\n",
       "    }\n",
       "\n",
       "    .dataframe tbody tr th {\n",
       "        vertical-align: top;\n",
       "    }\n",
       "\n",
       "    .dataframe thead th {\n",
       "        text-align: right;\n",
       "    }\n",
       "</style>\n",
       "<table border=\"1\" class=\"dataframe\">\n",
       "  <thead>\n",
       "    <tr style=\"text-align: right;\">\n",
       "      <th></th>\n",
       "      <th></th>\n",
       "      <th></th>\n",
       "      <th>totval1</th>\n",
       "      <th>totval2</th>\n",
       "      <th>percent_val1</th>\n",
       "      <th>percent_val2</th>\n",
       "    </tr>\n",
       "    <tr>\n",
       "      <th>dates</th>\n",
       "      <th>order_dates</th>\n",
       "      <th>ids</th>\n",
       "      <th></th>\n",
       "      <th></th>\n",
       "      <th></th>\n",
       "      <th></th>\n",
       "    </tr>\n",
       "  </thead>\n",
       "  <tbody>\n",
       "    <tr>\n",
       "      <th rowspan=\"5\" valign=\"top\">2020-12-31</th>\n",
       "      <th rowspan=\"5\" valign=\"top\">2020-12-31</th>\n",
       "      <th>A</th>\n",
       "      <td>17589</td>\n",
       "      <td>19248</td>\n",
       "      <td>24.31</td>\n",
       "      <td>26.10</td>\n",
       "    </tr>\n",
       "    <tr>\n",
       "      <th>B</th>\n",
       "      <td>13807</td>\n",
       "      <td>15241</td>\n",
       "      <td>19.08</td>\n",
       "      <td>20.67</td>\n",
       "    </tr>\n",
       "    <tr>\n",
       "      <th>C</th>\n",
       "      <td>13342</td>\n",
       "      <td>12770</td>\n",
       "      <td>18.44</td>\n",
       "      <td>17.32</td>\n",
       "    </tr>\n",
       "    <tr>\n",
       "      <th>D</th>\n",
       "      <td>13363</td>\n",
       "      <td>12461</td>\n",
       "      <td>18.47</td>\n",
       "      <td>16.90</td>\n",
       "    </tr>\n",
       "    <tr>\n",
       "      <th>E</th>\n",
       "      <td>14263</td>\n",
       "      <td>14031</td>\n",
       "      <td>19.71</td>\n",
       "      <td>19.02</td>\n",
       "    </tr>\n",
       "  </tbody>\n",
       "</table>\n",
       "</div>"
      ],
      "text/plain": [
       "                            totval1  totval2  percent_val1  percent_val2\n",
       "dates      order_dates ids                                              \n",
       "2020-12-31 2020-12-31  A      17589    19248         24.31         26.10\n",
       "                       B      13807    15241         19.08         20.67\n",
       "                       C      13342    12770         18.44         17.32\n",
       "                       D      13363    12461         18.47         16.90\n",
       "                       E      14263    14031         19.71         19.02"
      ]
     },
     "execution_count": 24,
     "metadata": {},
     "output_type": "execute_result"
    }
   ],
   "source": [
    "df = get_sample_data()\n",
    "gb = df.groupby(index).agg(totval1=('values_1', 'sum'),\n",
    "                           totval2=('values_2', 'sum'))\n",
    "gb['percent_val1'] = gb.groupby(group_percent_index)['totval1'].transform(func)\n",
    "gb['percent_val2'] = gb.groupby(group_percent_index)['totval2'].transform(func)\n",
    "gb.head()"
   ]
  },
  {
   "cell_type": "markdown",
   "metadata": {
    "ExecuteTime": {
     "end_time": "2020-08-06T08:53:26.356104Z",
     "start_time": "2020-08-06T08:53:26.353598Z"
    }
   },
   "source": [
    "### Alternative piper solution"
   ]
  },
  {
   "cell_type": "code",
   "execution_count": 25,
   "metadata": {
    "ExecuteTime": {
     "end_time": "2021-02-26T15:24:36.184011Z",
     "start_time": "2021-02-26T15:24:36.179578Z"
    }
   },
   "outputs": [],
   "source": [
    "piper_func1 = lambda x: x.groupby(group_percent_index)['totval1'].transform(func)\n",
    "piper_func2 = lambda x: x.groupby(group_percent_index)['totval2'].transform(func)"
   ]
  },
  {
   "cell_type": "code",
   "execution_count": 26,
   "metadata": {
    "ExecuteTime": {
     "end_time": "2021-02-26T15:24:36.241282Z",
     "start_time": "2021-02-26T15:24:36.186559Z"
    }
   },
   "outputs": [],
   "source": [
    "%%piper \n",
    "p2 <- get_sample_data()  \n",
    ">> group_by([grouper, grouper2, 'ids']) \n",
    ">> summarise(totval1=(pd.NamedAgg('values_1', 'sum')),\n",
    "             totval2=(pd.NamedAgg('values_2', 'sum'))) \n",
    ">> assign(percent_val1 = piper_func1,\n",
    "          percent_val2 = piper_func2) "
   ]
  },
  {
   "cell_type": "code",
   "execution_count": 27,
   "metadata": {
    "ExecuteTime": {
     "end_time": "2021-02-26T15:24:36.260266Z",
     "start_time": "2021-02-26T15:24:36.243575Z"
    }
   },
   "outputs": [
    {
     "name": "stderr",
     "output_type": "stream",
     "text": [
      "10 rows, 4 columns\n"
     ]
    },
    {
     "data": {
      "text/html": [
       "<div>\n",
       "<style scoped>\n",
       "    .dataframe tbody tr th:only-of-type {\n",
       "        vertical-align: middle;\n",
       "    }\n",
       "\n",
       "    .dataframe tbody tr th {\n",
       "        vertical-align: top;\n",
       "    }\n",
       "\n",
       "    .dataframe thead th {\n",
       "        text-align: right;\n",
       "    }\n",
       "</style>\n",
       "<table border=\"1\" class=\"dataframe\">\n",
       "  <thead>\n",
       "    <tr style=\"text-align: right;\">\n",
       "      <th></th>\n",
       "      <th></th>\n",
       "      <th></th>\n",
       "      <th>totval1</th>\n",
       "      <th>totval2</th>\n",
       "      <th>percent_val1</th>\n",
       "      <th>percent_val2</th>\n",
       "    </tr>\n",
       "    <tr>\n",
       "      <th>dates</th>\n",
       "      <th>order_dates</th>\n",
       "      <th>ids</th>\n",
       "      <th></th>\n",
       "      <th></th>\n",
       "      <th></th>\n",
       "      <th></th>\n",
       "    </tr>\n",
       "  </thead>\n",
       "  <tbody>\n",
       "    <tr>\n",
       "      <th rowspan=\"4\" valign=\"top\">2020-12-31</th>\n",
       "      <th rowspan=\"4\" valign=\"top\">2020-12-31</th>\n",
       "      <th>A</th>\n",
       "      <td>17589</td>\n",
       "      <td>19248</td>\n",
       "      <td>24.31</td>\n",
       "      <td>26.10</td>\n",
       "    </tr>\n",
       "    <tr>\n",
       "      <th>B</th>\n",
       "      <td>13807</td>\n",
       "      <td>15241</td>\n",
       "      <td>19.08</td>\n",
       "      <td>20.67</td>\n",
       "    </tr>\n",
       "    <tr>\n",
       "      <th>C</th>\n",
       "      <td>13342</td>\n",
       "      <td>12770</td>\n",
       "      <td>18.44</td>\n",
       "      <td>17.32</td>\n",
       "    </tr>\n",
       "    <tr>\n",
       "      <th>D</th>\n",
       "      <td>13363</td>\n",
       "      <td>12461</td>\n",
       "      <td>18.47</td>\n",
       "      <td>16.90</td>\n",
       "    </tr>\n",
       "  </tbody>\n",
       "</table>\n",
       "</div>"
      ],
      "text/plain": [
       "                            totval1  totval2  percent_val1  percent_val2\n",
       "dates      order_dates ids                                              \n",
       "2020-12-31 2020-12-31  A      17589    19248         24.31         26.10\n",
       "                       B      13807    15241         19.08         20.67\n",
       "                       C      13342    12770         18.44         17.32\n",
       "                       D      13363    12461         18.47         16.90"
      ]
     },
     "execution_count": 27,
     "metadata": {},
     "output_type": "execute_result"
    }
   ],
   "source": [
    "head(p2)"
   ]
  },
  {
   "cell_type": "markdown",
   "metadata": {
    "ExecuteTime": {
     "end_time": "2020-08-06T08:53:26.356104Z",
     "start_time": "2020-08-06T08:53:26.353598Z"
    }
   },
   "source": [
    "## Example 7: Resample with group percentage"
   ]
  },
  {
   "cell_type": "code",
   "execution_count": 28,
   "metadata": {
    "ExecuteTime": {
     "end_time": "2021-02-26T15:24:36.264899Z",
     "start_time": "2021-02-26T15:24:36.261911Z"
    }
   },
   "outputs": [],
   "source": [
    "rule = 'A'\n",
    "grouper = pd.Grouper(key='dates', freq=rule)\n",
    "grouper2 = pd.Grouper(key='order_dates', freq=rule)\n",
    "index = [grouper, grouper2, 'regions']"
   ]
  },
  {
   "cell_type": "code",
   "execution_count": 29,
   "metadata": {
    "ExecuteTime": {
     "end_time": "2021-02-26T15:24:36.271213Z",
     "start_time": "2021-02-26T15:24:36.266550Z"
    }
   },
   "outputs": [],
   "source": [
    "group_percent_index = ['dates', 'order_dates']\n",
    "func = lambda x: (x * 100 / x.sum()).round(2)"
   ]
  },
  {
   "cell_type": "code",
   "execution_count": 30,
   "metadata": {
    "ExecuteTime": {
     "end_time": "2021-02-26T15:24:36.323446Z",
     "start_time": "2021-02-26T15:24:36.272905Z"
    }
   },
   "outputs": [
    {
     "data": {
      "text/html": [
       "<div>\n",
       "<style scoped>\n",
       "    .dataframe tbody tr th:only-of-type {\n",
       "        vertical-align: middle;\n",
       "    }\n",
       "\n",
       "    .dataframe tbody tr th {\n",
       "        vertical-align: top;\n",
       "    }\n",
       "\n",
       "    .dataframe thead th {\n",
       "        text-align: right;\n",
       "    }\n",
       "</style>\n",
       "<table border=\"1\" class=\"dataframe\">\n",
       "  <thead>\n",
       "    <tr style=\"text-align: right;\">\n",
       "      <th></th>\n",
       "      <th></th>\n",
       "      <th></th>\n",
       "      <th>values_1</th>\n",
       "      <th>values_2</th>\n",
       "      <th>percent_val1</th>\n",
       "      <th>percent_val2</th>\n",
       "    </tr>\n",
       "    <tr>\n",
       "      <th>dates</th>\n",
       "      <th>order_dates</th>\n",
       "      <th>regions</th>\n",
       "      <th></th>\n",
       "      <th></th>\n",
       "      <th></th>\n",
       "      <th></th>\n",
       "    </tr>\n",
       "  </thead>\n",
       "  <tbody>\n",
       "    <tr>\n",
       "      <th rowspan=\"7\" valign=\"top\">2020</th>\n",
       "      <th rowspan=\"4\" valign=\"top\">2020-12-31</th>\n",
       "      <th>East</th>\n",
       "      <td>19201</td>\n",
       "      <td>21960</td>\n",
       "      <td>26.53</td>\n",
       "      <td>29.78</td>\n",
       "    </tr>\n",
       "    <tr>\n",
       "      <th>North</th>\n",
       "      <td>16614</td>\n",
       "      <td>17032</td>\n",
       "      <td>22.96</td>\n",
       "      <td>23.09</td>\n",
       "    </tr>\n",
       "    <tr>\n",
       "      <th>South</th>\n",
       "      <td>17752</td>\n",
       "      <td>17775</td>\n",
       "      <td>24.53</td>\n",
       "      <td>24.10</td>\n",
       "    </tr>\n",
       "    <tr>\n",
       "      <th>West</th>\n",
       "      <td>18797</td>\n",
       "      <td>16984</td>\n",
       "      <td>25.98</td>\n",
       "      <td>23.03</td>\n",
       "    </tr>\n",
       "    <tr>\n",
       "      <th rowspan=\"3\" valign=\"top\">2021-12-31</th>\n",
       "      <th>East</th>\n",
       "      <td>237</td>\n",
       "      <td>389</td>\n",
       "      <td>27.30</td>\n",
       "      <td>29.72</td>\n",
       "    </tr>\n",
       "    <tr>\n",
       "      <th>North</th>\n",
       "      <td>591</td>\n",
       "      <td>826</td>\n",
       "      <td>68.09</td>\n",
       "      <td>63.10</td>\n",
       "    </tr>\n",
       "    <tr>\n",
       "      <th>South</th>\n",
       "      <td>40</td>\n",
       "      <td>94</td>\n",
       "      <td>4.61</td>\n",
       "      <td>7.18</td>\n",
       "    </tr>\n",
       "    <tr>\n",
       "      <th>2021</th>\n",
       "      <th>2021-12-31</th>\n",
       "      <th>North</th>\n",
       "      <td>372</td>\n",
       "      <td>103</td>\n",
       "      <td>100.00</td>\n",
       "      <td>100.00</td>\n",
       "    </tr>\n",
       "  </tbody>\n",
       "</table>\n",
       "</div>"
      ],
      "text/plain": [
       "                           values_1  values_2  percent_val1  percent_val2\n",
       "dates order_dates regions                                                \n",
       "2020  2020-12-31  East        19201     21960         26.53         29.78\n",
       "                  North       16614     17032         22.96         23.09\n",
       "                  South       17752     17775         24.53         24.10\n",
       "                  West        18797     16984         25.98         23.03\n",
       "      2021-12-31  East          237       389         27.30         29.72\n",
       "                  North         591       826         68.09         63.10\n",
       "                  South          40        94          4.61          7.18\n",
       "2021  2021-12-31  North         372       103        100.00        100.00"
      ]
     },
     "execution_count": 30,
     "metadata": {},
     "output_type": "execute_result"
    }
   ],
   "source": [
    "p2 = resample_pivot(get_sample_data(), index=index, grouper=grouper, rule=rule)\n",
    "p2['percent_val1'] = p2.groupby(group_percent_index)['values_1'].transform(func)\n",
    "p2['percent_val2'] = p2.groupby(group_percent_index)['values_2'].transform(func)\n",
    "p2"
   ]
  },
  {
   "cell_type": "markdown",
   "metadata": {
    "ExecuteTime": {
     "end_time": "2020-08-06T08:53:26.356104Z",
     "start_time": "2020-08-06T08:53:26.353598Z"
    }
   },
   "source": [
    "### Alternative piper solution"
   ]
  },
  {
   "cell_type": "code",
   "execution_count": 31,
   "metadata": {
    "ExecuteTime": {
     "end_time": "2021-02-26T15:24:36.330578Z",
     "start_time": "2021-02-26T15:24:36.325784Z"
    }
   },
   "outputs": [],
   "source": [
    "rule = 'M'\n",
    "grouper = pd.Grouper(key='dates', freq=rule)\n",
    "grouper2 = pd.Grouper(key='order_dates', freq=rule)\n",
    "index = [grouper, grouper2, 'regions']\n",
    "\n",
    "group_percent_index = ['dates', 'order_dates']\n",
    "func = lambda x: (x * 100 / x.sum()).round(2)"
   ]
  },
  {
   "cell_type": "code",
   "execution_count": 32,
   "metadata": {
    "ExecuteTime": {
     "end_time": "2021-02-26T15:24:36.344312Z",
     "start_time": "2021-02-26T15:24:36.333423Z"
    }
   },
   "outputs": [],
   "source": [
    "piper_func1 = lambda x: x.groupby(group_percent_index)['totval1'].transform(func)\n",
    "piper_func2 = lambda x: x.groupby(group_percent_index)['totval2'].transform(func)"
   ]
  },
  {
   "cell_type": "code",
   "execution_count": 33,
   "metadata": {
    "ExecuteTime": {
     "end_time": "2021-02-26T15:24:36.546009Z",
     "start_time": "2021-02-26T15:24:36.346668Z"
    }
   },
   "outputs": [
    {
     "data": {
      "text/html": [
       "<div>\n",
       "<style scoped>\n",
       "    .dataframe tbody tr th:only-of-type {\n",
       "        vertical-align: middle;\n",
       "    }\n",
       "\n",
       "    .dataframe tbody tr th {\n",
       "        vertical-align: top;\n",
       "    }\n",
       "\n",
       "    .dataframe thead th {\n",
       "        text-align: right;\n",
       "    }\n",
       "</style>\n",
       "<table border=\"1\" class=\"dataframe\">\n",
       "  <thead>\n",
       "    <tr style=\"text-align: right;\">\n",
       "      <th></th>\n",
       "      <th></th>\n",
       "      <th></th>\n",
       "      <th>totval1</th>\n",
       "      <th>totval2</th>\n",
       "      <th>percent_val1</th>\n",
       "      <th>percent_val2</th>\n",
       "    </tr>\n",
       "    <tr>\n",
       "      <th>dates</th>\n",
       "      <th>order_dates</th>\n",
       "      <th>regions</th>\n",
       "      <th></th>\n",
       "      <th></th>\n",
       "      <th></th>\n",
       "      <th></th>\n",
       "    </tr>\n",
       "  </thead>\n",
       "  <tbody>\n",
       "    <tr>\n",
       "      <th rowspan=\"5\" valign=\"top\">2020 Jan</th>\n",
       "      <th rowspan=\"4\" valign=\"top\">2020-01-31</th>\n",
       "      <th>East</th>\n",
       "      <td>2081</td>\n",
       "      <td>1643</td>\n",
       "      <td>39.87</td>\n",
       "      <td>36.34</td>\n",
       "    </tr>\n",
       "    <tr>\n",
       "      <th>North</th>\n",
       "      <td>1324</td>\n",
       "      <td>1055</td>\n",
       "      <td>25.37</td>\n",
       "      <td>23.34</td>\n",
       "    </tr>\n",
       "    <tr>\n",
       "      <th>South</th>\n",
       "      <td>971</td>\n",
       "      <td>939</td>\n",
       "      <td>18.61</td>\n",
       "      <td>20.77</td>\n",
       "    </tr>\n",
       "    <tr>\n",
       "      <th>West</th>\n",
       "      <td>843</td>\n",
       "      <td>884</td>\n",
       "      <td>16.15</td>\n",
       "      <td>19.55</td>\n",
       "    </tr>\n",
       "    <tr>\n",
       "      <th>2020-02-29</th>\n",
       "      <th>East</th>\n",
       "      <td>171</td>\n",
       "      <td>393</td>\n",
       "      <td>15.86</td>\n",
       "      <td>41.76</td>\n",
       "    </tr>\n",
       "    <tr>\n",
       "      <th>...</th>\n",
       "      <th>...</th>\n",
       "      <th>...</th>\n",
       "      <td>...</td>\n",
       "      <td>...</td>\n",
       "      <td>...</td>\n",
       "      <td>...</td>\n",
       "    </tr>\n",
       "    <tr>\n",
       "      <th rowspan=\"4\" valign=\"top\">2020 Dec</th>\n",
       "      <th>2020-12-31</th>\n",
       "      <th>West</th>\n",
       "      <td>1047</td>\n",
       "      <td>981</td>\n",
       "      <td>21.82</td>\n",
       "      <td>18.24</td>\n",
       "    </tr>\n",
       "    <tr>\n",
       "      <th rowspan=\"3\" valign=\"top\">2021-01-31</th>\n",
       "      <th>East</th>\n",
       "      <td>237</td>\n",
       "      <td>389</td>\n",
       "      <td>27.30</td>\n",
       "      <td>29.72</td>\n",
       "    </tr>\n",
       "    <tr>\n",
       "      <th>North</th>\n",
       "      <td>591</td>\n",
       "      <td>826</td>\n",
       "      <td>68.09</td>\n",
       "      <td>63.10</td>\n",
       "    </tr>\n",
       "    <tr>\n",
       "      <th>South</th>\n",
       "      <td>40</td>\n",
       "      <td>94</td>\n",
       "      <td>4.61</td>\n",
       "      <td>7.18</td>\n",
       "    </tr>\n",
       "    <tr>\n",
       "      <th>2021 Jan</th>\n",
       "      <th>2021-01-31</th>\n",
       "      <th>North</th>\n",
       "      <td>372</td>\n",
       "      <td>103</td>\n",
       "      <td>100.00</td>\n",
       "      <td>100.00</td>\n",
       "    </tr>\n",
       "  </tbody>\n",
       "</table>\n",
       "<p>87 rows × 4 columns</p>\n",
       "</div>"
      ],
      "text/plain": [
       "                              totval1  totval2  percent_val1  percent_val2\n",
       "dates    order_dates regions                                              \n",
       "2020 Jan 2020-01-31  East        2081     1643         39.87         36.34\n",
       "                     North       1324     1055         25.37         23.34\n",
       "                     South        971      939         18.61         20.77\n",
       "                     West         843      884         16.15         19.55\n",
       "         2020-02-29  East         171      393         15.86         41.76\n",
       "...                               ...      ...           ...           ...\n",
       "2020 Dec 2020-12-31  West        1047      981         21.82         18.24\n",
       "         2021-01-31  East         237      389         27.30         29.72\n",
       "                     North        591      826         68.09         63.10\n",
       "                     South         40       94          4.61          7.18\n",
       "2021 Jan 2021-01-31  North        372      103        100.00        100.00\n",
       "\n",
       "[87 rows x 4 columns]"
      ]
     },
     "execution_count": 33,
     "metadata": {},
     "output_type": "execute_result"
    }
   ],
   "source": [
    "%%piper\n",
    "resample_pivot(get_sample_data(), index=index, grouper=grouper, rule=rule)\n",
    ">> rename(columns={'values_1': 'totval1', 'values_2': 'totval2'})\n",
    ">> assign(percent_val1 = piper_func1,\n",
    "          percent_val2 = piper_func2) "
   ]
  },
  {
   "cell_type": "code",
   "execution_count": 34,
   "metadata": {
    "ExecuteTime": {
     "end_time": "2021-02-26T15:24:36.696518Z",
     "start_time": "2021-02-26T15:24:36.548104Z"
    }
   },
   "outputs": [
    {
     "data": {
      "text/html": [
       "<div>\n",
       "<style scoped>\n",
       "    .dataframe tbody tr th:only-of-type {\n",
       "        vertical-align: middle;\n",
       "    }\n",
       "\n",
       "    .dataframe tbody tr th {\n",
       "        vertical-align: top;\n",
       "    }\n",
       "\n",
       "    .dataframe thead th {\n",
       "        text-align: right;\n",
       "    }\n",
       "</style>\n",
       "<table border=\"1\" class=\"dataframe\">\n",
       "  <thead>\n",
       "    <tr style=\"text-align: right;\">\n",
       "      <th></th>\n",
       "      <th></th>\n",
       "      <th></th>\n",
       "      <th>totval1</th>\n",
       "      <th>totval2</th>\n",
       "      <th>percent_val1</th>\n",
       "      <th>percent_val2</th>\n",
       "    </tr>\n",
       "    <tr>\n",
       "      <th>dates</th>\n",
       "      <th>order_dates</th>\n",
       "      <th>regions</th>\n",
       "      <th></th>\n",
       "      <th></th>\n",
       "      <th></th>\n",
       "      <th></th>\n",
       "    </tr>\n",
       "  </thead>\n",
       "  <tbody>\n",
       "    <tr>\n",
       "      <th rowspan=\"5\" valign=\"top\">2020 Jan</th>\n",
       "      <th rowspan=\"4\" valign=\"top\">2020-01-31</th>\n",
       "      <th>East</th>\n",
       "      <td>2081</td>\n",
       "      <td>1643</td>\n",
       "      <td>39.87</td>\n",
       "      <td>36.34</td>\n",
       "    </tr>\n",
       "    <tr>\n",
       "      <th>North</th>\n",
       "      <td>1324</td>\n",
       "      <td>1055</td>\n",
       "      <td>25.37</td>\n",
       "      <td>23.34</td>\n",
       "    </tr>\n",
       "    <tr>\n",
       "      <th>South</th>\n",
       "      <td>971</td>\n",
       "      <td>939</td>\n",
       "      <td>18.61</td>\n",
       "      <td>20.77</td>\n",
       "    </tr>\n",
       "    <tr>\n",
       "      <th>West</th>\n",
       "      <td>843</td>\n",
       "      <td>884</td>\n",
       "      <td>16.15</td>\n",
       "      <td>19.55</td>\n",
       "    </tr>\n",
       "    <tr>\n",
       "      <th>2020-02-29</th>\n",
       "      <th>East</th>\n",
       "      <td>171</td>\n",
       "      <td>393</td>\n",
       "      <td>15.86</td>\n",
       "      <td>41.76</td>\n",
       "    </tr>\n",
       "    <tr>\n",
       "      <th>...</th>\n",
       "      <th>...</th>\n",
       "      <th>...</th>\n",
       "      <td>...</td>\n",
       "      <td>...</td>\n",
       "      <td>...</td>\n",
       "      <td>...</td>\n",
       "    </tr>\n",
       "    <tr>\n",
       "      <th rowspan=\"4\" valign=\"top\">2020 Dec</th>\n",
       "      <th>2020-12-31</th>\n",
       "      <th>West</th>\n",
       "      <td>1047</td>\n",
       "      <td>981</td>\n",
       "      <td>21.82</td>\n",
       "      <td>18.24</td>\n",
       "    </tr>\n",
       "    <tr>\n",
       "      <th rowspan=\"3\" valign=\"top\">2021-01-31</th>\n",
       "      <th>East</th>\n",
       "      <td>237</td>\n",
       "      <td>389</td>\n",
       "      <td>27.30</td>\n",
       "      <td>29.72</td>\n",
       "    </tr>\n",
       "    <tr>\n",
       "      <th>North</th>\n",
       "      <td>591</td>\n",
       "      <td>826</td>\n",
       "      <td>68.09</td>\n",
       "      <td>63.10</td>\n",
       "    </tr>\n",
       "    <tr>\n",
       "      <th>South</th>\n",
       "      <td>40</td>\n",
       "      <td>94</td>\n",
       "      <td>4.61</td>\n",
       "      <td>7.18</td>\n",
       "    </tr>\n",
       "    <tr>\n",
       "      <th>2021 Jan</th>\n",
       "      <th>2021-01-31</th>\n",
       "      <th>North</th>\n",
       "      <td>372</td>\n",
       "      <td>103</td>\n",
       "      <td>100.00</td>\n",
       "      <td>100.00</td>\n",
       "    </tr>\n",
       "  </tbody>\n",
       "</table>\n",
       "<p>87 rows × 4 columns</p>\n",
       "</div>"
      ],
      "text/plain": [
       "                              totval1  totval2  percent_val1  percent_val2\n",
       "dates    order_dates regions                                              \n",
       "2020 Jan 2020-01-31  East        2081     1643         39.87         36.34\n",
       "                     North       1324     1055         25.37         23.34\n",
       "                     South        971      939         18.61         20.77\n",
       "                     West         843      884         16.15         19.55\n",
       "         2020-02-29  East         171      393         15.86         41.76\n",
       "...                               ...      ...           ...           ...\n",
       "2020 Dec 2020-12-31  West        1047      981         21.82         18.24\n",
       "         2021-01-31  East         237      389         27.30         29.72\n",
       "                     North        591      826         68.09         63.10\n",
       "                     South         40       94          4.61          7.18\n",
       "2021 Jan 2021-01-31  North        372      103        100.00        100.00\n",
       "\n",
       "[87 rows x 4 columns]"
      ]
     },
     "execution_count": 34,
     "metadata": {},
     "output_type": "execute_result"
    }
   ],
   "source": [
    "%%piper\n",
    "resample_pivot(get_sample_data(), index=index, grouper=grouper, rule=rule)\n",
    ">> rename(columns={'values_1': 'totval1', 'values_2': 'totval2'})\n",
    ">> add_group_calc(column='percent_val1', value='totval1', index=group_percent_index)\n",
    ">> add_group_calc(column='percent_val2', value='totval2', index=group_percent_index)"
   ]
  },
  {
   "cell_type": "code",
   "execution_count": null,
   "metadata": {},
   "outputs": [],
   "source": []
  },
  {
   "cell_type": "code",
   "execution_count": null,
   "metadata": {},
   "outputs": [],
   "source": []
  }
 ],
 "metadata": {
  "hide_input": false,
  "kernelspec": {
   "display_name": "Python 3",
   "language": "python",
   "name": "python3"
  },
  "language_info": {
   "codemirror_mode": {
    "name": "ipython",
    "version": 3
   },
   "file_extension": ".py",
   "mimetype": "text/x-python",
   "name": "python",
   "nbconvert_exporter": "python",
   "pygments_lexer": "ipython3",
   "version": "3.8.5"
  },
  "toc": {
   "base_numbering": 1,
   "nav_menu": {},
   "number_sections": true,
   "sideBar": true,
   "skip_h1_title": false,
   "title_cell": "Table of Contents",
   "title_sidebar": "Contents",
   "toc_cell": false,
   "toc_position": {
    "height": "calc(100% - 180px)",
    "left": "10px",
    "top": "150px",
    "width": "256px"
   },
   "toc_section_display": true,
   "toc_window_display": true
  }
 },
 "nbformat": 4,
 "nbformat_minor": 4
}
