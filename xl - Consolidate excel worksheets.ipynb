{
 "cells": [
  {
   "cell_type": "markdown",
   "metadata": {},
   "source": [
    "# Reference\n",
    "Data sourced from: https://trumpexcel.com/combine-multiple-worksheets/"
   ]
  },
  {
   "cell_type": "markdown",
   "metadata": {},
   "source": [
    "# Example\n",
    "Consolidate regional sales data workbook from 4 sheets into one dataframe."
   ]
  },
  {
   "cell_type": "code",
   "execution_count": 1,
   "metadata": {
    "ExecuteTime": {
     "end_time": "2021-03-18T15:51:04.653388Z",
     "start_time": "2021-03-18T15:51:03.787441Z"
    }
   },
   "outputs": [
    {
     "name": "stderr",
     "output_type": "stream",
     "text": [
      "piper v0.1.0: Monday, 29 March 2021 19:08:47\n"
     ]
    }
   ],
   "source": [
    "from piper.defaults import *"
   ]
  },
  {
   "cell_type": "code",
   "execution_count": 2,
   "metadata": {
    "ExecuteTime": {
     "end_time": "2021-03-18T15:51:04.992092Z",
     "start_time": "2021-03-18T15:51:04.657380Z"
    }
   },
   "outputs": [
    {
     "data": {
      "text/plain": [
       "['East', 'West', 'North', 'South']"
      ]
     },
     "execution_count": 2,
     "metadata": {},
     "output_type": "execute_result"
    }
   ],
   "source": [
    "xl_file = 'inputs/Region wise Sales Data.xlsx'\n",
    "read_excel_sheets(xl_file, return_type='list')"
   ]
  },
  {
   "cell_type": "code",
   "execution_count": 3,
   "metadata": {
    "ExecuteTime": {
     "end_time": "2021-03-18T15:51:05.209131Z",
     "start_time": "2021-03-18T15:51:04.994441Z"
    }
   },
   "outputs": [],
   "source": [
    "%%piper\n",
    "df <- read_excel_sheets(xl_file,\n",
    "                        skiprows=3,\n",
    "                        include_sheet=True,\n",
    "                        return_type='combine',              \n",
    "                        info=False)\n",
    ">> clean_columns()\n",
    ">> relocate('sheet_name', 'after', 'date')\n",
    ">> relocate('sales_rep', 'after', 'price')\n",
    ">> rename(columns={'sheet_name': 'region', 'commission': 'comm_perc'})\n",
    ">> assign(comm_value=lambda x: x.quantity * x.price * x.comm_perc)"
   ]
  },
  {
   "cell_type": "code",
   "execution_count": 4,
   "metadata": {
    "ExecuteTime": {
     "end_time": "2021-03-18T15:51:05.236411Z",
     "start_time": "2021-03-18T15:51:05.210862Z"
    }
   },
   "outputs": [
    {
     "name": "stderr",
     "output_type": "stream",
     "text": [
      "1303 rows, 8 columns\n"
     ]
    },
    {
     "data": {
      "text/html": [
       "<div>\n",
       "<style scoped>\n",
       "    .dataframe tbody tr th:only-of-type {\n",
       "        vertical-align: middle;\n",
       "    }\n",
       "\n",
       "    .dataframe tbody tr th {\n",
       "        vertical-align: top;\n",
       "    }\n",
       "\n",
       "    .dataframe thead th {\n",
       "        text-align: right;\n",
       "    }\n",
       "</style>\n",
       "<table border=\"1\" class=\"dataframe\">\n",
       "  <thead>\n",
       "    <tr style=\"text-align: right;\">\n",
       "      <th></th>\n",
       "      <th>date</th>\n",
       "      <th>region</th>\n",
       "      <th>item</th>\n",
       "      <th>quantity</th>\n",
       "      <th>price</th>\n",
       "      <th>sales_rep</th>\n",
       "      <th>comm_perc</th>\n",
       "      <th>comm_value</th>\n",
       "    </tr>\n",
       "  </thead>\n",
       "  <tbody>\n",
       "    <tr>\n",
       "      <th>0</th>\n",
       "      <td>2018-07-01</td>\n",
       "      <td>East</td>\n",
       "      <td>Printer</td>\n",
       "      <td>10</td>\n",
       "      <td>80</td>\n",
       "      <td>Laura</td>\n",
       "      <td>0.08</td>\n",
       "      <td>64.0</td>\n",
       "    </tr>\n",
       "    <tr>\n",
       "      <th>1</th>\n",
       "      <td>2018-07-01</td>\n",
       "      <td>East</td>\n",
       "      <td>White Board</td>\n",
       "      <td>18</td>\n",
       "      <td>40</td>\n",
       "      <td>Stacey</td>\n",
       "      <td>0.06</td>\n",
       "      <td>43.2</td>\n",
       "    </tr>\n",
       "    <tr>\n",
       "      <th>2</th>\n",
       "      <td>2018-07-01</td>\n",
       "      <td>East</td>\n",
       "      <td>Office Chair</td>\n",
       "      <td>7</td>\n",
       "      <td>230</td>\n",
       "      <td>Mark</td>\n",
       "      <td>0.08</td>\n",
       "      <td>128.8</td>\n",
       "    </tr>\n",
       "  </tbody>\n",
       "</table>\n",
       "</div>"
      ],
      "text/plain": [
       "        date region          item  quantity  price sales_rep  comm_perc  \\\n",
       "0 2018-07-01   East       Printer        10     80     Laura       0.08   \n",
       "1 2018-07-01   East   White Board        18     40    Stacey       0.06   \n",
       "2 2018-07-01   East  Office Chair         7    230      Mark       0.08   \n",
       "\n",
       "   comm_value  \n",
       "0        64.0  \n",
       "1        43.2  \n",
       "2       128.8  "
      ]
     },
     "execution_count": 4,
     "metadata": {},
     "output_type": "execute_result"
    }
   ],
   "source": [
    "head(df, 3)"
   ]
  },
  {
   "cell_type": "markdown",
   "metadata": {},
   "source": [
    "## Summary counts - items, sales_rep, region"
   ]
  },
  {
   "cell_type": "code",
   "execution_count": 5,
   "metadata": {
    "ExecuteTime": {
     "end_time": "2021-03-18T15:51:05.293991Z",
     "start_time": "2021-03-18T15:51:05.240112Z"
    }
   },
   "outputs": [
    {
     "name": "stderr",
     "output_type": "stream",
     "text": [
      "Use %piper/%%piper --info to see rendered pandas pipe statement\n"
     ]
    },
    {
     "name": "stderr",
     "output_type": "stream",
     "text": [
      "adorn() got an unexpected keyword argument 'ignore_row_index'\n"
     ]
    }
   ],
   "source": [
    "%%piper\n",
    "df \n",
    ">> clean_columns()\n",
    ">> count('item')\n",
    ">> adorn(ignore_row_index=True)"
   ]
  },
  {
   "cell_type": "code",
   "execution_count": 6,
   "metadata": {
    "ExecuteTime": {
     "end_time": "2021-03-18T15:51:05.363021Z",
     "start_time": "2021-03-18T15:51:05.295913Z"
    }
   },
   "outputs": [
    {
     "name": "stderr",
     "output_type": "stream",
     "text": [
      "Use %piper/%%piper --info to see rendered pandas pipe statement\n"
     ]
    },
    {
     "name": "stderr",
     "output_type": "stream",
     "text": [
      "adorn() got an unexpected keyword argument 'ignore_row_index'\n"
     ]
    }
   ],
   "source": [
    "%%piper\n",
    "df \n",
    ">> clean_columns()\n",
    ">> count('sales_rep')\n",
    ">> adorn(ignore_row_index=True)"
   ]
  },
  {
   "cell_type": "code",
   "execution_count": 7,
   "metadata": {
    "ExecuteTime": {
     "end_time": "2021-03-18T15:51:05.437070Z",
     "start_time": "2021-03-18T15:51:05.369846Z"
    }
   },
   "outputs": [
    {
     "name": "stderr",
     "output_type": "stream",
     "text": [
      "Use %piper/%%piper --info to see rendered pandas pipe statement\n"
     ]
    },
    {
     "name": "stderr",
     "output_type": "stream",
     "text": [
      "adorn() got an unexpected keyword argument 'ignore_row_index'\n"
     ]
    }
   ],
   "source": [
    "%%piper\n",
    "df \n",
    ">> clean_columns()\n",
    ">> count('region')\n",
    ">> adorn(ignore_row_index=True)"
   ]
  },
  {
   "cell_type": "code",
   "execution_count": null,
   "metadata": {},
   "outputs": [],
   "source": []
  },
  {
   "cell_type": "code",
   "execution_count": null,
   "metadata": {},
   "outputs": [],
   "source": []
  },
  {
   "cell_type": "code",
   "execution_count": null,
   "metadata": {},
   "outputs": [],
   "source": []
  },
  {
   "cell_type": "code",
   "execution_count": null,
   "metadata": {},
   "outputs": [],
   "source": []
  },
  {
   "cell_type": "code",
   "execution_count": null,
   "metadata": {},
   "outputs": [],
   "source": []
  }
 ],
 "metadata": {
  "kernelspec": {
   "display_name": "Python 3",
   "language": "python",
   "name": "python3"
  },
  "language_info": {
   "codemirror_mode": {
    "name": "ipython",
    "version": 3
   },
   "file_extension": ".py",
   "mimetype": "text/x-python",
   "name": "python",
   "nbconvert_exporter": "python",
   "pygments_lexer": "ipython3",
   "version": "3.8.5"
  },
  "toc": {
   "base_numbering": 1,
   "nav_menu": {},
   "number_sections": true,
   "sideBar": true,
   "skip_h1_title": false,
   "title_cell": "Table of Contents",
   "title_sidebar": "Contents",
   "toc_cell": false,
   "toc_position": {},
   "toc_section_display": true,
   "toc_window_display": true
  }
 },
 "nbformat": 4,
 "nbformat_minor": 4
}
