{
 "cells": [
  {
   "cell_type": "markdown",
   "metadata": {},
   "source": [
    "# Reference"
   ]
  },
  {
   "cell_type": "markdown",
   "metadata": {},
   "source": [
    "YouTube - Leila Gharani - Convert Columns to Rows in Excel (NO Transpose, NO Formulas - SIMPLY UNPIVOT in Power Query)\n",
    "\n",
    "https://youtu.be/JMrfbv2h7p8"
   ]
  },
  {
   "cell_type": "markdown",
   "metadata": {},
   "source": [
    "## Example"
   ]
  },
  {
   "cell_type": "code",
   "execution_count": 1,
   "metadata": {
    "ExecuteTime": {
     "end_time": "2021-03-11T16:11:10.562620Z",
     "start_time": "2021-03-11T16:11:10.034415Z"
    }
   },
   "outputs": [
    {
     "data": {
      "text/html": [
       "<div>\n",
       "<style scoped>\n",
       "    .dataframe tbody tr th:only-of-type {\n",
       "        vertical-align: middle;\n",
       "    }\n",
       "\n",
       "    .dataframe tbody tr th {\n",
       "        vertical-align: top;\n",
       "    }\n",
       "\n",
       "    .dataframe thead th {\n",
       "        text-align: right;\n",
       "    }\n",
       "</style>\n",
       "<table border=\"1\" class=\"dataframe\">\n",
       "  <thead>\n",
       "    <tr style=\"text-align: right;\">\n",
       "      <th></th>\n",
       "      <th></th>\n",
       "      <th>Jan</th>\n",
       "      <th>Feb</th>\n",
       "      <th>Mar</th>\n",
       "      <th>Apr</th>\n",
       "      <th>May</th>\n",
       "      <th>Jun</th>\n",
       "      <th>Jul</th>\n",
       "      <th>Aug</th>\n",
       "      <th>Sep</th>\n",
       "      <th>Oct</th>\n",
       "      <th>Nov</th>\n",
       "      <th>Dec</th>\n",
       "    </tr>\n",
       "    <tr>\n",
       "      <th>App</th>\n",
       "      <th>Type</th>\n",
       "      <th></th>\n",
       "      <th></th>\n",
       "      <th></th>\n",
       "      <th></th>\n",
       "      <th></th>\n",
       "      <th></th>\n",
       "      <th></th>\n",
       "      <th></th>\n",
       "      <th></th>\n",
       "      <th></th>\n",
       "      <th></th>\n",
       "      <th></th>\n",
       "    </tr>\n",
       "  </thead>\n",
       "  <tbody>\n",
       "    <tr>\n",
       "      <th rowspan=\"2\" valign=\"top\">WenCaL</th>\n",
       "      <th>Sales</th>\n",
       "      <td>22</td>\n",
       "      <td>32</td>\n",
       "      <td>44</td>\n",
       "      <td>54</td>\n",
       "      <td>68</td>\n",
       "      <td>76</td>\n",
       "      <td>89</td>\n",
       "      <td>110</td>\n",
       "      <td>113</td>\n",
       "      <td>191</td>\n",
       "      <td>276</td>\n",
       "      <td>264</td>\n",
       "    </tr>\n",
       "    <tr>\n",
       "      <th>Volume</th>\n",
       "      <td>0</td>\n",
       "      <td>0</td>\n",
       "      <td>0</td>\n",
       "      <td>54</td>\n",
       "      <td>68</td>\n",
       "      <td>76</td>\n",
       "      <td>89</td>\n",
       "      <td>110</td>\n",
       "      <td>113</td>\n",
       "      <td>0</td>\n",
       "      <td>0</td>\n",
       "      <td>0</td>\n",
       "    </tr>\n",
       "    <tr>\n",
       "      <th>WenCal</th>\n",
       "      <th>Returns</th>\n",
       "      <td>0</td>\n",
       "      <td>0</td>\n",
       "      <td>22</td>\n",
       "      <td>0</td>\n",
       "      <td>0</td>\n",
       "      <td>0</td>\n",
       "      <td>0</td>\n",
       "      <td>0</td>\n",
       "      <td>0</td>\n",
       "      <td>0</td>\n",
       "      <td>0</td>\n",
       "      <td>0</td>\n",
       "    </tr>\n",
       "    <tr>\n",
       "      <th>Blend</th>\n",
       "      <th>Sales</th>\n",
       "      <td>149</td>\n",
       "      <td>274</td>\n",
       "      <td>490</td>\n",
       "      <td>641</td>\n",
       "      <td>823</td>\n",
       "      <td>1003</td>\n",
       "      <td>1164</td>\n",
       "      <td>1272</td>\n",
       "      <td>1395</td>\n",
       "      <td>1538</td>\n",
       "      <td>1712</td>\n",
       "      <td>1750</td>\n",
       "    </tr>\n",
       "    <tr>\n",
       "      <th>Voltage</th>\n",
       "      <th>Volume</th>\n",
       "      <td>47</td>\n",
       "      <td>144</td>\n",
       "      <td>268</td>\n",
       "      <td>358</td>\n",
       "      <td>430</td>\n",
       "      <td>516</td>\n",
       "      <td>608</td>\n",
       "      <td>710</td>\n",
       "      <td>796</td>\n",
       "      <td>866</td>\n",
       "      <td>990</td>\n",
       "      <td>1000</td>\n",
       "    </tr>\n",
       "    <tr>\n",
       "      <th>Inkly</th>\n",
       "      <th>Returns</th>\n",
       "      <td>119</td>\n",
       "      <td>139</td>\n",
       "      <td>245</td>\n",
       "      <td>350</td>\n",
       "      <td>410</td>\n",
       "      <td>499</td>\n",
       "      <td>547</td>\n",
       "      <td>520</td>\n",
       "      <td>550</td>\n",
       "      <td>551</td>\n",
       "      <td>573</td>\n",
       "      <td>472</td>\n",
       "    </tr>\n",
       "    <tr>\n",
       "      <th>Right App</th>\n",
       "      <th>Sales</th>\n",
       "      <td>146</td>\n",
       "      <td>307</td>\n",
       "      <td>433</td>\n",
       "      <td>560</td>\n",
       "      <td>669</td>\n",
       "      <td>780</td>\n",
       "      <td>884</td>\n",
       "      <td>1263</td>\n",
       "      <td>1263</td>\n",
       "      <td>1263</td>\n",
       "      <td>1265</td>\n",
       "      <td>1275</td>\n",
       "    </tr>\n",
       "    <tr>\n",
       "      <th>Kind Ape</th>\n",
       "      <th>Volume</th>\n",
       "      <td>42</td>\n",
       "      <td>63</td>\n",
       "      <td>128</td>\n",
       "      <td>142</td>\n",
       "      <td>214</td>\n",
       "      <td>316</td>\n",
       "      <td>419</td>\n",
       "      <td>491</td>\n",
       "      <td>576</td>\n",
       "      <td>644</td>\n",
       "      <td>650</td>\n",
       "      <td>551</td>\n",
       "    </tr>\n",
       "    <tr>\n",
       "      <th>Pet Feed</th>\n",
       "      <th>Returns</th>\n",
       "      <td>69</td>\n",
       "      <td>194</td>\n",
       "      <td>401</td>\n",
       "      <td>668</td>\n",
       "      <td>864</td>\n",
       "      <td>1083</td>\n",
       "      <td>1363</td>\n",
       "      <td>1364</td>\n",
       "      <td>1483</td>\n",
       "      <td>1720</td>\n",
       "      <td>1909</td>\n",
       "      <td>1913</td>\n",
       "    </tr>\n",
       "  </tbody>\n",
       "</table>\n",
       "</div>"
      ],
      "text/plain": [
       "                   Jan  Feb  Mar  Apr  May   Jun   Jul   Aug   Sep   Oct  \\\n",
       "App       Type                                                             \n",
       "WenCaL    Sales     22   32   44   54   68    76    89   110   113   191   \n",
       "          Volume     0    0    0   54   68    76    89   110   113     0   \n",
       "WenCal    Returns    0    0   22    0    0     0     0     0     0     0   \n",
       "Blend     Sales    149  274  490  641  823  1003  1164  1272  1395  1538   \n",
       "Voltage   Volume    47  144  268  358  430   516   608   710   796   866   \n",
       "Inkly     Returns  119  139  245  350  410   499   547   520   550   551   \n",
       "Right App Sales    146  307  433  560  669   780   884  1263  1263  1263   \n",
       "Kind Ape  Volume    42   63  128  142  214   316   419   491   576   644   \n",
       "Pet Feed  Returns   69  194  401  668  864  1083  1363  1364  1483  1720   \n",
       "\n",
       "                    Nov   Dec  \n",
       "App       Type                 \n",
       "WenCaL    Sales     276   264  \n",
       "          Volume      0     0  \n",
       "WenCal    Returns     0     0  \n",
       "Blend     Sales    1712  1750  \n",
       "Voltage   Volume    990  1000  \n",
       "Inkly     Returns   573   472  \n",
       "Right App Sales    1265  1275  \n",
       "Kind Ape  Volume    650   551  \n",
       "Pet Feed  Returns  1909  1913  "
      ]
     },
     "execution_count": 1,
     "metadata": {},
     "output_type": "execute_result"
    }
   ],
   "source": [
    "import pandas as pd\n",
    "\n",
    "xl_file = 'inputs/Power_Query_Transpose_Replace_XelPlus.xlsx'\n",
    "df = pd.read_excel(xl_file, sheet_name='DataTable', skiprows=2).fillna(0)\n",
    "\n",
    "# Ensure numeric values are correctly 'typed'\n",
    "df.loc[:, 'Jan':'Dec'] = df.loc[:, 'Jan':'Dec'].astype(int)\n",
    "\n",
    "# Set indexing\n",
    "df = df.set_index(['App', 'Type'])\n",
    "df"
   ]
  },
  {
   "cell_type": "markdown",
   "metadata": {},
   "source": [
    "## Wide to long format"
   ]
  },
  {
   "cell_type": "code",
   "execution_count": 2,
   "metadata": {
    "ExecuteTime": {
     "end_time": "2021-03-11T16:11:10.588703Z",
     "start_time": "2021-03-11T16:11:10.565126Z"
    }
   },
   "outputs": [
    {
     "data": {
      "text/html": [
       "<div>\n",
       "<style scoped>\n",
       "    .dataframe tbody tr th:only-of-type {\n",
       "        vertical-align: middle;\n",
       "    }\n",
       "\n",
       "    .dataframe tbody tr th {\n",
       "        vertical-align: top;\n",
       "    }\n",
       "\n",
       "    .dataframe thead th {\n",
       "        text-align: right;\n",
       "    }\n",
       "</style>\n",
       "<table border=\"1\" class=\"dataframe\">\n",
       "  <thead>\n",
       "    <tr style=\"text-align: right;\">\n",
       "      <th></th>\n",
       "      <th>App</th>\n",
       "      <th>Type</th>\n",
       "      <th>variable</th>\n",
       "      <th>value</th>\n",
       "    </tr>\n",
       "  </thead>\n",
       "  <tbody>\n",
       "    <tr>\n",
       "      <th>0</th>\n",
       "      <td>WenCaL</td>\n",
       "      <td>Sales</td>\n",
       "      <td>Jan</td>\n",
       "      <td>22</td>\n",
       "    </tr>\n",
       "    <tr>\n",
       "      <th>1</th>\n",
       "      <td>WenCaL</td>\n",
       "      <td>Volume</td>\n",
       "      <td>Jan</td>\n",
       "      <td>0</td>\n",
       "    </tr>\n",
       "    <tr>\n",
       "      <th>2</th>\n",
       "      <td>WenCal</td>\n",
       "      <td>Returns</td>\n",
       "      <td>Jan</td>\n",
       "      <td>0</td>\n",
       "    </tr>\n",
       "    <tr>\n",
       "      <th>3</th>\n",
       "      <td>Blend</td>\n",
       "      <td>Sales</td>\n",
       "      <td>Jan</td>\n",
       "      <td>149</td>\n",
       "    </tr>\n",
       "    <tr>\n",
       "      <th>4</th>\n",
       "      <td>Voltage</td>\n",
       "      <td>Volume</td>\n",
       "      <td>Jan</td>\n",
       "      <td>47</td>\n",
       "    </tr>\n",
       "  </tbody>\n",
       "</table>\n",
       "</div>"
      ],
      "text/plain": [
       "       App     Type variable  value\n",
       "0   WenCaL    Sales      Jan     22\n",
       "1   WenCaL   Volume      Jan      0\n",
       "2   WenCal  Returns      Jan      0\n",
       "3    Blend    Sales      Jan    149\n",
       "4  Voltage   Volume      Jan     47"
      ]
     },
     "execution_count": 2,
     "metadata": {},
     "output_type": "execute_result"
    }
   ],
   "source": [
    "df_melt = df.reset_index().melt(id_vars=['App', 'Type'])\n",
    "df_melt.head()"
   ]
  },
  {
   "cell_type": "markdown",
   "metadata": {},
   "source": [
    "## Long to wide format"
   ]
  },
  {
   "cell_type": "code",
   "execution_count": 3,
   "metadata": {
    "ExecuteTime": {
     "end_time": "2021-03-11T16:11:11.177185Z",
     "start_time": "2021-03-11T16:11:10.594105Z"
    }
   },
   "outputs": [
    {
     "name": "stderr",
     "output_type": "stream",
     "text": [
      "piper v0.1.0: Monday, 29 March 2021 19:08:45\n"
     ]
    }
   ],
   "source": [
    "from piper.defaults import *"
   ]
  },
  {
   "cell_type": "markdown",
   "metadata": {},
   "source": [
    "### Issue: months reported in wrong order"
   ]
  },
  {
   "cell_type": "code",
   "execution_count": 4,
   "metadata": {
    "ExecuteTime": {
     "end_time": "2021-03-11T16:11:11.238565Z",
     "start_time": "2021-03-11T16:11:11.179527Z"
    }
   },
   "outputs": [
    {
     "name": "stderr",
     "output_type": "stream",
     "text": [
      "Use %piper/%%piper --info to see rendered pandas pipe statement\n"
     ]
    },
    {
     "name": "stderr",
     "output_type": "stream",
     "text": [
      "name 'pivot_table' is not defined\n"
     ]
    }
   ],
   "source": [
    "%%piper\n",
    "\n",
    "df_melt \n",
    ">> pivot_table(index=['App', 'Type'], columns='variable', values='value')"
   ]
  },
  {
   "cell_type": "markdown",
   "metadata": {
    "ExecuteTime": {
     "end_time": "2021-02-11T11:42:36.935207Z",
     "start_time": "2021-02-11T11:42:36.927343Z"
    }
   },
   "source": [
    "### Fixed: monthly summary reporting (including totals)"
   ]
  },
  {
   "cell_type": "markdown",
   "metadata": {
    "ExecuteTime": {
     "end_time": "2021-02-11T11:42:36.935207Z",
     "start_time": "2021-02-11T11:42:36.927343Z"
    }
   },
   "source": [
    "Define months to categorical values"
   ]
  },
  {
   "cell_type": "code",
   "execution_count": 5,
   "metadata": {
    "ExecuteTime": {
     "end_time": "2021-03-11T16:12:13.479444Z",
     "start_time": "2021-03-11T16:12:13.475233Z"
    }
   },
   "outputs": [],
   "source": [
    "months = df_melt.variable.unique().tolist()\n",
    "cat_months = pd.CategoricalDtype(categories=months, ordered=True)\n",
    "set_category_type = lambda x: x.variable.astype(dtype=cat_months)"
   ]
  },
  {
   "cell_type": "code",
   "execution_count": 6,
   "metadata": {
    "ExecuteTime": {
     "end_time": "2021-03-11T16:12:14.275688Z",
     "start_time": "2021-03-11T16:12:14.125488Z"
    },
    "scrolled": true
   },
   "outputs": [
    {
     "name": "stderr",
     "output_type": "stream",
     "text": [
      "Use %piper/%%piper --info to see rendered pandas pipe statement\n"
     ]
    },
    {
     "name": "stderr",
     "output_type": "stream",
     "text": [
      "name 'pivot_table' is not defined\n"
     ]
    }
   ],
   "source": [
    "%%piper\n",
    "\n",
    "df_melt \n",
    "# >> where(\"variable.isin(['Jan', 'Feb', 'Mar', 'Apr', 'May'])\")\n",
    ">> assign(variable=set_category_type)\n",
    ">> pivot_table(index=['App', 'Type'], columns='variable', values='value')\n",
    ">> adorn(axis='both', ignore_row_index=False)"
   ]
  },
  {
   "cell_type": "code",
   "execution_count": null,
   "metadata": {},
   "outputs": [],
   "source": []
  },
  {
   "cell_type": "code",
   "execution_count": null,
   "metadata": {},
   "outputs": [],
   "source": []
  }
 ],
 "metadata": {
  "kernelspec": {
   "display_name": "Python 3",
   "language": "python",
   "name": "python3"
  },
  "language_info": {
   "codemirror_mode": {
    "name": "ipython",
    "version": 3
   },
   "file_extension": ".py",
   "mimetype": "text/x-python",
   "name": "python",
   "nbconvert_exporter": "python",
   "pygments_lexer": "ipython3",
   "version": "3.8.5"
  },
  "toc": {
   "base_numbering": 1,
   "nav_menu": {},
   "number_sections": true,
   "sideBar": true,
   "skip_h1_title": false,
   "title_cell": "Table of Contents",
   "title_sidebar": "Contents",
   "toc_cell": false,
   "toc_position": {
    "height": "calc(100% - 180px)",
    "left": "10px",
    "top": "150px",
    "width": "336px"
   },
   "toc_section_display": true,
   "toc_window_display": true
  }
 },
 "nbformat": 4,
 "nbformat_minor": 4
}
