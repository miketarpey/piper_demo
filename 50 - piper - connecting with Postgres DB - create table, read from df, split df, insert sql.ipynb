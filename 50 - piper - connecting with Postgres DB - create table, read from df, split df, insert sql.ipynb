{
 "cells": [
  {
   "cell_type": "markdown",
   "metadata": {},
   "source": [
    "# Setup"
   ]
  },
  {
   "cell_type": "code",
   "execution_count": 1,
   "metadata": {
    "ExecuteTime": {
     "end_time": "2021-02-18T09:58:13.029445Z",
     "start_time": "2021-02-18T09:58:11.710361Z"
    }
   },
   "outputs": [
    {
     "name": "stderr",
     "output_type": "stream",
     "text": [
      "piper version 0.0.7, last run: Thursday, 18 February 2021 09:58:11\n"
     ]
    }
   ],
   "source": [
    "from piper import piper\n",
    "from piper.defaults import *\n",
    "from piper.verbs import *\n",
    "from piper.factory import get_sample_data\n",
    "from piper.pandas import *\n",
    "from piper.odbc import connections, connect\n",
    "from piper.sql import insert, create_table\n",
    "from psycopg2 import Error\n",
    "import math"
   ]
  },
  {
   "cell_type": "markdown",
   "metadata": {},
   "source": [
    "# Sample data - 1.5 million rows"
   ]
  },
  {
   "cell_type": "code",
   "execution_count": 2,
   "metadata": {
    "ExecuteTime": {
     "end_time": "2021-02-18T09:58:15.949088Z",
     "start_time": "2021-02-18T09:58:13.031940Z"
    }
   },
   "outputs": [],
   "source": [
    "df = pd.read_csv('inputs/1500000 Sales Records.csv')"
   ]
  },
  {
   "cell_type": "markdown",
   "metadata": {},
   "source": [
    "## Clean data"
   ]
  },
  {
   "cell_type": "markdown",
   "metadata": {
    "ExecuteTime": {
     "end_time": "2021-02-18T09:32:15.571384Z",
     "start_time": "2021-02-18T09:32:12.887310Z"
    }
   },
   "source": [
    "Trim column names of leading and trailing spaces, \n",
    "Replace embedded spaces with underscore and lowercase.<br>\n",
    "Why? To make it easier to work with columns using pandas dot notation<br> \n",
    "(e.g. instead of __df['Order Date']__ one can use __df.order_date__)"
   ]
  },
  {
   "cell_type": "code",
   "execution_count": 3,
   "metadata": {
    "ExecuteTime": {
     "end_time": "2021-02-18T09:58:16.083931Z",
     "start_time": "2021-02-18T09:58:15.950923Z"
    }
   },
   "outputs": [],
   "source": [
    "df = clean_columns(df) "
   ]
  },
  {
   "cell_type": "code",
   "execution_count": 4,
   "metadata": {
    "ExecuteTime": {
     "end_time": "2021-02-18T09:58:22.936567Z",
     "start_time": "2021-02-18T09:58:16.085752Z"
    }
   },
   "outputs": [],
   "source": [
    "df.order_date = pd.to_datetime(df.order_date, format='%m/%d/%Y')\n",
    "df.ship_date = pd.to_datetime(df.ship_date, format='%m/%d/%Y')"
   ]
  },
  {
   "cell_type": "code",
   "execution_count": 5,
   "metadata": {
    "ExecuteTime": {
     "end_time": "2021-02-18T09:58:22.971523Z",
     "start_time": "2021-02-18T09:58:22.938394Z"
    }
   },
   "outputs": [
    {
     "name": "stderr",
     "output_type": "stream",
     "text": [
      "1500000 rows, 14 columns\n"
     ]
    },
    {
     "data": {
      "text/html": [
       "<div>\n",
       "<style scoped>\n",
       "    .dataframe tbody tr th:only-of-type {\n",
       "        vertical-align: middle;\n",
       "    }\n",
       "\n",
       "    .dataframe tbody tr th {\n",
       "        vertical-align: top;\n",
       "    }\n",
       "\n",
       "    .dataframe thead th {\n",
       "        text-align: right;\n",
       "    }\n",
       "</style>\n",
       "<table border=\"1\" class=\"dataframe\">\n",
       "  <thead>\n",
       "    <tr style=\"text-align: right;\">\n",
       "      <th></th>\n",
       "      <th>region</th>\n",
       "      <th>country</th>\n",
       "      <th>item_type</th>\n",
       "      <th>sales_channel</th>\n",
       "      <th>order_priority</th>\n",
       "      <th>order_date</th>\n",
       "      <th>order_id</th>\n",
       "      <th>ship_date</th>\n",
       "      <th>units_sold</th>\n",
       "      <th>unit_price</th>\n",
       "      <th>unit_cost</th>\n",
       "      <th>total_revenue</th>\n",
       "      <th>total_cost</th>\n",
       "      <th>total_profit</th>\n",
       "    </tr>\n",
       "  </thead>\n",
       "  <tbody>\n",
       "    <tr>\n",
       "      <th>0</th>\n",
       "      <td>Sub-Saharan Africa</td>\n",
       "      <td>South Africa</td>\n",
       "      <td>Fruits</td>\n",
       "      <td>Offline</td>\n",
       "      <td>M</td>\n",
       "      <td>2012-07-27</td>\n",
       "      <td>443368995</td>\n",
       "      <td>2012-07-28</td>\n",
       "      <td>1593</td>\n",
       "      <td>9.33</td>\n",
       "      <td>6.92</td>\n",
       "      <td>14862.69</td>\n",
       "      <td>11023.56</td>\n",
       "      <td>3839.13</td>\n",
       "    </tr>\n",
       "  </tbody>\n",
       "</table>\n",
       "</div>"
      ],
      "text/plain": [
       "               region       country item_type sales_channel order_priority  \\\n",
       "0  Sub-Saharan Africa  South Africa    Fruits       Offline              M   \n",
       "\n",
       "  order_date   order_id  ship_date  units_sold  unit_price  unit_cost  \\\n",
       "0 2012-07-27  443368995 2012-07-28        1593        9.33       6.92   \n",
       "\n",
       "   total_revenue  total_cost  total_profit  \n",
       "0       14862.69    11023.56       3839.13  "
      ]
     },
     "execution_count": 5,
     "metadata": {},
     "output_type": "execute_result"
    }
   ],
   "source": [
    "head(df, 1)"
   ]
  },
  {
   "cell_type": "markdown",
   "metadata": {},
   "source": [
    "# Postgres DB example"
   ]
  },
  {
   "cell_type": "markdown",
   "metadata": {},
   "source": [
    "## Create table in target database"
   ]
  },
  {
   "cell_type": "markdown",
   "metadata": {},
   "source": [
    "Using the function 'create_table()', the required SQL statements to build \n",
    "a table can be generated, see below example output."
   ]
  },
  {
   "cell_type": "code",
   "execution_count": 6,
   "metadata": {
    "ExecuteTime": {
     "end_time": "2021-02-18T09:58:22.986143Z",
     "start_time": "2021-02-18T09:58:22.973807Z"
    }
   },
   "outputs": [
    {
     "name": "stdout",
     "output_type": "stream",
     "text": [
      "create table example_table (\n",
      "region text, \n",
      "country text, \n",
      "item_type text, \n",
      "sales_channel text, \n",
      "order_priority text, \n",
      "order_date date, \n",
      "order_id bigint, \n",
      "ship_date date, \n",
      "units_sold bigint, \n",
      "unit_price decimal, \n",
      "unit_cost decimal, \n",
      "total_revenue decimal, \n",
      "total_cost decimal, \n",
      "total_profit decimal\n",
      ") \n"
     ]
    }
   ],
   "source": [
    "print(create_table(df, tablename='example_table'))"
   ]
  },
  {
   "cell_type": "markdown",
   "metadata": {},
   "source": [
    "## Connect and insert data"
   ]
  },
  {
   "cell_type": "markdown",
   "metadata": {
    "ExecuteTime": {
     "end_time": "2021-02-18T08:59:48.898668Z",
     "start_time": "2021-02-18T08:59:48.460534Z"
    }
   },
   "source": [
    "Optionally, split and process data into multiple parts/pieces."
   ]
  },
  {
   "cell_type": "code",
   "execution_count": 7,
   "metadata": {
    "ExecuteTime": {
     "end_time": "2021-02-18T09:58:23.277816Z",
     "start_time": "2021-02-18T09:58:22.993882Z"
    }
   },
   "outputs": [],
   "source": [
    "list_dataframes = np.array_split(df, indices_or_sections=5)"
   ]
  },
  {
   "cell_type": "code",
   "execution_count": 8,
   "metadata": {
    "ExecuteTime": {
     "end_time": "2021-02-18T09:59:21.966036Z",
     "start_time": "2021-02-18T09:58:23.280126Z"
    }
   },
   "outputs": [
    {
     "name": "stderr",
     "output_type": "stream",
     "text": [
      "Connection: localhost, user:mike\n",
      "300000 rows inserted into testtable table.\n",
      "300000 rows inserted into testtable table.\n",
      "300000 rows inserted into testtable table.\n",
      "300000 rows inserted into testtable table.\n",
      "300000 rows inserted into testtable table.\n",
      "Connection closed\n"
     ]
    }
   ],
   "source": [
    "table_name = 'testtable'\n",
    "\n",
    "sql = [f'''drop table if exists {table_name}''', \n",
    "       create_table(df, table_name)]\n",
    "sql = '; '.join(sql)\n",
    "\n",
    "with connect(connection='Connection1') as con:\n",
    "\n",
    "    try:\n",
    "        cursor = con.cursor()\n",
    "        cursor.execute(sql)\n",
    "        logger.debug(sql)\n",
    "\n",
    "        for dx in list_dataframes:\n",
    "            \n",
    "            sql = insert(dx, table_name, info=False)\n",
    "            logger.debug(sql)\n",
    "            \n",
    "            cursor.execute(sql)\n",
    "            logger.info(f'{dx.shape[0]} rows inserted into {table_name} table.')\n",
    "\n",
    "    except (Exception, Error) as error:\n",
    "        logger.info(f\"Error while connecting to {con}\", error)\n",
    "    finally:\n",
    "        if con:\n",
    "            cursor.close()\n",
    "            logger.info(\"Connection closed\")"
   ]
  },
  {
   "cell_type": "markdown",
   "metadata": {},
   "source": [
    "## Check data"
   ]
  },
  {
   "cell_type": "code",
   "execution_count": 9,
   "metadata": {
    "ExecuteTime": {
     "end_time": "2021-02-18T09:59:43.679220Z",
     "start_time": "2021-02-18T09:59:21.968486Z"
    }
   },
   "outputs": [
    {
     "name": "stderr",
     "output_type": "stream",
     "text": [
      "1500000 rows, 14 columns\n"
     ]
    },
    {
     "data": {
      "text/html": [
       "<div>\n",
       "<style scoped>\n",
       "    .dataframe tbody tr th:only-of-type {\n",
       "        vertical-align: middle;\n",
       "    }\n",
       "\n",
       "    .dataframe tbody tr th {\n",
       "        vertical-align: top;\n",
       "    }\n",
       "\n",
       "    .dataframe thead th {\n",
       "        text-align: right;\n",
       "    }\n",
       "</style>\n",
       "<table border=\"1\" class=\"dataframe\">\n",
       "  <thead>\n",
       "    <tr style=\"text-align: right;\">\n",
       "      <th></th>\n",
       "      <th>region</th>\n",
       "      <th>country</th>\n",
       "      <th>item_type</th>\n",
       "      <th>sales_channel</th>\n",
       "      <th>order_priority</th>\n",
       "      <th>order_date</th>\n",
       "      <th>order_id</th>\n",
       "      <th>ship_date</th>\n",
       "      <th>units_sold</th>\n",
       "      <th>unit_price</th>\n",
       "      <th>unit_cost</th>\n",
       "      <th>total_revenue</th>\n",
       "      <th>total_cost</th>\n",
       "      <th>total_profit</th>\n",
       "    </tr>\n",
       "  </thead>\n",
       "  <tbody>\n",
       "    <tr>\n",
       "      <th>0</th>\n",
       "      <td>Sub-Saharan Africa</td>\n",
       "      <td>South Africa</td>\n",
       "      <td>Fruits</td>\n",
       "      <td>Offline</td>\n",
       "      <td>M</td>\n",
       "      <td>2012-07-27</td>\n",
       "      <td>443368995</td>\n",
       "      <td>2012-07-28</td>\n",
       "      <td>1593</td>\n",
       "      <td>9.33</td>\n",
       "      <td>6.92</td>\n",
       "      <td>14862.69</td>\n",
       "      <td>11023.56</td>\n",
       "      <td>3839.13</td>\n",
       "    </tr>\n",
       "    <tr>\n",
       "      <th>1</th>\n",
       "      <td>Middle East and North Africa</td>\n",
       "      <td>Morocco</td>\n",
       "      <td>Clothes</td>\n",
       "      <td>Online</td>\n",
       "      <td>M</td>\n",
       "      <td>2013-09-14</td>\n",
       "      <td>667593514</td>\n",
       "      <td>2013-10-19</td>\n",
       "      <td>4611</td>\n",
       "      <td>109.28</td>\n",
       "      <td>35.84</td>\n",
       "      <td>503890.08</td>\n",
       "      <td>165258.24</td>\n",
       "      <td>338631.84</td>\n",
       "    </tr>\n",
       "  </tbody>\n",
       "</table>\n",
       "</div>"
      ],
      "text/plain": [
       "                         region       country item_type sales_channel  \\\n",
       "0            Sub-Saharan Africa  South Africa    Fruits       Offline   \n",
       "1  Middle East and North Africa       Morocco   Clothes        Online   \n",
       "\n",
       "  order_priority  order_date   order_id   ship_date  units_sold  unit_price  \\\n",
       "0              M  2012-07-27  443368995  2012-07-28        1593        9.33   \n",
       "1              M  2013-09-14  667593514  2013-10-19        4611      109.28   \n",
       "\n",
       "   unit_cost  total_revenue  total_cost  total_profit  \n",
       "0       6.92       14862.69    11023.56       3839.13  \n",
       "1      35.84      503890.08   165258.24     338631.84  "
      ]
     },
     "execution_count": 9,
     "metadata": {},
     "output_type": "execute_result"
    }
   ],
   "source": [
    "sql = f'''select * from {table_name}'''\n",
    "df = read_sql(sql=sql, con=con, sql_info=False, info=False)\n",
    "head(df, 2)"
   ]
  }
 ],
 "metadata": {
  "kernelspec": {
   "display_name": "Python 3",
   "language": "python",
   "name": "python3"
  },
  "language_info": {
   "codemirror_mode": {
    "name": "ipython",
    "version": 3
   },
   "file_extension": ".py",
   "mimetype": "text/x-python",
   "name": "python",
   "nbconvert_exporter": "python",
   "pygments_lexer": "ipython3",
   "version": "3.8.5"
  },
  "toc": {
   "base_numbering": 1,
   "nav_menu": {},
   "number_sections": true,
   "sideBar": true,
   "skip_h1_title": false,
   "title_cell": "Table of Contents",
   "title_sidebar": "Contents",
   "toc_cell": false,
   "toc_position": {
    "height": "calc(100% - 180px)",
    "left": "10px",
    "top": "150px",
    "width": "336px"
   },
   "toc_section_display": true,
   "toc_window_display": true
  }
 },
 "nbformat": 4,
 "nbformat_minor": 4
}
