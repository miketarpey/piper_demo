{
 "cells": [
  {
   "cell_type": "markdown",
   "metadata": {},
   "source": [
    "# Setup"
   ]
  },
  {
   "cell_type": "code",
   "execution_count": 1,
   "metadata": {
    "ExecuteTime": {
     "end_time": "2021-03-29T12:06:54.120105Z",
     "start_time": "2021-03-29T12:06:52.900635Z"
    }
   },
   "outputs": [
    {
     "name": "stderr",
     "output_type": "stream",
     "text": [
      "piper v0.1.0: Monday, 29 March 2021 19:05:03\n"
     ]
    }
   ],
   "source": [
    "from piper.defaults import *"
   ]
  },
  {
   "cell_type": "markdown",
   "metadata": {
    "ExecuteTime": {
     "end_time": "2020-08-06T08:53:26.356104Z",
     "start_time": "2020-08-06T08:53:26.353598Z"
    }
   },
   "source": [
    "# Examples"
   ]
  },
  {
   "cell_type": "markdown",
   "metadata": {
    "ExecuteTime": {
     "end_time": "2020-08-06T08:53:26.356104Z",
     "start_time": "2020-08-06T08:53:26.353598Z"
    }
   },
   "source": [
    "### info()"
   ]
  },
  {
   "cell_type": "code",
   "execution_count": 2,
   "metadata": {
    "ExecuteTime": {
     "end_time": "2021-03-29T12:06:54.233333Z",
     "start_time": "2021-03-29T12:06:54.125950Z"
    }
   },
   "outputs": [
    {
     "name": "stderr",
     "output_type": "stream",
     "text": [
      "Dataframe consumes 0.08 Mb\n"
     ]
    },
    {
     "name": "stderr",
     "output_type": "stream",
     "text": [
      "7 rows, 6 columns\n"
     ]
    },
    {
     "data": {
      "text/html": [
       "<div>\n",
       "<style scoped>\n",
       "    .dataframe tbody tr th:only-of-type {\n",
       "        vertical-align: middle;\n",
       "    }\n",
       "\n",
       "    .dataframe tbody tr th {\n",
       "        vertical-align: top;\n",
       "    }\n",
       "\n",
       "    .dataframe thead th {\n",
       "        text-align: right;\n",
       "    }\n",
       "</style>\n",
       "<table border=\"1\" class=\"dataframe\">\n",
       "  <thead>\n",
       "    <tr style=\"text-align: right;\">\n",
       "      <th></th>\n",
       "      <th>columns</th>\n",
       "      <th>type</th>\n",
       "      <th>n</th>\n",
       "      <th>isna</th>\n",
       "      <th>isnull</th>\n",
       "      <th>unique</th>\n",
       "    </tr>\n",
       "  </thead>\n",
       "  <tbody>\n",
       "    <tr>\n",
       "      <th>0</th>\n",
       "      <td>dates</td>\n",
       "      <td>datetime64[ns]</td>\n",
       "      <td>367</td>\n",
       "      <td>0</td>\n",
       "      <td>0</td>\n",
       "      <td>367</td>\n",
       "    </tr>\n",
       "    <tr>\n",
       "      <th>1</th>\n",
       "      <td>order_dates</td>\n",
       "      <td>datetime64[ns]</td>\n",
       "      <td>367</td>\n",
       "      <td>0</td>\n",
       "      <td>0</td>\n",
       "      <td>367</td>\n",
       "    </tr>\n",
       "    <tr>\n",
       "      <th>2</th>\n",
       "      <td>countries</td>\n",
       "      <td>object</td>\n",
       "      <td>367</td>\n",
       "      <td>0</td>\n",
       "      <td>0</td>\n",
       "      <td>8</td>\n",
       "    </tr>\n",
       "    <tr>\n",
       "      <th>3</th>\n",
       "      <td>regions</td>\n",
       "      <td>object</td>\n",
       "      <td>367</td>\n",
       "      <td>0</td>\n",
       "      <td>0</td>\n",
       "      <td>4</td>\n",
       "    </tr>\n",
       "  </tbody>\n",
       "</table>\n",
       "</div>"
      ],
      "text/plain": [
       "       columns            type    n  isna  isnull  unique\n",
       "0        dates  datetime64[ns]  367     0       0     367\n",
       "1  order_dates  datetime64[ns]  367     0       0     367\n",
       "2    countries          object  367     0       0       8\n",
       "3      regions          object  367     0       0       4"
      ]
     },
     "execution_count": 2,
     "metadata": {},
     "output_type": "execute_result"
    }
   ],
   "source": [
    "%piper sample_data() >> info() >> head()"
   ]
  },
  {
   "cell_type": "markdown",
   "metadata": {
    "ExecuteTime": {
     "end_time": "2020-08-06T08:53:26.356104Z",
     "start_time": "2020-08-06T08:53:26.353598Z"
    }
   },
   "source": [
    "### %piper (assign to dataframe variable)"
   ]
  },
  {
   "cell_type": "code",
   "execution_count": 3,
   "metadata": {
    "ExecuteTime": {
     "end_time": "2021-03-29T12:06:54.256413Z",
     "start_time": "2021-03-29T12:06:54.237947Z"
    }
   },
   "outputs": [],
   "source": [
    "%piper df <- sample_data()"
   ]
  },
  {
   "cell_type": "markdown",
   "metadata": {
    "ExecuteTime": {
     "end_time": "2020-08-06T08:53:26.356104Z",
     "start_time": "2020-08-06T08:53:26.353598Z"
    }
   },
   "source": [
    "### columns()"
   ]
  },
  {
   "cell_type": "code",
   "execution_count": 4,
   "metadata": {
    "ExecuteTime": {
     "end_time": "2021-03-29T12:06:54.271370Z",
     "start_time": "2021-03-29T12:06:54.261370Z"
    }
   },
   "outputs": [
    {
     "data": {
      "text/plain": [
       "\"['dates', 'order_dates', 'countries', 'regions', 'ids', 'values_1', 'values_2']\""
      ]
     },
     "execution_count": 4,
     "metadata": {},
     "output_type": "execute_result"
    }
   ],
   "source": [
    "%piper df >> columns(astype='text')"
   ]
  },
  {
   "cell_type": "markdown",
   "metadata": {
    "ExecuteTime": {
     "end_time": "2020-08-06T08:53:26.356104Z",
     "start_time": "2020-08-06T08:53:26.353598Z"
    }
   },
   "source": [
    "### select_contains()"
   ]
  },
  {
   "cell_type": "code",
   "execution_count": 5,
   "metadata": {
    "ExecuteTime": {
     "end_time": "2021-03-29T12:06:54.300257Z",
     "start_time": "2021-03-29T12:06:54.285684Z"
    }
   },
   "outputs": [
    {
     "name": "stderr",
     "output_type": "stream",
     "text": [
      "Use %piper/%%piper --info to see rendered pandas pipe statement\n"
     ]
    },
    {
     "name": "stderr",
     "output_type": "stream",
     "text": [
      "'NoneType' object has no attribute 'pipe'\n"
     ]
    }
   ],
   "source": [
    "%%piper \n",
    "df \n",
    ">> select(df.columns.str.contains('value')) \n",
    ">> head()"
   ]
  },
  {
   "cell_type": "markdown",
   "metadata": {
    "ExecuteTime": {
     "end_time": "2020-08-06T08:53:26.356104Z",
     "start_time": "2020-08-06T08:53:26.353598Z"
    }
   },
   "source": [
    "### where()"
   ]
  },
  {
   "cell_type": "code",
   "execution_count": 6,
   "metadata": {
    "ExecuteTime": {
     "end_time": "2021-03-29T12:06:54.384196Z",
     "start_time": "2021-03-29T12:06:54.320609Z"
    }
   },
   "outputs": [
    {
     "name": "stderr",
     "output_type": "stream",
     "text": [
      "47 rows, 7 columns\n"
     ]
    },
    {
     "data": {
      "text/html": [
       "<div>\n",
       "<style scoped>\n",
       "    .dataframe tbody tr th:only-of-type {\n",
       "        vertical-align: middle;\n",
       "    }\n",
       "\n",
       "    .dataframe tbody tr th {\n",
       "        vertical-align: top;\n",
       "    }\n",
       "\n",
       "    .dataframe thead th {\n",
       "        text-align: right;\n",
       "    }\n",
       "</style>\n",
       "<table border=\"1\" class=\"dataframe\">\n",
       "  <thead>\n",
       "    <tr style=\"text-align: right;\">\n",
       "      <th></th>\n",
       "      <th>dates</th>\n",
       "      <th>order_dates</th>\n",
       "      <th>countries</th>\n",
       "      <th>regions</th>\n",
       "      <th>ids</th>\n",
       "      <th>values_1</th>\n",
       "      <th>values_2</th>\n",
       "    </tr>\n",
       "  </thead>\n",
       "  <tbody>\n",
       "    <tr>\n",
       "      <th>0</th>\n",
       "      <td>2020-01-01</td>\n",
       "      <td>2020-01-07</td>\n",
       "      <td>Italy</td>\n",
       "      <td>East</td>\n",
       "      <td>A</td>\n",
       "      <td>311</td>\n",
       "      <td>26</td>\n",
       "    </tr>\n",
       "    <tr>\n",
       "      <th>3</th>\n",
       "      <td>2020-01-04</td>\n",
       "      <td>2020-01-10</td>\n",
       "      <td>Italy</td>\n",
       "      <td>East</td>\n",
       "      <td>B</td>\n",
       "      <td>319</td>\n",
       "      <td>233</td>\n",
       "    </tr>\n",
       "    <tr>\n",
       "      <th>4</th>\n",
       "      <td>2020-01-05</td>\n",
       "      <td>2020-01-11</td>\n",
       "      <td>Italy</td>\n",
       "      <td>East</td>\n",
       "      <td>D</td>\n",
       "      <td>261</td>\n",
       "      <td>187</td>\n",
       "    </tr>\n",
       "    <tr>\n",
       "      <th>7</th>\n",
       "      <td>2020-01-08</td>\n",
       "      <td>2020-01-14</td>\n",
       "      <td>Italy</td>\n",
       "      <td>South</td>\n",
       "      <td>E</td>\n",
       "      <td>273</td>\n",
       "      <td>56</td>\n",
       "    </tr>\n",
       "  </tbody>\n",
       "</table>\n",
       "</div>"
      ],
      "text/plain": [
       "       dates order_dates countries regions ids  values_1  values_2\n",
       "0 2020-01-01  2020-01-07     Italy    East   A       311        26\n",
       "3 2020-01-04  2020-01-10     Italy    East   B       319       233\n",
       "4 2020-01-05  2020-01-11     Italy    East   D       261       187\n",
       "7 2020-01-08  2020-01-14     Italy   South   E       273        56"
      ]
     },
     "execution_count": 6,
     "metadata": {},
     "output_type": "execute_result"
    }
   ],
   "source": [
    "%piper sample_data() >> where(\"countries == 'Italy' \") >> head()"
   ]
  },
  {
   "cell_type": "markdown",
   "metadata": {
    "ExecuteTime": {
     "end_time": "2020-08-06T08:53:26.356104Z",
     "start_time": "2020-08-06T08:53:26.353598Z"
    }
   },
   "source": [
    "### count()"
   ]
  },
  {
   "cell_type": "code",
   "execution_count": 7,
   "metadata": {
    "ExecuteTime": {
     "end_time": "2021-03-29T12:06:54.468486Z",
     "start_time": "2021-03-29T12:06:54.397192Z"
    }
   },
   "outputs": [
    {
     "name": "stderr",
     "output_type": "stream",
     "text": [
      "8 rows, 3 columns\n"
     ]
    },
    {
     "data": {
      "text/html": [
       "<div>\n",
       "<style scoped>\n",
       "    .dataframe tbody tr th:only-of-type {\n",
       "        vertical-align: middle;\n",
       "    }\n",
       "\n",
       "    .dataframe tbody tr th {\n",
       "        vertical-align: top;\n",
       "    }\n",
       "\n",
       "    .dataframe thead th {\n",
       "        text-align: right;\n",
       "    }\n",
       "</style>\n",
       "<table border=\"1\" class=\"dataframe\">\n",
       "  <thead>\n",
       "    <tr style=\"text-align: right;\">\n",
       "      <th></th>\n",
       "      <th>n</th>\n",
       "      <th>%</th>\n",
       "      <th>cum %</th>\n",
       "    </tr>\n",
       "    <tr>\n",
       "      <th>countries</th>\n",
       "      <th></th>\n",
       "      <th></th>\n",
       "      <th></th>\n",
       "    </tr>\n",
       "  </thead>\n",
       "  <tbody>\n",
       "    <tr>\n",
       "      <th>France</th>\n",
       "      <td>56</td>\n",
       "      <td>15.26</td>\n",
       "      <td>15.26</td>\n",
       "    </tr>\n",
       "    <tr>\n",
       "      <th>Italy</th>\n",
       "      <td>47</td>\n",
       "      <td>12.81</td>\n",
       "      <td>28.07</td>\n",
       "    </tr>\n",
       "    <tr>\n",
       "      <th>Spain</th>\n",
       "      <td>47</td>\n",
       "      <td>12.81</td>\n",
       "      <td>40.87</td>\n",
       "    </tr>\n",
       "    <tr>\n",
       "      <th>Norway</th>\n",
       "      <td>46</td>\n",
       "      <td>12.53</td>\n",
       "      <td>53.41</td>\n",
       "    </tr>\n",
       "  </tbody>\n",
       "</table>\n",
       "</div>"
      ],
      "text/plain": [
       "            n      %  cum %\n",
       "countries                  \n",
       "France     56  15.26  15.26\n",
       "Italy      47  12.81  28.07\n",
       "Spain      47  12.81  40.87\n",
       "Norway     46  12.53  53.41"
      ]
     },
     "execution_count": 7,
     "metadata": {},
     "output_type": "execute_result"
    }
   ],
   "source": [
    "%piper sample_data() >> count('countries') >> head()"
   ]
  },
  {
   "cell_type": "markdown",
   "metadata": {
    "ExecuteTime": {
     "end_time": "2020-08-06T08:53:26.356104Z",
     "start_time": "2020-08-06T08:53:26.353598Z"
    }
   },
   "source": [
    "## Example 1"
   ]
  },
  {
   "cell_type": "code",
   "execution_count": 8,
   "metadata": {
    "ExecuteTime": {
     "end_time": "2021-03-29T12:06:54.547883Z",
     "start_time": "2021-03-29T12:06:54.472338Z"
    }
   },
   "outputs": [
    {
     "data": {
      "text/html": [
       "<div>\n",
       "<style scoped>\n",
       "    .dataframe tbody tr th:only-of-type {\n",
       "        vertical-align: middle;\n",
       "    }\n",
       "\n",
       "    .dataframe tbody tr th {\n",
       "        vertical-align: top;\n",
       "    }\n",
       "\n",
       "    .dataframe thead th {\n",
       "        text-align: right;\n",
       "    }\n",
       "</style>\n",
       "<table border=\"1\" class=\"dataframe\">\n",
       "  <thead>\n",
       "    <tr style=\"text-align: right;\">\n",
       "      <th></th>\n",
       "      <th>order_dates</th>\n",
       "      <th>countries</th>\n",
       "      <th>regions</th>\n",
       "      <th>new_column</th>\n",
       "      <th>ids</th>\n",
       "      <th>values_1</th>\n",
       "      <th>values_2</th>\n",
       "      <th>new_calculated_field</th>\n",
       "    </tr>\n",
       "  </thead>\n",
       "  <tbody>\n",
       "    <tr>\n",
       "      <th>0</th>\n",
       "      <td>2020-01-07</td>\n",
       "      <td>Italy</td>\n",
       "      <td>East</td>\n",
       "      <td>Italy East</td>\n",
       "      <td>A</td>\n",
       "      <td>311</td>\n",
       "      <td>26</td>\n",
       "      <td>337</td>\n",
       "    </tr>\n",
       "    <tr>\n",
       "      <th>3</th>\n",
       "      <td>2020-01-10</td>\n",
       "      <td>Italy</td>\n",
       "      <td>East</td>\n",
       "      <td>Italy East</td>\n",
       "      <td>B</td>\n",
       "      <td>319</td>\n",
       "      <td>233</td>\n",
       "      <td>552</td>\n",
       "    </tr>\n",
       "    <tr>\n",
       "      <th>4</th>\n",
       "      <td>2020-01-11</td>\n",
       "      <td>Italy</td>\n",
       "      <td>East</td>\n",
       "      <td>Italy East</td>\n",
       "      <td>D</td>\n",
       "      <td>261</td>\n",
       "      <td>187</td>\n",
       "      <td>448</td>\n",
       "    </tr>\n",
       "    <tr>\n",
       "      <th>7</th>\n",
       "      <td>2020-01-14</td>\n",
       "      <td>Italy</td>\n",
       "      <td>South</td>\n",
       "      <td>Italy South</td>\n",
       "      <td>E</td>\n",
       "      <td>273</td>\n",
       "      <td>56</td>\n",
       "      <td>329</td>\n",
       "    </tr>\n",
       "    <tr>\n",
       "      <th>8</th>\n",
       "      <td>2020-01-15</td>\n",
       "      <td>Italy</td>\n",
       "      <td>East</td>\n",
       "      <td>Italy East</td>\n",
       "      <td>B</td>\n",
       "      <td>385</td>\n",
       "      <td>92</td>\n",
       "      <td>477</td>\n",
       "    </tr>\n",
       "  </tbody>\n",
       "</table>\n",
       "</div>"
      ],
      "text/plain": [
       "  order_dates countries regions   new_column ids  values_1  values_2  \\\n",
       "0  2020-01-07     Italy    East   Italy East   A       311        26   \n",
       "3  2020-01-10     Italy    East   Italy East   B       319       233   \n",
       "4  2020-01-11     Italy    East   Italy East   D       261       187   \n",
       "7  2020-01-14     Italy   South  Italy South   E       273        56   \n",
       "8  2020-01-15     Italy    East   Italy East   B       385        92   \n",
       "\n",
       "   new_calculated_field  \n",
       "0                   337  \n",
       "3                   552  \n",
       "4                   448  \n",
       "7                   329  \n",
       "8                   477  "
      ]
     },
     "execution_count": 8,
     "metadata": {},
     "output_type": "execute_result"
    }
   ],
   "source": [
    "df = sample_data()\n",
    "df = df[df['countries'] == 'Italy']\n",
    "df['new_column'] = df['countries'] + ' ' + df['regions']\n",
    "df['new_calculated_field'] = df['values_1'] + df['values_2']\n",
    "df.insert(4, 'new_column', df.pop('new_column'))\n",
    "df.drop(columns='dates', inplace=True)\n",
    "df.head()"
   ]
  },
  {
   "cell_type": "markdown",
   "metadata": {
    "ExecuteTime": {
     "end_time": "2020-08-06T08:53:26.356104Z",
     "start_time": "2020-08-06T08:53:26.353598Z"
    }
   },
   "source": [
    "### Alternative piper solution"
   ]
  },
  {
   "cell_type": "code",
   "execution_count": 9,
   "metadata": {
    "ExecuteTime": {
     "end_time": "2021-03-29T12:06:54.615043Z",
     "start_time": "2021-03-29T12:06:54.550500Z"
    }
   },
   "outputs": [
    {
     "name": "stderr",
     "output_type": "stream",
     "text": [
      "47 rows, 8 columns\n"
     ]
    },
    {
     "data": {
      "text/html": [
       "<div>\n",
       "<style scoped>\n",
       "    .dataframe tbody tr th:only-of-type {\n",
       "        vertical-align: middle;\n",
       "    }\n",
       "\n",
       "    .dataframe tbody tr th {\n",
       "        vertical-align: top;\n",
       "    }\n",
       "\n",
       "    .dataframe thead th {\n",
       "        text-align: right;\n",
       "    }\n",
       "</style>\n",
       "<table border=\"1\" class=\"dataframe\">\n",
       "  <thead>\n",
       "    <tr style=\"text-align: right;\">\n",
       "      <th></th>\n",
       "      <th>order_dates</th>\n",
       "      <th>countries</th>\n",
       "      <th>regions</th>\n",
       "      <th>new_column</th>\n",
       "      <th>ids</th>\n",
       "      <th>values_1</th>\n",
       "      <th>values_2</th>\n",
       "      <th>calculated_field</th>\n",
       "    </tr>\n",
       "  </thead>\n",
       "  <tbody>\n",
       "    <tr>\n",
       "      <th>0</th>\n",
       "      <td>2020-01-07</td>\n",
       "      <td>Italy</td>\n",
       "      <td>East</td>\n",
       "      <td>Italy East</td>\n",
       "      <td>A</td>\n",
       "      <td>311</td>\n",
       "      <td>26</td>\n",
       "      <td>337</td>\n",
       "    </tr>\n",
       "    <tr>\n",
       "      <th>3</th>\n",
       "      <td>2020-01-10</td>\n",
       "      <td>Italy</td>\n",
       "      <td>East</td>\n",
       "      <td>Italy East</td>\n",
       "      <td>B</td>\n",
       "      <td>319</td>\n",
       "      <td>233</td>\n",
       "      <td>552</td>\n",
       "    </tr>\n",
       "    <tr>\n",
       "      <th>4</th>\n",
       "      <td>2020-01-11</td>\n",
       "      <td>Italy</td>\n",
       "      <td>East</td>\n",
       "      <td>Italy East</td>\n",
       "      <td>D</td>\n",
       "      <td>261</td>\n",
       "      <td>187</td>\n",
       "      <td>448</td>\n",
       "    </tr>\n",
       "    <tr>\n",
       "      <th>7</th>\n",
       "      <td>2020-01-14</td>\n",
       "      <td>Italy</td>\n",
       "      <td>South</td>\n",
       "      <td>Italy South</td>\n",
       "      <td>E</td>\n",
       "      <td>273</td>\n",
       "      <td>56</td>\n",
       "      <td>329</td>\n",
       "    </tr>\n",
       "    <tr>\n",
       "      <th>8</th>\n",
       "      <td>2020-01-15</td>\n",
       "      <td>Italy</td>\n",
       "      <td>East</td>\n",
       "      <td>Italy East</td>\n",
       "      <td>B</td>\n",
       "      <td>385</td>\n",
       "      <td>92</td>\n",
       "      <td>477</td>\n",
       "    </tr>\n",
       "  </tbody>\n",
       "</table>\n",
       "</div>"
      ],
      "text/plain": [
       "  order_dates countries regions   new_column ids  values_1  values_2  \\\n",
       "0  2020-01-07     Italy    East   Italy East   A       311        26   \n",
       "3  2020-01-10     Italy    East   Italy East   B       319       233   \n",
       "4  2020-01-11     Italy    East   Italy East   D       261       187   \n",
       "7  2020-01-14     Italy   South  Italy South   E       273        56   \n",
       "8  2020-01-15     Italy    East   Italy East   B       385        92   \n",
       "\n",
       "   calculated_field  \n",
       "0               337  \n",
       "3               552  \n",
       "4               448  \n",
       "7               329  \n",
       "8               477  "
      ]
     },
     "execution_count": 9,
     "metadata": {},
     "output_type": "execute_result"
    }
   ],
   "source": [
    "%%piper\n",
    "sample_data() \n",
    ">> where(\"countries == 'Italy'\") \n",
    ">> assign(new_column = lambda x: x.countries + ' ' + x.regions, \n",
    "          calculated_field = lambda x: x.values_1 + x.values_2)\n",
    ">> relocate('new_column', loc='after', ref_column='regions') \n",
    ">> drop(columns='dates')\n",
    ">> head(5)"
   ]
  },
  {
   "cell_type": "code",
   "execution_count": 10,
   "metadata": {
    "ExecuteTime": {
     "end_time": "2021-03-29T12:06:54.677143Z",
     "start_time": "2021-03-29T12:06:54.616711Z"
    }
   },
   "outputs": [
    {
     "name": "stderr",
     "output_type": "stream",
     "text": [
      "47 rows, 8 columns\n"
     ]
    },
    {
     "data": {
      "text/html": [
       "<div>\n",
       "<style scoped>\n",
       "    .dataframe tbody tr th:only-of-type {\n",
       "        vertical-align: middle;\n",
       "    }\n",
       "\n",
       "    .dataframe tbody tr th {\n",
       "        vertical-align: top;\n",
       "    }\n",
       "\n",
       "    .dataframe thead th {\n",
       "        text-align: right;\n",
       "    }\n",
       "</style>\n",
       "<table border=\"1\" class=\"dataframe\">\n",
       "  <thead>\n",
       "    <tr style=\"text-align: right;\">\n",
       "      <th></th>\n",
       "      <th>order_dates</th>\n",
       "      <th>countries</th>\n",
       "      <th>regions</th>\n",
       "      <th>new_column</th>\n",
       "      <th>ids</th>\n",
       "      <th>values_1</th>\n",
       "      <th>values_2</th>\n",
       "      <th>calculated_field</th>\n",
       "    </tr>\n",
       "  </thead>\n",
       "  <tbody>\n",
       "    <tr>\n",
       "      <th>0</th>\n",
       "      <td>2020-01-07</td>\n",
       "      <td>Italy</td>\n",
       "      <td>East</td>\n",
       "      <td>Italy East</td>\n",
       "      <td>A</td>\n",
       "      <td>311</td>\n",
       "      <td>26</td>\n",
       "      <td>337</td>\n",
       "    </tr>\n",
       "    <tr>\n",
       "      <th>3</th>\n",
       "      <td>2020-01-10</td>\n",
       "      <td>Italy</td>\n",
       "      <td>East</td>\n",
       "      <td>Italy East</td>\n",
       "      <td>B</td>\n",
       "      <td>319</td>\n",
       "      <td>233</td>\n",
       "      <td>552</td>\n",
       "    </tr>\n",
       "    <tr>\n",
       "      <th>4</th>\n",
       "      <td>2020-01-11</td>\n",
       "      <td>Italy</td>\n",
       "      <td>East</td>\n",
       "      <td>Italy East</td>\n",
       "      <td>D</td>\n",
       "      <td>261</td>\n",
       "      <td>187</td>\n",
       "      <td>448</td>\n",
       "    </tr>\n",
       "    <tr>\n",
       "      <th>7</th>\n",
       "      <td>2020-01-14</td>\n",
       "      <td>Italy</td>\n",
       "      <td>South</td>\n",
       "      <td>Italy South</td>\n",
       "      <td>E</td>\n",
       "      <td>273</td>\n",
       "      <td>56</td>\n",
       "      <td>329</td>\n",
       "    </tr>\n",
       "    <tr>\n",
       "      <th>8</th>\n",
       "      <td>2020-01-15</td>\n",
       "      <td>Italy</td>\n",
       "      <td>East</td>\n",
       "      <td>Italy East</td>\n",
       "      <td>B</td>\n",
       "      <td>385</td>\n",
       "      <td>92</td>\n",
       "      <td>477</td>\n",
       "    </tr>\n",
       "  </tbody>\n",
       "</table>\n",
       "</div>"
      ],
      "text/plain": [
       "  order_dates countries regions   new_column ids  values_1  values_2  \\\n",
       "0  2020-01-07     Italy    East   Italy East   A       311        26   \n",
       "3  2020-01-10     Italy    East   Italy East   B       319       233   \n",
       "4  2020-01-11     Italy    East   Italy East   D       261       187   \n",
       "7  2020-01-14     Italy   South  Italy South   E       273        56   \n",
       "8  2020-01-15     Italy    East   Italy East   B       385        92   \n",
       "\n",
       "   calculated_field  \n",
       "0               337  \n",
       "3               552  \n",
       "4               448  \n",
       "7               329  \n",
       "8               477  "
      ]
     },
     "execution_count": 10,
     "metadata": {},
     "output_type": "execute_result"
    }
   ],
   "source": [
    "(sample_data()\n",
    ".pipe(where, \"countries == 'Italy'\")\n",
    ".pipe(assign, new_column = lambda x: x.countries + ' ' + x.regions,\n",
    "      calculated_field = lambda x: x.values_1 + x.values_2)\n",
    ".pipe(relocate, 'new_column', loc='after', ref_column='regions')\n",
    ".pipe(drop, columns='dates')\n",
    ".pipe(head, 5))"
   ]
  },
  {
   "cell_type": "markdown",
   "metadata": {
    "ExecuteTime": {
     "end_time": "2020-08-06T08:53:26.356104Z",
     "start_time": "2020-08-06T08:53:26.353598Z"
    }
   },
   "source": [
    "## Example 2"
   ]
  },
  {
   "cell_type": "code",
   "execution_count": 11,
   "metadata": {
    "ExecuteTime": {
     "end_time": "2021-03-29T12:06:54.798326Z",
     "start_time": "2021-03-29T12:06:54.682293Z"
    }
   },
   "outputs": [],
   "source": [
    "%%piper \n",
    "pd.read_csv('inputs/Belgium - Customers.csv') \n",
    ">> clean_columns() \n",
    ">> select(['customer', 'bill_type', 'customer_name']) \n",
    ">> where(\"customer > 1200\") \n",
    ">> to_csv('outputs/test.csv')"
   ]
  },
  {
   "cell_type": "code",
   "execution_count": 12,
   "metadata": {
    "ExecuteTime": {
     "end_time": "2021-03-29T12:06:54.815417Z",
     "start_time": "2021-03-29T12:06:54.800027Z"
    }
   },
   "outputs": [],
   "source": [
    "%%piper\n",
    "df <- sample_data() \n",
    ">> select('-dates') \n",
    ">> where(\"countries.isin(['Italy'])\")  \n",
    ">> assign(column_test=lambda x: x.countries + ' ABC') "
   ]
  },
  {
   "cell_type": "code",
   "execution_count": 13,
   "metadata": {
    "ExecuteTime": {
     "end_time": "2021-03-29T12:06:54.848630Z",
     "start_time": "2021-03-29T12:06:54.816960Z"
    }
   },
   "outputs": [
    {
     "name": "stderr",
     "output_type": "stream",
     "text": [
      "47 rows, 7 columns\n"
     ]
    },
    {
     "data": {
      "text/html": [
       "<div>\n",
       "<style scoped>\n",
       "    .dataframe tbody tr th:only-of-type {\n",
       "        vertical-align: middle;\n",
       "    }\n",
       "\n",
       "    .dataframe tbody tr th {\n",
       "        vertical-align: top;\n",
       "    }\n",
       "\n",
       "    .dataframe thead th {\n",
       "        text-align: right;\n",
       "    }\n",
       "</style>\n",
       "<table border=\"1\" class=\"dataframe\">\n",
       "  <thead>\n",
       "    <tr style=\"text-align: right;\">\n",
       "      <th></th>\n",
       "      <th>order_dates</th>\n",
       "      <th>countries</th>\n",
       "      <th>regions</th>\n",
       "      <th>ids</th>\n",
       "      <th>values_1</th>\n",
       "      <th>values_2</th>\n",
       "      <th>column_test</th>\n",
       "    </tr>\n",
       "  </thead>\n",
       "  <tbody>\n",
       "    <tr>\n",
       "      <th>0</th>\n",
       "      <td>2020-01-07</td>\n",
       "      <td>Italy</td>\n",
       "      <td>East</td>\n",
       "      <td>A</td>\n",
       "      <td>311</td>\n",
       "      <td>26</td>\n",
       "      <td>Italy ABC</td>\n",
       "    </tr>\n",
       "    <tr>\n",
       "      <th>3</th>\n",
       "      <td>2020-01-10</td>\n",
       "      <td>Italy</td>\n",
       "      <td>East</td>\n",
       "      <td>B</td>\n",
       "      <td>319</td>\n",
       "      <td>233</td>\n",
       "      <td>Italy ABC</td>\n",
       "    </tr>\n",
       "    <tr>\n",
       "      <th>4</th>\n",
       "      <td>2020-01-11</td>\n",
       "      <td>Italy</td>\n",
       "      <td>East</td>\n",
       "      <td>D</td>\n",
       "      <td>261</td>\n",
       "      <td>187</td>\n",
       "      <td>Italy ABC</td>\n",
       "    </tr>\n",
       "    <tr>\n",
       "      <th>7</th>\n",
       "      <td>2020-01-14</td>\n",
       "      <td>Italy</td>\n",
       "      <td>South</td>\n",
       "      <td>E</td>\n",
       "      <td>273</td>\n",
       "      <td>56</td>\n",
       "      <td>Italy ABC</td>\n",
       "    </tr>\n",
       "  </tbody>\n",
       "</table>\n",
       "</div>"
      ],
      "text/plain": [
       "  order_dates countries regions ids  values_1  values_2 column_test\n",
       "0  2020-01-07     Italy    East   A       311        26   Italy ABC\n",
       "3  2020-01-10     Italy    East   B       319       233   Italy ABC\n",
       "4  2020-01-11     Italy    East   D       261       187   Italy ABC\n",
       "7  2020-01-14     Italy   South   E       273        56   Italy ABC"
      ]
     },
     "execution_count": 13,
     "metadata": {},
     "output_type": "execute_result"
    }
   ],
   "source": [
    "head(df)"
   ]
  },
  {
   "cell_type": "markdown",
   "metadata": {
    "ExecuteTime": {
     "end_time": "2020-08-06T08:53:26.356104Z",
     "start_time": "2020-08-06T08:53:26.353598Z"
    }
   },
   "source": [
    "## Example 3"
   ]
  },
  {
   "cell_type": "code",
   "execution_count": 14,
   "metadata": {
    "ExecuteTime": {
     "end_time": "2021-03-29T12:06:54.889298Z",
     "start_time": "2021-03-29T12:06:54.853195Z"
    }
   },
   "outputs": [],
   "source": [
    "%%piper \n",
    "df <- sample_data() \n",
    ">> select(['-countries', '-regions']) \n",
    ">> where(\" ids.isin(['A', 'D']) & values_1 > 300 \") \n",
    ">> assign(new_field = lambda x: x.ids + ' ' + x.dates.astype(str),\n",
    ">>        values_mult=lambda x: x.values_1 * x.values_2) \n",
    ">> relocate(['values_mult', 'new_field'], loc=2) \n",
    "# >> relocate('values_mult', loc=5) \n",
    ">> order_by(['ids', 'values_1'], ascending=[False, True]) "
   ]
  },
  {
   "cell_type": "code",
   "execution_count": 15,
   "metadata": {
    "ExecuteTime": {
     "end_time": "2021-03-29T12:06:54.917416Z",
     "start_time": "2021-03-29T12:06:54.892762Z"
    }
   },
   "outputs": [
    {
     "name": "stderr",
     "output_type": "stream",
     "text": [
      "40 rows, 5 columns\n"
     ]
    },
    {
     "data": {
      "text/html": [
       "<div>\n",
       "<style scoped>\n",
       "    .dataframe tbody tr th:only-of-type {\n",
       "        vertical-align: middle;\n",
       "    }\n",
       "\n",
       "    .dataframe tbody tr th {\n",
       "        vertical-align: top;\n",
       "    }\n",
       "\n",
       "    .dataframe thead th {\n",
       "        text-align: right;\n",
       "    }\n",
       "</style>\n",
       "<table border=\"1\" class=\"dataframe\">\n",
       "  <thead>\n",
       "    <tr style=\"text-align: right;\">\n",
       "      <th></th>\n",
       "      <th>dates</th>\n",
       "      <th>order_dates</th>\n",
       "      <th>ids</th>\n",
       "      <th>values_1</th>\n",
       "      <th>values_2</th>\n",
       "    </tr>\n",
       "  </thead>\n",
       "  <tbody>\n",
       "    <tr>\n",
       "      <th>38</th>\n",
       "      <td>2020-02-08</td>\n",
       "      <td>2020-02-14</td>\n",
       "      <td>D</td>\n",
       "      <td>305</td>\n",
       "      <td>384</td>\n",
       "    </tr>\n",
       "    <tr>\n",
       "      <th>281</th>\n",
       "      <td>2020-10-08</td>\n",
       "      <td>2020-10-14</td>\n",
       "      <td>D</td>\n",
       "      <td>306</td>\n",
       "      <td>39</td>\n",
       "    </tr>\n",
       "    <tr>\n",
       "      <th>177</th>\n",
       "      <td>2020-06-26</td>\n",
       "      <td>2020-07-02</td>\n",
       "      <td>D</td>\n",
       "      <td>313</td>\n",
       "      <td>64</td>\n",
       "    </tr>\n",
       "    <tr>\n",
       "      <th>191</th>\n",
       "      <td>2020-07-10</td>\n",
       "      <td>2020-07-16</td>\n",
       "      <td>D</td>\n",
       "      <td>316</td>\n",
       "      <td>289</td>\n",
       "    </tr>\n",
       "  </tbody>\n",
       "</table>\n",
       "</div>"
      ],
      "text/plain": [
       "         dates order_dates ids  values_1  values_2\n",
       "38  2020-02-08  2020-02-14   D       305       384\n",
       "281 2020-10-08  2020-10-14   D       306        39\n",
       "177 2020-06-26  2020-07-02   D       313        64\n",
       "191 2020-07-10  2020-07-16   D       316       289"
      ]
     },
     "execution_count": 15,
     "metadata": {},
     "output_type": "execute_result"
    }
   ],
   "source": [
    "head(df)"
   ]
  },
  {
   "cell_type": "markdown",
   "metadata": {
    "ExecuteTime": {
     "end_time": "2020-08-06T08:53:26.356104Z",
     "start_time": "2020-08-06T08:53:26.353598Z"
    }
   },
   "source": [
    "## Example 4"
   ]
  },
  {
   "cell_type": "code",
   "execution_count": 16,
   "metadata": {
    "ExecuteTime": {
     "end_time": "2021-03-29T12:06:55.014033Z",
     "start_time": "2021-03-29T12:06:54.920693Z"
    }
   },
   "outputs": [
    {
     "name": "stderr",
     "output_type": "stream",
     "text": [
      "8 rows, 2 columns\n"
     ]
    },
    {
     "data": {
      "text/html": [
       "<div>\n",
       "<style scoped>\n",
       "    .dataframe tbody tr th:only-of-type {\n",
       "        vertical-align: middle;\n",
       "    }\n",
       "\n",
       "    .dataframe tbody tr th {\n",
       "        vertical-align: top;\n",
       "    }\n",
       "\n",
       "    .dataframe thead th {\n",
       "        text-align: right;\n",
       "    }\n",
       "</style>\n",
       "<table border=\"1\" class=\"dataframe\">\n",
       "  <thead>\n",
       "    <tr style=\"text-align: right;\">\n",
       "      <th></th>\n",
       "      <th></th>\n",
       "      <th>total_values_1</th>\n",
       "      <th>new_field</th>\n",
       "    </tr>\n",
       "    <tr>\n",
       "      <th>countries</th>\n",
       "      <th>regions</th>\n",
       "      <th></th>\n",
       "      <th></th>\n",
       "    </tr>\n",
       "  </thead>\n",
       "  <tbody>\n",
       "    <tr>\n",
       "      <th rowspan=\"4\" valign=\"top\">Italy</th>\n",
       "      <th>East</th>\n",
       "      <td>3023</td>\n",
       "      <td>3763</td>\n",
       "    </tr>\n",
       "    <tr>\n",
       "      <th>North</th>\n",
       "      <td>1868</td>\n",
       "      <td>1926</td>\n",
       "    </tr>\n",
       "    <tr>\n",
       "      <th>South</th>\n",
       "      <td>2520</td>\n",
       "      <td>2790</td>\n",
       "    </tr>\n",
       "    <tr>\n",
       "      <th>West</th>\n",
       "      <td>2489</td>\n",
       "      <td>1917</td>\n",
       "    </tr>\n",
       "  </tbody>\n",
       "</table>\n",
       "</div>"
      ],
      "text/plain": [
       "                   total_values_1  new_field\n",
       "countries regions                           \n",
       "Italy     East               3023       3763\n",
       "          North              1868       1926\n",
       "          South              2520       2790\n",
       "          West               2489       1917"
      ]
     },
     "execution_count": 16,
     "metadata": {},
     "output_type": "execute_result"
    }
   ],
   "source": [
    "%%piper\n",
    "\n",
    "sample_data() \n",
    "\n",
    ">> select('-dates')  \n",
    ">> where(\"countries.isin(['Italy', 'Spain'])\")  \n",
    "\n",
    ">> assign(column_test=lambda x: x.countries + ' ABC') \n",
    "\n",
    ">> group_by(['countries', 'regions']) \n",
    ">> summarise(total_values_1=pd.NamedAgg('values_1', 'sum'),\n",
    "             new_field=pd.NamedAgg('values_2', 'sum')) \n",
    "\n",
    ">> head()"
   ]
  },
  {
   "cell_type": "markdown",
   "metadata": {
    "ExecuteTime": {
     "end_time": "2020-08-06T08:53:26.356104Z",
     "start_time": "2020-08-06T08:53:26.353598Z"
    }
   },
   "source": [
    "## Example 5:"
   ]
  },
  {
   "cell_type": "code",
   "execution_count": 17,
   "metadata": {
    "ExecuteTime": {
     "end_time": "2021-03-29T12:06:55.022339Z",
     "start_time": "2021-03-29T12:06:55.016822Z"
    }
   },
   "outputs": [],
   "source": [
    "def an_arbitary_function(df, a='default a:', b='default b:'):\n",
    "    ''' This user defined function accepts and receives\n",
    "    a dataframe object - so it can be used with piper tool\n",
    "    '''\n",
    "    print(a*4)\n",
    "    print(b*5)\n",
    "    \n",
    "    return df"
   ]
  },
  {
   "cell_type": "code",
   "execution_count": 18,
   "metadata": {
    "ExecuteTime": {
     "end_time": "2021-03-29T12:06:55.238485Z",
     "start_time": "2021-03-29T12:06:55.037173Z"
    }
   },
   "outputs": [
    {
     "name": "stdout",
     "output_type": "stream",
     "text": [
      "override a:, override a:, override a:, override a:, \n",
      "default b:default b:default b:default b:default b:\n"
     ]
    },
    {
     "data": {
      "text/html": [
       "<div>\n",
       "<style scoped>\n",
       "    .dataframe tbody tr th:only-of-type {\n",
       "        vertical-align: middle;\n",
       "    }\n",
       "\n",
       "    .dataframe tbody tr th {\n",
       "        vertical-align: top;\n",
       "    }\n",
       "\n",
       "    .dataframe thead th {\n",
       "        text-align: right;\n",
       "    }\n",
       "</style>\n",
       "<table border=\"1\" class=\"dataframe\">\n",
       "  <thead>\n",
       "    <tr style=\"text-align: right;\">\n",
       "      <th></th>\n",
       "      <th>total_values_1</th>\n",
       "      <th>total_values_2</th>\n",
       "    </tr>\n",
       "    <tr>\n",
       "      <th>countries</th>\n",
       "      <th></th>\n",
       "      <th></th>\n",
       "    </tr>\n",
       "  </thead>\n",
       "  <tbody>\n",
       "    <tr>\n",
       "      <th>France</th>\n",
       "      <td>4912</td>\n",
       "      <td>5887</td>\n",
       "    </tr>\n",
       "    <tr>\n",
       "      <th>Germany</th>\n",
       "      <td>2459</td>\n",
       "      <td>2607</td>\n",
       "    </tr>\n",
       "    <tr>\n",
       "      <th>Norway</th>\n",
       "      <td>3992</td>\n",
       "      <td>4269</td>\n",
       "    </tr>\n",
       "    <tr>\n",
       "      <th>Portugal</th>\n",
       "      <td>3907</td>\n",
       "      <td>4470</td>\n",
       "    </tr>\n",
       "    <tr>\n",
       "      <th>Sweden</th>\n",
       "      <td>4372</td>\n",
       "      <td>4700</td>\n",
       "    </tr>\n",
       "    <tr>\n",
       "      <th>Switzerland</th>\n",
       "      <td>3739</td>\n",
       "      <td>3489</td>\n",
       "    </tr>\n",
       "  </tbody>\n",
       "</table>\n",
       "</div>"
      ],
      "text/plain": [
       "             total_values_1  total_values_2\n",
       "countries                                  \n",
       "France                 4912            5887\n",
       "Germany                2459            2607\n",
       "Norway                 3992            4269\n",
       "Portugal               3907            4470\n",
       "Sweden                 4372            4700\n",
       "Switzerland            3739            3489"
      ]
     },
     "execution_count": 18,
     "metadata": {},
     "output_type": "execute_result"
    }
   ],
   "source": [
    "%%piper \n",
    "sample_data() \n",
    ">> an_arbitary_function(a='override a:, ') \n",
    ">> select(['-dates']) \n",
    ">> where(\" ~countries.isin(['Italy', 'Spain']) & ids.isin(['A','D'])\") \n",
    ">> select('-order_dates') \n",
    ">> group_by(['countries']) \n",
    ">> summarise(total_values_1 = pd.NamedAgg('values_1', 'sum'), \n",
    "             total_values_2 = pd.NamedAgg('values_2', 'sum')) "
   ]
  },
  {
   "cell_type": "markdown",
   "metadata": {
    "ExecuteTime": {
     "end_time": "2020-08-06T08:53:26.356104Z",
     "start_time": "2020-08-06T08:53:26.353598Z"
    }
   },
   "source": [
    "## Example 6: Group % with pivot_table"
   ]
  },
  {
   "cell_type": "code",
   "execution_count": 19,
   "metadata": {
    "ExecuteTime": {
     "end_time": "2021-03-29T12:06:55.280504Z",
     "start_time": "2021-03-29T12:06:55.248745Z"
    }
   },
   "outputs": [],
   "source": [
    "df = sample_data()\n",
    "\n",
    "rule = 'Q'\n",
    "index = ['dates', 'order_dates', 'regions', 'ids']\n",
    "rename_cols = ['period', 'order_month', 'region', 'code']\n",
    "\n",
    "group_percent_index = ['period', 'order_month', 'region']"
   ]
  },
  {
   "cell_type": "markdown",
   "metadata": {
    "ExecuteTime": {
     "end_time": "2020-08-06T08:53:26.356104Z",
     "start_time": "2020-08-06T08:53:26.353598Z"
    }
   },
   "source": [
    "### pandas"
   ]
  },
  {
   "cell_type": "code",
   "execution_count": 20,
   "metadata": {
    "ExecuteTime": {
     "end_time": "2021-03-29T12:06:55.607537Z",
     "start_time": "2021-03-29T12:06:55.301549Z"
    }
   },
   "outputs": [
    {
     "data": {
      "text/html": [
       "<div>\n",
       "<style scoped>\n",
       "    .dataframe tbody tr th:only-of-type {\n",
       "        vertical-align: middle;\n",
       "    }\n",
       "\n",
       "    .dataframe tbody tr th {\n",
       "        vertical-align: top;\n",
       "    }\n",
       "\n",
       "    .dataframe thead th {\n",
       "        text-align: right;\n",
       "    }\n",
       "</style>\n",
       "<table border=\"1\" class=\"dataframe\">\n",
       "  <thead>\n",
       "    <tr style=\"text-align: right;\">\n",
       "      <th></th>\n",
       "      <th></th>\n",
       "      <th></th>\n",
       "      <th></th>\n",
       "      <th>values_1</th>\n",
       "      <th>values_2</th>\n",
       "      <th>%reg_totval2</th>\n",
       "    </tr>\n",
       "    <tr>\n",
       "      <th>period</th>\n",
       "      <th>order_month</th>\n",
       "      <th>region</th>\n",
       "      <th>code</th>\n",
       "      <th></th>\n",
       "      <th></th>\n",
       "      <th></th>\n",
       "    </tr>\n",
       "  </thead>\n",
       "  <tbody>\n",
       "    <tr>\n",
       "      <th rowspan=\"6\" valign=\"top\">Mar 2020</th>\n",
       "      <th rowspan=\"6\" valign=\"top\">Mar 2020</th>\n",
       "      <th rowspan=\"5\" valign=\"top\">East</th>\n",
       "      <th>A</th>\n",
       "      <td>227.875000</td>\n",
       "      <td>184.25</td>\n",
       "      <td>15.39</td>\n",
       "    </tr>\n",
       "    <tr>\n",
       "      <th>B</th>\n",
       "      <td>203.200000</td>\n",
       "      <td>168.00</td>\n",
       "      <td>14.03</td>\n",
       "    </tr>\n",
       "    <tr>\n",
       "      <th>C</th>\n",
       "      <td>126.000000</td>\n",
       "      <td>367.00</td>\n",
       "      <td>30.65</td>\n",
       "    </tr>\n",
       "    <tr>\n",
       "      <th>D</th>\n",
       "      <td>125.666667</td>\n",
       "      <td>259.00</td>\n",
       "      <td>21.63</td>\n",
       "    </tr>\n",
       "    <tr>\n",
       "      <th>E</th>\n",
       "      <td>194.000000</td>\n",
       "      <td>219.00</td>\n",
       "      <td>18.29</td>\n",
       "    </tr>\n",
       "    <tr>\n",
       "      <th>North</th>\n",
       "      <th>A</th>\n",
       "      <td>219.750000</td>\n",
       "      <td>216.00</td>\n",
       "      <td>22.82</td>\n",
       "    </tr>\n",
       "  </tbody>\n",
       "</table>\n",
       "</div>"
      ],
      "text/plain": [
       "                                    values_1  values_2  %reg_totval2\n",
       "period   order_month region code                                    \n",
       "Mar 2020 Mar 2020    East   A     227.875000    184.25         15.39\n",
       "                            B     203.200000    168.00         14.03\n",
       "                            C     126.000000    367.00         30.65\n",
       "                            D     125.666667    259.00         21.63\n",
       "                            E     194.000000    219.00         18.29\n",
       "                     North  A     219.750000    216.00         22.82"
      ]
     },
     "execution_count": 20,
     "metadata": {},
     "output_type": "execute_result"
    }
   ],
   "source": [
    "percent_x = lambda x: (x*100/x.sum()).round(2)\n",
    "piper_group_percent_example = lambda x: x.groupby(group_percent_index)['values_2'].transform(percent_x)\n",
    "\n",
    "# ----\n",
    "p2 = pivot_table(df, index=index, freq=rule, format_date=True)\n",
    "p2.rename_axis(rename_cols, axis='rows', inplace=True)\n",
    "\n",
    "p2['%reg_totval2'] = p2.groupby(group_percent_index)['values_2'].transform(percent_x)\n",
    "p2.head(6)"
   ]
  },
  {
   "cell_type": "markdown",
   "metadata": {
    "ExecuteTime": {
     "end_time": "2020-08-06T08:53:26.356104Z",
     "start_time": "2020-08-06T08:53:26.353598Z"
    }
   },
   "source": [
    "### piper"
   ]
  },
  {
   "cell_type": "code",
   "execution_count": 21,
   "metadata": {
    "ExecuteTime": {
     "end_time": "2021-03-29T12:06:55.900651Z",
     "start_time": "2021-03-29T12:06:55.616752Z"
    }
   },
   "outputs": [
    {
     "name": "stderr",
     "output_type": "stream",
     "text": [
      "101 rows, 3 columns\n"
     ]
    },
    {
     "data": {
      "text/html": [
       "<div>\n",
       "<style scoped>\n",
       "    .dataframe tbody tr th:only-of-type {\n",
       "        vertical-align: middle;\n",
       "    }\n",
       "\n",
       "    .dataframe tbody tr th {\n",
       "        vertical-align: top;\n",
       "    }\n",
       "\n",
       "    .dataframe thead th {\n",
       "        text-align: right;\n",
       "    }\n",
       "</style>\n",
       "<table border=\"1\" class=\"dataframe\">\n",
       "  <thead>\n",
       "    <tr style=\"text-align: right;\">\n",
       "      <th></th>\n",
       "      <th></th>\n",
       "      <th></th>\n",
       "      <th></th>\n",
       "      <th>values_1</th>\n",
       "      <th>values_2</th>\n",
       "      <th>totval2_percent</th>\n",
       "    </tr>\n",
       "    <tr>\n",
       "      <th>period</th>\n",
       "      <th>order_month</th>\n",
       "      <th>region</th>\n",
       "      <th>code</th>\n",
       "      <th></th>\n",
       "      <th></th>\n",
       "      <th></th>\n",
       "    </tr>\n",
       "  </thead>\n",
       "  <tbody>\n",
       "    <tr>\n",
       "      <th rowspan=\"6\" valign=\"top\">Mar 2020</th>\n",
       "      <th rowspan=\"6\" valign=\"top\">Mar 2020</th>\n",
       "      <th rowspan=\"5\" valign=\"top\">East</th>\n",
       "      <th>A</th>\n",
       "      <td>227.875000</td>\n",
       "      <td>184.25</td>\n",
       "      <td>15.39</td>\n",
       "    </tr>\n",
       "    <tr>\n",
       "      <th>B</th>\n",
       "      <td>203.200000</td>\n",
       "      <td>168.00</td>\n",
       "      <td>14.03</td>\n",
       "    </tr>\n",
       "    <tr>\n",
       "      <th>C</th>\n",
       "      <td>126.000000</td>\n",
       "      <td>367.00</td>\n",
       "      <td>30.65</td>\n",
       "    </tr>\n",
       "    <tr>\n",
       "      <th>D</th>\n",
       "      <td>125.666667</td>\n",
       "      <td>259.00</td>\n",
       "      <td>21.63</td>\n",
       "    </tr>\n",
       "    <tr>\n",
       "      <th>E</th>\n",
       "      <td>194.000000</td>\n",
       "      <td>219.00</td>\n",
       "      <td>18.29</td>\n",
       "    </tr>\n",
       "    <tr>\n",
       "      <th>North</th>\n",
       "      <th>A</th>\n",
       "      <td>219.750000</td>\n",
       "      <td>216.00</td>\n",
       "      <td>22.82</td>\n",
       "    </tr>\n",
       "  </tbody>\n",
       "</table>\n",
       "</div>"
      ],
      "text/plain": [
       "                                    values_1  values_2  totval2_percent\n",
       "period   order_month region code                                       \n",
       "Mar 2020 Mar 2020    East   A     227.875000    184.25            15.39\n",
       "                            B     203.200000    168.00            14.03\n",
       "                            C     126.000000    367.00            30.65\n",
       "                            D     125.666667    259.00            21.63\n",
       "                            E     194.000000    219.00            18.29\n",
       "                     North  A     219.750000    216.00            22.82"
      ]
     },
     "execution_count": 21,
     "metadata": {},
     "output_type": "execute_result"
    }
   ],
   "source": [
    "%%piper \n",
    "\n",
    "sample_data() \n",
    ">> pivot_table(index=index, freq='Q', format_date=True)\n",
    ">> rename_axis(rename_cols, axis='rows')\n",
    ">> transform(group_percent_index, totval2_percent=('values_2', 'percent'))\n",
    ">> head(6)"
   ]
  },
  {
   "cell_type": "markdown",
   "metadata": {
    "ExecuteTime": {
     "end_time": "2020-08-06T08:53:26.356104Z",
     "start_time": "2020-08-06T08:53:26.353598Z"
    },
    "slideshow": {
     "slide_type": "fragment"
    }
   },
   "source": [
    "## Example 6: Group % with groupby"
   ]
  },
  {
   "cell_type": "markdown",
   "metadata": {
    "ExecuteTime": {
     "end_time": "2020-08-06T08:53:26.356104Z",
     "start_time": "2020-08-06T08:53:26.353598Z"
    }
   },
   "source": [
    "### Pandas"
   ]
  },
  {
   "cell_type": "code",
   "execution_count": 22,
   "metadata": {
    "ExecuteTime": {
     "end_time": "2021-03-29T12:06:55.911779Z",
     "start_time": "2021-03-29T12:06:55.904037Z"
    }
   },
   "outputs": [],
   "source": [
    "rule = 'A'\n",
    "grouper = pd.Grouper(key='dates', freq=rule)\n",
    "grouper2 = pd.Grouper(key='order_dates', freq=rule)\n",
    "index = [grouper, grouper2, 'ids']\n",
    "\n",
    "group_percent_index = ['dates', 'order_dates']\n",
    "func = lambda x: (x * 100 / x.sum()).round(2)"
   ]
  },
  {
   "cell_type": "code",
   "execution_count": 23,
   "metadata": {
    "ExecuteTime": {
     "end_time": "2021-03-29T12:06:56.178503Z",
     "start_time": "2021-03-29T12:06:55.915679Z"
    }
   },
   "outputs": [
    {
     "data": {
      "text/html": [
       "<div>\n",
       "<style scoped>\n",
       "    .dataframe tbody tr th:only-of-type {\n",
       "        vertical-align: middle;\n",
       "    }\n",
       "\n",
       "    .dataframe tbody tr th {\n",
       "        vertical-align: top;\n",
       "    }\n",
       "\n",
       "    .dataframe thead th {\n",
       "        text-align: right;\n",
       "    }\n",
       "</style>\n",
       "<table border=\"1\" class=\"dataframe\">\n",
       "  <thead>\n",
       "    <tr style=\"text-align: right;\">\n",
       "      <th></th>\n",
       "      <th></th>\n",
       "      <th></th>\n",
       "      <th>totval1</th>\n",
       "      <th>totval2</th>\n",
       "      <th>percent_val1</th>\n",
       "      <th>percent_val2</th>\n",
       "    </tr>\n",
       "    <tr>\n",
       "      <th>dates</th>\n",
       "      <th>order_dates</th>\n",
       "      <th>ids</th>\n",
       "      <th></th>\n",
       "      <th></th>\n",
       "      <th></th>\n",
       "      <th></th>\n",
       "    </tr>\n",
       "  </thead>\n",
       "  <tbody>\n",
       "    <tr>\n",
       "      <th rowspan=\"9\" valign=\"top\">2020-12-31</th>\n",
       "      <th rowspan=\"5\" valign=\"top\">2020-12-31</th>\n",
       "      <th>A</th>\n",
       "      <td>17589</td>\n",
       "      <td>19248</td>\n",
       "      <td>24.31</td>\n",
       "      <td>26.10</td>\n",
       "    </tr>\n",
       "    <tr>\n",
       "      <th>B</th>\n",
       "      <td>13807</td>\n",
       "      <td>15241</td>\n",
       "      <td>19.08</td>\n",
       "      <td>20.67</td>\n",
       "    </tr>\n",
       "    <tr>\n",
       "      <th>C</th>\n",
       "      <td>13342</td>\n",
       "      <td>12770</td>\n",
       "      <td>18.44</td>\n",
       "      <td>17.32</td>\n",
       "    </tr>\n",
       "    <tr>\n",
       "      <th>D</th>\n",
       "      <td>13363</td>\n",
       "      <td>12461</td>\n",
       "      <td>18.47</td>\n",
       "      <td>16.90</td>\n",
       "    </tr>\n",
       "    <tr>\n",
       "      <th>E</th>\n",
       "      <td>14263</td>\n",
       "      <td>14031</td>\n",
       "      <td>19.71</td>\n",
       "      <td>19.02</td>\n",
       "    </tr>\n",
       "    <tr>\n",
       "      <th rowspan=\"4\" valign=\"top\">2021-12-31</th>\n",
       "      <th>A</th>\n",
       "      <td>215</td>\n",
       "      <td>369</td>\n",
       "      <td>24.77</td>\n",
       "      <td>28.19</td>\n",
       "    </tr>\n",
       "    <tr>\n",
       "      <th>B</th>\n",
       "      <td>82</td>\n",
       "      <td>218</td>\n",
       "      <td>9.45</td>\n",
       "      <td>16.65</td>\n",
       "    </tr>\n",
       "    <tr>\n",
       "      <th>C</th>\n",
       "      <td>391</td>\n",
       "      <td>329</td>\n",
       "      <td>45.05</td>\n",
       "      <td>25.13</td>\n",
       "    </tr>\n",
       "    <tr>\n",
       "      <th>E</th>\n",
       "      <td>180</td>\n",
       "      <td>393</td>\n",
       "      <td>20.74</td>\n",
       "      <td>30.02</td>\n",
       "    </tr>\n",
       "    <tr>\n",
       "      <th>2021-12-31</th>\n",
       "      <th>2021-12-31</th>\n",
       "      <th>B</th>\n",
       "      <td>372</td>\n",
       "      <td>103</td>\n",
       "      <td>100.00</td>\n",
       "      <td>100.00</td>\n",
       "    </tr>\n",
       "  </tbody>\n",
       "</table>\n",
       "</div>"
      ],
      "text/plain": [
       "                            totval1  totval2  percent_val1  percent_val2\n",
       "dates      order_dates ids                                              \n",
       "2020-12-31 2020-12-31  A      17589    19248         24.31         26.10\n",
       "                       B      13807    15241         19.08         20.67\n",
       "                       C      13342    12770         18.44         17.32\n",
       "                       D      13363    12461         18.47         16.90\n",
       "                       E      14263    14031         19.71         19.02\n",
       "           2021-12-31  A        215      369         24.77         28.19\n",
       "                       B         82      218          9.45         16.65\n",
       "                       C        391      329         45.05         25.13\n",
       "                       E        180      393         20.74         30.02\n",
       "2021-12-31 2021-12-31  B        372      103        100.00        100.00"
      ]
     },
     "execution_count": 23,
     "metadata": {},
     "output_type": "execute_result"
    }
   ],
   "source": [
    "df = sample_data()\n",
    "gb = df.groupby(index).agg(totval1=('values_1', 'sum'), totval2=('values_2', 'sum'))\n",
    "gb['percent_val1'] = gb.groupby(group_percent_index)['totval1'].transform(func)\n",
    "gb['percent_val2'] = gb.groupby(group_percent_index)['totval2'].transform(func)\n",
    "gb"
   ]
  },
  {
   "cell_type": "markdown",
   "metadata": {
    "ExecuteTime": {
     "end_time": "2020-08-06T08:53:26.356104Z",
     "start_time": "2020-08-06T08:53:26.353598Z"
    }
   },
   "source": [
    "### Alternative piper solution - groupby"
   ]
  },
  {
   "cell_type": "code",
   "execution_count": 24,
   "metadata": {
    "ExecuteTime": {
     "end_time": "2021-03-29T12:06:56.203412Z",
     "start_time": "2021-03-29T12:06:56.189596Z"
    }
   },
   "outputs": [],
   "source": [
    "index = ['dates', 'order_dates', 'ids']\n",
    "sub_index = ['dates', 'order_dates']"
   ]
  },
  {
   "cell_type": "code",
   "execution_count": 25,
   "metadata": {
    "ExecuteTime": {
     "end_time": "2021-03-29T12:06:56.433952Z",
     "start_time": "2021-03-29T12:06:56.214993Z"
    }
   },
   "outputs": [
    {
     "data": {
      "text/html": [
       "<div>\n",
       "<style scoped>\n",
       "    .dataframe tbody tr th:only-of-type {\n",
       "        vertical-align: middle;\n",
       "    }\n",
       "\n",
       "    .dataframe tbody tr th {\n",
       "        vertical-align: top;\n",
       "    }\n",
       "\n",
       "    .dataframe thead th {\n",
       "        text-align: right;\n",
       "    }\n",
       "</style>\n",
       "<table border=\"1\" class=\"dataframe\">\n",
       "  <thead>\n",
       "    <tr style=\"text-align: right;\">\n",
       "      <th></th>\n",
       "      <th></th>\n",
       "      <th></th>\n",
       "      <th>totval1</th>\n",
       "      <th>totval2</th>\n",
       "      <th>percent_val1</th>\n",
       "      <th>percent_val2</th>\n",
       "    </tr>\n",
       "    <tr>\n",
       "      <th>dates</th>\n",
       "      <th>order_dates</th>\n",
       "      <th>ids</th>\n",
       "      <th></th>\n",
       "      <th></th>\n",
       "      <th></th>\n",
       "      <th></th>\n",
       "    </tr>\n",
       "  </thead>\n",
       "  <tbody>\n",
       "    <tr>\n",
       "      <th rowspan=\"9\" valign=\"top\">2020-12-31</th>\n",
       "      <th rowspan=\"5\" valign=\"top\">2020-12-31</th>\n",
       "      <th>A</th>\n",
       "      <td>17589</td>\n",
       "      <td>19248</td>\n",
       "      <td>24.31</td>\n",
       "      <td>26.10</td>\n",
       "    </tr>\n",
       "    <tr>\n",
       "      <th>B</th>\n",
       "      <td>13807</td>\n",
       "      <td>15241</td>\n",
       "      <td>19.08</td>\n",
       "      <td>20.67</td>\n",
       "    </tr>\n",
       "    <tr>\n",
       "      <th>C</th>\n",
       "      <td>13342</td>\n",
       "      <td>12770</td>\n",
       "      <td>18.44</td>\n",
       "      <td>17.32</td>\n",
       "    </tr>\n",
       "    <tr>\n",
       "      <th>D</th>\n",
       "      <td>13363</td>\n",
       "      <td>12461</td>\n",
       "      <td>18.47</td>\n",
       "      <td>16.90</td>\n",
       "    </tr>\n",
       "    <tr>\n",
       "      <th>E</th>\n",
       "      <td>14263</td>\n",
       "      <td>14031</td>\n",
       "      <td>19.71</td>\n",
       "      <td>19.02</td>\n",
       "    </tr>\n",
       "    <tr>\n",
       "      <th rowspan=\"4\" valign=\"top\">2021-12-31</th>\n",
       "      <th>A</th>\n",
       "      <td>215</td>\n",
       "      <td>369</td>\n",
       "      <td>24.77</td>\n",
       "      <td>28.19</td>\n",
       "    </tr>\n",
       "    <tr>\n",
       "      <th>B</th>\n",
       "      <td>82</td>\n",
       "      <td>218</td>\n",
       "      <td>9.45</td>\n",
       "      <td>16.65</td>\n",
       "    </tr>\n",
       "    <tr>\n",
       "      <th>C</th>\n",
       "      <td>391</td>\n",
       "      <td>329</td>\n",
       "      <td>45.05</td>\n",
       "      <td>25.13</td>\n",
       "    </tr>\n",
       "    <tr>\n",
       "      <th>E</th>\n",
       "      <td>180</td>\n",
       "      <td>393</td>\n",
       "      <td>20.74</td>\n",
       "      <td>30.02</td>\n",
       "    </tr>\n",
       "    <tr>\n",
       "      <th>2021-12-31</th>\n",
       "      <th>2021-12-31</th>\n",
       "      <th>B</th>\n",
       "      <td>372</td>\n",
       "      <td>103</td>\n",
       "      <td>100.00</td>\n",
       "      <td>100.00</td>\n",
       "    </tr>\n",
       "  </tbody>\n",
       "</table>\n",
       "</div>"
      ],
      "text/plain": [
       "                            totval1  totval2  percent_val1  percent_val2\n",
       "dates      order_dates ids                                              \n",
       "2020-12-31 2020-12-31  A      17589    19248         24.31         26.10\n",
       "                       B      13807    15241         19.08         20.67\n",
       "                       C      13342    12770         18.44         17.32\n",
       "                       D      13363    12461         18.47         16.90\n",
       "                       E      14263    14031         19.71         19.02\n",
       "           2021-12-31  A        215      369         24.77         28.19\n",
       "                       B         82      218          9.45         16.65\n",
       "                       C        391      329         45.05         25.13\n",
       "                       E        180      393         20.74         30.02\n",
       "2021-12-31 2021-12-31  B        372      103        100.00        100.00"
      ]
     },
     "execution_count": 25,
     "metadata": {},
     "output_type": "execute_result"
    }
   ],
   "source": [
    "%%piper \n",
    "sample_data()  \n",
    ">> group_by(index, freq='A') \n",
    ">> summarise(totval1=('values_1', 'sum'), totval2=('values_2', 'sum')) \n",
    ">> transform(sub_index, percent_val1=('totval1', 'percent')) \n",
    ">> transform(sub_index, percent_val2=('totval2', 'percent')) "
   ]
  },
  {
   "cell_type": "markdown",
   "metadata": {
    "ExecuteTime": {
     "end_time": "2020-08-06T08:53:26.356104Z",
     "start_time": "2020-08-06T08:53:26.353598Z"
    }
   },
   "source": [
    "## Example 7:  Group % with assign"
   ]
  },
  {
   "cell_type": "code",
   "execution_count": 26,
   "metadata": {
    "ExecuteTime": {
     "end_time": "2021-03-29T12:06:56.454712Z",
     "start_time": "2021-03-29T12:06:56.442324Z"
    }
   },
   "outputs": [],
   "source": [
    "rule = 'M'\n",
    "grouper = pd.Grouper(key='dates', freq=rule)\n",
    "grouper2 = pd.Grouper(key='order_dates', freq=rule)\n",
    "\n",
    "index = [grouper, grouper2, 'regions']\n",
    "group_percent_index = ['dates', 'order_dates']"
   ]
  },
  {
   "cell_type": "code",
   "execution_count": 27,
   "metadata": {
    "ExecuteTime": {
     "end_time": "2021-03-29T12:06:56.487097Z",
     "start_time": "2021-03-29T12:06:56.466726Z"
    }
   },
   "outputs": [],
   "source": [
    "func = lambda x: (x * 100 / x.sum()).round(2)\n",
    "\n",
    "piper_func1 = lambda x: x.groupby(group_percent_index)['totval1'].transform(func)\n",
    "piper_func2 = lambda x: x.groupby(group_percent_index)['totval2'].transform(func)"
   ]
  },
  {
   "cell_type": "code",
   "execution_count": 28,
   "metadata": {
    "ExecuteTime": {
     "end_time": "2021-03-29T12:06:56.796003Z",
     "start_time": "2021-03-29T12:06:56.499588Z"
    }
   },
   "outputs": [
    {
     "data": {
      "text/html": [
       "<div>\n",
       "<style scoped>\n",
       "    .dataframe tbody tr th:only-of-type {\n",
       "        vertical-align: middle;\n",
       "    }\n",
       "\n",
       "    .dataframe tbody tr th {\n",
       "        vertical-align: top;\n",
       "    }\n",
       "\n",
       "    .dataframe thead th {\n",
       "        text-align: right;\n",
       "    }\n",
       "</style>\n",
       "<table border=\"1\" class=\"dataframe\">\n",
       "  <thead>\n",
       "    <tr style=\"text-align: right;\">\n",
       "      <th></th>\n",
       "      <th></th>\n",
       "      <th></th>\n",
       "      <th>totval1</th>\n",
       "      <th>totval2</th>\n",
       "      <th>percent_val1</th>\n",
       "      <th>percent_val2</th>\n",
       "    </tr>\n",
       "    <tr>\n",
       "      <th>dates</th>\n",
       "      <th>order_dates</th>\n",
       "      <th>regions</th>\n",
       "      <th></th>\n",
       "      <th></th>\n",
       "      <th></th>\n",
       "      <th></th>\n",
       "    </tr>\n",
       "  </thead>\n",
       "  <tbody>\n",
       "    <tr>\n",
       "      <th rowspan=\"5\" valign=\"top\">2020-01-31</th>\n",
       "      <th rowspan=\"4\" valign=\"top\">2020-01-31</th>\n",
       "      <th>East</th>\n",
       "      <td>231.222222</td>\n",
       "      <td>182.555556</td>\n",
       "      <td>28.04</td>\n",
       "      <td>24.81</td>\n",
       "    </tr>\n",
       "    <tr>\n",
       "      <th>North</th>\n",
       "      <td>220.666667</td>\n",
       "      <td>175.833333</td>\n",
       "      <td>26.76</td>\n",
       "      <td>23.89</td>\n",
       "    </tr>\n",
       "    <tr>\n",
       "      <th>South</th>\n",
       "      <td>161.833333</td>\n",
       "      <td>156.500000</td>\n",
       "      <td>19.63</td>\n",
       "      <td>21.27</td>\n",
       "    </tr>\n",
       "    <tr>\n",
       "      <th>West</th>\n",
       "      <td>210.750000</td>\n",
       "      <td>221.000000</td>\n",
       "      <td>25.56</td>\n",
       "      <td>30.03</td>\n",
       "    </tr>\n",
       "    <tr>\n",
       "      <th>2020-02-29</th>\n",
       "      <th>East</th>\n",
       "      <td>171.000000</td>\n",
       "      <td>393.000000</td>\n",
       "      <td>28.56</td>\n",
       "      <td>55.64</td>\n",
       "    </tr>\n",
       "    <tr>\n",
       "      <th>...</th>\n",
       "      <th>...</th>\n",
       "      <th>...</th>\n",
       "      <td>...</td>\n",
       "      <td>...</td>\n",
       "      <td>...</td>\n",
       "      <td>...</td>\n",
       "    </tr>\n",
       "    <tr>\n",
       "      <th rowspan=\"4\" valign=\"top\">2020-12-31</th>\n",
       "      <th>2020-12-31</th>\n",
       "      <th>West</th>\n",
       "      <td>174.500000</td>\n",
       "      <td>163.500000</td>\n",
       "      <td>22.66</td>\n",
       "      <td>19.22</td>\n",
       "    </tr>\n",
       "    <tr>\n",
       "      <th rowspan=\"3\" valign=\"top\">2021-01-31</th>\n",
       "      <th>East</th>\n",
       "      <td>118.500000</td>\n",
       "      <td>194.500000</td>\n",
       "      <td>33.33</td>\n",
       "      <td>34.50</td>\n",
       "    </tr>\n",
       "    <tr>\n",
       "      <th>North</th>\n",
       "      <td>197.000000</td>\n",
       "      <td>275.333333</td>\n",
       "      <td>55.41</td>\n",
       "      <td>48.83</td>\n",
       "    </tr>\n",
       "    <tr>\n",
       "      <th>South</th>\n",
       "      <td>40.000000</td>\n",
       "      <td>94.000000</td>\n",
       "      <td>11.25</td>\n",
       "      <td>16.67</td>\n",
       "    </tr>\n",
       "    <tr>\n",
       "      <th>2021-01-31</th>\n",
       "      <th>2021-01-31</th>\n",
       "      <th>North</th>\n",
       "      <td>372.000000</td>\n",
       "      <td>103.000000</td>\n",
       "      <td>100.00</td>\n",
       "      <td>100.00</td>\n",
       "    </tr>\n",
       "  </tbody>\n",
       "</table>\n",
       "<p>87 rows × 4 columns</p>\n",
       "</div>"
      ],
      "text/plain": [
       "                                   totval1     totval2  percent_val1  \\\n",
       "dates      order_dates regions                                         \n",
       "2020-01-31 2020-01-31  East     231.222222  182.555556         28.04   \n",
       "                       North    220.666667  175.833333         26.76   \n",
       "                       South    161.833333  156.500000         19.63   \n",
       "                       West     210.750000  221.000000         25.56   \n",
       "           2020-02-29  East     171.000000  393.000000         28.56   \n",
       "...                                    ...         ...           ...   \n",
       "2020-12-31 2020-12-31  West     174.500000  163.500000         22.66   \n",
       "           2021-01-31  East     118.500000  194.500000         33.33   \n",
       "                       North    197.000000  275.333333         55.41   \n",
       "                       South     40.000000   94.000000         11.25   \n",
       "2021-01-31 2021-01-31  North    372.000000  103.000000        100.00   \n",
       "\n",
       "                                percent_val2  \n",
       "dates      order_dates regions                \n",
       "2020-01-31 2020-01-31  East            24.81  \n",
       "                       North           23.89  \n",
       "                       South           21.27  \n",
       "                       West            30.03  \n",
       "           2020-02-29  East            55.64  \n",
       "...                                      ...  \n",
       "2020-12-31 2020-12-31  West            19.22  \n",
       "           2021-01-31  East            34.50  \n",
       "                       North           48.83  \n",
       "                       South           16.67  \n",
       "2021-01-31 2021-01-31  North          100.00  \n",
       "\n",
       "[87 rows x 4 columns]"
      ]
     },
     "execution_count": 28,
     "metadata": {},
     "output_type": "execute_result"
    }
   ],
   "source": [
    "%%piper\n",
    "pd.pivot_table(sample_data(), index=index)\n",
    ">> rename(columns={'values_1': 'totval1', 'values_2': 'totval2'})\n",
    ">> assign(percent_val1 = piper_func1, percent_val2 = piper_func2) "
   ]
  },
  {
   "cell_type": "code",
   "execution_count": 29,
   "metadata": {
    "ExecuteTime": {
     "end_time": "2021-03-29T12:06:56.807108Z",
     "start_time": "2021-03-29T12:06:56.800608Z"
    }
   },
   "outputs": [],
   "source": [
    "index = [grouper, grouper2, 'regions']"
   ]
  },
  {
   "cell_type": "code",
   "execution_count": 30,
   "metadata": {
    "ExecuteTime": {
     "end_time": "2021-03-29T12:06:56.846794Z",
     "start_time": "2021-03-29T12:06:56.812934Z"
    }
   },
   "outputs": [
    {
     "name": "stderr",
     "output_type": "stream",
     "text": [
      "Use %piper/%%piper --info to see rendered pandas pipe statement\n"
     ]
    },
    {
     "name": "stderr",
     "output_type": "stream",
     "text": [
      "name 'get_sample_data' is not defined\n"
     ]
    }
   ],
   "source": [
    "%%piper\n",
    "\n",
    "sample_data()\n",
    ">> pd.pivot_table(get_sample_data(), index=index)\n",
    ">> rename(columns={'values_1': 'totval1', 'values_2': 'totval2'})\n",
    ">> transform(group_percent_index, val1_perc=('totval1', 'percent'))\n",
    ">> transform(group_percent_index, val2_perc=('totval2', 'percent'))"
   ]
  },
  {
   "cell_type": "code",
   "execution_count": null,
   "metadata": {},
   "outputs": [],
   "source": []
  },
  {
   "cell_type": "code",
   "execution_count": null,
   "metadata": {},
   "outputs": [],
   "source": []
  }
 ],
 "metadata": {
  "hide_input": false,
  "kernelspec": {
   "display_name": "Python 3",
   "language": "python",
   "name": "python3"
  },
  "language_info": {
   "codemirror_mode": {
    "name": "ipython",
    "version": 3
   },
   "file_extension": ".py",
   "mimetype": "text/x-python",
   "name": "python",
   "nbconvert_exporter": "python",
   "pygments_lexer": "ipython3",
   "version": "3.8.5"
  },
  "toc": {
   "base_numbering": 1,
   "nav_menu": {},
   "number_sections": true,
   "sideBar": true,
   "skip_h1_title": false,
   "title_cell": "Table of Contents",
   "title_sidebar": "Contents",
   "toc_cell": false,
   "toc_position": {
    "height": "calc(100% - 180px)",
    "left": "10px",
    "top": "150px",
    "width": "256px"
   },
   "toc_section_display": true,
   "toc_window_display": true
  }
 },
 "nbformat": 4,
 "nbformat_minor": 4
}
