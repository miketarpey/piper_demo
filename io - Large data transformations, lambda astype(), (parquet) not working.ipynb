{
 "cells": [
  {
   "cell_type": "code",
   "execution_count": 1,
   "metadata": {
    "ExecuteTime": {
     "end_time": "2021-03-29T17:03:02.001310Z",
     "start_time": "2021-03-29T17:03:01.285484Z"
    }
   },
   "outputs": [
    {
     "name": "stderr",
     "output_type": "stream",
     "text": [
      "piper v0.1.2: Friday, 09 April 2021 18:49:40\n"
     ]
    }
   ],
   "source": [
    "from piper.defaults import *"
   ]
  },
  {
   "cell_type": "code",
   "execution_count": 2,
   "metadata": {
    "ExecuteTime": {
     "end_time": "2021-03-29T17:03:51.800958Z",
     "start_time": "2021-03-29T17:03:02.006297Z"
    }
   },
   "outputs": [
    {
     "name": "stderr",
     "output_type": "stream",
     "text": [
      "Use %piper/%%piper --info to see rendered pandas pipe statement\n"
     ]
    },
    {
     "name": "stderr",
     "output_type": "stream",
     "text": [
      "[Errno 2] No such file or directory: 'inputs/export.dsv'\n"
     ]
    }
   ],
   "source": [
    "%%piper\n",
    "df <- pd.read_csv('inputs/export.dsv', sep='\\t', low_memory=False)\n",
    ">> clean_names() >> memory() >> str_trim() >> memory()\n",
    ">> drop(columns=['adogid', 'adcrcd_1', 'adurcd', 'aduser',\n",
    "                 'adpid', 'adjobn', 'adupmj', 'adtday'])\n",
    "# >> assign(adast = lambda x: x.adast.astype('category'),\n",
    "#           adcrcd = lambda x: x.adcrcd.astype('category'),\n",
    "#           aduom = lambda x: x.aduom.astype('category'))\n",
    ">> across(['adast', 'adcrcd', 'aduom'], lambda x: x.astype('category'), series_obj=True)\n",
    ">> memory()\n",
    ">> across(['adeftj', 'adexdj'], function=from_julian) \n",
    ">> relocate('price', loc='after', ref_column='adan8')\n",
    ">> relocate('adcrcd', loc='before', ref_column='adeftj') >> memory()"
   ]
  },
  {
   "cell_type": "code",
   "execution_count": 3,
   "metadata": {
    "ExecuteTime": {
     "end_time": "2021-03-29T17:03:53.513408Z",
     "start_time": "2021-03-29T17:03:51.812187Z"
    },
    "scrolled": true
   },
   "outputs": [
    {
     "ename": "NameError",
     "evalue": "name 'df' is not defined",
     "output_type": "error",
     "traceback": [
      "\u001b[0;31m---------------------------------------------------------------------------\u001b[0m",
      "\u001b[0;31mNameError\u001b[0m                                 Traceback (most recent call last)",
      "\u001b[0;32m<ipython-input-3-bab2a740cb41>\u001b[0m in \u001b[0;36m<module>\u001b[0;34m\u001b[0m\n\u001b[0;32m----> 1\u001b[0;31m \u001b[0mmemory\u001b[0m\u001b[0;34m(\u001b[0m\u001b[0mdf\u001b[0m\u001b[0;34m)\u001b[0m\u001b[0;34m\u001b[0m\u001b[0;34m\u001b[0m\u001b[0m\n\u001b[0m\u001b[1;32m      2\u001b[0m \u001b[0mto_parquet\u001b[0m\u001b[0;34m(\u001b[0m\u001b[0mdf\u001b[0m\u001b[0;34m,\u001b[0m \u001b[0;34m'outputs/test_prices.parquet'\u001b[0m\u001b[0;34m)\u001b[0m\u001b[0;34m\u001b[0m\u001b[0;34m\u001b[0m\u001b[0m\n\u001b[1;32m      3\u001b[0m \u001b[0msample\u001b[0m\u001b[0;34m(\u001b[0m\u001b[0mdf\u001b[0m\u001b[0;34m,\u001b[0m \u001b[0;36m5\u001b[0m\u001b[0;34m)\u001b[0m\u001b[0;34m\u001b[0m\u001b[0;34m\u001b[0m\u001b[0m\n",
      "\u001b[0;31mNameError\u001b[0m: name 'df' is not defined"
     ]
    }
   ],
   "source": [
    "memory(df)\n",
    "to_parquet(df, 'outputs/test_prices.parquet')\n",
    "sample(df, 5)"
   ]
  },
  {
   "cell_type": "code",
   "execution_count": null,
   "metadata": {
    "ExecuteTime": {
     "end_time": "2021-03-29T17:03:54.573562Z",
     "start_time": "2021-03-29T17:03:53.518255Z"
    }
   },
   "outputs": [],
   "source": [
    "df2 = pd.read_parquet('outputs/test_prices.parquet')\n",
    "memory(df2)\n",
    "head(df2, 5)"
   ]
  }
 ],
 "metadata": {
  "hide_input": false,
  "kernelspec": {
   "display_name": "Python 3",
   "language": "python",
   "name": "python3"
  },
  "language_info": {
   "codemirror_mode": {
    "name": "ipython",
    "version": 3
   },
   "file_extension": ".py",
   "mimetype": "text/x-python",
   "name": "python",
   "nbconvert_exporter": "python",
   "pygments_lexer": "ipython3",
   "version": "3.8.5"
  },
  "toc": {
   "base_numbering": 1,
   "nav_menu": {},
   "number_sections": true,
   "sideBar": true,
   "skip_h1_title": false,
   "title_cell": "Table of Contents",
   "title_sidebar": "Contents",
   "toc_cell": false,
   "toc_position": {},
   "toc_section_display": true,
   "toc_window_display": false
  }
 },
 "nbformat": 4,
 "nbformat_minor": 4
}
