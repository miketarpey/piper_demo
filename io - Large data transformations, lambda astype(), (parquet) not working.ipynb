{
 "cells": [
  {
   "cell_type": "code",
   "execution_count": 1,
   "metadata": {
    "ExecuteTime": {
     "end_time": "2021-03-29T17:03:02.001310Z",
     "start_time": "2021-03-29T17:03:01.285484Z"
    }
   },
   "outputs": [
    {
     "name": "stderr",
     "output_type": "stream",
     "text": [
      "piper v0.1.0: Monday, 29 March 2021 19:06:15\n"
     ]
    }
   ],
   "source": [
    "from piper.defaults import *"
   ]
  },
  {
   "cell_type": "code",
   "execution_count": 2,
   "metadata": {
    "ExecuteTime": {
     "end_time": "2021-03-29T17:03:51.800958Z",
     "start_time": "2021-03-29T17:03:02.006297Z"
    }
   },
   "outputs": [
    {
     "name": "stderr",
     "output_type": "stream",
     "text": [
      "Dataframe consumes 611.18 Mb\n"
     ]
    },
    {
     "name": "stderr",
     "output_type": "stream",
     "text": [
      "Dataframe consumes 588.44 Mb\n"
     ]
    },
    {
     "name": "stderr",
     "output_type": "stream",
     "text": [
      "Dataframe consumes 152.38 Mb\n"
     ]
    },
    {
     "name": "stderr",
     "output_type": "stream",
     "text": [
      "Dataframe consumes 205.96 Mb\n"
     ]
    }
   ],
   "source": [
    "%%piper\n",
    "df <- pd.read_csv('inputs/export.dsv', sep='\\t', low_memory=False)\n",
    ">> clean_columns() >> memory() >> str_trim() >> memory()\n",
    ">> drop(columns=['adogid', 'adcrcd_1', 'adurcd', 'aduser',\n",
    "                 'adpid', 'adjobn', 'adupmj', 'adtday'])\n",
    "# >> assign(adast = lambda x: x.adast.astype('category'),\n",
    "#           adcrcd = lambda x: x.adcrcd.astype('category'),\n",
    "#           aduom = lambda x: x.aduom.astype('category'))\n",
    ">> across(['adast', 'adcrcd', 'aduom'], lambda x: x.astype('category'), series_obj=True)\n",
    ">> memory()\n",
    ">> across(['adeftj', 'adexdj'], function=from_julian) \n",
    ">> relocate('price', loc='after', ref_column='adan8')\n",
    ">> relocate('adcrcd', loc='before', ref_column='adeftj') >> memory()"
   ]
  },
  {
   "cell_type": "code",
   "execution_count": 3,
   "metadata": {
    "ExecuteTime": {
     "end_time": "2021-03-29T17:03:53.513408Z",
     "start_time": "2021-03-29T17:03:51.812187Z"
    },
    "scrolled": true
   },
   "outputs": [
    {
     "name": "stderr",
     "output_type": "stream",
     "text": [
      "Dataframe consumes 205.96 Mb\n"
     ]
    },
    {
     "name": "stderr",
     "output_type": "stream",
     "text": [
      "877900 rows, 11 columns\n"
     ]
    },
    {
     "data": {
      "text/html": [
       "<div>\n",
       "<style scoped>\n",
       "    .dataframe tbody tr th:only-of-type {\n",
       "        vertical-align: middle;\n",
       "    }\n",
       "\n",
       "    .dataframe tbody tr th {\n",
       "        vertical-align: top;\n",
       "    }\n",
       "\n",
       "    .dataframe thead th {\n",
       "        text-align: right;\n",
       "    }\n",
       "</style>\n",
       "<table border=\"1\" class=\"dataframe\">\n",
       "  <thead>\n",
       "    <tr style=\"text-align: right;\">\n",
       "      <th></th>\n",
       "      <th>adast</th>\n",
       "      <th>adurrf</th>\n",
       "      <th>aditm</th>\n",
       "      <th>adlitm</th>\n",
       "      <th>adan8</th>\n",
       "      <th>price</th>\n",
       "      <th>aduom</th>\n",
       "      <th>admnq</th>\n",
       "      <th>adcrcd</th>\n",
       "      <th>adeftj</th>\n",
       "      <th>adexdj</th>\n",
       "    </tr>\n",
       "  </thead>\n",
       "  <tbody>\n",
       "    <tr>\n",
       "      <th>156421</th>\n",
       "      <td>GBEYBGBA</td>\n",
       "      <td>2020/00179</td>\n",
       "      <td>332654</td>\n",
       "      <td>114870</td>\n",
       "      <td>0</td>\n",
       "      <td>10000.00</td>\n",
       "      <td>EA</td>\n",
       "      <td>0</td>\n",
       "      <td>GBP</td>\n",
       "      <td>2020-03-01</td>\n",
       "      <td>2021-11-30</td>\n",
       "    </tr>\n",
       "    <tr>\n",
       "      <th>842057</th>\n",
       "      <td>GBEYBGBA</td>\n",
       "      <td>2013/00054</td>\n",
       "      <td>48679585</td>\n",
       "      <td>FKLD307</td>\n",
       "      <td>0</td>\n",
       "      <td>12.82</td>\n",
       "      <td>EA</td>\n",
       "      <td>0</td>\n",
       "      <td>GBP</td>\n",
       "      <td>2013-05-01</td>\n",
       "      <td>2016-04-30</td>\n",
       "    </tr>\n",
       "    <tr>\n",
       "      <th>176762</th>\n",
       "      <td>GBEYBGBA</td>\n",
       "      <td>2012/00024-7370</td>\n",
       "      <td>48797058</td>\n",
       "      <td>1500912</td>\n",
       "      <td>0</td>\n",
       "      <td>86.25</td>\n",
       "      <td>VL</td>\n",
       "      <td>0</td>\n",
       "      <td>GBP</td>\n",
       "      <td>2012-05-01</td>\n",
       "      <td>2015-04-30</td>\n",
       "    </tr>\n",
       "    <tr>\n",
       "      <th>25234</th>\n",
       "      <td>GBLSTPRC</td>\n",
       "      <td>TS</td>\n",
       "      <td>336160</td>\n",
       "      <td>100316018</td>\n",
       "      <td>0</td>\n",
       "      <td>0.65</td>\n",
       "      <td>EA</td>\n",
       "      <td>0</td>\n",
       "      <td>GBP</td>\n",
       "      <td>2019-04-08</td>\n",
       "      <td>2020-03-31</td>\n",
       "    </tr>\n",
       "    <tr>\n",
       "      <th>762397</th>\n",
       "      <td>GBEYBGBA</td>\n",
       "      <td>2020/00498</td>\n",
       "      <td>81108245</td>\n",
       "      <td>FKLD1166</td>\n",
       "      <td>0</td>\n",
       "      <td>777.27</td>\n",
       "      <td>EA</td>\n",
       "      <td>0</td>\n",
       "      <td>GBP</td>\n",
       "      <td>2020-04-02</td>\n",
       "      <td>2021-01-31</td>\n",
       "    </tr>\n",
       "  </tbody>\n",
       "</table>\n",
       "</div>"
      ],
      "text/plain": [
       "           adast           adurrf     aditm     adlitm  adan8     price aduom  \\\n",
       "156421  GBEYBGBA       2020/00179    332654     114870      0  10000.00    EA   \n",
       "842057  GBEYBGBA       2013/00054  48679585    FKLD307      0     12.82    EA   \n",
       "176762  GBEYBGBA  2012/00024-7370  48797058    1500912      0     86.25    VL   \n",
       "25234   GBLSTPRC               TS    336160  100316018      0      0.65    EA   \n",
       "762397  GBEYBGBA       2020/00498  81108245   FKLD1166      0    777.27    EA   \n",
       "\n",
       "        admnq adcrcd      adeftj      adexdj  \n",
       "156421      0    GBP  2020-03-01  2021-11-30  \n",
       "842057      0    GBP  2013-05-01  2016-04-30  \n",
       "176762      0    GBP  2012-05-01  2015-04-30  \n",
       "25234       0    GBP  2019-04-08  2020-03-31  \n",
       "762397      0    GBP  2020-04-02  2021-01-31  "
      ]
     },
     "execution_count": 3,
     "metadata": {},
     "output_type": "execute_result"
    }
   ],
   "source": [
    "memory(df)\n",
    "to_parquet(df, 'outputs/test_prices.parquet')\n",
    "sample(df, 5)"
   ]
  },
  {
   "cell_type": "code",
   "execution_count": 4,
   "metadata": {
    "ExecuteTime": {
     "end_time": "2021-03-29T17:03:54.573562Z",
     "start_time": "2021-03-29T17:03:53.518255Z"
    }
   },
   "outputs": [
    {
     "name": "stderr",
     "output_type": "stream",
     "text": [
      "Dataframe consumes 205.96 Mb\n"
     ]
    },
    {
     "name": "stderr",
     "output_type": "stream",
     "text": [
      "877900 rows, 11 columns\n"
     ]
    },
    {
     "data": {
      "text/html": [
       "<div>\n",
       "<style scoped>\n",
       "    .dataframe tbody tr th:only-of-type {\n",
       "        vertical-align: middle;\n",
       "    }\n",
       "\n",
       "    .dataframe tbody tr th {\n",
       "        vertical-align: top;\n",
       "    }\n",
       "\n",
       "    .dataframe thead th {\n",
       "        text-align: right;\n",
       "    }\n",
       "</style>\n",
       "<table border=\"1\" class=\"dataframe\">\n",
       "  <thead>\n",
       "    <tr style=\"text-align: right;\">\n",
       "      <th></th>\n",
       "      <th>adast</th>\n",
       "      <th>adurrf</th>\n",
       "      <th>aditm</th>\n",
       "      <th>adlitm</th>\n",
       "      <th>adan8</th>\n",
       "      <th>price</th>\n",
       "      <th>aduom</th>\n",
       "      <th>admnq</th>\n",
       "      <th>adcrcd</th>\n",
       "      <th>adeftj</th>\n",
       "      <th>adexdj</th>\n",
       "    </tr>\n",
       "  </thead>\n",
       "  <tbody>\n",
       "    <tr>\n",
       "      <th>0</th>\n",
       "      <td>GBLSTPRC</td>\n",
       "      <td></td>\n",
       "      <td>0</td>\n",
       "      <td></td>\n",
       "      <td>0</td>\n",
       "      <td>2.1</td>\n",
       "      <td>EA</td>\n",
       "      <td>0</td>\n",
       "      <td>GBP</td>\n",
       "      <td>2016-07-06</td>\n",
       "      <td>2017-03-21</td>\n",
       "    </tr>\n",
       "    <tr>\n",
       "      <th>1</th>\n",
       "      <td>GBLSTPRC</td>\n",
       "      <td>Removed per HR</td>\n",
       "      <td>0</td>\n",
       "      <td></td>\n",
       "      <td>0</td>\n",
       "      <td>0.0</td>\n",
       "      <td>EA</td>\n",
       "      <td>0</td>\n",
       "      <td>GBP</td>\n",
       "      <td>2018-01-31</td>\n",
       "      <td>2018-02-01</td>\n",
       "    </tr>\n",
       "    <tr>\n",
       "      <th>2</th>\n",
       "      <td>GBLSTPRC</td>\n",
       "      <td>Fiona RICH</td>\n",
       "      <td>0</td>\n",
       "      <td></td>\n",
       "      <td>0</td>\n",
       "      <td>2.1</td>\n",
       "      <td>EA</td>\n",
       "      <td>0</td>\n",
       "      <td>GBP</td>\n",
       "      <td>2016-07-06</td>\n",
       "      <td>2017-03-31</td>\n",
       "    </tr>\n",
       "    <tr>\n",
       "      <th>3</th>\n",
       "      <td>GBJDBGBA</td>\n",
       "      <td></td>\n",
       "      <td>0</td>\n",
       "      <td></td>\n",
       "      <td>48474323</td>\n",
       "      <td>0.0</td>\n",
       "      <td>EA</td>\n",
       "      <td>0</td>\n",
       "      <td>GBP</td>\n",
       "      <td>2014-09-08</td>\n",
       "      <td>2039-12-31</td>\n",
       "    </tr>\n",
       "    <tr>\n",
       "      <th>4</th>\n",
       "      <td>GBJDBGBA</td>\n",
       "      <td></td>\n",
       "      <td>0</td>\n",
       "      <td></td>\n",
       "      <td>46559723</td>\n",
       "      <td>3.7</td>\n",
       "      <td>EA</td>\n",
       "      <td>0</td>\n",
       "      <td>GBP</td>\n",
       "      <td>2014-08-11</td>\n",
       "      <td>2039-12-31</td>\n",
       "    </tr>\n",
       "  </tbody>\n",
       "</table>\n",
       "</div>"
      ],
      "text/plain": [
       "      adast          adurrf  aditm adlitm     adan8  price aduom  admnq  \\\n",
       "0  GBLSTPRC                      0                0    2.1    EA      0   \n",
       "1  GBLSTPRC  Removed per HR      0                0    0.0    EA      0   \n",
       "2  GBLSTPRC      Fiona RICH      0                0    2.1    EA      0   \n",
       "3  GBJDBGBA                      0         48474323    0.0    EA      0   \n",
       "4  GBJDBGBA                      0         46559723    3.7    EA      0   \n",
       "\n",
       "  adcrcd      adeftj      adexdj  \n",
       "0    GBP  2016-07-06  2017-03-21  \n",
       "1    GBP  2018-01-31  2018-02-01  \n",
       "2    GBP  2016-07-06  2017-03-31  \n",
       "3    GBP  2014-09-08  2039-12-31  \n",
       "4    GBP  2014-08-11  2039-12-31  "
      ]
     },
     "execution_count": 4,
     "metadata": {},
     "output_type": "execute_result"
    }
   ],
   "source": [
    "df2 = pd.read_parquet('outputs/test_prices.parquet')\n",
    "memory(df2)\n",
    "head(df2, 5)"
   ]
  }
 ],
 "metadata": {
  "hide_input": false,
  "kernelspec": {
   "display_name": "Python 3",
   "language": "python",
   "name": "python3"
  },
  "language_info": {
   "codemirror_mode": {
    "name": "ipython",
    "version": 3
   },
   "file_extension": ".py",
   "mimetype": "text/x-python",
   "name": "python",
   "nbconvert_exporter": "python",
   "pygments_lexer": "ipython3",
   "version": "3.8.5"
  },
  "toc": {
   "base_numbering": 1,
   "nav_menu": {},
   "number_sections": true,
   "sideBar": true,
   "skip_h1_title": false,
   "title_cell": "Table of Contents",
   "title_sidebar": "Contents",
   "toc_cell": false,
   "toc_position": {},
   "toc_section_display": true,
   "toc_window_display": false
  }
 },
 "nbformat": 4,
 "nbformat_minor": 4
}
