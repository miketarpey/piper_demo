{
 "cells": [
  {
   "cell_type": "code",
   "execution_count": null,
   "metadata": {
    "ExecuteTime": {
     "end_time": "2021-02-18T15:03:59.744771Z",
     "start_time": "2021-02-18T15:03:59.731670Z"
    }
   },
   "outputs": [],
   "source": [
    "from piper import piper\n",
    "from piper.verbs import *\n",
    "from piper.dates import *"
   ]
  },
  {
   "cell_type": "code",
   "execution_count": null,
   "metadata": {
    "ExecuteTime": {
     "end_time": "2021-02-18T15:04:23.719204Z",
     "start_time": "2021-02-18T15:04:00.577379Z"
    }
   },
   "outputs": [],
   "source": [
    "%%piper\n",
    "df <- pd.read_csv('inputs/export.dsv', sep='\\t', low_memory=False)\n",
    ">> clean_columns() >> memory() >> trim() >> memory()\n",
    ">> assign(adast = lambda x: x.adast.astype('category'),\n",
    "          adcrcd = lambda x: x.adcrcd.astype('category'),\n",
    "          aduom = lambda x: x.aduom.astype('category'))\n",
    ">> drop(columns=['adogid', 'adcrcd_1', 'adurcd', 'aduser',\n",
    "                 'adpid', 'adjobn', 'adupmj', 'adtday'])\n",
    ">> memory()\n",
    ">> to_date(['adeftj', 'adexdj'], function=from_julian) \n",
    ">> move_column('price', loc='after', ref_column='adan8')\n",
    ">> move_column('adcrcd', loc='before', ref_column='adeftj') >> memory()"
   ]
  },
  {
   "cell_type": "code",
   "execution_count": null,
   "metadata": {
    "ExecuteTime": {
     "end_time": "2021-02-18T15:04:29.273349Z",
     "start_time": "2021-02-18T15:04:28.318536Z"
    },
    "scrolled": true
   },
   "outputs": [],
   "source": [
    "memory(df)\n",
    "to_parquet(df, 'outputs/test_prices.parquet')\n",
    "sample(df, 5)"
   ]
  },
  {
   "cell_type": "code",
   "execution_count": null,
   "metadata": {
    "ExecuteTime": {
     "end_time": "2021-02-18T15:04:31.186601Z",
     "start_time": "2021-02-18T15:04:30.570962Z"
    }
   },
   "outputs": [],
   "source": [
    "df2 = pd.read_parquet('outputs/test_prices.parquet')\n",
    "memory(df2)\n",
    "head(df2, 5)"
   ]
  },
  {
   "cell_type": "code",
   "execution_count": null,
   "metadata": {
    "ExecuteTime": {
     "end_time": "2021-02-18T15:04:33.732572Z",
     "start_time": "2021-02-18T15:04:32.059404Z"
    }
   },
   "outputs": [],
   "source": [
    "info(df2)"
   ]
  },
  {
   "cell_type": "code",
   "execution_count": null,
   "metadata": {},
   "outputs": [],
   "source": []
  },
  {
   "cell_type": "code",
   "execution_count": null,
   "metadata": {},
   "outputs": [],
   "source": []
  }
 ],
 "metadata": {
  "hide_input": false,
  "kernelspec": {
   "display_name": "Python 3",
   "language": "python",
   "name": "python3"
  },
  "language_info": {
   "codemirror_mode": {
    "name": "ipython",
    "version": 3
   },
   "file_extension": ".py",
   "mimetype": "text/x-python",
   "name": "python",
   "nbconvert_exporter": "python",
   "pygments_lexer": "ipython3",
   "version": "3.8.5"
  },
  "toc": {
   "base_numbering": 1,
   "nav_menu": {},
   "number_sections": true,
   "sideBar": true,
   "skip_h1_title": false,
   "title_cell": "Table of Contents",
   "title_sidebar": "Contents",
   "toc_cell": false,
   "toc_position": {},
   "toc_section_display": true,
   "toc_window_display": false
  }
 },
 "nbformat": 4,
 "nbformat_minor": 4
}
