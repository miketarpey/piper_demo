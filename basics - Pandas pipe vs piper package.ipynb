{
 "cells": [
  {
   "cell_type": "code",
   "execution_count": 1,
   "metadata": {
    "ExecuteTime": {
     "end_time": "2021-03-11T16:28:20.726979Z",
     "start_time": "2021-03-11T16:28:19.885304Z"
    }
   },
   "outputs": [
    {
     "name": "stderr",
     "output_type": "stream",
     "text": [
      "piper v0.1.0: Monday, 29 March 2021 19:06:00\n"
     ]
    }
   ],
   "source": [
    "from piper.defaults import *"
   ]
  },
  {
   "cell_type": "code",
   "execution_count": 2,
   "metadata": {
    "ExecuteTime": {
     "end_time": "2021-03-11T16:28:21.718893Z",
     "start_time": "2021-03-11T16:28:20.730239Z"
    }
   },
   "outputs": [
    {
     "name": "stderr",
     "output_type": "stream",
     "text": [
      "3686 rows, 9 columns\n"
     ]
    },
    {
     "data": {
      "text/html": [
       "<div>\n",
       "<style scoped>\n",
       "    .dataframe tbody tr th:only-of-type {\n",
       "        vertical-align: middle;\n",
       "    }\n",
       "\n",
       "    .dataframe tbody tr th {\n",
       "        vertical-align: top;\n",
       "    }\n",
       "\n",
       "    .dataframe thead th {\n",
       "        text-align: right;\n",
       "    }\n",
       "</style>\n",
       "<table border=\"1\" class=\"dataframe\">\n",
       "  <thead>\n",
       "    <tr style=\"text-align: right;\">\n",
       "      <th></th>\n",
       "      <th>cond</th>\n",
       "      <th>item</th>\n",
       "      <th>desc</th>\n",
       "      <th>price</th>\n",
       "      <th>curr</th>\n",
       "      <th>per</th>\n",
       "      <th>unit</th>\n",
       "      <th>effective</th>\n",
       "      <th>expired</th>\n",
       "    </tr>\n",
       "  </thead>\n",
       "  <tbody>\n",
       "    <tr>\n",
       "      <th>0</th>\n",
       "      <td>PR00</td>\n",
       "      <td>0112E568</td>\n",
       "      <td>Embout Plastique Porte Electro</td>\n",
       "      <td>63.71</td>\n",
       "      <td>EUR</td>\n",
       "      <td>1</td>\n",
       "      <td>EA</td>\n",
       "      <td>2016-01-01</td>\n",
       "      <td>2016-12-31</td>\n",
       "    </tr>\n",
       "    <tr>\n",
       "      <th>1</th>\n",
       "      <td>PR00</td>\n",
       "      <td>011572</td>\n",
       "      <td>Ecrou Plastique Porte Electro</td>\n",
       "      <td>10.51</td>\n",
       "      <td>EUR</td>\n",
       "      <td>1</td>\n",
       "      <td>EA</td>\n",
       "      <td>2016-01-01</td>\n",
       "      <td>2016-12-31</td>\n",
       "    </tr>\n",
       "    <tr>\n",
       "      <th>2</th>\n",
       "      <td>PR00</td>\n",
       "      <td>033253</td>\n",
       "      <td>Vis M3 X 38 Testomat</td>\n",
       "      <td>8.08</td>\n",
       "      <td>EUR</td>\n",
       "      <td>1</td>\n",
       "      <td>EA</td>\n",
       "      <td>2016-01-01</td>\n",
       "      <td>2016-12-31</td>\n",
       "    </tr>\n",
       "    <tr>\n",
       "      <th>3</th>\n",
       "      <td>PR00</td>\n",
       "      <td>040011</td>\n",
       "      <td>Tuyau Aspiration Cplt T2000</td>\n",
       "      <td>111.22</td>\n",
       "      <td>EUR</td>\n",
       "      <td>1</td>\n",
       "      <td>EA</td>\n",
       "      <td>2016-01-01</td>\n",
       "      <td>2016-12-31</td>\n",
       "    </tr>\n",
       "  </tbody>\n",
       "</table>\n",
       "</div>"
      ],
      "text/plain": [
       "   cond               item                                      desc   price  \\\n",
       "0  PR00  0112E568           Embout Plastique Porte Electro             63.71   \n",
       "1  PR00    011572           Ecrou Plastique Porte Electro              10.51   \n",
       "2  PR00    033253           Vis M3 X 38 Testomat                        8.08   \n",
       "3  PR00    040011           Tuyau Aspiration Cplt T2000               111.22   \n",
       "\n",
       "   curr  per unit  effective    expired  \n",
       "0  EUR     1  EA  2016-01-01 2016-12-31  \n",
       "1  EUR     1  EA  2016-01-01 2016-12-31  \n",
       "2  EUR     1  EA  2016-01-01 2016-12-31  \n",
       "3  EUR     1  EA  2016-01-01 2016-12-31  "
      ]
     },
     "execution_count": 2,
     "metadata": {},
     "output_type": "execute_result"
    }
   ],
   "source": [
    "f = 'inputs/20160324_A004_ListPrice_Conditions.xlsx'\n",
    "df = pd.read_excel(f)\n",
    "head(df)"
   ]
  },
  {
   "cell_type": "code",
   "execution_count": 3,
   "metadata": {
    "ExecuteTime": {
     "end_time": "2021-03-11T16:28:21.749792Z",
     "start_time": "2021-03-11T16:28:21.721116Z"
    }
   },
   "outputs": [
    {
     "name": "stderr",
     "output_type": "stream",
     "text": [
      "3686 rows, 10 columns\n"
     ]
    },
    {
     "data": {
      "text/html": [
       "<div>\n",
       "<style scoped>\n",
       "    .dataframe tbody tr th:only-of-type {\n",
       "        vertical-align: middle;\n",
       "    }\n",
       "\n",
       "    .dataframe tbody tr th {\n",
       "        vertical-align: top;\n",
       "    }\n",
       "\n",
       "    .dataframe thead th {\n",
       "        text-align: right;\n",
       "    }\n",
       "</style>\n",
       "<table border=\"1\" class=\"dataframe\">\n",
       "  <thead>\n",
       "    <tr style=\"text-align: right;\">\n",
       "      <th></th>\n",
       "      <th>cond</th>\n",
       "      <th>item</th>\n",
       "      <th>desc</th>\n",
       "      <th>price</th>\n",
       "      <th>curr</th>\n",
       "      <th>per</th>\n",
       "      <th>unit</th>\n",
       "      <th>effective</th>\n",
       "      <th>expired</th>\n",
       "      <th>duplicate</th>\n",
       "    </tr>\n",
       "  </thead>\n",
       "  <tbody>\n",
       "    <tr>\n",
       "      <th>1179</th>\n",
       "      <td>PR00</td>\n",
       "      <td>8100045</td>\n",
       "      <td>Air Filter Mat</td>\n",
       "      <td>0.50</td>\n",
       "      <td>EUR</td>\n",
       "      <td>1</td>\n",
       "      <td>EA</td>\n",
       "      <td>2016-01-01</td>\n",
       "      <td>2016-12-31</td>\n",
       "      <td>True</td>\n",
       "    </tr>\n",
       "    <tr>\n",
       "      <th>1103</th>\n",
       "      <td>PR00</td>\n",
       "      <td>6994321</td>\n",
       "      <td>Tie Wraps Kit</td>\n",
       "      <td>0.50</td>\n",
       "      <td>EUR</td>\n",
       "      <td>1</td>\n",
       "      <td>EA</td>\n",
       "      <td>2016-01-01</td>\n",
       "      <td>2016-12-31</td>\n",
       "      <td>True</td>\n",
       "    </tr>\n",
       "    <tr>\n",
       "      <th>3209</th>\n",
       "      <td>ZCAT</td>\n",
       "      <td>101507</td>\n",
       "      <td>Gamcath Gic-100 Luer Lock Injec. Cap</td>\n",
       "      <td>0.50</td>\n",
       "      <td>EUR</td>\n",
       "      <td>1</td>\n",
       "      <td>EA</td>\n",
       "      <td>2016-01-01</td>\n",
       "      <td>2016-12-31</td>\n",
       "      <td>True</td>\n",
       "    </tr>\n",
       "    <tr>\n",
       "      <th>29</th>\n",
       "      <td>PR00</td>\n",
       "      <td>100213007</td>\n",
       "      <td>Fuse 1A</td>\n",
       "      <td>0.58</td>\n",
       "      <td>EUR</td>\n",
       "      <td>1</td>\n",
       "      <td>EA</td>\n",
       "      <td>2016-01-01</td>\n",
       "      <td>2016-12-31</td>\n",
       "      <td>False</td>\n",
       "    </tr>\n",
       "    <tr>\n",
       "      <th>3190</th>\n",
       "      <td>ZCAT</td>\n",
       "      <td>101023</td>\n",
       "      <td>S-1016</td>\n",
       "      <td>0.60</td>\n",
       "      <td>EUR</td>\n",
       "      <td>1</td>\n",
       "      <td>EA</td>\n",
       "      <td>2016-01-01</td>\n",
       "      <td>2016-12-31</td>\n",
       "      <td>True</td>\n",
       "    </tr>\n",
       "  </tbody>\n",
       "</table>\n",
       "</div>"
      ],
      "text/plain": [
       "      cond              item                                      desc  price  \\\n",
       "1179  PR00  8100045           Air Filter Mat                             0.50   \n",
       "1103  PR00  6994321           Tie Wraps Kit                              0.50   \n",
       "3209  ZCAT        101507      Gamcath Gic-100 Luer Lock Injec. Cap       0.50   \n",
       "29    PR00  100213007         Fuse 1A                                    0.58   \n",
       "3190  ZCAT        101023      S-1016                                     0.60   \n",
       "\n",
       "      curr  per unit  effective    expired  duplicate  \n",
       "1179  EUR     1  EA  2016-01-01 2016-12-31       True  \n",
       "1103  EUR     1  EA  2016-01-01 2016-12-31       True  \n",
       "3209  EUR     1  EA  2016-01-01 2016-12-31       True  \n",
       "29    EUR     1  EA  2016-01-01 2016-12-31      False  \n",
       "3190  EUR     1  EA  2016-01-01 2016-12-31       True  "
      ]
     },
     "execution_count": 3,
     "metadata": {},
     "output_type": "execute_result"
    }
   ],
   "source": [
    "df.pipe(duplicated, 'price').pipe(head, 5)"
   ]
  },
  {
   "cell_type": "code",
   "execution_count": 4,
   "metadata": {
    "ExecuteTime": {
     "end_time": "2021-03-11T16:28:22.080240Z",
     "start_time": "2021-03-11T16:28:21.754404Z"
    }
   },
   "outputs": [
    {
     "name": "stderr",
     "output_type": "stream",
     "text": [
      "Workbook: outputs/20210329_test.xlsx\n"
     ]
    },
    {
     "name": "stderr",
     "output_type": "stream",
     "text": [
      "<< mult-sheet mode >>\n"
     ]
    },
    {
     "name": "stderr",
     "output_type": "stream",
     "text": [
      "Sheet (range): sheet1 ($A$1:$K$612)\n"
     ]
    },
    {
     "name": "stderr",
     "output_type": "stream",
     "text": [
      "Completed.\n"
     ]
    }
   ],
   "source": [
    "(df.pipe(pd.DataFrame.query, \"price < 10\" )\n",
    "   .pipe(pd.DataFrame.assign,\n",
    "         eoin=lambda x: x.cond + '_' + x.item,\n",
    "         new_price=lambda x: x.price * 5)\n",
    "   .pipe(to_excel, 'outputs/test.xlsx'))"
   ]
  },
  {
   "cell_type": "code",
   "execution_count": 5,
   "metadata": {
    "ExecuteTime": {
     "end_time": "2021-03-11T16:28:22.890903Z",
     "start_time": "2021-03-11T16:28:22.082392Z"
    }
   },
   "outputs": [
    {
     "name": "stderr",
     "output_type": "stream",
     "text": [
      "2025 rows, 12 columns\n"
     ]
    },
    {
     "name": "stderr",
     "output_type": "stream",
     "text": [
      "Dataframe consumes 0.0 Mb\n"
     ]
    },
    {
     "data": {
      "text/html": [
       "<div>\n",
       "<style scoped>\n",
       "    .dataframe tbody tr th:only-of-type {\n",
       "        vertical-align: middle;\n",
       "    }\n",
       "\n",
       "    .dataframe tbody tr th {\n",
       "        vertical-align: top;\n",
       "    }\n",
       "\n",
       "    .dataframe thead th {\n",
       "        text-align: right;\n",
       "    }\n",
       "</style>\n",
       "<table border=\"1\" class=\"dataframe\">\n",
       "  <thead>\n",
       "    <tr style=\"text-align: right;\">\n",
       "      <th></th>\n",
       "      <th>columns</th>\n",
       "      <th>type</th>\n",
       "      <th>n</th>\n",
       "      <th>isna</th>\n",
       "      <th>isnull</th>\n",
       "      <th>unique</th>\n",
       "    </tr>\n",
       "  </thead>\n",
       "  <tbody>\n",
       "    <tr>\n",
       "      <th>0</th>\n",
       "      <td>n</td>\n",
       "      <td>float64</td>\n",
       "      <td>5</td>\n",
       "      <td>0</td>\n",
       "      <td>0</td>\n",
       "      <td>1</td>\n",
       "    </tr>\n",
       "    <tr>\n",
       "      <th>1</th>\n",
       "      <td>%</td>\n",
       "      <td>float64</td>\n",
       "      <td>5</td>\n",
       "      <td>0</td>\n",
       "      <td>0</td>\n",
       "      <td>1</td>\n",
       "    </tr>\n",
       "    <tr>\n",
       "      <th>2</th>\n",
       "      <td>cum %</td>\n",
       "      <td>float64</td>\n",
       "      <td>5</td>\n",
       "      <td>0</td>\n",
       "      <td>0</td>\n",
       "      <td>5</td>\n",
       "    </tr>\n",
       "  </tbody>\n",
       "</table>\n",
       "</div>"
      ],
      "text/plain": [
       "  columns     type  n  isna  isnull  unique\n",
       "0       n  float64  5     0       0       1\n",
       "1       %  float64  5     0       0       1\n",
       "2   cum %  float64  5     0       0       5"
      ]
     },
     "execution_count": 5,
     "metadata": {},
     "output_type": "execute_result"
    }
   ],
   "source": [
    "(pd.read_excel(f)\n",
    "   .query(\"price > 60\")\n",
    "   .assign(larger_price=lambda x: x.price * 2,\n",
    "           new_field=lambda x: x.cond + ' ' + x.item)\n",
    "   .pipe(duplicated, ['price'])\n",
    "   .pipe(head, 5)\n",
    "   .pipe(count, 'price')\n",
    "   .pipe(info))"
   ]
  },
  {
   "cell_type": "code",
   "execution_count": 6,
   "metadata": {
    "ExecuteTime": {
     "end_time": "2021-03-11T16:28:22.964809Z",
     "start_time": "2021-03-11T16:28:22.893121Z"
    }
   },
   "outputs": [
    {
     "name": "stderr",
     "output_type": "stream",
     "text": [
      "Dataframe consumes 1.35 Mb\n"
     ]
    },
    {
     "data": {
      "text/html": [
       "<div>\n",
       "<style scoped>\n",
       "    .dataframe tbody tr th:only-of-type {\n",
       "        vertical-align: middle;\n",
       "    }\n",
       "\n",
       "    .dataframe tbody tr th {\n",
       "        vertical-align: top;\n",
       "    }\n",
       "\n",
       "    .dataframe thead th {\n",
       "        text-align: right;\n",
       "    }\n",
       "</style>\n",
       "<table border=\"1\" class=\"dataframe\">\n",
       "  <thead>\n",
       "    <tr style=\"text-align: right;\">\n",
       "      <th></th>\n",
       "      <th>columns</th>\n",
       "      <th>type</th>\n",
       "      <th>n</th>\n",
       "      <th>isna</th>\n",
       "      <th>isnull</th>\n",
       "      <th>unique</th>\n",
       "      <th>n dupes</th>\n",
       "    </tr>\n",
       "  </thead>\n",
       "  <tbody>\n",
       "    <tr>\n",
       "      <th>0</th>\n",
       "      <td>cond</td>\n",
       "      <td>object</td>\n",
       "      <td>3686</td>\n",
       "      <td>0</td>\n",
       "      <td>0</td>\n",
       "      <td>2</td>\n",
       "      <td>3686</td>\n",
       "    </tr>\n",
       "    <tr>\n",
       "      <th>1</th>\n",
       "      <td>item</td>\n",
       "      <td>object</td>\n",
       "      <td>3686</td>\n",
       "      <td>0</td>\n",
       "      <td>0</td>\n",
       "      <td>3685</td>\n",
       "      <td>2</td>\n",
       "    </tr>\n",
       "    <tr>\n",
       "      <th>2</th>\n",
       "      <td>desc</td>\n",
       "      <td>object</td>\n",
       "      <td>3686</td>\n",
       "      <td>0</td>\n",
       "      <td>0</td>\n",
       "      <td>3529</td>\n",
       "      <td>274</td>\n",
       "    </tr>\n",
       "    <tr>\n",
       "      <th>3</th>\n",
       "      <td>price</td>\n",
       "      <td>float64</td>\n",
       "      <td>3686</td>\n",
       "      <td>0</td>\n",
       "      <td>0</td>\n",
       "      <td>2702</td>\n",
       "      <td>1506</td>\n",
       "    </tr>\n",
       "    <tr>\n",
       "      <th>4</th>\n",
       "      <td>curr</td>\n",
       "      <td>object</td>\n",
       "      <td>3686</td>\n",
       "      <td>0</td>\n",
       "      <td>0</td>\n",
       "      <td>1</td>\n",
       "      <td>3686</td>\n",
       "    </tr>\n",
       "    <tr>\n",
       "      <th>5</th>\n",
       "      <td>per</td>\n",
       "      <td>int64</td>\n",
       "      <td>3686</td>\n",
       "      <td>0</td>\n",
       "      <td>0</td>\n",
       "      <td>1</td>\n",
       "      <td>3686</td>\n",
       "    </tr>\n",
       "    <tr>\n",
       "      <th>6</th>\n",
       "      <td>unit</td>\n",
       "      <td>object</td>\n",
       "      <td>3686</td>\n",
       "      <td>0</td>\n",
       "      <td>0</td>\n",
       "      <td>2</td>\n",
       "      <td>3686</td>\n",
       "    </tr>\n",
       "    <tr>\n",
       "      <th>7</th>\n",
       "      <td>effective</td>\n",
       "      <td>datetime64[ns]</td>\n",
       "      <td>3686</td>\n",
       "      <td>0</td>\n",
       "      <td>0</td>\n",
       "      <td>3</td>\n",
       "      <td>3685</td>\n",
       "    </tr>\n",
       "    <tr>\n",
       "      <th>8</th>\n",
       "      <td>expired</td>\n",
       "      <td>datetime64[ns]</td>\n",
       "      <td>3686</td>\n",
       "      <td>0</td>\n",
       "      <td>0</td>\n",
       "      <td>4</td>\n",
       "      <td>3683</td>\n",
       "    </tr>\n",
       "  </tbody>\n",
       "</table>\n",
       "</div>"
      ],
      "text/plain": [
       "     columns            type     n  isna  isnull  unique  n dupes\n",
       "0       cond          object  3686     0       0       2     3686\n",
       "1       item          object  3686     0       0    3685        2\n",
       "2       desc          object  3686     0       0    3529      274\n",
       "3      price         float64  3686     0       0    2702     1506\n",
       "4       curr          object  3686     0       0       1     3686\n",
       "5        per           int64  3686     0       0       1     3686\n",
       "6       unit          object  3686     0       0       2     3686\n",
       "7  effective  datetime64[ns]  3686     0       0       3     3685\n",
       "8    expired  datetime64[ns]  3686     0       0       4     3683"
      ]
     },
     "execution_count": 6,
     "metadata": {},
     "output_type": "execute_result"
    }
   ],
   "source": [
    "df.pipe(info, n_dupes=True)"
   ]
  },
  {
   "cell_type": "code",
   "execution_count": 7,
   "metadata": {
    "ExecuteTime": {
     "end_time": "2021-03-11T16:28:23.089413Z",
     "start_time": "2021-03-11T16:28:22.967688Z"
    }
   },
   "outputs": [
    {
     "data": {
      "text/html": [
       "<div>\n",
       "<style scoped>\n",
       "    .dataframe tbody tr th:only-of-type {\n",
       "        vertical-align: middle;\n",
       "    }\n",
       "\n",
       "    .dataframe tbody tr th {\n",
       "        vertical-align: top;\n",
       "    }\n",
       "\n",
       "    .dataframe thead th {\n",
       "        text-align: right;\n",
       "    }\n",
       "</style>\n",
       "<table border=\"1\" class=\"dataframe\">\n",
       "  <thead>\n",
       "    <tr style=\"text-align: right;\">\n",
       "      <th></th>\n",
       "      <th></th>\n",
       "      <th>n</th>\n",
       "      <th>%</th>\n",
       "    </tr>\n",
       "    <tr>\n",
       "      <th>effective</th>\n",
       "      <th>expired</th>\n",
       "      <th></th>\n",
       "      <th></th>\n",
       "    </tr>\n",
       "  </thead>\n",
       "  <tbody>\n",
       "    <tr>\n",
       "      <th>2016-01-01</th>\n",
       "      <th>2016-12-31</th>\n",
       "      <td>3669</td>\n",
       "      <td>99.54</td>\n",
       "    </tr>\n",
       "    <tr>\n",
       "      <th rowspan=\"2\" valign=\"top\">2015-01-01</th>\n",
       "      <th>2016-12-31</th>\n",
       "      <td>14</td>\n",
       "      <td>0.38</td>\n",
       "    </tr>\n",
       "    <tr>\n",
       "      <th>2016-12-08</th>\n",
       "      <td>1</td>\n",
       "      <td>0.03</td>\n",
       "    </tr>\n",
       "    <tr>\n",
       "      <th>2016-01-01</th>\n",
       "      <th>2016-03-31</th>\n",
       "      <td>1</td>\n",
       "      <td>0.03</td>\n",
       "    </tr>\n",
       "    <tr>\n",
       "      <th>2017-01-01</th>\n",
       "      <th>2050-12-31</th>\n",
       "      <td>1</td>\n",
       "      <td>0.03</td>\n",
       "    </tr>\n",
       "  </tbody>\n",
       "</table>\n",
       "</div>"
      ],
      "text/plain": [
       "                          n      %\n",
       "effective  expired                \n",
       "2016-01-01 2016-12-31  3669  99.54\n",
       "2015-01-01 2016-12-31    14   0.38\n",
       "           2016-12-08     1   0.03\n",
       "2016-01-01 2016-03-31     1   0.03\n",
       "2017-01-01 2050-12-31     1   0.03"
      ]
     },
     "execution_count": 7,
     "metadata": {},
     "output_type": "execute_result"
    }
   ],
   "source": [
    "df.pipe(count, 'cond')\n",
    "df.pipe(count, 'expired')\n",
    "\n",
    "count(df, 'effective')\n",
    "count(df, 'unit', totals=True)\n",
    "\n",
    "count(df, ['effective', 'expired'], percent=True, cum_percent=False)"
   ]
  },
  {
   "cell_type": "code",
   "execution_count": null,
   "metadata": {},
   "outputs": [],
   "source": []
  },
  {
   "cell_type": "code",
   "execution_count": null,
   "metadata": {},
   "outputs": [],
   "source": []
  }
 ],
 "metadata": {
  "hide_input": false,
  "kernelspec": {
   "display_name": "Python 3",
   "language": "python",
   "name": "python3"
  },
  "language_info": {
   "codemirror_mode": {
    "name": "ipython",
    "version": 3
   },
   "file_extension": ".py",
   "mimetype": "text/x-python",
   "name": "python",
   "nbconvert_exporter": "python",
   "pygments_lexer": "ipython3",
   "version": "3.8.5"
  },
  "toc": {
   "base_numbering": 1,
   "nav_menu": {},
   "number_sections": true,
   "sideBar": true,
   "skip_h1_title": false,
   "title_cell": "Table of Contents",
   "title_sidebar": "Contents",
   "toc_cell": false,
   "toc_position": {},
   "toc_section_display": true,
   "toc_window_display": false
  }
 },
 "nbformat": 4,
 "nbformat_minor": 4
}
