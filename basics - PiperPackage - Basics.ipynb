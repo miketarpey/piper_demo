{
 "cells": [
  {
   "cell_type": "markdown",
   "metadata": {
    "ExecuteTime": {
     "end_time": "2020-08-07T18:34:50.657741Z",
     "start_time": "2020-08-07T18:34:50.654732Z"
    }
   },
   "source": [
    "# Setup"
   ]
  },
  {
   "cell_type": "code",
   "execution_count": 1,
   "metadata": {
    "ExecuteTime": {
     "end_time": "2021-03-29T11:40:49.591866Z",
     "start_time": "2021-03-29T11:40:49.398447Z"
    }
   },
   "outputs": [
    {
     "name": "stderr",
     "output_type": "stream",
     "text": [
      "piper v0.1.0: Monday, 29 March 2021 19:08:16\n"
     ]
    }
   ],
   "source": [
    "from piper.factory import *\n",
    "from piper.verbs import *\n",
    "from piper.defaults import *\n",
    "from pathlib import Path"
   ]
  },
  {
   "cell_type": "markdown",
   "metadata": {
    "ExecuteTime": {
     "end_time": "2020-08-07T18:34:50.657741Z",
     "start_time": "2020-08-07T18:34:50.654732Z"
    }
   },
   "source": [
    "# Importing data into a dataframe"
   ]
  },
  {
   "cell_type": "markdown",
   "metadata": {
    "ExecuteTime": {
     "end_time": "2020-08-07T18:34:50.657741Z",
     "start_time": "2020-08-07T18:34:50.654732Z"
    }
   },
   "source": [
    "## read_csv()"
   ]
  },
  {
   "cell_type": "markdown",
   "metadata": {},
   "source": [
    "Here's an example where we 'assign' the result to a variable (as in R)"
   ]
  },
  {
   "cell_type": "code",
   "execution_count": 2,
   "metadata": {
    "ExecuteTime": {
     "end_time": "2021-03-29T11:40:51.485574Z",
     "start_time": "2021-03-29T11:40:51.465021Z"
    }
   },
   "outputs": [],
   "source": [
    "%%piper\n",
    "df <- pd.read_csv('inputs/2018 Bestsellers.csv') \n",
    ">> clean_columns()"
   ]
  },
  {
   "cell_type": "markdown",
   "metadata": {
    "ExecuteTime": {
     "end_time": "2020-08-07T18:34:50.657741Z",
     "start_time": "2020-08-07T18:34:50.654732Z"
    }
   },
   "source": [
    "## info()"
   ]
  },
  {
   "cell_type": "code",
   "execution_count": 3,
   "metadata": {
    "ExecuteTime": {
     "end_time": "2021-03-29T11:40:53.404782Z",
     "start_time": "2021-03-29T11:40:53.382079Z"
    }
   },
   "outputs": [
    {
     "name": "stdout",
     "output_type": "stream",
     "text": [
      "<class 'pandas.core.frame.DataFrame'>\n",
      "RangeIndex: 1300 entries, 0 to 1299\n",
      "Data columns (total 9 columns):\n",
      " #   Column         Non-Null Count  Dtype  \n",
      "---  ------         --------------  -----  \n",
      " 0   title          1300 non-null   object \n",
      " 1   week           1300 non-null   object \n",
      " 2   list           1300 non-null   object \n",
      " 3   rank           1300 non-null   int64  \n",
      " 4   author         1300 non-null   object \n",
      " 5   price          1300 non-null   float64\n",
      " 6   isbn           1300 non-null   int64  \n",
      " 7   previous_rank  786 non-null    float64\n",
      " 8   weeks_on_list  910 non-null    float64\n",
      "dtypes: float64(3), int64(2), object(4)\n",
      "memory usage: 91.5+ KB\n"
     ]
    }
   ],
   "source": [
    "df.info()"
   ]
  },
  {
   "cell_type": "code",
   "execution_count": 4,
   "metadata": {
    "ExecuteTime": {
     "end_time": "2021-03-29T11:40:53.696852Z",
     "start_time": "2021-03-29T11:40:53.624834Z"
    },
    "scrolled": true
   },
   "outputs": [
    {
     "name": "stderr",
     "output_type": "stream",
     "text": [
      "Dataframe consumes 0.41 Mb\n"
     ]
    },
    {
     "data": {
      "text/html": [
       "<div>\n",
       "<style scoped>\n",
       "    .dataframe tbody tr th:only-of-type {\n",
       "        vertical-align: middle;\n",
       "    }\n",
       "\n",
       "    .dataframe tbody tr th {\n",
       "        vertical-align: top;\n",
       "    }\n",
       "\n",
       "    .dataframe thead th {\n",
       "        text-align: right;\n",
       "    }\n",
       "</style>\n",
       "<table border=\"1\" class=\"dataframe\">\n",
       "  <thead>\n",
       "    <tr style=\"text-align: right;\">\n",
       "      <th></th>\n",
       "      <th>0</th>\n",
       "      <th>1</th>\n",
       "      <th>2</th>\n",
       "      <th>3</th>\n",
       "      <th>4</th>\n",
       "      <th>5</th>\n",
       "      <th>6</th>\n",
       "      <th>7</th>\n",
       "      <th>8</th>\n",
       "    </tr>\n",
       "  </thead>\n",
       "  <tbody>\n",
       "    <tr>\n",
       "      <th>columns</th>\n",
       "      <td>title</td>\n",
       "      <td>week</td>\n",
       "      <td>list</td>\n",
       "      <td>rank</td>\n",
       "      <td>author</td>\n",
       "      <td>price</td>\n",
       "      <td>isbn</td>\n",
       "      <td>previous_rank</td>\n",
       "      <td>weeks_on_list</td>\n",
       "    </tr>\n",
       "    <tr>\n",
       "      <th>type</th>\n",
       "      <td>object</td>\n",
       "      <td>object</td>\n",
       "      <td>object</td>\n",
       "      <td>int64</td>\n",
       "      <td>object</td>\n",
       "      <td>float64</td>\n",
       "      <td>int64</td>\n",
       "      <td>float64</td>\n",
       "      <td>float64</td>\n",
       "    </tr>\n",
       "    <tr>\n",
       "      <th>n</th>\n",
       "      <td>1300</td>\n",
       "      <td>1300</td>\n",
       "      <td>1300</td>\n",
       "      <td>1300</td>\n",
       "      <td>1300</td>\n",
       "      <td>1300</td>\n",
       "      <td>1300</td>\n",
       "      <td>1300</td>\n",
       "      <td>1300</td>\n",
       "    </tr>\n",
       "    <tr>\n",
       "      <th>isna</th>\n",
       "      <td>0</td>\n",
       "      <td>0</td>\n",
       "      <td>0</td>\n",
       "      <td>0</td>\n",
       "      <td>0</td>\n",
       "      <td>0</td>\n",
       "      <td>0</td>\n",
       "      <td>514</td>\n",
       "      <td>390</td>\n",
       "    </tr>\n",
       "    <tr>\n",
       "      <th>isnull</th>\n",
       "      <td>0</td>\n",
       "      <td>0</td>\n",
       "      <td>0</td>\n",
       "      <td>0</td>\n",
       "      <td>0</td>\n",
       "      <td>0</td>\n",
       "      <td>0</td>\n",
       "      <td>514</td>\n",
       "      <td>390</td>\n",
       "    </tr>\n",
       "    <tr>\n",
       "      <th>unique</th>\n",
       "      <td>220</td>\n",
       "      <td>13</td>\n",
       "      <td>7</td>\n",
       "      <td>15</td>\n",
       "      <td>195</td>\n",
       "      <td>46</td>\n",
       "      <td>229</td>\n",
       "      <td>15</td>\n",
       "      <td>95</td>\n",
       "    </tr>\n",
       "  </tbody>\n",
       "</table>\n",
       "</div>"
      ],
      "text/plain": [
       "              0       1       2      3       4        5      6              7  \\\n",
       "columns   title    week    list   rank  author    price   isbn  previous_rank   \n",
       "type     object  object  object  int64  object  float64  int64        float64   \n",
       "n          1300    1300    1300   1300    1300     1300   1300           1300   \n",
       "isna          0       0       0      0       0        0      0            514   \n",
       "isnull        0       0       0      0       0        0      0            514   \n",
       "unique      220      13       7     15     195       46    229             15   \n",
       "\n",
       "                     8  \n",
       "columns  weeks_on_list  \n",
       "type           float64  \n",
       "n                 1300  \n",
       "isna               390  \n",
       "isnull             390  \n",
       "unique              95  "
      ]
     },
     "execution_count": 4,
     "metadata": {},
     "output_type": "execute_result"
    }
   ],
   "source": [
    "%piper df >> info() >> pd.DataFrame.transpose()"
   ]
  },
  {
   "cell_type": "markdown",
   "metadata": {
    "ExecuteTime": {
     "end_time": "2020-08-07T18:34:50.657741Z",
     "start_time": "2020-08-07T18:34:50.654732Z"
    }
   },
   "source": [
    "## select()"
   ]
  },
  {
   "cell_type": "markdown",
   "metadata": {
    "ExecuteTime": {
     "end_time": "2020-08-07T18:34:50.657741Z",
     "start_time": "2020-08-07T18:34:50.654732Z"
    }
   },
   "source": [
    "### ALL columns"
   ]
  },
  {
   "cell_type": "markdown",
   "metadata": {},
   "source": [
    "select() allows you to select columns in various ways, default - ALL columns"
   ]
  },
  {
   "cell_type": "code",
   "execution_count": 5,
   "metadata": {
    "ExecuteTime": {
     "end_time": "2021-03-29T11:40:54.875640Z",
     "start_time": "2021-03-29T11:40:54.869923Z"
    }
   },
   "outputs": [],
   "source": [
    "# df = select(df, ['week', 'title'])\n",
    "# df"
   ]
  },
  {
   "cell_type": "code",
   "execution_count": 6,
   "metadata": {
    "ExecuteTime": {
     "end_time": "2021-03-29T11:40:55.076863Z",
     "start_time": "2021-03-29T11:40:55.054440Z"
    },
    "scrolled": true
   },
   "outputs": [
    {
     "name": "stderr",
     "output_type": "stream",
     "text": [
      "1300 rows, 9 columns\n"
     ]
    },
    {
     "data": {
      "text/html": [
       "<div>\n",
       "<style scoped>\n",
       "    .dataframe tbody tr th:only-of-type {\n",
       "        vertical-align: middle;\n",
       "    }\n",
       "\n",
       "    .dataframe tbody tr th {\n",
       "        vertical-align: top;\n",
       "    }\n",
       "\n",
       "    .dataframe thead th {\n",
       "        text-align: right;\n",
       "    }\n",
       "</style>\n",
       "<table border=\"1\" class=\"dataframe\">\n",
       "  <thead>\n",
       "    <tr style=\"text-align: right;\">\n",
       "      <th></th>\n",
       "      <th>title</th>\n",
       "      <th>week</th>\n",
       "      <th>list</th>\n",
       "      <th>rank</th>\n",
       "      <th>author</th>\n",
       "      <th>price</th>\n",
       "      <th>isbn</th>\n",
       "      <th>previous_rank</th>\n",
       "      <th>weeks_on_list</th>\n",
       "    </tr>\n",
       "  </thead>\n",
       "  <tbody>\n",
       "    <tr>\n",
       "      <th>0</th>\n",
       "      <td>A Wrinkle in Time</td>\n",
       "      <td>2/14/2018</td>\n",
       "      <td>Early &amp; Middle</td>\n",
       "      <td>1</td>\n",
       "      <td>Madeleine L'Engle</td>\n",
       "      <td>8.99</td>\n",
       "      <td>9781250153272</td>\n",
       "      <td>NaN</td>\n",
       "      <td>NaN</td>\n",
       "    </tr>\n",
       "    <tr>\n",
       "      <th>1</th>\n",
       "      <td>Wonder</td>\n",
       "      <td>2/14/2018</td>\n",
       "      <td>Early &amp; Middle</td>\n",
       "      <td>2</td>\n",
       "      <td>R.J. Palacio</td>\n",
       "      <td>16.99</td>\n",
       "      <td>9781524720193</td>\n",
       "      <td>NaN</td>\n",
       "      <td>NaN</td>\n",
       "    </tr>\n",
       "    <tr>\n",
       "      <th>2</th>\n",
       "      <td>Auggie &amp; Me</td>\n",
       "      <td>2/14/2018</td>\n",
       "      <td>Early &amp; Middle</td>\n",
       "      <td>3</td>\n",
       "      <td>R.J. Palacio</td>\n",
       "      <td>16.99</td>\n",
       "      <td>9781101934852</td>\n",
       "      <td>NaN</td>\n",
       "      <td>NaN</td>\n",
       "    </tr>\n",
       "    <tr>\n",
       "      <th>3</th>\n",
       "      <td>The Girl Who Drank the Moon</td>\n",
       "      <td>2/14/2018</td>\n",
       "      <td>Early &amp; Middle</td>\n",
       "      <td>4</td>\n",
       "      <td>Kelly Barnhill</td>\n",
       "      <td>16.95</td>\n",
       "      <td>9781616205676</td>\n",
       "      <td>NaN</td>\n",
       "      <td>NaN</td>\n",
       "    </tr>\n",
       "  </tbody>\n",
       "</table>\n",
       "</div>"
      ],
      "text/plain": [
       "                         title       week            list  rank  \\\n",
       "0            A Wrinkle in Time  2/14/2018  Early & Middle     1   \n",
       "1                       Wonder  2/14/2018  Early & Middle     2   \n",
       "2                  Auggie & Me  2/14/2018  Early & Middle     3   \n",
       "3  The Girl Who Drank the Moon  2/14/2018  Early & Middle     4   \n",
       "\n",
       "              author  price           isbn  previous_rank  weeks_on_list  \n",
       "0  Madeleine L'Engle   8.99  9781250153272            NaN            NaN  \n",
       "1       R.J. Palacio  16.99  9781524720193            NaN            NaN  \n",
       "2       R.J. Palacio  16.99  9781101934852            NaN            NaN  \n",
       "3     Kelly Barnhill  16.95  9781616205676            NaN            NaN  "
      ]
     },
     "execution_count": 6,
     "metadata": {},
     "output_type": "execute_result"
    }
   ],
   "source": [
    "%%piper\n",
    "df >> select() >> head()"
   ]
  },
  {
   "cell_type": "markdown",
   "metadata": {
    "ExecuteTime": {
     "end_time": "2020-08-07T18:34:50.657741Z",
     "start_time": "2020-08-07T18:34:50.654732Z"
    }
   },
   "source": [
    "### specific column(s)"
   ]
  },
  {
   "cell_type": "markdown",
   "metadata": {},
   "source": [
    "Specify an column name, selects that column"
   ]
  },
  {
   "cell_type": "code",
   "execution_count": 7,
   "metadata": {
    "ExecuteTime": {
     "end_time": "2021-03-29T11:40:55.561049Z",
     "start_time": "2021-03-29T11:40:55.536344Z"
    },
    "scrolled": true
   },
   "outputs": [
    {
     "name": "stderr",
     "output_type": "stream",
     "text": [
      "1300 rows, 1 columns\n"
     ]
    },
    {
     "data": {
      "text/html": [
       "<div>\n",
       "<style scoped>\n",
       "    .dataframe tbody tr th:only-of-type {\n",
       "        vertical-align: middle;\n",
       "    }\n",
       "\n",
       "    .dataframe tbody tr th {\n",
       "        vertical-align: top;\n",
       "    }\n",
       "\n",
       "    .dataframe thead th {\n",
       "        text-align: right;\n",
       "    }\n",
       "</style>\n",
       "<table border=\"1\" class=\"dataframe\">\n",
       "  <thead>\n",
       "    <tr style=\"text-align: right;\">\n",
       "      <th></th>\n",
       "      <th>title</th>\n",
       "    </tr>\n",
       "  </thead>\n",
       "  <tbody>\n",
       "    <tr>\n",
       "      <th>0</th>\n",
       "      <td>A Wrinkle in Time</td>\n",
       "    </tr>\n",
       "    <tr>\n",
       "      <th>1</th>\n",
       "      <td>Wonder</td>\n",
       "    </tr>\n",
       "    <tr>\n",
       "      <th>2</th>\n",
       "      <td>Auggie &amp; Me</td>\n",
       "    </tr>\n",
       "    <tr>\n",
       "      <th>3</th>\n",
       "      <td>The Girl Who Drank the Moon</td>\n",
       "    </tr>\n",
       "  </tbody>\n",
       "</table>\n",
       "</div>"
      ],
      "text/plain": [
       "                         title\n",
       "0            A Wrinkle in Time\n",
       "1                       Wonder\n",
       "2                  Auggie & Me\n",
       "3  The Girl Who Drank the Moon"
      ]
     },
     "execution_count": 7,
     "metadata": {},
     "output_type": "execute_result"
    }
   ],
   "source": [
    "%%piper\n",
    "df >> select('title') >> head()"
   ]
  },
  {
   "cell_type": "markdown",
   "metadata": {},
   "source": [
    "passing a list retrieves the respective columns in one go."
   ]
  },
  {
   "cell_type": "code",
   "execution_count": 8,
   "metadata": {
    "ExecuteTime": {
     "end_time": "2021-03-29T11:40:55.862647Z",
     "start_time": "2021-03-29T11:40:55.841771Z"
    },
    "scrolled": true
   },
   "outputs": [
    {
     "name": "stderr",
     "output_type": "stream",
     "text": [
      "1300 rows, 3 columns\n"
     ]
    },
    {
     "data": {
      "text/html": [
       "<div>\n",
       "<style scoped>\n",
       "    .dataframe tbody tr th:only-of-type {\n",
       "        vertical-align: middle;\n",
       "    }\n",
       "\n",
       "    .dataframe tbody tr th {\n",
       "        vertical-align: top;\n",
       "    }\n",
       "\n",
       "    .dataframe thead th {\n",
       "        text-align: right;\n",
       "    }\n",
       "</style>\n",
       "<table border=\"1\" class=\"dataframe\">\n",
       "  <thead>\n",
       "    <tr style=\"text-align: right;\">\n",
       "      <th></th>\n",
       "      <th>title</th>\n",
       "      <th>author</th>\n",
       "      <th>price</th>\n",
       "    </tr>\n",
       "  </thead>\n",
       "  <tbody>\n",
       "    <tr>\n",
       "      <th>0</th>\n",
       "      <td>A Wrinkle in Time</td>\n",
       "      <td>Madeleine L'Engle</td>\n",
       "      <td>8.99</td>\n",
       "    </tr>\n",
       "    <tr>\n",
       "      <th>1</th>\n",
       "      <td>Wonder</td>\n",
       "      <td>R.J. Palacio</td>\n",
       "      <td>16.99</td>\n",
       "    </tr>\n",
       "    <tr>\n",
       "      <th>2</th>\n",
       "      <td>Auggie &amp; Me</td>\n",
       "      <td>R.J. Palacio</td>\n",
       "      <td>16.99</td>\n",
       "    </tr>\n",
       "    <tr>\n",
       "      <th>3</th>\n",
       "      <td>The Girl Who Drank the Moon</td>\n",
       "      <td>Kelly Barnhill</td>\n",
       "      <td>16.95</td>\n",
       "    </tr>\n",
       "  </tbody>\n",
       "</table>\n",
       "</div>"
      ],
      "text/plain": [
       "                         title             author  price\n",
       "0            A Wrinkle in Time  Madeleine L'Engle   8.99\n",
       "1                       Wonder       R.J. Palacio  16.99\n",
       "2                  Auggie & Me       R.J. Palacio  16.99\n",
       "3  The Girl Who Drank the Moon     Kelly Barnhill  16.95"
      ]
     },
     "execution_count": 8,
     "metadata": {},
     "output_type": "execute_result"
    }
   ],
   "source": [
    "%%piper\n",
    "select(df, ['title', 'author', 'price']) >>\n",
    "head()"
   ]
  },
  {
   "cell_type": "markdown",
   "metadata": {
    "ExecuteTime": {
     "end_time": "2020-08-07T18:34:50.657741Z",
     "start_time": "2020-08-07T18:34:50.654732Z"
    }
   },
   "source": [
    "### excluding column(s)"
   ]
  },
  {
   "cell_type": "markdown",
   "metadata": {},
   "source": [
    "How about all fields EXCEPT certain columns?<br> No problem, specify a minus as a prefix to the column name."
   ]
  },
  {
   "cell_type": "code",
   "execution_count": 9,
   "metadata": {
    "ExecuteTime": {
     "end_time": "2021-03-29T11:40:56.350465Z",
     "start_time": "2021-03-29T11:40:56.321860Z"
    },
    "scrolled": true
   },
   "outputs": [
    {
     "name": "stderr",
     "output_type": "stream",
     "text": [
      "1300 rows, 6 columns\n"
     ]
    },
    {
     "data": {
      "text/html": [
       "<div>\n",
       "<style scoped>\n",
       "    .dataframe tbody tr th:only-of-type {\n",
       "        vertical-align: middle;\n",
       "    }\n",
       "\n",
       "    .dataframe tbody tr th {\n",
       "        vertical-align: top;\n",
       "    }\n",
       "\n",
       "    .dataframe thead th {\n",
       "        text-align: right;\n",
       "    }\n",
       "</style>\n",
       "<table border=\"1\" class=\"dataframe\">\n",
       "  <thead>\n",
       "    <tr style=\"text-align: right;\">\n",
       "      <th></th>\n",
       "      <th>title</th>\n",
       "      <th>week</th>\n",
       "      <th>list</th>\n",
       "      <th>rank</th>\n",
       "      <th>author</th>\n",
       "      <th>price</th>\n",
       "    </tr>\n",
       "  </thead>\n",
       "  <tbody>\n",
       "    <tr>\n",
       "      <th>0</th>\n",
       "      <td>A Wrinkle in Time</td>\n",
       "      <td>2/14/2018</td>\n",
       "      <td>Early &amp; Middle</td>\n",
       "      <td>1</td>\n",
       "      <td>Madeleine L'Engle</td>\n",
       "      <td>8.99</td>\n",
       "    </tr>\n",
       "    <tr>\n",
       "      <th>1</th>\n",
       "      <td>Wonder</td>\n",
       "      <td>2/14/2018</td>\n",
       "      <td>Early &amp; Middle</td>\n",
       "      <td>2</td>\n",
       "      <td>R.J. Palacio</td>\n",
       "      <td>16.99</td>\n",
       "    </tr>\n",
       "    <tr>\n",
       "      <th>2</th>\n",
       "      <td>Auggie &amp; Me</td>\n",
       "      <td>2/14/2018</td>\n",
       "      <td>Early &amp; Middle</td>\n",
       "      <td>3</td>\n",
       "      <td>R.J. Palacio</td>\n",
       "      <td>16.99</td>\n",
       "    </tr>\n",
       "    <tr>\n",
       "      <th>3</th>\n",
       "      <td>The Girl Who Drank the Moon</td>\n",
       "      <td>2/14/2018</td>\n",
       "      <td>Early &amp; Middle</td>\n",
       "      <td>4</td>\n",
       "      <td>Kelly Barnhill</td>\n",
       "      <td>16.95</td>\n",
       "    </tr>\n",
       "  </tbody>\n",
       "</table>\n",
       "</div>"
      ],
      "text/plain": [
       "                         title       week            list  rank  \\\n",
       "0            A Wrinkle in Time  2/14/2018  Early & Middle     1   \n",
       "1                       Wonder  2/14/2018  Early & Middle     2   \n",
       "2                  Auggie & Me  2/14/2018  Early & Middle     3   \n",
       "3  The Girl Who Drank the Moon  2/14/2018  Early & Middle     4   \n",
       "\n",
       "              author  price  \n",
       "0  Madeleine L'Engle   8.99  \n",
       "1       R.J. Palacio  16.99  \n",
       "2       R.J. Palacio  16.99  \n",
       "3     Kelly Barnhill  16.95  "
      ]
     },
     "execution_count": 9,
     "metadata": {},
     "output_type": "execute_result"
    }
   ],
   "source": [
    "%%piper\n",
    "df\n",
    ">> select(['-isbn', '-previous_rank'])\n",
    ">> select('-weeks_on_list')\n",
    ">> head()"
   ]
  },
  {
   "cell_type": "markdown",
   "metadata": {
    "ExecuteTime": {
     "end_time": "2020-08-07T18:34:50.657741Z",
     "start_time": "2020-08-07T18:34:50.654732Z"
    }
   },
   "source": [
    "### selecting from one column to another column (column range/slice)"
   ]
  },
  {
   "cell_type": "markdown",
   "metadata": {},
   "source": [
    "If you want to select a subset (range) of columns - pass a slice object with the from and to columns."
   ]
  },
  {
   "cell_type": "code",
   "execution_count": 10,
   "metadata": {
    "ExecuteTime": {
     "end_time": "2021-03-11T11:52:38.453183Z",
     "start_time": "2021-03-11T11:52:38.439032Z"
    },
    "scrolled": true
   },
   "outputs": [
    {
     "name": "stderr",
     "output_type": "stream",
     "text": [
      "Use %piper/%%piper --info to see rendered pandas pipe statement\n"
     ]
    },
    {
     "name": "stderr",
     "output_type": "stream",
     "text": [
      "'NoneType' object has no attribute 'pipe'\n"
     ]
    }
   ],
   "source": [
    "%piper df >> select(slice('title', 'isbn')) >> head()"
   ]
  },
  {
   "cell_type": "markdown",
   "metadata": {},
   "source": [
    "### combining rows containing header information"
   ]
  },
  {
   "cell_type": "code",
   "execution_count": 11,
   "metadata": {
    "ExecuteTime": {
     "end_time": "2021-03-11T11:52:39.252387Z",
     "start_time": "2021-03-11T11:52:38.455004Z"
    }
   },
   "outputs": [
    {
     "name": "stderr",
     "output_type": "stream",
     "text": [
      "2155 rows, 12 columns\n"
     ]
    },
    {
     "data": {
      "text/html": [
       "<div>\n",
       "<style scoped>\n",
       "    .dataframe tbody tr th:only-of-type {\n",
       "        vertical-align: middle;\n",
       "    }\n",
       "\n",
       "    .dataframe tbody tr th {\n",
       "        vertical-align: top;\n",
       "    }\n",
       "\n",
       "    .dataframe thead th {\n",
       "        text-align: right;\n",
       "    }\n",
       "</style>\n",
       "<table border=\"1\" class=\"dataframe\">\n",
       "  <thead>\n",
       "    <tr style=\"text-align: right;\">\n",
       "      <th></th>\n",
       "      <th>0</th>\n",
       "      <th>1</th>\n",
       "      <th>2</th>\n",
       "      <th>3</th>\n",
       "      <th>4</th>\n",
       "      <th>5</th>\n",
       "      <th>6</th>\n",
       "      <th>7</th>\n",
       "      <th>8</th>\n",
       "      <th>9</th>\n",
       "      <th>10</th>\n",
       "      <th>11</th>\n",
       "    </tr>\n",
       "  </thead>\n",
       "  <tbody>\n",
       "    <tr>\n",
       "      <th>0</th>\n",
       "      <td>Order</td>\n",
       "      <td>Customer</td>\n",
       "      <td>Sales</td>\n",
       "      <td>Order</td>\n",
       "      <td>Ship</td>\n",
       "      <td>Order</td>\n",
       "      <td>SKU</td>\n",
       "      <td>Order</td>\n",
       "      <td>Unit Sell</td>\n",
       "      <td>Discount</td>\n",
       "      <td>Shipping</td>\n",
       "      <td>Ship Mode</td>\n",
       "    </tr>\n",
       "    <tr>\n",
       "      <th>1</th>\n",
       "      <td>ID</td>\n",
       "      <td>ID</td>\n",
       "      <td>Person</td>\n",
       "      <td>Date</td>\n",
       "      <td>Date</td>\n",
       "      <td>Priority</td>\n",
       "      <td>Code</td>\n",
       "      <td>Quantity</td>\n",
       "      <td>Price</td>\n",
       "      <td>Percent</td>\n",
       "      <td>Amount</td>\n",
       "      <td>Container</td>\n",
       "    </tr>\n",
       "    <tr>\n",
       "      <th>2</th>\n",
       "      <td>13729</td>\n",
       "      <td>C508</td>\n",
       "      <td>Mr Robert Carlton</td>\n",
       "      <td>2017-01-01 00:00:00</td>\n",
       "      <td>2017-01-03 00:00:00</td>\n",
       "      <td>Not Specified</td>\n",
       "      <td>SKU947</td>\n",
       "      <td>9</td>\n",
       "      <td>95.99</td>\n",
       "      <td>0.08</td>\n",
       "      <td>35</td>\n",
       "      <td>Express Air - Large Box</td>\n",
       "    </tr>\n",
       "    <tr>\n",
       "      <th>3</th>\n",
       "      <td>28774</td>\n",
       "      <td>C372</td>\n",
       "      <td>Miss Roseanna Marr</td>\n",
       "      <td>2017-01-01 00:00:00</td>\n",
       "      <td>2017-01-02 00:00:00</td>\n",
       "      <td>High</td>\n",
       "      <td>SKU937</td>\n",
       "      <td>32</td>\n",
       "      <td>5.98</td>\n",
       "      <td>0.1</td>\n",
       "      <td>4.69</td>\n",
       "      <td>Regular Air - Small Box</td>\n",
       "    </tr>\n",
       "  </tbody>\n",
       "</table>\n",
       "</div>"
      ],
      "text/plain": [
       "      0         1                   2                    3   \\\n",
       "0  Order  Customer               Sales                Order   \n",
       "1     ID        ID              Person                 Date   \n",
       "2  13729      C508   Mr Robert Carlton  2017-01-01 00:00:00   \n",
       "3  28774      C372  Miss Roseanna Marr  2017-01-01 00:00:00   \n",
       "\n",
       "                    4              5       6         7          8         9   \\\n",
       "0                 Ship          Order     SKU     Order  Unit Sell  Discount   \n",
       "1                 Date       Priority    Code  Quantity      Price   Percent   \n",
       "2  2017-01-03 00:00:00  Not Specified  SKU947         9      95.99      0.08   \n",
       "3  2017-01-02 00:00:00           High  SKU937        32       5.98       0.1   \n",
       "\n",
       "         10                       11  \n",
       "0  Shipping                Ship Mode  \n",
       "1    Amount                Container  \n",
       "2        35  Express Air - Large Box  \n",
       "3      4.69  Regular Air - Small Box  "
      ]
     },
     "execution_count": 11,
     "metadata": {},
     "output_type": "execute_result"
    }
   ],
   "source": [
    "xl_file = Path('inputs/Data/sales_2017.xlsx')\n",
    "temp_df = pd.read_excel(xl_file, header=None)\n",
    "head(temp_df)"
   ]
  },
  {
   "cell_type": "code",
   "execution_count": 12,
   "metadata": {
    "ExecuteTime": {
     "end_time": "2021-03-11T11:52:39.776521Z",
     "start_time": "2021-03-11T11:52:39.254498Z"
    }
   },
   "outputs": [
    {
     "name": "stderr",
     "output_type": "stream",
     "text": [
      "2153 rows, 12 columns\n"
     ]
    },
    {
     "data": {
      "text/html": [
       "<div>\n",
       "<style scoped>\n",
       "    .dataframe tbody tr th:only-of-type {\n",
       "        vertical-align: middle;\n",
       "    }\n",
       "\n",
       "    .dataframe tbody tr th {\n",
       "        vertical-align: top;\n",
       "    }\n",
       "\n",
       "    .dataframe thead th {\n",
       "        text-align: right;\n",
       "    }\n",
       "</style>\n",
       "<table border=\"1\" class=\"dataframe\">\n",
       "  <thead>\n",
       "    <tr style=\"text-align: right;\">\n",
       "      <th></th>\n",
       "      <th>Order Id</th>\n",
       "      <th>Customer Id</th>\n",
       "      <th>Sales Person</th>\n",
       "      <th>Order Date</th>\n",
       "      <th>Ship Date</th>\n",
       "      <th>Order Priority</th>\n",
       "      <th>Sku Code</th>\n",
       "      <th>Order Quantity</th>\n",
       "      <th>Unit Sell Price</th>\n",
       "      <th>Discount Percent</th>\n",
       "      <th>Shipping Amount</th>\n",
       "      <th>Ship Mode Container</th>\n",
       "    </tr>\n",
       "  </thead>\n",
       "  <tbody>\n",
       "    <tr>\n",
       "      <th>2</th>\n",
       "      <td>13729</td>\n",
       "      <td>C508</td>\n",
       "      <td>Mr Robert Carlton</td>\n",
       "      <td>2017-01-01</td>\n",
       "      <td>2017-01-03</td>\n",
       "      <td>Not Specified</td>\n",
       "      <td>SKU947</td>\n",
       "      <td>9</td>\n",
       "      <td>95.99</td>\n",
       "      <td>0.08</td>\n",
       "      <td>35.00</td>\n",
       "      <td>Express Air - Large Box</td>\n",
       "    </tr>\n",
       "    <tr>\n",
       "      <th>3</th>\n",
       "      <td>28774</td>\n",
       "      <td>C372</td>\n",
       "      <td>Miss Roseanna Marr</td>\n",
       "      <td>2017-01-01</td>\n",
       "      <td>2017-01-02</td>\n",
       "      <td>High</td>\n",
       "      <td>SKU937</td>\n",
       "      <td>32</td>\n",
       "      <td>5.98</td>\n",
       "      <td>0.10</td>\n",
       "      <td>4.69</td>\n",
       "      <td>Regular Air - Small Box</td>\n",
       "    </tr>\n",
       "    <tr>\n",
       "      <th>4</th>\n",
       "      <td>9285</td>\n",
       "      <td>C212</td>\n",
       "      <td>Mr Robert Carlton</td>\n",
       "      <td>2017-01-02</td>\n",
       "      <td>2017-01-04</td>\n",
       "      <td>Critical</td>\n",
       "      <td>SKU363</td>\n",
       "      <td>3</td>\n",
       "      <td>40.98</td>\n",
       "      <td>0.06</td>\n",
       "      <td>2.99</td>\n",
       "      <td>Regular Air - Small Box</td>\n",
       "    </tr>\n",
       "    <tr>\n",
       "      <th>5</th>\n",
       "      <td>37537</td>\n",
       "      <td>C015</td>\n",
       "      <td>Mr Robert Carlton</td>\n",
       "      <td>2017-01-02</td>\n",
       "      <td>2017-01-02</td>\n",
       "      <td>Low</td>\n",
       "      <td>SKU052</td>\n",
       "      <td>4</td>\n",
       "      <td>291.73</td>\n",
       "      <td>0.00</td>\n",
       "      <td>48.80</td>\n",
       "      <td>Delivery Truck - Jumbo Drum</td>\n",
       "    </tr>\n",
       "  </tbody>\n",
       "</table>\n",
       "</div>"
      ],
      "text/plain": [
       "   Order Id Customer Id        Sales Person Order Date  Ship Date  \\\n",
       "2     13729        C508   Mr Robert Carlton 2017-01-01 2017-01-03   \n",
       "3     28774        C372  Miss Roseanna Marr 2017-01-01 2017-01-02   \n",
       "4      9285        C212   Mr Robert Carlton 2017-01-02 2017-01-04   \n",
       "5     37537        C015   Mr Robert Carlton 2017-01-02 2017-01-02   \n",
       "\n",
       "  Order Priority Sku Code  Order Quantity  Unit Sell Price  Discount Percent  \\\n",
       "2  Not Specified   SKU947               9            95.99              0.08   \n",
       "3           High   SKU937              32             5.98              0.10   \n",
       "4       Critical   SKU363               3            40.98              0.06   \n",
       "5            Low   SKU052               4           291.73              0.00   \n",
       "\n",
       "   Shipping Amount          Ship Mode Container  \n",
       "2            35.00      Express Air - Large Box  \n",
       "3             4.69      Regular Air - Small Box  \n",
       "4             2.99      Regular Air - Small Box  \n",
       "5            48.80  Delivery Truck - Jumbo Drum  "
      ]
     },
     "execution_count": 12,
     "metadata": {},
     "output_type": "execute_result"
    }
   ],
   "source": [
    "%%piper\n",
    "pd.read_excel(xl_file, header=None)\n",
    ">> combine_header_rows()\n",
    ">> head()"
   ]
  },
  {
   "cell_type": "markdown",
   "metadata": {
    "ExecuteTime": {
     "end_time": "2020-08-07T18:34:50.657741Z",
     "start_time": "2020-08-07T18:34:50.654732Z"
    }
   },
   "source": [
    "## count() / counts()"
   ]
  },
  {
   "cell_type": "code",
   "execution_count": 13,
   "metadata": {
    "ExecuteTime": {
     "end_time": "2021-03-11T11:52:39.799706Z",
     "start_time": "2021-03-11T11:52:39.778385Z"
    }
   },
   "outputs": [
    {
     "name": "stderr",
     "output_type": "stream",
     "text": [
      "9 rows, 3 columns\n"
     ]
    },
    {
     "data": {
      "text/html": [
       "<div>\n",
       "<style scoped>\n",
       "    .dataframe tbody tr th:only-of-type {\n",
       "        vertical-align: middle;\n",
       "    }\n",
       "\n",
       "    .dataframe tbody tr th {\n",
       "        vertical-align: top;\n",
       "    }\n",
       "\n",
       "    .dataframe thead th {\n",
       "        text-align: right;\n",
       "    }\n",
       "</style>\n",
       "<table border=\"1\" class=\"dataframe\">\n",
       "  <thead>\n",
       "    <tr style=\"text-align: right;\">\n",
       "      <th></th>\n",
       "      <th>n</th>\n",
       "      <th>%</th>\n",
       "      <th>cum %</th>\n",
       "    </tr>\n",
       "  </thead>\n",
       "  <tbody>\n",
       "    <tr>\n",
       "      <th>title</th>\n",
       "      <td>1300</td>\n",
       "      <td>12.04</td>\n",
       "      <td>12.04</td>\n",
       "    </tr>\n",
       "    <tr>\n",
       "      <th>week</th>\n",
       "      <td>1300</td>\n",
       "      <td>12.04</td>\n",
       "      <td>24.08</td>\n",
       "    </tr>\n",
       "    <tr>\n",
       "      <th>list</th>\n",
       "      <td>1300</td>\n",
       "      <td>12.04</td>\n",
       "      <td>36.12</td>\n",
       "    </tr>\n",
       "    <tr>\n",
       "      <th>rank</th>\n",
       "      <td>1300</td>\n",
       "      <td>12.04</td>\n",
       "      <td>48.17</td>\n",
       "    </tr>\n",
       "  </tbody>\n",
       "</table>\n",
       "</div>"
      ],
      "text/plain": [
       "          n      %  cum %\n",
       "title  1300  12.04  12.04\n",
       "week   1300  12.04  24.08\n",
       "list   1300  12.04  36.12\n",
       "rank   1300  12.04  48.17"
      ]
     },
     "execution_count": 13,
     "metadata": {},
     "output_type": "execute_result"
    }
   ],
   "source": [
    "%piper df >> count() >> head()"
   ]
  },
  {
   "cell_type": "code",
   "execution_count": 14,
   "metadata": {
    "ExecuteTime": {
     "end_time": "2021-03-11T11:52:39.833668Z",
     "start_time": "2021-03-11T11:52:39.801690Z"
    },
    "scrolled": true
   },
   "outputs": [
    {
     "data": {
      "text/html": [
       "<div>\n",
       "<style scoped>\n",
       "    .dataframe tbody tr th:only-of-type {\n",
       "        vertical-align: middle;\n",
       "    }\n",
       "\n",
       "    .dataframe tbody tr th {\n",
       "        vertical-align: top;\n",
       "    }\n",
       "\n",
       "    .dataframe thead th {\n",
       "        text-align: right;\n",
       "    }\n",
       "</style>\n",
       "<table border=\"1\" class=\"dataframe\">\n",
       "  <thead>\n",
       "    <tr style=\"text-align: right;\">\n",
       "      <th></th>\n",
       "      <th>n</th>\n",
       "      <th>%</th>\n",
       "      <th>cum %</th>\n",
       "    </tr>\n",
       "    <tr>\n",
       "      <th>list</th>\n",
       "      <th></th>\n",
       "      <th></th>\n",
       "      <th></th>\n",
       "    </tr>\n",
       "  </thead>\n",
       "  <tbody>\n",
       "    <tr>\n",
       "      <th>Early &amp; Middle</th>\n",
       "      <td>195</td>\n",
       "      <td>15.0</td>\n",
       "      <td>15.0</td>\n",
       "    </tr>\n",
       "    <tr>\n",
       "      <th>Hardcover Fiction</th>\n",
       "      <td>195</td>\n",
       "      <td>15.0</td>\n",
       "      <td>30.0</td>\n",
       "    </tr>\n",
       "    <tr>\n",
       "      <th>Hardcover Nonfiction</th>\n",
       "      <td>195</td>\n",
       "      <td>15.0</td>\n",
       "      <td>45.0</td>\n",
       "    </tr>\n",
       "    <tr>\n",
       "      <th>Trade Paperback Fiction</th>\n",
       "      <td>195</td>\n",
       "      <td>15.0</td>\n",
       "      <td>60.0</td>\n",
       "    </tr>\n",
       "    <tr>\n",
       "      <th>Trade Paperback Nonfiction</th>\n",
       "      <td>195</td>\n",
       "      <td>15.0</td>\n",
       "      <td>75.0</td>\n",
       "    </tr>\n",
       "    <tr>\n",
       "      <th>Young Adult</th>\n",
       "      <td>195</td>\n",
       "      <td>15.0</td>\n",
       "      <td>90.0</td>\n",
       "    </tr>\n",
       "    <tr>\n",
       "      <th>Mass Market</th>\n",
       "      <td>130</td>\n",
       "      <td>10.0</td>\n",
       "      <td>100.0</td>\n",
       "    </tr>\n",
       "  </tbody>\n",
       "</table>\n",
       "</div>"
      ],
      "text/plain": [
       "                              n     %  cum %\n",
       "list                                        \n",
       "Early & Middle              195  15.0   15.0\n",
       "Hardcover Fiction           195  15.0   30.0\n",
       "Hardcover Nonfiction        195  15.0   45.0\n",
       "Trade Paperback Fiction     195  15.0   60.0\n",
       "Trade Paperback Nonfiction  195  15.0   75.0\n",
       "Young Adult                 195  15.0   90.0\n",
       "Mass Market                 130  10.0  100.0"
      ]
     },
     "execution_count": 14,
     "metadata": {},
     "output_type": "execute_result"
    }
   ],
   "source": [
    "count(df.list)"
   ]
  },
  {
   "cell_type": "code",
   "execution_count": 15,
   "metadata": {
    "ExecuteTime": {
     "end_time": "2021-03-11T11:52:39.879319Z",
     "start_time": "2021-03-11T11:52:39.840031Z"
    },
    "scrolled": true
   },
   "outputs": [
    {
     "data": {
      "text/html": [
       "<div>\n",
       "<style scoped>\n",
       "    .dataframe tbody tr th:only-of-type {\n",
       "        vertical-align: middle;\n",
       "    }\n",
       "\n",
       "    .dataframe tbody tr th {\n",
       "        vertical-align: top;\n",
       "    }\n",
       "\n",
       "    .dataframe thead th {\n",
       "        text-align: right;\n",
       "    }\n",
       "</style>\n",
       "<table border=\"1\" class=\"dataframe\">\n",
       "  <thead>\n",
       "    <tr style=\"text-align: right;\">\n",
       "      <th></th>\n",
       "      <th>n</th>\n",
       "      <th>%</th>\n",
       "      <th>cum %</th>\n",
       "    </tr>\n",
       "  </thead>\n",
       "  <tbody>\n",
       "    <tr>\n",
       "      <th>Early &amp; Middle</th>\n",
       "      <td>195</td>\n",
       "      <td>15.0</td>\n",
       "      <td>15.0</td>\n",
       "    </tr>\n",
       "    <tr>\n",
       "      <th>Hardcover Fiction</th>\n",
       "      <td>195</td>\n",
       "      <td>15.0</td>\n",
       "      <td>30.0</td>\n",
       "    </tr>\n",
       "    <tr>\n",
       "      <th>Hardcover Nonfiction</th>\n",
       "      <td>195</td>\n",
       "      <td>15.0</td>\n",
       "      <td>45.0</td>\n",
       "    </tr>\n",
       "    <tr>\n",
       "      <th>Trade Paperback Fiction</th>\n",
       "      <td>195</td>\n",
       "      <td>15.0</td>\n",
       "      <td>60.0</td>\n",
       "    </tr>\n",
       "    <tr>\n",
       "      <th>Trade Paperback Nonfiction</th>\n",
       "      <td>195</td>\n",
       "      <td>15.0</td>\n",
       "      <td>75.0</td>\n",
       "    </tr>\n",
       "    <tr>\n",
       "      <th>Young Adult</th>\n",
       "      <td>195</td>\n",
       "      <td>15.0</td>\n",
       "      <td>90.0</td>\n",
       "    </tr>\n",
       "    <tr>\n",
       "      <th>Mass Market</th>\n",
       "      <td>130</td>\n",
       "      <td>10.0</td>\n",
       "      <td>100.0</td>\n",
       "    </tr>\n",
       "    <tr>\n",
       "      <th>Total</th>\n",
       "      <td>1300</td>\n",
       "      <td>100.0</td>\n",
       "      <td></td>\n",
       "    </tr>\n",
       "  </tbody>\n",
       "</table>\n",
       "</div>"
      ],
      "text/plain": [
       "                               n      %  cum %\n",
       "Early & Middle               195   15.0   15.0\n",
       "Hardcover Fiction            195   15.0   30.0\n",
       "Hardcover Nonfiction         195   15.0   45.0\n",
       "Trade Paperback Fiction      195   15.0   60.0\n",
       "Trade Paperback Nonfiction   195   15.0   75.0\n",
       "Young Adult                  195   15.0   90.0\n",
       "Mass Market                  130   10.0  100.0\n",
       "Total                       1300  100.0       "
      ]
     },
     "execution_count": 15,
     "metadata": {},
     "output_type": "execute_result"
    }
   ],
   "source": [
    "%piper df >> count('list', totals=True)"
   ]
  },
  {
   "cell_type": "code",
   "execution_count": 16,
   "metadata": {
    "ExecuteTime": {
     "end_time": "2021-03-11T11:52:39.903782Z",
     "start_time": "2021-03-11T11:52:39.882954Z"
    },
    "scrolled": true
   },
   "outputs": [
    {
     "data": {
      "text/html": [
       "<div>\n",
       "<style scoped>\n",
       "    .dataframe tbody tr th:only-of-type {\n",
       "        vertical-align: middle;\n",
       "    }\n",
       "\n",
       "    .dataframe tbody tr th {\n",
       "        vertical-align: top;\n",
       "    }\n",
       "\n",
       "    .dataframe thead th {\n",
       "        text-align: right;\n",
       "    }\n",
       "</style>\n",
       "<table border=\"1\" class=\"dataframe\">\n",
       "  <thead>\n",
       "    <tr style=\"text-align: right;\">\n",
       "      <th></th>\n",
       "      <th>n</th>\n",
       "      <th>%</th>\n",
       "      <th>cum %</th>\n",
       "    </tr>\n",
       "  </thead>\n",
       "  <tbody>\n",
       "    <tr>\n",
       "      <th>title</th>\n",
       "      <td>1300</td>\n",
       "      <td>12.04</td>\n",
       "      <td>12.04</td>\n",
       "    </tr>\n",
       "    <tr>\n",
       "      <th>week</th>\n",
       "      <td>1300</td>\n",
       "      <td>12.04</td>\n",
       "      <td>24.08</td>\n",
       "    </tr>\n",
       "    <tr>\n",
       "      <th>list</th>\n",
       "      <td>1300</td>\n",
       "      <td>12.04</td>\n",
       "      <td>36.12</td>\n",
       "    </tr>\n",
       "    <tr>\n",
       "      <th>rank</th>\n",
       "      <td>1300</td>\n",
       "      <td>12.04</td>\n",
       "      <td>48.17</td>\n",
       "    </tr>\n",
       "    <tr>\n",
       "      <th>author</th>\n",
       "      <td>1300</td>\n",
       "      <td>12.04</td>\n",
       "      <td>60.21</td>\n",
       "    </tr>\n",
       "    <tr>\n",
       "      <th>price</th>\n",
       "      <td>1300</td>\n",
       "      <td>12.04</td>\n",
       "      <td>72.25</td>\n",
       "    </tr>\n",
       "    <tr>\n",
       "      <th>isbn</th>\n",
       "      <td>1300</td>\n",
       "      <td>12.04</td>\n",
       "      <td>84.29</td>\n",
       "    </tr>\n",
       "    <tr>\n",
       "      <th>weeks_on_list</th>\n",
       "      <td>910</td>\n",
       "      <td>8.43</td>\n",
       "      <td>92.72</td>\n",
       "    </tr>\n",
       "    <tr>\n",
       "      <th>previous_rank</th>\n",
       "      <td>786</td>\n",
       "      <td>7.28</td>\n",
       "      <td>100.00</td>\n",
       "    </tr>\n",
       "  </tbody>\n",
       "</table>\n",
       "</div>"
      ],
      "text/plain": [
       "                  n      %   cum %\n",
       "title          1300  12.04   12.04\n",
       "week           1300  12.04   24.08\n",
       "list           1300  12.04   36.12\n",
       "rank           1300  12.04   48.17\n",
       "author         1300  12.04   60.21\n",
       "price          1300  12.04   72.25\n",
       "isbn           1300  12.04   84.29\n",
       "weeks_on_list   910   8.43   92.72\n",
       "previous_rank   786   7.28  100.00"
      ]
     },
     "execution_count": 16,
     "metadata": {},
     "output_type": "execute_result"
    }
   ],
   "source": [
    "%%piper \n",
    "count(df)"
   ]
  },
  {
   "cell_type": "code",
   "execution_count": 17,
   "metadata": {
    "ExecuteTime": {
     "end_time": "2021-03-11T11:52:39.944585Z",
     "start_time": "2021-03-11T11:52:39.907544Z"
    }
   },
   "outputs": [
    {
     "data": {
      "text/html": [
       "<div>\n",
       "<style scoped>\n",
       "    .dataframe tbody tr th:only-of-type {\n",
       "        vertical-align: middle;\n",
       "    }\n",
       "\n",
       "    .dataframe tbody tr th {\n",
       "        vertical-align: top;\n",
       "    }\n",
       "\n",
       "    .dataframe thead th {\n",
       "        text-align: right;\n",
       "    }\n",
       "</style>\n",
       "<table border=\"1\" class=\"dataframe\">\n",
       "  <thead>\n",
       "    <tr style=\"text-align: right;\">\n",
       "      <th></th>\n",
       "      <th>list</th>\n",
       "      <th>n</th>\n",
       "      <th>%</th>\n",
       "      <th>cum %</th>\n",
       "    </tr>\n",
       "  </thead>\n",
       "  <tbody>\n",
       "    <tr>\n",
       "      <th>0</th>\n",
       "      <td>Early &amp; Middle</td>\n",
       "      <td>195</td>\n",
       "      <td>15.0</td>\n",
       "      <td>15.0</td>\n",
       "    </tr>\n",
       "    <tr>\n",
       "      <th>1</th>\n",
       "      <td>Hardcover Fiction</td>\n",
       "      <td>195</td>\n",
       "      <td>15.0</td>\n",
       "      <td>30.0</td>\n",
       "    </tr>\n",
       "    <tr>\n",
       "      <th>2</th>\n",
       "      <td>Hardcover Nonfiction</td>\n",
       "      <td>195</td>\n",
       "      <td>15.0</td>\n",
       "      <td>45.0</td>\n",
       "    </tr>\n",
       "    <tr>\n",
       "      <th>3</th>\n",
       "      <td>Trade Paperback Fiction</td>\n",
       "      <td>195</td>\n",
       "      <td>15.0</td>\n",
       "      <td>60.0</td>\n",
       "    </tr>\n",
       "    <tr>\n",
       "      <th>4</th>\n",
       "      <td>Trade Paperback Nonfiction</td>\n",
       "      <td>195</td>\n",
       "      <td>15.0</td>\n",
       "      <td>75.0</td>\n",
       "    </tr>\n",
       "    <tr>\n",
       "      <th>5</th>\n",
       "      <td>Young Adult</td>\n",
       "      <td>195</td>\n",
       "      <td>15.0</td>\n",
       "      <td>90.0</td>\n",
       "    </tr>\n",
       "    <tr>\n",
       "      <th>6</th>\n",
       "      <td>Mass Market</td>\n",
       "      <td>130</td>\n",
       "      <td>10.0</td>\n",
       "      <td>100.0</td>\n",
       "    </tr>\n",
       "  </tbody>\n",
       "</table>\n",
       "</div>"
      ],
      "text/plain": [
       "                         list    n     %  cum %\n",
       "0              Early & Middle  195  15.0   15.0\n",
       "1           Hardcover Fiction  195  15.0   30.0\n",
       "2        Hardcover Nonfiction  195  15.0   45.0\n",
       "3     Trade Paperback Fiction  195  15.0   60.0\n",
       "4  Trade Paperback Nonfiction  195  15.0   75.0\n",
       "5                 Young Adult  195  15.0   90.0\n",
       "6                 Mass Market  130  10.0  100.0"
      ]
     },
     "execution_count": 17,
     "metadata": {},
     "output_type": "execute_result"
    }
   ],
   "source": [
    "%piper df >> count(['list'], percent=True, cum_percent=True, reset_index=True)"
   ]
  },
  {
   "cell_type": "markdown",
   "metadata": {
    "ExecuteTime": {
     "end_time": "2020-08-07T18:34:50.657741Z",
     "start_time": "2020-08-07T18:34:50.654732Z"
    }
   },
   "source": [
    "## assign()"
   ]
  },
  {
   "cell_type": "code",
   "execution_count": 18,
   "metadata": {
    "ExecuteTime": {
     "end_time": "2021-03-11T11:52:39.972180Z",
     "start_time": "2021-03-11T11:52:39.948888Z"
    }
   },
   "outputs": [
    {
     "name": "stderr",
     "output_type": "stream",
     "text": [
      "Use %piper/%%piper --info to see rendered pandas pipe statement\n"
     ]
    },
    {
     "name": "stderr",
     "output_type": "stream",
     "text": [
      "'NoneType' object has no attribute 'pipe'\n"
     ]
    }
   ],
   "source": [
    "%%piper\n",
    "df \n",
    ">> select(slice('title', 'isbn'))\n",
    ">> assign(week=lambda x: pd.to_datetime(x.week),\n",
    "          price=lambda x: x.price.astype(str),\n",
    "          concatenated_field = lambda x: x.title + ' ' + x.list, \n",
    "          price_premium = lambda x: (x.price.astype(float) * 4).round(2)) \n",
    ">> head(4)"
   ]
  },
  {
   "cell_type": "markdown",
   "metadata": {
    "ExecuteTime": {
     "end_time": "2020-08-07T18:34:50.657741Z",
     "start_time": "2020-08-07T18:34:50.654732Z"
    }
   },
   "source": [
    "## to_date()"
   ]
  },
  {
   "cell_type": "markdown",
   "metadata": {
    "ExecuteTime": {
     "end_time": "2020-08-07T18:34:50.657741Z",
     "start_time": "2020-08-07T18:34:50.654732Z"
    }
   },
   "source": [
    "Alternative to using assign for date conversion "
   ]
  },
  {
   "cell_type": "code",
   "execution_count": 19,
   "metadata": {
    "ExecuteTime": {
     "end_time": "2021-03-11T11:52:40.294096Z",
     "start_time": "2021-03-11T11:52:39.975037Z"
    }
   },
   "outputs": [
    {
     "name": "stderr",
     "output_type": "stream",
     "text": [
      "Use %piper/%%piper --info to see rendered pandas pipe statement\n"
     ]
    },
    {
     "name": "stderr",
     "output_type": "stream",
     "text": [
      "name 'to_date' is not defined\n"
     ]
    }
   ],
   "source": [
    "%piper df >> to_date('week', format='%m/%d/%Y') >> head()"
   ]
  },
  {
   "cell_type": "markdown",
   "metadata": {
    "ExecuteTime": {
     "end_time": "2020-08-07T18:34:50.657741Z",
     "start_time": "2020-08-07T18:34:50.654732Z"
    }
   },
   "source": [
    "## relocate()"
   ]
  },
  {
   "cell_type": "code",
   "execution_count": 20,
   "metadata": {
    "ExecuteTime": {
     "end_time": "2021-03-11T11:52:40.337496Z",
     "start_time": "2021-03-11T11:52:40.296217Z"
    }
   },
   "outputs": [
    {
     "name": "stderr",
     "output_type": "stream",
     "text": [
      "Use %piper/%%piper --info to see rendered pandas pipe statement\n"
     ]
    },
    {
     "name": "stderr",
     "output_type": "stream",
     "text": [
      "'NoneType' object has no attribute 'pipe'\n"
     ]
    }
   ],
   "source": [
    "%%piper\n",
    "df >>\n",
    "select(slice('title', 'isbn')) >>\n",
    "assign(week=lambda x: pd.to_datetime(x.week),\n",
    "       price=lambda x: x.price.astype(str),\n",
    "       concatenated_field = lambda x: x.title + ' ' + x.list, \n",
    "       price_premium = lambda x: (x.price.astype(float) * 4).round(2))\n",
    ">> relocate('author', loc='first')\n",
    ">> relocate('isbn', loc='after', ref_column='week')\n",
    ">> relocate(['concatenated_field', 'price_premium'], loc='before', ref_column='isbn')\n",
    ">> head(4)"
   ]
  },
  {
   "cell_type": "markdown",
   "metadata": {
    "ExecuteTime": {
     "end_time": "2020-08-07T18:34:50.657741Z",
     "start_time": "2020-08-07T18:34:50.654732Z"
    }
   },
   "source": [
    "## where()"
   ]
  },
  {
   "cell_type": "markdown",
   "metadata": {
    "ExecuteTime": {
     "end_time": "2020-08-07T18:34:50.657741Z",
     "start_time": "2020-08-07T18:34:50.654732Z"
    }
   },
   "source": [
    "### ==, between, isin, startswith, endswith, contains etc."
   ]
  },
  {
   "cell_type": "markdown",
   "metadata": {},
   "source": [
    "Note how you can mix and match where clauses with assignments and add additional where clauses when needed."
   ]
  },
  {
   "cell_type": "code",
   "execution_count": 21,
   "metadata": {
    "ExecuteTime": {
     "end_time": "2021-03-11T11:52:40.389015Z",
     "start_time": "2021-03-11T11:52:40.340956Z"
    }
   },
   "outputs": [
    {
     "name": "stderr",
     "output_type": "stream",
     "text": [
      "Use %piper/%%piper --info to see rendered pandas pipe statement\n"
     ]
    },
    {
     "name": "stderr",
     "output_type": "stream",
     "text": [
      "'NoneType' object has no attribute 'pipe'\n"
     ]
    }
   ],
   "source": [
    "%%piper\n",
    "df \n",
    ">> select(slice('title', 'isbn')) \n",
    ">> where(\" author.str.strip() == 'R.J. Palacio' \")\n",
    ">> assign(week=lambda x: pd.to_datetime(x.week),\n",
    "          price=lambda x: x.price.astype(str))\n",
    ">> where(\" rank.between(2, 4) & price.astype('float').between(14, 17) \")\n",
    ">> head(2)"
   ]
  },
  {
   "cell_type": "code",
   "execution_count": 22,
   "metadata": {
    "ExecuteTime": {
     "end_time": "2021-03-11T11:52:40.415109Z",
     "start_time": "2021-03-11T11:52:40.390868Z"
    }
   },
   "outputs": [
    {
     "name": "stderr",
     "output_type": "stream",
     "text": [
      "Use %piper/%%piper --info to see rendered pandas pipe statement\n"
     ]
    },
    {
     "name": "stderr",
     "output_type": "stream",
     "text": [
      "'NoneType' object has no attribute 'pipe'\n"
     ]
    }
   ],
   "source": [
    "%%piper\n",
    "df >> select(slice('title', 'isbn'))\n",
    ">> rename(columns={'list': 'list_'}) \n",
    ">> where(\" list_.isin(['Early & Middle', 'Trade Paperback Nonfiction']) \") \n",
    ">> head(4)"
   ]
  },
  {
   "cell_type": "code",
   "execution_count": 23,
   "metadata": {
    "ExecuteTime": {
     "end_time": "2021-03-11T11:52:40.449168Z",
     "start_time": "2021-03-11T11:52:40.416990Z"
    }
   },
   "outputs": [
    {
     "name": "stderr",
     "output_type": "stream",
     "text": [
      "Use %piper/%%piper --info to see rendered pandas pipe statement\n"
     ]
    },
    {
     "name": "stderr",
     "output_type": "stream",
     "text": [
      "'NoneType' object has no attribute 'pipe'\n"
     ]
    }
   ],
   "source": [
    "%%piper\n",
    "df >> select(slice('title', 'isbn'))\n",
    ">> rename(columns={'list': 'list_'}) \n",
    ">> where(\" list_.str.startswith('Early') | list_.str.endswith('ion') \") \n",
    ">> head(2)"
   ]
  },
  {
   "cell_type": "code",
   "execution_count": 24,
   "metadata": {
    "ExecuteTime": {
     "end_time": "2021-03-11T11:52:40.497204Z",
     "start_time": "2021-03-11T11:52:40.457418Z"
    }
   },
   "outputs": [
    {
     "name": "stderr",
     "output_type": "stream",
     "text": [
      "Use %piper/%%piper --info to see rendered pandas pipe statement\n"
     ]
    },
    {
     "name": "stderr",
     "output_type": "stream",
     "text": [
      "'NoneType' object has no attribute 'pipe'\n"
     ]
    }
   ],
   "source": [
    "%%piper\n",
    "df >> select(slice('title', 'isbn'))\n",
    ">> rename(columns={'list': 'list_'}) \n",
    ">> where(\" list_.str.lower().str.contains('young') \")\n",
    ">> head(4)"
   ]
  },
  {
   "cell_type": "markdown",
   "metadata": {
    "ExecuteTime": {
     "end_time": "2020-08-07T18:34:50.657741Z",
     "start_time": "2020-08-07T18:34:50.654732Z"
    }
   },
   "source": [
    "## distinct()"
   ]
  },
  {
   "cell_type": "code",
   "execution_count": 25,
   "metadata": {
    "ExecuteTime": {
     "end_time": "2021-03-11T11:52:40.532400Z",
     "start_time": "2021-03-11T11:52:40.501106Z"
    }
   },
   "outputs": [
    {
     "name": "stderr",
     "output_type": "stream",
     "text": [
      "229 rows, 9 columns\n"
     ]
    },
    {
     "data": {
      "text/html": [
       "<div>\n",
       "<style scoped>\n",
       "    .dataframe tbody tr th:only-of-type {\n",
       "        vertical-align: middle;\n",
       "    }\n",
       "\n",
       "    .dataframe tbody tr th {\n",
       "        vertical-align: top;\n",
       "    }\n",
       "\n",
       "    .dataframe thead th {\n",
       "        text-align: right;\n",
       "    }\n",
       "</style>\n",
       "<table border=\"1\" class=\"dataframe\">\n",
       "  <thead>\n",
       "    <tr style=\"text-align: right;\">\n",
       "      <th></th>\n",
       "      <th>title</th>\n",
       "      <th>week</th>\n",
       "      <th>list</th>\n",
       "      <th>rank</th>\n",
       "      <th>author</th>\n",
       "      <th>price</th>\n",
       "      <th>isbn</th>\n",
       "      <th>previous_rank</th>\n",
       "      <th>weeks_on_list</th>\n",
       "    </tr>\n",
       "  </thead>\n",
       "  <tbody>\n",
       "    <tr>\n",
       "      <th>0</th>\n",
       "      <td>A Wrinkle in Time</td>\n",
       "      <td>2/14/2018</td>\n",
       "      <td>Early &amp; Middle</td>\n",
       "      <td>1</td>\n",
       "      <td>Madeleine L'Engle</td>\n",
       "      <td>8.99</td>\n",
       "      <td>9781250153272</td>\n",
       "      <td>NaN</td>\n",
       "      <td>NaN</td>\n",
       "    </tr>\n",
       "    <tr>\n",
       "      <th>1</th>\n",
       "      <td>Wonder</td>\n",
       "      <td>2/14/2018</td>\n",
       "      <td>Early &amp; Middle</td>\n",
       "      <td>2</td>\n",
       "      <td>R.J. Palacio</td>\n",
       "      <td>16.99</td>\n",
       "      <td>9781524720193</td>\n",
       "      <td>NaN</td>\n",
       "      <td>NaN</td>\n",
       "    </tr>\n",
       "    <tr>\n",
       "      <th>2</th>\n",
       "      <td>Auggie &amp; Me</td>\n",
       "      <td>2/14/2018</td>\n",
       "      <td>Early &amp; Middle</td>\n",
       "      <td>3</td>\n",
       "      <td>R.J. Palacio</td>\n",
       "      <td>16.99</td>\n",
       "      <td>9781101934852</td>\n",
       "      <td>NaN</td>\n",
       "      <td>NaN</td>\n",
       "    </tr>\n",
       "    <tr>\n",
       "      <th>3</th>\n",
       "      <td>The Girl Who Drank the Moon</td>\n",
       "      <td>2/14/2018</td>\n",
       "      <td>Early &amp; Middle</td>\n",
       "      <td>4</td>\n",
       "      <td>Kelly Barnhill</td>\n",
       "      <td>16.95</td>\n",
       "      <td>9781616205676</td>\n",
       "      <td>NaN</td>\n",
       "      <td>NaN</td>\n",
       "    </tr>\n",
       "  </tbody>\n",
       "</table>\n",
       "</div>"
      ],
      "text/plain": [
       "                         title       week            list  rank  \\\n",
       "0            A Wrinkle in Time  2/14/2018  Early & Middle     1   \n",
       "1                       Wonder  2/14/2018  Early & Middle     2   \n",
       "2                  Auggie & Me  2/14/2018  Early & Middle     3   \n",
       "3  The Girl Who Drank the Moon  2/14/2018  Early & Middle     4   \n",
       "\n",
       "              author  price           isbn  previous_rank  weeks_on_list  \n",
       "0  Madeleine L'Engle   8.99  9781250153272            NaN            NaN  \n",
       "1       R.J. Palacio  16.99  9781524720193            NaN            NaN  \n",
       "2       R.J. Palacio  16.99  9781101934852            NaN            NaN  \n",
       "3     Kelly Barnhill  16.95  9781616205676            NaN            NaN  "
      ]
     },
     "execution_count": 25,
     "metadata": {},
     "output_type": "execute_result"
    }
   ],
   "source": [
    "%piper df >> distinct('isbn') >> head()"
   ]
  },
  {
   "cell_type": "markdown",
   "metadata": {
    "ExecuteTime": {
     "end_time": "2020-08-07T18:34:50.657741Z",
     "start_time": "2020-08-07T18:34:50.654732Z"
    }
   },
   "source": [
    "## group_by()"
   ]
  },
  {
   "cell_type": "code",
   "execution_count": 26,
   "metadata": {
    "ExecuteTime": {
     "end_time": "2021-03-11T11:52:40.587002Z",
     "start_time": "2021-03-11T11:52:40.533979Z"
    },
    "scrolled": true
   },
   "outputs": [
    {
     "name": "stderr",
     "output_type": "stream",
     "text": [
      "225 rows, 2 columns\n"
     ]
    },
    {
     "data": {
      "text/html": [
       "<div>\n",
       "<style scoped>\n",
       "    .dataframe tbody tr th:only-of-type {\n",
       "        vertical-align: middle;\n",
       "    }\n",
       "\n",
       "    .dataframe tbody tr th {\n",
       "        vertical-align: top;\n",
       "    }\n",
       "\n",
       "    .dataframe thead th {\n",
       "        text-align: right;\n",
       "    }\n",
       "</style>\n",
       "<table border=\"1\" class=\"dataframe\">\n",
       "  <thead>\n",
       "    <tr style=\"text-align: right;\">\n",
       "      <th></th>\n",
       "      <th>title</th>\n",
       "      <th>author</th>\n",
       "      <th>mean_price</th>\n",
       "      <th>mean_price_times_something</th>\n",
       "    </tr>\n",
       "  </thead>\n",
       "  <tbody>\n",
       "    <tr>\n",
       "      <th>0</th>\n",
       "      <td>Feel Free</td>\n",
       "      <td>Zadie Smith</td>\n",
       "      <td>28.00</td>\n",
       "      <td>84.00</td>\n",
       "    </tr>\n",
       "    <tr>\n",
       "      <th>1</th>\n",
       "      <td>Leonardo da Vinci</td>\n",
       "      <td>Walter Isaacson</td>\n",
       "      <td>35.00</td>\n",
       "      <td>105.00</td>\n",
       "    </tr>\n",
       "    <tr>\n",
       "      <th>2</th>\n",
       "      <td>The Sympathizer</td>\n",
       "      <td>Viet Thanh Nguyen</td>\n",
       "      <td>16.00</td>\n",
       "      <td>48.00</td>\n",
       "    </tr>\n",
       "    <tr>\n",
       "      <th>3</th>\n",
       "      <td>Roller Girl</td>\n",
       "      <td>Victoria Jamieson</td>\n",
       "      <td>12.99</td>\n",
       "      <td>38.97</td>\n",
       "    </tr>\n",
       "    <tr>\n",
       "      <th>4</th>\n",
       "      <td>All's Faire in Middle School</td>\n",
       "      <td>Victoria Jamieson</td>\n",
       "      <td>12.99</td>\n",
       "      <td>38.97</td>\n",
       "    </tr>\n",
       "  </tbody>\n",
       "</table>\n",
       "</div>"
      ],
      "text/plain": [
       "                          title             author  mean_price  \\\n",
       "0                     Feel Free        Zadie Smith       28.00   \n",
       "1             Leonardo da Vinci    Walter Isaacson       35.00   \n",
       "2               The Sympathizer  Viet Thanh Nguyen       16.00   \n",
       "3                   Roller Girl  Victoria Jamieson       12.99   \n",
       "4  All's Faire in Middle School  Victoria Jamieson       12.99   \n",
       "\n",
       "   mean_price_times_something  \n",
       "0                       84.00  \n",
       "1                      105.00  \n",
       "2                       48.00  \n",
       "3                       38.97  \n",
       "4                       38.97  "
      ]
     },
     "execution_count": 26,
     "metadata": {},
     "output_type": "execute_result"
    }
   ],
   "source": [
    "%%piper\n",
    "df \n",
    ">> group_by(['title', 'author'])\n",
    ">> summarise(mean_price=('price', 'mean')) \n",
    ">> assign(mean_price_times_something=lambda x: x.mean_price * 3) \n",
    ">> order_by(['author', 'title'], ascending=[False, False])\n",
    ">> head(5).reset_index()"
   ]
  },
  {
   "cell_type": "markdown",
   "metadata": {
    "ExecuteTime": {
     "end_time": "2020-08-07T18:34:50.657741Z",
     "start_time": "2020-08-07T18:34:50.654732Z"
    }
   },
   "source": [
    "### compress rows to a list / explode list"
   ]
  },
  {
   "cell_type": "code",
   "execution_count": 27,
   "metadata": {
    "ExecuteTime": {
     "end_time": "2021-03-11T11:52:40.628628Z",
     "start_time": "2021-03-11T11:52:40.589286Z"
    },
    "scrolled": true
   },
   "outputs": [
    {
     "name": "stderr",
     "output_type": "stream",
     "text": [
      "7 rows, 1 columns\n"
     ]
    },
    {
     "data": {
      "text/html": [
       "<div>\n",
       "<style scoped>\n",
       "    .dataframe tbody tr th:only-of-type {\n",
       "        vertical-align: middle;\n",
       "    }\n",
       "\n",
       "    .dataframe tbody tr th {\n",
       "        vertical-align: top;\n",
       "    }\n",
       "\n",
       "    .dataframe thead th {\n",
       "        text-align: right;\n",
       "    }\n",
       "</style>\n",
       "<table border=\"1\" class=\"dataframe\">\n",
       "  <thead>\n",
       "    <tr style=\"text-align: right;\">\n",
       "      <th></th>\n",
       "      <th>author</th>\n",
       "    </tr>\n",
       "    <tr>\n",
       "      <th>list</th>\n",
       "      <th></th>\n",
       "    </tr>\n",
       "  </thead>\n",
       "  <tbody>\n",
       "    <tr>\n",
       "      <th>Early &amp; Middle</th>\n",
       "      <td>[Madeleine L'Engle, R.J. Palacio, R.J. Palacio, Kelly Barnhill, Raina Telgemeier, Kimberly Brubaker Bradley, Raina T...</td>\n",
       "    </tr>\n",
       "    <tr>\n",
       "      <th>Hardcover Fiction</th>\n",
       "      <td>[Kristin Hannah, Tayari Jones, A.J. Finn, Amor Towles, Chloe Benjamin, Celeste Ng, Jesmyn Ward, Jojo Moyes, Dan Brow...</td>\n",
       "    </tr>\n",
       "    <tr>\n",
       "      <th>Hardcover Nonfiction</th>\n",
       "      <td>[Michael Wolff, Neil deGrasse Tyson, Mark Manson, Walter Isaacson, Tiffany Haddish, Dave Eggers, David Grann, Pete S...</td>\n",
       "    </tr>\n",
       "    <tr>\n",
       "      <th>Mass Market</th>\n",
       "      <td>[Lee Child, Ernest Cline, John Grisham, James Patterson, Michael Crichton, Liane Moriarty, Danielle Steel, Brian Kil...</td>\n",
       "    </tr>\n",
       "    <tr>\n",
       "      <th>Trade Paperback Fiction</th>\n",
       "      <td>[Colson Whitehead, George Saunders, Min Jin Lee, Jessica Shattuck, Ruth Ware, Georgia Hunter, Fredrik Backman, Antho...</td>\n",
       "    </tr>\n",
       "    <tr>\n",
       "      <th>Trade Paperback Nonfiction</th>\n",
       "      <td>[Jen Sincero, Peter Frankopan, Doug Stanton, Jonah Berger, Atul Gawande, Douglas J. Preston, Harvard Business School...</td>\n",
       "    </tr>\n",
       "  </tbody>\n",
       "</table>\n",
       "</div>"
      ],
      "text/plain": [
       "                                                                                                                                             author\n",
       "list                                                                                                                                               \n",
       "Early & Middle              [Madeleine L'Engle, R.J. Palacio, R.J. Palacio, Kelly Barnhill, Raina Telgemeier, Kimberly Brubaker Bradley, Raina T...\n",
       "Hardcover Fiction           [Kristin Hannah, Tayari Jones, A.J. Finn, Amor Towles, Chloe Benjamin, Celeste Ng, Jesmyn Ward, Jojo Moyes, Dan Brow...\n",
       "Hardcover Nonfiction        [Michael Wolff, Neil deGrasse Tyson, Mark Manson, Walter Isaacson, Tiffany Haddish, Dave Eggers, David Grann, Pete S...\n",
       "Mass Market                 [Lee Child, Ernest Cline, John Grisham, James Patterson, Michael Crichton, Liane Moriarty, Danielle Steel, Brian Kil...\n",
       "Trade Paperback Fiction     [Colson Whitehead, George Saunders, Min Jin Lee, Jessica Shattuck, Ruth Ware, Georgia Hunter, Fredrik Backman, Antho...\n",
       "Trade Paperback Nonfiction  [Jen Sincero, Peter Frankopan, Doug Stanton, Jonah Berger, Atul Gawande, Douglas J. Preston, Harvard Business School..."
      ]
     },
     "execution_count": 27,
     "metadata": {},
     "output_type": "execute_result"
    }
   ],
   "source": [
    "%%piper\n",
    "df >> group_by('list')\n",
    ">> summarise({'author': lambda x: x.tolist()})\n",
    "# >> explode('author')  \n",
    ">> head(6)"
   ]
  },
  {
   "cell_type": "markdown",
   "metadata": {
    "ExecuteTime": {
     "end_time": "2020-08-07T18:34:50.657741Z",
     "start_time": "2020-08-07T18:34:50.654732Z"
    }
   },
   "source": [
    "## summarise()"
   ]
  },
  {
   "cell_type": "code",
   "execution_count": 28,
   "metadata": {
    "ExecuteTime": {
     "end_time": "2021-03-11T11:52:40.643410Z",
     "start_time": "2021-03-11T11:52:40.631034Z"
    }
   },
   "outputs": [
    {
     "name": "stderr",
     "output_type": "stream",
     "text": [
      "Use %piper/%%piper --info to see rendered pandas pipe statement\n"
     ]
    },
    {
     "name": "stderr",
     "output_type": "stream",
     "text": [
      "name 'get_sample_data' is not defined\n"
     ]
    }
   ],
   "source": [
    "%%piper \n",
    "get_sample_data() \n",
    ">> select('-dates')\n",
    ">> summarise({'values_1': 'sum', 'values_2': 'sum'})"
   ]
  },
  {
   "cell_type": "code",
   "execution_count": 29,
   "metadata": {
    "ExecuteTime": {
     "end_time": "2021-03-11T11:52:40.699302Z",
     "start_time": "2021-03-11T11:52:40.645581Z"
    }
   },
   "outputs": [
    {
     "name": "stderr",
     "output_type": "stream",
     "text": [
      "Use %piper/%%piper --info to see rendered pandas pipe statement\n"
     ]
    },
    {
     "name": "stderr",
     "output_type": "stream",
     "text": [
      "name 'get_sample_data' is not defined\n"
     ]
    }
   ],
   "source": [
    "%%piper \n",
    "get_sample_data() \n",
    ">> select('-dates')\n",
    ">> where(\"regions.isin(['North', 'South'])\")\n",
    ">> group_by(['regions', 'countries'])\n",
    ">> summarise({'values_1': 'sum', 'values_2': 'sum'})\n",
    ">> rename(columns={'values_1': 'totval1', 'values_2': 'totval2'})\n",
    ">> assign(pcent_val1 = lambda x: (x.totval1 * 100/x.totval1.sum()).round(2),\n",
    "           grp_pcent = lambda x: x.groupby(['regions'])['totval2'].transform(lambda x: (x*100/x.sum()).round(2))\n",
    "         )\n",
    ">> head(10)"
   ]
  },
  {
   "cell_type": "markdown",
   "metadata": {
    "ExecuteTime": {
     "end_time": "2020-08-07T18:34:50.657741Z",
     "start_time": "2020-08-07T18:34:50.654732Z"
    }
   },
   "source": [
    "## pivot_table()"
   ]
  },
  {
   "cell_type": "code",
   "execution_count": 30,
   "metadata": {
    "ExecuteTime": {
     "end_time": "2021-03-11T11:52:40.717193Z",
     "start_time": "2021-03-11T11:52:40.700866Z"
    },
    "scrolled": true
   },
   "outputs": [
    {
     "name": "stderr",
     "output_type": "stream",
     "text": [
      "1300 rows, 9 columns\n"
     ]
    },
    {
     "data": {
      "text/html": [
       "<div>\n",
       "<style scoped>\n",
       "    .dataframe tbody tr th:only-of-type {\n",
       "        vertical-align: middle;\n",
       "    }\n",
       "\n",
       "    .dataframe tbody tr th {\n",
       "        vertical-align: top;\n",
       "    }\n",
       "\n",
       "    .dataframe thead th {\n",
       "        text-align: right;\n",
       "    }\n",
       "</style>\n",
       "<table border=\"1\" class=\"dataframe\">\n",
       "  <thead>\n",
       "    <tr style=\"text-align: right;\">\n",
       "      <th></th>\n",
       "      <th>title</th>\n",
       "      <th>week</th>\n",
       "      <th>list</th>\n",
       "      <th>rank</th>\n",
       "      <th>author</th>\n",
       "      <th>price</th>\n",
       "      <th>isbn</th>\n",
       "      <th>previous_rank</th>\n",
       "      <th>weeks_on_list</th>\n",
       "    </tr>\n",
       "  </thead>\n",
       "  <tbody>\n",
       "    <tr>\n",
       "      <th>0</th>\n",
       "      <td>A Wrinkle in Time</td>\n",
       "      <td>2/14/2018</td>\n",
       "      <td>Early &amp; Middle</td>\n",
       "      <td>1</td>\n",
       "      <td>Madeleine L'Engle</td>\n",
       "      <td>8.99</td>\n",
       "      <td>9781250153272</td>\n",
       "      <td>NaN</td>\n",
       "      <td>NaN</td>\n",
       "    </tr>\n",
       "    <tr>\n",
       "      <th>1</th>\n",
       "      <td>Wonder</td>\n",
       "      <td>2/14/2018</td>\n",
       "      <td>Early &amp; Middle</td>\n",
       "      <td>2</td>\n",
       "      <td>R.J. Palacio</td>\n",
       "      <td>16.99</td>\n",
       "      <td>9781524720193</td>\n",
       "      <td>NaN</td>\n",
       "      <td>NaN</td>\n",
       "    </tr>\n",
       "    <tr>\n",
       "      <th>2</th>\n",
       "      <td>Auggie &amp; Me</td>\n",
       "      <td>2/14/2018</td>\n",
       "      <td>Early &amp; Middle</td>\n",
       "      <td>3</td>\n",
       "      <td>R.J. Palacio</td>\n",
       "      <td>16.99</td>\n",
       "      <td>9781101934852</td>\n",
       "      <td>NaN</td>\n",
       "      <td>NaN</td>\n",
       "    </tr>\n",
       "    <tr>\n",
       "      <th>3</th>\n",
       "      <td>The Girl Who Drank the Moon</td>\n",
       "      <td>2/14/2018</td>\n",
       "      <td>Early &amp; Middle</td>\n",
       "      <td>4</td>\n",
       "      <td>Kelly Barnhill</td>\n",
       "      <td>16.95</td>\n",
       "      <td>9781616205676</td>\n",
       "      <td>NaN</td>\n",
       "      <td>NaN</td>\n",
       "    </tr>\n",
       "  </tbody>\n",
       "</table>\n",
       "</div>"
      ],
      "text/plain": [
       "                         title       week            list  rank  \\\n",
       "0            A Wrinkle in Time  2/14/2018  Early & Middle     1   \n",
       "1                       Wonder  2/14/2018  Early & Middle     2   \n",
       "2                  Auggie & Me  2/14/2018  Early & Middle     3   \n",
       "3  The Girl Who Drank the Moon  2/14/2018  Early & Middle     4   \n",
       "\n",
       "              author  price           isbn  previous_rank  weeks_on_list  \n",
       "0  Madeleine L'Engle   8.99  9781250153272            NaN            NaN  \n",
       "1       R.J. Palacio  16.99  9781524720193            NaN            NaN  \n",
       "2       R.J. Palacio  16.99  9781101934852            NaN            NaN  \n",
       "3     Kelly Barnhill  16.95  9781616205676            NaN            NaN  "
      ]
     },
     "execution_count": 30,
     "metadata": {},
     "output_type": "execute_result"
    }
   ],
   "source": [
    "head(df)"
   ]
  },
  {
   "cell_type": "code",
   "execution_count": 31,
   "metadata": {
    "ExecuteTime": {
     "end_time": "2021-03-11T11:52:40.725277Z",
     "start_time": "2021-03-11T11:52:40.721798Z"
    }
   },
   "outputs": [],
   "source": [
    "index = ['list']\n",
    "values=['rank', 'price']"
   ]
  },
  {
   "cell_type": "code",
   "execution_count": 32,
   "metadata": {
    "ExecuteTime": {
     "end_time": "2021-03-11T11:52:40.781978Z",
     "start_time": "2021-03-11T11:52:40.726918Z"
    }
   },
   "outputs": [
    {
     "name": "stderr",
     "output_type": "stream",
     "text": [
      "Use %piper/%%piper --info to see rendered pandas pipe statement\n"
     ]
    },
    {
     "name": "stderr",
     "output_type": "stream",
     "text": [
      "name 'pivot_table' is not defined\n"
     ]
    }
   ],
   "source": [
    "%%piper\n",
    "\n",
    "df\n",
    ">> pivot_table(index=index, values=values, margins=True, fill_value=0,\n",
    "               aggfunc={'rank': 'count', 'price': np.mean})\n",
    ">> rename(columns={'price': 'mean_price', 'rank': 'total_rows'})\n",
    ">> assign(mean_price=lambda x: x.mean_price.round(2)).reset_index()\n",
    ">> head(4)"
   ]
  },
  {
   "cell_type": "code",
   "execution_count": null,
   "metadata": {},
   "outputs": [],
   "source": []
  },
  {
   "cell_type": "code",
   "execution_count": null,
   "metadata": {},
   "outputs": [],
   "source": []
  },
  {
   "cell_type": "code",
   "execution_count": null,
   "metadata": {},
   "outputs": [],
   "source": []
  },
  {
   "cell_type": "code",
   "execution_count": null,
   "metadata": {},
   "outputs": [],
   "source": []
  }
 ],
 "metadata": {
  "hide_input": false,
  "kernelspec": {
   "display_name": "Python 3",
   "language": "python",
   "name": "python3"
  },
  "language_info": {
   "codemirror_mode": {
    "name": "ipython",
    "version": 3
   },
   "file_extension": ".py",
   "mimetype": "text/x-python",
   "name": "python",
   "nbconvert_exporter": "python",
   "pygments_lexer": "ipython3",
   "version": "3.8.5"
  },
  "toc": {
   "base_numbering": 1,
   "nav_menu": {},
   "number_sections": true,
   "sideBar": true,
   "skip_h1_title": false,
   "title_cell": "Table of Contents",
   "title_sidebar": "Contents",
   "toc_cell": false,
   "toc_position": {
    "height": "calc(100% - 180px)",
    "left": "10px",
    "top": "150px",
    "width": "229.333px"
   },
   "toc_section_display": true,
   "toc_window_display": true
  }
 },
 "nbformat": 4,
 "nbformat_minor": 4
}
