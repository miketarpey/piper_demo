{
 "cells": [
  {
   "cell_type": "markdown",
   "metadata": {
    "ExecuteTime": {
     "end_time": "2020-08-07T18:34:50.657741Z",
     "start_time": "2020-08-07T18:34:50.654732Z"
    }
   },
   "source": [
    "# Setup"
   ]
  },
  {
   "cell_type": "code",
   "execution_count": 1,
   "metadata": {
    "ExecuteTime": {
     "end_time": "2021-02-26T15:13:20.204050Z",
     "start_time": "2021-02-26T15:13:19.861867Z"
    }
   },
   "outputs": [
    {
     "name": "stderr",
     "output_type": "stream",
     "text": [
      "piper version 0.0.7, last run: Friday, 26 February 2021 15:13:19\n"
     ]
    }
   ],
   "source": [
    "from piper import piper\n",
    "from piper.verbs import *\n",
    "from piper.factory import get_sample_data"
   ]
  },
  {
   "cell_type": "markdown",
   "metadata": {
    "ExecuteTime": {
     "end_time": "2020-08-07T18:34:50.657741Z",
     "start_time": "2020-08-07T18:34:50.654732Z"
    }
   },
   "source": [
    "# Importing data into a dataframe"
   ]
  },
  {
   "cell_type": "code",
   "execution_count": 2,
   "metadata": {
    "ExecuteTime": {
     "end_time": "2021-02-26T15:13:20.237372Z",
     "start_time": "2021-02-26T15:13:20.206243Z"
    }
   },
   "outputs": [
    {
     "name": "stderr",
     "output_type": "stream",
     "text": [
      "367 rows, 7 columns\n"
     ]
    },
    {
     "data": {
      "text/html": [
       "<div>\n",
       "<style scoped>\n",
       "    .dataframe tbody tr th:only-of-type {\n",
       "        vertical-align: middle;\n",
       "    }\n",
       "\n",
       "    .dataframe tbody tr th {\n",
       "        vertical-align: top;\n",
       "    }\n",
       "\n",
       "    .dataframe thead th {\n",
       "        text-align: right;\n",
       "    }\n",
       "</style>\n",
       "<table border=\"1\" class=\"dataframe\">\n",
       "  <thead>\n",
       "    <tr style=\"text-align: right;\">\n",
       "      <th></th>\n",
       "      <th>dates</th>\n",
       "      <th>order_dates</th>\n",
       "      <th>countries</th>\n",
       "      <th>regions</th>\n",
       "      <th>ids</th>\n",
       "      <th>values_1</th>\n",
       "      <th>values_2</th>\n",
       "    </tr>\n",
       "  </thead>\n",
       "  <tbody>\n",
       "    <tr>\n",
       "      <th>0</th>\n",
       "      <td>2020-01-01</td>\n",
       "      <td>2020-01-07</td>\n",
       "      <td>Italy</td>\n",
       "      <td>East</td>\n",
       "      <td>A</td>\n",
       "      <td>311</td>\n",
       "      <td>26</td>\n",
       "    </tr>\n",
       "    <tr>\n",
       "      <th>1</th>\n",
       "      <td>2020-01-02</td>\n",
       "      <td>2020-01-08</td>\n",
       "      <td>Portugal</td>\n",
       "      <td>South</td>\n",
       "      <td>D</td>\n",
       "      <td>150</td>\n",
       "      <td>375</td>\n",
       "    </tr>\n",
       "    <tr>\n",
       "      <th>2</th>\n",
       "      <td>2020-01-03</td>\n",
       "      <td>2020-01-09</td>\n",
       "      <td>Spain</td>\n",
       "      <td>East</td>\n",
       "      <td>A</td>\n",
       "      <td>396</td>\n",
       "      <td>88</td>\n",
       "    </tr>\n",
       "    <tr>\n",
       "      <th>3</th>\n",
       "      <td>2020-01-04</td>\n",
       "      <td>2020-01-10</td>\n",
       "      <td>Italy</td>\n",
       "      <td>East</td>\n",
       "      <td>B</td>\n",
       "      <td>319</td>\n",
       "      <td>233</td>\n",
       "    </tr>\n",
       "  </tbody>\n",
       "</table>\n",
       "</div>"
      ],
      "text/plain": [
       "       dates order_dates countries regions ids  values_1  values_2\n",
       "0 2020-01-01  2020-01-07     Italy    East   A       311        26\n",
       "1 2020-01-02  2020-01-08  Portugal   South   D       150       375\n",
       "2 2020-01-03  2020-01-09     Spain    East   A       396        88\n",
       "3 2020-01-04  2020-01-10     Italy    East   B       319       233"
      ]
     },
     "execution_count": 2,
     "metadata": {},
     "output_type": "execute_result"
    }
   ],
   "source": [
    "%piper df <- get_sample_data()\n",
    "%piper df >> head()"
   ]
  },
  {
   "cell_type": "markdown",
   "metadata": {
    "ExecuteTime": {
     "end_time": "2020-08-07T18:34:50.657741Z",
     "start_time": "2020-08-07T18:34:50.654732Z"
    }
   },
   "source": [
    "## count() / counts()"
   ]
  },
  {
   "cell_type": "code",
   "execution_count": 3,
   "metadata": {
    "ExecuteTime": {
     "end_time": "2021-02-26T15:13:20.274752Z",
     "start_time": "2021-02-26T15:13:20.247230Z"
    },
    "scrolled": true
   },
   "outputs": [
    {
     "name": "stderr",
     "output_type": "stream",
     "text": [
      "9 rows, 3 columns\n"
     ]
    },
    {
     "data": {
      "text/html": [
       "<div>\n",
       "<style scoped>\n",
       "    .dataframe tbody tr th:only-of-type {\n",
       "        vertical-align: middle;\n",
       "    }\n",
       "\n",
       "    .dataframe tbody tr th {\n",
       "        vertical-align: top;\n",
       "    }\n",
       "\n",
       "    .dataframe thead th {\n",
       "        text-align: right;\n",
       "    }\n",
       "</style>\n",
       "<table border=\"1\" class=\"dataframe\">\n",
       "  <thead>\n",
       "    <tr style=\"text-align: right;\">\n",
       "      <th></th>\n",
       "      <th>countries</th>\n",
       "      <th>n</th>\n",
       "      <th>All</th>\n",
       "    </tr>\n",
       "  </thead>\n",
       "  <tbody>\n",
       "    <tr>\n",
       "      <th>0</th>\n",
       "      <td>France</td>\n",
       "      <td>56</td>\n",
       "      <td>56</td>\n",
       "    </tr>\n",
       "    <tr>\n",
       "      <th>1</th>\n",
       "      <td>Spain</td>\n",
       "      <td>47</td>\n",
       "      <td>47</td>\n",
       "    </tr>\n",
       "    <tr>\n",
       "      <th>2</th>\n",
       "      <td>Italy</td>\n",
       "      <td>47</td>\n",
       "      <td>47</td>\n",
       "    </tr>\n",
       "    <tr>\n",
       "      <th>3</th>\n",
       "      <td>Norway</td>\n",
       "      <td>46</td>\n",
       "      <td>46</td>\n",
       "    </tr>\n",
       "    <tr>\n",
       "      <th>4</th>\n",
       "      <td>Switzerland</td>\n",
       "      <td>45</td>\n",
       "      <td>45</td>\n",
       "    </tr>\n",
       "    <tr>\n",
       "      <th>5</th>\n",
       "      <td>Sweden</td>\n",
       "      <td>45</td>\n",
       "      <td>45</td>\n",
       "    </tr>\n",
       "    <tr>\n",
       "      <th>6</th>\n",
       "      <td>Portugal</td>\n",
       "      <td>43</td>\n",
       "      <td>43</td>\n",
       "    </tr>\n",
       "    <tr>\n",
       "      <th>7</th>\n",
       "      <td>Germany</td>\n",
       "      <td>38</td>\n",
       "      <td>38</td>\n",
       "    </tr>\n",
       "    <tr>\n",
       "      <th>8</th>\n",
       "      <td>All</td>\n",
       "      <td>367</td>\n",
       "      <td>367</td>\n",
       "    </tr>\n",
       "  </tbody>\n",
       "</table>\n",
       "</div>"
      ],
      "text/plain": [
       "     countries    n  All\n",
       "0       France   56   56\n",
       "1        Spain   47   47\n",
       "2        Italy   47   47\n",
       "3       Norway   46   46\n",
       "4  Switzerland   45   45\n",
       "5       Sweden   45   45\n",
       "6     Portugal   43   43\n",
       "7      Germany   38   38\n",
       "8          All  367  367"
      ]
     },
     "execution_count": 3,
     "metadata": {},
     "output_type": "execute_result"
    }
   ],
   "source": [
    "%%piper\n",
    "df \n",
    ">> count('countries')\n",
    ">> adorn(axis='both', ignore_row_index=True)\n",
    ">> head(10)"
   ]
  },
  {
   "cell_type": "markdown",
   "metadata": {
    "ExecuteTime": {
     "end_time": "2020-08-07T18:34:50.657741Z",
     "start_time": "2020-08-07T18:34:50.654732Z"
    }
   },
   "source": [
    "## where()"
   ]
  },
  {
   "cell_type": "code",
   "execution_count": 4,
   "metadata": {
    "ExecuteTime": {
     "end_time": "2021-02-26T15:13:20.280753Z",
     "start_time": "2021-02-26T15:13:20.277097Z"
    }
   },
   "outputs": [],
   "source": [
    "query = \"regions == 'East' and countries.isin(['Italy'])\""
   ]
  },
  {
   "cell_type": "code",
   "execution_count": 5,
   "metadata": {
    "ExecuteTime": {
     "end_time": "2021-02-26T15:13:20.316688Z",
     "start_time": "2021-02-26T15:13:20.282547Z"
    },
    "scrolled": true
   },
   "outputs": [
    {
     "data": {
      "text/html": [
       "<div>\n",
       "<style scoped>\n",
       "    .dataframe tbody tr th:only-of-type {\n",
       "        vertical-align: middle;\n",
       "    }\n",
       "\n",
       "    .dataframe tbody tr th {\n",
       "        vertical-align: top;\n",
       "    }\n",
       "\n",
       "    .dataframe thead th {\n",
       "        text-align: right;\n",
       "    }\n",
       "</style>\n",
       "<table border=\"1\" class=\"dataframe\">\n",
       "  <thead>\n",
       "    <tr style=\"text-align: right;\">\n",
       "      <th></th>\n",
       "      <th></th>\n",
       "      <th>n</th>\n",
       "      <th>%</th>\n",
       "      <th>cum %</th>\n",
       "    </tr>\n",
       "    <tr>\n",
       "      <th>regions</th>\n",
       "      <th>countries</th>\n",
       "      <th></th>\n",
       "      <th></th>\n",
       "      <th></th>\n",
       "    </tr>\n",
       "  </thead>\n",
       "  <tbody>\n",
       "    <tr>\n",
       "      <th>East</th>\n",
       "      <th>Italy</th>\n",
       "      <td>17</td>\n",
       "      <td>100.0</td>\n",
       "      <td>100.0</td>\n",
       "    </tr>\n",
       "  </tbody>\n",
       "</table>\n",
       "</div>"
      ],
      "text/plain": [
       "                    n      %  cum %\n",
       "regions countries                  \n",
       "East    Italy      17  100.0  100.0"
      ]
     },
     "execution_count": 5,
     "metadata": {},
     "output_type": "execute_result"
    }
   ],
   "source": [
    "%%piper \n",
    "df \n",
    ">> where(query) \n",
    ">> counts(columns=['regions', 'countries'],\n",
    "          percent=True,\n",
    "          cum_percent=True)"
   ]
  },
  {
   "cell_type": "code",
   "execution_count": 6,
   "metadata": {
    "ExecuteTime": {
     "end_time": "2021-02-26T15:13:20.348779Z",
     "start_time": "2021-02-26T15:13:20.318529Z"
    }
   },
   "outputs": [
    {
     "data": {
      "text/plain": [
       "100.0"
      ]
     },
     "execution_count": 6,
     "metadata": {},
     "output_type": "execute_result"
    }
   ],
   "source": [
    "df = df.query(query)\n",
    "df = counts(df, ['regions', 'countries'], percent=True, cum_percent=True)\n",
    "df.loc[('East', 'Italy'), 'cum %']"
   ]
  },
  {
   "cell_type": "code",
   "execution_count": 7,
   "metadata": {
    "ExecuteTime": {
     "end_time": "2021-02-26T15:13:20.369250Z",
     "start_time": "2021-02-26T15:13:20.350916Z"
    }
   },
   "outputs": [
    {
     "data": {
      "text/plain": [
       "values_1    73604\n",
       "values_2    75163\n",
       "dtype: int64"
      ]
     },
     "execution_count": 7,
     "metadata": {},
     "output_type": "execute_result"
    }
   ],
   "source": [
    "%%piper \n",
    "get_sample_data() \n",
    ">> select('-dates')\n",
    "# >> where(\"regions == 'East' and values_1 == 29 \")\n",
    "# >> group_by(['regions', 'countries'])\n",
    ">> summarise({'values_1': 'sum', 'values_2': 'sum'})"
   ]
  },
  {
   "cell_type": "code",
   "execution_count": 8,
   "metadata": {
    "ExecuteTime": {
     "end_time": "2021-02-26T15:13:20.435098Z",
     "start_time": "2021-02-26T15:13:20.373023Z"
    }
   },
   "outputs": [
    {
     "name": "stderr",
     "output_type": "stream",
     "text": [
      "367 rows, 7 columns\n",
      "10 rows, 11 columns\n"
     ]
    },
    {
     "data": {
      "text/html": [
       "<div>\n",
       "<style scoped>\n",
       "    .dataframe tbody tr th:only-of-type {\n",
       "        vertical-align: middle;\n",
       "    }\n",
       "\n",
       "    .dataframe tbody tr th {\n",
       "        vertical-align: top;\n",
       "    }\n",
       "\n",
       "    .dataframe thead th {\n",
       "        text-align: right;\n",
       "    }\n",
       "</style>\n",
       "<table border=\"1\" class=\"dataframe\">\n",
       "  <thead>\n",
       "    <tr style=\"text-align: right;\">\n",
       "      <th></th>\n",
       "      <th>aa_us</th>\n",
       "      <th>aa_bt</th>\n",
       "      <th>aa_tn</th>\n",
       "      <th>aa_ln</th>\n",
       "      <th>dates</th>\n",
       "      <th>order_dates</th>\n",
       "      <th>countries</th>\n",
       "      <th>regions</th>\n",
       "      <th>ids</th>\n",
       "      <th>values_1</th>\n",
       "      <th>values_2</th>\n",
       "    </tr>\n",
       "  </thead>\n",
       "  <tbody>\n",
       "    <tr>\n",
       "      <th>0</th>\n",
       "      <td>userid</td>\n",
       "      <td>ABC_20210226</td>\n",
       "      <td>1</td>\n",
       "      <td>NaN</td>\n",
       "      <td>2020-03-21</td>\n",
       "      <td>2020-03-27</td>\n",
       "      <td>France</td>\n",
       "      <td>South</td>\n",
       "      <td>A</td>\n",
       "      <td>368</td>\n",
       "      <td>235</td>\n",
       "    </tr>\n",
       "    <tr>\n",
       "      <th>1</th>\n",
       "      <td>userid</td>\n",
       "      <td>ABC_20210226</td>\n",
       "      <td>1</td>\n",
       "      <td>NaN</td>\n",
       "      <td>2020-07-17</td>\n",
       "      <td>2020-07-23</td>\n",
       "      <td>Switzerland</td>\n",
       "      <td>West</td>\n",
       "      <td>E</td>\n",
       "      <td>98</td>\n",
       "      <td>220</td>\n",
       "    </tr>\n",
       "    <tr>\n",
       "      <th>2</th>\n",
       "      <td>userid</td>\n",
       "      <td>ABC_20210226</td>\n",
       "      <td>1</td>\n",
       "      <td>NaN</td>\n",
       "      <td>2020-03-01</td>\n",
       "      <td>2020-03-07</td>\n",
       "      <td>France</td>\n",
       "      <td>West</td>\n",
       "      <td>A</td>\n",
       "      <td>214</td>\n",
       "      <td>296</td>\n",
       "    </tr>\n",
       "    <tr>\n",
       "      <th>3</th>\n",
       "      <td>userid</td>\n",
       "      <td>ABC_20210226</td>\n",
       "      <td>1</td>\n",
       "      <td>NaN</td>\n",
       "      <td>2020-05-24</td>\n",
       "      <td>2020-05-30</td>\n",
       "      <td>Sweden</td>\n",
       "      <td>East</td>\n",
       "      <td>A</td>\n",
       "      <td>368</td>\n",
       "      <td>376</td>\n",
       "    </tr>\n",
       "  </tbody>\n",
       "</table>\n",
       "</div>"
      ],
      "text/plain": [
       "    aa_us         aa_bt  aa_tn  aa_ln      dates order_dates    countries  \\\n",
       "0  userid  ABC_20210226      1    NaN 2020-03-21  2020-03-27       France   \n",
       "1  userid  ABC_20210226      1    NaN 2020-07-17  2020-07-23  Switzerland   \n",
       "2  userid  ABC_20210226      1    NaN 2020-03-01  2020-03-07       France   \n",
       "3  userid  ABC_20210226      1    NaN 2020-05-24  2020-05-30       Sweden   \n",
       "\n",
       "  regions ids  values_1  values_2  \n",
       "0   South   A       368       235  \n",
       "1    West   E        98       220  \n",
       "2    West   A       214       296  \n",
       "3    East   A       368       376  "
      ]
     },
     "execution_count": 8,
     "metadata": {},
     "output_type": "execute_result"
    }
   ],
   "source": [
    "%%piper\n",
    "get_sample_data()\n",
    "# >> memory() \n",
    "# >> select(slice('regions', 'values_2'))\n",
    "# >> assign(new_col = lambda x: x.values_2 * 4)\n",
    "# >> group_by('regions')\n",
    "# >> summarise({'new_col': 'mean'})\n",
    "# >> rename(columns={'new_col': 'mean_value'}).reset_index()\n",
    ">> sample(10)\n",
    ">> add_jde_batch(col_prefix='aa_')\n",
    ">> head().reset_index(drop=True)"
   ]
  },
  {
   "cell_type": "code",
   "execution_count": 9,
   "metadata": {
    "ExecuteTime": {
     "end_time": "2021-02-26T15:13:20.484536Z",
     "start_time": "2021-02-26T15:13:20.439459Z"
    }
   },
   "outputs": [
    {
     "name": "stderr",
     "output_type": "stream",
     "text": [
      "Dataframe with (rows, cols) (367, 7) consumes 0.08 Mb\n"
     ]
    },
    {
     "data": {
      "text/html": [
       "<div>\n",
       "<style scoped>\n",
       "    .dataframe tbody tr th:only-of-type {\n",
       "        vertical-align: middle;\n",
       "    }\n",
       "\n",
       "    .dataframe tbody tr th {\n",
       "        vertical-align: top;\n",
       "    }\n",
       "\n",
       "    .dataframe thead th {\n",
       "        text-align: right;\n",
       "    }\n",
       "</style>\n",
       "<table border=\"1\" class=\"dataframe\">\n",
       "  <thead>\n",
       "    <tr style=\"text-align: right;\">\n",
       "      <th></th>\n",
       "      <th>mean_value</th>\n",
       "    </tr>\n",
       "  </thead>\n",
       "  <tbody>\n",
       "    <tr>\n",
       "      <th>East</th>\n",
       "      <td>867.922330</td>\n",
       "    </tr>\n",
       "    <tr>\n",
       "      <th>North</th>\n",
       "      <td>865.590361</td>\n",
       "    </tr>\n",
       "    <tr>\n",
       "      <th>South</th>\n",
       "      <td>821.563218</td>\n",
       "    </tr>\n",
       "    <tr>\n",
       "      <th>West</th>\n",
       "      <td>722.723404</td>\n",
       "    </tr>\n",
       "    <tr>\n",
       "      <th>All</th>\n",
       "      <td>3277.799314</td>\n",
       "    </tr>\n",
       "  </tbody>\n",
       "</table>\n",
       "</div>"
      ],
      "text/plain": [
       "        mean_value\n",
       "East    867.922330\n",
       "North   865.590361\n",
       "South   821.563218\n",
       "West    722.723404\n",
       "All    3277.799314"
      ]
     },
     "execution_count": 9,
     "metadata": {},
     "output_type": "execute_result"
    }
   ],
   "source": [
    "%%piper\n",
    "get_sample_data()\n",
    ">> memory() \n",
    ">> select(slice('regions', 'values_2'))\n",
    ">> assign(new_col = lambda x: x.values_2 * 4)\n",
    ">> group_by('regions')\n",
    ">> summarise({'new_col': 'mean'})\n",
    ">> adorn()\n",
    ">> rename(columns={'new_col': 'mean_value'})"
   ]
  }
 ],
 "metadata": {
  "hide_input": false,
  "kernelspec": {
   "display_name": "Python 3",
   "language": "python",
   "name": "python3"
  },
  "language_info": {
   "codemirror_mode": {
    "name": "ipython",
    "version": 3
   },
   "file_extension": ".py",
   "mimetype": "text/x-python",
   "name": "python",
   "nbconvert_exporter": "python",
   "pygments_lexer": "ipython3",
   "version": "3.8.5"
  },
  "toc": {
   "base_numbering": 1,
   "nav_menu": {},
   "number_sections": true,
   "sideBar": true,
   "skip_h1_title": false,
   "title_cell": "Table of Contents",
   "title_sidebar": "Contents",
   "toc_cell": false,
   "toc_position": {
    "height": "calc(100% - 180px)",
    "left": "10px",
    "top": "150px",
    "width": "229.333px"
   },
   "toc_section_display": true,
   "toc_window_display": true
  }
 },
 "nbformat": 4,
 "nbformat_minor": 4
}
