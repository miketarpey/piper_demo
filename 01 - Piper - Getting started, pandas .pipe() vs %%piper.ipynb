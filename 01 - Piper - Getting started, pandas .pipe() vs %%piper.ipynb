{
 "cells": [
  {
   "cell_type": "markdown",
   "metadata": {},
   "source": [
    "# What is 'piper'?"
   ]
  },
  {
   "cell_type": "markdown",
   "metadata": {},
   "source": [
    "Piper is an attempt to simplify the process of exploring and assembling data transformations of tabular or Excel spreadsheet like data.<br>It's built on top of pandas, numpy and Jupyter."
   ]
  },
  {
   "cell_type": "markdown",
   "metadata": {},
   "source": [
    "# Example"
   ]
  },
  {
   "cell_type": "markdown",
   "metadata": {},
   "source": [
    "Consider the following data from gapminder project on numbers of internet users by country and year."
   ]
  },
  {
   "cell_type": "code",
   "execution_count": null,
   "metadata": {
    "ExecuteTime": {
     "end_time": "2021-02-08T14:32:58.078048Z",
     "start_time": "2021-02-08T14:32:57.599605Z"
    }
   },
   "outputs": [],
   "source": [
    "import pandas as pd\n",
    "import numpy as np\n",
    "\n",
    "url = 'inputs/internet_users.csv'\n",
    "df = pd.read_csv(url)\n",
    "\n",
    "# How many rows, columns in the dataset?\n",
    "print(df.shape)\n",
    "\n",
    "# Show me the first 5 rows\n",
    "df.head()"
   ]
  },
  {
   "cell_type": "markdown",
   "metadata": {},
   "source": [
    "# Pandas solution using .pipe"
   ]
  },
  {
   "cell_type": "markdown",
   "metadata": {},
   "source": [
    "What are the top 5 countries with the highest cumulative count since 1990?<br>\n",
    "Provide a 'total' count as well"
   ]
  },
  {
   "cell_type": "code",
   "execution_count": null,
   "metadata": {
    "ExecuteTime": {
     "end_time": "2021-02-08T14:32:58.115460Z",
     "start_time": "2021-02-08T14:32:58.079957Z"
    }
   },
   "outputs": [],
   "source": [
    "df2 = (df.melt(id_vars='country').dropna()\n",
    "         .rename(columns={'variable': 'year'})\n",
    "         .assign(year= lambda x: x.year.astype(int))\n",
    "         .query(\"year > 1990\")\n",
    "         .groupby('country')\n",
    "         .agg(Total_count_since_1990=pd.NamedAgg('value', 'sum'))\n",
    "         .sort_values('Total_count_since_1990', ascending=False)\n",
    "         .head())\n",
    "\n",
    "total_line = pd.DataFrame([df2['Total_count_since_1990'].sum()],\n",
    "                          index=['Total'],\n",
    "                          columns=['Total_count_since_1990'])\n",
    "df3 = pd.concat([df2, total_line], axis=0, ignore_index=False)\n",
    "df3"
   ]
  },
  {
   "cell_type": "markdown",
   "metadata": {},
   "source": [
    "# Pandas solution using %%piper"
   ]
  },
  {
   "cell_type": "markdown",
   "metadata": {},
   "source": [
    "## standard piper imports"
   ]
  },
  {
   "cell_type": "markdown",
   "metadata": {},
   "source": [
    "First, import the piper magic module and the 'verbs' module which provide a more 'SQL' like interface"
   ]
  },
  {
   "cell_type": "code",
   "execution_count": null,
   "metadata": {
    "ExecuteTime": {
     "end_time": "2021-02-08T14:32:58.181556Z",
     "start_time": "2021-02-08T14:32:58.124749Z"
    }
   },
   "outputs": [],
   "source": [
    "from piper import piper\n",
    "from piper.verbs import *"
   ]
  },
  {
   "cell_type": "markdown",
   "metadata": {},
   "source": [
    "## piper solution"
   ]
  },
  {
   "cell_type": "markdown",
   "metadata": {},
   "source": [
    "Notes:\n",
    "<ul>\n",
    "    <li>panda functions can be used interchangeably\n",
    "    <li>adorn (add totals) by default gives row totals, can also generate column totals\n",
    "    <li>lines can be commented out using #\n",
    "</ul>"
   ]
  },
  {
   "cell_type": "code",
   "execution_count": null,
   "metadata": {
    "ExecuteTime": {
     "end_time": "2021-02-08T15:07:54.004026Z",
     "start_time": "2021-02-08T15:07:53.925762Z"
    }
   },
   "outputs": [],
   "source": [
    "%%piper\n",
    "\n",
    "df.melt(id_vars='country').dropna()\n",
    ">> rename(columns={'variable': 'year'})\n",
    ">> assign(year= lambda x: x.year.astype(int))\n",
    ">> where(\"year > 1990\")\n",
    ">> group_by('country')\n",
    ">> summarise(Total_count_since_1990=pd.NamedAgg('value', 'sum'))\n",
    ">> order_by('Total_count_since_1990', ascending=False)\n",
    ">> head(5)\n",
    ">> adorn()"
   ]
  },
  {
   "cell_type": "markdown",
   "metadata": {},
   "source": [
    "## Alternative solution (using where clause)"
   ]
  },
  {
   "cell_type": "code",
   "execution_count": null,
   "metadata": {
    "ExecuteTime": {
     "end_time": "2021-02-08T14:34:33.108639Z",
     "start_time": "2021-02-08T14:34:33.064682Z"
    }
   },
   "outputs": [],
   "source": [
    "%%piper\n",
    "\n",
    "df.melt(id_vars='country')\n",
    ">> where(\"~value.isna()\")\n",
    ">> rename(columns={'variable': 'year'})\n",
    ">> assign(year= lambda x: x.year.astype(int))\n",
    ">> where(\"year > 1990\")\n",
    ">> group_by('country')\n",
    ">> summarise(Total_count_since_1990=pd.NamedAgg('value', 'sum'))\n",
    ">> order_by('Total_count_since_1990', ascending=False)\n",
    ">> head(5)\n",
    ">> adorn(axis=0)"
   ]
  }
 ],
 "metadata": {
  "hide_input": false,
  "kernelspec": {
   "display_name": "Python 3",
   "language": "python",
   "name": "python3"
  },
  "language_info": {
   "codemirror_mode": {
    "name": "ipython",
    "version": 3
   },
   "file_extension": ".py",
   "mimetype": "text/x-python",
   "name": "python",
   "nbconvert_exporter": "python",
   "pygments_lexer": "ipython3",
   "version": "3.8.5"
  },
  "toc": {
   "base_numbering": 1,
   "nav_menu": {},
   "number_sections": true,
   "sideBar": true,
   "skip_h1_title": false,
   "title_cell": "Table of Contents",
   "title_sidebar": "Contents",
   "toc_cell": false,
   "toc_position": {
    "height": "calc(100% - 180px)",
    "left": "10px",
    "top": "150px",
    "width": "229.333px"
   },
   "toc_section_display": true,
   "toc_window_display": true
  }
 },
 "nbformat": 4,
 "nbformat_minor": 4
}
