{
 "cells": [
  {
   "cell_type": "code",
   "execution_count": 1,
   "metadata": {
    "ExecuteTime": {
     "end_time": "2021-02-26T14:58:26.414769Z",
     "start_time": "2021-02-26T14:58:26.411522Z"
    }
   },
   "outputs": [],
   "source": [
    "# http://eforexcel.com/wp/downloads-18-sample-csv-files-data-sets-for-testing-sales/"
   ]
  },
  {
   "cell_type": "code",
   "execution_count": 2,
   "metadata": {
    "ExecuteTime": {
     "end_time": "2021-03-29T12:38:23.990553Z",
     "start_time": "2021-03-29T12:38:23.987200Z"
    }
   },
   "outputs": [
    {
     "name": "stderr",
     "output_type": "stream",
     "text": [
      "piper v0.1.2: Friday, 09 April 2021 18:49:12\n"
     ]
    }
   ],
   "source": [
    "from piper.defaults import *"
   ]
  },
  {
   "cell_type": "code",
   "execution_count": 3,
   "metadata": {
    "ExecuteTime": {
     "end_time": "2021-03-29T12:40:20.659828Z",
     "start_time": "2021-03-29T12:40:20.648408Z"
    }
   },
   "outputs": [],
   "source": [
    "def set_categories(df):\n",
    "    \n",
    "    categories = ['Region', 'Country', 'Item Type', 'Sales Channel', 'Order Priority']\n",
    "\n",
    "    for category in categories:   \n",
    "        categories = count(df, category).index.tolist()\n",
    "        categories = pd.CategoricalDtype(categories)\n",
    "        df[category] = df[category].astype(categories)\n",
    "        memory(df)\n",
    "        \n",
    "    return df"
   ]
  },
  {
   "cell_type": "code",
   "execution_count": 4,
   "metadata": {
    "ExecuteTime": {
     "end_time": "2021-03-29T12:40:21.287996Z",
     "start_time": "2021-03-29T12:40:21.271319Z"
    }
   },
   "outputs": [],
   "source": [
    "def format_dates(df):\n",
    "    \n",
    "    logger.info('formatting dates...')\n",
    "    \n",
    "    dates = ['Order Date', 'Ship Date']\n",
    "    \n",
    "    for date_ in dates:\n",
    "        df[date_] = pd.to_datetime(df[date_], format='%m/%d/%Y')\n",
    "        \n",
    "    return df"
   ]
  },
  {
   "cell_type": "code",
   "execution_count": 5,
   "metadata": {
    "ExecuteTime": {
     "end_time": "2021-03-29T12:40:21.495276Z",
     "start_time": "2021-03-29T12:40:21.486315Z"
    }
   },
   "outputs": [],
   "source": [
    "xl_file = 'inputs/1000000 Sales Records.csv'"
   ]
  },
  {
   "cell_type": "code",
   "execution_count": 6,
   "metadata": {
    "ExecuteTime": {
     "end_time": "2021-03-29T12:40:29.742414Z",
     "start_time": "2021-03-29T12:40:21.683518Z"
    }
   },
   "outputs": [
    {
     "name": "stderr",
     "output_type": "stream",
     "text": [
      "Use %piper/%%piper --info to see rendered pandas pipe statement\n"
     ]
    },
    {
     "name": "stderr",
     "output_type": "stream",
     "text": [
      "[Errno 2] No such file or directory: 'inputs/1000000 Sales Records.csv'\n"
     ]
    }
   ],
   "source": [
    "%%piper\n",
    "df <- pd.read_csv(xl_file)\n",
    ">> drop(columns=['Total Revenue', 'Total Cost', 'Total Profit'])\n",
    ">> distinct() # remove duplicate rows\n",
    ">> format_dates()\n",
    ">> set_categories() "
   ]
  },
  {
   "cell_type": "code",
   "execution_count": 7,
   "metadata": {
    "ExecuteTime": {
     "end_time": "2021-03-29T12:40:32.293224Z",
     "start_time": "2021-03-29T12:40:32.282964Z"
    }
   },
   "outputs": [],
   "source": [
    "duration_limit = pd.Timedelta(50, unit='days')"
   ]
  },
  {
   "cell_type": "code",
   "execution_count": 8,
   "metadata": {
    "ExecuteTime": {
     "end_time": "2021-03-29T12:40:34.566948Z",
     "start_time": "2021-03-29T12:40:34.374222Z"
    }
   },
   "outputs": [
    {
     "name": "stderr",
     "output_type": "stream",
     "text": [
      "Use %piper/%%piper --info to see rendered pandas pipe statement\n"
     ]
    },
    {
     "name": "stderr",
     "output_type": "stream",
     "text": [
      "name 'df' is not defined\n"
     ]
    }
   ],
   "source": [
    "%%piper \n",
    "df\n",
    ">> clean_names()\n",
    ">> assign(lead_time=lambda x: x['ship_date'] - x['order_date'])\n",
    ">> relocate('order_id', 'after', 'order_priority')\n",
    ">> relocate('lead_time', 'after', 'ship_date')\n",
    ">> where(\"lead_time >= @duration_limit\", global_dict=globals())\n",
    ">> head(5)"
   ]
  },
  {
   "cell_type": "code",
   "execution_count": 9,
   "metadata": {
    "ExecuteTime": {
     "end_time": "2021-03-29T12:40:36.271677Z",
     "start_time": "2021-03-29T12:40:35.361847Z"
    }
   },
   "outputs": [
    {
     "name": "stderr",
     "output_type": "stream",
     "text": [
      "Use %piper/%%piper --info to see rendered pandas pipe statement\n"
     ]
    },
    {
     "name": "stderr",
     "output_type": "stream",
     "text": [
      "name 'df' is not defined\n"
     ]
    }
   ],
   "source": [
    "%piper df >> info()"
   ]
  },
  {
   "cell_type": "code",
   "execution_count": 10,
   "metadata": {
    "ExecuteTime": {
     "end_time": "2021-03-29T12:40:36.278370Z",
     "start_time": "2021-03-29T12:40:36.273933Z"
    }
   },
   "outputs": [
    {
     "name": "stderr",
     "output_type": "stream",
     "text": [
      "Use %piper/%%piper --info to see rendered pandas pipe statement\n"
     ]
    },
    {
     "name": "stderr",
     "output_type": "stream",
     "text": [
      "name 'df' is not defined\n"
     ]
    }
   ],
   "source": [
    "%%piper \n",
    "count(df, 'Region', percent=True, reset_index=True)"
   ]
  },
  {
   "cell_type": "code",
   "execution_count": 11,
   "metadata": {
    "ExecuteTime": {
     "end_time": "2021-03-29T12:40:50.379659Z",
     "start_time": "2021-03-29T12:40:50.268339Z"
    }
   },
   "outputs": [
    {
     "name": "stderr",
     "output_type": "stream",
     "text": [
      "Use %piper/%%piper --info to see rendered pandas pipe statement\n"
     ]
    },
    {
     "name": "stderr",
     "output_type": "stream",
     "text": [
      "name 'df' is not defined\n"
     ]
    }
   ],
   "source": [
    "%%piper \n",
    "df \n",
    ">> count('sales_channel', reset_index=True)"
   ]
  },
  {
   "cell_type": "code",
   "execution_count": 12,
   "metadata": {
    "ExecuteTime": {
     "end_time": "2021-03-29T12:45:15.273039Z",
     "start_time": "2021-03-29T12:45:15.118496Z"
    }
   },
   "outputs": [
    {
     "name": "stderr",
     "output_type": "stream",
     "text": [
      "Use %piper/%%piper --info to see rendered pandas pipe statement\n"
     ]
    },
    {
     "name": "stderr",
     "output_type": "stream",
     "text": [
      "name 'df' is not defined\n"
     ]
    }
   ],
   "source": [
    "%%piper\n",
    "df \n",
    ">> group_by(['region', 'order_priority'])\n",
    ">> summarise(totalunitssold=('units_sold', 'sum'))\n",
    ">> unstack()\n",
    ">> flatten_cols(remove_prefix='totalunitssold')\n",
    ">> adorn(axis='column')\n",
    ">> reset_index()\n",
    ">> order_by('-All')\n",
    ">> adorn(ignore_index=True)\n",
    ">> set_columns(columns=['Region', 'C', 'H', 'M', 'L', 'All'])"
   ]
  },
  {
   "cell_type": "code",
   "execution_count": null,
   "metadata": {},
   "outputs": [],
   "source": []
  },
  {
   "cell_type": "code",
   "execution_count": null,
   "metadata": {},
   "outputs": [],
   "source": []
  },
  {
   "cell_type": "code",
   "execution_count": null,
   "metadata": {},
   "outputs": [],
   "source": []
  },
  {
   "cell_type": "code",
   "execution_count": null,
   "metadata": {},
   "outputs": [],
   "source": []
  },
  {
   "cell_type": "code",
   "execution_count": null,
   "metadata": {},
   "outputs": [],
   "source": []
  },
  {
   "cell_type": "code",
   "execution_count": null,
   "metadata": {},
   "outputs": [],
   "source": []
  }
 ],
 "metadata": {
  "kernelspec": {
   "display_name": "Python 3",
   "language": "python",
   "name": "python3"
  },
  "language_info": {
   "codemirror_mode": {
    "name": "ipython",
    "version": 3
   },
   "file_extension": ".py",
   "mimetype": "text/x-python",
   "name": "python",
   "nbconvert_exporter": "python",
   "pygments_lexer": "ipython3",
   "version": "3.8.5"
  },
  "toc": {
   "base_numbering": 1,
   "nav_menu": {},
   "number_sections": true,
   "sideBar": true,
   "skip_h1_title": false,
   "title_cell": "Table of Contents",
   "title_sidebar": "Contents",
   "toc_cell": false,
   "toc_position": {},
   "toc_section_display": true,
   "toc_window_display": false
  }
 },
 "nbformat": 4,
 "nbformat_minor": 4
}
