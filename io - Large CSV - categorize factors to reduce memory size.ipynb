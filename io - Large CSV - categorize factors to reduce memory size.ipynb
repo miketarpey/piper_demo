{
 "cells": [
  {
   "cell_type": "code",
   "execution_count": 1,
   "metadata": {
    "ExecuteTime": {
     "end_time": "2021-02-26T14:58:26.414769Z",
     "start_time": "2021-02-26T14:58:26.411522Z"
    }
   },
   "outputs": [],
   "source": [
    "# http://eforexcel.com/wp/downloads-18-sample-csv-files-data-sets-for-testing-sales/"
   ]
  },
  {
   "cell_type": "code",
   "execution_count": 2,
   "metadata": {
    "ExecuteTime": {
     "end_time": "2021-03-29T12:38:23.990553Z",
     "start_time": "2021-03-29T12:38:23.987200Z"
    }
   },
   "outputs": [
    {
     "name": "stderr",
     "output_type": "stream",
     "text": [
      "piper v0.1.0: Monday, 29 March 2021 19:05:45\n"
     ]
    }
   ],
   "source": [
    "from piper.defaults import *"
   ]
  },
  {
   "cell_type": "code",
   "execution_count": 3,
   "metadata": {
    "ExecuteTime": {
     "end_time": "2021-03-29T12:40:20.659828Z",
     "start_time": "2021-03-29T12:40:20.648408Z"
    }
   },
   "outputs": [],
   "source": [
    "def set_categories(df):\n",
    "    \n",
    "    categories = ['Region', 'Country', 'Item Type', 'Sales Channel', 'Order Priority']\n",
    "\n",
    "    for category in categories:   \n",
    "        categories = count(df, category).index.tolist()\n",
    "        categories = pd.CategoricalDtype(categories)\n",
    "        df[category] = df[category].astype(categories)\n",
    "        memory(df)\n",
    "        \n",
    "    return df"
   ]
  },
  {
   "cell_type": "code",
   "execution_count": 4,
   "metadata": {
    "ExecuteTime": {
     "end_time": "2021-03-29T12:40:21.287996Z",
     "start_time": "2021-03-29T12:40:21.271319Z"
    }
   },
   "outputs": [],
   "source": [
    "def format_dates(df):\n",
    "    \n",
    "    logger.info('formatting dates...')\n",
    "    \n",
    "    dates = ['Order Date', 'Ship Date']\n",
    "    \n",
    "    for date_ in dates:\n",
    "        df[date_] = pd.to_datetime(df[date_], format='%m/%d/%Y')\n",
    "        \n",
    "    return df"
   ]
  },
  {
   "cell_type": "code",
   "execution_count": 5,
   "metadata": {
    "ExecuteTime": {
     "end_time": "2021-03-29T12:40:21.495276Z",
     "start_time": "2021-03-29T12:40:21.486315Z"
    }
   },
   "outputs": [],
   "source": [
    "xl_file = 'inputs/1000000 Sales Records.csv'"
   ]
  },
  {
   "cell_type": "code",
   "execution_count": 6,
   "metadata": {
    "ExecuteTime": {
     "end_time": "2021-03-29T12:40:29.742414Z",
     "start_time": "2021-03-29T12:40:21.683518Z"
    }
   },
   "outputs": [
    {
     "name": "stderr",
     "output_type": "stream",
     "text": [
      "formatting dates...\n"
     ]
    },
    {
     "name": "stderr",
     "output_type": "stream",
     "text": [
      "Dataframe consumes 288.0 Mb\n"
     ]
    },
    {
     "name": "stderr",
     "output_type": "stream",
     "text": [
      "Dataframe consumes 227.07 Mb\n"
     ]
    },
    {
     "name": "stderr",
     "output_type": "stream",
     "text": [
      "Dataframe consumes 165.48 Mb\n"
     ]
    },
    {
     "name": "stderr",
     "output_type": "stream",
     "text": [
      "Dataframe consumes 105.88 Mb\n"
     ]
    },
    {
     "name": "stderr",
     "output_type": "stream",
     "text": [
      "Dataframe consumes 51.52 Mb\n"
     ]
    }
   ],
   "source": [
    "%%piper\n",
    "df <- pd.read_csv(xl_file)\n",
    ">> drop(columns=['Total Revenue', 'Total Cost', 'Total Profit'])\n",
    ">> distinct() # remove duplicate rows\n",
    ">> format_dates()\n",
    ">> set_categories() "
   ]
  },
  {
   "cell_type": "code",
   "execution_count": 7,
   "metadata": {
    "ExecuteTime": {
     "end_time": "2021-03-29T12:40:32.293224Z",
     "start_time": "2021-03-29T12:40:32.282964Z"
    }
   },
   "outputs": [],
   "source": [
    "duration_limit = pd.Timedelta(50, unit='days')"
   ]
  },
  {
   "cell_type": "code",
   "execution_count": 8,
   "metadata": {
    "ExecuteTime": {
     "end_time": "2021-03-29T12:40:34.566948Z",
     "start_time": "2021-03-29T12:40:34.374222Z"
    }
   },
   "outputs": [
    {
     "name": "stderr",
     "output_type": "stream",
     "text": [
      "19697 rows, 12 columns\n"
     ]
    },
    {
     "data": {
      "text/html": [
       "<div>\n",
       "<style scoped>\n",
       "    .dataframe tbody tr th:only-of-type {\n",
       "        vertical-align: middle;\n",
       "    }\n",
       "\n",
       "    .dataframe tbody tr th {\n",
       "        vertical-align: top;\n",
       "    }\n",
       "\n",
       "    .dataframe thead th {\n",
       "        text-align: right;\n",
       "    }\n",
       "</style>\n",
       "<table border=\"1\" class=\"dataframe\">\n",
       "  <thead>\n",
       "    <tr style=\"text-align: right;\">\n",
       "      <th></th>\n",
       "      <th>region</th>\n",
       "      <th>country</th>\n",
       "      <th>item_type</th>\n",
       "      <th>sales_channel</th>\n",
       "      <th>order_priority</th>\n",
       "      <th>order_id</th>\n",
       "      <th>order_date</th>\n",
       "      <th>ship_date</th>\n",
       "      <th>lead_time</th>\n",
       "      <th>units_sold</th>\n",
       "      <th>unit_price</th>\n",
       "      <th>unit_cost</th>\n",
       "    </tr>\n",
       "  </thead>\n",
       "  <tbody>\n",
       "    <tr>\n",
       "      <th>22</th>\n",
       "      <td>Asia</td>\n",
       "      <td>Turkmenistan</td>\n",
       "      <td>Vegetables</td>\n",
       "      <td>Online</td>\n",
       "      <td>M</td>\n",
       "      <td>116205585</td>\n",
       "      <td>2015-04-13</td>\n",
       "      <td>2015-06-02</td>\n",
       "      <td>50 days</td>\n",
       "      <td>6670</td>\n",
       "      <td>154.06</td>\n",
       "      <td>90.93</td>\n",
       "    </tr>\n",
       "    <tr>\n",
       "      <th>29</th>\n",
       "      <td>Europe</td>\n",
       "      <td>Estonia</td>\n",
       "      <td>Household</td>\n",
       "      <td>Offline</td>\n",
       "      <td>H</td>\n",
       "      <td>835696351</td>\n",
       "      <td>2011-09-01</td>\n",
       "      <td>2011-10-21</td>\n",
       "      <td>50 days</td>\n",
       "      <td>9976</td>\n",
       "      <td>668.27</td>\n",
       "      <td>502.54</td>\n",
       "    </tr>\n",
       "    <tr>\n",
       "      <th>103</th>\n",
       "      <td>Middle East and North Africa</td>\n",
       "      <td>United Arab Emirates</td>\n",
       "      <td>Baby Food</td>\n",
       "      <td>Offline</td>\n",
       "      <td>M</td>\n",
       "      <td>278474080</td>\n",
       "      <td>2017-04-25</td>\n",
       "      <td>2017-06-14</td>\n",
       "      <td>50 days</td>\n",
       "      <td>5523</td>\n",
       "      <td>255.28</td>\n",
       "      <td>159.42</td>\n",
       "    </tr>\n",
       "    <tr>\n",
       "      <th>128</th>\n",
       "      <td>Asia</td>\n",
       "      <td>Mongolia</td>\n",
       "      <td>Meat</td>\n",
       "      <td>Offline</td>\n",
       "      <td>H</td>\n",
       "      <td>177994239</td>\n",
       "      <td>2014-02-07</td>\n",
       "      <td>2014-03-29</td>\n",
       "      <td>50 days</td>\n",
       "      <td>1306</td>\n",
       "      <td>421.89</td>\n",
       "      <td>364.69</td>\n",
       "    </tr>\n",
       "    <tr>\n",
       "      <th>218</th>\n",
       "      <td>Asia</td>\n",
       "      <td>Kazakhstan</td>\n",
       "      <td>Personal Care</td>\n",
       "      <td>Offline</td>\n",
       "      <td>L</td>\n",
       "      <td>210387599</td>\n",
       "      <td>2013-01-25</td>\n",
       "      <td>2013-03-16</td>\n",
       "      <td>50 days</td>\n",
       "      <td>7221</td>\n",
       "      <td>81.73</td>\n",
       "      <td>56.67</td>\n",
       "    </tr>\n",
       "  </tbody>\n",
       "</table>\n",
       "</div>"
      ],
      "text/plain": [
       "                           region               country      item_type  \\\n",
       "22                           Asia          Turkmenistan     Vegetables   \n",
       "29                         Europe               Estonia      Household   \n",
       "103  Middle East and North Africa  United Arab Emirates      Baby Food   \n",
       "128                          Asia              Mongolia           Meat   \n",
       "218                          Asia            Kazakhstan  Personal Care   \n",
       "\n",
       "    sales_channel order_priority   order_id order_date  ship_date lead_time  \\\n",
       "22         Online              M  116205585 2015-04-13 2015-06-02   50 days   \n",
       "29        Offline              H  835696351 2011-09-01 2011-10-21   50 days   \n",
       "103       Offline              M  278474080 2017-04-25 2017-06-14   50 days   \n",
       "128       Offline              H  177994239 2014-02-07 2014-03-29   50 days   \n",
       "218       Offline              L  210387599 2013-01-25 2013-03-16   50 days   \n",
       "\n",
       "     units_sold  unit_price  unit_cost  \n",
       "22         6670      154.06      90.93  \n",
       "29         9976      668.27     502.54  \n",
       "103        5523      255.28     159.42  \n",
       "128        1306      421.89     364.69  \n",
       "218        7221       81.73      56.67  "
      ]
     },
     "execution_count": 8,
     "metadata": {},
     "output_type": "execute_result"
    }
   ],
   "source": [
    "%%piper \n",
    "df\n",
    ">> clean_columns()\n",
    ">> assign(lead_time=lambda x: x['ship_date'] - x['order_date'])\n",
    ">> relocate('order_id', 'after', 'order_priority')\n",
    ">> relocate('lead_time', 'after', 'ship_date')\n",
    ">> where(\"lead_time >= @duration_limit\", global_dict=globals())\n",
    ">> head(5)"
   ]
  },
  {
   "cell_type": "code",
   "execution_count": 9,
   "metadata": {
    "ExecuteTime": {
     "end_time": "2021-03-29T12:40:36.271677Z",
     "start_time": "2021-03-29T12:40:35.361847Z"
    }
   },
   "outputs": [
    {
     "name": "stderr",
     "output_type": "stream",
     "text": [
      "Dataframe consumes 51.52 Mb\n"
     ]
    },
    {
     "data": {
      "text/html": [
       "<div>\n",
       "<style scoped>\n",
       "    .dataframe tbody tr th:only-of-type {\n",
       "        vertical-align: middle;\n",
       "    }\n",
       "\n",
       "    .dataframe tbody tr th {\n",
       "        vertical-align: top;\n",
       "    }\n",
       "\n",
       "    .dataframe thead th {\n",
       "        text-align: right;\n",
       "    }\n",
       "</style>\n",
       "<table border=\"1\" class=\"dataframe\">\n",
       "  <thead>\n",
       "    <tr style=\"text-align: right;\">\n",
       "      <th></th>\n",
       "      <th>columns</th>\n",
       "      <th>type</th>\n",
       "      <th>n</th>\n",
       "      <th>isna</th>\n",
       "      <th>isnull</th>\n",
       "      <th>unique</th>\n",
       "    </tr>\n",
       "  </thead>\n",
       "  <tbody>\n",
       "    <tr>\n",
       "      <th>0</th>\n",
       "      <td>region</td>\n",
       "      <td>category</td>\n",
       "      <td>1000000</td>\n",
       "      <td>0</td>\n",
       "      <td>0</td>\n",
       "      <td>7</td>\n",
       "    </tr>\n",
       "    <tr>\n",
       "      <th>1</th>\n",
       "      <td>country</td>\n",
       "      <td>category</td>\n",
       "      <td>1000000</td>\n",
       "      <td>0</td>\n",
       "      <td>0</td>\n",
       "      <td>185</td>\n",
       "    </tr>\n",
       "    <tr>\n",
       "      <th>2</th>\n",
       "      <td>item_type</td>\n",
       "      <td>category</td>\n",
       "      <td>1000000</td>\n",
       "      <td>0</td>\n",
       "      <td>0</td>\n",
       "      <td>12</td>\n",
       "    </tr>\n",
       "    <tr>\n",
       "      <th>3</th>\n",
       "      <td>sales_channel</td>\n",
       "      <td>category</td>\n",
       "      <td>1000000</td>\n",
       "      <td>0</td>\n",
       "      <td>0</td>\n",
       "      <td>2</td>\n",
       "    </tr>\n",
       "    <tr>\n",
       "      <th>4</th>\n",
       "      <td>order_priority</td>\n",
       "      <td>category</td>\n",
       "      <td>1000000</td>\n",
       "      <td>0</td>\n",
       "      <td>0</td>\n",
       "      <td>4</td>\n",
       "    </tr>\n",
       "    <tr>\n",
       "      <th>5</th>\n",
       "      <td>order_date</td>\n",
       "      <td>datetime64[ns]</td>\n",
       "      <td>1000000</td>\n",
       "      <td>0</td>\n",
       "      <td>0</td>\n",
       "      <td>2767</td>\n",
       "    </tr>\n",
       "    <tr>\n",
       "      <th>6</th>\n",
       "      <td>order_id</td>\n",
       "      <td>int64</td>\n",
       "      <td>1000000</td>\n",
       "      <td>0</td>\n",
       "      <td>0</td>\n",
       "      <td>900000</td>\n",
       "    </tr>\n",
       "    <tr>\n",
       "      <th>7</th>\n",
       "      <td>ship_date</td>\n",
       "      <td>datetime64[ns]</td>\n",
       "      <td>1000000</td>\n",
       "      <td>0</td>\n",
       "      <td>0</td>\n",
       "      <td>2817</td>\n",
       "    </tr>\n",
       "    <tr>\n",
       "      <th>8</th>\n",
       "      <td>units_sold</td>\n",
       "      <td>int64</td>\n",
       "      <td>1000000</td>\n",
       "      <td>0</td>\n",
       "      <td>0</td>\n",
       "      <td>10000</td>\n",
       "    </tr>\n",
       "    <tr>\n",
       "      <th>9</th>\n",
       "      <td>unit_price</td>\n",
       "      <td>float64</td>\n",
       "      <td>1000000</td>\n",
       "      <td>0</td>\n",
       "      <td>0</td>\n",
       "      <td>12</td>\n",
       "    </tr>\n",
       "    <tr>\n",
       "      <th>10</th>\n",
       "      <td>unit_cost</td>\n",
       "      <td>float64</td>\n",
       "      <td>1000000</td>\n",
       "      <td>0</td>\n",
       "      <td>0</td>\n",
       "      <td>12</td>\n",
       "    </tr>\n",
       "  </tbody>\n",
       "</table>\n",
       "</div>"
      ],
      "text/plain": [
       "           columns            type        n  isna  isnull  unique\n",
       "0           region        category  1000000     0       0       7\n",
       "1          country        category  1000000     0       0     185\n",
       "2        item_type        category  1000000     0       0      12\n",
       "3    sales_channel        category  1000000     0       0       2\n",
       "4   order_priority        category  1000000     0       0       4\n",
       "5       order_date  datetime64[ns]  1000000     0       0    2767\n",
       "6         order_id           int64  1000000     0       0  900000\n",
       "7        ship_date  datetime64[ns]  1000000     0       0    2817\n",
       "8       units_sold           int64  1000000     0       0   10000\n",
       "9       unit_price         float64  1000000     0       0      12\n",
       "10       unit_cost         float64  1000000     0       0      12"
      ]
     },
     "execution_count": 9,
     "metadata": {},
     "output_type": "execute_result"
    }
   ],
   "source": [
    "%piper df >> info()"
   ]
  },
  {
   "cell_type": "code",
   "execution_count": 10,
   "metadata": {
    "ExecuteTime": {
     "end_time": "2021-03-29T12:40:36.278370Z",
     "start_time": "2021-03-29T12:40:36.273933Z"
    }
   },
   "outputs": [
    {
     "name": "stderr",
     "output_type": "stream",
     "text": [
      "Column Region not found!\n"
     ]
    }
   ],
   "source": [
    "%%piper \n",
    "count(df, 'Region', percent=True, reset_index=True)"
   ]
  },
  {
   "cell_type": "code",
   "execution_count": 11,
   "metadata": {
    "ExecuteTime": {
     "end_time": "2021-03-29T12:40:50.379659Z",
     "start_time": "2021-03-29T12:40:50.268339Z"
    }
   },
   "outputs": [
    {
     "data": {
      "text/html": [
       "<div>\n",
       "<style scoped>\n",
       "    .dataframe tbody tr th:only-of-type {\n",
       "        vertical-align: middle;\n",
       "    }\n",
       "\n",
       "    .dataframe tbody tr th {\n",
       "        vertical-align: top;\n",
       "    }\n",
       "\n",
       "    .dataframe thead th {\n",
       "        text-align: right;\n",
       "    }\n",
       "</style>\n",
       "<table border=\"1\" class=\"dataframe\">\n",
       "  <thead>\n",
       "    <tr style=\"text-align: right;\">\n",
       "      <th></th>\n",
       "      <th>sales_channel</th>\n",
       "      <th>n</th>\n",
       "      <th>%</th>\n",
       "      <th>cum %</th>\n",
       "    </tr>\n",
       "  </thead>\n",
       "  <tbody>\n",
       "    <tr>\n",
       "      <th>0</th>\n",
       "      <td>Offline</td>\n",
       "      <td>500249</td>\n",
       "      <td>50.02</td>\n",
       "      <td>50.02</td>\n",
       "    </tr>\n",
       "    <tr>\n",
       "      <th>1</th>\n",
       "      <td>Online</td>\n",
       "      <td>499751</td>\n",
       "      <td>49.98</td>\n",
       "      <td>100.00</td>\n",
       "    </tr>\n",
       "  </tbody>\n",
       "</table>\n",
       "</div>"
      ],
      "text/plain": [
       "  sales_channel       n      %   cum %\n",
       "0       Offline  500249  50.02   50.02\n",
       "1        Online  499751  49.98  100.00"
      ]
     },
     "execution_count": 11,
     "metadata": {},
     "output_type": "execute_result"
    }
   ],
   "source": [
    "%%piper \n",
    "df \n",
    ">> count('sales_channel', reset_index=True)"
   ]
  },
  {
   "cell_type": "code",
   "execution_count": 12,
   "metadata": {
    "ExecuteTime": {
     "end_time": "2021-03-29T12:45:15.273039Z",
     "start_time": "2021-03-29T12:45:15.118496Z"
    }
   },
   "outputs": [
    {
     "data": {
      "text/html": [
       "<div>\n",
       "<style scoped>\n",
       "    .dataframe tbody tr th:only-of-type {\n",
       "        vertical-align: middle;\n",
       "    }\n",
       "\n",
       "    .dataframe tbody tr th {\n",
       "        vertical-align: top;\n",
       "    }\n",
       "\n",
       "    .dataframe thead th {\n",
       "        text-align: right;\n",
       "    }\n",
       "</style>\n",
       "<table border=\"1\" class=\"dataframe\">\n",
       "  <thead>\n",
       "    <tr style=\"text-align: right;\">\n",
       "      <th></th>\n",
       "      <th>Region</th>\n",
       "      <th>C</th>\n",
       "      <th>H</th>\n",
       "      <th>M</th>\n",
       "      <th>L</th>\n",
       "      <th>All</th>\n",
       "    </tr>\n",
       "  </thead>\n",
       "  <tbody>\n",
       "    <tr>\n",
       "      <th>0</th>\n",
       "      <td>Sub-Saharan Africa</td>\n",
       "      <td>325811341</td>\n",
       "      <td>323894262</td>\n",
       "      <td>323777790</td>\n",
       "      <td>326324159</td>\n",
       "      <td>1299807552</td>\n",
       "    </tr>\n",
       "    <tr>\n",
       "      <th>1</th>\n",
       "      <td>Europe</td>\n",
       "      <td>324250451</td>\n",
       "      <td>323206262</td>\n",
       "      <td>324086079</td>\n",
       "      <td>324340380</td>\n",
       "      <td>1295883172</td>\n",
       "    </tr>\n",
       "    <tr>\n",
       "      <th>2</th>\n",
       "      <td>Asia</td>\n",
       "      <td>182384174</td>\n",
       "      <td>182027601</td>\n",
       "      <td>182127329</td>\n",
       "      <td>181967072</td>\n",
       "      <td>728506176</td>\n",
       "    </tr>\n",
       "    <tr>\n",
       "      <th>3</th>\n",
       "      <td>Middle East and North Africa</td>\n",
       "      <td>154929315</td>\n",
       "      <td>154570759</td>\n",
       "      <td>155759219</td>\n",
       "      <td>156089279</td>\n",
       "      <td>621348572</td>\n",
       "    </tr>\n",
       "    <tr>\n",
       "      <th>4</th>\n",
       "      <td>Central America and the Caribbean</td>\n",
       "      <td>134136229</td>\n",
       "      <td>134876690</td>\n",
       "      <td>136222257</td>\n",
       "      <td>134614184</td>\n",
       "      <td>539849360</td>\n",
       "    </tr>\n",
       "    <tr>\n",
       "      <th>5</th>\n",
       "      <td>Australia and Oceania</td>\n",
       "      <td>99490384</td>\n",
       "      <td>102129538</td>\n",
       "      <td>101751778</td>\n",
       "      <td>101670417</td>\n",
       "      <td>405042117</td>\n",
       "    </tr>\n",
       "    <tr>\n",
       "      <th>6</th>\n",
       "      <td>North America</td>\n",
       "      <td>26874028</td>\n",
       "      <td>27300491</td>\n",
       "      <td>27232388</td>\n",
       "      <td>27023446</td>\n",
       "      <td>108430353</td>\n",
       "    </tr>\n",
       "    <tr>\n",
       "      <th>7</th>\n",
       "      <td>All</td>\n",
       "      <td>1247875922</td>\n",
       "      <td>1248005603</td>\n",
       "      <td>1250956840</td>\n",
       "      <td>1252028937</td>\n",
       "      <td>4998867302</td>\n",
       "    </tr>\n",
       "  </tbody>\n",
       "</table>\n",
       "</div>"
      ],
      "text/plain": [
       "                              Region           C           H           M  \\\n",
       "0                 Sub-Saharan Africa   325811341   323894262   323777790   \n",
       "1                             Europe   324250451   323206262   324086079   \n",
       "2                               Asia   182384174   182027601   182127329   \n",
       "3       Middle East and North Africa   154929315   154570759   155759219   \n",
       "4  Central America and the Caribbean   134136229   134876690   136222257   \n",
       "5              Australia and Oceania    99490384   102129538   101751778   \n",
       "6                      North America    26874028    27300491    27232388   \n",
       "7                                All  1247875922  1248005603  1250956840   \n",
       "\n",
       "            L         All  \n",
       "0   326324159  1299807552  \n",
       "1   324340380  1295883172  \n",
       "2   181967072   728506176  \n",
       "3   156089279   621348572  \n",
       "4   134614184   539849360  \n",
       "5   101670417   405042117  \n",
       "6    27023446   108430353  \n",
       "7  1252028937  4998867302  "
      ]
     },
     "execution_count": 12,
     "metadata": {},
     "output_type": "execute_result"
    }
   ],
   "source": [
    "%%piper\n",
    "df \n",
    ">> group_by(['region', 'order_priority'])\n",
    ">> summarise(totalunitssold=('units_sold', 'sum'))\n",
    ">> unstack()\n",
    ">> flatten_cols(remove_prefix='totalunitssold')\n",
    ">> adorn(axis='column')\n",
    ">> reset_index()\n",
    ">> order_by('-All')\n",
    ">> adorn(ignore_index=True)\n",
    ">> set_columns(columns=['Region', 'C', 'H', 'M', 'L', 'All'])"
   ]
  },
  {
   "cell_type": "code",
   "execution_count": null,
   "metadata": {},
   "outputs": [],
   "source": []
  },
  {
   "cell_type": "code",
   "execution_count": null,
   "metadata": {},
   "outputs": [],
   "source": []
  },
  {
   "cell_type": "code",
   "execution_count": null,
   "metadata": {},
   "outputs": [],
   "source": []
  },
  {
   "cell_type": "code",
   "execution_count": null,
   "metadata": {},
   "outputs": [],
   "source": []
  },
  {
   "cell_type": "code",
   "execution_count": null,
   "metadata": {},
   "outputs": [],
   "source": []
  },
  {
   "cell_type": "code",
   "execution_count": null,
   "metadata": {},
   "outputs": [],
   "source": []
  }
 ],
 "metadata": {
  "kernelspec": {
   "display_name": "Python 3",
   "language": "python",
   "name": "python3"
  },
  "language_info": {
   "codemirror_mode": {
    "name": "ipython",
    "version": 3
   },
   "file_extension": ".py",
   "mimetype": "text/x-python",
   "name": "python",
   "nbconvert_exporter": "python",
   "pygments_lexer": "ipython3",
   "version": "3.8.5"
  },
  "toc": {
   "base_numbering": 1,
   "nav_menu": {},
   "number_sections": true,
   "sideBar": true,
   "skip_h1_title": false,
   "title_cell": "Table of Contents",
   "title_sidebar": "Contents",
   "toc_cell": false,
   "toc_position": {},
   "toc_section_display": true,
   "toc_window_display": false
  }
 },
 "nbformat": 4,
 "nbformat_minor": 4
}
