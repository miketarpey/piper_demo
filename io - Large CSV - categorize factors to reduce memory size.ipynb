{
 "cells": [
  {
   "cell_type": "code",
   "execution_count": 1,
   "metadata": {
    "ExecuteTime": {
     "end_time": "2021-02-15T19:04:49.498767Z",
     "start_time": "2021-02-15T19:04:49.494706Z"
    }
   },
   "outputs": [],
   "source": [
    "# http://eforexcel.com/wp/downloads-18-sample-csv-files-data-sets-for-testing-sales/"
   ]
  },
  {
   "cell_type": "code",
   "execution_count": 2,
   "metadata": {
    "ExecuteTime": {
     "end_time": "2021-02-15T19:04:49.899039Z",
     "start_time": "2021-02-15T19:04:49.503850Z"
    }
   },
   "outputs": [
    {
     "name": "stderr",
     "output_type": "stream",
     "text": [
      "piper version 0.0.7, last run: Friday, 19 February 2021 12:01:33\n"
     ]
    }
   ],
   "source": [
    "from piper import piper\n",
    "from piper.verbs import *"
   ]
  },
  {
   "cell_type": "code",
   "execution_count": 3,
   "metadata": {
    "ExecuteTime": {
     "end_time": "2021-02-15T19:04:49.907331Z",
     "start_time": "2021-02-15T19:04:49.901059Z"
    }
   },
   "outputs": [],
   "source": [
    "def set_categories(df):\n",
    "    \n",
    "    categories = ['Region', 'Country', 'Item Type', 'Sales Channel', 'Order Priority']\n",
    "\n",
    "    for category in categories:   \n",
    "        categories = counts(df, category).index.tolist()\n",
    "        categories = pd.CategoricalDtype(categories)\n",
    "        df[category] = df[category].astype(categories)\n",
    "        memory(df)\n",
    "        \n",
    "    return df"
   ]
  },
  {
   "cell_type": "code",
   "execution_count": 4,
   "metadata": {
    "ExecuteTime": {
     "end_time": "2021-02-15T19:04:49.914956Z",
     "start_time": "2021-02-15T19:04:49.909841Z"
    }
   },
   "outputs": [],
   "source": [
    "def format_dates(df):\n",
    "    \n",
    "    logger.info('formatting dates...')\n",
    "    \n",
    "    dates = ['Order Date', 'Ship Date']\n",
    "    \n",
    "    for date_ in dates:\n",
    "        df[date_] = pd.to_datetime(df[date_], format='%m/%d/%Y')\n",
    "        \n",
    "    return df"
   ]
  },
  {
   "cell_type": "code",
   "execution_count": 7,
   "metadata": {
    "ExecuteTime": {
     "end_time": "2021-02-15T19:04:49.920296Z",
     "start_time": "2021-02-15T19:04:49.917123Z"
    }
   },
   "outputs": [],
   "source": [
    "xl_file = 'inputs/1000000 Sales Records.csv'"
   ]
  },
  {
   "cell_type": "code",
   "execution_count": 8,
   "metadata": {
    "ExecuteTime": {
     "end_time": "2021-02-15T19:05:03.052514Z",
     "start_time": "2021-02-15T19:04:49.921904Z"
    }
   },
   "outputs": [
    {
     "name": "stderr",
     "output_type": "stream",
     "text": [
      "formatting dates...\n",
      "Dataframe with (rows, cols) (1000000, 11) consumes 288.0 Mb\n",
      "Dataframe with (rows, cols) (1000000, 11) consumes 227.07 Mb\n",
      "Dataframe with (rows, cols) (1000000, 11) consumes 165.48 Mb\n",
      "Dataframe with (rows, cols) (1000000, 11) consumes 105.88 Mb\n",
      "Dataframe with (rows, cols) (1000000, 11) consumes 51.52 Mb\n"
     ]
    }
   ],
   "source": [
    "%%piper\n",
    "df <- pd.read_csv(xl_file)\n",
    ">> drop(columns=['Total Revenue', 'Total Cost', 'Total Profit'])\n",
    ">> distinct() # remove duplicate rows\n",
    ">> format_dates()\n",
    ">> set_categories() "
   ]
  },
  {
   "cell_type": "code",
   "execution_count": 9,
   "metadata": {
    "ExecuteTime": {
     "end_time": "2021-02-15T19:05:03.058515Z",
     "start_time": "2021-02-15T19:05:03.054751Z"
    }
   },
   "outputs": [],
   "source": [
    "duration_limit = pd.Timedelta(50, unit='days')"
   ]
  },
  {
   "cell_type": "code",
   "execution_count": 10,
   "metadata": {
    "ExecuteTime": {
     "end_time": "2021-02-15T19:05:03.402665Z",
     "start_time": "2021-02-15T19:05:03.061593Z"
    }
   },
   "outputs": [
    {
     "name": "stderr",
     "output_type": "stream",
     "text": [
      "19697 rows, 12 columns\n"
     ]
    },
    {
     "data": {
      "text/html": [
       "<div>\n",
       "<style scoped>\n",
       "    .dataframe tbody tr th:only-of-type {\n",
       "        vertical-align: middle;\n",
       "    }\n",
       "\n",
       "    .dataframe tbody tr th {\n",
       "        vertical-align: top;\n",
       "    }\n",
       "\n",
       "    .dataframe thead th {\n",
       "        text-align: right;\n",
       "    }\n",
       "</style>\n",
       "<table border=\"1\" class=\"dataframe\">\n",
       "  <thead>\n",
       "    <tr style=\"text-align: right;\">\n",
       "      <th></th>\n",
       "      <th>region</th>\n",
       "      <th>country</th>\n",
       "      <th>item_type</th>\n",
       "      <th>sales_channel</th>\n",
       "      <th>order_priority</th>\n",
       "      <th>order_id</th>\n",
       "      <th>order_date</th>\n",
       "      <th>ship_date</th>\n",
       "      <th>lead_time</th>\n",
       "      <th>units_sold</th>\n",
       "      <th>unit_price</th>\n",
       "      <th>unit_cost</th>\n",
       "    </tr>\n",
       "  </thead>\n",
       "  <tbody>\n",
       "    <tr>\n",
       "      <th>22</th>\n",
       "      <td>Asia</td>\n",
       "      <td>Turkmenistan</td>\n",
       "      <td>Vegetables</td>\n",
       "      <td>Online</td>\n",
       "      <td>M</td>\n",
       "      <td>116205585</td>\n",
       "      <td>2015-04-13</td>\n",
       "      <td>2015-06-02</td>\n",
       "      <td>50 days</td>\n",
       "      <td>6670</td>\n",
       "      <td>154.06</td>\n",
       "      <td>90.93</td>\n",
       "    </tr>\n",
       "    <tr>\n",
       "      <th>29</th>\n",
       "      <td>Europe</td>\n",
       "      <td>Estonia</td>\n",
       "      <td>Household</td>\n",
       "      <td>Offline</td>\n",
       "      <td>H</td>\n",
       "      <td>835696351</td>\n",
       "      <td>2011-09-01</td>\n",
       "      <td>2011-10-21</td>\n",
       "      <td>50 days</td>\n",
       "      <td>9976</td>\n",
       "      <td>668.27</td>\n",
       "      <td>502.54</td>\n",
       "    </tr>\n",
       "    <tr>\n",
       "      <th>103</th>\n",
       "      <td>Middle East and North Africa</td>\n",
       "      <td>United Arab Emirates</td>\n",
       "      <td>Baby Food</td>\n",
       "      <td>Offline</td>\n",
       "      <td>M</td>\n",
       "      <td>278474080</td>\n",
       "      <td>2017-04-25</td>\n",
       "      <td>2017-06-14</td>\n",
       "      <td>50 days</td>\n",
       "      <td>5523</td>\n",
       "      <td>255.28</td>\n",
       "      <td>159.42</td>\n",
       "    </tr>\n",
       "    <tr>\n",
       "      <th>128</th>\n",
       "      <td>Asia</td>\n",
       "      <td>Mongolia</td>\n",
       "      <td>Meat</td>\n",
       "      <td>Offline</td>\n",
       "      <td>H</td>\n",
       "      <td>177994239</td>\n",
       "      <td>2014-02-07</td>\n",
       "      <td>2014-03-29</td>\n",
       "      <td>50 days</td>\n",
       "      <td>1306</td>\n",
       "      <td>421.89</td>\n",
       "      <td>364.69</td>\n",
       "    </tr>\n",
       "    <tr>\n",
       "      <th>218</th>\n",
       "      <td>Asia</td>\n",
       "      <td>Kazakhstan</td>\n",
       "      <td>Personal Care</td>\n",
       "      <td>Offline</td>\n",
       "      <td>L</td>\n",
       "      <td>210387599</td>\n",
       "      <td>2013-01-25</td>\n",
       "      <td>2013-03-16</td>\n",
       "      <td>50 days</td>\n",
       "      <td>7221</td>\n",
       "      <td>81.73</td>\n",
       "      <td>56.67</td>\n",
       "    </tr>\n",
       "  </tbody>\n",
       "</table>\n",
       "</div>"
      ],
      "text/plain": [
       "                           region               country      item_type  \\\n",
       "22                           Asia          Turkmenistan     Vegetables   \n",
       "29                         Europe               Estonia      Household   \n",
       "103  Middle East and North Africa  United Arab Emirates      Baby Food   \n",
       "128                          Asia              Mongolia           Meat   \n",
       "218                          Asia            Kazakhstan  Personal Care   \n",
       "\n",
       "    sales_channel order_priority   order_id order_date  ship_date lead_time  \\\n",
       "22         Online              M  116205585 2015-04-13 2015-06-02   50 days   \n",
       "29        Offline              H  835696351 2011-09-01 2011-10-21   50 days   \n",
       "103       Offline              M  278474080 2017-04-25 2017-06-14   50 days   \n",
       "128       Offline              H  177994239 2014-02-07 2014-03-29   50 days   \n",
       "218       Offline              L  210387599 2013-01-25 2013-03-16   50 days   \n",
       "\n",
       "     units_sold  unit_price  unit_cost  \n",
       "22         6670      154.06      90.93  \n",
       "29         9976      668.27     502.54  \n",
       "103        5523      255.28     159.42  \n",
       "128        1306      421.89     364.69  \n",
       "218        7221       81.73      56.67  "
      ]
     },
     "execution_count": 10,
     "metadata": {},
     "output_type": "execute_result"
    }
   ],
   "source": [
    "%%piper \n",
    "df\n",
    ">> clean_columns()\n",
    ">> assign(lead_time=lambda x: x['ship_date'] - x['order_date'])\n",
    ">> move_column('order_id', 'after', 'order_priority')\n",
    ">> move_column('lead_time', 'after', 'ship_date')\n",
    ">> where(\"lead_time >= @duration_limit\", global_dict=globals())\n",
    ">> head(5)"
   ]
  },
  {
   "cell_type": "code",
   "execution_count": 11,
   "metadata": {
    "ExecuteTime": {
     "end_time": "2021-02-15T19:05:04.474286Z",
     "start_time": "2021-02-15T19:05:03.405423Z"
    }
   },
   "outputs": [
    {
     "name": "stderr",
     "output_type": "stream",
     "text": [
      "Dataframe with (rows, cols) (1000000, 11) consumes 51.52 Mb\n"
     ]
    },
    {
     "data": {
      "text/html": [
       "<div>\n",
       "<style scoped>\n",
       "    .dataframe tbody tr th:only-of-type {\n",
       "        vertical-align: middle;\n",
       "    }\n",
       "\n",
       "    .dataframe tbody tr th {\n",
       "        vertical-align: top;\n",
       "    }\n",
       "\n",
       "    .dataframe thead th {\n",
       "        text-align: right;\n",
       "    }\n",
       "</style>\n",
       "<table border=\"1\" class=\"dataframe\">\n",
       "  <thead>\n",
       "    <tr style=\"text-align: right;\">\n",
       "      <th></th>\n",
       "      <th>columns</th>\n",
       "      <th>data_type</th>\n",
       "      <th>unique</th>\n",
       "      <th>isna</th>\n",
       "      <th>isnull</th>\n",
       "      <th>total_count</th>\n",
       "    </tr>\n",
       "  </thead>\n",
       "  <tbody>\n",
       "    <tr>\n",
       "      <th>0</th>\n",
       "      <td>Region</td>\n",
       "      <td>category</td>\n",
       "      <td>7</td>\n",
       "      <td>0</td>\n",
       "      <td>0</td>\n",
       "      <td>1000000</td>\n",
       "    </tr>\n",
       "    <tr>\n",
       "      <th>1</th>\n",
       "      <td>Country</td>\n",
       "      <td>category</td>\n",
       "      <td>185</td>\n",
       "      <td>0</td>\n",
       "      <td>0</td>\n",
       "      <td>1000000</td>\n",
       "    </tr>\n",
       "    <tr>\n",
       "      <th>2</th>\n",
       "      <td>Item Type</td>\n",
       "      <td>category</td>\n",
       "      <td>12</td>\n",
       "      <td>0</td>\n",
       "      <td>0</td>\n",
       "      <td>1000000</td>\n",
       "    </tr>\n",
       "    <tr>\n",
       "      <th>3</th>\n",
       "      <td>Sales Channel</td>\n",
       "      <td>category</td>\n",
       "      <td>2</td>\n",
       "      <td>0</td>\n",
       "      <td>0</td>\n",
       "      <td>1000000</td>\n",
       "    </tr>\n",
       "    <tr>\n",
       "      <th>4</th>\n",
       "      <td>Order Priority</td>\n",
       "      <td>category</td>\n",
       "      <td>4</td>\n",
       "      <td>0</td>\n",
       "      <td>0</td>\n",
       "      <td>1000000</td>\n",
       "    </tr>\n",
       "    <tr>\n",
       "      <th>5</th>\n",
       "      <td>Order Date</td>\n",
       "      <td>datetime64[ns]</td>\n",
       "      <td>2767</td>\n",
       "      <td>0</td>\n",
       "      <td>0</td>\n",
       "      <td>1000000</td>\n",
       "    </tr>\n",
       "    <tr>\n",
       "      <th>6</th>\n",
       "      <td>Order ID</td>\n",
       "      <td>int64</td>\n",
       "      <td>900000</td>\n",
       "      <td>0</td>\n",
       "      <td>0</td>\n",
       "      <td>1000000</td>\n",
       "    </tr>\n",
       "    <tr>\n",
       "      <th>7</th>\n",
       "      <td>Ship Date</td>\n",
       "      <td>datetime64[ns]</td>\n",
       "      <td>2817</td>\n",
       "      <td>0</td>\n",
       "      <td>0</td>\n",
       "      <td>1000000</td>\n",
       "    </tr>\n",
       "    <tr>\n",
       "      <th>8</th>\n",
       "      <td>Units Sold</td>\n",
       "      <td>int64</td>\n",
       "      <td>10000</td>\n",
       "      <td>0</td>\n",
       "      <td>0</td>\n",
       "      <td>1000000</td>\n",
       "    </tr>\n",
       "    <tr>\n",
       "      <th>9</th>\n",
       "      <td>Unit Price</td>\n",
       "      <td>float64</td>\n",
       "      <td>12</td>\n",
       "      <td>0</td>\n",
       "      <td>0</td>\n",
       "      <td>1000000</td>\n",
       "    </tr>\n",
       "    <tr>\n",
       "      <th>10</th>\n",
       "      <td>Unit Cost</td>\n",
       "      <td>float64</td>\n",
       "      <td>12</td>\n",
       "      <td>0</td>\n",
       "      <td>0</td>\n",
       "      <td>1000000</td>\n",
       "    </tr>\n",
       "  </tbody>\n",
       "</table>\n",
       "</div>"
      ],
      "text/plain": [
       "           columns       data_type  unique  isna  isnull  total_count\n",
       "0           Region        category       7     0       0      1000000\n",
       "1          Country        category     185     0       0      1000000\n",
       "2        Item Type        category      12     0       0      1000000\n",
       "3    Sales Channel        category       2     0       0      1000000\n",
       "4   Order Priority        category       4     0       0      1000000\n",
       "5       Order Date  datetime64[ns]    2767     0       0      1000000\n",
       "6         Order ID           int64  900000     0       0      1000000\n",
       "7        Ship Date  datetime64[ns]    2817     0       0      1000000\n",
       "8       Units Sold           int64   10000     0       0      1000000\n",
       "9       Unit Price         float64      12     0       0      1000000\n",
       "10       Unit Cost         float64      12     0       0      1000000"
      ]
     },
     "execution_count": 11,
     "metadata": {},
     "output_type": "execute_result"
    }
   ],
   "source": [
    "%piper df >> info()"
   ]
  },
  {
   "cell_type": "code",
   "execution_count": 12,
   "metadata": {
    "ExecuteTime": {
     "end_time": "2021-02-15T19:05:04.537312Z",
     "start_time": "2021-02-15T19:05:04.476673Z"
    }
   },
   "outputs": [
    {
     "data": {
      "text/html": [
       "<div>\n",
       "<style scoped>\n",
       "    .dataframe tbody tr th:only-of-type {\n",
       "        vertical-align: middle;\n",
       "    }\n",
       "\n",
       "    .dataframe tbody tr th {\n",
       "        vertical-align: top;\n",
       "    }\n",
       "\n",
       "    .dataframe thead th {\n",
       "        text-align: right;\n",
       "    }\n",
       "</style>\n",
       "<table border=\"1\" class=\"dataframe\">\n",
       "  <thead>\n",
       "    <tr style=\"text-align: right;\">\n",
       "      <th></th>\n",
       "      <th>Region</th>\n",
       "      <th>n</th>\n",
       "      <th>%</th>\n",
       "    </tr>\n",
       "  </thead>\n",
       "  <tbody>\n",
       "    <tr>\n",
       "      <th>0</th>\n",
       "      <td>Sub-Saharan Africa</td>\n",
       "      <td>259953</td>\n",
       "      <td>26.00</td>\n",
       "    </tr>\n",
       "    <tr>\n",
       "      <th>1</th>\n",
       "      <td>Europe</td>\n",
       "      <td>259036</td>\n",
       "      <td>25.90</td>\n",
       "    </tr>\n",
       "    <tr>\n",
       "      <th>2</th>\n",
       "      <td>Asia</td>\n",
       "      <td>146017</td>\n",
       "      <td>14.60</td>\n",
       "    </tr>\n",
       "    <tr>\n",
       "      <th>3</th>\n",
       "      <td>Middle East and North Africa</td>\n",
       "      <td>124344</td>\n",
       "      <td>12.43</td>\n",
       "    </tr>\n",
       "    <tr>\n",
       "      <th>4</th>\n",
       "      <td>Central America and the Caribbean</td>\n",
       "      <td>108042</td>\n",
       "      <td>10.80</td>\n",
       "    </tr>\n",
       "    <tr>\n",
       "      <th>5</th>\n",
       "      <td>Australia and Oceania</td>\n",
       "      <td>80837</td>\n",
       "      <td>8.08</td>\n",
       "    </tr>\n",
       "    <tr>\n",
       "      <th>6</th>\n",
       "      <td>North America</td>\n",
       "      <td>21771</td>\n",
       "      <td>2.18</td>\n",
       "    </tr>\n",
       "    <tr>\n",
       "      <th>7</th>\n",
       "      <td>All</td>\n",
       "      <td>1000000</td>\n",
       "      <td>99.99</td>\n",
       "    </tr>\n",
       "  </tbody>\n",
       "</table>\n",
       "</div>"
      ],
      "text/plain": [
       "                              Region        n      %\n",
       "0                 Sub-Saharan Africa   259953  26.00\n",
       "1                             Europe   259036  25.90\n",
       "2                               Asia   146017  14.60\n",
       "3       Middle East and North Africa   124344  12.43\n",
       "4  Central America and the Caribbean   108042  10.80\n",
       "5              Australia and Oceania    80837   8.08\n",
       "6                      North America    21771   2.18\n",
       "7                                All  1000000  99.99"
      ]
     },
     "execution_count": 12,
     "metadata": {},
     "output_type": "execute_result"
    }
   ],
   "source": [
    "%%piper \n",
    "counts(df, 'Region', percent=True, reset_index=True) \n",
    ">> adorn(ignore_row_index=True)"
   ]
  },
  {
   "cell_type": "code",
   "execution_count": 13,
   "metadata": {
    "ExecuteTime": {
     "end_time": "2021-02-15T19:05:04.597197Z",
     "start_time": "2021-02-15T19:05:04.539300Z"
    }
   },
   "outputs": [
    {
     "data": {
      "text/html": [
       "<div>\n",
       "<style scoped>\n",
       "    .dataframe tbody tr th:only-of-type {\n",
       "        vertical-align: middle;\n",
       "    }\n",
       "\n",
       "    .dataframe tbody tr th {\n",
       "        vertical-align: top;\n",
       "    }\n",
       "\n",
       "    .dataframe thead th {\n",
       "        text-align: right;\n",
       "    }\n",
       "</style>\n",
       "<table border=\"1\" class=\"dataframe\">\n",
       "  <thead>\n",
       "    <tr style=\"text-align: right;\">\n",
       "      <th></th>\n",
       "      <th>Sales Channel</th>\n",
       "      <th>n</th>\n",
       "    </tr>\n",
       "  </thead>\n",
       "  <tbody>\n",
       "    <tr>\n",
       "      <th>0</th>\n",
       "      <td>Offline</td>\n",
       "      <td>500249</td>\n",
       "    </tr>\n",
       "    <tr>\n",
       "      <th>1</th>\n",
       "      <td>Online</td>\n",
       "      <td>499751</td>\n",
       "    </tr>\n",
       "    <tr>\n",
       "      <th>2</th>\n",
       "      <td>All</td>\n",
       "      <td>1000000</td>\n",
       "    </tr>\n",
       "  </tbody>\n",
       "</table>\n",
       "</div>"
      ],
      "text/plain": [
       "  Sales Channel        n\n",
       "0       Offline   500249\n",
       "1        Online   499751\n",
       "2           All  1000000"
      ]
     },
     "execution_count": 13,
     "metadata": {},
     "output_type": "execute_result"
    }
   ],
   "source": [
    "%%piper \n",
    "df \n",
    ">> counts('Sales Channel', reset_index=True)\n",
    ">> adorn(ignore_row_index=True)"
   ]
  },
  {
   "cell_type": "code",
   "execution_count": 14,
   "metadata": {
    "ExecuteTime": {
     "end_time": "2021-02-15T19:05:04.731611Z",
     "start_time": "2021-02-15T19:05:04.600207Z"
    }
   },
   "outputs": [
    {
     "data": {
      "text/html": [
       "<div>\n",
       "<style scoped>\n",
       "    .dataframe tbody tr th:only-of-type {\n",
       "        vertical-align: middle;\n",
       "    }\n",
       "\n",
       "    .dataframe tbody tr th {\n",
       "        vertical-align: top;\n",
       "    }\n",
       "\n",
       "    .dataframe thead th {\n",
       "        text-align: right;\n",
       "    }\n",
       "</style>\n",
       "<table border=\"1\" class=\"dataframe\">\n",
       "  <thead>\n",
       "    <tr style=\"text-align: right;\">\n",
       "      <th></th>\n",
       "      <th>Region</th>\n",
       "      <th>C</th>\n",
       "      <th>H</th>\n",
       "      <th>M</th>\n",
       "      <th>L</th>\n",
       "      <th>All</th>\n",
       "    </tr>\n",
       "  </thead>\n",
       "  <tbody>\n",
       "    <tr>\n",
       "      <th>0</th>\n",
       "      <td>Sub-Saharan Africa</td>\n",
       "      <td>326324159</td>\n",
       "      <td>323777790</td>\n",
       "      <td>323894262</td>\n",
       "      <td>325811341</td>\n",
       "      <td>1299807552</td>\n",
       "    </tr>\n",
       "    <tr>\n",
       "      <th>1</th>\n",
       "      <td>Europe</td>\n",
       "      <td>324340380</td>\n",
       "      <td>324086079</td>\n",
       "      <td>323206262</td>\n",
       "      <td>324250451</td>\n",
       "      <td>1295883172</td>\n",
       "    </tr>\n",
       "    <tr>\n",
       "      <th>2</th>\n",
       "      <td>Asia</td>\n",
       "      <td>181967072</td>\n",
       "      <td>182127329</td>\n",
       "      <td>182027601</td>\n",
       "      <td>182384174</td>\n",
       "      <td>728506176</td>\n",
       "    </tr>\n",
       "    <tr>\n",
       "      <th>3</th>\n",
       "      <td>Middle East and North Africa</td>\n",
       "      <td>156089279</td>\n",
       "      <td>155759219</td>\n",
       "      <td>154570759</td>\n",
       "      <td>154929315</td>\n",
       "      <td>621348572</td>\n",
       "    </tr>\n",
       "    <tr>\n",
       "      <th>4</th>\n",
       "      <td>Central America and the Caribbean</td>\n",
       "      <td>134614184</td>\n",
       "      <td>136222257</td>\n",
       "      <td>134876690</td>\n",
       "      <td>134136229</td>\n",
       "      <td>539849360</td>\n",
       "    </tr>\n",
       "    <tr>\n",
       "      <th>5</th>\n",
       "      <td>Australia and Oceania</td>\n",
       "      <td>101670417</td>\n",
       "      <td>101751778</td>\n",
       "      <td>102129538</td>\n",
       "      <td>99490384</td>\n",
       "      <td>405042117</td>\n",
       "    </tr>\n",
       "    <tr>\n",
       "      <th>6</th>\n",
       "      <td>North America</td>\n",
       "      <td>27023446</td>\n",
       "      <td>27232388</td>\n",
       "      <td>27300491</td>\n",
       "      <td>26874028</td>\n",
       "      <td>108430353</td>\n",
       "    </tr>\n",
       "    <tr>\n",
       "      <th>7</th>\n",
       "      <td>All</td>\n",
       "      <td>1252028937</td>\n",
       "      <td>1250956840</td>\n",
       "      <td>1248005603</td>\n",
       "      <td>1247875922</td>\n",
       "      <td>4998867302</td>\n",
       "    </tr>\n",
       "  </tbody>\n",
       "</table>\n",
       "</div>"
      ],
      "text/plain": [
       "                              Region           C           H           M  \\\n",
       "0                 Sub-Saharan Africa   326324159   323777790   323894262   \n",
       "1                             Europe   324340380   324086079   323206262   \n",
       "2                               Asia   181967072   182127329   182027601   \n",
       "3       Middle East and North Africa   156089279   155759219   154570759   \n",
       "4  Central America and the Caribbean   134614184   136222257   134876690   \n",
       "5              Australia and Oceania   101670417   101751778   102129538   \n",
       "6                      North America    27023446    27232388    27300491   \n",
       "7                                All  1252028937  1250956840  1248005603   \n",
       "\n",
       "            L         All  \n",
       "0   325811341  1299807552  \n",
       "1   324250451  1295883172  \n",
       "2   182384174   728506176  \n",
       "3   154929315   621348572  \n",
       "4   134136229   539849360  \n",
       "5    99490384   405042117  \n",
       "6    26874028   108430353  \n",
       "7  1247875922  4998867302  "
      ]
     },
     "execution_count": 14,
     "metadata": {},
     "output_type": "execute_result"
    }
   ],
   "source": [
    "%%piper\n",
    "df \n",
    ">> group_by(['Region', 'Order Priority'])\n",
    ">> summarise(TotalUnitsSold=('Units Sold', 'sum')).unstack()\n",
    ">> flatten_cols(remove_prefix='TotalUnitsSold')\n",
    ">> pd.DataFrame.reset_index()\n",
    ">> adorn(axis='column', ignore_row_index=True)\n",
    ">> order_by(['All'], ascending=False)\n",
    ">> adorn(ignore_row_index=True)\n",
    ">> set_columns(columns=['Region', 'C', 'H', 'M', 'L', 'All'])"
   ]
  },
  {
   "cell_type": "code",
   "execution_count": null,
   "metadata": {},
   "outputs": [],
   "source": []
  },
  {
   "cell_type": "code",
   "execution_count": null,
   "metadata": {},
   "outputs": [],
   "source": []
  },
  {
   "cell_type": "code",
   "execution_count": null,
   "metadata": {},
   "outputs": [],
   "source": []
  },
  {
   "cell_type": "code",
   "execution_count": null,
   "metadata": {},
   "outputs": [],
   "source": []
  },
  {
   "cell_type": "code",
   "execution_count": null,
   "metadata": {},
   "outputs": [],
   "source": []
  },
  {
   "cell_type": "code",
   "execution_count": null,
   "metadata": {},
   "outputs": [],
   "source": []
  }
 ],
 "metadata": {
  "kernelspec": {
   "display_name": "Python 3",
   "language": "python",
   "name": "python3"
  },
  "language_info": {
   "codemirror_mode": {
    "name": "ipython",
    "version": 3
   },
   "file_extension": ".py",
   "mimetype": "text/x-python",
   "name": "python",
   "nbconvert_exporter": "python",
   "pygments_lexer": "ipython3",
   "version": "3.8.5"
  },
  "toc": {
   "base_numbering": 1,
   "nav_menu": {},
   "number_sections": true,
   "sideBar": true,
   "skip_h1_title": false,
   "title_cell": "Table of Contents",
   "title_sidebar": "Contents",
   "toc_cell": false,
   "toc_position": {},
   "toc_section_display": true,
   "toc_window_display": false
  }
 },
 "nbformat": 4,
 "nbformat_minor": 4
}
