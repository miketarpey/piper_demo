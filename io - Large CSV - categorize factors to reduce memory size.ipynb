{
 "cells": [
  {
   "cell_type": "code",
   "execution_count": null,
   "metadata": {
    "ExecuteTime": {
     "end_time": "2021-02-26T14:58:26.414769Z",
     "start_time": "2021-02-26T14:58:26.411522Z"
    }
   },
   "outputs": [],
   "source": [
    "# http://eforexcel.com/wp/downloads-18-sample-csv-files-data-sets-for-testing-sales/"
   ]
  },
  {
   "cell_type": "code",
   "execution_count": null,
   "metadata": {
    "ExecuteTime": {
     "end_time": "2021-02-26T14:58:26.796365Z",
     "start_time": "2021-02-26T14:58:26.420842Z"
    }
   },
   "outputs": [],
   "source": [
    "from piper import piper\n",
    "from piper.verbs import *"
   ]
  },
  {
   "cell_type": "code",
   "execution_count": null,
   "metadata": {
    "ExecuteTime": {
     "end_time": "2021-02-26T14:58:26.802224Z",
     "start_time": "2021-02-26T14:58:26.797999Z"
    }
   },
   "outputs": [],
   "source": [
    "def set_categories(df):\n",
    "    \n",
    "    categories = ['Region', 'Country', 'Item Type', 'Sales Channel', 'Order Priority']\n",
    "\n",
    "    for category in categories:   \n",
    "        categories = counts(df, category).index.tolist()\n",
    "        categories = pd.CategoricalDtype(categories)\n",
    "        df[category] = df[category].astype(categories)\n",
    "        memory(df)\n",
    "        \n",
    "    return df"
   ]
  },
  {
   "cell_type": "code",
   "execution_count": null,
   "metadata": {
    "ExecuteTime": {
     "end_time": "2021-02-26T14:58:26.808095Z",
     "start_time": "2021-02-26T14:58:26.803990Z"
    }
   },
   "outputs": [],
   "source": [
    "def format_dates(df):\n",
    "    \n",
    "    logger.info('formatting dates...')\n",
    "    \n",
    "    dates = ['Order Date', 'Ship Date']\n",
    "    \n",
    "    for date_ in dates:\n",
    "        df[date_] = pd.to_datetime(df[date_], format='%m/%d/%Y')\n",
    "        \n",
    "    return df"
   ]
  },
  {
   "cell_type": "code",
   "execution_count": null,
   "metadata": {
    "ExecuteTime": {
     "end_time": "2021-02-26T14:58:26.813965Z",
     "start_time": "2021-02-26T14:58:26.809953Z"
    }
   },
   "outputs": [],
   "source": [
    "xl_file = 'inputs/1000000 Sales Records.csv'"
   ]
  },
  {
   "cell_type": "code",
   "execution_count": null,
   "metadata": {
    "ExecuteTime": {
     "end_time": "2021-02-26T14:58:26.921991Z",
     "start_time": "2021-02-26T14:58:26.816369Z"
    }
   },
   "outputs": [],
   "source": [
    "%%piper\n",
    "df <- pd.read_csv(xl_file)\n",
    ">> drop(columns=['Total Revenue', 'Total Cost', 'Total Profit'])\n",
    ">> distinct() # remove duplicate rows\n",
    ">> format_dates()\n",
    ">> set_categories() "
   ]
  },
  {
   "cell_type": "code",
   "execution_count": null,
   "metadata": {
    "ExecuteTime": {
     "end_time": "2021-02-26T14:58:26.924427Z",
     "start_time": "2021-02-26T14:58:26.440Z"
    }
   },
   "outputs": [],
   "source": [
    "duration_limit = pd.Timedelta(50, unit='days')"
   ]
  },
  {
   "cell_type": "code",
   "execution_count": null,
   "metadata": {
    "ExecuteTime": {
     "end_time": "2021-02-26T14:58:26.925747Z",
     "start_time": "2021-02-26T14:58:26.449Z"
    }
   },
   "outputs": [],
   "source": [
    "%%piper \n",
    "df\n",
    ">> clean_columns()\n",
    ">> assign(lead_time=lambda x: x['ship_date'] - x['order_date'])\n",
    ">> move_column('order_id', 'after', 'order_priority')\n",
    ">> move_column('lead_time', 'after', 'ship_date')\n",
    ">> where(\"lead_time >= @duration_limit\", global_dict=globals())\n",
    ">> head(5)"
   ]
  },
  {
   "cell_type": "code",
   "execution_count": null,
   "metadata": {
    "ExecuteTime": {
     "end_time": "2021-02-26T14:58:26.927256Z",
     "start_time": "2021-02-26T14:58:26.456Z"
    }
   },
   "outputs": [],
   "source": [
    "%piper df >> info()"
   ]
  },
  {
   "cell_type": "code",
   "execution_count": null,
   "metadata": {
    "ExecuteTime": {
     "end_time": "2021-02-26T14:58:26.928384Z",
     "start_time": "2021-02-26T14:58:26.461Z"
    }
   },
   "outputs": [],
   "source": [
    "%%piper \n",
    "counts(df, 'Region', percent=True, reset_index=True) \n",
    ">> adorn(ignore_row_index=True)"
   ]
  },
  {
   "cell_type": "code",
   "execution_count": null,
   "metadata": {
    "ExecuteTime": {
     "end_time": "2021-02-26T14:58:26.929210Z",
     "start_time": "2021-02-26T14:58:26.466Z"
    }
   },
   "outputs": [],
   "source": [
    "%%piper \n",
    "df \n",
    ">> counts('Sales Channel', reset_index=True)\n",
    ">> adorn(ignore_row_index=True)"
   ]
  },
  {
   "cell_type": "code",
   "execution_count": null,
   "metadata": {
    "ExecuteTime": {
     "end_time": "2021-02-26T14:58:26.933527Z",
     "start_time": "2021-02-26T14:58:26.473Z"
    }
   },
   "outputs": [],
   "source": [
    "%%piper\n",
    "df \n",
    ">> group_by(['Region', 'Order Priority'])\n",
    ">> summarise(TotalUnitsSold=('Units Sold', 'sum')).unstack()\n",
    ">> flatten_cols(remove_prefix='TotalUnitsSold')\n",
    ">> pd.DataFrame.reset_index()\n",
    ">> adorn(axis='column', ignore_row_index=True)\n",
    ">> order_by(['All'], ascending=False)\n",
    ">> adorn(ignore_row_index=True)\n",
    ">> set_columns(columns=['Region', 'C', 'H', 'M', 'L', 'All'])"
   ]
  },
  {
   "cell_type": "code",
   "execution_count": null,
   "metadata": {},
   "outputs": [],
   "source": []
  },
  {
   "cell_type": "code",
   "execution_count": null,
   "metadata": {},
   "outputs": [],
   "source": []
  },
  {
   "cell_type": "code",
   "execution_count": null,
   "metadata": {},
   "outputs": [],
   "source": []
  },
  {
   "cell_type": "code",
   "execution_count": null,
   "metadata": {},
   "outputs": [],
   "source": []
  },
  {
   "cell_type": "code",
   "execution_count": null,
   "metadata": {},
   "outputs": [],
   "source": []
  },
  {
   "cell_type": "code",
   "execution_count": null,
   "metadata": {},
   "outputs": [],
   "source": []
  }
 ],
 "metadata": {
  "kernelspec": {
   "display_name": "Python 3",
   "language": "python",
   "name": "python3"
  },
  "language_info": {
   "codemirror_mode": {
    "name": "ipython",
    "version": 3
   },
   "file_extension": ".py",
   "mimetype": "text/x-python",
   "name": "python",
   "nbconvert_exporter": "python",
   "pygments_lexer": "ipython3",
   "version": "3.8.5"
  },
  "toc": {
   "base_numbering": 1,
   "nav_menu": {},
   "number_sections": true,
   "sideBar": true,
   "skip_h1_title": false,
   "title_cell": "Table of Contents",
   "title_sidebar": "Contents",
   "toc_cell": false,
   "toc_position": {},
   "toc_section_display": true,
   "toc_window_display": false
  }
 },
 "nbformat": 4,
 "nbformat_minor": 4
}
