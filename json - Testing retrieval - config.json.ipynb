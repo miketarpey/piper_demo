{
 "cells": [
  {
   "cell_type": "code",
   "execution_count": 1,
   "metadata": {
    "ExecuteTime": {
     "end_time": "2021-02-10T17:35:19.144648Z",
     "start_time": "2021-02-10T17:35:17.900285Z"
    }
   },
   "outputs": [
    {
     "name": "stderr",
     "output_type": "stream",
     "text": [
      "piper version 0.0.7, last run: Friday, 19 February 2021 12:11:52\n"
     ]
    }
   ],
   "source": [
    "from piper import piper\n",
    "from piper.defaults import *\n",
    "from piper.verbs import *\n",
    "from piper.configure import *\n",
    "from piper.factory import get_sample_data"
   ]
  },
  {
   "cell_type": "code",
   "execution_count": 2,
   "metadata": {
    "ExecuteTime": {
     "end_time": "2021-02-10T17:35:19.159874Z",
     "start_time": "2021-02-10T17:35:19.147053Z"
    }
   },
   "outputs": [
    {
     "name": "stderr",
     "output_type": "stream",
     "text": [
      "config file: /home/mike/Documents/github_repos/piper_demo/config.json\n"
     ]
    },
    {
     "data": {
      "text/plain": [
       "{'meta': {'project': 'notebook project'},\n",
       " 'folders': ['inputs', 'src', 'sql', 'docs', 'outputs', 'reports'],\n",
       " 'variables': {'dummy_variable': 'dummy'},\n",
       " 'connections': {'location': 'connections.json'},\n",
       " 'excel': {'meta': 'xl_meta.json', 'formats': 'formats.json'},\n",
       " 'mail_config': {'server': 'localhost',\n",
       "  'port': 25,\n",
       "  'sender': 'someone@acme.com'},\n",
       " 'project': 'notebook project'}"
      ]
     },
     "execution_count": 2,
     "metadata": {},
     "output_type": "execute_result"
    }
   ],
   "source": [
    "get_config('config.json', info=True)"
   ]
  }
 ],
 "metadata": {
  "kernelspec": {
   "display_name": "python38",
   "language": "python",
   "name": "python38"
  },
  "language_info": {
   "codemirror_mode": {
    "name": "ipython",
    "version": 3
   },
   "file_extension": ".py",
   "mimetype": "text/x-python",
   "name": "python",
   "nbconvert_exporter": "python",
   "pygments_lexer": "ipython3",
   "version": "3.8.5"
  },
  "toc": {
   "base_numbering": 1,
   "nav_menu": {},
   "number_sections": true,
   "sideBar": true,
   "skip_h1_title": false,
   "title_cell": "Table of Contents",
   "title_sidebar": "Contents",
   "toc_cell": false,
   "toc_position": {},
   "toc_section_display": true,
   "toc_window_display": false
  }
 },
 "nbformat": 4,
 "nbformat_minor": 4
}
