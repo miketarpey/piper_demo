{
 "cells": [
  {
   "cell_type": "code",
   "execution_count": 1,
   "metadata": {
    "ExecuteTime": {
     "end_time": "2021-03-29T11:56:47.232169Z",
     "start_time": "2021-03-29T11:56:47.215100Z"
    }
   },
   "outputs": [],
   "source": [
    "from piper.utils import *"
   ]
  },
  {
   "cell_type": "code",
   "execution_count": 2,
   "metadata": {
    "ExecuteTime": {
     "end_time": "2021-03-29T11:56:47.932470Z",
     "start_time": "2021-03-29T11:56:47.860029Z"
    }
   },
   "outputs": [
    {
     "data": {
      "text/plain": [
       "{'meta': {'project': 'notebook project'},\n",
       " 'folders': ['inputs', 'src', 'sql', 'docs', 'outputs', 'reports'],\n",
       " 'variables': {'dummy_variable': 'dummy'},\n",
       " 'connections': {'location': 'connections.json'},\n",
       " 'excel': {'meta': 'xl_meta.json', 'formats': 'formats.json'},\n",
       " 'mail_config': {'server': 'localhost',\n",
       "  'port': 25,\n",
       "  'sender': 'someone@acme.com'},\n",
       " 'project': 'notebook project'}"
      ]
     },
     "execution_count": 2,
     "metadata": {},
     "output_type": "execute_result"
    }
   ],
   "source": [
    "get_config('config.json', info=True)"
   ]
  },
  {
   "cell_type": "code",
   "execution_count": null,
   "metadata": {},
   "outputs": [],
   "source": []
  }
 ],
 "metadata": {
  "kernelspec": {
   "display_name": "Python 3",
   "language": "python",
   "name": "python3"
  },
  "language_info": {
   "codemirror_mode": {
    "name": "ipython",
    "version": 3
   },
   "file_extension": ".py",
   "mimetype": "text/x-python",
   "name": "python",
   "nbconvert_exporter": "python",
   "pygments_lexer": "ipython3",
   "version": "3.8.5"
  },
  "toc": {
   "base_numbering": 1,
   "nav_menu": {},
   "number_sections": true,
   "sideBar": true,
   "skip_h1_title": false,
   "title_cell": "Table of Contents",
   "title_sidebar": "Contents",
   "toc_cell": false,
   "toc_position": {},
   "toc_section_display": true,
   "toc_window_display": false
  }
 },
 "nbformat": 4,
 "nbformat_minor": 4
}
