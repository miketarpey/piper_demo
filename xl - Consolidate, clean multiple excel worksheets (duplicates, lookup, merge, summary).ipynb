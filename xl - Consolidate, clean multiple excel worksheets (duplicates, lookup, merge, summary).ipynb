{
 "cells": [
  {
   "cell_type": "code",
   "execution_count": 1,
   "metadata": {
    "ExecuteTime": {
     "end_time": "2021-02-11T11:05:18.015425Z",
     "start_time": "2021-02-11T11:05:17.550531Z"
    }
   },
   "outputs": [],
   "source": [
    "from piper import piper\n",
    "from piper.verbs import *\n",
    "from piper.pandas import *"
   ]
  },
  {
   "cell_type": "code",
   "execution_count": 2,
   "metadata": {
    "ExecuteTime": {
     "end_time": "2021-02-11T11:05:18.020346Z",
     "start_time": "2021-02-11T11:05:18.017159Z"
    }
   },
   "outputs": [],
   "source": [
    "# https://youtu.be/FI4HkCzMaIk"
   ]
  },
  {
   "cell_type": "markdown",
   "metadata": {},
   "source": [
    "# Data import"
   ]
  },
  {
   "cell_type": "markdown",
   "metadata": {},
   "source": [
    "## Read multiple excel sheets within a workbook"
   ]
  },
  {
   "cell_type": "code",
   "execution_count": 4,
   "metadata": {
    "ExecuteTime": {
     "end_time": "2021-02-11T11:05:18.372982Z",
     "start_time": "2021-02-11T11:05:18.027428Z"
    }
   },
   "outputs": [
    {
     "name": "stderr",
     "output_type": "stream",
     "text": [
      "Sheets: ['Jan', 'Feb', 'Mar', 'Apr', 'May', 'Jun', 'Jul', 'Report']\n"
     ]
    }
   ],
   "source": [
    "xl_file = 'inputs/Current_Workbook_Append_XelPlus.xlsx'\n",
    "\n",
    "sheets = read_excel_sheets(xl_file, return_type='list')\n",
    "logger.info(f'Sheets: {sheets}')"
   ]
  },
  {
   "cell_type": "code",
   "execution_count": 5,
   "metadata": {
    "ExecuteTime": {
     "end_time": "2021-02-11T11:05:18.591425Z",
     "start_time": "2021-02-11T11:05:18.375849Z"
    }
   },
   "outputs": [
    {
     "name": "stderr",
     "output_type": "stream",
     "text": [
      "329 rows, 6 columns\n"
     ]
    },
    {
     "data": {
      "text/html": [
       "<div>\n",
       "<style scoped>\n",
       "    .dataframe tbody tr th:only-of-type {\n",
       "        vertical-align: middle;\n",
       "    }\n",
       "\n",
       "    .dataframe tbody tr th {\n",
       "        vertical-align: top;\n",
       "    }\n",
       "\n",
       "    .dataframe thead th {\n",
       "        text-align: right;\n",
       "    }\n",
       "</style>\n",
       "<table border=\"1\" class=\"dataframe\">\n",
       "  <thead>\n",
       "    <tr style=\"text-align: right;\">\n",
       "      <th></th>\n",
       "      <th>Sales Document</th>\n",
       "      <th>Customer Name</th>\n",
       "      <th>Article Description</th>\n",
       "      <th>Document Date</th>\n",
       "      <th>Quantity</th>\n",
       "      <th>Sales Value</th>\n",
       "    </tr>\n",
       "  </thead>\n",
       "  <tbody>\n",
       "    <tr>\n",
       "      <th>0</th>\n",
       "      <td>71102</td>\n",
       "      <td>Dellicia</td>\n",
       "      <td>Unisex tank top (white)</td>\n",
       "      <td>2020-01-11</td>\n",
       "      <td>1</td>\n",
       "      <td>1458.40</td>\n",
       "    </tr>\n",
       "    <tr>\n",
       "      <th>1</th>\n",
       "      <td>71107</td>\n",
       "      <td>Dellicia</td>\n",
       "      <td>Men type T (Brown) simple</td>\n",
       "      <td>2020-01-01</td>\n",
       "      <td>341</td>\n",
       "      <td>4433.28</td>\n",
       "    </tr>\n",
       "    <tr>\n",
       "      <th>2</th>\n",
       "      <td>71108</td>\n",
       "      <td>Erma</td>\n",
       "      <td>Men type T simple (white)</td>\n",
       "      <td>2020-01-21</td>\n",
       "      <td>265</td>\n",
       "      <td>3180.40</td>\n",
       "    </tr>\n",
       "    <tr>\n",
       "      <th>3</th>\n",
       "      <td>71110</td>\n",
       "      <td>Erma</td>\n",
       "      <td>Men dress shirt (black)</td>\n",
       "      <td>2020-01-11</td>\n",
       "      <td>351</td>\n",
       "      <td>8775.34</td>\n",
       "    </tr>\n",
       "  </tbody>\n",
       "</table>\n",
       "</div>"
      ],
      "text/plain": [
       "  Sales Document Customer Name         Article Description Document Date  \\\n",
       "0          71102      Dellicia     Unisex tank top (white)    2020-01-11   \n",
       "1          71107      Dellicia   Men type T (Brown) simple    2020-01-01   \n",
       "2          71108          Erma  Men type T simple (white)     2020-01-21   \n",
       "3          71110          Erma     Men dress shirt (black)    2020-01-11   \n",
       "\n",
       "   Quantity  Sales Value  \n",
       "0         1      1458.40  \n",
       "1       341      4433.28  \n",
       "2       265      3180.40  \n",
       "3       351      8775.34  "
      ]
     },
     "execution_count": 5,
     "metadata": {},
     "output_type": "execute_result"
    }
   ],
   "source": [
    "df = read_excel_sheets(xl_file, sheets=sheets[:-1], usecols='A:F', \n",
    "                       include_sheet=False, info=False, skiprows=2)\n",
    "head(df)"
   ]
  },
  {
   "cell_type": "markdown",
   "metadata": {},
   "source": [
    "## Filter and add calculated columns (assign)"
   ]
  },
  {
   "cell_type": "code",
   "execution_count": 6,
   "metadata": {
    "ExecuteTime": {
     "end_time": "2021-02-11T11:05:18.617255Z",
     "start_time": "2021-02-11T11:05:18.595226Z"
    }
   },
   "outputs": [],
   "source": [
    "%%piper\n",
    "df <- df \n",
    ">> clean_columns()\n",
    ">> where(\"sales_document != 'Grand Total'\") \n",
    ">> assign(sales_document = lambda x: x.sales_document.ffill(),\n",
    "         customer_name = lambda x: x.customer_name.ffill(),\n",
    "         month=lambda x: x.document_date.dt.strftime('%Y-%m'))\n",
    ".reset_index(drop=True)"
   ]
  },
  {
   "cell_type": "markdown",
   "metadata": {},
   "source": [
    "## Check for duplicates"
   ]
  },
  {
   "cell_type": "code",
   "execution_count": 7,
   "metadata": {
    "ExecuteTime": {
     "end_time": "2021-02-11T11:05:18.667149Z",
     "start_time": "2021-02-11T11:05:18.622983Z"
    }
   },
   "outputs": [
    {
     "name": "stderr",
     "output_type": "stream",
     "text": [
      "322 rows, 8 columns\n"
     ]
    },
    {
     "data": {
      "text/html": [
       "<div>\n",
       "<style scoped>\n",
       "    .dataframe tbody tr th:only-of-type {\n",
       "        vertical-align: middle;\n",
       "    }\n",
       "\n",
       "    .dataframe tbody tr th {\n",
       "        vertical-align: top;\n",
       "    }\n",
       "\n",
       "    .dataframe thead th {\n",
       "        text-align: right;\n",
       "    }\n",
       "</style>\n",
       "<table border=\"1\" class=\"dataframe\">\n",
       "  <thead>\n",
       "    <tr style=\"text-align: right;\">\n",
       "      <th></th>\n",
       "      <th>duplicate</th>\n",
       "      <th>sales_document</th>\n",
       "      <th>customer_name</th>\n",
       "      <th>article_description</th>\n",
       "      <th>document_date</th>\n",
       "      <th>quantity</th>\n",
       "      <th>sales_value</th>\n",
       "      <th>month</th>\n",
       "    </tr>\n",
       "  </thead>\n",
       "  <tbody>\n",
       "    <tr>\n",
       "      <th>20</th>\n",
       "      <td>True</td>\n",
       "      <td>71137</td>\n",
       "      <td>Dellicia</td>\n",
       "      <td>Laptop bag (black)</td>\n",
       "      <td>2020-01-11</td>\n",
       "      <td>370</td>\n",
       "      <td>22200.20</td>\n",
       "      <td>2020-01</td>\n",
       "    </tr>\n",
       "    <tr>\n",
       "      <th>63</th>\n",
       "      <td>True</td>\n",
       "      <td>70330</td>\n",
       "      <td>Dellicia</td>\n",
       "      <td>Laptop bag (black)</td>\n",
       "      <td>2020-02-22</td>\n",
       "      <td>326</td>\n",
       "      <td>19560.10</td>\n",
       "      <td>2020-02</td>\n",
       "    </tr>\n",
       "    <tr>\n",
       "      <th>69</th>\n",
       "      <td>True</td>\n",
       "      <td>70450</td>\n",
       "      <td>Dellicia</td>\n",
       "      <td>Laptop bag (black)</td>\n",
       "      <td>2020-02-02</td>\n",
       "      <td>275</td>\n",
       "      <td>16500.40</td>\n",
       "      <td>2020-02</td>\n",
       "    </tr>\n",
       "    <tr>\n",
       "      <th>125</th>\n",
       "      <td>True</td>\n",
       "      <td>69706</td>\n",
       "      <td>Dellicia</td>\n",
       "      <td>Laptop bag (black)</td>\n",
       "      <td>2020-03-13</td>\n",
       "      <td>397</td>\n",
       "      <td>23820.37</td>\n",
       "      <td>2020-03</td>\n",
       "    </tr>\n",
       "  </tbody>\n",
       "</table>\n",
       "</div>"
      ],
      "text/plain": [
       "     duplicate  sales_document customer_name article_description  \\\n",
       "20        True           71137      Dellicia  Laptop bag (black)   \n",
       "63        True           70330      Dellicia  Laptop bag (black)   \n",
       "69        True           70450      Dellicia  Laptop bag (black)   \n",
       "125       True           69706      Dellicia  Laptop bag (black)   \n",
       "\n",
       "    document_date  quantity  sales_value    month  \n",
       "20     2020-01-11       370     22200.20  2020-01  \n",
       "63     2020-02-22       326     19560.10  2020-02  \n",
       "69     2020-02-02       275     16500.40  2020-02  \n",
       "125    2020-03-13       397     23820.37  2020-03  "
      ]
     },
     "execution_count": 7,
     "metadata": {},
     "output_type": "execute_result"
    }
   ],
   "source": [
    "%%piper \n",
    "df\n",
    ">> duplicated(['customer_name', 'article_description'])\n",
    ">> head()"
   ]
  },
  {
   "cell_type": "markdown",
   "metadata": {},
   "source": [
    "## Perform a lookup of a secondary (table)"
   ]
  },
  {
   "cell_type": "code",
   "execution_count": 8,
   "metadata": {
    "ExecuteTime": {
     "end_time": "2021-02-11T11:05:18.701865Z",
     "start_time": "2021-02-11T11:05:18.671861Z"
    }
   },
   "outputs": [
    {
     "data": {
      "text/html": [
       "<div>\n",
       "<style scoped>\n",
       "    .dataframe tbody tr th:only-of-type {\n",
       "        vertical-align: middle;\n",
       "    }\n",
       "\n",
       "    .dataframe tbody tr th {\n",
       "        vertical-align: top;\n",
       "    }\n",
       "\n",
       "    .dataframe thead th {\n",
       "        text-align: right;\n",
       "    }\n",
       "</style>\n",
       "<table border=\"1\" class=\"dataframe\">\n",
       "  <thead>\n",
       "    <tr style=\"text-align: right;\">\n",
       "      <th></th>\n",
       "      <th>customer</th>\n",
       "      <th>department</th>\n",
       "    </tr>\n",
       "  </thead>\n",
       "  <tbody>\n",
       "    <tr>\n",
       "      <th>0</th>\n",
       "      <td>Dellicia</td>\n",
       "      <td>Sales</td>\n",
       "    </tr>\n",
       "    <tr>\n",
       "      <th>1</th>\n",
       "      <td>Erma</td>\n",
       "      <td>IT</td>\n",
       "    </tr>\n",
       "  </tbody>\n",
       "</table>\n",
       "</div>"
      ],
      "text/plain": [
       "   customer department\n",
       "0  Dellicia      Sales\n",
       "1      Erma         IT"
      ]
     },
     "execution_count": 8,
     "metadata": {},
     "output_type": "execute_result"
    }
   ],
   "source": [
    "data = {'customer': ['Dellicia', 'Erma'], 'department': ['Sales', 'IT']}\n",
    "xref = pd.DataFrame(data)\n",
    "xref"
   ]
  },
  {
   "cell_type": "code",
   "execution_count": 9,
   "metadata": {
    "ExecuteTime": {
     "end_time": "2021-02-11T11:05:18.794323Z",
     "start_time": "2021-02-11T11:05:18.715073Z"
    }
   },
   "outputs": [
    {
     "name": "stderr",
     "output_type": "stream",
     "text": [
      "merge function 'how' parameter defaulted to 'left'\n",
      "46 rows, 9 columns\n"
     ]
    },
    {
     "data": {
      "text/html": [
       "<div>\n",
       "<style scoped>\n",
       "    .dataframe tbody tr th:only-of-type {\n",
       "        vertical-align: middle;\n",
       "    }\n",
       "\n",
       "    .dataframe tbody tr th {\n",
       "        vertical-align: top;\n",
       "    }\n",
       "\n",
       "    .dataframe thead th {\n",
       "        text-align: right;\n",
       "    }\n",
       "</style>\n",
       "<table border=\"1\" class=\"dataframe\">\n",
       "  <thead>\n",
       "    <tr style=\"text-align: right;\">\n",
       "      <th></th>\n",
       "      <th>sales_document</th>\n",
       "      <th>customer_name</th>\n",
       "      <th>department</th>\n",
       "      <th>article_description</th>\n",
       "      <th>document_date</th>\n",
       "      <th>quantity</th>\n",
       "      <th>sales_value</th>\n",
       "      <th>month</th>\n",
       "      <th>customer</th>\n",
       "    </tr>\n",
       "  </thead>\n",
       "  <tbody>\n",
       "    <tr>\n",
       "      <th>46</th>\n",
       "      <td>70003</td>\n",
       "      <td>Erma</td>\n",
       "      <td>IT</td>\n",
       "      <td>Women crop top (black)</td>\n",
       "      <td>2020-02-21</td>\n",
       "      <td>411</td>\n",
       "      <td>4110.08</td>\n",
       "      <td>2020-02</td>\n",
       "      <td>Erma</td>\n",
       "    </tr>\n",
       "    <tr>\n",
       "      <th>47</th>\n",
       "      <td>70007</td>\n",
       "      <td>Erma</td>\n",
       "      <td>IT</td>\n",
       "      <td>Women dress (black) long</td>\n",
       "      <td>2020-02-12</td>\n",
       "      <td>187</td>\n",
       "      <td>11594.40</td>\n",
       "      <td>2020-02</td>\n",
       "      <td>Erma</td>\n",
       "    </tr>\n",
       "    <tr>\n",
       "      <th>48</th>\n",
       "      <td>70043</td>\n",
       "      <td>Dellicia</td>\n",
       "      <td>Sales</td>\n",
       "      <td>Women crop top (black)</td>\n",
       "      <td>2020-02-11</td>\n",
       "      <td>254</td>\n",
       "      <td>2540.19</td>\n",
       "      <td>2020-02</td>\n",
       "      <td>Dellicia</td>\n",
       "    </tr>\n",
       "    <tr>\n",
       "      <th>49</th>\n",
       "      <td>70049</td>\n",
       "      <td>Erma</td>\n",
       "      <td>IT</td>\n",
       "      <td>Smartphone case simple</td>\n",
       "      <td>2020-02-11</td>\n",
       "      <td>439</td>\n",
       "      <td>8780.27</td>\n",
       "      <td>2020-02</td>\n",
       "      <td>Erma</td>\n",
       "    </tr>\n",
       "    <tr>\n",
       "      <th>50</th>\n",
       "      <td>70055</td>\n",
       "      <td>Dellicia</td>\n",
       "      <td>Sales</td>\n",
       "      <td>Laptop bag (red)</td>\n",
       "      <td>2020-02-12</td>\n",
       "      <td>377</td>\n",
       "      <td>22620.40</td>\n",
       "      <td>2020-02</td>\n",
       "      <td>Dellicia</td>\n",
       "    </tr>\n",
       "  </tbody>\n",
       "</table>\n",
       "</div>"
      ],
      "text/plain": [
       "    sales_document customer_name department       article_description  \\\n",
       "46           70003          Erma         IT    Women crop top (black)   \n",
       "47           70007          Erma         IT  Women dress (black) long   \n",
       "48           70043      Dellicia      Sales    Women crop top (black)   \n",
       "49           70049          Erma         IT    Smartphone case simple   \n",
       "50           70055      Dellicia      Sales          Laptop bag (red)   \n",
       "\n",
       "   document_date  quantity  sales_value    month  customer  \n",
       "46    2020-02-21       411      4110.08  2020-02      Erma  \n",
       "47    2020-02-12       187     11594.40  2020-02      Erma  \n",
       "48    2020-02-11       254      2540.19  2020-02  Dellicia  \n",
       "49    2020-02-11       439      8780.27  2020-02      Erma  \n",
       "50    2020-02-12       377     22620.40  2020-02  Dellicia  "
      ]
     },
     "execution_count": 9,
     "metadata": {},
     "output_type": "execute_result"
    }
   ],
   "source": [
    "%%piper\n",
    "df \n",
    ">> lookup(df2=xref, left_on='customer_name', right_on='customer')\n",
    ">> move_column('department', 'after', 'customer_name')\n",
    ">> where(\"month == '2020-02'\")\n",
    ">> head(5)"
   ]
  },
  {
   "cell_type": "markdown",
   "metadata": {},
   "source": [
    "## Summary, count number of rows retrieved by 'month'"
   ]
  },
  {
   "cell_type": "code",
   "execution_count": 10,
   "metadata": {
    "ExecuteTime": {
     "end_time": "2021-02-11T11:05:18.860364Z",
     "start_time": "2021-02-11T11:05:18.797423Z"
    }
   },
   "outputs": [
    {
     "data": {
      "text/html": [
       "<div>\n",
       "<style scoped>\n",
       "    .dataframe tbody tr th:only-of-type {\n",
       "        vertical-align: middle;\n",
       "    }\n",
       "\n",
       "    .dataframe tbody tr th {\n",
       "        vertical-align: top;\n",
       "    }\n",
       "\n",
       "    .dataframe thead th {\n",
       "        text-align: right;\n",
       "    }\n",
       "</style>\n",
       "<table border=\"1\" class=\"dataframe\">\n",
       "  <thead>\n",
       "    <tr style=\"text-align: right;\">\n",
       "      <th></th>\n",
       "      <th>n</th>\n",
       "    </tr>\n",
       "  </thead>\n",
       "  <tbody>\n",
       "    <tr>\n",
       "      <th>0</th>\n",
       "      <td>46</td>\n",
       "    </tr>\n",
       "    <tr>\n",
       "      <th>1</th>\n",
       "      <td>46</td>\n",
       "    </tr>\n",
       "    <tr>\n",
       "      <th>2</th>\n",
       "      <td>46</td>\n",
       "    </tr>\n",
       "    <tr>\n",
       "      <th>3</th>\n",
       "      <td>46</td>\n",
       "    </tr>\n",
       "    <tr>\n",
       "      <th>4</th>\n",
       "      <td>46</td>\n",
       "    </tr>\n",
       "    <tr>\n",
       "      <th>5</th>\n",
       "      <td>46</td>\n",
       "    </tr>\n",
       "    <tr>\n",
       "      <th>6</th>\n",
       "      <td>46</td>\n",
       "    </tr>\n",
       "    <tr>\n",
       "      <th>7</th>\n",
       "      <td>All</td>\n",
       "    </tr>\n",
       "  </tbody>\n",
       "</table>\n",
       "</div>"
      ],
      "text/plain": [
       "     n\n",
       "0   46\n",
       "1   46\n",
       "2   46\n",
       "3   46\n",
       "4   46\n",
       "5   46\n",
       "6   46\n",
       "7  All"
      ]
     },
     "execution_count": 10,
     "metadata": {},
     "output_type": "execute_result"
    }
   ],
   "source": [
    "%%piper \n",
    "counts(df, 'month', sort_values=True)\n",
    ">> adorn(ignore_row_index=True)"
   ]
  },
  {
   "cell_type": "markdown",
   "metadata": {},
   "source": [
    "## Summary, count by customer"
   ]
  },
  {
   "cell_type": "code",
   "execution_count": 11,
   "metadata": {
    "ExecuteTime": {
     "end_time": "2021-02-11T11:05:18.887504Z",
     "start_time": "2021-02-11T11:05:18.863948Z"
    }
   },
   "outputs": [
    {
     "data": {
      "text/html": [
       "<div>\n",
       "<style scoped>\n",
       "    .dataframe tbody tr th:only-of-type {\n",
       "        vertical-align: middle;\n",
       "    }\n",
       "\n",
       "    .dataframe tbody tr th {\n",
       "        vertical-align: top;\n",
       "    }\n",
       "\n",
       "    .dataframe thead th {\n",
       "        text-align: right;\n",
       "    }\n",
       "</style>\n",
       "<table border=\"1\" class=\"dataframe\">\n",
       "  <thead>\n",
       "    <tr style=\"text-align: right;\">\n",
       "      <th></th>\n",
       "      <th>index</th>\n",
       "      <th>n</th>\n",
       "    </tr>\n",
       "  </thead>\n",
       "  <tbody>\n",
       "    <tr>\n",
       "      <th>0</th>\n",
       "      <td>Dellicia</td>\n",
       "      <td>175</td>\n",
       "    </tr>\n",
       "    <tr>\n",
       "      <th>1</th>\n",
       "      <td>Erma</td>\n",
       "      <td>147</td>\n",
       "    </tr>\n",
       "    <tr>\n",
       "      <th>2</th>\n",
       "      <td>Total</td>\n",
       "      <td>322</td>\n",
       "    </tr>\n",
       "  </tbody>\n",
       "</table>\n",
       "</div>"
      ],
      "text/plain": [
       "      index    n\n",
       "0  Dellicia  175\n",
       "1      Erma  147\n",
       "2     Total  322"
      ]
     },
     "execution_count": 11,
     "metadata": {},
     "output_type": "execute_result"
    }
   ],
   "source": [
    "count(df, 'customer_name', add_total=True)"
   ]
  },
  {
   "cell_type": "markdown",
   "metadata": {},
   "source": [
    "## Summary, count of sales, unique sales docs by month"
   ]
  },
  {
   "cell_type": "code",
   "execution_count": 12,
   "metadata": {
    "ExecuteTime": {
     "end_time": "2021-02-11T11:05:18.939713Z",
     "start_time": "2021-02-11T11:05:18.895941Z"
    }
   },
   "outputs": [
    {
     "data": {
      "text/html": [
       "<div>\n",
       "<style scoped>\n",
       "    .dataframe tbody tr th:only-of-type {\n",
       "        vertical-align: middle;\n",
       "    }\n",
       "\n",
       "    .dataframe tbody tr th {\n",
       "        vertical-align: top;\n",
       "    }\n",
       "\n",
       "    .dataframe thead th {\n",
       "        text-align: right;\n",
       "    }\n",
       "</style>\n",
       "<table border=\"1\" class=\"dataframe\">\n",
       "  <thead>\n",
       "    <tr style=\"text-align: right;\">\n",
       "      <th></th>\n",
       "      <th>2020-01</th>\n",
       "      <th>2020-02</th>\n",
       "      <th>2020-03</th>\n",
       "      <th>2020-04</th>\n",
       "      <th>2020-05</th>\n",
       "      <th>2020-06</th>\n",
       "      <th>2020-07</th>\n",
       "      <th>All</th>\n",
       "    </tr>\n",
       "  </thead>\n",
       "  <tbody>\n",
       "    <tr>\n",
       "      <th>Total Sales</th>\n",
       "      <td>353193</td>\n",
       "      <td>344040</td>\n",
       "      <td>318961</td>\n",
       "      <td>319205</td>\n",
       "      <td>248480</td>\n",
       "      <td>381421</td>\n",
       "      <td>381421</td>\n",
       "      <td>2346723</td>\n",
       "    </tr>\n",
       "    <tr>\n",
       "      <th>Sales Doc Unique Count</th>\n",
       "      <td>36</td>\n",
       "      <td>45</td>\n",
       "      <td>44</td>\n",
       "      <td>44</td>\n",
       "      <td>45</td>\n",
       "      <td>36</td>\n",
       "      <td>36</td>\n",
       "      <td>286</td>\n",
       "    </tr>\n",
       "  </tbody>\n",
       "</table>\n",
       "</div>"
      ],
      "text/plain": [
       "                        2020-01  2020-02  2020-03  2020-04  2020-05  2020-06  \\\n",
       "Total Sales              353193   344040   318961   319205   248480   381421   \n",
       "Sales Doc Unique Count       36       45       44       44       45       36   \n",
       "\n",
       "                        2020-07      All  \n",
       "Total Sales              381421  2346723  \n",
       "Sales Doc Unique Count       36      286  "
      ]
     },
     "execution_count": 12,
     "metadata": {},
     "output_type": "execute_result"
    }
   ],
   "source": [
    "%%piper\n",
    "\n",
    "df.groupby(['month']).agg(total_sales=('sales_value', 'sum'),\n",
    "                          sales_doc_unique_count=('sales_document', 'nunique'))\n",
    ">> clean_columns(replace_char=('_', ' '), title=True)\n",
    ">> adorn(axis='row').T.astype(int)"
   ]
  },
  {
   "cell_type": "code",
   "execution_count": null,
   "metadata": {},
   "outputs": [],
   "source": []
  },
  {
   "cell_type": "code",
   "execution_count": null,
   "metadata": {},
   "outputs": [],
   "source": []
  }
 ],
 "metadata": {
  "kernelspec": {
   "display_name": "Python 3",
   "language": "python",
   "name": "python3"
  },
  "language_info": {
   "codemirror_mode": {
    "name": "ipython",
    "version": 3
   },
   "file_extension": ".py",
   "mimetype": "text/x-python",
   "name": "python",
   "nbconvert_exporter": "python",
   "pygments_lexer": "ipython3",
   "version": "3.8.5"
  },
  "toc": {
   "base_numbering": 1,
   "nav_menu": {},
   "number_sections": true,
   "sideBar": true,
   "skip_h1_title": false,
   "title_cell": "Table of Contents",
   "title_sidebar": "Contents",
   "toc_cell": false,
   "toc_position": {
    "height": "calc(100% - 180px)",
    "left": "10px",
    "top": "150px",
    "width": "308px"
   },
   "toc_section_display": true,
   "toc_window_display": true
  }
 },
 "nbformat": 4,
 "nbformat_minor": 4
}
