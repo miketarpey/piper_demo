{
 "cells": [
  {
   "cell_type": "markdown",
   "metadata": {
    "ExecuteTime": {
     "end_time": "2020-08-07T18:34:50.657741Z",
     "start_time": "2020-08-07T18:34:50.654732Z"
    }
   },
   "source": [
    "# Setup"
   ]
  },
  {
   "cell_type": "code",
   "execution_count": 1,
   "metadata": {
    "ExecuteTime": {
     "end_time": "2021-03-02T09:52:35.846240Z",
     "start_time": "2021-03-02T09:52:35.530088Z"
    },
    "scrolled": true
   },
   "outputs": [
    {
     "name": "stderr",
     "output_type": "stream",
     "text": [
      "piper version 0.0.8, last run: Tuesday, 02 March 2021 09:52:35\n"
     ]
    }
   ],
   "source": [
    "from piper import piper\n",
    "from piper.verbs import *\n",
    "from piper.factory import get_sample_data"
   ]
  },
  {
   "cell_type": "markdown",
   "metadata": {
    "ExecuteTime": {
     "end_time": "2020-08-07T18:34:50.657741Z",
     "start_time": "2020-08-07T18:34:50.654732Z"
    }
   },
   "source": [
    "# Importing data into a dataframe"
   ]
  },
  {
   "cell_type": "code",
   "execution_count": 2,
   "metadata": {
    "ExecuteTime": {
     "end_time": "2021-03-02T09:52:36.339537Z",
     "start_time": "2021-03-02T09:52:36.302656Z"
    }
   },
   "outputs": [
    {
     "name": "stderr",
     "output_type": "stream",
     "text": [
      "367 rows, 7 columns\n"
     ]
    },
    {
     "data": {
      "text/html": [
       "<div>\n",
       "<style scoped>\n",
       "    .dataframe tbody tr th:only-of-type {\n",
       "        vertical-align: middle;\n",
       "    }\n",
       "\n",
       "    .dataframe tbody tr th {\n",
       "        vertical-align: top;\n",
       "    }\n",
       "\n",
       "    .dataframe thead th {\n",
       "        text-align: right;\n",
       "    }\n",
       "</style>\n",
       "<table border=\"1\" class=\"dataframe\">\n",
       "  <thead>\n",
       "    <tr style=\"text-align: right;\">\n",
       "      <th></th>\n",
       "      <th>dates</th>\n",
       "      <th>order_dates</th>\n",
       "      <th>countries</th>\n",
       "      <th>regions</th>\n",
       "      <th>ids</th>\n",
       "      <th>values_1</th>\n",
       "      <th>values_2</th>\n",
       "    </tr>\n",
       "  </thead>\n",
       "  <tbody>\n",
       "    <tr>\n",
       "      <th>0</th>\n",
       "      <td>2020-01-01</td>\n",
       "      <td>2020-01-07</td>\n",
       "      <td>Italy</td>\n",
       "      <td>East</td>\n",
       "      <td>A</td>\n",
       "      <td>311</td>\n",
       "      <td>26</td>\n",
       "    </tr>\n",
       "    <tr>\n",
       "      <th>1</th>\n",
       "      <td>2020-01-02</td>\n",
       "      <td>2020-01-08</td>\n",
       "      <td>Portugal</td>\n",
       "      <td>South</td>\n",
       "      <td>D</td>\n",
       "      <td>150</td>\n",
       "      <td>375</td>\n",
       "    </tr>\n",
       "    <tr>\n",
       "      <th>2</th>\n",
       "      <td>2020-01-03</td>\n",
       "      <td>2020-01-09</td>\n",
       "      <td>Spain</td>\n",
       "      <td>East</td>\n",
       "      <td>A</td>\n",
       "      <td>396</td>\n",
       "      <td>88</td>\n",
       "    </tr>\n",
       "    <tr>\n",
       "      <th>3</th>\n",
       "      <td>2020-01-04</td>\n",
       "      <td>2020-01-10</td>\n",
       "      <td>Italy</td>\n",
       "      <td>East</td>\n",
       "      <td>B</td>\n",
       "      <td>319</td>\n",
       "      <td>233</td>\n",
       "    </tr>\n",
       "  </tbody>\n",
       "</table>\n",
       "</div>"
      ],
      "text/plain": [
       "       dates order_dates countries regions ids  values_1  values_2\n",
       "0 2020-01-01  2020-01-07     Italy    East   A       311        26\n",
       "1 2020-01-02  2020-01-08  Portugal   South   D       150       375\n",
       "2 2020-01-03  2020-01-09     Spain    East   A       396        88\n",
       "3 2020-01-04  2020-01-10     Italy    East   B       319       233"
      ]
     },
     "execution_count": 2,
     "metadata": {},
     "output_type": "execute_result"
    }
   ],
   "source": [
    "%piper df <- get_sample_data()\n",
    "%piper df >> head()"
   ]
  },
  {
   "cell_type": "markdown",
   "metadata": {
    "ExecuteTime": {
     "end_time": "2020-08-07T18:34:50.657741Z",
     "start_time": "2020-08-07T18:34:50.654732Z"
    }
   },
   "source": [
    "## compressing a column of values"
   ]
  },
  {
   "cell_type": "code",
   "execution_count": 3,
   "metadata": {
    "ExecuteTime": {
     "end_time": "2021-03-02T09:52:37.570759Z",
     "start_time": "2021-03-02T09:52:37.532961Z"
    }
   },
   "outputs": [
    {
     "name": "stderr",
     "output_type": "stream",
     "text": [
      "32 rows, 10 columns\n"
     ]
    },
    {
     "data": {
      "text/html": [
       "<div>\n",
       "<style scoped>\n",
       "    .dataframe tbody tr th:only-of-type {\n",
       "        vertical-align: middle;\n",
       "    }\n",
       "\n",
       "    .dataframe tbody tr th {\n",
       "        vertical-align: top;\n",
       "    }\n",
       "\n",
       "    .dataframe thead tr th {\n",
       "        text-align: left;\n",
       "    }\n",
       "\n",
       "    .dataframe thead tr:last-of-type th {\n",
       "        text-align: right;\n",
       "    }\n",
       "</style>\n",
       "<table border=\"1\" class=\"dataframe\">\n",
       "  <thead>\n",
       "    <tr>\n",
       "      <th></th>\n",
       "      <th></th>\n",
       "      <th colspan=\"5\" halign=\"left\">values_1</th>\n",
       "      <th colspan=\"5\" halign=\"left\">values_2</th>\n",
       "    </tr>\n",
       "    <tr>\n",
       "      <th></th>\n",
       "      <th>ids</th>\n",
       "      <th>A</th>\n",
       "      <th>B</th>\n",
       "      <th>C</th>\n",
       "      <th>D</th>\n",
       "      <th>E</th>\n",
       "      <th>A</th>\n",
       "      <th>B</th>\n",
       "      <th>C</th>\n",
       "      <th>D</th>\n",
       "      <th>E</th>\n",
       "    </tr>\n",
       "    <tr>\n",
       "      <th>countries</th>\n",
       "      <th>regions</th>\n",
       "      <th></th>\n",
       "      <th></th>\n",
       "      <th></th>\n",
       "      <th></th>\n",
       "      <th></th>\n",
       "      <th></th>\n",
       "      <th></th>\n",
       "      <th></th>\n",
       "      <th></th>\n",
       "      <th></th>\n",
       "    </tr>\n",
       "  </thead>\n",
       "  <tbody>\n",
       "    <tr>\n",
       "      <th rowspan=\"4\" valign=\"top\">France</th>\n",
       "      <th>East</th>\n",
       "      <td>253</td>\n",
       "      <td>404</td>\n",
       "      <td>426</td>\n",
       "      <td>700</td>\n",
       "      <td>387</td>\n",
       "      <td>612</td>\n",
       "      <td>496</td>\n",
       "      <td>581</td>\n",
       "      <td>617</td>\n",
       "      <td>723</td>\n",
       "    </tr>\n",
       "    <tr>\n",
       "      <th>North</th>\n",
       "      <td>1256</td>\n",
       "      <td>291</td>\n",
       "      <td>349</td>\n",
       "      <td>305</td>\n",
       "      <td>74</td>\n",
       "      <td>1292</td>\n",
       "      <td>825</td>\n",
       "      <td>278</td>\n",
       "      <td>384</td>\n",
       "      <td>147</td>\n",
       "    </tr>\n",
       "    <tr>\n",
       "      <th>South</th>\n",
       "      <td>776</td>\n",
       "      <td>308</td>\n",
       "      <td>304</td>\n",
       "      <td>347</td>\n",
       "      <td>383</td>\n",
       "      <td>732</td>\n",
       "      <td>522</td>\n",
       "      <td>102</td>\n",
       "      <td>277</td>\n",
       "      <td>93</td>\n",
       "    </tr>\n",
       "    <tr>\n",
       "      <th>West</th>\n",
       "      <td>796</td>\n",
       "      <td>566</td>\n",
       "      <td>1771</td>\n",
       "      <td>479</td>\n",
       "      <td>1249</td>\n",
       "      <td>1319</td>\n",
       "      <td>301</td>\n",
       "      <td>943</td>\n",
       "      <td>654</td>\n",
       "      <td>848</td>\n",
       "    </tr>\n",
       "    <tr>\n",
       "      <th rowspan=\"4\" valign=\"top\">Germany</th>\n",
       "      <th>East</th>\n",
       "      <td>0</td>\n",
       "      <td>458</td>\n",
       "      <td>282</td>\n",
       "      <td>578</td>\n",
       "      <td>446</td>\n",
       "      <td>0</td>\n",
       "      <td>408</td>\n",
       "      <td>363</td>\n",
       "      <td>510</td>\n",
       "      <td>81</td>\n",
       "    </tr>\n",
       "    <tr>\n",
       "      <th>North</th>\n",
       "      <td>64</td>\n",
       "      <td>1059</td>\n",
       "      <td>357</td>\n",
       "      <td>0</td>\n",
       "      <td>759</td>\n",
       "      <td>195</td>\n",
       "      <td>717</td>\n",
       "      <td>188</td>\n",
       "      <td>0</td>\n",
       "      <td>636</td>\n",
       "    </tr>\n",
       "    <tr>\n",
       "      <th>South</th>\n",
       "      <td>221</td>\n",
       "      <td>0</td>\n",
       "      <td>495</td>\n",
       "      <td>719</td>\n",
       "      <td>318</td>\n",
       "      <td>29</td>\n",
       "      <td>0</td>\n",
       "      <td>370</td>\n",
       "      <td>1267</td>\n",
       "      <td>362</td>\n",
       "    </tr>\n",
       "    <tr>\n",
       "      <th>West</th>\n",
       "      <td>524</td>\n",
       "      <td>0</td>\n",
       "      <td>178</td>\n",
       "      <td>353</td>\n",
       "      <td>520</td>\n",
       "      <td>433</td>\n",
       "      <td>0</td>\n",
       "      <td>13</td>\n",
       "      <td>173</td>\n",
       "      <td>702</td>\n",
       "    </tr>\n",
       "    <tr>\n",
       "      <th rowspan=\"2\" valign=\"top\">Italy</th>\n",
       "      <th>East</th>\n",
       "      <td>784</td>\n",
       "      <td>969</td>\n",
       "      <td>349</td>\n",
       "      <td>261</td>\n",
       "      <td>660</td>\n",
       "      <td>711</td>\n",
       "      <td>1153</td>\n",
       "      <td>269</td>\n",
       "      <td>187</td>\n",
       "      <td>1443</td>\n",
       "    </tr>\n",
       "    <tr>\n",
       "      <th>North</th>\n",
       "      <td>87</td>\n",
       "      <td>847</td>\n",
       "      <td>609</td>\n",
       "      <td>0</td>\n",
       "      <td>325</td>\n",
       "      <td>203</td>\n",
       "      <td>795</td>\n",
       "      <td>442</td>\n",
       "      <td>0</td>\n",
       "      <td>486</td>\n",
       "    </tr>\n",
       "  </tbody>\n",
       "</table>\n",
       "</div>"
      ],
      "text/plain": [
       "                  values_1                        values_2                   \\\n",
       "ids                      A     B     C    D     E        A     B    C     D   \n",
       "countries regions                                                             \n",
       "France    East         253   404   426  700   387      612   496  581   617   \n",
       "          North       1256   291   349  305    74     1292   825  278   384   \n",
       "          South        776   308   304  347   383      732   522  102   277   \n",
       "          West         796   566  1771  479  1249     1319   301  943   654   \n",
       "Germany   East           0   458   282  578   446        0   408  363   510   \n",
       "          North         64  1059   357    0   759      195   717  188     0   \n",
       "          South        221     0   495  719   318       29     0  370  1267   \n",
       "          West         524     0   178  353   520      433     0   13   173   \n",
       "Italy     East         784   969   349  261   660      711  1153  269   187   \n",
       "          North         87   847   609    0   325      203   795  442     0   \n",
       "\n",
       "                         \n",
       "ids                   E  \n",
       "countries regions        \n",
       "France    East      723  \n",
       "          North     147  \n",
       "          South      93  \n",
       "          West      848  \n",
       "Germany   East       81  \n",
       "          North     636  \n",
       "          South     362  \n",
       "          West      702  \n",
       "Italy     East     1443  \n",
       "          North     486  "
      ]
     },
     "execution_count": 3,
     "metadata": {},
     "output_type": "execute_result"
    }
   ],
   "source": [
    "g1 = df.groupby(['countries', 'regions', 'ids']).agg({\n",
    "    'values_1': np.sum,\n",
    "    'values_2': np.sum,\n",
    "})\n",
    "g1 = g1.unstack().fillna(0).astype(int)\n",
    "head(g1, 10)"
   ]
  },
  {
   "cell_type": "code",
   "execution_count": 4,
   "metadata": {
    "ExecuteTime": {
     "end_time": "2021-03-02T09:52:38.220581Z",
     "start_time": "2021-03-02T09:52:38.148799Z"
    }
   },
   "outputs": [
    {
     "data": {
      "text/html": [
       "<div>\n",
       "<style scoped>\n",
       "    .dataframe tbody tr th:only-of-type {\n",
       "        vertical-align: middle;\n",
       "    }\n",
       "\n",
       "    .dataframe tbody tr th {\n",
       "        vertical-align: top;\n",
       "    }\n",
       "\n",
       "    .dataframe thead th {\n",
       "        text-align: right;\n",
       "    }\n",
       "</style>\n",
       "<table border=\"1\" class=\"dataframe\">\n",
       "  <thead>\n",
       "    <tr style=\"text-align: right;\">\n",
       "      <th></th>\n",
       "      <th>countries</th>\n",
       "      <th>regions</th>\n",
       "      <th>listed_items</th>\n",
       "    </tr>\n",
       "  </thead>\n",
       "  <tbody>\n",
       "    <tr>\n",
       "      <th>0</th>\n",
       "      <td>France</td>\n",
       "      <td>East</td>\n",
       "      <td>[A, A, A, B, B, C, C, C, D, D, D, E, E, E]</td>\n",
       "    </tr>\n",
       "    <tr>\n",
       "      <th>1</th>\n",
       "      <td>France</td>\n",
       "      <td>North</td>\n",
       "      <td>[A, A, A, A, A, B, B, B, C, C, D, E]</td>\n",
       "    </tr>\n",
       "    <tr>\n",
       "      <th>2</th>\n",
       "      <td>France</td>\n",
       "      <td>South</td>\n",
       "      <td>[A, A, A, A, B, B, C, D, E, E]</td>\n",
       "    </tr>\n",
       "    <tr>\n",
       "      <th>3</th>\n",
       "      <td>France</td>\n",
       "      <td>West</td>\n",
       "      <td>[A, A, A, A, A, B, B, C, C, C, C, C, C, D, D, ...</td>\n",
       "    </tr>\n",
       "  </tbody>\n",
       "</table>\n",
       "</div>"
      ],
      "text/plain": [
       "  countries regions                                       listed_items\n",
       "0    France    East         [A, A, A, B, B, C, C, C, D, D, D, E, E, E]\n",
       "1    France   North               [A, A, A, A, A, B, B, B, C, C, D, E]\n",
       "2    France   South                     [A, A, A, A, B, B, C, D, E, E]\n",
       "3    France    West  [A, A, A, A, A, B, B, C, C, C, C, C, C, D, D, ..."
      ]
     },
     "execution_count": 4,
     "metadata": {},
     "output_type": "execute_result"
    }
   ],
   "source": [
    "%piper df <- get_sample_data()\n",
    "\n",
    "grouper = df.groupby(['countries', 'regions'])\n",
    "grouper = grouper.agg(listed_items=pd.NamedAgg('ids', list))\n",
    "grouper.listed_items = grouper.listed_items.apply(sorted)\n",
    "grouper = grouper.reset_index()\n",
    "grouper.head(4)"
   ]
  },
  {
   "cell_type": "code",
   "execution_count": 5,
   "metadata": {
    "ExecuteTime": {
     "end_time": "2021-03-02T09:52:39.544254Z",
     "start_time": "2021-03-02T09:52:39.512968Z"
    },
    "scrolled": true
   },
   "outputs": [
    {
     "data": {
      "text/html": [
       "<div>\n",
       "<style scoped>\n",
       "    .dataframe tbody tr th:only-of-type {\n",
       "        vertical-align: middle;\n",
       "    }\n",
       "\n",
       "    .dataframe tbody tr th {\n",
       "        vertical-align: top;\n",
       "    }\n",
       "\n",
       "    .dataframe thead th {\n",
       "        text-align: right;\n",
       "    }\n",
       "</style>\n",
       "<table border=\"1\" class=\"dataframe\">\n",
       "  <thead>\n",
       "    <tr style=\"text-align: right;\">\n",
       "      <th></th>\n",
       "      <th>dates</th>\n",
       "      <th>order_dates</th>\n",
       "      <th>countries</th>\n",
       "      <th>regions</th>\n",
       "      <th>ids</th>\n",
       "      <th>values_1</th>\n",
       "      <th>values_2</th>\n",
       "    </tr>\n",
       "  </thead>\n",
       "  <tbody>\n",
       "    <tr>\n",
       "      <th>55</th>\n",
       "      <td>2020-02-25</td>\n",
       "      <td>2020-03-02</td>\n",
       "      <td>France</td>\n",
       "      <td>East</td>\n",
       "      <td>A</td>\n",
       "      <td>54</td>\n",
       "      <td>80</td>\n",
       "    </tr>\n",
       "    <tr>\n",
       "      <th>100</th>\n",
       "      <td>2020-04-10</td>\n",
       "      <td>2020-04-16</td>\n",
       "      <td>France</td>\n",
       "      <td>East</td>\n",
       "      <td>A</td>\n",
       "      <td>40</td>\n",
       "      <td>307</td>\n",
       "    </tr>\n",
       "    <tr>\n",
       "      <th>343</th>\n",
       "      <td>2020-12-09</td>\n",
       "      <td>2020-12-15</td>\n",
       "      <td>France</td>\n",
       "      <td>East</td>\n",
       "      <td>A</td>\n",
       "      <td>159</td>\n",
       "      <td>225</td>\n",
       "    </tr>\n",
       "    <tr>\n",
       "      <th>207</th>\n",
       "      <td>2020-07-26</td>\n",
       "      <td>2020-08-01</td>\n",
       "      <td>France</td>\n",
       "      <td>East</td>\n",
       "      <td>B</td>\n",
       "      <td>161</td>\n",
       "      <td>327</td>\n",
       "    </tr>\n",
       "    <tr>\n",
       "      <th>235</th>\n",
       "      <td>2020-08-23</td>\n",
       "      <td>2020-08-29</td>\n",
       "      <td>France</td>\n",
       "      <td>East</td>\n",
       "      <td>B</td>\n",
       "      <td>243</td>\n",
       "      <td>169</td>\n",
       "    </tr>\n",
       "  </tbody>\n",
       "</table>\n",
       "</div>"
      ],
      "text/plain": [
       "         dates order_dates countries regions ids  values_1  values_2\n",
       "55  2020-02-25  2020-03-02    France    East   A        54        80\n",
       "100 2020-04-10  2020-04-16    France    East   A        40       307\n",
       "343 2020-12-09  2020-12-15    France    East   A       159       225\n",
       "207 2020-07-26  2020-08-01    France    East   B       161       327\n",
       "235 2020-08-23  2020-08-29    France    East   B       243       169"
      ]
     },
     "execution_count": 5,
     "metadata": {},
     "output_type": "execute_result"
    }
   ],
   "source": [
    "df.query(\"countries == 'France' & regions == 'East'\").sort_values('ids').head()"
   ]
  },
  {
   "cell_type": "markdown",
   "metadata": {
    "ExecuteTime": {
     "end_time": "2020-08-07T18:34:50.657741Z",
     "start_time": "2020-08-07T18:34:50.654732Z"
    }
   },
   "source": [
    "## first/top n group of records"
   ]
  },
  {
   "cell_type": "code",
   "execution_count": 6,
   "metadata": {
    "ExecuteTime": {
     "end_time": "2021-03-02T09:52:40.914685Z",
     "start_time": "2021-03-02T09:52:40.911950Z"
    }
   },
   "outputs": [],
   "source": [
    "grouping_columns = ['countries', 'regions', 'ids']\n",
    "ranking_columns = ['countries', 'regions']"
   ]
  },
  {
   "cell_type": "code",
   "execution_count": 9,
   "metadata": {
    "ExecuteTime": {
     "end_time": "2021-03-02T09:53:14.125705Z",
     "start_time": "2021-03-02T09:53:14.053067Z"
    }
   },
   "outputs": [
    {
     "name": "stderr",
     "output_type": "stream",
     "text": [
      "145 rows, 2 columns\n"
     ]
    },
    {
     "data": {
      "text/html": [
       "<div>\n",
       "<style scoped>\n",
       "    .dataframe tbody tr th:only-of-type {\n",
       "        vertical-align: middle;\n",
       "    }\n",
       "\n",
       "    .dataframe tbody tr th {\n",
       "        vertical-align: top;\n",
       "    }\n",
       "\n",
       "    .dataframe thead th {\n",
       "        text-align: right;\n",
       "    }\n",
       "</style>\n",
       "<table border=\"1\" class=\"dataframe\">\n",
       "  <thead>\n",
       "    <tr style=\"text-align: right;\">\n",
       "      <th></th>\n",
       "      <th></th>\n",
       "      <th></th>\n",
       "      <th>totval1</th>\n",
       "      <th>percent</th>\n",
       "    </tr>\n",
       "    <tr>\n",
       "      <th>countries</th>\n",
       "      <th>regions</th>\n",
       "      <th>ids</th>\n",
       "      <th></th>\n",
       "      <th></th>\n",
       "    </tr>\n",
       "  </thead>\n",
       "  <tbody>\n",
       "    <tr>\n",
       "      <th rowspan=\"4\" valign=\"top\">France</th>\n",
       "      <th rowspan=\"4\" valign=\"top\">East</th>\n",
       "      <th>A</th>\n",
       "      <td>253</td>\n",
       "      <td>11.66</td>\n",
       "    </tr>\n",
       "    <tr>\n",
       "      <th>B</th>\n",
       "      <td>404</td>\n",
       "      <td>18.62</td>\n",
       "    </tr>\n",
       "    <tr>\n",
       "      <th>C</th>\n",
       "      <td>426</td>\n",
       "      <td>19.63</td>\n",
       "    </tr>\n",
       "    <tr>\n",
       "      <th>D</th>\n",
       "      <td>700</td>\n",
       "      <td>32.26</td>\n",
       "    </tr>\n",
       "  </tbody>\n",
       "</table>\n",
       "</div>"
      ],
      "text/plain": [
       "                       totval1  percent\n",
       "countries regions ids                  \n",
       "France    East    A        253    11.66\n",
       "                  B        404    18.62\n",
       "                  C        426    19.63\n",
       "                  D        700    32.26"
      ]
     },
     "execution_count": 9,
     "metadata": {},
     "output_type": "execute_result"
    }
   ],
   "source": [
    "%%piper\n",
    "\n",
    "get_sample_data()\n",
    ">> group_by(grouping_columns)\n",
    ">> summarise(totval1=('values_1', 'sum'))\n",
    ">> group_calc(index=ranking_columns, value='totval1', function='percent', ascending=[True, False])\n",
    ">> head()"
   ]
  },
  {
   "cell_type": "code",
   "execution_count": 10,
   "metadata": {
    "ExecuteTime": {
     "end_time": "2021-03-02T09:53:30.092664Z",
     "start_time": "2021-03-02T09:53:30.059447Z"
    }
   },
   "outputs": [
    {
     "name": "stderr",
     "output_type": "stream",
     "text": [
      "367 rows, 7 columns\n"
     ]
    },
    {
     "data": {
      "text/html": [
       "<div>\n",
       "<style scoped>\n",
       "    .dataframe tbody tr th:only-of-type {\n",
       "        vertical-align: middle;\n",
       "    }\n",
       "\n",
       "    .dataframe tbody tr th {\n",
       "        vertical-align: top;\n",
       "    }\n",
       "\n",
       "    .dataframe thead th {\n",
       "        text-align: right;\n",
       "    }\n",
       "</style>\n",
       "<table border=\"1\" class=\"dataframe\">\n",
       "  <thead>\n",
       "    <tr style=\"text-align: right;\">\n",
       "      <th></th>\n",
       "      <th>dates</th>\n",
       "      <th>order_dates</th>\n",
       "      <th>countries</th>\n",
       "      <th>regions</th>\n",
       "      <th>ids</th>\n",
       "      <th>values_1</th>\n",
       "      <th>values_2</th>\n",
       "    </tr>\n",
       "  </thead>\n",
       "  <tbody>\n",
       "    <tr>\n",
       "      <th>0</th>\n",
       "      <td>2020-01-01</td>\n",
       "      <td>2020-01-07</td>\n",
       "      <td>Italy</td>\n",
       "      <td>East</td>\n",
       "      <td>A</td>\n",
       "      <td>311</td>\n",
       "      <td>26</td>\n",
       "    </tr>\n",
       "    <tr>\n",
       "      <th>1</th>\n",
       "      <td>2020-01-02</td>\n",
       "      <td>2020-01-08</td>\n",
       "      <td>Portugal</td>\n",
       "      <td>South</td>\n",
       "      <td>D</td>\n",
       "      <td>150</td>\n",
       "      <td>375</td>\n",
       "    </tr>\n",
       "    <tr>\n",
       "      <th>2</th>\n",
       "      <td>2020-01-03</td>\n",
       "      <td>2020-01-09</td>\n",
       "      <td>Spain</td>\n",
       "      <td>East</td>\n",
       "      <td>A</td>\n",
       "      <td>396</td>\n",
       "      <td>88</td>\n",
       "    </tr>\n",
       "    <tr>\n",
       "      <th>3</th>\n",
       "      <td>2020-01-04</td>\n",
       "      <td>2020-01-10</td>\n",
       "      <td>Italy</td>\n",
       "      <td>East</td>\n",
       "      <td>B</td>\n",
       "      <td>319</td>\n",
       "      <td>233</td>\n",
       "    </tr>\n",
       "  </tbody>\n",
       "</table>\n",
       "</div>"
      ],
      "text/plain": [
       "       dates order_dates countries regions ids  values_1  values_2\n",
       "0 2020-01-01  2020-01-07     Italy    East   A       311        26\n",
       "1 2020-01-02  2020-01-08  Portugal   South   D       150       375\n",
       "2 2020-01-03  2020-01-09     Spain    East   A       396        88\n",
       "3 2020-01-04  2020-01-10     Italy    East   B       319       233"
      ]
     },
     "execution_count": 10,
     "metadata": {},
     "output_type": "execute_result"
    }
   ],
   "source": [
    "%piper df >> head()"
   ]
  },
  {
   "cell_type": "code",
   "execution_count": 11,
   "metadata": {
    "ExecuteTime": {
     "end_time": "2021-03-02T09:53:30.708450Z",
     "start_time": "2021-03-02T09:53:30.629642Z"
    }
   },
   "outputs": [],
   "source": [
    "df.to_excel('outputs/test.xlsx', index=False)"
   ]
  },
  {
   "cell_type": "code",
   "execution_count": null,
   "metadata": {},
   "outputs": [],
   "source": []
  },
  {
   "cell_type": "code",
   "execution_count": null,
   "metadata": {},
   "outputs": [],
   "source": []
  },
  {
   "cell_type": "code",
   "execution_count": null,
   "metadata": {},
   "outputs": [],
   "source": []
  }
 ],
 "metadata": {
  "hide_input": false,
  "kernelspec": {
   "display_name": "Python 3",
   "language": "python",
   "name": "python3"
  },
  "language_info": {
   "codemirror_mode": {
    "name": "ipython",
    "version": 3
   },
   "file_extension": ".py",
   "mimetype": "text/x-python",
   "name": "python",
   "nbconvert_exporter": "python",
   "pygments_lexer": "ipython3",
   "version": "3.8.5"
  },
  "toc": {
   "base_numbering": 1,
   "nav_menu": {},
   "number_sections": true,
   "sideBar": true,
   "skip_h1_title": false,
   "title_cell": "Table of Contents",
   "title_sidebar": "Contents",
   "toc_cell": false,
   "toc_position": {
    "height": "calc(100% - 180px)",
    "left": "10px",
    "top": "150px",
    "width": "229.333px"
   },
   "toc_section_display": true,
   "toc_window_display": true
  }
 },
 "nbformat": 4,
 "nbformat_minor": 4
}
