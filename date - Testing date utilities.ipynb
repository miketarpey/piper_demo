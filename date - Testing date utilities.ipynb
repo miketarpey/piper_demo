{
 "cells": [
  {
   "cell_type": "markdown",
   "metadata": {},
   "source": [
    "# Setup"
   ]
  },
  {
   "cell_type": "code",
   "execution_count": 1,
   "metadata": {
    "ExecuteTime": {
     "end_time": "2021-04-09T16:11:05.786556Z",
     "start_time": "2021-04-09T16:11:04.508064Z"
    }
   },
   "outputs": [
    {
     "name": "stderr",
     "output_type": "stream",
     "text": [
      "piper v0.1.2: Friday, 09 April 2021 18:48:10\n"
     ]
    }
   ],
   "source": [
    "from piper.defaults import *"
   ]
  },
  {
   "cell_type": "markdown",
   "metadata": {},
   "source": [
    "# Convert string based column data"
   ]
  },
  {
   "cell_type": "code",
   "execution_count": 2,
   "metadata": {
    "ExecuteTime": {
     "end_time": "2021-04-09T16:11:05.917720Z",
     "start_time": "2021-04-09T16:11:05.798084Z"
    }
   },
   "outputs": [
    {
     "data": {
      "text/html": [
       "<div>\n",
       "<style scoped>\n",
       "    .dataframe tbody tr th:only-of-type {\n",
       "        vertical-align: middle;\n",
       "    }\n",
       "\n",
       "    .dataframe tbody tr th {\n",
       "        vertical-align: top;\n",
       "    }\n",
       "\n",
       "    .dataframe thead th {\n",
       "        text-align: right;\n",
       "    }\n",
       "</style>\n",
       "<table border=\"1\" class=\"dataframe\">\n",
       "  <thead>\n",
       "    <tr style=\"text-align: right;\">\n",
       "      <th></th>\n",
       "      <th>0</th>\n",
       "      <th>1</th>\n",
       "      <th>2</th>\n",
       "      <th>3</th>\n",
       "      <th>4</th>\n",
       "    </tr>\n",
       "  </thead>\n",
       "  <tbody>\n",
       "    <tr>\n",
       "      <th>test_dates</th>\n",
       "      <td>30/11/2019</td>\n",
       "      <td>29/4/2019</td>\n",
       "      <td>30/2/2019</td>\n",
       "      <td>28/2/2019</td>\n",
       "      <td>2019/4/30</td>\n",
       "    </tr>\n",
       "  </tbody>\n",
       "</table>\n",
       "</div>"
      ],
      "text/plain": [
       "                     0          1          2          3          4\n",
       "test_dates  30/11/2019  29/4/2019  30/2/2019  28/2/2019  2019/4/30"
      ]
     },
     "metadata": {},
     "output_type": "display_data"
    },
    {
     "data": {
      "text/html": [
       "<div>\n",
       "<style scoped>\n",
       "    .dataframe tbody tr th:only-of-type {\n",
       "        vertical-align: middle;\n",
       "    }\n",
       "\n",
       "    .dataframe tbody tr th {\n",
       "        vertical-align: top;\n",
       "    }\n",
       "\n",
       "    .dataframe thead th {\n",
       "        text-align: right;\n",
       "    }\n",
       "</style>\n",
       "<table border=\"1\" class=\"dataframe\">\n",
       "  <thead>\n",
       "    <tr style=\"text-align: right;\">\n",
       "      <th></th>\n",
       "      <th>0</th>\n",
       "      <th>1</th>\n",
       "      <th>2</th>\n",
       "      <th>3</th>\n",
       "      <th>4</th>\n",
       "    </tr>\n",
       "  </thead>\n",
       "  <tbody>\n",
       "    <tr>\n",
       "      <th>test_dates</th>\n",
       "      <td>2019-11-30</td>\n",
       "      <td>2019-04-29</td>\n",
       "      <td>NaT</td>\n",
       "      <td>2019-02-28</td>\n",
       "      <td>NaT</td>\n",
       "    </tr>\n",
       "  </tbody>\n",
       "</table>\n",
       "</div>"
      ],
      "text/plain": [
       "                    0          1   2          3   4\n",
       "test_dates 2019-11-30 2019-04-29 NaT 2019-02-28 NaT"
      ]
     },
     "metadata": {},
     "output_type": "display_data"
    }
   ],
   "source": [
    "dates_list = ['30/11/2019', '29/4/2019', '30/2/2019', '28/2/2019', '2019/4/30']\n",
    "df_dates = pd.DataFrame(dates_list, columns=['test_dates'])\n",
    "display(df_dates.T)\n",
    "\n",
    "df_converted_dates = across(df_dates, ['test_dates'], function=pd.to_datetime, format='%d/%m/%Y', errors='coerce')\n",
    "display(df_converted_dates.T)"
   ]
  },
  {
   "cell_type": "markdown",
   "metadata": {},
   "source": [
    "# Convert int based column data"
   ]
  },
  {
   "cell_type": "code",
   "execution_count": 3,
   "metadata": {
    "ExecuteTime": {
     "end_time": "2021-04-09T16:11:05.992302Z",
     "start_time": "2021-04-09T16:11:05.923314Z"
    },
    "scrolled": true
   },
   "outputs": [
    {
     "data": {
      "text/html": [
       "<div>\n",
       "<style scoped>\n",
       "    .dataframe tbody tr th:only-of-type {\n",
       "        vertical-align: middle;\n",
       "    }\n",
       "\n",
       "    .dataframe tbody tr th {\n",
       "        vertical-align: top;\n",
       "    }\n",
       "\n",
       "    .dataframe thead th {\n",
       "        text-align: right;\n",
       "    }\n",
       "</style>\n",
       "<table border=\"1\" class=\"dataframe\">\n",
       "  <thead>\n",
       "    <tr style=\"text-align: right;\">\n",
       "      <th></th>\n",
       "      <th>0</th>\n",
       "      <th>1</th>\n",
       "      <th>2</th>\n",
       "      <th>3</th>\n",
       "      <th>4</th>\n",
       "    </tr>\n",
       "  </thead>\n",
       "  <tbody>\n",
       "    <tr>\n",
       "      <th>test_dates</th>\n",
       "      <td>30112019</td>\n",
       "      <td>2942019</td>\n",
       "      <td>3022019</td>\n",
       "      <td>2822019</td>\n",
       "      <td>2019430</td>\n",
       "    </tr>\n",
       "  </tbody>\n",
       "</table>\n",
       "</div>"
      ],
      "text/plain": [
       "                   0        1        2        3        4\n",
       "test_dates  30112019  2942019  3022019  2822019  2019430"
      ]
     },
     "metadata": {},
     "output_type": "display_data"
    },
    {
     "data": {
      "text/html": [
       "<div>\n",
       "<style scoped>\n",
       "    .dataframe tbody tr th:only-of-type {\n",
       "        vertical-align: middle;\n",
       "    }\n",
       "\n",
       "    .dataframe tbody tr th {\n",
       "        vertical-align: top;\n",
       "    }\n",
       "\n",
       "    .dataframe thead th {\n",
       "        text-align: right;\n",
       "    }\n",
       "</style>\n",
       "<table border=\"1\" class=\"dataframe\">\n",
       "  <thead>\n",
       "    <tr style=\"text-align: right;\">\n",
       "      <th></th>\n",
       "      <th>0</th>\n",
       "      <th>1</th>\n",
       "      <th>2</th>\n",
       "      <th>3</th>\n",
       "      <th>4</th>\n",
       "    </tr>\n",
       "  </thead>\n",
       "  <tbody>\n",
       "    <tr>\n",
       "      <th>test_dates</th>\n",
       "      <td>2019-11-30</td>\n",
       "      <td>2019-04-29</td>\n",
       "      <td>NaT</td>\n",
       "      <td>2019-02-28</td>\n",
       "      <td>NaT</td>\n",
       "    </tr>\n",
       "  </tbody>\n",
       "</table>\n",
       "</div>"
      ],
      "text/plain": [
       "                    0          1   2          3   4\n",
       "test_dates 2019-11-30 2019-04-29 NaT 2019-02-28 NaT"
      ]
     },
     "metadata": {},
     "output_type": "display_data"
    }
   ],
   "source": [
    "dates_list = [30112019, 2942019, 3022019, 2822019, 2019430]\n",
    "df_dates = pd.DataFrame(dates_list, columns=['test_dates'])\n",
    "display(df_dates.T)\n",
    "\n",
    "df_converted_dates = across(df_dates, ['test_dates'],\n",
    "                            function=pd.to_datetime,\n",
    "                            format='%d%m%Y', errors='coerce')\n",
    "display(df_converted_dates.T)"
   ]
  },
  {
   "cell_type": "markdown",
   "metadata": {
    "ExecuteTime": {
     "end_time": "2019-08-13T12:10:39.614636Z",
     "start_time": "2019-08-13T12:10:39.607129Z"
    }
   },
   "source": [
    "# Convert Julian date column data"
   ]
  },
  {
   "cell_type": "markdown",
   "metadata": {},
   "source": [
    "## Generate julian date dataframe examples"
   ]
  },
  {
   "cell_type": "code",
   "execution_count": 4,
   "metadata": {
    "ExecuteTime": {
     "end_time": "2021-04-09T16:11:06.183612Z",
     "start_time": "2021-04-09T16:11:05.995828Z"
    }
   },
   "outputs": [
    {
     "name": "stdout",
     "output_type": "stream",
     "text": [
      "<class 'pandas.core.frame.DataFrame'>\n",
      "RangeIndex: 60 entries, 0 to 59\n",
      "Data columns (total 4 columns):\n",
      " #   Column               Non-Null Count  Dtype \n",
      "---  ------               --------------  ----- \n",
      " 0   julian_dates         60 non-null     object\n",
      " 1   julian_dates_str     60 non-null     int64 \n",
      " 2   from_julian_to_greg  60 non-null     object\n",
      " 3   greg_to_julian       60 non-null     object\n",
      "dtypes: int64(1), object(3)\n",
      "memory usage: 2.0+ KB\n"
     ]
    },
    {
     "data": {
      "text/plain": [
       "None"
      ]
     },
     "metadata": {},
     "output_type": "display_data"
    },
    {
     "data": {
      "text/html": [
       "<div>\n",
       "<style scoped>\n",
       "    .dataframe tbody tr th:only-of-type {\n",
       "        vertical-align: middle;\n",
       "    }\n",
       "\n",
       "    .dataframe tbody tr th {\n",
       "        vertical-align: top;\n",
       "    }\n",
       "\n",
       "    .dataframe thead th {\n",
       "        text-align: right;\n",
       "    }\n",
       "</style>\n",
       "<table border=\"1\" class=\"dataframe\">\n",
       "  <thead>\n",
       "    <tr style=\"text-align: right;\">\n",
       "      <th></th>\n",
       "      <th>julian_dates</th>\n",
       "      <th>julian_dates_str</th>\n",
       "      <th>from_julian_to_greg</th>\n",
       "      <th>greg_to_julian</th>\n",
       "    </tr>\n",
       "  </thead>\n",
       "  <tbody>\n",
       "    <tr>\n",
       "      <th>0</th>\n",
       "      <td>05001</td>\n",
       "      <td>5001</td>\n",
       "      <td>05001</td>\n",
       "      <td>05001</td>\n",
       "    </tr>\n",
       "    <tr>\n",
       "      <th>1</th>\n",
       "      <td>100001</td>\n",
       "      <td>100001</td>\n",
       "      <td>2000-01-01</td>\n",
       "      <td>100001</td>\n",
       "    </tr>\n",
       "    <tr>\n",
       "      <th>2</th>\n",
       "      <td>114007</td>\n",
       "      <td>114007</td>\n",
       "      <td>2014-01-07</td>\n",
       "      <td>114007</td>\n",
       "    </tr>\n",
       "    <tr>\n",
       "      <th>3</th>\n",
       "      <td>110236</td>\n",
       "      <td>110236</td>\n",
       "      <td>2010-08-24</td>\n",
       "      <td>110236</td>\n",
       "    </tr>\n",
       "  </tbody>\n",
       "</table>\n",
       "</div>"
      ],
      "text/plain": [
       "  julian_dates  julian_dates_str from_julian_to_greg greg_to_julian\n",
       "0        05001              5001               05001          05001\n",
       "1       100001            100001          2000-01-01         100001\n",
       "2       114007            114007          2014-01-07         114007\n",
       "3       110236            110236          2010-08-24         110236"
      ]
     },
     "execution_count": 4,
     "metadata": {},
     "output_type": "execute_result"
    }
   ],
   "source": [
    "julian_dates = [\n",
    "    '05001',  '100001', '114007', '110236', '111001', '106039', '112305',\n",
    "    '102274', '115188', '110277', '102282', '114059', '112292', '112270',\n",
    "    '110274', '110243', '102240', '102276', '112272', '116355', '110001',\n",
    "    '115225', '115030', '111021', '107052', '117011', '115071', '106041',\n",
    "    '114280', '116102', '112142', '113347', '103274', '111300', '115055',\n",
    "    '115023', '115022', '113351', '113353', '106187', '115027', '112312',\n",
    "    '113335', '111082', '110279', '111025', '114345', '107178', '110251',\n",
    "    '105326', '118326', '107182', '110278', '116074', '114022', '106163',\n",
    "    '119207', '119219', '106001', '111349'\n",
    "]\n",
    "df_julian_dates = pd.DataFrame(julian_dates, columns=['julian_dates'])\n",
    "df_julian_dates['julian_dates_str'] = df_julian_dates['julian_dates'].astype(int)\n",
    "\n",
    "df_julian_dates['from_julian_to_greg'] = df_julian_dates.julian_dates.apply(from_julian)\n",
    "df_julian_dates['greg_to_julian'] = df_julian_dates.from_julian_to_greg.apply(to_julian)\n",
    "df_julian_dates.head()\n",
    "\n",
    "# df_julian_dates['greg_dates_str'] = df_julian_dates.from_julian_to_greg.astype(str)\n",
    "display(df_julian_dates.info())\n",
    "df_julian_dates.head(4)"
   ]
  },
  {
   "cell_type": "markdown",
   "metadata": {},
   "source": [
    "# Testing date functions"
   ]
  },
  {
   "cell_type": "markdown",
   "metadata": {},
   "source": [
    "## Convert datetime to date string"
   ]
  },
  {
   "cell_type": "code",
   "execution_count": 5,
   "metadata": {
    "ExecuteTime": {
     "end_time": "2021-04-09T16:11:06.199718Z",
     "start_time": "2021-04-09T16:11:06.188115Z"
    }
   },
   "outputs": [
    {
     "data": {
      "text/plain": [
       "'Apr 09, 2021'"
      ]
     },
     "execution_count": 5,
     "metadata": {},
     "output_type": "execute_result"
    }
   ],
   "source": [
    "from datetime import datetime\n",
    "datetime.now().date().strftime('%b %#d, %Y')"
   ]
  },
  {
   "cell_type": "markdown",
   "metadata": {},
   "source": [
    "## from_julian()"
   ]
  },
  {
   "cell_type": "code",
   "execution_count": 6,
   "metadata": {
    "ExecuteTime": {
     "end_time": "2021-04-09T16:11:06.223642Z",
     "start_time": "2021-04-09T16:11:06.211957Z"
    },
    "scrolled": true
   },
   "outputs": [
    {
     "data": {
      "text/plain": [
       "datetime.date(2164, 5, 23)"
      ]
     },
     "execution_count": 6,
     "metadata": {},
     "output_type": "execute_result"
    }
   ],
   "source": [
    "from_julian(264144)"
   ]
  },
  {
   "cell_type": "code",
   "execution_count": 7,
   "metadata": {
    "ExecuteTime": {
     "end_time": "2021-04-09T16:11:06.249422Z",
     "start_time": "2021-04-09T16:11:06.234387Z"
    }
   },
   "outputs": [
    {
     "data": {
      "text/plain": [
       "datetime.date(2000, 1, 1)"
      ]
     },
     "execution_count": 7,
     "metadata": {},
     "output_type": "execute_result"
    }
   ],
   "source": [
    "from_julian(100001)"
   ]
  },
  {
   "cell_type": "code",
   "execution_count": 8,
   "metadata": {
    "ExecuteTime": {
     "end_time": "2021-04-09T16:11:06.292367Z",
     "start_time": "2021-04-09T16:11:06.256618Z"
    }
   },
   "outputs": [
    {
     "data": {
      "text/plain": [
       "'Jan 01, 2017'"
      ]
     },
     "execution_count": 8,
     "metadata": {},
     "output_type": "execute_result"
    }
   ],
   "source": [
    "from_julian('117001').strftime('%b %#d, %Y')"
   ]
  },
  {
   "cell_type": "code",
   "execution_count": 9,
   "metadata": {
    "ExecuteTime": {
     "end_time": "2021-04-09T16:11:06.324447Z",
     "start_time": "2021-04-09T16:11:06.302449Z"
    }
   },
   "outputs": [
    {
     "data": {
      "text/plain": [
       "'Jul 04, 1998'"
      ]
     },
     "execution_count": 9,
     "metadata": {},
     "output_type": "execute_result"
    }
   ],
   "source": [
    "from_julian('098185').strftime('%b %#d, %Y')"
   ]
  },
  {
   "cell_type": "code",
   "execution_count": 10,
   "metadata": {
    "ExecuteTime": {
     "end_time": "2021-04-09T16:11:06.346439Z",
     "start_time": "2021-04-09T16:11:06.333726Z"
    }
   },
   "outputs": [
    {
     "data": {
      "text/plain": [
       "'Dec 04, 2013'"
      ]
     },
     "execution_count": 10,
     "metadata": {},
     "output_type": "execute_result"
    }
   ],
   "source": [
    "from_julian('113338').strftime('%b %#d, %Y')"
   ]
  },
  {
   "cell_type": "markdown",
   "metadata": {},
   "source": [
    "## to_julian()"
   ]
  },
  {
   "cell_type": "code",
   "execution_count": 11,
   "metadata": {
    "ExecuteTime": {
     "end_time": "2021-04-09T16:11:06.367940Z",
     "start_time": "2021-04-09T16:11:06.350229Z"
    }
   },
   "outputs": [
    {
     "data": {
      "text/plain": [
       "datetime.date"
      ]
     },
     "metadata": {},
     "output_type": "display_data"
    },
    {
     "data": {
      "text/plain": [
       "121099"
      ]
     },
     "metadata": {},
     "output_type": "display_data"
    }
   ],
   "source": [
    "today = datetime.now().date()\n",
    "display(type(today))\n",
    "\n",
    "julian_fmt = to_julian(today)\n",
    "display(julian_fmt)"
   ]
  },
  {
   "cell_type": "code",
   "execution_count": 12,
   "metadata": {
    "ExecuteTime": {
     "end_time": "2021-04-09T16:11:06.443659Z",
     "start_time": "2021-04-09T16:11:06.395742Z"
    }
   },
   "outputs": [
    {
     "data": {
      "text/plain": [
       "'30/7/2019'"
      ]
     },
     "metadata": {},
     "output_type": "display_data"
    },
    {
     "data": {
      "text/plain": [
       "119211"
      ]
     },
     "metadata": {},
     "output_type": "display_data"
    }
   ],
   "source": [
    "greg_str = '30/7/2019'\n",
    "display(greg_str)\n",
    "\n",
    "julian_fmt = to_julian(pd.to_datetime(greg_str))\n",
    "display(julian_fmt)"
   ]
  },
  {
   "cell_type": "code",
   "execution_count": 13,
   "metadata": {
    "ExecuteTime": {
     "end_time": "2021-04-09T16:11:06.463603Z",
     "start_time": "2021-04-09T16:11:06.448448Z"
    }
   },
   "outputs": [
    {
     "data": {
      "text/plain": [
       "'30/7/2019'"
      ]
     },
     "metadata": {},
     "output_type": "display_data"
    },
    {
     "data": {
      "text/plain": [
       "119211"
      ]
     },
     "metadata": {},
     "output_type": "display_data"
    }
   ],
   "source": [
    "greg_str = '30/7/2019'\n",
    "display(greg_str)\n",
    "\n",
    "julian_fmt = to_julian(greg_str, format='%d/%m/%Y')\n",
    "display(julian_fmt)"
   ]
  },
  {
   "cell_type": "code",
   "execution_count": 14,
   "metadata": {
    "ExecuteTime": {
     "end_time": "2021-04-09T16:11:06.493661Z",
     "start_time": "2021-04-09T16:11:06.468126Z"
    }
   },
   "outputs": [
    {
     "data": {
      "text/plain": [
       "'1/1/2014'"
      ]
     },
     "metadata": {},
     "output_type": "display_data"
    },
    {
     "data": {
      "text/plain": [
       "114001"
      ]
     },
     "metadata": {},
     "output_type": "display_data"
    }
   ],
   "source": [
    "greg_str = '1/1/2014'\n",
    "display(greg_str)\n",
    "\n",
    "julian_fmt = to_julian(greg_str, format='%d/%m/%Y')\n",
    "display(julian_fmt)"
   ]
  },
  {
   "cell_type": "markdown",
   "metadata": {},
   "source": [
    "## to_julian(), from_julian()"
   ]
  },
  {
   "cell_type": "code",
   "execution_count": 15,
   "metadata": {
    "ExecuteTime": {
     "end_time": "2021-04-09T16:11:06.535667Z",
     "start_time": "2021-04-09T16:11:06.497211Z"
    }
   },
   "outputs": [
    {
     "data": {
      "text/plain": [
       "'30/7/2019'"
      ]
     },
     "metadata": {},
     "output_type": "display_data"
    },
    {
     "data": {
      "text/plain": [
       "119211"
      ]
     },
     "metadata": {},
     "output_type": "display_data"
    },
    {
     "data": {
      "text/plain": [
       "'30/07/2019'"
      ]
     },
     "metadata": {},
     "output_type": "display_data"
    }
   ],
   "source": [
    "greg_str = '30/7/2019'\n",
    "display(greg_str)\n",
    "\n",
    "julian_fmt = to_julian(pd.to_datetime(greg_str))\n",
    "display(julian_fmt)\n",
    "\n",
    "greg_fmt = from_julian(julian_fmt)\n",
    "display(greg_fmt.strftime('%d/%#m/%Y'))"
   ]
  },
  {
   "cell_type": "code",
   "execution_count": null,
   "metadata": {},
   "outputs": [],
   "source": []
  },
  {
   "cell_type": "code",
   "execution_count": null,
   "metadata": {},
   "outputs": [],
   "source": []
  },
  {
   "cell_type": "code",
   "execution_count": null,
   "metadata": {},
   "outputs": [],
   "source": []
  },
  {
   "cell_type": "code",
   "execution_count": null,
   "metadata": {},
   "outputs": [],
   "source": []
  }
 ],
 "metadata": {
  "hide_input": false,
  "kernelspec": {
   "display_name": "Python 3",
   "language": "python",
   "name": "python3"
  },
  "language_info": {
   "codemirror_mode": {
    "name": "ipython",
    "version": 3
   },
   "file_extension": ".py",
   "mimetype": "text/x-python",
   "name": "python",
   "nbconvert_exporter": "python",
   "pygments_lexer": "ipython3",
   "version": "3.8.5"
  },
  "toc": {
   "base_numbering": 1,
   "nav_menu": {},
   "number_sections": true,
   "sideBar": true,
   "skip_h1_title": false,
   "title_cell": "Table of Contents",
   "title_sidebar": "Contents",
   "toc_cell": false,
   "toc_position": {
    "height": "calc(100% - 180px)",
    "left": "10px",
    "top": "150px",
    "width": "320px"
   },
   "toc_section_display": true,
   "toc_window_display": true
  }
 },
 "nbformat": 4,
 "nbformat_minor": 4
}
