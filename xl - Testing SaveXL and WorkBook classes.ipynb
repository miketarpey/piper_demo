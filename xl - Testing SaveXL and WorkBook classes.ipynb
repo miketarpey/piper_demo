{
 "cells": [
  {
   "cell_type": "markdown",
   "metadata": {},
   "source": [
    "# Setup"
   ]
  },
  {
   "cell_type": "code",
   "execution_count": 1,
   "metadata": {
    "ExecuteTime": {
     "end_time": "2021-04-09T16:36:45.823093Z",
     "start_time": "2021-04-09T16:36:44.993722Z"
    }
   },
   "outputs": [
    {
     "name": "stderr",
     "output_type": "stream",
     "text": [
      "piper v0.1.2: Friday, 09 April 2021 18:49:31\n"
     ]
    }
   ],
   "source": [
    "from piper.defaults import *\n",
    "from piper.utils import get_config"
   ]
  },
  {
   "cell_type": "markdown",
   "metadata": {},
   "source": [
    "## config details"
   ]
  },
  {
   "cell_type": "code",
   "execution_count": 2,
   "metadata": {
    "ExecuteTime": {
     "end_time": "2021-04-09T16:36:45.844989Z",
     "start_time": "2021-04-09T16:36:45.828532Z"
    }
   },
   "outputs": [
    {
     "data": {
      "text/plain": [
       "{'meta': {'project': 'notebook project'},\n",
       " 'folders': ['inputs', 'src', 'sql', 'docs', 'outputs', 'reports'],\n",
       " 'variables': {'dummy_variable': 'dummy'},\n",
       " 'connections': {'location': 'connections.json'},\n",
       " 'excel': {'meta': 'xl_meta.json', 'formats': 'formats.json'},\n",
       " 'mail_config': {'server': 'localhost',\n",
       "  'port': 25,\n",
       "  'sender': 'someone@acme.com'},\n",
       " 'project': 'notebook project'}"
      ]
     },
     "execution_count": 2,
     "metadata": {},
     "output_type": "execute_result"
    }
   ],
   "source": [
    "config = get_config('config.json')\n",
    "config"
   ]
  },
  {
   "cell_type": "markdown",
   "metadata": {},
   "source": [
    "# DataFrame - Transformations"
   ]
  },
  {
   "cell_type": "code",
   "execution_count": 3,
   "metadata": {
    "ExecuteTime": {
     "end_time": "2021-04-09T16:36:46.183600Z",
     "start_time": "2021-04-09T16:36:45.849792Z"
    }
   },
   "outputs": [
    {
     "name": "stderr",
     "output_type": "stream",
     "text": [
      "(12, 10)\n"
     ]
    },
    {
     "data": {
      "text/plain": [
       "array(['Gropuing cde_', 'Order_NBR', 'This column name is too long',\n",
       "       'Second column ', 'Quantity', 'Price', 'Effective', 'Expired',\n",
       "       'TranSACTion DATE', 'A delimitted LIsT'], dtype=object)"
      ]
     },
     "metadata": {},
     "output_type": "display_data"
    },
    {
     "data": {
      "text/html": [
       "<div>\n",
       "<style scoped>\n",
       "    .dataframe tbody tr th:only-of-type {\n",
       "        vertical-align: middle;\n",
       "    }\n",
       "\n",
       "    .dataframe tbody tr th {\n",
       "        vertical-align: top;\n",
       "    }\n",
       "\n",
       "    .dataframe thead th {\n",
       "        text-align: right;\n",
       "    }\n",
       "</style>\n",
       "<table border=\"1\" class=\"dataframe\">\n",
       "  <thead>\n",
       "    <tr style=\"text-align: right;\">\n",
       "      <th></th>\n",
       "      <th>Gropuing cde_</th>\n",
       "      <th>Order_NBR</th>\n",
       "      <th>This column name is too long</th>\n",
       "      <th>Second column</th>\n",
       "      <th>Quantity</th>\n",
       "      <th>Price</th>\n",
       "      <th>Effective</th>\n",
       "      <th>Expired</th>\n",
       "      <th>TranSACTion DATE</th>\n",
       "      <th>A delimitted LIsT</th>\n",
       "    </tr>\n",
       "  </thead>\n",
       "  <tbody>\n",
       "    <tr>\n",
       "      <th>0</th>\n",
       "      <td>A100</td>\n",
       "      <td>23899001</td>\n",
       "      <td>First                        row</td>\n",
       "      <td>Scally, Aidan</td>\n",
       "      <td>14</td>\n",
       "      <td>1,23</td>\n",
       "      <td>21.10.2015</td>\n",
       "      <td>31.12.2019</td>\n",
       "      <td>20.08.2018</td>\n",
       "      <td>123;456;789</td>\n",
       "    </tr>\n",
       "    <tr>\n",
       "      <th>1</th>\n",
       "      <td>A101</td>\n",
       "      <td>23899002</td>\n",
       "      <td>SECOnd   Row</td>\n",
       "      <td>McAllister, Eoin</td>\n",
       "      <td>103</td>\n",
       "      <td>4,32</td>\n",
       "      <td>21.10.2016</td>\n",
       "      <td>31.12.2020</td>\n",
       "      <td>20.08.2017</td>\n",
       "      <td>ss;11;33</td>\n",
       "    </tr>\n",
       "    <tr>\n",
       "      <th>2</th>\n",
       "      <td>A101</td>\n",
       "      <td>23899003</td>\n",
       "      <td>Thrid        Row</td>\n",
       "      <td>Tarpey, Mike</td>\n",
       "      <td>1</td>\n",
       "      <td>3  4,32</td>\n",
       "      <td>21.10.2017</td>\n",
       "      <td>31.12.2021</td>\n",
       "      <td>20.08.2020</td>\n",
       "      <td>A;b;C</td>\n",
       "    </tr>\n",
       "  </tbody>\n",
       "</table>\n",
       "</div>"
      ],
      "text/plain": [
       "  Gropuing cde_  Order_NBR      This column name is too long  \\\n",
       "0          A100   23899001  First                        row   \n",
       "1          A101   23899002                      SECOnd   Row   \n",
       "2          A101   23899003                  Thrid        Row   \n",
       "\n",
       "     Second column  Quantity           Price   Effective     Expired  \\\n",
       "0     Scally, Aidan       14            1,23  21.10.2015  31.12.2019   \n",
       "1  McAllister, Eoin      103            4,32  21.10.2016  31.12.2020   \n",
       "2      Tarpey, Mike        1         3  4,32  21.10.2017  31.12.2021   \n",
       "\n",
       "  TranSACTion DATE A delimitted LIsT  \n",
       "0       20.08.2018       123;456;789  \n",
       "1       20.08.2017          ss;11;33  \n",
       "2       20.08.2020             A;b;C  "
      ]
     },
     "execution_count": 3,
     "metadata": {},
     "output_type": "execute_result"
    }
   ],
   "source": [
    "xl_file = \"inputs/Test excel workbook.xlsx\"\n",
    "df_original = pd.read_excel(xl_file)\n",
    "df = df_original.copy(deep=True)\n",
    "\n",
    "logger.info(df.shape)\n",
    "display(df.columns.values)\n",
    "df.iloc[:3, :]"
   ]
  },
  {
   "cell_type": "markdown",
   "metadata": {},
   "source": [
    "## piper functions (clean)"
   ]
  },
  {
   "cell_type": "code",
   "execution_count": 4,
   "metadata": {
    "ExecuteTime": {
     "end_time": "2021-04-09T16:36:46.316947Z",
     "start_time": "2021-04-09T16:36:46.185948Z"
    }
   },
   "outputs": [
    {
     "data": {
      "text/html": [
       "<div>\n",
       "<style scoped>\n",
       "    .dataframe tbody tr th:only-of-type {\n",
       "        vertical-align: middle;\n",
       "    }\n",
       "\n",
       "    .dataframe tbody tr th {\n",
       "        vertical-align: top;\n",
       "    }\n",
       "\n",
       "    .dataframe thead th {\n",
       "        text-align: right;\n",
       "    }\n",
       "</style>\n",
       "<table border=\"1\" class=\"dataframe\">\n",
       "  <thead>\n",
       "    <tr style=\"text-align: right;\">\n",
       "      <th></th>\n",
       "      <th>grp</th>\n",
       "      <th>order_nbr</th>\n",
       "      <th>column_1</th>\n",
       "      <th>name</th>\n",
       "      <th>quantity</th>\n",
       "      <th>quantity2</th>\n",
       "      <th>price</th>\n",
       "      <th>price2</th>\n",
       "      <th>effective</th>\n",
       "      <th>expired</th>\n",
       "      <th>trans_dt</th>\n",
       "      <th>a</th>\n",
       "      <th>b</th>\n",
       "      <th>c</th>\n",
       "    </tr>\n",
       "  </thead>\n",
       "  <tbody>\n",
       "    <tr>\n",
       "      <th>0</th>\n",
       "      <td>A100</td>\n",
       "      <td>23899001</td>\n",
       "      <td>First Row</td>\n",
       "      <td>Aidan Scally</td>\n",
       "      <td>14</td>\n",
       "      <td>14.0000</td>\n",
       "      <td>1,23</td>\n",
       "      <td>123.00000</td>\n",
       "      <td>2015-10-21</td>\n",
       "      <td>2019-12-31</td>\n",
       "      <td>2018-08-20</td>\n",
       "      <td>123</td>\n",
       "      <td>456</td>\n",
       "      <td>789</td>\n",
       "    </tr>\n",
       "    <tr>\n",
       "      <th>1</th>\n",
       "      <td>A101</td>\n",
       "      <td>23899002</td>\n",
       "      <td>Second Row</td>\n",
       "      <td>Eoin Mcallister</td>\n",
       "      <td>103</td>\n",
       "      <td>103.0000</td>\n",
       "      <td>4,32</td>\n",
       "      <td>432.00000</td>\n",
       "      <td>2016-10-21</td>\n",
       "      <td>2020-12-31</td>\n",
       "      <td>2017-08-20</td>\n",
       "      <td>ss</td>\n",
       "      <td>11</td>\n",
       "      <td>33</td>\n",
       "    </tr>\n",
       "    <tr>\n",
       "      <th>2</th>\n",
       "      <td>A101</td>\n",
       "      <td>23899003</td>\n",
       "      <td>Thrid Row</td>\n",
       "      <td>Mike Tarpey</td>\n",
       "      <td>1</td>\n",
       "      <td>1.0000</td>\n",
       "      <td>3  4,32</td>\n",
       "      <td>3432.00000</td>\n",
       "      <td>2017-10-21</td>\n",
       "      <td>2021-12-31</td>\n",
       "      <td>2020-08-20</td>\n",
       "      <td>A</td>\n",
       "      <td>b</td>\n",
       "      <td>C</td>\n",
       "    </tr>\n",
       "    <tr>\n",
       "      <th>3</th>\n",
       "      <td>A102</td>\n",
       "      <td>23899004</td>\n",
       "      <td>Fourth Row</td>\n",
       "      <td>Alan Denton</td>\n",
       "      <td>13</td>\n",
       "      <td>13.0000</td>\n",
       "      <td>49</td>\n",
       "      <td>49.00000</td>\n",
       "      <td>2018-10-21</td>\n",
       "      <td>2022-12-31</td>\n",
       "      <td>2021-08-20</td>\n",
       "      <td>cat</td>\n",
       "      <td>dog</td>\n",
       "      <td>books</td>\n",
       "    </tr>\n",
       "    <tr>\n",
       "      <th>4</th>\n",
       "      <td>A103</td>\n",
       "      <td>23899005</td>\n",
       "      <td>Fifth Row</td>\n",
       "      <td>Theo Dallis</td>\n",
       "      <td>19</td>\n",
       "      <td>19.0000</td>\n",
       "      <td>45.7,98</td>\n",
       "      <td>45.79800</td>\n",
       "      <td>2019-10-21</td>\n",
       "      <td>2023-12-31</td>\n",
       "      <td>2022-08-20</td>\n",
       "      <td>x</td>\n",
       "      <td>y</td>\n",
       "      <td>z</td>\n",
       "    </tr>\n",
       "    <tr>\n",
       "      <th>5</th>\n",
       "      <td>A103</td>\n",
       "      <td>23899006</td>\n",
       "      <td>Sixth Row</td>\n",
       "      <td>Derek Hunt</td>\n",
       "      <td>5---32,14</td>\n",
       "      <td>-53214.0000</td>\n",
       "      <td>634,23</td>\n",
       "      <td>63423.00000</td>\n",
       "      <td>2019-04-21</td>\n",
       "      <td>2020-05-07</td>\n",
       "      <td>2015-08-20</td>\n",
       "      <td>alpha</td>\n",
       "      <td>bravo</td>\n",
       "      <td>charlie</td>\n",
       "    </tr>\n",
       "    <tr>\n",
       "      <th>6</th>\n",
       "      <td>A103</td>\n",
       "      <td>23899007</td>\n",
       "      <td>Seventh Row</td>\n",
       "      <td>Tony Goddard</td>\n",
       "      <td>178.3035</td>\n",
       "      <td>178.3035</td>\n",
       "      <td>27.04502</td>\n",
       "      <td>27.04502</td>\n",
       "      <td>2019-10-21</td>\n",
       "      <td>2025-12-31</td>\n",
       "      <td>2024-08-20</td>\n",
       "      <td>24th May</td>\n",
       "      <td>18th July</td>\n",
       "      <td>5th August</td>\n",
       "    </tr>\n",
       "    <tr>\n",
       "      <th>7</th>\n",
       "      <td>A104</td>\n",
       "      <td>23899008</td>\n",
       "      <td>Eighth Row</td>\n",
       "      <td>Matthew Whitaker</td>\n",
       "      <td>4-2-4,00</td>\n",
       "      <td>-42400.0000</td>\n",
       "      <td>56,3.00</td>\n",
       "      <td>563.00000</td>\n",
       "      <td>2019-10-21</td>\n",
       "      <td>2025-12-31</td>\n",
       "      <td>2025-08-20</td>\n",
       "      <td>cc</td>\n",
       "      <td>bb</td>\n",
       "      <td>aa</td>\n",
       "    </tr>\n",
       "    <tr>\n",
       "      <th>8</th>\n",
       "      <td>A105</td>\n",
       "      <td>23899009</td>\n",
       "      <td>Ninth Row</td>\n",
       "      <td>Carsten Seiffert</td>\n",
       "      <td>2-4,00</td>\n",
       "      <td>-2400.0000</td>\n",
       "      <td>9,.8.00</td>\n",
       "      <td>98.00000</td>\n",
       "      <td>2018-05-21</td>\n",
       "      <td>2025-12-10</td>\n",
       "      <td>2026-08-20</td>\n",
       "      <td>1304</td>\n",
       "      <td>53-02</td>\n",
       "      <td>6932</td>\n",
       "    </tr>\n",
       "    <tr>\n",
       "      <th>9</th>\n",
       "      <td>A105</td>\n",
       "      <td>23899010</td>\n",
       "      <td>Tenth Row</td>\n",
       "      <td>Craig Freer</td>\n",
       "      <td>18,00.22</td>\n",
       "      <td>1800.2200</td>\n",
       "      <td>563</td>\n",
       "      <td>563.00000</td>\n",
       "      <td>2019-10-21</td>\n",
       "      <td>2025-12-31</td>\n",
       "      <td>2027-08-20</td>\n",
       "      <td>40a3</td>\n",
       "      <td>64g</td>\n",
       "      <td>023;</td>\n",
       "    </tr>\n",
       "    <tr>\n",
       "      <th>10</th>\n",
       "      <td>A102</td>\n",
       "      <td>23899011</td>\n",
       "      <td>Fourth Row</td>\n",
       "      <td>Alan Denton</td>\n",
       "      <td>13</td>\n",
       "      <td>13.0000</td>\n",
       "      <td>49</td>\n",
       "      <td>49.00000</td>\n",
       "      <td>2018-10-21</td>\n",
       "      <td>2022-12-31</td>\n",
       "      <td>2021-08-20</td>\n",
       "      <td>d20</td>\n",
       "      <td>tg54</td>\n",
       "      <td>kde40</td>\n",
       "    </tr>\n",
       "    <tr>\n",
       "      <th>11</th>\n",
       "      <td>A103</td>\n",
       "      <td>23899012</td>\n",
       "      <td>Fifth Row</td>\n",
       "      <td>Theo Dallis</td>\n",
       "      <td>19</td>\n",
       "      <td>19.0000</td>\n",
       "      <td>45.7,98</td>\n",
       "      <td>45.79800</td>\n",
       "      <td>2019-10-21</td>\n",
       "      <td>2023-12-31</td>\n",
       "      <td>2022-08-20</td>\n",
       "      <td>5555</td>\n",
       "      <td>4444</td>\n",
       "      <td>3333</td>\n",
       "    </tr>\n",
       "  </tbody>\n",
       "</table>\n",
       "</div>"
      ],
      "text/plain": [
       "     grp  order_nbr     column_1              name   quantity   quantity2  \\\n",
       "0   A100   23899001    First Row      Aidan Scally         14     14.0000   \n",
       "1   A101   23899002   Second Row   Eoin Mcallister        103    103.0000   \n",
       "2   A101   23899003    Thrid Row       Mike Tarpey          1      1.0000   \n",
       "3   A102   23899004   Fourth Row       Alan Denton         13     13.0000   \n",
       "4   A103   23899005    Fifth Row       Theo Dallis         19     19.0000   \n",
       "5   A103   23899006    Sixth Row        Derek Hunt  5---32,14 -53214.0000   \n",
       "6   A103   23899007  Seventh Row      Tony Goddard   178.3035    178.3035   \n",
       "7   A104   23899008   Eighth Row  Matthew Whitaker   4-2-4,00 -42400.0000   \n",
       "8   A105   23899009    Ninth Row  Carsten Seiffert     2-4,00  -2400.0000   \n",
       "9   A105   23899010    Tenth Row       Craig Freer   18,00.22   1800.2200   \n",
       "10  A102   23899011   Fourth Row       Alan Denton         13     13.0000   \n",
       "11  A103   23899012    Fifth Row       Theo Dallis         19     19.0000   \n",
       "\n",
       "       price       price2  effective    expired   trans_dt         a  \\\n",
       "0       1,23    123.00000 2015-10-21 2019-12-31 2018-08-20       123   \n",
       "1       4,32    432.00000 2016-10-21 2020-12-31 2017-08-20        ss   \n",
       "2    3  4,32   3432.00000 2017-10-21 2021-12-31 2020-08-20         A   \n",
       "3         49     49.00000 2018-10-21 2022-12-31 2021-08-20       cat   \n",
       "4    45.7,98     45.79800 2019-10-21 2023-12-31 2022-08-20         x   \n",
       "5     634,23  63423.00000 2019-04-21 2020-05-07 2015-08-20     alpha   \n",
       "6   27.04502     27.04502 2019-10-21 2025-12-31 2024-08-20  24th May   \n",
       "7    56,3.00    563.00000 2019-10-21 2025-12-31 2025-08-20        cc   \n",
       "8    9,.8.00     98.00000 2018-05-21 2025-12-10 2026-08-20      1304   \n",
       "9        563    563.00000 2019-10-21 2025-12-31 2027-08-20      40a3   \n",
       "10        49     49.00000 2018-10-21 2022-12-31 2021-08-20       d20   \n",
       "11   45.7,98     45.79800 2019-10-21 2023-12-31 2022-08-20      5555   \n",
       "\n",
       "            b           c  \n",
       "0         456         789  \n",
       "1          11          33  \n",
       "2           b           C  \n",
       "3         dog       books  \n",
       "4           y           z  \n",
       "5       bravo     charlie  \n",
       "6   18th July  5th August  \n",
       "7          bb          aa  \n",
       "8       53-02        6932  \n",
       "9         64g        023;  \n",
       "10       tg54       kde40  \n",
       "11       4444        3333  "
      ]
     },
     "execution_count": 4,
     "metadata": {},
     "output_type": "execute_result"
    }
   ],
   "source": [
    "%%piper\n",
    "\n",
    "df\n",
    ">> clean_names()\n",
    ">> rename(columns={'gropuing_cde': 'grp',\n",
    "                   'this_column_name_is_too_long': 'column_1',\n",
    "                  'second_column': 'column_2',\n",
    "                  'transaction_date': 'trans_dt'})\n",
    ">> across(['column_1', 'column_2'], lambda x: x.str.replace('[\\,\\.\\s]+', ' ', regex=True),\n",
    "          series_obj=True)\n",
    ">> across(['column_1', 'column_2'], lambda x: x.str.title(), series_obj=True)\n",
    ">> across(['effective', 'expired', 'trans_dt'], pd.to_datetime)\n",
    ">> str_split('a_delimitted_list', columns=['a', 'b', 'c'], pat=';', n=2, drop=True)\n",
    ">> str_split('column_2', columns=['lastname', 'firstname'], pat=' ', drop=True)\n",
    ">> str_join(['firstname', 'lastname'], sep=' ', column='name')\n",
    ">> assign(quantity2=lambda x: str_clean_number(x.quantity, dtype='float'))\n",
    ">> relocate('quantity2', 'after', 'quantity')\n",
    ">> assign(price2=lambda x: str_clean_number(x.price, dtype='float'))\n",
    ">> str_trim()\n",
    ">> relocate('price2', 'after', 'price')"
   ]
  },
  {
   "cell_type": "markdown",
   "metadata": {},
   "source": [
    "## Rename columns"
   ]
  },
  {
   "cell_type": "code",
   "execution_count": 5,
   "metadata": {
    "ExecuteTime": {
     "end_time": "2021-04-09T16:37:17.604731Z",
     "start_time": "2021-04-09T16:37:17.595910Z"
    }
   },
   "outputs": [
    {
     "data": {
      "text/plain": [
       "{'gropuing_cde': 'gropuing_cde',\n",
       " 'order_nbr': 'order_nbr',\n",
       " 'this_column_name_is_too_long': 'this_column_name_is_too_long',\n",
       " 'second_column': 'second_column',\n",
       " 'quantity': 'quantity',\n",
       " 'price': 'price',\n",
       " 'effective': 'effective',\n",
       " 'expired': 'expired',\n",
       " 'transaction_date': 'transaction_date',\n",
       " 'a_delimitted_list': 'a_delimitted_list'}"
      ]
     },
     "metadata": {},
     "output_type": "display_data"
    },
    {
     "data": {
      "text/plain": [
       "\"['gropuing_cde', 'order_nbr', 'this_column_name_is_too_long', 'second_column', 'quantity', 'price', 'effective', 'expired', 'transaction_date', 'a_delimitted_list']\""
      ]
     },
     "metadata": {},
     "output_type": "display_data"
    }
   ],
   "source": [
    "# Mike's utility for manipulating dataframe columns\n",
    "display(names(df, regex='', astype='dict'))\n",
    "display(names(df, astype='text'))"
   ]
  },
  {
   "cell_type": "code",
   "execution_count": 6,
   "metadata": {
    "ExecuteTime": {
     "end_time": "2021-04-09T16:37:18.387387Z",
     "start_time": "2021-04-09T16:37:18.365840Z"
    }
   },
   "outputs": [
    {
     "data": {
      "text/html": [
       "<div>\n",
       "<style scoped>\n",
       "    .dataframe tbody tr th:only-of-type {\n",
       "        vertical-align: middle;\n",
       "    }\n",
       "\n",
       "    .dataframe tbody tr th {\n",
       "        vertical-align: top;\n",
       "    }\n",
       "\n",
       "    .dataframe thead th {\n",
       "        text-align: right;\n",
       "    }\n",
       "</style>\n",
       "<table border=\"1\" class=\"dataframe\">\n",
       "  <thead>\n",
       "    <tr style=\"text-align: right;\">\n",
       "      <th></th>\n",
       "      <th>grouping</th>\n",
       "      <th>orders</th>\n",
       "      <th>description</th>\n",
       "      <th>second_col</th>\n",
       "      <th>qty</th>\n",
       "      <th>price</th>\n",
       "      <th>effective</th>\n",
       "      <th>expired</th>\n",
       "      <th>date</th>\n",
       "      <th>delimitted_list</th>\n",
       "    </tr>\n",
       "  </thead>\n",
       "  <tbody>\n",
       "    <tr>\n",
       "      <th>0</th>\n",
       "      <td>A100</td>\n",
       "      <td>23899001</td>\n",
       "      <td>First                        row</td>\n",
       "      <td>Scally, Aidan</td>\n",
       "      <td>14</td>\n",
       "      <td>1,23</td>\n",
       "      <td>21.10.2015</td>\n",
       "      <td>31.12.2019</td>\n",
       "      <td>20.08.2018</td>\n",
       "      <td>123;456;789</td>\n",
       "    </tr>\n",
       "    <tr>\n",
       "      <th>1</th>\n",
       "      <td>A101</td>\n",
       "      <td>23899002</td>\n",
       "      <td>SECOnd   Row</td>\n",
       "      <td>McAllister, Eoin</td>\n",
       "      <td>103</td>\n",
       "      <td>4,32</td>\n",
       "      <td>21.10.2016</td>\n",
       "      <td>31.12.2020</td>\n",
       "      <td>20.08.2017</td>\n",
       "      <td>ss;11;33</td>\n",
       "    </tr>\n",
       "    <tr>\n",
       "      <th>2</th>\n",
       "      <td>A101</td>\n",
       "      <td>23899003</td>\n",
       "      <td>Thrid        Row</td>\n",
       "      <td>Tarpey, Mike</td>\n",
       "      <td>1</td>\n",
       "      <td>3  4,32</td>\n",
       "      <td>21.10.2017</td>\n",
       "      <td>31.12.2021</td>\n",
       "      <td>20.08.2020</td>\n",
       "      <td>A;b;C</td>\n",
       "    </tr>\n",
       "  </tbody>\n",
       "</table>\n",
       "</div>"
      ],
      "text/plain": [
       "  grouping    orders                       description        second_col  qty  \\\n",
       "0     A100  23899001  First                        row     Scally, Aidan   14   \n",
       "1     A101  23899002                      SECOnd   Row  McAllister, Eoin  103   \n",
       "2     A101  23899003                  Thrid        Row      Tarpey, Mike    1   \n",
       "\n",
       "            price   effective     expired        date delimitted_list  \n",
       "0            1,23  21.10.2015  31.12.2019  20.08.2018     123;456;789  \n",
       "1            4,32  21.10.2016  31.12.2020  20.08.2017        ss;11;33  \n",
       "2         3  4,32  21.10.2017  31.12.2021  20.08.2020           A;b;C  "
      ]
     },
     "execution_count": 6,
     "metadata": {},
     "output_type": "execute_result"
    }
   ],
   "source": [
    "columns_renamed = ['grouping', 'orders', 'description', 'second_col',\n",
    "                   'qty', 'price', 'effective', 'expired', 'date', 'delimitted_list']\n",
    "\n",
    "df.columns = columns_renamed\n",
    "df.iloc[:3, :]"
   ]
  },
  {
   "cell_type": "markdown",
   "metadata": {},
   "source": [
    "## Chaining functions - clean strings example"
   ]
  },
  {
   "cell_type": "code",
   "execution_count": 7,
   "metadata": {
    "ExecuteTime": {
     "end_time": "2021-04-09T16:37:19.534846Z",
     "start_time": "2021-04-09T16:37:19.516861Z"
    }
   },
   "outputs": [
    {
     "data": {
      "text/html": [
       "<div>\n",
       "<style scoped>\n",
       "    .dataframe tbody tr th:only-of-type {\n",
       "        vertical-align: middle;\n",
       "    }\n",
       "\n",
       "    .dataframe tbody tr th {\n",
       "        vertical-align: top;\n",
       "    }\n",
       "\n",
       "    .dataframe thead th {\n",
       "        text-align: right;\n",
       "    }\n",
       "</style>\n",
       "<table border=\"1\" class=\"dataframe\">\n",
       "  <thead>\n",
       "    <tr style=\"text-align: right;\">\n",
       "      <th></th>\n",
       "      <th>grouping</th>\n",
       "      <th>orders</th>\n",
       "      <th>description</th>\n",
       "      <th>second_col</th>\n",
       "      <th>qty</th>\n",
       "      <th>price</th>\n",
       "      <th>effective</th>\n",
       "      <th>expired</th>\n",
       "      <th>date</th>\n",
       "      <th>delimitted_list</th>\n",
       "    </tr>\n",
       "  </thead>\n",
       "  <tbody>\n",
       "    <tr>\n",
       "      <th>0</th>\n",
       "      <td>A100</td>\n",
       "      <td>23899001</td>\n",
       "      <td>First Row</td>\n",
       "      <td>Scally, Aidan</td>\n",
       "      <td>14</td>\n",
       "      <td>1,23</td>\n",
       "      <td>21.10.2015</td>\n",
       "      <td>31.12.2019</td>\n",
       "      <td>20.08.2018</td>\n",
       "      <td>123;456;789</td>\n",
       "    </tr>\n",
       "    <tr>\n",
       "      <th>1</th>\n",
       "      <td>A101</td>\n",
       "      <td>23899002</td>\n",
       "      <td>Second Row</td>\n",
       "      <td>McAllister, Eoin</td>\n",
       "      <td>103</td>\n",
       "      <td>4,32</td>\n",
       "      <td>21.10.2016</td>\n",
       "      <td>31.12.2020</td>\n",
       "      <td>20.08.2017</td>\n",
       "      <td>ss;11;33</td>\n",
       "    </tr>\n",
       "    <tr>\n",
       "      <th>2</th>\n",
       "      <td>A101</td>\n",
       "      <td>23899003</td>\n",
       "      <td>Third Row</td>\n",
       "      <td>Tarpey, Mike</td>\n",
       "      <td>1</td>\n",
       "      <td>3  4,32</td>\n",
       "      <td>21.10.2017</td>\n",
       "      <td>31.12.2021</td>\n",
       "      <td>20.08.2020</td>\n",
       "      <td>A;b;C</td>\n",
       "    </tr>\n",
       "    <tr>\n",
       "      <th>3</th>\n",
       "      <td>A102</td>\n",
       "      <td>23899004</td>\n",
       "      <td>Fourth Row</td>\n",
       "      <td>Denton,        Alan</td>\n",
       "      <td>13</td>\n",
       "      <td>49</td>\n",
       "      <td>21.10.2018</td>\n",
       "      <td>31.12.2022</td>\n",
       "      <td>20.08.2021</td>\n",
       "      <td>cat;dog;books</td>\n",
       "    </tr>\n",
       "  </tbody>\n",
       "</table>\n",
       "</div>"
      ],
      "text/plain": [
       "  grouping    orders description           second_col  qty           price  \\\n",
       "0     A100  23899001   First Row        Scally, Aidan   14            1,23   \n",
       "1     A101  23899002  Second Row     McAllister, Eoin  103            4,32   \n",
       "2     A101  23899003   Third Row         Tarpey, Mike    1         3  4,32   \n",
       "3     A102  23899004  Fourth Row  Denton,        Alan   13              49   \n",
       "\n",
       "    effective     expired        date delimitted_list  \n",
       "0  21.10.2015  31.12.2019  20.08.2018     123;456;789  \n",
       "1  21.10.2016  31.12.2020  20.08.2017        ss;11;33  \n",
       "2  21.10.2017  31.12.2021  20.08.2020           A;b;C  \n",
       "3  21.10.2018  31.12.2022  20.08.2021   cat;dog;books  "
      ]
     },
     "execution_count": 7,
     "metadata": {},
     "output_type": "execute_result"
    }
   ],
   "source": [
    "df['description'] = (df['description'].str.lower()\n",
    "                                      .str.strip()\n",
    "                                      .str.title()\n",
    "                                      .str.replace('ri','ir', regex=True)\n",
    "                                      .str.replace(r'(\\w)\\s+(\\w)', r'\\1 \\2', regex=True))\n",
    "df.iloc[:4, :]"
   ]
  },
  {
   "cell_type": "code",
   "execution_count": 8,
   "metadata": {
    "ExecuteTime": {
     "end_time": "2021-04-09T16:37:20.364138Z",
     "start_time": "2021-04-09T16:37:20.341980Z"
    }
   },
   "outputs": [
    {
     "data": {
      "text/html": [
       "<div>\n",
       "<style scoped>\n",
       "    .dataframe tbody tr th:only-of-type {\n",
       "        vertical-align: middle;\n",
       "    }\n",
       "\n",
       "    .dataframe tbody tr th {\n",
       "        vertical-align: top;\n",
       "    }\n",
       "\n",
       "    .dataframe thead th {\n",
       "        text-align: right;\n",
       "    }\n",
       "</style>\n",
       "<table border=\"1\" class=\"dataframe\">\n",
       "  <thead>\n",
       "    <tr style=\"text-align: right;\">\n",
       "      <th></th>\n",
       "      <th>grouping</th>\n",
       "      <th>orders</th>\n",
       "      <th>description</th>\n",
       "      <th>second_col</th>\n",
       "      <th>qty</th>\n",
       "      <th>price</th>\n",
       "      <th>effective</th>\n",
       "      <th>expired</th>\n",
       "      <th>date</th>\n",
       "      <th>delimitted_list</th>\n",
       "    </tr>\n",
       "  </thead>\n",
       "  <tbody>\n",
       "    <tr>\n",
       "      <th>0</th>\n",
       "      <td>A100</td>\n",
       "      <td>23899001</td>\n",
       "      <td>First Row</td>\n",
       "      <td>Aidan Scally</td>\n",
       "      <td>14</td>\n",
       "      <td>1,23</td>\n",
       "      <td>21.10.2015</td>\n",
       "      <td>31.12.2019</td>\n",
       "      <td>20.08.2018</td>\n",
       "      <td>123;456;789</td>\n",
       "    </tr>\n",
       "    <tr>\n",
       "      <th>1</th>\n",
       "      <td>A101</td>\n",
       "      <td>23899002</td>\n",
       "      <td>Second Row</td>\n",
       "      <td>Eoin Mcallister</td>\n",
       "      <td>103</td>\n",
       "      <td>4,32</td>\n",
       "      <td>21.10.2016</td>\n",
       "      <td>31.12.2020</td>\n",
       "      <td>20.08.2017</td>\n",
       "      <td>ss;11;33</td>\n",
       "    </tr>\n",
       "    <tr>\n",
       "      <th>2</th>\n",
       "      <td>A101</td>\n",
       "      <td>23899003</td>\n",
       "      <td>Third Row</td>\n",
       "      <td>Mike Tarpey</td>\n",
       "      <td>1</td>\n",
       "      <td>3  4,32</td>\n",
       "      <td>21.10.2017</td>\n",
       "      <td>31.12.2021</td>\n",
       "      <td>20.08.2020</td>\n",
       "      <td>A;b;C</td>\n",
       "    </tr>\n",
       "    <tr>\n",
       "      <th>3</th>\n",
       "      <td>A102</td>\n",
       "      <td>23899004</td>\n",
       "      <td>Fourth Row</td>\n",
       "      <td>Alan Denton</td>\n",
       "      <td>13</td>\n",
       "      <td>49</td>\n",
       "      <td>21.10.2018</td>\n",
       "      <td>31.12.2022</td>\n",
       "      <td>20.08.2021</td>\n",
       "      <td>cat;dog;books</td>\n",
       "    </tr>\n",
       "  </tbody>\n",
       "</table>\n",
       "</div>"
      ],
      "text/plain": [
       "  grouping    orders description       second_col  qty           price  \\\n",
       "0     A100  23899001   First Row     Aidan Scally   14            1,23   \n",
       "1     A101  23899002  Second Row  Eoin Mcallister  103            4,32   \n",
       "2     A101  23899003   Third Row      Mike Tarpey    1         3  4,32   \n",
       "3     A102  23899004  Fourth Row      Alan Denton   13              49   \n",
       "\n",
       "    effective     expired        date delimitted_list  \n",
       "0  21.10.2015  31.12.2019  20.08.2018     123;456;789  \n",
       "1  21.10.2016  31.12.2020  20.08.2017        ss;11;33  \n",
       "2  21.10.2017  31.12.2021  20.08.2020           A;b;C  \n",
       "3  21.10.2018  31.12.2022  20.08.2021   cat;dog;books  "
      ]
     },
     "execution_count": 8,
     "metadata": {},
     "output_type": "execute_result"
    }
   ],
   "source": [
    "df.second_col = (df.second_col\n",
    "                   .str.strip()\n",
    "                   .str.title()\n",
    "                   .str.replace(r'(\\w+),\\s+(\\w+)', r'\\2 \\1', regex=True)\n",
    "                   )\n",
    "df.iloc[:4, :]"
   ]
  },
  {
   "cell_type": "markdown",
   "metadata": {},
   "source": [
    "## Clean-up"
   ]
  },
  {
   "cell_type": "markdown",
   "metadata": {},
   "source": [
    "### Numbers"
   ]
  },
  {
   "cell_type": "code",
   "execution_count": 9,
   "metadata": {
    "ExecuteTime": {
     "end_time": "2021-04-09T16:37:21.430223Z",
     "start_time": "2021-04-09T16:37:21.412482Z"
    }
   },
   "outputs": [],
   "source": [
    "df.loc[df.qty.str.match(r'[\\w]') == True, 'qty'] = (df.qty.str.strip()\n",
    "                                                          .str.replace(r'[\\s\\-]', '', regex=True)\n",
    "                                                          .str.replace(',(\\d{2})$',r'.\\1', regex=True)\n",
    "                                                          .str.replace(r',', '', regex=True))\n",
    "df.loc[df.price.str.match(r'[\\w]') == True, 'price'] = (df.price\n",
    "                                                          .str.replace(r'\\s+', r'', regex=True)\n",
    "                                                          .str.replace(r'\\.{2}',r'', regex=True))"
   ]
  },
  {
   "cell_type": "code",
   "execution_count": 10,
   "metadata": {
    "ExecuteTime": {
     "end_time": "2021-04-09T16:37:21.719280Z",
     "start_time": "2021-04-09T16:37:21.699483Z"
    }
   },
   "outputs": [],
   "source": [
    "df.loc[df.price.str.match(r'[\\W]') == True, 'price'] = (df.price\n",
    "                                                          .str.replace(r',', r'.', regex=True))\n",
    " \n",
    "df.loc[df.price.str.match(r'[\\w]') == True, 'price'] = (df.price\n",
    "                                                          .str.replace(r',', r'.', regex=True)\n",
    "                                                          .str.replace(r'\\s+', r'', regex=True)\n",
    "                                                          .str.replace(r'\\.{2}',r'', regex=True))\n",
    "\n",
    "df.loc[df.price.str.match(r'[\\w]') == True, 'price'] = (df.price     \n",
    "                                                          .str.replace(r'\\.{2}',r'', regex=True)\n",
    "                                                          .str.replace(r'(\\.\\d)\\.',r'\\1', regex=True))\n",
    "# df.price"
   ]
  },
  {
   "cell_type": "code",
   "execution_count": 11,
   "metadata": {
    "ExecuteTime": {
     "end_time": "2021-04-09T16:37:22.259808Z",
     "start_time": "2021-04-09T16:37:22.241119Z"
    }
   },
   "outputs": [
    {
     "data": {
      "text/html": [
       "<div>\n",
       "<style scoped>\n",
       "    .dataframe tbody tr th:only-of-type {\n",
       "        vertical-align: middle;\n",
       "    }\n",
       "\n",
       "    .dataframe tbody tr th {\n",
       "        vertical-align: top;\n",
       "    }\n",
       "\n",
       "    .dataframe thead th {\n",
       "        text-align: right;\n",
       "    }\n",
       "</style>\n",
       "<table border=\"1\" class=\"dataframe\">\n",
       "  <thead>\n",
       "    <tr style=\"text-align: right;\">\n",
       "      <th></th>\n",
       "      <th>grouping</th>\n",
       "      <th>orders</th>\n",
       "      <th>description</th>\n",
       "      <th>second_col</th>\n",
       "      <th>qty</th>\n",
       "      <th>price</th>\n",
       "      <th>effective</th>\n",
       "      <th>expired</th>\n",
       "      <th>date</th>\n",
       "      <th>delimitted_list</th>\n",
       "    </tr>\n",
       "  </thead>\n",
       "  <tbody>\n",
       "    <tr>\n",
       "      <th>0</th>\n",
       "      <td>A100</td>\n",
       "      <td>23899001</td>\n",
       "      <td>First Row</td>\n",
       "      <td>Aidan Scally</td>\n",
       "      <td>14</td>\n",
       "      <td>1.23</td>\n",
       "      <td>21.10.2015</td>\n",
       "      <td>31.12.2019</td>\n",
       "      <td>20.08.2018</td>\n",
       "      <td>123;456;789</td>\n",
       "    </tr>\n",
       "    <tr>\n",
       "      <th>1</th>\n",
       "      <td>A101</td>\n",
       "      <td>23899002</td>\n",
       "      <td>Second Row</td>\n",
       "      <td>Eoin Mcallister</td>\n",
       "      <td>103</td>\n",
       "      <td>4.32</td>\n",
       "      <td>21.10.2016</td>\n",
       "      <td>31.12.2020</td>\n",
       "      <td>20.08.2017</td>\n",
       "      <td>ss;11;33</td>\n",
       "    </tr>\n",
       "    <tr>\n",
       "      <th>2</th>\n",
       "      <td>A101</td>\n",
       "      <td>23899003</td>\n",
       "      <td>Third Row</td>\n",
       "      <td>Mike Tarpey</td>\n",
       "      <td>1</td>\n",
       "      <td>34.32</td>\n",
       "      <td>21.10.2017</td>\n",
       "      <td>31.12.2021</td>\n",
       "      <td>20.08.2020</td>\n",
       "      <td>A;b;C</td>\n",
       "    </tr>\n",
       "    <tr>\n",
       "      <th>3</th>\n",
       "      <td>A102</td>\n",
       "      <td>23899004</td>\n",
       "      <td>Fourth Row</td>\n",
       "      <td>Alan Denton</td>\n",
       "      <td>13</td>\n",
       "      <td>49.00</td>\n",
       "      <td>21.10.2018</td>\n",
       "      <td>31.12.2022</td>\n",
       "      <td>20.08.2021</td>\n",
       "      <td>cat;dog;books</td>\n",
       "    </tr>\n",
       "  </tbody>\n",
       "</table>\n",
       "</div>"
      ],
      "text/plain": [
       "  grouping    orders description       second_col  qty  price   effective  \\\n",
       "0     A100  23899001   First Row     Aidan Scally   14   1.23  21.10.2015   \n",
       "1     A101  23899002  Second Row  Eoin Mcallister  103   4.32  21.10.2016   \n",
       "2     A101  23899003   Third Row      Mike Tarpey    1  34.32  21.10.2017   \n",
       "3     A102  23899004  Fourth Row      Alan Denton   13  49.00  21.10.2018   \n",
       "\n",
       "      expired        date delimitted_list  \n",
       "0  31.12.2019  20.08.2018     123;456;789  \n",
       "1  31.12.2020  20.08.2017        ss;11;33  \n",
       "2  31.12.2021  20.08.2020           A;b;C  \n",
       "3  31.12.2022  20.08.2021   cat;dog;books  "
      ]
     },
     "execution_count": 11,
     "metadata": {},
     "output_type": "execute_result"
    }
   ],
   "source": [
    "df.price = df.price.astype(float).round(2)\n",
    "df.qty = pd.to_numeric(df.qty).astype(int)\n",
    "df.iloc[:4, :]"
   ]
  },
  {
   "cell_type": "markdown",
   "metadata": {},
   "source": [
    "### Dates"
   ]
  },
  {
   "cell_type": "code",
   "execution_count": 12,
   "metadata": {
    "ExecuteTime": {
     "end_time": "2021-04-09T16:37:23.121201Z",
     "start_time": "2021-04-09T16:37:23.099297Z"
    }
   },
   "outputs": [
    {
     "data": {
      "text/html": [
       "<div>\n",
       "<style scoped>\n",
       "    .dataframe tbody tr th:only-of-type {\n",
       "        vertical-align: middle;\n",
       "    }\n",
       "\n",
       "    .dataframe tbody tr th {\n",
       "        vertical-align: top;\n",
       "    }\n",
       "\n",
       "    .dataframe thead th {\n",
       "        text-align: right;\n",
       "    }\n",
       "</style>\n",
       "<table border=\"1\" class=\"dataframe\">\n",
       "  <thead>\n",
       "    <tr style=\"text-align: right;\">\n",
       "      <th></th>\n",
       "      <th>orders</th>\n",
       "      <th>description</th>\n",
       "      <th>second_col</th>\n",
       "      <th>qty</th>\n",
       "      <th>price</th>\n",
       "      <th>effective</th>\n",
       "      <th>expired</th>\n",
       "      <th>duration</th>\n",
       "      <th>delimitted_list</th>\n",
       "    </tr>\n",
       "  </thead>\n",
       "  <tbody>\n",
       "    <tr>\n",
       "      <th>0</th>\n",
       "      <td>23899001</td>\n",
       "      <td>First Row</td>\n",
       "      <td>Aidan Scally</td>\n",
       "      <td>14</td>\n",
       "      <td>1.23</td>\n",
       "      <td>2015-10-21</td>\n",
       "      <td>2019-12-31</td>\n",
       "      <td>1532</td>\n",
       "      <td>123;456;789</td>\n",
       "    </tr>\n",
       "    <tr>\n",
       "      <th>5</th>\n",
       "      <td>23899006</td>\n",
       "      <td>Sixth Row</td>\n",
       "      <td>Derek Hunt</td>\n",
       "      <td>532</td>\n",
       "      <td>634.23</td>\n",
       "      <td>2019-04-21</td>\n",
       "      <td>2020-05-07</td>\n",
       "      <td>382</td>\n",
       "      <td>alpha; bravo; charlie</td>\n",
       "    </tr>\n",
       "    <tr>\n",
       "      <th>1</th>\n",
       "      <td>23899002</td>\n",
       "      <td>Second Row</td>\n",
       "      <td>Eoin Mcallister</td>\n",
       "      <td>103</td>\n",
       "      <td>4.32</td>\n",
       "      <td>2016-10-21</td>\n",
       "      <td>2020-12-31</td>\n",
       "      <td>1532</td>\n",
       "      <td>ss;11;33</td>\n",
       "    </tr>\n",
       "    <tr>\n",
       "      <th>2</th>\n",
       "      <td>23899003</td>\n",
       "      <td>Third Row</td>\n",
       "      <td>Mike Tarpey</td>\n",
       "      <td>1</td>\n",
       "      <td>34.32</td>\n",
       "      <td>2017-10-21</td>\n",
       "      <td>2021-12-31</td>\n",
       "      <td>1532</td>\n",
       "      <td>A;b;C</td>\n",
       "    </tr>\n",
       "  </tbody>\n",
       "</table>\n",
       "</div>"
      ],
      "text/plain": [
       "     orders description       second_col  qty   price  effective    expired  \\\n",
       "0  23899001   First Row     Aidan Scally   14    1.23 2015-10-21 2019-12-31   \n",
       "5  23899006   Sixth Row       Derek Hunt  532  634.23 2019-04-21 2020-05-07   \n",
       "1  23899002  Second Row  Eoin Mcallister  103    4.32 2016-10-21 2020-12-31   \n",
       "2  23899003   Third Row      Mike Tarpey    1   34.32 2017-10-21 2021-12-31   \n",
       "\n",
       "   duration        delimitted_list  \n",
       "0      1532            123;456;789  \n",
       "5       382  alpha; bravo; charlie  \n",
       "1      1532               ss;11;33  \n",
       "2      1532                  A;b;C  "
      ]
     },
     "execution_count": 12,
     "metadata": {},
     "output_type": "execute_result"
    }
   ],
   "source": [
    "df.effective = pd.to_datetime(df.effective)\n",
    "df.expired = pd.to_datetime(df.expired)\n",
    "df['duration'] = (df.expired - df.effective).dt.days\n",
    "df.drop(columns=['date'], inplace=True)\n",
    "df.sort_values(by='expired', inplace=True)\n",
    "df.insert(8, 'duration', df.pop('duration'))\n",
    "df.iloc[:4, 1:]"
   ]
  },
  {
   "cell_type": "markdown",
   "metadata": {},
   "source": [
    "### Delimitted data expanded to separate columns"
   ]
  },
  {
   "cell_type": "code",
   "execution_count": 13,
   "metadata": {
    "ExecuteTime": {
     "end_time": "2021-04-09T16:37:23.890800Z",
     "start_time": "2021-04-09T16:37:23.850521Z"
    }
   },
   "outputs": [
    {
     "data": {
      "text/html": [
       "<div>\n",
       "<style scoped>\n",
       "    .dataframe tbody tr th:only-of-type {\n",
       "        vertical-align: middle;\n",
       "    }\n",
       "\n",
       "    .dataframe tbody tr th {\n",
       "        vertical-align: top;\n",
       "    }\n",
       "\n",
       "    .dataframe thead th {\n",
       "        text-align: right;\n",
       "    }\n",
       "</style>\n",
       "<table border=\"1\" class=\"dataframe\">\n",
       "  <thead>\n",
       "    <tr style=\"text-align: right;\">\n",
       "      <th></th>\n",
       "      <th>grouping</th>\n",
       "      <th>orders</th>\n",
       "      <th>description</th>\n",
       "      <th>second_col</th>\n",
       "      <th>qty</th>\n",
       "      <th>price</th>\n",
       "      <th>effective</th>\n",
       "      <th>expired</th>\n",
       "      <th>duration</th>\n",
       "      <th>delimitted_list</th>\n",
       "      <th>list_1</th>\n",
       "      <th>list_2</th>\n",
       "      <th>list_3</th>\n",
       "    </tr>\n",
       "  </thead>\n",
       "  <tbody>\n",
       "    <tr>\n",
       "      <th>0</th>\n",
       "      <td>A100</td>\n",
       "      <td>23899001</td>\n",
       "      <td>First Row</td>\n",
       "      <td>Aidan Scally</td>\n",
       "      <td>14</td>\n",
       "      <td>1.23</td>\n",
       "      <td>2015-10-21</td>\n",
       "      <td>2019-12-31</td>\n",
       "      <td>1532</td>\n",
       "      <td>123;456;789</td>\n",
       "      <td>123</td>\n",
       "      <td>456</td>\n",
       "      <td>789</td>\n",
       "    </tr>\n",
       "    <tr>\n",
       "      <th>5</th>\n",
       "      <td>A103</td>\n",
       "      <td>23899006</td>\n",
       "      <td>Sixth Row</td>\n",
       "      <td>Derek Hunt</td>\n",
       "      <td>532</td>\n",
       "      <td>634.23</td>\n",
       "      <td>2019-04-21</td>\n",
       "      <td>2020-05-07</td>\n",
       "      <td>382</td>\n",
       "      <td>alpha; bravo; charlie</td>\n",
       "      <td>alpha</td>\n",
       "      <td>bravo</td>\n",
       "      <td>charlie</td>\n",
       "    </tr>\n",
       "    <tr>\n",
       "      <th>1</th>\n",
       "      <td>A101</td>\n",
       "      <td>23899002</td>\n",
       "      <td>Second Row</td>\n",
       "      <td>Eoin Mcallister</td>\n",
       "      <td>103</td>\n",
       "      <td>4.32</td>\n",
       "      <td>2016-10-21</td>\n",
       "      <td>2020-12-31</td>\n",
       "      <td>1532</td>\n",
       "      <td>ss;11;33</td>\n",
       "      <td>ss</td>\n",
       "      <td>11</td>\n",
       "      <td>33</td>\n",
       "    </tr>\n",
       "    <tr>\n",
       "      <th>2</th>\n",
       "      <td>A101</td>\n",
       "      <td>23899003</td>\n",
       "      <td>Third Row</td>\n",
       "      <td>Mike Tarpey</td>\n",
       "      <td>1</td>\n",
       "      <td>34.32</td>\n",
       "      <td>2017-10-21</td>\n",
       "      <td>2021-12-31</td>\n",
       "      <td>1532</td>\n",
       "      <td>A;b;C</td>\n",
       "      <td>A</td>\n",
       "      <td>b</td>\n",
       "      <td>C</td>\n",
       "    </tr>\n",
       "    <tr>\n",
       "      <th>3</th>\n",
       "      <td>A102</td>\n",
       "      <td>23899004</td>\n",
       "      <td>Fourth Row</td>\n",
       "      <td>Alan Denton</td>\n",
       "      <td>13</td>\n",
       "      <td>49.00</td>\n",
       "      <td>2018-10-21</td>\n",
       "      <td>2022-12-31</td>\n",
       "      <td>1532</td>\n",
       "      <td>cat;dog;books</td>\n",
       "      <td>cat</td>\n",
       "      <td>dog</td>\n",
       "      <td>books</td>\n",
       "    </tr>\n",
       "    <tr>\n",
       "      <th>10</th>\n",
       "      <td>A102</td>\n",
       "      <td>23899011</td>\n",
       "      <td>Fourth Row</td>\n",
       "      <td>Alan Denton</td>\n",
       "      <td>13</td>\n",
       "      <td>49.00</td>\n",
       "      <td>2018-10-21</td>\n",
       "      <td>2022-12-31</td>\n",
       "      <td>1532</td>\n",
       "      <td>d20;tg54;kde40</td>\n",
       "      <td>d20</td>\n",
       "      <td>tg54</td>\n",
       "      <td>kde40</td>\n",
       "    </tr>\n",
       "    <tr>\n",
       "      <th>4</th>\n",
       "      <td>A103</td>\n",
       "      <td>23899005</td>\n",
       "      <td>Fifth Row</td>\n",
       "      <td>Theo Dallis</td>\n",
       "      <td>19</td>\n",
       "      <td>45.80</td>\n",
       "      <td>2019-10-21</td>\n",
       "      <td>2023-12-31</td>\n",
       "      <td>1532</td>\n",
       "      <td>x;y;z</td>\n",
       "      <td>x</td>\n",
       "      <td>y</td>\n",
       "      <td>z</td>\n",
       "    </tr>\n",
       "    <tr>\n",
       "      <th>11</th>\n",
       "      <td>A103</td>\n",
       "      <td>23899012</td>\n",
       "      <td>Fifth Row</td>\n",
       "      <td>Theo Dallis</td>\n",
       "      <td>19</td>\n",
       "      <td>45.80</td>\n",
       "      <td>2019-10-21</td>\n",
       "      <td>2023-12-31</td>\n",
       "      <td>1532</td>\n",
       "      <td>5555;4444;3333</td>\n",
       "      <td>5555</td>\n",
       "      <td>4444</td>\n",
       "      <td>3333</td>\n",
       "    </tr>\n",
       "    <tr>\n",
       "      <th>8</th>\n",
       "      <td>A105</td>\n",
       "      <td>23899009</td>\n",
       "      <td>Ninth Row</td>\n",
       "      <td>Carsten Seiffert</td>\n",
       "      <td>24</td>\n",
       "      <td>98.00</td>\n",
       "      <td>2018-05-21</td>\n",
       "      <td>2025-12-10</td>\n",
       "      <td>2760</td>\n",
       "      <td>1304;53-02;6932</td>\n",
       "      <td>1304</td>\n",
       "      <td>53-02</td>\n",
       "      <td>6932</td>\n",
       "    </tr>\n",
       "    <tr>\n",
       "      <th>6</th>\n",
       "      <td>A103</td>\n",
       "      <td>23899007</td>\n",
       "      <td>Seventh Row</td>\n",
       "      <td>Tony Goddard</td>\n",
       "      <td>178</td>\n",
       "      <td>27.05</td>\n",
       "      <td>2019-10-21</td>\n",
       "      <td>2025-12-31</td>\n",
       "      <td>2263</td>\n",
       "      <td>24th May; 18th July; 5th August</td>\n",
       "      <td>24th May</td>\n",
       "      <td>18th July</td>\n",
       "      <td>5th August</td>\n",
       "    </tr>\n",
       "    <tr>\n",
       "      <th>7</th>\n",
       "      <td>A104</td>\n",
       "      <td>23899008</td>\n",
       "      <td>Eighth Row</td>\n",
       "      <td>Matthew Whitaker</td>\n",
       "      <td>424</td>\n",
       "      <td>56.30</td>\n",
       "      <td>2019-10-21</td>\n",
       "      <td>2025-12-31</td>\n",
       "      <td>2263</td>\n",
       "      <td>cc;bb;aa</td>\n",
       "      <td>cc</td>\n",
       "      <td>bb</td>\n",
       "      <td>aa</td>\n",
       "    </tr>\n",
       "    <tr>\n",
       "      <th>9</th>\n",
       "      <td>A105</td>\n",
       "      <td>23899010</td>\n",
       "      <td>Tenth Row</td>\n",
       "      <td>Craig Freer</td>\n",
       "      <td>1800</td>\n",
       "      <td>563.00</td>\n",
       "      <td>2019-10-21</td>\n",
       "      <td>2025-12-31</td>\n",
       "      <td>2263</td>\n",
       "      <td>40a3;64g;023;</td>\n",
       "      <td>40a3</td>\n",
       "      <td>64g</td>\n",
       "      <td>023;</td>\n",
       "    </tr>\n",
       "  </tbody>\n",
       "</table>\n",
       "</div>"
      ],
      "text/plain": [
       "   grouping    orders  description        second_col   qty   price  effective  \\\n",
       "0      A100  23899001    First Row      Aidan Scally    14    1.23 2015-10-21   \n",
       "5      A103  23899006    Sixth Row        Derek Hunt   532  634.23 2019-04-21   \n",
       "1      A101  23899002   Second Row   Eoin Mcallister   103    4.32 2016-10-21   \n",
       "2      A101  23899003    Third Row       Mike Tarpey     1   34.32 2017-10-21   \n",
       "3      A102  23899004   Fourth Row       Alan Denton    13   49.00 2018-10-21   \n",
       "10     A102  23899011   Fourth Row       Alan Denton    13   49.00 2018-10-21   \n",
       "4      A103  23899005    Fifth Row       Theo Dallis    19   45.80 2019-10-21   \n",
       "11     A103  23899012    Fifth Row       Theo Dallis    19   45.80 2019-10-21   \n",
       "8      A105  23899009    Ninth Row  Carsten Seiffert    24   98.00 2018-05-21   \n",
       "6      A103  23899007  Seventh Row      Tony Goddard   178   27.05 2019-10-21   \n",
       "7      A104  23899008   Eighth Row  Matthew Whitaker   424   56.30 2019-10-21   \n",
       "9      A105  23899010    Tenth Row       Craig Freer  1800  563.00 2019-10-21   \n",
       "\n",
       "      expired  duration                  delimitted_list    list_1  \\\n",
       "0  2019-12-31      1532                      123;456;789       123   \n",
       "5  2020-05-07       382            alpha; bravo; charlie     alpha   \n",
       "1  2020-12-31      1532                         ss;11;33        ss   \n",
       "2  2021-12-31      1532                            A;b;C         A   \n",
       "3  2022-12-31      1532                    cat;dog;books       cat   \n",
       "10 2022-12-31      1532                   d20;tg54;kde40       d20   \n",
       "4  2023-12-31      1532                            x;y;z         x   \n",
       "11 2023-12-31      1532                   5555;4444;3333      5555   \n",
       "8  2025-12-10      2760                  1304;53-02;6932      1304   \n",
       "6  2025-12-31      2263  24th May; 18th July; 5th August  24th May   \n",
       "7  2025-12-31      2263                         cc;bb;aa        cc   \n",
       "9  2025-12-31      2263                    40a3;64g;023;      40a3   \n",
       "\n",
       "        list_2       list_3  \n",
       "0          456          789  \n",
       "5        bravo      charlie  \n",
       "1           11           33  \n",
       "2            b            C  \n",
       "3          dog        books  \n",
       "10        tg54        kde40  \n",
       "4            y            z  \n",
       "11        4444         3333  \n",
       "8        53-02         6932  \n",
       "6    18th July   5th August  \n",
       "7           bb           aa  \n",
       "9          64g         023;  "
      ]
     },
     "execution_count": 13,
     "metadata": {},
     "output_type": "execute_result"
    }
   ],
   "source": [
    "expanded_list = df.delimitted_list.str.split(';', n=2, expand=True)\n",
    "expanded_list.columns = ['list_1', 'list_2', 'list_3']\n",
    "df = pd.concat([df, expanded_list], axis=1)\n",
    "df.iloc[:, :]"
   ]
  },
  {
   "cell_type": "markdown",
   "metadata": {},
   "source": [
    "# DataFrame - exploratory data analysis"
   ]
  },
  {
   "cell_type": "markdown",
   "metadata": {},
   "source": [
    "## head()"
   ]
  },
  {
   "cell_type": "code",
   "execution_count": 14,
   "metadata": {
    "ExecuteTime": {
     "end_time": "2021-04-09T16:37:24.982180Z",
     "start_time": "2021-04-09T16:37:24.951242Z"
    }
   },
   "outputs": [
    {
     "name": "stderr",
     "output_type": "stream",
     "text": [
      "12 rows, 13 columns\n"
     ]
    },
    {
     "data": {
      "text/html": [
       "<div>\n",
       "<style scoped>\n",
       "    .dataframe tbody tr th:only-of-type {\n",
       "        vertical-align: middle;\n",
       "    }\n",
       "\n",
       "    .dataframe tbody tr th {\n",
       "        vertical-align: top;\n",
       "    }\n",
       "\n",
       "    .dataframe thead th {\n",
       "        text-align: right;\n",
       "    }\n",
       "</style>\n",
       "<table border=\"1\" class=\"dataframe\">\n",
       "  <thead>\n",
       "    <tr style=\"text-align: right;\">\n",
       "      <th></th>\n",
       "      <th>grouping</th>\n",
       "      <th>orders</th>\n",
       "      <th>description</th>\n",
       "      <th>second_col</th>\n",
       "      <th>qty</th>\n",
       "      <th>price</th>\n",
       "      <th>effective</th>\n",
       "      <th>expired</th>\n",
       "      <th>duration</th>\n",
       "      <th>delimitted_list</th>\n",
       "      <th>list_1</th>\n",
       "      <th>list_2</th>\n",
       "      <th>list_3</th>\n",
       "    </tr>\n",
       "  </thead>\n",
       "  <tbody>\n",
       "    <tr>\n",
       "      <th>0</th>\n",
       "      <td>A100</td>\n",
       "      <td>23899001</td>\n",
       "      <td>First Row</td>\n",
       "      <td>Aidan Scally</td>\n",
       "      <td>14</td>\n",
       "      <td>1.23</td>\n",
       "      <td>2015-10-21</td>\n",
       "      <td>2019-12-31</td>\n",
       "      <td>1532</td>\n",
       "      <td>123;456;789</td>\n",
       "      <td>123</td>\n",
       "      <td>456</td>\n",
       "      <td>789</td>\n",
       "    </tr>\n",
       "    <tr>\n",
       "      <th>5</th>\n",
       "      <td>A103</td>\n",
       "      <td>23899006</td>\n",
       "      <td>Sixth Row</td>\n",
       "      <td>Derek Hunt</td>\n",
       "      <td>532</td>\n",
       "      <td>634.23</td>\n",
       "      <td>2019-04-21</td>\n",
       "      <td>2020-05-07</td>\n",
       "      <td>382</td>\n",
       "      <td>alpha; bravo; charlie</td>\n",
       "      <td>alpha</td>\n",
       "      <td>bravo</td>\n",
       "      <td>charlie</td>\n",
       "    </tr>\n",
       "  </tbody>\n",
       "</table>\n",
       "</div>"
      ],
      "text/plain": [
       "  grouping    orders description    second_col  qty   price  effective  \\\n",
       "0     A100  23899001   First Row  Aidan Scally   14    1.23 2015-10-21   \n",
       "5     A103  23899006   Sixth Row    Derek Hunt  532  634.23 2019-04-21   \n",
       "\n",
       "     expired  duration        delimitted_list list_1  list_2    list_3  \n",
       "0 2019-12-31      1532            123;456;789    123     456       789  \n",
       "5 2020-05-07       382  alpha; bravo; charlie  alpha   bravo   charlie  "
      ]
     },
     "execution_count": 14,
     "metadata": {},
     "output_type": "execute_result"
    }
   ],
   "source": [
    "head(df, 2)"
   ]
  },
  {
   "cell_type": "markdown",
   "metadata": {},
   "source": [
    "## tail()"
   ]
  },
  {
   "cell_type": "code",
   "execution_count": 15,
   "metadata": {
    "ExecuteTime": {
     "end_time": "2021-04-09T16:37:25.433582Z",
     "start_time": "2021-04-09T16:37:25.399348Z"
    }
   },
   "outputs": [
    {
     "name": "stderr",
     "output_type": "stream",
     "text": [
      "12 rows, 13 columns\n"
     ]
    },
    {
     "data": {
      "text/html": [
       "<div>\n",
       "<style scoped>\n",
       "    .dataframe tbody tr th:only-of-type {\n",
       "        vertical-align: middle;\n",
       "    }\n",
       "\n",
       "    .dataframe tbody tr th {\n",
       "        vertical-align: top;\n",
       "    }\n",
       "\n",
       "    .dataframe thead th {\n",
       "        text-align: right;\n",
       "    }\n",
       "</style>\n",
       "<table border=\"1\" class=\"dataframe\">\n",
       "  <thead>\n",
       "    <tr style=\"text-align: right;\">\n",
       "      <th></th>\n",
       "      <th>grouping</th>\n",
       "      <th>orders</th>\n",
       "      <th>description</th>\n",
       "      <th>second_col</th>\n",
       "      <th>qty</th>\n",
       "      <th>price</th>\n",
       "      <th>effective</th>\n",
       "      <th>expired</th>\n",
       "      <th>duration</th>\n",
       "      <th>delimitted_list</th>\n",
       "      <th>list_1</th>\n",
       "      <th>list_2</th>\n",
       "      <th>list_3</th>\n",
       "    </tr>\n",
       "  </thead>\n",
       "  <tbody>\n",
       "    <tr>\n",
       "      <th>7</th>\n",
       "      <td>A104</td>\n",
       "      <td>23899008</td>\n",
       "      <td>Eighth Row</td>\n",
       "      <td>Matthew Whitaker</td>\n",
       "      <td>424</td>\n",
       "      <td>56.3</td>\n",
       "      <td>2019-10-21</td>\n",
       "      <td>2025-12-31</td>\n",
       "      <td>2263</td>\n",
       "      <td>cc;bb;aa</td>\n",
       "      <td>cc</td>\n",
       "      <td>bb</td>\n",
       "      <td>aa</td>\n",
       "    </tr>\n",
       "    <tr>\n",
       "      <th>9</th>\n",
       "      <td>A105</td>\n",
       "      <td>23899010</td>\n",
       "      <td>Tenth Row</td>\n",
       "      <td>Craig Freer</td>\n",
       "      <td>1800</td>\n",
       "      <td>563.0</td>\n",
       "      <td>2019-10-21</td>\n",
       "      <td>2025-12-31</td>\n",
       "      <td>2263</td>\n",
       "      <td>40a3;64g;023;</td>\n",
       "      <td>40a3</td>\n",
       "      <td>64g</td>\n",
       "      <td>023;</td>\n",
       "    </tr>\n",
       "  </tbody>\n",
       "</table>\n",
       "</div>"
      ],
      "text/plain": [
       "  grouping    orders description        second_col   qty  price  effective  \\\n",
       "7     A104  23899008  Eighth Row  Matthew Whitaker   424   56.3 2019-10-21   \n",
       "9     A105  23899010   Tenth Row       Craig Freer  1800  563.0 2019-10-21   \n",
       "\n",
       "     expired  duration delimitted_list list_1 list_2 list_3  \n",
       "7 2025-12-31      2263        cc;bb;aa     cc     bb     aa  \n",
       "9 2025-12-31      2263   40a3;64g;023;   40a3    64g   023;  "
      ]
     },
     "execution_count": 15,
     "metadata": {},
     "output_type": "execute_result"
    }
   ],
   "source": [
    "tail(df, 2)"
   ]
  },
  {
   "cell_type": "markdown",
   "metadata": {},
   "source": [
    "## info()"
   ]
  },
  {
   "cell_type": "code",
   "execution_count": 16,
   "metadata": {
    "ExecuteTime": {
     "end_time": "2021-04-09T16:37:25.879000Z",
     "start_time": "2021-04-09T16:37:25.866202Z"
    }
   },
   "outputs": [],
   "source": [
    "df.loc[df.duration == 2263, 'duration'] = np.NaN"
   ]
  },
  {
   "cell_type": "code",
   "execution_count": 17,
   "metadata": {
    "ExecuteTime": {
     "end_time": "2021-04-09T16:37:26.141457Z",
     "start_time": "2021-04-09T16:37:26.070773Z"
    }
   },
   "outputs": [
    {
     "name": "stderr",
     "output_type": "stream",
     "text": [
      "Dataframe consumes 0.01 Mb\n"
     ]
    },
    {
     "data": {
      "text/html": [
       "<div>\n",
       "<style scoped>\n",
       "    .dataframe tbody tr th:only-of-type {\n",
       "        vertical-align: middle;\n",
       "    }\n",
       "\n",
       "    .dataframe tbody tr th {\n",
       "        vertical-align: top;\n",
       "    }\n",
       "\n",
       "    .dataframe thead th {\n",
       "        text-align: right;\n",
       "    }\n",
       "</style>\n",
       "<table border=\"1\" class=\"dataframe\">\n",
       "  <thead>\n",
       "    <tr style=\"text-align: right;\">\n",
       "      <th></th>\n",
       "      <th>columns</th>\n",
       "      <th>type</th>\n",
       "      <th>inferred</th>\n",
       "      <th>n</th>\n",
       "      <th>isna</th>\n",
       "      <th>isnull</th>\n",
       "      <th>unique</th>\n",
       "      <th>n dupes</th>\n",
       "    </tr>\n",
       "  </thead>\n",
       "  <tbody>\n",
       "    <tr>\n",
       "      <th>0</th>\n",
       "      <td>grouping</td>\n",
       "      <td>object</td>\n",
       "      <td>string</td>\n",
       "      <td>12</td>\n",
       "      <td>0</td>\n",
       "      <td>0</td>\n",
       "      <td>6</td>\n",
       "      <td>10</td>\n",
       "    </tr>\n",
       "    <tr>\n",
       "      <th>1</th>\n",
       "      <td>orders</td>\n",
       "      <td>int64</td>\n",
       "      <td>integer</td>\n",
       "      <td>12</td>\n",
       "      <td>0</td>\n",
       "      <td>0</td>\n",
       "      <td>12</td>\n",
       "      <td>0</td>\n",
       "    </tr>\n",
       "    <tr>\n",
       "      <th>2</th>\n",
       "      <td>description</td>\n",
       "      <td>object</td>\n",
       "      <td>string</td>\n",
       "      <td>12</td>\n",
       "      <td>0</td>\n",
       "      <td>0</td>\n",
       "      <td>10</td>\n",
       "      <td>4</td>\n",
       "    </tr>\n",
       "    <tr>\n",
       "      <th>3</th>\n",
       "      <td>second_col</td>\n",
       "      <td>object</td>\n",
       "      <td>string</td>\n",
       "      <td>12</td>\n",
       "      <td>0</td>\n",
       "      <td>0</td>\n",
       "      <td>10</td>\n",
       "      <td>4</td>\n",
       "    </tr>\n",
       "    <tr>\n",
       "      <th>4</th>\n",
       "      <td>qty</td>\n",
       "      <td>int64</td>\n",
       "      <td>integer</td>\n",
       "      <td>12</td>\n",
       "      <td>0</td>\n",
       "      <td>0</td>\n",
       "      <td>10</td>\n",
       "      <td>4</td>\n",
       "    </tr>\n",
       "    <tr>\n",
       "      <th>5</th>\n",
       "      <td>price</td>\n",
       "      <td>float64</td>\n",
       "      <td>floating</td>\n",
       "      <td>12</td>\n",
       "      <td>0</td>\n",
       "      <td>0</td>\n",
       "      <td>10</td>\n",
       "      <td>4</td>\n",
       "    </tr>\n",
       "    <tr>\n",
       "      <th>6</th>\n",
       "      <td>effective</td>\n",
       "      <td>datetime64[ns]</td>\n",
       "      <td>datetime64</td>\n",
       "      <td>12</td>\n",
       "      <td>0</td>\n",
       "      <td>0</td>\n",
       "      <td>7</td>\n",
       "      <td>7</td>\n",
       "    </tr>\n",
       "    <tr>\n",
       "      <th>7</th>\n",
       "      <td>expired</td>\n",
       "      <td>datetime64[ns]</td>\n",
       "      <td>datetime64</td>\n",
       "      <td>12</td>\n",
       "      <td>0</td>\n",
       "      <td>0</td>\n",
       "      <td>8</td>\n",
       "      <td>7</td>\n",
       "    </tr>\n",
       "    <tr>\n",
       "      <th>8</th>\n",
       "      <td>duration</td>\n",
       "      <td>float64</td>\n",
       "      <td>floating</td>\n",
       "      <td>12</td>\n",
       "      <td>3</td>\n",
       "      <td>3</td>\n",
       "      <td>3</td>\n",
       "      <td>10</td>\n",
       "    </tr>\n",
       "    <tr>\n",
       "      <th>9</th>\n",
       "      <td>delimitted_list</td>\n",
       "      <td>object</td>\n",
       "      <td>string</td>\n",
       "      <td>12</td>\n",
       "      <td>0</td>\n",
       "      <td>0</td>\n",
       "      <td>12</td>\n",
       "      <td>0</td>\n",
       "    </tr>\n",
       "    <tr>\n",
       "      <th>10</th>\n",
       "      <td>list_1</td>\n",
       "      <td>object</td>\n",
       "      <td>string</td>\n",
       "      <td>12</td>\n",
       "      <td>0</td>\n",
       "      <td>0</td>\n",
       "      <td>12</td>\n",
       "      <td>0</td>\n",
       "    </tr>\n",
       "    <tr>\n",
       "      <th>11</th>\n",
       "      <td>list_2</td>\n",
       "      <td>object</td>\n",
       "      <td>string</td>\n",
       "      <td>12</td>\n",
       "      <td>0</td>\n",
       "      <td>0</td>\n",
       "      <td>12</td>\n",
       "      <td>0</td>\n",
       "    </tr>\n",
       "    <tr>\n",
       "      <th>12</th>\n",
       "      <td>list_3</td>\n",
       "      <td>object</td>\n",
       "      <td>string</td>\n",
       "      <td>12</td>\n",
       "      <td>0</td>\n",
       "      <td>0</td>\n",
       "      <td>12</td>\n",
       "      <td>0</td>\n",
       "    </tr>\n",
       "  </tbody>\n",
       "</table>\n",
       "</div>"
      ],
      "text/plain": [
       "            columns            type    inferred   n  isna  isnull  unique  \\\n",
       "0          grouping          object      string  12     0       0       6   \n",
       "1            orders           int64     integer  12     0       0      12   \n",
       "2       description          object      string  12     0       0      10   \n",
       "3        second_col          object      string  12     0       0      10   \n",
       "4               qty           int64     integer  12     0       0      10   \n",
       "5             price         float64    floating  12     0       0      10   \n",
       "6         effective  datetime64[ns]  datetime64  12     0       0       7   \n",
       "7           expired  datetime64[ns]  datetime64  12     0       0       8   \n",
       "8          duration         float64    floating  12     3       3       3   \n",
       "9   delimitted_list          object      string  12     0       0      12   \n",
       "10           list_1          object      string  12     0       0      12   \n",
       "11           list_2          object      string  12     0       0      12   \n",
       "12           list_3          object      string  12     0       0      12   \n",
       "\n",
       "    n dupes  \n",
       "0        10  \n",
       "1         0  \n",
       "2         4  \n",
       "3         4  \n",
       "4         4  \n",
       "5         4  \n",
       "6         7  \n",
       "7         7  \n",
       "8        10  \n",
       "9         0  \n",
       "10        0  \n",
       "11        0  \n",
       "12        0  "
      ]
     },
     "execution_count": 17,
     "metadata": {},
     "output_type": "execute_result"
    }
   ],
   "source": [
    "subset = [\n",
    "    'grouping', 'orders', 'description', 'second_col', 'qty', 'price',\n",
    "    'effective', 'expired', 'duration', 'delimitted_list', 'list_1', 'list_2',\n",
    "    'list_3'\n",
    "]\n",
    "info(df[subset], n_dupes=True, fillna=False)"
   ]
  },
  {
   "cell_type": "code",
   "execution_count": 18,
   "metadata": {
    "ExecuteTime": {
     "end_time": "2021-04-09T16:37:26.299891Z",
     "start_time": "2021-04-09T16:37:26.291064Z"
    }
   },
   "outputs": [
    {
     "data": {
      "text/plain": [
       "1532.0    7\n",
       "NaN       3\n",
       "2760.0    1\n",
       "382.0     1\n",
       "Name: duration, dtype: int64"
      ]
     },
     "execution_count": 18,
     "metadata": {},
     "output_type": "execute_result"
    }
   ],
   "source": [
    "df.duration.value_counts(dropna=False)"
   ]
  },
  {
   "cell_type": "code",
   "execution_count": 19,
   "metadata": {
    "ExecuteTime": {
     "end_time": "2021-04-09T16:37:26.505147Z",
     "start_time": "2021-04-09T16:37:26.466243Z"
    }
   },
   "outputs": [
    {
     "name": "stderr",
     "output_type": "stream",
     "text": [
      "5 rows, 3 columns\n"
     ]
    },
    {
     "data": {
      "text/html": [
       "<div>\n",
       "<style scoped>\n",
       "    .dataframe tbody tr th:only-of-type {\n",
       "        vertical-align: middle;\n",
       "    }\n",
       "\n",
       "    .dataframe tbody tr th {\n",
       "        vertical-align: top;\n",
       "    }\n",
       "\n",
       "    .dataframe thead th {\n",
       "        text-align: right;\n",
       "    }\n",
       "</style>\n",
       "<table border=\"1\" class=\"dataframe\">\n",
       "  <thead>\n",
       "    <tr style=\"text-align: right;\">\n",
       "      <th></th>\n",
       "      <th>n</th>\n",
       "      <th>%</th>\n",
       "      <th>cum %</th>\n",
       "    </tr>\n",
       "  </thead>\n",
       "  <tbody>\n",
       "    <tr>\n",
       "      <th>1532.0</th>\n",
       "      <td>7.0</td>\n",
       "      <td>58.33</td>\n",
       "      <td>58.33</td>\n",
       "    </tr>\n",
       "    <tr>\n",
       "      <th>NaN</th>\n",
       "      <td>3.0</td>\n",
       "      <td>25.00</td>\n",
       "      <td>83.33</td>\n",
       "    </tr>\n",
       "    <tr>\n",
       "      <th>382.0</th>\n",
       "      <td>1.0</td>\n",
       "      <td>8.33</td>\n",
       "      <td>91.67</td>\n",
       "    </tr>\n",
       "    <tr>\n",
       "      <th>2760.0</th>\n",
       "      <td>1.0</td>\n",
       "      <td>8.33</td>\n",
       "      <td>100.0</td>\n",
       "    </tr>\n",
       "    <tr>\n",
       "      <th>Total</th>\n",
       "      <td>12.0</td>\n",
       "      <td>99.99</td>\n",
       "      <td></td>\n",
       "    </tr>\n",
       "  </tbody>\n",
       "</table>\n",
       "</div>"
      ],
      "text/plain": [
       "           n      %  cum %\n",
       "1532.0   7.0  58.33  58.33\n",
       "NaN      3.0  25.00  83.33\n",
       "382.0    1.0   8.33  91.67\n",
       "2760.0   1.0   8.33  100.0\n",
       "Total   12.0  99.99       "
      ]
     },
     "execution_count": 19,
     "metadata": {},
     "output_type": "execute_result"
    }
   ],
   "source": [
    "count(df, 'duration', totals=True)"
   ]
  },
  {
   "cell_type": "markdown",
   "metadata": {},
   "source": [
    "## names()"
   ]
  },
  {
   "cell_type": "code",
   "execution_count": 20,
   "metadata": {
    "ExecuteTime": {
     "end_time": "2021-04-09T16:37:38.303273Z",
     "start_time": "2021-04-09T16:37:38.293877Z"
    }
   },
   "outputs": [
    {
     "data": {
      "text/plain": [
       "['grouping',\n",
       " 'orders',\n",
       " 'description',\n",
       " 'second_col',\n",
       " 'qty',\n",
       " 'price',\n",
       " 'effective',\n",
       " 'expired',\n",
       " 'duration',\n",
       " 'delimitted_list',\n",
       " 'list_1',\n",
       " 'list_2',\n",
       " 'list_3']"
      ]
     },
     "execution_count": 20,
     "metadata": {},
     "output_type": "execute_result"
    }
   ],
   "source": [
    "names(df)"
   ]
  },
  {
   "cell_type": "code",
   "execution_count": 21,
   "metadata": {
    "ExecuteTime": {
     "end_time": "2021-04-09T16:37:44.567135Z",
     "start_time": "2021-04-09T16:37:44.558266Z"
    }
   },
   "outputs": [
    {
     "data": {
      "text/plain": [
       "{'effective': 'effective', 'expired': 'expired'}"
      ]
     },
     "execution_count": 21,
     "metadata": {},
     "output_type": "execute_result"
    }
   ],
   "source": [
    "names(df, 'e', astype='dict')"
   ]
  },
  {
   "cell_type": "code",
   "execution_count": 22,
   "metadata": {
    "ExecuteTime": {
     "end_time": "2021-04-09T16:37:56.396076Z",
     "start_time": "2021-04-09T16:37:56.374617Z"
    }
   },
   "outputs": [
    {
     "name": "stderr",
     "output_type": "stream",
     "text": [
      "12 rows, 7 columns\n"
     ]
    },
    {
     "data": {
      "text/html": [
       "<div>\n",
       "<style scoped>\n",
       "    .dataframe tbody tr th:only-of-type {\n",
       "        vertical-align: middle;\n",
       "    }\n",
       "\n",
       "    .dataframe tbody tr th {\n",
       "        vertical-align: top;\n",
       "    }\n",
       "\n",
       "    .dataframe thead th {\n",
       "        text-align: right;\n",
       "    }\n",
       "</style>\n",
       "<table border=\"1\" class=\"dataframe\">\n",
       "  <thead>\n",
       "    <tr style=\"text-align: right;\">\n",
       "      <th></th>\n",
       "      <th>orders</th>\n",
       "      <th>qty</th>\n",
       "      <th>effective</th>\n",
       "      <th>expired</th>\n",
       "      <th>list_1</th>\n",
       "      <th>list_2</th>\n",
       "      <th>list_3</th>\n",
       "    </tr>\n",
       "  </thead>\n",
       "  <tbody>\n",
       "    <tr>\n",
       "      <th>0</th>\n",
       "      <td>23899001</td>\n",
       "      <td>14</td>\n",
       "      <td>2015-10-21</td>\n",
       "      <td>2019-12-31</td>\n",
       "      <td>123</td>\n",
       "      <td>456</td>\n",
       "      <td>789</td>\n",
       "    </tr>\n",
       "    <tr>\n",
       "      <th>5</th>\n",
       "      <td>23899006</td>\n",
       "      <td>532</td>\n",
       "      <td>2019-04-21</td>\n",
       "      <td>2020-05-07</td>\n",
       "      <td>alpha</td>\n",
       "      <td>bravo</td>\n",
       "      <td>charlie</td>\n",
       "    </tr>\n",
       "  </tbody>\n",
       "</table>\n",
       "</div>"
      ],
      "text/plain": [
       "     orders  qty  effective    expired list_1  list_2    list_3\n",
       "0  23899001   14 2015-10-21 2019-12-31    123     456       789\n",
       "5  23899006  532 2019-04-21 2020-05-07  alpha   bravo   charlie"
      ]
     },
     "execution_count": 22,
     "metadata": {},
     "output_type": "execute_result"
    }
   ],
   "source": [
    "head(df[names(df, 'list|e|qty|.+ers$')], 2)"
   ]
  },
  {
   "cell_type": "code",
   "execution_count": 23,
   "metadata": {
    "ExecuteTime": {
     "end_time": "2021-04-09T16:37:56.915487Z",
     "start_time": "2021-04-09T16:37:56.907506Z"
    }
   },
   "outputs": [
    {
     "data": {
      "text/plain": [
       "['price', 'effective']"
      ]
     },
     "execution_count": 23,
     "metadata": {},
     "output_type": "execute_result"
    }
   ],
   "source": [
    "names(df, '\\w+e$')"
   ]
  },
  {
   "cell_type": "markdown",
   "metadata": {},
   "source": [
    "## paste() - clipboard list of columns to a list"
   ]
  },
  {
   "cell_type": "code",
   "execution_count": 24,
   "metadata": {
    "ExecuteTime": {
     "end_time": "2021-04-09T16:37:58.220456Z",
     "start_time": "2021-04-09T16:37:58.211928Z"
    }
   },
   "outputs": [],
   "source": [
    "# Copy header row from Excel sheet then uncomment and run code below\n",
    "# paste(source='horizontal_list')"
   ]
  },
  {
   "cell_type": "markdown",
   "metadata": {},
   "source": [
    "## count() - Count column frequency"
   ]
  },
  {
   "cell_type": "code",
   "execution_count": 25,
   "metadata": {
    "ExecuteTime": {
     "end_time": "2021-04-09T16:37:59.162210Z",
     "start_time": "2021-04-09T16:37:59.151082Z"
    }
   },
   "outputs": [
    {
     "data": {
      "text/plain": [
       "2019-10-21    5\n",
       "2018-10-21    2\n",
       "2017-10-21    1\n",
       "2015-10-21    1\n",
       "2018-05-21    1\n",
       "2016-10-21    1\n",
       "2019-04-21    1\n",
       "Name: effective, dtype: int64"
      ]
     },
     "execution_count": 25,
     "metadata": {},
     "output_type": "execute_result"
    }
   ],
   "source": [
    "df.effective.value_counts()"
   ]
  },
  {
   "cell_type": "code",
   "execution_count": 26,
   "metadata": {
    "ExecuteTime": {
     "end_time": "2021-04-09T16:37:59.640533Z",
     "start_time": "2021-04-09T16:37:59.592944Z"
    }
   },
   "outputs": [
    {
     "name": "stderr",
     "output_type": "stream",
     "text": [
      "7 rows, 3 columns\n"
     ]
    },
    {
     "data": {
      "text/html": [
       "<div>\n",
       "<style scoped>\n",
       "    .dataframe tbody tr th:only-of-type {\n",
       "        vertical-align: middle;\n",
       "    }\n",
       "\n",
       "    .dataframe tbody tr th {\n",
       "        vertical-align: top;\n",
       "    }\n",
       "\n",
       "    .dataframe thead th {\n",
       "        text-align: right;\n",
       "    }\n",
       "</style>\n",
       "<table border=\"1\" class=\"dataframe\">\n",
       "  <thead>\n",
       "    <tr style=\"text-align: right;\">\n",
       "      <th></th>\n",
       "      <th>n</th>\n",
       "      <th>%</th>\n",
       "      <th>cum %</th>\n",
       "    </tr>\n",
       "    <tr>\n",
       "      <th>effective</th>\n",
       "      <th></th>\n",
       "      <th></th>\n",
       "      <th></th>\n",
       "    </tr>\n",
       "  </thead>\n",
       "  <tbody>\n",
       "    <tr>\n",
       "      <th>2019-10-21</th>\n",
       "      <td>5</td>\n",
       "      <td>41.67</td>\n",
       "      <td>41.67</td>\n",
       "    </tr>\n",
       "    <tr>\n",
       "      <th>2018-10-21</th>\n",
       "      <td>2</td>\n",
       "      <td>16.67</td>\n",
       "      <td>58.33</td>\n",
       "    </tr>\n",
       "    <tr>\n",
       "      <th>2015-10-21</th>\n",
       "      <td>1</td>\n",
       "      <td>8.33</td>\n",
       "      <td>66.67</td>\n",
       "    </tr>\n",
       "    <tr>\n",
       "      <th>2016-10-21</th>\n",
       "      <td>1</td>\n",
       "      <td>8.33</td>\n",
       "      <td>75.00</td>\n",
       "    </tr>\n",
       "    <tr>\n",
       "      <th>2017-10-21</th>\n",
       "      <td>1</td>\n",
       "      <td>8.33</td>\n",
       "      <td>83.33</td>\n",
       "    </tr>\n",
       "    <tr>\n",
       "      <th>2018-05-21</th>\n",
       "      <td>1</td>\n",
       "      <td>8.33</td>\n",
       "      <td>91.67</td>\n",
       "    </tr>\n",
       "    <tr>\n",
       "      <th>2019-04-21</th>\n",
       "      <td>1</td>\n",
       "      <td>8.33</td>\n",
       "      <td>100.00</td>\n",
       "    </tr>\n",
       "  </tbody>\n",
       "</table>\n",
       "</div>"
      ],
      "text/plain": [
       "            n      %   cum %\n",
       "effective                   \n",
       "2019-10-21  5  41.67   41.67\n",
       "2018-10-21  2  16.67   58.33\n",
       "2015-10-21  1   8.33   66.67\n",
       "2016-10-21  1   8.33   75.00\n",
       "2017-10-21  1   8.33   83.33\n",
       "2018-05-21  1   8.33   91.67\n",
       "2019-04-21  1   8.33  100.00"
      ]
     },
     "execution_count": 26,
     "metadata": {},
     "output_type": "execute_result"
    }
   ],
   "source": [
    "count_df = count(df, 'effective')\n",
    "count_df"
   ]
  },
  {
   "cell_type": "markdown",
   "metadata": {},
   "source": [
    "## duplicated() - Check for duplicate data"
   ]
  },
  {
   "cell_type": "code",
   "execution_count": 27,
   "metadata": {
    "ExecuteTime": {
     "end_time": "2021-04-09T16:38:00.780496Z",
     "start_time": "2021-04-09T16:38:00.740562Z"
    },
    "scrolled": true
   },
   "outputs": [
    {
     "name": "stderr",
     "output_type": "stream",
     "text": [
      "12 rows, 14 columns\n"
     ]
    },
    {
     "data": {
      "text/html": [
       "<div>\n",
       "<style scoped>\n",
       "    .dataframe tbody tr th:only-of-type {\n",
       "        vertical-align: middle;\n",
       "    }\n",
       "\n",
       "    .dataframe tbody tr th {\n",
       "        vertical-align: top;\n",
       "    }\n",
       "\n",
       "    .dataframe thead th {\n",
       "        text-align: right;\n",
       "    }\n",
       "</style>\n",
       "<table border=\"1\" class=\"dataframe\">\n",
       "  <thead>\n",
       "    <tr style=\"text-align: right;\">\n",
       "      <th></th>\n",
       "      <th>grouping</th>\n",
       "      <th>orders</th>\n",
       "      <th>description</th>\n",
       "      <th>second_col</th>\n",
       "      <th>qty</th>\n",
       "      <th>price</th>\n",
       "      <th>effective</th>\n",
       "      <th>expired</th>\n",
       "      <th>duration</th>\n",
       "      <th>delimitted_list</th>\n",
       "      <th>list_1</th>\n",
       "      <th>list_2</th>\n",
       "      <th>list_3</th>\n",
       "      <th>duplicate</th>\n",
       "    </tr>\n",
       "  </thead>\n",
       "  <tbody>\n",
       "    <tr>\n",
       "      <th>0</th>\n",
       "      <td>A104</td>\n",
       "      <td>23899008</td>\n",
       "      <td>Eighth Row</td>\n",
       "      <td>Matthew Whitaker</td>\n",
       "      <td>424</td>\n",
       "      <td>56.30</td>\n",
       "      <td>2019-10-21</td>\n",
       "      <td>2025-12-31</td>\n",
       "      <td>NaN</td>\n",
       "      <td>cc;bb;aa</td>\n",
       "      <td>cc</td>\n",
       "      <td>bb</td>\n",
       "      <td>aa</td>\n",
       "      <td>False</td>\n",
       "    </tr>\n",
       "    <tr>\n",
       "      <th>1</th>\n",
       "      <td>A103</td>\n",
       "      <td>23899005</td>\n",
       "      <td>Fifth Row</td>\n",
       "      <td>Theo Dallis</td>\n",
       "      <td>19</td>\n",
       "      <td>45.80</td>\n",
       "      <td>2019-10-21</td>\n",
       "      <td>2023-12-31</td>\n",
       "      <td>1532.0</td>\n",
       "      <td>x;y;z</td>\n",
       "      <td>x</td>\n",
       "      <td>y</td>\n",
       "      <td>z</td>\n",
       "      <td>True</td>\n",
       "    </tr>\n",
       "    <tr>\n",
       "      <th>2</th>\n",
       "      <td>A103</td>\n",
       "      <td>23899012</td>\n",
       "      <td>Fifth Row</td>\n",
       "      <td>Theo Dallis</td>\n",
       "      <td>19</td>\n",
       "      <td>45.80</td>\n",
       "      <td>2019-10-21</td>\n",
       "      <td>2023-12-31</td>\n",
       "      <td>1532.0</td>\n",
       "      <td>5555;4444;3333</td>\n",
       "      <td>5555</td>\n",
       "      <td>4444</td>\n",
       "      <td>3333</td>\n",
       "      <td>True</td>\n",
       "    </tr>\n",
       "    <tr>\n",
       "      <th>3</th>\n",
       "      <td>A100</td>\n",
       "      <td>23899001</td>\n",
       "      <td>First Row</td>\n",
       "      <td>Aidan Scally</td>\n",
       "      <td>14</td>\n",
       "      <td>1.23</td>\n",
       "      <td>2015-10-21</td>\n",
       "      <td>2019-12-31</td>\n",
       "      <td>1532.0</td>\n",
       "      <td>123;456;789</td>\n",
       "      <td>123</td>\n",
       "      <td>456</td>\n",
       "      <td>789</td>\n",
       "      <td>False</td>\n",
       "    </tr>\n",
       "  </tbody>\n",
       "</table>\n",
       "</div>"
      ],
      "text/plain": [
       "  grouping    orders description        second_col  qty  price  effective  \\\n",
       "0     A104  23899008  Eighth Row  Matthew Whitaker  424  56.30 2019-10-21   \n",
       "1     A103  23899005   Fifth Row       Theo Dallis   19  45.80 2019-10-21   \n",
       "2     A103  23899012   Fifth Row       Theo Dallis   19  45.80 2019-10-21   \n",
       "3     A100  23899001   First Row      Aidan Scally   14   1.23 2015-10-21   \n",
       "\n",
       "     expired  duration delimitted_list list_1 list_2 list_3  duplicate  \n",
       "0 2025-12-31       NaN        cc;bb;aa     cc     bb     aa      False  \n",
       "1 2023-12-31    1532.0           x;y;z      x      y      z       True  \n",
       "2 2023-12-31    1532.0  5555;4444;3333   5555   4444   3333       True  \n",
       "3 2019-12-31    1532.0     123;456;789    123    456    789      False  "
      ]
     },
     "execution_count": 27,
     "metadata": {},
     "output_type": "execute_result"
    }
   ],
   "source": [
    "subset = ['description', 'second_col']\n",
    "\n",
    "df = (duplicated(df, subset=subset, loc='last').reset_index(drop=True))\n",
    "head(df)"
   ]
  },
  {
   "cell_type": "code",
   "execution_count": 28,
   "metadata": {
    "ExecuteTime": {
     "end_time": "2021-04-09T16:38:01.355411Z",
     "start_time": "2021-04-09T16:38:01.310497Z"
    }
   },
   "outputs": [
    {
     "name": "stderr",
     "output_type": "stream",
     "text": [
      "12 rows, 13 columns\n"
     ]
    },
    {
     "data": {
      "text/html": [
       "<div>\n",
       "<style scoped>\n",
       "    .dataframe tbody tr th:only-of-type {\n",
       "        vertical-align: middle;\n",
       "    }\n",
       "\n",
       "    .dataframe tbody tr th {\n",
       "        vertical-align: top;\n",
       "    }\n",
       "\n",
       "    .dataframe thead th {\n",
       "        text-align: right;\n",
       "    }\n",
       "</style>\n",
       "<table border=\"1\" class=\"dataframe\">\n",
       "  <thead>\n",
       "    <tr style=\"text-align: right;\">\n",
       "      <th></th>\n",
       "      <th>grouping</th>\n",
       "      <th>orders</th>\n",
       "      <th>description</th>\n",
       "      <th>second_col</th>\n",
       "      <th>qty</th>\n",
       "      <th>price</th>\n",
       "      <th>effective</th>\n",
       "      <th>expired</th>\n",
       "      <th>duration</th>\n",
       "      <th>delimitted_list</th>\n",
       "      <th>list_1</th>\n",
       "      <th>list_2</th>\n",
       "      <th>list_3</th>\n",
       "    </tr>\n",
       "  </thead>\n",
       "  <tbody>\n",
       "    <tr>\n",
       "      <th>0</th>\n",
       "      <td>A104</td>\n",
       "      <td>23899008</td>\n",
       "      <td>Eighth Row</td>\n",
       "      <td>Matthew Whitaker</td>\n",
       "      <td>424</td>\n",
       "      <td>56.30</td>\n",
       "      <td>2019-10-21</td>\n",
       "      <td>2025-12-31</td>\n",
       "      <td>NaN</td>\n",
       "      <td>cc;bb;aa</td>\n",
       "      <td>cc</td>\n",
       "      <td>bb</td>\n",
       "      <td>aa</td>\n",
       "    </tr>\n",
       "    <tr>\n",
       "      <th>1</th>\n",
       "      <td>A103</td>\n",
       "      <td>23899005</td>\n",
       "      <td>Fifth Row</td>\n",
       "      <td>Theo Dallis</td>\n",
       "      <td>19</td>\n",
       "      <td>45.80</td>\n",
       "      <td>2019-10-21</td>\n",
       "      <td>2023-12-31</td>\n",
       "      <td>1532.0</td>\n",
       "      <td>x;y;z</td>\n",
       "      <td>x</td>\n",
       "      <td>y</td>\n",
       "      <td>z</td>\n",
       "    </tr>\n",
       "    <tr>\n",
       "      <th>2</th>\n",
       "      <td>A103</td>\n",
       "      <td>23899012</td>\n",
       "      <td>Fifth Row</td>\n",
       "      <td>Theo Dallis</td>\n",
       "      <td>19</td>\n",
       "      <td>45.80</td>\n",
       "      <td>2019-10-21</td>\n",
       "      <td>2023-12-31</td>\n",
       "      <td>1532.0</td>\n",
       "      <td>5555;4444;3333</td>\n",
       "      <td>5555</td>\n",
       "      <td>4444</td>\n",
       "      <td>3333</td>\n",
       "    </tr>\n",
       "    <tr>\n",
       "      <th>3</th>\n",
       "      <td>A100</td>\n",
       "      <td>23899001</td>\n",
       "      <td>First Row</td>\n",
       "      <td>Aidan Scally</td>\n",
       "      <td>14</td>\n",
       "      <td>1.23</td>\n",
       "      <td>2015-10-21</td>\n",
       "      <td>2019-12-31</td>\n",
       "      <td>1532.0</td>\n",
       "      <td>123;456;789</td>\n",
       "      <td>123</td>\n",
       "      <td>456</td>\n",
       "      <td>789</td>\n",
       "    </tr>\n",
       "  </tbody>\n",
       "</table>\n",
       "</div>"
      ],
      "text/plain": [
       "  grouping    orders description        second_col  qty  price  effective  \\\n",
       "0     A104  23899008  Eighth Row  Matthew Whitaker  424  56.30 2019-10-21   \n",
       "1     A103  23899005   Fifth Row       Theo Dallis   19  45.80 2019-10-21   \n",
       "2     A103  23899012   Fifth Row       Theo Dallis   19  45.80 2019-10-21   \n",
       "3     A100  23899001   First Row      Aidan Scally   14   1.23 2015-10-21   \n",
       "\n",
       "     expired  duration delimitted_list list_1 list_2 list_3  \n",
       "0 2025-12-31       NaN        cc;bb;aa     cc     bb     aa  \n",
       "1 2023-12-31    1532.0           x;y;z      x      y      z  \n",
       "2 2023-12-31    1532.0  5555;4444;3333   5555   4444   3333  \n",
       "3 2019-12-31    1532.0     123;456;789    123    456    789  "
      ]
     },
     "execution_count": 28,
     "metadata": {},
     "output_type": "execute_result"
    }
   ],
   "source": [
    "subset = ['description']\n",
    "\n",
    "(head(duplicated(df, subset=subset, loc='first', \n",
    "                 ref_column='duplicate description')\n",
    "      .reset_index(drop=True)\n",
    "      .drop(columns=['duplicate']), 4))"
   ]
  },
  {
   "cell_type": "code",
   "execution_count": 29,
   "metadata": {
    "ExecuteTime": {
     "end_time": "2021-04-09T16:38:01.718021Z",
     "start_time": "2021-04-09T16:38:01.664833Z"
    }
   },
   "outputs": [
    {
     "name": "stderr",
     "output_type": "stream",
     "text": [
      "12 rows, 14 columns\n"
     ]
    },
    {
     "data": {
      "text/html": [
       "<div>\n",
       "<style scoped>\n",
       "    .dataframe tbody tr th:only-of-type {\n",
       "        vertical-align: middle;\n",
       "    }\n",
       "\n",
       "    .dataframe tbody tr th {\n",
       "        vertical-align: top;\n",
       "    }\n",
       "\n",
       "    .dataframe thead th {\n",
       "        text-align: right;\n",
       "    }\n",
       "</style>\n",
       "<table border=\"1\" class=\"dataframe\">\n",
       "  <thead>\n",
       "    <tr style=\"text-align: right;\">\n",
       "      <th></th>\n",
       "      <th>duplicate description</th>\n",
       "      <th>grouping</th>\n",
       "      <th>orders</th>\n",
       "      <th>description</th>\n",
       "      <th>second_col</th>\n",
       "      <th>qty</th>\n",
       "      <th>price</th>\n",
       "      <th>effective</th>\n",
       "      <th>expired</th>\n",
       "      <th>duration</th>\n",
       "      <th>delimitted_list</th>\n",
       "      <th>list_1</th>\n",
       "      <th>list_2</th>\n",
       "      <th>list_3</th>\n",
       "    </tr>\n",
       "  </thead>\n",
       "  <tbody>\n",
       "    <tr>\n",
       "      <th>0</th>\n",
       "      <td>False</td>\n",
       "      <td>A104</td>\n",
       "      <td>23899008</td>\n",
       "      <td>Eighth Row</td>\n",
       "      <td>Matthew Whitaker</td>\n",
       "      <td>424</td>\n",
       "      <td>56.30</td>\n",
       "      <td>2019-10-21</td>\n",
       "      <td>2025-12-31</td>\n",
       "      <td>NaN</td>\n",
       "      <td>cc;bb;aa</td>\n",
       "      <td>cc</td>\n",
       "      <td>bb</td>\n",
       "      <td>aa</td>\n",
       "    </tr>\n",
       "    <tr>\n",
       "      <th>1</th>\n",
       "      <td>True</td>\n",
       "      <td>A103</td>\n",
       "      <td>23899005</td>\n",
       "      <td>Fifth Row</td>\n",
       "      <td>Theo Dallis</td>\n",
       "      <td>19</td>\n",
       "      <td>45.80</td>\n",
       "      <td>2019-10-21</td>\n",
       "      <td>2023-12-31</td>\n",
       "      <td>1532.0</td>\n",
       "      <td>x;y;z</td>\n",
       "      <td>x</td>\n",
       "      <td>y</td>\n",
       "      <td>z</td>\n",
       "    </tr>\n",
       "    <tr>\n",
       "      <th>2</th>\n",
       "      <td>True</td>\n",
       "      <td>A103</td>\n",
       "      <td>23899012</td>\n",
       "      <td>Fifth Row</td>\n",
       "      <td>Theo Dallis</td>\n",
       "      <td>19</td>\n",
       "      <td>45.80</td>\n",
       "      <td>2019-10-21</td>\n",
       "      <td>2023-12-31</td>\n",
       "      <td>1532.0</td>\n",
       "      <td>5555;4444;3333</td>\n",
       "      <td>5555</td>\n",
       "      <td>4444</td>\n",
       "      <td>3333</td>\n",
       "    </tr>\n",
       "    <tr>\n",
       "      <th>3</th>\n",
       "      <td>False</td>\n",
       "      <td>A100</td>\n",
       "      <td>23899001</td>\n",
       "      <td>First Row</td>\n",
       "      <td>Aidan Scally</td>\n",
       "      <td>14</td>\n",
       "      <td>1.23</td>\n",
       "      <td>2015-10-21</td>\n",
       "      <td>2019-12-31</td>\n",
       "      <td>1532.0</td>\n",
       "      <td>123;456;789</td>\n",
       "      <td>123</td>\n",
       "      <td>456</td>\n",
       "      <td>789</td>\n",
       "    </tr>\n",
       "  </tbody>\n",
       "</table>\n",
       "</div>"
      ],
      "text/plain": [
       "   duplicate description grouping    orders description        second_col  \\\n",
       "0                  False     A104  23899008  Eighth Row  Matthew Whitaker   \n",
       "1                   True     A103  23899005   Fifth Row       Theo Dallis   \n",
       "2                   True     A103  23899012   Fifth Row       Theo Dallis   \n",
       "3                  False     A100  23899001   First Row      Aidan Scally   \n",
       "\n",
       "   qty  price  effective    expired  duration delimitted_list list_1 list_2  \\\n",
       "0  424  56.30 2019-10-21 2025-12-31       NaN        cc;bb;aa     cc     bb   \n",
       "1   19  45.80 2019-10-21 2023-12-31    1532.0           x;y;z      x      y   \n",
       "2   19  45.80 2019-10-21 2023-12-31    1532.0  5555;4444;3333   5555   4444   \n",
       "3   14   1.23 2015-10-21 2019-12-31    1532.0     123;456;789    123    456   \n",
       "\n",
       "  list_3  \n",
       "0     aa  \n",
       "1      z  \n",
       "2   3333  \n",
       "3    789  "
      ]
     },
     "execution_count": 29,
     "metadata": {},
     "output_type": "execute_result"
    }
   ],
   "source": [
    "subset=['description']\n",
    "\n",
    "(head(duplicated(df, subset=subset, column='duplicate description')\n",
    "      .reset_index(drop=True)\n",
    "      .drop(columns=['duplicate']), 4))"
   ]
  },
  {
   "cell_type": "markdown",
   "metadata": {},
   "source": [
    "## Explode data"
   ]
  },
  {
   "cell_type": "markdown",
   "metadata": {},
   "source": [
    "### combining columns into a single 'list' column"
   ]
  },
  {
   "cell_type": "code",
   "execution_count": 30,
   "metadata": {
    "ExecuteTime": {
     "end_time": "2021-04-09T16:38:03.234610Z",
     "start_time": "2021-04-09T16:38:03.206136Z"
    }
   },
   "outputs": [
    {
     "data": {
      "text/plain": [
       "0                            [cc, bb, aa]\n",
       "1                               [x, y, z]\n",
       "2                      [5555, 4444, 3333]\n",
       "3                         [123, 456, 789]\n",
       "4                       [cat, dog, books]\n",
       "5                      [d20, tg54, kde40]\n",
       "6                     [1304, 53-02, 6932]\n",
       "7                            [ss, 11, 33]\n",
       "8     [24th May,  18th July,  5th August]\n",
       "9               [alpha,  bravo,  charlie]\n",
       "10                      [40a3, 64g, 023;]\n",
       "11                              [A, b, C]\n",
       "dtype: object"
      ]
     },
     "execution_count": 30,
     "metadata": {},
     "output_type": "execute_result"
    }
   ],
   "source": [
    "combined_listcol = pd.Series(df[['list_1', 'list_2', 'list_3']].values.tolist())\n",
    "combined_listcol"
   ]
  },
  {
   "cell_type": "code",
   "execution_count": 31,
   "metadata": {
    "ExecuteTime": {
     "end_time": "2021-04-09T16:38:03.995571Z",
     "start_time": "2021-04-09T16:38:03.957205Z"
    }
   },
   "outputs": [
    {
     "name": "stderr",
     "output_type": "stream",
     "text": [
      "12 rows, 15 columns\n"
     ]
    },
    {
     "data": {
      "text/html": [
       "<div>\n",
       "<style scoped>\n",
       "    .dataframe tbody tr th:only-of-type {\n",
       "        vertical-align: middle;\n",
       "    }\n",
       "\n",
       "    .dataframe tbody tr th {\n",
       "        vertical-align: top;\n",
       "    }\n",
       "\n",
       "    .dataframe thead th {\n",
       "        text-align: right;\n",
       "    }\n",
       "</style>\n",
       "<table border=\"1\" class=\"dataframe\">\n",
       "  <thead>\n",
       "    <tr style=\"text-align: right;\">\n",
       "      <th></th>\n",
       "      <th>grouping</th>\n",
       "      <th>orders</th>\n",
       "      <th>description</th>\n",
       "      <th>second_col</th>\n",
       "      <th>qty</th>\n",
       "      <th>price</th>\n",
       "      <th>effective</th>\n",
       "      <th>expired</th>\n",
       "      <th>duration</th>\n",
       "      <th>delimitted_list</th>\n",
       "      <th>list_1</th>\n",
       "      <th>list_2</th>\n",
       "      <th>list_3</th>\n",
       "      <th>combined_listcol</th>\n",
       "      <th>duplicate</th>\n",
       "    </tr>\n",
       "  </thead>\n",
       "  <tbody>\n",
       "    <tr>\n",
       "      <th>0</th>\n",
       "      <td>A104</td>\n",
       "      <td>23899008</td>\n",
       "      <td>Eighth Row</td>\n",
       "      <td>Matthew Whitaker</td>\n",
       "      <td>424</td>\n",
       "      <td>56.30</td>\n",
       "      <td>2019-10-21</td>\n",
       "      <td>2025-12-31</td>\n",
       "      <td>NaN</td>\n",
       "      <td>cc;bb;aa</td>\n",
       "      <td>cc</td>\n",
       "      <td>bb</td>\n",
       "      <td>aa</td>\n",
       "      <td>[cc, bb, aa]</td>\n",
       "      <td>False</td>\n",
       "    </tr>\n",
       "    <tr>\n",
       "      <th>1</th>\n",
       "      <td>A103</td>\n",
       "      <td>23899005</td>\n",
       "      <td>Fifth Row</td>\n",
       "      <td>Theo Dallis</td>\n",
       "      <td>19</td>\n",
       "      <td>45.80</td>\n",
       "      <td>2019-10-21</td>\n",
       "      <td>2023-12-31</td>\n",
       "      <td>1532.0</td>\n",
       "      <td>x;y;z</td>\n",
       "      <td>x</td>\n",
       "      <td>y</td>\n",
       "      <td>z</td>\n",
       "      <td>[x, y, z]</td>\n",
       "      <td>True</td>\n",
       "    </tr>\n",
       "    <tr>\n",
       "      <th>2</th>\n",
       "      <td>A103</td>\n",
       "      <td>23899012</td>\n",
       "      <td>Fifth Row</td>\n",
       "      <td>Theo Dallis</td>\n",
       "      <td>19</td>\n",
       "      <td>45.80</td>\n",
       "      <td>2019-10-21</td>\n",
       "      <td>2023-12-31</td>\n",
       "      <td>1532.0</td>\n",
       "      <td>5555;4444;3333</td>\n",
       "      <td>5555</td>\n",
       "      <td>4444</td>\n",
       "      <td>3333</td>\n",
       "      <td>[5555, 4444, 3333]</td>\n",
       "      <td>True</td>\n",
       "    </tr>\n",
       "    <tr>\n",
       "      <th>3</th>\n",
       "      <td>A100</td>\n",
       "      <td>23899001</td>\n",
       "      <td>First Row</td>\n",
       "      <td>Aidan Scally</td>\n",
       "      <td>14</td>\n",
       "      <td>1.23</td>\n",
       "      <td>2015-10-21</td>\n",
       "      <td>2019-12-31</td>\n",
       "      <td>1532.0</td>\n",
       "      <td>123;456;789</td>\n",
       "      <td>123</td>\n",
       "      <td>456</td>\n",
       "      <td>789</td>\n",
       "      <td>[123, 456, 789]</td>\n",
       "      <td>False</td>\n",
       "    </tr>\n",
       "  </tbody>\n",
       "</table>\n",
       "</div>"
      ],
      "text/plain": [
       "  grouping    orders description        second_col  qty  price  effective  \\\n",
       "0     A104  23899008  Eighth Row  Matthew Whitaker  424  56.30 2019-10-21   \n",
       "1     A103  23899005   Fifth Row       Theo Dallis   19  45.80 2019-10-21   \n",
       "2     A103  23899012   Fifth Row       Theo Dallis   19  45.80 2019-10-21   \n",
       "3     A100  23899001   First Row      Aidan Scally   14   1.23 2015-10-21   \n",
       "\n",
       "     expired  duration delimitted_list list_1 list_2 list_3  \\\n",
       "0 2025-12-31       NaN        cc;bb;aa     cc     bb     aa   \n",
       "1 2023-12-31    1532.0           x;y;z      x      y      z   \n",
       "2 2023-12-31    1532.0  5555;4444;3333   5555   4444   3333   \n",
       "3 2019-12-31    1532.0     123;456;789    123    456    789   \n",
       "\n",
       "     combined_listcol  duplicate  \n",
       "0        [cc, bb, aa]      False  \n",
       "1           [x, y, z]       True  \n",
       "2  [5555, 4444, 3333]       True  \n",
       "3     [123, 456, 789]      False  "
      ]
     },
     "execution_count": 31,
     "metadata": {},
     "output_type": "execute_result"
    }
   ],
   "source": [
    "df.insert(13, 'combined_listcol', combined_listcol)\n",
    "head(df)"
   ]
  },
  {
   "cell_type": "markdown",
   "metadata": {},
   "source": [
    "### explode (extract) values from a single 'list' column"
   ]
  },
  {
   "cell_type": "code",
   "execution_count": 32,
   "metadata": {
    "ExecuteTime": {
     "end_time": "2021-04-09T16:38:04.849191Z",
     "start_time": "2021-04-09T16:38:04.820620Z"
    }
   },
   "outputs": [
    {
     "name": "stderr",
     "output_type": "stream",
     "text": [
      "36 rows, 2 columns\n"
     ]
    },
    {
     "data": {
      "text/html": [
       "<div>\n",
       "<style scoped>\n",
       "    .dataframe tbody tr th:only-of-type {\n",
       "        vertical-align: middle;\n",
       "    }\n",
       "\n",
       "    .dataframe tbody tr th {\n",
       "        vertical-align: top;\n",
       "    }\n",
       "\n",
       "    .dataframe thead th {\n",
       "        text-align: right;\n",
       "    }\n",
       "</style>\n",
       "<table border=\"1\" class=\"dataframe\">\n",
       "  <thead>\n",
       "    <tr style=\"text-align: right;\">\n",
       "      <th></th>\n",
       "      <th>second_col</th>\n",
       "      <th>combined_listcol</th>\n",
       "    </tr>\n",
       "  </thead>\n",
       "  <tbody>\n",
       "    <tr>\n",
       "      <th>0</th>\n",
       "      <td>Matthew Whitaker</td>\n",
       "      <td>cc</td>\n",
       "    </tr>\n",
       "    <tr>\n",
       "      <th>0</th>\n",
       "      <td>Matthew Whitaker</td>\n",
       "      <td>bb</td>\n",
       "    </tr>\n",
       "    <tr>\n",
       "      <th>0</th>\n",
       "      <td>Matthew Whitaker</td>\n",
       "      <td>aa</td>\n",
       "    </tr>\n",
       "    <tr>\n",
       "      <th>1</th>\n",
       "      <td>Theo Dallis</td>\n",
       "      <td>x</td>\n",
       "    </tr>\n",
       "    <tr>\n",
       "      <th>1</th>\n",
       "      <td>Theo Dallis</td>\n",
       "      <td>y</td>\n",
       "    </tr>\n",
       "    <tr>\n",
       "      <th>1</th>\n",
       "      <td>Theo Dallis</td>\n",
       "      <td>z</td>\n",
       "    </tr>\n",
       "    <tr>\n",
       "      <th>2</th>\n",
       "      <td>Theo Dallis</td>\n",
       "      <td>5555</td>\n",
       "    </tr>\n",
       "    <tr>\n",
       "      <th>2</th>\n",
       "      <td>Theo Dallis</td>\n",
       "      <td>4444</td>\n",
       "    </tr>\n",
       "    <tr>\n",
       "      <th>2</th>\n",
       "      <td>Theo Dallis</td>\n",
       "      <td>3333</td>\n",
       "    </tr>\n",
       "    <tr>\n",
       "      <th>3</th>\n",
       "      <td>Aidan Scally</td>\n",
       "      <td>123</td>\n",
       "    </tr>\n",
       "  </tbody>\n",
       "</table>\n",
       "</div>"
      ],
      "text/plain": [
       "         second_col combined_listcol\n",
       "0  Matthew Whitaker               cc\n",
       "0  Matthew Whitaker               bb\n",
       "0  Matthew Whitaker               aa\n",
       "1       Theo Dallis                x\n",
       "1       Theo Dallis                y\n",
       "1       Theo Dallis                z\n",
       "2       Theo Dallis             5555\n",
       "2       Theo Dallis             4444\n",
       "2       Theo Dallis             3333\n",
       "3      Aidan Scally              123"
      ]
     },
     "execution_count": 32,
     "metadata": {},
     "output_type": "execute_result"
    }
   ],
   "source": [
    "head(df[['second_col', 'combined_listcol']].explode('combined_listcol'), 10)"
   ]
  },
  {
   "cell_type": "markdown",
   "metadata": {},
   "source": [
    "## add_formula - Add Excel formula(s)"
   ]
  },
  {
   "cell_type": "code",
   "execution_count": 33,
   "metadata": {
    "ExecuteTime": {
     "end_time": "2021-04-09T16:38:05.634398Z",
     "start_time": "2021-04-09T16:38:05.590191Z"
    }
   },
   "outputs": [
    {
     "name": "stderr",
     "output_type": "stream",
     "text": [
      "12 rows, 16 columns\n"
     ]
    },
    {
     "data": {
      "text/html": [
       "<div>\n",
       "<style scoped>\n",
       "    .dataframe tbody tr th:only-of-type {\n",
       "        vertical-align: middle;\n",
       "    }\n",
       "\n",
       "    .dataframe tbody tr th {\n",
       "        vertical-align: top;\n",
       "    }\n",
       "\n",
       "    .dataframe thead th {\n",
       "        text-align: right;\n",
       "    }\n",
       "</style>\n",
       "<table border=\"1\" class=\"dataframe\">\n",
       "  <thead>\n",
       "    <tr style=\"text-align: right;\">\n",
       "      <th></th>\n",
       "      <th>grouping</th>\n",
       "      <th>orders</th>\n",
       "      <th>description</th>\n",
       "      <th>second_col</th>\n",
       "      <th>qty</th>\n",
       "      <th>price</th>\n",
       "      <th>effective</th>\n",
       "      <th>expired</th>\n",
       "      <th>duration</th>\n",
       "      <th>delimitted_list</th>\n",
       "      <th>list_1</th>\n",
       "      <th>list_2</th>\n",
       "      <th>list_3</th>\n",
       "      <th>combined_listcol</th>\n",
       "      <th>duplicate</th>\n",
       "      <th>X8</th>\n",
       "    </tr>\n",
       "  </thead>\n",
       "  <tbody>\n",
       "    <tr>\n",
       "      <th>0</th>\n",
       "      <td>A104</td>\n",
       "      <td>23899008</td>\n",
       "      <td>Eighth Row</td>\n",
       "      <td>Matthew Whitaker</td>\n",
       "      <td>424</td>\n",
       "      <td>56.30</td>\n",
       "      <td>2019-10-21</td>\n",
       "      <td>2025-12-31</td>\n",
       "      <td>NaN</td>\n",
       "      <td>cc;bb;aa</td>\n",
       "      <td>cc</td>\n",
       "      <td>bb</td>\n",
       "      <td>aa</td>\n",
       "      <td>[cc, bb, aa]</td>\n",
       "      <td>False</td>\n",
       "      <td>=CONCATENATE(A2, B2, C2)</td>\n",
       "    </tr>\n",
       "    <tr>\n",
       "      <th>1</th>\n",
       "      <td>A103</td>\n",
       "      <td>23899005</td>\n",
       "      <td>Fifth Row</td>\n",
       "      <td>Theo Dallis</td>\n",
       "      <td>19</td>\n",
       "      <td>45.80</td>\n",
       "      <td>2019-10-21</td>\n",
       "      <td>2023-12-31</td>\n",
       "      <td>1532.0</td>\n",
       "      <td>x;y;z</td>\n",
       "      <td>x</td>\n",
       "      <td>y</td>\n",
       "      <td>z</td>\n",
       "      <td>[x, y, z]</td>\n",
       "      <td>True</td>\n",
       "      <td>=CONCATENATE(A3, B3, C3)</td>\n",
       "    </tr>\n",
       "    <tr>\n",
       "      <th>2</th>\n",
       "      <td>A103</td>\n",
       "      <td>23899012</td>\n",
       "      <td>Fifth Row</td>\n",
       "      <td>Theo Dallis</td>\n",
       "      <td>19</td>\n",
       "      <td>45.80</td>\n",
       "      <td>2019-10-21</td>\n",
       "      <td>2023-12-31</td>\n",
       "      <td>1532.0</td>\n",
       "      <td>5555;4444;3333</td>\n",
       "      <td>5555</td>\n",
       "      <td>4444</td>\n",
       "      <td>3333</td>\n",
       "      <td>[5555, 4444, 3333]</td>\n",
       "      <td>True</td>\n",
       "      <td>=CONCATENATE(A4, B4, C4)</td>\n",
       "    </tr>\n",
       "    <tr>\n",
       "      <th>3</th>\n",
       "      <td>A100</td>\n",
       "      <td>23899001</td>\n",
       "      <td>First Row</td>\n",
       "      <td>Aidan Scally</td>\n",
       "      <td>14</td>\n",
       "      <td>1.23</td>\n",
       "      <td>2015-10-21</td>\n",
       "      <td>2019-12-31</td>\n",
       "      <td>1532.0</td>\n",
       "      <td>123;456;789</td>\n",
       "      <td>123</td>\n",
       "      <td>456</td>\n",
       "      <td>789</td>\n",
       "      <td>[123, 456, 789]</td>\n",
       "      <td>False</td>\n",
       "      <td>=CONCATENATE(A5, B5, C5)</td>\n",
       "    </tr>\n",
       "  </tbody>\n",
       "</table>\n",
       "</div>"
      ],
      "text/plain": [
       "  grouping    orders description        second_col  qty  price  effective  \\\n",
       "0     A104  23899008  Eighth Row  Matthew Whitaker  424  56.30 2019-10-21   \n",
       "1     A103  23899005   Fifth Row       Theo Dallis   19  45.80 2019-10-21   \n",
       "2     A103  23899012   Fifth Row       Theo Dallis   19  45.80 2019-10-21   \n",
       "3     A100  23899001   First Row      Aidan Scally   14   1.23 2015-10-21   \n",
       "\n",
       "     expired  duration delimitted_list list_1 list_2 list_3  \\\n",
       "0 2025-12-31       NaN        cc;bb;aa     cc     bb     aa   \n",
       "1 2023-12-31    1532.0           x;y;z      x      y      z   \n",
       "2 2023-12-31    1532.0  5555;4444;3333   5555   4444   3333   \n",
       "3 2019-12-31    1532.0     123;456;789    123    456    789   \n",
       "\n",
       "     combined_listcol  duplicate                        X8  \n",
       "0        [cc, bb, aa]      False  =CONCATENATE(A2, B2, C2)  \n",
       "1           [x, y, z]       True  =CONCATENATE(A3, B3, C3)  \n",
       "2  [5555, 4444, 3333]       True  =CONCATENATE(A4, B4, C4)  \n",
       "3     [123, 456, 789]      False  =CONCATENATE(A5, B5, C5)  "
      ]
     },
     "execution_count": 33,
     "metadata": {},
     "output_type": "execute_result"
    }
   ],
   "source": [
    "formula = '=CONCATENATE(A{row}, B{row}, C{row})'\n",
    "add_xl_formula(df, column_name='X8', formula=formula)\n",
    "head(df)"
   ]
  },
  {
   "cell_type": "markdown",
   "metadata": {},
   "source": [
    "## pivot()"
   ]
  },
  {
   "cell_type": "code",
   "execution_count": 34,
   "metadata": {
    "ExecuteTime": {
     "end_time": "2021-04-09T16:38:06.234289Z",
     "start_time": "2021-04-09T16:38:06.229301Z"
    }
   },
   "outputs": [],
   "source": [
    "# dx = get_sample_data()\n",
    "\n",
    "# pv = pivot(dx,\n",
    "#            index=['countries', 'regions'],\n",
    "#            sort_values=None,\n",
    "#            percent=True,\n",
    "#            cum_percent=True,\n",
    "#            aggfunc=np.sum,\n",
    "#            values='values_1')\n",
    "\n",
    "# pv = pv.sort_values(['countries', 'regions', 'Totals'], ascending=[True, None, True])\n",
    "# head(pv)"
   ]
  },
  {
   "cell_type": "code",
   "execution_count": 35,
   "metadata": {
    "ExecuteTime": {
     "end_time": "2021-04-09T16:38:06.516039Z",
     "start_time": "2021-04-09T16:38:06.506752Z"
    }
   },
   "outputs": [],
   "source": [
    "# index=['grouping', 'expired']\n",
    "# values=['qty']\n",
    "\n",
    "# p1 = (pivot(df, index=index, values=values,\n",
    "#                   sort_values=None,\n",
    "#                   percent=True, cum_percent=True,\n",
    "#                   aggfunc=np.sum, round=3))\n",
    "\n",
    "# # Add totals for all columns\n",
    "# total_text = 'Grand Total'\n",
    "\n",
    "# for col in p1.columns:\n",
    "#     if col == 'cum %':\n",
    "#         p1.loc[('', total_text), col] = np.nan\n",
    "#     else:\n",
    "#         p1.loc[('', total_text), col] = p1[col].sum()\n",
    "\n",
    "# p1['Totals'] = p1['Totals'].astype('int32')\n",
    "# p1.fillna('', inplace=True)\n",
    "\n",
    "# p1 = p1.reset_index()\n",
    "\n",
    "# # f = lambda x: print(type(x)) if pd.datetime else 'NOT' \n",
    "# # # p1.expired[:-1].dt.strftime('%Y-%m-%d')\n",
    "# # p1.expired.apply(f)\n",
    "# p1"
   ]
  },
  {
   "cell_type": "markdown",
   "metadata": {},
   "source": [
    "## relocate()"
   ]
  },
  {
   "cell_type": "code",
   "execution_count": 36,
   "metadata": {
    "ExecuteTime": {
     "end_time": "2021-04-09T16:38:07.509876Z",
     "start_time": "2021-04-09T16:38:07.502300Z"
    }
   },
   "outputs": [],
   "source": [
    "# relocate(p1, ['expired', 'grouping'], loc='first')"
   ]
  },
  {
   "cell_type": "markdown",
   "metadata": {},
   "source": [
    "## pivot_table()"
   ]
  },
  {
   "cell_type": "code",
   "execution_count": 37,
   "metadata": {
    "ExecuteTime": {
     "end_time": "2021-04-09T16:38:08.124955Z",
     "start_time": "2021-04-09T16:38:08.073660Z"
    }
   },
   "outputs": [
    {
     "data": {
      "text/html": [
       "<div>\n",
       "<style scoped>\n",
       "    .dataframe tbody tr th:only-of-type {\n",
       "        vertical-align: middle;\n",
       "    }\n",
       "\n",
       "    .dataframe tbody tr th {\n",
       "        vertical-align: top;\n",
       "    }\n",
       "\n",
       "    .dataframe thead th {\n",
       "        text-align: right;\n",
       "    }\n",
       "</style>\n",
       "<table border=\"1\" class=\"dataframe\">\n",
       "  <thead>\n",
       "    <tr style=\"text-align: right;\">\n",
       "      <th></th>\n",
       "      <th></th>\n",
       "      <th>qty</th>\n",
       "    </tr>\n",
       "    <tr>\n",
       "      <th>expired</th>\n",
       "      <th>grouping</th>\n",
       "      <th></th>\n",
       "    </tr>\n",
       "  </thead>\n",
       "  <tbody>\n",
       "    <tr>\n",
       "      <th>2025-12-31</th>\n",
       "      <th>A105</th>\n",
       "      <td>1800</td>\n",
       "    </tr>\n",
       "    <tr>\n",
       "      <th>2020-05-07</th>\n",
       "      <th>A103</th>\n",
       "      <td>532</td>\n",
       "    </tr>\n",
       "    <tr>\n",
       "      <th rowspan=\"2\" valign=\"top\">2025-12-31</th>\n",
       "      <th>A104</th>\n",
       "      <td>424</td>\n",
       "    </tr>\n",
       "    <tr>\n",
       "      <th>A103</th>\n",
       "      <td>178</td>\n",
       "    </tr>\n",
       "    <tr>\n",
       "      <th>2020-12-31</th>\n",
       "      <th>A101</th>\n",
       "      <td>103</td>\n",
       "    </tr>\n",
       "    <tr>\n",
       "      <th>2025-12-10</th>\n",
       "      <th>A105</th>\n",
       "      <td>24</td>\n",
       "    </tr>\n",
       "    <tr>\n",
       "      <th>2023-12-31</th>\n",
       "      <th>A103</th>\n",
       "      <td>19</td>\n",
       "    </tr>\n",
       "    <tr>\n",
       "      <th>2019-12-31</th>\n",
       "      <th>A100</th>\n",
       "      <td>14</td>\n",
       "    </tr>\n",
       "    <tr>\n",
       "      <th>2022-12-31</th>\n",
       "      <th>A102</th>\n",
       "      <td>13</td>\n",
       "    </tr>\n",
       "    <tr>\n",
       "      <th>2021-12-31</th>\n",
       "      <th>A101</th>\n",
       "      <td>1</td>\n",
       "    </tr>\n",
       "    <tr>\n",
       "      <th></th>\n",
       "      <th>Grand Total</th>\n",
       "      <td>3108</td>\n",
       "    </tr>\n",
       "  </tbody>\n",
       "</table>\n",
       "</div>"
      ],
      "text/plain": [
       "                         qty\n",
       "expired    grouping         \n",
       "2025-12-31 A105         1800\n",
       "2020-05-07 A103          532\n",
       "2025-12-31 A104          424\n",
       "           A103          178\n",
       "2020-12-31 A101          103\n",
       "2025-12-10 A105           24\n",
       "2023-12-31 A103           19\n",
       "2019-12-31 A100           14\n",
       "2022-12-31 A102           13\n",
       "2021-12-31 A101            1\n",
       "           Grand Total  3108"
      ]
     },
     "execution_count": 37,
     "metadata": {},
     "output_type": "execute_result"
    }
   ],
   "source": [
    "rule = 'D'\n",
    "index = ['expired', 'grouping']\n",
    "\n",
    "x = (pivot_table(df, index=index, freq=rule, format_date=True, values='qty')\n",
    "     .sort_values(by=['qty'], ascending=False))\n",
    "\n",
    "# Add a total\n",
    "x.loc[('', 'Grand Total'), 'qty'] = x.qty.sum()\n",
    "x.qty = x.qty.astype('int32')\n",
    "x"
   ]
  },
  {
   "cell_type": "markdown",
   "metadata": {},
   "source": [
    "### multi-index selection"
   ]
  },
  {
   "cell_type": "code",
   "execution_count": 38,
   "metadata": {
    "ExecuteTime": {
     "end_time": "2021-04-09T16:38:09.042318Z",
     "start_time": "2021-04-09T16:38:09.031636Z"
    }
   },
   "outputs": [
    {
     "data": {
      "text/html": [
       "<div>\n",
       "<style scoped>\n",
       "    .dataframe tbody tr th:only-of-type {\n",
       "        vertical-align: middle;\n",
       "    }\n",
       "\n",
       "    .dataframe tbody tr th {\n",
       "        vertical-align: top;\n",
       "    }\n",
       "\n",
       "    .dataframe thead th {\n",
       "        text-align: right;\n",
       "    }\n",
       "</style>\n",
       "<table border=\"1\" class=\"dataframe\">\n",
       "  <thead>\n",
       "    <tr style=\"text-align: right;\">\n",
       "      <th></th>\n",
       "      <th></th>\n",
       "      <th>qty</th>\n",
       "    </tr>\n",
       "    <tr>\n",
       "      <th>expired</th>\n",
       "      <th>grouping</th>\n",
       "      <th></th>\n",
       "    </tr>\n",
       "  </thead>\n",
       "  <tbody>\n",
       "    <tr>\n",
       "      <th>2025-12-31</th>\n",
       "      <th>A105</th>\n",
       "      <td>1800</td>\n",
       "    </tr>\n",
       "    <tr>\n",
       "      <th>2020-05-07</th>\n",
       "      <th>A103</th>\n",
       "      <td>532</td>\n",
       "    </tr>\n",
       "    <tr>\n",
       "      <th rowspan=\"2\" valign=\"top\">2025-12-31</th>\n",
       "      <th>A104</th>\n",
       "      <td>424</td>\n",
       "    </tr>\n",
       "    <tr>\n",
       "      <th>A103</th>\n",
       "      <td>178</td>\n",
       "    </tr>\n",
       "  </tbody>\n",
       "</table>\n",
       "</div>"
      ],
      "text/plain": [
       "                      qty\n",
       "expired    grouping      \n",
       "2025-12-31 A105      1800\n",
       "2020-05-07 A103       532\n",
       "2025-12-31 A104       424\n",
       "           A103       178"
      ]
     },
     "execution_count": 38,
     "metadata": {},
     "output_type": "execute_result"
    }
   ],
   "source": [
    "x.loc[x.index.isin(['2025-12-31', '2020-05-07'], level=0)]"
   ]
  },
  {
   "cell_type": "markdown",
   "metadata": {},
   "source": [
    "# Categorical data"
   ]
  },
  {
   "cell_type": "code",
   "execution_count": 39,
   "metadata": {
    "ExecuteTime": {
     "end_time": "2021-04-09T16:38:15.302459Z",
     "start_time": "2021-04-09T16:38:15.292192Z"
    }
   },
   "outputs": [
    {
     "data": {
      "text/plain": [
       "['grouping',\n",
       " 'orders',\n",
       " 'description',\n",
       " 'second_col',\n",
       " 'qty',\n",
       " 'price',\n",
       " 'effective',\n",
       " 'expired',\n",
       " 'duration',\n",
       " 'delimitted_list',\n",
       " 'list_1',\n",
       " 'list_2',\n",
       " 'list_3',\n",
       " 'combined_listcol',\n",
       " 'duplicate',\n",
       " 'X8']"
      ]
     },
     "execution_count": 39,
     "metadata": {},
     "output_type": "execute_result"
    }
   ],
   "source": [
    "names(df)"
   ]
  },
  {
   "cell_type": "code",
   "execution_count": 40,
   "metadata": {
    "ExecuteTime": {
     "end_time": "2021-04-09T16:38:16.298872Z",
     "start_time": "2021-04-09T16:38:16.246589Z"
    }
   },
   "outputs": [
    {
     "name": "stderr",
     "output_type": "stream",
     "text": [
      "10 rows, 3 columns\n"
     ]
    },
    {
     "data": {
      "text/html": [
       "<div>\n",
       "<style scoped>\n",
       "    .dataframe tbody tr th:only-of-type {\n",
       "        vertical-align: middle;\n",
       "    }\n",
       "\n",
       "    .dataframe tbody tr th {\n",
       "        vertical-align: top;\n",
       "    }\n",
       "\n",
       "    .dataframe thead th {\n",
       "        text-align: right;\n",
       "    }\n",
       "</style>\n",
       "<table border=\"1\" class=\"dataframe\">\n",
       "  <thead>\n",
       "    <tr style=\"text-align: right;\">\n",
       "      <th></th>\n",
       "      <th>n</th>\n",
       "      <th>%</th>\n",
       "      <th>cum %</th>\n",
       "    </tr>\n",
       "    <tr>\n",
       "      <th>description</th>\n",
       "      <th></th>\n",
       "      <th></th>\n",
       "      <th></th>\n",
       "    </tr>\n",
       "  </thead>\n",
       "  <tbody>\n",
       "    <tr>\n",
       "      <th>Fifth Row</th>\n",
       "      <td>2</td>\n",
       "      <td>16.67</td>\n",
       "      <td>16.67</td>\n",
       "    </tr>\n",
       "    <tr>\n",
       "      <th>Fourth Row</th>\n",
       "      <td>2</td>\n",
       "      <td>16.67</td>\n",
       "      <td>33.33</td>\n",
       "    </tr>\n",
       "    <tr>\n",
       "      <th>Eighth Row</th>\n",
       "      <td>1</td>\n",
       "      <td>8.33</td>\n",
       "      <td>41.67</td>\n",
       "    </tr>\n",
       "    <tr>\n",
       "      <th>First Row</th>\n",
       "      <td>1</td>\n",
       "      <td>8.33</td>\n",
       "      <td>50.00</td>\n",
       "    </tr>\n",
       "    <tr>\n",
       "      <th>Ninth Row</th>\n",
       "      <td>1</td>\n",
       "      <td>8.33</td>\n",
       "      <td>58.33</td>\n",
       "    </tr>\n",
       "    <tr>\n",
       "      <th>Second Row</th>\n",
       "      <td>1</td>\n",
       "      <td>8.33</td>\n",
       "      <td>66.67</td>\n",
       "    </tr>\n",
       "    <tr>\n",
       "      <th>Seventh Row</th>\n",
       "      <td>1</td>\n",
       "      <td>8.33</td>\n",
       "      <td>75.00</td>\n",
       "    </tr>\n",
       "    <tr>\n",
       "      <th>Sixth Row</th>\n",
       "      <td>1</td>\n",
       "      <td>8.33</td>\n",
       "      <td>83.33</td>\n",
       "    </tr>\n",
       "    <tr>\n",
       "      <th>Tenth Row</th>\n",
       "      <td>1</td>\n",
       "      <td>8.33</td>\n",
       "      <td>91.67</td>\n",
       "    </tr>\n",
       "    <tr>\n",
       "      <th>Third Row</th>\n",
       "      <td>1</td>\n",
       "      <td>8.33</td>\n",
       "      <td>100.00</td>\n",
       "    </tr>\n",
       "  </tbody>\n",
       "</table>\n",
       "</div>"
      ],
      "text/plain": [
       "             n      %   cum %\n",
       "description                  \n",
       "Fifth Row    2  16.67   16.67\n",
       "Fourth Row   2  16.67   33.33\n",
       "Eighth Row   1   8.33   41.67\n",
       "First Row    1   8.33   50.00\n",
       "Ninth Row    1   8.33   58.33\n",
       "Second Row   1   8.33   66.67\n",
       "Seventh Row  1   8.33   75.00\n",
       "Sixth Row    1   8.33   83.33\n",
       "Tenth Row    1   8.33   91.67\n",
       "Third Row    1   8.33  100.00"
      ]
     },
     "execution_count": 40,
     "metadata": {},
     "output_type": "execute_result"
    }
   ],
   "source": [
    "count(df, 'description')"
   ]
  },
  {
   "cell_type": "code",
   "execution_count": 41,
   "metadata": {
    "ExecuteTime": {
     "end_time": "2021-04-09T16:38:17.892981Z",
     "start_time": "2021-04-09T16:38:17.878609Z"
    }
   },
   "outputs": [
    {
     "data": {
      "text/plain": [
       "['Fourth Row',\n",
       " 'Fifth Row',\n",
       " 'Sixth Row',\n",
       " 'Eighth Row',\n",
       " 'Ninth Row',\n",
       " 'Tenth Row',\n",
       " 'Third Row',\n",
       " 'Second Row',\n",
       " 'Seventh Row',\n",
       " 'First Row']"
      ]
     },
     "execution_count": 41,
     "metadata": {},
     "output_type": "execute_result"
    }
   ],
   "source": [
    "df.description.value_counts().index.tolist()"
   ]
  },
  {
   "cell_type": "code",
   "execution_count": 42,
   "metadata": {
    "ExecuteTime": {
     "end_time": "2021-04-09T16:38:18.107248Z",
     "start_time": "2021-04-09T16:38:18.100850Z"
    }
   },
   "outputs": [],
   "source": [
    "# Required 'sequence' for categories\n",
    "categories = [\n",
    "    'First Row', 'Second Row', 'Third Row', 'Fourth Row', 'Fifth Row',\n",
    "    'Sixth Row', 'Seventh Row', 'Eighth Row', 'Ninth Row', 'Tenth Row'\n",
    "]\n",
    "\n",
    "df.description = df.description.astype(str)"
   ]
  },
  {
   "cell_type": "code",
   "execution_count": 43,
   "metadata": {
    "ExecuteTime": {
     "end_time": "2021-04-09T16:38:18.615211Z",
     "start_time": "2021-04-09T16:38:18.558650Z"
    }
   },
   "outputs": [
    {
     "name": "stderr",
     "output_type": "stream",
     "text": [
      "10 rows, 3 columns\n"
     ]
    },
    {
     "data": {
      "text/html": [
       "<div>\n",
       "<style scoped>\n",
       "    .dataframe tbody tr th:only-of-type {\n",
       "        vertical-align: middle;\n",
       "    }\n",
       "\n",
       "    .dataframe tbody tr th {\n",
       "        vertical-align: top;\n",
       "    }\n",
       "\n",
       "    .dataframe thead th {\n",
       "        text-align: right;\n",
       "    }\n",
       "</style>\n",
       "<table border=\"1\" class=\"dataframe\">\n",
       "  <thead>\n",
       "    <tr style=\"text-align: right;\">\n",
       "      <th></th>\n",
       "      <th>n</th>\n",
       "      <th>%</th>\n",
       "      <th>cum %</th>\n",
       "    </tr>\n",
       "    <tr>\n",
       "      <th>description</th>\n",
       "      <th></th>\n",
       "      <th></th>\n",
       "      <th></th>\n",
       "    </tr>\n",
       "  </thead>\n",
       "  <tbody>\n",
       "    <tr>\n",
       "      <th>Fifth Row</th>\n",
       "      <td>2</td>\n",
       "      <td>16.67</td>\n",
       "      <td>16.67</td>\n",
       "    </tr>\n",
       "    <tr>\n",
       "      <th>Fourth Row</th>\n",
       "      <td>2</td>\n",
       "      <td>16.67</td>\n",
       "      <td>33.33</td>\n",
       "    </tr>\n",
       "    <tr>\n",
       "      <th>Eighth Row</th>\n",
       "      <td>1</td>\n",
       "      <td>8.33</td>\n",
       "      <td>41.67</td>\n",
       "    </tr>\n",
       "    <tr>\n",
       "      <th>First Row</th>\n",
       "      <td>1</td>\n",
       "      <td>8.33</td>\n",
       "      <td>50.00</td>\n",
       "    </tr>\n",
       "    <tr>\n",
       "      <th>Ninth Row</th>\n",
       "      <td>1</td>\n",
       "      <td>8.33</td>\n",
       "      <td>58.33</td>\n",
       "    </tr>\n",
       "    <tr>\n",
       "      <th>Second Row</th>\n",
       "      <td>1</td>\n",
       "      <td>8.33</td>\n",
       "      <td>66.67</td>\n",
       "    </tr>\n",
       "    <tr>\n",
       "      <th>Seventh Row</th>\n",
       "      <td>1</td>\n",
       "      <td>8.33</td>\n",
       "      <td>75.00</td>\n",
       "    </tr>\n",
       "    <tr>\n",
       "      <th>Sixth Row</th>\n",
       "      <td>1</td>\n",
       "      <td>8.33</td>\n",
       "      <td>83.33</td>\n",
       "    </tr>\n",
       "    <tr>\n",
       "      <th>Tenth Row</th>\n",
       "      <td>1</td>\n",
       "      <td>8.33</td>\n",
       "      <td>91.67</td>\n",
       "    </tr>\n",
       "    <tr>\n",
       "      <th>Third Row</th>\n",
       "      <td>1</td>\n",
       "      <td>8.33</td>\n",
       "      <td>100.00</td>\n",
       "    </tr>\n",
       "  </tbody>\n",
       "</table>\n",
       "</div>"
      ],
      "text/plain": [
       "             n      %   cum %\n",
       "description                  \n",
       "Fifth Row    2  16.67   16.67\n",
       "Fourth Row   2  16.67   33.33\n",
       "Eighth Row   1   8.33   41.67\n",
       "First Row    1   8.33   50.00\n",
       "Ninth Row    1   8.33   58.33\n",
       "Second Row   1   8.33   66.67\n",
       "Seventh Row  1   8.33   75.00\n",
       "Sixth Row    1   8.33   83.33\n",
       "Tenth Row    1   8.33   91.67\n",
       "Third Row    1   8.33  100.00"
      ]
     },
     "execution_count": 43,
     "metadata": {},
     "output_type": "execute_result"
    }
   ],
   "source": [
    "count(df, 'description')"
   ]
  },
  {
   "cell_type": "code",
   "execution_count": 44,
   "metadata": {
    "ExecuteTime": {
     "end_time": "2021-04-09T16:38:19.048115Z",
     "start_time": "2021-04-09T16:38:18.991221Z"
    }
   },
   "outputs": [
    {
     "data": {
      "text/html": [
       "<div>\n",
       "<style scoped>\n",
       "    .dataframe tbody tr th:only-of-type {\n",
       "        vertical-align: middle;\n",
       "    }\n",
       "\n",
       "    .dataframe tbody tr th {\n",
       "        vertical-align: top;\n",
       "    }\n",
       "\n",
       "    .dataframe thead th {\n",
       "        text-align: right;\n",
       "    }\n",
       "</style>\n",
       "<table border=\"1\" class=\"dataframe\">\n",
       "  <thead>\n",
       "    <tr style=\"text-align: right;\">\n",
       "      <th>description</th>\n",
       "      <th>First Row</th>\n",
       "      <th>Second Row</th>\n",
       "      <th>Third Row</th>\n",
       "      <th>Fourth Row</th>\n",
       "      <th>Fifth Row</th>\n",
       "      <th>Sixth Row</th>\n",
       "      <th>Seventh Row</th>\n",
       "      <th>Eighth Row</th>\n",
       "      <th>Ninth Row</th>\n",
       "      <th>Tenth Row</th>\n",
       "    </tr>\n",
       "    <tr>\n",
       "      <th>grouping</th>\n",
       "      <th></th>\n",
       "      <th></th>\n",
       "      <th></th>\n",
       "      <th></th>\n",
       "      <th></th>\n",
       "      <th></th>\n",
       "      <th></th>\n",
       "      <th></th>\n",
       "      <th></th>\n",
       "      <th></th>\n",
       "    </tr>\n",
       "  </thead>\n",
       "  <tbody>\n",
       "    <tr>\n",
       "      <th>A100</th>\n",
       "      <td>1</td>\n",
       "      <td>0</td>\n",
       "      <td>0</td>\n",
       "      <td>0</td>\n",
       "      <td>0</td>\n",
       "      <td>0</td>\n",
       "      <td>0</td>\n",
       "      <td>0</td>\n",
       "      <td>0</td>\n",
       "      <td>0</td>\n",
       "    </tr>\n",
       "    <tr>\n",
       "      <th>A101</th>\n",
       "      <td>0</td>\n",
       "      <td>1</td>\n",
       "      <td>1</td>\n",
       "      <td>0</td>\n",
       "      <td>0</td>\n",
       "      <td>0</td>\n",
       "      <td>0</td>\n",
       "      <td>0</td>\n",
       "      <td>0</td>\n",
       "      <td>0</td>\n",
       "    </tr>\n",
       "    <tr>\n",
       "      <th>A102</th>\n",
       "      <td>0</td>\n",
       "      <td>0</td>\n",
       "      <td>0</td>\n",
       "      <td>2</td>\n",
       "      <td>0</td>\n",
       "      <td>0</td>\n",
       "      <td>0</td>\n",
       "      <td>0</td>\n",
       "      <td>0</td>\n",
       "      <td>0</td>\n",
       "    </tr>\n",
       "    <tr>\n",
       "      <th>A103</th>\n",
       "      <td>0</td>\n",
       "      <td>0</td>\n",
       "      <td>0</td>\n",
       "      <td>0</td>\n",
       "      <td>2</td>\n",
       "      <td>1</td>\n",
       "      <td>1</td>\n",
       "      <td>0</td>\n",
       "      <td>0</td>\n",
       "      <td>0</td>\n",
       "    </tr>\n",
       "    <tr>\n",
       "      <th>A104</th>\n",
       "      <td>0</td>\n",
       "      <td>0</td>\n",
       "      <td>0</td>\n",
       "      <td>0</td>\n",
       "      <td>0</td>\n",
       "      <td>0</td>\n",
       "      <td>0</td>\n",
       "      <td>1</td>\n",
       "      <td>0</td>\n",
       "      <td>0</td>\n",
       "    </tr>\n",
       "    <tr>\n",
       "      <th>A105</th>\n",
       "      <td>0</td>\n",
       "      <td>0</td>\n",
       "      <td>0</td>\n",
       "      <td>0</td>\n",
       "      <td>0</td>\n",
       "      <td>0</td>\n",
       "      <td>0</td>\n",
       "      <td>0</td>\n",
       "      <td>1</td>\n",
       "      <td>1</td>\n",
       "    </tr>\n",
       "  </tbody>\n",
       "</table>\n",
       "</div>"
      ],
      "text/plain": [
       "description  First Row  Second Row  Third Row  Fourth Row  Fifth Row  \\\n",
       "grouping                                                               \n",
       "A100                 1           0          0           0          0   \n",
       "A101                 0           1          1           0          0   \n",
       "A102                 0           0          0           2          0   \n",
       "A103                 0           0          0           0          2   \n",
       "A104                 0           0          0           0          0   \n",
       "A105                 0           0          0           0          0   \n",
       "\n",
       "description  Sixth Row  Seventh Row  Eighth Row  Ninth Row  Tenth Row  \n",
       "grouping                                                               \n",
       "A100                 0            0           0          0          0  \n",
       "A101                 0            0           0          0          0  \n",
       "A102                 0            0           0          0          0  \n",
       "A103                 1            1           0          0          0  \n",
       "A104                 0            0           1          0          0  \n",
       "A105                 0            0           0          1          1  "
      ]
     },
     "execution_count": 44,
     "metadata": {},
     "output_type": "execute_result"
    }
   ],
   "source": [
    "df.description = pd.Categorical(values=df.description,\n",
    "                                categories=categories,\n",
    "                                ordered=True)\n",
    "\n",
    "df_categorical = df.copy(deep=True)\n",
    "df_categorical.pivot_table(index=['grouping'],\n",
    "                           columns='description',\n",
    "                           values='orders',\n",
    "                           fill_value=0,\n",
    "                           aggfunc=np.size)"
   ]
  },
  {
   "cell_type": "markdown",
   "metadata": {},
   "source": [
    "# DataFrame - Select/filter and extract"
   ]
  },
  {
   "cell_type": "markdown",
   "metadata": {},
   "source": [
    "## Simple filter"
   ]
  },
  {
   "cell_type": "code",
   "execution_count": 45,
   "metadata": {
    "ExecuteTime": {
     "end_time": "2021-04-09T16:38:20.012886Z",
     "start_time": "2021-04-09T16:38:19.988468Z"
    }
   },
   "outputs": [
    {
     "data": {
      "text/html": [
       "<div>\n",
       "<style scoped>\n",
       "    .dataframe tbody tr th:only-of-type {\n",
       "        vertical-align: middle;\n",
       "    }\n",
       "\n",
       "    .dataframe tbody tr th {\n",
       "        vertical-align: top;\n",
       "    }\n",
       "\n",
       "    .dataframe thead th {\n",
       "        text-align: right;\n",
       "    }\n",
       "</style>\n",
       "<table border=\"1\" class=\"dataframe\">\n",
       "  <thead>\n",
       "    <tr style=\"text-align: right;\">\n",
       "      <th></th>\n",
       "      <th>grouping</th>\n",
       "      <th>orders</th>\n",
       "      <th>description</th>\n",
       "      <th>second_col</th>\n",
       "      <th>qty</th>\n",
       "      <th>price</th>\n",
       "      <th>effective</th>\n",
       "      <th>expired</th>\n",
       "      <th>duration</th>\n",
       "      <th>delimitted_list</th>\n",
       "    </tr>\n",
       "  </thead>\n",
       "  <tbody>\n",
       "    <tr>\n",
       "      <th>1</th>\n",
       "      <td>A103</td>\n",
       "      <td>23899005</td>\n",
       "      <td>Fifth Row</td>\n",
       "      <td>Theo Dallis</td>\n",
       "      <td>19</td>\n",
       "      <td>45.8</td>\n",
       "      <td>2019-10-21</td>\n",
       "      <td>2023-12-31</td>\n",
       "      <td>1532.0</td>\n",
       "      <td>x;y;z</td>\n",
       "    </tr>\n",
       "    <tr>\n",
       "      <th>2</th>\n",
       "      <td>A103</td>\n",
       "      <td>23899012</td>\n",
       "      <td>Fifth Row</td>\n",
       "      <td>Theo Dallis</td>\n",
       "      <td>19</td>\n",
       "      <td>45.8</td>\n",
       "      <td>2019-10-21</td>\n",
       "      <td>2023-12-31</td>\n",
       "      <td>1532.0</td>\n",
       "      <td>5555;4444;3333</td>\n",
       "    </tr>\n",
       "  </tbody>\n",
       "</table>\n",
       "</div>"
      ],
      "text/plain": [
       "  grouping    orders description   second_col  qty  price  effective  \\\n",
       "1     A103  23899005   Fifth Row  Theo Dallis   19   45.8 2019-10-21   \n",
       "2     A103  23899012   Fifth Row  Theo Dallis   19   45.8 2019-10-21   \n",
       "\n",
       "     expired  duration delimitted_list  \n",
       "1 2023-12-31    1532.0           x;y;z  \n",
       "2 2023-12-31    1532.0  5555;4444;3333  "
      ]
     },
     "execution_count": 45,
     "metadata": {},
     "output_type": "execute_result"
    }
   ],
   "source": [
    "df[df.second_col == 'Theo Dallis'].iloc[:, :10]"
   ]
  },
  {
   "cell_type": "markdown",
   "metadata": {},
   "source": [
    "## Multiple filter - AND"
   ]
  },
  {
   "cell_type": "code",
   "execution_count": 46,
   "metadata": {
    "ExecuteTime": {
     "end_time": "2021-04-09T16:38:20.895076Z",
     "start_time": "2021-04-09T16:38:20.858624Z"
    }
   },
   "outputs": [
    {
     "data": {
      "text/html": [
       "<div>\n",
       "<style scoped>\n",
       "    .dataframe tbody tr th:only-of-type {\n",
       "        vertical-align: middle;\n",
       "    }\n",
       "\n",
       "    .dataframe tbody tr th {\n",
       "        vertical-align: top;\n",
       "    }\n",
       "\n",
       "    .dataframe thead th {\n",
       "        text-align: right;\n",
       "    }\n",
       "</style>\n",
       "<table border=\"1\" class=\"dataframe\">\n",
       "  <thead>\n",
       "    <tr style=\"text-align: right;\">\n",
       "      <th></th>\n",
       "      <th>grouping</th>\n",
       "      <th>orders</th>\n",
       "      <th>description</th>\n",
       "      <th>second_col</th>\n",
       "      <th>qty</th>\n",
       "      <th>price</th>\n",
       "      <th>effective</th>\n",
       "      <th>expired</th>\n",
       "      <th>duration</th>\n",
       "      <th>delimitted_list</th>\n",
       "    </tr>\n",
       "  </thead>\n",
       "  <tbody>\n",
       "    <tr>\n",
       "      <th>1</th>\n",
       "      <td>A103</td>\n",
       "      <td>23899005</td>\n",
       "      <td>Fifth Row</td>\n",
       "      <td>Theo Dallis</td>\n",
       "      <td>19</td>\n",
       "      <td>45.8</td>\n",
       "      <td>2019-10-21</td>\n",
       "      <td>2023-12-31</td>\n",
       "      <td>1532.0</td>\n",
       "      <td>x;y;z</td>\n",
       "    </tr>\n",
       "    <tr>\n",
       "      <th>2</th>\n",
       "      <td>A103</td>\n",
       "      <td>23899012</td>\n",
       "      <td>Fifth Row</td>\n",
       "      <td>Theo Dallis</td>\n",
       "      <td>19</td>\n",
       "      <td>45.8</td>\n",
       "      <td>2019-10-21</td>\n",
       "      <td>2023-12-31</td>\n",
       "      <td>1532.0</td>\n",
       "      <td>5555;4444;3333</td>\n",
       "    </tr>\n",
       "  </tbody>\n",
       "</table>\n",
       "</div>"
      ],
      "text/plain": [
       "  grouping    orders description   second_col  qty  price  effective  \\\n",
       "1     A103  23899005   Fifth Row  Theo Dallis   19   45.8 2019-10-21   \n",
       "2     A103  23899012   Fifth Row  Theo Dallis   19   45.8 2019-10-21   \n",
       "\n",
       "     expired  duration delimitted_list  \n",
       "1 2023-12-31    1532.0           x;y;z  \n",
       "2 2023-12-31    1532.0  5555;4444;3333  "
      ]
     },
     "execution_count": 46,
     "metadata": {},
     "output_type": "execute_result"
    }
   ],
   "source": [
    "filter_1 = df.grouping == 'A103'\n",
    "filter_2 = df.second_col == 'Theo Dallis'\n",
    "\n",
    "df[filter_1 & filter_2].iloc[:, :10]"
   ]
  },
  {
   "cell_type": "markdown",
   "metadata": {},
   "source": [
    "## Multiple filter - OR"
   ]
  },
  {
   "cell_type": "code",
   "execution_count": 47,
   "metadata": {
    "ExecuteTime": {
     "end_time": "2021-04-09T16:38:21.475340Z",
     "start_time": "2021-04-09T16:38:21.455549Z"
    }
   },
   "outputs": [
    {
     "data": {
      "text/html": [
       "<div>\n",
       "<style scoped>\n",
       "    .dataframe tbody tr th:only-of-type {\n",
       "        vertical-align: middle;\n",
       "    }\n",
       "\n",
       "    .dataframe tbody tr th {\n",
       "        vertical-align: top;\n",
       "    }\n",
       "\n",
       "    .dataframe thead th {\n",
       "        text-align: right;\n",
       "    }\n",
       "</style>\n",
       "<table border=\"1\" class=\"dataframe\">\n",
       "  <thead>\n",
       "    <tr style=\"text-align: right;\">\n",
       "      <th></th>\n",
       "      <th>grouping</th>\n",
       "      <th>orders</th>\n",
       "      <th>description</th>\n",
       "      <th>second_col</th>\n",
       "      <th>qty</th>\n",
       "      <th>price</th>\n",
       "      <th>effective</th>\n",
       "      <th>expired</th>\n",
       "      <th>duration</th>\n",
       "      <th>delimitted_list</th>\n",
       "    </tr>\n",
       "  </thead>\n",
       "  <tbody>\n",
       "    <tr>\n",
       "      <th>1</th>\n",
       "      <td>A103</td>\n",
       "      <td>23899005</td>\n",
       "      <td>Fifth Row</td>\n",
       "      <td>Theo Dallis</td>\n",
       "      <td>19</td>\n",
       "      <td>45.80</td>\n",
       "      <td>2019-10-21</td>\n",
       "      <td>2023-12-31</td>\n",
       "      <td>1532.0</td>\n",
       "      <td>x;y;z</td>\n",
       "    </tr>\n",
       "    <tr>\n",
       "      <th>2</th>\n",
       "      <td>A103</td>\n",
       "      <td>23899012</td>\n",
       "      <td>Fifth Row</td>\n",
       "      <td>Theo Dallis</td>\n",
       "      <td>19</td>\n",
       "      <td>45.80</td>\n",
       "      <td>2019-10-21</td>\n",
       "      <td>2023-12-31</td>\n",
       "      <td>1532.0</td>\n",
       "      <td>5555;4444;3333</td>\n",
       "    </tr>\n",
       "    <tr>\n",
       "      <th>8</th>\n",
       "      <td>A103</td>\n",
       "      <td>23899007</td>\n",
       "      <td>Seventh Row</td>\n",
       "      <td>Tony Goddard</td>\n",
       "      <td>178</td>\n",
       "      <td>27.05</td>\n",
       "      <td>2019-10-21</td>\n",
       "      <td>2025-12-31</td>\n",
       "      <td>NaN</td>\n",
       "      <td>24th May; 18th July; 5th August</td>\n",
       "    </tr>\n",
       "    <tr>\n",
       "      <th>9</th>\n",
       "      <td>A103</td>\n",
       "      <td>23899006</td>\n",
       "      <td>Sixth Row</td>\n",
       "      <td>Derek Hunt</td>\n",
       "      <td>532</td>\n",
       "      <td>634.23</td>\n",
       "      <td>2019-04-21</td>\n",
       "      <td>2020-05-07</td>\n",
       "      <td>382.0</td>\n",
       "      <td>alpha; bravo; charlie</td>\n",
       "    </tr>\n",
       "  </tbody>\n",
       "</table>\n",
       "</div>"
      ],
      "text/plain": [
       "  grouping    orders  description    second_col  qty   price  effective  \\\n",
       "1     A103  23899005    Fifth Row   Theo Dallis   19   45.80 2019-10-21   \n",
       "2     A103  23899012    Fifth Row   Theo Dallis   19   45.80 2019-10-21   \n",
       "8     A103  23899007  Seventh Row  Tony Goddard  178   27.05 2019-10-21   \n",
       "9     A103  23899006    Sixth Row    Derek Hunt  532  634.23 2019-04-21   \n",
       "\n",
       "     expired  duration                  delimitted_list  \n",
       "1 2023-12-31    1532.0                            x;y;z  \n",
       "2 2023-12-31    1532.0                   5555;4444;3333  \n",
       "8 2025-12-31       NaN  24th May; 18th July; 5th August  \n",
       "9 2020-05-07     382.0            alpha; bravo; charlie  "
      ]
     },
     "execution_count": 47,
     "metadata": {},
     "output_type": "execute_result"
    }
   ],
   "source": [
    "filter_1 = df.grouping == 'A103'\n",
    "filter_2 = df.second_col == 'Theo Dallis'\n",
    "\n",
    "df[filter_1 | filter_2].iloc[:, :10]"
   ]
  },
  {
   "cell_type": "markdown",
   "metadata": {},
   "source": [
    "## str.extractall()"
   ]
  },
  {
   "cell_type": "code",
   "execution_count": 48,
   "metadata": {
    "ExecuteTime": {
     "end_time": "2021-04-09T16:38:21.901230Z",
     "start_time": "2021-04-09T16:38:21.877730Z"
    }
   },
   "outputs": [
    {
     "data": {
      "text/html": [
       "<div>\n",
       "<style scoped>\n",
       "    .dataframe tbody tr th:only-of-type {\n",
       "        vertical-align: middle;\n",
       "    }\n",
       "\n",
       "    .dataframe tbody tr th {\n",
       "        vertical-align: top;\n",
       "    }\n",
       "\n",
       "    .dataframe thead th {\n",
       "        text-align: right;\n",
       "    }\n",
       "</style>\n",
       "<table border=\"1\" class=\"dataframe\">\n",
       "  <thead>\n",
       "    <tr style=\"text-align: right;\">\n",
       "      <th></th>\n",
       "      <th></th>\n",
       "      <th>0</th>\n",
       "      <th>1</th>\n",
       "    </tr>\n",
       "    <tr>\n",
       "      <th></th>\n",
       "      <th>match</th>\n",
       "      <th></th>\n",
       "      <th></th>\n",
       "    </tr>\n",
       "  </thead>\n",
       "  <tbody>\n",
       "    <tr>\n",
       "      <th>1</th>\n",
       "      <th>0</th>\n",
       "      <td>Theo</td>\n",
       "      <td>Dallis</td>\n",
       "    </tr>\n",
       "    <tr>\n",
       "      <th>2</th>\n",
       "      <th>0</th>\n",
       "      <td>Theo</td>\n",
       "      <td>Dallis</td>\n",
       "    </tr>\n",
       "    <tr>\n",
       "      <th>3</th>\n",
       "      <th>0</th>\n",
       "      <td>Aidan</td>\n",
       "      <td>Scally</td>\n",
       "    </tr>\n",
       "  </tbody>\n",
       "</table>\n",
       "</div>"
      ],
      "text/plain": [
       "             0       1\n",
       "  match               \n",
       "1 0       Theo  Dallis\n",
       "2 0       Theo  Dallis\n",
       "3 0      Aidan  Scally"
      ]
     },
     "execution_count": 48,
     "metadata": {},
     "output_type": "execute_result"
    }
   ],
   "source": [
    "df.second_col.str.extractall('(Theo|Aidan) (\\w+)', flags=re.I)"
   ]
  },
  {
   "cell_type": "markdown",
   "metadata": {},
   "source": [
    "## str.findall()"
   ]
  },
  {
   "cell_type": "code",
   "execution_count": 49,
   "metadata": {
    "ExecuteTime": {
     "end_time": "2021-04-09T16:38:22.295707Z",
     "start_time": "2021-04-09T16:38:22.277948Z"
    }
   },
   "outputs": [
    {
     "data": {
      "text/plain": [
       "0           []\n",
       "1           []\n",
       "2           []\n",
       "3           []\n",
       "4     [Fourth]\n",
       "5     [Fourth]\n",
       "6           []\n",
       "7           []\n",
       "8           []\n",
       "9           []\n",
       "10          []\n",
       "11          []\n",
       "Name: description, dtype: object"
      ]
     },
     "execution_count": 49,
     "metadata": {},
     "output_type": "execute_result"
    }
   ],
   "source": [
    "df.description.str.findall('fourth', flags=re.I)"
   ]
  },
  {
   "cell_type": "markdown",
   "metadata": {},
   "source": [
    "## str.match()"
   ]
  },
  {
   "cell_type": "code",
   "execution_count": 50,
   "metadata": {
    "ExecuteTime": {
     "end_time": "2021-04-09T16:38:22.725787Z",
     "start_time": "2021-04-09T16:38:22.690830Z"
    }
   },
   "outputs": [
    {
     "data": {
      "text/html": [
       "<div>\n",
       "<style scoped>\n",
       "    .dataframe tbody tr th:only-of-type {\n",
       "        vertical-align: middle;\n",
       "    }\n",
       "\n",
       "    .dataframe tbody tr th {\n",
       "        vertical-align: top;\n",
       "    }\n",
       "\n",
       "    .dataframe thead th {\n",
       "        text-align: right;\n",
       "    }\n",
       "</style>\n",
       "<table border=\"1\" class=\"dataframe\">\n",
       "  <thead>\n",
       "    <tr style=\"text-align: right;\">\n",
       "      <th></th>\n",
       "      <th>grouping</th>\n",
       "      <th>orders</th>\n",
       "      <th>description</th>\n",
       "      <th>second_col</th>\n",
       "      <th>qty</th>\n",
       "      <th>price</th>\n",
       "      <th>effective</th>\n",
       "      <th>expired</th>\n",
       "      <th>duration</th>\n",
       "      <th>delimitted_list</th>\n",
       "    </tr>\n",
       "  </thead>\n",
       "  <tbody>\n",
       "    <tr>\n",
       "      <th>2</th>\n",
       "      <td>A103</td>\n",
       "      <td>23899012</td>\n",
       "      <td>Fifth Row</td>\n",
       "      <td>Theo Dallis</td>\n",
       "      <td>19</td>\n",
       "      <td>45.8</td>\n",
       "      <td>2019-10-21</td>\n",
       "      <td>2023-12-31</td>\n",
       "      <td>1532.0</td>\n",
       "      <td>5555;4444;3333</td>\n",
       "    </tr>\n",
       "  </tbody>\n",
       "</table>\n",
       "</div>"
      ],
      "text/plain": [
       "  grouping    orders description   second_col  qty  price  effective  \\\n",
       "2     A103  23899012   Fifth Row  Theo Dallis   19   45.8 2019-10-21   \n",
       "\n",
       "     expired  duration delimitted_list  \n",
       "2 2023-12-31    1532.0  5555;4444;3333  "
      ]
     },
     "execution_count": 50,
     "metadata": {},
     "output_type": "execute_result"
    }
   ],
   "source": [
    "df[df.delimitted_list.str.match('55')].iloc[:, :10]"
   ]
  },
  {
   "cell_type": "code",
   "execution_count": 51,
   "metadata": {
    "ExecuteTime": {
     "end_time": "2021-04-09T16:38:22.954399Z",
     "start_time": "2021-04-09T16:38:22.920833Z"
    }
   },
   "outputs": [
    {
     "data": {
      "text/html": [
       "<div>\n",
       "<style scoped>\n",
       "    .dataframe tbody tr th:only-of-type {\n",
       "        vertical-align: middle;\n",
       "    }\n",
       "\n",
       "    .dataframe tbody tr th {\n",
       "        vertical-align: top;\n",
       "    }\n",
       "\n",
       "    .dataframe thead th {\n",
       "        text-align: right;\n",
       "    }\n",
       "</style>\n",
       "<table border=\"1\" class=\"dataframe\">\n",
       "  <thead>\n",
       "    <tr style=\"text-align: right;\">\n",
       "      <th></th>\n",
       "      <th>grouping</th>\n",
       "      <th>orders</th>\n",
       "      <th>description</th>\n",
       "      <th>second_col</th>\n",
       "      <th>qty</th>\n",
       "      <th>price</th>\n",
       "      <th>effective</th>\n",
       "      <th>expired</th>\n",
       "      <th>duration</th>\n",
       "      <th>delimitted_list</th>\n",
       "      <th>list_1</th>\n",
       "      <th>list_2</th>\n",
       "      <th>list_3</th>\n",
       "      <th>combined_listcol</th>\n",
       "      <th>duplicate</th>\n",
       "      <th>X8</th>\n",
       "    </tr>\n",
       "  </thead>\n",
       "  <tbody>\n",
       "    <tr>\n",
       "      <th>1</th>\n",
       "      <td>A103</td>\n",
       "      <td>23899005</td>\n",
       "      <td>Fifth Row</td>\n",
       "      <td>Theo Dallis</td>\n",
       "      <td>19</td>\n",
       "      <td>45.80</td>\n",
       "      <td>2019-10-21</td>\n",
       "      <td>2023-12-31</td>\n",
       "      <td>1532.0</td>\n",
       "      <td>x;y;z</td>\n",
       "      <td>x</td>\n",
       "      <td>y</td>\n",
       "      <td>z</td>\n",
       "      <td>[x, y, z]</td>\n",
       "      <td>True</td>\n",
       "      <td>=CONCATENATE(A3, B3, C3)</td>\n",
       "    </tr>\n",
       "    <tr>\n",
       "      <th>2</th>\n",
       "      <td>A103</td>\n",
       "      <td>23899012</td>\n",
       "      <td>Fifth Row</td>\n",
       "      <td>Theo Dallis</td>\n",
       "      <td>19</td>\n",
       "      <td>45.80</td>\n",
       "      <td>2019-10-21</td>\n",
       "      <td>2023-12-31</td>\n",
       "      <td>1532.0</td>\n",
       "      <td>5555;4444;3333</td>\n",
       "      <td>5555</td>\n",
       "      <td>4444</td>\n",
       "      <td>3333</td>\n",
       "      <td>[5555, 4444, 3333]</td>\n",
       "      <td>True</td>\n",
       "      <td>=CONCATENATE(A4, B4, C4)</td>\n",
       "    </tr>\n",
       "    <tr>\n",
       "      <th>3</th>\n",
       "      <td>A100</td>\n",
       "      <td>23899001</td>\n",
       "      <td>First Row</td>\n",
       "      <td>Aidan Scally</td>\n",
       "      <td>14</td>\n",
       "      <td>1.23</td>\n",
       "      <td>2015-10-21</td>\n",
       "      <td>2019-12-31</td>\n",
       "      <td>1532.0</td>\n",
       "      <td>123;456;789</td>\n",
       "      <td>123</td>\n",
       "      <td>456</td>\n",
       "      <td>789</td>\n",
       "      <td>[123, 456, 789]</td>\n",
       "      <td>False</td>\n",
       "      <td>=CONCATENATE(A5, B5, C5)</td>\n",
       "    </tr>\n",
       "  </tbody>\n",
       "</table>\n",
       "</div>"
      ],
      "text/plain": [
       "  grouping    orders description    second_col  qty  price  effective  \\\n",
       "1     A103  23899005   Fifth Row   Theo Dallis   19  45.80 2019-10-21   \n",
       "2     A103  23899012   Fifth Row   Theo Dallis   19  45.80 2019-10-21   \n",
       "3     A100  23899001   First Row  Aidan Scally   14   1.23 2015-10-21   \n",
       "\n",
       "     expired  duration delimitted_list list_1 list_2 list_3  \\\n",
       "1 2023-12-31    1532.0           x;y;z      x      y      z   \n",
       "2 2023-12-31    1532.0  5555;4444;3333   5555   4444   3333   \n",
       "3 2019-12-31    1532.0     123;456;789    123    456    789   \n",
       "\n",
       "     combined_listcol  duplicate                        X8  \n",
       "1           [x, y, z]       True  =CONCATENATE(A3, B3, C3)  \n",
       "2  [5555, 4444, 3333]       True  =CONCATENATE(A4, B4, C4)  \n",
       "3     [123, 456, 789]      False  =CONCATENATE(A5, B5, C5)  "
      ]
     },
     "execution_count": 51,
     "metadata": {},
     "output_type": "execute_result"
    }
   ],
   "source": [
    "df[df.description.str.match('(first|fifth)', flags=re.I)]"
   ]
  },
  {
   "cell_type": "markdown",
   "metadata": {},
   "source": [
    "## str.contains()"
   ]
  },
  {
   "cell_type": "code",
   "execution_count": 52,
   "metadata": {
    "ExecuteTime": {
     "end_time": "2021-04-09T16:38:23.575325Z",
     "start_time": "2021-04-09T16:38:23.555270Z"
    }
   },
   "outputs": [
    {
     "data": {
      "text/html": [
       "<div>\n",
       "<style scoped>\n",
       "    .dataframe tbody tr th:only-of-type {\n",
       "        vertical-align: middle;\n",
       "    }\n",
       "\n",
       "    .dataframe tbody tr th {\n",
       "        vertical-align: top;\n",
       "    }\n",
       "\n",
       "    .dataframe thead th {\n",
       "        text-align: right;\n",
       "    }\n",
       "</style>\n",
       "<table border=\"1\" class=\"dataframe\">\n",
       "  <thead>\n",
       "    <tr style=\"text-align: right;\">\n",
       "      <th></th>\n",
       "      <th>grouping</th>\n",
       "      <th>orders</th>\n",
       "      <th>description</th>\n",
       "      <th>second_col</th>\n",
       "      <th>qty</th>\n",
       "      <th>price</th>\n",
       "      <th>effective</th>\n",
       "      <th>expired</th>\n",
       "      <th>duration</th>\n",
       "      <th>delimitted_list</th>\n",
       "    </tr>\n",
       "  </thead>\n",
       "  <tbody>\n",
       "    <tr>\n",
       "      <th>1</th>\n",
       "      <td>A103</td>\n",
       "      <td>23899005</td>\n",
       "      <td>Fifth Row</td>\n",
       "      <td>Theo Dallis</td>\n",
       "      <td>19</td>\n",
       "      <td>45.80</td>\n",
       "      <td>2019-10-21</td>\n",
       "      <td>2023-12-31</td>\n",
       "      <td>1532.0</td>\n",
       "      <td>x;y;z</td>\n",
       "    </tr>\n",
       "    <tr>\n",
       "      <th>2</th>\n",
       "      <td>A103</td>\n",
       "      <td>23899012</td>\n",
       "      <td>Fifth Row</td>\n",
       "      <td>Theo Dallis</td>\n",
       "      <td>19</td>\n",
       "      <td>45.80</td>\n",
       "      <td>2019-10-21</td>\n",
       "      <td>2023-12-31</td>\n",
       "      <td>1532.0</td>\n",
       "      <td>5555;4444;3333</td>\n",
       "    </tr>\n",
       "    <tr>\n",
       "      <th>8</th>\n",
       "      <td>A103</td>\n",
       "      <td>23899007</td>\n",
       "      <td>Seventh Row</td>\n",
       "      <td>Tony Goddard</td>\n",
       "      <td>178</td>\n",
       "      <td>27.05</td>\n",
       "      <td>2019-10-21</td>\n",
       "      <td>2025-12-31</td>\n",
       "      <td>NaN</td>\n",
       "      <td>24th May; 18th July; 5th August</td>\n",
       "    </tr>\n",
       "    <tr>\n",
       "      <th>9</th>\n",
       "      <td>A103</td>\n",
       "      <td>23899006</td>\n",
       "      <td>Sixth Row</td>\n",
       "      <td>Derek Hunt</td>\n",
       "      <td>532</td>\n",
       "      <td>634.23</td>\n",
       "      <td>2019-04-21</td>\n",
       "      <td>2020-05-07</td>\n",
       "      <td>382.0</td>\n",
       "      <td>alpha; bravo; charlie</td>\n",
       "    </tr>\n",
       "  </tbody>\n",
       "</table>\n",
       "</div>"
      ],
      "text/plain": [
       "  grouping    orders  description    second_col  qty   price  effective  \\\n",
       "1     A103  23899005    Fifth Row   Theo Dallis   19   45.80 2019-10-21   \n",
       "2     A103  23899012    Fifth Row   Theo Dallis   19   45.80 2019-10-21   \n",
       "8     A103  23899007  Seventh Row  Tony Goddard  178   27.05 2019-10-21   \n",
       "9     A103  23899006    Sixth Row    Derek Hunt  532  634.23 2019-04-21   \n",
       "\n",
       "     expired  duration                  delimitted_list  \n",
       "1 2023-12-31    1532.0                            x;y;z  \n",
       "2 2023-12-31    1532.0                   5555;4444;3333  \n",
       "8 2025-12-31       NaN  24th May; 18th July; 5th August  \n",
       "9 2020-05-07     382.0            alpha; bravo; charlie  "
      ]
     },
     "execution_count": 52,
     "metadata": {},
     "output_type": "execute_result"
    }
   ],
   "source": [
    "df[df.second_col.str.contains('Tony|Derek|Theo')].iloc[:, :10]"
   ]
  },
  {
   "cell_type": "markdown",
   "metadata": {},
   "source": [
    "## df.query()"
   ]
  },
  {
   "cell_type": "markdown",
   "metadata": {},
   "source": [
    "### single selection"
   ]
  },
  {
   "cell_type": "code",
   "execution_count": 53,
   "metadata": {
    "ExecuteTime": {
     "end_time": "2021-04-09T16:38:24.358342Z",
     "start_time": "2021-04-09T16:38:24.322274Z"
    }
   },
   "outputs": [
    {
     "data": {
      "text/html": [
       "<div>\n",
       "<style scoped>\n",
       "    .dataframe tbody tr th:only-of-type {\n",
       "        vertical-align: middle;\n",
       "    }\n",
       "\n",
       "    .dataframe tbody tr th {\n",
       "        vertical-align: top;\n",
       "    }\n",
       "\n",
       "    .dataframe thead th {\n",
       "        text-align: right;\n",
       "    }\n",
       "</style>\n",
       "<table border=\"1\" class=\"dataframe\">\n",
       "  <thead>\n",
       "    <tr style=\"text-align: right;\">\n",
       "      <th></th>\n",
       "      <th>grouping</th>\n",
       "      <th>orders</th>\n",
       "      <th>description</th>\n",
       "      <th>second_col</th>\n",
       "      <th>qty</th>\n",
       "      <th>price</th>\n",
       "      <th>effective</th>\n",
       "      <th>expired</th>\n",
       "      <th>duration</th>\n",
       "      <th>delimitted_list</th>\n",
       "      <th>list_1</th>\n",
       "      <th>list_2</th>\n",
       "      <th>list_3</th>\n",
       "      <th>combined_listcol</th>\n",
       "      <th>duplicate</th>\n",
       "      <th>X8</th>\n",
       "    </tr>\n",
       "  </thead>\n",
       "  <tbody>\n",
       "    <tr>\n",
       "      <th>3</th>\n",
       "      <td>A100</td>\n",
       "      <td>23899001</td>\n",
       "      <td>First Row</td>\n",
       "      <td>Aidan Scally</td>\n",
       "      <td>14</td>\n",
       "      <td>1.23</td>\n",
       "      <td>2015-10-21</td>\n",
       "      <td>2019-12-31</td>\n",
       "      <td>1532.0</td>\n",
       "      <td>123;456;789</td>\n",
       "      <td>123</td>\n",
       "      <td>456</td>\n",
       "      <td>789</td>\n",
       "      <td>[123, 456, 789]</td>\n",
       "      <td>False</td>\n",
       "      <td>=CONCATENATE(A5, B5, C5)</td>\n",
       "    </tr>\n",
       "  </tbody>\n",
       "</table>\n",
       "</div>"
      ],
      "text/plain": [
       "  grouping    orders description    second_col  qty  price  effective  \\\n",
       "3     A100  23899001   First Row  Aidan Scally   14   1.23 2015-10-21   \n",
       "\n",
       "     expired  duration delimitted_list list_1 list_2 list_3 combined_listcol  \\\n",
       "3 2019-12-31    1532.0     123;456;789    123    456    789  [123, 456, 789]   \n",
       "\n",
       "   duplicate                        X8  \n",
       "3      False  =CONCATENATE(A5, B5, C5)  "
      ]
     },
     "execution_count": 53,
     "metadata": {},
     "output_type": "execute_result"
    }
   ],
   "source": [
    "query = \"\"\" grouping == 'A100' \"\"\"\n",
    "df.query(query)"
   ]
  },
  {
   "cell_type": "markdown",
   "metadata": {},
   "source": [
    "### multiple OR"
   ]
  },
  {
   "cell_type": "code",
   "execution_count": 54,
   "metadata": {
    "ExecuteTime": {
     "end_time": "2021-04-09T16:38:24.751761Z",
     "start_time": "2021-04-09T16:38:24.705761Z"
    }
   },
   "outputs": [
    {
     "data": {
      "text/html": [
       "<div>\n",
       "<style scoped>\n",
       "    .dataframe tbody tr th:only-of-type {\n",
       "        vertical-align: middle;\n",
       "    }\n",
       "\n",
       "    .dataframe tbody tr th {\n",
       "        vertical-align: top;\n",
       "    }\n",
       "\n",
       "    .dataframe thead th {\n",
       "        text-align: right;\n",
       "    }\n",
       "</style>\n",
       "<table border=\"1\" class=\"dataframe\">\n",
       "  <thead>\n",
       "    <tr style=\"text-align: right;\">\n",
       "      <th></th>\n",
       "      <th>grouping</th>\n",
       "      <th>orders</th>\n",
       "      <th>description</th>\n",
       "      <th>second_col</th>\n",
       "      <th>qty</th>\n",
       "      <th>price</th>\n",
       "      <th>effective</th>\n",
       "      <th>expired</th>\n",
       "      <th>duration</th>\n",
       "      <th>delimitted_list</th>\n",
       "      <th>list_1</th>\n",
       "      <th>list_2</th>\n",
       "      <th>list_3</th>\n",
       "      <th>combined_listcol</th>\n",
       "      <th>duplicate</th>\n",
       "      <th>X8</th>\n",
       "    </tr>\n",
       "  </thead>\n",
       "  <tbody>\n",
       "    <tr>\n",
       "      <th>3</th>\n",
       "      <td>A100</td>\n",
       "      <td>23899001</td>\n",
       "      <td>First Row</td>\n",
       "      <td>Aidan Scally</td>\n",
       "      <td>14</td>\n",
       "      <td>1.23</td>\n",
       "      <td>2015-10-21</td>\n",
       "      <td>2019-12-31</td>\n",
       "      <td>1532.0</td>\n",
       "      <td>123;456;789</td>\n",
       "      <td>123</td>\n",
       "      <td>456</td>\n",
       "      <td>789</td>\n",
       "      <td>[123, 456, 789]</td>\n",
       "      <td>False</td>\n",
       "      <td>=CONCATENATE(A5, B5, C5)</td>\n",
       "    </tr>\n",
       "    <tr>\n",
       "      <th>7</th>\n",
       "      <td>A101</td>\n",
       "      <td>23899002</td>\n",
       "      <td>Second Row</td>\n",
       "      <td>Eoin Mcallister</td>\n",
       "      <td>103</td>\n",
       "      <td>4.32</td>\n",
       "      <td>2016-10-21</td>\n",
       "      <td>2020-12-31</td>\n",
       "      <td>1532.0</td>\n",
       "      <td>ss;11;33</td>\n",
       "      <td>ss</td>\n",
       "      <td>11</td>\n",
       "      <td>33</td>\n",
       "      <td>[ss, 11, 33]</td>\n",
       "      <td>False</td>\n",
       "      <td>=CONCATENATE(A9, B9, C9)</td>\n",
       "    </tr>\n",
       "    <tr>\n",
       "      <th>11</th>\n",
       "      <td>A101</td>\n",
       "      <td>23899003</td>\n",
       "      <td>Third Row</td>\n",
       "      <td>Mike Tarpey</td>\n",
       "      <td>1</td>\n",
       "      <td>34.32</td>\n",
       "      <td>2017-10-21</td>\n",
       "      <td>2021-12-31</td>\n",
       "      <td>1532.0</td>\n",
       "      <td>A;b;C</td>\n",
       "      <td>A</td>\n",
       "      <td>b</td>\n",
       "      <td>C</td>\n",
       "      <td>[A, b, C]</td>\n",
       "      <td>False</td>\n",
       "      <td>=CONCATENATE(A13, B13, C13)</td>\n",
       "    </tr>\n",
       "  </tbody>\n",
       "</table>\n",
       "</div>"
      ],
      "text/plain": [
       "   grouping    orders description       second_col  qty  price  effective  \\\n",
       "3      A100  23899001   First Row     Aidan Scally   14   1.23 2015-10-21   \n",
       "7      A101  23899002  Second Row  Eoin Mcallister  103   4.32 2016-10-21   \n",
       "11     A101  23899003   Third Row      Mike Tarpey    1  34.32 2017-10-21   \n",
       "\n",
       "      expired  duration delimitted_list list_1 list_2 list_3 combined_listcol  \\\n",
       "3  2019-12-31    1532.0     123;456;789    123    456    789  [123, 456, 789]   \n",
       "7  2020-12-31    1532.0        ss;11;33     ss     11     33     [ss, 11, 33]   \n",
       "11 2021-12-31    1532.0           A;b;C      A      b      C        [A, b, C]   \n",
       "\n",
       "    duplicate                           X8  \n",
       "3       False     =CONCATENATE(A5, B5, C5)  \n",
       "7       False     =CONCATENATE(A9, B9, C9)  \n",
       "11      False  =CONCATENATE(A13, B13, C13)  "
      ]
     },
     "execution_count": 54,
     "metadata": {},
     "output_type": "execute_result"
    }
   ],
   "source": [
    "query = \"\"\"(grouping == 'A101') or (second_col.str.contains('Mike Tarpey')) or (orders < 23899004) \"\"\"\n",
    "df.query(query)"
   ]
  },
  {
   "cell_type": "code",
   "execution_count": 55,
   "metadata": {
    "ExecuteTime": {
     "end_time": "2021-04-09T16:38:24.925683Z",
     "start_time": "2021-04-09T16:38:24.900468Z"
    }
   },
   "outputs": [
    {
     "data": {
      "text/html": [
       "<div>\n",
       "<style scoped>\n",
       "    .dataframe tbody tr th:only-of-type {\n",
       "        vertical-align: middle;\n",
       "    }\n",
       "\n",
       "    .dataframe tbody tr th {\n",
       "        vertical-align: top;\n",
       "    }\n",
       "\n",
       "    .dataframe thead th {\n",
       "        text-align: right;\n",
       "    }\n",
       "</style>\n",
       "<table border=\"1\" class=\"dataframe\">\n",
       "  <thead>\n",
       "    <tr style=\"text-align: right;\">\n",
       "      <th></th>\n",
       "      <th>grouping</th>\n",
       "      <th>orders</th>\n",
       "      <th>description</th>\n",
       "      <th>second_col</th>\n",
       "      <th>qty</th>\n",
       "      <th>price</th>\n",
       "      <th>effective</th>\n",
       "      <th>expired</th>\n",
       "      <th>duration</th>\n",
       "      <th>delimitted_list</th>\n",
       "      <th>list_1</th>\n",
       "      <th>list_2</th>\n",
       "      <th>list_3</th>\n",
       "      <th>combined_listcol</th>\n",
       "      <th>duplicate</th>\n",
       "      <th>X8</th>\n",
       "    </tr>\n",
       "  </thead>\n",
       "  <tbody>\n",
       "    <tr>\n",
       "      <th>3</th>\n",
       "      <td>A100</td>\n",
       "      <td>23899001</td>\n",
       "      <td>First Row</td>\n",
       "      <td>Aidan Scally</td>\n",
       "      <td>14</td>\n",
       "      <td>1.23</td>\n",
       "      <td>2015-10-21</td>\n",
       "      <td>2019-12-31</td>\n",
       "      <td>1532.0</td>\n",
       "      <td>123;456;789</td>\n",
       "      <td>123</td>\n",
       "      <td>456</td>\n",
       "      <td>789</td>\n",
       "      <td>[123, 456, 789]</td>\n",
       "      <td>False</td>\n",
       "      <td>=CONCATENATE(A5, B5, C5)</td>\n",
       "    </tr>\n",
       "    <tr>\n",
       "      <th>7</th>\n",
       "      <td>A101</td>\n",
       "      <td>23899002</td>\n",
       "      <td>Second Row</td>\n",
       "      <td>Eoin Mcallister</td>\n",
       "      <td>103</td>\n",
       "      <td>4.32</td>\n",
       "      <td>2016-10-21</td>\n",
       "      <td>2020-12-31</td>\n",
       "      <td>1532.0</td>\n",
       "      <td>ss;11;33</td>\n",
       "      <td>ss</td>\n",
       "      <td>11</td>\n",
       "      <td>33</td>\n",
       "      <td>[ss, 11, 33]</td>\n",
       "      <td>False</td>\n",
       "      <td>=CONCATENATE(A9, B9, C9)</td>\n",
       "    </tr>\n",
       "    <tr>\n",
       "      <th>11</th>\n",
       "      <td>A101</td>\n",
       "      <td>23899003</td>\n",
       "      <td>Third Row</td>\n",
       "      <td>Mike Tarpey</td>\n",
       "      <td>1</td>\n",
       "      <td>34.32</td>\n",
       "      <td>2017-10-21</td>\n",
       "      <td>2021-12-31</td>\n",
       "      <td>1532.0</td>\n",
       "      <td>A;b;C</td>\n",
       "      <td>A</td>\n",
       "      <td>b</td>\n",
       "      <td>C</td>\n",
       "      <td>[A, b, C]</td>\n",
       "      <td>False</td>\n",
       "      <td>=CONCATENATE(A13, B13, C13)</td>\n",
       "    </tr>\n",
       "  </tbody>\n",
       "</table>\n",
       "</div>"
      ],
      "text/plain": [
       "   grouping    orders description       second_col  qty  price  effective  \\\n",
       "3      A100  23899001   First Row     Aidan Scally   14   1.23 2015-10-21   \n",
       "7      A101  23899002  Second Row  Eoin Mcallister  103   4.32 2016-10-21   \n",
       "11     A101  23899003   Third Row      Mike Tarpey    1  34.32 2017-10-21   \n",
       "\n",
       "      expired  duration delimitted_list list_1 list_2 list_3 combined_listcol  \\\n",
       "3  2019-12-31    1532.0     123;456;789    123    456    789  [123, 456, 789]   \n",
       "7  2020-12-31    1532.0        ss;11;33     ss     11     33     [ss, 11, 33]   \n",
       "11 2021-12-31    1532.0           A;b;C      A      b      C        [A, b, C]   \n",
       "\n",
       "    duplicate                           X8  \n",
       "3       False     =CONCATENATE(A5, B5, C5)  \n",
       "7       False     =CONCATENATE(A9, B9, C9)  \n",
       "11      False  =CONCATENATE(A13, B13, C13)  "
      ]
     },
     "execution_count": 55,
     "metadata": {},
     "output_type": "execute_result"
    }
   ],
   "source": [
    "query = \"\"\"(grouping == 'A101') | (second_col.str.contains('Mike Tarpey')) | (orders < 23899004) \"\"\"\n",
    "df.query(query)"
   ]
  },
  {
   "cell_type": "markdown",
   "metadata": {},
   "source": [
    "### multiple AND / OR with substitutional variables"
   ]
  },
  {
   "cell_type": "code",
   "execution_count": 56,
   "metadata": {
    "ExecuteTime": {
     "end_time": "2021-04-09T16:38:25.465746Z",
     "start_time": "2021-04-09T16:38:25.416288Z"
    }
   },
   "outputs": [
    {
     "data": {
      "text/html": [
       "<div>\n",
       "<style scoped>\n",
       "    .dataframe tbody tr th:only-of-type {\n",
       "        vertical-align: middle;\n",
       "    }\n",
       "\n",
       "    .dataframe tbody tr th {\n",
       "        vertical-align: top;\n",
       "    }\n",
       "\n",
       "    .dataframe thead th {\n",
       "        text-align: right;\n",
       "    }\n",
       "</style>\n",
       "<table border=\"1\" class=\"dataframe\">\n",
       "  <thead>\n",
       "    <tr style=\"text-align: right;\">\n",
       "      <th></th>\n",
       "      <th>grouping</th>\n",
       "      <th>orders</th>\n",
       "      <th>description</th>\n",
       "      <th>second_col</th>\n",
       "      <th>qty</th>\n",
       "      <th>price</th>\n",
       "      <th>effective</th>\n",
       "      <th>expired</th>\n",
       "      <th>duration</th>\n",
       "      <th>delimitted_list</th>\n",
       "      <th>list_1</th>\n",
       "      <th>list_2</th>\n",
       "      <th>list_3</th>\n",
       "      <th>combined_listcol</th>\n",
       "      <th>duplicate</th>\n",
       "      <th>X8</th>\n",
       "    </tr>\n",
       "  </thead>\n",
       "  <tbody>\n",
       "    <tr>\n",
       "      <th>0</th>\n",
       "      <td>A103</td>\n",
       "      <td>23899005</td>\n",
       "      <td>Fifth Row</td>\n",
       "      <td>Theo Dallis</td>\n",
       "      <td>19</td>\n",
       "      <td>45.80</td>\n",
       "      <td>2019-10-21</td>\n",
       "      <td>2023-12-31</td>\n",
       "      <td>1532.0</td>\n",
       "      <td>x;y;z</td>\n",
       "      <td>x</td>\n",
       "      <td>y</td>\n",
       "      <td>z</td>\n",
       "      <td>[x, y, z]</td>\n",
       "      <td>True</td>\n",
       "      <td>=CONCATENATE(A3, B3, C3)</td>\n",
       "    </tr>\n",
       "    <tr>\n",
       "      <th>1</th>\n",
       "      <td>A103</td>\n",
       "      <td>23899012</td>\n",
       "      <td>Fifth Row</td>\n",
       "      <td>Theo Dallis</td>\n",
       "      <td>19</td>\n",
       "      <td>45.80</td>\n",
       "      <td>2019-10-21</td>\n",
       "      <td>2023-12-31</td>\n",
       "      <td>1532.0</td>\n",
       "      <td>5555;4444;3333</td>\n",
       "      <td>5555</td>\n",
       "      <td>4444</td>\n",
       "      <td>3333</td>\n",
       "      <td>[5555, 4444, 3333]</td>\n",
       "      <td>True</td>\n",
       "      <td>=CONCATENATE(A4, B4, C4)</td>\n",
       "    </tr>\n",
       "    <tr>\n",
       "      <th>2</th>\n",
       "      <td>A100</td>\n",
       "      <td>23899001</td>\n",
       "      <td>First Row</td>\n",
       "      <td>Aidan Scally</td>\n",
       "      <td>14</td>\n",
       "      <td>1.23</td>\n",
       "      <td>2015-10-21</td>\n",
       "      <td>2019-12-31</td>\n",
       "      <td>1532.0</td>\n",
       "      <td>123;456;789</td>\n",
       "      <td>123</td>\n",
       "      <td>456</td>\n",
       "      <td>789</td>\n",
       "      <td>[123, 456, 789]</td>\n",
       "      <td>False</td>\n",
       "      <td>=CONCATENATE(A5, B5, C5)</td>\n",
       "    </tr>\n",
       "    <tr>\n",
       "      <th>3</th>\n",
       "      <td>A102</td>\n",
       "      <td>23899004</td>\n",
       "      <td>Fourth Row</td>\n",
       "      <td>Alan Denton</td>\n",
       "      <td>13</td>\n",
       "      <td>49.00</td>\n",
       "      <td>2018-10-21</td>\n",
       "      <td>2022-12-31</td>\n",
       "      <td>1532.0</td>\n",
       "      <td>cat;dog;books</td>\n",
       "      <td>cat</td>\n",
       "      <td>dog</td>\n",
       "      <td>books</td>\n",
       "      <td>[cat, dog, books]</td>\n",
       "      <td>True</td>\n",
       "      <td>=CONCATENATE(A6, B6, C6)</td>\n",
       "    </tr>\n",
       "    <tr>\n",
       "      <th>4</th>\n",
       "      <td>A102</td>\n",
       "      <td>23899011</td>\n",
       "      <td>Fourth Row</td>\n",
       "      <td>Alan Denton</td>\n",
       "      <td>13</td>\n",
       "      <td>49.00</td>\n",
       "      <td>2018-10-21</td>\n",
       "      <td>2022-12-31</td>\n",
       "      <td>1532.0</td>\n",
       "      <td>d20;tg54;kde40</td>\n",
       "      <td>d20</td>\n",
       "      <td>tg54</td>\n",
       "      <td>kde40</td>\n",
       "      <td>[d20, tg54, kde40]</td>\n",
       "      <td>True</td>\n",
       "      <td>=CONCATENATE(A7, B7, C7)</td>\n",
       "    </tr>\n",
       "    <tr>\n",
       "      <th>5</th>\n",
       "      <td>A105</td>\n",
       "      <td>23899009</td>\n",
       "      <td>Ninth Row</td>\n",
       "      <td>Carsten Seiffert</td>\n",
       "      <td>24</td>\n",
       "      <td>98.00</td>\n",
       "      <td>2018-05-21</td>\n",
       "      <td>2025-12-10</td>\n",
       "      <td>2760.0</td>\n",
       "      <td>1304;53-02;6932</td>\n",
       "      <td>1304</td>\n",
       "      <td>53-02</td>\n",
       "      <td>6932</td>\n",
       "      <td>[1304, 53-02, 6932]</td>\n",
       "      <td>False</td>\n",
       "      <td>=CONCATENATE(A8, B8, C8)</td>\n",
       "    </tr>\n",
       "    <tr>\n",
       "      <th>6</th>\n",
       "      <td>A101</td>\n",
       "      <td>23899002</td>\n",
       "      <td>Second Row</td>\n",
       "      <td>Eoin Mcallister</td>\n",
       "      <td>103</td>\n",
       "      <td>4.32</td>\n",
       "      <td>2016-10-21</td>\n",
       "      <td>2020-12-31</td>\n",
       "      <td>1532.0</td>\n",
       "      <td>ss;11;33</td>\n",
       "      <td>ss</td>\n",
       "      <td>11</td>\n",
       "      <td>33</td>\n",
       "      <td>[ss, 11, 33]</td>\n",
       "      <td>False</td>\n",
       "      <td>=CONCATENATE(A9, B9, C9)</td>\n",
       "    </tr>\n",
       "    <tr>\n",
       "      <th>7</th>\n",
       "      <td>A103</td>\n",
       "      <td>23899007</td>\n",
       "      <td>Seventh Row</td>\n",
       "      <td>Tony Goddard</td>\n",
       "      <td>178</td>\n",
       "      <td>27.05</td>\n",
       "      <td>2019-10-21</td>\n",
       "      <td>2025-12-31</td>\n",
       "      <td>NaN</td>\n",
       "      <td>24th May; 18th July; 5th August</td>\n",
       "      <td>24th May</td>\n",
       "      <td>18th July</td>\n",
       "      <td>5th August</td>\n",
       "      <td>[24th May,  18th July,  5th August]</td>\n",
       "      <td>False</td>\n",
       "      <td>=CONCATENATE(A10, B10, C10)</td>\n",
       "    </tr>\n",
       "    <tr>\n",
       "      <th>8</th>\n",
       "      <td>A103</td>\n",
       "      <td>23899006</td>\n",
       "      <td>Sixth Row</td>\n",
       "      <td>Derek Hunt</td>\n",
       "      <td>532</td>\n",
       "      <td>634.23</td>\n",
       "      <td>2019-04-21</td>\n",
       "      <td>2020-05-07</td>\n",
       "      <td>382.0</td>\n",
       "      <td>alpha; bravo; charlie</td>\n",
       "      <td>alpha</td>\n",
       "      <td>bravo</td>\n",
       "      <td>charlie</td>\n",
       "      <td>[alpha,  bravo,  charlie]</td>\n",
       "      <td>False</td>\n",
       "      <td>=CONCATENATE(A11, B11, C11)</td>\n",
       "    </tr>\n",
       "    <tr>\n",
       "      <th>9</th>\n",
       "      <td>A101</td>\n",
       "      <td>23899003</td>\n",
       "      <td>Third Row</td>\n",
       "      <td>Mike Tarpey</td>\n",
       "      <td>1</td>\n",
       "      <td>34.32</td>\n",
       "      <td>2017-10-21</td>\n",
       "      <td>2021-12-31</td>\n",
       "      <td>1532.0</td>\n",
       "      <td>A;b;C</td>\n",
       "      <td>A</td>\n",
       "      <td>b</td>\n",
       "      <td>C</td>\n",
       "      <td>[A, b, C]</td>\n",
       "      <td>False</td>\n",
       "      <td>=CONCATENATE(A13, B13, C13)</td>\n",
       "    </tr>\n",
       "  </tbody>\n",
       "</table>\n",
       "</div>"
      ],
      "text/plain": [
       "  grouping    orders  description        second_col  qty   price  effective  \\\n",
       "0     A103  23899005    Fifth Row       Theo Dallis   19   45.80 2019-10-21   \n",
       "1     A103  23899012    Fifth Row       Theo Dallis   19   45.80 2019-10-21   \n",
       "2     A100  23899001    First Row      Aidan Scally   14    1.23 2015-10-21   \n",
       "3     A102  23899004   Fourth Row       Alan Denton   13   49.00 2018-10-21   \n",
       "4     A102  23899011   Fourth Row       Alan Denton   13   49.00 2018-10-21   \n",
       "5     A105  23899009    Ninth Row  Carsten Seiffert   24   98.00 2018-05-21   \n",
       "6     A101  23899002   Second Row   Eoin Mcallister  103    4.32 2016-10-21   \n",
       "7     A103  23899007  Seventh Row      Tony Goddard  178   27.05 2019-10-21   \n",
       "8     A103  23899006    Sixth Row        Derek Hunt  532  634.23 2019-04-21   \n",
       "9     A101  23899003    Third Row       Mike Tarpey    1   34.32 2017-10-21   \n",
       "\n",
       "     expired  duration                  delimitted_list    list_1      list_2  \\\n",
       "0 2023-12-31    1532.0                            x;y;z         x           y   \n",
       "1 2023-12-31    1532.0                   5555;4444;3333      5555        4444   \n",
       "2 2019-12-31    1532.0                      123;456;789       123         456   \n",
       "3 2022-12-31    1532.0                    cat;dog;books       cat         dog   \n",
       "4 2022-12-31    1532.0                   d20;tg54;kde40       d20        tg54   \n",
       "5 2025-12-10    2760.0                  1304;53-02;6932      1304       53-02   \n",
       "6 2020-12-31    1532.0                         ss;11;33        ss          11   \n",
       "7 2025-12-31       NaN  24th May; 18th July; 5th August  24th May   18th July   \n",
       "8 2020-05-07     382.0            alpha; bravo; charlie     alpha       bravo   \n",
       "9 2021-12-31    1532.0                            A;b;C         A           b   \n",
       "\n",
       "        list_3                     combined_listcol  duplicate  \\\n",
       "0            z                            [x, y, z]       True   \n",
       "1         3333                   [5555, 4444, 3333]       True   \n",
       "2          789                      [123, 456, 789]      False   \n",
       "3        books                    [cat, dog, books]       True   \n",
       "4        kde40                   [d20, tg54, kde40]       True   \n",
       "5         6932                  [1304, 53-02, 6932]      False   \n",
       "6           33                         [ss, 11, 33]      False   \n",
       "7   5th August  [24th May,  18th July,  5th August]      False   \n",
       "8      charlie            [alpha,  bravo,  charlie]      False   \n",
       "9            C                            [A, b, C]      False   \n",
       "\n",
       "                            X8  \n",
       "0     =CONCATENATE(A3, B3, C3)  \n",
       "1     =CONCATENATE(A4, B4, C4)  \n",
       "2     =CONCATENATE(A5, B5, C5)  \n",
       "3     =CONCATENATE(A6, B6, C6)  \n",
       "4     =CONCATENATE(A7, B7, C7)  \n",
       "5     =CONCATENATE(A8, B8, C8)  \n",
       "6     =CONCATENATE(A9, B9, C9)  \n",
       "7  =CONCATENATE(A10, B10, C10)  \n",
       "8  =CONCATENATE(A11, B11, C11)  \n",
       "9  =CONCATENATE(A13, B13, C13)  "
      ]
     },
     "execution_count": 56,
     "metadata": {},
     "output_type": "execute_result"
    }
   ],
   "source": [
    "list_of_groups = ['A100', 'A101', 'A103']\n",
    "duration_criteria = 380\n",
    "\n",
    "query = \"\"\"(grouping in @list_of_groups) and\\\n",
    "           (~second_col.str.startswith('Theo')) or\\\n",
    "           (duration >= @duration_criteria) \n",
    "        \"\"\"\n",
    "df.query(query).reset_index(drop=True)"
   ]
  },
  {
   "cell_type": "markdown",
   "metadata": {},
   "source": [
    "## df.loc[]"
   ]
  },
  {
   "cell_type": "code",
   "execution_count": 57,
   "metadata": {
    "ExecuteTime": {
     "end_time": "2021-04-09T16:38:25.827420Z",
     "start_time": "2021-04-09T16:38:25.813740Z"
    }
   },
   "outputs": [
    {
     "data": {
      "text/html": [
       "<div>\n",
       "<style scoped>\n",
       "    .dataframe tbody tr th:only-of-type {\n",
       "        vertical-align: middle;\n",
       "    }\n",
       "\n",
       "    .dataframe tbody tr th {\n",
       "        vertical-align: top;\n",
       "    }\n",
       "\n",
       "    .dataframe thead th {\n",
       "        text-align: right;\n",
       "    }\n",
       "</style>\n",
       "<table border=\"1\" class=\"dataframe\">\n",
       "  <thead>\n",
       "    <tr style=\"text-align: right;\">\n",
       "      <th></th>\n",
       "      <th>second_col</th>\n",
       "      <th>effective</th>\n",
       "      <th>expired</th>\n",
       "    </tr>\n",
       "  </thead>\n",
       "  <tbody>\n",
       "    <tr>\n",
       "      <th>4</th>\n",
       "      <td>Alan Denton</td>\n",
       "      <td>2018-10-21</td>\n",
       "      <td>2022-12-31</td>\n",
       "    </tr>\n",
       "    <tr>\n",
       "      <th>5</th>\n",
       "      <td>Alan Denton</td>\n",
       "      <td>2018-10-21</td>\n",
       "      <td>2022-12-31</td>\n",
       "    </tr>\n",
       "  </tbody>\n",
       "</table>\n",
       "</div>"
      ],
      "text/plain": [
       "    second_col  effective    expired\n",
       "4  Alan Denton 2018-10-21 2022-12-31\n",
       "5  Alan Denton 2018-10-21 2022-12-31"
      ]
     },
     "execution_count": 57,
     "metadata": {},
     "output_type": "execute_result"
    }
   ],
   "source": [
    "subset_cols = ['second_col', 'effective', 'expired']\n",
    "df.loc[df['second_col'] == 'Alan Denton', subset_cols]"
   ]
  },
  {
   "cell_type": "code",
   "execution_count": 58,
   "metadata": {
    "ExecuteTime": {
     "end_time": "2021-04-09T16:38:26.063367Z",
     "start_time": "2021-04-09T16:38:26.031027Z"
    }
   },
   "outputs": [
    {
     "data": {
      "text/html": [
       "<div>\n",
       "<style scoped>\n",
       "    .dataframe tbody tr th:only-of-type {\n",
       "        vertical-align: middle;\n",
       "    }\n",
       "\n",
       "    .dataframe tbody tr th {\n",
       "        vertical-align: top;\n",
       "    }\n",
       "\n",
       "    .dataframe thead th {\n",
       "        text-align: right;\n",
       "    }\n",
       "</style>\n",
       "<table border=\"1\" class=\"dataframe\">\n",
       "  <thead>\n",
       "    <tr style=\"text-align: right;\">\n",
       "      <th></th>\n",
       "      <th>orders</th>\n",
       "      <th>description</th>\n",
       "      <th>second_col</th>\n",
       "      <th>qty</th>\n",
       "      <th>price</th>\n",
       "      <th>effective</th>\n",
       "      <th>expired</th>\n",
       "      <th>duration</th>\n",
       "    </tr>\n",
       "  </thead>\n",
       "  <tbody>\n",
       "    <tr>\n",
       "      <th>4</th>\n",
       "      <td>23899004</td>\n",
       "      <td>Fourth Row</td>\n",
       "      <td>Alan Denton</td>\n",
       "      <td>13</td>\n",
       "      <td>49.0</td>\n",
       "      <td>2018-10-21</td>\n",
       "      <td>2022-12-31</td>\n",
       "      <td>1532.0</td>\n",
       "    </tr>\n",
       "    <tr>\n",
       "      <th>5</th>\n",
       "      <td>23899011</td>\n",
       "      <td>Fourth Row</td>\n",
       "      <td>Alan Denton</td>\n",
       "      <td>13</td>\n",
       "      <td>49.0</td>\n",
       "      <td>2018-10-21</td>\n",
       "      <td>2022-12-31</td>\n",
       "      <td>1532.0</td>\n",
       "    </tr>\n",
       "  </tbody>\n",
       "</table>\n",
       "</div>"
      ],
      "text/plain": [
       "     orders description   second_col  qty  price  effective    expired  \\\n",
       "4  23899004  Fourth Row  Alan Denton   13   49.0 2018-10-21 2022-12-31   \n",
       "5  23899011  Fourth Row  Alan Denton   13   49.0 2018-10-21 2022-12-31   \n",
       "\n",
       "   duration  \n",
       "4    1532.0  \n",
       "5    1532.0  "
      ]
     },
     "execution_count": 58,
     "metadata": {},
     "output_type": "execute_result"
    }
   ],
   "source": [
    "df.loc[df['second_col'] == 'Alan Denton', 'orders':'duration']"
   ]
  },
  {
   "cell_type": "markdown",
   "metadata": {},
   "source": [
    "# DataFrame - Testing "
   ]
  },
  {
   "cell_type": "markdown",
   "metadata": {},
   "source": [
    "## selecting columns"
   ]
  },
  {
   "cell_type": "code",
   "execution_count": 59,
   "metadata": {
    "ExecuteTime": {
     "end_time": "2021-04-09T16:38:26.765266Z",
     "start_time": "2021-04-09T16:38:26.715175Z"
    }
   },
   "outputs": [
    {
     "data": {
      "text/html": [
       "<div>\n",
       "<style scoped>\n",
       "    .dataframe tbody tr th:only-of-type {\n",
       "        vertical-align: middle;\n",
       "    }\n",
       "\n",
       "    .dataframe tbody tr th {\n",
       "        vertical-align: top;\n",
       "    }\n",
       "\n",
       "    .dataframe thead th {\n",
       "        text-align: right;\n",
       "    }\n",
       "</style>\n",
       "<table border=\"1\" class=\"dataframe\">\n",
       "  <thead>\n",
       "    <tr style=\"text-align: right;\">\n",
       "      <th></th>\n",
       "      <th>count</th>\n",
       "      <th>mean</th>\n",
       "      <th>std</th>\n",
       "      <th>min</th>\n",
       "      <th>25%</th>\n",
       "      <th>50%</th>\n",
       "      <th>75%</th>\n",
       "      <th>max</th>\n",
       "    </tr>\n",
       "  </thead>\n",
       "  <tbody>\n",
       "    <tr>\n",
       "      <th>orders</th>\n",
       "      <td>12.0</td>\n",
       "      <td>2.389901e+07</td>\n",
       "      <td>3.605551</td>\n",
       "      <td>23899001.00</td>\n",
       "      <td>2.389900e+07</td>\n",
       "      <td>23899006.5</td>\n",
       "      <td>2.389901e+07</td>\n",
       "      <td>23899012.00</td>\n",
       "    </tr>\n",
       "    <tr>\n",
       "      <th>qty</th>\n",
       "      <td>12.0</td>\n",
       "      <td>2.616667e+02</td>\n",
       "      <td>515.689535</td>\n",
       "      <td>1.00</td>\n",
       "      <td>1.375000e+01</td>\n",
       "      <td>21.5</td>\n",
       "      <td>2.395000e+02</td>\n",
       "      <td>1800.00</td>\n",
       "    </tr>\n",
       "    <tr>\n",
       "      <th>price</th>\n",
       "      <td>12.0</td>\n",
       "      <td>1.340042e+02</td>\n",
       "      <td>218.971149</td>\n",
       "      <td>1.23</td>\n",
       "      <td>3.250250e+01</td>\n",
       "      <td>47.4</td>\n",
       "      <td>6.672500e+01</td>\n",
       "      <td>634.23</td>\n",
       "    </tr>\n",
       "    <tr>\n",
       "      <th>duration</th>\n",
       "      <td>9.0</td>\n",
       "      <td>1.540667e+03</td>\n",
       "      <td>594.748686</td>\n",
       "      <td>382.00</td>\n",
       "      <td>1.532000e+03</td>\n",
       "      <td>1532.0</td>\n",
       "      <td>1.532000e+03</td>\n",
       "      <td>2760.00</td>\n",
       "    </tr>\n",
       "  </tbody>\n",
       "</table>\n",
       "</div>"
      ],
      "text/plain": [
       "          count          mean         std          min           25%  \\\n",
       "orders     12.0  2.389901e+07    3.605551  23899001.00  2.389900e+07   \n",
       "qty        12.0  2.616667e+02  515.689535         1.00  1.375000e+01   \n",
       "price      12.0  1.340042e+02  218.971149         1.23  3.250250e+01   \n",
       "duration    9.0  1.540667e+03  594.748686       382.00  1.532000e+03   \n",
       "\n",
       "                 50%           75%          max  \n",
       "orders    23899006.5  2.389901e+07  23899012.00  \n",
       "qty             21.5  2.395000e+02      1800.00  \n",
       "price           47.4  6.672500e+01       634.23  \n",
       "duration      1532.0  1.532000e+03      2760.00  "
      ]
     },
     "execution_count": 59,
     "metadata": {},
     "output_type": "execute_result"
    }
   ],
   "source": [
    "df.describe().T"
   ]
  },
  {
   "cell_type": "markdown",
   "metadata": {},
   "source": [
    "### select numeric (exclude object)"
   ]
  },
  {
   "cell_type": "code",
   "execution_count": 60,
   "metadata": {
    "ExecuteTime": {
     "end_time": "2021-04-09T16:38:27.183951Z",
     "start_time": "2021-04-09T16:38:27.145346Z"
    }
   },
   "outputs": [
    {
     "data": {
      "text/html": [
       "<div>\n",
       "<style scoped>\n",
       "    .dataframe tbody tr th:only-of-type {\n",
       "        vertical-align: middle;\n",
       "    }\n",
       "\n",
       "    .dataframe tbody tr th {\n",
       "        vertical-align: top;\n",
       "    }\n",
       "\n",
       "    .dataframe thead th {\n",
       "        text-align: right;\n",
       "    }\n",
       "</style>\n",
       "<table border=\"1\" class=\"dataframe\">\n",
       "  <thead>\n",
       "    <tr style=\"text-align: right;\">\n",
       "      <th></th>\n",
       "      <th>orders</th>\n",
       "      <th>description</th>\n",
       "      <th>qty</th>\n",
       "      <th>price</th>\n",
       "      <th>effective</th>\n",
       "      <th>expired</th>\n",
       "      <th>duration</th>\n",
       "      <th>duplicate</th>\n",
       "    </tr>\n",
       "  </thead>\n",
       "  <tbody>\n",
       "    <tr>\n",
       "      <th>0</th>\n",
       "      <td>23899008</td>\n",
       "      <td>Eighth Row</td>\n",
       "      <td>424</td>\n",
       "      <td>56.30</td>\n",
       "      <td>2019-10-21</td>\n",
       "      <td>2025-12-31</td>\n",
       "      <td>NaN</td>\n",
       "      <td>False</td>\n",
       "    </tr>\n",
       "    <tr>\n",
       "      <th>1</th>\n",
       "      <td>23899005</td>\n",
       "      <td>Fifth Row</td>\n",
       "      <td>19</td>\n",
       "      <td>45.80</td>\n",
       "      <td>2019-10-21</td>\n",
       "      <td>2023-12-31</td>\n",
       "      <td>1532.0</td>\n",
       "      <td>True</td>\n",
       "    </tr>\n",
       "    <tr>\n",
       "      <th>2</th>\n",
       "      <td>23899012</td>\n",
       "      <td>Fifth Row</td>\n",
       "      <td>19</td>\n",
       "      <td>45.80</td>\n",
       "      <td>2019-10-21</td>\n",
       "      <td>2023-12-31</td>\n",
       "      <td>1532.0</td>\n",
       "      <td>True</td>\n",
       "    </tr>\n",
       "    <tr>\n",
       "      <th>3</th>\n",
       "      <td>23899001</td>\n",
       "      <td>First Row</td>\n",
       "      <td>14</td>\n",
       "      <td>1.23</td>\n",
       "      <td>2015-10-21</td>\n",
       "      <td>2019-12-31</td>\n",
       "      <td>1532.0</td>\n",
       "      <td>False</td>\n",
       "    </tr>\n",
       "    <tr>\n",
       "      <th>4</th>\n",
       "      <td>23899004</td>\n",
       "      <td>Fourth Row</td>\n",
       "      <td>13</td>\n",
       "      <td>49.00</td>\n",
       "      <td>2018-10-21</td>\n",
       "      <td>2022-12-31</td>\n",
       "      <td>1532.0</td>\n",
       "      <td>True</td>\n",
       "    </tr>\n",
       "    <tr>\n",
       "      <th>5</th>\n",
       "      <td>23899011</td>\n",
       "      <td>Fourth Row</td>\n",
       "      <td>13</td>\n",
       "      <td>49.00</td>\n",
       "      <td>2018-10-21</td>\n",
       "      <td>2022-12-31</td>\n",
       "      <td>1532.0</td>\n",
       "      <td>True</td>\n",
       "    </tr>\n",
       "    <tr>\n",
       "      <th>6</th>\n",
       "      <td>23899009</td>\n",
       "      <td>Ninth Row</td>\n",
       "      <td>24</td>\n",
       "      <td>98.00</td>\n",
       "      <td>2018-05-21</td>\n",
       "      <td>2025-12-10</td>\n",
       "      <td>2760.0</td>\n",
       "      <td>False</td>\n",
       "    </tr>\n",
       "    <tr>\n",
       "      <th>7</th>\n",
       "      <td>23899002</td>\n",
       "      <td>Second Row</td>\n",
       "      <td>103</td>\n",
       "      <td>4.32</td>\n",
       "      <td>2016-10-21</td>\n",
       "      <td>2020-12-31</td>\n",
       "      <td>1532.0</td>\n",
       "      <td>False</td>\n",
       "    </tr>\n",
       "    <tr>\n",
       "      <th>8</th>\n",
       "      <td>23899007</td>\n",
       "      <td>Seventh Row</td>\n",
       "      <td>178</td>\n",
       "      <td>27.05</td>\n",
       "      <td>2019-10-21</td>\n",
       "      <td>2025-12-31</td>\n",
       "      <td>NaN</td>\n",
       "      <td>False</td>\n",
       "    </tr>\n",
       "    <tr>\n",
       "      <th>9</th>\n",
       "      <td>23899006</td>\n",
       "      <td>Sixth Row</td>\n",
       "      <td>532</td>\n",
       "      <td>634.23</td>\n",
       "      <td>2019-04-21</td>\n",
       "      <td>2020-05-07</td>\n",
       "      <td>382.0</td>\n",
       "      <td>False</td>\n",
       "    </tr>\n",
       "    <tr>\n",
       "      <th>10</th>\n",
       "      <td>23899010</td>\n",
       "      <td>Tenth Row</td>\n",
       "      <td>1800</td>\n",
       "      <td>563.00</td>\n",
       "      <td>2019-10-21</td>\n",
       "      <td>2025-12-31</td>\n",
       "      <td>NaN</td>\n",
       "      <td>False</td>\n",
       "    </tr>\n",
       "    <tr>\n",
       "      <th>11</th>\n",
       "      <td>23899003</td>\n",
       "      <td>Third Row</td>\n",
       "      <td>1</td>\n",
       "      <td>34.32</td>\n",
       "      <td>2017-10-21</td>\n",
       "      <td>2021-12-31</td>\n",
       "      <td>1532.0</td>\n",
       "      <td>False</td>\n",
       "    </tr>\n",
       "  </tbody>\n",
       "</table>\n",
       "</div>"
      ],
      "text/plain": [
       "      orders  description   qty   price  effective    expired  duration  \\\n",
       "0   23899008   Eighth Row   424   56.30 2019-10-21 2025-12-31       NaN   \n",
       "1   23899005    Fifth Row    19   45.80 2019-10-21 2023-12-31    1532.0   \n",
       "2   23899012    Fifth Row    19   45.80 2019-10-21 2023-12-31    1532.0   \n",
       "3   23899001    First Row    14    1.23 2015-10-21 2019-12-31    1532.0   \n",
       "4   23899004   Fourth Row    13   49.00 2018-10-21 2022-12-31    1532.0   \n",
       "5   23899011   Fourth Row    13   49.00 2018-10-21 2022-12-31    1532.0   \n",
       "6   23899009    Ninth Row    24   98.00 2018-05-21 2025-12-10    2760.0   \n",
       "7   23899002   Second Row   103    4.32 2016-10-21 2020-12-31    1532.0   \n",
       "8   23899007  Seventh Row   178   27.05 2019-10-21 2025-12-31       NaN   \n",
       "9   23899006    Sixth Row   532  634.23 2019-04-21 2020-05-07     382.0   \n",
       "10  23899010    Tenth Row  1800  563.00 2019-10-21 2025-12-31       NaN   \n",
       "11  23899003    Third Row     1   34.32 2017-10-21 2021-12-31    1532.0   \n",
       "\n",
       "    duplicate  \n",
       "0       False  \n",
       "1        True  \n",
       "2        True  \n",
       "3       False  \n",
       "4        True  \n",
       "5        True  \n",
       "6       False  \n",
       "7       False  \n",
       "8       False  \n",
       "9       False  \n",
       "10      False  \n",
       "11      False  "
      ]
     },
     "execution_count": 60,
     "metadata": {},
     "output_type": "execute_result"
    }
   ],
   "source": [
    "df.select_dtypes(exclude='object')"
   ]
  },
  {
   "cell_type": "code",
   "execution_count": 61,
   "metadata": {
    "ExecuteTime": {
     "end_time": "2021-04-09T16:38:27.401418Z",
     "start_time": "2021-04-09T16:38:27.382475Z"
    }
   },
   "outputs": [
    {
     "name": "stderr",
     "output_type": "stream",
     "text": [
      "12 rows, 1 columns\n"
     ]
    },
    {
     "data": {
      "text/html": [
       "<div>\n",
       "<style scoped>\n",
       "    .dataframe tbody tr th:only-of-type {\n",
       "        vertical-align: middle;\n",
       "    }\n",
       "\n",
       "    .dataframe tbody tr th {\n",
       "        vertical-align: top;\n",
       "    }\n",
       "\n",
       "    .dataframe thead th {\n",
       "        text-align: right;\n",
       "    }\n",
       "</style>\n",
       "<table border=\"1\" class=\"dataframe\">\n",
       "  <thead>\n",
       "    <tr style=\"text-align: right;\">\n",
       "      <th></th>\n",
       "      <th>orders</th>\n",
       "    </tr>\n",
       "  </thead>\n",
       "  <tbody>\n",
       "    <tr>\n",
       "      <th>0</th>\n",
       "      <td>23899008</td>\n",
       "    </tr>\n",
       "    <tr>\n",
       "      <th>1</th>\n",
       "      <td>23899005</td>\n",
       "    </tr>\n",
       "    <tr>\n",
       "      <th>2</th>\n",
       "      <td>23899012</td>\n",
       "    </tr>\n",
       "    <tr>\n",
       "      <th>3</th>\n",
       "      <td>23899001</td>\n",
       "    </tr>\n",
       "  </tbody>\n",
       "</table>\n",
       "</div>"
      ],
      "text/plain": [
       "     orders\n",
       "0  23899008\n",
       "1  23899005\n",
       "2  23899012\n",
       "3  23899001"
      ]
     },
     "execution_count": 61,
     "metadata": {},
     "output_type": "execute_result"
    }
   ],
   "source": [
    "head(df[df.columns[df.columns.str.startswith('o')]])"
   ]
  },
  {
   "cell_type": "code",
   "execution_count": 62,
   "metadata": {
    "ExecuteTime": {
     "end_time": "2021-04-09T16:38:27.608926Z",
     "start_time": "2021-04-09T16:38:27.597743Z"
    }
   },
   "outputs": [
    {
     "name": "stderr",
     "output_type": "stream",
     "text": [
      "12 rows, 2 columns\n"
     ]
    },
    {
     "data": {
      "text/html": [
       "<div>\n",
       "<style scoped>\n",
       "    .dataframe tbody tr th:only-of-type {\n",
       "        vertical-align: middle;\n",
       "    }\n",
       "\n",
       "    .dataframe tbody tr th {\n",
       "        vertical-align: top;\n",
       "    }\n",
       "\n",
       "    .dataframe thead th {\n",
       "        text-align: right;\n",
       "    }\n",
       "</style>\n",
       "<table border=\"1\" class=\"dataframe\">\n",
       "  <thead>\n",
       "    <tr style=\"text-align: right;\">\n",
       "      <th></th>\n",
       "      <th>duration</th>\n",
       "      <th>duplicate</th>\n",
       "    </tr>\n",
       "  </thead>\n",
       "  <tbody>\n",
       "    <tr>\n",
       "      <th>0</th>\n",
       "      <td>NaN</td>\n",
       "      <td>False</td>\n",
       "    </tr>\n",
       "    <tr>\n",
       "      <th>1</th>\n",
       "      <td>1532.0</td>\n",
       "      <td>True</td>\n",
       "    </tr>\n",
       "    <tr>\n",
       "      <th>2</th>\n",
       "      <td>1532.0</td>\n",
       "      <td>True</td>\n",
       "    </tr>\n",
       "    <tr>\n",
       "      <th>3</th>\n",
       "      <td>1532.0</td>\n",
       "      <td>False</td>\n",
       "    </tr>\n",
       "  </tbody>\n",
       "</table>\n",
       "</div>"
      ],
      "text/plain": [
       "   duration  duplicate\n",
       "0       NaN      False\n",
       "1    1532.0       True\n",
       "2    1532.0       True\n",
       "3    1532.0      False"
      ]
     },
     "execution_count": 62,
     "metadata": {},
     "output_type": "execute_result"
    }
   ],
   "source": [
    "head(df[df.columns[df.columns.str.contains('[a]')]])"
   ]
  },
  {
   "cell_type": "markdown",
   "metadata": {},
   "source": [
    "## Testing display_df"
   ]
  },
  {
   "cell_type": "code",
   "execution_count": 63,
   "metadata": {
    "ExecuteTime": {
     "end_time": "2021-04-09T16:38:27.967540Z",
     "start_time": "2021-04-09T16:38:27.963158Z"
    }
   },
   "outputs": [],
   "source": [
    "# qq = df.pivot_table(index=['grouping', 'orders', 'second_col']\n",
    "#                 , values='qty'\n",
    "#                 , margins=True\n",
    "#                 , aggfunc=np.sum)"
   ]
  },
  {
   "cell_type": "code",
   "execution_count": 64,
   "metadata": {
    "ExecuteTime": {
     "end_time": "2021-04-09T16:38:28.227183Z",
     "start_time": "2021-04-09T16:38:28.218865Z"
    }
   },
   "outputs": [],
   "source": [
    "# %run ../lib/widget_utils.py\n",
    "# %run ../lib/widget_utils_pd.py\n",
    "# cols = select_cols(df.iloc[:3])"
   ]
  },
  {
   "cell_type": "code",
   "execution_count": 65,
   "metadata": {
    "ExecuteTime": {
     "end_time": "2021-04-09T16:38:28.502580Z",
     "start_time": "2021-04-09T16:38:28.498047Z"
    }
   },
   "outputs": [],
   "source": [
    "# print(cols.to_cols)"
   ]
  },
  {
   "cell_type": "code",
   "execution_count": 66,
   "metadata": {
    "ExecuteTime": {
     "end_time": "2021-04-09T16:38:28.692367Z",
     "start_time": "2021-04-09T16:38:28.687713Z"
    },
    "scrolled": true
   },
   "outputs": [],
   "source": [
    "# %run ../lib/widget_utils.py\n",
    "# %run ../lib/widget_utils_pd.py\n",
    "# # c = \"grouping.isin(['A105'])\"\n",
    "# # c = \"second_col != 'Alan Denton' & orders != 23899004\"\n",
    "# c = \"qty > 10 & qty < 20\"\n",
    "# # c = \"expired > '2019-12-31' and grouping == 'A101'\"\n",
    "# # c = \"index\"\n",
    "# mask = df.query(c)\n",
    "\n",
    "# display_df(mask[cols.to_cols])"
   ]
  },
  {
   "cell_type": "markdown",
   "metadata": {},
   "source": [
    "# Export (Excel)"
   ]
  },
  {
   "cell_type": "code",
   "execution_count": 67,
   "metadata": {
    "ExecuteTime": {
     "end_time": "2021-04-09T16:38:29.065842Z",
     "start_time": "2021-04-09T16:38:29.060726Z"
    }
   },
   "outputs": [],
   "source": [
    "project = 'demo'"
   ]
  },
  {
   "cell_type": "markdown",
   "metadata": {},
   "source": [
    "## Standard Pandas"
   ]
  },
  {
   "cell_type": "code",
   "execution_count": 68,
   "metadata": {
    "ExecuteTime": {
     "end_time": "2021-04-09T16:38:29.804162Z",
     "start_time": "2021-04-09T16:38:29.770856Z"
    }
   },
   "outputs": [
    {
     "name": "stdout",
     "output_type": "stream",
     "text": [
      "outputs/demo example #1 Standard pandas.xlsx\n"
     ]
    }
   ],
   "source": [
    "file_name = f'outputs/{project} example #1 Standard pandas.xlsx'\n",
    "df.to_excel(file_name, index=False, freeze_panes=(1, 0), float_format=\"%0.2f\")\n",
    "print(file_name)"
   ]
  },
  {
   "cell_type": "markdown",
   "metadata": {},
   "source": [
    "## Standard Pandas - multiple sheets"
   ]
  },
  {
   "cell_type": "code",
   "execution_count": 69,
   "metadata": {
    "ExecuteTime": {
     "end_time": "2021-04-09T16:38:30.848971Z",
     "start_time": "2021-04-09T16:38:30.816789Z"
    }
   },
   "outputs": [],
   "source": [
    "file_name = 'outputs/example #2 Standard pandas multi-sheets.xlsx'\n",
    "\n",
    "# Create a Pandas Excel writer using XlsxWriter as the engine.\n",
    "with pd.ExcelWriter(file_name, engine='xlsxwriter', date_format='YYYY-MM-DD',\n",
    "                    datetime_format='YYYY-MM-DD') as writer:\n",
    "    df_original.to_excel(writer, sheet_name='Sheet1', index=False, freeze_panes=(1, 0))\n",
    "    df.to_excel(writer, sheet_name='Sheet2', index=False, freeze_panes=(1, 0))"
   ]
  },
  {
   "cell_type": "markdown",
   "metadata": {},
   "source": [
    "## WorkBook class - single/multiple sheets"
   ]
  },
  {
   "cell_type": "markdown",
   "metadata": {},
   "source": [
    "### Single sheet"
   ]
  },
  {
   "cell_type": "code",
   "execution_count": 70,
   "metadata": {
    "ExecuteTime": {
     "end_time": "2021-04-09T16:38:31.737143Z",
     "start_time": "2021-04-09T16:38:31.677419Z"
    }
   },
   "outputs": [
    {
     "name": "stderr",
     "output_type": "stream",
     "text": [
      "Workbook: outputs/20210409_example #3 SaveXL single sheet.xlsx\n"
     ]
    },
    {
     "name": "stderr",
     "output_type": "stream",
     "text": [
      "<< mult-sheet mode >>\n"
     ]
    },
    {
     "name": "stderr",
     "output_type": "stream",
     "text": [
      "Sheet (range): sheet1 ($A$1:$P$13)\n"
     ]
    },
    {
     "name": "stderr",
     "output_type": "stream",
     "text": [
      "Completed.\n"
     ]
    }
   ],
   "source": [
    "file_name = 'outputs/example #3 SaveXL single sheet'\n",
    "WorkBook(file_name, sheets=df);"
   ]
  },
  {
   "cell_type": "markdown",
   "metadata": {},
   "source": [
    "### Multi-sheet"
   ]
  },
  {
   "cell_type": "code",
   "execution_count": 71,
   "metadata": {
    "ExecuteTime": {
     "end_time": "2021-04-09T16:38:32.136498Z",
     "start_time": "2021-04-09T16:38:32.056264Z"
    }
   },
   "outputs": [
    {
     "name": "stderr",
     "output_type": "stream",
     "text": [
      "Workbook: outputs/20210409_example #4 SaveXL multi sheet.xlsx\n"
     ]
    },
    {
     "name": "stderr",
     "output_type": "stream",
     "text": [
      "<< mult-sheet mode >>\n"
     ]
    },
    {
     "name": "stderr",
     "output_type": "stream",
     "text": [
      "Sheet (range): sheet1 ($A$1:$P$13)\n"
     ]
    },
    {
     "name": "stderr",
     "output_type": "stream",
     "text": [
      "Sheet (range): sheet2 ($A$1:$J$13)\n"
     ]
    },
    {
     "name": "stderr",
     "output_type": "stream",
     "text": [
      "Completed.\n"
     ]
    }
   ],
   "source": [
    "file_name = 'outputs/example #4 SaveXL multi sheet'\n",
    "WorkBook(file_name, [df, df_original]);"
   ]
  },
  {
   "cell_type": "markdown",
   "metadata": {},
   "source": [
    "### Multi-sheet with sheet names"
   ]
  },
  {
   "cell_type": "code",
   "execution_count": 72,
   "metadata": {
    "ExecuteTime": {
     "end_time": "2021-04-09T16:38:32.622028Z",
     "start_time": "2021-04-09T16:38:32.536908Z"
    }
   },
   "outputs": [
    {
     "name": "stderr",
     "output_type": "stream",
     "text": [
      "Workbook: outputs/20210409_example #5 SaveXL multi sheet with sheet names.xlsx\n"
     ]
    },
    {
     "name": "stderr",
     "output_type": "stream",
     "text": [
      "<< mult-sheet mode >>\n"
     ]
    },
    {
     "name": "stderr",
     "output_type": "stream",
     "text": [
      "Sheet (range): revised ($A$1:$P$13)\n"
     ]
    },
    {
     "name": "stderr",
     "output_type": "stream",
     "text": [
      "Sheet (range): original ($A$1:$J$13)\n"
     ]
    },
    {
     "name": "stderr",
     "output_type": "stream",
     "text": [
      "Completed.\n"
     ]
    }
   ],
   "source": [
    "file_name = 'outputs/example #5 SaveXL multi sheet with sheet names.xlsx'\n",
    "WorkBook(file_name, {'revised': df, 'original': df_original});"
   ]
  },
  {
   "cell_type": "markdown",
   "metadata": {},
   "source": [
    "## WorkBook class - advanced mode"
   ]
  },
  {
   "cell_type": "markdown",
   "metadata": {},
   "source": [
    "### Basic usage"
   ]
  },
  {
   "cell_type": "code",
   "execution_count": 73,
   "metadata": {
    "ExecuteTime": {
     "end_time": "2021-04-09T16:38:34.054156Z",
     "start_time": "2021-04-09T16:38:33.999643Z"
    }
   },
   "outputs": [
    {
     "name": "stderr",
     "output_type": "stream",
     "text": [
      "Workbook: outputs/Basic workbook object.xlsx\n"
     ]
    },
    {
     "name": "stderr",
     "output_type": "stream",
     "text": [
      "<< sheet mode >>\n"
     ]
    },
    {
     "name": "stderr",
     "output_type": "stream",
     "text": [
      "Sheet (range): sheet1 ($A$1:$P$13)\n"
     ]
    },
    {
     "name": "stderr",
     "output_type": "stream",
     "text": [
      "Completed.\n"
     ]
    }
   ],
   "source": [
    "wb = WorkBook('outputs/Basic workbook object', ts_prefix=False)\n",
    "wb.add_sheet(df)\n",
    "wb.close()"
   ]
  },
  {
   "cell_type": "code",
   "execution_count": 74,
   "metadata": {
    "ExecuteTime": {
     "end_time": "2021-04-09T16:38:34.288858Z",
     "start_time": "2021-04-09T16:38:34.217339Z"
    }
   },
   "outputs": [
    {
     "name": "stderr",
     "output_type": "stream",
     "text": [
      "Workbook: outputs/Basic workbook object.xlsx\n"
     ]
    },
    {
     "name": "stderr",
     "output_type": "stream",
     "text": [
      "<< sheet mode >>\n"
     ]
    },
    {
     "name": "stderr",
     "output_type": "stream",
     "text": [
      "Sheet (range): sheet1 ($A$1:$P$13)\n"
     ]
    }
   ],
   "source": [
    "with WorkBook('outputs/Basic workbook object', ts_prefix=False) as wb:\n",
    "    wb.add_sheet(df)"
   ]
  },
  {
   "cell_type": "markdown",
   "metadata": {},
   "source": [
    "### Adding sheets"
   ]
  },
  {
   "cell_type": "code",
   "execution_count": 75,
   "metadata": {
    "ExecuteTime": {
     "end_time": "2021-04-09T16:38:35.928531Z",
     "start_time": "2021-04-09T16:38:35.841068Z"
    }
   },
   "outputs": [
    {
     "name": "stderr",
     "output_type": "stream",
     "text": [
      "Workbook: outputs/example #6 WorkBook - Greater control.xlsx\n"
     ]
    },
    {
     "name": "stderr",
     "output_type": "stream",
     "text": [
      "<< sheet mode >>\n"
     ]
    },
    {
     "name": "stderr",
     "output_type": "stream",
     "text": [
      "Sheet (range): revised data ($A$1:$P$13)\n"
     ]
    },
    {
     "name": "stderr",
     "output_type": "stream",
     "text": [
      "Sheet (range): original ($A$1:$J$13)\n"
     ]
    },
    {
     "name": "stderr",
     "output_type": "stream",
     "text": [
      "Completed.\n"
     ]
    }
   ],
   "source": [
    "xl_file = f'example #6 WorkBook - Greater control.xlsx'\n",
    "wb = WorkBook(join('outputs', xl_file), ts_prefix=None)\n",
    "wb.add_sheet(df, sheet_name='revised data', tab_color='red', zoom=120)\n",
    "wb.add_sheet(df_original, sheet_name='original', tab_color='red')\n",
    "wb.close()"
   ]
  },
  {
   "cell_type": "markdown",
   "metadata": {
    "ExecuteTime": {
     "end_time": "2019-11-19T01:37:58.138923Z",
     "start_time": "2019-11-19T01:37:57.648569Z"
    }
   },
   "source": [
    "### demo accent colours"
   ]
  },
  {
   "cell_type": "code",
   "execution_count": 76,
   "metadata": {
    "ExecuteTime": {
     "end_time": "2021-04-09T16:38:37.433030Z",
     "start_time": "2021-04-09T16:38:37.415016Z"
    }
   },
   "outputs": [],
   "source": [
    "def demo_accents(ws, row=16):\n",
    "    ''' Experimenting with additional set colours '''\n",
    "\n",
    "    shades_types = (20, 40, 60)\n",
    "    accent_types = range(1, 7)\n",
    "\n",
    "    accents = {f'accent{x}': [f'accent{x}_{y}' for y in shades_types] for x in accent_types}\n",
    "    logger.debug(f'{accents}')\n",
    "\n",
    "    for accent, accent_variants in accents.items(): \n",
    "        ws.write(row, 0, accent, styles.get(accent))\n",
    "\n",
    "        for idx, variant in enumerate(accent_variants):\n",
    "            ws.write(row, idx+1, variant, styles.get(variant))\n",
    "\n",
    "        row+=1"
   ]
  },
  {
   "cell_type": "markdown",
   "metadata": {
    "ExecuteTime": {
     "end_time": "2019-11-19T01:37:58.138923Z",
     "start_time": "2019-11-19T01:37:57.648569Z"
    }
   },
   "source": [
    "### Complex conditional format"
   ]
  },
  {
   "cell_type": "code",
   "execution_count": 77,
   "metadata": {
    "ExecuteTime": {
     "end_time": "2021-04-09T16:38:38.274038Z",
     "start_time": "2021-04-09T16:38:38.198555Z"
    },
    "scrolled": true
   },
   "outputs": [
    {
     "name": "stderr",
     "output_type": "stream",
     "text": [
      "Workbook: outputs/example #7 WorkBook - Multi sheet with conditional formatting.xlsx\n"
     ]
    },
    {
     "name": "stderr",
     "output_type": "stream",
     "text": [
      "<< sheet mode >>\n"
     ]
    },
    {
     "name": "stderr",
     "output_type": "stream",
     "text": [
      "Sheet (range): original ($A$1:$J$13)\n"
     ]
    },
    {
     "name": "stderr",
     "output_type": "stream",
     "text": [
      "Sheet (range): revised data ($A$1:$P$13)\n"
     ]
    },
    {
     "name": "stderr",
     "output_type": "stream",
     "text": [
      "Completed.\n"
     ]
    }
   ],
   "source": [
    "xl_file = f'example #7 WorkBook - Multi sheet with conditional formatting.xlsx'\n",
    "wb = WorkBook(join('outputs', xl_file), ts_prefix=None)\n",
    "styles = wb.get_styles()\n",
    "\n",
    "sheet_name='original'\n",
    "ws = wb.add_sheet(df_original, sheet_name=sheet_name, tab_color='yellow', zoom=175)\n",
    "\n",
    "wb.add_format(ws, column_attr={'column': 'A', 'width': 10, 'format': 'center_wrap'})\n",
    "wb.add_format(ws, column_attr={'column': 'B', 'width': 11})\n",
    "wb.add_format(ws, column_attr={'column': 'C', 'format': 'center', 'width': 25})\n",
    "\n",
    "# Pass a list of dictionary formats: \n",
    "# Below, example to quickly set widths for a range of columns \n",
    "cols = ['E', 'F', 'G', 'H', 'I']\n",
    "formats = [{'column': f'{c}', 'width': 10} for c in cols]\n",
    "\n",
    "wb.add_format(ws, column_attr=formats)\n",
    "\n",
    "sheet_name = 'revised data'\n",
    "ws = wb.add_sheet(df, sheet_name, tab_color='red', zoom=175)\n",
    "\n",
    "selected_date = datetime.strptime('2018-01-01', \"%Y-%m-%d\")\n",
    "\n",
    "c= [ {'type': 'formula', 'criteria': '=$I2=2263', 'format': 'accent4'},\n",
    "     {'type': 'cell', 'criteria': 'equal to', 'value': '\"A103\"', 'format': 'accent5', 'range': 'A'},\n",
    "     {'type': 'cell', 'criteria': 'equal to', 'value': 23899003, 'format': 'accent6', 'range': 'B'} ,\n",
    "     {'type': 'duplicate', 'format': 'accent1', 'range': 'C:D'},\n",
    "     {'type': 'text', 'criteria': 'containing', 'value': 'Eoin', 'format': 'accent2', 'range': 'D'},\n",
    "     {'type': 'data_bar', 'data_bar_2010': True, 'criteria': '=$F2>0', 'range': 'F'},\n",
    "     {'type': 'date', 'criteria': 'less than', 'value': selected_date, 'format': 'accent3', 'range': 'G'},\n",
    "     {'type': 'formula', 'criteria': '=$J2=\"cat;dog;books\"', 'format': 'accent5', 'range': 'J'}]\n",
    "wb.add_condition(ws, condition=c)\n",
    "\n",
    "wb.add_condition(ws, condition={'type': '3_color_scale', 'range': 'H'})\n",
    "\n",
    "wb.add_format(ws, column_attr={'column': 'F', 'format': 'price4'})\n",
    "\n",
    "demo_accents(ws, row=16)\n",
    "        \n",
    "wb.close()"
   ]
  },
  {
   "cell_type": "markdown",
   "metadata": {},
   "source": [
    "### Workbook - meta data"
   ]
  },
  {
   "cell_type": "code",
   "execution_count": 78,
   "metadata": {
    "ExecuteTime": {
     "end_time": "2021-04-09T16:38:39.305479Z",
     "start_time": "2021-04-09T16:38:39.298131Z"
    }
   },
   "outputs": [],
   "source": [
    "# wb.sheet_dict"
   ]
  },
  {
   "cell_type": "code",
   "execution_count": 79,
   "metadata": {
    "ExecuteTime": {
     "end_time": "2021-04-09T16:38:39.602703Z",
     "start_time": "2021-04-09T16:38:39.594044Z"
    }
   },
   "outputs": [
    {
     "data": {
      "text/plain": [
       "dict_keys(['error', 'good', 'yellow', 'neutral', 'input', 'explanatory', 'note', 'money', 'price2', 'price4', 'center', 'center_valign', 'center_wrap_valign', 'center_wrap', 'left_wrap', 'sql', 'accent1', 'accent2', 'accent3', 'accent4', 'accent5', 'accent6', 'accent1_20', 'accent1_40', 'accent1_60', 'accent2_20', 'accent2_40', 'accent2_60', 'accent3_20', 'accent3_40', 'accent3_60', 'accent4_20', 'accent4_40', 'accent4_60', 'accent5_20', 'accent5_40', 'accent5_60', 'accent6_20', 'accent6_40', 'accent6_60', 'eudc_hdr1', 'eudc_hdr2', 'sheet_default'])"
      ]
     },
     "execution_count": 79,
     "metadata": {},
     "output_type": "execute_result"
    }
   ],
   "source": [
    "wb.show_styles()"
   ]
  },
  {
   "cell_type": "code",
   "execution_count": 80,
   "metadata": {
    "ExecuteTime": {
     "end_time": "2021-04-09T16:38:40.007642Z",
     "start_time": "2021-04-09T16:38:40.000764Z"
    }
   },
   "outputs": [
    {
     "data": {
      "text/plain": [
       "'Light 1, Light 2, Light 3, Light 4, Light 5, Light 6, Light 7, Light 8, Light 9, Light 10, Light 11, Light 12, Light 13, Light 14, Light 15, Light 16, Light 17, Light 18, Light 19, Light 20, Light 21, Light 22, Light 23, Light 24, Light 25, Light 26, Light 27, Light 28, Medium 1, Medium 2, Medium 3, Medium 4, Medium 5, Medium 6, Medium 7, Medium 8, Medium 9, Medium 10, Medium 11, Medium 12, Medium 13, Medium 14, Medium 15, Medium 16, Medium 17, Medium 18, Medium 19, Medium 20, Medium 21, Medium 22, Medium 23, Medium 24, Medium 25, Medium 26, Medium 27, Medium 28, Dark 1, Dark 2, Dark 3, Dark 4, Dark 5, Dark 6, Dark 7, Dark 8, Dark 9, Dark 10, Dark 11, Dark 12'"
      ]
     },
     "execution_count": 80,
     "metadata": {},
     "output_type": "execute_result"
    }
   ],
   "source": [
    "wb.show_themes()"
   ]
  },
  {
   "cell_type": "code",
   "execution_count": 81,
   "metadata": {
    "ExecuteTime": {
     "end_time": "2021-04-09T16:38:40.111658Z",
     "start_time": "2021-04-09T16:38:40.107691Z"
    }
   },
   "outputs": [],
   "source": [
    "# ?WorkBook"
   ]
  },
  {
   "cell_type": "code",
   "execution_count": 82,
   "metadata": {
    "ExecuteTime": {
     "end_time": "2021-04-09T16:38:40.207593Z",
     "start_time": "2021-04-09T16:38:40.204748Z"
    }
   },
   "outputs": [],
   "source": [
    "# ?WorkBook.add_condition"
   ]
  },
  {
   "cell_type": "markdown",
   "metadata": {},
   "source": [
    "# Zip / compress data"
   ]
  },
  {
   "cell_type": "code",
   "execution_count": 83,
   "metadata": {
    "ExecuteTime": {
     "end_time": "2021-04-09T16:38:40.770521Z",
     "start_time": "2021-04-09T16:38:40.745159Z"
    }
   },
   "outputs": [
    {
     "name": "stderr",
     "output_type": "stream",
     "text": [
      "Source: outputs, filter: example*.xlsx\n"
     ]
    },
    {
     "name": "stderr",
     "output_type": "stream",
     "text": [
      "<TEST> Target: outputs/20210409_zip_data.zip - 3 files not created.\n"
     ]
    },
    {
     "name": "stderr",
     "output_type": "stream",
     "text": [
      "Source: outputs, filter: *.csv\n"
     ]
    },
    {
     "name": "stderr",
     "output_type": "stream",
     "text": [
      "<TEST> Target: outputs/20210409_zip_data.zip - 1 files not created.\n"
     ]
    },
    {
     "data": {
      "text/plain": [
       "<zipfile.ZipFile [closed]>"
      ]
     },
     "execution_count": 83,
     "metadata": {},
     "output_type": "execute_result"
    }
   ],
   "source": [
    "zip_data(filter='example*.xlsx', ts_prefix='date', test_mode=True, mode='w', info=False)\n",
    "zip_data(filter='*.csv', ts_prefix='date', test_mode=True, mode='a', info=False)"
   ]
  },
  {
   "cell_type": "code",
   "execution_count": null,
   "metadata": {},
   "outputs": [],
   "source": []
  },
  {
   "cell_type": "code",
   "execution_count": null,
   "metadata": {},
   "outputs": [],
   "source": []
  },
  {
   "cell_type": "code",
   "execution_count": null,
   "metadata": {},
   "outputs": [],
   "source": []
  }
 ],
 "metadata": {
  "hide_input": false,
  "kernelspec": {
   "display_name": "Python 3",
   "language": "python",
   "name": "python3"
  },
  "language_info": {
   "codemirror_mode": {
    "name": "ipython",
    "version": 3
   },
   "file_extension": ".py",
   "mimetype": "text/x-python",
   "name": "python",
   "nbconvert_exporter": "python",
   "pygments_lexer": "ipython3",
   "version": "3.8.5"
  },
  "toc": {
   "base_numbering": 1,
   "nav_menu": {},
   "number_sections": true,
   "sideBar": true,
   "skip_h1_title": false,
   "title_cell": "Table of Contents",
   "title_sidebar": "Contents",
   "toc_cell": false,
   "toc_position": {
    "height": "641.333px",
    "left": "40px",
    "top": "576.883px",
    "width": "325.327px"
   },
   "toc_section_display": true,
   "toc_window_display": true
  }
 },
 "nbformat": 4,
 "nbformat_minor": 4
}
