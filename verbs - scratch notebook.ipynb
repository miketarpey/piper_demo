{
 "cells": [
  {
   "cell_type": "code",
   "execution_count": 1,
   "metadata": {
    "ExecuteTime": {
     "end_time": "2021-03-11T16:16:59.086666Z",
     "start_time": "2021-03-11T16:16:58.230833Z"
    }
   },
   "outputs": [
    {
     "name": "stderr",
     "output_type": "stream",
     "text": [
      "piper v0.1.0: Monday, 29 March 2021 19:06:45\n"
     ]
    }
   ],
   "source": [
    "from piper.defaults import *"
   ]
  },
  {
   "cell_type": "code",
   "execution_count": 2,
   "metadata": {
    "ExecuteTime": {
     "end_time": "2021-03-11T16:16:59.094284Z",
     "start_time": "2021-03-11T16:16:59.089591Z"
    }
   },
   "outputs": [],
   "source": [
    "def clean_column(column):\n",
    "    \n",
    "    return (column.str.replace('\\s+', ' ', regex=True)\n",
    "                  .str.title()\n",
    "                  .str.replace(r'(.*)\\s(.*)', r'\\2 \\1', regex=True)\n",
    "                  .str.replace('ri', 'ir', regex=True))"
   ]
  },
  {
   "cell_type": "code",
   "execution_count": 3,
   "metadata": {
    "ExecuteTime": {
     "end_time": "2021-03-11T16:16:59.101121Z",
     "start_time": "2021-03-11T16:16:59.097977Z"
    }
   },
   "outputs": [],
   "source": [
    "xl_file = 'inputs/Test excel workbook.xlsx'\n",
    "\n",
    "renamed_cols = [\n",
    "    'grouping_code', 'order', 'first_col', 'second_col', 'qty', 'price',\n",
    "    'effective', 'expired', 'transaction_date', 'delimitted_list'\n",
    "]"
   ]
  },
  {
   "cell_type": "code",
   "execution_count": 4,
   "metadata": {
    "ExecuteTime": {
     "end_time": "2021-03-11T16:16:59.344654Z",
     "start_time": "2021-03-11T16:16:59.103124Z"
    }
   },
   "outputs": [],
   "source": [
    "%%piper\n",
    "\n",
    "df <- pd.read_excel(xl_file)\n",
    ">> set_columns(renamed_cols)\n",
    ">> relocate('order', loc='before', ref_column='grouping_code').head()\n",
    ">> assign(delimitted_list = lambda x: x.delimitted_list.str.split(';')).explode('delimitted_list')\n",
    ">> assign(first_col = lambda x: clean_column(x.first_col))"
   ]
  },
  {
   "cell_type": "code",
   "execution_count": 5,
   "metadata": {
    "ExecuteTime": {
     "end_time": "2021-03-11T16:16:59.370324Z",
     "start_time": "2021-03-11T16:16:59.347912Z"
    }
   },
   "outputs": [
    {
     "name": "stderr",
     "output_type": "stream",
     "text": [
      "15 rows, 10 columns\n"
     ]
    },
    {
     "data": {
      "text/html": [
       "<div>\n",
       "<style scoped>\n",
       "    .dataframe tbody tr th:only-of-type {\n",
       "        vertical-align: middle;\n",
       "    }\n",
       "\n",
       "    .dataframe tbody tr th {\n",
       "        vertical-align: top;\n",
       "    }\n",
       "\n",
       "    .dataframe thead th {\n",
       "        text-align: right;\n",
       "    }\n",
       "</style>\n",
       "<table border=\"1\" class=\"dataframe\">\n",
       "  <thead>\n",
       "    <tr style=\"text-align: right;\">\n",
       "      <th></th>\n",
       "      <th>order</th>\n",
       "      <th>grouping_code</th>\n",
       "      <th>first_col</th>\n",
       "      <th>second_col</th>\n",
       "      <th>qty</th>\n",
       "      <th>price</th>\n",
       "      <th>effective</th>\n",
       "      <th>expired</th>\n",
       "      <th>transaction_date</th>\n",
       "      <th>delimitted_list</th>\n",
       "    </tr>\n",
       "  </thead>\n",
       "  <tbody>\n",
       "    <tr>\n",
       "      <th>0</th>\n",
       "      <td>23899001</td>\n",
       "      <td>A100</td>\n",
       "      <td>Row First</td>\n",
       "      <td>Scally, Aidan</td>\n",
       "      <td>14</td>\n",
       "      <td>1,23</td>\n",
       "      <td>21.10.2015</td>\n",
       "      <td>31.12.2019</td>\n",
       "      <td>20.08.2018</td>\n",
       "      <td>123</td>\n",
       "    </tr>\n",
       "    <tr>\n",
       "      <th>0</th>\n",
       "      <td>23899001</td>\n",
       "      <td>A100</td>\n",
       "      <td>Row First</td>\n",
       "      <td>Scally, Aidan</td>\n",
       "      <td>14</td>\n",
       "      <td>1,23</td>\n",
       "      <td>21.10.2015</td>\n",
       "      <td>31.12.2019</td>\n",
       "      <td>20.08.2018</td>\n",
       "      <td>456</td>\n",
       "    </tr>\n",
       "    <tr>\n",
       "      <th>0</th>\n",
       "      <td>23899001</td>\n",
       "      <td>A100</td>\n",
       "      <td>Row First</td>\n",
       "      <td>Scally, Aidan</td>\n",
       "      <td>14</td>\n",
       "      <td>1,23</td>\n",
       "      <td>21.10.2015</td>\n",
       "      <td>31.12.2019</td>\n",
       "      <td>20.08.2018</td>\n",
       "      <td>789</td>\n",
       "    </tr>\n",
       "    <tr>\n",
       "      <th>1</th>\n",
       "      <td>23899002</td>\n",
       "      <td>A101</td>\n",
       "      <td>Row Second</td>\n",
       "      <td>McAllister, Eoin</td>\n",
       "      <td>103</td>\n",
       "      <td>4,32</td>\n",
       "      <td>21.10.2016</td>\n",
       "      <td>31.12.2020</td>\n",
       "      <td>20.08.2017</td>\n",
       "      <td>ss</td>\n",
       "    </tr>\n",
       "  </tbody>\n",
       "</table>\n",
       "</div>"
      ],
      "text/plain": [
       "      order grouping_code   first_col        second_col  qty           price  \\\n",
       "0  23899001          A100   Row First     Scally, Aidan   14            1,23   \n",
       "0  23899001          A100   Row First     Scally, Aidan   14            1,23   \n",
       "0  23899001          A100   Row First     Scally, Aidan   14            1,23   \n",
       "1  23899002          A101  Row Second  McAllister, Eoin  103            4,32   \n",
       "\n",
       "    effective     expired transaction_date delimitted_list  \n",
       "0  21.10.2015  31.12.2019       20.08.2018             123  \n",
       "0  21.10.2015  31.12.2019       20.08.2018             456  \n",
       "0  21.10.2015  31.12.2019       20.08.2018             789  \n",
       "1  21.10.2016  31.12.2020       20.08.2017              ss  "
      ]
     },
     "execution_count": 5,
     "metadata": {},
     "output_type": "execute_result"
    }
   ],
   "source": [
    "head(df)"
   ]
  },
  {
   "cell_type": "code",
   "execution_count": 6,
   "metadata": {
    "ExecuteTime": {
     "end_time": "2021-03-11T16:16:59.409879Z",
     "start_time": "2021-03-11T16:16:59.372612Z"
    }
   },
   "outputs": [
    {
     "data": {
      "text/html": [
       "<div>\n",
       "<style scoped>\n",
       "    .dataframe tbody tr th:only-of-type {\n",
       "        vertical-align: middle;\n",
       "    }\n",
       "\n",
       "    .dataframe tbody tr th {\n",
       "        vertical-align: top;\n",
       "    }\n",
       "\n",
       "    .dataframe thead th {\n",
       "        text-align: right;\n",
       "    }\n",
       "</style>\n",
       "<table border=\"1\" class=\"dataframe\">\n",
       "  <thead>\n",
       "    <tr style=\"text-align: right;\">\n",
       "      <th></th>\n",
       "      <th>n</th>\n",
       "      <th>%</th>\n",
       "      <th>cum %</th>\n",
       "    </tr>\n",
       "    <tr>\n",
       "      <th>grouping_code</th>\n",
       "      <th></th>\n",
       "      <th></th>\n",
       "      <th></th>\n",
       "    </tr>\n",
       "  </thead>\n",
       "  <tbody>\n",
       "    <tr>\n",
       "      <th>A101</th>\n",
       "      <td>6</td>\n",
       "      <td>40.0</td>\n",
       "      <td>40.0</td>\n",
       "    </tr>\n",
       "    <tr>\n",
       "      <th>A100</th>\n",
       "      <td>3</td>\n",
       "      <td>20.0</td>\n",
       "      <td>60.0</td>\n",
       "    </tr>\n",
       "    <tr>\n",
       "      <th>A102</th>\n",
       "      <td>3</td>\n",
       "      <td>20.0</td>\n",
       "      <td>80.0</td>\n",
       "    </tr>\n",
       "    <tr>\n",
       "      <th>A103</th>\n",
       "      <td>3</td>\n",
       "      <td>20.0</td>\n",
       "      <td>100.0</td>\n",
       "    </tr>\n",
       "  </tbody>\n",
       "</table>\n",
       "</div>"
      ],
      "text/plain": [
       "               n     %  cum %\n",
       "grouping_code                \n",
       "A101           6  40.0   40.0\n",
       "A100           3  20.0   60.0\n",
       "A102           3  20.0   80.0\n",
       "A103           3  20.0  100.0"
      ]
     },
     "execution_count": 6,
     "metadata": {},
     "output_type": "execute_result"
    }
   ],
   "source": [
    "%piper df >> count('grouping_code')"
   ]
  },
  {
   "cell_type": "code",
   "execution_count": 7,
   "metadata": {
    "ExecuteTime": {
     "end_time": "2021-03-11T16:16:59.461843Z",
     "start_time": "2021-03-11T16:16:59.413710Z"
    }
   },
   "outputs": [
    {
     "data": {
      "text/html": [
       "<div>\n",
       "<style scoped>\n",
       "    .dataframe tbody tr th:only-of-type {\n",
       "        vertical-align: middle;\n",
       "    }\n",
       "\n",
       "    .dataframe tbody tr th {\n",
       "        vertical-align: top;\n",
       "    }\n",
       "\n",
       "    .dataframe thead th {\n",
       "        text-align: right;\n",
       "    }\n",
       "</style>\n",
       "<table border=\"1\" class=\"dataframe\">\n",
       "  <thead>\n",
       "    <tr style=\"text-align: right;\">\n",
       "      <th></th>\n",
       "      <th>n</th>\n",
       "      <th>%</th>\n",
       "      <th>cum %</th>\n",
       "    </tr>\n",
       "  </thead>\n",
       "  <tbody>\n",
       "    <tr>\n",
       "      <th>A101</th>\n",
       "      <td>6</td>\n",
       "      <td>40.0</td>\n",
       "      <td>40.0</td>\n",
       "    </tr>\n",
       "    <tr>\n",
       "      <th>A100</th>\n",
       "      <td>3</td>\n",
       "      <td>20.0</td>\n",
       "      <td>60.0</td>\n",
       "    </tr>\n",
       "    <tr>\n",
       "      <th>A102</th>\n",
       "      <td>3</td>\n",
       "      <td>20.0</td>\n",
       "      <td>80.0</td>\n",
       "    </tr>\n",
       "    <tr>\n",
       "      <th>A103</th>\n",
       "      <td>3</td>\n",
       "      <td>20.0</td>\n",
       "      <td>100.0</td>\n",
       "    </tr>\n",
       "    <tr>\n",
       "      <th>Total</th>\n",
       "      <td>15</td>\n",
       "      <td>100.0</td>\n",
       "      <td></td>\n",
       "    </tr>\n",
       "  </tbody>\n",
       "</table>\n",
       "</div>"
      ],
      "text/plain": [
       "        n      %  cum %\n",
       "A101    6   40.0   40.0\n",
       "A100    3   20.0   60.0\n",
       "A102    3   20.0   80.0\n",
       "A103    3   20.0  100.0\n",
       "Total  15  100.0       "
      ]
     },
     "execution_count": 7,
     "metadata": {},
     "output_type": "execute_result"
    }
   ],
   "source": [
    "%%piper\n",
    "\n",
    "df >> count('grouping_code', totals=True, percent=True, cum_percent=True)"
   ]
  },
  {
   "cell_type": "code",
   "execution_count": null,
   "metadata": {},
   "outputs": [],
   "source": []
  },
  {
   "cell_type": "code",
   "execution_count": null,
   "metadata": {},
   "outputs": [],
   "source": []
  },
  {
   "cell_type": "code",
   "execution_count": null,
   "metadata": {},
   "outputs": [],
   "source": []
  },
  {
   "cell_type": "code",
   "execution_count": null,
   "metadata": {},
   "outputs": [],
   "source": []
  },
  {
   "cell_type": "code",
   "execution_count": null,
   "metadata": {},
   "outputs": [],
   "source": []
  }
 ],
 "metadata": {
  "hide_input": false,
  "kernelspec": {
   "display_name": "Python 3",
   "language": "python",
   "name": "python3"
  },
  "language_info": {
   "codemirror_mode": {
    "name": "ipython",
    "version": 3
   },
   "file_extension": ".py",
   "mimetype": "text/x-python",
   "name": "python",
   "nbconvert_exporter": "python",
   "pygments_lexer": "ipython3",
   "version": "3.8.5"
  },
  "toc": {
   "base_numbering": 1,
   "nav_menu": {},
   "number_sections": true,
   "sideBar": true,
   "skip_h1_title": false,
   "title_cell": "Table of Contents",
   "title_sidebar": "Contents",
   "toc_cell": false,
   "toc_position": {},
   "toc_section_display": true,
   "toc_window_display": false
  }
 },
 "nbformat": 4,
 "nbformat_minor": 4
}
