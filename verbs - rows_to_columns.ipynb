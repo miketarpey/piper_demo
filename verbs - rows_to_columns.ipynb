{
 "cells": [
  {
   "cell_type": "markdown",
   "metadata": {},
   "source": [
    "# Setup"
   ]
  },
  {
   "cell_type": "code",
   "execution_count": 1,
   "metadata": {
    "ExecuteTime": {
     "end_time": "2021-04-09T16:23:58.692480Z",
     "start_time": "2021-04-09T16:23:58.194780Z"
    }
   },
   "outputs": [
    {
     "name": "stderr",
     "output_type": "stream",
     "text": [
      "piper v0.1.2: Friday, 09 April 2021 18:49:25\n"
     ]
    }
   ],
   "source": [
    "from piper.defaults import *"
   ]
  },
  {
   "cell_type": "markdown",
   "metadata": {},
   "source": [
    "# Example: read xl data, combine header rows > 1 row"
   ]
  },
  {
   "cell_type": "code",
   "execution_count": 2,
   "metadata": {
    "ExecuteTime": {
     "end_time": "2021-04-09T16:23:58.698045Z",
     "start_time": "2021-04-09T16:23:58.694741Z"
    }
   },
   "outputs": [],
   "source": [
    "xl_file = Path('inputs/Data/sales_2017.xlsx')"
   ]
  },
  {
   "cell_type": "code",
   "execution_count": 3,
   "metadata": {
    "ExecuteTime": {
     "end_time": "2021-04-09T16:23:59.611810Z",
     "start_time": "2021-04-09T16:23:58.700933Z"
    }
   },
   "outputs": [
    {
     "name": "stderr",
     "output_type": "stream",
     "text": [
      "2155 rows, 12 columns\n"
     ]
    },
    {
     "data": {
      "text/html": [
       "<div>\n",
       "<style scoped>\n",
       "    .dataframe tbody tr th:only-of-type {\n",
       "        vertical-align: middle;\n",
       "    }\n",
       "\n",
       "    .dataframe tbody tr th {\n",
       "        vertical-align: top;\n",
       "    }\n",
       "\n",
       "    .dataframe thead th {\n",
       "        text-align: right;\n",
       "    }\n",
       "</style>\n",
       "<table border=\"1\" class=\"dataframe\">\n",
       "  <thead>\n",
       "    <tr style=\"text-align: right;\">\n",
       "      <th></th>\n",
       "      <th>0</th>\n",
       "      <th>1</th>\n",
       "      <th>2</th>\n",
       "      <th>3</th>\n",
       "      <th>4</th>\n",
       "      <th>5</th>\n",
       "      <th>6</th>\n",
       "      <th>7</th>\n",
       "      <th>8</th>\n",
       "      <th>9</th>\n",
       "      <th>10</th>\n",
       "      <th>11</th>\n",
       "    </tr>\n",
       "  </thead>\n",
       "  <tbody>\n",
       "    <tr>\n",
       "      <th>0</th>\n",
       "      <td>Order</td>\n",
       "      <td>Customer</td>\n",
       "      <td>Sales</td>\n",
       "      <td>Order</td>\n",
       "      <td>Ship</td>\n",
       "      <td>Order</td>\n",
       "      <td>SKU</td>\n",
       "      <td>Order</td>\n",
       "      <td>Unit Sell</td>\n",
       "      <td>Discount</td>\n",
       "      <td>Shipping</td>\n",
       "      <td>Ship Mode</td>\n",
       "    </tr>\n",
       "    <tr>\n",
       "      <th>1</th>\n",
       "      <td>ID</td>\n",
       "      <td>ID</td>\n",
       "      <td>Person</td>\n",
       "      <td>Date</td>\n",
       "      <td>Date</td>\n",
       "      <td>Priority</td>\n",
       "      <td>Code</td>\n",
       "      <td>Quantity</td>\n",
       "      <td>Price</td>\n",
       "      <td>Percent</td>\n",
       "      <td>Amount</td>\n",
       "      <td>Container</td>\n",
       "    </tr>\n",
       "    <tr>\n",
       "      <th>2</th>\n",
       "      <td>13729</td>\n",
       "      <td>C508</td>\n",
       "      <td>Mr Robert Carlton</td>\n",
       "      <td>2017-01-01 00:00:00</td>\n",
       "      <td>2017-01-03 00:00:00</td>\n",
       "      <td>Not Specified</td>\n",
       "      <td>SKU947</td>\n",
       "      <td>9</td>\n",
       "      <td>95.99</td>\n",
       "      <td>0.08</td>\n",
       "      <td>35</td>\n",
       "      <td>Express Air - Large Box</td>\n",
       "    </tr>\n",
       "    <tr>\n",
       "      <th>3</th>\n",
       "      <td>28774</td>\n",
       "      <td>C372</td>\n",
       "      <td>Miss Roseanna Marr</td>\n",
       "      <td>2017-01-01 00:00:00</td>\n",
       "      <td>2017-01-02 00:00:00</td>\n",
       "      <td>High</td>\n",
       "      <td>SKU937</td>\n",
       "      <td>32</td>\n",
       "      <td>5.98</td>\n",
       "      <td>0.1</td>\n",
       "      <td>4.69</td>\n",
       "      <td>Regular Air - Small Box</td>\n",
       "    </tr>\n",
       "  </tbody>\n",
       "</table>\n",
       "</div>"
      ],
      "text/plain": [
       "      0         1                   2                    3   \\\n",
       "0  Order  Customer               Sales                Order   \n",
       "1     ID        ID              Person                 Date   \n",
       "2  13729      C508   Mr Robert Carlton  2017-01-01 00:00:00   \n",
       "3  28774      C372  Miss Roseanna Marr  2017-01-01 00:00:00   \n",
       "\n",
       "                    4              5       6         7          8         9   \\\n",
       "0                 Ship          Order     SKU     Order  Unit Sell  Discount   \n",
       "1                 Date       Priority    Code  Quantity      Price   Percent   \n",
       "2  2017-01-03 00:00:00  Not Specified  SKU947         9      95.99      0.08   \n",
       "3  2017-01-02 00:00:00           High  SKU937        32       5.98       0.1   \n",
       "\n",
       "         10                       11  \n",
       "0  Shipping                Ship Mode  \n",
       "1    Amount                Container  \n",
       "2        35  Express Air - Large Box  \n",
       "3      4.69  Regular Air - Small Box  "
      ]
     },
     "execution_count": 3,
     "metadata": {},
     "output_type": "execute_result"
    }
   ],
   "source": [
    "%%piper\n",
    "pd.read_excel(xl_file, header=None)\n",
    ">> head()"
   ]
  },
  {
   "cell_type": "code",
   "execution_count": 4,
   "metadata": {
    "ExecuteTime": {
     "end_time": "2021-04-09T16:24:25.649294Z",
     "start_time": "2021-04-09T16:24:25.013949Z"
    }
   },
   "outputs": [
    {
     "name": "stderr",
     "output_type": "stream",
     "text": [
      "2153 rows, 12 columns\n"
     ]
    },
    {
     "data": {
      "text/html": [
       "<div>\n",
       "<style scoped>\n",
       "    .dataframe tbody tr th:only-of-type {\n",
       "        vertical-align: middle;\n",
       "    }\n",
       "\n",
       "    .dataframe tbody tr th {\n",
       "        vertical-align: top;\n",
       "    }\n",
       "\n",
       "    .dataframe thead th {\n",
       "        text-align: right;\n",
       "    }\n",
       "</style>\n",
       "<table border=\"1\" class=\"dataframe\">\n",
       "  <thead>\n",
       "    <tr style=\"text-align: right;\">\n",
       "      <th></th>\n",
       "      <th>OrderId</th>\n",
       "      <th>CustomerId</th>\n",
       "      <th>SalesPerson</th>\n",
       "      <th>OrderDate</th>\n",
       "      <th>ShipDate</th>\n",
       "      <th>OrderPriority</th>\n",
       "      <th>SkuCode</th>\n",
       "      <th>OrderQuantity</th>\n",
       "      <th>UnitSellPrice</th>\n",
       "      <th>DiscountPercent</th>\n",
       "      <th>ShippingAmount</th>\n",
       "      <th>ShipModeContainer</th>\n",
       "    </tr>\n",
       "  </thead>\n",
       "  <tbody>\n",
       "    <tr>\n",
       "      <th>2</th>\n",
       "      <td>13729</td>\n",
       "      <td>C508</td>\n",
       "      <td>Mr Robert Carlton</td>\n",
       "      <td>2017-01-01</td>\n",
       "      <td>2017-01-03</td>\n",
       "      <td>Not Specified</td>\n",
       "      <td>SKU947</td>\n",
       "      <td>9</td>\n",
       "      <td>95.99</td>\n",
       "      <td>0.08</td>\n",
       "      <td>35.00</td>\n",
       "      <td>Express Air - Large Box</td>\n",
       "    </tr>\n",
       "    <tr>\n",
       "      <th>3</th>\n",
       "      <td>28774</td>\n",
       "      <td>C372</td>\n",
       "      <td>Miss Roseanna Marr</td>\n",
       "      <td>2017-01-01</td>\n",
       "      <td>2017-01-02</td>\n",
       "      <td>High</td>\n",
       "      <td>SKU937</td>\n",
       "      <td>32</td>\n",
       "      <td>5.98</td>\n",
       "      <td>0.10</td>\n",
       "      <td>4.69</td>\n",
       "      <td>Regular Air - Small Box</td>\n",
       "    </tr>\n",
       "    <tr>\n",
       "      <th>4</th>\n",
       "      <td>9285</td>\n",
       "      <td>C212</td>\n",
       "      <td>Mr Robert Carlton</td>\n",
       "      <td>2017-01-02</td>\n",
       "      <td>2017-01-04</td>\n",
       "      <td>Critical</td>\n",
       "      <td>SKU363</td>\n",
       "      <td>3</td>\n",
       "      <td>40.98</td>\n",
       "      <td>0.06</td>\n",
       "      <td>2.99</td>\n",
       "      <td>Regular Air - Small Box</td>\n",
       "    </tr>\n",
       "    <tr>\n",
       "      <th>5</th>\n",
       "      <td>37537</td>\n",
       "      <td>C015</td>\n",
       "      <td>Mr Robert Carlton</td>\n",
       "      <td>2017-01-02</td>\n",
       "      <td>2017-01-02</td>\n",
       "      <td>Low</td>\n",
       "      <td>SKU052</td>\n",
       "      <td>4</td>\n",
       "      <td>291.73</td>\n",
       "      <td>0.00</td>\n",
       "      <td>48.80</td>\n",
       "      <td>Delivery Truck - Jumbo Drum</td>\n",
       "    </tr>\n",
       "  </tbody>\n",
       "</table>\n",
       "</div>"
      ],
      "text/plain": [
       "   OrderId CustomerId         SalesPerson  OrderDate   ShipDate  \\\n",
       "2    13729       C508   Mr Robert Carlton 2017-01-01 2017-01-03   \n",
       "3    28774       C372  Miss Roseanna Marr 2017-01-01 2017-01-02   \n",
       "4     9285       C212   Mr Robert Carlton 2017-01-02 2017-01-04   \n",
       "5    37537       C015   Mr Robert Carlton 2017-01-02 2017-01-02   \n",
       "\n",
       "   OrderPriority SkuCode  OrderQuantity  UnitSellPrice  DiscountPercent  \\\n",
       "2  Not Specified  SKU947              9          95.99             0.08   \n",
       "3           High  SKU937             32           5.98             0.10   \n",
       "4       Critical  SKU363              3          40.98             0.06   \n",
       "5            Low  SKU052              4         291.73             0.00   \n",
       "\n",
       "   ShippingAmount            ShipModeContainer  \n",
       "2           35.00      Express Air - Large Box  \n",
       "3            4.69      Regular Air - Small Box  \n",
       "4            2.99      Regular Air - Small Box  \n",
       "5           48.80  Delivery Truck - Jumbo Drum  "
      ]
     },
     "execution_count": 4,
     "metadata": {},
     "output_type": "execute_result"
    }
   ],
   "source": [
    "%%piper\n",
    "\n",
    "pd.read_excel(xl_file, header=None)\n",
    ">> rows_to_names()\n",
    ">> clean_names(case='camel', title=True)\n",
    ">> head()"
   ]
  },
  {
   "cell_type": "code",
   "execution_count": null,
   "metadata": {},
   "outputs": [],
   "source": []
  }
 ],
 "metadata": {
  "kernelspec": {
   "display_name": "Python 3",
   "language": "python",
   "name": "python3"
  },
  "language_info": {
   "codemirror_mode": {
    "name": "ipython",
    "version": 3
   },
   "file_extension": ".py",
   "mimetype": "text/x-python",
   "name": "python",
   "nbconvert_exporter": "python",
   "pygments_lexer": "ipython3",
   "version": "3.8.5"
  },
  "toc": {
   "base_numbering": 1,
   "nav_menu": {},
   "number_sections": true,
   "sideBar": true,
   "skip_h1_title": false,
   "title_cell": "Table of Contents",
   "title_sidebar": "Contents",
   "toc_cell": false,
   "toc_position": {},
   "toc_section_display": true,
   "toc_window_display": false
  }
 },
 "nbformat": 4,
 "nbformat_minor": 4
}
